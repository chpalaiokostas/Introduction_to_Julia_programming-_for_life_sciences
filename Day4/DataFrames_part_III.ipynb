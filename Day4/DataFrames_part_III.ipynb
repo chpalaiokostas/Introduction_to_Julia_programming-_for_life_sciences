{
 "cells": [
  {
   "cell_type": "markdown",
   "metadata": {},
   "source": [
    "## Dataframes transformations "
   ]
  },
  {
   "cell_type": "code",
   "execution_count": 1,
   "metadata": {},
   "outputs": [],
   "source": [
    "using CSV, DataFrames, DataFramesMeta"
   ]
  },
  {
   "cell_type": "markdown",
   "metadata": {},
   "source": [
    "### Key functions for working with DataFrames"
   ]
  },
  {
   "cell_type": "markdown",
   "metadata": {},
   "source": [
    "* combine\n",
    "* select or select!\n",
    "* transform or transform!"
   ]
  },
  {
   "cell_type": "markdown",
   "metadata": {},
   "source": [
    "We will work with a dataset comprised of chess games from Lichess. The dataset is from Kaggle https://www.kaggle.com/datasets/datasnaek/chess. You will find it under the `Day 4` folder as `games.csv`. "
   ]
  },
  {
   "cell_type": "code",
   "execution_count": 2,
   "metadata": {},
   "outputs": [],
   "source": [
    "chess = CSV.read(\"games.csv\", DataFrame);"
   ]
  },
  {
   "cell_type": "code",
   "execution_count": 3,
   "metadata": {},
   "outputs": [
    {
     "data": {
      "text/plain": [
       "16-element Vector{String}:\n",
       " \"id\"\n",
       " \"rated\"\n",
       " \"created_at\"\n",
       " \"last_move_at\"\n",
       " \"turns\"\n",
       " \"victory_status\"\n",
       " \"winner\"\n",
       " \"increment_code\"\n",
       " \"white_id\"\n",
       " \"white_rating\"\n",
       " \"black_id\"\n",
       " \"black_rating\"\n",
       " \"moves\"\n",
       " \"opening_eco\"\n",
       " \"opening_name\"\n",
       " \"opening_ply\""
      ]
     },
     "metadata": {},
     "output_type": "display_data"
    }
   ],
   "source": [
    "names(chess)"
   ]
  },
  {
   "cell_type": "markdown",
   "metadata": {},
   "source": [
    "Will select a subset of columns."
   ]
  },
  {
   "cell_type": "code",
   "execution_count": 4,
   "metadata": {},
   "outputs": [
    {
     "data": {
      "text/html": [
       "<div><div style = \"float: left;\"><span>20058×8 DataFrame</span></div><div style = \"float: right;\"><span style = \"font-style: italic;\">20033 rows omitted</span></div><div style = \"clear: both;\"></div></div><div class = \"data-frame\" style = \"overflow-x: scroll;\"><table class = \"data-frame\" style = \"margin-bottom: 6px;\"><thead><tr class = \"header\"><th class = \"rowNumber\" style = \"font-weight: bold; text-align: right;\">Row</th><th style = \"text-align: left;\">rated</th><th style = \"text-align: left;\">white_rating</th><th style = \"text-align: left;\">black_rating</th><th style = \"text-align: left;\">opening_eco</th><th style = \"text-align: left;\">opening_name</th><th style = \"text-align: left;\">opening_ply</th><th style = \"text-align: left;\">winner</th><th style = \"text-align: left;\">victory</th></tr><tr class = \"subheader headerLastRow\"><th class = \"rowNumber\" style = \"font-weight: bold; text-align: right;\"></th><th title = \"Bool\" style = \"text-align: left;\">Bool</th><th title = \"Int64\" style = \"text-align: left;\">Int64</th><th title = \"Int64\" style = \"text-align: left;\">Int64</th><th title = \"String3\" style = \"text-align: left;\">String3</th><th title = \"String\" style = \"text-align: left;\">String</th><th title = \"Int64\" style = \"text-align: left;\">Int64</th><th title = \"String7\" style = \"text-align: left;\">String7</th><th title = \"String15\" style = \"text-align: left;\">String15</th></tr></thead><tbody><tr><td class = \"rowNumber\" style = \"font-weight: bold; text-align: right;\">1</td><td style = \"text-align: right;\">false</td><td style = \"text-align: right;\">1500</td><td style = \"text-align: right;\">1191</td><td style = \"text-align: left;\">D10</td><td style = \"text-align: left;\">Slav Defense: Exchange Variation</td><td style = \"text-align: right;\">5</td><td style = \"text-align: left;\">white</td><td style = \"text-align: left;\">outoftime</td></tr><tr><td class = \"rowNumber\" style = \"font-weight: bold; text-align: right;\">2</td><td style = \"text-align: right;\">true</td><td style = \"text-align: right;\">1322</td><td style = \"text-align: right;\">1261</td><td style = \"text-align: left;\">B00</td><td style = \"text-align: left;\">Nimzowitsch Defense: Kennedy Variation</td><td style = \"text-align: right;\">4</td><td style = \"text-align: left;\">black</td><td style = \"text-align: left;\">resign</td></tr><tr><td class = \"rowNumber\" style = \"font-weight: bold; text-align: right;\">3</td><td style = \"text-align: right;\">true</td><td style = \"text-align: right;\">1496</td><td style = \"text-align: right;\">1500</td><td style = \"text-align: left;\">C20</td><td style = \"text-align: left;\">King&apos;s Pawn Game: Leonardis Variation</td><td style = \"text-align: right;\">3</td><td style = \"text-align: left;\">white</td><td style = \"text-align: left;\">mate</td></tr><tr><td class = \"rowNumber\" style = \"font-weight: bold; text-align: right;\">4</td><td style = \"text-align: right;\">true</td><td style = \"text-align: right;\">1439</td><td style = \"text-align: right;\">1454</td><td style = \"text-align: left;\">D02</td><td style = \"text-align: left;\">Queen&apos;s Pawn Game: Zukertort Variation</td><td style = \"text-align: right;\">3</td><td style = \"text-align: left;\">white</td><td style = \"text-align: left;\">mate</td></tr><tr><td class = \"rowNumber\" style = \"font-weight: bold; text-align: right;\">5</td><td style = \"text-align: right;\">true</td><td style = \"text-align: right;\">1523</td><td style = \"text-align: right;\">1469</td><td style = \"text-align: left;\">C41</td><td style = \"text-align: left;\">Philidor Defense</td><td style = \"text-align: right;\">5</td><td style = \"text-align: left;\">white</td><td style = \"text-align: left;\">mate</td></tr><tr><td class = \"rowNumber\" style = \"font-weight: bold; text-align: right;\">6</td><td style = \"text-align: right;\">false</td><td style = \"text-align: right;\">1250</td><td style = \"text-align: right;\">1002</td><td style = \"text-align: left;\">B27</td><td style = \"text-align: left;\">Sicilian Defense: Mongoose Variation</td><td style = \"text-align: right;\">4</td><td style = \"text-align: left;\">draw</td><td style = \"text-align: left;\">draw</td></tr><tr><td class = \"rowNumber\" style = \"font-weight: bold; text-align: right;\">7</td><td style = \"text-align: right;\">true</td><td style = \"text-align: right;\">1520</td><td style = \"text-align: right;\">1423</td><td style = \"text-align: left;\">D00</td><td style = \"text-align: left;\">Blackmar-Diemer Gambit: Pietrowsky Defense</td><td style = \"text-align: right;\">10</td><td style = \"text-align: left;\">white</td><td style = \"text-align: left;\">resign</td></tr><tr><td class = \"rowNumber\" style = \"font-weight: bold; text-align: right;\">8</td><td style = \"text-align: right;\">false</td><td style = \"text-align: right;\">1413</td><td style = \"text-align: right;\">2108</td><td style = \"text-align: left;\">B00</td><td style = \"text-align: left;\">Nimzowitsch Defense: Kennedy Variation |  Linksspringer Variation</td><td style = \"text-align: right;\">5</td><td style = \"text-align: left;\">black</td><td style = \"text-align: left;\">resign</td></tr><tr><td class = \"rowNumber\" style = \"font-weight: bold; text-align: right;\">9</td><td style = \"text-align: right;\">true</td><td style = \"text-align: right;\">1439</td><td style = \"text-align: right;\">1392</td><td style = \"text-align: left;\">C50</td><td style = \"text-align: left;\">Italian Game: Schilling-Kostic Gambit</td><td style = \"text-align: right;\">6</td><td style = \"text-align: left;\">black</td><td style = \"text-align: left;\">resign</td></tr><tr><td class = \"rowNumber\" style = \"font-weight: bold; text-align: right;\">10</td><td style = \"text-align: right;\">true</td><td style = \"text-align: right;\">1381</td><td style = \"text-align: right;\">1209</td><td style = \"text-align: left;\">B01</td><td style = \"text-align: left;\">Scandinavian Defense: Mieses-Kotroc Variation</td><td style = \"text-align: right;\">4</td><td style = \"text-align: left;\">white</td><td style = \"text-align: left;\">mate</td></tr><tr><td class = \"rowNumber\" style = \"font-weight: bold; text-align: right;\">11</td><td style = \"text-align: right;\">false</td><td style = \"text-align: right;\">1381</td><td style = \"text-align: right;\">1272</td><td style = \"text-align: left;\">A00</td><td style = \"text-align: left;\">Van&apos;t Kruijs Opening</td><td style = \"text-align: right;\">1</td><td style = \"text-align: left;\">white</td><td style = \"text-align: left;\">mate</td></tr><tr><td class = \"rowNumber\" style = \"font-weight: bold; text-align: right;\">12</td><td style = \"text-align: right;\">false</td><td style = \"text-align: right;\">1381</td><td style = \"text-align: right;\">1867</td><td style = \"text-align: left;\">C02</td><td style = \"text-align: left;\">French Defense: Advance Variation |  Paulsen Attack</td><td style = \"text-align: right;\">9</td><td style = \"text-align: left;\">black</td><td style = \"text-align: left;\">resign</td></tr><tr><td class = \"rowNumber\" style = \"font-weight: bold; text-align: right;\">13</td><td style = \"text-align: right;\">false</td><td style = \"text-align: right;\">1381</td><td style = \"text-align: right;\">1936</td><td style = \"text-align: left;\">C00</td><td style = \"text-align: left;\">French Defense: Knight Variation</td><td style = \"text-align: right;\">3</td><td style = \"text-align: left;\">black</td><td style = \"text-align: left;\">resign</td></tr><tr><td style = \"text-align: right;\">&vellip;</td><td style = \"text-align: right;\">&vellip;</td><td style = \"text-align: right;\">&vellip;</td><td style = \"text-align: right;\">&vellip;</td><td style = \"text-align: right;\">&vellip;</td><td style = \"text-align: right;\">&vellip;</td><td style = \"text-align: right;\">&vellip;</td><td style = \"text-align: right;\">&vellip;</td><td style = \"text-align: right;\">&vellip;</td></tr><tr><td class = \"rowNumber\" style = \"font-weight: bold; text-align: right;\">20047</td><td style = \"text-align: right;\">true</td><td style = \"text-align: right;\">1250</td><td style = \"text-align: right;\">1235</td><td style = \"text-align: left;\">B07</td><td style = \"text-align: left;\">Pirc Defense</td><td style = \"text-align: right;\">4</td><td style = \"text-align: left;\">black</td><td style = \"text-align: left;\">mate</td></tr><tr><td class = \"rowNumber\" style = \"font-weight: bold; text-align: right;\">20048</td><td style = \"text-align: right;\">true</td><td style = \"text-align: right;\">1222</td><td style = \"text-align: right;\">1262</td><td style = \"text-align: left;\">A10</td><td style = \"text-align: left;\">English Opening: Anglo-Scandinavian Defense</td><td style = \"text-align: right;\">2</td><td style = \"text-align: left;\">white</td><td style = \"text-align: left;\">mate</td></tr><tr><td class = \"rowNumber\" style = \"font-weight: bold; text-align: right;\">20049</td><td style = \"text-align: right;\">true</td><td style = \"text-align: right;\">1252</td><td style = \"text-align: right;\">1233</td><td style = \"text-align: left;\">C01</td><td style = \"text-align: left;\">French Defense: Exchange Variation</td><td style = \"text-align: right;\">5</td><td style = \"text-align: left;\">white</td><td style = \"text-align: left;\">resign</td></tr><tr><td class = \"rowNumber\" style = \"font-weight: bold; text-align: right;\">20050</td><td style = \"text-align: right;\">true</td><td style = \"text-align: right;\">1328</td><td style = \"text-align: right;\">1252</td><td style = \"text-align: left;\">C00</td><td style = \"text-align: left;\">French Defense: Two Knights Variation</td><td style = \"text-align: right;\">5</td><td style = \"text-align: left;\">white</td><td style = \"text-align: left;\">mate</td></tr><tr><td class = \"rowNumber\" style = \"font-weight: bold; text-align: right;\">20051</td><td style = \"text-align: right;\">true</td><td style = \"text-align: right;\">1243</td><td style = \"text-align: right;\">1142</td><td style = \"text-align: left;\">A20</td><td style = \"text-align: left;\">English Opening: King&apos;s English Variation</td><td style = \"text-align: right;\">2</td><td style = \"text-align: left;\">white</td><td style = \"text-align: left;\">outoftime</td></tr><tr><td class = \"rowNumber\" style = \"font-weight: bold; text-align: right;\">20052</td><td style = \"text-align: right;\">true</td><td style = \"text-align: right;\">1237</td><td style = \"text-align: right;\">1231</td><td style = \"text-align: left;\">C00</td><td style = \"text-align: left;\">French Defense: Knight Variation</td><td style = \"text-align: right;\">3</td><td style = \"text-align: left;\">black</td><td style = \"text-align: left;\">mate</td></tr><tr><td class = \"rowNumber\" style = \"font-weight: bold; text-align: right;\">20053</td><td style = \"text-align: right;\">true</td><td style = \"text-align: right;\">1219</td><td style = \"text-align: right;\">1250</td><td style = \"text-align: left;\">A40</td><td style = \"text-align: left;\">English Defense</td><td style = \"text-align: right;\">4</td><td style = \"text-align: left;\">white</td><td style = \"text-align: left;\">resign</td></tr><tr><td class = \"rowNumber\" style = \"font-weight: bold; text-align: right;\">20054</td><td style = \"text-align: right;\">true</td><td style = \"text-align: right;\">1691</td><td style = \"text-align: right;\">1220</td><td style = \"text-align: left;\">A80</td><td style = \"text-align: left;\">Dutch Defense</td><td style = \"text-align: right;\">2</td><td style = \"text-align: left;\">white</td><td style = \"text-align: left;\">resign</td></tr><tr><td class = \"rowNumber\" style = \"font-weight: bold; text-align: right;\">20055</td><td style = \"text-align: right;\">true</td><td style = \"text-align: right;\">1233</td><td style = \"text-align: right;\">1196</td><td style = \"text-align: left;\">A41</td><td style = \"text-align: left;\">Queen&apos;s Pawn</td><td style = \"text-align: right;\">2</td><td style = \"text-align: left;\">black</td><td style = \"text-align: left;\">mate</td></tr><tr><td class = \"rowNumber\" style = \"font-weight: bold; text-align: right;\">20056</td><td style = \"text-align: right;\">true</td><td style = \"text-align: right;\">1219</td><td style = \"text-align: right;\">1286</td><td style = \"text-align: left;\">D00</td><td style = \"text-align: left;\">Queen&apos;s Pawn Game: Mason Attack</td><td style = \"text-align: right;\">3</td><td style = \"text-align: left;\">white</td><td style = \"text-align: left;\">mate</td></tr><tr><td class = \"rowNumber\" style = \"font-weight: bold; text-align: right;\">20057</td><td style = \"text-align: right;\">true</td><td style = \"text-align: right;\">1360</td><td style = \"text-align: right;\">1227</td><td style = \"text-align: left;\">B07</td><td style = \"text-align: left;\">Pirc Defense</td><td style = \"text-align: right;\">4</td><td style = \"text-align: left;\">white</td><td style = \"text-align: left;\">resign</td></tr><tr><td class = \"rowNumber\" style = \"font-weight: bold; text-align: right;\">20058</td><td style = \"text-align: right;\">true</td><td style = \"text-align: right;\">1235</td><td style = \"text-align: right;\">1339</td><td style = \"text-align: left;\">D00</td><td style = \"text-align: left;\">Queen&apos;s Pawn Game: Mason Attack</td><td style = \"text-align: right;\">3</td><td style = \"text-align: left;\">black</td><td style = \"text-align: left;\">mate</td></tr></tbody></table></div>"
      ],
      "text/latex": [
       "\\begin{tabular}{r|cccccc}\n",
       "\t& rated & white\\_rating & black\\_rating & opening\\_eco & opening\\_name & \\\\\n",
       "\t\\hline\n",
       "\t& Bool & Int64 & Int64 & String3 & String & \\\\\n",
       "\t\\hline\n",
       "\t1 & 0 & 1500 & 1191 & D10 & Slav Defense: Exchange Variation & $\\dots$ \\\\\n",
       "\t2 & 1 & 1322 & 1261 & B00 & Nimzowitsch Defense: Kennedy Variation & $\\dots$ \\\\\n",
       "\t3 & 1 & 1496 & 1500 & C20 & King's Pawn Game: Leonardis Variation & $\\dots$ \\\\\n",
       "\t4 & 1 & 1439 & 1454 & D02 & Queen's Pawn Game: Zukertort Variation & $\\dots$ \\\\\n",
       "\t5 & 1 & 1523 & 1469 & C41 & Philidor Defense & $\\dots$ \\\\\n",
       "\t6 & 0 & 1250 & 1002 & B27 & Sicilian Defense: Mongoose Variation & $\\dots$ \\\\\n",
       "\t7 & 1 & 1520 & 1423 & D00 & Blackmar-Diemer Gambit: Pietrowsky Defense & $\\dots$ \\\\\n",
       "\t8 & 0 & 1413 & 2108 & B00 & Nimzowitsch Defense: Kennedy Variation |  Linksspringer Variation & $\\dots$ \\\\\n",
       "\t9 & 1 & 1439 & 1392 & C50 & Italian Game: Schilling-Kostic Gambit & $\\dots$ \\\\\n",
       "\t10 & 1 & 1381 & 1209 & B01 & Scandinavian Defense: Mieses-Kotroc Variation & $\\dots$ \\\\\n",
       "\t11 & 0 & 1381 & 1272 & A00 & Van't Kruijs Opening & $\\dots$ \\\\\n",
       "\t12 & 0 & 1381 & 1867 & C02 & French Defense: Advance Variation |  Paulsen Attack & $\\dots$ \\\\\n",
       "\t13 & 0 & 1381 & 1936 & C00 & French Defense: Knight Variation & $\\dots$ \\\\\n",
       "\t14 & 0 & 1381 & 1607 & C00 & French Defense \\#2 & $\\dots$ \\\\\n",
       "\t15 & 0 & 1094 & 1141 & C50 & Four Knights Game: Italian Variation & $\\dots$ \\\\\n",
       "\t16 & 0 & 1141 & 1094 & C57 & Italian Game: Two Knights Defense |  Knight Attack & $\\dots$ \\\\\n",
       "\t17 & 0 & 1094 & 1141 & C50 & Four Knights Game: Italian Variation & $\\dots$ \\\\\n",
       "\t18 & 0 & 1141 & 1094 & C50 & Four Knights Game: Italian Variation & $\\dots$ \\\\\n",
       "\t19 & 0 & 1094 & 1300 & C41 & Philidor Defense \\#3 & $\\dots$ \\\\\n",
       "\t20 & 0 & 1500 & 1094 & D00 & Queen's Pawn Game & $\\dots$ \\\\\n",
       "\t21 & 0 & 1094 & 1676 & C55 & Italian Game: Anti-Fried Liver Defense & $\\dots$ \\\\\n",
       "\t22 & 0 & 1094 & 1068 & A40 & Horwitz Defense & $\\dots$ \\\\\n",
       "\t23 & 0 & 1500 & 1094 & B20 & Sicilian Defense: Bowdler Attack & $\\dots$ \\\\\n",
       "\t24 & 1 & 1307 & 1106 & A25 & English Opening: King's English Variation |  Reversed Closed Sicilian & $\\dots$ \\\\\n",
       "\t$\\dots$ & $\\dots$ & $\\dots$ & $\\dots$ & $\\dots$ & $\\dots$ &  \\\\\n",
       "\\end{tabular}\n"
      ],
      "text/plain": [
       "\u001b[1m20058×8 DataFrame\u001b[0m\n",
       "\u001b[1m   Row \u001b[0m│\u001b[1m rated \u001b[0m\u001b[1m white_rating \u001b[0m\u001b[1m black_rating \u001b[0m\u001b[1m opening_eco \u001b[0m\u001b[1m opening_name         \u001b[0m ⋯\n",
       "       │\u001b[90m Bool  \u001b[0m\u001b[90m Int64        \u001b[0m\u001b[90m Int64        \u001b[0m\u001b[90m String3     \u001b[0m\u001b[90m String               \u001b[0m ⋯\n",
       "───────┼────────────────────────────────────────────────────────────────────────\n",
       "     1 │ false          1500          1191  D10          Slav Defense: Exchang ⋯\n",
       "     2 │  true          1322          1261  B00          Nimzowitsch Defense:\n",
       "     3 │  true          1496          1500  C20          King's Pawn Game: Leo\n",
       "     4 │  true          1439          1454  D02          Queen's Pawn Game: Zu\n",
       "     5 │  true          1523          1469  C41          Philidor Defense      ⋯\n",
       "     6 │ false          1250          1002  B27          Sicilian Defense: Mon\n",
       "     7 │  true          1520          1423  D00          Blackmar-Diemer Gambi\n",
       "     8 │ false          1413          2108  B00          Nimzowitsch Defense:\n",
       "   ⋮   │   ⋮         ⋮             ⋮             ⋮                       ⋮     ⋱\n",
       " 20052 │  true          1237          1231  C00          French Defense: Knigh ⋯\n",
       " 20053 │  true          1219          1250  A40          English Defense\n",
       " 20054 │  true          1691          1220  A80          Dutch Defense\n",
       " 20055 │  true          1233          1196  A41          Queen's Pawn\n",
       " 20056 │  true          1219          1286  D00          Queen's Pawn Game: Ma ⋯\n",
       " 20057 │  true          1360          1227  B07          Pirc Defense\n",
       " 20058 │  true          1235          1339  D00          Queen's Pawn Game: Ma\n",
       "\u001b[36m                                                4 columns and 20043 rows omitted\u001b[0m"
      ]
     },
     "metadata": {},
     "output_type": "display_data"
    }
   ],
   "source": [
    "select!(chess, r\"rat\\w+\", r\"opening\",\"winner\",\n",
    "            \"victory_status\" => \"victory\")"
   ]
  },
  {
   "cell_type": "markdown",
   "metadata": {},
   "source": [
    "`transform`similar to `select`retains all rows. In contrast to `select`all columns are retained as well."
   ]
  },
  {
   "cell_type": "code",
   "execution_count": 5,
   "metadata": {},
   "outputs": [
    {
     "data": {
      "text/html": [
       "<div><div style = \"float: left;\"><span>20058×9 DataFrame</span></div><div style = \"float: right;\"><span style = \"font-style: italic;\">20033 rows omitted</span></div><div style = \"clear: both;\"></div></div><div class = \"data-frame\" style = \"overflow-x: scroll;\"><table class = \"data-frame\" style = \"margin-bottom: 6px;\"><thead><tr class = \"header\"><th class = \"rowNumber\" style = \"font-weight: bold; text-align: right;\">Row</th><th style = \"text-align: left;\">rated</th><th style = \"text-align: left;\">white_rating</th><th style = \"text-align: left;\">black_rating</th><th style = \"text-align: left;\">opening_eco</th><th style = \"text-align: left;\">opening_name</th><th style = \"text-align: left;\">opening_ply</th><th style = \"text-align: left;\">winner</th><th style = \"text-align: left;\">victory</th><th style = \"text-align: left;\">white_sum_rating</th></tr><tr class = \"subheader headerLastRow\"><th class = \"rowNumber\" style = \"font-weight: bold; text-align: right;\"></th><th title = \"Bool\" style = \"text-align: left;\">Bool</th><th title = \"Int64\" style = \"text-align: left;\">Int64</th><th title = \"Int64\" style = \"text-align: left;\">Int64</th><th title = \"String3\" style = \"text-align: left;\">String3</th><th title = \"String\" style = \"text-align: left;\">String</th><th title = \"Int64\" style = \"text-align: left;\">Int64</th><th title = \"String7\" style = \"text-align: left;\">String7</th><th title = \"String15\" style = \"text-align: left;\">String15</th><th title = \"Int64\" style = \"text-align: left;\">Int64</th></tr></thead><tbody><tr><td class = \"rowNumber\" style = \"font-weight: bold; text-align: right;\">1</td><td style = \"text-align: right;\">false</td><td style = \"text-align: right;\">1500</td><td style = \"text-align: right;\">1191</td><td style = \"text-align: left;\">D10</td><td style = \"text-align: left;\">Slav Defense: Exchange Variation</td><td style = \"text-align: right;\">5</td><td style = \"text-align: left;\">white</td><td style = \"text-align: left;\">outoftime</td><td style = \"text-align: right;\">32025242</td></tr><tr><td class = \"rowNumber\" style = \"font-weight: bold; text-align: right;\">2</td><td style = \"text-align: right;\">true</td><td style = \"text-align: right;\">1322</td><td style = \"text-align: right;\">1261</td><td style = \"text-align: left;\">B00</td><td style = \"text-align: left;\">Nimzowitsch Defense: Kennedy Variation</td><td style = \"text-align: right;\">4</td><td style = \"text-align: left;\">black</td><td style = \"text-align: left;\">resign</td><td style = \"text-align: right;\">32025242</td></tr><tr><td class = \"rowNumber\" style = \"font-weight: bold; text-align: right;\">3</td><td style = \"text-align: right;\">true</td><td style = \"text-align: right;\">1496</td><td style = \"text-align: right;\">1500</td><td style = \"text-align: left;\">C20</td><td style = \"text-align: left;\">King&apos;s Pawn Game: Leonardis Variation</td><td style = \"text-align: right;\">3</td><td style = \"text-align: left;\">white</td><td style = \"text-align: left;\">mate</td><td style = \"text-align: right;\">32025242</td></tr><tr><td class = \"rowNumber\" style = \"font-weight: bold; text-align: right;\">4</td><td style = \"text-align: right;\">true</td><td style = \"text-align: right;\">1439</td><td style = \"text-align: right;\">1454</td><td style = \"text-align: left;\">D02</td><td style = \"text-align: left;\">Queen&apos;s Pawn Game: Zukertort Variation</td><td style = \"text-align: right;\">3</td><td style = \"text-align: left;\">white</td><td style = \"text-align: left;\">mate</td><td style = \"text-align: right;\">32025242</td></tr><tr><td class = \"rowNumber\" style = \"font-weight: bold; text-align: right;\">5</td><td style = \"text-align: right;\">true</td><td style = \"text-align: right;\">1523</td><td style = \"text-align: right;\">1469</td><td style = \"text-align: left;\">C41</td><td style = \"text-align: left;\">Philidor Defense</td><td style = \"text-align: right;\">5</td><td style = \"text-align: left;\">white</td><td style = \"text-align: left;\">mate</td><td style = \"text-align: right;\">32025242</td></tr><tr><td class = \"rowNumber\" style = \"font-weight: bold; text-align: right;\">6</td><td style = \"text-align: right;\">false</td><td style = \"text-align: right;\">1250</td><td style = \"text-align: right;\">1002</td><td style = \"text-align: left;\">B27</td><td style = \"text-align: left;\">Sicilian Defense: Mongoose Variation</td><td style = \"text-align: right;\">4</td><td style = \"text-align: left;\">draw</td><td style = \"text-align: left;\">draw</td><td style = \"text-align: right;\">32025242</td></tr><tr><td class = \"rowNumber\" style = \"font-weight: bold; text-align: right;\">7</td><td style = \"text-align: right;\">true</td><td style = \"text-align: right;\">1520</td><td style = \"text-align: right;\">1423</td><td style = \"text-align: left;\">D00</td><td style = \"text-align: left;\">Blackmar-Diemer Gambit: Pietrowsky Defense</td><td style = \"text-align: right;\">10</td><td style = \"text-align: left;\">white</td><td style = \"text-align: left;\">resign</td><td style = \"text-align: right;\">32025242</td></tr><tr><td class = \"rowNumber\" style = \"font-weight: bold; text-align: right;\">8</td><td style = \"text-align: right;\">false</td><td style = \"text-align: right;\">1413</td><td style = \"text-align: right;\">2108</td><td style = \"text-align: left;\">B00</td><td style = \"text-align: left;\">Nimzowitsch Defense: Kennedy Variation |  Linksspringer Variation</td><td style = \"text-align: right;\">5</td><td style = \"text-align: left;\">black</td><td style = \"text-align: left;\">resign</td><td style = \"text-align: right;\">32025242</td></tr><tr><td class = \"rowNumber\" style = \"font-weight: bold; text-align: right;\">9</td><td style = \"text-align: right;\">true</td><td style = \"text-align: right;\">1439</td><td style = \"text-align: right;\">1392</td><td style = \"text-align: left;\">C50</td><td style = \"text-align: left;\">Italian Game: Schilling-Kostic Gambit</td><td style = \"text-align: right;\">6</td><td style = \"text-align: left;\">black</td><td style = \"text-align: left;\">resign</td><td style = \"text-align: right;\">32025242</td></tr><tr><td class = \"rowNumber\" style = \"font-weight: bold; text-align: right;\">10</td><td style = \"text-align: right;\">true</td><td style = \"text-align: right;\">1381</td><td style = \"text-align: right;\">1209</td><td style = \"text-align: left;\">B01</td><td style = \"text-align: left;\">Scandinavian Defense: Mieses-Kotroc Variation</td><td style = \"text-align: right;\">4</td><td style = \"text-align: left;\">white</td><td style = \"text-align: left;\">mate</td><td style = \"text-align: right;\">32025242</td></tr><tr><td class = \"rowNumber\" style = \"font-weight: bold; text-align: right;\">11</td><td style = \"text-align: right;\">false</td><td style = \"text-align: right;\">1381</td><td style = \"text-align: right;\">1272</td><td style = \"text-align: left;\">A00</td><td style = \"text-align: left;\">Van&apos;t Kruijs Opening</td><td style = \"text-align: right;\">1</td><td style = \"text-align: left;\">white</td><td style = \"text-align: left;\">mate</td><td style = \"text-align: right;\">32025242</td></tr><tr><td class = \"rowNumber\" style = \"font-weight: bold; text-align: right;\">12</td><td style = \"text-align: right;\">false</td><td style = \"text-align: right;\">1381</td><td style = \"text-align: right;\">1867</td><td style = \"text-align: left;\">C02</td><td style = \"text-align: left;\">French Defense: Advance Variation |  Paulsen Attack</td><td style = \"text-align: right;\">9</td><td style = \"text-align: left;\">black</td><td style = \"text-align: left;\">resign</td><td style = \"text-align: right;\">32025242</td></tr><tr><td class = \"rowNumber\" style = \"font-weight: bold; text-align: right;\">13</td><td style = \"text-align: right;\">false</td><td style = \"text-align: right;\">1381</td><td style = \"text-align: right;\">1936</td><td style = \"text-align: left;\">C00</td><td style = \"text-align: left;\">French Defense: Knight Variation</td><td style = \"text-align: right;\">3</td><td style = \"text-align: left;\">black</td><td style = \"text-align: left;\">resign</td><td style = \"text-align: right;\">32025242</td></tr><tr><td style = \"text-align: right;\">&vellip;</td><td style = \"text-align: right;\">&vellip;</td><td style = \"text-align: right;\">&vellip;</td><td style = \"text-align: right;\">&vellip;</td><td style = \"text-align: right;\">&vellip;</td><td style = \"text-align: right;\">&vellip;</td><td style = \"text-align: right;\">&vellip;</td><td style = \"text-align: right;\">&vellip;</td><td style = \"text-align: right;\">&vellip;</td><td style = \"text-align: right;\">&vellip;</td></tr><tr><td class = \"rowNumber\" style = \"font-weight: bold; text-align: right;\">20047</td><td style = \"text-align: right;\">true</td><td style = \"text-align: right;\">1250</td><td style = \"text-align: right;\">1235</td><td style = \"text-align: left;\">B07</td><td style = \"text-align: left;\">Pirc Defense</td><td style = \"text-align: right;\">4</td><td style = \"text-align: left;\">black</td><td style = \"text-align: left;\">mate</td><td style = \"text-align: right;\">32025242</td></tr><tr><td class = \"rowNumber\" style = \"font-weight: bold; text-align: right;\">20048</td><td style = \"text-align: right;\">true</td><td style = \"text-align: right;\">1222</td><td style = \"text-align: right;\">1262</td><td style = \"text-align: left;\">A10</td><td style = \"text-align: left;\">English Opening: Anglo-Scandinavian Defense</td><td style = \"text-align: right;\">2</td><td style = \"text-align: left;\">white</td><td style = \"text-align: left;\">mate</td><td style = \"text-align: right;\">32025242</td></tr><tr><td class = \"rowNumber\" style = \"font-weight: bold; text-align: right;\">20049</td><td style = \"text-align: right;\">true</td><td style = \"text-align: right;\">1252</td><td style = \"text-align: right;\">1233</td><td style = \"text-align: left;\">C01</td><td style = \"text-align: left;\">French Defense: Exchange Variation</td><td style = \"text-align: right;\">5</td><td style = \"text-align: left;\">white</td><td style = \"text-align: left;\">resign</td><td style = \"text-align: right;\">32025242</td></tr><tr><td class = \"rowNumber\" style = \"font-weight: bold; text-align: right;\">20050</td><td style = \"text-align: right;\">true</td><td style = \"text-align: right;\">1328</td><td style = \"text-align: right;\">1252</td><td style = \"text-align: left;\">C00</td><td style = \"text-align: left;\">French Defense: Two Knights Variation</td><td style = \"text-align: right;\">5</td><td style = \"text-align: left;\">white</td><td style = \"text-align: left;\">mate</td><td style = \"text-align: right;\">32025242</td></tr><tr><td class = \"rowNumber\" style = \"font-weight: bold; text-align: right;\">20051</td><td style = \"text-align: right;\">true</td><td style = \"text-align: right;\">1243</td><td style = \"text-align: right;\">1142</td><td style = \"text-align: left;\">A20</td><td style = \"text-align: left;\">English Opening: King&apos;s English Variation</td><td style = \"text-align: right;\">2</td><td style = \"text-align: left;\">white</td><td style = \"text-align: left;\">outoftime</td><td style = \"text-align: right;\">32025242</td></tr><tr><td class = \"rowNumber\" style = \"font-weight: bold; text-align: right;\">20052</td><td style = \"text-align: right;\">true</td><td style = \"text-align: right;\">1237</td><td style = \"text-align: right;\">1231</td><td style = \"text-align: left;\">C00</td><td style = \"text-align: left;\">French Defense: Knight Variation</td><td style = \"text-align: right;\">3</td><td style = \"text-align: left;\">black</td><td style = \"text-align: left;\">mate</td><td style = \"text-align: right;\">32025242</td></tr><tr><td class = \"rowNumber\" style = \"font-weight: bold; text-align: right;\">20053</td><td style = \"text-align: right;\">true</td><td style = \"text-align: right;\">1219</td><td style = \"text-align: right;\">1250</td><td style = \"text-align: left;\">A40</td><td style = \"text-align: left;\">English Defense</td><td style = \"text-align: right;\">4</td><td style = \"text-align: left;\">white</td><td style = \"text-align: left;\">resign</td><td style = \"text-align: right;\">32025242</td></tr><tr><td class = \"rowNumber\" style = \"font-weight: bold; text-align: right;\">20054</td><td style = \"text-align: right;\">true</td><td style = \"text-align: right;\">1691</td><td style = \"text-align: right;\">1220</td><td style = \"text-align: left;\">A80</td><td style = \"text-align: left;\">Dutch Defense</td><td style = \"text-align: right;\">2</td><td style = \"text-align: left;\">white</td><td style = \"text-align: left;\">resign</td><td style = \"text-align: right;\">32025242</td></tr><tr><td class = \"rowNumber\" style = \"font-weight: bold; text-align: right;\">20055</td><td style = \"text-align: right;\">true</td><td style = \"text-align: right;\">1233</td><td style = \"text-align: right;\">1196</td><td style = \"text-align: left;\">A41</td><td style = \"text-align: left;\">Queen&apos;s Pawn</td><td style = \"text-align: right;\">2</td><td style = \"text-align: left;\">black</td><td style = \"text-align: left;\">mate</td><td style = \"text-align: right;\">32025242</td></tr><tr><td class = \"rowNumber\" style = \"font-weight: bold; text-align: right;\">20056</td><td style = \"text-align: right;\">true</td><td style = \"text-align: right;\">1219</td><td style = \"text-align: right;\">1286</td><td style = \"text-align: left;\">D00</td><td style = \"text-align: left;\">Queen&apos;s Pawn Game: Mason Attack</td><td style = \"text-align: right;\">3</td><td style = \"text-align: left;\">white</td><td style = \"text-align: left;\">mate</td><td style = \"text-align: right;\">32025242</td></tr><tr><td class = \"rowNumber\" style = \"font-weight: bold; text-align: right;\">20057</td><td style = \"text-align: right;\">true</td><td style = \"text-align: right;\">1360</td><td style = \"text-align: right;\">1227</td><td style = \"text-align: left;\">B07</td><td style = \"text-align: left;\">Pirc Defense</td><td style = \"text-align: right;\">4</td><td style = \"text-align: left;\">white</td><td style = \"text-align: left;\">resign</td><td style = \"text-align: right;\">32025242</td></tr><tr><td class = \"rowNumber\" style = \"font-weight: bold; text-align: right;\">20058</td><td style = \"text-align: right;\">true</td><td style = \"text-align: right;\">1235</td><td style = \"text-align: right;\">1339</td><td style = \"text-align: left;\">D00</td><td style = \"text-align: left;\">Queen&apos;s Pawn Game: Mason Attack</td><td style = \"text-align: right;\">3</td><td style = \"text-align: left;\">black</td><td style = \"text-align: left;\">mate</td><td style = \"text-align: right;\">32025242</td></tr></tbody></table></div>"
      ],
      "text/latex": [
       "\\begin{tabular}{r|cccccc}\n",
       "\t& rated & white\\_rating & black\\_rating & opening\\_eco & opening\\_name & \\\\\n",
       "\t\\hline\n",
       "\t& Bool & Int64 & Int64 & String3 & String & \\\\\n",
       "\t\\hline\n",
       "\t1 & 0 & 1500 & 1191 & D10 & Slav Defense: Exchange Variation & $\\dots$ \\\\\n",
       "\t2 & 1 & 1322 & 1261 & B00 & Nimzowitsch Defense: Kennedy Variation & $\\dots$ \\\\\n",
       "\t3 & 1 & 1496 & 1500 & C20 & King's Pawn Game: Leonardis Variation & $\\dots$ \\\\\n",
       "\t4 & 1 & 1439 & 1454 & D02 & Queen's Pawn Game: Zukertort Variation & $\\dots$ \\\\\n",
       "\t5 & 1 & 1523 & 1469 & C41 & Philidor Defense & $\\dots$ \\\\\n",
       "\t6 & 0 & 1250 & 1002 & B27 & Sicilian Defense: Mongoose Variation & $\\dots$ \\\\\n",
       "\t7 & 1 & 1520 & 1423 & D00 & Blackmar-Diemer Gambit: Pietrowsky Defense & $\\dots$ \\\\\n",
       "\t8 & 0 & 1413 & 2108 & B00 & Nimzowitsch Defense: Kennedy Variation |  Linksspringer Variation & $\\dots$ \\\\\n",
       "\t9 & 1 & 1439 & 1392 & C50 & Italian Game: Schilling-Kostic Gambit & $\\dots$ \\\\\n",
       "\t10 & 1 & 1381 & 1209 & B01 & Scandinavian Defense: Mieses-Kotroc Variation & $\\dots$ \\\\\n",
       "\t11 & 0 & 1381 & 1272 & A00 & Van't Kruijs Opening & $\\dots$ \\\\\n",
       "\t12 & 0 & 1381 & 1867 & C02 & French Defense: Advance Variation |  Paulsen Attack & $\\dots$ \\\\\n",
       "\t13 & 0 & 1381 & 1936 & C00 & French Defense: Knight Variation & $\\dots$ \\\\\n",
       "\t14 & 0 & 1381 & 1607 & C00 & French Defense \\#2 & $\\dots$ \\\\\n",
       "\t15 & 0 & 1094 & 1141 & C50 & Four Knights Game: Italian Variation & $\\dots$ \\\\\n",
       "\t16 & 0 & 1141 & 1094 & C57 & Italian Game: Two Knights Defense |  Knight Attack & $\\dots$ \\\\\n",
       "\t17 & 0 & 1094 & 1141 & C50 & Four Knights Game: Italian Variation & $\\dots$ \\\\\n",
       "\t18 & 0 & 1141 & 1094 & C50 & Four Knights Game: Italian Variation & $\\dots$ \\\\\n",
       "\t19 & 0 & 1094 & 1300 & C41 & Philidor Defense \\#3 & $\\dots$ \\\\\n",
       "\t20 & 0 & 1500 & 1094 & D00 & Queen's Pawn Game & $\\dots$ \\\\\n",
       "\t21 & 0 & 1094 & 1676 & C55 & Italian Game: Anti-Fried Liver Defense & $\\dots$ \\\\\n",
       "\t22 & 0 & 1094 & 1068 & A40 & Horwitz Defense & $\\dots$ \\\\\n",
       "\t23 & 0 & 1500 & 1094 & B20 & Sicilian Defense: Bowdler Attack & $\\dots$ \\\\\n",
       "\t24 & 1 & 1307 & 1106 & A25 & English Opening: King's English Variation |  Reversed Closed Sicilian & $\\dots$ \\\\\n",
       "\t$\\dots$ & $\\dots$ & $\\dots$ & $\\dots$ & $\\dots$ & $\\dots$ &  \\\\\n",
       "\\end{tabular}\n"
      ],
      "text/plain": [
       "\u001b[1m20058×9 DataFrame\u001b[0m\n",
       "\u001b[1m   Row \u001b[0m│\u001b[1m rated \u001b[0m\u001b[1m white_rating \u001b[0m\u001b[1m black_rating \u001b[0m\u001b[1m opening_eco \u001b[0m\u001b[1m opening_name         \u001b[0m ⋯\n",
       "       │\u001b[90m Bool  \u001b[0m\u001b[90m Int64        \u001b[0m\u001b[90m Int64        \u001b[0m\u001b[90m String3     \u001b[0m\u001b[90m String               \u001b[0m ⋯\n",
       "───────┼────────────────────────────────────────────────────────────────────────\n",
       "     1 │ false          1500          1191  D10          Slav Defense: Exchang ⋯\n",
       "     2 │  true          1322          1261  B00          Nimzowitsch Defense:\n",
       "     3 │  true          1496          1500  C20          King's Pawn Game: Leo\n",
       "     4 │  true          1439          1454  D02          Queen's Pawn Game: Zu\n",
       "     5 │  true          1523          1469  C41          Philidor Defense      ⋯\n",
       "     6 │ false          1250          1002  B27          Sicilian Defense: Mon\n",
       "     7 │  true          1520          1423  D00          Blackmar-Diemer Gambi\n",
       "     8 │ false          1413          2108  B00          Nimzowitsch Defense:\n",
       "   ⋮   │   ⋮         ⋮             ⋮             ⋮                       ⋮     ⋱\n",
       " 20052 │  true          1237          1231  C00          French Defense: Knigh ⋯\n",
       " 20053 │  true          1219          1250  A40          English Defense\n",
       " 20054 │  true          1691          1220  A80          Dutch Defense\n",
       " 20055 │  true          1233          1196  A41          Queen's Pawn\n",
       " 20056 │  true          1219          1286  D00          Queen's Pawn Game: Ma ⋯\n",
       " 20057 │  true          1360          1227  B07          Pirc Defense\n",
       " 20058 │  true          1235          1339  D00          Queen's Pawn Game: Ma\n",
       "\u001b[36m                                                5 columns and 20043 rows omitted\u001b[0m"
      ]
     },
     "metadata": {},
     "output_type": "display_data"
    }
   ],
   "source": [
    "transform(chess, :white_rating => sum => :white_sum_rating)"
   ]
  },
  {
   "cell_type": "markdown",
   "metadata": {},
   "source": [
    "On the other hand with `combine` rows are combined in a singe value."
   ]
  },
  {
   "cell_type": "code",
   "execution_count": 6,
   "metadata": {},
   "outputs": [
    {
     "data": {
      "text/html": [
       "<div><div style = \"float: left;\"><span>1×1 DataFrame</span></div><div style = \"clear: both;\"></div></div><div class = \"data-frame\" style = \"overflow-x: scroll;\"><table class = \"data-frame\" style = \"margin-bottom: 6px;\"><thead><tr class = \"header\"><th class = \"rowNumber\" style = \"font-weight: bold; text-align: right;\">Row</th><th style = \"text-align: left;\">black_sum_rating</th></tr><tr class = \"subheader headerLastRow\"><th class = \"rowNumber\" style = \"font-weight: bold; text-align: right;\"></th><th title = \"Int64\" style = \"text-align: left;\">Int64</th></tr></thead><tbody><tr><td class = \"rowNumber\" style = \"font-weight: bold; text-align: right;\">1</td><td style = \"text-align: right;\">31868792</td></tr></tbody></table></div>"
      ],
      "text/latex": [
       "\\begin{tabular}{r|c}\n",
       "\t& black\\_sum\\_rating\\\\\n",
       "\t\\hline\n",
       "\t& Int64\\\\\n",
       "\t\\hline\n",
       "\t1 & 31868792 \\\\\n",
       "\\end{tabular}\n"
      ],
      "text/plain": [
       "\u001b[1m1×1 DataFrame\u001b[0m\n",
       "\u001b[1m Row \u001b[0m│\u001b[1m black_sum_rating \u001b[0m\n",
       "     │\u001b[90m Int64            \u001b[0m\n",
       "─────┼──────────────────\n",
       "   1 │         31868792"
      ]
     },
     "metadata": {},
     "output_type": "display_data"
    }
   ],
   "source": [
    "combine(chess, :black_rating => sum => :black_sum_rating)"
   ]
  },
  {
   "cell_type": "markdown",
   "metadata": {},
   "source": [
    "Now let's see the above functions applied to GroupedDataFrames."
   ]
  },
  {
   "cell_type": "code",
   "execution_count": 7,
   "metadata": {},
   "outputs": [],
   "source": [
    "gdf_chess = groupby(chess, :rated);"
   ]
  },
  {
   "cell_type": "code",
   "execution_count": 8,
   "metadata": {},
   "outputs": [
    {
     "data": {
      "text/html": [
       "<div><div style = \"float: left;\"><span>20058×2 DataFrame</span></div><div style = \"float: right;\"><span style = \"font-style: italic;\">20033 rows omitted</span></div><div style = \"clear: both;\"></div></div><div class = \"data-frame\" style = \"overflow-x: scroll;\"><table class = \"data-frame\" style = \"margin-bottom: 6px;\"><thead><tr class = \"header\"><th class = \"rowNumber\" style = \"font-weight: bold; text-align: right;\">Row</th><th style = \"text-align: left;\">rated</th><th style = \"text-align: left;\">victory</th></tr><tr class = \"subheader headerLastRow\"><th class = \"rowNumber\" style = \"font-weight: bold; text-align: right;\"></th><th title = \"Bool\" style = \"text-align: left;\">Bool</th><th title = \"String15\" style = \"text-align: left;\">String15</th></tr></thead><tbody><tr><td class = \"rowNumber\" style = \"font-weight: bold; text-align: right;\">1</td><td style = \"text-align: right;\">false</td><td style = \"text-align: left;\">outoftime</td></tr><tr><td class = \"rowNumber\" style = \"font-weight: bold; text-align: right;\">2</td><td style = \"text-align: right;\">true</td><td style = \"text-align: left;\">resign</td></tr><tr><td class = \"rowNumber\" style = \"font-weight: bold; text-align: right;\">3</td><td style = \"text-align: right;\">true</td><td style = \"text-align: left;\">mate</td></tr><tr><td class = \"rowNumber\" style = \"font-weight: bold; text-align: right;\">4</td><td style = \"text-align: right;\">true</td><td style = \"text-align: left;\">mate</td></tr><tr><td class = \"rowNumber\" style = \"font-weight: bold; text-align: right;\">5</td><td style = \"text-align: right;\">true</td><td style = \"text-align: left;\">mate</td></tr><tr><td class = \"rowNumber\" style = \"font-weight: bold; text-align: right;\">6</td><td style = \"text-align: right;\">false</td><td style = \"text-align: left;\">draw</td></tr><tr><td class = \"rowNumber\" style = \"font-weight: bold; text-align: right;\">7</td><td style = \"text-align: right;\">true</td><td style = \"text-align: left;\">resign</td></tr><tr><td class = \"rowNumber\" style = \"font-weight: bold; text-align: right;\">8</td><td style = \"text-align: right;\">false</td><td style = \"text-align: left;\">resign</td></tr><tr><td class = \"rowNumber\" style = \"font-weight: bold; text-align: right;\">9</td><td style = \"text-align: right;\">true</td><td style = \"text-align: left;\">resign</td></tr><tr><td class = \"rowNumber\" style = \"font-weight: bold; text-align: right;\">10</td><td style = \"text-align: right;\">true</td><td style = \"text-align: left;\">mate</td></tr><tr><td class = \"rowNumber\" style = \"font-weight: bold; text-align: right;\">11</td><td style = \"text-align: right;\">false</td><td style = \"text-align: left;\">mate</td></tr><tr><td class = \"rowNumber\" style = \"font-weight: bold; text-align: right;\">12</td><td style = \"text-align: right;\">false</td><td style = \"text-align: left;\">resign</td></tr><tr><td class = \"rowNumber\" style = \"font-weight: bold; text-align: right;\">13</td><td style = \"text-align: right;\">false</td><td style = \"text-align: left;\">resign</td></tr><tr><td style = \"text-align: right;\">&vellip;</td><td style = \"text-align: right;\">&vellip;</td><td style = \"text-align: right;\">&vellip;</td></tr><tr><td class = \"rowNumber\" style = \"font-weight: bold; text-align: right;\">20047</td><td style = \"text-align: right;\">true</td><td style = \"text-align: left;\">mate</td></tr><tr><td class = \"rowNumber\" style = \"font-weight: bold; text-align: right;\">20048</td><td style = \"text-align: right;\">true</td><td style = \"text-align: left;\">mate</td></tr><tr><td class = \"rowNumber\" style = \"font-weight: bold; text-align: right;\">20049</td><td style = \"text-align: right;\">true</td><td style = \"text-align: left;\">resign</td></tr><tr><td class = \"rowNumber\" style = \"font-weight: bold; text-align: right;\">20050</td><td style = \"text-align: right;\">true</td><td style = \"text-align: left;\">mate</td></tr><tr><td class = \"rowNumber\" style = \"font-weight: bold; text-align: right;\">20051</td><td style = \"text-align: right;\">true</td><td style = \"text-align: left;\">outoftime</td></tr><tr><td class = \"rowNumber\" style = \"font-weight: bold; text-align: right;\">20052</td><td style = \"text-align: right;\">true</td><td style = \"text-align: left;\">mate</td></tr><tr><td class = \"rowNumber\" style = \"font-weight: bold; text-align: right;\">20053</td><td style = \"text-align: right;\">true</td><td style = \"text-align: left;\">resign</td></tr><tr><td class = \"rowNumber\" style = \"font-weight: bold; text-align: right;\">20054</td><td style = \"text-align: right;\">true</td><td style = \"text-align: left;\">resign</td></tr><tr><td class = \"rowNumber\" style = \"font-weight: bold; text-align: right;\">20055</td><td style = \"text-align: right;\">true</td><td style = \"text-align: left;\">mate</td></tr><tr><td class = \"rowNumber\" style = \"font-weight: bold; text-align: right;\">20056</td><td style = \"text-align: right;\">true</td><td style = \"text-align: left;\">mate</td></tr><tr><td class = \"rowNumber\" style = \"font-weight: bold; text-align: right;\">20057</td><td style = \"text-align: right;\">true</td><td style = \"text-align: left;\">resign</td></tr><tr><td class = \"rowNumber\" style = \"font-weight: bold; text-align: right;\">20058</td><td style = \"text-align: right;\">true</td><td style = \"text-align: left;\">mate</td></tr></tbody></table></div>"
      ],
      "text/latex": [
       "\\begin{tabular}{r|cc}\n",
       "\t& rated & victory\\\\\n",
       "\t\\hline\n",
       "\t& Bool & String15\\\\\n",
       "\t\\hline\n",
       "\t1 & 0 & outoftime \\\\\n",
       "\t2 & 1 & resign \\\\\n",
       "\t3 & 1 & mate \\\\\n",
       "\t4 & 1 & mate \\\\\n",
       "\t5 & 1 & mate \\\\\n",
       "\t6 & 0 & draw \\\\\n",
       "\t7 & 1 & resign \\\\\n",
       "\t8 & 0 & resign \\\\\n",
       "\t9 & 1 & resign \\\\\n",
       "\t10 & 1 & mate \\\\\n",
       "\t11 & 0 & mate \\\\\n",
       "\t12 & 0 & resign \\\\\n",
       "\t13 & 0 & resign \\\\\n",
       "\t14 & 0 & resign \\\\\n",
       "\t15 & 0 & mate \\\\\n",
       "\t16 & 0 & resign \\\\\n",
       "\t17 & 0 & resign \\\\\n",
       "\t18 & 0 & mate \\\\\n",
       "\t19 & 0 & resign \\\\\n",
       "\t20 & 0 & resign \\\\\n",
       "\t21 & 0 & resign \\\\\n",
       "\t22 & 0 & resign \\\\\n",
       "\t23 & 0 & resign \\\\\n",
       "\t24 & 1 & resign \\\\\n",
       "\t$\\dots$ & $\\dots$ & $\\dots$ \\\\\n",
       "\\end{tabular}\n"
      ],
      "text/plain": [
       "\u001b[1m20058×2 DataFrame\u001b[0m\n",
       "\u001b[1m   Row \u001b[0m│\u001b[1m rated \u001b[0m\u001b[1m victory   \u001b[0m\n",
       "       │\u001b[90m Bool  \u001b[0m\u001b[90m String15  \u001b[0m\n",
       "───────┼──────────────────\n",
       "     1 │ false  outoftime\n",
       "     2 │  true  resign\n",
       "     3 │  true  mate\n",
       "     4 │  true  mate\n",
       "     5 │  true  mate\n",
       "     6 │ false  draw\n",
       "     7 │  true  resign\n",
       "     8 │ false  resign\n",
       "   ⋮   │   ⋮        ⋮\n",
       " 20052 │  true  mate\n",
       " 20053 │  true  resign\n",
       " 20054 │  true  resign\n",
       " 20055 │  true  mate\n",
       " 20056 │  true  mate\n",
       " 20057 │  true  resign\n",
       " 20058 │  true  mate\n",
       "\u001b[36m        20043 rows omitted\u001b[0m"
      ]
     },
     "metadata": {},
     "output_type": "display_data"
    }
   ],
   "source": [
    "select(gdf_chess, :victory)"
   ]
  },
  {
   "cell_type": "markdown",
   "metadata": {},
   "source": [
    "Using `transform` below the `sum`is applied groupwise."
   ]
  },
  {
   "cell_type": "code",
   "execution_count": 9,
   "metadata": {},
   "outputs": [
    {
     "data": {
      "text/html": [
       "<div><div style = \"float: left;\"><span>20058×9 DataFrame</span></div><div style = \"float: right;\"><span style = \"font-style: italic;\">20033 rows omitted</span></div><div style = \"clear: both;\"></div></div><div class = \"data-frame\" style = \"overflow-x: scroll;\"><table class = \"data-frame\" style = \"margin-bottom: 6px;\"><thead><tr class = \"header\"><th class = \"rowNumber\" style = \"font-weight: bold; text-align: right;\">Row</th><th style = \"text-align: left;\">rated</th><th style = \"text-align: left;\">white_rating</th><th style = \"text-align: left;\">black_rating</th><th style = \"text-align: left;\">opening_eco</th><th style = \"text-align: left;\">opening_name</th><th style = \"text-align: left;\">opening_ply</th><th style = \"text-align: left;\">winner</th><th style = \"text-align: left;\">victory</th><th style = \"text-align: left;\">white_sum_rating</th></tr><tr class = \"subheader headerLastRow\"><th class = \"rowNumber\" style = \"font-weight: bold; text-align: right;\"></th><th title = \"Bool\" style = \"text-align: left;\">Bool</th><th title = \"Int64\" style = \"text-align: left;\">Int64</th><th title = \"Int64\" style = \"text-align: left;\">Int64</th><th title = \"String3\" style = \"text-align: left;\">String3</th><th title = \"String\" style = \"text-align: left;\">String</th><th title = \"Int64\" style = \"text-align: left;\">Int64</th><th title = \"String7\" style = \"text-align: left;\">String7</th><th title = \"String15\" style = \"text-align: left;\">String15</th><th title = \"Int64\" style = \"text-align: left;\">Int64</th></tr></thead><tbody><tr><td class = \"rowNumber\" style = \"font-weight: bold; text-align: right;\">1</td><td style = \"text-align: right;\">false</td><td style = \"text-align: right;\">1500</td><td style = \"text-align: right;\">1191</td><td style = \"text-align: left;\">D10</td><td style = \"text-align: left;\">Slav Defense: Exchange Variation</td><td style = \"text-align: right;\">5</td><td style = \"text-align: left;\">white</td><td style = \"text-align: left;\">outoftime</td><td style = \"text-align: right;\">6224059</td></tr><tr><td class = \"rowNumber\" style = \"font-weight: bold; text-align: right;\">2</td><td style = \"text-align: right;\">true</td><td style = \"text-align: right;\">1322</td><td style = \"text-align: right;\">1261</td><td style = \"text-align: left;\">B00</td><td style = \"text-align: left;\">Nimzowitsch Defense: Kennedy Variation</td><td style = \"text-align: right;\">4</td><td style = \"text-align: left;\">black</td><td style = \"text-align: left;\">resign</td><td style = \"text-align: right;\">25801183</td></tr><tr><td class = \"rowNumber\" style = \"font-weight: bold; text-align: right;\">3</td><td style = \"text-align: right;\">true</td><td style = \"text-align: right;\">1496</td><td style = \"text-align: right;\">1500</td><td style = \"text-align: left;\">C20</td><td style = \"text-align: left;\">King&apos;s Pawn Game: Leonardis Variation</td><td style = \"text-align: right;\">3</td><td style = \"text-align: left;\">white</td><td style = \"text-align: left;\">mate</td><td style = \"text-align: right;\">25801183</td></tr><tr><td class = \"rowNumber\" style = \"font-weight: bold; text-align: right;\">4</td><td style = \"text-align: right;\">true</td><td style = \"text-align: right;\">1439</td><td style = \"text-align: right;\">1454</td><td style = \"text-align: left;\">D02</td><td style = \"text-align: left;\">Queen&apos;s Pawn Game: Zukertort Variation</td><td style = \"text-align: right;\">3</td><td style = \"text-align: left;\">white</td><td style = \"text-align: left;\">mate</td><td style = \"text-align: right;\">25801183</td></tr><tr><td class = \"rowNumber\" style = \"font-weight: bold; text-align: right;\">5</td><td style = \"text-align: right;\">true</td><td style = \"text-align: right;\">1523</td><td style = \"text-align: right;\">1469</td><td style = \"text-align: left;\">C41</td><td style = \"text-align: left;\">Philidor Defense</td><td style = \"text-align: right;\">5</td><td style = \"text-align: left;\">white</td><td style = \"text-align: left;\">mate</td><td style = \"text-align: right;\">25801183</td></tr><tr><td class = \"rowNumber\" style = \"font-weight: bold; text-align: right;\">6</td><td style = \"text-align: right;\">false</td><td style = \"text-align: right;\">1250</td><td style = \"text-align: right;\">1002</td><td style = \"text-align: left;\">B27</td><td style = \"text-align: left;\">Sicilian Defense: Mongoose Variation</td><td style = \"text-align: right;\">4</td><td style = \"text-align: left;\">draw</td><td style = \"text-align: left;\">draw</td><td style = \"text-align: right;\">6224059</td></tr><tr><td class = \"rowNumber\" style = \"font-weight: bold; text-align: right;\">7</td><td style = \"text-align: right;\">true</td><td style = \"text-align: right;\">1520</td><td style = \"text-align: right;\">1423</td><td style = \"text-align: left;\">D00</td><td style = \"text-align: left;\">Blackmar-Diemer Gambit: Pietrowsky Defense</td><td style = \"text-align: right;\">10</td><td style = \"text-align: left;\">white</td><td style = \"text-align: left;\">resign</td><td style = \"text-align: right;\">25801183</td></tr><tr><td class = \"rowNumber\" style = \"font-weight: bold; text-align: right;\">8</td><td style = \"text-align: right;\">false</td><td style = \"text-align: right;\">1413</td><td style = \"text-align: right;\">2108</td><td style = \"text-align: left;\">B00</td><td style = \"text-align: left;\">Nimzowitsch Defense: Kennedy Variation |  Linksspringer Variation</td><td style = \"text-align: right;\">5</td><td style = \"text-align: left;\">black</td><td style = \"text-align: left;\">resign</td><td style = \"text-align: right;\">6224059</td></tr><tr><td class = \"rowNumber\" style = \"font-weight: bold; text-align: right;\">9</td><td style = \"text-align: right;\">true</td><td style = \"text-align: right;\">1439</td><td style = \"text-align: right;\">1392</td><td style = \"text-align: left;\">C50</td><td style = \"text-align: left;\">Italian Game: Schilling-Kostic Gambit</td><td style = \"text-align: right;\">6</td><td style = \"text-align: left;\">black</td><td style = \"text-align: left;\">resign</td><td style = \"text-align: right;\">25801183</td></tr><tr><td class = \"rowNumber\" style = \"font-weight: bold; text-align: right;\">10</td><td style = \"text-align: right;\">true</td><td style = \"text-align: right;\">1381</td><td style = \"text-align: right;\">1209</td><td style = \"text-align: left;\">B01</td><td style = \"text-align: left;\">Scandinavian Defense: Mieses-Kotroc Variation</td><td style = \"text-align: right;\">4</td><td style = \"text-align: left;\">white</td><td style = \"text-align: left;\">mate</td><td style = \"text-align: right;\">25801183</td></tr><tr><td class = \"rowNumber\" style = \"font-weight: bold; text-align: right;\">11</td><td style = \"text-align: right;\">false</td><td style = \"text-align: right;\">1381</td><td style = \"text-align: right;\">1272</td><td style = \"text-align: left;\">A00</td><td style = \"text-align: left;\">Van&apos;t Kruijs Opening</td><td style = \"text-align: right;\">1</td><td style = \"text-align: left;\">white</td><td style = \"text-align: left;\">mate</td><td style = \"text-align: right;\">6224059</td></tr><tr><td class = \"rowNumber\" style = \"font-weight: bold; text-align: right;\">12</td><td style = \"text-align: right;\">false</td><td style = \"text-align: right;\">1381</td><td style = \"text-align: right;\">1867</td><td style = \"text-align: left;\">C02</td><td style = \"text-align: left;\">French Defense: Advance Variation |  Paulsen Attack</td><td style = \"text-align: right;\">9</td><td style = \"text-align: left;\">black</td><td style = \"text-align: left;\">resign</td><td style = \"text-align: right;\">6224059</td></tr><tr><td class = \"rowNumber\" style = \"font-weight: bold; text-align: right;\">13</td><td style = \"text-align: right;\">false</td><td style = \"text-align: right;\">1381</td><td style = \"text-align: right;\">1936</td><td style = \"text-align: left;\">C00</td><td style = \"text-align: left;\">French Defense: Knight Variation</td><td style = \"text-align: right;\">3</td><td style = \"text-align: left;\">black</td><td style = \"text-align: left;\">resign</td><td style = \"text-align: right;\">6224059</td></tr><tr><td style = \"text-align: right;\">&vellip;</td><td style = \"text-align: right;\">&vellip;</td><td style = \"text-align: right;\">&vellip;</td><td style = \"text-align: right;\">&vellip;</td><td style = \"text-align: right;\">&vellip;</td><td style = \"text-align: right;\">&vellip;</td><td style = \"text-align: right;\">&vellip;</td><td style = \"text-align: right;\">&vellip;</td><td style = \"text-align: right;\">&vellip;</td><td style = \"text-align: right;\">&vellip;</td></tr><tr><td class = \"rowNumber\" style = \"font-weight: bold; text-align: right;\">20047</td><td style = \"text-align: right;\">true</td><td style = \"text-align: right;\">1250</td><td style = \"text-align: right;\">1235</td><td style = \"text-align: left;\">B07</td><td style = \"text-align: left;\">Pirc Defense</td><td style = \"text-align: right;\">4</td><td style = \"text-align: left;\">black</td><td style = \"text-align: left;\">mate</td><td style = \"text-align: right;\">25801183</td></tr><tr><td class = \"rowNumber\" style = \"font-weight: bold; text-align: right;\">20048</td><td style = \"text-align: right;\">true</td><td style = \"text-align: right;\">1222</td><td style = \"text-align: right;\">1262</td><td style = \"text-align: left;\">A10</td><td style = \"text-align: left;\">English Opening: Anglo-Scandinavian Defense</td><td style = \"text-align: right;\">2</td><td style = \"text-align: left;\">white</td><td style = \"text-align: left;\">mate</td><td style = \"text-align: right;\">25801183</td></tr><tr><td class = \"rowNumber\" style = \"font-weight: bold; text-align: right;\">20049</td><td style = \"text-align: right;\">true</td><td style = \"text-align: right;\">1252</td><td style = \"text-align: right;\">1233</td><td style = \"text-align: left;\">C01</td><td style = \"text-align: left;\">French Defense: Exchange Variation</td><td style = \"text-align: right;\">5</td><td style = \"text-align: left;\">white</td><td style = \"text-align: left;\">resign</td><td style = \"text-align: right;\">25801183</td></tr><tr><td class = \"rowNumber\" style = \"font-weight: bold; text-align: right;\">20050</td><td style = \"text-align: right;\">true</td><td style = \"text-align: right;\">1328</td><td style = \"text-align: right;\">1252</td><td style = \"text-align: left;\">C00</td><td style = \"text-align: left;\">French Defense: Two Knights Variation</td><td style = \"text-align: right;\">5</td><td style = \"text-align: left;\">white</td><td style = \"text-align: left;\">mate</td><td style = \"text-align: right;\">25801183</td></tr><tr><td class = \"rowNumber\" style = \"font-weight: bold; text-align: right;\">20051</td><td style = \"text-align: right;\">true</td><td style = \"text-align: right;\">1243</td><td style = \"text-align: right;\">1142</td><td style = \"text-align: left;\">A20</td><td style = \"text-align: left;\">English Opening: King&apos;s English Variation</td><td style = \"text-align: right;\">2</td><td style = \"text-align: left;\">white</td><td style = \"text-align: left;\">outoftime</td><td style = \"text-align: right;\">25801183</td></tr><tr><td class = \"rowNumber\" style = \"font-weight: bold; text-align: right;\">20052</td><td style = \"text-align: right;\">true</td><td style = \"text-align: right;\">1237</td><td style = \"text-align: right;\">1231</td><td style = \"text-align: left;\">C00</td><td style = \"text-align: left;\">French Defense: Knight Variation</td><td style = \"text-align: right;\">3</td><td style = \"text-align: left;\">black</td><td style = \"text-align: left;\">mate</td><td style = \"text-align: right;\">25801183</td></tr><tr><td class = \"rowNumber\" style = \"font-weight: bold; text-align: right;\">20053</td><td style = \"text-align: right;\">true</td><td style = \"text-align: right;\">1219</td><td style = \"text-align: right;\">1250</td><td style = \"text-align: left;\">A40</td><td style = \"text-align: left;\">English Defense</td><td style = \"text-align: right;\">4</td><td style = \"text-align: left;\">white</td><td style = \"text-align: left;\">resign</td><td style = \"text-align: right;\">25801183</td></tr><tr><td class = \"rowNumber\" style = \"font-weight: bold; text-align: right;\">20054</td><td style = \"text-align: right;\">true</td><td style = \"text-align: right;\">1691</td><td style = \"text-align: right;\">1220</td><td style = \"text-align: left;\">A80</td><td style = \"text-align: left;\">Dutch Defense</td><td style = \"text-align: right;\">2</td><td style = \"text-align: left;\">white</td><td style = \"text-align: left;\">resign</td><td style = \"text-align: right;\">25801183</td></tr><tr><td class = \"rowNumber\" style = \"font-weight: bold; text-align: right;\">20055</td><td style = \"text-align: right;\">true</td><td style = \"text-align: right;\">1233</td><td style = \"text-align: right;\">1196</td><td style = \"text-align: left;\">A41</td><td style = \"text-align: left;\">Queen&apos;s Pawn</td><td style = \"text-align: right;\">2</td><td style = \"text-align: left;\">black</td><td style = \"text-align: left;\">mate</td><td style = \"text-align: right;\">25801183</td></tr><tr><td class = \"rowNumber\" style = \"font-weight: bold; text-align: right;\">20056</td><td style = \"text-align: right;\">true</td><td style = \"text-align: right;\">1219</td><td style = \"text-align: right;\">1286</td><td style = \"text-align: left;\">D00</td><td style = \"text-align: left;\">Queen&apos;s Pawn Game: Mason Attack</td><td style = \"text-align: right;\">3</td><td style = \"text-align: left;\">white</td><td style = \"text-align: left;\">mate</td><td style = \"text-align: right;\">25801183</td></tr><tr><td class = \"rowNumber\" style = \"font-weight: bold; text-align: right;\">20057</td><td style = \"text-align: right;\">true</td><td style = \"text-align: right;\">1360</td><td style = \"text-align: right;\">1227</td><td style = \"text-align: left;\">B07</td><td style = \"text-align: left;\">Pirc Defense</td><td style = \"text-align: right;\">4</td><td style = \"text-align: left;\">white</td><td style = \"text-align: left;\">resign</td><td style = \"text-align: right;\">25801183</td></tr><tr><td class = \"rowNumber\" style = \"font-weight: bold; text-align: right;\">20058</td><td style = \"text-align: right;\">true</td><td style = \"text-align: right;\">1235</td><td style = \"text-align: right;\">1339</td><td style = \"text-align: left;\">D00</td><td style = \"text-align: left;\">Queen&apos;s Pawn Game: Mason Attack</td><td style = \"text-align: right;\">3</td><td style = \"text-align: left;\">black</td><td style = \"text-align: left;\">mate</td><td style = \"text-align: right;\">25801183</td></tr></tbody></table></div>"
      ],
      "text/latex": [
       "\\begin{tabular}{r|cccccc}\n",
       "\t& rated & white\\_rating & black\\_rating & opening\\_eco & opening\\_name & \\\\\n",
       "\t\\hline\n",
       "\t& Bool & Int64 & Int64 & String3 & String & \\\\\n",
       "\t\\hline\n",
       "\t1 & 0 & 1500 & 1191 & D10 & Slav Defense: Exchange Variation & $\\dots$ \\\\\n",
       "\t2 & 1 & 1322 & 1261 & B00 & Nimzowitsch Defense: Kennedy Variation & $\\dots$ \\\\\n",
       "\t3 & 1 & 1496 & 1500 & C20 & King's Pawn Game: Leonardis Variation & $\\dots$ \\\\\n",
       "\t4 & 1 & 1439 & 1454 & D02 & Queen's Pawn Game: Zukertort Variation & $\\dots$ \\\\\n",
       "\t5 & 1 & 1523 & 1469 & C41 & Philidor Defense & $\\dots$ \\\\\n",
       "\t6 & 0 & 1250 & 1002 & B27 & Sicilian Defense: Mongoose Variation & $\\dots$ \\\\\n",
       "\t7 & 1 & 1520 & 1423 & D00 & Blackmar-Diemer Gambit: Pietrowsky Defense & $\\dots$ \\\\\n",
       "\t8 & 0 & 1413 & 2108 & B00 & Nimzowitsch Defense: Kennedy Variation |  Linksspringer Variation & $\\dots$ \\\\\n",
       "\t9 & 1 & 1439 & 1392 & C50 & Italian Game: Schilling-Kostic Gambit & $\\dots$ \\\\\n",
       "\t10 & 1 & 1381 & 1209 & B01 & Scandinavian Defense: Mieses-Kotroc Variation & $\\dots$ \\\\\n",
       "\t11 & 0 & 1381 & 1272 & A00 & Van't Kruijs Opening & $\\dots$ \\\\\n",
       "\t12 & 0 & 1381 & 1867 & C02 & French Defense: Advance Variation |  Paulsen Attack & $\\dots$ \\\\\n",
       "\t13 & 0 & 1381 & 1936 & C00 & French Defense: Knight Variation & $\\dots$ \\\\\n",
       "\t14 & 0 & 1381 & 1607 & C00 & French Defense \\#2 & $\\dots$ \\\\\n",
       "\t15 & 0 & 1094 & 1141 & C50 & Four Knights Game: Italian Variation & $\\dots$ \\\\\n",
       "\t16 & 0 & 1141 & 1094 & C57 & Italian Game: Two Knights Defense |  Knight Attack & $\\dots$ \\\\\n",
       "\t17 & 0 & 1094 & 1141 & C50 & Four Knights Game: Italian Variation & $\\dots$ \\\\\n",
       "\t18 & 0 & 1141 & 1094 & C50 & Four Knights Game: Italian Variation & $\\dots$ \\\\\n",
       "\t19 & 0 & 1094 & 1300 & C41 & Philidor Defense \\#3 & $\\dots$ \\\\\n",
       "\t20 & 0 & 1500 & 1094 & D00 & Queen's Pawn Game & $\\dots$ \\\\\n",
       "\t21 & 0 & 1094 & 1676 & C55 & Italian Game: Anti-Fried Liver Defense & $\\dots$ \\\\\n",
       "\t22 & 0 & 1094 & 1068 & A40 & Horwitz Defense & $\\dots$ \\\\\n",
       "\t23 & 0 & 1500 & 1094 & B20 & Sicilian Defense: Bowdler Attack & $\\dots$ \\\\\n",
       "\t24 & 1 & 1307 & 1106 & A25 & English Opening: King's English Variation |  Reversed Closed Sicilian & $\\dots$ \\\\\n",
       "\t$\\dots$ & $\\dots$ & $\\dots$ & $\\dots$ & $\\dots$ & $\\dots$ &  \\\\\n",
       "\\end{tabular}\n"
      ],
      "text/plain": [
       "\u001b[1m20058×9 DataFrame\u001b[0m\n",
       "\u001b[1m   Row \u001b[0m│\u001b[1m rated \u001b[0m\u001b[1m white_rating \u001b[0m\u001b[1m black_rating \u001b[0m\u001b[1m opening_eco \u001b[0m\u001b[1m opening_name         \u001b[0m ⋯\n",
       "       │\u001b[90m Bool  \u001b[0m\u001b[90m Int64        \u001b[0m\u001b[90m Int64        \u001b[0m\u001b[90m String3     \u001b[0m\u001b[90m String               \u001b[0m ⋯\n",
       "───────┼────────────────────────────────────────────────────────────────────────\n",
       "     1 │ false          1500          1191  D10          Slav Defense: Exchang ⋯\n",
       "     2 │  true          1322          1261  B00          Nimzowitsch Defense:\n",
       "     3 │  true          1496          1500  C20          King's Pawn Game: Leo\n",
       "     4 │  true          1439          1454  D02          Queen's Pawn Game: Zu\n",
       "     5 │  true          1523          1469  C41          Philidor Defense      ⋯\n",
       "     6 │ false          1250          1002  B27          Sicilian Defense: Mon\n",
       "     7 │  true          1520          1423  D00          Blackmar-Diemer Gambi\n",
       "     8 │ false          1413          2108  B00          Nimzowitsch Defense:\n",
       "   ⋮   │   ⋮         ⋮             ⋮             ⋮                       ⋮     ⋱\n",
       " 20052 │  true          1237          1231  C00          French Defense: Knigh ⋯\n",
       " 20053 │  true          1219          1250  A40          English Defense\n",
       " 20054 │  true          1691          1220  A80          Dutch Defense\n",
       " 20055 │  true          1233          1196  A41          Queen's Pawn\n",
       " 20056 │  true          1219          1286  D00          Queen's Pawn Game: Ma ⋯\n",
       " 20057 │  true          1360          1227  B07          Pirc Defense\n",
       " 20058 │  true          1235          1339  D00          Queen's Pawn Game: Ma\n",
       "\u001b[36m                                                5 columns and 20043 rows omitted\u001b[0m"
      ]
     },
     "metadata": {},
     "output_type": "display_data"
    }
   ],
   "source": [
    "transform(gdf_chess, :white_rating => sum => :white_sum_rating)"
   ]
  },
  {
   "cell_type": "markdown",
   "metadata": {},
   "source": [
    "The behaviour of `combine` is as we witnessed in a previous session."
   ]
  },
  {
   "cell_type": "code",
   "execution_count": 10,
   "metadata": {},
   "outputs": [
    {
     "data": {
      "text/html": [
       "<div><div style = \"float: left;\"><span>2×2 DataFrame</span></div><div style = \"clear: both;\"></div></div><div class = \"data-frame\" style = \"overflow-x: scroll;\"><table class = \"data-frame\" style = \"margin-bottom: 6px;\"><thead><tr class = \"header\"><th class = \"rowNumber\" style = \"font-weight: bold; text-align: right;\">Row</th><th style = \"text-align: left;\">rated</th><th style = \"text-align: left;\">black_sum_rating</th></tr><tr class = \"subheader headerLastRow\"><th class = \"rowNumber\" style = \"font-weight: bold; text-align: right;\"></th><th title = \"Bool\" style = \"text-align: left;\">Bool</th><th title = \"Int64\" style = \"text-align: left;\">Int64</th></tr></thead><tbody><tr><td class = \"rowNumber\" style = \"font-weight: bold; text-align: right;\">1</td><td style = \"text-align: right;\">false</td><td style = \"text-align: right;\">6125748</td></tr><tr><td class = \"rowNumber\" style = \"font-weight: bold; text-align: right;\">2</td><td style = \"text-align: right;\">true</td><td style = \"text-align: right;\">25743044</td></tr></tbody></table></div>"
      ],
      "text/latex": [
       "\\begin{tabular}{r|cc}\n",
       "\t& rated & black\\_sum\\_rating\\\\\n",
       "\t\\hline\n",
       "\t& Bool & Int64\\\\\n",
       "\t\\hline\n",
       "\t1 & 0 & 6125748 \\\\\n",
       "\t2 & 1 & 25743044 \\\\\n",
       "\\end{tabular}\n"
      ],
      "text/plain": [
       "\u001b[1m2×2 DataFrame\u001b[0m\n",
       "\u001b[1m Row \u001b[0m│\u001b[1m rated \u001b[0m\u001b[1m black_sum_rating \u001b[0m\n",
       "     │\u001b[90m Bool  \u001b[0m\u001b[90m Int64            \u001b[0m\n",
       "─────┼─────────────────────────\n",
       "   1 │ false           6125748\n",
       "   2 │  true          25743044"
      ]
     },
     "metadata": {},
     "output_type": "display_data"
    }
   ],
   "source": [
    "combine(gdf_chess, :black_rating => sum => :black_sum_rating)"
   ]
  },
  {
   "cell_type": "markdown",
   "metadata": {},
   "source": [
    "### Creating pipelines"
   ]
  },
  {
   "cell_type": "markdown",
   "metadata": {},
   "source": [
    "Here we see how we can create a pipeline."
   ]
  },
  {
   "cell_type": "code",
   "execution_count": 11,
   "metadata": {},
   "outputs": [
    {
     "data": {
      "text/html": [
       "<div><div style = \"float: left;\"><span>6×3 DataFrame</span></div><div style = \"clear: both;\"></div></div><div class = \"data-frame\" style = \"overflow-x: scroll;\"><table class = \"data-frame\" style = \"margin-bottom: 6px;\"><thead><tr class = \"header\"><th class = \"rowNumber\" style = \"font-weight: bold; text-align: right;\">Row</th><th style = \"text-align: left;\">winner</th><th style = \"text-align: left;\">rated</th><th style = \"text-align: left;\">count</th></tr><tr class = \"subheader headerLastRow\"><th class = \"rowNumber\" style = \"font-weight: bold; text-align: right;\"></th><th title = \"String7\" style = \"text-align: left;\">String7</th><th title = \"Bool\" style = \"text-align: left;\">Bool</th><th title = \"Int64\" style = \"text-align: left;\">Int64</th></tr></thead><tbody><tr><td class = \"rowNumber\" style = \"font-weight: bold; text-align: right;\">1</td><td style = \"text-align: left;\">white</td><td style = \"text-align: right;\">false</td><td style = \"text-align: right;\">1949</td></tr><tr><td class = \"rowNumber\" style = \"font-weight: bold; text-align: right;\">2</td><td style = \"text-align: left;\">white</td><td style = \"text-align: right;\">true</td><td style = \"text-align: right;\">8052</td></tr><tr><td class = \"rowNumber\" style = \"font-weight: bold; text-align: right;\">3</td><td style = \"text-align: left;\">black</td><td style = \"text-align: right;\">false</td><td style = \"text-align: right;\">1723</td></tr><tr><td class = \"rowNumber\" style = \"font-weight: bold; text-align: right;\">4</td><td style = \"text-align: left;\">black</td><td style = \"text-align: right;\">true</td><td style = \"text-align: right;\">7384</td></tr><tr><td class = \"rowNumber\" style = \"font-weight: bold; text-align: right;\">5</td><td style = \"text-align: left;\">draw</td><td style = \"text-align: right;\">false</td><td style = \"text-align: right;\">231</td></tr><tr><td class = \"rowNumber\" style = \"font-weight: bold; text-align: right;\">6</td><td style = \"text-align: left;\">draw</td><td style = \"text-align: right;\">true</td><td style = \"text-align: right;\">719</td></tr></tbody></table></div>"
      ],
      "text/latex": [
       "\\begin{tabular}{r|ccc}\n",
       "\t& winner & rated & count\\\\\n",
       "\t\\hline\n",
       "\t& String7 & Bool & Int64\\\\\n",
       "\t\\hline\n",
       "\t1 & white & 0 & 1949 \\\\\n",
       "\t2 & white & 1 & 8052 \\\\\n",
       "\t3 & black & 0 & 1723 \\\\\n",
       "\t4 & black & 1 & 7384 \\\\\n",
       "\t5 & draw & 0 & 231 \\\\\n",
       "\t6 & draw & 1 & 719 \\\\\n",
       "\\end{tabular}\n"
      ],
      "text/plain": [
       "\u001b[1m6×3 DataFrame\u001b[0m\n",
       "\u001b[1m Row \u001b[0m│\u001b[1m winner  \u001b[0m\u001b[1m rated \u001b[0m\u001b[1m count \u001b[0m\n",
       "     │\u001b[90m String7 \u001b[0m\u001b[90m Bool  \u001b[0m\u001b[90m Int64 \u001b[0m\n",
       "─────┼───────────────────────\n",
       "   1 │ white    false   1949\n",
       "   2 │ white     true   8052\n",
       "   3 │ black    false   1723\n",
       "   4 │ black     true   7384\n",
       "   5 │ draw     false    231\n",
       "   6 │ draw      true    719"
      ]
     },
     "metadata": {},
     "output_type": "display_data"
    }
   ],
   "source": [
    "@chain chess begin\n",
    "    groupby([:winner, :rated])\n",
    "    combine(nrow => :count)\n",
    "end"
   ]
  },
  {
   "cell_type": "markdown",
   "metadata": {},
   "source": [
    "### Reshaping"
   ]
  },
  {
   "cell_type": "markdown",
   "metadata": {},
   "source": [
    "Generally speaking we encounter two forms of tabular data.\n",
    "* A wide format where each feature or variable is in a different column\n",
    "* A long format where each row represents a combination of relevant features and a value assigned to them."
   ]
  },
  {
   "cell_type": "markdown",
   "metadata": {},
   "source": [
    "I will first create a long format."
   ]
  },
  {
   "cell_type": "code",
   "execution_count": 12,
   "metadata": {},
   "outputs": [
    {
     "data": {
      "text/html": [
       "<div><div style = \"float: left;\"><span>2739×3 DataFrame</span></div><div style = \"float: right;\"><span style = \"font-style: italic;\">2714 rows omitted</span></div><div style = \"clear: both;\"></div></div><div class = \"data-frame\" style = \"overflow-x: scroll;\"><table class = \"data-frame\" style = \"margin-bottom: 6px;\"><thead><tr class = \"header\"><th class = \"rowNumber\" style = \"font-weight: bold; text-align: right;\">Row</th><th style = \"text-align: left;\">opening_name</th><th style = \"text-align: left;\">winner</th><th style = \"text-align: left;\">nrow</th></tr><tr class = \"subheader headerLastRow\"><th class = \"rowNumber\" style = \"font-weight: bold; text-align: right;\"></th><th title = \"String\" style = \"text-align: left;\">String</th><th title = \"String7\" style = \"text-align: left;\">String7</th><th title = \"Int64\" style = \"text-align: left;\">Int64</th></tr></thead><tbody><tr><td class = \"rowNumber\" style = \"font-weight: bold; text-align: right;\">1</td><td style = \"text-align: left;\">Slav Defense: Exchange Variation</td><td style = \"text-align: left;\">white</td><td style = \"text-align: right;\">7</td></tr><tr><td class = \"rowNumber\" style = \"font-weight: bold; text-align: right;\">2</td><td style = \"text-align: left;\">Nimzowitsch Defense: Kennedy Variation</td><td style = \"text-align: left;\">black</td><td style = \"text-align: right;\">2</td></tr><tr><td class = \"rowNumber\" style = \"font-weight: bold; text-align: right;\">3</td><td style = \"text-align: left;\">King&apos;s Pawn Game: Leonardis Variation</td><td style = \"text-align: left;\">white</td><td style = \"text-align: right;\">67</td></tr><tr><td class = \"rowNumber\" style = \"font-weight: bold; text-align: right;\">4</td><td style = \"text-align: left;\">Queen&apos;s Pawn Game: Zukertort Variation</td><td style = \"text-align: left;\">white</td><td style = \"text-align: right;\">63</td></tr><tr><td class = \"rowNumber\" style = \"font-weight: bold; text-align: right;\">5</td><td style = \"text-align: left;\">Philidor Defense</td><td style = \"text-align: left;\">white</td><td style = \"text-align: right;\">84</td></tr><tr><td class = \"rowNumber\" style = \"font-weight: bold; text-align: right;\">6</td><td style = \"text-align: left;\">Sicilian Defense: Mongoose Variation</td><td style = \"text-align: left;\">draw</td><td style = \"text-align: right;\">1</td></tr><tr><td class = \"rowNumber\" style = \"font-weight: bold; text-align: right;\">7</td><td style = \"text-align: left;\">Blackmar-Diemer Gambit: Pietrowsky Defense</td><td style = \"text-align: left;\">white</td><td style = \"text-align: right;\">2</td></tr><tr><td class = \"rowNumber\" style = \"font-weight: bold; text-align: right;\">8</td><td style = \"text-align: left;\">Nimzowitsch Defense: Kennedy Variation |  Linksspringer Variation</td><td style = \"text-align: left;\">black</td><td style = \"text-align: right;\">17</td></tr><tr><td class = \"rowNumber\" style = \"font-weight: bold; text-align: right;\">9</td><td style = \"text-align: left;\">Italian Game: Schilling-Kostic Gambit</td><td style = \"text-align: left;\">black</td><td style = \"text-align: right;\">25</td></tr><tr><td class = \"rowNumber\" style = \"font-weight: bold; text-align: right;\">10</td><td style = \"text-align: left;\">Scandinavian Defense: Mieses-Kotroc Variation</td><td style = \"text-align: left;\">white</td><td style = \"text-align: right;\">164</td></tr><tr><td class = \"rowNumber\" style = \"font-weight: bold; text-align: right;\">11</td><td style = \"text-align: left;\">Van&apos;t Kruijs Opening</td><td style = \"text-align: left;\">white</td><td style = \"text-align: right;\">126</td></tr><tr><td class = \"rowNumber\" style = \"font-weight: bold; text-align: right;\">12</td><td style = \"text-align: left;\">French Defense: Advance Variation |  Paulsen Attack</td><td style = \"text-align: left;\">black</td><td style = \"text-align: right;\">24</td></tr><tr><td class = \"rowNumber\" style = \"font-weight: bold; text-align: right;\">13</td><td style = \"text-align: left;\">French Defense: Knight Variation</td><td style = \"text-align: left;\">black</td><td style = \"text-align: right;\">121</td></tr><tr><td style = \"text-align: right;\">&vellip;</td><td style = \"text-align: right;\">&vellip;</td><td style = \"text-align: right;\">&vellip;</td><td style = \"text-align: right;\">&vellip;</td></tr><tr><td class = \"rowNumber\" style = \"font-weight: bold; text-align: right;\">2728</td><td style = \"text-align: left;\">Sicilian Defense: Najdorf Variation |  Neo-Classical Defense</td><td style = \"text-align: left;\">draw</td><td style = \"text-align: right;\">1</td></tr><tr><td class = \"rowNumber\" style = \"font-weight: bold; text-align: right;\">2729</td><td style = \"text-align: left;\">Sicilian Defense: Scheveningen Variation |  English Attack</td><td style = \"text-align: left;\">white</td><td style = \"text-align: right;\">1</td></tr><tr><td class = \"rowNumber\" style = \"font-weight: bold; text-align: right;\">2730</td><td style = \"text-align: left;\">Ruy Lopez: Closed |  7...O-O</td><td style = \"text-align: left;\">black</td><td style = \"text-align: right;\">1</td></tr><tr><td class = \"rowNumber\" style = \"font-weight: bold; text-align: right;\">2731</td><td style = \"text-align: left;\">Polish Opening: Czech Defense</td><td style = \"text-align: left;\">black</td><td style = \"text-align: right;\">1</td></tr><tr><td class = \"rowNumber\" style = \"font-weight: bold; text-align: right;\">2732</td><td style = \"text-align: left;\">Sicilian Defense: O&apos;Kelly Variation |  Venice System</td><td style = \"text-align: left;\">draw</td><td style = \"text-align: right;\">1</td></tr><tr><td class = \"rowNumber\" style = \"font-weight: bold; text-align: right;\">2733</td><td style = \"text-align: left;\">Pirc Defense: Austrian Attack |  Kurajica Variation</td><td style = \"text-align: left;\">black</td><td style = \"text-align: right;\">1</td></tr><tr><td class = \"rowNumber\" style = \"font-weight: bold; text-align: right;\">2734</td><td style = \"text-align: left;\">Queen&apos;s Indian Defense: Classical Variation |  Traditional Variation</td><td style = \"text-align: left;\">white</td><td style = \"text-align: right;\">1</td></tr><tr><td class = \"rowNumber\" style = \"font-weight: bold; text-align: right;\">2735</td><td style = \"text-align: left;\">Queen&apos;s Gambit Declined: Slav |  Dutch Variation</td><td style = \"text-align: left;\">white</td><td style = \"text-align: right;\">1</td></tr><tr><td class = \"rowNumber\" style = \"font-weight: bold; text-align: right;\">2736</td><td style = \"text-align: left;\">Pirc Defense: Austrian Attack |  Dragon Formation</td><td style = \"text-align: left;\">black</td><td style = \"text-align: right;\">1</td></tr><tr><td class = \"rowNumber\" style = \"font-weight: bold; text-align: right;\">2737</td><td style = \"text-align: left;\">Sicilian Defense: Najdorf Variation |  Polugaevsky Variation</td><td style = \"text-align: left;\">white</td><td style = \"text-align: right;\">1</td></tr><tr><td class = \"rowNumber\" style = \"font-weight: bold; text-align: right;\">2738</td><td style = \"text-align: left;\">English Opening: King&apos;s English Variation |  Four Knights Variation #2</td><td style = \"text-align: left;\">draw</td><td style = \"text-align: right;\">1</td></tr><tr><td class = \"rowNumber\" style = \"font-weight: bold; text-align: right;\">2739</td><td style = \"text-align: left;\">Lion Defense: Anti-Philidor |  Lion&apos;s Cave</td><td style = \"text-align: left;\">white</td><td style = \"text-align: right;\">1</td></tr></tbody></table></div>"
      ],
      "text/latex": [
       "\\begin{tabular}{r|ccc}\n",
       "\t& opening\\_name & winner & \\\\\n",
       "\t\\hline\n",
       "\t& String & String7 & \\\\\n",
       "\t\\hline\n",
       "\t1 & Slav Defense: Exchange Variation & white & $\\dots$ \\\\\n",
       "\t2 & Nimzowitsch Defense: Kennedy Variation & black & $\\dots$ \\\\\n",
       "\t3 & King's Pawn Game: Leonardis Variation & white & $\\dots$ \\\\\n",
       "\t4 & Queen's Pawn Game: Zukertort Variation & white & $\\dots$ \\\\\n",
       "\t5 & Philidor Defense & white & $\\dots$ \\\\\n",
       "\t6 & Sicilian Defense: Mongoose Variation & draw & $\\dots$ \\\\\n",
       "\t7 & Blackmar-Diemer Gambit: Pietrowsky Defense & white & $\\dots$ \\\\\n",
       "\t8 & Nimzowitsch Defense: Kennedy Variation |  Linksspringer Variation & black & $\\dots$ \\\\\n",
       "\t9 & Italian Game: Schilling-Kostic Gambit & black & $\\dots$ \\\\\n",
       "\t10 & Scandinavian Defense: Mieses-Kotroc Variation & white & $\\dots$ \\\\\n",
       "\t11 & Van't Kruijs Opening & white & $\\dots$ \\\\\n",
       "\t12 & French Defense: Advance Variation |  Paulsen Attack & black & $\\dots$ \\\\\n",
       "\t13 & French Defense: Knight Variation & black & $\\dots$ \\\\\n",
       "\t14 & French Defense \\#2 & black & $\\dots$ \\\\\n",
       "\t15 & Four Knights Game: Italian Variation & white & $\\dots$ \\\\\n",
       "\t16 & Italian Game: Two Knights Defense |  Knight Attack & black & $\\dots$ \\\\\n",
       "\t17 & Four Knights Game: Italian Variation & black & $\\dots$ \\\\\n",
       "\t18 & Philidor Defense \\#3 & black & $\\dots$ \\\\\n",
       "\t19 & Queen's Pawn Game & white & $\\dots$ \\\\\n",
       "\t20 & Italian Game: Anti-Fried Liver Defense & black & $\\dots$ \\\\\n",
       "\t21 & Horwitz Defense & white & $\\dots$ \\\\\n",
       "\t22 & Sicilian Defense: Bowdler Attack & white & $\\dots$ \\\\\n",
       "\t23 & English Opening: King's English Variation |  Reversed Closed Sicilian & white & $\\dots$ \\\\\n",
       "\t24 & Sicilian Defense: Smith-Morra Gambit \\#2 & black & $\\dots$ \\\\\n",
       "\t$\\dots$ & $\\dots$ & $\\dots$ &  \\\\\n",
       "\\end{tabular}\n"
      ],
      "text/plain": [
       "\u001b[1m2739×3 DataFrame\u001b[0m\n",
       "\u001b[1m  Row \u001b[0m│\u001b[1m opening_name                      \u001b[0m\u001b[1m winner  \u001b[0m\u001b[1m nrow  \u001b[0m\n",
       "      │\u001b[90m String                            \u001b[0m\u001b[90m String7 \u001b[0m\u001b[90m Int64 \u001b[0m\n",
       "──────┼───────────────────────────────────────────────────\n",
       "    1 │ Slav Defense: Exchange Variation   white        7\n",
       "    2 │ Nimzowitsch Defense: Kennedy Var…  black        2\n",
       "    3 │ King's Pawn Game: Leonardis Vari…  white       67\n",
       "    4 │ Queen's Pawn Game: Zukertort Var…  white       63\n",
       "    5 │ Philidor Defense                   white       84\n",
       "    6 │ Sicilian Defense: Mongoose Varia…  draw         1\n",
       "    7 │ Blackmar-Diemer Gambit: Pietrows…  white        2\n",
       "    8 │ Nimzowitsch Defense: Kennedy Var…  black       17\n",
       "  ⋮   │                 ⋮                     ⋮       ⋮\n",
       " 2733 │ Pirc Defense: Austrian Attack | …  black        1\n",
       " 2734 │ Queen's Indian Defense: Classica…  white        1\n",
       " 2735 │ Queen's Gambit Declined: Slav | …  white        1\n",
       " 2736 │ Pirc Defense: Austrian Attack | …  black        1\n",
       " 2737 │ Sicilian Defense: Najdorf Variat…  white        1\n",
       " 2738 │ English Opening: King's English …  draw         1\n",
       " 2739 │ Lion Defense: Anti-Philidor |  L…  white        1\n",
       "\u001b[36m                                         2724 rows omitted\u001b[0m"
      ]
     },
     "metadata": {},
     "output_type": "display_data"
    }
   ],
   "source": [
    "long_fmt = @chain chess begin\n",
    "    groupby([:opening_name,:winner])\n",
    "    combine(nrow)\n",
    "end"
   ]
  },
  {
   "cell_type": "markdown",
   "metadata": {},
   "source": [
    "We use the `unstack`function to create a wide format."
   ]
  },
  {
   "cell_type": "code",
   "execution_count": 14,
   "metadata": {},
   "outputs": [
    {
     "data": {
      "text/html": [
       "<div><div style = \"float: left;\"><span>1477×4 DataFrame</span></div><div style = \"float: right;\"><span style = \"font-style: italic;\">1452 rows omitted</span></div><div style = \"clear: both;\"></div></div><div class = \"data-frame\" style = \"overflow-x: scroll;\"><table class = \"data-frame\" style = \"margin-bottom: 6px;\"><thead><tr class = \"header\"><th class = \"rowNumber\" style = \"font-weight: bold; text-align: right;\">Row</th><th style = \"text-align: left;\">opening_name</th><th style = \"text-align: left;\">white</th><th style = \"text-align: left;\">black</th><th style = \"text-align: left;\">draw</th></tr><tr class = \"subheader headerLastRow\"><th class = \"rowNumber\" style = \"font-weight: bold; text-align: right;\"></th><th title = \"String\" style = \"text-align: left;\">String</th><th title = \"Int64\" style = \"text-align: left;\">Int64</th><th title = \"Int64\" style = \"text-align: left;\">Int64</th><th title = \"Int64\" style = \"text-align: left;\">Int64</th></tr></thead><tbody><tr><td class = \"rowNumber\" style = \"font-weight: bold; text-align: right;\">1</td><td style = \"text-align: left;\">Slav Defense: Exchange Variation</td><td style = \"text-align: right;\">7</td><td style = \"text-align: right;\">12</td><td style = \"text-align: right;\">0</td></tr><tr><td class = \"rowNumber\" style = \"font-weight: bold; text-align: right;\">2</td><td style = \"text-align: left;\">Nimzowitsch Defense: Kennedy Variation</td><td style = \"text-align: right;\">3</td><td style = \"text-align: right;\">2</td><td style = \"text-align: right;\">0</td></tr><tr><td class = \"rowNumber\" style = \"font-weight: bold; text-align: right;\">3</td><td style = \"text-align: left;\">King&apos;s Pawn Game: Leonardis Variation</td><td style = \"text-align: right;\">67</td><td style = \"text-align: right;\">83</td><td style = \"text-align: right;\">4</td></tr><tr><td class = \"rowNumber\" style = \"font-weight: bold; text-align: right;\">4</td><td style = \"text-align: left;\">Queen&apos;s Pawn Game: Zukertort Variation</td><td style = \"text-align: right;\">63</td><td style = \"text-align: right;\">44</td><td style = \"text-align: right;\">7</td></tr><tr><td class = \"rowNumber\" style = \"font-weight: bold; text-align: right;\">5</td><td style = \"text-align: left;\">Philidor Defense</td><td style = \"text-align: right;\">84</td><td style = \"text-align: right;\">42</td><td style = \"text-align: right;\">9</td></tr><tr><td class = \"rowNumber\" style = \"font-weight: bold; text-align: right;\">6</td><td style = \"text-align: left;\">Sicilian Defense: Mongoose Variation</td><td style = \"text-align: right;\">0</td><td style = \"text-align: right;\">0</td><td style = \"text-align: right;\">1</td></tr><tr><td class = \"rowNumber\" style = \"font-weight: bold; text-align: right;\">7</td><td style = \"text-align: left;\">Blackmar-Diemer Gambit: Pietrowsky Defense</td><td style = \"text-align: right;\">2</td><td style = \"text-align: right;\">0</td><td style = \"text-align: right;\">0</td></tr><tr><td class = \"rowNumber\" style = \"font-weight: bold; text-align: right;\">8</td><td style = \"text-align: left;\">Nimzowitsch Defense: Kennedy Variation |  Linksspringer Variation</td><td style = \"text-align: right;\">34</td><td style = \"text-align: right;\">17</td><td style = \"text-align: right;\">1</td></tr><tr><td class = \"rowNumber\" style = \"font-weight: bold; text-align: right;\">9</td><td style = \"text-align: left;\">Italian Game: Schilling-Kostic Gambit</td><td style = \"text-align: right;\">13</td><td style = \"text-align: right;\">25</td><td style = \"text-align: right;\">3</td></tr><tr><td class = \"rowNumber\" style = \"font-weight: bold; text-align: right;\">10</td><td style = \"text-align: left;\">Scandinavian Defense: Mieses-Kotroc Variation</td><td style = \"text-align: right;\">164</td><td style = \"text-align: right;\">89</td><td style = \"text-align: right;\">6</td></tr><tr><td class = \"rowNumber\" style = \"font-weight: bold; text-align: right;\">11</td><td style = \"text-align: left;\">Van&apos;t Kruijs Opening</td><td style = \"text-align: right;\">126</td><td style = \"text-align: right;\">226</td><td style = \"text-align: right;\">16</td></tr><tr><td class = \"rowNumber\" style = \"font-weight: bold; text-align: right;\">12</td><td style = \"text-align: left;\">French Defense: Advance Variation |  Paulsen Attack</td><td style = \"text-align: right;\">25</td><td style = \"text-align: right;\">24</td><td style = \"text-align: right;\">3</td></tr><tr><td class = \"rowNumber\" style = \"font-weight: bold; text-align: right;\">13</td><td style = \"text-align: left;\">French Defense: Knight Variation</td><td style = \"text-align: right;\">135</td><td style = \"text-align: right;\">121</td><td style = \"text-align: right;\">15</td></tr><tr><td style = \"text-align: right;\">&vellip;</td><td style = \"text-align: right;\">&vellip;</td><td style = \"text-align: right;\">&vellip;</td><td style = \"text-align: right;\">&vellip;</td><td style = \"text-align: right;\">&vellip;</td></tr><tr><td class = \"rowNumber\" style = \"font-weight: bold; text-align: right;\">1466</td><td style = \"text-align: left;\">Queen&apos;s Gambit Declined: Semi-Tarrasch Defense |  Exchange Variation</td><td style = \"text-align: right;\">1</td><td style = \"text-align: right;\">0</td><td style = \"text-align: right;\">0</td></tr><tr><td class = \"rowNumber\" style = \"font-weight: bold; text-align: right;\">1467</td><td style = \"text-align: left;\">Polish Opening: King&apos;s Indian Variation |  Schiffler Attack</td><td style = \"text-align: right;\">0</td><td style = \"text-align: right;\">1</td><td style = \"text-align: right;\">0</td></tr><tr><td class = \"rowNumber\" style = \"font-weight: bold; text-align: right;\">1468</td><td style = \"text-align: left;\">Queen&apos;s Gambit Refused: Baltic Defense |  Queen Attack</td><td style = \"text-align: right;\">0</td><td style = \"text-align: right;\">1</td><td style = \"text-align: right;\">0</td></tr><tr><td class = \"rowNumber\" style = \"font-weight: bold; text-align: right;\">1469</td><td style = \"text-align: left;\">King&apos;s Indian Defense: Orthodox Variation |  Bayonet Attack</td><td style = \"text-align: right;\">1</td><td style = \"text-align: right;\">0</td><td style = \"text-align: right;\">0</td></tr><tr><td class = \"rowNumber\" style = \"font-weight: bold; text-align: right;\">1470</td><td style = \"text-align: left;\">King&apos;s Gambit |  Falkbeer Countergambit |  Miles Gambit</td><td style = \"text-align: right;\">0</td><td style = \"text-align: right;\">1</td><td style = \"text-align: right;\">0</td></tr><tr><td class = \"rowNumber\" style = \"font-weight: bold; text-align: right;\">1471</td><td style = \"text-align: left;\">Ruy Lopez: Closed |  7...O-O</td><td style = \"text-align: right;\">1</td><td style = \"text-align: right;\">1</td><td style = \"text-align: right;\">0</td></tr><tr><td class = \"rowNumber\" style = \"font-weight: bold; text-align: right;\">1472</td><td style = \"text-align: left;\">Sicilian Defense: Najdorf Variation |  Neo-Classical Defense</td><td style = \"text-align: right;\">0</td><td style = \"text-align: right;\">0</td><td style = \"text-align: right;\">1</td></tr><tr><td class = \"rowNumber\" style = \"font-weight: bold; text-align: right;\">1473</td><td style = \"text-align: left;\">Sicilian Defense: Scheveningen Variation |  English Attack</td><td style = \"text-align: right;\">1</td><td style = \"text-align: right;\">0</td><td style = \"text-align: right;\">0</td></tr><tr><td class = \"rowNumber\" style = \"font-weight: bold; text-align: right;\">1474</td><td style = \"text-align: left;\">Pirc Defense: Austrian Attack |  Kurajica Variation</td><td style = \"text-align: right;\">0</td><td style = \"text-align: right;\">1</td><td style = \"text-align: right;\">0</td></tr><tr><td class = \"rowNumber\" style = \"font-weight: bold; text-align: right;\">1475</td><td style = \"text-align: left;\">Queen&apos;s Indian Defense: Classical Variation |  Traditional Variation</td><td style = \"text-align: right;\">1</td><td style = \"text-align: right;\">0</td><td style = \"text-align: right;\">0</td></tr><tr><td class = \"rowNumber\" style = \"font-weight: bold; text-align: right;\">1476</td><td style = \"text-align: left;\">Queen&apos;s Gambit Declined: Slav |  Dutch Variation</td><td style = \"text-align: right;\">1</td><td style = \"text-align: right;\">0</td><td style = \"text-align: right;\">0</td></tr><tr><td class = \"rowNumber\" style = \"font-weight: bold; text-align: right;\">1477</td><td style = \"text-align: left;\">Sicilian Defense: Najdorf Variation |  Polugaevsky Variation</td><td style = \"text-align: right;\">1</td><td style = \"text-align: right;\">0</td><td style = \"text-align: right;\">0</td></tr></tbody></table></div>"
      ],
      "text/latex": [
       "\\begin{tabular}{r|cccc}\n",
       "\t& opening\\_name & white & black & \\\\\n",
       "\t\\hline\n",
       "\t& String & Int64 & Int64 & \\\\\n",
       "\t\\hline\n",
       "\t1 & Slav Defense: Exchange Variation & 7 & 12 & $\\dots$ \\\\\n",
       "\t2 & Nimzowitsch Defense: Kennedy Variation & 3 & 2 & $\\dots$ \\\\\n",
       "\t3 & King's Pawn Game: Leonardis Variation & 67 & 83 & $\\dots$ \\\\\n",
       "\t4 & Queen's Pawn Game: Zukertort Variation & 63 & 44 & $\\dots$ \\\\\n",
       "\t5 & Philidor Defense & 84 & 42 & $\\dots$ \\\\\n",
       "\t6 & Sicilian Defense: Mongoose Variation & 0 & 0 & $\\dots$ \\\\\n",
       "\t7 & Blackmar-Diemer Gambit: Pietrowsky Defense & 2 & 0 & $\\dots$ \\\\\n",
       "\t8 & Nimzowitsch Defense: Kennedy Variation |  Linksspringer Variation & 34 & 17 & $\\dots$ \\\\\n",
       "\t9 & Italian Game: Schilling-Kostic Gambit & 13 & 25 & $\\dots$ \\\\\n",
       "\t10 & Scandinavian Defense: Mieses-Kotroc Variation & 164 & 89 & $\\dots$ \\\\\n",
       "\t11 & Van't Kruijs Opening & 126 & 226 & $\\dots$ \\\\\n",
       "\t12 & French Defense: Advance Variation |  Paulsen Attack & 25 & 24 & $\\dots$ \\\\\n",
       "\t13 & French Defense: Knight Variation & 135 & 121 & $\\dots$ \\\\\n",
       "\t14 & French Defense \\#2 & 48 & 53 & $\\dots$ \\\\\n",
       "\t15 & Four Knights Game: Italian Variation & 95 & 74 & $\\dots$ \\\\\n",
       "\t16 & Italian Game: Two Knights Defense |  Knight Attack & 13 & 2 & $\\dots$ \\\\\n",
       "\t17 & Philidor Defense \\#3 & 127 & 67 & $\\dots$ \\\\\n",
       "\t18 & Queen's Pawn Game & 53 & 83 & $\\dots$ \\\\\n",
       "\t19 & Italian Game: Anti-Fried Liver Defense & 97 & 73 & $\\dots$ \\\\\n",
       "\t20 & Horwitz Defense & 110 & 94 & $\\dots$ \\\\\n",
       "\t21 & Sicilian Defense: Bowdler Attack & 119 & 164 & $\\dots$ \\\\\n",
       "\t22 & English Opening: King's English Variation |  Reversed Closed Sicilian & 15 & 6 & $\\dots$ \\\\\n",
       "\t23 & Sicilian Defense: Smith-Morra Gambit \\#2 & 53 & 49 & $\\dots$ \\\\\n",
       "\t24 & Queen's Pawn Game: Chigorin Variation & 112 & 109 & $\\dots$ \\\\\n",
       "\t$\\dots$ & $\\dots$ & $\\dots$ & $\\dots$ &  \\\\\n",
       "\\end{tabular}\n"
      ],
      "text/plain": [
       "\u001b[1m1477×4 DataFrame\u001b[0m\n",
       "\u001b[1m  Row \u001b[0m│\u001b[1m opening_name                      \u001b[0m\u001b[1m white \u001b[0m\u001b[1m black \u001b[0m\u001b[1m draw  \u001b[0m\n",
       "      │\u001b[90m String                            \u001b[0m\u001b[90m Int64 \u001b[0m\u001b[90m Int64 \u001b[0m\u001b[90m Int64 \u001b[0m\n",
       "──────┼────────────────────────────────────────────────────────\n",
       "    1 │ Slav Defense: Exchange Variation       7     12      0\n",
       "    2 │ Nimzowitsch Defense: Kennedy Var…      3      2      0\n",
       "    3 │ King's Pawn Game: Leonardis Vari…     67     83      4\n",
       "    4 │ Queen's Pawn Game: Zukertort Var…     63     44      7\n",
       "    5 │ Philidor Defense                      84     42      9\n",
       "    6 │ Sicilian Defense: Mongoose Varia…      0      0      1\n",
       "    7 │ Blackmar-Diemer Gambit: Pietrows…      2      0      0\n",
       "    8 │ Nimzowitsch Defense: Kennedy Var…     34     17      1\n",
       "  ⋮   │                 ⋮                    ⋮      ⋮      ⋮\n",
       " 1471 │ Ruy Lopez: Closed |  7...O-O           1      1      0\n",
       " 1472 │ Sicilian Defense: Najdorf Variat…      0      0      1\n",
       " 1473 │ Sicilian Defense: Scheveningen V…      1      0      0\n",
       " 1474 │ Pirc Defense: Austrian Attack | …      0      1      0\n",
       " 1475 │ Queen's Indian Defense: Classica…      1      0      0\n",
       " 1476 │ Queen's Gambit Declined: Slav | …      1      0      0\n",
       " 1477 │ Sicilian Defense: Najdorf Variat…      1      0      0\n",
       "\u001b[36m                                              1462 rows omitted\u001b[0m"
      ]
     },
     "metadata": {},
     "output_type": "display_data"
    }
   ],
   "source": [
    "wide_fmt = unstack(long_fmt, :opening_name, :winner, :nrow; fill=0)"
   ]
  },
  {
   "cell_type": "markdown",
   "metadata": {},
   "source": [
    "To go back to long format we use the `stack`function."
   ]
  },
  {
   "cell_type": "code",
   "execution_count": 15,
   "metadata": {},
   "outputs": [
    {
     "data": {
      "text/html": [
       "<div><div style = \"float: left;\"><span>4431×3 DataFrame</span></div><div style = \"float: right;\"><span style = \"font-style: italic;\">4406 rows omitted</span></div><div style = \"clear: both;\"></div></div><div class = \"data-frame\" style = \"overflow-x: scroll;\"><table class = \"data-frame\" style = \"margin-bottom: 6px;\"><thead><tr class = \"header\"><th class = \"rowNumber\" style = \"font-weight: bold; text-align: right;\">Row</th><th style = \"text-align: left;\">opening_name</th><th style = \"text-align: left;\">variable</th><th style = \"text-align: left;\">value</th></tr><tr class = \"subheader headerLastRow\"><th class = \"rowNumber\" style = \"font-weight: bold; text-align: right;\"></th><th title = \"String\" style = \"text-align: left;\">String</th><th title = \"String\" style = \"text-align: left;\">String</th><th title = \"Int64\" style = \"text-align: left;\">Int64</th></tr></thead><tbody><tr><td class = \"rowNumber\" style = \"font-weight: bold; text-align: right;\">1</td><td style = \"text-align: left;\">Slav Defense: Exchange Variation</td><td style = \"text-align: left;\">white</td><td style = \"text-align: right;\">7</td></tr><tr><td class = \"rowNumber\" style = \"font-weight: bold; text-align: right;\">2</td><td style = \"text-align: left;\">Nimzowitsch Defense: Kennedy Variation</td><td style = \"text-align: left;\">white</td><td style = \"text-align: right;\">3</td></tr><tr><td class = \"rowNumber\" style = \"font-weight: bold; text-align: right;\">3</td><td style = \"text-align: left;\">King&apos;s Pawn Game: Leonardis Variation</td><td style = \"text-align: left;\">white</td><td style = \"text-align: right;\">67</td></tr><tr><td class = \"rowNumber\" style = \"font-weight: bold; text-align: right;\">4</td><td style = \"text-align: left;\">Queen&apos;s Pawn Game: Zukertort Variation</td><td style = \"text-align: left;\">white</td><td style = \"text-align: right;\">63</td></tr><tr><td class = \"rowNumber\" style = \"font-weight: bold; text-align: right;\">5</td><td style = \"text-align: left;\">Philidor Defense</td><td style = \"text-align: left;\">white</td><td style = \"text-align: right;\">84</td></tr><tr><td class = \"rowNumber\" style = \"font-weight: bold; text-align: right;\">6</td><td style = \"text-align: left;\">Sicilian Defense: Mongoose Variation</td><td style = \"text-align: left;\">white</td><td style = \"text-align: right;\">0</td></tr><tr><td class = \"rowNumber\" style = \"font-weight: bold; text-align: right;\">7</td><td style = \"text-align: left;\">Blackmar-Diemer Gambit: Pietrowsky Defense</td><td style = \"text-align: left;\">white</td><td style = \"text-align: right;\">2</td></tr><tr><td class = \"rowNumber\" style = \"font-weight: bold; text-align: right;\">8</td><td style = \"text-align: left;\">Nimzowitsch Defense: Kennedy Variation |  Linksspringer Variation</td><td style = \"text-align: left;\">white</td><td style = \"text-align: right;\">34</td></tr><tr><td class = \"rowNumber\" style = \"font-weight: bold; text-align: right;\">9</td><td style = \"text-align: left;\">Italian Game: Schilling-Kostic Gambit</td><td style = \"text-align: left;\">white</td><td style = \"text-align: right;\">13</td></tr><tr><td class = \"rowNumber\" style = \"font-weight: bold; text-align: right;\">10</td><td style = \"text-align: left;\">Scandinavian Defense: Mieses-Kotroc Variation</td><td style = \"text-align: left;\">white</td><td style = \"text-align: right;\">164</td></tr><tr><td class = \"rowNumber\" style = \"font-weight: bold; text-align: right;\">11</td><td style = \"text-align: left;\">Van&apos;t Kruijs Opening</td><td style = \"text-align: left;\">white</td><td style = \"text-align: right;\">126</td></tr><tr><td class = \"rowNumber\" style = \"font-weight: bold; text-align: right;\">12</td><td style = \"text-align: left;\">French Defense: Advance Variation |  Paulsen Attack</td><td style = \"text-align: left;\">white</td><td style = \"text-align: right;\">25</td></tr><tr><td class = \"rowNumber\" style = \"font-weight: bold; text-align: right;\">13</td><td style = \"text-align: left;\">French Defense: Knight Variation</td><td style = \"text-align: left;\">white</td><td style = \"text-align: right;\">135</td></tr><tr><td style = \"text-align: right;\">&vellip;</td><td style = \"text-align: right;\">&vellip;</td><td style = \"text-align: right;\">&vellip;</td><td style = \"text-align: right;\">&vellip;</td></tr><tr><td class = \"rowNumber\" style = \"font-weight: bold; text-align: right;\">4420</td><td style = \"text-align: left;\">Queen&apos;s Gambit Declined: Semi-Tarrasch Defense |  Exchange Variation</td><td style = \"text-align: left;\">draw</td><td style = \"text-align: right;\">0</td></tr><tr><td class = \"rowNumber\" style = \"font-weight: bold; text-align: right;\">4421</td><td style = \"text-align: left;\">Polish Opening: King&apos;s Indian Variation |  Schiffler Attack</td><td style = \"text-align: left;\">draw</td><td style = \"text-align: right;\">0</td></tr><tr><td class = \"rowNumber\" style = \"font-weight: bold; text-align: right;\">4422</td><td style = \"text-align: left;\">Queen&apos;s Gambit Refused: Baltic Defense |  Queen Attack</td><td style = \"text-align: left;\">draw</td><td style = \"text-align: right;\">0</td></tr><tr><td class = \"rowNumber\" style = \"font-weight: bold; text-align: right;\">4423</td><td style = \"text-align: left;\">King&apos;s Indian Defense: Orthodox Variation |  Bayonet Attack</td><td style = \"text-align: left;\">draw</td><td style = \"text-align: right;\">0</td></tr><tr><td class = \"rowNumber\" style = \"font-weight: bold; text-align: right;\">4424</td><td style = \"text-align: left;\">King&apos;s Gambit |  Falkbeer Countergambit |  Miles Gambit</td><td style = \"text-align: left;\">draw</td><td style = \"text-align: right;\">0</td></tr><tr><td class = \"rowNumber\" style = \"font-weight: bold; text-align: right;\">4425</td><td style = \"text-align: left;\">Ruy Lopez: Closed |  7...O-O</td><td style = \"text-align: left;\">draw</td><td style = \"text-align: right;\">0</td></tr><tr><td class = \"rowNumber\" style = \"font-weight: bold; text-align: right;\">4426</td><td style = \"text-align: left;\">Sicilian Defense: Najdorf Variation |  Neo-Classical Defense</td><td style = \"text-align: left;\">draw</td><td style = \"text-align: right;\">1</td></tr><tr><td class = \"rowNumber\" style = \"font-weight: bold; text-align: right;\">4427</td><td style = \"text-align: left;\">Sicilian Defense: Scheveningen Variation |  English Attack</td><td style = \"text-align: left;\">draw</td><td style = \"text-align: right;\">0</td></tr><tr><td class = \"rowNumber\" style = \"font-weight: bold; text-align: right;\">4428</td><td style = \"text-align: left;\">Pirc Defense: Austrian Attack |  Kurajica Variation</td><td style = \"text-align: left;\">draw</td><td style = \"text-align: right;\">0</td></tr><tr><td class = \"rowNumber\" style = \"font-weight: bold; text-align: right;\">4429</td><td style = \"text-align: left;\">Queen&apos;s Indian Defense: Classical Variation |  Traditional Variation</td><td style = \"text-align: left;\">draw</td><td style = \"text-align: right;\">0</td></tr><tr><td class = \"rowNumber\" style = \"font-weight: bold; text-align: right;\">4430</td><td style = \"text-align: left;\">Queen&apos;s Gambit Declined: Slav |  Dutch Variation</td><td style = \"text-align: left;\">draw</td><td style = \"text-align: right;\">0</td></tr><tr><td class = \"rowNumber\" style = \"font-weight: bold; text-align: right;\">4431</td><td style = \"text-align: left;\">Sicilian Defense: Najdorf Variation |  Polugaevsky Variation</td><td style = \"text-align: left;\">draw</td><td style = \"text-align: right;\">0</td></tr></tbody></table></div>"
      ],
      "text/latex": [
       "\\begin{tabular}{r|ccc}\n",
       "\t& opening\\_name & variable & \\\\\n",
       "\t\\hline\n",
       "\t& String & String & \\\\\n",
       "\t\\hline\n",
       "\t1 & Slav Defense: Exchange Variation & white & $\\dots$ \\\\\n",
       "\t2 & Nimzowitsch Defense: Kennedy Variation & white & $\\dots$ \\\\\n",
       "\t3 & King's Pawn Game: Leonardis Variation & white & $\\dots$ \\\\\n",
       "\t4 & Queen's Pawn Game: Zukertort Variation & white & $\\dots$ \\\\\n",
       "\t5 & Philidor Defense & white & $\\dots$ \\\\\n",
       "\t6 & Sicilian Defense: Mongoose Variation & white & $\\dots$ \\\\\n",
       "\t7 & Blackmar-Diemer Gambit: Pietrowsky Defense & white & $\\dots$ \\\\\n",
       "\t8 & Nimzowitsch Defense: Kennedy Variation |  Linksspringer Variation & white & $\\dots$ \\\\\n",
       "\t9 & Italian Game: Schilling-Kostic Gambit & white & $\\dots$ \\\\\n",
       "\t10 & Scandinavian Defense: Mieses-Kotroc Variation & white & $\\dots$ \\\\\n",
       "\t11 & Van't Kruijs Opening & white & $\\dots$ \\\\\n",
       "\t12 & French Defense: Advance Variation |  Paulsen Attack & white & $\\dots$ \\\\\n",
       "\t13 & French Defense: Knight Variation & white & $\\dots$ \\\\\n",
       "\t14 & French Defense \\#2 & white & $\\dots$ \\\\\n",
       "\t15 & Four Knights Game: Italian Variation & white & $\\dots$ \\\\\n",
       "\t16 & Italian Game: Two Knights Defense |  Knight Attack & white & $\\dots$ \\\\\n",
       "\t17 & Philidor Defense \\#3 & white & $\\dots$ \\\\\n",
       "\t18 & Queen's Pawn Game & white & $\\dots$ \\\\\n",
       "\t19 & Italian Game: Anti-Fried Liver Defense & white & $\\dots$ \\\\\n",
       "\t20 & Horwitz Defense & white & $\\dots$ \\\\\n",
       "\t21 & Sicilian Defense: Bowdler Attack & white & $\\dots$ \\\\\n",
       "\t22 & English Opening: King's English Variation |  Reversed Closed Sicilian & white & $\\dots$ \\\\\n",
       "\t23 & Sicilian Defense: Smith-Morra Gambit \\#2 & white & $\\dots$ \\\\\n",
       "\t24 & Queen's Pawn Game: Chigorin Variation & white & $\\dots$ \\\\\n",
       "\t$\\dots$ & $\\dots$ & $\\dots$ &  \\\\\n",
       "\\end{tabular}\n"
      ],
      "text/plain": [
       "\u001b[1m4431×3 DataFrame\u001b[0m\n",
       "\u001b[1m  Row \u001b[0m│\u001b[1m opening_name                      \u001b[0m\u001b[1m variable \u001b[0m\u001b[1m value \u001b[0m\n",
       "      │\u001b[90m String                            \u001b[0m\u001b[90m String   \u001b[0m\u001b[90m Int64 \u001b[0m\n",
       "──────┼────────────────────────────────────────────────────\n",
       "    1 │ Slav Defense: Exchange Variation   white         7\n",
       "    2 │ Nimzowitsch Defense: Kennedy Var…  white         3\n",
       "    3 │ King's Pawn Game: Leonardis Vari…  white        67\n",
       "    4 │ Queen's Pawn Game: Zukertort Var…  white        63\n",
       "    5 │ Philidor Defense                   white        84\n",
       "    6 │ Sicilian Defense: Mongoose Varia…  white         0\n",
       "    7 │ Blackmar-Diemer Gambit: Pietrows…  white         2\n",
       "    8 │ Nimzowitsch Defense: Kennedy Var…  white        34\n",
       "  ⋮   │                 ⋮                     ⋮        ⋮\n",
       " 4425 │ Ruy Lopez: Closed |  7...O-O       draw          0\n",
       " 4426 │ Sicilian Defense: Najdorf Variat…  draw          1\n",
       " 4427 │ Sicilian Defense: Scheveningen V…  draw          0\n",
       " 4428 │ Pirc Defense: Austrian Attack | …  draw          0\n",
       " 4429 │ Queen's Indian Defense: Classica…  draw          0\n",
       " 4430 │ Queen's Gambit Declined: Slav | …  draw          0\n",
       " 4431 │ Sicilian Defense: Najdorf Variat…  draw          0\n",
       "\u001b[36m                                          4416 rows omitted\u001b[0m"
      ]
     },
     "metadata": {},
     "output_type": "display_data"
    }
   ],
   "source": [
    "long_fmt = stack(wide_fmt, [:white, :black, :draw ])"
   ]
  },
  {
   "cell_type": "markdown",
   "metadata": {},
   "source": [
    "### Joins"
   ]
  },
  {
   "cell_type": "code",
   "execution_count": 17,
   "metadata": {},
   "outputs": [
    {
     "data": {
      "text/html": [
       "<div><div style = \"float: left;\"><span>8362×5 DataFrame</span></div><div style = \"float: right;\"><span style = \"font-style: italic;\">8337 rows omitted</span></div><div style = \"clear: both;\"></div></div><div class = \"data-frame\" style = \"overflow-x: scroll;\"><table class = \"data-frame\" style = \"margin-bottom: 6px;\"><thead><tr class = \"header\"><th class = \"rowNumber\" style = \"font-weight: bold; text-align: right;\">Row</th><th style = \"text-align: left;\">Id</th><th style = \"text-align: left;\">Sire</th><th style = \"text-align: left;\">Dam</th><th style = \"text-align: left;\">Year_Class</th><th style = \"text-align: left;\">Selected_gen</th></tr><tr class = \"subheader headerLastRow\"><th class = \"rowNumber\" style = \"font-weight: bold; text-align: right;\"></th><th title = \"Int64\" style = \"text-align: left;\">Int64</th><th title = \"String7\" style = \"text-align: left;\">String7</th><th title = \"String7\" style = \"text-align: left;\">String7</th><th title = \"Int64\" style = \"text-align: left;\">Int64</th><th title = \"Int64\" style = \"text-align: left;\">Int64</th></tr></thead><tbody><tr><td class = \"rowNumber\" style = \"font-weight: bold; text-align: right;\">1</td><td style = \"text-align: right;\">478665</td><td style = \"text-align: left;\">0</td><td style = \"text-align: left;\">0</td><td style = \"text-align: right;\">2013</td><td style = \"text-align: right;\">7</td></tr><tr><td class = \"rowNumber\" style = \"font-weight: bold; text-align: right;\">2</td><td style = \"text-align: right;\">478620</td><td style = \"text-align: left;\">0</td><td style = \"text-align: left;\">0</td><td style = \"text-align: right;\">2013</td><td style = \"text-align: right;\">7</td></tr><tr><td class = \"rowNumber\" style = \"font-weight: bold; text-align: right;\">3</td><td style = \"text-align: right;\">478601</td><td style = \"text-align: left;\">02F49B</td><td style = \"text-align: left;\">01FD38</td><td style = \"text-align: right;\">2013</td><td style = \"text-align: right;\">7</td></tr><tr><td class = \"rowNumber\" style = \"font-weight: bold; text-align: right;\">4</td><td style = \"text-align: right;\">478656</td><td style = \"text-align: left;\">02F49B</td><td style = \"text-align: left;\">01FD38</td><td style = \"text-align: right;\">2013</td><td style = \"text-align: right;\">7</td></tr><tr><td class = \"rowNumber\" style = \"font-weight: bold; text-align: right;\">5</td><td style = \"text-align: right;\">478671</td><td style = \"text-align: left;\">02F49B</td><td style = \"text-align: left;\">01FD38</td><td style = \"text-align: right;\">2013</td><td style = \"text-align: right;\">7</td></tr><tr><td class = \"rowNumber\" style = \"font-weight: bold; text-align: right;\">6</td><td style = \"text-align: right;\">478651</td><td style = \"text-align: left;\">02F49B</td><td style = \"text-align: left;\">01FD38</td><td style = \"text-align: right;\">2013</td><td style = \"text-align: right;\">7</td></tr><tr><td class = \"rowNumber\" style = \"font-weight: bold; text-align: right;\">7</td><td style = \"text-align: right;\">478660</td><td style = \"text-align: left;\">0</td><td style = \"text-align: left;\">0</td><td style = \"text-align: right;\">2013</td><td style = \"text-align: right;\">7</td></tr><tr><td class = \"rowNumber\" style = \"font-weight: bold; text-align: right;\">8</td><td style = \"text-align: right;\">478667</td><td style = \"text-align: left;\">02F49B</td><td style = \"text-align: left;\">01FD38</td><td style = \"text-align: right;\">2013</td><td style = \"text-align: right;\">7</td></tr><tr><td class = \"rowNumber\" style = \"font-weight: bold; text-align: right;\">9</td><td style = \"text-align: right;\">478649</td><td style = \"text-align: left;\">02F49B</td><td style = \"text-align: left;\">01FD38</td><td style = \"text-align: right;\">2013</td><td style = \"text-align: right;\">7</td></tr><tr><td class = \"rowNumber\" style = \"font-weight: bold; text-align: right;\">10</td><td style = \"text-align: right;\">478661</td><td style = \"text-align: left;\">02F49B</td><td style = \"text-align: left;\">01FD38</td><td style = \"text-align: right;\">2013</td><td style = \"text-align: right;\">7</td></tr><tr><td class = \"rowNumber\" style = \"font-weight: bold; text-align: right;\">11</td><td style = \"text-align: right;\">478610</td><td style = \"text-align: left;\">02F49B</td><td style = \"text-align: left;\">01FD38</td><td style = \"text-align: right;\">2013</td><td style = \"text-align: right;\">7</td></tr><tr><td class = \"rowNumber\" style = \"font-weight: bold; text-align: right;\">12</td><td style = \"text-align: right;\">478642</td><td style = \"text-align: left;\">02F49B</td><td style = \"text-align: left;\">01FD38</td><td style = \"text-align: right;\">2013</td><td style = \"text-align: right;\">7</td></tr><tr><td class = \"rowNumber\" style = \"font-weight: bold; text-align: right;\">13</td><td style = \"text-align: right;\">478612</td><td style = \"text-align: left;\">02F49B</td><td style = \"text-align: left;\">01FD38</td><td style = \"text-align: right;\">2013</td><td style = \"text-align: right;\">7</td></tr><tr><td style = \"text-align: right;\">&vellip;</td><td style = \"text-align: right;\">&vellip;</td><td style = \"text-align: right;\">&vellip;</td><td style = \"text-align: right;\">&vellip;</td><td style = \"text-align: right;\">&vellip;</td><td style = \"text-align: right;\">&vellip;</td></tr><tr><td class = \"rowNumber\" style = \"font-weight: bold; text-align: right;\">8351</td><td style = \"text-align: right;\">919271</td><td style = \"text-align: left;\">597579</td><td style = \"text-align: left;\">900730</td><td style = \"text-align: right;\">2017</td><td style = \"text-align: right;\">8</td></tr><tr><td class = \"rowNumber\" style = \"font-weight: bold; text-align: right;\">8352</td><td style = \"text-align: right;\">919555</td><td style = \"text-align: left;\">597579</td><td style = \"text-align: left;\">900730</td><td style = \"text-align: right;\">2017</td><td style = \"text-align: right;\">8</td></tr><tr><td class = \"rowNumber\" style = \"font-weight: bold; text-align: right;\">8353</td><td style = \"text-align: right;\">919343</td><td style = \"text-align: left;\">597579</td><td style = \"text-align: left;\">900730</td><td style = \"text-align: right;\">2017</td><td style = \"text-align: right;\">8</td></tr><tr><td class = \"rowNumber\" style = \"font-weight: bold; text-align: right;\">8354</td><td style = \"text-align: right;\">918821</td><td style = \"text-align: left;\">597579</td><td style = \"text-align: left;\">900730</td><td style = \"text-align: right;\">2017</td><td style = \"text-align: right;\">8</td></tr><tr><td class = \"rowNumber\" style = \"font-weight: bold; text-align: right;\">8355</td><td style = \"text-align: right;\">918677</td><td style = \"text-align: left;\">597579</td><td style = \"text-align: left;\">900730</td><td style = \"text-align: right;\">2017</td><td style = \"text-align: right;\">8</td></tr><tr><td class = \"rowNumber\" style = \"font-weight: bold; text-align: right;\">8356</td><td style = \"text-align: right;\">918925</td><td style = \"text-align: left;\">597579</td><td style = \"text-align: left;\">900730</td><td style = \"text-align: right;\">2017</td><td style = \"text-align: right;\">8</td></tr><tr><td class = \"rowNumber\" style = \"font-weight: bold; text-align: right;\">8357</td><td style = \"text-align: right;\">919071</td><td style = \"text-align: left;\">597579</td><td style = \"text-align: left;\">900730</td><td style = \"text-align: right;\">2017</td><td style = \"text-align: right;\">8</td></tr><tr><td class = \"rowNumber\" style = \"font-weight: bold; text-align: right;\">8358</td><td style = \"text-align: right;\">919218</td><td style = \"text-align: left;\">597579</td><td style = \"text-align: left;\">900730</td><td style = \"text-align: right;\">2017</td><td style = \"text-align: right;\">8</td></tr><tr><td class = \"rowNumber\" style = \"font-weight: bold; text-align: right;\">8359</td><td style = \"text-align: right;\">919013</td><td style = \"text-align: left;\">597579</td><td style = \"text-align: left;\">900730</td><td style = \"text-align: right;\">2017</td><td style = \"text-align: right;\">8</td></tr><tr><td class = \"rowNumber\" style = \"font-weight: bold; text-align: right;\">8360</td><td style = \"text-align: right;\">919448</td><td style = \"text-align: left;\">597579</td><td style = \"text-align: left;\">900730</td><td style = \"text-align: right;\">2017</td><td style = \"text-align: right;\">8</td></tr><tr><td class = \"rowNumber\" style = \"font-weight: bold; text-align: right;\">8361</td><td style = \"text-align: right;\">919246</td><td style = \"text-align: left;\">597579</td><td style = \"text-align: left;\">900730</td><td style = \"text-align: right;\">2017</td><td style = \"text-align: right;\">8</td></tr><tr><td class = \"rowNumber\" style = \"font-weight: bold; text-align: right;\">8362</td><td style = \"text-align: right;\">919420</td><td style = \"text-align: left;\">597579</td><td style = \"text-align: left;\">900730</td><td style = \"text-align: right;\">2017</td><td style = \"text-align: right;\">8</td></tr></tbody></table></div>"
      ],
      "text/latex": [
       "\\begin{tabular}{r|ccccc}\n",
       "\t& Id & Sire & Dam & Year\\_Class & Selected\\_gen\\\\\n",
       "\t\\hline\n",
       "\t& Int64 & String7 & String7 & Int64 & Int64\\\\\n",
       "\t\\hline\n",
       "\t1 & 478665 & 0 & 0 & 2013 & 7 \\\\\n",
       "\t2 & 478620 & 0 & 0 & 2013 & 7 \\\\\n",
       "\t3 & 478601 & 02F49B & 01FD38 & 2013 & 7 \\\\\n",
       "\t4 & 478656 & 02F49B & 01FD38 & 2013 & 7 \\\\\n",
       "\t5 & 478671 & 02F49B & 01FD38 & 2013 & 7 \\\\\n",
       "\t6 & 478651 & 02F49B & 01FD38 & 2013 & 7 \\\\\n",
       "\t7 & 478660 & 0 & 0 & 2013 & 7 \\\\\n",
       "\t8 & 478667 & 02F49B & 01FD38 & 2013 & 7 \\\\\n",
       "\t9 & 478649 & 02F49B & 01FD38 & 2013 & 7 \\\\\n",
       "\t10 & 478661 & 02F49B & 01FD38 & 2013 & 7 \\\\\n",
       "\t11 & 478610 & 02F49B & 01FD38 & 2013 & 7 \\\\\n",
       "\t12 & 478642 & 02F49B & 01FD38 & 2013 & 7 \\\\\n",
       "\t13 & 478612 & 02F49B & 01FD38 & 2013 & 7 \\\\\n",
       "\t14 & 478644 & 02F49B & 01FD38 & 2013 & 7 \\\\\n",
       "\t15 & 478637 & 02F49B & 01FD38 & 2013 & 7 \\\\\n",
       "\t16 & 478666 & 02F49B & 01FD38 & 2013 & 7 \\\\\n",
       "\t17 & 478630 & 02F49B & 01FD38 & 2013 & 7 \\\\\n",
       "\t18 & 478623 & 02F49B & 01FD38 & 2013 & 7 \\\\\n",
       "\t19 & 478639 & 02F49B & 01FD38 & 2013 & 7 \\\\\n",
       "\t20 & 478629 & 02F49B & 01FD38 & 2013 & 7 \\\\\n",
       "\t21 & 478569 & 02F49B & 01FD38 & 2013 & 7 \\\\\n",
       "\t22 & 478654 & 02F49B & 01FD38 & 2013 & 7 \\\\\n",
       "\t23 & 478657 & 02F49B & 01FD38 & 2013 & 7 \\\\\n",
       "\t24 & 478575 & 02F49B & 01FD38 & 2013 & 7 \\\\\n",
       "\t$\\dots$ & $\\dots$ & $\\dots$ & $\\dots$ & $\\dots$ & $\\dots$ \\\\\n",
       "\\end{tabular}\n"
      ],
      "text/plain": [
       "\u001b[1m8362×5 DataFrame\u001b[0m\n",
       "\u001b[1m  Row \u001b[0m│\u001b[1m Id     \u001b[0m\u001b[1m Sire    \u001b[0m\u001b[1m Dam     \u001b[0m\u001b[1m Year_Class \u001b[0m\u001b[1m Selected_gen \u001b[0m\n",
       "      │\u001b[90m Int64  \u001b[0m\u001b[90m String7 \u001b[0m\u001b[90m String7 \u001b[0m\u001b[90m Int64      \u001b[0m\u001b[90m Int64        \u001b[0m\n",
       "──────┼────────────────────────────────────────────────────\n",
       "    1 │ 478665  0        0              2013             7\n",
       "    2 │ 478620  0        0              2013             7\n",
       "    3 │ 478601  02F49B   01FD38         2013             7\n",
       "    4 │ 478656  02F49B   01FD38         2013             7\n",
       "    5 │ 478671  02F49B   01FD38         2013             7\n",
       "    6 │ 478651  02F49B   01FD38         2013             7\n",
       "    7 │ 478660  0        0              2013             7\n",
       "    8 │ 478667  02F49B   01FD38         2013             7\n",
       "  ⋮   │   ⋮        ⋮        ⋮         ⋮            ⋮\n",
       " 8356 │ 918925  597579   900730         2017             8\n",
       " 8357 │ 919071  597579   900730         2017             8\n",
       " 8358 │ 919218  597579   900730         2017             8\n",
       " 8359 │ 919013  597579   900730         2017             8\n",
       " 8360 │ 919448  597579   900730         2017             8\n",
       " 8361 │ 919246  597579   900730         2017             8\n",
       " 8362 │ 919420  597579   900730         2017             8\n",
       "\u001b[36m                                          8347 rows omitted\u001b[0m"
      ]
     },
     "metadata": {},
     "output_type": "display_data"
    }
   ],
   "source": [
    "pedigree = CSV.read(\"ac_ped.txt\", DataFrame; delim=\"\\t\")"
   ]
  },
  {
   "cell_type": "code",
   "execution_count": 18,
   "metadata": {},
   "outputs": [],
   "source": [
    "pedigree.Id = string.(pedigree.Id);"
   ]
  },
  {
   "cell_type": "code",
   "execution_count": 19,
   "metadata": {},
   "outputs": [
    {
     "data": {
      "text/html": [
       "<div><div style = \"float: left;\"><span>8362×5 DataFrame</span></div><div style = \"float: right;\"><span style = \"font-style: italic;\">8337 rows omitted</span></div><div style = \"clear: both;\"></div></div><div class = \"data-frame\" style = \"overflow-x: scroll;\"><table class = \"data-frame\" style = \"margin-bottom: 6px;\"><thead><tr class = \"header\"><th class = \"rowNumber\" style = \"font-weight: bold; text-align: right;\">Row</th><th style = \"text-align: left;\">Id</th><th style = \"text-align: left;\">Sire</th><th style = \"text-align: left;\">Dam</th><th style = \"text-align: left;\">Year_Class</th><th style = \"text-align: left;\">Selected_gen</th></tr><tr class = \"subheader headerLastRow\"><th class = \"rowNumber\" style = \"font-weight: bold; text-align: right;\"></th><th title = \"String\" style = \"text-align: left;\">String</th><th title = \"String7\" style = \"text-align: left;\">String7</th><th title = \"String7\" style = \"text-align: left;\">String7</th><th title = \"Int64\" style = \"text-align: left;\">Int64</th><th title = \"Int64\" style = \"text-align: left;\">Int64</th></tr></thead><tbody><tr><td class = \"rowNumber\" style = \"font-weight: bold; text-align: right;\">1</td><td style = \"text-align: left;\">478665</td><td style = \"text-align: left;\">0</td><td style = \"text-align: left;\">0</td><td style = \"text-align: right;\">2013</td><td style = \"text-align: right;\">7</td></tr><tr><td class = \"rowNumber\" style = \"font-weight: bold; text-align: right;\">2</td><td style = \"text-align: left;\">478620</td><td style = \"text-align: left;\">0</td><td style = \"text-align: left;\">0</td><td style = \"text-align: right;\">2013</td><td style = \"text-align: right;\">7</td></tr><tr><td class = \"rowNumber\" style = \"font-weight: bold; text-align: right;\">3</td><td style = \"text-align: left;\">478601</td><td style = \"text-align: left;\">02F49B</td><td style = \"text-align: left;\">01FD38</td><td style = \"text-align: right;\">2013</td><td style = \"text-align: right;\">7</td></tr><tr><td class = \"rowNumber\" style = \"font-weight: bold; text-align: right;\">4</td><td style = \"text-align: left;\">478656</td><td style = \"text-align: left;\">02F49B</td><td style = \"text-align: left;\">01FD38</td><td style = \"text-align: right;\">2013</td><td style = \"text-align: right;\">7</td></tr><tr><td class = \"rowNumber\" style = \"font-weight: bold; text-align: right;\">5</td><td style = \"text-align: left;\">478671</td><td style = \"text-align: left;\">02F49B</td><td style = \"text-align: left;\">01FD38</td><td style = \"text-align: right;\">2013</td><td style = \"text-align: right;\">7</td></tr><tr><td class = \"rowNumber\" style = \"font-weight: bold; text-align: right;\">6</td><td style = \"text-align: left;\">478651</td><td style = \"text-align: left;\">02F49B</td><td style = \"text-align: left;\">01FD38</td><td style = \"text-align: right;\">2013</td><td style = \"text-align: right;\">7</td></tr><tr><td class = \"rowNumber\" style = \"font-weight: bold; text-align: right;\">7</td><td style = \"text-align: left;\">478660</td><td style = \"text-align: left;\">0</td><td style = \"text-align: left;\">0</td><td style = \"text-align: right;\">2013</td><td style = \"text-align: right;\">7</td></tr><tr><td class = \"rowNumber\" style = \"font-weight: bold; text-align: right;\">8</td><td style = \"text-align: left;\">478667</td><td style = \"text-align: left;\">02F49B</td><td style = \"text-align: left;\">01FD38</td><td style = \"text-align: right;\">2013</td><td style = \"text-align: right;\">7</td></tr><tr><td class = \"rowNumber\" style = \"font-weight: bold; text-align: right;\">9</td><td style = \"text-align: left;\">478649</td><td style = \"text-align: left;\">02F49B</td><td style = \"text-align: left;\">01FD38</td><td style = \"text-align: right;\">2013</td><td style = \"text-align: right;\">7</td></tr><tr><td class = \"rowNumber\" style = \"font-weight: bold; text-align: right;\">10</td><td style = \"text-align: left;\">478661</td><td style = \"text-align: left;\">02F49B</td><td style = \"text-align: left;\">01FD38</td><td style = \"text-align: right;\">2013</td><td style = \"text-align: right;\">7</td></tr><tr><td class = \"rowNumber\" style = \"font-weight: bold; text-align: right;\">11</td><td style = \"text-align: left;\">478610</td><td style = \"text-align: left;\">02F49B</td><td style = \"text-align: left;\">01FD38</td><td style = \"text-align: right;\">2013</td><td style = \"text-align: right;\">7</td></tr><tr><td class = \"rowNumber\" style = \"font-weight: bold; text-align: right;\">12</td><td style = \"text-align: left;\">478642</td><td style = \"text-align: left;\">02F49B</td><td style = \"text-align: left;\">01FD38</td><td style = \"text-align: right;\">2013</td><td style = \"text-align: right;\">7</td></tr><tr><td class = \"rowNumber\" style = \"font-weight: bold; text-align: right;\">13</td><td style = \"text-align: left;\">478612</td><td style = \"text-align: left;\">02F49B</td><td style = \"text-align: left;\">01FD38</td><td style = \"text-align: right;\">2013</td><td style = \"text-align: right;\">7</td></tr><tr><td style = \"text-align: right;\">&vellip;</td><td style = \"text-align: right;\">&vellip;</td><td style = \"text-align: right;\">&vellip;</td><td style = \"text-align: right;\">&vellip;</td><td style = \"text-align: right;\">&vellip;</td><td style = \"text-align: right;\">&vellip;</td></tr><tr><td class = \"rowNumber\" style = \"font-weight: bold; text-align: right;\">8351</td><td style = \"text-align: left;\">919271</td><td style = \"text-align: left;\">597579</td><td style = \"text-align: left;\">900730</td><td style = \"text-align: right;\">2017</td><td style = \"text-align: right;\">8</td></tr><tr><td class = \"rowNumber\" style = \"font-weight: bold; text-align: right;\">8352</td><td style = \"text-align: left;\">919555</td><td style = \"text-align: left;\">597579</td><td style = \"text-align: left;\">900730</td><td style = \"text-align: right;\">2017</td><td style = \"text-align: right;\">8</td></tr><tr><td class = \"rowNumber\" style = \"font-weight: bold; text-align: right;\">8353</td><td style = \"text-align: left;\">919343</td><td style = \"text-align: left;\">597579</td><td style = \"text-align: left;\">900730</td><td style = \"text-align: right;\">2017</td><td style = \"text-align: right;\">8</td></tr><tr><td class = \"rowNumber\" style = \"font-weight: bold; text-align: right;\">8354</td><td style = \"text-align: left;\">918821</td><td style = \"text-align: left;\">597579</td><td style = \"text-align: left;\">900730</td><td style = \"text-align: right;\">2017</td><td style = \"text-align: right;\">8</td></tr><tr><td class = \"rowNumber\" style = \"font-weight: bold; text-align: right;\">8355</td><td style = \"text-align: left;\">918677</td><td style = \"text-align: left;\">597579</td><td style = \"text-align: left;\">900730</td><td style = \"text-align: right;\">2017</td><td style = \"text-align: right;\">8</td></tr><tr><td class = \"rowNumber\" style = \"font-weight: bold; text-align: right;\">8356</td><td style = \"text-align: left;\">918925</td><td style = \"text-align: left;\">597579</td><td style = \"text-align: left;\">900730</td><td style = \"text-align: right;\">2017</td><td style = \"text-align: right;\">8</td></tr><tr><td class = \"rowNumber\" style = \"font-weight: bold; text-align: right;\">8357</td><td style = \"text-align: left;\">919071</td><td style = \"text-align: left;\">597579</td><td style = \"text-align: left;\">900730</td><td style = \"text-align: right;\">2017</td><td style = \"text-align: right;\">8</td></tr><tr><td class = \"rowNumber\" style = \"font-weight: bold; text-align: right;\">8358</td><td style = \"text-align: left;\">919218</td><td style = \"text-align: left;\">597579</td><td style = \"text-align: left;\">900730</td><td style = \"text-align: right;\">2017</td><td style = \"text-align: right;\">8</td></tr><tr><td class = \"rowNumber\" style = \"font-weight: bold; text-align: right;\">8359</td><td style = \"text-align: left;\">919013</td><td style = \"text-align: left;\">597579</td><td style = \"text-align: left;\">900730</td><td style = \"text-align: right;\">2017</td><td style = \"text-align: right;\">8</td></tr><tr><td class = \"rowNumber\" style = \"font-weight: bold; text-align: right;\">8360</td><td style = \"text-align: left;\">919448</td><td style = \"text-align: left;\">597579</td><td style = \"text-align: left;\">900730</td><td style = \"text-align: right;\">2017</td><td style = \"text-align: right;\">8</td></tr><tr><td class = \"rowNumber\" style = \"font-weight: bold; text-align: right;\">8361</td><td style = \"text-align: left;\">919246</td><td style = \"text-align: left;\">597579</td><td style = \"text-align: left;\">900730</td><td style = \"text-align: right;\">2017</td><td style = \"text-align: right;\">8</td></tr><tr><td class = \"rowNumber\" style = \"font-weight: bold; text-align: right;\">8362</td><td style = \"text-align: left;\">919420</td><td style = \"text-align: left;\">597579</td><td style = \"text-align: left;\">900730</td><td style = \"text-align: right;\">2017</td><td style = \"text-align: right;\">8</td></tr></tbody></table></div>"
      ],
      "text/latex": [
       "\\begin{tabular}{r|ccccc}\n",
       "\t& Id & Sire & Dam & Year\\_Class & Selected\\_gen\\\\\n",
       "\t\\hline\n",
       "\t& String & String7 & String7 & Int64 & Int64\\\\\n",
       "\t\\hline\n",
       "\t1 & 478665 & 0 & 0 & 2013 & 7 \\\\\n",
       "\t2 & 478620 & 0 & 0 & 2013 & 7 \\\\\n",
       "\t3 & 478601 & 02F49B & 01FD38 & 2013 & 7 \\\\\n",
       "\t4 & 478656 & 02F49B & 01FD38 & 2013 & 7 \\\\\n",
       "\t5 & 478671 & 02F49B & 01FD38 & 2013 & 7 \\\\\n",
       "\t6 & 478651 & 02F49B & 01FD38 & 2013 & 7 \\\\\n",
       "\t7 & 478660 & 0 & 0 & 2013 & 7 \\\\\n",
       "\t8 & 478667 & 02F49B & 01FD38 & 2013 & 7 \\\\\n",
       "\t9 & 478649 & 02F49B & 01FD38 & 2013 & 7 \\\\\n",
       "\t10 & 478661 & 02F49B & 01FD38 & 2013 & 7 \\\\\n",
       "\t11 & 478610 & 02F49B & 01FD38 & 2013 & 7 \\\\\n",
       "\t12 & 478642 & 02F49B & 01FD38 & 2013 & 7 \\\\\n",
       "\t13 & 478612 & 02F49B & 01FD38 & 2013 & 7 \\\\\n",
       "\t14 & 478644 & 02F49B & 01FD38 & 2013 & 7 \\\\\n",
       "\t15 & 478637 & 02F49B & 01FD38 & 2013 & 7 \\\\\n",
       "\t16 & 478666 & 02F49B & 01FD38 & 2013 & 7 \\\\\n",
       "\t17 & 478630 & 02F49B & 01FD38 & 2013 & 7 \\\\\n",
       "\t18 & 478623 & 02F49B & 01FD38 & 2013 & 7 \\\\\n",
       "\t19 & 478639 & 02F49B & 01FD38 & 2013 & 7 \\\\\n",
       "\t20 & 478629 & 02F49B & 01FD38 & 2013 & 7 \\\\\n",
       "\t21 & 478569 & 02F49B & 01FD38 & 2013 & 7 \\\\\n",
       "\t22 & 478654 & 02F49B & 01FD38 & 2013 & 7 \\\\\n",
       "\t23 & 478657 & 02F49B & 01FD38 & 2013 & 7 \\\\\n",
       "\t24 & 478575 & 02F49B & 01FD38 & 2013 & 7 \\\\\n",
       "\t$\\dots$ & $\\dots$ & $\\dots$ & $\\dots$ & $\\dots$ & $\\dots$ \\\\\n",
       "\\end{tabular}\n"
      ],
      "text/plain": [
       "\u001b[1m8362×5 DataFrame\u001b[0m\n",
       "\u001b[1m  Row \u001b[0m│\u001b[1m Id     \u001b[0m\u001b[1m Sire    \u001b[0m\u001b[1m Dam     \u001b[0m\u001b[1m Year_Class \u001b[0m\u001b[1m Selected_gen \u001b[0m\n",
       "      │\u001b[90m String \u001b[0m\u001b[90m String7 \u001b[0m\u001b[90m String7 \u001b[0m\u001b[90m Int64      \u001b[0m\u001b[90m Int64        \u001b[0m\n",
       "──────┼────────────────────────────────────────────────────\n",
       "    1 │ 478665  0        0              2013             7\n",
       "    2 │ 478620  0        0              2013             7\n",
       "    3 │ 478601  02F49B   01FD38         2013             7\n",
       "    4 │ 478656  02F49B   01FD38         2013             7\n",
       "    5 │ 478671  02F49B   01FD38         2013             7\n",
       "    6 │ 478651  02F49B   01FD38         2013             7\n",
       "    7 │ 478660  0        0              2013             7\n",
       "    8 │ 478667  02F49B   01FD38         2013             7\n",
       "  ⋮   │   ⋮        ⋮        ⋮         ⋮            ⋮\n",
       " 8356 │ 918925  597579   900730         2017             8\n",
       " 8357 │ 919071  597579   900730         2017             8\n",
       " 8358 │ 919218  597579   900730         2017             8\n",
       " 8359 │ 919013  597579   900730         2017             8\n",
       " 8360 │ 919448  597579   900730         2017             8\n",
       " 8361 │ 919246  597579   900730         2017             8\n",
       " 8362 │ 919420  597579   900730         2017             8\n",
       "\u001b[36m                                          8347 rows omitted\u001b[0m"
      ]
     },
     "metadata": {},
     "output_type": "display_data"
    }
   ],
   "source": [
    "pedigree"
   ]
  },
  {
   "cell_type": "code",
   "execution_count": 20,
   "metadata": {},
   "outputs": [],
   "source": [
    "pheno = CSV.read(\"ac_pheno.txt\", DataFrame; delim=\"\\t\");"
   ]
  },
  {
   "cell_type": "code",
   "execution_count": 21,
   "metadata": {},
   "outputs": [],
   "source": [
    "pheno.PIT = string.(pheno.PIT);"
   ]
  },
  {
   "cell_type": "code",
   "execution_count": 22,
   "metadata": {},
   "outputs": [
    {
     "data": {
      "text/html": [
       "<div><div style = \"float: left;\"><span>2862×6 DataFrame</span></div><div style = \"float: right;\"><span style = \"font-style: italic;\">2837 rows omitted</span></div><div style = \"clear: both;\"></div></div><div class = \"data-frame\" style = \"overflow-x: scroll;\"><table class = \"data-frame\" style = \"margin-bottom: 6px;\"><thead><tr class = \"header\"><th class = \"rowNumber\" style = \"font-weight: bold; text-align: right;\">Row</th><th style = \"text-align: left;\">PIT</th><th style = \"text-align: left;\">Length</th><th style = \"text-align: left;\">Weight</th><th style = \"text-align: left;\">Tank</th><th style = \"text-align: left;\">Sex</th><th style = \"text-align: left;\">Site</th></tr><tr class = \"subheader headerLastRow\"><th class = \"rowNumber\" style = \"font-weight: bold; text-align: right;\"></th><th title = \"String\" style = \"text-align: left;\">String</th><th title = \"String3\" style = \"text-align: left;\">String3</th><th title = \"String7\" style = \"text-align: left;\">String7</th><th title = \"String3\" style = \"text-align: left;\">String3</th><th title = \"String3\" style = \"text-align: left;\">String3</th><th title = \"String3\" style = \"text-align: left;\">String3</th></tr></thead><tbody><tr><td class = \"rowNumber\" style = \"font-weight: bold; text-align: right;\">1</td><td style = \"text-align: left;\">919540</td><td style = \"text-align: left;\">465</td><td style = \"text-align: left;\">1514</td><td style = \"text-align: left;\">1</td><td style = \"text-align: left;\">U</td><td style = \"text-align: left;\">1</td></tr><tr><td class = \"rowNumber\" style = \"font-weight: bold; text-align: right;\">2</td><td style = \"text-align: left;\">918025</td><td style = \"text-align: left;\">455</td><td style = \"text-align: left;\">1250</td><td style = \"text-align: left;\">1</td><td style = \"text-align: left;\">U</td><td style = \"text-align: left;\">1</td></tr><tr><td class = \"rowNumber\" style = \"font-weight: bold; text-align: right;\">3</td><td style = \"text-align: left;\">917803</td><td style = \"text-align: left;\">405</td><td style = \"text-align: left;\">937</td><td style = \"text-align: left;\">1</td><td style = \"text-align: left;\">U</td><td style = \"text-align: left;\">1</td></tr><tr><td class = \"rowNumber\" style = \"font-weight: bold; text-align: right;\">4</td><td style = \"text-align: left;\">918763</td><td style = \"text-align: left;\">505</td><td style = \"text-align: left;\">2667</td><td style = \"text-align: left;\">4</td><td style = \"text-align: left;\">M</td><td style = \"text-align: left;\">2</td></tr><tr><td class = \"rowNumber\" style = \"font-weight: bold; text-align: right;\">5</td><td style = \"text-align: left;\">917365</td><td style = \"text-align: left;\">500</td><td style = \"text-align: left;\">2204</td><td style = \"text-align: left;\">4</td><td style = \"text-align: left;\">U</td><td style = \"text-align: left;\">2</td></tr><tr><td class = \"rowNumber\" style = \"font-weight: bold; text-align: right;\">6</td><td style = \"text-align: left;\">916380</td><td style = \"text-align: left;\">520</td><td style = \"text-align: left;\">2336</td><td style = \"text-align: left;\">4</td><td style = \"text-align: left;\">U</td><td style = \"text-align: left;\">2</td></tr><tr><td class = \"rowNumber\" style = \"font-weight: bold; text-align: right;\">7</td><td style = \"text-align: left;\">9186524</td><td style = \"text-align: left;\">535</td><td style = \"text-align: left;\">3065</td><td style = \"text-align: left;\">4</td><td style = \"text-align: left;\">U</td><td style = \"text-align: left;\">2</td></tr><tr><td class = \"rowNumber\" style = \"font-weight: bold; text-align: right;\">8</td><td style = \"text-align: left;\">915778</td><td style = \"text-align: left;\">490</td><td style = \"text-align: left;\">1774</td><td style = \"text-align: left;\">4</td><td style = \"text-align: left;\">U</td><td style = \"text-align: left;\">2</td></tr><tr><td class = \"rowNumber\" style = \"font-weight: bold; text-align: right;\">9</td><td style = \"text-align: left;\">916993</td><td style = \"text-align: left;\">435</td><td style = \"text-align: left;\">1426</td><td style = \"text-align: left;\">3</td><td style = \"text-align: left;\">U</td><td style = \"text-align: left;\">1</td></tr><tr><td class = \"rowNumber\" style = \"font-weight: bold; text-align: right;\">10</td><td style = \"text-align: left;\">916238</td><td style = \"text-align: left;\">475</td><td style = \"text-align: left;\">1545</td><td style = \"text-align: left;\">3</td><td style = \"text-align: left;\">U</td><td style = \"text-align: left;\">1</td></tr><tr><td class = \"rowNumber\" style = \"font-weight: bold; text-align: right;\">11</td><td style = \"text-align: left;\">916890</td><td style = \"text-align: left;\">475</td><td style = \"text-align: left;\">1408</td><td style = \"text-align: left;\">3</td><td style = \"text-align: left;\">U</td><td style = \"text-align: left;\">1</td></tr><tr><td class = \"rowNumber\" style = \"font-weight: bold; text-align: right;\">12</td><td style = \"text-align: left;\">919647</td><td style = \"text-align: left;\">525</td><td style = \"text-align: left;\">2424</td><td style = \"text-align: left;\">3</td><td style = \"text-align: left;\">M</td><td style = \"text-align: left;\">1</td></tr><tr><td class = \"rowNumber\" style = \"font-weight: bold; text-align: right;\">13</td><td style = \"text-align: left;\">916592</td><td style = \"text-align: left;\">435</td><td style = \"text-align: left;\">1224</td><td style = \"text-align: left;\">3</td><td style = \"text-align: left;\">M</td><td style = \"text-align: left;\">1</td></tr><tr><td style = \"text-align: right;\">&vellip;</td><td style = \"text-align: right;\">&vellip;</td><td style = \"text-align: right;\">&vellip;</td><td style = \"text-align: right;\">&vellip;</td><td style = \"text-align: right;\">&vellip;</td><td style = \"text-align: right;\">&vellip;</td><td style = \"text-align: right;\">&vellip;</td></tr><tr><td class = \"rowNumber\" style = \"font-weight: bold; text-align: right;\">2851</td><td style = \"text-align: left;\">916210</td><td style = \"text-align: left;\">NA</td><td style = \"text-align: left;\">1331</td><td style = \"text-align: left;\">2</td><td style = \"text-align: left;\">U</td><td style = \"text-align: left;\">1</td></tr><tr><td class = \"rowNumber\" style = \"font-weight: bold; text-align: right;\">2852</td><td style = \"text-align: left;\">920428</td><td style = \"text-align: left;\">490</td><td style = \"text-align: left;\">2134</td><td style = \"text-align: left;\">2</td><td style = \"text-align: left;\">M</td><td style = \"text-align: left;\">1</td></tr><tr><td class = \"rowNumber\" style = \"font-weight: bold; text-align: right;\">2853</td><td style = \"text-align: left;\">920343</td><td style = \"text-align: left;\">490</td><td style = \"text-align: left;\">1661</td><td style = \"text-align: left;\">2</td><td style = \"text-align: left;\">M</td><td style = \"text-align: left;\">1</td></tr><tr><td class = \"rowNumber\" style = \"font-weight: bold; text-align: right;\">2854</td><td style = \"text-align: left;\">918125</td><td style = \"text-align: left;\">455</td><td style = \"text-align: left;\">1371</td><td style = \"text-align: left;\">2</td><td style = \"text-align: left;\">U</td><td style = \"text-align: left;\">1</td></tr><tr><td class = \"rowNumber\" style = \"font-weight: bold; text-align: right;\">2855</td><td style = \"text-align: left;\">918957</td><td style = \"text-align: left;\">435</td><td style = \"text-align: left;\">1276</td><td style = \"text-align: left;\">2</td><td style = \"text-align: left;\">U</td><td style = \"text-align: left;\">1</td></tr><tr><td class = \"rowNumber\" style = \"font-weight: bold; text-align: right;\">2856</td><td style = \"text-align: left;\">9195532</td><td style = \"text-align: left;\">430</td><td style = \"text-align: left;\">1847</td><td style = \"text-align: left;\">2</td><td style = \"text-align: left;\">U</td><td style = \"text-align: left;\">1</td></tr><tr><td class = \"rowNumber\" style = \"font-weight: bold; text-align: right;\">2857</td><td style = \"text-align: left;\">917155</td><td style = \"text-align: left;\">445</td><td style = \"text-align: left;\">1377</td><td style = \"text-align: left;\">2</td><td style = \"text-align: left;\">U</td><td style = \"text-align: left;\">1</td></tr><tr><td class = \"rowNumber\" style = \"font-weight: bold; text-align: right;\">2858</td><td style = \"text-align: left;\">920227</td><td style = \"text-align: left;\">475</td><td style = \"text-align: left;\">1565</td><td style = \"text-align: left;\">2</td><td style = \"text-align: left;\">U</td><td style = \"text-align: left;\">1</td></tr><tr><td class = \"rowNumber\" style = \"font-weight: bold; text-align: right;\">2859</td><td style = \"text-align: left;\">915897</td><td style = \"text-align: left;\">440</td><td style = \"text-align: left;\">1300</td><td style = \"text-align: left;\">2</td><td style = \"text-align: left;\">U</td><td style = \"text-align: left;\">1</td></tr><tr><td class = \"rowNumber\" style = \"font-weight: bold; text-align: right;\">2860</td><td style = \"text-align: left;\">917341</td><td style = \"text-align: left;\">450</td><td style = \"text-align: left;\">1510</td><td style = \"text-align: left;\">2</td><td style = \"text-align: left;\">U</td><td style = \"text-align: left;\">1</td></tr><tr><td class = \"rowNumber\" style = \"font-weight: bold; text-align: right;\">2861</td><td style = \"text-align: left;\">915861</td><td style = \"text-align: left;\">450</td><td style = \"text-align: left;\">1464</td><td style = \"text-align: left;\">2</td><td style = \"text-align: left;\">U</td><td style = \"text-align: left;\">1</td></tr><tr><td class = \"rowNumber\" style = \"font-weight: bold; text-align: right;\">2862</td><td style = \"text-align: left;\">9197101</td><td style = \"text-align: left;\">420</td><td style = \"text-align: left;\">1069</td><td style = \"text-align: left;\">2</td><td style = \"text-align: left;\">U</td><td style = \"text-align: left;\">1</td></tr></tbody></table></div>"
      ],
      "text/latex": [
       "\\begin{tabular}{r|cccccc}\n",
       "\t& PIT & Length & Weight & Tank & Sex & Site\\\\\n",
       "\t\\hline\n",
       "\t& String & String3 & String7 & String3 & String3 & String3\\\\\n",
       "\t\\hline\n",
       "\t1 & 919540 & 465 & 1514 & 1 & U & 1 \\\\\n",
       "\t2 & 918025 & 455 & 1250 & 1 & U & 1 \\\\\n",
       "\t3 & 917803 & 405 & 937 & 1 & U & 1 \\\\\n",
       "\t4 & 918763 & 505 & 2667 & 4 & M & 2 \\\\\n",
       "\t5 & 917365 & 500 & 2204 & 4 & U & 2 \\\\\n",
       "\t6 & 916380 & 520 & 2336 & 4 & U & 2 \\\\\n",
       "\t7 & 9186524 & 535 & 3065 & 4 & U & 2 \\\\\n",
       "\t8 & 915778 & 490 & 1774 & 4 & U & 2 \\\\\n",
       "\t9 & 916993 & 435 & 1426 & 3 & U & 1 \\\\\n",
       "\t10 & 916238 & 475 & 1545 & 3 & U & 1 \\\\\n",
       "\t11 & 916890 & 475 & 1408 & 3 & U & 1 \\\\\n",
       "\t12 & 919647 & 525 & 2424 & 3 & M & 1 \\\\\n",
       "\t13 & 916592 & 435 & 1224 & 3 & M & 1 \\\\\n",
       "\t14 & 918602 & 465 & 1572 & 3 & U & 1 \\\\\n",
       "\t15 & 917824 & 460 & 1198 & 3 & U & 1 \\\\\n",
       "\t16 & 917332 & 495 & 2118 & 3 & U & 1 \\\\\n",
       "\t17 & 917463 & 475 & 1418 & 3 & U & 1 \\\\\n",
       "\t18 & 918936 & 490 & 2317 & 3 & M & 1 \\\\\n",
       "\t19 & 916422 & 420 & 1069 & 3 & U & 1 \\\\\n",
       "\t20 & 917426 & 505 & 1889 & 3 & M & 1 \\\\\n",
       "\t21 & 917919 & 470 & 1468 & 3 & U & 1 \\\\\n",
       "\t22 & 917067 & 435 & 1291 & 3 & U & 1 \\\\\n",
       "\t23 & 917485 & 445 & 1236 & 3 & U & 1 \\\\\n",
       "\t24 & 917035 & 455 & 1425 & 3 & U & 1 \\\\\n",
       "\t$\\dots$ & $\\dots$ & $\\dots$ & $\\dots$ & $\\dots$ & $\\dots$ & $\\dots$ \\\\\n",
       "\\end{tabular}\n"
      ],
      "text/plain": [
       "\u001b[1m2862×6 DataFrame\u001b[0m\n",
       "\u001b[1m  Row \u001b[0m│\u001b[1m PIT     \u001b[0m\u001b[1m Length  \u001b[0m\u001b[1m Weight  \u001b[0m\u001b[1m Tank    \u001b[0m\u001b[1m Sex     \u001b[0m\u001b[1m Site    \u001b[0m\n",
       "      │\u001b[90m String  \u001b[0m\u001b[90m String3 \u001b[0m\u001b[90m String7 \u001b[0m\u001b[90m String3 \u001b[0m\u001b[90m String3 \u001b[0m\u001b[90m String3 \u001b[0m\n",
       "──────┼──────────────────────────────────────────────────────\n",
       "    1 │ 919540   465      1514     1        U        1\n",
       "    2 │ 918025   455      1250     1        U        1\n",
       "    3 │ 917803   405      937      1        U        1\n",
       "    4 │ 918763   505      2667     4        M        2\n",
       "    5 │ 917365   500      2204     4        U        2\n",
       "    6 │ 916380   520      2336     4        U        2\n",
       "    7 │ 9186524  535      3065     4        U        2\n",
       "    8 │ 915778   490      1774     4        U        2\n",
       "  ⋮   │    ⋮        ⋮        ⋮        ⋮        ⋮        ⋮\n",
       " 2856 │ 9195532  430      1847     2        U        1\n",
       " 2857 │ 917155   445      1377     2        U        1\n",
       " 2858 │ 920227   475      1565     2        U        1\n",
       " 2859 │ 915897   440      1300     2        U        1\n",
       " 2860 │ 917341   450      1510     2        U        1\n",
       " 2861 │ 915861   450      1464     2        U        1\n",
       " 2862 │ 9197101  420      1069     2        U        1\n",
       "\u001b[36m                                            2847 rows omitted\u001b[0m"
      ]
     },
     "metadata": {},
     "output_type": "display_data"
    }
   ],
   "source": [
    "pheno"
   ]
  },
  {
   "cell_type": "markdown",
   "metadata": {},
   "source": [
    "We will start with a left join. This will keep all rows from the 1st dataframe and matching rows from the 2nd. It's more easy with an example. "
   ]
  },
  {
   "cell_type": "code",
   "execution_count": 23,
   "metadata": {},
   "outputs": [
    {
     "data": {
      "text/html": [
       "<div><div style = \"float: left;\"><span>8429×10 DataFrame</span></div><div style = \"float: right;\"><span style = \"font-style: italic;\">8404 rows omitted</span></div><div style = \"clear: both;\"></div></div><div class = \"data-frame\" style = \"overflow-x: scroll;\"><table class = \"data-frame\" style = \"margin-bottom: 6px;\"><thead><tr class = \"header\"><th class = \"rowNumber\" style = \"font-weight: bold; text-align: right;\">Row</th><th style = \"text-align: left;\">Id</th><th style = \"text-align: left;\">Sire</th><th style = \"text-align: left;\">Dam</th><th style = \"text-align: left;\">Year_Class</th><th style = \"text-align: left;\">Selected_gen</th><th style = \"text-align: left;\">Length</th><th style = \"text-align: left;\">Weight</th><th style = \"text-align: left;\">Tank</th><th style = \"text-align: left;\">Sex</th><th style = \"text-align: left;\">Site</th></tr><tr class = \"subheader headerLastRow\"><th class = \"rowNumber\" style = \"font-weight: bold; text-align: right;\"></th><th title = \"String\" style = \"text-align: left;\">String</th><th title = \"String7\" style = \"text-align: left;\">String7</th><th title = \"String7\" style = \"text-align: left;\">String7</th><th title = \"Int64\" style = \"text-align: left;\">Int64</th><th title = \"Int64\" style = \"text-align: left;\">Int64</th><th title = \"Union{Missing, String3}\" style = \"text-align: left;\">String3?</th><th title = \"Union{Missing, String7}\" style = \"text-align: left;\">String7?</th><th title = \"Union{Missing, String3}\" style = \"text-align: left;\">String3?</th><th title = \"Union{Missing, String3}\" style = \"text-align: left;\">String3?</th><th title = \"Union{Missing, String3}\" style = \"text-align: left;\">String3?</th></tr></thead><tbody><tr><td class = \"rowNumber\" style = \"font-weight: bold; text-align: right;\">1</td><td style = \"text-align: left;\">916577</td><td style = \"text-align: left;\">597579</td><td style = \"text-align: left;\">479801</td><td style = \"text-align: right;\">2017</td><td style = \"text-align: right;\">8</td><td style = \"text-align: left;\">455</td><td style = \"text-align: left;\">1556</td><td style = \"text-align: left;\">3</td><td style = \"text-align: left;\">U</td><td style = \"text-align: left;\">1</td></tr><tr><td class = \"rowNumber\" style = \"font-weight: bold; text-align: right;\">2</td><td style = \"text-align: left;\">915812</td><td style = \"text-align: left;\">597579</td><td style = \"text-align: left;\">479801</td><td style = \"text-align: right;\">2017</td><td style = \"text-align: right;\">8</td><td style = \"text-align: left;\">430</td><td style = \"text-align: left;\">1339</td><td style = \"text-align: left;\">3</td><td style = \"text-align: left;\">M</td><td style = \"text-align: left;\">1</td></tr><tr><td class = \"rowNumber\" style = \"font-weight: bold; text-align: right;\">3</td><td style = \"text-align: left;\">915812</td><td style = \"text-align: left;\">597579</td><td style = \"text-align: left;\">479801</td><td style = \"text-align: right;\">2017</td><td style = \"text-align: right;\">8</td><td style = \"text-align: left;\">430</td><td style = \"text-align: left;\">1339</td><td style = \"text-align: left;\">3</td><td style = \"text-align: left;\">M</td><td style = \"text-align: left;\">1</td></tr><tr><td class = \"rowNumber\" style = \"font-weight: bold; text-align: right;\">4</td><td style = \"text-align: left;\">916294</td><td style = \"text-align: left;\">597579</td><td style = \"text-align: left;\">479801</td><td style = \"text-align: right;\">2017</td><td style = \"text-align: right;\">8</td><td style = \"text-align: left;\">505</td><td style = \"text-align: left;\">2038</td><td style = \"text-align: left;\">2</td><td style = \"text-align: left;\">M</td><td style = \"text-align: left;\">1</td></tr><tr><td class = \"rowNumber\" style = \"font-weight: bold; text-align: right;\">5</td><td style = \"text-align: left;\">916246</td><td style = \"text-align: left;\">597579</td><td style = \"text-align: left;\">479801</td><td style = \"text-align: right;\">2017</td><td style = \"text-align: right;\">8</td><td style = \"text-align: left;\">415</td><td style = \"text-align: left;\">1213</td><td style = \"text-align: left;\">1</td><td style = \"text-align: left;\">U</td><td style = \"text-align: left;\">1</td></tr><tr><td class = \"rowNumber\" style = \"font-weight: bold; text-align: right;\">6</td><td style = \"text-align: left;\">916009</td><td style = \"text-align: left;\">597579</td><td style = \"text-align: left;\">479801</td><td style = \"text-align: right;\">2017</td><td style = \"text-align: right;\">8</td><td style = \"text-align: left;\">455</td><td style = \"text-align: left;\">1435</td><td style = \"text-align: left;\">2</td><td style = \"text-align: left;\">U</td><td style = \"text-align: left;\">1</td></tr><tr><td class = \"rowNumber\" style = \"font-weight: bold; text-align: right;\">7</td><td style = \"text-align: left;\">916104</td><td style = \"text-align: left;\">597579</td><td style = \"text-align: left;\">479801</td><td style = \"text-align: right;\">2017</td><td style = \"text-align: right;\">8</td><td style = \"text-align: left;\">455</td><td style = \"text-align: left;\">1499</td><td style = \"text-align: left;\">1</td><td style = \"text-align: left;\">U</td><td style = \"text-align: left;\">1</td></tr><tr><td class = \"rowNumber\" style = \"font-weight: bold; text-align: right;\">8</td><td style = \"text-align: left;\">916518</td><td style = \"text-align: left;\">597579</td><td style = \"text-align: left;\">479801</td><td style = \"text-align: right;\">2017</td><td style = \"text-align: right;\">8</td><td style = \"text-align: left;\">470</td><td style = \"text-align: left;\">1661</td><td style = \"text-align: left;\">2</td><td style = \"text-align: left;\">M</td><td style = \"text-align: left;\">1</td></tr><tr><td class = \"rowNumber\" style = \"font-weight: bold; text-align: right;\">9</td><td style = \"text-align: left;\">916274</td><td style = \"text-align: left;\">597579</td><td style = \"text-align: left;\">479801</td><td style = \"text-align: right;\">2017</td><td style = \"text-align: right;\">8</td><td style = \"text-align: left;\">485</td><td style = \"text-align: left;\">1858</td><td style = \"text-align: left;\">1</td><td style = \"text-align: left;\">M</td><td style = \"text-align: left;\">1</td></tr><tr><td class = \"rowNumber\" style = \"font-weight: bold; text-align: right;\">10</td><td style = \"text-align: left;\">916506</td><td style = \"text-align: left;\">597579</td><td style = \"text-align: left;\">479801</td><td style = \"text-align: right;\">2017</td><td style = \"text-align: right;\">8</td><td style = \"text-align: left;\">490</td><td style = \"text-align: left;\">2113</td><td style = \"text-align: left;\">3</td><td style = \"text-align: left;\">M</td><td style = \"text-align: left;\">1</td></tr><tr><td class = \"rowNumber\" style = \"font-weight: bold; text-align: right;\">11</td><td style = \"text-align: left;\">916042</td><td style = \"text-align: left;\">597579</td><td style = \"text-align: left;\">479801</td><td style = \"text-align: right;\">2017</td><td style = \"text-align: right;\">8</td><td style = \"text-align: left;\">470</td><td style = \"text-align: left;\">1565</td><td style = \"text-align: left;\">2</td><td style = \"text-align: left;\">U</td><td style = \"text-align: left;\">1</td></tr><tr><td class = \"rowNumber\" style = \"font-weight: bold; text-align: right;\">12</td><td style = \"text-align: left;\">916510</td><td style = \"text-align: left;\">597579</td><td style = \"text-align: left;\">479801</td><td style = \"text-align: right;\">2017</td><td style = \"text-align: right;\">8</td><td style = \"text-align: left;\">455</td><td style = \"text-align: left;\">1331</td><td style = \"text-align: left;\">1</td><td style = \"text-align: left;\">U</td><td style = \"text-align: left;\">1</td></tr><tr><td class = \"rowNumber\" style = \"font-weight: bold; text-align: right;\">13</td><td style = \"text-align: left;\">915977</td><td style = \"text-align: left;\">597579</td><td style = \"text-align: left;\">479801</td><td style = \"text-align: right;\">2017</td><td style = \"text-align: right;\">8</td><td style = \"text-align: left;\">470</td><td style = \"text-align: left;\">1629</td><td style = \"text-align: left;\">2</td><td style = \"text-align: left;\">U</td><td style = \"text-align: left;\">1</td></tr><tr><td style = \"text-align: right;\">&vellip;</td><td style = \"text-align: right;\">&vellip;</td><td style = \"text-align: right;\">&vellip;</td><td style = \"text-align: right;\">&vellip;</td><td style = \"text-align: right;\">&vellip;</td><td style = \"text-align: right;\">&vellip;</td><td style = \"text-align: right;\">&vellip;</td><td style = \"text-align: right;\">&vellip;</td><td style = \"text-align: right;\">&vellip;</td><td style = \"text-align: right;\">&vellip;</td><td style = \"text-align: right;\">&vellip;</td></tr><tr><td class = \"rowNumber\" style = \"font-weight: bold; text-align: right;\">8418</td><td style = \"text-align: left;\">919271</td><td style = \"text-align: left;\">597579</td><td style = \"text-align: left;\">900730</td><td style = \"text-align: right;\">2017</td><td style = \"text-align: right;\">8</td><td style = \"font-style: italic; text-align: left;\">missing</td><td style = \"font-style: italic; text-align: left;\">missing</td><td style = \"font-style: italic; text-align: left;\">missing</td><td style = \"font-style: italic; text-align: left;\">missing</td><td style = \"font-style: italic; text-align: left;\">missing</td></tr><tr><td class = \"rowNumber\" style = \"font-weight: bold; text-align: right;\">8419</td><td style = \"text-align: left;\">919555</td><td style = \"text-align: left;\">597579</td><td style = \"text-align: left;\">900730</td><td style = \"text-align: right;\">2017</td><td style = \"text-align: right;\">8</td><td style = \"font-style: italic; text-align: left;\">missing</td><td style = \"font-style: italic; text-align: left;\">missing</td><td style = \"font-style: italic; text-align: left;\">missing</td><td style = \"font-style: italic; text-align: left;\">missing</td><td style = \"font-style: italic; text-align: left;\">missing</td></tr><tr><td class = \"rowNumber\" style = \"font-weight: bold; text-align: right;\">8420</td><td style = \"text-align: left;\">919343</td><td style = \"text-align: left;\">597579</td><td style = \"text-align: left;\">900730</td><td style = \"text-align: right;\">2017</td><td style = \"text-align: right;\">8</td><td style = \"font-style: italic; text-align: left;\">missing</td><td style = \"font-style: italic; text-align: left;\">missing</td><td style = \"font-style: italic; text-align: left;\">missing</td><td style = \"font-style: italic; text-align: left;\">missing</td><td style = \"font-style: italic; text-align: left;\">missing</td></tr><tr><td class = \"rowNumber\" style = \"font-weight: bold; text-align: right;\">8421</td><td style = \"text-align: left;\">918821</td><td style = \"text-align: left;\">597579</td><td style = \"text-align: left;\">900730</td><td style = \"text-align: right;\">2017</td><td style = \"text-align: right;\">8</td><td style = \"font-style: italic; text-align: left;\">missing</td><td style = \"font-style: italic; text-align: left;\">missing</td><td style = \"font-style: italic; text-align: left;\">missing</td><td style = \"font-style: italic; text-align: left;\">missing</td><td style = \"font-style: italic; text-align: left;\">missing</td></tr><tr><td class = \"rowNumber\" style = \"font-weight: bold; text-align: right;\">8422</td><td style = \"text-align: left;\">918677</td><td style = \"text-align: left;\">597579</td><td style = \"text-align: left;\">900730</td><td style = \"text-align: right;\">2017</td><td style = \"text-align: right;\">8</td><td style = \"font-style: italic; text-align: left;\">missing</td><td style = \"font-style: italic; text-align: left;\">missing</td><td style = \"font-style: italic; text-align: left;\">missing</td><td style = \"font-style: italic; text-align: left;\">missing</td><td style = \"font-style: italic; text-align: left;\">missing</td></tr><tr><td class = \"rowNumber\" style = \"font-weight: bold; text-align: right;\">8423</td><td style = \"text-align: left;\">918925</td><td style = \"text-align: left;\">597579</td><td style = \"text-align: left;\">900730</td><td style = \"text-align: right;\">2017</td><td style = \"text-align: right;\">8</td><td style = \"font-style: italic; text-align: left;\">missing</td><td style = \"font-style: italic; text-align: left;\">missing</td><td style = \"font-style: italic; text-align: left;\">missing</td><td style = \"font-style: italic; text-align: left;\">missing</td><td style = \"font-style: italic; text-align: left;\">missing</td></tr><tr><td class = \"rowNumber\" style = \"font-weight: bold; text-align: right;\">8424</td><td style = \"text-align: left;\">919071</td><td style = \"text-align: left;\">597579</td><td style = \"text-align: left;\">900730</td><td style = \"text-align: right;\">2017</td><td style = \"text-align: right;\">8</td><td style = \"font-style: italic; text-align: left;\">missing</td><td style = \"font-style: italic; text-align: left;\">missing</td><td style = \"font-style: italic; text-align: left;\">missing</td><td style = \"font-style: italic; text-align: left;\">missing</td><td style = \"font-style: italic; text-align: left;\">missing</td></tr><tr><td class = \"rowNumber\" style = \"font-weight: bold; text-align: right;\">8425</td><td style = \"text-align: left;\">919218</td><td style = \"text-align: left;\">597579</td><td style = \"text-align: left;\">900730</td><td style = \"text-align: right;\">2017</td><td style = \"text-align: right;\">8</td><td style = \"font-style: italic; text-align: left;\">missing</td><td style = \"font-style: italic; text-align: left;\">missing</td><td style = \"font-style: italic; text-align: left;\">missing</td><td style = \"font-style: italic; text-align: left;\">missing</td><td style = \"font-style: italic; text-align: left;\">missing</td></tr><tr><td class = \"rowNumber\" style = \"font-weight: bold; text-align: right;\">8426</td><td style = \"text-align: left;\">919013</td><td style = \"text-align: left;\">597579</td><td style = \"text-align: left;\">900730</td><td style = \"text-align: right;\">2017</td><td style = \"text-align: right;\">8</td><td style = \"font-style: italic; text-align: left;\">missing</td><td style = \"font-style: italic; text-align: left;\">missing</td><td style = \"font-style: italic; text-align: left;\">missing</td><td style = \"font-style: italic; text-align: left;\">missing</td><td style = \"font-style: italic; text-align: left;\">missing</td></tr><tr><td class = \"rowNumber\" style = \"font-weight: bold; text-align: right;\">8427</td><td style = \"text-align: left;\">919448</td><td style = \"text-align: left;\">597579</td><td style = \"text-align: left;\">900730</td><td style = \"text-align: right;\">2017</td><td style = \"text-align: right;\">8</td><td style = \"font-style: italic; text-align: left;\">missing</td><td style = \"font-style: italic; text-align: left;\">missing</td><td style = \"font-style: italic; text-align: left;\">missing</td><td style = \"font-style: italic; text-align: left;\">missing</td><td style = \"font-style: italic; text-align: left;\">missing</td></tr><tr><td class = \"rowNumber\" style = \"font-weight: bold; text-align: right;\">8428</td><td style = \"text-align: left;\">919246</td><td style = \"text-align: left;\">597579</td><td style = \"text-align: left;\">900730</td><td style = \"text-align: right;\">2017</td><td style = \"text-align: right;\">8</td><td style = \"font-style: italic; text-align: left;\">missing</td><td style = \"font-style: italic; text-align: left;\">missing</td><td style = \"font-style: italic; text-align: left;\">missing</td><td style = \"font-style: italic; text-align: left;\">missing</td><td style = \"font-style: italic; text-align: left;\">missing</td></tr><tr><td class = \"rowNumber\" style = \"font-weight: bold; text-align: right;\">8429</td><td style = \"text-align: left;\">919420</td><td style = \"text-align: left;\">597579</td><td style = \"text-align: left;\">900730</td><td style = \"text-align: right;\">2017</td><td style = \"text-align: right;\">8</td><td style = \"font-style: italic; text-align: left;\">missing</td><td style = \"font-style: italic; text-align: left;\">missing</td><td style = \"font-style: italic; text-align: left;\">missing</td><td style = \"font-style: italic; text-align: left;\">missing</td><td style = \"font-style: italic; text-align: left;\">missing</td></tr></tbody></table></div>"
      ],
      "text/latex": [
       "\\begin{tabular}{r|ccccccccc}\n",
       "\t& Id & Sire & Dam & Year\\_Class & Selected\\_gen & Length & Weight & Tank & \\\\\n",
       "\t\\hline\n",
       "\t& String & String7 & String7 & Int64 & Int64 & String3? & String7? & String3? & \\\\\n",
       "\t\\hline\n",
       "\t1 & 916577 & 597579 & 479801 & 2017 & 8 & 455 & 1556 & 3 & $\\dots$ \\\\\n",
       "\t2 & 915812 & 597579 & 479801 & 2017 & 8 & 430 & 1339 & 3 & $\\dots$ \\\\\n",
       "\t3 & 915812 & 597579 & 479801 & 2017 & 8 & 430 & 1339 & 3 & $\\dots$ \\\\\n",
       "\t4 & 916294 & 597579 & 479801 & 2017 & 8 & 505 & 2038 & 2 & $\\dots$ \\\\\n",
       "\t5 & 916246 & 597579 & 479801 & 2017 & 8 & 415 & 1213 & 1 & $\\dots$ \\\\\n",
       "\t6 & 916009 & 597579 & 479801 & 2017 & 8 & 455 & 1435 & 2 & $\\dots$ \\\\\n",
       "\t7 & 916104 & 597579 & 479801 & 2017 & 8 & 455 & 1499 & 1 & $\\dots$ \\\\\n",
       "\t8 & 916518 & 597579 & 479801 & 2017 & 8 & 470 & 1661 & 2 & $\\dots$ \\\\\n",
       "\t9 & 916274 & 597579 & 479801 & 2017 & 8 & 485 & 1858 & 1 & $\\dots$ \\\\\n",
       "\t10 & 916506 & 597579 & 479801 & 2017 & 8 & 490 & 2113 & 3 & $\\dots$ \\\\\n",
       "\t11 & 916042 & 597579 & 479801 & 2017 & 8 & 470 & 1565 & 2 & $\\dots$ \\\\\n",
       "\t12 & 916510 & 597579 & 479801 & 2017 & 8 & 455 & 1331 & 1 & $\\dots$ \\\\\n",
       "\t13 & 915977 & 597579 & 479801 & 2017 & 8 & 470 & 1629 & 2 & $\\dots$ \\\\\n",
       "\t14 & 915817 & 597579 & 479801 & 2017 & 8 & 490 & 1642 & 1 & $\\dots$ \\\\\n",
       "\t15 & 915724 & 597579 & 479801 & 2017 & 8 & 405 & 1001 & 2 & $\\dots$ \\\\\n",
       "\t16 & 915948 & 597579 & 479801 & 2017 & 8 & 470 & 1727 & 2 & $\\dots$ \\\\\n",
       "\t17 & 916299 & 597579 & 479801 & 2017 & 8 & 430 & 1214 & 1 & $\\dots$ \\\\\n",
       "\t18 & 916381 & 597579 & 479801 & 2017 & 8 & 465 & 1658 & 1 & $\\dots$ \\\\\n",
       "\t19 & 915718 & 597579 & 479801 & 2017 & 8 & 435 & 1301 & 1 & $\\dots$ \\\\\n",
       "\t20 & 915964 & 597579 & 479801 & 2017 & 8 & 440 & 1232 & 3 & $\\dots$ \\\\\n",
       "\t21 & 916436 & 597579 & 479801 & 2017 & 8 & 475 & 1950 & 1 & $\\dots$ \\\\\n",
       "\t22 & 916560 & 597579 & 479801 & 2017 & 8 & 495 & 1953 & 2 & $\\dots$ \\\\\n",
       "\t23 & 916315 & 597579 & 479801 & 2017 & 8 & 505 & 1857 & 2 & $\\dots$ \\\\\n",
       "\t24 & 916149 & 597579 & 479801 & 2017 & 8 & 445 & 1472 & 2 & $\\dots$ \\\\\n",
       "\t$\\dots$ & $\\dots$ & $\\dots$ & $\\dots$ & $\\dots$ & $\\dots$ & $\\dots$ & $\\dots$ & $\\dots$ &  \\\\\n",
       "\\end{tabular}\n"
      ],
      "text/plain": [
       "\u001b[1m8429×10 DataFrame\u001b[0m\n",
       "\u001b[1m  Row \u001b[0m│\u001b[1m Id     \u001b[0m\u001b[1m Sire    \u001b[0m\u001b[1m Dam     \u001b[0m\u001b[1m Year_Class \u001b[0m\u001b[1m Selected_gen \u001b[0m\u001b[1m Length   \u001b[0m\u001b[1m Weight  \u001b[0m ⋯\n",
       "      │\u001b[90m String \u001b[0m\u001b[90m String7 \u001b[0m\u001b[90m String7 \u001b[0m\u001b[90m Int64      \u001b[0m\u001b[90m Int64        \u001b[0m\u001b[90m String3? \u001b[0m\u001b[90m String7?\u001b[0m ⋯\n",
       "──────┼─────────────────────────────────────────────────────────────────────────\n",
       "    1 │ 916577  597579   479801         2017             8  455       1556     ⋯\n",
       "    2 │ 915812  597579   479801         2017             8  430       1339\n",
       "    3 │ 915812  597579   479801         2017             8  430       1339\n",
       "    4 │ 916294  597579   479801         2017             8  505       2038\n",
       "    5 │ 916246  597579   479801         2017             8  415       1213     ⋯\n",
       "    6 │ 916009  597579   479801         2017             8  455       1435\n",
       "    7 │ 916104  597579   479801         2017             8  455       1499\n",
       "    8 │ 916518  597579   479801         2017             8  470       1661\n",
       "  ⋮   │   ⋮        ⋮        ⋮         ⋮            ⋮           ⋮         ⋮     ⋱\n",
       " 8423 │ 918925  597579   900730         2017             8 \u001b[90m missing  \u001b[0m\u001b[90m missing \u001b[0m ⋯\n",
       " 8424 │ 919071  597579   900730         2017             8 \u001b[90m missing  \u001b[0m\u001b[90m missing \u001b[0m\n",
       " 8425 │ 919218  597579   900730         2017             8 \u001b[90m missing  \u001b[0m\u001b[90m missing \u001b[0m\n",
       " 8426 │ 919013  597579   900730         2017             8 \u001b[90m missing  \u001b[0m\u001b[90m missing \u001b[0m\n",
       " 8427 │ 919448  597579   900730         2017             8 \u001b[90m missing  \u001b[0m\u001b[90m missing \u001b[0m ⋯\n",
       " 8428 │ 919246  597579   900730         2017             8 \u001b[90m missing  \u001b[0m\u001b[90m missing \u001b[0m\n",
       " 8429 │ 919420  597579   900730         2017             8 \u001b[90m missing  \u001b[0m\u001b[90m missing \u001b[0m\n",
       "\u001b[36m                                                 3 columns and 8414 rows omitted\u001b[0m"
      ]
     },
     "metadata": {},
     "output_type": "display_data"
    }
   ],
   "source": [
    "leftjoin(pedigree, pheno; on=[:Id => :PIT])"
   ]
  },
  {
   "cell_type": "markdown",
   "metadata": {},
   "source": [
    "As you mighy have guessed we have also a right join."
   ]
  },
  {
   "cell_type": "code",
   "execution_count": 24,
   "metadata": {},
   "outputs": [
    {
     "data": {
      "text/html": [
       "<div><div style = \"float: left;\"><span>2862×10 DataFrame</span></div><div style = \"float: right;\"><span style = \"font-style: italic;\">2837 rows omitted</span></div><div style = \"clear: both;\"></div></div><div class = \"data-frame\" style = \"overflow-x: scroll;\"><table class = \"data-frame\" style = \"margin-bottom: 6px;\"><thead><tr class = \"header\"><th class = \"rowNumber\" style = \"font-weight: bold; text-align: right;\">Row</th><th style = \"text-align: left;\">Id</th><th style = \"text-align: left;\">Sire</th><th style = \"text-align: left;\">Dam</th><th style = \"text-align: left;\">Year_Class</th><th style = \"text-align: left;\">Selected_gen</th><th style = \"text-align: left;\">Length</th><th style = \"text-align: left;\">Weight</th><th style = \"text-align: left;\">Tank</th><th style = \"text-align: left;\">Sex</th><th style = \"text-align: left;\">Site</th></tr><tr class = \"subheader headerLastRow\"><th class = \"rowNumber\" style = \"font-weight: bold; text-align: right;\"></th><th title = \"String\" style = \"text-align: left;\">String</th><th title = \"Union{Missing, String7}\" style = \"text-align: left;\">String7?</th><th title = \"Union{Missing, String7}\" style = \"text-align: left;\">String7?</th><th title = \"Union{Missing, Int64}\" style = \"text-align: left;\">Int64?</th><th title = \"Union{Missing, Int64}\" style = \"text-align: left;\">Int64?</th><th title = \"String3\" style = \"text-align: left;\">String3</th><th title = \"String7\" style = \"text-align: left;\">String7</th><th title = \"String3\" style = \"text-align: left;\">String3</th><th title = \"String3\" style = \"text-align: left;\">String3</th><th title = \"String3\" style = \"text-align: left;\">String3</th></tr></thead><tbody><tr><td class = \"rowNumber\" style = \"font-weight: bold; text-align: right;\">1</td><td style = \"text-align: left;\">916577</td><td style = \"text-align: left;\">597579</td><td style = \"text-align: left;\">479801</td><td style = \"text-align: right;\">2017</td><td style = \"text-align: right;\">8</td><td style = \"text-align: left;\">455</td><td style = \"text-align: left;\">1556</td><td style = \"text-align: left;\">3</td><td style = \"text-align: left;\">U</td><td style = \"text-align: left;\">1</td></tr><tr><td class = \"rowNumber\" style = \"font-weight: bold; text-align: right;\">2</td><td style = \"text-align: left;\">915812</td><td style = \"text-align: left;\">597579</td><td style = \"text-align: left;\">479801</td><td style = \"text-align: right;\">2017</td><td style = \"text-align: right;\">8</td><td style = \"text-align: left;\">430</td><td style = \"text-align: left;\">1339</td><td style = \"text-align: left;\">3</td><td style = \"text-align: left;\">M</td><td style = \"text-align: left;\">1</td></tr><tr><td class = \"rowNumber\" style = \"font-weight: bold; text-align: right;\">3</td><td style = \"text-align: left;\">915812</td><td style = \"text-align: left;\">597579</td><td style = \"text-align: left;\">479801</td><td style = \"text-align: right;\">2017</td><td style = \"text-align: right;\">8</td><td style = \"text-align: left;\">430</td><td style = \"text-align: left;\">1339</td><td style = \"text-align: left;\">3</td><td style = \"text-align: left;\">M</td><td style = \"text-align: left;\">1</td></tr><tr><td class = \"rowNumber\" style = \"font-weight: bold; text-align: right;\">4</td><td style = \"text-align: left;\">916294</td><td style = \"text-align: left;\">597579</td><td style = \"text-align: left;\">479801</td><td style = \"text-align: right;\">2017</td><td style = \"text-align: right;\">8</td><td style = \"text-align: left;\">505</td><td style = \"text-align: left;\">2038</td><td style = \"text-align: left;\">2</td><td style = \"text-align: left;\">M</td><td style = \"text-align: left;\">1</td></tr><tr><td class = \"rowNumber\" style = \"font-weight: bold; text-align: right;\">5</td><td style = \"text-align: left;\">916246</td><td style = \"text-align: left;\">597579</td><td style = \"text-align: left;\">479801</td><td style = \"text-align: right;\">2017</td><td style = \"text-align: right;\">8</td><td style = \"text-align: left;\">415</td><td style = \"text-align: left;\">1213</td><td style = \"text-align: left;\">1</td><td style = \"text-align: left;\">U</td><td style = \"text-align: left;\">1</td></tr><tr><td class = \"rowNumber\" style = \"font-weight: bold; text-align: right;\">6</td><td style = \"text-align: left;\">916009</td><td style = \"text-align: left;\">597579</td><td style = \"text-align: left;\">479801</td><td style = \"text-align: right;\">2017</td><td style = \"text-align: right;\">8</td><td style = \"text-align: left;\">455</td><td style = \"text-align: left;\">1435</td><td style = \"text-align: left;\">2</td><td style = \"text-align: left;\">U</td><td style = \"text-align: left;\">1</td></tr><tr><td class = \"rowNumber\" style = \"font-weight: bold; text-align: right;\">7</td><td style = \"text-align: left;\">916104</td><td style = \"text-align: left;\">597579</td><td style = \"text-align: left;\">479801</td><td style = \"text-align: right;\">2017</td><td style = \"text-align: right;\">8</td><td style = \"text-align: left;\">455</td><td style = \"text-align: left;\">1499</td><td style = \"text-align: left;\">1</td><td style = \"text-align: left;\">U</td><td style = \"text-align: left;\">1</td></tr><tr><td class = \"rowNumber\" style = \"font-weight: bold; text-align: right;\">8</td><td style = \"text-align: left;\">916518</td><td style = \"text-align: left;\">597579</td><td style = \"text-align: left;\">479801</td><td style = \"text-align: right;\">2017</td><td style = \"text-align: right;\">8</td><td style = \"text-align: left;\">470</td><td style = \"text-align: left;\">1661</td><td style = \"text-align: left;\">2</td><td style = \"text-align: left;\">M</td><td style = \"text-align: left;\">1</td></tr><tr><td class = \"rowNumber\" style = \"font-weight: bold; text-align: right;\">9</td><td style = \"text-align: left;\">916274</td><td style = \"text-align: left;\">597579</td><td style = \"text-align: left;\">479801</td><td style = \"text-align: right;\">2017</td><td style = \"text-align: right;\">8</td><td style = \"text-align: left;\">485</td><td style = \"text-align: left;\">1858</td><td style = \"text-align: left;\">1</td><td style = \"text-align: left;\">M</td><td style = \"text-align: left;\">1</td></tr><tr><td class = \"rowNumber\" style = \"font-weight: bold; text-align: right;\">10</td><td style = \"text-align: left;\">916506</td><td style = \"text-align: left;\">597579</td><td style = \"text-align: left;\">479801</td><td style = \"text-align: right;\">2017</td><td style = \"text-align: right;\">8</td><td style = \"text-align: left;\">490</td><td style = \"text-align: left;\">2113</td><td style = \"text-align: left;\">3</td><td style = \"text-align: left;\">M</td><td style = \"text-align: left;\">1</td></tr><tr><td class = \"rowNumber\" style = \"font-weight: bold; text-align: right;\">11</td><td style = \"text-align: left;\">916042</td><td style = \"text-align: left;\">597579</td><td style = \"text-align: left;\">479801</td><td style = \"text-align: right;\">2017</td><td style = \"text-align: right;\">8</td><td style = \"text-align: left;\">470</td><td style = \"text-align: left;\">1565</td><td style = \"text-align: left;\">2</td><td style = \"text-align: left;\">U</td><td style = \"text-align: left;\">1</td></tr><tr><td class = \"rowNumber\" style = \"font-weight: bold; text-align: right;\">12</td><td style = \"text-align: left;\">916510</td><td style = \"text-align: left;\">597579</td><td style = \"text-align: left;\">479801</td><td style = \"text-align: right;\">2017</td><td style = \"text-align: right;\">8</td><td style = \"text-align: left;\">455</td><td style = \"text-align: left;\">1331</td><td style = \"text-align: left;\">1</td><td style = \"text-align: left;\">U</td><td style = \"text-align: left;\">1</td></tr><tr><td class = \"rowNumber\" style = \"font-weight: bold; text-align: right;\">13</td><td style = \"text-align: left;\">915977</td><td style = \"text-align: left;\">597579</td><td style = \"text-align: left;\">479801</td><td style = \"text-align: right;\">2017</td><td style = \"text-align: right;\">8</td><td style = \"text-align: left;\">470</td><td style = \"text-align: left;\">1629</td><td style = \"text-align: left;\">2</td><td style = \"text-align: left;\">U</td><td style = \"text-align: left;\">1</td></tr><tr><td style = \"text-align: right;\">&vellip;</td><td style = \"text-align: right;\">&vellip;</td><td style = \"text-align: right;\">&vellip;</td><td style = \"text-align: right;\">&vellip;</td><td style = \"text-align: right;\">&vellip;</td><td style = \"text-align: right;\">&vellip;</td><td style = \"text-align: right;\">&vellip;</td><td style = \"text-align: right;\">&vellip;</td><td style = \"text-align: right;\">&vellip;</td><td style = \"text-align: right;\">&vellip;</td><td style = \"text-align: right;\">&vellip;</td></tr><tr><td class = \"rowNumber\" style = \"font-weight: bold; text-align: right;\">2851</td><td style = \"text-align: left;\">9169034</td><td style = \"font-style: italic; text-align: left;\">missing</td><td style = \"font-style: italic; text-align: left;\">missing</td><td style = \"font-style: italic; text-align: right;\">missing</td><td style = \"font-style: italic; text-align: right;\">missing</td><td style = \"text-align: left;\">460</td><td style = \"text-align: left;\">1390</td><td style = \"text-align: left;\">3</td><td style = \"text-align: left;\">M</td><td style = \"text-align: left;\">1</td></tr><tr><td class = \"rowNumber\" style = \"font-weight: bold; text-align: right;\">2852</td><td style = \"text-align: left;\">9191934</td><td style = \"font-style: italic; text-align: left;\">missing</td><td style = \"font-style: italic; text-align: left;\">missing</td><td style = \"font-style: italic; text-align: right;\">missing</td><td style = \"font-style: italic; text-align: right;\">missing</td><td style = \"text-align: left;\">445</td><td style = \"text-align: left;\">1233</td><td style = \"text-align: left;\">4</td><td style = \"text-align: left;\">U</td><td style = \"text-align: left;\">2</td></tr><tr><td class = \"rowNumber\" style = \"font-weight: bold; text-align: right;\">2853</td><td style = \"text-align: left;\">9196545</td><td style = \"font-style: italic; text-align: left;\">missing</td><td style = \"font-style: italic; text-align: left;\">missing</td><td style = \"font-style: italic; text-align: right;\">missing</td><td style = \"font-style: italic; text-align: right;\">missing</td><td style = \"text-align: left;\">485</td><td style = \"text-align: left;\">1713</td><td style = \"text-align: left;\">1</td><td style = \"text-align: left;\">U</td><td style = \"text-align: left;\">1</td></tr><tr><td class = \"rowNumber\" style = \"font-weight: bold; text-align: right;\">2854</td><td style = \"text-align: left;\">9171292</td><td style = \"font-style: italic; text-align: left;\">missing</td><td style = \"font-style: italic; text-align: left;\">missing</td><td style = \"font-style: italic; text-align: right;\">missing</td><td style = \"font-style: italic; text-align: right;\">missing</td><td style = \"text-align: left;\">475</td><td style = \"text-align: left;\">1617</td><td style = \"text-align: left;\">1</td><td style = \"text-align: left;\">U</td><td style = \"text-align: left;\">1</td></tr><tr><td class = \"rowNumber\" style = \"font-weight: bold; text-align: right;\">2855</td><td style = \"text-align: left;\">9202514</td><td style = \"font-style: italic; text-align: left;\">missing</td><td style = \"font-style: italic; text-align: left;\">missing</td><td style = \"font-style: italic; text-align: right;\">missing</td><td style = \"font-style: italic; text-align: right;\">missing</td><td style = \"text-align: left;\">495</td><td style = \"text-align: left;\">1955</td><td style = \"text-align: left;\">1</td><td style = \"text-align: left;\">M</td><td style = \"text-align: left;\">1</td></tr><tr><td class = \"rowNumber\" style = \"font-weight: bold; text-align: right;\">2856</td><td style = \"text-align: left;\">916387</td><td style = \"font-style: italic; text-align: left;\">missing</td><td style = \"font-style: italic; text-align: left;\">missing</td><td style = \"font-style: italic; text-align: right;\">missing</td><td style = \"font-style: italic; text-align: right;\">missing</td><td style = \"text-align: left;\">465</td><td style = \"text-align: left;\">1526</td><td style = \"text-align: left;\">2</td><td style = \"text-align: left;\">U</td><td style = \"text-align: left;\">1</td></tr><tr><td class = \"rowNumber\" style = \"font-weight: bold; text-align: right;\">2857</td><td style = \"text-align: left;\">916384</td><td style = \"font-style: italic; text-align: left;\">missing</td><td style = \"font-style: italic; text-align: left;\">missing</td><td style = \"font-style: italic; text-align: right;\">missing</td><td style = \"font-style: italic; text-align: right;\">missing</td><td style = \"text-align: left;\">430</td><td style = \"text-align: left;\">1236</td><td style = \"text-align: left;\">3</td><td style = \"text-align: left;\">U</td><td style = \"text-align: left;\">1</td></tr><tr><td class = \"rowNumber\" style = \"font-weight: bold; text-align: right;\">2858</td><td style = \"text-align: left;\">9186604</td><td style = \"font-style: italic; text-align: left;\">missing</td><td style = \"font-style: italic; text-align: left;\">missing</td><td style = \"font-style: italic; text-align: right;\">missing</td><td style = \"font-style: italic; text-align: right;\">missing</td><td style = \"text-align: left;\">520</td><td style = \"text-align: left;\">2026</td><td style = \"text-align: left;\">4</td><td style = \"text-align: left;\">U</td><td style = \"text-align: left;\">2</td></tr><tr><td class = \"rowNumber\" style = \"font-weight: bold; text-align: right;\">2859</td><td style = \"text-align: left;\">9198621</td><td style = \"font-style: italic; text-align: left;\">missing</td><td style = \"font-style: italic; text-align: left;\">missing</td><td style = \"font-style: italic; text-align: right;\">missing</td><td style = \"font-style: italic; text-align: right;\">missing</td><td style = \"text-align: left;\">490</td><td style = \"text-align: left;\">2242</td><td style = \"text-align: left;\">4</td><td style = \"text-align: left;\">M</td><td style = \"text-align: left;\">2</td></tr><tr><td class = \"rowNumber\" style = \"font-weight: bold; text-align: right;\">2860</td><td style = \"text-align: left;\">920254</td><td style = \"font-style: italic; text-align: left;\">missing</td><td style = \"font-style: italic; text-align: left;\">missing</td><td style = \"font-style: italic; text-align: right;\">missing</td><td style = \"font-style: italic; text-align: right;\">missing</td><td style = \"text-align: left;\">555</td><td style = \"text-align: left;\">2983</td><td style = \"text-align: left;\">4</td><td style = \"text-align: left;\">U</td><td style = \"text-align: left;\">2</td></tr><tr><td class = \"rowNumber\" style = \"font-weight: bold; text-align: right;\">2861</td><td style = \"text-align: left;\">9195532</td><td style = \"font-style: italic; text-align: left;\">missing</td><td style = \"font-style: italic; text-align: left;\">missing</td><td style = \"font-style: italic; text-align: right;\">missing</td><td style = \"font-style: italic; text-align: right;\">missing</td><td style = \"text-align: left;\">430</td><td style = \"text-align: left;\">1847</td><td style = \"text-align: left;\">2</td><td style = \"text-align: left;\">U</td><td style = \"text-align: left;\">1</td></tr><tr><td class = \"rowNumber\" style = \"font-weight: bold; text-align: right;\">2862</td><td style = \"text-align: left;\">9197101</td><td style = \"font-style: italic; text-align: left;\">missing</td><td style = \"font-style: italic; text-align: left;\">missing</td><td style = \"font-style: italic; text-align: right;\">missing</td><td style = \"font-style: italic; text-align: right;\">missing</td><td style = \"text-align: left;\">420</td><td style = \"text-align: left;\">1069</td><td style = \"text-align: left;\">2</td><td style = \"text-align: left;\">U</td><td style = \"text-align: left;\">1</td></tr></tbody></table></div>"
      ],
      "text/latex": [
       "\\begin{tabular}{r|ccccccccc}\n",
       "\t& Id & Sire & Dam & Year\\_Class & Selected\\_gen & Length & Weight & Tank & \\\\\n",
       "\t\\hline\n",
       "\t& String & String7? & String7? & Int64? & Int64? & String3 & String7 & String3 & \\\\\n",
       "\t\\hline\n",
       "\t1 & 916577 & 597579 & 479801 & 2017 & 8 & 455 & 1556 & 3 & $\\dots$ \\\\\n",
       "\t2 & 915812 & 597579 & 479801 & 2017 & 8 & 430 & 1339 & 3 & $\\dots$ \\\\\n",
       "\t3 & 915812 & 597579 & 479801 & 2017 & 8 & 430 & 1339 & 3 & $\\dots$ \\\\\n",
       "\t4 & 916294 & 597579 & 479801 & 2017 & 8 & 505 & 2038 & 2 & $\\dots$ \\\\\n",
       "\t5 & 916246 & 597579 & 479801 & 2017 & 8 & 415 & 1213 & 1 & $\\dots$ \\\\\n",
       "\t6 & 916009 & 597579 & 479801 & 2017 & 8 & 455 & 1435 & 2 & $\\dots$ \\\\\n",
       "\t7 & 916104 & 597579 & 479801 & 2017 & 8 & 455 & 1499 & 1 & $\\dots$ \\\\\n",
       "\t8 & 916518 & 597579 & 479801 & 2017 & 8 & 470 & 1661 & 2 & $\\dots$ \\\\\n",
       "\t9 & 916274 & 597579 & 479801 & 2017 & 8 & 485 & 1858 & 1 & $\\dots$ \\\\\n",
       "\t10 & 916506 & 597579 & 479801 & 2017 & 8 & 490 & 2113 & 3 & $\\dots$ \\\\\n",
       "\t11 & 916042 & 597579 & 479801 & 2017 & 8 & 470 & 1565 & 2 & $\\dots$ \\\\\n",
       "\t12 & 916510 & 597579 & 479801 & 2017 & 8 & 455 & 1331 & 1 & $\\dots$ \\\\\n",
       "\t13 & 915977 & 597579 & 479801 & 2017 & 8 & 470 & 1629 & 2 & $\\dots$ \\\\\n",
       "\t14 & 915817 & 597579 & 479801 & 2017 & 8 & 490 & 1642 & 1 & $\\dots$ \\\\\n",
       "\t15 & 915724 & 597579 & 479801 & 2017 & 8 & 405 & 1001 & 2 & $\\dots$ \\\\\n",
       "\t16 & 915948 & 597579 & 479801 & 2017 & 8 & 470 & 1727 & 2 & $\\dots$ \\\\\n",
       "\t17 & 916299 & 597579 & 479801 & 2017 & 8 & 430 & 1214 & 1 & $\\dots$ \\\\\n",
       "\t18 & 916381 & 597579 & 479801 & 2017 & 8 & 465 & 1658 & 1 & $\\dots$ \\\\\n",
       "\t19 & 915718 & 597579 & 479801 & 2017 & 8 & 435 & 1301 & 1 & $\\dots$ \\\\\n",
       "\t20 & 915964 & 597579 & 479801 & 2017 & 8 & 440 & 1232 & 3 & $\\dots$ \\\\\n",
       "\t21 & 916436 & 597579 & 479801 & 2017 & 8 & 475 & 1950 & 1 & $\\dots$ \\\\\n",
       "\t22 & 916560 & 597579 & 479801 & 2017 & 8 & 495 & 1953 & 2 & $\\dots$ \\\\\n",
       "\t23 & 916315 & 597579 & 479801 & 2017 & 8 & 505 & 1857 & 2 & $\\dots$ \\\\\n",
       "\t24 & 916149 & 597579 & 479801 & 2017 & 8 & 445 & 1472 & 2 & $\\dots$ \\\\\n",
       "\t$\\dots$ & $\\dots$ & $\\dots$ & $\\dots$ & $\\dots$ & $\\dots$ & $\\dots$ & $\\dots$ & $\\dots$ &  \\\\\n",
       "\\end{tabular}\n"
      ],
      "text/plain": [
       "\u001b[1m2862×10 DataFrame\u001b[0m\n",
       "\u001b[1m  Row \u001b[0m│\u001b[1m Id      \u001b[0m\u001b[1m Sire     \u001b[0m\u001b[1m Dam      \u001b[0m\u001b[1m Year_Class \u001b[0m\u001b[1m Selected_gen \u001b[0m\u001b[1m Length  \u001b[0m\u001b[1m Weight\u001b[0m ⋯\n",
       "      │\u001b[90m String  \u001b[0m\u001b[90m String7? \u001b[0m\u001b[90m String7? \u001b[0m\u001b[90m Int64?     \u001b[0m\u001b[90m Int64?       \u001b[0m\u001b[90m String3 \u001b[0m\u001b[90m String\u001b[0m ⋯\n",
       "──────┼─────────────────────────────────────────────────────────────────────────\n",
       "    1 │ 916577   597579    479801          2017             8  455      1556   ⋯\n",
       "    2 │ 915812   597579    479801          2017             8  430      1339\n",
       "    3 │ 915812   597579    479801          2017             8  430      1339\n",
       "    4 │ 916294   597579    479801          2017             8  505      2038\n",
       "    5 │ 916246   597579    479801          2017             8  415      1213   ⋯\n",
       "    6 │ 916009   597579    479801          2017             8  455      1435\n",
       "    7 │ 916104   597579    479801          2017             8  455      1499\n",
       "    8 │ 916518   597579    479801          2017             8  470      1661\n",
       "  ⋮   │    ⋮        ⋮         ⋮          ⋮            ⋮           ⋮        ⋮   ⋱\n",
       " 2856 │ 916387  \u001b[90m missing  \u001b[0m\u001b[90m missing  \u001b[0m\u001b[90m    missing \u001b[0m\u001b[90m      missing \u001b[0m 465      1526   ⋯\n",
       " 2857 │ 916384  \u001b[90m missing  \u001b[0m\u001b[90m missing  \u001b[0m\u001b[90m    missing \u001b[0m\u001b[90m      missing \u001b[0m 430      1236\n",
       " 2858 │ 9186604 \u001b[90m missing  \u001b[0m\u001b[90m missing  \u001b[0m\u001b[90m    missing \u001b[0m\u001b[90m      missing \u001b[0m 520      2026\n",
       " 2859 │ 9198621 \u001b[90m missing  \u001b[0m\u001b[90m missing  \u001b[0m\u001b[90m    missing \u001b[0m\u001b[90m      missing \u001b[0m 490      2242\n",
       " 2860 │ 920254  \u001b[90m missing  \u001b[0m\u001b[90m missing  \u001b[0m\u001b[90m    missing \u001b[0m\u001b[90m      missing \u001b[0m 555      2983   ⋯\n",
       " 2861 │ 9195532 \u001b[90m missing  \u001b[0m\u001b[90m missing  \u001b[0m\u001b[90m    missing \u001b[0m\u001b[90m      missing \u001b[0m 430      1847\n",
       " 2862 │ 9197101 \u001b[90m missing  \u001b[0m\u001b[90m missing  \u001b[0m\u001b[90m    missing \u001b[0m\u001b[90m      missing \u001b[0m 420      1069\n",
       "\u001b[36m                                                 4 columns and 2847 rows omitted\u001b[0m"
      ]
     },
     "metadata": {},
     "output_type": "display_data"
    }
   ],
   "source": [
    "rightjoin(pedigree, pheno; on=[:Id => :PIT])"
   ]
  },
  {
   "cell_type": "markdown",
   "metadata": {},
   "source": [
    "To get only the matching rows we can use an inner join."
   ]
  },
  {
   "cell_type": "code",
   "execution_count": 25,
   "metadata": {},
   "outputs": [
    {
     "data": {
      "text/html": [
       "<div><div style = \"float: left;\"><span>2847×10 DataFrame</span></div><div style = \"float: right;\"><span style = \"font-style: italic;\">2822 rows omitted</span></div><div style = \"clear: both;\"></div></div><div class = \"data-frame\" style = \"overflow-x: scroll;\"><table class = \"data-frame\" style = \"margin-bottom: 6px;\"><thead><tr class = \"header\"><th class = \"rowNumber\" style = \"font-weight: bold; text-align: right;\">Row</th><th style = \"text-align: left;\">Id</th><th style = \"text-align: left;\">Sire</th><th style = \"text-align: left;\">Dam</th><th style = \"text-align: left;\">Year_Class</th><th style = \"text-align: left;\">Selected_gen</th><th style = \"text-align: left;\">Length</th><th style = \"text-align: left;\">Weight</th><th style = \"text-align: left;\">Tank</th><th style = \"text-align: left;\">Sex</th><th style = \"text-align: left;\">Site</th></tr><tr class = \"subheader headerLastRow\"><th class = \"rowNumber\" style = \"font-weight: bold; text-align: right;\"></th><th title = \"String\" style = \"text-align: left;\">String</th><th title = \"String7\" style = \"text-align: left;\">String7</th><th title = \"String7\" style = \"text-align: left;\">String7</th><th title = \"Int64\" style = \"text-align: left;\">Int64</th><th title = \"Int64\" style = \"text-align: left;\">Int64</th><th title = \"String3\" style = \"text-align: left;\">String3</th><th title = \"String7\" style = \"text-align: left;\">String7</th><th title = \"String3\" style = \"text-align: left;\">String3</th><th title = \"String3\" style = \"text-align: left;\">String3</th><th title = \"String3\" style = \"text-align: left;\">String3</th></tr></thead><tbody><tr><td class = \"rowNumber\" style = \"font-weight: bold; text-align: right;\">1</td><td style = \"text-align: left;\">916577</td><td style = \"text-align: left;\">597579</td><td style = \"text-align: left;\">479801</td><td style = \"text-align: right;\">2017</td><td style = \"text-align: right;\">8</td><td style = \"text-align: left;\">455</td><td style = \"text-align: left;\">1556</td><td style = \"text-align: left;\">3</td><td style = \"text-align: left;\">U</td><td style = \"text-align: left;\">1</td></tr><tr><td class = \"rowNumber\" style = \"font-weight: bold; text-align: right;\">2</td><td style = \"text-align: left;\">915812</td><td style = \"text-align: left;\">597579</td><td style = \"text-align: left;\">479801</td><td style = \"text-align: right;\">2017</td><td style = \"text-align: right;\">8</td><td style = \"text-align: left;\">430</td><td style = \"text-align: left;\">1339</td><td style = \"text-align: left;\">3</td><td style = \"text-align: left;\">M</td><td style = \"text-align: left;\">1</td></tr><tr><td class = \"rowNumber\" style = \"font-weight: bold; text-align: right;\">3</td><td style = \"text-align: left;\">915812</td><td style = \"text-align: left;\">597579</td><td style = \"text-align: left;\">479801</td><td style = \"text-align: right;\">2017</td><td style = \"text-align: right;\">8</td><td style = \"text-align: left;\">430</td><td style = \"text-align: left;\">1339</td><td style = \"text-align: left;\">3</td><td style = \"text-align: left;\">M</td><td style = \"text-align: left;\">1</td></tr><tr><td class = \"rowNumber\" style = \"font-weight: bold; text-align: right;\">4</td><td style = \"text-align: left;\">916294</td><td style = \"text-align: left;\">597579</td><td style = \"text-align: left;\">479801</td><td style = \"text-align: right;\">2017</td><td style = \"text-align: right;\">8</td><td style = \"text-align: left;\">505</td><td style = \"text-align: left;\">2038</td><td style = \"text-align: left;\">2</td><td style = \"text-align: left;\">M</td><td style = \"text-align: left;\">1</td></tr><tr><td class = \"rowNumber\" style = \"font-weight: bold; text-align: right;\">5</td><td style = \"text-align: left;\">916246</td><td style = \"text-align: left;\">597579</td><td style = \"text-align: left;\">479801</td><td style = \"text-align: right;\">2017</td><td style = \"text-align: right;\">8</td><td style = \"text-align: left;\">415</td><td style = \"text-align: left;\">1213</td><td style = \"text-align: left;\">1</td><td style = \"text-align: left;\">U</td><td style = \"text-align: left;\">1</td></tr><tr><td class = \"rowNumber\" style = \"font-weight: bold; text-align: right;\">6</td><td style = \"text-align: left;\">916009</td><td style = \"text-align: left;\">597579</td><td style = \"text-align: left;\">479801</td><td style = \"text-align: right;\">2017</td><td style = \"text-align: right;\">8</td><td style = \"text-align: left;\">455</td><td style = \"text-align: left;\">1435</td><td style = \"text-align: left;\">2</td><td style = \"text-align: left;\">U</td><td style = \"text-align: left;\">1</td></tr><tr><td class = \"rowNumber\" style = \"font-weight: bold; text-align: right;\">7</td><td style = \"text-align: left;\">916104</td><td style = \"text-align: left;\">597579</td><td style = \"text-align: left;\">479801</td><td style = \"text-align: right;\">2017</td><td style = \"text-align: right;\">8</td><td style = \"text-align: left;\">455</td><td style = \"text-align: left;\">1499</td><td style = \"text-align: left;\">1</td><td style = \"text-align: left;\">U</td><td style = \"text-align: left;\">1</td></tr><tr><td class = \"rowNumber\" style = \"font-weight: bold; text-align: right;\">8</td><td style = \"text-align: left;\">916518</td><td style = \"text-align: left;\">597579</td><td style = \"text-align: left;\">479801</td><td style = \"text-align: right;\">2017</td><td style = \"text-align: right;\">8</td><td style = \"text-align: left;\">470</td><td style = \"text-align: left;\">1661</td><td style = \"text-align: left;\">2</td><td style = \"text-align: left;\">M</td><td style = \"text-align: left;\">1</td></tr><tr><td class = \"rowNumber\" style = \"font-weight: bold; text-align: right;\">9</td><td style = \"text-align: left;\">916274</td><td style = \"text-align: left;\">597579</td><td style = \"text-align: left;\">479801</td><td style = \"text-align: right;\">2017</td><td style = \"text-align: right;\">8</td><td style = \"text-align: left;\">485</td><td style = \"text-align: left;\">1858</td><td style = \"text-align: left;\">1</td><td style = \"text-align: left;\">M</td><td style = \"text-align: left;\">1</td></tr><tr><td class = \"rowNumber\" style = \"font-weight: bold; text-align: right;\">10</td><td style = \"text-align: left;\">916506</td><td style = \"text-align: left;\">597579</td><td style = \"text-align: left;\">479801</td><td style = \"text-align: right;\">2017</td><td style = \"text-align: right;\">8</td><td style = \"text-align: left;\">490</td><td style = \"text-align: left;\">2113</td><td style = \"text-align: left;\">3</td><td style = \"text-align: left;\">M</td><td style = \"text-align: left;\">1</td></tr><tr><td class = \"rowNumber\" style = \"font-weight: bold; text-align: right;\">11</td><td style = \"text-align: left;\">916042</td><td style = \"text-align: left;\">597579</td><td style = \"text-align: left;\">479801</td><td style = \"text-align: right;\">2017</td><td style = \"text-align: right;\">8</td><td style = \"text-align: left;\">470</td><td style = \"text-align: left;\">1565</td><td style = \"text-align: left;\">2</td><td style = \"text-align: left;\">U</td><td style = \"text-align: left;\">1</td></tr><tr><td class = \"rowNumber\" style = \"font-weight: bold; text-align: right;\">12</td><td style = \"text-align: left;\">916510</td><td style = \"text-align: left;\">597579</td><td style = \"text-align: left;\">479801</td><td style = \"text-align: right;\">2017</td><td style = \"text-align: right;\">8</td><td style = \"text-align: left;\">455</td><td style = \"text-align: left;\">1331</td><td style = \"text-align: left;\">1</td><td style = \"text-align: left;\">U</td><td style = \"text-align: left;\">1</td></tr><tr><td class = \"rowNumber\" style = \"font-weight: bold; text-align: right;\">13</td><td style = \"text-align: left;\">915977</td><td style = \"text-align: left;\">597579</td><td style = \"text-align: left;\">479801</td><td style = \"text-align: right;\">2017</td><td style = \"text-align: right;\">8</td><td style = \"text-align: left;\">470</td><td style = \"text-align: left;\">1629</td><td style = \"text-align: left;\">2</td><td style = \"text-align: left;\">U</td><td style = \"text-align: left;\">1</td></tr><tr><td style = \"text-align: right;\">&vellip;</td><td style = \"text-align: right;\">&vellip;</td><td style = \"text-align: right;\">&vellip;</td><td style = \"text-align: right;\">&vellip;</td><td style = \"text-align: right;\">&vellip;</td><td style = \"text-align: right;\">&vellip;</td><td style = \"text-align: right;\">&vellip;</td><td style = \"text-align: right;\">&vellip;</td><td style = \"text-align: right;\">&vellip;</td><td style = \"text-align: right;\">&vellip;</td><td style = \"text-align: right;\">&vellip;</td></tr><tr><td class = \"rowNumber\" style = \"font-weight: bold; text-align: right;\">2836</td><td style = \"text-align: left;\">919260</td><td style = \"text-align: left;\">597579</td><td style = \"text-align: left;\">900730</td><td style = \"text-align: right;\">2017</td><td style = \"text-align: right;\">8</td><td style = \"text-align: left;\">445</td><td style = \"text-align: left;\">1182</td><td style = \"text-align: left;\">4</td><td style = \"text-align: left;\">U</td><td style = \"text-align: left;\">2</td></tr><tr><td class = \"rowNumber\" style = \"font-weight: bold; text-align: right;\">2837</td><td style = \"text-align: left;\">919212</td><td style = \"text-align: left;\">597579</td><td style = \"text-align: left;\">900730</td><td style = \"text-align: right;\">2017</td><td style = \"text-align: right;\">8</td><td style = \"text-align: left;\">505</td><td style = \"text-align: left;\">2307</td><td style = \"text-align: left;\">4</td><td style = \"text-align: left;\">U</td><td style = \"text-align: left;\">2</td></tr><tr><td class = \"rowNumber\" style = \"font-weight: bold; text-align: right;\">2838</td><td style = \"text-align: left;\">918730</td><td style = \"text-align: left;\">597579</td><td style = \"text-align: left;\">900730</td><td style = \"text-align: right;\">2017</td><td style = \"text-align: right;\">8</td><td style = \"text-align: left;\">485</td><td style = \"text-align: left;\">2042</td><td style = \"text-align: left;\">4</td><td style = \"text-align: left;\">U</td><td style = \"text-align: left;\">2</td></tr><tr><td class = \"rowNumber\" style = \"font-weight: bold; text-align: right;\">2839</td><td style = \"text-align: left;\">918783</td><td style = \"text-align: left;\">597579</td><td style = \"text-align: left;\">900730</td><td style = \"text-align: right;\">2017</td><td style = \"text-align: right;\">8</td><td style = \"text-align: left;\">500</td><td style = \"text-align: left;\">2431</td><td style = \"text-align: left;\">4</td><td style = \"text-align: left;\">U</td><td style = \"text-align: left;\">2</td></tr><tr><td class = \"rowNumber\" style = \"font-weight: bold; text-align: right;\">2840</td><td style = \"text-align: left;\">919005</td><td style = \"text-align: left;\">597579</td><td style = \"text-align: left;\">900730</td><td style = \"text-align: right;\">2017</td><td style = \"text-align: right;\">8</td><td style = \"text-align: left;\">515</td><td style = \"text-align: left;\">2113</td><td style = \"text-align: left;\">4</td><td style = \"text-align: left;\">U</td><td style = \"text-align: left;\">2</td></tr><tr><td class = \"rowNumber\" style = \"font-weight: bold; text-align: right;\">2841</td><td style = \"text-align: left;\">918896</td><td style = \"text-align: left;\">597579</td><td style = \"text-align: left;\">900730</td><td style = \"text-align: right;\">2017</td><td style = \"text-align: right;\">8</td><td style = \"text-align: left;\">485</td><td style = \"text-align: left;\">1775</td><td style = \"text-align: left;\">4</td><td style = \"text-align: left;\">U</td><td style = \"text-align: left;\">2</td></tr><tr><td class = \"rowNumber\" style = \"font-weight: bold; text-align: right;\">2842</td><td style = \"text-align: left;\">919038</td><td style = \"text-align: left;\">597579</td><td style = \"text-align: left;\">900730</td><td style = \"text-align: right;\">2017</td><td style = \"text-align: right;\">8</td><td style = \"text-align: left;\">400</td><td style = \"text-align: left;\">992</td><td style = \"text-align: left;\">4</td><td style = \"text-align: left;\">U</td><td style = \"text-align: left;\">2</td></tr><tr><td class = \"rowNumber\" style = \"font-weight: bold; text-align: right;\">2843</td><td style = \"text-align: left;\">918721</td><td style = \"text-align: left;\">597579</td><td style = \"text-align: left;\">900730</td><td style = \"text-align: right;\">2017</td><td style = \"text-align: right;\">8</td><td style = \"text-align: left;\">500</td><td style = \"text-align: left;\">2168</td><td style = \"text-align: left;\">4</td><td style = \"text-align: left;\">U</td><td style = \"text-align: left;\">2</td></tr><tr><td class = \"rowNumber\" style = \"font-weight: bold; text-align: right;\">2844</td><td style = \"text-align: left;\">919049</td><td style = \"text-align: left;\">597579</td><td style = \"text-align: left;\">900730</td><td style = \"text-align: right;\">2017</td><td style = \"text-align: right;\">8</td><td style = \"text-align: left;\">530</td><td style = \"text-align: left;\">2862</td><td style = \"text-align: left;\">4</td><td style = \"text-align: left;\">U</td><td style = \"text-align: left;\">2</td></tr><tr><td class = \"rowNumber\" style = \"font-weight: bold; text-align: right;\">2845</td><td style = \"text-align: left;\">918919</td><td style = \"text-align: left;\">597579</td><td style = \"text-align: left;\">900730</td><td style = \"text-align: right;\">2017</td><td style = \"text-align: right;\">8</td><td style = \"text-align: left;\">505</td><td style = \"text-align: left;\">1888</td><td style = \"text-align: left;\">4</td><td style = \"text-align: left;\">U</td><td style = \"text-align: left;\">2</td></tr><tr><td class = \"rowNumber\" style = \"font-weight: bold; text-align: right;\">2846</td><td style = \"text-align: left;\">918637</td><td style = \"text-align: left;\">597579</td><td style = \"text-align: left;\">900730</td><td style = \"text-align: right;\">2017</td><td style = \"text-align: right;\">8</td><td style = \"text-align: left;\">430</td><td style = \"text-align: left;\">1208</td><td style = \"text-align: left;\">4</td><td style = \"text-align: left;\">U</td><td style = \"text-align: left;\">2</td></tr><tr><td class = \"rowNumber\" style = \"font-weight: bold; text-align: right;\">2847</td><td style = \"text-align: left;\">918786</td><td style = \"text-align: left;\">597579</td><td style = \"text-align: left;\">900730</td><td style = \"text-align: right;\">2017</td><td style = \"text-align: right;\">8</td><td style = \"text-align: left;\">455</td><td style = \"text-align: left;\">1491</td><td style = \"text-align: left;\">4</td><td style = \"text-align: left;\">U</td><td style = \"text-align: left;\">2</td></tr></tbody></table></div>"
      ],
      "text/latex": [
       "\\begin{tabular}{r|cccccccccc}\n",
       "\t& Id & Sire & Dam & Year\\_Class & Selected\\_gen & Length & Weight & Tank & Sex & \\\\\n",
       "\t\\hline\n",
       "\t& String & String7 & String7 & Int64 & Int64 & String3 & String7 & String3 & String3 & \\\\\n",
       "\t\\hline\n",
       "\t1 & 916577 & 597579 & 479801 & 2017 & 8 & 455 & 1556 & 3 & U & $\\dots$ \\\\\n",
       "\t2 & 915812 & 597579 & 479801 & 2017 & 8 & 430 & 1339 & 3 & M & $\\dots$ \\\\\n",
       "\t3 & 915812 & 597579 & 479801 & 2017 & 8 & 430 & 1339 & 3 & M & $\\dots$ \\\\\n",
       "\t4 & 916294 & 597579 & 479801 & 2017 & 8 & 505 & 2038 & 2 & M & $\\dots$ \\\\\n",
       "\t5 & 916246 & 597579 & 479801 & 2017 & 8 & 415 & 1213 & 1 & U & $\\dots$ \\\\\n",
       "\t6 & 916009 & 597579 & 479801 & 2017 & 8 & 455 & 1435 & 2 & U & $\\dots$ \\\\\n",
       "\t7 & 916104 & 597579 & 479801 & 2017 & 8 & 455 & 1499 & 1 & U & $\\dots$ \\\\\n",
       "\t8 & 916518 & 597579 & 479801 & 2017 & 8 & 470 & 1661 & 2 & M & $\\dots$ \\\\\n",
       "\t9 & 916274 & 597579 & 479801 & 2017 & 8 & 485 & 1858 & 1 & M & $\\dots$ \\\\\n",
       "\t10 & 916506 & 597579 & 479801 & 2017 & 8 & 490 & 2113 & 3 & M & $\\dots$ \\\\\n",
       "\t11 & 916042 & 597579 & 479801 & 2017 & 8 & 470 & 1565 & 2 & U & $\\dots$ \\\\\n",
       "\t12 & 916510 & 597579 & 479801 & 2017 & 8 & 455 & 1331 & 1 & U & $\\dots$ \\\\\n",
       "\t13 & 915977 & 597579 & 479801 & 2017 & 8 & 470 & 1629 & 2 & U & $\\dots$ \\\\\n",
       "\t14 & 915817 & 597579 & 479801 & 2017 & 8 & 490 & 1642 & 1 & U & $\\dots$ \\\\\n",
       "\t15 & 915724 & 597579 & 479801 & 2017 & 8 & 405 & 1001 & 2 & U & $\\dots$ \\\\\n",
       "\t16 & 915948 & 597579 & 479801 & 2017 & 8 & 470 & 1727 & 2 & U & $\\dots$ \\\\\n",
       "\t17 & 916299 & 597579 & 479801 & 2017 & 8 & 430 & 1214 & 1 & U & $\\dots$ \\\\\n",
       "\t18 & 916381 & 597579 & 479801 & 2017 & 8 & 465 & 1658 & 1 & M & $\\dots$ \\\\\n",
       "\t19 & 915718 & 597579 & 479801 & 2017 & 8 & 435 & 1301 & 1 & U & $\\dots$ \\\\\n",
       "\t20 & 915964 & 597579 & 479801 & 2017 & 8 & 440 & 1232 & 3 & U & $\\dots$ \\\\\n",
       "\t21 & 916436 & 597579 & 479801 & 2017 & 8 & 475 & 1950 & 1 & U & $\\dots$ \\\\\n",
       "\t22 & 916560 & 597579 & 479801 & 2017 & 8 & 495 & 1953 & 2 & M & $\\dots$ \\\\\n",
       "\t23 & 916315 & 597579 & 479801 & 2017 & 8 & 505 & 1857 & 2 & M & $\\dots$ \\\\\n",
       "\t24 & 916149 & 597579 & 479801 & 2017 & 8 & 445 & 1472 & 2 & M & $\\dots$ \\\\\n",
       "\t$\\dots$ & $\\dots$ & $\\dots$ & $\\dots$ & $\\dots$ & $\\dots$ & $\\dots$ & $\\dots$ & $\\dots$ & $\\dots$ &  \\\\\n",
       "\\end{tabular}\n"
      ],
      "text/plain": [
       "\u001b[1m2847×10 DataFrame\u001b[0m\n",
       "\u001b[1m  Row \u001b[0m│\u001b[1m Id     \u001b[0m\u001b[1m Sire    \u001b[0m\u001b[1m Dam     \u001b[0m\u001b[1m Year_Class \u001b[0m\u001b[1m Selected_gen \u001b[0m\u001b[1m Length  \u001b[0m\u001b[1m Weight  \u001b[0m\u001b[1m \u001b[0m ⋯\n",
       "      │\u001b[90m String \u001b[0m\u001b[90m String7 \u001b[0m\u001b[90m String7 \u001b[0m\u001b[90m Int64      \u001b[0m\u001b[90m Int64        \u001b[0m\u001b[90m String3 \u001b[0m\u001b[90m String7 \u001b[0m\u001b[90m \u001b[0m ⋯\n",
       "──────┼─────────────────────────────────────────────────────────────────────────\n",
       "    1 │ 916577  597579   479801         2017             8  455      1556      ⋯\n",
       "    2 │ 915812  597579   479801         2017             8  430      1339\n",
       "    3 │ 915812  597579   479801         2017             8  430      1339\n",
       "    4 │ 916294  597579   479801         2017             8  505      2038\n",
       "    5 │ 916246  597579   479801         2017             8  415      1213      ⋯\n",
       "    6 │ 916009  597579   479801         2017             8  455      1435\n",
       "    7 │ 916104  597579   479801         2017             8  455      1499\n",
       "    8 │ 916518  597579   479801         2017             8  470      1661\n",
       "  ⋮   │   ⋮        ⋮        ⋮         ⋮            ⋮           ⋮        ⋮      ⋱\n",
       " 2841 │ 918896  597579   900730         2017             8  485      1775      ⋯\n",
       " 2842 │ 919038  597579   900730         2017             8  400      992\n",
       " 2843 │ 918721  597579   900730         2017             8  500      2168\n",
       " 2844 │ 919049  597579   900730         2017             8  530      2862\n",
       " 2845 │ 918919  597579   900730         2017             8  505      1888      ⋯\n",
       " 2846 │ 918637  597579   900730         2017             8  430      1208\n",
       " 2847 │ 918786  597579   900730         2017             8  455      1491\n",
       "\u001b[36m                                                 3 columns and 2832 rows omitted\u001b[0m"
      ]
     },
     "metadata": {},
     "output_type": "display_data"
    }
   ],
   "source": [
    "innerjoin(pedigree, pheno; on=[:Id => :PIT])"
   ]
  },
  {
   "cell_type": "markdown",
   "metadata": {},
   "source": [
    "To get all rows we use an outer join."
   ]
  },
  {
   "cell_type": "code",
   "execution_count": 26,
   "metadata": {},
   "outputs": [
    {
     "data": {
      "text/html": [
       "<div><div style = \"float: left;\"><span>8444×10 DataFrame</span></div><div style = \"float: right;\"><span style = \"font-style: italic;\">8419 rows omitted</span></div><div style = \"clear: both;\"></div></div><div class = \"data-frame\" style = \"overflow-x: scroll;\"><table class = \"data-frame\" style = \"margin-bottom: 6px;\"><thead><tr class = \"header\"><th class = \"rowNumber\" style = \"font-weight: bold; text-align: right;\">Row</th><th style = \"text-align: left;\">Id</th><th style = \"text-align: left;\">Sire</th><th style = \"text-align: left;\">Dam</th><th style = \"text-align: left;\">Year_Class</th><th style = \"text-align: left;\">Selected_gen</th><th style = \"text-align: left;\">Length</th><th style = \"text-align: left;\">Weight</th><th style = \"text-align: left;\">Tank</th><th style = \"text-align: left;\">Sex</th><th style = \"text-align: left;\">Site</th></tr><tr class = \"subheader headerLastRow\"><th class = \"rowNumber\" style = \"font-weight: bold; text-align: right;\"></th><th title = \"String\" style = \"text-align: left;\">String</th><th title = \"Union{Missing, String7}\" style = \"text-align: left;\">String7?</th><th title = \"Union{Missing, String7}\" style = \"text-align: left;\">String7?</th><th title = \"Union{Missing, Int64}\" style = \"text-align: left;\">Int64?</th><th title = \"Union{Missing, Int64}\" style = \"text-align: left;\">Int64?</th><th title = \"Union{Missing, String3}\" style = \"text-align: left;\">String3?</th><th title = \"Union{Missing, String7}\" style = \"text-align: left;\">String7?</th><th title = \"Union{Missing, String3}\" style = \"text-align: left;\">String3?</th><th title = \"Union{Missing, String3}\" style = \"text-align: left;\">String3?</th><th title = \"Union{Missing, String3}\" style = \"text-align: left;\">String3?</th></tr></thead><tbody><tr><td class = \"rowNumber\" style = \"font-weight: bold; text-align: right;\">1</td><td style = \"text-align: left;\">916577</td><td style = \"text-align: left;\">597579</td><td style = \"text-align: left;\">479801</td><td style = \"text-align: right;\">2017</td><td style = \"text-align: right;\">8</td><td style = \"text-align: left;\">455</td><td style = \"text-align: left;\">1556</td><td style = \"text-align: left;\">3</td><td style = \"text-align: left;\">U</td><td style = \"text-align: left;\">1</td></tr><tr><td class = \"rowNumber\" style = \"font-weight: bold; text-align: right;\">2</td><td style = \"text-align: left;\">915812</td><td style = \"text-align: left;\">597579</td><td style = \"text-align: left;\">479801</td><td style = \"text-align: right;\">2017</td><td style = \"text-align: right;\">8</td><td style = \"text-align: left;\">430</td><td style = \"text-align: left;\">1339</td><td style = \"text-align: left;\">3</td><td style = \"text-align: left;\">M</td><td style = \"text-align: left;\">1</td></tr><tr><td class = \"rowNumber\" style = \"font-weight: bold; text-align: right;\">3</td><td style = \"text-align: left;\">915812</td><td style = \"text-align: left;\">597579</td><td style = \"text-align: left;\">479801</td><td style = \"text-align: right;\">2017</td><td style = \"text-align: right;\">8</td><td style = \"text-align: left;\">430</td><td style = \"text-align: left;\">1339</td><td style = \"text-align: left;\">3</td><td style = \"text-align: left;\">M</td><td style = \"text-align: left;\">1</td></tr><tr><td class = \"rowNumber\" style = \"font-weight: bold; text-align: right;\">4</td><td style = \"text-align: left;\">916294</td><td style = \"text-align: left;\">597579</td><td style = \"text-align: left;\">479801</td><td style = \"text-align: right;\">2017</td><td style = \"text-align: right;\">8</td><td style = \"text-align: left;\">505</td><td style = \"text-align: left;\">2038</td><td style = \"text-align: left;\">2</td><td style = \"text-align: left;\">M</td><td style = \"text-align: left;\">1</td></tr><tr><td class = \"rowNumber\" style = \"font-weight: bold; text-align: right;\">5</td><td style = \"text-align: left;\">916246</td><td style = \"text-align: left;\">597579</td><td style = \"text-align: left;\">479801</td><td style = \"text-align: right;\">2017</td><td style = \"text-align: right;\">8</td><td style = \"text-align: left;\">415</td><td style = \"text-align: left;\">1213</td><td style = \"text-align: left;\">1</td><td style = \"text-align: left;\">U</td><td style = \"text-align: left;\">1</td></tr><tr><td class = \"rowNumber\" style = \"font-weight: bold; text-align: right;\">6</td><td style = \"text-align: left;\">916009</td><td style = \"text-align: left;\">597579</td><td style = \"text-align: left;\">479801</td><td style = \"text-align: right;\">2017</td><td style = \"text-align: right;\">8</td><td style = \"text-align: left;\">455</td><td style = \"text-align: left;\">1435</td><td style = \"text-align: left;\">2</td><td style = \"text-align: left;\">U</td><td style = \"text-align: left;\">1</td></tr><tr><td class = \"rowNumber\" style = \"font-weight: bold; text-align: right;\">7</td><td style = \"text-align: left;\">916104</td><td style = \"text-align: left;\">597579</td><td style = \"text-align: left;\">479801</td><td style = \"text-align: right;\">2017</td><td style = \"text-align: right;\">8</td><td style = \"text-align: left;\">455</td><td style = \"text-align: left;\">1499</td><td style = \"text-align: left;\">1</td><td style = \"text-align: left;\">U</td><td style = \"text-align: left;\">1</td></tr><tr><td class = \"rowNumber\" style = \"font-weight: bold; text-align: right;\">8</td><td style = \"text-align: left;\">916518</td><td style = \"text-align: left;\">597579</td><td style = \"text-align: left;\">479801</td><td style = \"text-align: right;\">2017</td><td style = \"text-align: right;\">8</td><td style = \"text-align: left;\">470</td><td style = \"text-align: left;\">1661</td><td style = \"text-align: left;\">2</td><td style = \"text-align: left;\">M</td><td style = \"text-align: left;\">1</td></tr><tr><td class = \"rowNumber\" style = \"font-weight: bold; text-align: right;\">9</td><td style = \"text-align: left;\">916274</td><td style = \"text-align: left;\">597579</td><td style = \"text-align: left;\">479801</td><td style = \"text-align: right;\">2017</td><td style = \"text-align: right;\">8</td><td style = \"text-align: left;\">485</td><td style = \"text-align: left;\">1858</td><td style = \"text-align: left;\">1</td><td style = \"text-align: left;\">M</td><td style = \"text-align: left;\">1</td></tr><tr><td class = \"rowNumber\" style = \"font-weight: bold; text-align: right;\">10</td><td style = \"text-align: left;\">916506</td><td style = \"text-align: left;\">597579</td><td style = \"text-align: left;\">479801</td><td style = \"text-align: right;\">2017</td><td style = \"text-align: right;\">8</td><td style = \"text-align: left;\">490</td><td style = \"text-align: left;\">2113</td><td style = \"text-align: left;\">3</td><td style = \"text-align: left;\">M</td><td style = \"text-align: left;\">1</td></tr><tr><td class = \"rowNumber\" style = \"font-weight: bold; text-align: right;\">11</td><td style = \"text-align: left;\">916042</td><td style = \"text-align: left;\">597579</td><td style = \"text-align: left;\">479801</td><td style = \"text-align: right;\">2017</td><td style = \"text-align: right;\">8</td><td style = \"text-align: left;\">470</td><td style = \"text-align: left;\">1565</td><td style = \"text-align: left;\">2</td><td style = \"text-align: left;\">U</td><td style = \"text-align: left;\">1</td></tr><tr><td class = \"rowNumber\" style = \"font-weight: bold; text-align: right;\">12</td><td style = \"text-align: left;\">916510</td><td style = \"text-align: left;\">597579</td><td style = \"text-align: left;\">479801</td><td style = \"text-align: right;\">2017</td><td style = \"text-align: right;\">8</td><td style = \"text-align: left;\">455</td><td style = \"text-align: left;\">1331</td><td style = \"text-align: left;\">1</td><td style = \"text-align: left;\">U</td><td style = \"text-align: left;\">1</td></tr><tr><td class = \"rowNumber\" style = \"font-weight: bold; text-align: right;\">13</td><td style = \"text-align: left;\">915977</td><td style = \"text-align: left;\">597579</td><td style = \"text-align: left;\">479801</td><td style = \"text-align: right;\">2017</td><td style = \"text-align: right;\">8</td><td style = \"text-align: left;\">470</td><td style = \"text-align: left;\">1629</td><td style = \"text-align: left;\">2</td><td style = \"text-align: left;\">U</td><td style = \"text-align: left;\">1</td></tr><tr><td style = \"text-align: right;\">&vellip;</td><td style = \"text-align: right;\">&vellip;</td><td style = \"text-align: right;\">&vellip;</td><td style = \"text-align: right;\">&vellip;</td><td style = \"text-align: right;\">&vellip;</td><td style = \"text-align: right;\">&vellip;</td><td style = \"text-align: right;\">&vellip;</td><td style = \"text-align: right;\">&vellip;</td><td style = \"text-align: right;\">&vellip;</td><td style = \"text-align: right;\">&vellip;</td><td style = \"text-align: right;\">&vellip;</td></tr><tr><td class = \"rowNumber\" style = \"font-weight: bold; text-align: right;\">8433</td><td style = \"text-align: left;\">9169034</td><td style = \"font-style: italic; text-align: left;\">missing</td><td style = \"font-style: italic; text-align: left;\">missing</td><td style = \"font-style: italic; text-align: right;\">missing</td><td style = \"font-style: italic; text-align: right;\">missing</td><td style = \"text-align: left;\">460</td><td style = \"text-align: left;\">1390</td><td style = \"text-align: left;\">3</td><td style = \"text-align: left;\">M</td><td style = \"text-align: left;\">1</td></tr><tr><td class = \"rowNumber\" style = \"font-weight: bold; text-align: right;\">8434</td><td style = \"text-align: left;\">9191934</td><td style = \"font-style: italic; text-align: left;\">missing</td><td style = \"font-style: italic; text-align: left;\">missing</td><td style = \"font-style: italic; text-align: right;\">missing</td><td style = \"font-style: italic; text-align: right;\">missing</td><td style = \"text-align: left;\">445</td><td style = \"text-align: left;\">1233</td><td style = \"text-align: left;\">4</td><td style = \"text-align: left;\">U</td><td style = \"text-align: left;\">2</td></tr><tr><td class = \"rowNumber\" style = \"font-weight: bold; text-align: right;\">8435</td><td style = \"text-align: left;\">9196545</td><td style = \"font-style: italic; text-align: left;\">missing</td><td style = \"font-style: italic; text-align: left;\">missing</td><td style = \"font-style: italic; text-align: right;\">missing</td><td style = \"font-style: italic; text-align: right;\">missing</td><td style = \"text-align: left;\">485</td><td style = \"text-align: left;\">1713</td><td style = \"text-align: left;\">1</td><td style = \"text-align: left;\">U</td><td style = \"text-align: left;\">1</td></tr><tr><td class = \"rowNumber\" style = \"font-weight: bold; text-align: right;\">8436</td><td style = \"text-align: left;\">9171292</td><td style = \"font-style: italic; text-align: left;\">missing</td><td style = \"font-style: italic; text-align: left;\">missing</td><td style = \"font-style: italic; text-align: right;\">missing</td><td style = \"font-style: italic; text-align: right;\">missing</td><td style = \"text-align: left;\">475</td><td style = \"text-align: left;\">1617</td><td style = \"text-align: left;\">1</td><td style = \"text-align: left;\">U</td><td style = \"text-align: left;\">1</td></tr><tr><td class = \"rowNumber\" style = \"font-weight: bold; text-align: right;\">8437</td><td style = \"text-align: left;\">9202514</td><td style = \"font-style: italic; text-align: left;\">missing</td><td style = \"font-style: italic; text-align: left;\">missing</td><td style = \"font-style: italic; text-align: right;\">missing</td><td style = \"font-style: italic; text-align: right;\">missing</td><td style = \"text-align: left;\">495</td><td style = \"text-align: left;\">1955</td><td style = \"text-align: left;\">1</td><td style = \"text-align: left;\">M</td><td style = \"text-align: left;\">1</td></tr><tr><td class = \"rowNumber\" style = \"font-weight: bold; text-align: right;\">8438</td><td style = \"text-align: left;\">916387</td><td style = \"font-style: italic; text-align: left;\">missing</td><td style = \"font-style: italic; text-align: left;\">missing</td><td style = \"font-style: italic; text-align: right;\">missing</td><td style = \"font-style: italic; text-align: right;\">missing</td><td style = \"text-align: left;\">465</td><td style = \"text-align: left;\">1526</td><td style = \"text-align: left;\">2</td><td style = \"text-align: left;\">U</td><td style = \"text-align: left;\">1</td></tr><tr><td class = \"rowNumber\" style = \"font-weight: bold; text-align: right;\">8439</td><td style = \"text-align: left;\">916384</td><td style = \"font-style: italic; text-align: left;\">missing</td><td style = \"font-style: italic; text-align: left;\">missing</td><td style = \"font-style: italic; text-align: right;\">missing</td><td style = \"font-style: italic; text-align: right;\">missing</td><td style = \"text-align: left;\">430</td><td style = \"text-align: left;\">1236</td><td style = \"text-align: left;\">3</td><td style = \"text-align: left;\">U</td><td style = \"text-align: left;\">1</td></tr><tr><td class = \"rowNumber\" style = \"font-weight: bold; text-align: right;\">8440</td><td style = \"text-align: left;\">9186604</td><td style = \"font-style: italic; text-align: left;\">missing</td><td style = \"font-style: italic; text-align: left;\">missing</td><td style = \"font-style: italic; text-align: right;\">missing</td><td style = \"font-style: italic; text-align: right;\">missing</td><td style = \"text-align: left;\">520</td><td style = \"text-align: left;\">2026</td><td style = \"text-align: left;\">4</td><td style = \"text-align: left;\">U</td><td style = \"text-align: left;\">2</td></tr><tr><td class = \"rowNumber\" style = \"font-weight: bold; text-align: right;\">8441</td><td style = \"text-align: left;\">9198621</td><td style = \"font-style: italic; text-align: left;\">missing</td><td style = \"font-style: italic; text-align: left;\">missing</td><td style = \"font-style: italic; text-align: right;\">missing</td><td style = \"font-style: italic; text-align: right;\">missing</td><td style = \"text-align: left;\">490</td><td style = \"text-align: left;\">2242</td><td style = \"text-align: left;\">4</td><td style = \"text-align: left;\">M</td><td style = \"text-align: left;\">2</td></tr><tr><td class = \"rowNumber\" style = \"font-weight: bold; text-align: right;\">8442</td><td style = \"text-align: left;\">920254</td><td style = \"font-style: italic; text-align: left;\">missing</td><td style = \"font-style: italic; text-align: left;\">missing</td><td style = \"font-style: italic; text-align: right;\">missing</td><td style = \"font-style: italic; text-align: right;\">missing</td><td style = \"text-align: left;\">555</td><td style = \"text-align: left;\">2983</td><td style = \"text-align: left;\">4</td><td style = \"text-align: left;\">U</td><td style = \"text-align: left;\">2</td></tr><tr><td class = \"rowNumber\" style = \"font-weight: bold; text-align: right;\">8443</td><td style = \"text-align: left;\">9195532</td><td style = \"font-style: italic; text-align: left;\">missing</td><td style = \"font-style: italic; text-align: left;\">missing</td><td style = \"font-style: italic; text-align: right;\">missing</td><td style = \"font-style: italic; text-align: right;\">missing</td><td style = \"text-align: left;\">430</td><td style = \"text-align: left;\">1847</td><td style = \"text-align: left;\">2</td><td style = \"text-align: left;\">U</td><td style = \"text-align: left;\">1</td></tr><tr><td class = \"rowNumber\" style = \"font-weight: bold; text-align: right;\">8444</td><td style = \"text-align: left;\">9197101</td><td style = \"font-style: italic; text-align: left;\">missing</td><td style = \"font-style: italic; text-align: left;\">missing</td><td style = \"font-style: italic; text-align: right;\">missing</td><td style = \"font-style: italic; text-align: right;\">missing</td><td style = \"text-align: left;\">420</td><td style = \"text-align: left;\">1069</td><td style = \"text-align: left;\">2</td><td style = \"text-align: left;\">U</td><td style = \"text-align: left;\">1</td></tr></tbody></table></div>"
      ],
      "text/latex": [
       "\\begin{tabular}{r|ccccccccc}\n",
       "\t& Id & Sire & Dam & Year\\_Class & Selected\\_gen & Length & Weight & Tank & \\\\\n",
       "\t\\hline\n",
       "\t& String & String7? & String7? & Int64? & Int64? & String3? & String7? & String3? & \\\\\n",
       "\t\\hline\n",
       "\t1 & 916577 & 597579 & 479801 & 2017 & 8 & 455 & 1556 & 3 & $\\dots$ \\\\\n",
       "\t2 & 915812 & 597579 & 479801 & 2017 & 8 & 430 & 1339 & 3 & $\\dots$ \\\\\n",
       "\t3 & 915812 & 597579 & 479801 & 2017 & 8 & 430 & 1339 & 3 & $\\dots$ \\\\\n",
       "\t4 & 916294 & 597579 & 479801 & 2017 & 8 & 505 & 2038 & 2 & $\\dots$ \\\\\n",
       "\t5 & 916246 & 597579 & 479801 & 2017 & 8 & 415 & 1213 & 1 & $\\dots$ \\\\\n",
       "\t6 & 916009 & 597579 & 479801 & 2017 & 8 & 455 & 1435 & 2 & $\\dots$ \\\\\n",
       "\t7 & 916104 & 597579 & 479801 & 2017 & 8 & 455 & 1499 & 1 & $\\dots$ \\\\\n",
       "\t8 & 916518 & 597579 & 479801 & 2017 & 8 & 470 & 1661 & 2 & $\\dots$ \\\\\n",
       "\t9 & 916274 & 597579 & 479801 & 2017 & 8 & 485 & 1858 & 1 & $\\dots$ \\\\\n",
       "\t10 & 916506 & 597579 & 479801 & 2017 & 8 & 490 & 2113 & 3 & $\\dots$ \\\\\n",
       "\t11 & 916042 & 597579 & 479801 & 2017 & 8 & 470 & 1565 & 2 & $\\dots$ \\\\\n",
       "\t12 & 916510 & 597579 & 479801 & 2017 & 8 & 455 & 1331 & 1 & $\\dots$ \\\\\n",
       "\t13 & 915977 & 597579 & 479801 & 2017 & 8 & 470 & 1629 & 2 & $\\dots$ \\\\\n",
       "\t14 & 915817 & 597579 & 479801 & 2017 & 8 & 490 & 1642 & 1 & $\\dots$ \\\\\n",
       "\t15 & 915724 & 597579 & 479801 & 2017 & 8 & 405 & 1001 & 2 & $\\dots$ \\\\\n",
       "\t16 & 915948 & 597579 & 479801 & 2017 & 8 & 470 & 1727 & 2 & $\\dots$ \\\\\n",
       "\t17 & 916299 & 597579 & 479801 & 2017 & 8 & 430 & 1214 & 1 & $\\dots$ \\\\\n",
       "\t18 & 916381 & 597579 & 479801 & 2017 & 8 & 465 & 1658 & 1 & $\\dots$ \\\\\n",
       "\t19 & 915718 & 597579 & 479801 & 2017 & 8 & 435 & 1301 & 1 & $\\dots$ \\\\\n",
       "\t20 & 915964 & 597579 & 479801 & 2017 & 8 & 440 & 1232 & 3 & $\\dots$ \\\\\n",
       "\t21 & 916436 & 597579 & 479801 & 2017 & 8 & 475 & 1950 & 1 & $\\dots$ \\\\\n",
       "\t22 & 916560 & 597579 & 479801 & 2017 & 8 & 495 & 1953 & 2 & $\\dots$ \\\\\n",
       "\t23 & 916315 & 597579 & 479801 & 2017 & 8 & 505 & 1857 & 2 & $\\dots$ \\\\\n",
       "\t24 & 916149 & 597579 & 479801 & 2017 & 8 & 445 & 1472 & 2 & $\\dots$ \\\\\n",
       "\t$\\dots$ & $\\dots$ & $\\dots$ & $\\dots$ & $\\dots$ & $\\dots$ & $\\dots$ & $\\dots$ & $\\dots$ &  \\\\\n",
       "\\end{tabular}\n"
      ],
      "text/plain": [
       "\u001b[1m8444×10 DataFrame\u001b[0m\n",
       "\u001b[1m  Row \u001b[0m│\u001b[1m Id      \u001b[0m\u001b[1m Sire     \u001b[0m\u001b[1m Dam      \u001b[0m\u001b[1m Year_Class \u001b[0m\u001b[1m Selected_gen \u001b[0m\u001b[1m Length   \u001b[0m\u001b[1m Weigh\u001b[0m ⋯\n",
       "      │\u001b[90m String  \u001b[0m\u001b[90m String7? \u001b[0m\u001b[90m String7? \u001b[0m\u001b[90m Int64?     \u001b[0m\u001b[90m Int64?       \u001b[0m\u001b[90m String3? \u001b[0m\u001b[90m Strin\u001b[0m ⋯\n",
       "──────┼─────────────────────────────────────────────────────────────────────────\n",
       "    1 │ 916577   597579    479801          2017             8  455       1556  ⋯\n",
       "    2 │ 915812   597579    479801          2017             8  430       1339\n",
       "    3 │ 915812   597579    479801          2017             8  430       1339\n",
       "    4 │ 916294   597579    479801          2017             8  505       2038\n",
       "    5 │ 916246   597579    479801          2017             8  415       1213  ⋯\n",
       "    6 │ 916009   597579    479801          2017             8  455       1435\n",
       "    7 │ 916104   597579    479801          2017             8  455       1499\n",
       "    8 │ 916518   597579    479801          2017             8  470       1661\n",
       "  ⋮   │    ⋮        ⋮         ⋮          ⋮            ⋮           ⋮         ⋮  ⋱\n",
       " 8438 │ 916387  \u001b[90m missing  \u001b[0m\u001b[90m missing  \u001b[0m\u001b[90m    missing \u001b[0m\u001b[90m      missing \u001b[0m 465       1526  ⋯\n",
       " 8439 │ 916384  \u001b[90m missing  \u001b[0m\u001b[90m missing  \u001b[0m\u001b[90m    missing \u001b[0m\u001b[90m      missing \u001b[0m 430       1236\n",
       " 8440 │ 9186604 \u001b[90m missing  \u001b[0m\u001b[90m missing  \u001b[0m\u001b[90m    missing \u001b[0m\u001b[90m      missing \u001b[0m 520       2026\n",
       " 8441 │ 9198621 \u001b[90m missing  \u001b[0m\u001b[90m missing  \u001b[0m\u001b[90m    missing \u001b[0m\u001b[90m      missing \u001b[0m 490       2242\n",
       " 8442 │ 920254  \u001b[90m missing  \u001b[0m\u001b[90m missing  \u001b[0m\u001b[90m    missing \u001b[0m\u001b[90m      missing \u001b[0m 555       2983  ⋯\n",
       " 8443 │ 9195532 \u001b[90m missing  \u001b[0m\u001b[90m missing  \u001b[0m\u001b[90m    missing \u001b[0m\u001b[90m      missing \u001b[0m 430       1847\n",
       " 8444 │ 9197101 \u001b[90m missing  \u001b[0m\u001b[90m missing  \u001b[0m\u001b[90m    missing \u001b[0m\u001b[90m      missing \u001b[0m 420       1069\n",
       "\u001b[36m                                                 4 columns and 8429 rows omitted\u001b[0m"
      ]
     },
     "metadata": {},
     "output_type": "display_data"
    }
   ],
   "source": [
    "outerjoin(pedigree, pheno; on=[:Id => :PIT])"
   ]
  },
  {
   "cell_type": "markdown",
   "metadata": {},
   "source": [
    "In this join it can be convenient to know for each row whether it appears only in the left, right or both dataframes."
   ]
  },
  {
   "cell_type": "code",
   "execution_count": 27,
   "metadata": {},
   "outputs": [
    {
     "data": {
      "text/html": [
       "<div><div style = \"float: left;\"><span>8444×11 DataFrame</span></div><div style = \"float: right;\"><span style = \"font-style: italic;\">8419 rows omitted</span></div><div style = \"clear: both;\"></div></div><div class = \"data-frame\" style = \"overflow-x: scroll;\"><table class = \"data-frame\" style = \"margin-bottom: 6px;\"><thead><tr class = \"header\"><th class = \"rowNumber\" style = \"font-weight: bold; text-align: right;\">Row</th><th style = \"text-align: left;\">Id</th><th style = \"text-align: left;\">Sire</th><th style = \"text-align: left;\">Dam</th><th style = \"text-align: left;\">Year_Class</th><th style = \"text-align: left;\">Selected_gen</th><th style = \"text-align: left;\">Length</th><th style = \"text-align: left;\">Weight</th><th style = \"text-align: left;\">Tank</th><th style = \"text-align: left;\">Sex</th><th style = \"text-align: left;\">Site</th><th style = \"text-align: left;\">source</th></tr><tr class = \"subheader headerLastRow\"><th class = \"rowNumber\" style = \"font-weight: bold; text-align: right;\"></th><th title = \"String\" style = \"text-align: left;\">String</th><th title = \"Union{Missing, String7}\" style = \"text-align: left;\">String7?</th><th title = \"Union{Missing, String7}\" style = \"text-align: left;\">String7?</th><th title = \"Union{Missing, Int64}\" style = \"text-align: left;\">Int64?</th><th title = \"Union{Missing, Int64}\" style = \"text-align: left;\">Int64?</th><th title = \"Union{Missing, String3}\" style = \"text-align: left;\">String3?</th><th title = \"Union{Missing, String7}\" style = \"text-align: left;\">String7?</th><th title = \"Union{Missing, String3}\" style = \"text-align: left;\">String3?</th><th title = \"Union{Missing, String3}\" style = \"text-align: left;\">String3?</th><th title = \"Union{Missing, String3}\" style = \"text-align: left;\">String3?</th><th title = \"String\" style = \"text-align: left;\">String</th></tr></thead><tbody><tr><td class = \"rowNumber\" style = \"font-weight: bold; text-align: right;\">1</td><td style = \"text-align: left;\">916577</td><td style = \"text-align: left;\">597579</td><td style = \"text-align: left;\">479801</td><td style = \"text-align: right;\">2017</td><td style = \"text-align: right;\">8</td><td style = \"text-align: left;\">455</td><td style = \"text-align: left;\">1556</td><td style = \"text-align: left;\">3</td><td style = \"text-align: left;\">U</td><td style = \"text-align: left;\">1</td><td style = \"text-align: left;\">both</td></tr><tr><td class = \"rowNumber\" style = \"font-weight: bold; text-align: right;\">2</td><td style = \"text-align: left;\">915812</td><td style = \"text-align: left;\">597579</td><td style = \"text-align: left;\">479801</td><td style = \"text-align: right;\">2017</td><td style = \"text-align: right;\">8</td><td style = \"text-align: left;\">430</td><td style = \"text-align: left;\">1339</td><td style = \"text-align: left;\">3</td><td style = \"text-align: left;\">M</td><td style = \"text-align: left;\">1</td><td style = \"text-align: left;\">both</td></tr><tr><td class = \"rowNumber\" style = \"font-weight: bold; text-align: right;\">3</td><td style = \"text-align: left;\">915812</td><td style = \"text-align: left;\">597579</td><td style = \"text-align: left;\">479801</td><td style = \"text-align: right;\">2017</td><td style = \"text-align: right;\">8</td><td style = \"text-align: left;\">430</td><td style = \"text-align: left;\">1339</td><td style = \"text-align: left;\">3</td><td style = \"text-align: left;\">M</td><td style = \"text-align: left;\">1</td><td style = \"text-align: left;\">both</td></tr><tr><td class = \"rowNumber\" style = \"font-weight: bold; text-align: right;\">4</td><td style = \"text-align: left;\">916294</td><td style = \"text-align: left;\">597579</td><td style = \"text-align: left;\">479801</td><td style = \"text-align: right;\">2017</td><td style = \"text-align: right;\">8</td><td style = \"text-align: left;\">505</td><td style = \"text-align: left;\">2038</td><td style = \"text-align: left;\">2</td><td style = \"text-align: left;\">M</td><td style = \"text-align: left;\">1</td><td style = \"text-align: left;\">both</td></tr><tr><td class = \"rowNumber\" style = \"font-weight: bold; text-align: right;\">5</td><td style = \"text-align: left;\">916246</td><td style = \"text-align: left;\">597579</td><td style = \"text-align: left;\">479801</td><td style = \"text-align: right;\">2017</td><td style = \"text-align: right;\">8</td><td style = \"text-align: left;\">415</td><td style = \"text-align: left;\">1213</td><td style = \"text-align: left;\">1</td><td style = \"text-align: left;\">U</td><td style = \"text-align: left;\">1</td><td style = \"text-align: left;\">both</td></tr><tr><td class = \"rowNumber\" style = \"font-weight: bold; text-align: right;\">6</td><td style = \"text-align: left;\">916009</td><td style = \"text-align: left;\">597579</td><td style = \"text-align: left;\">479801</td><td style = \"text-align: right;\">2017</td><td style = \"text-align: right;\">8</td><td style = \"text-align: left;\">455</td><td style = \"text-align: left;\">1435</td><td style = \"text-align: left;\">2</td><td style = \"text-align: left;\">U</td><td style = \"text-align: left;\">1</td><td style = \"text-align: left;\">both</td></tr><tr><td class = \"rowNumber\" style = \"font-weight: bold; text-align: right;\">7</td><td style = \"text-align: left;\">916104</td><td style = \"text-align: left;\">597579</td><td style = \"text-align: left;\">479801</td><td style = \"text-align: right;\">2017</td><td style = \"text-align: right;\">8</td><td style = \"text-align: left;\">455</td><td style = \"text-align: left;\">1499</td><td style = \"text-align: left;\">1</td><td style = \"text-align: left;\">U</td><td style = \"text-align: left;\">1</td><td style = \"text-align: left;\">both</td></tr><tr><td class = \"rowNumber\" style = \"font-weight: bold; text-align: right;\">8</td><td style = \"text-align: left;\">916518</td><td style = \"text-align: left;\">597579</td><td style = \"text-align: left;\">479801</td><td style = \"text-align: right;\">2017</td><td style = \"text-align: right;\">8</td><td style = \"text-align: left;\">470</td><td style = \"text-align: left;\">1661</td><td style = \"text-align: left;\">2</td><td style = \"text-align: left;\">M</td><td style = \"text-align: left;\">1</td><td style = \"text-align: left;\">both</td></tr><tr><td class = \"rowNumber\" style = \"font-weight: bold; text-align: right;\">9</td><td style = \"text-align: left;\">916274</td><td style = \"text-align: left;\">597579</td><td style = \"text-align: left;\">479801</td><td style = \"text-align: right;\">2017</td><td style = \"text-align: right;\">8</td><td style = \"text-align: left;\">485</td><td style = \"text-align: left;\">1858</td><td style = \"text-align: left;\">1</td><td style = \"text-align: left;\">M</td><td style = \"text-align: left;\">1</td><td style = \"text-align: left;\">both</td></tr><tr><td class = \"rowNumber\" style = \"font-weight: bold; text-align: right;\">10</td><td style = \"text-align: left;\">916506</td><td style = \"text-align: left;\">597579</td><td style = \"text-align: left;\">479801</td><td style = \"text-align: right;\">2017</td><td style = \"text-align: right;\">8</td><td style = \"text-align: left;\">490</td><td style = \"text-align: left;\">2113</td><td style = \"text-align: left;\">3</td><td style = \"text-align: left;\">M</td><td style = \"text-align: left;\">1</td><td style = \"text-align: left;\">both</td></tr><tr><td class = \"rowNumber\" style = \"font-weight: bold; text-align: right;\">11</td><td style = \"text-align: left;\">916042</td><td style = \"text-align: left;\">597579</td><td style = \"text-align: left;\">479801</td><td style = \"text-align: right;\">2017</td><td style = \"text-align: right;\">8</td><td style = \"text-align: left;\">470</td><td style = \"text-align: left;\">1565</td><td style = \"text-align: left;\">2</td><td style = \"text-align: left;\">U</td><td style = \"text-align: left;\">1</td><td style = \"text-align: left;\">both</td></tr><tr><td class = \"rowNumber\" style = \"font-weight: bold; text-align: right;\">12</td><td style = \"text-align: left;\">916510</td><td style = \"text-align: left;\">597579</td><td style = \"text-align: left;\">479801</td><td style = \"text-align: right;\">2017</td><td style = \"text-align: right;\">8</td><td style = \"text-align: left;\">455</td><td style = \"text-align: left;\">1331</td><td style = \"text-align: left;\">1</td><td style = \"text-align: left;\">U</td><td style = \"text-align: left;\">1</td><td style = \"text-align: left;\">both</td></tr><tr><td class = \"rowNumber\" style = \"font-weight: bold; text-align: right;\">13</td><td style = \"text-align: left;\">915977</td><td style = \"text-align: left;\">597579</td><td style = \"text-align: left;\">479801</td><td style = \"text-align: right;\">2017</td><td style = \"text-align: right;\">8</td><td style = \"text-align: left;\">470</td><td style = \"text-align: left;\">1629</td><td style = \"text-align: left;\">2</td><td style = \"text-align: left;\">U</td><td style = \"text-align: left;\">1</td><td style = \"text-align: left;\">both</td></tr><tr><td style = \"text-align: right;\">&vellip;</td><td style = \"text-align: right;\">&vellip;</td><td style = \"text-align: right;\">&vellip;</td><td style = \"text-align: right;\">&vellip;</td><td style = \"text-align: right;\">&vellip;</td><td style = \"text-align: right;\">&vellip;</td><td style = \"text-align: right;\">&vellip;</td><td style = \"text-align: right;\">&vellip;</td><td style = \"text-align: right;\">&vellip;</td><td style = \"text-align: right;\">&vellip;</td><td style = \"text-align: right;\">&vellip;</td><td style = \"text-align: right;\">&vellip;</td></tr><tr><td class = \"rowNumber\" style = \"font-weight: bold; text-align: right;\">8433</td><td style = \"text-align: left;\">9169034</td><td style = \"font-style: italic; text-align: left;\">missing</td><td style = \"font-style: italic; text-align: left;\">missing</td><td style = \"font-style: italic; text-align: right;\">missing</td><td style = \"font-style: italic; text-align: right;\">missing</td><td style = \"text-align: left;\">460</td><td style = \"text-align: left;\">1390</td><td style = \"text-align: left;\">3</td><td style = \"text-align: left;\">M</td><td style = \"text-align: left;\">1</td><td style = \"text-align: left;\">right_only</td></tr><tr><td class = \"rowNumber\" style = \"font-weight: bold; text-align: right;\">8434</td><td style = \"text-align: left;\">9191934</td><td style = \"font-style: italic; text-align: left;\">missing</td><td style = \"font-style: italic; text-align: left;\">missing</td><td style = \"font-style: italic; text-align: right;\">missing</td><td style = \"font-style: italic; text-align: right;\">missing</td><td style = \"text-align: left;\">445</td><td style = \"text-align: left;\">1233</td><td style = \"text-align: left;\">4</td><td style = \"text-align: left;\">U</td><td style = \"text-align: left;\">2</td><td style = \"text-align: left;\">right_only</td></tr><tr><td class = \"rowNumber\" style = \"font-weight: bold; text-align: right;\">8435</td><td style = \"text-align: left;\">9196545</td><td style = \"font-style: italic; text-align: left;\">missing</td><td style = \"font-style: italic; text-align: left;\">missing</td><td style = \"font-style: italic; text-align: right;\">missing</td><td style = \"font-style: italic; text-align: right;\">missing</td><td style = \"text-align: left;\">485</td><td style = \"text-align: left;\">1713</td><td style = \"text-align: left;\">1</td><td style = \"text-align: left;\">U</td><td style = \"text-align: left;\">1</td><td style = \"text-align: left;\">right_only</td></tr><tr><td class = \"rowNumber\" style = \"font-weight: bold; text-align: right;\">8436</td><td style = \"text-align: left;\">9171292</td><td style = \"font-style: italic; text-align: left;\">missing</td><td style = \"font-style: italic; text-align: left;\">missing</td><td style = \"font-style: italic; text-align: right;\">missing</td><td style = \"font-style: italic; text-align: right;\">missing</td><td style = \"text-align: left;\">475</td><td style = \"text-align: left;\">1617</td><td style = \"text-align: left;\">1</td><td style = \"text-align: left;\">U</td><td style = \"text-align: left;\">1</td><td style = \"text-align: left;\">right_only</td></tr><tr><td class = \"rowNumber\" style = \"font-weight: bold; text-align: right;\">8437</td><td style = \"text-align: left;\">9202514</td><td style = \"font-style: italic; text-align: left;\">missing</td><td style = \"font-style: italic; text-align: left;\">missing</td><td style = \"font-style: italic; text-align: right;\">missing</td><td style = \"font-style: italic; text-align: right;\">missing</td><td style = \"text-align: left;\">495</td><td style = \"text-align: left;\">1955</td><td style = \"text-align: left;\">1</td><td style = \"text-align: left;\">M</td><td style = \"text-align: left;\">1</td><td style = \"text-align: left;\">right_only</td></tr><tr><td class = \"rowNumber\" style = \"font-weight: bold; text-align: right;\">8438</td><td style = \"text-align: left;\">916387</td><td style = \"font-style: italic; text-align: left;\">missing</td><td style = \"font-style: italic; text-align: left;\">missing</td><td style = \"font-style: italic; text-align: right;\">missing</td><td style = \"font-style: italic; text-align: right;\">missing</td><td style = \"text-align: left;\">465</td><td style = \"text-align: left;\">1526</td><td style = \"text-align: left;\">2</td><td style = \"text-align: left;\">U</td><td style = \"text-align: left;\">1</td><td style = \"text-align: left;\">right_only</td></tr><tr><td class = \"rowNumber\" style = \"font-weight: bold; text-align: right;\">8439</td><td style = \"text-align: left;\">916384</td><td style = \"font-style: italic; text-align: left;\">missing</td><td style = \"font-style: italic; text-align: left;\">missing</td><td style = \"font-style: italic; text-align: right;\">missing</td><td style = \"font-style: italic; text-align: right;\">missing</td><td style = \"text-align: left;\">430</td><td style = \"text-align: left;\">1236</td><td style = \"text-align: left;\">3</td><td style = \"text-align: left;\">U</td><td style = \"text-align: left;\">1</td><td style = \"text-align: left;\">right_only</td></tr><tr><td class = \"rowNumber\" style = \"font-weight: bold; text-align: right;\">8440</td><td style = \"text-align: left;\">9186604</td><td style = \"font-style: italic; text-align: left;\">missing</td><td style = \"font-style: italic; text-align: left;\">missing</td><td style = \"font-style: italic; text-align: right;\">missing</td><td style = \"font-style: italic; text-align: right;\">missing</td><td style = \"text-align: left;\">520</td><td style = \"text-align: left;\">2026</td><td style = \"text-align: left;\">4</td><td style = \"text-align: left;\">U</td><td style = \"text-align: left;\">2</td><td style = \"text-align: left;\">right_only</td></tr><tr><td class = \"rowNumber\" style = \"font-weight: bold; text-align: right;\">8441</td><td style = \"text-align: left;\">9198621</td><td style = \"font-style: italic; text-align: left;\">missing</td><td style = \"font-style: italic; text-align: left;\">missing</td><td style = \"font-style: italic; text-align: right;\">missing</td><td style = \"font-style: italic; text-align: right;\">missing</td><td style = \"text-align: left;\">490</td><td style = \"text-align: left;\">2242</td><td style = \"text-align: left;\">4</td><td style = \"text-align: left;\">M</td><td style = \"text-align: left;\">2</td><td style = \"text-align: left;\">right_only</td></tr><tr><td class = \"rowNumber\" style = \"font-weight: bold; text-align: right;\">8442</td><td style = \"text-align: left;\">920254</td><td style = \"font-style: italic; text-align: left;\">missing</td><td style = \"font-style: italic; text-align: left;\">missing</td><td style = \"font-style: italic; text-align: right;\">missing</td><td style = \"font-style: italic; text-align: right;\">missing</td><td style = \"text-align: left;\">555</td><td style = \"text-align: left;\">2983</td><td style = \"text-align: left;\">4</td><td style = \"text-align: left;\">U</td><td style = \"text-align: left;\">2</td><td style = \"text-align: left;\">right_only</td></tr><tr><td class = \"rowNumber\" style = \"font-weight: bold; text-align: right;\">8443</td><td style = \"text-align: left;\">9195532</td><td style = \"font-style: italic; text-align: left;\">missing</td><td style = \"font-style: italic; text-align: left;\">missing</td><td style = \"font-style: italic; text-align: right;\">missing</td><td style = \"font-style: italic; text-align: right;\">missing</td><td style = \"text-align: left;\">430</td><td style = \"text-align: left;\">1847</td><td style = \"text-align: left;\">2</td><td style = \"text-align: left;\">U</td><td style = \"text-align: left;\">1</td><td style = \"text-align: left;\">right_only</td></tr><tr><td class = \"rowNumber\" style = \"font-weight: bold; text-align: right;\">8444</td><td style = \"text-align: left;\">9197101</td><td style = \"font-style: italic; text-align: left;\">missing</td><td style = \"font-style: italic; text-align: left;\">missing</td><td style = \"font-style: italic; text-align: right;\">missing</td><td style = \"font-style: italic; text-align: right;\">missing</td><td style = \"text-align: left;\">420</td><td style = \"text-align: left;\">1069</td><td style = \"text-align: left;\">2</td><td style = \"text-align: left;\">U</td><td style = \"text-align: left;\">1</td><td style = \"text-align: left;\">right_only</td></tr></tbody></table></div>"
      ],
      "text/latex": [
       "\\begin{tabular}{r|ccccccccc}\n",
       "\t& Id & Sire & Dam & Year\\_Class & Selected\\_gen & Length & Weight & Tank & \\\\\n",
       "\t\\hline\n",
       "\t& String & String7? & String7? & Int64? & Int64? & String3? & String7? & String3? & \\\\\n",
       "\t\\hline\n",
       "\t1 & 916577 & 597579 & 479801 & 2017 & 8 & 455 & 1556 & 3 & $\\dots$ \\\\\n",
       "\t2 & 915812 & 597579 & 479801 & 2017 & 8 & 430 & 1339 & 3 & $\\dots$ \\\\\n",
       "\t3 & 915812 & 597579 & 479801 & 2017 & 8 & 430 & 1339 & 3 & $\\dots$ \\\\\n",
       "\t4 & 916294 & 597579 & 479801 & 2017 & 8 & 505 & 2038 & 2 & $\\dots$ \\\\\n",
       "\t5 & 916246 & 597579 & 479801 & 2017 & 8 & 415 & 1213 & 1 & $\\dots$ \\\\\n",
       "\t6 & 916009 & 597579 & 479801 & 2017 & 8 & 455 & 1435 & 2 & $\\dots$ \\\\\n",
       "\t7 & 916104 & 597579 & 479801 & 2017 & 8 & 455 & 1499 & 1 & $\\dots$ \\\\\n",
       "\t8 & 916518 & 597579 & 479801 & 2017 & 8 & 470 & 1661 & 2 & $\\dots$ \\\\\n",
       "\t9 & 916274 & 597579 & 479801 & 2017 & 8 & 485 & 1858 & 1 & $\\dots$ \\\\\n",
       "\t10 & 916506 & 597579 & 479801 & 2017 & 8 & 490 & 2113 & 3 & $\\dots$ \\\\\n",
       "\t11 & 916042 & 597579 & 479801 & 2017 & 8 & 470 & 1565 & 2 & $\\dots$ \\\\\n",
       "\t12 & 916510 & 597579 & 479801 & 2017 & 8 & 455 & 1331 & 1 & $\\dots$ \\\\\n",
       "\t13 & 915977 & 597579 & 479801 & 2017 & 8 & 470 & 1629 & 2 & $\\dots$ \\\\\n",
       "\t14 & 915817 & 597579 & 479801 & 2017 & 8 & 490 & 1642 & 1 & $\\dots$ \\\\\n",
       "\t15 & 915724 & 597579 & 479801 & 2017 & 8 & 405 & 1001 & 2 & $\\dots$ \\\\\n",
       "\t16 & 915948 & 597579 & 479801 & 2017 & 8 & 470 & 1727 & 2 & $\\dots$ \\\\\n",
       "\t17 & 916299 & 597579 & 479801 & 2017 & 8 & 430 & 1214 & 1 & $\\dots$ \\\\\n",
       "\t18 & 916381 & 597579 & 479801 & 2017 & 8 & 465 & 1658 & 1 & $\\dots$ \\\\\n",
       "\t19 & 915718 & 597579 & 479801 & 2017 & 8 & 435 & 1301 & 1 & $\\dots$ \\\\\n",
       "\t20 & 915964 & 597579 & 479801 & 2017 & 8 & 440 & 1232 & 3 & $\\dots$ \\\\\n",
       "\t21 & 916436 & 597579 & 479801 & 2017 & 8 & 475 & 1950 & 1 & $\\dots$ \\\\\n",
       "\t22 & 916560 & 597579 & 479801 & 2017 & 8 & 495 & 1953 & 2 & $\\dots$ \\\\\n",
       "\t23 & 916315 & 597579 & 479801 & 2017 & 8 & 505 & 1857 & 2 & $\\dots$ \\\\\n",
       "\t24 & 916149 & 597579 & 479801 & 2017 & 8 & 445 & 1472 & 2 & $\\dots$ \\\\\n",
       "\t$\\dots$ & $\\dots$ & $\\dots$ & $\\dots$ & $\\dots$ & $\\dots$ & $\\dots$ & $\\dots$ & $\\dots$ &  \\\\\n",
       "\\end{tabular}\n"
      ],
      "text/plain": [
       "\u001b[1m8444×11 DataFrame\u001b[0m\n",
       "\u001b[1m  Row \u001b[0m│\u001b[1m Id      \u001b[0m\u001b[1m Sire     \u001b[0m\u001b[1m Dam      \u001b[0m\u001b[1m Year_Class \u001b[0m\u001b[1m Selected_gen \u001b[0m\u001b[1m Length   \u001b[0m\u001b[1m Weigh\u001b[0m ⋯\n",
       "      │\u001b[90m String  \u001b[0m\u001b[90m String7? \u001b[0m\u001b[90m String7? \u001b[0m\u001b[90m Int64?     \u001b[0m\u001b[90m Int64?       \u001b[0m\u001b[90m String3? \u001b[0m\u001b[90m Strin\u001b[0m ⋯\n",
       "──────┼─────────────────────────────────────────────────────────────────────────\n",
       "    1 │ 916577   597579    479801          2017             8  455       1556  ⋯\n",
       "    2 │ 915812   597579    479801          2017             8  430       1339\n",
       "    3 │ 915812   597579    479801          2017             8  430       1339\n",
       "    4 │ 916294   597579    479801          2017             8  505       2038\n",
       "    5 │ 916246   597579    479801          2017             8  415       1213  ⋯\n",
       "    6 │ 916009   597579    479801          2017             8  455       1435\n",
       "    7 │ 916104   597579    479801          2017             8  455       1499\n",
       "    8 │ 916518   597579    479801          2017             8  470       1661\n",
       "  ⋮   │    ⋮        ⋮         ⋮          ⋮            ⋮           ⋮         ⋮  ⋱\n",
       " 8438 │ 916387  \u001b[90m missing  \u001b[0m\u001b[90m missing  \u001b[0m\u001b[90m    missing \u001b[0m\u001b[90m      missing \u001b[0m 465       1526  ⋯\n",
       " 8439 │ 916384  \u001b[90m missing  \u001b[0m\u001b[90m missing  \u001b[0m\u001b[90m    missing \u001b[0m\u001b[90m      missing \u001b[0m 430       1236\n",
       " 8440 │ 9186604 \u001b[90m missing  \u001b[0m\u001b[90m missing  \u001b[0m\u001b[90m    missing \u001b[0m\u001b[90m      missing \u001b[0m 520       2026\n",
       " 8441 │ 9198621 \u001b[90m missing  \u001b[0m\u001b[90m missing  \u001b[0m\u001b[90m    missing \u001b[0m\u001b[90m      missing \u001b[0m 490       2242\n",
       " 8442 │ 920254  \u001b[90m missing  \u001b[0m\u001b[90m missing  \u001b[0m\u001b[90m    missing \u001b[0m\u001b[90m      missing \u001b[0m 555       2983  ⋯\n",
       " 8443 │ 9195532 \u001b[90m missing  \u001b[0m\u001b[90m missing  \u001b[0m\u001b[90m    missing \u001b[0m\u001b[90m      missing \u001b[0m 430       1847\n",
       " 8444 │ 9197101 \u001b[90m missing  \u001b[0m\u001b[90m missing  \u001b[0m\u001b[90m    missing \u001b[0m\u001b[90m      missing \u001b[0m 420       1069\n",
       "\u001b[36m                                                 5 columns and 8429 rows omitted\u001b[0m"
      ]
     },
     "metadata": {},
     "output_type": "display_data"
    }
   ],
   "source": [
    "outerjoin(pedigree, pheno; on=[:Id => :PIT], source=:source)"
   ]
  },
  {
   "cell_type": "markdown",
   "metadata": {},
   "source": [
    "Some times we want to use only the matching rows but without the extra columns of the 2nd dataframe. In that case we can use the semi join."
   ]
  },
  {
   "cell_type": "code",
   "execution_count": 28,
   "metadata": {},
   "outputs": [
    {
     "data": {
      "text/html": [
       "<div><div style = \"float: left;\"><span>2780×5 DataFrame</span></div><div style = \"float: right;\"><span style = \"font-style: italic;\">2755 rows omitted</span></div><div style = \"clear: both;\"></div></div><div class = \"data-frame\" style = \"overflow-x: scroll;\"><table class = \"data-frame\" style = \"margin-bottom: 6px;\"><thead><tr class = \"header\"><th class = \"rowNumber\" style = \"font-weight: bold; text-align: right;\">Row</th><th style = \"text-align: left;\">Id</th><th style = \"text-align: left;\">Sire</th><th style = \"text-align: left;\">Dam</th><th style = \"text-align: left;\">Year_Class</th><th style = \"text-align: left;\">Selected_gen</th></tr><tr class = \"subheader headerLastRow\"><th class = \"rowNumber\" style = \"font-weight: bold; text-align: right;\"></th><th title = \"String\" style = \"text-align: left;\">String</th><th title = \"String7\" style = \"text-align: left;\">String7</th><th title = \"String7\" style = \"text-align: left;\">String7</th><th title = \"Int64\" style = \"text-align: left;\">Int64</th><th title = \"Int64\" style = \"text-align: left;\">Int64</th></tr></thead><tbody><tr><td class = \"rowNumber\" style = \"font-weight: bold; text-align: right;\">1</td><td style = \"text-align: left;\">916577</td><td style = \"text-align: left;\">597579</td><td style = \"text-align: left;\">479801</td><td style = \"text-align: right;\">2017</td><td style = \"text-align: right;\">8</td></tr><tr><td class = \"rowNumber\" style = \"font-weight: bold; text-align: right;\">2</td><td style = \"text-align: left;\">915812</td><td style = \"text-align: left;\">597579</td><td style = \"text-align: left;\">479801</td><td style = \"text-align: right;\">2017</td><td style = \"text-align: right;\">8</td></tr><tr><td class = \"rowNumber\" style = \"font-weight: bold; text-align: right;\">3</td><td style = \"text-align: left;\">916294</td><td style = \"text-align: left;\">597579</td><td style = \"text-align: left;\">479801</td><td style = \"text-align: right;\">2017</td><td style = \"text-align: right;\">8</td></tr><tr><td class = \"rowNumber\" style = \"font-weight: bold; text-align: right;\">4</td><td style = \"text-align: left;\">916246</td><td style = \"text-align: left;\">597579</td><td style = \"text-align: left;\">479801</td><td style = \"text-align: right;\">2017</td><td style = \"text-align: right;\">8</td></tr><tr><td class = \"rowNumber\" style = \"font-weight: bold; text-align: right;\">5</td><td style = \"text-align: left;\">916009</td><td style = \"text-align: left;\">597579</td><td style = \"text-align: left;\">479801</td><td style = \"text-align: right;\">2017</td><td style = \"text-align: right;\">8</td></tr><tr><td class = \"rowNumber\" style = \"font-weight: bold; text-align: right;\">6</td><td style = \"text-align: left;\">916104</td><td style = \"text-align: left;\">597579</td><td style = \"text-align: left;\">479801</td><td style = \"text-align: right;\">2017</td><td style = \"text-align: right;\">8</td></tr><tr><td class = \"rowNumber\" style = \"font-weight: bold; text-align: right;\">7</td><td style = \"text-align: left;\">916518</td><td style = \"text-align: left;\">597579</td><td style = \"text-align: left;\">479801</td><td style = \"text-align: right;\">2017</td><td style = \"text-align: right;\">8</td></tr><tr><td class = \"rowNumber\" style = \"font-weight: bold; text-align: right;\">8</td><td style = \"text-align: left;\">916274</td><td style = \"text-align: left;\">597579</td><td style = \"text-align: left;\">479801</td><td style = \"text-align: right;\">2017</td><td style = \"text-align: right;\">8</td></tr><tr><td class = \"rowNumber\" style = \"font-weight: bold; text-align: right;\">9</td><td style = \"text-align: left;\">916506</td><td style = \"text-align: left;\">597579</td><td style = \"text-align: left;\">479801</td><td style = \"text-align: right;\">2017</td><td style = \"text-align: right;\">8</td></tr><tr><td class = \"rowNumber\" style = \"font-weight: bold; text-align: right;\">10</td><td style = \"text-align: left;\">916042</td><td style = \"text-align: left;\">597579</td><td style = \"text-align: left;\">479801</td><td style = \"text-align: right;\">2017</td><td style = \"text-align: right;\">8</td></tr><tr><td class = \"rowNumber\" style = \"font-weight: bold; text-align: right;\">11</td><td style = \"text-align: left;\">916510</td><td style = \"text-align: left;\">597579</td><td style = \"text-align: left;\">479801</td><td style = \"text-align: right;\">2017</td><td style = \"text-align: right;\">8</td></tr><tr><td class = \"rowNumber\" style = \"font-weight: bold; text-align: right;\">12</td><td style = \"text-align: left;\">915977</td><td style = \"text-align: left;\">597579</td><td style = \"text-align: left;\">479801</td><td style = \"text-align: right;\">2017</td><td style = \"text-align: right;\">8</td></tr><tr><td class = \"rowNumber\" style = \"font-weight: bold; text-align: right;\">13</td><td style = \"text-align: left;\">915817</td><td style = \"text-align: left;\">597579</td><td style = \"text-align: left;\">479801</td><td style = \"text-align: right;\">2017</td><td style = \"text-align: right;\">8</td></tr><tr><td style = \"text-align: right;\">&vellip;</td><td style = \"text-align: right;\">&vellip;</td><td style = \"text-align: right;\">&vellip;</td><td style = \"text-align: right;\">&vellip;</td><td style = \"text-align: right;\">&vellip;</td><td style = \"text-align: right;\">&vellip;</td></tr><tr><td class = \"rowNumber\" style = \"font-weight: bold; text-align: right;\">2769</td><td style = \"text-align: left;\">919260</td><td style = \"text-align: left;\">597579</td><td style = \"text-align: left;\">900730</td><td style = \"text-align: right;\">2017</td><td style = \"text-align: right;\">8</td></tr><tr><td class = \"rowNumber\" style = \"font-weight: bold; text-align: right;\">2770</td><td style = \"text-align: left;\">919212</td><td style = \"text-align: left;\">597579</td><td style = \"text-align: left;\">900730</td><td style = \"text-align: right;\">2017</td><td style = \"text-align: right;\">8</td></tr><tr><td class = \"rowNumber\" style = \"font-weight: bold; text-align: right;\">2771</td><td style = \"text-align: left;\">918730</td><td style = \"text-align: left;\">597579</td><td style = \"text-align: left;\">900730</td><td style = \"text-align: right;\">2017</td><td style = \"text-align: right;\">8</td></tr><tr><td class = \"rowNumber\" style = \"font-weight: bold; text-align: right;\">2772</td><td style = \"text-align: left;\">918783</td><td style = \"text-align: left;\">597579</td><td style = \"text-align: left;\">900730</td><td style = \"text-align: right;\">2017</td><td style = \"text-align: right;\">8</td></tr><tr><td class = \"rowNumber\" style = \"font-weight: bold; text-align: right;\">2773</td><td style = \"text-align: left;\">919005</td><td style = \"text-align: left;\">597579</td><td style = \"text-align: left;\">900730</td><td style = \"text-align: right;\">2017</td><td style = \"text-align: right;\">8</td></tr><tr><td class = \"rowNumber\" style = \"font-weight: bold; text-align: right;\">2774</td><td style = \"text-align: left;\">918896</td><td style = \"text-align: left;\">597579</td><td style = \"text-align: left;\">900730</td><td style = \"text-align: right;\">2017</td><td style = \"text-align: right;\">8</td></tr><tr><td class = \"rowNumber\" style = \"font-weight: bold; text-align: right;\">2775</td><td style = \"text-align: left;\">919038</td><td style = \"text-align: left;\">597579</td><td style = \"text-align: left;\">900730</td><td style = \"text-align: right;\">2017</td><td style = \"text-align: right;\">8</td></tr><tr><td class = \"rowNumber\" style = \"font-weight: bold; text-align: right;\">2776</td><td style = \"text-align: left;\">918721</td><td style = \"text-align: left;\">597579</td><td style = \"text-align: left;\">900730</td><td style = \"text-align: right;\">2017</td><td style = \"text-align: right;\">8</td></tr><tr><td class = \"rowNumber\" style = \"font-weight: bold; text-align: right;\">2777</td><td style = \"text-align: left;\">919049</td><td style = \"text-align: left;\">597579</td><td style = \"text-align: left;\">900730</td><td style = \"text-align: right;\">2017</td><td style = \"text-align: right;\">8</td></tr><tr><td class = \"rowNumber\" style = \"font-weight: bold; text-align: right;\">2778</td><td style = \"text-align: left;\">918919</td><td style = \"text-align: left;\">597579</td><td style = \"text-align: left;\">900730</td><td style = \"text-align: right;\">2017</td><td style = \"text-align: right;\">8</td></tr><tr><td class = \"rowNumber\" style = \"font-weight: bold; text-align: right;\">2779</td><td style = \"text-align: left;\">918637</td><td style = \"text-align: left;\">597579</td><td style = \"text-align: left;\">900730</td><td style = \"text-align: right;\">2017</td><td style = \"text-align: right;\">8</td></tr><tr><td class = \"rowNumber\" style = \"font-weight: bold; text-align: right;\">2780</td><td style = \"text-align: left;\">918786</td><td style = \"text-align: left;\">597579</td><td style = \"text-align: left;\">900730</td><td style = \"text-align: right;\">2017</td><td style = \"text-align: right;\">8</td></tr></tbody></table></div>"
      ],
      "text/latex": [
       "\\begin{tabular}{r|ccccc}\n",
       "\t& Id & Sire & Dam & Year\\_Class & Selected\\_gen\\\\\n",
       "\t\\hline\n",
       "\t& String & String7 & String7 & Int64 & Int64\\\\\n",
       "\t\\hline\n",
       "\t1 & 916577 & 597579 & 479801 & 2017 & 8 \\\\\n",
       "\t2 & 915812 & 597579 & 479801 & 2017 & 8 \\\\\n",
       "\t3 & 916294 & 597579 & 479801 & 2017 & 8 \\\\\n",
       "\t4 & 916246 & 597579 & 479801 & 2017 & 8 \\\\\n",
       "\t5 & 916009 & 597579 & 479801 & 2017 & 8 \\\\\n",
       "\t6 & 916104 & 597579 & 479801 & 2017 & 8 \\\\\n",
       "\t7 & 916518 & 597579 & 479801 & 2017 & 8 \\\\\n",
       "\t8 & 916274 & 597579 & 479801 & 2017 & 8 \\\\\n",
       "\t9 & 916506 & 597579 & 479801 & 2017 & 8 \\\\\n",
       "\t10 & 916042 & 597579 & 479801 & 2017 & 8 \\\\\n",
       "\t11 & 916510 & 597579 & 479801 & 2017 & 8 \\\\\n",
       "\t12 & 915977 & 597579 & 479801 & 2017 & 8 \\\\\n",
       "\t13 & 915817 & 597579 & 479801 & 2017 & 8 \\\\\n",
       "\t14 & 915724 & 597579 & 479801 & 2017 & 8 \\\\\n",
       "\t15 & 915948 & 597579 & 479801 & 2017 & 8 \\\\\n",
       "\t16 & 916299 & 597579 & 479801 & 2017 & 8 \\\\\n",
       "\t17 & 916381 & 597579 & 479801 & 2017 & 8 \\\\\n",
       "\t18 & 915718 & 597579 & 479801 & 2017 & 8 \\\\\n",
       "\t19 & 915964 & 597579 & 479801 & 2017 & 8 \\\\\n",
       "\t20 & 916436 & 597579 & 479801 & 2017 & 8 \\\\\n",
       "\t21 & 916560 & 597579 & 479801 & 2017 & 8 \\\\\n",
       "\t22 & 916315 & 597579 & 479801 & 2017 & 8 \\\\\n",
       "\t23 & 916149 & 597579 & 479801 & 2017 & 8 \\\\\n",
       "\t24 & 916195 & 597579 & 479801 & 2017 & 8 \\\\\n",
       "\t$\\dots$ & $\\dots$ & $\\dots$ & $\\dots$ & $\\dots$ & $\\dots$ \\\\\n",
       "\\end{tabular}\n"
      ],
      "text/plain": [
       "\u001b[1m2780×5 DataFrame\u001b[0m\n",
       "\u001b[1m  Row \u001b[0m│\u001b[1m Id     \u001b[0m\u001b[1m Sire    \u001b[0m\u001b[1m Dam     \u001b[0m\u001b[1m Year_Class \u001b[0m\u001b[1m Selected_gen \u001b[0m\n",
       "      │\u001b[90m String \u001b[0m\u001b[90m String7 \u001b[0m\u001b[90m String7 \u001b[0m\u001b[90m Int64      \u001b[0m\u001b[90m Int64        \u001b[0m\n",
       "──────┼────────────────────────────────────────────────────\n",
       "    1 │ 916577  597579   479801         2017             8\n",
       "    2 │ 915812  597579   479801         2017             8\n",
       "    3 │ 916294  597579   479801         2017             8\n",
       "    4 │ 916246  597579   479801         2017             8\n",
       "    5 │ 916009  597579   479801         2017             8\n",
       "    6 │ 916104  597579   479801         2017             8\n",
       "    7 │ 916518  597579   479801         2017             8\n",
       "    8 │ 916274  597579   479801         2017             8\n",
       "  ⋮   │   ⋮        ⋮        ⋮         ⋮            ⋮\n",
       " 2774 │ 918896  597579   900730         2017             8\n",
       " 2775 │ 919038  597579   900730         2017             8\n",
       " 2776 │ 918721  597579   900730         2017             8\n",
       " 2777 │ 919049  597579   900730         2017             8\n",
       " 2778 │ 918919  597579   900730         2017             8\n",
       " 2779 │ 918637  597579   900730         2017             8\n",
       " 2780 │ 918786  597579   900730         2017             8\n",
       "\u001b[36m                                          2765 rows omitted\u001b[0m"
      ]
     },
     "metadata": {},
     "output_type": "display_data"
    }
   ],
   "source": [
    "semijoin(pedigree, pheno; on=[:Id => :PIT])"
   ]
  },
  {
   "cell_type": "markdown",
   "metadata": {},
   "source": [
    "Equivalently if we want to use only the non matching rows but without the extra columns of the 2nd dataframe we have the anti join."
   ]
  },
  {
   "cell_type": "code",
   "execution_count": 29,
   "metadata": {},
   "outputs": [
    {
     "data": {
      "text/html": [
       "<div><div style = \"float: left;\"><span>5582×5 DataFrame</span></div><div style = \"float: right;\"><span style = \"font-style: italic;\">5557 rows omitted</span></div><div style = \"clear: both;\"></div></div><div class = \"data-frame\" style = \"overflow-x: scroll;\"><table class = \"data-frame\" style = \"margin-bottom: 6px;\"><thead><tr class = \"header\"><th class = \"rowNumber\" style = \"font-weight: bold; text-align: right;\">Row</th><th style = \"text-align: left;\">Id</th><th style = \"text-align: left;\">Sire</th><th style = \"text-align: left;\">Dam</th><th style = \"text-align: left;\">Year_Class</th><th style = \"text-align: left;\">Selected_gen</th></tr><tr class = \"subheader headerLastRow\"><th class = \"rowNumber\" style = \"font-weight: bold; text-align: right;\"></th><th title = \"String\" style = \"text-align: left;\">String</th><th title = \"String7\" style = \"text-align: left;\">String7</th><th title = \"String7\" style = \"text-align: left;\">String7</th><th title = \"Int64\" style = \"text-align: left;\">Int64</th><th title = \"Int64\" style = \"text-align: left;\">Int64</th></tr></thead><tbody><tr><td class = \"rowNumber\" style = \"font-weight: bold; text-align: right;\">1</td><td style = \"text-align: left;\">478665</td><td style = \"text-align: left;\">0</td><td style = \"text-align: left;\">0</td><td style = \"text-align: right;\">2013</td><td style = \"text-align: right;\">7</td></tr><tr><td class = \"rowNumber\" style = \"font-weight: bold; text-align: right;\">2</td><td style = \"text-align: left;\">478620</td><td style = \"text-align: left;\">0</td><td style = \"text-align: left;\">0</td><td style = \"text-align: right;\">2013</td><td style = \"text-align: right;\">7</td></tr><tr><td class = \"rowNumber\" style = \"font-weight: bold; text-align: right;\">3</td><td style = \"text-align: left;\">478601</td><td style = \"text-align: left;\">02F49B</td><td style = \"text-align: left;\">01FD38</td><td style = \"text-align: right;\">2013</td><td style = \"text-align: right;\">7</td></tr><tr><td class = \"rowNumber\" style = \"font-weight: bold; text-align: right;\">4</td><td style = \"text-align: left;\">478656</td><td style = \"text-align: left;\">02F49B</td><td style = \"text-align: left;\">01FD38</td><td style = \"text-align: right;\">2013</td><td style = \"text-align: right;\">7</td></tr><tr><td class = \"rowNumber\" style = \"font-weight: bold; text-align: right;\">5</td><td style = \"text-align: left;\">478671</td><td style = \"text-align: left;\">02F49B</td><td style = \"text-align: left;\">01FD38</td><td style = \"text-align: right;\">2013</td><td style = \"text-align: right;\">7</td></tr><tr><td class = \"rowNumber\" style = \"font-weight: bold; text-align: right;\">6</td><td style = \"text-align: left;\">478651</td><td style = \"text-align: left;\">02F49B</td><td style = \"text-align: left;\">01FD38</td><td style = \"text-align: right;\">2013</td><td style = \"text-align: right;\">7</td></tr><tr><td class = \"rowNumber\" style = \"font-weight: bold; text-align: right;\">7</td><td style = \"text-align: left;\">478660</td><td style = \"text-align: left;\">0</td><td style = \"text-align: left;\">0</td><td style = \"text-align: right;\">2013</td><td style = \"text-align: right;\">7</td></tr><tr><td class = \"rowNumber\" style = \"font-weight: bold; text-align: right;\">8</td><td style = \"text-align: left;\">478667</td><td style = \"text-align: left;\">02F49B</td><td style = \"text-align: left;\">01FD38</td><td style = \"text-align: right;\">2013</td><td style = \"text-align: right;\">7</td></tr><tr><td class = \"rowNumber\" style = \"font-weight: bold; text-align: right;\">9</td><td style = \"text-align: left;\">478649</td><td style = \"text-align: left;\">02F49B</td><td style = \"text-align: left;\">01FD38</td><td style = \"text-align: right;\">2013</td><td style = \"text-align: right;\">7</td></tr><tr><td class = \"rowNumber\" style = \"font-weight: bold; text-align: right;\">10</td><td style = \"text-align: left;\">478661</td><td style = \"text-align: left;\">02F49B</td><td style = \"text-align: left;\">01FD38</td><td style = \"text-align: right;\">2013</td><td style = \"text-align: right;\">7</td></tr><tr><td class = \"rowNumber\" style = \"font-weight: bold; text-align: right;\">11</td><td style = \"text-align: left;\">478610</td><td style = \"text-align: left;\">02F49B</td><td style = \"text-align: left;\">01FD38</td><td style = \"text-align: right;\">2013</td><td style = \"text-align: right;\">7</td></tr><tr><td class = \"rowNumber\" style = \"font-weight: bold; text-align: right;\">12</td><td style = \"text-align: left;\">478642</td><td style = \"text-align: left;\">02F49B</td><td style = \"text-align: left;\">01FD38</td><td style = \"text-align: right;\">2013</td><td style = \"text-align: right;\">7</td></tr><tr><td class = \"rowNumber\" style = \"font-weight: bold; text-align: right;\">13</td><td style = \"text-align: left;\">478612</td><td style = \"text-align: left;\">02F49B</td><td style = \"text-align: left;\">01FD38</td><td style = \"text-align: right;\">2013</td><td style = \"text-align: right;\">7</td></tr><tr><td style = \"text-align: right;\">&vellip;</td><td style = \"text-align: right;\">&vellip;</td><td style = \"text-align: right;\">&vellip;</td><td style = \"text-align: right;\">&vellip;</td><td style = \"text-align: right;\">&vellip;</td><td style = \"text-align: right;\">&vellip;</td></tr><tr><td class = \"rowNumber\" style = \"font-weight: bold; text-align: right;\">5571</td><td style = \"text-align: left;\">919271</td><td style = \"text-align: left;\">597579</td><td style = \"text-align: left;\">900730</td><td style = \"text-align: right;\">2017</td><td style = \"text-align: right;\">8</td></tr><tr><td class = \"rowNumber\" style = \"font-weight: bold; text-align: right;\">5572</td><td style = \"text-align: left;\">919555</td><td style = \"text-align: left;\">597579</td><td style = \"text-align: left;\">900730</td><td style = \"text-align: right;\">2017</td><td style = \"text-align: right;\">8</td></tr><tr><td class = \"rowNumber\" style = \"font-weight: bold; text-align: right;\">5573</td><td style = \"text-align: left;\">919343</td><td style = \"text-align: left;\">597579</td><td style = \"text-align: left;\">900730</td><td style = \"text-align: right;\">2017</td><td style = \"text-align: right;\">8</td></tr><tr><td class = \"rowNumber\" style = \"font-weight: bold; text-align: right;\">5574</td><td style = \"text-align: left;\">918821</td><td style = \"text-align: left;\">597579</td><td style = \"text-align: left;\">900730</td><td style = \"text-align: right;\">2017</td><td style = \"text-align: right;\">8</td></tr><tr><td class = \"rowNumber\" style = \"font-weight: bold; text-align: right;\">5575</td><td style = \"text-align: left;\">918677</td><td style = \"text-align: left;\">597579</td><td style = \"text-align: left;\">900730</td><td style = \"text-align: right;\">2017</td><td style = \"text-align: right;\">8</td></tr><tr><td class = \"rowNumber\" style = \"font-weight: bold; text-align: right;\">5576</td><td style = \"text-align: left;\">918925</td><td style = \"text-align: left;\">597579</td><td style = \"text-align: left;\">900730</td><td style = \"text-align: right;\">2017</td><td style = \"text-align: right;\">8</td></tr><tr><td class = \"rowNumber\" style = \"font-weight: bold; text-align: right;\">5577</td><td style = \"text-align: left;\">919071</td><td style = \"text-align: left;\">597579</td><td style = \"text-align: left;\">900730</td><td style = \"text-align: right;\">2017</td><td style = \"text-align: right;\">8</td></tr><tr><td class = \"rowNumber\" style = \"font-weight: bold; text-align: right;\">5578</td><td style = \"text-align: left;\">919218</td><td style = \"text-align: left;\">597579</td><td style = \"text-align: left;\">900730</td><td style = \"text-align: right;\">2017</td><td style = \"text-align: right;\">8</td></tr><tr><td class = \"rowNumber\" style = \"font-weight: bold; text-align: right;\">5579</td><td style = \"text-align: left;\">919013</td><td style = \"text-align: left;\">597579</td><td style = \"text-align: left;\">900730</td><td style = \"text-align: right;\">2017</td><td style = \"text-align: right;\">8</td></tr><tr><td class = \"rowNumber\" style = \"font-weight: bold; text-align: right;\">5580</td><td style = \"text-align: left;\">919448</td><td style = \"text-align: left;\">597579</td><td style = \"text-align: left;\">900730</td><td style = \"text-align: right;\">2017</td><td style = \"text-align: right;\">8</td></tr><tr><td class = \"rowNumber\" style = \"font-weight: bold; text-align: right;\">5581</td><td style = \"text-align: left;\">919246</td><td style = \"text-align: left;\">597579</td><td style = \"text-align: left;\">900730</td><td style = \"text-align: right;\">2017</td><td style = \"text-align: right;\">8</td></tr><tr><td class = \"rowNumber\" style = \"font-weight: bold; text-align: right;\">5582</td><td style = \"text-align: left;\">919420</td><td style = \"text-align: left;\">597579</td><td style = \"text-align: left;\">900730</td><td style = \"text-align: right;\">2017</td><td style = \"text-align: right;\">8</td></tr></tbody></table></div>"
      ],
      "text/latex": [
       "\\begin{tabular}{r|ccccc}\n",
       "\t& Id & Sire & Dam & Year\\_Class & Selected\\_gen\\\\\n",
       "\t\\hline\n",
       "\t& String & String7 & String7 & Int64 & Int64\\\\\n",
       "\t\\hline\n",
       "\t1 & 478665 & 0 & 0 & 2013 & 7 \\\\\n",
       "\t2 & 478620 & 0 & 0 & 2013 & 7 \\\\\n",
       "\t3 & 478601 & 02F49B & 01FD38 & 2013 & 7 \\\\\n",
       "\t4 & 478656 & 02F49B & 01FD38 & 2013 & 7 \\\\\n",
       "\t5 & 478671 & 02F49B & 01FD38 & 2013 & 7 \\\\\n",
       "\t6 & 478651 & 02F49B & 01FD38 & 2013 & 7 \\\\\n",
       "\t7 & 478660 & 0 & 0 & 2013 & 7 \\\\\n",
       "\t8 & 478667 & 02F49B & 01FD38 & 2013 & 7 \\\\\n",
       "\t9 & 478649 & 02F49B & 01FD38 & 2013 & 7 \\\\\n",
       "\t10 & 478661 & 02F49B & 01FD38 & 2013 & 7 \\\\\n",
       "\t11 & 478610 & 02F49B & 01FD38 & 2013 & 7 \\\\\n",
       "\t12 & 478642 & 02F49B & 01FD38 & 2013 & 7 \\\\\n",
       "\t13 & 478612 & 02F49B & 01FD38 & 2013 & 7 \\\\\n",
       "\t14 & 478644 & 02F49B & 01FD38 & 2013 & 7 \\\\\n",
       "\t15 & 478637 & 02F49B & 01FD38 & 2013 & 7 \\\\\n",
       "\t16 & 478666 & 02F49B & 01FD38 & 2013 & 7 \\\\\n",
       "\t17 & 478630 & 02F49B & 01FD38 & 2013 & 7 \\\\\n",
       "\t18 & 478623 & 02F49B & 01FD38 & 2013 & 7 \\\\\n",
       "\t19 & 478639 & 02F49B & 01FD38 & 2013 & 7 \\\\\n",
       "\t20 & 478629 & 02F49B & 01FD38 & 2013 & 7 \\\\\n",
       "\t21 & 478569 & 02F49B & 01FD38 & 2013 & 7 \\\\\n",
       "\t22 & 478654 & 02F49B & 01FD38 & 2013 & 7 \\\\\n",
       "\t23 & 478657 & 02F49B & 01FD38 & 2013 & 7 \\\\\n",
       "\t24 & 478575 & 02F49B & 01FD38 & 2013 & 7 \\\\\n",
       "\t$\\dots$ & $\\dots$ & $\\dots$ & $\\dots$ & $\\dots$ & $\\dots$ \\\\\n",
       "\\end{tabular}\n"
      ],
      "text/plain": [
       "\u001b[1m5582×5 DataFrame\u001b[0m\n",
       "\u001b[1m  Row \u001b[0m│\u001b[1m Id     \u001b[0m\u001b[1m Sire    \u001b[0m\u001b[1m Dam     \u001b[0m\u001b[1m Year_Class \u001b[0m\u001b[1m Selected_gen \u001b[0m\n",
       "      │\u001b[90m String \u001b[0m\u001b[90m String7 \u001b[0m\u001b[90m String7 \u001b[0m\u001b[90m Int64      \u001b[0m\u001b[90m Int64        \u001b[0m\n",
       "──────┼────────────────────────────────────────────────────\n",
       "    1 │ 478665  0        0              2013             7\n",
       "    2 │ 478620  0        0              2013             7\n",
       "    3 │ 478601  02F49B   01FD38         2013             7\n",
       "    4 │ 478656  02F49B   01FD38         2013             7\n",
       "    5 │ 478671  02F49B   01FD38         2013             7\n",
       "    6 │ 478651  02F49B   01FD38         2013             7\n",
       "    7 │ 478660  0        0              2013             7\n",
       "    8 │ 478667  02F49B   01FD38         2013             7\n",
       "  ⋮   │   ⋮        ⋮        ⋮         ⋮            ⋮\n",
       " 5576 │ 918925  597579   900730         2017             8\n",
       " 5577 │ 919071  597579   900730         2017             8\n",
       " 5578 │ 919218  597579   900730         2017             8\n",
       " 5579 │ 919013  597579   900730         2017             8\n",
       " 5580 │ 919448  597579   900730         2017             8\n",
       " 5581 │ 919246  597579   900730         2017             8\n",
       " 5582 │ 919420  597579   900730         2017             8\n",
       "\u001b[36m                                          5567 rows omitted\u001b[0m"
      ]
     },
     "metadata": {},
     "output_type": "display_data"
    }
   ],
   "source": [
    "antijoin(pedigree, pheno; on=[:Id => :PIT])"
   ]
  },
  {
   "cell_type": "markdown",
   "metadata": {},
   "source": [
    "For in place updates you have the option of using the `leftjoin!`."
   ]
  },
  {
   "cell_type": "markdown",
   "metadata": {},
   "source": [
    "## Exercises"
   ]
  },
  {
   "cell_type": "markdown",
   "metadata": {},
   "source": [
    "### Exercise 1"
   ]
  },
  {
   "cell_type": "markdown",
   "metadata": {},
   "source": [
    "* Load again the ches games dataset from `games.csv`.\n",
    "* Retain the columns that contain `name`, `winner`, `rated`, `rating` and `status` in their name.\n",
    "* Find the average rating of white and black players that played the `Queen's Gambit` opening.\n",
    "* How many times the Sicilian opening was played. What percentage of those games were won by black\n",
    "* With which opening has the black the best chances of winning"
   ]
  },
  {
   "cell_type": "markdown",
   "metadata": {},
   "source": [
    "### Exercise 2"
   ]
  },
  {
   "cell_type": "markdown",
   "metadata": {},
   "source": [
    "We will work with the `ac_ped.txt`and the `ac_pheno.txt` datasets. The former is a pedigree file and contains information about the father, the mother of each animal as well as the year when it was born and its generation. The other data set contains phenotypic information related to growth, the tank where each animal was reared, its sex and the site."
   ]
  },
  {
   "cell_type": "markdown",
   "metadata": {},
   "source": [
    "* For the animals appearing in the `ac_pheno.txt`find the family sizes. Which family has the largest size.\n",
    "* Which family has the largest mean weight.\n",
    "* Create a table where each row denotes a different family and separate columns for each sex category populated by the corresponding counts."
   ]
  },
  {
   "cell_type": "markdown",
   "metadata": {},
   "source": []
  }
 ],
 "metadata": {
  "kernelspec": {
   "display_name": "Julia 1.11.1",
   "language": "julia",
   "name": "julia-1.11"
  },
  "language_info": {
   "file_extension": ".jl",
   "mimetype": "application/julia",
   "name": "julia",
   "version": "1.11.1"
  }
 },
 "nbformat": 4,
 "nbformat_minor": 2
}

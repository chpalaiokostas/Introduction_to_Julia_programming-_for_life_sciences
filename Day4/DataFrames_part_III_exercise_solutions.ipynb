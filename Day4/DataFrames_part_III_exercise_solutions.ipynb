{
 "cells": [
  {
   "cell_type": "markdown",
   "metadata": {},
   "source": [
    "## Solutions"
   ]
  },
  {
   "cell_type": "markdown",
   "metadata": {},
   "source": [
    "### Exercise 1"
   ]
  },
  {
   "cell_type": "code",
   "execution_count": 1,
   "metadata": {},
   "outputs": [],
   "source": [
    "#Pkg.add(\"FreqTables\")\n",
    "using CSV, DataFrames, DataFramesMeta, FreqTables, Statistics"
   ]
  },
  {
   "cell_type": "markdown",
   "metadata": {},
   "source": [
    "Load again the ches games dataset from `games.csv`."
   ]
  },
  {
   "cell_type": "code",
   "execution_count": 2,
   "metadata": {},
   "outputs": [],
   "source": [
    "chess = CSV.read(\"games.csv\", DataFrame);"
   ]
  },
  {
   "cell_type": "markdown",
   "metadata": {},
   "source": [
    "Retain the columns that contain `name`, `winner`, `rated`, `rating` and `status` in their name."
   ]
  },
  {
   "cell_type": "code",
   "execution_count": 3,
   "metadata": {},
   "outputs": [
    {
     "data": {
      "text/html": [
       "<div><div style = \"float: left;\"><span>20058×6 DataFrame</span></div><div style = \"float: right;\"><span style = \"font-style: italic;\">20033 rows omitted</span></div><div style = \"clear: both;\"></div></div><div class = \"data-frame\" style = \"overflow-x: scroll;\"><table class = \"data-frame\" style = \"margin-bottom: 6px;\"><thead><tr class = \"header\"><th class = \"rowNumber\" style = \"font-weight: bold; text-align: right;\">Row</th><th style = \"text-align: left;\">rated</th><th style = \"text-align: left;\">victory_status</th><th style = \"text-align: left;\">winner</th><th style = \"text-align: left;\">white_rating</th><th style = \"text-align: left;\">black_rating</th><th style = \"text-align: left;\">opening_name</th></tr><tr class = \"subheader headerLastRow\"><th class = \"rowNumber\" style = \"font-weight: bold; text-align: right;\"></th><th title = \"Bool\" style = \"text-align: left;\">Bool</th><th title = \"String15\" style = \"text-align: left;\">String15</th><th title = \"String7\" style = \"text-align: left;\">String7</th><th title = \"Int64\" style = \"text-align: left;\">Int64</th><th title = \"Int64\" style = \"text-align: left;\">Int64</th><th title = \"String\" style = \"text-align: left;\">String</th></tr></thead><tbody><tr><td class = \"rowNumber\" style = \"font-weight: bold; text-align: right;\">1</td><td style = \"text-align: right;\">false</td><td style = \"text-align: left;\">outoftime</td><td style = \"text-align: left;\">white</td><td style = \"text-align: right;\">1500</td><td style = \"text-align: right;\">1191</td><td style = \"text-align: left;\">Slav Defense: Exchange Variation</td></tr><tr><td class = \"rowNumber\" style = \"font-weight: bold; text-align: right;\">2</td><td style = \"text-align: right;\">true</td><td style = \"text-align: left;\">resign</td><td style = \"text-align: left;\">black</td><td style = \"text-align: right;\">1322</td><td style = \"text-align: right;\">1261</td><td style = \"text-align: left;\">Nimzowitsch Defense: Kennedy Variation</td></tr><tr><td class = \"rowNumber\" style = \"font-weight: bold; text-align: right;\">3</td><td style = \"text-align: right;\">true</td><td style = \"text-align: left;\">mate</td><td style = \"text-align: left;\">white</td><td style = \"text-align: right;\">1496</td><td style = \"text-align: right;\">1500</td><td style = \"text-align: left;\">King&apos;s Pawn Game: Leonardis Variation</td></tr><tr><td class = \"rowNumber\" style = \"font-weight: bold; text-align: right;\">4</td><td style = \"text-align: right;\">true</td><td style = \"text-align: left;\">mate</td><td style = \"text-align: left;\">white</td><td style = \"text-align: right;\">1439</td><td style = \"text-align: right;\">1454</td><td style = \"text-align: left;\">Queen&apos;s Pawn Game: Zukertort Variation</td></tr><tr><td class = \"rowNumber\" style = \"font-weight: bold; text-align: right;\">5</td><td style = \"text-align: right;\">true</td><td style = \"text-align: left;\">mate</td><td style = \"text-align: left;\">white</td><td style = \"text-align: right;\">1523</td><td style = \"text-align: right;\">1469</td><td style = \"text-align: left;\">Philidor Defense</td></tr><tr><td class = \"rowNumber\" style = \"font-weight: bold; text-align: right;\">6</td><td style = \"text-align: right;\">false</td><td style = \"text-align: left;\">draw</td><td style = \"text-align: left;\">draw</td><td style = \"text-align: right;\">1250</td><td style = \"text-align: right;\">1002</td><td style = \"text-align: left;\">Sicilian Defense: Mongoose Variation</td></tr><tr><td class = \"rowNumber\" style = \"font-weight: bold; text-align: right;\">7</td><td style = \"text-align: right;\">true</td><td style = \"text-align: left;\">resign</td><td style = \"text-align: left;\">white</td><td style = \"text-align: right;\">1520</td><td style = \"text-align: right;\">1423</td><td style = \"text-align: left;\">Blackmar-Diemer Gambit: Pietrowsky Defense</td></tr><tr><td class = \"rowNumber\" style = \"font-weight: bold; text-align: right;\">8</td><td style = \"text-align: right;\">false</td><td style = \"text-align: left;\">resign</td><td style = \"text-align: left;\">black</td><td style = \"text-align: right;\">1413</td><td style = \"text-align: right;\">2108</td><td style = \"text-align: left;\">Nimzowitsch Defense: Kennedy Variation |  Linksspringer Variation</td></tr><tr><td class = \"rowNumber\" style = \"font-weight: bold; text-align: right;\">9</td><td style = \"text-align: right;\">true</td><td style = \"text-align: left;\">resign</td><td style = \"text-align: left;\">black</td><td style = \"text-align: right;\">1439</td><td style = \"text-align: right;\">1392</td><td style = \"text-align: left;\">Italian Game: Schilling-Kostic Gambit</td></tr><tr><td class = \"rowNumber\" style = \"font-weight: bold; text-align: right;\">10</td><td style = \"text-align: right;\">true</td><td style = \"text-align: left;\">mate</td><td style = \"text-align: left;\">white</td><td style = \"text-align: right;\">1381</td><td style = \"text-align: right;\">1209</td><td style = \"text-align: left;\">Scandinavian Defense: Mieses-Kotroc Variation</td></tr><tr><td class = \"rowNumber\" style = \"font-weight: bold; text-align: right;\">11</td><td style = \"text-align: right;\">false</td><td style = \"text-align: left;\">mate</td><td style = \"text-align: left;\">white</td><td style = \"text-align: right;\">1381</td><td style = \"text-align: right;\">1272</td><td style = \"text-align: left;\">Van&apos;t Kruijs Opening</td></tr><tr><td class = \"rowNumber\" style = \"font-weight: bold; text-align: right;\">12</td><td style = \"text-align: right;\">false</td><td style = \"text-align: left;\">resign</td><td style = \"text-align: left;\">black</td><td style = \"text-align: right;\">1381</td><td style = \"text-align: right;\">1867</td><td style = \"text-align: left;\">French Defense: Advance Variation |  Paulsen Attack</td></tr><tr><td class = \"rowNumber\" style = \"font-weight: bold; text-align: right;\">13</td><td style = \"text-align: right;\">false</td><td style = \"text-align: left;\">resign</td><td style = \"text-align: left;\">black</td><td style = \"text-align: right;\">1381</td><td style = \"text-align: right;\">1936</td><td style = \"text-align: left;\">French Defense: Knight Variation</td></tr><tr><td style = \"text-align: right;\">&vellip;</td><td style = \"text-align: right;\">&vellip;</td><td style = \"text-align: right;\">&vellip;</td><td style = \"text-align: right;\">&vellip;</td><td style = \"text-align: right;\">&vellip;</td><td style = \"text-align: right;\">&vellip;</td><td style = \"text-align: right;\">&vellip;</td></tr><tr><td class = \"rowNumber\" style = \"font-weight: bold; text-align: right;\">20047</td><td style = \"text-align: right;\">true</td><td style = \"text-align: left;\">mate</td><td style = \"text-align: left;\">black</td><td style = \"text-align: right;\">1250</td><td style = \"text-align: right;\">1235</td><td style = \"text-align: left;\">Pirc Defense</td></tr><tr><td class = \"rowNumber\" style = \"font-weight: bold; text-align: right;\">20048</td><td style = \"text-align: right;\">true</td><td style = \"text-align: left;\">mate</td><td style = \"text-align: left;\">white</td><td style = \"text-align: right;\">1222</td><td style = \"text-align: right;\">1262</td><td style = \"text-align: left;\">English Opening: Anglo-Scandinavian Defense</td></tr><tr><td class = \"rowNumber\" style = \"font-weight: bold; text-align: right;\">20049</td><td style = \"text-align: right;\">true</td><td style = \"text-align: left;\">resign</td><td style = \"text-align: left;\">white</td><td style = \"text-align: right;\">1252</td><td style = \"text-align: right;\">1233</td><td style = \"text-align: left;\">French Defense: Exchange Variation</td></tr><tr><td class = \"rowNumber\" style = \"font-weight: bold; text-align: right;\">20050</td><td style = \"text-align: right;\">true</td><td style = \"text-align: left;\">mate</td><td style = \"text-align: left;\">white</td><td style = \"text-align: right;\">1328</td><td style = \"text-align: right;\">1252</td><td style = \"text-align: left;\">French Defense: Two Knights Variation</td></tr><tr><td class = \"rowNumber\" style = \"font-weight: bold; text-align: right;\">20051</td><td style = \"text-align: right;\">true</td><td style = \"text-align: left;\">outoftime</td><td style = \"text-align: left;\">white</td><td style = \"text-align: right;\">1243</td><td style = \"text-align: right;\">1142</td><td style = \"text-align: left;\">English Opening: King&apos;s English Variation</td></tr><tr><td class = \"rowNumber\" style = \"font-weight: bold; text-align: right;\">20052</td><td style = \"text-align: right;\">true</td><td style = \"text-align: left;\">mate</td><td style = \"text-align: left;\">black</td><td style = \"text-align: right;\">1237</td><td style = \"text-align: right;\">1231</td><td style = \"text-align: left;\">French Defense: Knight Variation</td></tr><tr><td class = \"rowNumber\" style = \"font-weight: bold; text-align: right;\">20053</td><td style = \"text-align: right;\">true</td><td style = \"text-align: left;\">resign</td><td style = \"text-align: left;\">white</td><td style = \"text-align: right;\">1219</td><td style = \"text-align: right;\">1250</td><td style = \"text-align: left;\">English Defense</td></tr><tr><td class = \"rowNumber\" style = \"font-weight: bold; text-align: right;\">20054</td><td style = \"text-align: right;\">true</td><td style = \"text-align: left;\">resign</td><td style = \"text-align: left;\">white</td><td style = \"text-align: right;\">1691</td><td style = \"text-align: right;\">1220</td><td style = \"text-align: left;\">Dutch Defense</td></tr><tr><td class = \"rowNumber\" style = \"font-weight: bold; text-align: right;\">20055</td><td style = \"text-align: right;\">true</td><td style = \"text-align: left;\">mate</td><td style = \"text-align: left;\">black</td><td style = \"text-align: right;\">1233</td><td style = \"text-align: right;\">1196</td><td style = \"text-align: left;\">Queen&apos;s Pawn</td></tr><tr><td class = \"rowNumber\" style = \"font-weight: bold; text-align: right;\">20056</td><td style = \"text-align: right;\">true</td><td style = \"text-align: left;\">mate</td><td style = \"text-align: left;\">white</td><td style = \"text-align: right;\">1219</td><td style = \"text-align: right;\">1286</td><td style = \"text-align: left;\">Queen&apos;s Pawn Game: Mason Attack</td></tr><tr><td class = \"rowNumber\" style = \"font-weight: bold; text-align: right;\">20057</td><td style = \"text-align: right;\">true</td><td style = \"text-align: left;\">resign</td><td style = \"text-align: left;\">white</td><td style = \"text-align: right;\">1360</td><td style = \"text-align: right;\">1227</td><td style = \"text-align: left;\">Pirc Defense</td></tr><tr><td class = \"rowNumber\" style = \"font-weight: bold; text-align: right;\">20058</td><td style = \"text-align: right;\">true</td><td style = \"text-align: left;\">mate</td><td style = \"text-align: left;\">black</td><td style = \"text-align: right;\">1235</td><td style = \"text-align: right;\">1339</td><td style = \"text-align: left;\">Queen&apos;s Pawn Game: Mason Attack</td></tr></tbody></table></div>"
      ],
      "text/latex": [
       "\\begin{tabular}{r|cccccc}\n",
       "\t& rated & victory\\_status & winner & white\\_rating & black\\_rating & opening\\_name\\\\\n",
       "\t\\hline\n",
       "\t& Bool & String15 & String7 & Int64 & Int64 & String\\\\\n",
       "\t\\hline\n",
       "\t1 & 0 & outoftime & white & 1500 & 1191 & Slav Defense: Exchange Variation \\\\\n",
       "\t2 & 1 & resign & black & 1322 & 1261 & Nimzowitsch Defense: Kennedy Variation \\\\\n",
       "\t3 & 1 & mate & white & 1496 & 1500 & King's Pawn Game: Leonardis Variation \\\\\n",
       "\t4 & 1 & mate & white & 1439 & 1454 & Queen's Pawn Game: Zukertort Variation \\\\\n",
       "\t5 & 1 & mate & white & 1523 & 1469 & Philidor Defense \\\\\n",
       "\t6 & 0 & draw & draw & 1250 & 1002 & Sicilian Defense: Mongoose Variation \\\\\n",
       "\t7 & 1 & resign & white & 1520 & 1423 & Blackmar-Diemer Gambit: Pietrowsky Defense \\\\\n",
       "\t8 & 0 & resign & black & 1413 & 2108 & Nimzowitsch Defense: Kennedy Variation |  Linksspringer Variation \\\\\n",
       "\t9 & 1 & resign & black & 1439 & 1392 & Italian Game: Schilling-Kostic Gambit \\\\\n",
       "\t10 & 1 & mate & white & 1381 & 1209 & Scandinavian Defense: Mieses-Kotroc Variation \\\\\n",
       "\t11 & 0 & mate & white & 1381 & 1272 & Van't Kruijs Opening \\\\\n",
       "\t12 & 0 & resign & black & 1381 & 1867 & French Defense: Advance Variation |  Paulsen Attack \\\\\n",
       "\t13 & 0 & resign & black & 1381 & 1936 & French Defense: Knight Variation \\\\\n",
       "\t14 & 0 & resign & black & 1381 & 1607 & French Defense \\#2 \\\\\n",
       "\t15 & 0 & mate & white & 1094 & 1141 & Four Knights Game: Italian Variation \\\\\n",
       "\t16 & 0 & resign & black & 1141 & 1094 & Italian Game: Two Knights Defense |  Knight Attack \\\\\n",
       "\t17 & 0 & resign & black & 1094 & 1141 & Four Knights Game: Italian Variation \\\\\n",
       "\t18 & 0 & mate & black & 1141 & 1094 & Four Knights Game: Italian Variation \\\\\n",
       "\t19 & 0 & resign & black & 1094 & 1300 & Philidor Defense \\#3 \\\\\n",
       "\t20 & 0 & resign & white & 1500 & 1094 & Queen's Pawn Game \\\\\n",
       "\t21 & 0 & resign & black & 1094 & 1676 & Italian Game: Anti-Fried Liver Defense \\\\\n",
       "\t22 & 0 & resign & white & 1094 & 1068 & Horwitz Defense \\\\\n",
       "\t23 & 0 & resign & white & 1500 & 1094 & Sicilian Defense: Bowdler Attack \\\\\n",
       "\t24 & 1 & resign & white & 1307 & 1106 & English Opening: King's English Variation |  Reversed Closed Sicilian \\\\\n",
       "\t$\\dots$ & $\\dots$ & $\\dots$ & $\\dots$ & $\\dots$ & $\\dots$ & $\\dots$ \\\\\n",
       "\\end{tabular}\n"
      ],
      "text/plain": [
       "\u001b[1m20058×6 DataFrame\u001b[0m\n",
       "\u001b[1m   Row \u001b[0m│\u001b[1m rated \u001b[0m\u001b[1m victory_status \u001b[0m\u001b[1m winner  \u001b[0m\u001b[1m white_rating \u001b[0m\u001b[1m black_rating \u001b[0m\u001b[1m opening_n\u001b[0m ⋯\n",
       "       │\u001b[90m Bool  \u001b[0m\u001b[90m String15       \u001b[0m\u001b[90m String7 \u001b[0m\u001b[90m Int64        \u001b[0m\u001b[90m Int64        \u001b[0m\u001b[90m String   \u001b[0m ⋯\n",
       "───────┼────────────────────────────────────────────────────────────────────────\n",
       "     1 │ false  outoftime       white            1500          1191  Slav Defe ⋯\n",
       "     2 │  true  resign          black            1322          1261  Nimzowits\n",
       "     3 │  true  mate            white            1496          1500  King's Pa\n",
       "     4 │  true  mate            white            1439          1454  Queen's P\n",
       "     5 │  true  mate            white            1523          1469  Philidor  ⋯\n",
       "     6 │ false  draw            draw             1250          1002  Sicilian\n",
       "     7 │  true  resign          white            1520          1423  Blackmar-\n",
       "     8 │ false  resign          black            1413          2108  Nimzowits\n",
       "   ⋮   │   ⋮          ⋮            ⋮          ⋮             ⋮                  ⋱\n",
       " 20052 │  true  mate            black            1237          1231  French De ⋯\n",
       " 20053 │  true  resign          white            1219          1250  English D\n",
       " 20054 │  true  resign          white            1691          1220  Dutch Def\n",
       " 20055 │  true  mate            black            1233          1196  Queen's P\n",
       " 20056 │  true  mate            white            1219          1286  Queen's P ⋯\n",
       " 20057 │  true  resign          white            1360          1227  Pirc Defe\n",
       " 20058 │  true  mate            black            1235          1339  Queen's P\n",
       "\u001b[36m                                                 1 column and 20043 rows omitted\u001b[0m"
      ]
     },
     "metadata": {},
     "output_type": "display_data"
    }
   ],
   "source": [
    "select!(chess,r\"winner|name|rat\\w+|status\")"
   ]
  },
  {
   "cell_type": "markdown",
   "metadata": {},
   "source": [
    "Find the average rating of white and black players that played the `Queen's Gambit` opening."
   ]
  },
  {
   "cell_type": "code",
   "execution_count": 28,
   "metadata": {},
   "outputs": [
    {
     "data": {
      "text/html": [
       "<div><div style = \"float: left;\"><span>1×3 DataFrame</span></div><div style = \"clear: both;\"></div></div><div class = \"data-frame\" style = \"overflow-x: scroll;\"><table class = \"data-frame\" style = \"margin-bottom: 6px;\"><thead><tr class = \"header\"><th class = \"rowNumber\" style = \"font-weight: bold; text-align: right;\">Row</th><th style = \"text-align: left;\">average_white_rating</th><th style = \"text-align: left;\">average_black_rating</th><th style = \"text-align: left;\">num_games</th></tr><tr class = \"subheader headerLastRow\"><th class = \"rowNumber\" style = \"font-weight: bold; text-align: right;\"></th><th title = \"Float64\" style = \"text-align: left;\">Float64</th><th title = \"Float64\" style = \"text-align: left;\">Float64</th><th title = \"Int64\" style = \"text-align: left;\">Int64</th></tr></thead><tbody><tr><td class = \"rowNumber\" style = \"font-weight: bold; text-align: right;\">1</td><td style = \"text-align: right;\">1664.67</td><td style = \"text-align: right;\">1611.17</td><td style = \"text-align: right;\">965</td></tr></tbody></table></div>"
      ],
      "text/latex": [
       "\\begin{tabular}{r|ccc}\n",
       "\t& average\\_white\\_rating & average\\_black\\_rating & num\\_games\\\\\n",
       "\t\\hline\n",
       "\t& Float64 & Float64 & Int64\\\\\n",
       "\t\\hline\n",
       "\t1 & 1664.67 & 1611.17 & 965 \\\\\n",
       "\\end{tabular}\n"
      ],
      "text/plain": [
       "\u001b[1m1×3 DataFrame\u001b[0m\n",
       "\u001b[1m Row \u001b[0m│\u001b[1m average_white_rating \u001b[0m\u001b[1m average_black_rating \u001b[0m\u001b[1m num_games \u001b[0m\n",
       "     │\u001b[90m Float64              \u001b[0m\u001b[90m Float64              \u001b[0m\u001b[90m Int64     \u001b[0m\n",
       "─────┼───────────────────────────────────────────────────────\n",
       "   1 │              1664.67               1611.17        965"
      ]
     },
     "metadata": {},
     "output_type": "display_data"
    }
   ],
   "source": [
    "@chain chess begin\n",
    "    filter(x -> contains(x.opening_name, \"Queen's Gambit\"),_)\n",
    "    combine(:white_rating => mean => :average_white_rating,\n",
    "            :black_rating => mean => :average_black_rating, nrow => :num_games)\n",
    "end"
   ]
  },
  {
   "cell_type": "markdown",
   "metadata": {},
   "source": [
    "How many times the Sicilian opening was played. What percentage of those games were won by black"
   ]
  },
  {
   "cell_type": "code",
   "execution_count": 29,
   "metadata": {},
   "outputs": [
    {
     "data": {
      "text/html": [
       "<div><div style = \"float: left;\"><span>1×1 DataFrame</span></div><div style = \"clear: both;\"></div></div><div class = \"data-frame\" style = \"overflow-x: scroll;\"><table class = \"data-frame\" style = \"margin-bottom: 6px;\"><thead><tr class = \"header\"><th class = \"rowNumber\" style = \"font-weight: bold; text-align: right;\">Row</th><th style = \"text-align: left;\">nrow</th></tr><tr class = \"subheader headerLastRow\"><th class = \"rowNumber\" style = \"font-weight: bold; text-align: right;\"></th><th title = \"Int64\" style = \"text-align: left;\">Int64</th></tr></thead><tbody><tr><td class = \"rowNumber\" style = \"font-weight: bold; text-align: right;\">1</td><td style = \"text-align: right;\">2774</td></tr></tbody></table></div>"
      ],
      "text/latex": [
       "\\begin{tabular}{r|c}\n",
       "\t& nrow\\\\\n",
       "\t\\hline\n",
       "\t& Int64\\\\\n",
       "\t\\hline\n",
       "\t1 & 2774 \\\\\n",
       "\\end{tabular}\n"
      ],
      "text/plain": [
       "\u001b[1m1×1 DataFrame\u001b[0m\n",
       "\u001b[1m Row \u001b[0m│\u001b[1m nrow  \u001b[0m\n",
       "     │\u001b[90m Int64 \u001b[0m\n",
       "─────┼───────\n",
       "   1 │  2774"
      ]
     },
     "metadata": {},
     "output_type": "display_data"
    }
   ],
   "source": [
    "@chain chess begin\n",
    "    filter(x -> contains(x.opening_name, \"Sicilian\"), _)\n",
    "    combine(nrow)\n",
    "end"
   ]
  },
  {
   "cell_type": "code",
   "execution_count": 30,
   "metadata": {},
   "outputs": [
    {
     "data": {
      "text/plain": [
       "3-element Named Vector{Float64}\n",
       "winner  │ \n",
       "────────┼──────────\n",
       "black   │  0.487743\n",
       "draw    │ 0.0515501\n",
       "white   │  0.460707"
      ]
     },
     "metadata": {},
     "output_type": "display_data"
    }
   ],
   "source": [
    "@chain chess begin\n",
    "    filter(x -> contains(x.opening_name, \"Sicilian\"), _)\n",
    "    proptable(:winner)\n",
    "end"
   ]
  },
  {
   "cell_type": "markdown",
   "metadata": {},
   "source": [
    "With which opening has black the best chances of winning."
   ]
  },
  {
   "cell_type": "code",
   "execution_count": 4,
   "metadata": {},
   "outputs": [
    {
     "data": {
      "text/html": [
       "<div><div style = \"float: left;\"><span>2739×4 DataFrame</span></div><div style = \"float: right;\"><span style = \"font-style: italic;\">2714 rows omitted</span></div><div style = \"clear: both;\"></div></div><div class = \"data-frame\" style = \"overflow-x: scroll;\"><table class = \"data-frame\" style = \"margin-bottom: 6px;\"><thead><tr class = \"header\"><th class = \"rowNumber\" style = \"font-weight: bold; text-align: right;\">Row</th><th style = \"text-align: left;\">opening_name</th><th style = \"text-align: left;\">winner</th><th style = \"text-align: left;\">nrow</th><th style = \"text-align: left;\">winner_freqtable</th></tr><tr class = \"subheader headerLastRow\"><th class = \"rowNumber\" style = \"font-weight: bold; text-align: right;\"></th><th title = \"String\" style = \"text-align: left;\">String</th><th title = \"String7\" style = \"text-align: left;\">String7</th><th title = \"Int64\" style = \"text-align: left;\">Int64</th><th title = \"Int64\" style = \"text-align: left;\">Int64</th></tr></thead><tbody><tr><td class = \"rowNumber\" style = \"font-weight: bold; text-align: right;\">1</td><td style = \"text-align: left;\">Van&apos;t Kruijs Opening</td><td style = \"text-align: left;\">black</td><td style = \"text-align: right;\">226</td><td style = \"text-align: right;\">226</td></tr><tr><td class = \"rowNumber\" style = \"font-weight: bold; text-align: right;\">2</td><td style = \"text-align: left;\">Sicilian Defense</td><td style = \"text-align: left;\">black</td><td style = \"text-align: right;\">194</td><td style = \"text-align: right;\">194</td></tr><tr><td class = \"rowNumber\" style = \"font-weight: bold; text-align: right;\">3</td><td style = \"text-align: left;\">Scandinavian Defense: Mieses-Kotroc Variation</td><td style = \"text-align: left;\">white</td><td style = \"text-align: right;\">164</td><td style = \"text-align: right;\">164</td></tr><tr><td class = \"rowNumber\" style = \"font-weight: bold; text-align: right;\">4</td><td style = \"text-align: left;\">Sicilian Defense: Bowdler Attack</td><td style = \"text-align: left;\">black</td><td style = \"text-align: right;\">164</td><td style = \"text-align: right;\">164</td></tr><tr><td class = \"rowNumber\" style = \"font-weight: bold; text-align: right;\">5</td><td style = \"text-align: left;\">Sicilian Defense</td><td style = \"text-align: left;\">white</td><td style = \"text-align: right;\">149</td><td style = \"text-align: right;\">149</td></tr><tr><td class = \"rowNumber\" style = \"font-weight: bold; text-align: right;\">6</td><td style = \"text-align: left;\">Scotch Game</td><td style = \"text-align: left;\">white</td><td style = \"text-align: right;\">145</td><td style = \"text-align: right;\">145</td></tr><tr><td class = \"rowNumber\" style = \"font-weight: bold; text-align: right;\">7</td><td style = \"text-align: left;\">French Defense: Knight Variation</td><td style = \"text-align: left;\">white</td><td style = \"text-align: right;\">135</td><td style = \"text-align: right;\">135</td></tr><tr><td class = \"rowNumber\" style = \"font-weight: bold; text-align: right;\">8</td><td style = \"text-align: left;\">Philidor Defense #3</td><td style = \"text-align: left;\">white</td><td style = \"text-align: right;\">127</td><td style = \"text-align: right;\">127</td></tr><tr><td class = \"rowNumber\" style = \"font-weight: bold; text-align: right;\">9</td><td style = \"text-align: left;\">Van&apos;t Kruijs Opening</td><td style = \"text-align: left;\">white</td><td style = \"text-align: right;\">126</td><td style = \"text-align: right;\">126</td></tr><tr><td class = \"rowNumber\" style = \"font-weight: bold; text-align: right;\">10</td><td style = \"text-align: left;\">Scandinavian Defense</td><td style = \"text-align: left;\">black</td><td style = \"text-align: right;\">123</td><td style = \"text-align: right;\">123</td></tr><tr><td class = \"rowNumber\" style = \"font-weight: bold; text-align: right;\">11</td><td style = \"text-align: left;\">French Defense: Knight Variation</td><td style = \"text-align: left;\">black</td><td style = \"text-align: right;\">121</td><td style = \"text-align: right;\">121</td></tr><tr><td class = \"rowNumber\" style = \"font-weight: bold; text-align: right;\">12</td><td style = \"text-align: left;\">Sicilian Defense: Bowdler Attack</td><td style = \"text-align: left;\">white</td><td style = \"text-align: right;\">119</td><td style = \"text-align: right;\">119</td></tr><tr><td class = \"rowNumber\" style = \"font-weight: bold; text-align: right;\">13</td><td style = \"text-align: left;\">Queen&apos;s Pawn Game: Mason Attack</td><td style = \"text-align: left;\">white</td><td style = \"text-align: right;\">116</td><td style = \"text-align: right;\">116</td></tr><tr><td style = \"text-align: right;\">&vellip;</td><td style = \"text-align: right;\">&vellip;</td><td style = \"text-align: right;\">&vellip;</td><td style = \"text-align: right;\">&vellip;</td><td style = \"text-align: right;\">&vellip;</td></tr><tr><td class = \"rowNumber\" style = \"font-weight: bold; text-align: right;\">2728</td><td style = \"text-align: left;\">Sicilian Defense: Najdorf Variation |  Neo-Classical Defense</td><td style = \"text-align: left;\">draw</td><td style = \"text-align: right;\">1</td><td style = \"text-align: right;\">1</td></tr><tr><td class = \"rowNumber\" style = \"font-weight: bold; text-align: right;\">2729</td><td style = \"text-align: left;\">Sicilian Defense: Scheveningen Variation |  English Attack</td><td style = \"text-align: left;\">white</td><td style = \"text-align: right;\">1</td><td style = \"text-align: right;\">1</td></tr><tr><td class = \"rowNumber\" style = \"font-weight: bold; text-align: right;\">2730</td><td style = \"text-align: left;\">Ruy Lopez: Closed |  7...O-O</td><td style = \"text-align: left;\">black</td><td style = \"text-align: right;\">1</td><td style = \"text-align: right;\">1</td></tr><tr><td class = \"rowNumber\" style = \"font-weight: bold; text-align: right;\">2731</td><td style = \"text-align: left;\">Polish Opening: Czech Defense</td><td style = \"text-align: left;\">black</td><td style = \"text-align: right;\">1</td><td style = \"text-align: right;\">1</td></tr><tr><td class = \"rowNumber\" style = \"font-weight: bold; text-align: right;\">2732</td><td style = \"text-align: left;\">Sicilian Defense: O&apos;Kelly Variation |  Venice System</td><td style = \"text-align: left;\">draw</td><td style = \"text-align: right;\">1</td><td style = \"text-align: right;\">1</td></tr><tr><td class = \"rowNumber\" style = \"font-weight: bold; text-align: right;\">2733</td><td style = \"text-align: left;\">Pirc Defense: Austrian Attack |  Kurajica Variation</td><td style = \"text-align: left;\">black</td><td style = \"text-align: right;\">1</td><td style = \"text-align: right;\">1</td></tr><tr><td class = \"rowNumber\" style = \"font-weight: bold; text-align: right;\">2734</td><td style = \"text-align: left;\">Queen&apos;s Indian Defense: Classical Variation |  Traditional Variation</td><td style = \"text-align: left;\">white</td><td style = \"text-align: right;\">1</td><td style = \"text-align: right;\">1</td></tr><tr><td class = \"rowNumber\" style = \"font-weight: bold; text-align: right;\">2735</td><td style = \"text-align: left;\">Queen&apos;s Gambit Declined: Slav |  Dutch Variation</td><td style = \"text-align: left;\">white</td><td style = \"text-align: right;\">1</td><td style = \"text-align: right;\">1</td></tr><tr><td class = \"rowNumber\" style = \"font-weight: bold; text-align: right;\">2736</td><td style = \"text-align: left;\">Pirc Defense: Austrian Attack |  Dragon Formation</td><td style = \"text-align: left;\">black</td><td style = \"text-align: right;\">1</td><td style = \"text-align: right;\">1</td></tr><tr><td class = \"rowNumber\" style = \"font-weight: bold; text-align: right;\">2737</td><td style = \"text-align: left;\">Sicilian Defense: Najdorf Variation |  Polugaevsky Variation</td><td style = \"text-align: left;\">white</td><td style = \"text-align: right;\">1</td><td style = \"text-align: right;\">1</td></tr><tr><td class = \"rowNumber\" style = \"font-weight: bold; text-align: right;\">2738</td><td style = \"text-align: left;\">English Opening: King&apos;s English Variation |  Four Knights Variation #2</td><td style = \"text-align: left;\">draw</td><td style = \"text-align: right;\">1</td><td style = \"text-align: right;\">1</td></tr><tr><td class = \"rowNumber\" style = \"font-weight: bold; text-align: right;\">2739</td><td style = \"text-align: left;\">Lion Defense: Anti-Philidor |  Lion&apos;s Cave</td><td style = \"text-align: left;\">white</td><td style = \"text-align: right;\">1</td><td style = \"text-align: right;\">1</td></tr></tbody></table></div>"
      ],
      "text/latex": [
       "\\begin{tabular}{r|cccc}\n",
       "\t& opening\\_name & winner & nrow & winner\\_freqtable\\\\\n",
       "\t\\hline\n",
       "\t& String & String7 & Int64 & Int64\\\\\n",
       "\t\\hline\n",
       "\t1 & Van't Kruijs Opening & black & 226 & 226 \\\\\n",
       "\t2 & Sicilian Defense & black & 194 & 194 \\\\\n",
       "\t3 & Scandinavian Defense: Mieses-Kotroc Variation & white & 164 & 164 \\\\\n",
       "\t4 & Sicilian Defense: Bowdler Attack & black & 164 & 164 \\\\\n",
       "\t5 & Sicilian Defense & white & 149 & 149 \\\\\n",
       "\t6 & Scotch Game & white & 145 & 145 \\\\\n",
       "\t7 & French Defense: Knight Variation & white & 135 & 135 \\\\\n",
       "\t8 & Philidor Defense \\#3 & white & 127 & 127 \\\\\n",
       "\t9 & Van't Kruijs Opening & white & 126 & 126 \\\\\n",
       "\t10 & Scandinavian Defense & black & 123 & 123 \\\\\n",
       "\t11 & French Defense: Knight Variation & black & 121 & 121 \\\\\n",
       "\t12 & Sicilian Defense: Bowdler Attack & white & 119 & 119 \\\\\n",
       "\t13 & Queen's Pawn Game: Mason Attack & white & 116 & 116 \\\\\n",
       "\t14 & Scotch Game & black & 115 & 115 \\\\\n",
       "\t15 & Queen's Pawn Game: Chigorin Variation & white & 112 & 112 \\\\\n",
       "\t16 & Horwitz Defense & white & 110 & 110 \\\\\n",
       "\t17 & Queen's Pawn Game: Chigorin Variation & black & 109 & 109 \\\\\n",
       "\t18 & Caro-Kann Defense & white & 109 & 109 \\\\\n",
       "\t19 & Queen's Pawn Game: Mason Attack & black & 103 & 103 \\\\\n",
       "\t20 & Indian Game & black & 100 & 100 \\\\\n",
       "\t21 & Italian Game: Anti-Fried Liver Defense & white & 97 & 97 \\\\\n",
       "\t22 & Philidor Defense \\#2 & black & 96 & 96 \\\\\n",
       "\t23 & Four Knights Game: Italian Variation & white & 95 & 95 \\\\\n",
       "\t24 & Horwitz Defense & black & 94 & 94 \\\\\n",
       "\t$\\dots$ & $\\dots$ & $\\dots$ & $\\dots$ & $\\dots$ \\\\\n",
       "\\end{tabular}\n"
      ],
      "text/plain": [
       "\u001b[1m2739×4 DataFrame\u001b[0m\n",
       "\u001b[1m  Row \u001b[0m│\u001b[1m opening_name                      \u001b[0m\u001b[1m winner  \u001b[0m\u001b[1m nrow  \u001b[0m\u001b[1m winner_freqtable \u001b[0m\n",
       "      │\u001b[90m String                            \u001b[0m\u001b[90m String7 \u001b[0m\u001b[90m Int64 \u001b[0m\u001b[90m Int64            \u001b[0m\n",
       "──────┼─────────────────────────────────────────────────────────────────────\n",
       "    1 │ Van't Kruijs Opening               black      226               226\n",
       "    2 │ Sicilian Defense                   black      194               194\n",
       "    3 │ Scandinavian Defense: Mieses-Kot…  white      164               164\n",
       "    4 │ Sicilian Defense: Bowdler Attack   black      164               164\n",
       "    5 │ Sicilian Defense                   white      149               149\n",
       "    6 │ Scotch Game                        white      145               145\n",
       "    7 │ French Defense: Knight Variation   white      135               135\n",
       "    8 │ Philidor Defense #3                white      127               127\n",
       "  ⋮   │                 ⋮                     ⋮       ⋮           ⋮\n",
       " 2733 │ Pirc Defense: Austrian Attack | …  black        1                 1\n",
       " 2734 │ Queen's Indian Defense: Classica…  white        1                 1\n",
       " 2735 │ Queen's Gambit Declined: Slav | …  white        1                 1\n",
       " 2736 │ Pirc Defense: Austrian Attack | …  black        1                 1\n",
       " 2737 │ Sicilian Defense: Najdorf Variat…  white        1                 1\n",
       " 2738 │ English Opening: King's English …  draw         1                 1\n",
       " 2739 │ Lion Defense: Anti-Philidor |  L…  white        1                 1\n",
       "\u001b[36m                                                           2724 rows omitted\u001b[0m"
      ]
     },
     "metadata": {},
     "output_type": "display_data"
    }
   ],
   "source": [
    "@chain chess begin\n",
    "    groupby([:opening_name, :winner])\n",
    "    combine(nrow, :winner => freqtable)\n",
    "    sort(:nrow, rev=true)\n",
    "end"
   ]
  },
  {
   "cell_type": "markdown",
   "metadata": {},
   "source": [
    "### Exercise 2"
   ]
  },
  {
   "cell_type": "markdown",
   "metadata": {},
   "source": [
    "We will work with the `ac_ped.txt`and the `ac_pheno.txt` datasets. The former is a pedigree file and contains information about the father, the mother of each animal as well as the year when it was born and its generation. The other data set contains phenotypic information related to growth, the tank where each animal was reared, its sex and the site."
   ]
  },
  {
   "cell_type": "markdown",
   "metadata": {},
   "source": [
    "For the animals appearing in the `ac_pheno.txt`find the family sizes. Which family has the largest size."
   ]
  },
  {
   "cell_type": "code",
   "execution_count": 5,
   "metadata": {},
   "outputs": [
    {
     "data": {
      "text/html": [
       "<div><div style = \"float: left;\"><span>8362×5 DataFrame</span></div><div style = \"float: right;\"><span style = \"font-style: italic;\">8337 rows omitted</span></div><div style = \"clear: both;\"></div></div><div class = \"data-frame\" style = \"overflow-x: scroll;\"><table class = \"data-frame\" style = \"margin-bottom: 6px;\"><thead><tr class = \"header\"><th class = \"rowNumber\" style = \"font-weight: bold; text-align: right;\">Row</th><th style = \"text-align: left;\">Id</th><th style = \"text-align: left;\">Sire</th><th style = \"text-align: left;\">Dam</th><th style = \"text-align: left;\">Year_Class</th><th style = \"text-align: left;\">Selected_gen</th></tr><tr class = \"subheader headerLastRow\"><th class = \"rowNumber\" style = \"font-weight: bold; text-align: right;\"></th><th title = \"Int64\" style = \"text-align: left;\">Int64</th><th title = \"String7\" style = \"text-align: left;\">String7</th><th title = \"String7\" style = \"text-align: left;\">String7</th><th title = \"Int64\" style = \"text-align: left;\">Int64</th><th title = \"Int64\" style = \"text-align: left;\">Int64</th></tr></thead><tbody><tr><td class = \"rowNumber\" style = \"font-weight: bold; text-align: right;\">1</td><td style = \"text-align: right;\">478665</td><td style = \"text-align: left;\">0</td><td style = \"text-align: left;\">0</td><td style = \"text-align: right;\">2013</td><td style = \"text-align: right;\">7</td></tr><tr><td class = \"rowNumber\" style = \"font-weight: bold; text-align: right;\">2</td><td style = \"text-align: right;\">478620</td><td style = \"text-align: left;\">0</td><td style = \"text-align: left;\">0</td><td style = \"text-align: right;\">2013</td><td style = \"text-align: right;\">7</td></tr><tr><td class = \"rowNumber\" style = \"font-weight: bold; text-align: right;\">3</td><td style = \"text-align: right;\">478601</td><td style = \"text-align: left;\">02F49B</td><td style = \"text-align: left;\">01FD38</td><td style = \"text-align: right;\">2013</td><td style = \"text-align: right;\">7</td></tr><tr><td class = \"rowNumber\" style = \"font-weight: bold; text-align: right;\">4</td><td style = \"text-align: right;\">478656</td><td style = \"text-align: left;\">02F49B</td><td style = \"text-align: left;\">01FD38</td><td style = \"text-align: right;\">2013</td><td style = \"text-align: right;\">7</td></tr><tr><td class = \"rowNumber\" style = \"font-weight: bold; text-align: right;\">5</td><td style = \"text-align: right;\">478671</td><td style = \"text-align: left;\">02F49B</td><td style = \"text-align: left;\">01FD38</td><td style = \"text-align: right;\">2013</td><td style = \"text-align: right;\">7</td></tr><tr><td class = \"rowNumber\" style = \"font-weight: bold; text-align: right;\">6</td><td style = \"text-align: right;\">478651</td><td style = \"text-align: left;\">02F49B</td><td style = \"text-align: left;\">01FD38</td><td style = \"text-align: right;\">2013</td><td style = \"text-align: right;\">7</td></tr><tr><td class = \"rowNumber\" style = \"font-weight: bold; text-align: right;\">7</td><td style = \"text-align: right;\">478660</td><td style = \"text-align: left;\">0</td><td style = \"text-align: left;\">0</td><td style = \"text-align: right;\">2013</td><td style = \"text-align: right;\">7</td></tr><tr><td class = \"rowNumber\" style = \"font-weight: bold; text-align: right;\">8</td><td style = \"text-align: right;\">478667</td><td style = \"text-align: left;\">02F49B</td><td style = \"text-align: left;\">01FD38</td><td style = \"text-align: right;\">2013</td><td style = \"text-align: right;\">7</td></tr><tr><td class = \"rowNumber\" style = \"font-weight: bold; text-align: right;\">9</td><td style = \"text-align: right;\">478649</td><td style = \"text-align: left;\">02F49B</td><td style = \"text-align: left;\">01FD38</td><td style = \"text-align: right;\">2013</td><td style = \"text-align: right;\">7</td></tr><tr><td class = \"rowNumber\" style = \"font-weight: bold; text-align: right;\">10</td><td style = \"text-align: right;\">478661</td><td style = \"text-align: left;\">02F49B</td><td style = \"text-align: left;\">01FD38</td><td style = \"text-align: right;\">2013</td><td style = \"text-align: right;\">7</td></tr><tr><td class = \"rowNumber\" style = \"font-weight: bold; text-align: right;\">11</td><td style = \"text-align: right;\">478610</td><td style = \"text-align: left;\">02F49B</td><td style = \"text-align: left;\">01FD38</td><td style = \"text-align: right;\">2013</td><td style = \"text-align: right;\">7</td></tr><tr><td class = \"rowNumber\" style = \"font-weight: bold; text-align: right;\">12</td><td style = \"text-align: right;\">478642</td><td style = \"text-align: left;\">02F49B</td><td style = \"text-align: left;\">01FD38</td><td style = \"text-align: right;\">2013</td><td style = \"text-align: right;\">7</td></tr><tr><td class = \"rowNumber\" style = \"font-weight: bold; text-align: right;\">13</td><td style = \"text-align: right;\">478612</td><td style = \"text-align: left;\">02F49B</td><td style = \"text-align: left;\">01FD38</td><td style = \"text-align: right;\">2013</td><td style = \"text-align: right;\">7</td></tr><tr><td style = \"text-align: right;\">&vellip;</td><td style = \"text-align: right;\">&vellip;</td><td style = \"text-align: right;\">&vellip;</td><td style = \"text-align: right;\">&vellip;</td><td style = \"text-align: right;\">&vellip;</td><td style = \"text-align: right;\">&vellip;</td></tr><tr><td class = \"rowNumber\" style = \"font-weight: bold; text-align: right;\">8351</td><td style = \"text-align: right;\">919271</td><td style = \"text-align: left;\">597579</td><td style = \"text-align: left;\">900730</td><td style = \"text-align: right;\">2017</td><td style = \"text-align: right;\">8</td></tr><tr><td class = \"rowNumber\" style = \"font-weight: bold; text-align: right;\">8352</td><td style = \"text-align: right;\">919555</td><td style = \"text-align: left;\">597579</td><td style = \"text-align: left;\">900730</td><td style = \"text-align: right;\">2017</td><td style = \"text-align: right;\">8</td></tr><tr><td class = \"rowNumber\" style = \"font-weight: bold; text-align: right;\">8353</td><td style = \"text-align: right;\">919343</td><td style = \"text-align: left;\">597579</td><td style = \"text-align: left;\">900730</td><td style = \"text-align: right;\">2017</td><td style = \"text-align: right;\">8</td></tr><tr><td class = \"rowNumber\" style = \"font-weight: bold; text-align: right;\">8354</td><td style = \"text-align: right;\">918821</td><td style = \"text-align: left;\">597579</td><td style = \"text-align: left;\">900730</td><td style = \"text-align: right;\">2017</td><td style = \"text-align: right;\">8</td></tr><tr><td class = \"rowNumber\" style = \"font-weight: bold; text-align: right;\">8355</td><td style = \"text-align: right;\">918677</td><td style = \"text-align: left;\">597579</td><td style = \"text-align: left;\">900730</td><td style = \"text-align: right;\">2017</td><td style = \"text-align: right;\">8</td></tr><tr><td class = \"rowNumber\" style = \"font-weight: bold; text-align: right;\">8356</td><td style = \"text-align: right;\">918925</td><td style = \"text-align: left;\">597579</td><td style = \"text-align: left;\">900730</td><td style = \"text-align: right;\">2017</td><td style = \"text-align: right;\">8</td></tr><tr><td class = \"rowNumber\" style = \"font-weight: bold; text-align: right;\">8357</td><td style = \"text-align: right;\">919071</td><td style = \"text-align: left;\">597579</td><td style = \"text-align: left;\">900730</td><td style = \"text-align: right;\">2017</td><td style = \"text-align: right;\">8</td></tr><tr><td class = \"rowNumber\" style = \"font-weight: bold; text-align: right;\">8358</td><td style = \"text-align: right;\">919218</td><td style = \"text-align: left;\">597579</td><td style = \"text-align: left;\">900730</td><td style = \"text-align: right;\">2017</td><td style = \"text-align: right;\">8</td></tr><tr><td class = \"rowNumber\" style = \"font-weight: bold; text-align: right;\">8359</td><td style = \"text-align: right;\">919013</td><td style = \"text-align: left;\">597579</td><td style = \"text-align: left;\">900730</td><td style = \"text-align: right;\">2017</td><td style = \"text-align: right;\">8</td></tr><tr><td class = \"rowNumber\" style = \"font-weight: bold; text-align: right;\">8360</td><td style = \"text-align: right;\">919448</td><td style = \"text-align: left;\">597579</td><td style = \"text-align: left;\">900730</td><td style = \"text-align: right;\">2017</td><td style = \"text-align: right;\">8</td></tr><tr><td class = \"rowNumber\" style = \"font-weight: bold; text-align: right;\">8361</td><td style = \"text-align: right;\">919246</td><td style = \"text-align: left;\">597579</td><td style = \"text-align: left;\">900730</td><td style = \"text-align: right;\">2017</td><td style = \"text-align: right;\">8</td></tr><tr><td class = \"rowNumber\" style = \"font-weight: bold; text-align: right;\">8362</td><td style = \"text-align: right;\">919420</td><td style = \"text-align: left;\">597579</td><td style = \"text-align: left;\">900730</td><td style = \"text-align: right;\">2017</td><td style = \"text-align: right;\">8</td></tr></tbody></table></div>"
      ],
      "text/latex": [
       "\\begin{tabular}{r|ccccc}\n",
       "\t& Id & Sire & Dam & Year\\_Class & Selected\\_gen\\\\\n",
       "\t\\hline\n",
       "\t& Int64 & String7 & String7 & Int64 & Int64\\\\\n",
       "\t\\hline\n",
       "\t1 & 478665 & 0 & 0 & 2013 & 7 \\\\\n",
       "\t2 & 478620 & 0 & 0 & 2013 & 7 \\\\\n",
       "\t3 & 478601 & 02F49B & 01FD38 & 2013 & 7 \\\\\n",
       "\t4 & 478656 & 02F49B & 01FD38 & 2013 & 7 \\\\\n",
       "\t5 & 478671 & 02F49B & 01FD38 & 2013 & 7 \\\\\n",
       "\t6 & 478651 & 02F49B & 01FD38 & 2013 & 7 \\\\\n",
       "\t7 & 478660 & 0 & 0 & 2013 & 7 \\\\\n",
       "\t8 & 478667 & 02F49B & 01FD38 & 2013 & 7 \\\\\n",
       "\t9 & 478649 & 02F49B & 01FD38 & 2013 & 7 \\\\\n",
       "\t10 & 478661 & 02F49B & 01FD38 & 2013 & 7 \\\\\n",
       "\t11 & 478610 & 02F49B & 01FD38 & 2013 & 7 \\\\\n",
       "\t12 & 478642 & 02F49B & 01FD38 & 2013 & 7 \\\\\n",
       "\t13 & 478612 & 02F49B & 01FD38 & 2013 & 7 \\\\\n",
       "\t14 & 478644 & 02F49B & 01FD38 & 2013 & 7 \\\\\n",
       "\t15 & 478637 & 02F49B & 01FD38 & 2013 & 7 \\\\\n",
       "\t16 & 478666 & 02F49B & 01FD38 & 2013 & 7 \\\\\n",
       "\t17 & 478630 & 02F49B & 01FD38 & 2013 & 7 \\\\\n",
       "\t18 & 478623 & 02F49B & 01FD38 & 2013 & 7 \\\\\n",
       "\t19 & 478639 & 02F49B & 01FD38 & 2013 & 7 \\\\\n",
       "\t20 & 478629 & 02F49B & 01FD38 & 2013 & 7 \\\\\n",
       "\t21 & 478569 & 02F49B & 01FD38 & 2013 & 7 \\\\\n",
       "\t22 & 478654 & 02F49B & 01FD38 & 2013 & 7 \\\\\n",
       "\t23 & 478657 & 02F49B & 01FD38 & 2013 & 7 \\\\\n",
       "\t24 & 478575 & 02F49B & 01FD38 & 2013 & 7 \\\\\n",
       "\t$\\dots$ & $\\dots$ & $\\dots$ & $\\dots$ & $\\dots$ & $\\dots$ \\\\\n",
       "\\end{tabular}\n"
      ],
      "text/plain": [
       "\u001b[1m8362×5 DataFrame\u001b[0m\n",
       "\u001b[1m  Row \u001b[0m│\u001b[1m Id     \u001b[0m\u001b[1m Sire    \u001b[0m\u001b[1m Dam     \u001b[0m\u001b[1m Year_Class \u001b[0m\u001b[1m Selected_gen \u001b[0m\n",
       "      │\u001b[90m Int64  \u001b[0m\u001b[90m String7 \u001b[0m\u001b[90m String7 \u001b[0m\u001b[90m Int64      \u001b[0m\u001b[90m Int64        \u001b[0m\n",
       "──────┼────────────────────────────────────────────────────\n",
       "    1 │ 478665  0        0              2013             7\n",
       "    2 │ 478620  0        0              2013             7\n",
       "    3 │ 478601  02F49B   01FD38         2013             7\n",
       "    4 │ 478656  02F49B   01FD38         2013             7\n",
       "    5 │ 478671  02F49B   01FD38         2013             7\n",
       "    6 │ 478651  02F49B   01FD38         2013             7\n",
       "    7 │ 478660  0        0              2013             7\n",
       "    8 │ 478667  02F49B   01FD38         2013             7\n",
       "  ⋮   │   ⋮        ⋮        ⋮         ⋮            ⋮\n",
       " 8356 │ 918925  597579   900730         2017             8\n",
       " 8357 │ 919071  597579   900730         2017             8\n",
       " 8358 │ 919218  597579   900730         2017             8\n",
       " 8359 │ 919013  597579   900730         2017             8\n",
       " 8360 │ 919448  597579   900730         2017             8\n",
       " 8361 │ 919246  597579   900730         2017             8\n",
       " 8362 │ 919420  597579   900730         2017             8\n",
       "\u001b[36m                                          8347 rows omitted\u001b[0m"
      ]
     },
     "metadata": {},
     "output_type": "display_data"
    }
   ],
   "source": [
    "pedigree = CSV.read(\"ac_ped.txt\", DataFrame)"
   ]
  },
  {
   "cell_type": "code",
   "execution_count": 6,
   "metadata": {},
   "outputs": [
    {
     "data": {
      "text/plain": [
       "8362-element Vector{String}:\n",
       " \"478665\"\n",
       " \"478620\"\n",
       " \"478601\"\n",
       " \"478656\"\n",
       " \"478671\"\n",
       " \"478651\"\n",
       " \"478660\"\n",
       " \"478667\"\n",
       " \"478649\"\n",
       " \"478661\"\n",
       " ⋮\n",
       " \"918821\"\n",
       " \"918677\"\n",
       " \"918925\"\n",
       " \"919071\"\n",
       " \"919218\"\n",
       " \"919013\"\n",
       " \"919448\"\n",
       " \"919246\"\n",
       " \"919420\""
      ]
     },
     "metadata": {},
     "output_type": "display_data"
    }
   ],
   "source": [
    "pedigree.Id = string.(pedigree.Id)"
   ]
  },
  {
   "cell_type": "code",
   "execution_count": 7,
   "metadata": {},
   "outputs": [],
   "source": [
    "pedigree.Family = pedigree.Sire .* \"_\" .* pedigree.Dam;"
   ]
  },
  {
   "cell_type": "code",
   "execution_count": 15,
   "metadata": {},
   "outputs": [
    {
     "data": {
      "text/html": [
       "<div><div style = \"float: left;\"><span>8362×6 DataFrame</span></div><div style = \"float: right;\"><span style = \"font-style: italic;\">8337 rows omitted</span></div><div style = \"clear: both;\"></div></div><div class = \"data-frame\" style = \"overflow-x: scroll;\"><table class = \"data-frame\" style = \"margin-bottom: 6px;\"><thead><tr class = \"header\"><th class = \"rowNumber\" style = \"font-weight: bold; text-align: right;\">Row</th><th style = \"text-align: left;\">Id</th><th style = \"text-align: left;\">Sire</th><th style = \"text-align: left;\">Dam</th><th style = \"text-align: left;\">Year_Class</th><th style = \"text-align: left;\">Selected_gen</th><th style = \"text-align: left;\">Family</th></tr><tr class = \"subheader headerLastRow\"><th class = \"rowNumber\" style = \"font-weight: bold; text-align: right;\"></th><th title = \"String\" style = \"text-align: left;\">String</th><th title = \"String7\" style = \"text-align: left;\">String7</th><th title = \"String7\" style = \"text-align: left;\">String7</th><th title = \"Int64\" style = \"text-align: left;\">Int64</th><th title = \"Int64\" style = \"text-align: left;\">Int64</th><th title = \"String\" style = \"text-align: left;\">String</th></tr></thead><tbody><tr><td class = \"rowNumber\" style = \"font-weight: bold; text-align: right;\">1</td><td style = \"text-align: left;\">478665</td><td style = \"text-align: left;\">0</td><td style = \"text-align: left;\">0</td><td style = \"text-align: right;\">2013</td><td style = \"text-align: right;\">7</td><td style = \"text-align: left;\">0_0</td></tr><tr><td class = \"rowNumber\" style = \"font-weight: bold; text-align: right;\">2</td><td style = \"text-align: left;\">478620</td><td style = \"text-align: left;\">0</td><td style = \"text-align: left;\">0</td><td style = \"text-align: right;\">2013</td><td style = \"text-align: right;\">7</td><td style = \"text-align: left;\">0_0</td></tr><tr><td class = \"rowNumber\" style = \"font-weight: bold; text-align: right;\">3</td><td style = \"text-align: left;\">478601</td><td style = \"text-align: left;\">02F49B</td><td style = \"text-align: left;\">01FD38</td><td style = \"text-align: right;\">2013</td><td style = \"text-align: right;\">7</td><td style = \"text-align: left;\">02F49B_01FD38</td></tr><tr><td class = \"rowNumber\" style = \"font-weight: bold; text-align: right;\">4</td><td style = \"text-align: left;\">478656</td><td style = \"text-align: left;\">02F49B</td><td style = \"text-align: left;\">01FD38</td><td style = \"text-align: right;\">2013</td><td style = \"text-align: right;\">7</td><td style = \"text-align: left;\">02F49B_01FD38</td></tr><tr><td class = \"rowNumber\" style = \"font-weight: bold; text-align: right;\">5</td><td style = \"text-align: left;\">478671</td><td style = \"text-align: left;\">02F49B</td><td style = \"text-align: left;\">01FD38</td><td style = \"text-align: right;\">2013</td><td style = \"text-align: right;\">7</td><td style = \"text-align: left;\">02F49B_01FD38</td></tr><tr><td class = \"rowNumber\" style = \"font-weight: bold; text-align: right;\">6</td><td style = \"text-align: left;\">478651</td><td style = \"text-align: left;\">02F49B</td><td style = \"text-align: left;\">01FD38</td><td style = \"text-align: right;\">2013</td><td style = \"text-align: right;\">7</td><td style = \"text-align: left;\">02F49B_01FD38</td></tr><tr><td class = \"rowNumber\" style = \"font-weight: bold; text-align: right;\">7</td><td style = \"text-align: left;\">478660</td><td style = \"text-align: left;\">0</td><td style = \"text-align: left;\">0</td><td style = \"text-align: right;\">2013</td><td style = \"text-align: right;\">7</td><td style = \"text-align: left;\">0_0</td></tr><tr><td class = \"rowNumber\" style = \"font-weight: bold; text-align: right;\">8</td><td style = \"text-align: left;\">478667</td><td style = \"text-align: left;\">02F49B</td><td style = \"text-align: left;\">01FD38</td><td style = \"text-align: right;\">2013</td><td style = \"text-align: right;\">7</td><td style = \"text-align: left;\">02F49B_01FD38</td></tr><tr><td class = \"rowNumber\" style = \"font-weight: bold; text-align: right;\">9</td><td style = \"text-align: left;\">478649</td><td style = \"text-align: left;\">02F49B</td><td style = \"text-align: left;\">01FD38</td><td style = \"text-align: right;\">2013</td><td style = \"text-align: right;\">7</td><td style = \"text-align: left;\">02F49B_01FD38</td></tr><tr><td class = \"rowNumber\" style = \"font-weight: bold; text-align: right;\">10</td><td style = \"text-align: left;\">478661</td><td style = \"text-align: left;\">02F49B</td><td style = \"text-align: left;\">01FD38</td><td style = \"text-align: right;\">2013</td><td style = \"text-align: right;\">7</td><td style = \"text-align: left;\">02F49B_01FD38</td></tr><tr><td class = \"rowNumber\" style = \"font-weight: bold; text-align: right;\">11</td><td style = \"text-align: left;\">478610</td><td style = \"text-align: left;\">02F49B</td><td style = \"text-align: left;\">01FD38</td><td style = \"text-align: right;\">2013</td><td style = \"text-align: right;\">7</td><td style = \"text-align: left;\">02F49B_01FD38</td></tr><tr><td class = \"rowNumber\" style = \"font-weight: bold; text-align: right;\">12</td><td style = \"text-align: left;\">478642</td><td style = \"text-align: left;\">02F49B</td><td style = \"text-align: left;\">01FD38</td><td style = \"text-align: right;\">2013</td><td style = \"text-align: right;\">7</td><td style = \"text-align: left;\">02F49B_01FD38</td></tr><tr><td class = \"rowNumber\" style = \"font-weight: bold; text-align: right;\">13</td><td style = \"text-align: left;\">478612</td><td style = \"text-align: left;\">02F49B</td><td style = \"text-align: left;\">01FD38</td><td style = \"text-align: right;\">2013</td><td style = \"text-align: right;\">7</td><td style = \"text-align: left;\">02F49B_01FD38</td></tr><tr><td style = \"text-align: right;\">&vellip;</td><td style = \"text-align: right;\">&vellip;</td><td style = \"text-align: right;\">&vellip;</td><td style = \"text-align: right;\">&vellip;</td><td style = \"text-align: right;\">&vellip;</td><td style = \"text-align: right;\">&vellip;</td><td style = \"text-align: right;\">&vellip;</td></tr><tr><td class = \"rowNumber\" style = \"font-weight: bold; text-align: right;\">8351</td><td style = \"text-align: left;\">919271</td><td style = \"text-align: left;\">597579</td><td style = \"text-align: left;\">900730</td><td style = \"text-align: right;\">2017</td><td style = \"text-align: right;\">8</td><td style = \"text-align: left;\">597579_900730</td></tr><tr><td class = \"rowNumber\" style = \"font-weight: bold; text-align: right;\">8352</td><td style = \"text-align: left;\">919555</td><td style = \"text-align: left;\">597579</td><td style = \"text-align: left;\">900730</td><td style = \"text-align: right;\">2017</td><td style = \"text-align: right;\">8</td><td style = \"text-align: left;\">597579_900730</td></tr><tr><td class = \"rowNumber\" style = \"font-weight: bold; text-align: right;\">8353</td><td style = \"text-align: left;\">919343</td><td style = \"text-align: left;\">597579</td><td style = \"text-align: left;\">900730</td><td style = \"text-align: right;\">2017</td><td style = \"text-align: right;\">8</td><td style = \"text-align: left;\">597579_900730</td></tr><tr><td class = \"rowNumber\" style = \"font-weight: bold; text-align: right;\">8354</td><td style = \"text-align: left;\">918821</td><td style = \"text-align: left;\">597579</td><td style = \"text-align: left;\">900730</td><td style = \"text-align: right;\">2017</td><td style = \"text-align: right;\">8</td><td style = \"text-align: left;\">597579_900730</td></tr><tr><td class = \"rowNumber\" style = \"font-weight: bold; text-align: right;\">8355</td><td style = \"text-align: left;\">918677</td><td style = \"text-align: left;\">597579</td><td style = \"text-align: left;\">900730</td><td style = \"text-align: right;\">2017</td><td style = \"text-align: right;\">8</td><td style = \"text-align: left;\">597579_900730</td></tr><tr><td class = \"rowNumber\" style = \"font-weight: bold; text-align: right;\">8356</td><td style = \"text-align: left;\">918925</td><td style = \"text-align: left;\">597579</td><td style = \"text-align: left;\">900730</td><td style = \"text-align: right;\">2017</td><td style = \"text-align: right;\">8</td><td style = \"text-align: left;\">597579_900730</td></tr><tr><td class = \"rowNumber\" style = \"font-weight: bold; text-align: right;\">8357</td><td style = \"text-align: left;\">919071</td><td style = \"text-align: left;\">597579</td><td style = \"text-align: left;\">900730</td><td style = \"text-align: right;\">2017</td><td style = \"text-align: right;\">8</td><td style = \"text-align: left;\">597579_900730</td></tr><tr><td class = \"rowNumber\" style = \"font-weight: bold; text-align: right;\">8358</td><td style = \"text-align: left;\">919218</td><td style = \"text-align: left;\">597579</td><td style = \"text-align: left;\">900730</td><td style = \"text-align: right;\">2017</td><td style = \"text-align: right;\">8</td><td style = \"text-align: left;\">597579_900730</td></tr><tr><td class = \"rowNumber\" style = \"font-weight: bold; text-align: right;\">8359</td><td style = \"text-align: left;\">919013</td><td style = \"text-align: left;\">597579</td><td style = \"text-align: left;\">900730</td><td style = \"text-align: right;\">2017</td><td style = \"text-align: right;\">8</td><td style = \"text-align: left;\">597579_900730</td></tr><tr><td class = \"rowNumber\" style = \"font-weight: bold; text-align: right;\">8360</td><td style = \"text-align: left;\">919448</td><td style = \"text-align: left;\">597579</td><td style = \"text-align: left;\">900730</td><td style = \"text-align: right;\">2017</td><td style = \"text-align: right;\">8</td><td style = \"text-align: left;\">597579_900730</td></tr><tr><td class = \"rowNumber\" style = \"font-weight: bold; text-align: right;\">8361</td><td style = \"text-align: left;\">919246</td><td style = \"text-align: left;\">597579</td><td style = \"text-align: left;\">900730</td><td style = \"text-align: right;\">2017</td><td style = \"text-align: right;\">8</td><td style = \"text-align: left;\">597579_900730</td></tr><tr><td class = \"rowNumber\" style = \"font-weight: bold; text-align: right;\">8362</td><td style = \"text-align: left;\">919420</td><td style = \"text-align: left;\">597579</td><td style = \"text-align: left;\">900730</td><td style = \"text-align: right;\">2017</td><td style = \"text-align: right;\">8</td><td style = \"text-align: left;\">597579_900730</td></tr></tbody></table></div>"
      ],
      "text/latex": [
       "\\begin{tabular}{r|cccccc}\n",
       "\t& Id & Sire & Dam & Year\\_Class & Selected\\_gen & Family\\\\\n",
       "\t\\hline\n",
       "\t& String & String7 & String7 & Int64 & Int64 & String\\\\\n",
       "\t\\hline\n",
       "\t1 & 478665 & 0 & 0 & 2013 & 7 & 0\\_0 \\\\\n",
       "\t2 & 478620 & 0 & 0 & 2013 & 7 & 0\\_0 \\\\\n",
       "\t3 & 478601 & 02F49B & 01FD38 & 2013 & 7 & 02F49B\\_01FD38 \\\\\n",
       "\t4 & 478656 & 02F49B & 01FD38 & 2013 & 7 & 02F49B\\_01FD38 \\\\\n",
       "\t5 & 478671 & 02F49B & 01FD38 & 2013 & 7 & 02F49B\\_01FD38 \\\\\n",
       "\t6 & 478651 & 02F49B & 01FD38 & 2013 & 7 & 02F49B\\_01FD38 \\\\\n",
       "\t7 & 478660 & 0 & 0 & 2013 & 7 & 0\\_0 \\\\\n",
       "\t8 & 478667 & 02F49B & 01FD38 & 2013 & 7 & 02F49B\\_01FD38 \\\\\n",
       "\t9 & 478649 & 02F49B & 01FD38 & 2013 & 7 & 02F49B\\_01FD38 \\\\\n",
       "\t10 & 478661 & 02F49B & 01FD38 & 2013 & 7 & 02F49B\\_01FD38 \\\\\n",
       "\t11 & 478610 & 02F49B & 01FD38 & 2013 & 7 & 02F49B\\_01FD38 \\\\\n",
       "\t12 & 478642 & 02F49B & 01FD38 & 2013 & 7 & 02F49B\\_01FD38 \\\\\n",
       "\t13 & 478612 & 02F49B & 01FD38 & 2013 & 7 & 02F49B\\_01FD38 \\\\\n",
       "\t14 & 478644 & 02F49B & 01FD38 & 2013 & 7 & 02F49B\\_01FD38 \\\\\n",
       "\t15 & 478637 & 02F49B & 01FD38 & 2013 & 7 & 02F49B\\_01FD38 \\\\\n",
       "\t16 & 478666 & 02F49B & 01FD38 & 2013 & 7 & 02F49B\\_01FD38 \\\\\n",
       "\t17 & 478630 & 02F49B & 01FD38 & 2013 & 7 & 02F49B\\_01FD38 \\\\\n",
       "\t18 & 478623 & 02F49B & 01FD38 & 2013 & 7 & 02F49B\\_01FD38 \\\\\n",
       "\t19 & 478639 & 02F49B & 01FD38 & 2013 & 7 & 02F49B\\_01FD38 \\\\\n",
       "\t20 & 478629 & 02F49B & 01FD38 & 2013 & 7 & 02F49B\\_01FD38 \\\\\n",
       "\t21 & 478569 & 02F49B & 01FD38 & 2013 & 7 & 02F49B\\_01FD38 \\\\\n",
       "\t22 & 478654 & 02F49B & 01FD38 & 2013 & 7 & 02F49B\\_01FD38 \\\\\n",
       "\t23 & 478657 & 02F49B & 01FD38 & 2013 & 7 & 02F49B\\_01FD38 \\\\\n",
       "\t24 & 478575 & 02F49B & 01FD38 & 2013 & 7 & 02F49B\\_01FD38 \\\\\n",
       "\t$\\dots$ & $\\dots$ & $\\dots$ & $\\dots$ & $\\dots$ & $\\dots$ & $\\dots$ \\\\\n",
       "\\end{tabular}\n"
      ],
      "text/plain": [
       "\u001b[1m8362×6 DataFrame\u001b[0m\n",
       "\u001b[1m  Row \u001b[0m│\u001b[1m Id     \u001b[0m\u001b[1m Sire    \u001b[0m\u001b[1m Dam     \u001b[0m\u001b[1m Year_Class \u001b[0m\u001b[1m Selected_gen \u001b[0m\u001b[1m Family        \u001b[0m\n",
       "      │\u001b[90m String \u001b[0m\u001b[90m String7 \u001b[0m\u001b[90m String7 \u001b[0m\u001b[90m Int64      \u001b[0m\u001b[90m Int64        \u001b[0m\u001b[90m String        \u001b[0m\n",
       "──────┼───────────────────────────────────────────────────────────────────\n",
       "    1 │ 478665  0        0              2013             7  0_0\n",
       "    2 │ 478620  0        0              2013             7  0_0\n",
       "    3 │ 478601  02F49B   01FD38         2013             7  02F49B_01FD38\n",
       "    4 │ 478656  02F49B   01FD38         2013             7  02F49B_01FD38\n",
       "    5 │ 478671  02F49B   01FD38         2013             7  02F49B_01FD38\n",
       "    6 │ 478651  02F49B   01FD38         2013             7  02F49B_01FD38\n",
       "    7 │ 478660  0        0              2013             7  0_0\n",
       "    8 │ 478667  02F49B   01FD38         2013             7  02F49B_01FD38\n",
       "  ⋮   │   ⋮        ⋮        ⋮         ⋮            ⋮              ⋮\n",
       " 8356 │ 918925  597579   900730         2017             8  597579_900730\n",
       " 8357 │ 919071  597579   900730         2017             8  597579_900730\n",
       " 8358 │ 919218  597579   900730         2017             8  597579_900730\n",
       " 8359 │ 919013  597579   900730         2017             8  597579_900730\n",
       " 8360 │ 919448  597579   900730         2017             8  597579_900730\n",
       " 8361 │ 919246  597579   900730         2017             8  597579_900730\n",
       " 8362 │ 919420  597579   900730         2017             8  597579_900730\n",
       "\u001b[36m                                                         8347 rows omitted\u001b[0m"
      ]
     },
     "metadata": {},
     "output_type": "display_data"
    }
   ],
   "source": [
    "pedigree"
   ]
  },
  {
   "cell_type": "code",
   "execution_count": 8,
   "metadata": {},
   "outputs": [
    {
     "data": {
      "text/html": [
       "<div><div style = \"float: left;\"><span>2862×6 DataFrame</span></div><div style = \"float: right;\"><span style = \"font-style: italic;\">2837 rows omitted</span></div><div style = \"clear: both;\"></div></div><div class = \"data-frame\" style = \"overflow-x: scroll;\"><table class = \"data-frame\" style = \"margin-bottom: 6px;\"><thead><tr class = \"header\"><th class = \"rowNumber\" style = \"font-weight: bold; text-align: right;\">Row</th><th style = \"text-align: left;\">PIT</th><th style = \"text-align: left;\">Length</th><th style = \"text-align: left;\">Weight</th><th style = \"text-align: left;\">Tank</th><th style = \"text-align: left;\">Sex</th><th style = \"text-align: left;\">Site</th></tr><tr class = \"subheader headerLastRow\"><th class = \"rowNumber\" style = \"font-weight: bold; text-align: right;\"></th><th title = \"Int64\" style = \"text-align: left;\">Int64</th><th title = \"Union{Missing, Int64}\" style = \"text-align: left;\">Int64?</th><th title = \"Union{Missing, Int64}\" style = \"text-align: left;\">Int64?</th><th title = \"Union{Missing, Int64}\" style = \"text-align: left;\">Int64?</th><th title = \"Union{Missing, String1}\" style = \"text-align: left;\">String1?</th><th title = \"Union{Missing, Int64}\" style = \"text-align: left;\">Int64?</th></tr></thead><tbody><tr><td class = \"rowNumber\" style = \"font-weight: bold; text-align: right;\">1</td><td style = \"text-align: right;\">919540</td><td style = \"text-align: right;\">465</td><td style = \"text-align: right;\">1514</td><td style = \"text-align: right;\">1</td><td style = \"text-align: left;\">U</td><td style = \"text-align: right;\">1</td></tr><tr><td class = \"rowNumber\" style = \"font-weight: bold; text-align: right;\">2</td><td style = \"text-align: right;\">918025</td><td style = \"text-align: right;\">455</td><td style = \"text-align: right;\">1250</td><td style = \"text-align: right;\">1</td><td style = \"text-align: left;\">U</td><td style = \"text-align: right;\">1</td></tr><tr><td class = \"rowNumber\" style = \"font-weight: bold; text-align: right;\">3</td><td style = \"text-align: right;\">917803</td><td style = \"text-align: right;\">405</td><td style = \"text-align: right;\">937</td><td style = \"text-align: right;\">1</td><td style = \"text-align: left;\">U</td><td style = \"text-align: right;\">1</td></tr><tr><td class = \"rowNumber\" style = \"font-weight: bold; text-align: right;\">4</td><td style = \"text-align: right;\">918763</td><td style = \"text-align: right;\">505</td><td style = \"text-align: right;\">2667</td><td style = \"text-align: right;\">4</td><td style = \"text-align: left;\">M</td><td style = \"text-align: right;\">2</td></tr><tr><td class = \"rowNumber\" style = \"font-weight: bold; text-align: right;\">5</td><td style = \"text-align: right;\">917365</td><td style = \"text-align: right;\">500</td><td style = \"text-align: right;\">2204</td><td style = \"text-align: right;\">4</td><td style = \"text-align: left;\">U</td><td style = \"text-align: right;\">2</td></tr><tr><td class = \"rowNumber\" style = \"font-weight: bold; text-align: right;\">6</td><td style = \"text-align: right;\">916380</td><td style = \"text-align: right;\">520</td><td style = \"text-align: right;\">2336</td><td style = \"text-align: right;\">4</td><td style = \"text-align: left;\">U</td><td style = \"text-align: right;\">2</td></tr><tr><td class = \"rowNumber\" style = \"font-weight: bold; text-align: right;\">7</td><td style = \"text-align: right;\">9186524</td><td style = \"text-align: right;\">535</td><td style = \"text-align: right;\">3065</td><td style = \"text-align: right;\">4</td><td style = \"text-align: left;\">U</td><td style = \"text-align: right;\">2</td></tr><tr><td class = \"rowNumber\" style = \"font-weight: bold; text-align: right;\">8</td><td style = \"text-align: right;\">915778</td><td style = \"text-align: right;\">490</td><td style = \"text-align: right;\">1774</td><td style = \"text-align: right;\">4</td><td style = \"text-align: left;\">U</td><td style = \"text-align: right;\">2</td></tr><tr><td class = \"rowNumber\" style = \"font-weight: bold; text-align: right;\">9</td><td style = \"text-align: right;\">916993</td><td style = \"text-align: right;\">435</td><td style = \"text-align: right;\">1426</td><td style = \"text-align: right;\">3</td><td style = \"text-align: left;\">U</td><td style = \"text-align: right;\">1</td></tr><tr><td class = \"rowNumber\" style = \"font-weight: bold; text-align: right;\">10</td><td style = \"text-align: right;\">916238</td><td style = \"text-align: right;\">475</td><td style = \"text-align: right;\">1545</td><td style = \"text-align: right;\">3</td><td style = \"text-align: left;\">U</td><td style = \"text-align: right;\">1</td></tr><tr><td class = \"rowNumber\" style = \"font-weight: bold; text-align: right;\">11</td><td style = \"text-align: right;\">916890</td><td style = \"text-align: right;\">475</td><td style = \"text-align: right;\">1408</td><td style = \"text-align: right;\">3</td><td style = \"text-align: left;\">U</td><td style = \"text-align: right;\">1</td></tr><tr><td class = \"rowNumber\" style = \"font-weight: bold; text-align: right;\">12</td><td style = \"text-align: right;\">919647</td><td style = \"text-align: right;\">525</td><td style = \"text-align: right;\">2424</td><td style = \"text-align: right;\">3</td><td style = \"text-align: left;\">M</td><td style = \"text-align: right;\">1</td></tr><tr><td class = \"rowNumber\" style = \"font-weight: bold; text-align: right;\">13</td><td style = \"text-align: right;\">916592</td><td style = \"text-align: right;\">435</td><td style = \"text-align: right;\">1224</td><td style = \"text-align: right;\">3</td><td style = \"text-align: left;\">M</td><td style = \"text-align: right;\">1</td></tr><tr><td style = \"text-align: right;\">&vellip;</td><td style = \"text-align: right;\">&vellip;</td><td style = \"text-align: right;\">&vellip;</td><td style = \"text-align: right;\">&vellip;</td><td style = \"text-align: right;\">&vellip;</td><td style = \"text-align: right;\">&vellip;</td><td style = \"text-align: right;\">&vellip;</td></tr><tr><td class = \"rowNumber\" style = \"font-weight: bold; text-align: right;\">2851</td><td style = \"text-align: right;\">916210</td><td style = \"font-style: italic; text-align: right;\">missing</td><td style = \"text-align: right;\">1331</td><td style = \"text-align: right;\">2</td><td style = \"text-align: left;\">U</td><td style = \"text-align: right;\">1</td></tr><tr><td class = \"rowNumber\" style = \"font-weight: bold; text-align: right;\">2852</td><td style = \"text-align: right;\">920428</td><td style = \"text-align: right;\">490</td><td style = \"text-align: right;\">2134</td><td style = \"text-align: right;\">2</td><td style = \"text-align: left;\">M</td><td style = \"text-align: right;\">1</td></tr><tr><td class = \"rowNumber\" style = \"font-weight: bold; text-align: right;\">2853</td><td style = \"text-align: right;\">920343</td><td style = \"text-align: right;\">490</td><td style = \"text-align: right;\">1661</td><td style = \"text-align: right;\">2</td><td style = \"text-align: left;\">M</td><td style = \"text-align: right;\">1</td></tr><tr><td class = \"rowNumber\" style = \"font-weight: bold; text-align: right;\">2854</td><td style = \"text-align: right;\">918125</td><td style = \"text-align: right;\">455</td><td style = \"text-align: right;\">1371</td><td style = \"text-align: right;\">2</td><td style = \"text-align: left;\">U</td><td style = \"text-align: right;\">1</td></tr><tr><td class = \"rowNumber\" style = \"font-weight: bold; text-align: right;\">2855</td><td style = \"text-align: right;\">918957</td><td style = \"text-align: right;\">435</td><td style = \"text-align: right;\">1276</td><td style = \"text-align: right;\">2</td><td style = \"text-align: left;\">U</td><td style = \"text-align: right;\">1</td></tr><tr><td class = \"rowNumber\" style = \"font-weight: bold; text-align: right;\">2856</td><td style = \"text-align: right;\">9195532</td><td style = \"text-align: right;\">430</td><td style = \"text-align: right;\">1847</td><td style = \"text-align: right;\">2</td><td style = \"text-align: left;\">U</td><td style = \"text-align: right;\">1</td></tr><tr><td class = \"rowNumber\" style = \"font-weight: bold; text-align: right;\">2857</td><td style = \"text-align: right;\">917155</td><td style = \"text-align: right;\">445</td><td style = \"text-align: right;\">1377</td><td style = \"text-align: right;\">2</td><td style = \"text-align: left;\">U</td><td style = \"text-align: right;\">1</td></tr><tr><td class = \"rowNumber\" style = \"font-weight: bold; text-align: right;\">2858</td><td style = \"text-align: right;\">920227</td><td style = \"text-align: right;\">475</td><td style = \"text-align: right;\">1565</td><td style = \"text-align: right;\">2</td><td style = \"text-align: left;\">U</td><td style = \"text-align: right;\">1</td></tr><tr><td class = \"rowNumber\" style = \"font-weight: bold; text-align: right;\">2859</td><td style = \"text-align: right;\">915897</td><td style = \"text-align: right;\">440</td><td style = \"text-align: right;\">1300</td><td style = \"text-align: right;\">2</td><td style = \"text-align: left;\">U</td><td style = \"text-align: right;\">1</td></tr><tr><td class = \"rowNumber\" style = \"font-weight: bold; text-align: right;\">2860</td><td style = \"text-align: right;\">917341</td><td style = \"text-align: right;\">450</td><td style = \"text-align: right;\">1510</td><td style = \"text-align: right;\">2</td><td style = \"text-align: left;\">U</td><td style = \"text-align: right;\">1</td></tr><tr><td class = \"rowNumber\" style = \"font-weight: bold; text-align: right;\">2861</td><td style = \"text-align: right;\">915861</td><td style = \"text-align: right;\">450</td><td style = \"text-align: right;\">1464</td><td style = \"text-align: right;\">2</td><td style = \"text-align: left;\">U</td><td style = \"text-align: right;\">1</td></tr><tr><td class = \"rowNumber\" style = \"font-weight: bold; text-align: right;\">2862</td><td style = \"text-align: right;\">9197101</td><td style = \"text-align: right;\">420</td><td style = \"text-align: right;\">1069</td><td style = \"text-align: right;\">2</td><td style = \"text-align: left;\">U</td><td style = \"text-align: right;\">1</td></tr></tbody></table></div>"
      ],
      "text/latex": [
       "\\begin{tabular}{r|cccccc}\n",
       "\t& PIT & Length & Weight & Tank & Sex & Site\\\\\n",
       "\t\\hline\n",
       "\t& Int64 & Int64? & Int64? & Int64? & String1? & Int64?\\\\\n",
       "\t\\hline\n",
       "\t1 & 919540 & 465 & 1514 & 1 & U & 1 \\\\\n",
       "\t2 & 918025 & 455 & 1250 & 1 & U & 1 \\\\\n",
       "\t3 & 917803 & 405 & 937 & 1 & U & 1 \\\\\n",
       "\t4 & 918763 & 505 & 2667 & 4 & M & 2 \\\\\n",
       "\t5 & 917365 & 500 & 2204 & 4 & U & 2 \\\\\n",
       "\t6 & 916380 & 520 & 2336 & 4 & U & 2 \\\\\n",
       "\t7 & 9186524 & 535 & 3065 & 4 & U & 2 \\\\\n",
       "\t8 & 915778 & 490 & 1774 & 4 & U & 2 \\\\\n",
       "\t9 & 916993 & 435 & 1426 & 3 & U & 1 \\\\\n",
       "\t10 & 916238 & 475 & 1545 & 3 & U & 1 \\\\\n",
       "\t11 & 916890 & 475 & 1408 & 3 & U & 1 \\\\\n",
       "\t12 & 919647 & 525 & 2424 & 3 & M & 1 \\\\\n",
       "\t13 & 916592 & 435 & 1224 & 3 & M & 1 \\\\\n",
       "\t14 & 918602 & 465 & 1572 & 3 & U & 1 \\\\\n",
       "\t15 & 917824 & 460 & 1198 & 3 & U & 1 \\\\\n",
       "\t16 & 917332 & 495 & 2118 & 3 & U & 1 \\\\\n",
       "\t17 & 917463 & 475 & 1418 & 3 & U & 1 \\\\\n",
       "\t18 & 918936 & 490 & 2317 & 3 & M & 1 \\\\\n",
       "\t19 & 916422 & 420 & 1069 & 3 & U & 1 \\\\\n",
       "\t20 & 917426 & 505 & 1889 & 3 & M & 1 \\\\\n",
       "\t21 & 917919 & 470 & 1468 & 3 & U & 1 \\\\\n",
       "\t22 & 917067 & 435 & 1291 & 3 & U & 1 \\\\\n",
       "\t23 & 917485 & 445 & 1236 & 3 & U & 1 \\\\\n",
       "\t24 & 917035 & 455 & 1425 & 3 & U & 1 \\\\\n",
       "\t$\\dots$ & $\\dots$ & $\\dots$ & $\\dots$ & $\\dots$ & $\\dots$ & $\\dots$ \\\\\n",
       "\\end{tabular}\n"
      ],
      "text/plain": [
       "\u001b[1m2862×6 DataFrame\u001b[0m\n",
       "\u001b[1m  Row \u001b[0m│\u001b[1m PIT     \u001b[0m\u001b[1m Length \u001b[0m\u001b[1m Weight \u001b[0m\u001b[1m Tank   \u001b[0m\u001b[1m Sex      \u001b[0m\u001b[1m Site   \u001b[0m\n",
       "      │\u001b[90m Int64   \u001b[0m\u001b[90m Int64? \u001b[0m\u001b[90m Int64? \u001b[0m\u001b[90m Int64? \u001b[0m\u001b[90m String1? \u001b[0m\u001b[90m Int64? \u001b[0m\n",
       "──────┼───────────────────────────────────────────────────\n",
       "    1 │  919540     465    1514       1  U              1\n",
       "    2 │  918025     455    1250       1  U              1\n",
       "    3 │  917803     405     937       1  U              1\n",
       "    4 │  918763     505    2667       4  M              2\n",
       "    5 │  917365     500    2204       4  U              2\n",
       "    6 │  916380     520    2336       4  U              2\n",
       "    7 │ 9186524     535    3065       4  U              2\n",
       "    8 │  915778     490    1774       4  U              2\n",
       "  ⋮   │    ⋮       ⋮       ⋮       ⋮        ⋮        ⋮\n",
       " 2856 │ 9195532     430    1847       2  U              1\n",
       " 2857 │  917155     445    1377       2  U              1\n",
       " 2858 │  920227     475    1565       2  U              1\n",
       " 2859 │  915897     440    1300       2  U              1\n",
       " 2860 │  917341     450    1510       2  U              1\n",
       " 2861 │  915861     450    1464       2  U              1\n",
       " 2862 │ 9197101     420    1069       2  U              1\n",
       "\u001b[36m                                         2847 rows omitted\u001b[0m"
      ]
     },
     "metadata": {},
     "output_type": "display_data"
    }
   ],
   "source": [
    "pheno = CSV.read(\"ac_pheno.txt\", DataFrame; missingstring=\"NA\")"
   ]
  },
  {
   "cell_type": "code",
   "execution_count": 9,
   "metadata": {},
   "outputs": [
    {
     "data": {
      "text/plain": [
       "2862-element Vector{String}:\n",
       " \"919540\"\n",
       " \"918025\"\n",
       " \"917803\"\n",
       " \"918763\"\n",
       " \"917365\"\n",
       " \"916380\"\n",
       " \"9186524\"\n",
       " \"915778\"\n",
       " \"916993\"\n",
       " \"916238\"\n",
       " ⋮\n",
       " \"918125\"\n",
       " \"918957\"\n",
       " \"9195532\"\n",
       " \"917155\"\n",
       " \"920227\"\n",
       " \"915897\"\n",
       " \"917341\"\n",
       " \"915861\"\n",
       " \"9197101\""
      ]
     },
     "metadata": {},
     "output_type": "display_data"
    }
   ],
   "source": [
    "pheno.PIT = string.(pheno.PIT)"
   ]
  },
  {
   "cell_type": "code",
   "execution_count": 10,
   "metadata": {},
   "outputs": [
    {
     "data": {
      "text/html": [
       "<div><div style = \"float: left;\"><span>2847×11 DataFrame</span></div><div style = \"float: right;\"><span style = \"font-style: italic;\">2822 rows omitted</span></div><div style = \"clear: both;\"></div></div><div class = \"data-frame\" style = \"overflow-x: scroll;\"><table class = \"data-frame\" style = \"margin-bottom: 6px;\"><thead><tr class = \"header\"><th class = \"rowNumber\" style = \"font-weight: bold; text-align: right;\">Row</th><th style = \"text-align: left;\">Id</th><th style = \"text-align: left;\">Sire</th><th style = \"text-align: left;\">Dam</th><th style = \"text-align: left;\">Year_Class</th><th style = \"text-align: left;\">Selected_gen</th><th style = \"text-align: left;\">Family</th><th style = \"text-align: left;\">Length</th><th style = \"text-align: left;\">Weight</th><th style = \"text-align: left;\">Tank</th><th style = \"text-align: left;\">Sex</th><th style = \"text-align: left;\">Site</th></tr><tr class = \"subheader headerLastRow\"><th class = \"rowNumber\" style = \"font-weight: bold; text-align: right;\"></th><th title = \"String\" style = \"text-align: left;\">String</th><th title = \"String7\" style = \"text-align: left;\">String7</th><th title = \"String7\" style = \"text-align: left;\">String7</th><th title = \"Int64\" style = \"text-align: left;\">Int64</th><th title = \"Int64\" style = \"text-align: left;\">Int64</th><th title = \"String\" style = \"text-align: left;\">String</th><th title = \"Union{Missing, Int64}\" style = \"text-align: left;\">Int64?</th><th title = \"Union{Missing, Int64}\" style = \"text-align: left;\">Int64?</th><th title = \"Union{Missing, Int64}\" style = \"text-align: left;\">Int64?</th><th title = \"Union{Missing, String1}\" style = \"text-align: left;\">String1?</th><th title = \"Union{Missing, Int64}\" style = \"text-align: left;\">Int64?</th></tr></thead><tbody><tr><td class = \"rowNumber\" style = \"font-weight: bold; text-align: right;\">1</td><td style = \"text-align: left;\">916577</td><td style = \"text-align: left;\">597579</td><td style = \"text-align: left;\">479801</td><td style = \"text-align: right;\">2017</td><td style = \"text-align: right;\">8</td><td style = \"text-align: left;\">597579_479801</td><td style = \"text-align: right;\">455</td><td style = \"text-align: right;\">1556</td><td style = \"text-align: right;\">3</td><td style = \"text-align: left;\">U</td><td style = \"text-align: right;\">1</td></tr><tr><td class = \"rowNumber\" style = \"font-weight: bold; text-align: right;\">2</td><td style = \"text-align: left;\">915812</td><td style = \"text-align: left;\">597579</td><td style = \"text-align: left;\">479801</td><td style = \"text-align: right;\">2017</td><td style = \"text-align: right;\">8</td><td style = \"text-align: left;\">597579_479801</td><td style = \"text-align: right;\">430</td><td style = \"text-align: right;\">1339</td><td style = \"text-align: right;\">3</td><td style = \"text-align: left;\">M</td><td style = \"text-align: right;\">1</td></tr><tr><td class = \"rowNumber\" style = \"font-weight: bold; text-align: right;\">3</td><td style = \"text-align: left;\">915812</td><td style = \"text-align: left;\">597579</td><td style = \"text-align: left;\">479801</td><td style = \"text-align: right;\">2017</td><td style = \"text-align: right;\">8</td><td style = \"text-align: left;\">597579_479801</td><td style = \"text-align: right;\">430</td><td style = \"text-align: right;\">1339</td><td style = \"text-align: right;\">3</td><td style = \"text-align: left;\">M</td><td style = \"text-align: right;\">1</td></tr><tr><td class = \"rowNumber\" style = \"font-weight: bold; text-align: right;\">4</td><td style = \"text-align: left;\">916294</td><td style = \"text-align: left;\">597579</td><td style = \"text-align: left;\">479801</td><td style = \"text-align: right;\">2017</td><td style = \"text-align: right;\">8</td><td style = \"text-align: left;\">597579_479801</td><td style = \"text-align: right;\">505</td><td style = \"text-align: right;\">2038</td><td style = \"text-align: right;\">2</td><td style = \"text-align: left;\">M</td><td style = \"text-align: right;\">1</td></tr><tr><td class = \"rowNumber\" style = \"font-weight: bold; text-align: right;\">5</td><td style = \"text-align: left;\">916246</td><td style = \"text-align: left;\">597579</td><td style = \"text-align: left;\">479801</td><td style = \"text-align: right;\">2017</td><td style = \"text-align: right;\">8</td><td style = \"text-align: left;\">597579_479801</td><td style = \"text-align: right;\">415</td><td style = \"text-align: right;\">1213</td><td style = \"text-align: right;\">1</td><td style = \"text-align: left;\">U</td><td style = \"text-align: right;\">1</td></tr><tr><td class = \"rowNumber\" style = \"font-weight: bold; text-align: right;\">6</td><td style = \"text-align: left;\">916009</td><td style = \"text-align: left;\">597579</td><td style = \"text-align: left;\">479801</td><td style = \"text-align: right;\">2017</td><td style = \"text-align: right;\">8</td><td style = \"text-align: left;\">597579_479801</td><td style = \"text-align: right;\">455</td><td style = \"text-align: right;\">1435</td><td style = \"text-align: right;\">2</td><td style = \"text-align: left;\">U</td><td style = \"text-align: right;\">1</td></tr><tr><td class = \"rowNumber\" style = \"font-weight: bold; text-align: right;\">7</td><td style = \"text-align: left;\">916104</td><td style = \"text-align: left;\">597579</td><td style = \"text-align: left;\">479801</td><td style = \"text-align: right;\">2017</td><td style = \"text-align: right;\">8</td><td style = \"text-align: left;\">597579_479801</td><td style = \"text-align: right;\">455</td><td style = \"text-align: right;\">1499</td><td style = \"text-align: right;\">1</td><td style = \"text-align: left;\">U</td><td style = \"text-align: right;\">1</td></tr><tr><td class = \"rowNumber\" style = \"font-weight: bold; text-align: right;\">8</td><td style = \"text-align: left;\">916518</td><td style = \"text-align: left;\">597579</td><td style = \"text-align: left;\">479801</td><td style = \"text-align: right;\">2017</td><td style = \"text-align: right;\">8</td><td style = \"text-align: left;\">597579_479801</td><td style = \"text-align: right;\">470</td><td style = \"text-align: right;\">1661</td><td style = \"text-align: right;\">2</td><td style = \"text-align: left;\">M</td><td style = \"text-align: right;\">1</td></tr><tr><td class = \"rowNumber\" style = \"font-weight: bold; text-align: right;\">9</td><td style = \"text-align: left;\">916274</td><td style = \"text-align: left;\">597579</td><td style = \"text-align: left;\">479801</td><td style = \"text-align: right;\">2017</td><td style = \"text-align: right;\">8</td><td style = \"text-align: left;\">597579_479801</td><td style = \"text-align: right;\">485</td><td style = \"text-align: right;\">1858</td><td style = \"text-align: right;\">1</td><td style = \"text-align: left;\">M</td><td style = \"text-align: right;\">1</td></tr><tr><td class = \"rowNumber\" style = \"font-weight: bold; text-align: right;\">10</td><td style = \"text-align: left;\">916506</td><td style = \"text-align: left;\">597579</td><td style = \"text-align: left;\">479801</td><td style = \"text-align: right;\">2017</td><td style = \"text-align: right;\">8</td><td style = \"text-align: left;\">597579_479801</td><td style = \"text-align: right;\">490</td><td style = \"text-align: right;\">2113</td><td style = \"text-align: right;\">3</td><td style = \"text-align: left;\">M</td><td style = \"text-align: right;\">1</td></tr><tr><td class = \"rowNumber\" style = \"font-weight: bold; text-align: right;\">11</td><td style = \"text-align: left;\">916042</td><td style = \"text-align: left;\">597579</td><td style = \"text-align: left;\">479801</td><td style = \"text-align: right;\">2017</td><td style = \"text-align: right;\">8</td><td style = \"text-align: left;\">597579_479801</td><td style = \"text-align: right;\">470</td><td style = \"text-align: right;\">1565</td><td style = \"text-align: right;\">2</td><td style = \"text-align: left;\">U</td><td style = \"text-align: right;\">1</td></tr><tr><td class = \"rowNumber\" style = \"font-weight: bold; text-align: right;\">12</td><td style = \"text-align: left;\">916510</td><td style = \"text-align: left;\">597579</td><td style = \"text-align: left;\">479801</td><td style = \"text-align: right;\">2017</td><td style = \"text-align: right;\">8</td><td style = \"text-align: left;\">597579_479801</td><td style = \"text-align: right;\">455</td><td style = \"text-align: right;\">1331</td><td style = \"text-align: right;\">1</td><td style = \"text-align: left;\">U</td><td style = \"text-align: right;\">1</td></tr><tr><td class = \"rowNumber\" style = \"font-weight: bold; text-align: right;\">13</td><td style = \"text-align: left;\">915977</td><td style = \"text-align: left;\">597579</td><td style = \"text-align: left;\">479801</td><td style = \"text-align: right;\">2017</td><td style = \"text-align: right;\">8</td><td style = \"text-align: left;\">597579_479801</td><td style = \"text-align: right;\">470</td><td style = \"text-align: right;\">1629</td><td style = \"text-align: right;\">2</td><td style = \"text-align: left;\">U</td><td style = \"text-align: right;\">1</td></tr><tr><td style = \"text-align: right;\">&vellip;</td><td style = \"text-align: right;\">&vellip;</td><td style = \"text-align: right;\">&vellip;</td><td style = \"text-align: right;\">&vellip;</td><td style = \"text-align: right;\">&vellip;</td><td style = \"text-align: right;\">&vellip;</td><td style = \"text-align: right;\">&vellip;</td><td style = \"text-align: right;\">&vellip;</td><td style = \"text-align: right;\">&vellip;</td><td style = \"text-align: right;\">&vellip;</td><td style = \"text-align: right;\">&vellip;</td><td style = \"text-align: right;\">&vellip;</td></tr><tr><td class = \"rowNumber\" style = \"font-weight: bold; text-align: right;\">2836</td><td style = \"text-align: left;\">919260</td><td style = \"text-align: left;\">597579</td><td style = \"text-align: left;\">900730</td><td style = \"text-align: right;\">2017</td><td style = \"text-align: right;\">8</td><td style = \"text-align: left;\">597579_900730</td><td style = \"text-align: right;\">445</td><td style = \"text-align: right;\">1182</td><td style = \"text-align: right;\">4</td><td style = \"text-align: left;\">U</td><td style = \"text-align: right;\">2</td></tr><tr><td class = \"rowNumber\" style = \"font-weight: bold; text-align: right;\">2837</td><td style = \"text-align: left;\">919212</td><td style = \"text-align: left;\">597579</td><td style = \"text-align: left;\">900730</td><td style = \"text-align: right;\">2017</td><td style = \"text-align: right;\">8</td><td style = \"text-align: left;\">597579_900730</td><td style = \"text-align: right;\">505</td><td style = \"text-align: right;\">2307</td><td style = \"text-align: right;\">4</td><td style = \"text-align: left;\">U</td><td style = \"text-align: right;\">2</td></tr><tr><td class = \"rowNumber\" style = \"font-weight: bold; text-align: right;\">2838</td><td style = \"text-align: left;\">918730</td><td style = \"text-align: left;\">597579</td><td style = \"text-align: left;\">900730</td><td style = \"text-align: right;\">2017</td><td style = \"text-align: right;\">8</td><td style = \"text-align: left;\">597579_900730</td><td style = \"text-align: right;\">485</td><td style = \"text-align: right;\">2042</td><td style = \"text-align: right;\">4</td><td style = \"text-align: left;\">U</td><td style = \"text-align: right;\">2</td></tr><tr><td class = \"rowNumber\" style = \"font-weight: bold; text-align: right;\">2839</td><td style = \"text-align: left;\">918783</td><td style = \"text-align: left;\">597579</td><td style = \"text-align: left;\">900730</td><td style = \"text-align: right;\">2017</td><td style = \"text-align: right;\">8</td><td style = \"text-align: left;\">597579_900730</td><td style = \"text-align: right;\">500</td><td style = \"text-align: right;\">2431</td><td style = \"text-align: right;\">4</td><td style = \"text-align: left;\">U</td><td style = \"text-align: right;\">2</td></tr><tr><td class = \"rowNumber\" style = \"font-weight: bold; text-align: right;\">2840</td><td style = \"text-align: left;\">919005</td><td style = \"text-align: left;\">597579</td><td style = \"text-align: left;\">900730</td><td style = \"text-align: right;\">2017</td><td style = \"text-align: right;\">8</td><td style = \"text-align: left;\">597579_900730</td><td style = \"text-align: right;\">515</td><td style = \"text-align: right;\">2113</td><td style = \"text-align: right;\">4</td><td style = \"text-align: left;\">U</td><td style = \"text-align: right;\">2</td></tr><tr><td class = \"rowNumber\" style = \"font-weight: bold; text-align: right;\">2841</td><td style = \"text-align: left;\">918896</td><td style = \"text-align: left;\">597579</td><td style = \"text-align: left;\">900730</td><td style = \"text-align: right;\">2017</td><td style = \"text-align: right;\">8</td><td style = \"text-align: left;\">597579_900730</td><td style = \"text-align: right;\">485</td><td style = \"text-align: right;\">1775</td><td style = \"text-align: right;\">4</td><td style = \"text-align: left;\">U</td><td style = \"text-align: right;\">2</td></tr><tr><td class = \"rowNumber\" style = \"font-weight: bold; text-align: right;\">2842</td><td style = \"text-align: left;\">919038</td><td style = \"text-align: left;\">597579</td><td style = \"text-align: left;\">900730</td><td style = \"text-align: right;\">2017</td><td style = \"text-align: right;\">8</td><td style = \"text-align: left;\">597579_900730</td><td style = \"text-align: right;\">400</td><td style = \"text-align: right;\">992</td><td style = \"text-align: right;\">4</td><td style = \"text-align: left;\">U</td><td style = \"text-align: right;\">2</td></tr><tr><td class = \"rowNumber\" style = \"font-weight: bold; text-align: right;\">2843</td><td style = \"text-align: left;\">918721</td><td style = \"text-align: left;\">597579</td><td style = \"text-align: left;\">900730</td><td style = \"text-align: right;\">2017</td><td style = \"text-align: right;\">8</td><td style = \"text-align: left;\">597579_900730</td><td style = \"text-align: right;\">500</td><td style = \"text-align: right;\">2168</td><td style = \"text-align: right;\">4</td><td style = \"text-align: left;\">U</td><td style = \"text-align: right;\">2</td></tr><tr><td class = \"rowNumber\" style = \"font-weight: bold; text-align: right;\">2844</td><td style = \"text-align: left;\">919049</td><td style = \"text-align: left;\">597579</td><td style = \"text-align: left;\">900730</td><td style = \"text-align: right;\">2017</td><td style = \"text-align: right;\">8</td><td style = \"text-align: left;\">597579_900730</td><td style = \"text-align: right;\">530</td><td style = \"text-align: right;\">2862</td><td style = \"text-align: right;\">4</td><td style = \"text-align: left;\">U</td><td style = \"text-align: right;\">2</td></tr><tr><td class = \"rowNumber\" style = \"font-weight: bold; text-align: right;\">2845</td><td style = \"text-align: left;\">918919</td><td style = \"text-align: left;\">597579</td><td style = \"text-align: left;\">900730</td><td style = \"text-align: right;\">2017</td><td style = \"text-align: right;\">8</td><td style = \"text-align: left;\">597579_900730</td><td style = \"text-align: right;\">505</td><td style = \"text-align: right;\">1888</td><td style = \"text-align: right;\">4</td><td style = \"text-align: left;\">U</td><td style = \"text-align: right;\">2</td></tr><tr><td class = \"rowNumber\" style = \"font-weight: bold; text-align: right;\">2846</td><td style = \"text-align: left;\">918637</td><td style = \"text-align: left;\">597579</td><td style = \"text-align: left;\">900730</td><td style = \"text-align: right;\">2017</td><td style = \"text-align: right;\">8</td><td style = \"text-align: left;\">597579_900730</td><td style = \"text-align: right;\">430</td><td style = \"text-align: right;\">1208</td><td style = \"text-align: right;\">4</td><td style = \"text-align: left;\">U</td><td style = \"text-align: right;\">2</td></tr><tr><td class = \"rowNumber\" style = \"font-weight: bold; text-align: right;\">2847</td><td style = \"text-align: left;\">918786</td><td style = \"text-align: left;\">597579</td><td style = \"text-align: left;\">900730</td><td style = \"text-align: right;\">2017</td><td style = \"text-align: right;\">8</td><td style = \"text-align: left;\">597579_900730</td><td style = \"text-align: right;\">455</td><td style = \"text-align: right;\">1491</td><td style = \"text-align: right;\">4</td><td style = \"text-align: left;\">U</td><td style = \"text-align: right;\">2</td></tr></tbody></table></div>"
      ],
      "text/latex": [
       "\\begin{tabular}{r|ccccccccc}\n",
       "\t& Id & Sire & Dam & Year\\_Class & Selected\\_gen & Family & Length & Weight & \\\\\n",
       "\t\\hline\n",
       "\t& String & String7 & String7 & Int64 & Int64 & String & Int64? & Int64? & \\\\\n",
       "\t\\hline\n",
       "\t1 & 916577 & 597579 & 479801 & 2017 & 8 & 597579\\_479801 & 455 & 1556 & $\\dots$ \\\\\n",
       "\t2 & 915812 & 597579 & 479801 & 2017 & 8 & 597579\\_479801 & 430 & 1339 & $\\dots$ \\\\\n",
       "\t3 & 915812 & 597579 & 479801 & 2017 & 8 & 597579\\_479801 & 430 & 1339 & $\\dots$ \\\\\n",
       "\t4 & 916294 & 597579 & 479801 & 2017 & 8 & 597579\\_479801 & 505 & 2038 & $\\dots$ \\\\\n",
       "\t5 & 916246 & 597579 & 479801 & 2017 & 8 & 597579\\_479801 & 415 & 1213 & $\\dots$ \\\\\n",
       "\t6 & 916009 & 597579 & 479801 & 2017 & 8 & 597579\\_479801 & 455 & 1435 & $\\dots$ \\\\\n",
       "\t7 & 916104 & 597579 & 479801 & 2017 & 8 & 597579\\_479801 & 455 & 1499 & $\\dots$ \\\\\n",
       "\t8 & 916518 & 597579 & 479801 & 2017 & 8 & 597579\\_479801 & 470 & 1661 & $\\dots$ \\\\\n",
       "\t9 & 916274 & 597579 & 479801 & 2017 & 8 & 597579\\_479801 & 485 & 1858 & $\\dots$ \\\\\n",
       "\t10 & 916506 & 597579 & 479801 & 2017 & 8 & 597579\\_479801 & 490 & 2113 & $\\dots$ \\\\\n",
       "\t11 & 916042 & 597579 & 479801 & 2017 & 8 & 597579\\_479801 & 470 & 1565 & $\\dots$ \\\\\n",
       "\t12 & 916510 & 597579 & 479801 & 2017 & 8 & 597579\\_479801 & 455 & 1331 & $\\dots$ \\\\\n",
       "\t13 & 915977 & 597579 & 479801 & 2017 & 8 & 597579\\_479801 & 470 & 1629 & $\\dots$ \\\\\n",
       "\t14 & 915817 & 597579 & 479801 & 2017 & 8 & 597579\\_479801 & 490 & 1642 & $\\dots$ \\\\\n",
       "\t15 & 915724 & 597579 & 479801 & 2017 & 8 & 597579\\_479801 & 405 & 1001 & $\\dots$ \\\\\n",
       "\t16 & 915948 & 597579 & 479801 & 2017 & 8 & 597579\\_479801 & 470 & 1727 & $\\dots$ \\\\\n",
       "\t17 & 916299 & 597579 & 479801 & 2017 & 8 & 597579\\_479801 & 430 & 1214 & $\\dots$ \\\\\n",
       "\t18 & 916381 & 597579 & 479801 & 2017 & 8 & 597579\\_479801 & 465 & 1658 & $\\dots$ \\\\\n",
       "\t19 & 915718 & 597579 & 479801 & 2017 & 8 & 597579\\_479801 & 435 & 1301 & $\\dots$ \\\\\n",
       "\t20 & 915964 & 597579 & 479801 & 2017 & 8 & 597579\\_479801 & 440 & 1232 & $\\dots$ \\\\\n",
       "\t21 & 916436 & 597579 & 479801 & 2017 & 8 & 597579\\_479801 & 475 & 1950 & $\\dots$ \\\\\n",
       "\t22 & 916560 & 597579 & 479801 & 2017 & 8 & 597579\\_479801 & 495 & 1953 & $\\dots$ \\\\\n",
       "\t23 & 916315 & 597579 & 479801 & 2017 & 8 & 597579\\_479801 & 505 & 1857 & $\\dots$ \\\\\n",
       "\t24 & 916149 & 597579 & 479801 & 2017 & 8 & 597579\\_479801 & 445 & 1472 & $\\dots$ \\\\\n",
       "\t$\\dots$ & $\\dots$ & $\\dots$ & $\\dots$ & $\\dots$ & $\\dots$ & $\\dots$ & $\\dots$ & $\\dots$ &  \\\\\n",
       "\\end{tabular}\n"
      ],
      "text/plain": [
       "\u001b[1m2847×11 DataFrame\u001b[0m\n",
       "\u001b[1m  Row \u001b[0m│\u001b[1m Id     \u001b[0m\u001b[1m Sire    \u001b[0m\u001b[1m Dam     \u001b[0m\u001b[1m Year_Class \u001b[0m\u001b[1m Selected_gen \u001b[0m\u001b[1m Family        \u001b[0m\u001b[1m Len\u001b[0m ⋯\n",
       "      │\u001b[90m String \u001b[0m\u001b[90m String7 \u001b[0m\u001b[90m String7 \u001b[0m\u001b[90m Int64      \u001b[0m\u001b[90m Int64        \u001b[0m\u001b[90m String        \u001b[0m\u001b[90m Int\u001b[0m ⋯\n",
       "──────┼─────────────────────────────────────────────────────────────────────────\n",
       "    1 │ 916577  597579   479801         2017             8  597579_479801      ⋯\n",
       "    2 │ 915812  597579   479801         2017             8  597579_479801\n",
       "    3 │ 915812  597579   479801         2017             8  597579_479801\n",
       "    4 │ 916294  597579   479801         2017             8  597579_479801\n",
       "    5 │ 916246  597579   479801         2017             8  597579_479801      ⋯\n",
       "    6 │ 916009  597579   479801         2017             8  597579_479801\n",
       "    7 │ 916104  597579   479801         2017             8  597579_479801\n",
       "    8 │ 916518  597579   479801         2017             8  597579_479801\n",
       "  ⋮   │   ⋮        ⋮        ⋮         ⋮            ⋮              ⋮          ⋮ ⋱\n",
       " 2841 │ 918896  597579   900730         2017             8  597579_900730      ⋯\n",
       " 2842 │ 919038  597579   900730         2017             8  597579_900730\n",
       " 2843 │ 918721  597579   900730         2017             8  597579_900730\n",
       " 2844 │ 919049  597579   900730         2017             8  597579_900730\n",
       " 2845 │ 918919  597579   900730         2017             8  597579_900730      ⋯\n",
       " 2846 │ 918637  597579   900730         2017             8  597579_900730\n",
       " 2847 │ 918786  597579   900730         2017             8  597579_900730\n",
       "\u001b[36m                                                 5 columns and 2832 rows omitted\u001b[0m"
      ]
     },
     "metadata": {},
     "output_type": "display_data"
    }
   ],
   "source": [
    "ped_pheno = innerjoin(pedigree, pheno, on=[:Id => :PIT])"
   ]
  },
  {
   "cell_type": "code",
   "execution_count": 11,
   "metadata": {},
   "outputs": [
    {
     "data": {
      "text/html": [
       "<div><div style = \"float: left;\"><span>56×2 DataFrame</span></div><div style = \"float: right;\"><span style = \"font-style: italic;\">31 rows omitted</span></div><div style = \"clear: both;\"></div></div><div class = \"data-frame\" style = \"overflow-x: scroll;\"><table class = \"data-frame\" style = \"margin-bottom: 6px;\"><thead><tr class = \"header\"><th class = \"rowNumber\" style = \"font-weight: bold; text-align: right;\">Row</th><th style = \"text-align: left;\">Family</th><th style = \"text-align: left;\">nrow</th></tr><tr class = \"subheader headerLastRow\"><th class = \"rowNumber\" style = \"font-weight: bold; text-align: right;\"></th><th title = \"String\" style = \"text-align: left;\">String</th><th title = \"Int64\" style = \"text-align: left;\">Int64</th></tr></thead><tbody><tr><td class = \"rowNumber\" style = \"font-weight: bold; text-align: right;\">1</td><td style = \"text-align: left;\">479557_596943</td><td style = \"text-align: right;\">62</td></tr><tr><td class = \"rowNumber\" style = \"font-weight: bold; text-align: right;\">2</td><td style = \"text-align: left;\">479785_596944</td><td style = \"text-align: right;\">60</td></tr><tr><td class = \"rowNumber\" style = \"font-weight: bold; text-align: right;\">3</td><td style = \"text-align: left;\">900741_479406</td><td style = \"text-align: right;\">59</td></tr><tr><td class = \"rowNumber\" style = \"font-weight: bold; text-align: right;\">4</td><td style = \"text-align: left;\">480120_596922</td><td style = \"text-align: right;\">59</td></tr><tr><td class = \"rowNumber\" style = \"font-weight: bold; text-align: right;\">5</td><td style = \"text-align: left;\">479994_480508</td><td style = \"text-align: right;\">59</td></tr><tr><td class = \"rowNumber\" style = \"font-weight: bold; text-align: right;\">6</td><td style = \"text-align: left;\">480439_597565</td><td style = \"text-align: right;\">58</td></tr><tr><td class = \"rowNumber\" style = \"font-weight: bold; text-align: right;\">7</td><td style = \"text-align: left;\">597578_900827</td><td style = \"text-align: right;\">58</td></tr><tr><td class = \"rowNumber\" style = \"font-weight: bold; text-align: right;\">8</td><td style = \"text-align: left;\">597427_480340</td><td style = \"text-align: right;\">58</td></tr><tr><td class = \"rowNumber\" style = \"font-weight: bold; text-align: right;\">9</td><td style = \"text-align: left;\">900762_480041</td><td style = \"text-align: right;\">58</td></tr><tr><td class = \"rowNumber\" style = \"font-weight: bold; text-align: right;\">10</td><td style = \"text-align: left;\">596713_480323</td><td style = \"text-align: right;\">58</td></tr><tr><td class = \"rowNumber\" style = \"font-weight: bold; text-align: right;\">11</td><td style = \"text-align: left;\">480075_596961</td><td style = \"text-align: right;\">57</td></tr><tr><td class = \"rowNumber\" style = \"font-weight: bold; text-align: right;\">12</td><td style = \"text-align: left;\">479024_902057</td><td style = \"text-align: right;\">57</td></tr><tr><td class = \"rowNumber\" style = \"font-weight: bold; text-align: right;\">13</td><td style = \"text-align: left;\">479994_900879</td><td style = \"text-align: right;\">57</td></tr><tr><td style = \"text-align: right;\">&vellip;</td><td style = \"text-align: right;\">&vellip;</td><td style = \"text-align: right;\">&vellip;</td></tr><tr><td class = \"rowNumber\" style = \"font-weight: bold; text-align: right;\">45</td><td style = \"text-align: left;\">478791_479034</td><td style = \"text-align: right;\">48</td></tr><tr><td class = \"rowNumber\" style = \"font-weight: bold; text-align: right;\">46</td><td style = \"text-align: left;\">597266_597417</td><td style = \"text-align: right;\">48</td></tr><tr><td class = \"rowNumber\" style = \"font-weight: bold; text-align: right;\">47</td><td style = \"text-align: left;\">479547_478467</td><td style = \"text-align: right;\">48</td></tr><tr><td class = \"rowNumber\" style = \"font-weight: bold; text-align: right;\">48</td><td style = \"text-align: left;\">901588_478798</td><td style = \"text-align: right;\">47</td></tr><tr><td class = \"rowNumber\" style = \"font-weight: bold; text-align: right;\">49</td><td style = \"text-align: left;\">478788_480166</td><td style = \"text-align: right;\">45</td></tr><tr><td class = \"rowNumber\" style = \"font-weight: bold; text-align: right;\">50</td><td style = \"text-align: left;\">479785_479061</td><td style = \"text-align: right;\">42</td></tr><tr><td class = \"rowNumber\" style = \"font-weight: bold; text-align: right;\">51</td><td style = \"text-align: left;\">900663_596937</td><td style = \"text-align: right;\">37</td></tr><tr><td class = \"rowNumber\" style = \"font-weight: bold; text-align: right;\">52</td><td style = \"text-align: left;\">479058_597124</td><td style = \"text-align: right;\">33</td></tr><tr><td class = \"rowNumber\" style = \"font-weight: bold; text-align: right;\">53</td><td style = \"text-align: left;\">479752_479769</td><td style = \"text-align: right;\">31</td></tr><tr><td class = \"rowNumber\" style = \"font-weight: bold; text-align: right;\">54</td><td style = \"text-align: left;\">479752_901412</td><td style = \"text-align: right;\">27</td></tr><tr><td class = \"rowNumber\" style = \"font-weight: bold; text-align: right;\">55</td><td style = \"text-align: left;\">480414_900959</td><td style = \"text-align: right;\">24</td></tr><tr><td class = \"rowNumber\" style = \"font-weight: bold; text-align: right;\">56</td><td style = \"text-align: left;\">0_0</td><td style = \"text-align: right;\">1</td></tr></tbody></table></div>"
      ],
      "text/latex": [
       "\\begin{tabular}{r|cc}\n",
       "\t& Family & nrow\\\\\n",
       "\t\\hline\n",
       "\t& String & Int64\\\\\n",
       "\t\\hline\n",
       "\t1 & 479557\\_596943 & 62 \\\\\n",
       "\t2 & 479785\\_596944 & 60 \\\\\n",
       "\t3 & 900741\\_479406 & 59 \\\\\n",
       "\t4 & 480120\\_596922 & 59 \\\\\n",
       "\t5 & 479994\\_480508 & 59 \\\\\n",
       "\t6 & 480439\\_597565 & 58 \\\\\n",
       "\t7 & 597578\\_900827 & 58 \\\\\n",
       "\t8 & 597427\\_480340 & 58 \\\\\n",
       "\t9 & 900762\\_480041 & 58 \\\\\n",
       "\t10 & 596713\\_480323 & 58 \\\\\n",
       "\t11 & 480075\\_596961 & 57 \\\\\n",
       "\t12 & 479024\\_902057 & 57 \\\\\n",
       "\t13 & 479994\\_900879 & 57 \\\\\n",
       "\t14 & 901588\\_480167 & 57 \\\\\n",
       "\t15 & 478682\\_597100 & 56 \\\\\n",
       "\t16 & 901347\\_479727 & 56 \\\\\n",
       "\t17 & 480535\\_480155 & 56 \\\\\n",
       "\t18 & 480414\\_901127 & 56 \\\\\n",
       "\t19 & 480308\\_479422 & 56 \\\\\n",
       "\t20 & 478795\\_900957 & 56 \\\\\n",
       "\t21 & 900762\\_596947 & 56 \\\\\n",
       "\t22 & 480462\\_479536 & 55 \\\\\n",
       "\t23 & 901070\\_597503 & 55 \\\\\n",
       "\t24 & 596733\\_479666 & 55 \\\\\n",
       "\t$\\dots$ & $\\dots$ & $\\dots$ \\\\\n",
       "\\end{tabular}\n"
      ],
      "text/plain": [
       "\u001b[1m56×2 DataFrame\u001b[0m\n",
       "\u001b[1m Row \u001b[0m│\u001b[1m Family        \u001b[0m\u001b[1m nrow  \u001b[0m\n",
       "     │\u001b[90m String        \u001b[0m\u001b[90m Int64 \u001b[0m\n",
       "─────┼──────────────────────\n",
       "   1 │ 479557_596943     62\n",
       "   2 │ 479785_596944     60\n",
       "   3 │ 900741_479406     59\n",
       "   4 │ 480120_596922     59\n",
       "   5 │ 479994_480508     59\n",
       "   6 │ 480439_597565     58\n",
       "   7 │ 597578_900827     58\n",
       "   8 │ 597427_480340     58\n",
       "  ⋮  │       ⋮          ⋮\n",
       "  50 │ 479785_479061     42\n",
       "  51 │ 900663_596937     37\n",
       "  52 │ 479058_597124     33\n",
       "  53 │ 479752_479769     31\n",
       "  54 │ 479752_901412     27\n",
       "  55 │ 480414_900959     24\n",
       "  56 │ 0_0                1\n",
       "\u001b[36m             41 rows omitted\u001b[0m"
      ]
     },
     "metadata": {},
     "output_type": "display_data"
    }
   ],
   "source": [
    "@chain ped_pheno begin\n",
    "    groupby(:Family)\n",
    "    combine(nrow)\n",
    "    sort(:nrow, rev=true)\n",
    "end"
   ]
  },
  {
   "cell_type": "markdown",
   "metadata": {},
   "source": [
    "Which family has the largest mean weight."
   ]
  },
  {
   "cell_type": "code",
   "execution_count": 12,
   "metadata": {},
   "outputs": [
    {
     "data": {
      "text/html": [
       "<div><div style = \"float: left;\"><span>40×2 DataFrame</span></div><div style = \"float: right;\"><span style = \"font-style: italic;\">15 rows omitted</span></div><div style = \"clear: both;\"></div></div><div class = \"data-frame\" style = \"overflow-x: scroll;\"><table class = \"data-frame\" style = \"margin-bottom: 6px;\"><thead><tr class = \"header\"><th class = \"rowNumber\" style = \"font-weight: bold; text-align: right;\">Row</th><th style = \"text-align: left;\">Family</th><th style = \"text-align: left;\">mean_weight</th></tr><tr class = \"subheader headerLastRow\"><th class = \"rowNumber\" style = \"font-weight: bold; text-align: right;\"></th><th title = \"String\" style = \"text-align: left;\">String</th><th title = \"Float64\" style = \"text-align: left;\">Float64</th></tr></thead><tbody><tr><td class = \"rowNumber\" style = \"font-weight: bold; text-align: right;\">1</td><td style = \"text-align: left;\">479547_478467</td><td style = \"text-align: right;\">2026.62</td></tr><tr><td class = \"rowNumber\" style = \"font-weight: bold; text-align: right;\">2</td><td style = \"text-align: left;\">596733_479666</td><td style = \"text-align: right;\">1998.82</td></tr><tr><td class = \"rowNumber\" style = \"font-weight: bold; text-align: right;\">3</td><td style = \"text-align: left;\">0_0</td><td style = \"text-align: right;\">1963.0</td></tr><tr><td class = \"rowNumber\" style = \"font-weight: bold; text-align: right;\">4</td><td style = \"text-align: left;\">479366_901030</td><td style = \"text-align: right;\">1906.49</td></tr><tr><td class = \"rowNumber\" style = \"font-weight: bold; text-align: right;\">5</td><td style = \"text-align: left;\">597579_479801</td><td style = \"text-align: right;\">1897.52</td></tr><tr><td class = \"rowNumber\" style = \"font-weight: bold; text-align: right;\">6</td><td style = \"text-align: left;\">597578_900827</td><td style = \"text-align: right;\">1867.28</td></tr><tr><td class = \"rowNumber\" style = \"font-weight: bold; text-align: right;\">7</td><td style = \"text-align: left;\">597579_900730</td><td style = \"text-align: right;\">1854.35</td></tr><tr><td class = \"rowNumber\" style = \"font-weight: bold; text-align: right;\">8</td><td style = \"text-align: left;\">478795_900957</td><td style = \"text-align: right;\">1820.61</td></tr><tr><td class = \"rowNumber\" style = \"font-weight: bold; text-align: right;\">9</td><td style = \"text-align: left;\">479785_479061</td><td style = \"text-align: right;\">1818.48</td></tr><tr><td class = \"rowNumber\" style = \"font-weight: bold; text-align: right;\">10</td><td style = \"text-align: left;\">900762_596947</td><td style = \"text-align: right;\">1815.57</td></tr><tr><td class = \"rowNumber\" style = \"font-weight: bold; text-align: right;\">11</td><td style = \"text-align: left;\">480439_597565</td><td style = \"text-align: right;\">1791.43</td></tr><tr><td class = \"rowNumber\" style = \"font-weight: bold; text-align: right;\">12</td><td style = \"text-align: left;\">597422_478973</td><td style = \"text-align: right;\">1764.53</td></tr><tr><td class = \"rowNumber\" style = \"font-weight: bold; text-align: right;\">13</td><td style = \"text-align: left;\">479024_902057</td><td style = \"text-align: right;\">1762.79</td></tr><tr><td style = \"text-align: right;\">&vellip;</td><td style = \"text-align: right;\">&vellip;</td><td style = \"text-align: right;\">&vellip;</td></tr><tr><td class = \"rowNumber\" style = \"font-weight: bold; text-align: right;\">29</td><td style = \"text-align: left;\">480120_900747</td><td style = \"text-align: right;\">1513.35</td></tr><tr><td class = \"rowNumber\" style = \"font-weight: bold; text-align: right;\">30</td><td style = \"text-align: left;\">479835_900849</td><td style = \"text-align: right;\">1499.75</td></tr><tr><td class = \"rowNumber\" style = \"font-weight: bold; text-align: right;\">31</td><td style = \"text-align: left;\">479752_901412</td><td style = \"text-align: right;\">1498.48</td></tr><tr><td class = \"rowNumber\" style = \"font-weight: bold; text-align: right;\">32</td><td style = \"text-align: left;\">480414_900959</td><td style = \"text-align: right;\">1496.67</td></tr><tr><td class = \"rowNumber\" style = \"font-weight: bold; text-align: right;\">33</td><td style = \"text-align: left;\">480308_480133</td><td style = \"text-align: right;\">1487.91</td></tr><tr><td class = \"rowNumber\" style = \"font-weight: bold; text-align: right;\">34</td><td style = \"text-align: left;\">597427_480340</td><td style = \"text-align: right;\">1486.81</td></tr><tr><td class = \"rowNumber\" style = \"font-weight: bold; text-align: right;\">35</td><td style = \"text-align: left;\">478791_479034</td><td style = \"text-align: right;\">1480.58</td></tr><tr><td class = \"rowNumber\" style = \"font-weight: bold; text-align: right;\">36</td><td style = \"text-align: left;\">479994_900879</td><td style = \"text-align: right;\">1458.68</td></tr><tr><td class = \"rowNumber\" style = \"font-weight: bold; text-align: right;\">37</td><td style = \"text-align: left;\">900762_480041</td><td style = \"text-align: right;\">1446.81</td></tr><tr><td class = \"rowNumber\" style = \"font-weight: bold; text-align: right;\">38</td><td style = \"text-align: left;\">478788_480166</td><td style = \"text-align: right;\">1345.62</td></tr><tr><td class = \"rowNumber\" style = \"font-weight: bold; text-align: right;\">39</td><td style = \"text-align: left;\">480075_597462</td><td style = \"text-align: right;\">1243.29</td></tr><tr><td class = \"rowNumber\" style = \"font-weight: bold; text-align: right;\">40</td><td style = \"text-align: left;\">480120_596922</td><td style = \"text-align: right;\">1215.07</td></tr></tbody></table></div>"
      ],
      "text/latex": [
       "\\begin{tabular}{r|cc}\n",
       "\t& Family & mean\\_weight\\\\\n",
       "\t\\hline\n",
       "\t& String & Float64\\\\\n",
       "\t\\hline\n",
       "\t1 & 479547\\_478467 & 2026.62 \\\\\n",
       "\t2 & 596733\\_479666 & 1998.82 \\\\\n",
       "\t3 & 0\\_0 & 1963.0 \\\\\n",
       "\t4 & 479366\\_901030 & 1906.49 \\\\\n",
       "\t5 & 597579\\_479801 & 1897.52 \\\\\n",
       "\t6 & 597578\\_900827 & 1867.28 \\\\\n",
       "\t7 & 597579\\_900730 & 1854.35 \\\\\n",
       "\t8 & 478795\\_900957 & 1820.61 \\\\\n",
       "\t9 & 479785\\_479061 & 1818.48 \\\\\n",
       "\t10 & 900762\\_596947 & 1815.57 \\\\\n",
       "\t11 & 480439\\_597565 & 1791.43 \\\\\n",
       "\t12 & 597422\\_478973 & 1764.53 \\\\\n",
       "\t13 & 479024\\_902057 & 1762.79 \\\\\n",
       "\t14 & 479538\\_596700 & 1754.06 \\\\\n",
       "\t15 & 480462\\_479536 & 1711.24 \\\\\n",
       "\t16 & 480535\\_480155 & 1692.38 \\\\\n",
       "\t17 & 480066\\_479224 & 1654.33 \\\\\n",
       "\t18 & 479557\\_596943 & 1637.27 \\\\\n",
       "\t19 & 479752\\_479769 & 1625.94 \\\\\n",
       "\t20 & 597426\\_479997 & 1608.78 \\\\\n",
       "\t21 & 596713\\_480323 & 1607.9 \\\\\n",
       "\t22 & 479785\\_596944 & 1581.83 \\\\\n",
       "\t23 & 901347\\_479727 & 1579.7 \\\\\n",
       "\t24 & 596713\\_480633 & 1573.18 \\\\\n",
       "\t$\\dots$ & $\\dots$ & $\\dots$ \\\\\n",
       "\\end{tabular}\n"
      ],
      "text/plain": [
       "\u001b[1m40×2 DataFrame\u001b[0m\n",
       "\u001b[1m Row \u001b[0m│\u001b[1m Family        \u001b[0m\u001b[1m mean_weight \u001b[0m\n",
       "     │\u001b[90m String        \u001b[0m\u001b[90m Float64     \u001b[0m\n",
       "─────┼────────────────────────────\n",
       "   1 │ 479547_478467      2026.62\n",
       "   2 │ 596733_479666      1998.82\n",
       "   3 │ 0_0                1963.0\n",
       "   4 │ 479366_901030      1906.49\n",
       "   5 │ 597579_479801      1897.52\n",
       "   6 │ 597578_900827      1867.28\n",
       "   7 │ 597579_900730      1854.35\n",
       "   8 │ 478795_900957      1820.61\n",
       "  ⋮  │       ⋮             ⋮\n",
       "  34 │ 597427_480340      1486.81\n",
       "  35 │ 478791_479034      1480.58\n",
       "  36 │ 479994_900879      1458.68\n",
       "  37 │ 900762_480041      1446.81\n",
       "  38 │ 478788_480166      1345.62\n",
       "  39 │ 480075_597462      1243.29\n",
       "  40 │ 480120_596922      1215.07\n",
       "\u001b[36m                   25 rows omitted\u001b[0m"
      ]
     },
     "metadata": {},
     "output_type": "display_data"
    }
   ],
   "source": [
    "@chain ped_pheno begin\n",
    "    groupby(:Family)\n",
    "    combine(:Weight => mean => :mean_weight)\n",
    "    dropmissing(:mean_weight)\n",
    "    sort(:mean_weight, rev=true)\n",
    "end"
   ]
  },
  {
   "cell_type": "markdown",
   "metadata": {},
   "source": [
    "Create a table where each row denotes a different family and separate columns for each sex category populated by the corresponding counts."
   ]
  },
  {
   "cell_type": "code",
   "execution_count": 13,
   "metadata": {},
   "outputs": [
    {
     "data": {
      "text/html": [
       "<div><div style = \"float: left;\"><span>56×3 DataFrame</span></div><div style = \"float: right;\"><span style = \"font-style: italic;\">31 rows omitted</span></div><div style = \"clear: both;\"></div></div><div class = \"data-frame\" style = \"overflow-x: scroll;\"><table class = \"data-frame\" style = \"margin-bottom: 6px;\"><thead><tr class = \"header\"><th class = \"rowNumber\" style = \"font-weight: bold; text-align: right;\">Row</th><th style = \"text-align: left;\">Family</th><th style = \"text-align: left;\">U</th><th style = \"text-align: left;\">M</th></tr><tr class = \"subheader headerLastRow\"><th class = \"rowNumber\" style = \"font-weight: bold; text-align: right;\"></th><th title = \"String\" style = \"text-align: left;\">String</th><th title = \"Union{Missing, Int64}\" style = \"text-align: left;\">Int64?</th><th title = \"Union{Missing, Int64}\" style = \"text-align: left;\">Int64?</th></tr></thead><tbody><tr><td class = \"rowNumber\" style = \"font-weight: bold; text-align: right;\">1</td><td style = \"text-align: left;\">597179_479735</td><td style = \"text-align: right;\">49</td><td style = \"font-style: italic; text-align: right;\">missing</td></tr><tr><td class = \"rowNumber\" style = \"font-weight: bold; text-align: right;\">2</td><td style = \"text-align: left;\">0_0</td><td style = \"text-align: right;\">1</td><td style = \"font-style: italic; text-align: right;\">missing</td></tr><tr><td class = \"rowNumber\" style = \"font-weight: bold; text-align: right;\">3</td><td style = \"text-align: left;\">901490_479165</td><td style = \"text-align: right;\">26</td><td style = \"text-align: right;\">26</td></tr><tr><td class = \"rowNumber\" style = \"font-weight: bold; text-align: right;\">4</td><td style = \"text-align: left;\">597426_479997</td><td style = \"text-align: right;\">30</td><td style = \"text-align: right;\">19</td></tr><tr><td class = \"rowNumber\" style = \"font-weight: bold; text-align: right;\">5</td><td style = \"text-align: left;\">597426_480449</td><td style = \"text-align: right;\">35</td><td style = \"text-align: right;\">18</td></tr><tr><td class = \"rowNumber\" style = \"font-weight: bold; text-align: right;\">6</td><td style = \"text-align: left;\">478682_597100</td><td style = \"text-align: right;\">38</td><td style = \"text-align: right;\">17</td></tr><tr><td class = \"rowNumber\" style = \"font-weight: bold; text-align: right;\">7</td><td style = \"text-align: left;\">900741_479406</td><td style = \"text-align: right;\">42</td><td style = \"text-align: right;\">16</td></tr><tr><td class = \"rowNumber\" style = \"font-weight: bold; text-align: right;\">8</td><td style = \"text-align: left;\">479835_900849</td><td style = \"text-align: right;\">37</td><td style = \"text-align: right;\">16</td></tr><tr><td class = \"rowNumber\" style = \"font-weight: bold; text-align: right;\">9</td><td style = \"text-align: left;\">596713_480633</td><td style = \"text-align: right;\">35</td><td style = \"text-align: right;\">15</td></tr><tr><td class = \"rowNumber\" style = \"font-weight: bold; text-align: right;\">10</td><td style = \"text-align: left;\">901347_479727</td><td style = \"text-align: right;\">42</td><td style = \"text-align: right;\">14</td></tr><tr><td class = \"rowNumber\" style = \"font-weight: bold; text-align: right;\">11</td><td style = \"text-align: left;\">901070_597503</td><td style = \"text-align: right;\">41</td><td style = \"text-align: right;\">14</td></tr><tr><td class = \"rowNumber\" style = \"font-weight: bold; text-align: right;\">12</td><td style = \"text-align: left;\">597578_900827</td><td style = \"text-align: right;\">45</td><td style = \"text-align: right;\">13</td></tr><tr><td class = \"rowNumber\" style = \"font-weight: bold; text-align: right;\">13</td><td style = \"text-align: left;\">480462_479536</td><td style = \"text-align: right;\">42</td><td style = \"text-align: right;\">13</td></tr><tr><td style = \"text-align: right;\">&vellip;</td><td style = \"text-align: right;\">&vellip;</td><td style = \"text-align: right;\">&vellip;</td><td style = \"text-align: right;\">&vellip;</td></tr><tr><td class = \"rowNumber\" style = \"font-weight: bold; text-align: right;\">45</td><td style = \"text-align: left;\">479994_900879</td><td style = \"text-align: right;\">54</td><td style = \"text-align: right;\">3</td></tr><tr><td class = \"rowNumber\" style = \"font-weight: bold; text-align: right;\">46</td><td style = \"text-align: left;\">480414_901127</td><td style = \"text-align: right;\">53</td><td style = \"text-align: right;\">3</td></tr><tr><td class = \"rowNumber\" style = \"font-weight: bold; text-align: right;\">47</td><td style = \"text-align: left;\">479785_479061</td><td style = \"text-align: right;\">39</td><td style = \"text-align: right;\">3</td></tr><tr><td class = \"rowNumber\" style = \"font-weight: bold; text-align: right;\">48</td><td style = \"text-align: left;\">479785_596944</td><td style = \"text-align: right;\">58</td><td style = \"text-align: right;\">2</td></tr><tr><td class = \"rowNumber\" style = \"font-weight: bold; text-align: right;\">49</td><td style = \"text-align: left;\">901588_480167</td><td style = \"text-align: right;\">54</td><td style = \"text-align: right;\">2</td></tr><tr><td class = \"rowNumber\" style = \"font-weight: bold; text-align: right;\">50</td><td style = \"text-align: left;\">597179_480301</td><td style = \"text-align: right;\">50</td><td style = \"text-align: right;\">2</td></tr><tr><td class = \"rowNumber\" style = \"font-weight: bold; text-align: right;\">51</td><td style = \"text-align: left;\">479924_597166</td><td style = \"text-align: right;\">48</td><td style = \"text-align: right;\">2</td></tr><tr><td class = \"rowNumber\" style = \"font-weight: bold; text-align: right;\">52</td><td style = \"text-align: left;\">900663_596937</td><td style = \"text-align: right;\">35</td><td style = \"text-align: right;\">2</td></tr><tr><td class = \"rowNumber\" style = \"font-weight: bold; text-align: right;\">53</td><td style = \"text-align: left;\">479058_597124</td><td style = \"text-align: right;\">31</td><td style = \"text-align: right;\">2</td></tr><tr><td class = \"rowNumber\" style = \"font-weight: bold; text-align: right;\">54</td><td style = \"text-align: left;\">480120_596922</td><td style = \"text-align: right;\">58</td><td style = \"text-align: right;\">1</td></tr><tr><td class = \"rowNumber\" style = \"font-weight: bold; text-align: right;\">55</td><td style = \"text-align: left;\">480535_480155</td><td style = \"text-align: right;\">55</td><td style = \"text-align: right;\">1</td></tr><tr><td class = \"rowNumber\" style = \"font-weight: bold; text-align: right;\">56</td><td style = \"text-align: left;\">480075_596961</td><td style = \"text-align: right;\">55</td><td style = \"text-align: right;\">1</td></tr></tbody></table></div>"
      ],
      "text/latex": [
       "\\begin{tabular}{r|ccc}\n",
       "\t& Family & U & M\\\\\n",
       "\t\\hline\n",
       "\t& String & Int64? & Int64?\\\\\n",
       "\t\\hline\n",
       "\t1 & 597179\\_479735 & 49 & \\emph{missing} \\\\\n",
       "\t2 & 0\\_0 & 1 & \\emph{missing} \\\\\n",
       "\t3 & 901490\\_479165 & 26 & 26 \\\\\n",
       "\t4 & 597426\\_479997 & 30 & 19 \\\\\n",
       "\t5 & 597426\\_480449 & 35 & 18 \\\\\n",
       "\t6 & 478682\\_597100 & 38 & 17 \\\\\n",
       "\t7 & 900741\\_479406 & 42 & 16 \\\\\n",
       "\t8 & 479835\\_900849 & 37 & 16 \\\\\n",
       "\t9 & 596713\\_480633 & 35 & 15 \\\\\n",
       "\t10 & 901347\\_479727 & 42 & 14 \\\\\n",
       "\t11 & 901070\\_597503 & 41 & 14 \\\\\n",
       "\t12 & 597578\\_900827 & 45 & 13 \\\\\n",
       "\t13 & 480462\\_479536 & 42 & 13 \\\\\n",
       "\t14 & 597579\\_479801 & 41 & 13 \\\\\n",
       "\t15 & 480066\\_479224 & 41 & 13 \\\\\n",
       "\t16 & 597422\\_478973 & 38 & 13 \\\\\n",
       "\t17 & 596733\\_479666 & 43 & 12 \\\\\n",
       "\t18 & 479752\\_901412 & 15 & 12 \\\\\n",
       "\t19 & 900762\\_480041 & 47 & 11 \\\\\n",
       "\t20 & 596713\\_480323 & 47 & 11 \\\\\n",
       "\t21 & 480308\\_480133 & 42 & 11 \\\\\n",
       "\t22 & 478795\\_479821 & 41 & 11 \\\\\n",
       "\t23 & 478795\\_900957 & 46 & 10 \\\\\n",
       "\t24 & 900762\\_596947 & 46 & 10 \\\\\n",
       "\t$\\dots$ & $\\dots$ & $\\dots$ & $\\dots$ \\\\\n",
       "\\end{tabular}\n"
      ],
      "text/plain": [
       "\u001b[1m56×3 DataFrame\u001b[0m\n",
       "\u001b[1m Row \u001b[0m│\u001b[1m Family        \u001b[0m\u001b[1m U      \u001b[0m\u001b[1m M       \u001b[0m\n",
       "     │\u001b[90m String        \u001b[0m\u001b[90m Int64? \u001b[0m\u001b[90m Int64?  \u001b[0m\n",
       "─────┼────────────────────────────────\n",
       "   1 │ 597179_479735      49 \u001b[90m missing \u001b[0m\n",
       "   2 │ 0_0                 1 \u001b[90m missing \u001b[0m\n",
       "   3 │ 901490_479165      26       26\n",
       "   4 │ 597426_479997      30       19\n",
       "   5 │ 597426_480449      35       18\n",
       "   6 │ 478682_597100      38       17\n",
       "   7 │ 900741_479406      42       16\n",
       "   8 │ 479835_900849      37       16\n",
       "  ⋮  │       ⋮          ⋮        ⋮\n",
       "  50 │ 597179_480301      50        2\n",
       "  51 │ 479924_597166      48        2\n",
       "  52 │ 900663_596937      35        2\n",
       "  53 │ 479058_597124      31        2\n",
       "  54 │ 480120_596922      58        1\n",
       "  55 │ 480535_480155      55        1\n",
       "  56 │ 480075_596961      55        1\n",
       "\u001b[36m                       41 rows omitted\u001b[0m"
      ]
     },
     "metadata": {},
     "output_type": "display_data"
    }
   ],
   "source": [
    "@chain ped_pheno begin\n",
    "    groupby([:Family, :Sex])\n",
    "    combine(nrow)\n",
    "    dropmissing(:Sex)\n",
    "    unstack(:Family, :Sex, :nrow)\n",
    "    sort([:M, :U], rev=true)\n",
    "end"
   ]
  },
  {
   "cell_type": "code",
   "execution_count": null,
   "metadata": {},
   "outputs": [],
   "source": []
  }
 ],
 "metadata": {
  "kernelspec": {
   "display_name": "Julia 1.11.1",
   "language": "julia",
   "name": "julia-1.11"
  },
  "language_info": {
   "file_extension": ".jl",
   "mimetype": "application/julia",
   "name": "julia",
   "version": "1.11.1"
  }
 },
 "nbformat": 4,
 "nbformat_minor": 2
}

{
 "cells": [
  {
   "cell_type": "markdown",
   "metadata": {},
   "source": [
    "## Exercises"
   ]
  },
  {
   "cell_type": "code",
   "execution_count": 1,
   "metadata": {},
   "outputs": [],
   "source": [
    "using CSV, DataFrames, Statistics"
   ]
  },
  {
   "cell_type": "markdown",
   "metadata": {},
   "source": [
    "### Exercise 1"
   ]
  },
  {
   "cell_type": "markdown",
   "metadata": {},
   "source": [
    "We will work with the `fish_data.csv` dataset from https://www.kaggle.com/datasets/taweilo/fish-species-sampling-weight-and-height-data. The file is already available in the `Day3` folder."
   ]
  },
  {
   "cell_type": "code",
   "execution_count": 2,
   "metadata": {},
   "outputs": [
    {
     "data": {
      "text/html": [
       "<div><div style = \"float: left;\"><span>4080×4 DataFrame</span></div><div style = \"float: right;\"><span style = \"font-style: italic;\">4055 rows omitted</span></div><div style = \"clear: both;\"></div></div><div class = \"data-frame\" style = \"overflow-x: scroll;\"><table class = \"data-frame\" style = \"margin-bottom: 6px;\"><thead><tr class = \"header\"><th class = \"rowNumber\" style = \"font-weight: bold; text-align: right;\">Row</th><th style = \"text-align: left;\">species</th><th style = \"text-align: left;\">length</th><th style = \"text-align: left;\">weight</th><th style = \"text-align: left;\">w_l_ratio</th></tr><tr class = \"subheader headerLastRow\"><th class = \"rowNumber\" style = \"font-weight: bold; text-align: right;\"></th><th title = \"String31\" style = \"text-align: left;\">String31</th><th title = \"Float64\" style = \"text-align: left;\">Float64</th><th title = \"Float64\" style = \"text-align: left;\">Float64</th><th title = \"Float64\" style = \"text-align: left;\">Float64</th></tr></thead><tbody><tr><td class = \"rowNumber\" style = \"font-weight: bold; text-align: right;\">1</td><td style = \"text-align: left;\">Anabas testudineus</td><td style = \"text-align: right;\">10.66</td><td style = \"text-align: right;\">3.45</td><td style = \"text-align: right;\">0.32</td></tr><tr><td class = \"rowNumber\" style = \"font-weight: bold; text-align: right;\">2</td><td style = \"text-align: left;\">Anabas testudineus</td><td style = \"text-align: right;\">6.91</td><td style = \"text-align: right;\">3.27</td><td style = \"text-align: right;\">0.47</td></tr><tr><td class = \"rowNumber\" style = \"font-weight: bold; text-align: right;\">3</td><td style = \"text-align: left;\">Anabas testudineus</td><td style = \"text-align: right;\">8.38</td><td style = \"text-align: right;\">3.46</td><td style = \"text-align: right;\">0.41</td></tr><tr><td class = \"rowNumber\" style = \"font-weight: bold; text-align: right;\">4</td><td style = \"text-align: left;\">Anabas testudineus</td><td style = \"text-align: right;\">7.57</td><td style = \"text-align: right;\">3.36</td><td style = \"text-align: right;\">0.44</td></tr><tr><td class = \"rowNumber\" style = \"font-weight: bold; text-align: right;\">5</td><td style = \"text-align: left;\">Anabas testudineus</td><td style = \"text-align: right;\">10.83</td><td style = \"text-align: right;\">3.38</td><td style = \"text-align: right;\">0.31</td></tr><tr><td class = \"rowNumber\" style = \"font-weight: bold; text-align: right;\">6</td><td style = \"text-align: left;\">Anabas testudineus</td><td style = \"text-align: right;\">9.35</td><td style = \"text-align: right;\">3.28</td><td style = \"text-align: right;\">0.35</td></tr><tr><td class = \"rowNumber\" style = \"font-weight: bold; text-align: right;\">7</td><td style = \"text-align: left;\">Anabas testudineus</td><td style = \"text-align: right;\">9.42</td><td style = \"text-align: right;\">3.33</td><td style = \"text-align: right;\">0.35</td></tr><tr><td class = \"rowNumber\" style = \"font-weight: bold; text-align: right;\">8</td><td style = \"text-align: left;\">Anabas testudineus</td><td style = \"text-align: right;\">7.92</td><td style = \"text-align: right;\">3.13</td><td style = \"text-align: right;\">0.39</td></tr><tr><td class = \"rowNumber\" style = \"font-weight: bold; text-align: right;\">9</td><td style = \"text-align: left;\">Anabas testudineus</td><td style = \"text-align: right;\">6.98</td><td style = \"text-align: right;\">3.16</td><td style = \"text-align: right;\">0.45</td></tr><tr><td class = \"rowNumber\" style = \"font-weight: bold; text-align: right;\">10</td><td style = \"text-align: left;\">Anabas testudineus</td><td style = \"text-align: right;\">8.42</td><td style = \"text-align: right;\">3.26</td><td style = \"text-align: right;\">0.39</td></tr><tr><td class = \"rowNumber\" style = \"font-weight: bold; text-align: right;\">11</td><td style = \"text-align: left;\">Anabas testudineus</td><td style = \"text-align: right;\">8.03</td><td style = \"text-align: right;\">3.4</td><td style = \"text-align: right;\">0.42</td></tr><tr><td class = \"rowNumber\" style = \"font-weight: bold; text-align: right;\">12</td><td style = \"text-align: left;\">Anabas testudineus</td><td style = \"text-align: right;\">10.27</td><td style = \"text-align: right;\">3.16</td><td style = \"text-align: right;\">0.31</td></tr><tr><td class = \"rowNumber\" style = \"font-weight: bold; text-align: right;\">13</td><td style = \"text-align: left;\">Anabas testudineus</td><td style = \"text-align: right;\">8.43</td><td style = \"text-align: right;\">3.33</td><td style = \"text-align: right;\">0.39</td></tr><tr><td style = \"text-align: right;\">&vellip;</td><td style = \"text-align: right;\">&vellip;</td><td style = \"text-align: right;\">&vellip;</td><td style = \"text-align: right;\">&vellip;</td><td style = \"text-align: right;\">&vellip;</td></tr><tr><td class = \"rowNumber\" style = \"font-weight: bold; text-align: right;\">4069</td><td style = \"text-align: left;\">Sillaginopsis panijus</td><td style = \"text-align: right;\">31.73</td><td style = \"text-align: right;\">6.16</td><td style = \"text-align: right;\">0.19</td></tr><tr><td class = \"rowNumber\" style = \"font-weight: bold; text-align: right;\">4070</td><td style = \"text-align: left;\">Sillaginopsis panijus</td><td style = \"text-align: right;\">29.28</td><td style = \"text-align: right;\">6.1</td><td style = \"text-align: right;\">0.21</td></tr><tr><td class = \"rowNumber\" style = \"font-weight: bold; text-align: right;\">4071</td><td style = \"text-align: left;\">Sillaginopsis panijus</td><td style = \"text-align: right;\">30.84</td><td style = \"text-align: right;\">6.14</td><td style = \"text-align: right;\">0.2</td></tr><tr><td class = \"rowNumber\" style = \"font-weight: bold; text-align: right;\">4072</td><td style = \"text-align: left;\">Sillaginopsis panijus</td><td style = \"text-align: right;\">31.46</td><td style = \"text-align: right;\">6.14</td><td style = \"text-align: right;\">0.2</td></tr><tr><td class = \"rowNumber\" style = \"font-weight: bold; text-align: right;\">4073</td><td style = \"text-align: left;\">Sillaginopsis panijus</td><td style = \"text-align: right;\">32.27</td><td style = \"text-align: right;\">6.2</td><td style = \"text-align: right;\">0.19</td></tr><tr><td class = \"rowNumber\" style = \"font-weight: bold; text-align: right;\">4074</td><td style = \"text-align: left;\">Sillaginopsis panijus</td><td style = \"text-align: right;\">30.56</td><td style = \"text-align: right;\">6.11</td><td style = \"text-align: right;\">0.2</td></tr><tr><td class = \"rowNumber\" style = \"font-weight: bold; text-align: right;\">4075</td><td style = \"text-align: left;\">Sillaginopsis panijus</td><td style = \"text-align: right;\">30.61</td><td style = \"text-align: right;\">6.08</td><td style = \"text-align: right;\">0.2</td></tr><tr><td class = \"rowNumber\" style = \"font-weight: bold; text-align: right;\">4076</td><td style = \"text-align: left;\">Sillaginopsis panijus</td><td style = \"text-align: right;\">30.56</td><td style = \"text-align: right;\">6.12</td><td style = \"text-align: right;\">0.2</td></tr><tr><td class = \"rowNumber\" style = \"font-weight: bold; text-align: right;\">4077</td><td style = \"text-align: left;\">Sillaginopsis panijus</td><td style = \"text-align: right;\">29.66</td><td style = \"text-align: right;\">6.11</td><td style = \"text-align: right;\">0.21</td></tr><tr><td class = \"rowNumber\" style = \"font-weight: bold; text-align: right;\">4078</td><td style = \"text-align: left;\">Sillaginopsis panijus</td><td style = \"text-align: right;\">32.81</td><td style = \"text-align: right;\">6.25</td><td style = \"text-align: right;\">0.19</td></tr><tr><td class = \"rowNumber\" style = \"font-weight: bold; text-align: right;\">4079</td><td style = \"text-align: left;\">Sillaginopsis panijus</td><td style = \"text-align: right;\">29.78</td><td style = \"text-align: right;\">6.11</td><td style = \"text-align: right;\">0.21</td></tr><tr><td class = \"rowNumber\" style = \"font-weight: bold; text-align: right;\">4080</td><td style = \"text-align: left;\">Sillaginopsis panijus</td><td style = \"text-align: right;\">31.62</td><td style = \"text-align: right;\">6.14</td><td style = \"text-align: right;\">0.19</td></tr></tbody></table></div>"
      ],
      "text/latex": [
       "\\begin{tabular}{r|cccc}\n",
       "\t& species & length & weight & w\\_l\\_ratio\\\\\n",
       "\t\\hline\n",
       "\t& String31 & Float64 & Float64 & Float64\\\\\n",
       "\t\\hline\n",
       "\t1 & Anabas testudineus & 10.66 & 3.45 & 0.32 \\\\\n",
       "\t2 & Anabas testudineus & 6.91 & 3.27 & 0.47 \\\\\n",
       "\t3 & Anabas testudineus & 8.38 & 3.46 & 0.41 \\\\\n",
       "\t4 & Anabas testudineus & 7.57 & 3.36 & 0.44 \\\\\n",
       "\t5 & Anabas testudineus & 10.83 & 3.38 & 0.31 \\\\\n",
       "\t6 & Anabas testudineus & 9.35 & 3.28 & 0.35 \\\\\n",
       "\t7 & Anabas testudineus & 9.42 & 3.33 & 0.35 \\\\\n",
       "\t8 & Anabas testudineus & 7.92 & 3.13 & 0.39 \\\\\n",
       "\t9 & Anabas testudineus & 6.98 & 3.16 & 0.45 \\\\\n",
       "\t10 & Anabas testudineus & 8.42 & 3.26 & 0.39 \\\\\n",
       "\t11 & Anabas testudineus & 8.03 & 3.4 & 0.42 \\\\\n",
       "\t12 & Anabas testudineus & 10.27 & 3.16 & 0.31 \\\\\n",
       "\t13 & Anabas testudineus & 8.43 & 3.33 & 0.39 \\\\\n",
       "\t14 & Anabas testudineus & 7.0 & 3.2 & 0.46 \\\\\n",
       "\t15 & Anabas testudineus & 7.46 & 3.25 & 0.44 \\\\\n",
       "\t16 & Anabas testudineus & 9.41 & 3.21 & 0.34 \\\\\n",
       "\t17 & Anabas testudineus & 6.64 & 3.2 & 0.48 \\\\\n",
       "\t18 & Anabas testudineus & 8.17 & 3.3 & 0.4 \\\\\n",
       "\t19 & Anabas testudineus & 8.85 & 3.07 & 0.35 \\\\\n",
       "\t20 & Anabas testudineus & 7.83 & 3.16 & 0.4 \\\\\n",
       "\t21 & Anabas testudineus & 10.19 & 3.24 & 0.32 \\\\\n",
       "\t22 & Anabas testudineus & 9.21 & 3.36 & 0.36 \\\\\n",
       "\t23 & Anabas testudineus & 6.67 & 3.31 & 0.5 \\\\\n",
       "\t24 & Anabas testudineus & 8.25 & 3.32 & 0.4 \\\\\n",
       "\t$\\dots$ & $\\dots$ & $\\dots$ & $\\dots$ & $\\dots$ \\\\\n",
       "\\end{tabular}\n"
      ],
      "text/plain": [
       "\u001b[1m4080×4 DataFrame\u001b[0m\n",
       "\u001b[1m  Row \u001b[0m│\u001b[1m species               \u001b[0m\u001b[1m length  \u001b[0m\u001b[1m weight  \u001b[0m\u001b[1m w_l_ratio \u001b[0m\n",
       "      │\u001b[90m String31              \u001b[0m\u001b[90m Float64 \u001b[0m\u001b[90m Float64 \u001b[0m\u001b[90m Float64   \u001b[0m\n",
       "──────┼────────────────────────────────────────────────────\n",
       "    1 │ Anabas testudineus       10.66     3.45       0.32\n",
       "    2 │ Anabas testudineus        6.91     3.27       0.47\n",
       "    3 │ Anabas testudineus        8.38     3.46       0.41\n",
       "    4 │ Anabas testudineus        7.57     3.36       0.44\n",
       "    5 │ Anabas testudineus       10.83     3.38       0.31\n",
       "    6 │ Anabas testudineus        9.35     3.28       0.35\n",
       "    7 │ Anabas testudineus        9.42     3.33       0.35\n",
       "    8 │ Anabas testudineus        7.92     3.13       0.39\n",
       "  ⋮   │           ⋮               ⋮        ⋮         ⋮\n",
       " 4074 │ Sillaginopsis panijus    30.56     6.11       0.2\n",
       " 4075 │ Sillaginopsis panijus    30.61     6.08       0.2\n",
       " 4076 │ Sillaginopsis panijus    30.56     6.12       0.2\n",
       " 4077 │ Sillaginopsis panijus    29.66     6.11       0.21\n",
       " 4078 │ Sillaginopsis panijus    32.81     6.25       0.19\n",
       " 4079 │ Sillaginopsis panijus    29.78     6.11       0.21\n",
       " 4080 │ Sillaginopsis panijus    31.62     6.14       0.19\n",
       "\u001b[36m                                          4065 rows omitted\u001b[0m"
      ]
     },
     "metadata": {},
     "output_type": "display_data"
    }
   ],
   "source": [
    "fish_data = CSV.read(\"fish_data.csv\", DataFrame)"
   ]
  },
  {
   "cell_type": "markdown",
   "metadata": {},
   "source": [
    " * Create two toy dataframes of from the first 200 rows. Each dataframe should have 100 rows.\n",
    " * Add to the first dataframe the following: `Sparus aurata, 22, 4.2,0.19`\n",
    " * Add to the first dataframe the following: `Seriola dumerili, 120, 20,0.17`. Use a named tuple for that. \n",
    " * Create a new column to the second dataframe and name it `Farmed`. Give all the records the value `No`\n",
    " * Append the 2nd dataframe to the first one. Keep track for which dataframe each record originated.\n",
    " * In the original dataframe which fish species has the largest mean `weight` and which the lowest `w_l_ratio`."
   ]
  },
  {
   "cell_type": "code",
   "execution_count": 3,
   "metadata": {},
   "outputs": [
    {
     "data": {
      "text/html": [
       "<div><div style = \"float: left;\"><span>100×4 DataFrame</span></div><div style = \"float: right;\"><span style = \"font-style: italic;\">75 rows omitted</span></div><div style = \"clear: both;\"></div></div><div class = \"data-frame\" style = \"overflow-x: scroll;\"><table class = \"data-frame\" style = \"margin-bottom: 6px;\"><thead><tr class = \"header\"><th class = \"rowNumber\" style = \"font-weight: bold; text-align: right;\">Row</th><th style = \"text-align: left;\">species</th><th style = \"text-align: left;\">length</th><th style = \"text-align: left;\">weight</th><th style = \"text-align: left;\">w_l_ratio</th></tr><tr class = \"subheader headerLastRow\"><th class = \"rowNumber\" style = \"font-weight: bold; text-align: right;\"></th><th title = \"String31\" style = \"text-align: left;\">String31</th><th title = \"Float64\" style = \"text-align: left;\">Float64</th><th title = \"Float64\" style = \"text-align: left;\">Float64</th><th title = \"Float64\" style = \"text-align: left;\">Float64</th></tr></thead><tbody><tr><td class = \"rowNumber\" style = \"font-weight: bold; text-align: right;\">1</td><td style = \"text-align: left;\">Anabas testudineus</td><td style = \"text-align: right;\">7.35</td><td style = \"text-align: right;\">3.29</td><td style = \"text-align: right;\">0.45</td></tr><tr><td class = \"rowNumber\" style = \"font-weight: bold; text-align: right;\">2</td><td style = \"text-align: left;\">Anabas testudineus</td><td style = \"text-align: right;\">8.58</td><td style = \"text-align: right;\">3.24</td><td style = \"text-align: right;\">0.38</td></tr><tr><td class = \"rowNumber\" style = \"font-weight: bold; text-align: right;\">3</td><td style = \"text-align: left;\">Anabas testudineus</td><td style = \"text-align: right;\">7.17</td><td style = \"text-align: right;\">3.34</td><td style = \"text-align: right;\">0.47</td></tr><tr><td class = \"rowNumber\" style = \"font-weight: bold; text-align: right;\">4</td><td style = \"text-align: left;\">Anabas testudineus</td><td style = \"text-align: right;\">9.41</td><td style = \"text-align: right;\">3.31</td><td style = \"text-align: right;\">0.35</td></tr><tr><td class = \"rowNumber\" style = \"font-weight: bold; text-align: right;\">5</td><td style = \"text-align: left;\">Anabas testudineus</td><td style = \"text-align: right;\">8.41</td><td style = \"text-align: right;\">3.12</td><td style = \"text-align: right;\">0.37</td></tr><tr><td class = \"rowNumber\" style = \"font-weight: bold; text-align: right;\">6</td><td style = \"text-align: left;\">Anabas testudineus</td><td style = \"text-align: right;\">7.01</td><td style = \"text-align: right;\">3.25</td><td style = \"text-align: right;\">0.46</td></tr><tr><td class = \"rowNumber\" style = \"font-weight: bold; text-align: right;\">7</td><td style = \"text-align: left;\">Anabas testudineus</td><td style = \"text-align: right;\">6.54</td><td style = \"text-align: right;\">3.35</td><td style = \"text-align: right;\">0.51</td></tr><tr><td class = \"rowNumber\" style = \"font-weight: bold; text-align: right;\">8</td><td style = \"text-align: left;\">Anabas testudineus</td><td style = \"text-align: right;\">7.08</td><td style = \"text-align: right;\">3.25</td><td style = \"text-align: right;\">0.46</td></tr><tr><td class = \"rowNumber\" style = \"font-weight: bold; text-align: right;\">9</td><td style = \"text-align: left;\">Anabas testudineus</td><td style = \"text-align: right;\">8.26</td><td style = \"text-align: right;\">3.18</td><td style = \"text-align: right;\">0.39</td></tr><tr><td class = \"rowNumber\" style = \"font-weight: bold; text-align: right;\">10</td><td style = \"text-align: left;\">Anabas testudineus</td><td style = \"text-align: right;\">8.1</td><td style = \"text-align: right;\">3.12</td><td style = \"text-align: right;\">0.39</td></tr><tr><td class = \"rowNumber\" style = \"font-weight: bold; text-align: right;\">11</td><td style = \"text-align: left;\">Anabas testudineus</td><td style = \"text-align: right;\">7.02</td><td style = \"text-align: right;\">3.25</td><td style = \"text-align: right;\">0.46</td></tr><tr><td class = \"rowNumber\" style = \"font-weight: bold; text-align: right;\">12</td><td style = \"text-align: left;\">Anabas testudineus</td><td style = \"text-align: right;\">8.15</td><td style = \"text-align: right;\">3.27</td><td style = \"text-align: right;\">0.4</td></tr><tr><td class = \"rowNumber\" style = \"font-weight: bold; text-align: right;\">13</td><td style = \"text-align: left;\">Anabas testudineus</td><td style = \"text-align: right;\">7.77</td><td style = \"text-align: right;\">3.46</td><td style = \"text-align: right;\">0.44</td></tr><tr><td style = \"text-align: right;\">&vellip;</td><td style = \"text-align: right;\">&vellip;</td><td style = \"text-align: right;\">&vellip;</td><td style = \"text-align: right;\">&vellip;</td><td style = \"text-align: right;\">&vellip;</td></tr><tr><td class = \"rowNumber\" style = \"font-weight: bold; text-align: right;\">89</td><td style = \"text-align: left;\">Anabas testudineus</td><td style = \"text-align: right;\">9.27</td><td style = \"text-align: right;\">3.28</td><td style = \"text-align: right;\">0.35</td></tr><tr><td class = \"rowNumber\" style = \"font-weight: bold; text-align: right;\">90</td><td style = \"text-align: left;\">Anabas testudineus</td><td style = \"text-align: right;\">9.03</td><td style = \"text-align: right;\">3.37</td><td style = \"text-align: right;\">0.37</td></tr><tr><td class = \"rowNumber\" style = \"font-weight: bold; text-align: right;\">91</td><td style = \"text-align: left;\">Anabas testudineus</td><td style = \"text-align: right;\">6.36</td><td style = \"text-align: right;\">3.25</td><td style = \"text-align: right;\">0.51</td></tr><tr><td class = \"rowNumber\" style = \"font-weight: bold; text-align: right;\">92</td><td style = \"text-align: left;\">Anabas testudineus</td><td style = \"text-align: right;\">7.85</td><td style = \"text-align: right;\">3.37</td><td style = \"text-align: right;\">0.43</td></tr><tr><td class = \"rowNumber\" style = \"font-weight: bold; text-align: right;\">93</td><td style = \"text-align: left;\">Anabas testudineus</td><td style = \"text-align: right;\">7.05</td><td style = \"text-align: right;\">3.21</td><td style = \"text-align: right;\">0.45</td></tr><tr><td class = \"rowNumber\" style = \"font-weight: bold; text-align: right;\">94</td><td style = \"text-align: left;\">Anabas testudineus</td><td style = \"text-align: right;\">9.18</td><td style = \"text-align: right;\">3.43</td><td style = \"text-align: right;\">0.37</td></tr><tr><td class = \"rowNumber\" style = \"font-weight: bold; text-align: right;\">95</td><td style = \"text-align: left;\">Anabas testudineus</td><td style = \"text-align: right;\">8.64</td><td style = \"text-align: right;\">3.38</td><td style = \"text-align: right;\">0.39</td></tr><tr><td class = \"rowNumber\" style = \"font-weight: bold; text-align: right;\">96</td><td style = \"text-align: left;\">Anabas testudineus</td><td style = \"text-align: right;\">8.64</td><td style = \"text-align: right;\">3.12</td><td style = \"text-align: right;\">0.36</td></tr><tr><td class = \"rowNumber\" style = \"font-weight: bold; text-align: right;\">97</td><td style = \"text-align: left;\">Anabas testudineus</td><td style = \"text-align: right;\">7.04</td><td style = \"text-align: right;\">3.37</td><td style = \"text-align: right;\">0.48</td></tr><tr><td class = \"rowNumber\" style = \"font-weight: bold; text-align: right;\">98</td><td style = \"text-align: left;\">Anabas testudineus</td><td style = \"text-align: right;\">7.29</td><td style = \"text-align: right;\">3.43</td><td style = \"text-align: right;\">0.47</td></tr><tr><td class = \"rowNumber\" style = \"font-weight: bold; text-align: right;\">99</td><td style = \"text-align: left;\">Anabas testudineus</td><td style = \"text-align: right;\">7.46</td><td style = \"text-align: right;\">3.31</td><td style = \"text-align: right;\">0.44</td></tr><tr><td class = \"rowNumber\" style = \"font-weight: bold; text-align: right;\">100</td><td style = \"text-align: left;\">Anabas testudineus</td><td style = \"text-align: right;\">9.06</td><td style = \"text-align: right;\">3.29</td><td style = \"text-align: right;\">0.36</td></tr></tbody></table></div>"
      ],
      "text/latex": [
       "\\begin{tabular}{r|cccc}\n",
       "\t& species & length & weight & w\\_l\\_ratio\\\\\n",
       "\t\\hline\n",
       "\t& String31 & Float64 & Float64 & Float64\\\\\n",
       "\t\\hline\n",
       "\t1 & Anabas testudineus & 7.35 & 3.29 & 0.45 \\\\\n",
       "\t2 & Anabas testudineus & 8.58 & 3.24 & 0.38 \\\\\n",
       "\t3 & Anabas testudineus & 7.17 & 3.34 & 0.47 \\\\\n",
       "\t4 & Anabas testudineus & 9.41 & 3.31 & 0.35 \\\\\n",
       "\t5 & Anabas testudineus & 8.41 & 3.12 & 0.37 \\\\\n",
       "\t6 & Anabas testudineus & 7.01 & 3.25 & 0.46 \\\\\n",
       "\t7 & Anabas testudineus & 6.54 & 3.35 & 0.51 \\\\\n",
       "\t8 & Anabas testudineus & 7.08 & 3.25 & 0.46 \\\\\n",
       "\t9 & Anabas testudineus & 8.26 & 3.18 & 0.39 \\\\\n",
       "\t10 & Anabas testudineus & 8.1 & 3.12 & 0.39 \\\\\n",
       "\t11 & Anabas testudineus & 7.02 & 3.25 & 0.46 \\\\\n",
       "\t12 & Anabas testudineus & 8.15 & 3.27 & 0.4 \\\\\n",
       "\t13 & Anabas testudineus & 7.77 & 3.46 & 0.44 \\\\\n",
       "\t14 & Anabas testudineus & 9.58 & 3.29 & 0.34 \\\\\n",
       "\t15 & Anabas testudineus & 8.72 & 3.22 & 0.37 \\\\\n",
       "\t16 & Anabas testudineus & 8.58 & 3.44 & 0.4 \\\\\n",
       "\t17 & Anabas testudineus & 8.04 & 3.29 & 0.41 \\\\\n",
       "\t18 & Anabas testudineus & 7.53 & 3.06 & 0.41 \\\\\n",
       "\t19 & Anabas testudineus & 7.75 & 3.32 & 0.43 \\\\\n",
       "\t20 & Anabas testudineus & 8.41 & 3.24 & 0.38 \\\\\n",
       "\t21 & Anabas testudineus & 7.64 & 3.19 & 0.42 \\\\\n",
       "\t22 & Anabas testudineus & 10.19 & 3.42 & 0.34 \\\\\n",
       "\t23 & Anabas testudineus & 7.18 & 3.41 & 0.48 \\\\\n",
       "\t24 & Anabas testudineus & 10.58 & 3.38 & 0.32 \\\\\n",
       "\t$\\dots$ & $\\dots$ & $\\dots$ & $\\dots$ & $\\dots$ \\\\\n",
       "\\end{tabular}\n"
      ],
      "text/plain": [
       "\u001b[1m100×4 DataFrame\u001b[0m\n",
       "\u001b[1m Row \u001b[0m│\u001b[1m species            \u001b[0m\u001b[1m length  \u001b[0m\u001b[1m weight  \u001b[0m\u001b[1m w_l_ratio \u001b[0m\n",
       "     │\u001b[90m String31           \u001b[0m\u001b[90m Float64 \u001b[0m\u001b[90m Float64 \u001b[0m\u001b[90m Float64   \u001b[0m\n",
       "─────┼─────────────────────────────────────────────────\n",
       "   1 │ Anabas testudineus     7.35     3.29       0.45\n",
       "   2 │ Anabas testudineus     8.58     3.24       0.38\n",
       "   3 │ Anabas testudineus     7.17     3.34       0.47\n",
       "   4 │ Anabas testudineus     9.41     3.31       0.35\n",
       "   5 │ Anabas testudineus     8.41     3.12       0.37\n",
       "   6 │ Anabas testudineus     7.01     3.25       0.46\n",
       "   7 │ Anabas testudineus     6.54     3.35       0.51\n",
       "   8 │ Anabas testudineus     7.08     3.25       0.46\n",
       "  ⋮  │         ⋮              ⋮        ⋮         ⋮\n",
       "  94 │ Anabas testudineus     9.18     3.43       0.37\n",
       "  95 │ Anabas testudineus     8.64     3.38       0.39\n",
       "  96 │ Anabas testudineus     8.64     3.12       0.36\n",
       "  97 │ Anabas testudineus     7.04     3.37       0.48\n",
       "  98 │ Anabas testudineus     7.29     3.43       0.47\n",
       "  99 │ Anabas testudineus     7.46     3.31       0.44\n",
       " 100 │ Anabas testudineus     9.06     3.29       0.36\n",
       "\u001b[36m                                        85 rows omitted\u001b[0m"
      ]
     },
     "metadata": {},
     "output_type": "display_data"
    }
   ],
   "source": [
    "fish_1 = fish_data[1:100,:]\n",
    "fish_2 = fish_data[101:200,:]"
   ]
  },
  {
   "cell_type": "markdown",
   "metadata": {},
   "source": [
    "Add to the first dataframe the following: `Sparus aurata, 22, 4.2,0.19`"
   ]
  },
  {
   "cell_type": "code",
   "execution_count": 4,
   "metadata": {},
   "outputs": [
    {
     "data": {
      "text/html": [
       "<div><div style = \"float: left;\"><span>101×4 DataFrame</span></div><div style = \"float: right;\"><span style = \"font-style: italic;\">76 rows omitted</span></div><div style = \"clear: both;\"></div></div><div class = \"data-frame\" style = \"overflow-x: scroll;\"><table class = \"data-frame\" style = \"margin-bottom: 6px;\"><thead><tr class = \"header\"><th class = \"rowNumber\" style = \"font-weight: bold; text-align: right;\">Row</th><th style = \"text-align: left;\">species</th><th style = \"text-align: left;\">length</th><th style = \"text-align: left;\">weight</th><th style = \"text-align: left;\">w_l_ratio</th></tr><tr class = \"subheader headerLastRow\"><th class = \"rowNumber\" style = \"font-weight: bold; text-align: right;\"></th><th title = \"String31\" style = \"text-align: left;\">String31</th><th title = \"Float64\" style = \"text-align: left;\">Float64</th><th title = \"Float64\" style = \"text-align: left;\">Float64</th><th title = \"Float64\" style = \"text-align: left;\">Float64</th></tr></thead><tbody><tr><td class = \"rowNumber\" style = \"font-weight: bold; text-align: right;\">1</td><td style = \"text-align: left;\">Anabas testudineus</td><td style = \"text-align: right;\">10.66</td><td style = \"text-align: right;\">3.45</td><td style = \"text-align: right;\">0.32</td></tr><tr><td class = \"rowNumber\" style = \"font-weight: bold; text-align: right;\">2</td><td style = \"text-align: left;\">Anabas testudineus</td><td style = \"text-align: right;\">6.91</td><td style = \"text-align: right;\">3.27</td><td style = \"text-align: right;\">0.47</td></tr><tr><td class = \"rowNumber\" style = \"font-weight: bold; text-align: right;\">3</td><td style = \"text-align: left;\">Anabas testudineus</td><td style = \"text-align: right;\">8.38</td><td style = \"text-align: right;\">3.46</td><td style = \"text-align: right;\">0.41</td></tr><tr><td class = \"rowNumber\" style = \"font-weight: bold; text-align: right;\">4</td><td style = \"text-align: left;\">Anabas testudineus</td><td style = \"text-align: right;\">7.57</td><td style = \"text-align: right;\">3.36</td><td style = \"text-align: right;\">0.44</td></tr><tr><td class = \"rowNumber\" style = \"font-weight: bold; text-align: right;\">5</td><td style = \"text-align: left;\">Anabas testudineus</td><td style = \"text-align: right;\">10.83</td><td style = \"text-align: right;\">3.38</td><td style = \"text-align: right;\">0.31</td></tr><tr><td class = \"rowNumber\" style = \"font-weight: bold; text-align: right;\">6</td><td style = \"text-align: left;\">Anabas testudineus</td><td style = \"text-align: right;\">9.35</td><td style = \"text-align: right;\">3.28</td><td style = \"text-align: right;\">0.35</td></tr><tr><td class = \"rowNumber\" style = \"font-weight: bold; text-align: right;\">7</td><td style = \"text-align: left;\">Anabas testudineus</td><td style = \"text-align: right;\">9.42</td><td style = \"text-align: right;\">3.33</td><td style = \"text-align: right;\">0.35</td></tr><tr><td class = \"rowNumber\" style = \"font-weight: bold; text-align: right;\">8</td><td style = \"text-align: left;\">Anabas testudineus</td><td style = \"text-align: right;\">7.92</td><td style = \"text-align: right;\">3.13</td><td style = \"text-align: right;\">0.39</td></tr><tr><td class = \"rowNumber\" style = \"font-weight: bold; text-align: right;\">9</td><td style = \"text-align: left;\">Anabas testudineus</td><td style = \"text-align: right;\">6.98</td><td style = \"text-align: right;\">3.16</td><td style = \"text-align: right;\">0.45</td></tr><tr><td class = \"rowNumber\" style = \"font-weight: bold; text-align: right;\">10</td><td style = \"text-align: left;\">Anabas testudineus</td><td style = \"text-align: right;\">8.42</td><td style = \"text-align: right;\">3.26</td><td style = \"text-align: right;\">0.39</td></tr><tr><td class = \"rowNumber\" style = \"font-weight: bold; text-align: right;\">11</td><td style = \"text-align: left;\">Anabas testudineus</td><td style = \"text-align: right;\">8.03</td><td style = \"text-align: right;\">3.4</td><td style = \"text-align: right;\">0.42</td></tr><tr><td class = \"rowNumber\" style = \"font-weight: bold; text-align: right;\">12</td><td style = \"text-align: left;\">Anabas testudineus</td><td style = \"text-align: right;\">10.27</td><td style = \"text-align: right;\">3.16</td><td style = \"text-align: right;\">0.31</td></tr><tr><td class = \"rowNumber\" style = \"font-weight: bold; text-align: right;\">13</td><td style = \"text-align: left;\">Anabas testudineus</td><td style = \"text-align: right;\">8.43</td><td style = \"text-align: right;\">3.33</td><td style = \"text-align: right;\">0.39</td></tr><tr><td style = \"text-align: right;\">&vellip;</td><td style = \"text-align: right;\">&vellip;</td><td style = \"text-align: right;\">&vellip;</td><td style = \"text-align: right;\">&vellip;</td><td style = \"text-align: right;\">&vellip;</td></tr><tr><td class = \"rowNumber\" style = \"font-weight: bold; text-align: right;\">90</td><td style = \"text-align: left;\">Anabas testudineus</td><td style = \"text-align: right;\">7.77</td><td style = \"text-align: right;\">3.06</td><td style = \"text-align: right;\">0.39</td></tr><tr><td class = \"rowNumber\" style = \"font-weight: bold; text-align: right;\">91</td><td style = \"text-align: left;\">Anabas testudineus</td><td style = \"text-align: right;\">6.79</td><td style = \"text-align: right;\">3.18</td><td style = \"text-align: right;\">0.47</td></tr><tr><td class = \"rowNumber\" style = \"font-weight: bold; text-align: right;\">92</td><td style = \"text-align: left;\">Anabas testudineus</td><td style = \"text-align: right;\">7.22</td><td style = \"text-align: right;\">3.28</td><td style = \"text-align: right;\">0.45</td></tr><tr><td class = \"rowNumber\" style = \"font-weight: bold; text-align: right;\">93</td><td style = \"text-align: left;\">Anabas testudineus</td><td style = \"text-align: right;\">8.54</td><td style = \"text-align: right;\">3.08</td><td style = \"text-align: right;\">0.36</td></tr><tr><td class = \"rowNumber\" style = \"font-weight: bold; text-align: right;\">94</td><td style = \"text-align: left;\">Anabas testudineus</td><td style = \"text-align: right;\">7.41</td><td style = \"text-align: right;\">3.11</td><td style = \"text-align: right;\">0.42</td></tr><tr><td class = \"rowNumber\" style = \"font-weight: bold; text-align: right;\">95</td><td style = \"text-align: left;\">Anabas testudineus</td><td style = \"text-align: right;\">6.63</td><td style = \"text-align: right;\">3.18</td><td style = \"text-align: right;\">0.48</td></tr><tr><td class = \"rowNumber\" style = \"font-weight: bold; text-align: right;\">96</td><td style = \"text-align: left;\">Anabas testudineus</td><td style = \"text-align: right;\">7.2</td><td style = \"text-align: right;\">3.47</td><td style = \"text-align: right;\">0.48</td></tr><tr><td class = \"rowNumber\" style = \"font-weight: bold; text-align: right;\">97</td><td style = \"text-align: left;\">Anabas testudineus</td><td style = \"text-align: right;\">7.31</td><td style = \"text-align: right;\">3.26</td><td style = \"text-align: right;\">0.45</td></tr><tr><td class = \"rowNumber\" style = \"font-weight: bold; text-align: right;\">98</td><td style = \"text-align: left;\">Anabas testudineus</td><td style = \"text-align: right;\">8.94</td><td style = \"text-align: right;\">3.29</td><td style = \"text-align: right;\">0.37</td></tr><tr><td class = \"rowNumber\" style = \"font-weight: bold; text-align: right;\">99</td><td style = \"text-align: left;\">Anabas testudineus</td><td style = \"text-align: right;\">7.06</td><td style = \"text-align: right;\">3.29</td><td style = \"text-align: right;\">0.47</td></tr><tr><td class = \"rowNumber\" style = \"font-weight: bold; text-align: right;\">100</td><td style = \"text-align: left;\">Anabas testudineus</td><td style = \"text-align: right;\">9.4</td><td style = \"text-align: right;\">3.44</td><td style = \"text-align: right;\">0.37</td></tr><tr><td class = \"rowNumber\" style = \"font-weight: bold; text-align: right;\">101</td><td style = \"text-align: left;\">Sparus aurata</td><td style = \"text-align: right;\">22.0</td><td style = \"text-align: right;\">4.2</td><td style = \"text-align: right;\">0.19</td></tr></tbody></table></div>"
      ],
      "text/latex": [
       "\\begin{tabular}{r|cccc}\n",
       "\t& species & length & weight & w\\_l\\_ratio\\\\\n",
       "\t\\hline\n",
       "\t& String31 & Float64 & Float64 & Float64\\\\\n",
       "\t\\hline\n",
       "\t1 & Anabas testudineus & 10.66 & 3.45 & 0.32 \\\\\n",
       "\t2 & Anabas testudineus & 6.91 & 3.27 & 0.47 \\\\\n",
       "\t3 & Anabas testudineus & 8.38 & 3.46 & 0.41 \\\\\n",
       "\t4 & Anabas testudineus & 7.57 & 3.36 & 0.44 \\\\\n",
       "\t5 & Anabas testudineus & 10.83 & 3.38 & 0.31 \\\\\n",
       "\t6 & Anabas testudineus & 9.35 & 3.28 & 0.35 \\\\\n",
       "\t7 & Anabas testudineus & 9.42 & 3.33 & 0.35 \\\\\n",
       "\t8 & Anabas testudineus & 7.92 & 3.13 & 0.39 \\\\\n",
       "\t9 & Anabas testudineus & 6.98 & 3.16 & 0.45 \\\\\n",
       "\t10 & Anabas testudineus & 8.42 & 3.26 & 0.39 \\\\\n",
       "\t11 & Anabas testudineus & 8.03 & 3.4 & 0.42 \\\\\n",
       "\t12 & Anabas testudineus & 10.27 & 3.16 & 0.31 \\\\\n",
       "\t13 & Anabas testudineus & 8.43 & 3.33 & 0.39 \\\\\n",
       "\t14 & Anabas testudineus & 7.0 & 3.2 & 0.46 \\\\\n",
       "\t15 & Anabas testudineus & 7.46 & 3.25 & 0.44 \\\\\n",
       "\t16 & Anabas testudineus & 9.41 & 3.21 & 0.34 \\\\\n",
       "\t17 & Anabas testudineus & 6.64 & 3.2 & 0.48 \\\\\n",
       "\t18 & Anabas testudineus & 8.17 & 3.3 & 0.4 \\\\\n",
       "\t19 & Anabas testudineus & 8.85 & 3.07 & 0.35 \\\\\n",
       "\t20 & Anabas testudineus & 7.83 & 3.16 & 0.4 \\\\\n",
       "\t21 & Anabas testudineus & 10.19 & 3.24 & 0.32 \\\\\n",
       "\t22 & Anabas testudineus & 9.21 & 3.36 & 0.36 \\\\\n",
       "\t23 & Anabas testudineus & 6.67 & 3.31 & 0.5 \\\\\n",
       "\t24 & Anabas testudineus & 8.25 & 3.32 & 0.4 \\\\\n",
       "\t$\\dots$ & $\\dots$ & $\\dots$ & $\\dots$ & $\\dots$ \\\\\n",
       "\\end{tabular}\n"
      ],
      "text/plain": [
       "\u001b[1m101×4 DataFrame\u001b[0m\n",
       "\u001b[1m Row \u001b[0m│\u001b[1m species            \u001b[0m\u001b[1m length  \u001b[0m\u001b[1m weight  \u001b[0m\u001b[1m w_l_ratio \u001b[0m\n",
       "     │\u001b[90m String31           \u001b[0m\u001b[90m Float64 \u001b[0m\u001b[90m Float64 \u001b[0m\u001b[90m Float64   \u001b[0m\n",
       "─────┼─────────────────────────────────────────────────\n",
       "   1 │ Anabas testudineus    10.66     3.45       0.32\n",
       "   2 │ Anabas testudineus     6.91     3.27       0.47\n",
       "   3 │ Anabas testudineus     8.38     3.46       0.41\n",
       "   4 │ Anabas testudineus     7.57     3.36       0.44\n",
       "   5 │ Anabas testudineus    10.83     3.38       0.31\n",
       "   6 │ Anabas testudineus     9.35     3.28       0.35\n",
       "   7 │ Anabas testudineus     9.42     3.33       0.35\n",
       "   8 │ Anabas testudineus     7.92     3.13       0.39\n",
       "  ⋮  │         ⋮              ⋮        ⋮         ⋮\n",
       "  95 │ Anabas testudineus     6.63     3.18       0.48\n",
       "  96 │ Anabas testudineus     7.2      3.47       0.48\n",
       "  97 │ Anabas testudineus     7.31     3.26       0.45\n",
       "  98 │ Anabas testudineus     8.94     3.29       0.37\n",
       "  99 │ Anabas testudineus     7.06     3.29       0.47\n",
       " 100 │ Anabas testudineus     9.4      3.44       0.37\n",
       " 101 │ Sparus aurata         22.0      4.2        0.19\n",
       "\u001b[36m                                        86 rows omitted\u001b[0m"
      ]
     },
     "metadata": {},
     "output_type": "display_data"
    }
   ],
   "source": [
    "push!(fish_1,(\"Sparus aurata\", 22, 4.2, 0.19))"
   ]
  },
  {
   "cell_type": "markdown",
   "metadata": {},
   "source": [
    "Add to the first dataframe the following: `Seriola dumerili, 120, 20,0.17`. Use a named tuple for that. "
   ]
  },
  {
   "cell_type": "code",
   "execution_count": 5,
   "metadata": {},
   "outputs": [
    {
     "data": {
      "text/html": [
       "<div><div style = \"float: left;\"><span>102×4 DataFrame</span></div><div style = \"float: right;\"><span style = \"font-style: italic;\">77 rows omitted</span></div><div style = \"clear: both;\"></div></div><div class = \"data-frame\" style = \"overflow-x: scroll;\"><table class = \"data-frame\" style = \"margin-bottom: 6px;\"><thead><tr class = \"header\"><th class = \"rowNumber\" style = \"font-weight: bold; text-align: right;\">Row</th><th style = \"text-align: left;\">species</th><th style = \"text-align: left;\">length</th><th style = \"text-align: left;\">weight</th><th style = \"text-align: left;\">w_l_ratio</th></tr><tr class = \"subheader headerLastRow\"><th class = \"rowNumber\" style = \"font-weight: bold; text-align: right;\"></th><th title = \"String31\" style = \"text-align: left;\">String31</th><th title = \"Float64\" style = \"text-align: left;\">Float64</th><th title = \"Float64\" style = \"text-align: left;\">Float64</th><th title = \"Float64\" style = \"text-align: left;\">Float64</th></tr></thead><tbody><tr><td class = \"rowNumber\" style = \"font-weight: bold; text-align: right;\">1</td><td style = \"text-align: left;\">Anabas testudineus</td><td style = \"text-align: right;\">10.66</td><td style = \"text-align: right;\">3.45</td><td style = \"text-align: right;\">0.32</td></tr><tr><td class = \"rowNumber\" style = \"font-weight: bold; text-align: right;\">2</td><td style = \"text-align: left;\">Anabas testudineus</td><td style = \"text-align: right;\">6.91</td><td style = \"text-align: right;\">3.27</td><td style = \"text-align: right;\">0.47</td></tr><tr><td class = \"rowNumber\" style = \"font-weight: bold; text-align: right;\">3</td><td style = \"text-align: left;\">Anabas testudineus</td><td style = \"text-align: right;\">8.38</td><td style = \"text-align: right;\">3.46</td><td style = \"text-align: right;\">0.41</td></tr><tr><td class = \"rowNumber\" style = \"font-weight: bold; text-align: right;\">4</td><td style = \"text-align: left;\">Anabas testudineus</td><td style = \"text-align: right;\">7.57</td><td style = \"text-align: right;\">3.36</td><td style = \"text-align: right;\">0.44</td></tr><tr><td class = \"rowNumber\" style = \"font-weight: bold; text-align: right;\">5</td><td style = \"text-align: left;\">Anabas testudineus</td><td style = \"text-align: right;\">10.83</td><td style = \"text-align: right;\">3.38</td><td style = \"text-align: right;\">0.31</td></tr><tr><td class = \"rowNumber\" style = \"font-weight: bold; text-align: right;\">6</td><td style = \"text-align: left;\">Anabas testudineus</td><td style = \"text-align: right;\">9.35</td><td style = \"text-align: right;\">3.28</td><td style = \"text-align: right;\">0.35</td></tr><tr><td class = \"rowNumber\" style = \"font-weight: bold; text-align: right;\">7</td><td style = \"text-align: left;\">Anabas testudineus</td><td style = \"text-align: right;\">9.42</td><td style = \"text-align: right;\">3.33</td><td style = \"text-align: right;\">0.35</td></tr><tr><td class = \"rowNumber\" style = \"font-weight: bold; text-align: right;\">8</td><td style = \"text-align: left;\">Anabas testudineus</td><td style = \"text-align: right;\">7.92</td><td style = \"text-align: right;\">3.13</td><td style = \"text-align: right;\">0.39</td></tr><tr><td class = \"rowNumber\" style = \"font-weight: bold; text-align: right;\">9</td><td style = \"text-align: left;\">Anabas testudineus</td><td style = \"text-align: right;\">6.98</td><td style = \"text-align: right;\">3.16</td><td style = \"text-align: right;\">0.45</td></tr><tr><td class = \"rowNumber\" style = \"font-weight: bold; text-align: right;\">10</td><td style = \"text-align: left;\">Anabas testudineus</td><td style = \"text-align: right;\">8.42</td><td style = \"text-align: right;\">3.26</td><td style = \"text-align: right;\">0.39</td></tr><tr><td class = \"rowNumber\" style = \"font-weight: bold; text-align: right;\">11</td><td style = \"text-align: left;\">Anabas testudineus</td><td style = \"text-align: right;\">8.03</td><td style = \"text-align: right;\">3.4</td><td style = \"text-align: right;\">0.42</td></tr><tr><td class = \"rowNumber\" style = \"font-weight: bold; text-align: right;\">12</td><td style = \"text-align: left;\">Anabas testudineus</td><td style = \"text-align: right;\">10.27</td><td style = \"text-align: right;\">3.16</td><td style = \"text-align: right;\">0.31</td></tr><tr><td class = \"rowNumber\" style = \"font-weight: bold; text-align: right;\">13</td><td style = \"text-align: left;\">Anabas testudineus</td><td style = \"text-align: right;\">8.43</td><td style = \"text-align: right;\">3.33</td><td style = \"text-align: right;\">0.39</td></tr><tr><td style = \"text-align: right;\">&vellip;</td><td style = \"text-align: right;\">&vellip;</td><td style = \"text-align: right;\">&vellip;</td><td style = \"text-align: right;\">&vellip;</td><td style = \"text-align: right;\">&vellip;</td></tr><tr><td class = \"rowNumber\" style = \"font-weight: bold; text-align: right;\">91</td><td style = \"text-align: left;\">Anabas testudineus</td><td style = \"text-align: right;\">6.79</td><td style = \"text-align: right;\">3.18</td><td style = \"text-align: right;\">0.47</td></tr><tr><td class = \"rowNumber\" style = \"font-weight: bold; text-align: right;\">92</td><td style = \"text-align: left;\">Anabas testudineus</td><td style = \"text-align: right;\">7.22</td><td style = \"text-align: right;\">3.28</td><td style = \"text-align: right;\">0.45</td></tr><tr><td class = \"rowNumber\" style = \"font-weight: bold; text-align: right;\">93</td><td style = \"text-align: left;\">Anabas testudineus</td><td style = \"text-align: right;\">8.54</td><td style = \"text-align: right;\">3.08</td><td style = \"text-align: right;\">0.36</td></tr><tr><td class = \"rowNumber\" style = \"font-weight: bold; text-align: right;\">94</td><td style = \"text-align: left;\">Anabas testudineus</td><td style = \"text-align: right;\">7.41</td><td style = \"text-align: right;\">3.11</td><td style = \"text-align: right;\">0.42</td></tr><tr><td class = \"rowNumber\" style = \"font-weight: bold; text-align: right;\">95</td><td style = \"text-align: left;\">Anabas testudineus</td><td style = \"text-align: right;\">6.63</td><td style = \"text-align: right;\">3.18</td><td style = \"text-align: right;\">0.48</td></tr><tr><td class = \"rowNumber\" style = \"font-weight: bold; text-align: right;\">96</td><td style = \"text-align: left;\">Anabas testudineus</td><td style = \"text-align: right;\">7.2</td><td style = \"text-align: right;\">3.47</td><td style = \"text-align: right;\">0.48</td></tr><tr><td class = \"rowNumber\" style = \"font-weight: bold; text-align: right;\">97</td><td style = \"text-align: left;\">Anabas testudineus</td><td style = \"text-align: right;\">7.31</td><td style = \"text-align: right;\">3.26</td><td style = \"text-align: right;\">0.45</td></tr><tr><td class = \"rowNumber\" style = \"font-weight: bold; text-align: right;\">98</td><td style = \"text-align: left;\">Anabas testudineus</td><td style = \"text-align: right;\">8.94</td><td style = \"text-align: right;\">3.29</td><td style = \"text-align: right;\">0.37</td></tr><tr><td class = \"rowNumber\" style = \"font-weight: bold; text-align: right;\">99</td><td style = \"text-align: left;\">Anabas testudineus</td><td style = \"text-align: right;\">7.06</td><td style = \"text-align: right;\">3.29</td><td style = \"text-align: right;\">0.47</td></tr><tr><td class = \"rowNumber\" style = \"font-weight: bold; text-align: right;\">100</td><td style = \"text-align: left;\">Anabas testudineus</td><td style = \"text-align: right;\">9.4</td><td style = \"text-align: right;\">3.44</td><td style = \"text-align: right;\">0.37</td></tr><tr><td class = \"rowNumber\" style = \"font-weight: bold; text-align: right;\">101</td><td style = \"text-align: left;\">Sparus aurata</td><td style = \"text-align: right;\">22.0</td><td style = \"text-align: right;\">4.2</td><td style = \"text-align: right;\">0.19</td></tr><tr><td class = \"rowNumber\" style = \"font-weight: bold; text-align: right;\">102</td><td style = \"text-align: left;\">Seriola dumerili</td><td style = \"text-align: right;\">120.0</td><td style = \"text-align: right;\">20.0</td><td style = \"text-align: right;\">0.17</td></tr></tbody></table></div>"
      ],
      "text/latex": [
       "\\begin{tabular}{r|cccc}\n",
       "\t& species & length & weight & w\\_l\\_ratio\\\\\n",
       "\t\\hline\n",
       "\t& String31 & Float64 & Float64 & Float64\\\\\n",
       "\t\\hline\n",
       "\t1 & Anabas testudineus & 10.66 & 3.45 & 0.32 \\\\\n",
       "\t2 & Anabas testudineus & 6.91 & 3.27 & 0.47 \\\\\n",
       "\t3 & Anabas testudineus & 8.38 & 3.46 & 0.41 \\\\\n",
       "\t4 & Anabas testudineus & 7.57 & 3.36 & 0.44 \\\\\n",
       "\t5 & Anabas testudineus & 10.83 & 3.38 & 0.31 \\\\\n",
       "\t6 & Anabas testudineus & 9.35 & 3.28 & 0.35 \\\\\n",
       "\t7 & Anabas testudineus & 9.42 & 3.33 & 0.35 \\\\\n",
       "\t8 & Anabas testudineus & 7.92 & 3.13 & 0.39 \\\\\n",
       "\t9 & Anabas testudineus & 6.98 & 3.16 & 0.45 \\\\\n",
       "\t10 & Anabas testudineus & 8.42 & 3.26 & 0.39 \\\\\n",
       "\t11 & Anabas testudineus & 8.03 & 3.4 & 0.42 \\\\\n",
       "\t12 & Anabas testudineus & 10.27 & 3.16 & 0.31 \\\\\n",
       "\t13 & Anabas testudineus & 8.43 & 3.33 & 0.39 \\\\\n",
       "\t14 & Anabas testudineus & 7.0 & 3.2 & 0.46 \\\\\n",
       "\t15 & Anabas testudineus & 7.46 & 3.25 & 0.44 \\\\\n",
       "\t16 & Anabas testudineus & 9.41 & 3.21 & 0.34 \\\\\n",
       "\t17 & Anabas testudineus & 6.64 & 3.2 & 0.48 \\\\\n",
       "\t18 & Anabas testudineus & 8.17 & 3.3 & 0.4 \\\\\n",
       "\t19 & Anabas testudineus & 8.85 & 3.07 & 0.35 \\\\\n",
       "\t20 & Anabas testudineus & 7.83 & 3.16 & 0.4 \\\\\n",
       "\t21 & Anabas testudineus & 10.19 & 3.24 & 0.32 \\\\\n",
       "\t22 & Anabas testudineus & 9.21 & 3.36 & 0.36 \\\\\n",
       "\t23 & Anabas testudineus & 6.67 & 3.31 & 0.5 \\\\\n",
       "\t24 & Anabas testudineus & 8.25 & 3.32 & 0.4 \\\\\n",
       "\t$\\dots$ & $\\dots$ & $\\dots$ & $\\dots$ & $\\dots$ \\\\\n",
       "\\end{tabular}\n"
      ],
      "text/plain": [
       "\u001b[1m102×4 DataFrame\u001b[0m\n",
       "\u001b[1m Row \u001b[0m│\u001b[1m species            \u001b[0m\u001b[1m length  \u001b[0m\u001b[1m weight  \u001b[0m\u001b[1m w_l_ratio \u001b[0m\n",
       "     │\u001b[90m String31           \u001b[0m\u001b[90m Float64 \u001b[0m\u001b[90m Float64 \u001b[0m\u001b[90m Float64   \u001b[0m\n",
       "─────┼─────────────────────────────────────────────────\n",
       "   1 │ Anabas testudineus    10.66     3.45       0.32\n",
       "   2 │ Anabas testudineus     6.91     3.27       0.47\n",
       "   3 │ Anabas testudineus     8.38     3.46       0.41\n",
       "   4 │ Anabas testudineus     7.57     3.36       0.44\n",
       "   5 │ Anabas testudineus    10.83     3.38       0.31\n",
       "   6 │ Anabas testudineus     9.35     3.28       0.35\n",
       "   7 │ Anabas testudineus     9.42     3.33       0.35\n",
       "   8 │ Anabas testudineus     7.92     3.13       0.39\n",
       "  ⋮  │         ⋮              ⋮        ⋮         ⋮\n",
       "  96 │ Anabas testudineus     7.2      3.47       0.48\n",
       "  97 │ Anabas testudineus     7.31     3.26       0.45\n",
       "  98 │ Anabas testudineus     8.94     3.29       0.37\n",
       "  99 │ Anabas testudineus     7.06     3.29       0.47\n",
       " 100 │ Anabas testudineus     9.4      3.44       0.37\n",
       " 101 │ Sparus aurata         22.0      4.2        0.19\n",
       " 102 │ Seriola dumerili     120.0     20.0        0.17\n",
       "\u001b[36m                                        87 rows omitted\u001b[0m"
      ]
     },
     "metadata": {},
     "output_type": "display_data"
    }
   ],
   "source": [
    "push!(fish_1, (species=\"Seriola dumerili\", length=120, weight=20, w_l_ratio=0.17))"
   ]
  },
  {
   "cell_type": "markdown",
   "metadata": {},
   "source": [
    "Create a new column to the second dataframe and name it `Farmed`. Give all the records the value `No`"
   ]
  },
  {
   "cell_type": "code",
   "execution_count": 6,
   "metadata": {},
   "outputs": [
    {
     "data": {
      "text/html": [
       "<div><div style = \"float: left;\"><span>100×5 DataFrame</span></div><div style = \"float: right;\"><span style = \"font-style: italic;\">75 rows omitted</span></div><div style = \"clear: both;\"></div></div><div class = \"data-frame\" style = \"overflow-x: scroll;\"><table class = \"data-frame\" style = \"margin-bottom: 6px;\"><thead><tr class = \"header\"><th class = \"rowNumber\" style = \"font-weight: bold; text-align: right;\">Row</th><th style = \"text-align: left;\">species</th><th style = \"text-align: left;\">length</th><th style = \"text-align: left;\">weight</th><th style = \"text-align: left;\">w_l_ratio</th><th style = \"text-align: left;\">Farmed</th></tr><tr class = \"subheader headerLastRow\"><th class = \"rowNumber\" style = \"font-weight: bold; text-align: right;\"></th><th title = \"String31\" style = \"text-align: left;\">String31</th><th title = \"Float64\" style = \"text-align: left;\">Float64</th><th title = \"Float64\" style = \"text-align: left;\">Float64</th><th title = \"Float64\" style = \"text-align: left;\">Float64</th><th title = \"String\" style = \"text-align: left;\">String</th></tr></thead><tbody><tr><td class = \"rowNumber\" style = \"font-weight: bold; text-align: right;\">1</td><td style = \"text-align: left;\">Anabas testudineus</td><td style = \"text-align: right;\">7.35</td><td style = \"text-align: right;\">3.29</td><td style = \"text-align: right;\">0.45</td><td style = \"text-align: left;\">No</td></tr><tr><td class = \"rowNumber\" style = \"font-weight: bold; text-align: right;\">2</td><td style = \"text-align: left;\">Anabas testudineus</td><td style = \"text-align: right;\">8.58</td><td style = \"text-align: right;\">3.24</td><td style = \"text-align: right;\">0.38</td><td style = \"text-align: left;\">No</td></tr><tr><td class = \"rowNumber\" style = \"font-weight: bold; text-align: right;\">3</td><td style = \"text-align: left;\">Anabas testudineus</td><td style = \"text-align: right;\">7.17</td><td style = \"text-align: right;\">3.34</td><td style = \"text-align: right;\">0.47</td><td style = \"text-align: left;\">No</td></tr><tr><td class = \"rowNumber\" style = \"font-weight: bold; text-align: right;\">4</td><td style = \"text-align: left;\">Anabas testudineus</td><td style = \"text-align: right;\">9.41</td><td style = \"text-align: right;\">3.31</td><td style = \"text-align: right;\">0.35</td><td style = \"text-align: left;\">No</td></tr><tr><td class = \"rowNumber\" style = \"font-weight: bold; text-align: right;\">5</td><td style = \"text-align: left;\">Anabas testudineus</td><td style = \"text-align: right;\">8.41</td><td style = \"text-align: right;\">3.12</td><td style = \"text-align: right;\">0.37</td><td style = \"text-align: left;\">No</td></tr><tr><td class = \"rowNumber\" style = \"font-weight: bold; text-align: right;\">6</td><td style = \"text-align: left;\">Anabas testudineus</td><td style = \"text-align: right;\">7.01</td><td style = \"text-align: right;\">3.25</td><td style = \"text-align: right;\">0.46</td><td style = \"text-align: left;\">No</td></tr><tr><td class = \"rowNumber\" style = \"font-weight: bold; text-align: right;\">7</td><td style = \"text-align: left;\">Anabas testudineus</td><td style = \"text-align: right;\">6.54</td><td style = \"text-align: right;\">3.35</td><td style = \"text-align: right;\">0.51</td><td style = \"text-align: left;\">No</td></tr><tr><td class = \"rowNumber\" style = \"font-weight: bold; text-align: right;\">8</td><td style = \"text-align: left;\">Anabas testudineus</td><td style = \"text-align: right;\">7.08</td><td style = \"text-align: right;\">3.25</td><td style = \"text-align: right;\">0.46</td><td style = \"text-align: left;\">No</td></tr><tr><td class = \"rowNumber\" style = \"font-weight: bold; text-align: right;\">9</td><td style = \"text-align: left;\">Anabas testudineus</td><td style = \"text-align: right;\">8.26</td><td style = \"text-align: right;\">3.18</td><td style = \"text-align: right;\">0.39</td><td style = \"text-align: left;\">No</td></tr><tr><td class = \"rowNumber\" style = \"font-weight: bold; text-align: right;\">10</td><td style = \"text-align: left;\">Anabas testudineus</td><td style = \"text-align: right;\">8.1</td><td style = \"text-align: right;\">3.12</td><td style = \"text-align: right;\">0.39</td><td style = \"text-align: left;\">No</td></tr><tr><td class = \"rowNumber\" style = \"font-weight: bold; text-align: right;\">11</td><td style = \"text-align: left;\">Anabas testudineus</td><td style = \"text-align: right;\">7.02</td><td style = \"text-align: right;\">3.25</td><td style = \"text-align: right;\">0.46</td><td style = \"text-align: left;\">No</td></tr><tr><td class = \"rowNumber\" style = \"font-weight: bold; text-align: right;\">12</td><td style = \"text-align: left;\">Anabas testudineus</td><td style = \"text-align: right;\">8.15</td><td style = \"text-align: right;\">3.27</td><td style = \"text-align: right;\">0.4</td><td style = \"text-align: left;\">No</td></tr><tr><td class = \"rowNumber\" style = \"font-weight: bold; text-align: right;\">13</td><td style = \"text-align: left;\">Anabas testudineus</td><td style = \"text-align: right;\">7.77</td><td style = \"text-align: right;\">3.46</td><td style = \"text-align: right;\">0.44</td><td style = \"text-align: left;\">No</td></tr><tr><td style = \"text-align: right;\">&vellip;</td><td style = \"text-align: right;\">&vellip;</td><td style = \"text-align: right;\">&vellip;</td><td style = \"text-align: right;\">&vellip;</td><td style = \"text-align: right;\">&vellip;</td><td style = \"text-align: right;\">&vellip;</td></tr><tr><td class = \"rowNumber\" style = \"font-weight: bold; text-align: right;\">89</td><td style = \"text-align: left;\">Anabas testudineus</td><td style = \"text-align: right;\">9.27</td><td style = \"text-align: right;\">3.28</td><td style = \"text-align: right;\">0.35</td><td style = \"text-align: left;\">No</td></tr><tr><td class = \"rowNumber\" style = \"font-weight: bold; text-align: right;\">90</td><td style = \"text-align: left;\">Anabas testudineus</td><td style = \"text-align: right;\">9.03</td><td style = \"text-align: right;\">3.37</td><td style = \"text-align: right;\">0.37</td><td style = \"text-align: left;\">No</td></tr><tr><td class = \"rowNumber\" style = \"font-weight: bold; text-align: right;\">91</td><td style = \"text-align: left;\">Anabas testudineus</td><td style = \"text-align: right;\">6.36</td><td style = \"text-align: right;\">3.25</td><td style = \"text-align: right;\">0.51</td><td style = \"text-align: left;\">No</td></tr><tr><td class = \"rowNumber\" style = \"font-weight: bold; text-align: right;\">92</td><td style = \"text-align: left;\">Anabas testudineus</td><td style = \"text-align: right;\">7.85</td><td style = \"text-align: right;\">3.37</td><td style = \"text-align: right;\">0.43</td><td style = \"text-align: left;\">No</td></tr><tr><td class = \"rowNumber\" style = \"font-weight: bold; text-align: right;\">93</td><td style = \"text-align: left;\">Anabas testudineus</td><td style = \"text-align: right;\">7.05</td><td style = \"text-align: right;\">3.21</td><td style = \"text-align: right;\">0.45</td><td style = \"text-align: left;\">No</td></tr><tr><td class = \"rowNumber\" style = \"font-weight: bold; text-align: right;\">94</td><td style = \"text-align: left;\">Anabas testudineus</td><td style = \"text-align: right;\">9.18</td><td style = \"text-align: right;\">3.43</td><td style = \"text-align: right;\">0.37</td><td style = \"text-align: left;\">No</td></tr><tr><td class = \"rowNumber\" style = \"font-weight: bold; text-align: right;\">95</td><td style = \"text-align: left;\">Anabas testudineus</td><td style = \"text-align: right;\">8.64</td><td style = \"text-align: right;\">3.38</td><td style = \"text-align: right;\">0.39</td><td style = \"text-align: left;\">No</td></tr><tr><td class = \"rowNumber\" style = \"font-weight: bold; text-align: right;\">96</td><td style = \"text-align: left;\">Anabas testudineus</td><td style = \"text-align: right;\">8.64</td><td style = \"text-align: right;\">3.12</td><td style = \"text-align: right;\">0.36</td><td style = \"text-align: left;\">No</td></tr><tr><td class = \"rowNumber\" style = \"font-weight: bold; text-align: right;\">97</td><td style = \"text-align: left;\">Anabas testudineus</td><td style = \"text-align: right;\">7.04</td><td style = \"text-align: right;\">3.37</td><td style = \"text-align: right;\">0.48</td><td style = \"text-align: left;\">No</td></tr><tr><td class = \"rowNumber\" style = \"font-weight: bold; text-align: right;\">98</td><td style = \"text-align: left;\">Anabas testudineus</td><td style = \"text-align: right;\">7.29</td><td style = \"text-align: right;\">3.43</td><td style = \"text-align: right;\">0.47</td><td style = \"text-align: left;\">No</td></tr><tr><td class = \"rowNumber\" style = \"font-weight: bold; text-align: right;\">99</td><td style = \"text-align: left;\">Anabas testudineus</td><td style = \"text-align: right;\">7.46</td><td style = \"text-align: right;\">3.31</td><td style = \"text-align: right;\">0.44</td><td style = \"text-align: left;\">No</td></tr><tr><td class = \"rowNumber\" style = \"font-weight: bold; text-align: right;\">100</td><td style = \"text-align: left;\">Anabas testudineus</td><td style = \"text-align: right;\">9.06</td><td style = \"text-align: right;\">3.29</td><td style = \"text-align: right;\">0.36</td><td style = \"text-align: left;\">No</td></tr></tbody></table></div>"
      ],
      "text/latex": [
       "\\begin{tabular}{r|ccccc}\n",
       "\t& species & length & weight & w\\_l\\_ratio & Farmed\\\\\n",
       "\t\\hline\n",
       "\t& String31 & Float64 & Float64 & Float64 & String\\\\\n",
       "\t\\hline\n",
       "\t1 & Anabas testudineus & 7.35 & 3.29 & 0.45 & No \\\\\n",
       "\t2 & Anabas testudineus & 8.58 & 3.24 & 0.38 & No \\\\\n",
       "\t3 & Anabas testudineus & 7.17 & 3.34 & 0.47 & No \\\\\n",
       "\t4 & Anabas testudineus & 9.41 & 3.31 & 0.35 & No \\\\\n",
       "\t5 & Anabas testudineus & 8.41 & 3.12 & 0.37 & No \\\\\n",
       "\t6 & Anabas testudineus & 7.01 & 3.25 & 0.46 & No \\\\\n",
       "\t7 & Anabas testudineus & 6.54 & 3.35 & 0.51 & No \\\\\n",
       "\t8 & Anabas testudineus & 7.08 & 3.25 & 0.46 & No \\\\\n",
       "\t9 & Anabas testudineus & 8.26 & 3.18 & 0.39 & No \\\\\n",
       "\t10 & Anabas testudineus & 8.1 & 3.12 & 0.39 & No \\\\\n",
       "\t11 & Anabas testudineus & 7.02 & 3.25 & 0.46 & No \\\\\n",
       "\t12 & Anabas testudineus & 8.15 & 3.27 & 0.4 & No \\\\\n",
       "\t13 & Anabas testudineus & 7.77 & 3.46 & 0.44 & No \\\\\n",
       "\t14 & Anabas testudineus & 9.58 & 3.29 & 0.34 & No \\\\\n",
       "\t15 & Anabas testudineus & 8.72 & 3.22 & 0.37 & No \\\\\n",
       "\t16 & Anabas testudineus & 8.58 & 3.44 & 0.4 & No \\\\\n",
       "\t17 & Anabas testudineus & 8.04 & 3.29 & 0.41 & No \\\\\n",
       "\t18 & Anabas testudineus & 7.53 & 3.06 & 0.41 & No \\\\\n",
       "\t19 & Anabas testudineus & 7.75 & 3.32 & 0.43 & No \\\\\n",
       "\t20 & Anabas testudineus & 8.41 & 3.24 & 0.38 & No \\\\\n",
       "\t21 & Anabas testudineus & 7.64 & 3.19 & 0.42 & No \\\\\n",
       "\t22 & Anabas testudineus & 10.19 & 3.42 & 0.34 & No \\\\\n",
       "\t23 & Anabas testudineus & 7.18 & 3.41 & 0.48 & No \\\\\n",
       "\t24 & Anabas testudineus & 10.58 & 3.38 & 0.32 & No \\\\\n",
       "\t$\\dots$ & $\\dots$ & $\\dots$ & $\\dots$ & $\\dots$ & $\\dots$ \\\\\n",
       "\\end{tabular}\n"
      ],
      "text/plain": [
       "\u001b[1m100×5 DataFrame\u001b[0m\n",
       "\u001b[1m Row \u001b[0m│\u001b[1m species            \u001b[0m\u001b[1m length  \u001b[0m\u001b[1m weight  \u001b[0m\u001b[1m w_l_ratio \u001b[0m\u001b[1m Farmed \u001b[0m\n",
       "     │\u001b[90m String31           \u001b[0m\u001b[90m Float64 \u001b[0m\u001b[90m Float64 \u001b[0m\u001b[90m Float64   \u001b[0m\u001b[90m String \u001b[0m\n",
       "─────┼─────────────────────────────────────────────────────────\n",
       "   1 │ Anabas testudineus     7.35     3.29       0.45  No\n",
       "   2 │ Anabas testudineus     8.58     3.24       0.38  No\n",
       "   3 │ Anabas testudineus     7.17     3.34       0.47  No\n",
       "   4 │ Anabas testudineus     9.41     3.31       0.35  No\n",
       "   5 │ Anabas testudineus     8.41     3.12       0.37  No\n",
       "   6 │ Anabas testudineus     7.01     3.25       0.46  No\n",
       "   7 │ Anabas testudineus     6.54     3.35       0.51  No\n",
       "   8 │ Anabas testudineus     7.08     3.25       0.46  No\n",
       "  ⋮  │         ⋮              ⋮        ⋮         ⋮        ⋮\n",
       "  94 │ Anabas testudineus     9.18     3.43       0.37  No\n",
       "  95 │ Anabas testudineus     8.64     3.38       0.39  No\n",
       "  96 │ Anabas testudineus     8.64     3.12       0.36  No\n",
       "  97 │ Anabas testudineus     7.04     3.37       0.48  No\n",
       "  98 │ Anabas testudineus     7.29     3.43       0.47  No\n",
       "  99 │ Anabas testudineus     7.46     3.31       0.44  No\n",
       " 100 │ Anabas testudineus     9.06     3.29       0.36  No\n",
       "\u001b[36m                                                85 rows omitted\u001b[0m"
      ]
     },
     "metadata": {},
     "output_type": "display_data"
    }
   ],
   "source": [
    "fish_2.Farmed .= \"No\";\n",
    "fish_2"
   ]
  },
  {
   "cell_type": "markdown",
   "metadata": {},
   "source": [
    "Append the 2nd dataframe to the first one. Keep track for which dataframe each record originated."
   ]
  },
  {
   "cell_type": "code",
   "execution_count": 7,
   "metadata": {},
   "outputs": [
    {
     "data": {
      "text/html": [
       "<div><div style = \"float: left;\"><span>202×6 DataFrame</span></div><div style = \"float: right;\"><span style = \"font-style: italic;\">177 rows omitted</span></div><div style = \"clear: both;\"></div></div><div class = \"data-frame\" style = \"overflow-x: scroll;\"><table class = \"data-frame\" style = \"margin-bottom: 6px;\"><thead><tr class = \"header\"><th class = \"rowNumber\" style = \"font-weight: bold; text-align: right;\">Row</th><th style = \"text-align: left;\">species</th><th style = \"text-align: left;\">length</th><th style = \"text-align: left;\">weight</th><th style = \"text-align: left;\">w_l_ratio</th><th style = \"text-align: left;\">Farmed</th><th style = \"text-align: left;\">id</th></tr><tr class = \"subheader headerLastRow\"><th class = \"rowNumber\" style = \"font-weight: bold; text-align: right;\"></th><th title = \"String31\" style = \"text-align: left;\">String31</th><th title = \"Float64\" style = \"text-align: left;\">Float64</th><th title = \"Float64\" style = \"text-align: left;\">Float64</th><th title = \"Float64\" style = \"text-align: left;\">Float64</th><th title = \"Union{Missing, String}\" style = \"text-align: left;\">String?</th><th title = \"Int64\" style = \"text-align: left;\">Int64</th></tr></thead><tbody><tr><td class = \"rowNumber\" style = \"font-weight: bold; text-align: right;\">1</td><td style = \"text-align: left;\">Anabas testudineus</td><td style = \"text-align: right;\">10.66</td><td style = \"text-align: right;\">3.45</td><td style = \"text-align: right;\">0.32</td><td style = \"font-style: italic; text-align: left;\">missing</td><td style = \"text-align: right;\">1</td></tr><tr><td class = \"rowNumber\" style = \"font-weight: bold; text-align: right;\">2</td><td style = \"text-align: left;\">Anabas testudineus</td><td style = \"text-align: right;\">6.91</td><td style = \"text-align: right;\">3.27</td><td style = \"text-align: right;\">0.47</td><td style = \"font-style: italic; text-align: left;\">missing</td><td style = \"text-align: right;\">1</td></tr><tr><td class = \"rowNumber\" style = \"font-weight: bold; text-align: right;\">3</td><td style = \"text-align: left;\">Anabas testudineus</td><td style = \"text-align: right;\">8.38</td><td style = \"text-align: right;\">3.46</td><td style = \"text-align: right;\">0.41</td><td style = \"font-style: italic; text-align: left;\">missing</td><td style = \"text-align: right;\">1</td></tr><tr><td class = \"rowNumber\" style = \"font-weight: bold; text-align: right;\">4</td><td style = \"text-align: left;\">Anabas testudineus</td><td style = \"text-align: right;\">7.57</td><td style = \"text-align: right;\">3.36</td><td style = \"text-align: right;\">0.44</td><td style = \"font-style: italic; text-align: left;\">missing</td><td style = \"text-align: right;\">1</td></tr><tr><td class = \"rowNumber\" style = \"font-weight: bold; text-align: right;\">5</td><td style = \"text-align: left;\">Anabas testudineus</td><td style = \"text-align: right;\">10.83</td><td style = \"text-align: right;\">3.38</td><td style = \"text-align: right;\">0.31</td><td style = \"font-style: italic; text-align: left;\">missing</td><td style = \"text-align: right;\">1</td></tr><tr><td class = \"rowNumber\" style = \"font-weight: bold; text-align: right;\">6</td><td style = \"text-align: left;\">Anabas testudineus</td><td style = \"text-align: right;\">9.35</td><td style = \"text-align: right;\">3.28</td><td style = \"text-align: right;\">0.35</td><td style = \"font-style: italic; text-align: left;\">missing</td><td style = \"text-align: right;\">1</td></tr><tr><td class = \"rowNumber\" style = \"font-weight: bold; text-align: right;\">7</td><td style = \"text-align: left;\">Anabas testudineus</td><td style = \"text-align: right;\">9.42</td><td style = \"text-align: right;\">3.33</td><td style = \"text-align: right;\">0.35</td><td style = \"font-style: italic; text-align: left;\">missing</td><td style = \"text-align: right;\">1</td></tr><tr><td class = \"rowNumber\" style = \"font-weight: bold; text-align: right;\">8</td><td style = \"text-align: left;\">Anabas testudineus</td><td style = \"text-align: right;\">7.92</td><td style = \"text-align: right;\">3.13</td><td style = \"text-align: right;\">0.39</td><td style = \"font-style: italic; text-align: left;\">missing</td><td style = \"text-align: right;\">1</td></tr><tr><td class = \"rowNumber\" style = \"font-weight: bold; text-align: right;\">9</td><td style = \"text-align: left;\">Anabas testudineus</td><td style = \"text-align: right;\">6.98</td><td style = \"text-align: right;\">3.16</td><td style = \"text-align: right;\">0.45</td><td style = \"font-style: italic; text-align: left;\">missing</td><td style = \"text-align: right;\">1</td></tr><tr><td class = \"rowNumber\" style = \"font-weight: bold; text-align: right;\">10</td><td style = \"text-align: left;\">Anabas testudineus</td><td style = \"text-align: right;\">8.42</td><td style = \"text-align: right;\">3.26</td><td style = \"text-align: right;\">0.39</td><td style = \"font-style: italic; text-align: left;\">missing</td><td style = \"text-align: right;\">1</td></tr><tr><td class = \"rowNumber\" style = \"font-weight: bold; text-align: right;\">11</td><td style = \"text-align: left;\">Anabas testudineus</td><td style = \"text-align: right;\">8.03</td><td style = \"text-align: right;\">3.4</td><td style = \"text-align: right;\">0.42</td><td style = \"font-style: italic; text-align: left;\">missing</td><td style = \"text-align: right;\">1</td></tr><tr><td class = \"rowNumber\" style = \"font-weight: bold; text-align: right;\">12</td><td style = \"text-align: left;\">Anabas testudineus</td><td style = \"text-align: right;\">10.27</td><td style = \"text-align: right;\">3.16</td><td style = \"text-align: right;\">0.31</td><td style = \"font-style: italic; text-align: left;\">missing</td><td style = \"text-align: right;\">1</td></tr><tr><td class = \"rowNumber\" style = \"font-weight: bold; text-align: right;\">13</td><td style = \"text-align: left;\">Anabas testudineus</td><td style = \"text-align: right;\">8.43</td><td style = \"text-align: right;\">3.33</td><td style = \"text-align: right;\">0.39</td><td style = \"font-style: italic; text-align: left;\">missing</td><td style = \"text-align: right;\">1</td></tr><tr><td style = \"text-align: right;\">&vellip;</td><td style = \"text-align: right;\">&vellip;</td><td style = \"text-align: right;\">&vellip;</td><td style = \"text-align: right;\">&vellip;</td><td style = \"text-align: right;\">&vellip;</td><td style = \"text-align: right;\">&vellip;</td><td style = \"text-align: right;\">&vellip;</td></tr><tr><td class = \"rowNumber\" style = \"font-weight: bold; text-align: right;\">191</td><td style = \"text-align: left;\">Anabas testudineus</td><td style = \"text-align: right;\">9.27</td><td style = \"text-align: right;\">3.28</td><td style = \"text-align: right;\">0.35</td><td style = \"text-align: left;\">No</td><td style = \"text-align: right;\">2</td></tr><tr><td class = \"rowNumber\" style = \"font-weight: bold; text-align: right;\">192</td><td style = \"text-align: left;\">Anabas testudineus</td><td style = \"text-align: right;\">9.03</td><td style = \"text-align: right;\">3.37</td><td style = \"text-align: right;\">0.37</td><td style = \"text-align: left;\">No</td><td style = \"text-align: right;\">2</td></tr><tr><td class = \"rowNumber\" style = \"font-weight: bold; text-align: right;\">193</td><td style = \"text-align: left;\">Anabas testudineus</td><td style = \"text-align: right;\">6.36</td><td style = \"text-align: right;\">3.25</td><td style = \"text-align: right;\">0.51</td><td style = \"text-align: left;\">No</td><td style = \"text-align: right;\">2</td></tr><tr><td class = \"rowNumber\" style = \"font-weight: bold; text-align: right;\">194</td><td style = \"text-align: left;\">Anabas testudineus</td><td style = \"text-align: right;\">7.85</td><td style = \"text-align: right;\">3.37</td><td style = \"text-align: right;\">0.43</td><td style = \"text-align: left;\">No</td><td style = \"text-align: right;\">2</td></tr><tr><td class = \"rowNumber\" style = \"font-weight: bold; text-align: right;\">195</td><td style = \"text-align: left;\">Anabas testudineus</td><td style = \"text-align: right;\">7.05</td><td style = \"text-align: right;\">3.21</td><td style = \"text-align: right;\">0.45</td><td style = \"text-align: left;\">No</td><td style = \"text-align: right;\">2</td></tr><tr><td class = \"rowNumber\" style = \"font-weight: bold; text-align: right;\">196</td><td style = \"text-align: left;\">Anabas testudineus</td><td style = \"text-align: right;\">9.18</td><td style = \"text-align: right;\">3.43</td><td style = \"text-align: right;\">0.37</td><td style = \"text-align: left;\">No</td><td style = \"text-align: right;\">2</td></tr><tr><td class = \"rowNumber\" style = \"font-weight: bold; text-align: right;\">197</td><td style = \"text-align: left;\">Anabas testudineus</td><td style = \"text-align: right;\">8.64</td><td style = \"text-align: right;\">3.38</td><td style = \"text-align: right;\">0.39</td><td style = \"text-align: left;\">No</td><td style = \"text-align: right;\">2</td></tr><tr><td class = \"rowNumber\" style = \"font-weight: bold; text-align: right;\">198</td><td style = \"text-align: left;\">Anabas testudineus</td><td style = \"text-align: right;\">8.64</td><td style = \"text-align: right;\">3.12</td><td style = \"text-align: right;\">0.36</td><td style = \"text-align: left;\">No</td><td style = \"text-align: right;\">2</td></tr><tr><td class = \"rowNumber\" style = \"font-weight: bold; text-align: right;\">199</td><td style = \"text-align: left;\">Anabas testudineus</td><td style = \"text-align: right;\">7.04</td><td style = \"text-align: right;\">3.37</td><td style = \"text-align: right;\">0.48</td><td style = \"text-align: left;\">No</td><td style = \"text-align: right;\">2</td></tr><tr><td class = \"rowNumber\" style = \"font-weight: bold; text-align: right;\">200</td><td style = \"text-align: left;\">Anabas testudineus</td><td style = \"text-align: right;\">7.29</td><td style = \"text-align: right;\">3.43</td><td style = \"text-align: right;\">0.47</td><td style = \"text-align: left;\">No</td><td style = \"text-align: right;\">2</td></tr><tr><td class = \"rowNumber\" style = \"font-weight: bold; text-align: right;\">201</td><td style = \"text-align: left;\">Anabas testudineus</td><td style = \"text-align: right;\">7.46</td><td style = \"text-align: right;\">3.31</td><td style = \"text-align: right;\">0.44</td><td style = \"text-align: left;\">No</td><td style = \"text-align: right;\">2</td></tr><tr><td class = \"rowNumber\" style = \"font-weight: bold; text-align: right;\">202</td><td style = \"text-align: left;\">Anabas testudineus</td><td style = \"text-align: right;\">9.06</td><td style = \"text-align: right;\">3.29</td><td style = \"text-align: right;\">0.36</td><td style = \"text-align: left;\">No</td><td style = \"text-align: right;\">2</td></tr></tbody></table></div>"
      ],
      "text/latex": [
       "\\begin{tabular}{r|cccccc}\n",
       "\t& species & length & weight & w\\_l\\_ratio & Farmed & id\\\\\n",
       "\t\\hline\n",
       "\t& String31 & Float64 & Float64 & Float64 & String? & Int64\\\\\n",
       "\t\\hline\n",
       "\t1 & Anabas testudineus & 10.66 & 3.45 & 0.32 & \\emph{missing} & 1 \\\\\n",
       "\t2 & Anabas testudineus & 6.91 & 3.27 & 0.47 & \\emph{missing} & 1 \\\\\n",
       "\t3 & Anabas testudineus & 8.38 & 3.46 & 0.41 & \\emph{missing} & 1 \\\\\n",
       "\t4 & Anabas testudineus & 7.57 & 3.36 & 0.44 & \\emph{missing} & 1 \\\\\n",
       "\t5 & Anabas testudineus & 10.83 & 3.38 & 0.31 & \\emph{missing} & 1 \\\\\n",
       "\t6 & Anabas testudineus & 9.35 & 3.28 & 0.35 & \\emph{missing} & 1 \\\\\n",
       "\t7 & Anabas testudineus & 9.42 & 3.33 & 0.35 & \\emph{missing} & 1 \\\\\n",
       "\t8 & Anabas testudineus & 7.92 & 3.13 & 0.39 & \\emph{missing} & 1 \\\\\n",
       "\t9 & Anabas testudineus & 6.98 & 3.16 & 0.45 & \\emph{missing} & 1 \\\\\n",
       "\t10 & Anabas testudineus & 8.42 & 3.26 & 0.39 & \\emph{missing} & 1 \\\\\n",
       "\t11 & Anabas testudineus & 8.03 & 3.4 & 0.42 & \\emph{missing} & 1 \\\\\n",
       "\t12 & Anabas testudineus & 10.27 & 3.16 & 0.31 & \\emph{missing} & 1 \\\\\n",
       "\t13 & Anabas testudineus & 8.43 & 3.33 & 0.39 & \\emph{missing} & 1 \\\\\n",
       "\t14 & Anabas testudineus & 7.0 & 3.2 & 0.46 & \\emph{missing} & 1 \\\\\n",
       "\t15 & Anabas testudineus & 7.46 & 3.25 & 0.44 & \\emph{missing} & 1 \\\\\n",
       "\t16 & Anabas testudineus & 9.41 & 3.21 & 0.34 & \\emph{missing} & 1 \\\\\n",
       "\t17 & Anabas testudineus & 6.64 & 3.2 & 0.48 & \\emph{missing} & 1 \\\\\n",
       "\t18 & Anabas testudineus & 8.17 & 3.3 & 0.4 & \\emph{missing} & 1 \\\\\n",
       "\t19 & Anabas testudineus & 8.85 & 3.07 & 0.35 & \\emph{missing} & 1 \\\\\n",
       "\t20 & Anabas testudineus & 7.83 & 3.16 & 0.4 & \\emph{missing} & 1 \\\\\n",
       "\t21 & Anabas testudineus & 10.19 & 3.24 & 0.32 & \\emph{missing} & 1 \\\\\n",
       "\t22 & Anabas testudineus & 9.21 & 3.36 & 0.36 & \\emph{missing} & 1 \\\\\n",
       "\t23 & Anabas testudineus & 6.67 & 3.31 & 0.5 & \\emph{missing} & 1 \\\\\n",
       "\t24 & Anabas testudineus & 8.25 & 3.32 & 0.4 & \\emph{missing} & 1 \\\\\n",
       "\t$\\dots$ & $\\dots$ & $\\dots$ & $\\dots$ & $\\dots$ & $\\dots$ & $\\dots$ \\\\\n",
       "\\end{tabular}\n"
      ],
      "text/plain": [
       "\u001b[1m202×6 DataFrame\u001b[0m\n",
       "\u001b[1m Row \u001b[0m│\u001b[1m species            \u001b[0m\u001b[1m length  \u001b[0m\u001b[1m weight  \u001b[0m\u001b[1m w_l_ratio \u001b[0m\u001b[1m Farmed  \u001b[0m\u001b[1m id    \u001b[0m\n",
       "     │\u001b[90m String31           \u001b[0m\u001b[90m Float64 \u001b[0m\u001b[90m Float64 \u001b[0m\u001b[90m Float64   \u001b[0m\u001b[90m String? \u001b[0m\u001b[90m Int64 \u001b[0m\n",
       "─────┼─────────────────────────────────────────────────────────────────\n",
       "   1 │ Anabas testudineus    10.66     3.45       0.32 \u001b[90m missing \u001b[0m     1\n",
       "   2 │ Anabas testudineus     6.91     3.27       0.47 \u001b[90m missing \u001b[0m     1\n",
       "   3 │ Anabas testudineus     8.38     3.46       0.41 \u001b[90m missing \u001b[0m     1\n",
       "   4 │ Anabas testudineus     7.57     3.36       0.44 \u001b[90m missing \u001b[0m     1\n",
       "   5 │ Anabas testudineus    10.83     3.38       0.31 \u001b[90m missing \u001b[0m     1\n",
       "   6 │ Anabas testudineus     9.35     3.28       0.35 \u001b[90m missing \u001b[0m     1\n",
       "   7 │ Anabas testudineus     9.42     3.33       0.35 \u001b[90m missing \u001b[0m     1\n",
       "   8 │ Anabas testudineus     7.92     3.13       0.39 \u001b[90m missing \u001b[0m     1\n",
       "  ⋮  │         ⋮              ⋮        ⋮         ⋮         ⋮       ⋮\n",
       " 196 │ Anabas testudineus     9.18     3.43       0.37  No           2\n",
       " 197 │ Anabas testudineus     8.64     3.38       0.39  No           2\n",
       " 198 │ Anabas testudineus     8.64     3.12       0.36  No           2\n",
       " 199 │ Anabas testudineus     7.04     3.37       0.48  No           2\n",
       " 200 │ Anabas testudineus     7.29     3.43       0.47  No           2\n",
       " 201 │ Anabas testudineus     7.46     3.31       0.44  No           2\n",
       " 202 │ Anabas testudineus     9.06     3.29       0.36  No           2\n",
       "\u001b[36m                                                       187 rows omitted\u001b[0m"
      ]
     },
     "metadata": {},
     "output_type": "display_data"
    }
   ],
   "source": [
    "vcat(fish_1,fish_2; source=:id, cols=:union)"
   ]
  },
  {
   "cell_type": "markdown",
   "metadata": {},
   "source": [
    "In the original dataframe which fish species has the largest mean `weight` and which the lowest mean `w_l_ratio`."
   ]
  },
  {
   "cell_type": "code",
   "execution_count": 8,
   "metadata": {},
   "outputs": [
    {
     "data": {
      "text/html": [
       "<p><b>GroupedDataFrame with 9 groups based on key: species</b></p><div><div style = \"float: left;\"><span>First Group (476 rows): species = &quot;Anabas testudineus&quot;</span></div><div style = \"float: right;\"><span style = \"font-style: italic;\">451 rows omitted</span></div><div style = \"clear: both;\"></div></div><div class = \"data-frame\" style = \"overflow-x: scroll;\"><table class = \"data-frame\" style = \"margin-bottom: 6px;\"><thead><tr class = \"header\"><th class = \"rowNumber\" style = \"font-weight: bold; text-align: right;\">Row</th><th style = \"text-align: left;\">species</th><th style = \"text-align: left;\">length</th><th style = \"text-align: left;\">weight</th><th style = \"text-align: left;\">w_l_ratio</th></tr><tr class = \"subheader headerLastRow\"><th class = \"rowNumber\" style = \"font-weight: bold; text-align: right;\"></th><th title = \"String31\" style = \"text-align: left;\">String31</th><th title = \"Float64\" style = \"text-align: left;\">Float64</th><th title = \"Float64\" style = \"text-align: left;\">Float64</th><th title = \"Float64\" style = \"text-align: left;\">Float64</th></tr></thead><tbody><tr><td class = \"rowNumber\" style = \"font-weight: bold; text-align: right;\">1</td><td style = \"text-align: left;\">Anabas testudineus</td><td style = \"text-align: right;\">10.66</td><td style = \"text-align: right;\">3.45</td><td style = \"text-align: right;\">0.32</td></tr><tr><td class = \"rowNumber\" style = \"font-weight: bold; text-align: right;\">2</td><td style = \"text-align: left;\">Anabas testudineus</td><td style = \"text-align: right;\">6.91</td><td style = \"text-align: right;\">3.27</td><td style = \"text-align: right;\">0.47</td></tr><tr><td class = \"rowNumber\" style = \"font-weight: bold; text-align: right;\">3</td><td style = \"text-align: left;\">Anabas testudineus</td><td style = \"text-align: right;\">8.38</td><td style = \"text-align: right;\">3.46</td><td style = \"text-align: right;\">0.41</td></tr><tr><td class = \"rowNumber\" style = \"font-weight: bold; text-align: right;\">4</td><td style = \"text-align: left;\">Anabas testudineus</td><td style = \"text-align: right;\">7.57</td><td style = \"text-align: right;\">3.36</td><td style = \"text-align: right;\">0.44</td></tr><tr><td class = \"rowNumber\" style = \"font-weight: bold; text-align: right;\">5</td><td style = \"text-align: left;\">Anabas testudineus</td><td style = \"text-align: right;\">10.83</td><td style = \"text-align: right;\">3.38</td><td style = \"text-align: right;\">0.31</td></tr><tr><td class = \"rowNumber\" style = \"font-weight: bold; text-align: right;\">6</td><td style = \"text-align: left;\">Anabas testudineus</td><td style = \"text-align: right;\">9.35</td><td style = \"text-align: right;\">3.28</td><td style = \"text-align: right;\">0.35</td></tr><tr><td class = \"rowNumber\" style = \"font-weight: bold; text-align: right;\">7</td><td style = \"text-align: left;\">Anabas testudineus</td><td style = \"text-align: right;\">9.42</td><td style = \"text-align: right;\">3.33</td><td style = \"text-align: right;\">0.35</td></tr><tr><td class = \"rowNumber\" style = \"font-weight: bold; text-align: right;\">8</td><td style = \"text-align: left;\">Anabas testudineus</td><td style = \"text-align: right;\">7.92</td><td style = \"text-align: right;\">3.13</td><td style = \"text-align: right;\">0.39</td></tr><tr><td class = \"rowNumber\" style = \"font-weight: bold; text-align: right;\">9</td><td style = \"text-align: left;\">Anabas testudineus</td><td style = \"text-align: right;\">6.98</td><td style = \"text-align: right;\">3.16</td><td style = \"text-align: right;\">0.45</td></tr><tr><td class = \"rowNumber\" style = \"font-weight: bold; text-align: right;\">10</td><td style = \"text-align: left;\">Anabas testudineus</td><td style = \"text-align: right;\">8.42</td><td style = \"text-align: right;\">3.26</td><td style = \"text-align: right;\">0.39</td></tr><tr><td class = \"rowNumber\" style = \"font-weight: bold; text-align: right;\">11</td><td style = \"text-align: left;\">Anabas testudineus</td><td style = \"text-align: right;\">8.03</td><td style = \"text-align: right;\">3.4</td><td style = \"text-align: right;\">0.42</td></tr><tr><td class = \"rowNumber\" style = \"font-weight: bold; text-align: right;\">12</td><td style = \"text-align: left;\">Anabas testudineus</td><td style = \"text-align: right;\">10.27</td><td style = \"text-align: right;\">3.16</td><td style = \"text-align: right;\">0.31</td></tr><tr><td class = \"rowNumber\" style = \"font-weight: bold; text-align: right;\">13</td><td style = \"text-align: left;\">Anabas testudineus</td><td style = \"text-align: right;\">8.43</td><td style = \"text-align: right;\">3.33</td><td style = \"text-align: right;\">0.39</td></tr><tr><td style = \"text-align: right;\">&vellip;</td><td style = \"text-align: right;\">&vellip;</td><td style = \"text-align: right;\">&vellip;</td><td style = \"text-align: right;\">&vellip;</td><td style = \"text-align: right;\">&vellip;</td></tr><tr><td class = \"rowNumber\" style = \"font-weight: bold; text-align: right;\">465</td><td style = \"text-align: left;\">Anabas testudineus</td><td style = \"text-align: right;\">6.91</td><td style = \"text-align: right;\">3.17</td><td style = \"text-align: right;\">0.46</td></tr><tr><td class = \"rowNumber\" style = \"font-weight: bold; text-align: right;\">466</td><td style = \"text-align: left;\">Anabas testudineus</td><td style = \"text-align: right;\">7.28</td><td style = \"text-align: right;\">3.08</td><td style = \"text-align: right;\">0.42</td></tr><tr><td class = \"rowNumber\" style = \"font-weight: bold; text-align: right;\">467</td><td style = \"text-align: left;\">Anabas testudineus</td><td style = \"text-align: right;\">8.35</td><td style = \"text-align: right;\">3.27</td><td style = \"text-align: right;\">0.39</td></tr><tr><td class = \"rowNumber\" style = \"font-weight: bold; text-align: right;\">468</td><td style = \"text-align: left;\">Anabas testudineus</td><td style = \"text-align: right;\">8.18</td><td style = \"text-align: right;\">3.25</td><td style = \"text-align: right;\">0.4</td></tr><tr><td class = \"rowNumber\" style = \"font-weight: bold; text-align: right;\">469</td><td style = \"text-align: left;\">Anabas testudineus</td><td style = \"text-align: right;\">6.98</td><td style = \"text-align: right;\">3.22</td><td style = \"text-align: right;\">0.46</td></tr><tr><td class = \"rowNumber\" style = \"font-weight: bold; text-align: right;\">470</td><td style = \"text-align: left;\">Anabas testudineus</td><td style = \"text-align: right;\">6.39</td><td style = \"text-align: right;\">3.37</td><td style = \"text-align: right;\">0.53</td></tr><tr><td class = \"rowNumber\" style = \"font-weight: bold; text-align: right;\">471</td><td style = \"text-align: left;\">Anabas testudineus</td><td style = \"text-align: right;\">7.34</td><td style = \"text-align: right;\">3.22</td><td style = \"text-align: right;\">0.44</td></tr><tr><td class = \"rowNumber\" style = \"font-weight: bold; text-align: right;\">472</td><td style = \"text-align: left;\">Anabas testudineus</td><td style = \"text-align: right;\">8.42</td><td style = \"text-align: right;\">3.15</td><td style = \"text-align: right;\">0.37</td></tr><tr><td class = \"rowNumber\" style = \"font-weight: bold; text-align: right;\">473</td><td style = \"text-align: left;\">Anabas testudineus</td><td style = \"text-align: right;\">7.09</td><td style = \"text-align: right;\">3.18</td><td style = \"text-align: right;\">0.45</td></tr><tr><td class = \"rowNumber\" style = \"font-weight: bold; text-align: right;\">474</td><td style = \"text-align: left;\">Anabas testudineus</td><td style = \"text-align: right;\">9.65</td><td style = \"text-align: right;\">3.24</td><td style = \"text-align: right;\">0.34</td></tr><tr><td class = \"rowNumber\" style = \"font-weight: bold; text-align: right;\">475</td><td style = \"text-align: left;\">Anabas testudineus</td><td style = \"text-align: right;\">7.37</td><td style = \"text-align: right;\">3.19</td><td style = \"text-align: right;\">0.43</td></tr><tr><td class = \"rowNumber\" style = \"font-weight: bold; text-align: right;\">476</td><td style = \"text-align: left;\">Anabas testudineus</td><td style = \"text-align: right;\">9.12</td><td style = \"text-align: right;\">3.08</td><td style = \"text-align: right;\">0.34</td></tr></tbody></table></div><p>&vellip;</p><div><div style = \"float: left;\"><span>Last Group (455 rows): species = &quot;Sillaginopsis panijus&quot;</span></div><div style = \"float: right;\"><span style = \"font-style: italic;\">430 rows omitted</span></div><div style = \"clear: both;\"></div></div><div class = \"data-frame\" style = \"overflow-x: scroll;\"><table class = \"data-frame\" style = \"margin-bottom: 6px;\"><thead><tr class = \"header\"><th class = \"rowNumber\" style = \"font-weight: bold; text-align: right;\">Row</th><th style = \"text-align: left;\">species</th><th style = \"text-align: left;\">length</th><th style = \"text-align: left;\">weight</th><th style = \"text-align: left;\">w_l_ratio</th></tr><tr class = \"subheader headerLastRow\"><th class = \"rowNumber\" style = \"font-weight: bold; text-align: right;\"></th><th title = \"String31\" style = \"text-align: left;\">String31</th><th title = \"Float64\" style = \"text-align: left;\">Float64</th><th title = \"Float64\" style = \"text-align: left;\">Float64</th><th title = \"Float64\" style = \"text-align: left;\">Float64</th></tr></thead><tbody><tr><td class = \"rowNumber\" style = \"font-weight: bold; text-align: right;\">1</td><td style = \"text-align: left;\">Sillaginopsis panijus</td><td style = \"text-align: right;\">32.52</td><td style = \"text-align: right;\">6.23</td><td style = \"text-align: right;\">0.19</td></tr><tr><td class = \"rowNumber\" style = \"font-weight: bold; text-align: right;\">2</td><td style = \"text-align: left;\">Sillaginopsis panijus</td><td style = \"text-align: right;\">30.18</td><td style = \"text-align: right;\">6.13</td><td style = \"text-align: right;\">0.2</td></tr><tr><td class = \"rowNumber\" style = \"font-weight: bold; text-align: right;\">3</td><td style = \"text-align: left;\">Sillaginopsis panijus</td><td style = \"text-align: right;\">28.61</td><td style = \"text-align: right;\">6.04</td><td style = \"text-align: right;\">0.21</td></tr><tr><td class = \"rowNumber\" style = \"font-weight: bold; text-align: right;\">4</td><td style = \"text-align: left;\">Sillaginopsis panijus</td><td style = \"text-align: right;\">28.38</td><td style = \"text-align: right;\">6.08</td><td style = \"text-align: right;\">0.21</td></tr><tr><td class = \"rowNumber\" style = \"font-weight: bold; text-align: right;\">5</td><td style = \"text-align: left;\">Sillaginopsis panijus</td><td style = \"text-align: right;\">30.09</td><td style = \"text-align: right;\">6.09</td><td style = \"text-align: right;\">0.2</td></tr><tr><td class = \"rowNumber\" style = \"font-weight: bold; text-align: right;\">6</td><td style = \"text-align: left;\">Sillaginopsis panijus</td><td style = \"text-align: right;\">31.94</td><td style = \"text-align: right;\">6.15</td><td style = \"text-align: right;\">0.19</td></tr><tr><td class = \"rowNumber\" style = \"font-weight: bold; text-align: right;\">7</td><td style = \"text-align: left;\">Sillaginopsis panijus</td><td style = \"text-align: right;\">31.9</td><td style = \"text-align: right;\">6.15</td><td style = \"text-align: right;\">0.19</td></tr><tr><td class = \"rowNumber\" style = \"font-weight: bold; text-align: right;\">8</td><td style = \"text-align: left;\">Sillaginopsis panijus</td><td style = \"text-align: right;\">28.14</td><td style = \"text-align: right;\">6.05</td><td style = \"text-align: right;\">0.22</td></tr><tr><td class = \"rowNumber\" style = \"font-weight: bold; text-align: right;\">9</td><td style = \"text-align: left;\">Sillaginopsis panijus</td><td style = \"text-align: right;\">31.92</td><td style = \"text-align: right;\">6.19</td><td style = \"text-align: right;\">0.19</td></tr><tr><td class = \"rowNumber\" style = \"font-weight: bold; text-align: right;\">10</td><td style = \"text-align: left;\">Sillaginopsis panijus</td><td style = \"text-align: right;\">33.85</td><td style = \"text-align: right;\">6.27</td><td style = \"text-align: right;\">0.19</td></tr><tr><td class = \"rowNumber\" style = \"font-weight: bold; text-align: right;\">11</td><td style = \"text-align: left;\">Sillaginopsis panijus</td><td style = \"text-align: right;\">28.27</td><td style = \"text-align: right;\">6.03</td><td style = \"text-align: right;\">0.21</td></tr><tr><td class = \"rowNumber\" style = \"font-weight: bold; text-align: right;\">12</td><td style = \"text-align: left;\">Sillaginopsis panijus</td><td style = \"text-align: right;\">28.64</td><td style = \"text-align: right;\">6.09</td><td style = \"text-align: right;\">0.21</td></tr><tr><td class = \"rowNumber\" style = \"font-weight: bold; text-align: right;\">13</td><td style = \"text-align: left;\">Sillaginopsis panijus</td><td style = \"text-align: right;\">32.11</td><td style = \"text-align: right;\">6.17</td><td style = \"text-align: right;\">0.19</td></tr><tr><td style = \"text-align: right;\">&vellip;</td><td style = \"text-align: right;\">&vellip;</td><td style = \"text-align: right;\">&vellip;</td><td style = \"text-align: right;\">&vellip;</td><td style = \"text-align: right;\">&vellip;</td></tr><tr><td class = \"rowNumber\" style = \"font-weight: bold; text-align: right;\">444</td><td style = \"text-align: left;\">Sillaginopsis panijus</td><td style = \"text-align: right;\">31.73</td><td style = \"text-align: right;\">6.16</td><td style = \"text-align: right;\">0.19</td></tr><tr><td class = \"rowNumber\" style = \"font-weight: bold; text-align: right;\">445</td><td style = \"text-align: left;\">Sillaginopsis panijus</td><td style = \"text-align: right;\">29.28</td><td style = \"text-align: right;\">6.1</td><td style = \"text-align: right;\">0.21</td></tr><tr><td class = \"rowNumber\" style = \"font-weight: bold; text-align: right;\">446</td><td style = \"text-align: left;\">Sillaginopsis panijus</td><td style = \"text-align: right;\">30.84</td><td style = \"text-align: right;\">6.14</td><td style = \"text-align: right;\">0.2</td></tr><tr><td class = \"rowNumber\" style = \"font-weight: bold; text-align: right;\">447</td><td style = \"text-align: left;\">Sillaginopsis panijus</td><td style = \"text-align: right;\">31.46</td><td style = \"text-align: right;\">6.14</td><td style = \"text-align: right;\">0.2</td></tr><tr><td class = \"rowNumber\" style = \"font-weight: bold; text-align: right;\">448</td><td style = \"text-align: left;\">Sillaginopsis panijus</td><td style = \"text-align: right;\">32.27</td><td style = \"text-align: right;\">6.2</td><td style = \"text-align: right;\">0.19</td></tr><tr><td class = \"rowNumber\" style = \"font-weight: bold; text-align: right;\">449</td><td style = \"text-align: left;\">Sillaginopsis panijus</td><td style = \"text-align: right;\">30.56</td><td style = \"text-align: right;\">6.11</td><td style = \"text-align: right;\">0.2</td></tr><tr><td class = \"rowNumber\" style = \"font-weight: bold; text-align: right;\">450</td><td style = \"text-align: left;\">Sillaginopsis panijus</td><td style = \"text-align: right;\">30.61</td><td style = \"text-align: right;\">6.08</td><td style = \"text-align: right;\">0.2</td></tr><tr><td class = \"rowNumber\" style = \"font-weight: bold; text-align: right;\">451</td><td style = \"text-align: left;\">Sillaginopsis panijus</td><td style = \"text-align: right;\">30.56</td><td style = \"text-align: right;\">6.12</td><td style = \"text-align: right;\">0.2</td></tr><tr><td class = \"rowNumber\" style = \"font-weight: bold; text-align: right;\">452</td><td style = \"text-align: left;\">Sillaginopsis panijus</td><td style = \"text-align: right;\">29.66</td><td style = \"text-align: right;\">6.11</td><td style = \"text-align: right;\">0.21</td></tr><tr><td class = \"rowNumber\" style = \"font-weight: bold; text-align: right;\">453</td><td style = \"text-align: left;\">Sillaginopsis panijus</td><td style = \"text-align: right;\">32.81</td><td style = \"text-align: right;\">6.25</td><td style = \"text-align: right;\">0.19</td></tr><tr><td class = \"rowNumber\" style = \"font-weight: bold; text-align: right;\">454</td><td style = \"text-align: left;\">Sillaginopsis panijus</td><td style = \"text-align: right;\">29.78</td><td style = \"text-align: right;\">6.11</td><td style = \"text-align: right;\">0.21</td></tr><tr><td class = \"rowNumber\" style = \"font-weight: bold; text-align: right;\">455</td><td style = \"text-align: left;\">Sillaginopsis panijus</td><td style = \"text-align: right;\">31.62</td><td style = \"text-align: right;\">6.14</td><td style = \"text-align: right;\">0.19</td></tr></tbody></table></div>"
      ],
      "text/latex": [
       "GroupedDataFrame with 9 groups based on key: species\n",
       "\n",
       "First Group (476 rows): species = \"Anabas testudineus\"\n",
       "\n",
       "\\begin{tabular}{r|cccc}\n",
       "\t& species & length & weight & w\\_l\\_ratio\\\\\n",
       "\t\\hline\n",
       "\t& String31 & Float64 & Float64 & Float64\\\\\n",
       "\t\\hline\n",
       "\t1 & Anabas testudineus & 10.66 & 3.45 & 0.32 \\\\\n",
       "\t2 & Anabas testudineus & 6.91 & 3.27 & 0.47 \\\\\n",
       "\t3 & Anabas testudineus & 8.38 & 3.46 & 0.41 \\\\\n",
       "\t4 & Anabas testudineus & 7.57 & 3.36 & 0.44 \\\\\n",
       "\t5 & Anabas testudineus & 10.83 & 3.38 & 0.31 \\\\\n",
       "\t6 & Anabas testudineus & 9.35 & 3.28 & 0.35 \\\\\n",
       "\t7 & Anabas testudineus & 9.42 & 3.33 & 0.35 \\\\\n",
       "\t8 & Anabas testudineus & 7.92 & 3.13 & 0.39 \\\\\n",
       "\t9 & Anabas testudineus & 6.98 & 3.16 & 0.45 \\\\\n",
       "\t10 & Anabas testudineus & 8.42 & 3.26 & 0.39 \\\\\n",
       "\t11 & Anabas testudineus & 8.03 & 3.4 & 0.42 \\\\\n",
       "\t12 & Anabas testudineus & 10.27 & 3.16 & 0.31 \\\\\n",
       "\t13 & Anabas testudineus & 8.43 & 3.33 & 0.39 \\\\\n",
       "\t14 & Anabas testudineus & 7.0 & 3.2 & 0.46 \\\\\n",
       "\t15 & Anabas testudineus & 7.46 & 3.25 & 0.44 \\\\\n",
       "\t16 & Anabas testudineus & 9.41 & 3.21 & 0.34 \\\\\n",
       "\t17 & Anabas testudineus & 6.64 & 3.2 & 0.48 \\\\\n",
       "\t18 & Anabas testudineus & 8.17 & 3.3 & 0.4 \\\\\n",
       "\t19 & Anabas testudineus & 8.85 & 3.07 & 0.35 \\\\\n",
       "\t20 & Anabas testudineus & 7.83 & 3.16 & 0.4 \\\\\n",
       "\t21 & Anabas testudineus & 10.19 & 3.24 & 0.32 \\\\\n",
       "\t22 & Anabas testudineus & 9.21 & 3.36 & 0.36 \\\\\n",
       "\t23 & Anabas testudineus & 6.67 & 3.31 & 0.5 \\\\\n",
       "\t24 & Anabas testudineus & 8.25 & 3.32 & 0.4 \\\\\n",
       "\t$\\dots$ & $\\dots$ & $\\dots$ & $\\dots$ & $\\dots$ \\\\\n",
       "\\end{tabular}\n",
       "\n",
       "$\\dots$\n",
       "\n",
       "Last Group (455 rows): species = \"Sillaginopsis panijus\"\n",
       "\n",
       "\\begin{tabular}{r|cccc}\n",
       "\t& species & length & weight & w\\_l\\_ratio\\\\\n",
       "\t\\hline\n",
       "\t& String31 & Float64 & Float64 & Float64\\\\\n",
       "\t\\hline\n",
       "\t1 & Sillaginopsis panijus & 32.52 & 6.23 & 0.19 \\\\\n",
       "\t2 & Sillaginopsis panijus & 30.18 & 6.13 & 0.2 \\\\\n",
       "\t3 & Sillaginopsis panijus & 28.61 & 6.04 & 0.21 \\\\\n",
       "\t4 & Sillaginopsis panijus & 28.38 & 6.08 & 0.21 \\\\\n",
       "\t5 & Sillaginopsis panijus & 30.09 & 6.09 & 0.2 \\\\\n",
       "\t6 & Sillaginopsis panijus & 31.94 & 6.15 & 0.19 \\\\\n",
       "\t7 & Sillaginopsis panijus & 31.9 & 6.15 & 0.19 \\\\\n",
       "\t8 & Sillaginopsis panijus & 28.14 & 6.05 & 0.22 \\\\\n",
       "\t9 & Sillaginopsis panijus & 31.92 & 6.19 & 0.19 \\\\\n",
       "\t10 & Sillaginopsis panijus & 33.85 & 6.27 & 0.19 \\\\\n",
       "\t11 & Sillaginopsis panijus & 28.27 & 6.03 & 0.21 \\\\\n",
       "\t12 & Sillaginopsis panijus & 28.64 & 6.09 & 0.21 \\\\\n",
       "\t13 & Sillaginopsis panijus & 32.11 & 6.17 & 0.19 \\\\\n",
       "\t14 & Sillaginopsis panijus & 31.87 & 6.15 & 0.19 \\\\\n",
       "\t15 & Sillaginopsis panijus & 28.69 & 6.08 & 0.21 \\\\\n",
       "\t16 & Sillaginopsis panijus & 28.31 & 6.06 & 0.21 \\\\\n",
       "\t17 & Sillaginopsis panijus & 31.71 & 6.17 & 0.19 \\\\\n",
       "\t18 & Sillaginopsis panijus & 29.89 & 6.1 & 0.2 \\\\\n",
       "\t19 & Sillaginopsis panijus & 30.46 & 6.13 & 0.2 \\\\\n",
       "\t20 & Sillaginopsis panijus & 29.5 & 6.16 & 0.21 \\\\\n",
       "\t21 & Sillaginopsis panijus & 31.42 & 6.13 & 0.2 \\\\\n",
       "\t22 & Sillaginopsis panijus & 31.24 & 6.14 & 0.2 \\\\\n",
       "\t23 & Sillaginopsis panijus & 29.54 & 6.11 & 0.21 \\\\\n",
       "\t24 & Sillaginopsis panijus & 32.48 & 6.18 & 0.19 \\\\\n",
       "\t$\\dots$ & $\\dots$ & $\\dots$ & $\\dots$ & $\\dots$ \\\\\n",
       "\\end{tabular}\n"
      ],
      "text/plain": [
       "GroupedDataFrame with 9 groups based on key: species\n",
       "First Group (476 rows): species = \"Anabas testudineus\"\n",
       "\u001b[1m Row \u001b[0m│\u001b[1m species            \u001b[0m\u001b[1m length  \u001b[0m\u001b[1m weight  \u001b[0m\u001b[1m w_l_ratio \u001b[0m\n",
       "     │\u001b[90m String31           \u001b[0m\u001b[90m Float64 \u001b[0m\u001b[90m Float64 \u001b[0m\u001b[90m Float64   \u001b[0m\n",
       "─────┼─────────────────────────────────────────────────\n",
       "   1 │ Anabas testudineus    10.66     3.45       0.32\n",
       "   2 │ Anabas testudineus     6.91     3.27       0.47\n",
       "  ⋮  │         ⋮              ⋮        ⋮         ⋮\n",
       " 475 │ Anabas testudineus     7.37     3.19       0.43\n",
       " 476 │ Anabas testudineus     9.12     3.08       0.34\n",
       "\u001b[36m                                       472 rows omitted\u001b[0m\n",
       "⋮\n",
       "Last Group (455 rows): species = \"Sillaginopsis panijus\"\n",
       "\u001b[1m Row \u001b[0m│\u001b[1m species               \u001b[0m\u001b[1m length  \u001b[0m\u001b[1m weight  \u001b[0m\u001b[1m w_l_ratio \u001b[0m\n",
       "     │\u001b[90m String31              \u001b[0m\u001b[90m Float64 \u001b[0m\u001b[90m Float64 \u001b[0m\u001b[90m Float64   \u001b[0m\n",
       "─────┼────────────────────────────────────────────────────\n",
       "   1 │ Sillaginopsis panijus    32.52     6.23       0.19\n",
       "   2 │ Sillaginopsis panijus    30.18     6.13       0.2\n",
       "  ⋮  │           ⋮               ⋮        ⋮         ⋮\n",
       " 455 │ Sillaginopsis panijus    31.62     6.14       0.19\n",
       "\u001b[36m                                          452 rows omitted\u001b[0m"
      ]
     },
     "metadata": {},
     "output_type": "display_data"
    }
   ],
   "source": [
    "grp_fish = groupby(fish_data, :species)"
   ]
  },
  {
   "cell_type": "code",
   "execution_count": 9,
   "metadata": {},
   "outputs": [
    {
     "data": {
      "text/html": [
       "<div><div style = \"float: left;\"><span>9×3 DataFrame</span></div><div style = \"clear: both;\"></div></div><div class = \"data-frame\" style = \"overflow-x: scroll;\"><table class = \"data-frame\" style = \"margin-bottom: 6px;\"><thead><tr class = \"header\"><th class = \"rowNumber\" style = \"font-weight: bold; text-align: right;\">Row</th><th style = \"text-align: left;\">species</th><th style = \"text-align: left;\">mean_weight_species</th><th style = \"text-align: left;\">mean_w_l_ratio</th></tr><tr class = \"subheader headerLastRow\"><th class = \"rowNumber\" style = \"font-weight: bold; text-align: right;\"></th><th title = \"String31\" style = \"text-align: left;\">String31</th><th title = \"Float64\" style = \"text-align: left;\">Float64</th><th title = \"Float64\" style = \"text-align: left;\">Float64</th></tr></thead><tbody><tr><td class = \"rowNumber\" style = \"font-weight: bold; text-align: right;\">1</td><td style = \"text-align: left;\">Anabas testudineus</td><td style = \"text-align: right;\">3.27124</td><td style = \"text-align: right;\">0.406176</td></tr><tr><td class = \"rowNumber\" style = \"font-weight: bold; text-align: right;\">2</td><td style = \"text-align: left;\">Coilia dussumieri</td><td style = \"text-align: right;\">2.74771</td><td style = \"text-align: right;\">0.112988</td></tr><tr><td class = \"rowNumber\" style = \"font-weight: bold; text-align: right;\">3</td><td style = \"text-align: left;\">Otolithoides biauritus</td><td style = \"text-align: right;\">3.19835</td><td style = \"text-align: right;\">0.173013</td></tr><tr><td class = \"rowNumber\" style = \"font-weight: bold; text-align: right;\">4</td><td style = \"text-align: left;\">Otolithoides pama</td><td style = \"text-align: right;\">3.84956</td><td style = \"text-align: right;\">0.177149</td></tr><tr><td class = \"rowNumber\" style = \"font-weight: bold; text-align: right;\">5</td><td style = \"text-align: left;\">Pethia conchonius</td><td style = \"text-align: right;\">4.58545</td><td style = \"text-align: right;\">0.485747</td></tr><tr><td class = \"rowNumber\" style = \"font-weight: bold; text-align: right;\">6</td><td style = \"text-align: left;\">Polynemus paradiseus</td><td style = \"text-align: right;\">3.98978</td><td style = \"text-align: right;\">0.313231</td></tr><tr><td class = \"rowNumber\" style = \"font-weight: bold; text-align: right;\">7</td><td style = \"text-align: left;\">Puntius lateristriga</td><td style = \"text-align: right;\">2.6328</td><td style = \"text-align: right;\">0.203254</td></tr><tr><td class = \"rowNumber\" style = \"font-weight: bold; text-align: right;\">8</td><td style = \"text-align: left;\">Setipinna taty</td><td style = \"text-align: right;\">3.10175</td><td style = \"text-align: right;\">0.174438</td></tr><tr><td class = \"rowNumber\" style = \"font-weight: bold; text-align: right;\">9</td><td style = \"text-align: left;\">Sillaginopsis panijus</td><td style = \"text-align: right;\">6.14314</td><td style = \"text-align: right;\">0.198264</td></tr></tbody></table></div>"
      ],
      "text/latex": [
       "\\begin{tabular}{r|ccc}\n",
       "\t& species & mean\\_weight\\_species & mean\\_w\\_l\\_ratio\\\\\n",
       "\t\\hline\n",
       "\t& String31 & Float64 & Float64\\\\\n",
       "\t\\hline\n",
       "\t1 & Anabas testudineus & 3.27124 & 0.406176 \\\\\n",
       "\t2 & Coilia dussumieri & 2.74771 & 0.112988 \\\\\n",
       "\t3 & Otolithoides biauritus & 3.19835 & 0.173013 \\\\\n",
       "\t4 & Otolithoides pama & 3.84956 & 0.177149 \\\\\n",
       "\t5 & Pethia conchonius & 4.58545 & 0.485747 \\\\\n",
       "\t6 & Polynemus paradiseus & 3.98978 & 0.313231 \\\\\n",
       "\t7 & Puntius lateristriga & 2.6328 & 0.203254 \\\\\n",
       "\t8 & Setipinna taty & 3.10175 & 0.174438 \\\\\n",
       "\t9 & Sillaginopsis panijus & 6.14314 & 0.198264 \\\\\n",
       "\\end{tabular}\n"
      ],
      "text/plain": [
       "\u001b[1m9×3 DataFrame\u001b[0m\n",
       "\u001b[1m Row \u001b[0m│\u001b[1m species                \u001b[0m\u001b[1m mean_weight_species \u001b[0m\u001b[1m mean_w_l_ratio \u001b[0m\n",
       "     │\u001b[90m String31               \u001b[0m\u001b[90m Float64             \u001b[0m\u001b[90m Float64        \u001b[0m\n",
       "─────┼─────────────────────────────────────────────────────────────\n",
       "   1 │ Anabas testudineus                  3.27124        0.406176\n",
       "   2 │ Coilia dussumieri                   2.74771        0.112988\n",
       "   3 │ Otolithoides biauritus              3.19835        0.173013\n",
       "   4 │ Otolithoides pama                   3.84956        0.177149\n",
       "   5 │ Pethia conchonius                   4.58545        0.485747\n",
       "   6 │ Polynemus paradiseus                3.98978        0.313231\n",
       "   7 │ Puntius lateristriga                2.6328         0.203254\n",
       "   8 │ Setipinna taty                      3.10175        0.174438\n",
       "   9 │ Sillaginopsis panijus               6.14314        0.198264"
      ]
     },
     "metadata": {},
     "output_type": "display_data"
    }
   ],
   "source": [
    "summary_fish_species = combine(grp_fish, \n",
    "    [:weight => mean => :mean_weight_species, :w_l_ratio => mean => :mean_w_l_ratio])"
   ]
  },
  {
   "cell_type": "code",
   "execution_count": 10,
   "metadata": {},
   "outputs": [
    {
     "data": {
      "text/html": [
       "<div><div style = \"float: left;\"><span>DataFrameRow (3 columns)</span></div><div style = \"clear: both;\"></div></div><div class = \"data-frame\" style = \"overflow-x: scroll;\"><table class = \"data-frame\" style = \"margin-bottom: 6px;\"><thead><tr class = \"header\"><th class = \"rowLabel\" style = \"font-weight: bold; text-align: right;\">Row</th><th style = \"text-align: left;\">species</th><th style = \"text-align: left;\">mean_weight_species</th><th style = \"text-align: left;\">mean_w_l_ratio</th></tr><tr class = \"subheader headerLastRow\"><th class = \"rowLabel\" style = \"font-weight: bold; text-align: right;\"></th><th title = \"String31\" style = \"text-align: left;\">String31</th><th title = \"Float64\" style = \"text-align: left;\">Float64</th><th title = \"Float64\" style = \"text-align: left;\">Float64</th></tr></thead><tbody><tr><td class = \"rowLabel\" style = \"font-weight: bold; text-align: right;\">9</td><td style = \"text-align: left;\">Sillaginopsis panijus</td><td style = \"text-align: right;\">6.14314</td><td style = \"text-align: right;\">0.198264</td></tr></tbody></table></div>"
      ],
      "text/latex": [
       "\\begin{tabular}{r|ccc}\n",
       "\t& species & mean\\_weight\\_species & mean\\_w\\_l\\_ratio\\\\\n",
       "\t\\hline\n",
       "\t& String31 & Float64 & Float64\\\\\n",
       "\t\\hline\n",
       "\t9 & Sillaginopsis panijus & 6.14314 & 0.198264 \\\\\n",
       "\\end{tabular}\n"
      ],
      "text/plain": [
       "\u001b[1mDataFrameRow\u001b[0m\n",
       "\u001b[1m Row \u001b[0m│\u001b[1m species               \u001b[0m\u001b[1m mean_weight_species \u001b[0m\u001b[1m mean_w_l_ratio \u001b[0m\n",
       "     │\u001b[90m String31              \u001b[0m\u001b[90m Float64             \u001b[0m\u001b[90m Float64        \u001b[0m\n",
       "─────┼────────────────────────────────────────────────────────────\n",
       "   9 │ Sillaginopsis panijus              6.14314        0.198264"
      ]
     },
     "metadata": {},
     "output_type": "display_data"
    }
   ],
   "source": [
    "summary_fish_species[findmax(summary_fish_species.mean_weight_species)[2],:]"
   ]
  },
  {
   "cell_type": "code",
   "execution_count": 11,
   "metadata": {},
   "outputs": [
    {
     "data": {
      "text/html": [
       "<div><div style = \"float: left;\"><span>DataFrameRow (3 columns)</span></div><div style = \"clear: both;\"></div></div><div class = \"data-frame\" style = \"overflow-x: scroll;\"><table class = \"data-frame\" style = \"margin-bottom: 6px;\"><thead><tr class = \"header\"><th class = \"rowLabel\" style = \"font-weight: bold; text-align: right;\">Row</th><th style = \"text-align: left;\">species</th><th style = \"text-align: left;\">mean_weight_species</th><th style = \"text-align: left;\">mean_w_l_ratio</th></tr><tr class = \"subheader headerLastRow\"><th class = \"rowLabel\" style = \"font-weight: bold; text-align: right;\"></th><th title = \"String31\" style = \"text-align: left;\">String31</th><th title = \"Float64\" style = \"text-align: left;\">Float64</th><th title = \"Float64\" style = \"text-align: left;\">Float64</th></tr></thead><tbody><tr><td class = \"rowLabel\" style = \"font-weight: bold; text-align: right;\">2</td><td style = \"text-align: left;\">Coilia dussumieri</td><td style = \"text-align: right;\">2.74771</td><td style = \"text-align: right;\">0.112988</td></tr></tbody></table></div>"
      ],
      "text/latex": [
       "\\begin{tabular}{r|ccc}\n",
       "\t& species & mean\\_weight\\_species & mean\\_w\\_l\\_ratio\\\\\n",
       "\t\\hline\n",
       "\t& String31 & Float64 & Float64\\\\\n",
       "\t\\hline\n",
       "\t2 & Coilia dussumieri & 2.74771 & 0.112988 \\\\\n",
       "\\end{tabular}\n"
      ],
      "text/plain": [
       "\u001b[1mDataFrameRow\u001b[0m\n",
       "\u001b[1m Row \u001b[0m│\u001b[1m species           \u001b[0m\u001b[1m mean_weight_species \u001b[0m\u001b[1m mean_w_l_ratio \u001b[0m\n",
       "     │\u001b[90m String31          \u001b[0m\u001b[90m Float64             \u001b[0m\u001b[90m Float64        \u001b[0m\n",
       "─────┼────────────────────────────────────────────────────────\n",
       "   2 │ Coilia dussumieri              2.74771        0.112988"
      ]
     },
     "metadata": {},
     "output_type": "display_data"
    }
   ],
   "source": [
    "summary_fish_species[findmin(summary_fish_species.mean_w_l_ratio)[2],:]"
   ]
  },
  {
   "cell_type": "markdown",
   "metadata": {},
   "source": [
    "### Exercise 2"
   ]
  },
  {
   "cell_type": "markdown",
   "metadata": {},
   "source": [
    "We will work with the `StudentPerformaceFactors.csv` dataset from https://www.kaggle.com/datasets/lainguyn123/student-performance-factors. The file is already available in the `Day3` folder."
   ]
  },
  {
   "cell_type": "markdown",
   "metadata": {},
   "source": [
    "* Create a GroupedDataFrame object for the different `Family_Income`. How many groups are there? Access the 2nd group. How many records it has?\n",
    "* Estimate the mean `Exam_Score` for females and males together with the accompanying variance.\n",
    "* Accomplish the same by this time using the DataFramesMeta syntax.\n",
    "* Find the coefficient of variation of the `Exam_Score` from females and males of equal motivation levels. The coefficient of variation is the ratio between the standard deviation and the mean.\n",
    "* Group by `Parental_Involvement` and `Family_Income` and find the minimum and maximum `Exam_Score` of each subcategory."
   ]
  },
  {
   "cell_type": "code",
   "execution_count": 12,
   "metadata": {},
   "outputs": [
    {
     "data": {
      "text/html": [
       "<div><div style = \"float: left;\"><span>6607×20 DataFrame</span></div><div style = \"float: right;\"><span style = \"font-style: italic;\">6582 rows omitted</span></div><div style = \"clear: both;\"></div></div><div class = \"data-frame\" style = \"overflow-x: scroll;\"><table class = \"data-frame\" style = \"margin-bottom: 6px;\"><thead><tr class = \"header\"><th class = \"rowNumber\" style = \"font-weight: bold; text-align: right;\">Row</th><th style = \"text-align: left;\">Hours_Studied</th><th style = \"text-align: left;\">Attendance</th><th style = \"text-align: left;\">Parental_Involvement</th><th style = \"text-align: left;\">Access_to_Resources</th><th style = \"text-align: left;\">Extracurricular_Activities</th><th style = \"text-align: left;\">Sleep_Hours</th><th style = \"text-align: left;\">Previous_Scores</th><th style = \"text-align: left;\">Motivation_Level</th><th style = \"text-align: left;\">Internet_Access</th><th style = \"text-align: left;\">Tutoring_Sessions</th><th style = \"text-align: left;\">Family_Income</th><th style = \"text-align: left;\">Teacher_Quality</th><th style = \"text-align: left;\">School_Type</th><th style = \"text-align: left;\">Peer_Influence</th><th style = \"text-align: left;\">Physical_Activity</th><th style = \"text-align: left;\">Learning_Disabilities</th><th style = \"text-align: left;\">Parental_Education_Level</th><th style = \"text-align: left;\">Distance_from_Home</th><th style = \"text-align: left;\">Gender</th><th style = \"text-align: left;\">Exam_Score</th></tr><tr class = \"subheader headerLastRow\"><th class = \"rowNumber\" style = \"font-weight: bold; text-align: right;\"></th><th title = \"Int64\" style = \"text-align: left;\">Int64</th><th title = \"Int64\" style = \"text-align: left;\">Int64</th><th title = \"String7\" style = \"text-align: left;\">String7</th><th title = \"String7\" style = \"text-align: left;\">String7</th><th title = \"String3\" style = \"text-align: left;\">String3</th><th title = \"Int64\" style = \"text-align: left;\">Int64</th><th title = \"Int64\" style = \"text-align: left;\">Int64</th><th title = \"String7\" style = \"text-align: left;\">String7</th><th title = \"String3\" style = \"text-align: left;\">String3</th><th title = \"Int64\" style = \"text-align: left;\">Int64</th><th title = \"String7\" style = \"text-align: left;\">String7</th><th title = \"Union{Missing, String7}\" style = \"text-align: left;\">String7?</th><th title = \"String7\" style = \"text-align: left;\">String7</th><th title = \"String15\" style = \"text-align: left;\">String15</th><th title = \"Int64\" style = \"text-align: left;\">Int64</th><th title = \"String3\" style = \"text-align: left;\">String3</th><th title = \"Union{Missing, String15}\" style = \"text-align: left;\">String15?</th><th title = \"Union{Missing, String15}\" style = \"text-align: left;\">String15?</th><th title = \"String7\" style = \"text-align: left;\">String7</th><th title = \"Int64\" style = \"text-align: left;\">Int64</th></tr></thead><tbody><tr><td class = \"rowNumber\" style = \"font-weight: bold; text-align: right;\">1</td><td style = \"text-align: right;\">23</td><td style = \"text-align: right;\">84</td><td style = \"text-align: left;\">Low</td><td style = \"text-align: left;\">High</td><td style = \"text-align: left;\">No</td><td style = \"text-align: right;\">7</td><td style = \"text-align: right;\">73</td><td style = \"text-align: left;\">Low</td><td style = \"text-align: left;\">Yes</td><td style = \"text-align: right;\">0</td><td style = \"text-align: left;\">Low</td><td style = \"text-align: left;\">Medium</td><td style = \"text-align: left;\">Public</td><td style = \"text-align: left;\">Positive</td><td style = \"text-align: right;\">3</td><td style = \"text-align: left;\">No</td><td style = \"text-align: left;\">High School</td><td style = \"text-align: left;\">Near</td><td style = \"text-align: left;\">Male</td><td style = \"text-align: right;\">67</td></tr><tr><td class = \"rowNumber\" style = \"font-weight: bold; text-align: right;\">2</td><td style = \"text-align: right;\">19</td><td style = \"text-align: right;\">64</td><td style = \"text-align: left;\">Low</td><td style = \"text-align: left;\">Medium</td><td style = \"text-align: left;\">No</td><td style = \"text-align: right;\">8</td><td style = \"text-align: right;\">59</td><td style = \"text-align: left;\">Low</td><td style = \"text-align: left;\">Yes</td><td style = \"text-align: right;\">2</td><td style = \"text-align: left;\">Medium</td><td style = \"text-align: left;\">Medium</td><td style = \"text-align: left;\">Public</td><td style = \"text-align: left;\">Negative</td><td style = \"text-align: right;\">4</td><td style = \"text-align: left;\">No</td><td style = \"text-align: left;\">College</td><td style = \"text-align: left;\">Moderate</td><td style = \"text-align: left;\">Female</td><td style = \"text-align: right;\">61</td></tr><tr><td class = \"rowNumber\" style = \"font-weight: bold; text-align: right;\">3</td><td style = \"text-align: right;\">24</td><td style = \"text-align: right;\">98</td><td style = \"text-align: left;\">Medium</td><td style = \"text-align: left;\">Medium</td><td style = \"text-align: left;\">Yes</td><td style = \"text-align: right;\">7</td><td style = \"text-align: right;\">91</td><td style = \"text-align: left;\">Medium</td><td style = \"text-align: left;\">Yes</td><td style = \"text-align: right;\">2</td><td style = \"text-align: left;\">Medium</td><td style = \"text-align: left;\">Medium</td><td style = \"text-align: left;\">Public</td><td style = \"text-align: left;\">Neutral</td><td style = \"text-align: right;\">4</td><td style = \"text-align: left;\">No</td><td style = \"text-align: left;\">Postgraduate</td><td style = \"text-align: left;\">Near</td><td style = \"text-align: left;\">Male</td><td style = \"text-align: right;\">74</td></tr><tr><td class = \"rowNumber\" style = \"font-weight: bold; text-align: right;\">4</td><td style = \"text-align: right;\">29</td><td style = \"text-align: right;\">89</td><td style = \"text-align: left;\">Low</td><td style = \"text-align: left;\">Medium</td><td style = \"text-align: left;\">Yes</td><td style = \"text-align: right;\">8</td><td style = \"text-align: right;\">98</td><td style = \"text-align: left;\">Medium</td><td style = \"text-align: left;\">Yes</td><td style = \"text-align: right;\">1</td><td style = \"text-align: left;\">Medium</td><td style = \"text-align: left;\">Medium</td><td style = \"text-align: left;\">Public</td><td style = \"text-align: left;\">Negative</td><td style = \"text-align: right;\">4</td><td style = \"text-align: left;\">No</td><td style = \"text-align: left;\">High School</td><td style = \"text-align: left;\">Moderate</td><td style = \"text-align: left;\">Male</td><td style = \"text-align: right;\">71</td></tr><tr><td class = \"rowNumber\" style = \"font-weight: bold; text-align: right;\">5</td><td style = \"text-align: right;\">19</td><td style = \"text-align: right;\">92</td><td style = \"text-align: left;\">Medium</td><td style = \"text-align: left;\">Medium</td><td style = \"text-align: left;\">Yes</td><td style = \"text-align: right;\">6</td><td style = \"text-align: right;\">65</td><td style = \"text-align: left;\">Medium</td><td style = \"text-align: left;\">Yes</td><td style = \"text-align: right;\">3</td><td style = \"text-align: left;\">Medium</td><td style = \"text-align: left;\">High</td><td style = \"text-align: left;\">Public</td><td style = \"text-align: left;\">Neutral</td><td style = \"text-align: right;\">4</td><td style = \"text-align: left;\">No</td><td style = \"text-align: left;\">College</td><td style = \"text-align: left;\">Near</td><td style = \"text-align: left;\">Female</td><td style = \"text-align: right;\">70</td></tr><tr><td class = \"rowNumber\" style = \"font-weight: bold; text-align: right;\">6</td><td style = \"text-align: right;\">19</td><td style = \"text-align: right;\">88</td><td style = \"text-align: left;\">Medium</td><td style = \"text-align: left;\">Medium</td><td style = \"text-align: left;\">Yes</td><td style = \"text-align: right;\">8</td><td style = \"text-align: right;\">89</td><td style = \"text-align: left;\">Medium</td><td style = \"text-align: left;\">Yes</td><td style = \"text-align: right;\">3</td><td style = \"text-align: left;\">Medium</td><td style = \"text-align: left;\">Medium</td><td style = \"text-align: left;\">Public</td><td style = \"text-align: left;\">Positive</td><td style = \"text-align: right;\">3</td><td style = \"text-align: left;\">No</td><td style = \"text-align: left;\">Postgraduate</td><td style = \"text-align: left;\">Near</td><td style = \"text-align: left;\">Male</td><td style = \"text-align: right;\">71</td></tr><tr><td class = \"rowNumber\" style = \"font-weight: bold; text-align: right;\">7</td><td style = \"text-align: right;\">29</td><td style = \"text-align: right;\">84</td><td style = \"text-align: left;\">Medium</td><td style = \"text-align: left;\">Low</td><td style = \"text-align: left;\">Yes</td><td style = \"text-align: right;\">7</td><td style = \"text-align: right;\">68</td><td style = \"text-align: left;\">Low</td><td style = \"text-align: left;\">Yes</td><td style = \"text-align: right;\">1</td><td style = \"text-align: left;\">Low</td><td style = \"text-align: left;\">Medium</td><td style = \"text-align: left;\">Private</td><td style = \"text-align: left;\">Neutral</td><td style = \"text-align: right;\">2</td><td style = \"text-align: left;\">No</td><td style = \"text-align: left;\">High School</td><td style = \"text-align: left;\">Moderate</td><td style = \"text-align: left;\">Male</td><td style = \"text-align: right;\">67</td></tr><tr><td class = \"rowNumber\" style = \"font-weight: bold; text-align: right;\">8</td><td style = \"text-align: right;\">25</td><td style = \"text-align: right;\">78</td><td style = \"text-align: left;\">Low</td><td style = \"text-align: left;\">High</td><td style = \"text-align: left;\">Yes</td><td style = \"text-align: right;\">6</td><td style = \"text-align: right;\">50</td><td style = \"text-align: left;\">Medium</td><td style = \"text-align: left;\">Yes</td><td style = \"text-align: right;\">1</td><td style = \"text-align: left;\">High</td><td style = \"text-align: left;\">High</td><td style = \"text-align: left;\">Public</td><td style = \"text-align: left;\">Negative</td><td style = \"text-align: right;\">2</td><td style = \"text-align: left;\">No</td><td style = \"text-align: left;\">High School</td><td style = \"text-align: left;\">Far</td><td style = \"text-align: left;\">Male</td><td style = \"text-align: right;\">66</td></tr><tr><td class = \"rowNumber\" style = \"font-weight: bold; text-align: right;\">9</td><td style = \"text-align: right;\">17</td><td style = \"text-align: right;\">94</td><td style = \"text-align: left;\">Medium</td><td style = \"text-align: left;\">High</td><td style = \"text-align: left;\">No</td><td style = \"text-align: right;\">6</td><td style = \"text-align: right;\">80</td><td style = \"text-align: left;\">High</td><td style = \"text-align: left;\">Yes</td><td style = \"text-align: right;\">0</td><td style = \"text-align: left;\">Medium</td><td style = \"text-align: left;\">Low</td><td style = \"text-align: left;\">Private</td><td style = \"text-align: left;\">Neutral</td><td style = \"text-align: right;\">1</td><td style = \"text-align: left;\">No</td><td style = \"text-align: left;\">College</td><td style = \"text-align: left;\">Near</td><td style = \"text-align: left;\">Male</td><td style = \"text-align: right;\">69</td></tr><tr><td class = \"rowNumber\" style = \"font-weight: bold; text-align: right;\">10</td><td style = \"text-align: right;\">23</td><td style = \"text-align: right;\">98</td><td style = \"text-align: left;\">Medium</td><td style = \"text-align: left;\">Medium</td><td style = \"text-align: left;\">Yes</td><td style = \"text-align: right;\">8</td><td style = \"text-align: right;\">71</td><td style = \"text-align: left;\">Medium</td><td style = \"text-align: left;\">Yes</td><td style = \"text-align: right;\">0</td><td style = \"text-align: left;\">High</td><td style = \"text-align: left;\">High</td><td style = \"text-align: left;\">Public</td><td style = \"text-align: left;\">Positive</td><td style = \"text-align: right;\">5</td><td style = \"text-align: left;\">No</td><td style = \"text-align: left;\">High School</td><td style = \"text-align: left;\">Moderate</td><td style = \"text-align: left;\">Male</td><td style = \"text-align: right;\">72</td></tr><tr><td class = \"rowNumber\" style = \"font-weight: bold; text-align: right;\">11</td><td style = \"text-align: right;\">17</td><td style = \"text-align: right;\">80</td><td style = \"text-align: left;\">Low</td><td style = \"text-align: left;\">High</td><td style = \"text-align: left;\">No</td><td style = \"text-align: right;\">8</td><td style = \"text-align: right;\">88</td><td style = \"text-align: left;\">Medium</td><td style = \"text-align: left;\">No</td><td style = \"text-align: right;\">4</td><td style = \"text-align: left;\">Medium</td><td style = \"text-align: left;\">High</td><td style = \"text-align: left;\">Private</td><td style = \"text-align: left;\">Neutral</td><td style = \"text-align: right;\">4</td><td style = \"text-align: left;\">No</td><td style = \"text-align: left;\">College</td><td style = \"text-align: left;\">Moderate</td><td style = \"text-align: left;\">Male</td><td style = \"text-align: right;\">68</td></tr><tr><td class = \"rowNumber\" style = \"font-weight: bold; text-align: right;\">12</td><td style = \"text-align: right;\">17</td><td style = \"text-align: right;\">97</td><td style = \"text-align: left;\">Medium</td><td style = \"text-align: left;\">High</td><td style = \"text-align: left;\">Yes</td><td style = \"text-align: right;\">6</td><td style = \"text-align: right;\">87</td><td style = \"text-align: left;\">Low</td><td style = \"text-align: left;\">Yes</td><td style = \"text-align: right;\">2</td><td style = \"text-align: left;\">Low</td><td style = \"text-align: left;\">High</td><td style = \"text-align: left;\">Private</td><td style = \"text-align: left;\">Neutral</td><td style = \"text-align: right;\">2</td><td style = \"text-align: left;\">No</td><td style = \"text-align: left;\">High School</td><td style = \"text-align: left;\">Near</td><td style = \"text-align: left;\">Male</td><td style = \"text-align: right;\">71</td></tr><tr><td class = \"rowNumber\" style = \"font-weight: bold; text-align: right;\">13</td><td style = \"text-align: right;\">21</td><td style = \"text-align: right;\">83</td><td style = \"text-align: left;\">Medium</td><td style = \"text-align: left;\">Medium</td><td style = \"text-align: left;\">Yes</td><td style = \"text-align: right;\">8</td><td style = \"text-align: right;\">97</td><td style = \"text-align: left;\">Low</td><td style = \"text-align: left;\">Yes</td><td style = \"text-align: right;\">2</td><td style = \"text-align: left;\">Medium</td><td style = \"text-align: left;\">Medium</td><td style = \"text-align: left;\">Public</td><td style = \"text-align: left;\">Positive</td><td style = \"text-align: right;\">4</td><td style = \"text-align: left;\">No</td><td style = \"text-align: left;\">High School</td><td style = \"text-align: left;\">Near</td><td style = \"text-align: left;\">Male</td><td style = \"text-align: right;\">70</td></tr><tr><td style = \"text-align: right;\">&vellip;</td><td style = \"text-align: right;\">&vellip;</td><td style = \"text-align: right;\">&vellip;</td><td style = \"text-align: right;\">&vellip;</td><td style = \"text-align: right;\">&vellip;</td><td style = \"text-align: right;\">&vellip;</td><td style = \"text-align: right;\">&vellip;</td><td style = \"text-align: right;\">&vellip;</td><td style = \"text-align: right;\">&vellip;</td><td style = \"text-align: right;\">&vellip;</td><td style = \"text-align: right;\">&vellip;</td><td style = \"text-align: right;\">&vellip;</td><td style = \"text-align: right;\">&vellip;</td><td style = \"text-align: right;\">&vellip;</td><td style = \"text-align: right;\">&vellip;</td><td style = \"text-align: right;\">&vellip;</td><td style = \"text-align: right;\">&vellip;</td><td style = \"text-align: right;\">&vellip;</td><td style = \"text-align: right;\">&vellip;</td><td style = \"text-align: right;\">&vellip;</td><td style = \"text-align: right;\">&vellip;</td></tr><tr><td class = \"rowNumber\" style = \"font-weight: bold; text-align: right;\">6596</td><td style = \"text-align: right;\">28</td><td style = \"text-align: right;\">78</td><td style = \"text-align: left;\">Medium</td><td style = \"text-align: left;\">High</td><td style = \"text-align: left;\">No</td><td style = \"text-align: right;\">7</td><td style = \"text-align: right;\">92</td><td style = \"text-align: left;\">Low</td><td style = \"text-align: left;\">Yes</td><td style = \"text-align: right;\">1</td><td style = \"text-align: left;\">Medium</td><td style = \"text-align: left;\">High</td><td style = \"text-align: left;\">Public</td><td style = \"text-align: left;\">Positive</td><td style = \"text-align: right;\">3</td><td style = \"text-align: left;\">No</td><td style = \"text-align: left;\">Postgraduate</td><td style = \"text-align: left;\">Moderate</td><td style = \"text-align: left;\">Female</td><td style = \"text-align: right;\">71</td></tr><tr><td class = \"rowNumber\" style = \"font-weight: bold; text-align: right;\">6597</td><td style = \"text-align: right;\">17</td><td style = \"text-align: right;\">92</td><td style = \"text-align: left;\">Medium</td><td style = \"text-align: left;\">Medium</td><td style = \"text-align: left;\">No</td><td style = \"text-align: right;\">7</td><td style = \"text-align: right;\">66</td><td style = \"text-align: left;\">Low</td><td style = \"text-align: left;\">Yes</td><td style = \"text-align: right;\">2</td><td style = \"text-align: left;\">Low</td><td style = \"font-style: italic; text-align: left;\">missing</td><td style = \"text-align: left;\">Public</td><td style = \"text-align: left;\">Negative</td><td style = \"text-align: right;\">3</td><td style = \"text-align: left;\">No</td><td style = \"text-align: left;\">High School</td><td style = \"text-align: left;\">Near</td><td style = \"text-align: left;\">Male</td><td style = \"text-align: right;\">66</td></tr><tr><td class = \"rowNumber\" style = \"font-weight: bold; text-align: right;\">6598</td><td style = \"text-align: right;\">16</td><td style = \"text-align: right;\">91</td><td style = \"text-align: left;\">High</td><td style = \"text-align: left;\">Medium</td><td style = \"text-align: left;\">Yes</td><td style = \"text-align: right;\">6</td><td style = \"text-align: right;\">72</td><td style = \"text-align: left;\">High</td><td style = \"text-align: left;\">Yes</td><td style = \"text-align: right;\">0</td><td style = \"text-align: left;\">High</td><td style = \"text-align: left;\">High</td><td style = \"text-align: left;\">Public</td><td style = \"text-align: left;\">Negative</td><td style = \"text-align: right;\">2</td><td style = \"text-align: left;\">No</td><td style = \"text-align: left;\">Postgraduate</td><td style = \"text-align: left;\">Near</td><td style = \"text-align: left;\">Female</td><td style = \"text-align: right;\">70</td></tr><tr><td class = \"rowNumber\" style = \"font-weight: bold; text-align: right;\">6599</td><td style = \"text-align: right;\">9</td><td style = \"text-align: right;\">87</td><td style = \"text-align: left;\">Low</td><td style = \"text-align: left;\">Medium</td><td style = \"text-align: left;\">Yes</td><td style = \"text-align: right;\">6</td><td style = \"text-align: right;\">64</td><td style = \"text-align: left;\">Medium</td><td style = \"text-align: left;\">Yes</td><td style = \"text-align: right;\">1</td><td style = \"text-align: left;\">High</td><td style = \"text-align: left;\">Medium</td><td style = \"text-align: left;\">Public</td><td style = \"text-align: left;\">Neutral</td><td style = \"text-align: right;\">2</td><td style = \"text-align: left;\">No</td><td style = \"text-align: left;\">High School</td><td style = \"text-align: left;\">Near</td><td style = \"text-align: left;\">Female</td><td style = \"text-align: right;\">64</td></tr><tr><td class = \"rowNumber\" style = \"font-weight: bold; text-align: right;\">6600</td><td style = \"text-align: right;\">30</td><td style = \"text-align: right;\">94</td><td style = \"text-align: left;\">Medium</td><td style = \"text-align: left;\">Low</td><td style = \"text-align: left;\">No</td><td style = \"text-align: right;\">5</td><td style = \"text-align: right;\">52</td><td style = \"text-align: left;\">Low</td><td style = \"text-align: left;\">No</td><td style = \"text-align: right;\">3</td><td style = \"text-align: left;\">High</td><td style = \"text-align: left;\">Medium</td><td style = \"text-align: left;\">Private</td><td style = \"text-align: left;\">Neutral</td><td style = \"text-align: right;\">2</td><td style = \"text-align: left;\">No</td><td style = \"text-align: left;\">Postgraduate</td><td style = \"text-align: left;\">Moderate</td><td style = \"text-align: left;\">Female</td><td style = \"text-align: right;\">70</td></tr><tr><td class = \"rowNumber\" style = \"font-weight: bold; text-align: right;\">6601</td><td style = \"text-align: right;\">12</td><td style = \"text-align: right;\">98</td><td style = \"text-align: left;\">Medium</td><td style = \"text-align: left;\">Low</td><td style = \"text-align: left;\">Yes</td><td style = \"text-align: right;\">4</td><td style = \"text-align: right;\">54</td><td style = \"text-align: left;\">Medium</td><td style = \"text-align: left;\">Yes</td><td style = \"text-align: right;\">2</td><td style = \"text-align: left;\">Medium</td><td style = \"text-align: left;\">High</td><td style = \"text-align: left;\">Private</td><td style = \"text-align: left;\">Neutral</td><td style = \"text-align: right;\">3</td><td style = \"text-align: left;\">No</td><td style = \"text-align: left;\">High School</td><td style = \"text-align: left;\">Near</td><td style = \"text-align: left;\">Female</td><td style = \"text-align: right;\">67</td></tr><tr><td class = \"rowNumber\" style = \"font-weight: bold; text-align: right;\">6602</td><td style = \"text-align: right;\">20</td><td style = \"text-align: right;\">83</td><td style = \"text-align: left;\">Medium</td><td style = \"text-align: left;\">Low</td><td style = \"text-align: left;\">No</td><td style = \"text-align: right;\">6</td><td style = \"text-align: right;\">51</td><td style = \"text-align: left;\">Low</td><td style = \"text-align: left;\">Yes</td><td style = \"text-align: right;\">2</td><td style = \"text-align: left;\">Medium</td><td style = \"text-align: left;\">Medium</td><td style = \"text-align: left;\">Public</td><td style = \"text-align: left;\">Neutral</td><td style = \"text-align: right;\">4</td><td style = \"text-align: left;\">No</td><td style = \"text-align: left;\">High School</td><td style = \"text-align: left;\">Moderate</td><td style = \"text-align: left;\">Female</td><td style = \"text-align: right;\">65</td></tr><tr><td class = \"rowNumber\" style = \"font-weight: bold; text-align: right;\">6603</td><td style = \"text-align: right;\">25</td><td style = \"text-align: right;\">69</td><td style = \"text-align: left;\">High</td><td style = \"text-align: left;\">Medium</td><td style = \"text-align: left;\">No</td><td style = \"text-align: right;\">7</td><td style = \"text-align: right;\">76</td><td style = \"text-align: left;\">Medium</td><td style = \"text-align: left;\">Yes</td><td style = \"text-align: right;\">1</td><td style = \"text-align: left;\">High</td><td style = \"text-align: left;\">Medium</td><td style = \"text-align: left;\">Public</td><td style = \"text-align: left;\">Positive</td><td style = \"text-align: right;\">2</td><td style = \"text-align: left;\">No</td><td style = \"text-align: left;\">High School</td><td style = \"text-align: left;\">Near</td><td style = \"text-align: left;\">Female</td><td style = \"text-align: right;\">68</td></tr><tr><td class = \"rowNumber\" style = \"font-weight: bold; text-align: right;\">6604</td><td style = \"text-align: right;\">23</td><td style = \"text-align: right;\">76</td><td style = \"text-align: left;\">High</td><td style = \"text-align: left;\">Medium</td><td style = \"text-align: left;\">No</td><td style = \"text-align: right;\">8</td><td style = \"text-align: right;\">81</td><td style = \"text-align: left;\">Medium</td><td style = \"text-align: left;\">Yes</td><td style = \"text-align: right;\">3</td><td style = \"text-align: left;\">Low</td><td style = \"text-align: left;\">High</td><td style = \"text-align: left;\">Public</td><td style = \"text-align: left;\">Positive</td><td style = \"text-align: right;\">2</td><td style = \"text-align: left;\">No</td><td style = \"text-align: left;\">High School</td><td style = \"text-align: left;\">Near</td><td style = \"text-align: left;\">Female</td><td style = \"text-align: right;\">69</td></tr><tr><td class = \"rowNumber\" style = \"font-weight: bold; text-align: right;\">6605</td><td style = \"text-align: right;\">20</td><td style = \"text-align: right;\">90</td><td style = \"text-align: left;\">Medium</td><td style = \"text-align: left;\">Low</td><td style = \"text-align: left;\">Yes</td><td style = \"text-align: right;\">6</td><td style = \"text-align: right;\">65</td><td style = \"text-align: left;\">Low</td><td style = \"text-align: left;\">Yes</td><td style = \"text-align: right;\">3</td><td style = \"text-align: left;\">Low</td><td style = \"text-align: left;\">Medium</td><td style = \"text-align: left;\">Public</td><td style = \"text-align: left;\">Negative</td><td style = \"text-align: right;\">2</td><td style = \"text-align: left;\">No</td><td style = \"text-align: left;\">Postgraduate</td><td style = \"text-align: left;\">Near</td><td style = \"text-align: left;\">Female</td><td style = \"text-align: right;\">68</td></tr><tr><td class = \"rowNumber\" style = \"font-weight: bold; text-align: right;\">6606</td><td style = \"text-align: right;\">10</td><td style = \"text-align: right;\">86</td><td style = \"text-align: left;\">High</td><td style = \"text-align: left;\">High</td><td style = \"text-align: left;\">Yes</td><td style = \"text-align: right;\">6</td><td style = \"text-align: right;\">91</td><td style = \"text-align: left;\">High</td><td style = \"text-align: left;\">Yes</td><td style = \"text-align: right;\">2</td><td style = \"text-align: left;\">Low</td><td style = \"text-align: left;\">Medium</td><td style = \"text-align: left;\">Private</td><td style = \"text-align: left;\">Positive</td><td style = \"text-align: right;\">3</td><td style = \"text-align: left;\">No</td><td style = \"text-align: left;\">High School</td><td style = \"text-align: left;\">Far</td><td style = \"text-align: left;\">Female</td><td style = \"text-align: right;\">68</td></tr><tr><td class = \"rowNumber\" style = \"font-weight: bold; text-align: right;\">6607</td><td style = \"text-align: right;\">15</td><td style = \"text-align: right;\">67</td><td style = \"text-align: left;\">Medium</td><td style = \"text-align: left;\">Low</td><td style = \"text-align: left;\">Yes</td><td style = \"text-align: right;\">9</td><td style = \"text-align: right;\">94</td><td style = \"text-align: left;\">Medium</td><td style = \"text-align: left;\">Yes</td><td style = \"text-align: right;\">0</td><td style = \"text-align: left;\">Medium</td><td style = \"text-align: left;\">Medium</td><td style = \"text-align: left;\">Public</td><td style = \"text-align: left;\">Positive</td><td style = \"text-align: right;\">4</td><td style = \"text-align: left;\">No</td><td style = \"text-align: left;\">Postgraduate</td><td style = \"text-align: left;\">Near</td><td style = \"text-align: left;\">Male</td><td style = \"text-align: right;\">64</td></tr></tbody></table></div>"
      ],
      "text/latex": [
       "\\begin{tabular}{r|cccccc}\n",
       "\t& Hours\\_Studied & Attendance & Parental\\_Involvement & Access\\_to\\_Resources & Extracurricular\\_Activities & \\\\\n",
       "\t\\hline\n",
       "\t& Int64 & Int64 & String7 & String7 & String3 & \\\\\n",
       "\t\\hline\n",
       "\t1 & 23 & 84 & Low & High & No & $\\dots$ \\\\\n",
       "\t2 & 19 & 64 & Low & Medium & No & $\\dots$ \\\\\n",
       "\t3 & 24 & 98 & Medium & Medium & Yes & $\\dots$ \\\\\n",
       "\t4 & 29 & 89 & Low & Medium & Yes & $\\dots$ \\\\\n",
       "\t5 & 19 & 92 & Medium & Medium & Yes & $\\dots$ \\\\\n",
       "\t6 & 19 & 88 & Medium & Medium & Yes & $\\dots$ \\\\\n",
       "\t7 & 29 & 84 & Medium & Low & Yes & $\\dots$ \\\\\n",
       "\t8 & 25 & 78 & Low & High & Yes & $\\dots$ \\\\\n",
       "\t9 & 17 & 94 & Medium & High & No & $\\dots$ \\\\\n",
       "\t10 & 23 & 98 & Medium & Medium & Yes & $\\dots$ \\\\\n",
       "\t11 & 17 & 80 & Low & High & No & $\\dots$ \\\\\n",
       "\t12 & 17 & 97 & Medium & High & Yes & $\\dots$ \\\\\n",
       "\t13 & 21 & 83 & Medium & Medium & Yes & $\\dots$ \\\\\n",
       "\t14 & 9 & 82 & Medium & Medium & Yes & $\\dots$ \\\\\n",
       "\t15 & 10 & 78 & Medium & High & Yes & $\\dots$ \\\\\n",
       "\t16 & 17 & 68 & Medium & Medium & No & $\\dots$ \\\\\n",
       "\t17 & 14 & 60 & Medium & Low & Yes & $\\dots$ \\\\\n",
       "\t18 & 22 & 70 & Low & Medium & Yes & $\\dots$ \\\\\n",
       "\t19 & 15 & 80 & Medium & Medium & Yes & $\\dots$ \\\\\n",
       "\t20 & 12 & 75 & Medium & High & Yes & $\\dots$ \\\\\n",
       "\t21 & 29 & 78 & Medium & Medium & No & $\\dots$ \\\\\n",
       "\t22 & 19 & 99 & Medium & High & No & $\\dots$ \\\\\n",
       "\t23 & 20 & 74 & Medium & High & No & $\\dots$ \\\\\n",
       "\t24 & 11 & 78 & High & Medium & Yes & $\\dots$ \\\\\n",
       "\t$\\dots$ & $\\dots$ & $\\dots$ & $\\dots$ & $\\dots$ & $\\dots$ &  \\\\\n",
       "\\end{tabular}\n"
      ],
      "text/plain": [
       "\u001b[1m6607×20 DataFrame\u001b[0m\n",
       "\u001b[1m  Row \u001b[0m│\u001b[1m Hours_Studied \u001b[0m\u001b[1m Attendance \u001b[0m\u001b[1m Parental_Involvement \u001b[0m\u001b[1m Access_to_Resources \u001b[0m\u001b[1m \u001b[0m ⋯\n",
       "      │\u001b[90m Int64         \u001b[0m\u001b[90m Int64      \u001b[0m\u001b[90m String7              \u001b[0m\u001b[90m String7             \u001b[0m\u001b[90m \u001b[0m ⋯\n",
       "──────┼─────────────────────────────────────────────────────────────────────────\n",
       "    1 │            23          84  Low                   High                  ⋯\n",
       "    2 │            19          64  Low                   Medium\n",
       "    3 │            24          98  Medium                Medium\n",
       "    4 │            29          89  Low                   Medium\n",
       "    5 │            19          92  Medium                Medium                ⋯\n",
       "    6 │            19          88  Medium                Medium\n",
       "    7 │            29          84  Medium                Low\n",
       "    8 │            25          78  Low                   High\n",
       "  ⋮   │       ⋮            ⋮                ⋮                     ⋮            ⋱\n",
       " 6601 │            12          98  Medium                Low                   ⋯\n",
       " 6602 │            20          83  Medium                Low\n",
       " 6603 │            25          69  High                  Medium\n",
       " 6604 │            23          76  High                  Medium\n",
       " 6605 │            20          90  Medium                Low                   ⋯\n",
       " 6606 │            10          86  High                  High\n",
       " 6607 │            15          67  Medium                Low\n",
       "\u001b[36m                                                16 columns and 6592 rows omitted\u001b[0m"
      ]
     },
     "metadata": {},
     "output_type": "display_data"
    }
   ],
   "source": [
    "student_performance = CSV.read(\"StudentPerformanceFactors.csv\", DataFrame)"
   ]
  },
  {
   "cell_type": "markdown",
   "metadata": {},
   "source": [
    "Create a GroupDataFrame object for the different `Family_Income`. How many groups are there? Access the 2nd group. How many records it has?"
   ]
  },
  {
   "cell_type": "code",
   "execution_count": 13,
   "metadata": {},
   "outputs": [
    {
     "data": {
      "text/html": [
       "<p><b>GroupedDataFrame with 3 groups based on key: Family_Income</b></p><div><div style = \"float: left;\"><span>First Group (2672 rows): Family_Income = &quot;Low&quot;</span></div><div style = \"float: right;\"><span style = \"font-style: italic;\">2647 rows omitted</span></div><div style = \"clear: both;\"></div></div><div class = \"data-frame\" style = \"overflow-x: scroll;\"><table class = \"data-frame\" style = \"margin-bottom: 6px;\"><thead><tr class = \"header\"><th class = \"rowNumber\" style = \"font-weight: bold; text-align: right;\">Row</th><th style = \"text-align: left;\">Hours_Studied</th><th style = \"text-align: left;\">Attendance</th><th style = \"text-align: left;\">Parental_Involvement</th><th style = \"text-align: left;\">Access_to_Resources</th><th style = \"text-align: left;\">Extracurricular_Activities</th><th style = \"text-align: left;\">Sleep_Hours</th><th style = \"text-align: left;\">Previous_Scores</th><th style = \"text-align: left;\">Motivation_Level</th><th style = \"text-align: left;\">Internet_Access</th><th style = \"text-align: left;\">Tutoring_Sessions</th><th style = \"text-align: left;\">Family_Income</th><th style = \"text-align: left;\">Teacher_Quality</th><th style = \"text-align: left;\">School_Type</th><th style = \"text-align: left;\">Peer_Influence</th><th style = \"text-align: left;\">Physical_Activity</th><th style = \"text-align: left;\">Learning_Disabilities</th><th style = \"text-align: left;\">Parental_Education_Level</th><th style = \"text-align: left;\">Distance_from_Home</th><th style = \"text-align: left;\">Gender</th><th style = \"text-align: left;\">Exam_Score</th></tr><tr class = \"subheader headerLastRow\"><th class = \"rowNumber\" style = \"font-weight: bold; text-align: right;\"></th><th title = \"Int64\" style = \"text-align: left;\">Int64</th><th title = \"Int64\" style = \"text-align: left;\">Int64</th><th title = \"String7\" style = \"text-align: left;\">String7</th><th title = \"String7\" style = \"text-align: left;\">String7</th><th title = \"String3\" style = \"text-align: left;\">String3</th><th title = \"Int64\" style = \"text-align: left;\">Int64</th><th title = \"Int64\" style = \"text-align: left;\">Int64</th><th title = \"String7\" style = \"text-align: left;\">String7</th><th title = \"String3\" style = \"text-align: left;\">String3</th><th title = \"Int64\" style = \"text-align: left;\">Int64</th><th title = \"String7\" style = \"text-align: left;\">String7</th><th title = \"Union{Missing, String7}\" style = \"text-align: left;\">String7?</th><th title = \"String7\" style = \"text-align: left;\">String7</th><th title = \"String15\" style = \"text-align: left;\">String15</th><th title = \"Int64\" style = \"text-align: left;\">Int64</th><th title = \"String3\" style = \"text-align: left;\">String3</th><th title = \"Union{Missing, String15}\" style = \"text-align: left;\">String15?</th><th title = \"Union{Missing, String15}\" style = \"text-align: left;\">String15?</th><th title = \"String7\" style = \"text-align: left;\">String7</th><th title = \"Int64\" style = \"text-align: left;\">Int64</th></tr></thead><tbody><tr><td class = \"rowNumber\" style = \"font-weight: bold; text-align: right;\">1</td><td style = \"text-align: right;\">23</td><td style = \"text-align: right;\">84</td><td style = \"text-align: left;\">Low</td><td style = \"text-align: left;\">High</td><td style = \"text-align: left;\">No</td><td style = \"text-align: right;\">7</td><td style = \"text-align: right;\">73</td><td style = \"text-align: left;\">Low</td><td style = \"text-align: left;\">Yes</td><td style = \"text-align: right;\">0</td><td style = \"text-align: left;\">Low</td><td style = \"text-align: left;\">Medium</td><td style = \"text-align: left;\">Public</td><td style = \"text-align: left;\">Positive</td><td style = \"text-align: right;\">3</td><td style = \"text-align: left;\">No</td><td style = \"text-align: left;\">High School</td><td style = \"text-align: left;\">Near</td><td style = \"text-align: left;\">Male</td><td style = \"text-align: right;\">67</td></tr><tr><td class = \"rowNumber\" style = \"font-weight: bold; text-align: right;\">2</td><td style = \"text-align: right;\">29</td><td style = \"text-align: right;\">84</td><td style = \"text-align: left;\">Medium</td><td style = \"text-align: left;\">Low</td><td style = \"text-align: left;\">Yes</td><td style = \"text-align: right;\">7</td><td style = \"text-align: right;\">68</td><td style = \"text-align: left;\">Low</td><td style = \"text-align: left;\">Yes</td><td style = \"text-align: right;\">1</td><td style = \"text-align: left;\">Low</td><td style = \"text-align: left;\">Medium</td><td style = \"text-align: left;\">Private</td><td style = \"text-align: left;\">Neutral</td><td style = \"text-align: right;\">2</td><td style = \"text-align: left;\">No</td><td style = \"text-align: left;\">High School</td><td style = \"text-align: left;\">Moderate</td><td style = \"text-align: left;\">Male</td><td style = \"text-align: right;\">67</td></tr><tr><td class = \"rowNumber\" style = \"font-weight: bold; text-align: right;\">3</td><td style = \"text-align: right;\">17</td><td style = \"text-align: right;\">97</td><td style = \"text-align: left;\">Medium</td><td style = \"text-align: left;\">High</td><td style = \"text-align: left;\">Yes</td><td style = \"text-align: right;\">6</td><td style = \"text-align: right;\">87</td><td style = \"text-align: left;\">Low</td><td style = \"text-align: left;\">Yes</td><td style = \"text-align: right;\">2</td><td style = \"text-align: left;\">Low</td><td style = \"text-align: left;\">High</td><td style = \"text-align: left;\">Private</td><td style = \"text-align: left;\">Neutral</td><td style = \"text-align: right;\">2</td><td style = \"text-align: left;\">No</td><td style = \"text-align: left;\">High School</td><td style = \"text-align: left;\">Near</td><td style = \"text-align: left;\">Male</td><td style = \"text-align: right;\">71</td></tr><tr><td class = \"rowNumber\" style = \"font-weight: bold; text-align: right;\">4</td><td style = \"text-align: right;\">10</td><td style = \"text-align: right;\">78</td><td style = \"text-align: left;\">Medium</td><td style = \"text-align: left;\">High</td><td style = \"text-align: left;\">Yes</td><td style = \"text-align: right;\">8</td><td style = \"text-align: right;\">74</td><td style = \"text-align: left;\">Medium</td><td style = \"text-align: left;\">Yes</td><td style = \"text-align: right;\">1</td><td style = \"text-align: left;\">Low</td><td style = \"text-align: left;\">Medium</td><td style = \"text-align: left;\">Private</td><td style = \"text-align: left;\">Neutral</td><td style = \"text-align: right;\">4</td><td style = \"text-align: left;\">No</td><td style = \"text-align: left;\">Postgraduate</td><td style = \"text-align: left;\">Near</td><td style = \"text-align: left;\">Male</td><td style = \"text-align: right;\">65</td></tr><tr><td class = \"rowNumber\" style = \"font-weight: bold; text-align: right;\">5</td><td style = \"text-align: right;\">22</td><td style = \"text-align: right;\">70</td><td style = \"text-align: left;\">Low</td><td style = \"text-align: left;\">Medium</td><td style = \"text-align: left;\">Yes</td><td style = \"text-align: right;\">6</td><td style = \"text-align: right;\">82</td><td style = \"text-align: left;\">Medium</td><td style = \"text-align: left;\">Yes</td><td style = \"text-align: right;\">1</td><td style = \"text-align: left;\">Low</td><td style = \"text-align: left;\">High</td><td style = \"text-align: left;\">Public</td><td style = \"text-align: left;\">Neutral</td><td style = \"text-align: right;\">3</td><td style = \"text-align: left;\">No</td><td style = \"text-align: left;\">High School</td><td style = \"text-align: left;\">Near</td><td style = \"text-align: left;\">Female</td><td style = \"text-align: right;\">65</td></tr><tr><td class = \"rowNumber\" style = \"font-weight: bold; text-align: right;\">6</td><td style = \"text-align: right;\">15</td><td style = \"text-align: right;\">80</td><td style = \"text-align: left;\">Medium</td><td style = \"text-align: left;\">Medium</td><td style = \"text-align: left;\">Yes</td><td style = \"text-align: right;\">9</td><td style = \"text-align: right;\">91</td><td style = \"text-align: left;\">Low</td><td style = \"text-align: left;\">Yes</td><td style = \"text-align: right;\">3</td><td style = \"text-align: left;\">Low</td><td style = \"text-align: left;\">Medium</td><td style = \"text-align: left;\">Public</td><td style = \"text-align: left;\">Positive</td><td style = \"text-align: right;\">2</td><td style = \"text-align: left;\">No</td><td style = \"text-align: left;\">College</td><td style = \"text-align: left;\">Moderate</td><td style = \"text-align: left;\">Female</td><td style = \"text-align: right;\">67</td></tr><tr><td class = \"rowNumber\" style = \"font-weight: bold; text-align: right;\">7</td><td style = \"text-align: right;\">11</td><td style = \"text-align: right;\">78</td><td style = \"text-align: left;\">High</td><td style = \"text-align: left;\">Medium</td><td style = \"text-align: left;\">Yes</td><td style = \"text-align: right;\">8</td><td style = \"text-align: right;\">100</td><td style = \"text-align: left;\">High</td><td style = \"text-align: left;\">Yes</td><td style = \"text-align: right;\">1</td><td style = \"text-align: left;\">Low</td><td style = \"text-align: left;\">Medium</td><td style = \"text-align: left;\">Public</td><td style = \"text-align: left;\">Neutral</td><td style = \"text-align: right;\">3</td><td style = \"text-align: left;\">No</td><td style = \"text-align: left;\">High School</td><td style = \"text-align: left;\">Moderate</td><td style = \"text-align: left;\">Male</td><td style = \"text-align: right;\">66</td></tr><tr><td class = \"rowNumber\" style = \"font-weight: bold; text-align: right;\">8</td><td style = \"text-align: right;\">17</td><td style = \"text-align: right;\">65</td><td style = \"text-align: left;\">Low</td><td style = \"text-align: left;\">High</td><td style = \"text-align: left;\">Yes</td><td style = \"text-align: right;\">5</td><td style = \"text-align: right;\">75</td><td style = \"text-align: left;\">Medium</td><td style = \"text-align: left;\">Yes</td><td style = \"text-align: right;\">2</td><td style = \"text-align: left;\">Low</td><td style = \"text-align: left;\">Medium</td><td style = \"text-align: left;\">Public</td><td style = \"text-align: left;\">Positive</td><td style = \"text-align: right;\">3</td><td style = \"text-align: left;\">No</td><td style = \"text-align: left;\">High School</td><td style = \"text-align: left;\">Near</td><td style = \"text-align: left;\">Female</td><td style = \"text-align: right;\">63</td></tr><tr><td class = \"rowNumber\" style = \"font-weight: bold; text-align: right;\">9</td><td style = \"text-align: right;\">16</td><td style = \"text-align: right;\">90</td><td style = \"text-align: left;\">Medium</td><td style = \"text-align: left;\">Medium</td><td style = \"text-align: left;\">No</td><td style = \"text-align: right;\">4</td><td style = \"text-align: right;\">58</td><td style = \"text-align: left;\">Medium</td><td style = \"text-align: left;\">Yes</td><td style = \"text-align: right;\">1</td><td style = \"text-align: left;\">Low</td><td style = \"text-align: left;\">Medium</td><td style = \"text-align: left;\">Public</td><td style = \"text-align: left;\">Neutral</td><td style = \"text-align: right;\">3</td><td style = \"text-align: left;\">No</td><td style = \"text-align: left;\">High School</td><td style = \"text-align: left;\">Moderate</td><td style = \"text-align: left;\">Female</td><td style = \"text-align: right;\">66</td></tr><tr><td class = \"rowNumber\" style = \"font-weight: bold; text-align: right;\">10</td><td style = \"text-align: right;\">18</td><td style = \"text-align: right;\">66</td><td style = \"text-align: left;\">High</td><td style = \"text-align: left;\">High</td><td style = \"text-align: left;\">No</td><td style = \"text-align: right;\">4</td><td style = \"text-align: right;\">51</td><td style = \"text-align: left;\">Low</td><td style = \"text-align: left;\">Yes</td><td style = \"text-align: right;\">2</td><td style = \"text-align: left;\">Low</td><td style = \"text-align: left;\">Medium</td><td style = \"text-align: left;\">Private</td><td style = \"text-align: left;\">Neutral</td><td style = \"text-align: right;\">2</td><td style = \"text-align: left;\">No</td><td style = \"text-align: left;\">College</td><td style = \"text-align: left;\">Near</td><td style = \"text-align: left;\">Male</td><td style = \"text-align: right;\">64</td></tr><tr><td class = \"rowNumber\" style = \"font-weight: bold; text-align: right;\">11</td><td style = \"text-align: right;\">13</td><td style = \"text-align: right;\">72</td><td style = \"text-align: left;\">Low</td><td style = \"text-align: left;\">Medium</td><td style = \"text-align: left;\">No</td><td style = \"text-align: right;\">6</td><td style = \"text-align: right;\">93</td><td style = \"text-align: left;\">Low</td><td style = \"text-align: left;\">Yes</td><td style = \"text-align: right;\">1</td><td style = \"text-align: left;\">Low</td><td style = \"text-align: left;\">Medium</td><td style = \"text-align: left;\">Public</td><td style = \"text-align: left;\">Negative</td><td style = \"text-align: right;\">3</td><td style = \"text-align: left;\">No</td><td style = \"text-align: left;\">High School</td><td style = \"text-align: left;\">Near</td><td style = \"text-align: left;\">Male</td><td style = \"text-align: right;\">61</td></tr><tr><td class = \"rowNumber\" style = \"font-weight: bold; text-align: right;\">12</td><td style = \"text-align: right;\">8</td><td style = \"text-align: right;\">99</td><td style = \"text-align: left;\">Medium</td><td style = \"text-align: left;\">Medium</td><td style = \"text-align: left;\">No</td><td style = \"text-align: right;\">9</td><td style = \"text-align: right;\">54</td><td style = \"text-align: left;\">Low</td><td style = \"text-align: left;\">Yes</td><td style = \"text-align: right;\">2</td><td style = \"text-align: left;\">Low</td><td style = \"text-align: left;\">Medium</td><td style = \"text-align: left;\">Public</td><td style = \"text-align: left;\">Neutral</td><td style = \"text-align: right;\">5</td><td style = \"text-align: left;\">No</td><td style = \"text-align: left;\">Postgraduate</td><td style = \"text-align: left;\">Near</td><td style = \"text-align: left;\">Female</td><td style = \"text-align: right;\">67</td></tr><tr><td class = \"rowNumber\" style = \"font-weight: bold; text-align: right;\">13</td><td style = \"text-align: right;\">12</td><td style = \"text-align: right;\">72</td><td style = \"text-align: left;\">Low</td><td style = \"text-align: left;\">Medium</td><td style = \"text-align: left;\">Yes</td><td style = \"text-align: right;\">8</td><td style = \"text-align: right;\">84</td><td style = \"text-align: left;\">Medium</td><td style = \"text-align: left;\">Yes</td><td style = \"text-align: right;\">1</td><td style = \"text-align: left;\">Low</td><td style = \"text-align: left;\">Medium</td><td style = \"text-align: left;\">Public</td><td style = \"text-align: left;\">Positive</td><td style = \"text-align: right;\">5</td><td style = \"text-align: left;\">No</td><td style = \"text-align: left;\">High School</td><td style = \"text-align: left;\">Near</td><td style = \"text-align: left;\">Female</td><td style = \"text-align: right;\">63</td></tr><tr><td style = \"text-align: right;\">&vellip;</td><td style = \"text-align: right;\">&vellip;</td><td style = \"text-align: right;\">&vellip;</td><td style = \"text-align: right;\">&vellip;</td><td style = \"text-align: right;\">&vellip;</td><td style = \"text-align: right;\">&vellip;</td><td style = \"text-align: right;\">&vellip;</td><td style = \"text-align: right;\">&vellip;</td><td style = \"text-align: right;\">&vellip;</td><td style = \"text-align: right;\">&vellip;</td><td style = \"text-align: right;\">&vellip;</td><td style = \"text-align: right;\">&vellip;</td><td style = \"text-align: right;\">&vellip;</td><td style = \"text-align: right;\">&vellip;</td><td style = \"text-align: right;\">&vellip;</td><td style = \"text-align: right;\">&vellip;</td><td style = \"text-align: right;\">&vellip;</td><td style = \"text-align: right;\">&vellip;</td><td style = \"text-align: right;\">&vellip;</td><td style = \"text-align: right;\">&vellip;</td><td style = \"text-align: right;\">&vellip;</td></tr><tr><td class = \"rowNumber\" style = \"font-weight: bold; text-align: right;\">2661</td><td style = \"text-align: right;\">19</td><td style = \"text-align: right;\">93</td><td style = \"text-align: left;\">Medium</td><td style = \"text-align: left;\">High</td><td style = \"text-align: left;\">Yes</td><td style = \"text-align: right;\">6</td><td style = \"text-align: right;\">56</td><td style = \"text-align: left;\">Medium</td><td style = \"text-align: left;\">Yes</td><td style = \"text-align: right;\">0</td><td style = \"text-align: left;\">Low</td><td style = \"text-align: left;\">High</td><td style = \"text-align: left;\">Private</td><td style = \"text-align: left;\">Negative</td><td style = \"text-align: right;\">3</td><td style = \"text-align: left;\">No</td><td style = \"text-align: left;\">College</td><td style = \"text-align: left;\">Near</td><td style = \"text-align: left;\">Male</td><td style = \"text-align: right;\">69</td></tr><tr><td class = \"rowNumber\" style = \"font-weight: bold; text-align: right;\">2662</td><td style = \"text-align: right;\">28</td><td style = \"text-align: right;\">76</td><td style = \"text-align: left;\">Medium</td><td style = \"text-align: left;\">Medium</td><td style = \"text-align: left;\">Yes</td><td style = \"text-align: right;\">6</td><td style = \"text-align: right;\">71</td><td style = \"text-align: left;\">Medium</td><td style = \"text-align: left;\">Yes</td><td style = \"text-align: right;\">3</td><td style = \"text-align: left;\">Low</td><td style = \"text-align: left;\">Medium</td><td style = \"text-align: left;\">Private</td><td style = \"text-align: left;\">Positive</td><td style = \"text-align: right;\">2</td><td style = \"text-align: left;\">No</td><td style = \"text-align: left;\">High School</td><td style = \"text-align: left;\">Far</td><td style = \"text-align: left;\">Female</td><td style = \"text-align: right;\">68</td></tr><tr><td class = \"rowNumber\" style = \"font-weight: bold; text-align: right;\">2663</td><td style = \"text-align: right;\">12</td><td style = \"text-align: right;\">91</td><td style = \"text-align: left;\">Medium</td><td style = \"text-align: left;\">Low</td><td style = \"text-align: left;\">Yes</td><td style = \"text-align: right;\">8</td><td style = \"text-align: right;\">81</td><td style = \"text-align: left;\">Low</td><td style = \"text-align: left;\">Yes</td><td style = \"text-align: right;\">0</td><td style = \"text-align: left;\">Low</td><td style = \"text-align: left;\">Low</td><td style = \"text-align: left;\">Public</td><td style = \"text-align: left;\">Positive</td><td style = \"text-align: right;\">4</td><td style = \"text-align: left;\">No</td><td style = \"text-align: left;\">High School</td><td style = \"text-align: left;\">Moderate</td><td style = \"text-align: left;\">Male</td><td style = \"text-align: right;\">64</td></tr><tr><td class = \"rowNumber\" style = \"font-weight: bold; text-align: right;\">2664</td><td style = \"text-align: right;\">18</td><td style = \"text-align: right;\">100</td><td style = \"text-align: left;\">Medium</td><td style = \"text-align: left;\">Low</td><td style = \"text-align: left;\">Yes</td><td style = \"text-align: right;\">8</td><td style = \"text-align: right;\">66</td><td style = \"text-align: left;\">High</td><td style = \"text-align: left;\">No</td><td style = \"text-align: right;\">3</td><td style = \"text-align: left;\">Low</td><td style = \"text-align: left;\">Medium</td><td style = \"text-align: left;\">Public</td><td style = \"text-align: left;\">Negative</td><td style = \"text-align: right;\">3</td><td style = \"text-align: left;\">No</td><td style = \"text-align: left;\">College</td><td style = \"text-align: left;\">Near</td><td style = \"text-align: left;\">Male</td><td style = \"text-align: right;\">69</td></tr><tr><td class = \"rowNumber\" style = \"font-weight: bold; text-align: right;\">2665</td><td style = \"text-align: right;\">29</td><td style = \"text-align: right;\">82</td><td style = \"text-align: left;\">Medium</td><td style = \"text-align: left;\">High</td><td style = \"text-align: left;\">No</td><td style = \"text-align: right;\">7</td><td style = \"text-align: right;\">84</td><td style = \"text-align: left;\">Low</td><td style = \"text-align: left;\">Yes</td><td style = \"text-align: right;\">1</td><td style = \"text-align: left;\">Low</td><td style = \"text-align: left;\">Medium</td><td style = \"text-align: left;\">Private</td><td style = \"text-align: left;\">Positive</td><td style = \"text-align: right;\">2</td><td style = \"text-align: left;\">No</td><td style = \"text-align: left;\">High School</td><td style = \"text-align: left;\">Near</td><td style = \"text-align: left;\">Male</td><td style = \"text-align: right;\">70</td></tr><tr><td class = \"rowNumber\" style = \"font-weight: bold; text-align: right;\">2666</td><td style = \"text-align: right;\">22</td><td style = \"text-align: right;\">90</td><td style = \"text-align: left;\">Low</td><td style = \"text-align: left;\">High</td><td style = \"text-align: left;\">No</td><td style = \"text-align: right;\">5</td><td style = \"text-align: right;\">99</td><td style = \"text-align: left;\">Medium</td><td style = \"text-align: left;\">Yes</td><td style = \"text-align: right;\">1</td><td style = \"text-align: left;\">Low</td><td style = \"text-align: left;\">Low</td><td style = \"text-align: left;\">Private</td><td style = \"text-align: left;\">Positive</td><td style = \"text-align: right;\">2</td><td style = \"text-align: left;\">No</td><td style = \"text-align: left;\">College</td><td style = \"font-style: italic; text-align: left;\">missing</td><td style = \"text-align: left;\">Female</td><td style = \"text-align: right;\">70</td></tr><tr><td class = \"rowNumber\" style = \"font-weight: bold; text-align: right;\">2667</td><td style = \"text-align: right;\">29</td><td style = \"text-align: right;\">100</td><td style = \"text-align: left;\">Medium</td><td style = \"text-align: left;\">Low</td><td style = \"text-align: left;\">Yes</td><td style = \"text-align: right;\">8</td><td style = \"text-align: right;\">100</td><td style = \"text-align: left;\">Low</td><td style = \"text-align: left;\">Yes</td><td style = \"text-align: right;\">0</td><td style = \"text-align: left;\">Low</td><td style = \"text-align: left;\">Medium</td><td style = \"text-align: left;\">Private</td><td style = \"text-align: left;\">Neutral</td><td style = \"text-align: right;\">5</td><td style = \"text-align: left;\">Yes</td><td style = \"text-align: left;\">High School</td><td style = \"text-align: left;\">Near</td><td style = \"text-align: left;\">Male</td><td style = \"text-align: right;\">72</td></tr><tr><td class = \"rowNumber\" style = \"font-weight: bold; text-align: right;\">2668</td><td style = \"text-align: right;\">16</td><td style = \"text-align: right;\">75</td><td style = \"text-align: left;\">High</td><td style = \"text-align: left;\">Low</td><td style = \"text-align: left;\">Yes</td><td style = \"text-align: right;\">10</td><td style = \"text-align: right;\">53</td><td style = \"text-align: left;\">High</td><td style = \"text-align: left;\">Yes</td><td style = \"text-align: right;\">0</td><td style = \"text-align: left;\">Low</td><td style = \"text-align: left;\">Low</td><td style = \"text-align: left;\">Public</td><td style = \"text-align: left;\">Positive</td><td style = \"text-align: right;\">4</td><td style = \"text-align: left;\">No</td><td style = \"text-align: left;\">College</td><td style = \"text-align: left;\">Near</td><td style = \"text-align: left;\">Female</td><td style = \"text-align: right;\">64</td></tr><tr><td class = \"rowNumber\" style = \"font-weight: bold; text-align: right;\">2669</td><td style = \"text-align: right;\">17</td><td style = \"text-align: right;\">92</td><td style = \"text-align: left;\">Medium</td><td style = \"text-align: left;\">Medium</td><td style = \"text-align: left;\">No</td><td style = \"text-align: right;\">7</td><td style = \"text-align: right;\">66</td><td style = \"text-align: left;\">Low</td><td style = \"text-align: left;\">Yes</td><td style = \"text-align: right;\">2</td><td style = \"text-align: left;\">Low</td><td style = \"font-style: italic; text-align: left;\">missing</td><td style = \"text-align: left;\">Public</td><td style = \"text-align: left;\">Negative</td><td style = \"text-align: right;\">3</td><td style = \"text-align: left;\">No</td><td style = \"text-align: left;\">High School</td><td style = \"text-align: left;\">Near</td><td style = \"text-align: left;\">Male</td><td style = \"text-align: right;\">66</td></tr><tr><td class = \"rowNumber\" style = \"font-weight: bold; text-align: right;\">2670</td><td style = \"text-align: right;\">23</td><td style = \"text-align: right;\">76</td><td style = \"text-align: left;\">High</td><td style = \"text-align: left;\">Medium</td><td style = \"text-align: left;\">No</td><td style = \"text-align: right;\">8</td><td style = \"text-align: right;\">81</td><td style = \"text-align: left;\">Medium</td><td style = \"text-align: left;\">Yes</td><td style = \"text-align: right;\">3</td><td style = \"text-align: left;\">Low</td><td style = \"text-align: left;\">High</td><td style = \"text-align: left;\">Public</td><td style = \"text-align: left;\">Positive</td><td style = \"text-align: right;\">2</td><td style = \"text-align: left;\">No</td><td style = \"text-align: left;\">High School</td><td style = \"text-align: left;\">Near</td><td style = \"text-align: left;\">Female</td><td style = \"text-align: right;\">69</td></tr><tr><td class = \"rowNumber\" style = \"font-weight: bold; text-align: right;\">2671</td><td style = \"text-align: right;\">20</td><td style = \"text-align: right;\">90</td><td style = \"text-align: left;\">Medium</td><td style = \"text-align: left;\">Low</td><td style = \"text-align: left;\">Yes</td><td style = \"text-align: right;\">6</td><td style = \"text-align: right;\">65</td><td style = \"text-align: left;\">Low</td><td style = \"text-align: left;\">Yes</td><td style = \"text-align: right;\">3</td><td style = \"text-align: left;\">Low</td><td style = \"text-align: left;\">Medium</td><td style = \"text-align: left;\">Public</td><td style = \"text-align: left;\">Negative</td><td style = \"text-align: right;\">2</td><td style = \"text-align: left;\">No</td><td style = \"text-align: left;\">Postgraduate</td><td style = \"text-align: left;\">Near</td><td style = \"text-align: left;\">Female</td><td style = \"text-align: right;\">68</td></tr><tr><td class = \"rowNumber\" style = \"font-weight: bold; text-align: right;\">2672</td><td style = \"text-align: right;\">10</td><td style = \"text-align: right;\">86</td><td style = \"text-align: left;\">High</td><td style = \"text-align: left;\">High</td><td style = \"text-align: left;\">Yes</td><td style = \"text-align: right;\">6</td><td style = \"text-align: right;\">91</td><td style = \"text-align: left;\">High</td><td style = \"text-align: left;\">Yes</td><td style = \"text-align: right;\">2</td><td style = \"text-align: left;\">Low</td><td style = \"text-align: left;\">Medium</td><td style = \"text-align: left;\">Private</td><td style = \"text-align: left;\">Positive</td><td style = \"text-align: right;\">3</td><td style = \"text-align: left;\">No</td><td style = \"text-align: left;\">High School</td><td style = \"text-align: left;\">Far</td><td style = \"text-align: left;\">Female</td><td style = \"text-align: right;\">68</td></tr></tbody></table></div><p>&vellip;</p><div><div style = \"float: left;\"><span>Last Group (1269 rows): Family_Income = &quot;High&quot;</span></div><div style = \"float: right;\"><span style = \"font-style: italic;\">1244 rows omitted</span></div><div style = \"clear: both;\"></div></div><div class = \"data-frame\" style = \"overflow-x: scroll;\"><table class = \"data-frame\" style = \"margin-bottom: 6px;\"><thead><tr class = \"header\"><th class = \"rowNumber\" style = \"font-weight: bold; text-align: right;\">Row</th><th style = \"text-align: left;\">Hours_Studied</th><th style = \"text-align: left;\">Attendance</th><th style = \"text-align: left;\">Parental_Involvement</th><th style = \"text-align: left;\">Access_to_Resources</th><th style = \"text-align: left;\">Extracurricular_Activities</th><th style = \"text-align: left;\">Sleep_Hours</th><th style = \"text-align: left;\">Previous_Scores</th><th style = \"text-align: left;\">Motivation_Level</th><th style = \"text-align: left;\">Internet_Access</th><th style = \"text-align: left;\">Tutoring_Sessions</th><th style = \"text-align: left;\">Family_Income</th><th style = \"text-align: left;\">Teacher_Quality</th><th style = \"text-align: left;\">School_Type</th><th style = \"text-align: left;\">Peer_Influence</th><th style = \"text-align: left;\">Physical_Activity</th><th style = \"text-align: left;\">Learning_Disabilities</th><th style = \"text-align: left;\">Parental_Education_Level</th><th style = \"text-align: left;\">Distance_from_Home</th><th style = \"text-align: left;\">Gender</th><th style = \"text-align: left;\">Exam_Score</th></tr><tr class = \"subheader headerLastRow\"><th class = \"rowNumber\" style = \"font-weight: bold; text-align: right;\"></th><th title = \"Int64\" style = \"text-align: left;\">Int64</th><th title = \"Int64\" style = \"text-align: left;\">Int64</th><th title = \"String7\" style = \"text-align: left;\">String7</th><th title = \"String7\" style = \"text-align: left;\">String7</th><th title = \"String3\" style = \"text-align: left;\">String3</th><th title = \"Int64\" style = \"text-align: left;\">Int64</th><th title = \"Int64\" style = \"text-align: left;\">Int64</th><th title = \"String7\" style = \"text-align: left;\">String7</th><th title = \"String3\" style = \"text-align: left;\">String3</th><th title = \"Int64\" style = \"text-align: left;\">Int64</th><th title = \"String7\" style = \"text-align: left;\">String7</th><th title = \"Union{Missing, String7}\" style = \"text-align: left;\">String7?</th><th title = \"String7\" style = \"text-align: left;\">String7</th><th title = \"String15\" style = \"text-align: left;\">String15</th><th title = \"Int64\" style = \"text-align: left;\">Int64</th><th title = \"String3\" style = \"text-align: left;\">String3</th><th title = \"Union{Missing, String15}\" style = \"text-align: left;\">String15?</th><th title = \"Union{Missing, String15}\" style = \"text-align: left;\">String15?</th><th title = \"String7\" style = \"text-align: left;\">String7</th><th title = \"Int64\" style = \"text-align: left;\">Int64</th></tr></thead><tbody><tr><td class = \"rowNumber\" style = \"font-weight: bold; text-align: right;\">1</td><td style = \"text-align: right;\">25</td><td style = \"text-align: right;\">78</td><td style = \"text-align: left;\">Low</td><td style = \"text-align: left;\">High</td><td style = \"text-align: left;\">Yes</td><td style = \"text-align: right;\">6</td><td style = \"text-align: right;\">50</td><td style = \"text-align: left;\">Medium</td><td style = \"text-align: left;\">Yes</td><td style = \"text-align: right;\">1</td><td style = \"text-align: left;\">High</td><td style = \"text-align: left;\">High</td><td style = \"text-align: left;\">Public</td><td style = \"text-align: left;\">Negative</td><td style = \"text-align: right;\">2</td><td style = \"text-align: left;\">No</td><td style = \"text-align: left;\">High School</td><td style = \"text-align: left;\">Far</td><td style = \"text-align: left;\">Male</td><td style = \"text-align: right;\">66</td></tr><tr><td class = \"rowNumber\" style = \"font-weight: bold; text-align: right;\">2</td><td style = \"text-align: right;\">23</td><td style = \"text-align: right;\">98</td><td style = \"text-align: left;\">Medium</td><td style = \"text-align: left;\">Medium</td><td style = \"text-align: left;\">Yes</td><td style = \"text-align: right;\">8</td><td style = \"text-align: right;\">71</td><td style = \"text-align: left;\">Medium</td><td style = \"text-align: left;\">Yes</td><td style = \"text-align: right;\">0</td><td style = \"text-align: left;\">High</td><td style = \"text-align: left;\">High</td><td style = \"text-align: left;\">Public</td><td style = \"text-align: left;\">Positive</td><td style = \"text-align: right;\">5</td><td style = \"text-align: left;\">No</td><td style = \"text-align: left;\">High School</td><td style = \"text-align: left;\">Moderate</td><td style = \"text-align: left;\">Male</td><td style = \"text-align: right;\">72</td></tr><tr><td class = \"rowNumber\" style = \"font-weight: bold; text-align: right;\">3</td><td style = \"text-align: right;\">14</td><td style = \"text-align: right;\">60</td><td style = \"text-align: left;\">Medium</td><td style = \"text-align: left;\">Low</td><td style = \"text-align: left;\">Yes</td><td style = \"text-align: right;\">10</td><td style = \"text-align: right;\">65</td><td style = \"text-align: left;\">Low</td><td style = \"text-align: left;\">Yes</td><td style = \"text-align: right;\">0</td><td style = \"text-align: left;\">High</td><td style = \"text-align: left;\">Medium</td><td style = \"text-align: left;\">Private</td><td style = \"text-align: left;\">Positive</td><td style = \"text-align: right;\">3</td><td style = \"text-align: left;\">No</td><td style = \"text-align: left;\">College</td><td style = \"text-align: left;\">Near</td><td style = \"text-align: left;\">Male</td><td style = \"text-align: right;\">60</td></tr><tr><td class = \"rowNumber\" style = \"font-weight: bold; text-align: right;\">4</td><td style = \"text-align: right;\">29</td><td style = \"text-align: right;\">78</td><td style = \"text-align: left;\">Medium</td><td style = \"text-align: left;\">Medium</td><td style = \"text-align: left;\">No</td><td style = \"text-align: right;\">5</td><td style = \"text-align: right;\">99</td><td style = \"text-align: left;\">High</td><td style = \"text-align: left;\">Yes</td><td style = \"text-align: right;\">0</td><td style = \"text-align: left;\">High</td><td style = \"text-align: left;\">Medium</td><td style = \"text-align: left;\">Public</td><td style = \"text-align: left;\">Negative</td><td style = \"text-align: right;\">1</td><td style = \"text-align: left;\">No</td><td style = \"text-align: left;\">High School</td><td style = \"text-align: left;\">Moderate</td><td style = \"text-align: left;\">Female</td><td style = \"text-align: right;\">69</td></tr><tr><td class = \"rowNumber\" style = \"font-weight: bold; text-align: right;\">5</td><td style = \"text-align: right;\">21</td><td style = \"text-align: right;\">62</td><td style = \"text-align: left;\">High</td><td style = \"text-align: left;\">Low</td><td style = \"text-align: left;\">Yes</td><td style = \"text-align: right;\">6</td><td style = \"text-align: right;\">54</td><td style = \"text-align: left;\">High</td><td style = \"text-align: left;\">Yes</td><td style = \"text-align: right;\">0</td><td style = \"text-align: left;\">High</td><td style = \"text-align: left;\">High</td><td style = \"text-align: left;\">Public</td><td style = \"text-align: left;\">Positive</td><td style = \"text-align: right;\">3</td><td style = \"text-align: left;\">No</td><td style = \"text-align: left;\">Postgraduate</td><td style = \"text-align: left;\">Far</td><td style = \"text-align: left;\">Male</td><td style = \"text-align: right;\">64</td></tr><tr><td class = \"rowNumber\" style = \"font-weight: bold; text-align: right;\">6</td><td style = \"text-align: right;\">13</td><td style = \"text-align: right;\">91</td><td style = \"text-align: left;\">Low</td><td style = \"text-align: left;\">Medium</td><td style = \"text-align: left;\">No</td><td style = \"text-align: right;\">6</td><td style = \"text-align: right;\">90</td><td style = \"text-align: left;\">Medium</td><td style = \"text-align: left;\">Yes</td><td style = \"text-align: right;\">1</td><td style = \"text-align: left;\">High</td><td style = \"text-align: left;\">Medium</td><td style = \"text-align: left;\">Public</td><td style = \"text-align: left;\">Negative</td><td style = \"text-align: right;\">2</td><td style = \"text-align: left;\">Yes</td><td style = \"text-align: left;\">High School</td><td style = \"text-align: left;\">Moderate</td><td style = \"text-align: left;\">Female</td><td style = \"text-align: right;\">65</td></tr><tr><td class = \"rowNumber\" style = \"font-weight: bold; text-align: right;\">7</td><td style = \"text-align: right;\">22</td><td style = \"text-align: right;\">83</td><td style = \"text-align: left;\">High</td><td style = \"text-align: left;\">High</td><td style = \"text-align: left;\">Yes</td><td style = \"text-align: right;\">6</td><td style = \"text-align: right;\">94</td><td style = \"text-align: left;\">Medium</td><td style = \"text-align: left;\">Yes</td><td style = \"text-align: right;\">0</td><td style = \"text-align: left;\">High</td><td style = \"text-align: left;\">Medium</td><td style = \"text-align: left;\">Public</td><td style = \"text-align: left;\">Neutral</td><td style = \"text-align: right;\">2</td><td style = \"text-align: left;\">No</td><td style = \"text-align: left;\">College</td><td style = \"text-align: left;\">Moderate</td><td style = \"text-align: left;\">Male</td><td style = \"text-align: right;\">71</td></tr><tr><td class = \"rowNumber\" style = \"font-weight: bold; text-align: right;\">8</td><td style = \"text-align: right;\">16</td><td style = \"text-align: right;\">83</td><td style = \"text-align: left;\">Low</td><td style = \"text-align: left;\">Medium</td><td style = \"text-align: left;\">No</td><td style = \"text-align: right;\">6</td><td style = \"text-align: right;\">57</td><td style = \"text-align: left;\">Medium</td><td style = \"text-align: left;\">Yes</td><td style = \"text-align: right;\">0</td><td style = \"text-align: left;\">High</td><td style = \"text-align: left;\">Low</td><td style = \"text-align: left;\">Public</td><td style = \"text-align: left;\">Positive</td><td style = \"text-align: right;\">4</td><td style = \"text-align: left;\">Yes</td><td style = \"text-align: left;\">High School</td><td style = \"text-align: left;\">Near</td><td style = \"text-align: left;\">Female</td><td style = \"text-align: right;\">63</td></tr><tr><td class = \"rowNumber\" style = \"font-weight: bold; text-align: right;\">9</td><td style = \"text-align: right;\">31</td><td style = \"text-align: right;\">70</td><td style = \"text-align: left;\">Medium</td><td style = \"text-align: left;\">High</td><td style = \"text-align: left;\">Yes</td><td style = \"text-align: right;\">7</td><td style = \"text-align: right;\">66</td><td style = \"text-align: left;\">Medium</td><td style = \"text-align: left;\">Yes</td><td style = \"text-align: right;\">1</td><td style = \"text-align: left;\">High</td><td style = \"text-align: left;\">Medium</td><td style = \"text-align: left;\">Public</td><td style = \"text-align: left;\">Negative</td><td style = \"text-align: right;\">3</td><td style = \"text-align: left;\">No</td><td style = \"text-align: left;\">College</td><td style = \"text-align: left;\">Near</td><td style = \"text-align: left;\">Male</td><td style = \"text-align: right;\">69</td></tr><tr><td class = \"rowNumber\" style = \"font-weight: bold; text-align: right;\">10</td><td style = \"text-align: right;\">24</td><td style = \"text-align: right;\">68</td><td style = \"text-align: left;\">High</td><td style = \"text-align: left;\">Medium</td><td style = \"text-align: left;\">No</td><td style = \"text-align: right;\">8</td><td style = \"text-align: right;\">56</td><td style = \"text-align: left;\">Low</td><td style = \"text-align: left;\">Yes</td><td style = \"text-align: right;\">3</td><td style = \"text-align: left;\">High</td><td style = \"text-align: left;\">High</td><td style = \"text-align: left;\">Public</td><td style = \"text-align: left;\">Neutral</td><td style = \"text-align: right;\">1</td><td style = \"text-align: left;\">No</td><td style = \"text-align: left;\">College</td><td style = \"text-align: left;\">Near</td><td style = \"text-align: left;\">Male</td><td style = \"text-align: right;\">67</td></tr><tr><td class = \"rowNumber\" style = \"font-weight: bold; text-align: right;\">11</td><td style = \"text-align: right;\">26</td><td style = \"text-align: right;\">67</td><td style = \"text-align: left;\">Medium</td><td style = \"text-align: left;\">High</td><td style = \"text-align: left;\">Yes</td><td style = \"text-align: right;\">7</td><td style = \"text-align: right;\">51</td><td style = \"text-align: left;\">Low</td><td style = \"text-align: left;\">Yes</td><td style = \"text-align: right;\">2</td><td style = \"text-align: left;\">High</td><td style = \"text-align: left;\">High</td><td style = \"text-align: left;\">Private</td><td style = \"text-align: left;\">Neutral</td><td style = \"text-align: right;\">4</td><td style = \"text-align: left;\">Yes</td><td style = \"text-align: left;\">Postgraduate</td><td style = \"text-align: left;\">Far</td><td style = \"text-align: left;\">Female</td><td style = \"text-align: right;\">66</td></tr><tr><td class = \"rowNumber\" style = \"font-weight: bold; text-align: right;\">12</td><td style = \"text-align: right;\">17</td><td style = \"text-align: right;\">87</td><td style = \"text-align: left;\">Medium</td><td style = \"text-align: left;\">Medium</td><td style = \"text-align: left;\">No</td><td style = \"text-align: right;\">7</td><td style = \"text-align: right;\">96</td><td style = \"text-align: left;\">Medium</td><td style = \"text-align: left;\">Yes</td><td style = \"text-align: right;\">1</td><td style = \"text-align: left;\">High</td><td style = \"text-align: left;\">Medium</td><td style = \"text-align: left;\">Public</td><td style = \"text-align: left;\">Negative</td><td style = \"text-align: right;\">5</td><td style = \"text-align: left;\">No</td><td style = \"text-align: left;\">Postgraduate</td><td style = \"text-align: left;\">Near</td><td style = \"text-align: left;\">Female</td><td style = \"text-align: right;\">70</td></tr><tr><td class = \"rowNumber\" style = \"font-weight: bold; text-align: right;\">13</td><td style = \"text-align: right;\">21</td><td style = \"text-align: right;\">72</td><td style = \"text-align: left;\">Medium</td><td style = \"text-align: left;\">Medium</td><td style = \"text-align: left;\">Yes</td><td style = \"text-align: right;\">5</td><td style = \"text-align: right;\">57</td><td style = \"text-align: left;\">Medium</td><td style = \"text-align: left;\">Yes</td><td style = \"text-align: right;\">1</td><td style = \"text-align: left;\">High</td><td style = \"text-align: left;\">Medium</td><td style = \"text-align: left;\">Public</td><td style = \"text-align: left;\">Neutral</td><td style = \"text-align: right;\">5</td><td style = \"text-align: left;\">Yes</td><td style = \"text-align: left;\">College</td><td style = \"text-align: left;\">Moderate</td><td style = \"text-align: left;\">Male</td><td style = \"text-align: right;\">64</td></tr><tr><td style = \"text-align: right;\">&vellip;</td><td style = \"text-align: right;\">&vellip;</td><td style = \"text-align: right;\">&vellip;</td><td style = \"text-align: right;\">&vellip;</td><td style = \"text-align: right;\">&vellip;</td><td style = \"text-align: right;\">&vellip;</td><td style = \"text-align: right;\">&vellip;</td><td style = \"text-align: right;\">&vellip;</td><td style = \"text-align: right;\">&vellip;</td><td style = \"text-align: right;\">&vellip;</td><td style = \"text-align: right;\">&vellip;</td><td style = \"text-align: right;\">&vellip;</td><td style = \"text-align: right;\">&vellip;</td><td style = \"text-align: right;\">&vellip;</td><td style = \"text-align: right;\">&vellip;</td><td style = \"text-align: right;\">&vellip;</td><td style = \"text-align: right;\">&vellip;</td><td style = \"text-align: right;\">&vellip;</td><td style = \"text-align: right;\">&vellip;</td><td style = \"text-align: right;\">&vellip;</td><td style = \"text-align: right;\">&vellip;</td></tr><tr><td class = \"rowNumber\" style = \"font-weight: bold; text-align: right;\">1258</td><td style = \"text-align: right;\">18</td><td style = \"text-align: right;\">68</td><td style = \"text-align: left;\">Low</td><td style = \"text-align: left;\">High</td><td style = \"text-align: left;\">No</td><td style = \"text-align: right;\">8</td><td style = \"text-align: right;\">96</td><td style = \"text-align: left;\">Medium</td><td style = \"text-align: left;\">Yes</td><td style = \"text-align: right;\">1</td><td style = \"text-align: left;\">High</td><td style = \"text-align: left;\">Medium</td><td style = \"text-align: left;\">Public</td><td style = \"text-align: left;\">Neutral</td><td style = \"text-align: right;\">3</td><td style = \"text-align: left;\">No</td><td style = \"text-align: left;\">High School</td><td style = \"text-align: left;\">Moderate</td><td style = \"text-align: left;\">Male</td><td style = \"text-align: right;\">65</td></tr><tr><td class = \"rowNumber\" style = \"font-weight: bold; text-align: right;\">1259</td><td style = \"text-align: right;\">11</td><td style = \"text-align: right;\">67</td><td style = \"text-align: left;\">Medium</td><td style = \"text-align: left;\">High</td><td style = \"text-align: left;\">No</td><td style = \"text-align: right;\">8</td><td style = \"text-align: right;\">52</td><td style = \"text-align: left;\">High</td><td style = \"text-align: left;\">Yes</td><td style = \"text-align: right;\">3</td><td style = \"text-align: left;\">High</td><td style = \"text-align: left;\">High</td><td style = \"text-align: left;\">Public</td><td style = \"text-align: left;\">Negative</td><td style = \"text-align: right;\">3</td><td style = \"text-align: left;\">No</td><td style = \"text-align: left;\">College</td><td style = \"text-align: left;\">Moderate</td><td style = \"text-align: left;\">Female</td><td style = \"text-align: right;\">63</td></tr><tr><td class = \"rowNumber\" style = \"font-weight: bold; text-align: right;\">1260</td><td style = \"text-align: right;\">30</td><td style = \"text-align: right;\">62</td><td style = \"text-align: left;\">Low</td><td style = \"text-align: left;\">Low</td><td style = \"text-align: left;\">Yes</td><td style = \"text-align: right;\">7</td><td style = \"text-align: right;\">97</td><td style = \"text-align: left;\">Medium</td><td style = \"text-align: left;\">Yes</td><td style = \"text-align: right;\">0</td><td style = \"text-align: left;\">High</td><td style = \"text-align: left;\">Medium</td><td style = \"text-align: left;\">Private</td><td style = \"text-align: left;\">Neutral</td><td style = \"text-align: right;\">5</td><td style = \"text-align: left;\">No</td><td style = \"text-align: left;\">College</td><td style = \"text-align: left;\">Near</td><td style = \"text-align: left;\">Female</td><td style = \"text-align: right;\">66</td></tr><tr><td class = \"rowNumber\" style = \"font-weight: bold; text-align: right;\">1261</td><td style = \"text-align: right;\">21</td><td style = \"text-align: right;\">82</td><td style = \"text-align: left;\">Medium</td><td style = \"text-align: left;\">High</td><td style = \"text-align: left;\">No</td><td style = \"text-align: right;\">7</td><td style = \"text-align: right;\">95</td><td style = \"text-align: left;\">High</td><td style = \"text-align: left;\">Yes</td><td style = \"text-align: right;\">1</td><td style = \"text-align: left;\">High</td><td style = \"text-align: left;\">Medium</td><td style = \"text-align: left;\">Public</td><td style = \"text-align: left;\">Negative</td><td style = \"text-align: right;\">3</td><td style = \"text-align: left;\">No</td><td style = \"text-align: left;\">High School</td><td style = \"text-align: left;\">Near</td><td style = \"text-align: left;\">Male</td><td style = \"text-align: right;\">70</td></tr><tr><td class = \"rowNumber\" style = \"font-weight: bold; text-align: right;\">1262</td><td style = \"text-align: right;\">18</td><td style = \"text-align: right;\">68</td><td style = \"text-align: left;\">High</td><td style = \"text-align: left;\">High</td><td style = \"text-align: left;\">Yes</td><td style = \"text-align: right;\">8</td><td style = \"text-align: right;\">52</td><td style = \"text-align: left;\">High</td><td style = \"text-align: left;\">Yes</td><td style = \"text-align: right;\">0</td><td style = \"text-align: left;\">High</td><td style = \"text-align: left;\">High</td><td style = \"text-align: left;\">Public</td><td style = \"text-align: left;\">Positive</td><td style = \"text-align: right;\">3</td><td style = \"text-align: left;\">No</td><td style = \"text-align: left;\">College</td><td style = \"text-align: left;\">Near</td><td style = \"text-align: left;\">Male</td><td style = \"text-align: right;\">67</td></tr><tr><td class = \"rowNumber\" style = \"font-weight: bold; text-align: right;\">1263</td><td style = \"text-align: right;\">15</td><td style = \"text-align: right;\">88</td><td style = \"text-align: left;\">Low</td><td style = \"text-align: left;\">Medium</td><td style = \"text-align: left;\">Yes</td><td style = \"text-align: right;\">6</td><td style = \"text-align: right;\">61</td><td style = \"text-align: left;\">Medium</td><td style = \"text-align: left;\">Yes</td><td style = \"text-align: right;\">0</td><td style = \"text-align: left;\">High</td><td style = \"text-align: left;\">Medium</td><td style = \"text-align: left;\">Public</td><td style = \"text-align: left;\">Neutral</td><td style = \"text-align: right;\">4</td><td style = \"text-align: left;\">Yes</td><td style = \"text-align: left;\">Postgraduate</td><td style = \"text-align: left;\">Far</td><td style = \"text-align: left;\">Male</td><td style = \"text-align: right;\">65</td></tr><tr><td class = \"rowNumber\" style = \"font-weight: bold; text-align: right;\">1264</td><td style = \"text-align: right;\">13</td><td style = \"text-align: right;\">74</td><td style = \"text-align: left;\">Medium</td><td style = \"text-align: left;\">High</td><td style = \"text-align: left;\">Yes</td><td style = \"text-align: right;\">8</td><td style = \"text-align: right;\">98</td><td style = \"text-align: left;\">High</td><td style = \"text-align: left;\">Yes</td><td style = \"text-align: right;\">1</td><td style = \"text-align: left;\">High</td><td style = \"text-align: left;\">High</td><td style = \"text-align: left;\">Public</td><td style = \"text-align: left;\">Negative</td><td style = \"text-align: right;\">2</td><td style = \"text-align: left;\">No</td><td style = \"text-align: left;\">High School</td><td style = \"text-align: left;\">Near</td><td style = \"text-align: left;\">Male</td><td style = \"text-align: right;\">66</td></tr><tr><td class = \"rowNumber\" style = \"font-weight: bold; text-align: right;\">1265</td><td style = \"text-align: right;\">9</td><td style = \"text-align: right;\">90</td><td style = \"text-align: left;\">High</td><td style = \"text-align: left;\">High</td><td style = \"text-align: left;\">Yes</td><td style = \"text-align: right;\">7</td><td style = \"text-align: right;\">79</td><td style = \"text-align: left;\">Low</td><td style = \"text-align: left;\">Yes</td><td style = \"text-align: right;\">4</td><td style = \"text-align: left;\">High</td><td style = \"text-align: left;\">High</td><td style = \"text-align: left;\">Public</td><td style = \"text-align: left;\">Positive</td><td style = \"text-align: right;\">4</td><td style = \"text-align: left;\">No</td><td style = \"text-align: left;\">High School</td><td style = \"font-style: italic; text-align: left;\">missing</td><td style = \"text-align: left;\">Male</td><td style = \"text-align: right;\">70</td></tr><tr><td class = \"rowNumber\" style = \"font-weight: bold; text-align: right;\">1266</td><td style = \"text-align: right;\">16</td><td style = \"text-align: right;\">91</td><td style = \"text-align: left;\">High</td><td style = \"text-align: left;\">Medium</td><td style = \"text-align: left;\">Yes</td><td style = \"text-align: right;\">6</td><td style = \"text-align: right;\">72</td><td style = \"text-align: left;\">High</td><td style = \"text-align: left;\">Yes</td><td style = \"text-align: right;\">0</td><td style = \"text-align: left;\">High</td><td style = \"text-align: left;\">High</td><td style = \"text-align: left;\">Public</td><td style = \"text-align: left;\">Negative</td><td style = \"text-align: right;\">2</td><td style = \"text-align: left;\">No</td><td style = \"text-align: left;\">Postgraduate</td><td style = \"text-align: left;\">Near</td><td style = \"text-align: left;\">Female</td><td style = \"text-align: right;\">70</td></tr><tr><td class = \"rowNumber\" style = \"font-weight: bold; text-align: right;\">1267</td><td style = \"text-align: right;\">9</td><td style = \"text-align: right;\">87</td><td style = \"text-align: left;\">Low</td><td style = \"text-align: left;\">Medium</td><td style = \"text-align: left;\">Yes</td><td style = \"text-align: right;\">6</td><td style = \"text-align: right;\">64</td><td style = \"text-align: left;\">Medium</td><td style = \"text-align: left;\">Yes</td><td style = \"text-align: right;\">1</td><td style = \"text-align: left;\">High</td><td style = \"text-align: left;\">Medium</td><td style = \"text-align: left;\">Public</td><td style = \"text-align: left;\">Neutral</td><td style = \"text-align: right;\">2</td><td style = \"text-align: left;\">No</td><td style = \"text-align: left;\">High School</td><td style = \"text-align: left;\">Near</td><td style = \"text-align: left;\">Female</td><td style = \"text-align: right;\">64</td></tr><tr><td class = \"rowNumber\" style = \"font-weight: bold; text-align: right;\">1268</td><td style = \"text-align: right;\">30</td><td style = \"text-align: right;\">94</td><td style = \"text-align: left;\">Medium</td><td style = \"text-align: left;\">Low</td><td style = \"text-align: left;\">No</td><td style = \"text-align: right;\">5</td><td style = \"text-align: right;\">52</td><td style = \"text-align: left;\">Low</td><td style = \"text-align: left;\">No</td><td style = \"text-align: right;\">3</td><td style = \"text-align: left;\">High</td><td style = \"text-align: left;\">Medium</td><td style = \"text-align: left;\">Private</td><td style = \"text-align: left;\">Neutral</td><td style = \"text-align: right;\">2</td><td style = \"text-align: left;\">No</td><td style = \"text-align: left;\">Postgraduate</td><td style = \"text-align: left;\">Moderate</td><td style = \"text-align: left;\">Female</td><td style = \"text-align: right;\">70</td></tr><tr><td class = \"rowNumber\" style = \"font-weight: bold; text-align: right;\">1269</td><td style = \"text-align: right;\">25</td><td style = \"text-align: right;\">69</td><td style = \"text-align: left;\">High</td><td style = \"text-align: left;\">Medium</td><td style = \"text-align: left;\">No</td><td style = \"text-align: right;\">7</td><td style = \"text-align: right;\">76</td><td style = \"text-align: left;\">Medium</td><td style = \"text-align: left;\">Yes</td><td style = \"text-align: right;\">1</td><td style = \"text-align: left;\">High</td><td style = \"text-align: left;\">Medium</td><td style = \"text-align: left;\">Public</td><td style = \"text-align: left;\">Positive</td><td style = \"text-align: right;\">2</td><td style = \"text-align: left;\">No</td><td style = \"text-align: left;\">High School</td><td style = \"text-align: left;\">Near</td><td style = \"text-align: left;\">Female</td><td style = \"text-align: right;\">68</td></tr></tbody></table></div>"
      ],
      "text/latex": [
       "GroupedDataFrame with 3 groups based on key: Family\\_Income\n",
       "\n",
       "First Group (2672 rows): Family\\_Income = \"Low\"\n",
       "\n",
       "\\begin{tabular}{r|cccccc}\n",
       "\t& Hours\\_Studied & Attendance & Parental\\_Involvement & Access\\_to\\_Resources & Extracurricular\\_Activities & \\\\\n",
       "\t\\hline\n",
       "\t& Int64 & Int64 & String7 & String7 & String3 & \\\\\n",
       "\t\\hline\n",
       "\t1 & 23 & 84 & Low & High & No & $\\dots$ \\\\\n",
       "\t2 & 29 & 84 & Medium & Low & Yes & $\\dots$ \\\\\n",
       "\t3 & 17 & 97 & Medium & High & Yes & $\\dots$ \\\\\n",
       "\t4 & 10 & 78 & Medium & High & Yes & $\\dots$ \\\\\n",
       "\t5 & 22 & 70 & Low & Medium & Yes & $\\dots$ \\\\\n",
       "\t6 & 15 & 80 & Medium & Medium & Yes & $\\dots$ \\\\\n",
       "\t7 & 11 & 78 & High & Medium & Yes & $\\dots$ \\\\\n",
       "\t8 & 17 & 65 & Low & High & Yes & $\\dots$ \\\\\n",
       "\t9 & 16 & 90 & Medium & Medium & No & $\\dots$ \\\\\n",
       "\t10 & 18 & 66 & High & High & No & $\\dots$ \\\\\n",
       "\t11 & 13 & 72 & Low & Medium & No & $\\dots$ \\\\\n",
       "\t12 & 8 & 99 & Medium & Medium & No & $\\dots$ \\\\\n",
       "\t13 & 12 & 72 & Low & Medium & Yes & $\\dots$ \\\\\n",
       "\t14 & 26 & 61 & Medium & Low & Yes & $\\dots$ \\\\\n",
       "\t15 & 22 & 86 & Low & Medium & Yes & $\\dots$ \\\\\n",
       "\t16 & 26 & 88 & Medium & High & Yes & $\\dots$ \\\\\n",
       "\t17 & 26 & 91 & Medium & Low & Yes & $\\dots$ \\\\\n",
       "\t18 & 19 & 65 & Medium & Medium & Yes & $\\dots$ \\\\\n",
       "\t19 & 13 & 88 & Low & High & Yes & $\\dots$ \\\\\n",
       "\t20 & 13 & 78 & Medium & High & Yes & $\\dots$ \\\\\n",
       "\t21 & 20 & 86 & Medium & Medium & Yes & $\\dots$ \\\\\n",
       "\t22 & 22 & 98 & Medium & High & No & $\\dots$ \\\\\n",
       "\t23 & 16 & 73 & Medium & Medium & No & $\\dots$ \\\\\n",
       "\t24 & 29 & 96 & Medium & Low & Yes & $\\dots$ \\\\\n",
       "\t$\\dots$ & $\\dots$ & $\\dots$ & $\\dots$ & $\\dots$ & $\\dots$ &  \\\\\n",
       "\\end{tabular}\n",
       "\n",
       "$\\dots$\n",
       "\n",
       "Last Group (1269 rows): Family\\_Income = \"High\"\n",
       "\n",
       "\\begin{tabular}{r|cccccc}\n",
       "\t& Hours\\_Studied & Attendance & Parental\\_Involvement & Access\\_to\\_Resources & Extracurricular\\_Activities & \\\\\n",
       "\t\\hline\n",
       "\t& Int64 & Int64 & String7 & String7 & String3 & \\\\\n",
       "\t\\hline\n",
       "\t1 & 25 & 78 & Low & High & Yes & $\\dots$ \\\\\n",
       "\t2 & 23 & 98 & Medium & Medium & Yes & $\\dots$ \\\\\n",
       "\t3 & 14 & 60 & Medium & Low & Yes & $\\dots$ \\\\\n",
       "\t4 & 29 & 78 & Medium & Medium & No & $\\dots$ \\\\\n",
       "\t5 & 21 & 62 & High & Low & Yes & $\\dots$ \\\\\n",
       "\t6 & 13 & 91 & Low & Medium & No & $\\dots$ \\\\\n",
       "\t7 & 22 & 83 & High & High & Yes & $\\dots$ \\\\\n",
       "\t8 & 16 & 83 & Low & Medium & No & $\\dots$ \\\\\n",
       "\t9 & 31 & 70 & Medium & High & Yes & $\\dots$ \\\\\n",
       "\t10 & 24 & 68 & High & Medium & No & $\\dots$ \\\\\n",
       "\t11 & 26 & 67 & Medium & High & Yes & $\\dots$ \\\\\n",
       "\t12 & 17 & 87 & Medium & Medium & No & $\\dots$ \\\\\n",
       "\t13 & 21 & 72 & Medium & Medium & Yes & $\\dots$ \\\\\n",
       "\t14 & 8 & 61 & Medium & Medium & Yes & $\\dots$ \\\\\n",
       "\t15 & 17 & 86 & Medium & High & No & $\\dots$ \\\\\n",
       "\t16 & 16 & 97 & Medium & Medium & Yes & $\\dots$ \\\\\n",
       "\t17 & 18 & 89 & High & Medium & Yes & $\\dots$ \\\\\n",
       "\t18 & 17 & 65 & Medium & High & Yes & $\\dots$ \\\\\n",
       "\t19 & 31 & 100 & Medium & Medium & No & $\\dots$ \\\\\n",
       "\t20 & 19 & 66 & Medium & Medium & No & $\\dots$ \\\\\n",
       "\t21 & 22 & 89 & High & High & Yes & $\\dots$ \\\\\n",
       "\t22 & 27 & 97 & Low & High & Yes & $\\dots$ \\\\\n",
       "\t23 & 24 & 73 & Medium & High & Yes & $\\dots$ \\\\\n",
       "\t24 & 21 & 78 & Medium & Medium & Yes & $\\dots$ \\\\\n",
       "\t$\\dots$ & $\\dots$ & $\\dots$ & $\\dots$ & $\\dots$ & $\\dots$ &  \\\\\n",
       "\\end{tabular}\n"
      ],
      "text/plain": [
       "GroupedDataFrame with 3 groups based on key: Family_Income\n",
       "First Group (2672 rows): Family_Income = \"Low\"\n",
       "\u001b[1m  Row \u001b[0m│\u001b[1m Hours_Studied \u001b[0m\u001b[1m Attendance \u001b[0m\u001b[1m Parental_Involvement \u001b[0m\u001b[1m Access_to_Resources \u001b[0m\u001b[1m \u001b[0m ⋯\n",
       "      │\u001b[90m Int64         \u001b[0m\u001b[90m Int64      \u001b[0m\u001b[90m String7              \u001b[0m\u001b[90m String7             \u001b[0m\u001b[90m \u001b[0m ⋯\n",
       "──────┼─────────────────────────────────────────────────────────────────────────\n",
       "    1 │            23          84  Low                   High                  ⋯\n",
       "    2 │            29          84  Medium                Low\n",
       "  ⋮   │       ⋮            ⋮                ⋮                     ⋮            ⋱\n",
       " 2671 │            20          90  Medium                Low\n",
       " 2672 │            10          86  High                  High\n",
       "\u001b[36m                                                16 columns and 2668 rows omitted\u001b[0m\n",
       "⋮\n",
       "Last Group (1269 rows): Family_Income = \"High\"\n",
       "\u001b[1m  Row \u001b[0m│\u001b[1m Hours_Studied \u001b[0m\u001b[1m Attendance \u001b[0m\u001b[1m Parental_Involvement \u001b[0m\u001b[1m Access_to_Resources \u001b[0m\u001b[1m \u001b[0m ⋯\n",
       "      │\u001b[90m Int64         \u001b[0m\u001b[90m Int64      \u001b[0m\u001b[90m String7              \u001b[0m\u001b[90m String7             \u001b[0m\u001b[90m \u001b[0m ⋯\n",
       "──────┼─────────────────────────────────────────────────────────────────────────\n",
       "    1 │            25          78  Low                   High                  ⋯\n",
       "    2 │            23          98  Medium                Medium\n",
       "  ⋮   │       ⋮            ⋮                ⋮                     ⋮            ⋱\n",
       " 1269 │            25          69  High                  Medium\n",
       "\u001b[36m                                                16 columns and 1266 rows omitted\u001b[0m"
      ]
     },
     "metadata": {},
     "output_type": "display_data"
    }
   ],
   "source": [
    "grp_income = groupby(student_performance, :Family_Income)"
   ]
  },
  {
   "cell_type": "code",
   "execution_count": 44,
   "metadata": {},
   "outputs": [
    {
     "data": {
      "text/html": [
       "<div><div style = \"float: left;\"><span>2666×20 SubDataFrame</span></div><div style = \"float: right;\"><span style = \"font-style: italic;\">2641 rows omitted</span></div><div style = \"clear: both;\"></div></div><div class = \"data-frame\" style = \"overflow-x: scroll;\"><table class = \"data-frame\" style = \"margin-bottom: 6px;\"><thead><tr class = \"header\"><th class = \"rowNumber\" style = \"font-weight: bold; text-align: right;\">Row</th><th style = \"text-align: left;\">Hours_Studied</th><th style = \"text-align: left;\">Attendance</th><th style = \"text-align: left;\">Parental_Involvement</th><th style = \"text-align: left;\">Access_to_Resources</th><th style = \"text-align: left;\">Extracurricular_Activities</th><th style = \"text-align: left;\">Sleep_Hours</th><th style = \"text-align: left;\">Previous_Scores</th><th style = \"text-align: left;\">Motivation_Level</th><th style = \"text-align: left;\">Internet_Access</th><th style = \"text-align: left;\">Tutoring_Sessions</th><th style = \"text-align: left;\">Family_Income</th><th style = \"text-align: left;\">Teacher_Quality</th><th style = \"text-align: left;\">School_Type</th><th style = \"text-align: left;\">Peer_Influence</th><th style = \"text-align: left;\">Physical_Activity</th><th style = \"text-align: left;\">Learning_Disabilities</th><th style = \"text-align: left;\">Parental_Education_Level</th><th style = \"text-align: left;\">Distance_from_Home</th><th style = \"text-align: left;\">Gender</th><th style = \"text-align: left;\">Exam_Score</th></tr><tr class = \"subheader headerLastRow\"><th class = \"rowNumber\" style = \"font-weight: bold; text-align: right;\"></th><th title = \"Int64\" style = \"text-align: left;\">Int64</th><th title = \"Int64\" style = \"text-align: left;\">Int64</th><th title = \"String7\" style = \"text-align: left;\">String7</th><th title = \"String7\" style = \"text-align: left;\">String7</th><th title = \"String3\" style = \"text-align: left;\">String3</th><th title = \"Int64\" style = \"text-align: left;\">Int64</th><th title = \"Int64\" style = \"text-align: left;\">Int64</th><th title = \"String7\" style = \"text-align: left;\">String7</th><th title = \"String3\" style = \"text-align: left;\">String3</th><th title = \"Int64\" style = \"text-align: left;\">Int64</th><th title = \"String7\" style = \"text-align: left;\">String7</th><th title = \"Union{Missing, String7}\" style = \"text-align: left;\">String7?</th><th title = \"String7\" style = \"text-align: left;\">String7</th><th title = \"String15\" style = \"text-align: left;\">String15</th><th title = \"Int64\" style = \"text-align: left;\">Int64</th><th title = \"String3\" style = \"text-align: left;\">String3</th><th title = \"Union{Missing, String15}\" style = \"text-align: left;\">String15?</th><th title = \"Union{Missing, String15}\" style = \"text-align: left;\">String15?</th><th title = \"String7\" style = \"text-align: left;\">String7</th><th title = \"Int64\" style = \"text-align: left;\">Int64</th></tr></thead><tbody><tr><td class = \"rowNumber\" style = \"font-weight: bold; text-align: right;\">1</td><td style = \"text-align: right;\">19</td><td style = \"text-align: right;\">64</td><td style = \"text-align: left;\">Low</td><td style = \"text-align: left;\">Medium</td><td style = \"text-align: left;\">No</td><td style = \"text-align: right;\">8</td><td style = \"text-align: right;\">59</td><td style = \"text-align: left;\">Low</td><td style = \"text-align: left;\">Yes</td><td style = \"text-align: right;\">2</td><td style = \"text-align: left;\">Medium</td><td style = \"text-align: left;\">Medium</td><td style = \"text-align: left;\">Public</td><td style = \"text-align: left;\">Negative</td><td style = \"text-align: right;\">4</td><td style = \"text-align: left;\">No</td><td style = \"text-align: left;\">College</td><td style = \"text-align: left;\">Moderate</td><td style = \"text-align: left;\">Female</td><td style = \"text-align: right;\">61</td></tr><tr><td class = \"rowNumber\" style = \"font-weight: bold; text-align: right;\">2</td><td style = \"text-align: right;\">24</td><td style = \"text-align: right;\">98</td><td style = \"text-align: left;\">Medium</td><td style = \"text-align: left;\">Medium</td><td style = \"text-align: left;\">Yes</td><td style = \"text-align: right;\">7</td><td style = \"text-align: right;\">91</td><td style = \"text-align: left;\">Medium</td><td style = \"text-align: left;\">Yes</td><td style = \"text-align: right;\">2</td><td style = \"text-align: left;\">Medium</td><td style = \"text-align: left;\">Medium</td><td style = \"text-align: left;\">Public</td><td style = \"text-align: left;\">Neutral</td><td style = \"text-align: right;\">4</td><td style = \"text-align: left;\">No</td><td style = \"text-align: left;\">Postgraduate</td><td style = \"text-align: left;\">Near</td><td style = \"text-align: left;\">Male</td><td style = \"text-align: right;\">74</td></tr><tr><td class = \"rowNumber\" style = \"font-weight: bold; text-align: right;\">3</td><td style = \"text-align: right;\">29</td><td style = \"text-align: right;\">89</td><td style = \"text-align: left;\">Low</td><td style = \"text-align: left;\">Medium</td><td style = \"text-align: left;\">Yes</td><td style = \"text-align: right;\">8</td><td style = \"text-align: right;\">98</td><td style = \"text-align: left;\">Medium</td><td style = \"text-align: left;\">Yes</td><td style = \"text-align: right;\">1</td><td style = \"text-align: left;\">Medium</td><td style = \"text-align: left;\">Medium</td><td style = \"text-align: left;\">Public</td><td style = \"text-align: left;\">Negative</td><td style = \"text-align: right;\">4</td><td style = \"text-align: left;\">No</td><td style = \"text-align: left;\">High School</td><td style = \"text-align: left;\">Moderate</td><td style = \"text-align: left;\">Male</td><td style = \"text-align: right;\">71</td></tr><tr><td class = \"rowNumber\" style = \"font-weight: bold; text-align: right;\">4</td><td style = \"text-align: right;\">19</td><td style = \"text-align: right;\">92</td><td style = \"text-align: left;\">Medium</td><td style = \"text-align: left;\">Medium</td><td style = \"text-align: left;\">Yes</td><td style = \"text-align: right;\">6</td><td style = \"text-align: right;\">65</td><td style = \"text-align: left;\">Medium</td><td style = \"text-align: left;\">Yes</td><td style = \"text-align: right;\">3</td><td style = \"text-align: left;\">Medium</td><td style = \"text-align: left;\">High</td><td style = \"text-align: left;\">Public</td><td style = \"text-align: left;\">Neutral</td><td style = \"text-align: right;\">4</td><td style = \"text-align: left;\">No</td><td style = \"text-align: left;\">College</td><td style = \"text-align: left;\">Near</td><td style = \"text-align: left;\">Female</td><td style = \"text-align: right;\">70</td></tr><tr><td class = \"rowNumber\" style = \"font-weight: bold; text-align: right;\">5</td><td style = \"text-align: right;\">19</td><td style = \"text-align: right;\">88</td><td style = \"text-align: left;\">Medium</td><td style = \"text-align: left;\">Medium</td><td style = \"text-align: left;\">Yes</td><td style = \"text-align: right;\">8</td><td style = \"text-align: right;\">89</td><td style = \"text-align: left;\">Medium</td><td style = \"text-align: left;\">Yes</td><td style = \"text-align: right;\">3</td><td style = \"text-align: left;\">Medium</td><td style = \"text-align: left;\">Medium</td><td style = \"text-align: left;\">Public</td><td style = \"text-align: left;\">Positive</td><td style = \"text-align: right;\">3</td><td style = \"text-align: left;\">No</td><td style = \"text-align: left;\">Postgraduate</td><td style = \"text-align: left;\">Near</td><td style = \"text-align: left;\">Male</td><td style = \"text-align: right;\">71</td></tr><tr><td class = \"rowNumber\" style = \"font-weight: bold; text-align: right;\">6</td><td style = \"text-align: right;\">17</td><td style = \"text-align: right;\">94</td><td style = \"text-align: left;\">Medium</td><td style = \"text-align: left;\">High</td><td style = \"text-align: left;\">No</td><td style = \"text-align: right;\">6</td><td style = \"text-align: right;\">80</td><td style = \"text-align: left;\">High</td><td style = \"text-align: left;\">Yes</td><td style = \"text-align: right;\">0</td><td style = \"text-align: left;\">Medium</td><td style = \"text-align: left;\">Low</td><td style = \"text-align: left;\">Private</td><td style = \"text-align: left;\">Neutral</td><td style = \"text-align: right;\">1</td><td style = \"text-align: left;\">No</td><td style = \"text-align: left;\">College</td><td style = \"text-align: left;\">Near</td><td style = \"text-align: left;\">Male</td><td style = \"text-align: right;\">69</td></tr><tr><td class = \"rowNumber\" style = \"font-weight: bold; text-align: right;\">7</td><td style = \"text-align: right;\">17</td><td style = \"text-align: right;\">80</td><td style = \"text-align: left;\">Low</td><td style = \"text-align: left;\">High</td><td style = \"text-align: left;\">No</td><td style = \"text-align: right;\">8</td><td style = \"text-align: right;\">88</td><td style = \"text-align: left;\">Medium</td><td style = \"text-align: left;\">No</td><td style = \"text-align: right;\">4</td><td style = \"text-align: left;\">Medium</td><td style = \"text-align: left;\">High</td><td style = \"text-align: left;\">Private</td><td style = \"text-align: left;\">Neutral</td><td style = \"text-align: right;\">4</td><td style = \"text-align: left;\">No</td><td style = \"text-align: left;\">College</td><td style = \"text-align: left;\">Moderate</td><td style = \"text-align: left;\">Male</td><td style = \"text-align: right;\">68</td></tr><tr><td class = \"rowNumber\" style = \"font-weight: bold; text-align: right;\">8</td><td style = \"text-align: right;\">21</td><td style = \"text-align: right;\">83</td><td style = \"text-align: left;\">Medium</td><td style = \"text-align: left;\">Medium</td><td style = \"text-align: left;\">Yes</td><td style = \"text-align: right;\">8</td><td style = \"text-align: right;\">97</td><td style = \"text-align: left;\">Low</td><td style = \"text-align: left;\">Yes</td><td style = \"text-align: right;\">2</td><td style = \"text-align: left;\">Medium</td><td style = \"text-align: left;\">Medium</td><td style = \"text-align: left;\">Public</td><td style = \"text-align: left;\">Positive</td><td style = \"text-align: right;\">4</td><td style = \"text-align: left;\">No</td><td style = \"text-align: left;\">High School</td><td style = \"text-align: left;\">Near</td><td style = \"text-align: left;\">Male</td><td style = \"text-align: right;\">70</td></tr><tr><td class = \"rowNumber\" style = \"font-weight: bold; text-align: right;\">9</td><td style = \"text-align: right;\">9</td><td style = \"text-align: right;\">82</td><td style = \"text-align: left;\">Medium</td><td style = \"text-align: left;\">Medium</td><td style = \"text-align: left;\">Yes</td><td style = \"text-align: right;\">8</td><td style = \"text-align: right;\">72</td><td style = \"text-align: left;\">Medium</td><td style = \"text-align: left;\">Yes</td><td style = \"text-align: right;\">2</td><td style = \"text-align: left;\">Medium</td><td style = \"text-align: left;\">Medium</td><td style = \"text-align: left;\">Private</td><td style = \"text-align: left;\">Positive</td><td style = \"text-align: right;\">3</td><td style = \"text-align: left;\">No</td><td style = \"text-align: left;\">Postgraduate</td><td style = \"text-align: left;\">Near</td><td style = \"text-align: left;\">Male</td><td style = \"text-align: right;\">66</td></tr><tr><td class = \"rowNumber\" style = \"font-weight: bold; text-align: right;\">10</td><td style = \"text-align: right;\">17</td><td style = \"text-align: right;\">68</td><td style = \"text-align: left;\">Medium</td><td style = \"text-align: left;\">Medium</td><td style = \"text-align: left;\">No</td><td style = \"text-align: right;\">8</td><td style = \"text-align: right;\">70</td><td style = \"text-align: left;\">Medium</td><td style = \"text-align: left;\">Yes</td><td style = \"text-align: right;\">2</td><td style = \"text-align: left;\">Medium</td><td style = \"text-align: left;\">Medium</td><td style = \"text-align: left;\">Private</td><td style = \"text-align: left;\">Positive</td><td style = \"text-align: right;\">4</td><td style = \"text-align: left;\">No</td><td style = \"text-align: left;\">High School</td><td style = \"text-align: left;\">Near</td><td style = \"text-align: left;\">Female</td><td style = \"text-align: right;\">64</td></tr><tr><td class = \"rowNumber\" style = \"font-weight: bold; text-align: right;\">11</td><td style = \"text-align: right;\">12</td><td style = \"text-align: right;\">75</td><td style = \"text-align: left;\">Medium</td><td style = \"text-align: left;\">High</td><td style = \"text-align: left;\">Yes</td><td style = \"text-align: right;\">7</td><td style = \"text-align: right;\">58</td><td style = \"text-align: left;\">Medium</td><td style = \"text-align: left;\">Yes</td><td style = \"text-align: right;\">3</td><td style = \"text-align: left;\">Medium</td><td style = \"text-align: left;\">Medium</td><td style = \"text-align: left;\">Private</td><td style = \"text-align: left;\">Positive</td><td style = \"text-align: right;\">4</td><td style = \"text-align: left;\">No</td><td style = \"text-align: left;\">College</td><td style = \"text-align: left;\">Near</td><td style = \"text-align: left;\">Male</td><td style = \"text-align: right;\">66</td></tr><tr><td class = \"rowNumber\" style = \"font-weight: bold; text-align: right;\">12</td><td style = \"text-align: right;\">19</td><td style = \"text-align: right;\">99</td><td style = \"text-align: left;\">Medium</td><td style = \"text-align: left;\">High</td><td style = \"text-align: left;\">No</td><td style = \"text-align: right;\">6</td><td style = \"text-align: right;\">84</td><td style = \"text-align: left;\">Medium</td><td style = \"text-align: left;\">Yes</td><td style = \"text-align: right;\">1</td><td style = \"text-align: left;\">Medium</td><td style = \"text-align: left;\">High</td><td style = \"text-align: left;\">Public</td><td style = \"text-align: left;\">Neutral</td><td style = \"text-align: right;\">3</td><td style = \"text-align: left;\">No</td><td style = \"text-align: left;\">High School</td><td style = \"text-align: left;\">Near</td><td style = \"text-align: left;\">Male</td><td style = \"text-align: right;\">72</td></tr><tr><td class = \"rowNumber\" style = \"font-weight: bold; text-align: right;\">13</td><td style = \"text-align: right;\">20</td><td style = \"text-align: right;\">74</td><td style = \"text-align: left;\">Medium</td><td style = \"text-align: left;\">High</td><td style = \"text-align: left;\">No</td><td style = \"text-align: right;\">8</td><td style = \"text-align: right;\">89</td><td style = \"text-align: left;\">Low</td><td style = \"text-align: left;\">Yes</td><td style = \"text-align: right;\">1</td><td style = \"text-align: left;\">Medium</td><td style = \"text-align: left;\">Medium</td><td style = \"text-align: left;\">Public</td><td style = \"text-align: left;\">Negative</td><td style = \"text-align: right;\">2</td><td style = \"text-align: left;\">No</td><td style = \"text-align: left;\">College</td><td style = \"text-align: left;\">Moderate</td><td style = \"text-align: left;\">Female</td><td style = \"text-align: right;\">66</td></tr><tr><td style = \"text-align: right;\">&vellip;</td><td style = \"text-align: right;\">&vellip;</td><td style = \"text-align: right;\">&vellip;</td><td style = \"text-align: right;\">&vellip;</td><td style = \"text-align: right;\">&vellip;</td><td style = \"text-align: right;\">&vellip;</td><td style = \"text-align: right;\">&vellip;</td><td style = \"text-align: right;\">&vellip;</td><td style = \"text-align: right;\">&vellip;</td><td style = \"text-align: right;\">&vellip;</td><td style = \"text-align: right;\">&vellip;</td><td style = \"text-align: right;\">&vellip;</td><td style = \"text-align: right;\">&vellip;</td><td style = \"text-align: right;\">&vellip;</td><td style = \"text-align: right;\">&vellip;</td><td style = \"text-align: right;\">&vellip;</td><td style = \"text-align: right;\">&vellip;</td><td style = \"text-align: right;\">&vellip;</td><td style = \"text-align: right;\">&vellip;</td><td style = \"text-align: right;\">&vellip;</td><td style = \"text-align: right;\">&vellip;</td></tr><tr><td class = \"rowNumber\" style = \"font-weight: bold; text-align: right;\">2655</td><td style = \"text-align: right;\">19</td><td style = \"text-align: right;\">80</td><td style = \"text-align: left;\">High</td><td style = \"text-align: left;\">High</td><td style = \"text-align: left;\">Yes</td><td style = \"text-align: right;\">6</td><td style = \"text-align: right;\">100</td><td style = \"text-align: left;\">Medium</td><td style = \"text-align: left;\">Yes</td><td style = \"text-align: right;\">1</td><td style = \"text-align: left;\">Medium</td><td style = \"text-align: left;\">Medium</td><td style = \"text-align: left;\">Public</td><td style = \"text-align: left;\">Positive</td><td style = \"text-align: right;\">3</td><td style = \"text-align: left;\">No</td><td style = \"text-align: left;\">High School</td><td style = \"text-align: left;\">Near</td><td style = \"text-align: left;\">Male</td><td style = \"text-align: right;\">70</td></tr><tr><td class = \"rowNumber\" style = \"font-weight: bold; text-align: right;\">2656</td><td style = \"text-align: right;\">17</td><td style = \"text-align: right;\">64</td><td style = \"text-align: left;\">Medium</td><td style = \"text-align: left;\">Medium</td><td style = \"text-align: left;\">Yes</td><td style = \"text-align: right;\">7</td><td style = \"text-align: right;\">78</td><td style = \"text-align: left;\">High</td><td style = \"text-align: left;\">Yes</td><td style = \"text-align: right;\">1</td><td style = \"text-align: left;\">Medium</td><td style = \"text-align: left;\">Medium</td><td style = \"text-align: left;\">Public</td><td style = \"text-align: left;\">Positive</td><td style = \"text-align: right;\">3</td><td style = \"text-align: left;\">No</td><td style = \"text-align: left;\">High School</td><td style = \"font-style: italic; text-align: left;\">Near</td><td style = \"text-align: left;\">Male</td><td style = \"text-align: right;\">64</td></tr><tr><td class = \"rowNumber\" style = \"font-weight: bold; text-align: right;\">2657</td><td style = \"text-align: right;\">21</td><td style = \"text-align: right;\">75</td><td style = \"text-align: left;\">Medium</td><td style = \"text-align: left;\">Low</td><td style = \"text-align: left;\">Yes</td><td style = \"text-align: right;\">7</td><td style = \"text-align: right;\">82</td><td style = \"text-align: left;\">Medium</td><td style = \"text-align: left;\">Yes</td><td style = \"text-align: right;\">1</td><td style = \"text-align: left;\">Medium</td><td style = \"text-align: left;\">Medium</td><td style = \"text-align: left;\">Public</td><td style = \"text-align: left;\">Negative</td><td style = \"text-align: right;\">4</td><td style = \"text-align: left;\">No</td><td style = \"text-align: left;\">High School</td><td style = \"text-align: left;\">Near</td><td style = \"text-align: left;\">Male</td><td style = \"text-align: right;\">65</td></tr><tr><td class = \"rowNumber\" style = \"font-weight: bold; text-align: right;\">2658</td><td style = \"text-align: right;\">27</td><td style = \"text-align: right;\">91</td><td style = \"text-align: left;\">Low</td><td style = \"text-align: left;\">High</td><td style = \"text-align: left;\">No</td><td style = \"text-align: right;\">5</td><td style = \"text-align: right;\">87</td><td style = \"text-align: left;\">Medium</td><td style = \"text-align: left;\">No</td><td style = \"text-align: right;\">0</td><td style = \"text-align: left;\">Medium</td><td style = \"text-align: left;\">Medium</td><td style = \"text-align: left;\">Public</td><td style = \"text-align: left;\">Negative</td><td style = \"text-align: right;\">3</td><td style = \"text-align: left;\">No</td><td style = \"text-align: left;\">High School</td><td style = \"text-align: left;\">Near</td><td style = \"text-align: left;\">Female</td><td style = \"text-align: right;\">69</td></tr><tr><td class = \"rowNumber\" style = \"font-weight: bold; text-align: right;\">2659</td><td style = \"text-align: right;\">16</td><td style = \"text-align: right;\">77</td><td style = \"text-align: left;\">Medium</td><td style = \"text-align: left;\">Low</td><td style = \"text-align: left;\">Yes</td><td style = \"text-align: right;\">8</td><td style = \"text-align: right;\">54</td><td style = \"text-align: left;\">Medium</td><td style = \"text-align: left;\">No</td><td style = \"text-align: right;\">0</td><td style = \"text-align: left;\">Medium</td><td style = \"text-align: left;\">Medium</td><td style = \"text-align: left;\">Public</td><td style = \"text-align: left;\">Negative</td><td style = \"text-align: right;\">3</td><td style = \"text-align: left;\">No</td><td style = \"text-align: left;\">Postgraduate</td><td style = \"text-align: left;\">Near</td><td style = \"text-align: left;\">Male</td><td style = \"text-align: right;\">62</td></tr><tr><td class = \"rowNumber\" style = \"font-weight: bold; text-align: right;\">2660</td><td style = \"text-align: right;\">14</td><td style = \"text-align: right;\">73</td><td style = \"text-align: left;\">High</td><td style = \"text-align: left;\">Medium</td><td style = \"text-align: left;\">Yes</td><td style = \"text-align: right;\">6</td><td style = \"text-align: right;\">57</td><td style = \"text-align: left;\">High</td><td style = \"text-align: left;\">Yes</td><td style = \"text-align: right;\">2</td><td style = \"text-align: left;\">Medium</td><td style = \"text-align: left;\">Medium</td><td style = \"text-align: left;\">Public</td><td style = \"text-align: left;\">Neutral</td><td style = \"text-align: right;\">4</td><td style = \"text-align: left;\">No</td><td style = \"text-align: left;\">High School</td><td style = \"text-align: left;\">Moderate</td><td style = \"text-align: left;\">Female</td><td style = \"text-align: right;\">64</td></tr><tr><td class = \"rowNumber\" style = \"font-weight: bold; text-align: right;\">2661</td><td style = \"text-align: right;\">22</td><td style = \"text-align: right;\">76</td><td style = \"text-align: left;\">Low</td><td style = \"text-align: left;\">High</td><td style = \"text-align: left;\">No</td><td style = \"text-align: right;\">5</td><td style = \"text-align: right;\">65</td><td style = \"text-align: left;\">Low</td><td style = \"text-align: left;\">Yes</td><td style = \"text-align: right;\">0</td><td style = \"text-align: left;\">Medium</td><td style = \"text-align: left;\">High</td><td style = \"text-align: left;\">Public</td><td style = \"text-align: left;\">Neutral</td><td style = \"text-align: right;\">3</td><td style = \"text-align: left;\">No</td><td style = \"text-align: left;\">High School</td><td style = \"text-align: left;\">Far</td><td style = \"text-align: left;\">Female</td><td style = \"text-align: right;\">64</td></tr><tr><td class = \"rowNumber\" style = \"font-weight: bold; text-align: right;\">2662</td><td style = \"text-align: right;\">19</td><td style = \"text-align: right;\">70</td><td style = \"text-align: left;\">Medium</td><td style = \"text-align: left;\">Medium</td><td style = \"text-align: left;\">Yes</td><td style = \"text-align: right;\">7</td><td style = \"text-align: right;\">95</td><td style = \"text-align: left;\">High</td><td style = \"text-align: left;\">No</td><td style = \"text-align: right;\">0</td><td style = \"text-align: left;\">Medium</td><td style = \"text-align: left;\">High</td><td style = \"text-align: left;\">Private</td><td style = \"text-align: left;\">Positive</td><td style = \"text-align: right;\">3</td><td style = \"text-align: left;\">No</td><td style = \"text-align: left;\">College</td><td style = \"text-align: left;\">Near</td><td style = \"text-align: left;\">Female</td><td style = \"text-align: right;\">66</td></tr><tr><td class = \"rowNumber\" style = \"font-weight: bold; text-align: right;\">2663</td><td style = \"text-align: right;\">28</td><td style = \"text-align: right;\">78</td><td style = \"text-align: left;\">Medium</td><td style = \"text-align: left;\">High</td><td style = \"text-align: left;\">No</td><td style = \"text-align: right;\">7</td><td style = \"text-align: right;\">92</td><td style = \"text-align: left;\">Low</td><td style = \"text-align: left;\">Yes</td><td style = \"text-align: right;\">1</td><td style = \"text-align: left;\">Medium</td><td style = \"text-align: left;\">High</td><td style = \"text-align: left;\">Public</td><td style = \"text-align: left;\">Positive</td><td style = \"text-align: right;\">3</td><td style = \"text-align: left;\">No</td><td style = \"text-align: left;\">Postgraduate</td><td style = \"text-align: left;\">Moderate</td><td style = \"text-align: left;\">Female</td><td style = \"text-align: right;\">71</td></tr><tr><td class = \"rowNumber\" style = \"font-weight: bold; text-align: right;\">2664</td><td style = \"text-align: right;\">12</td><td style = \"text-align: right;\">98</td><td style = \"text-align: left;\">Medium</td><td style = \"text-align: left;\">Low</td><td style = \"text-align: left;\">Yes</td><td style = \"text-align: right;\">4</td><td style = \"text-align: right;\">54</td><td style = \"text-align: left;\">Medium</td><td style = \"text-align: left;\">Yes</td><td style = \"text-align: right;\">2</td><td style = \"text-align: left;\">Medium</td><td style = \"text-align: left;\">High</td><td style = \"text-align: left;\">Private</td><td style = \"text-align: left;\">Neutral</td><td style = \"text-align: right;\">3</td><td style = \"text-align: left;\">No</td><td style = \"text-align: left;\">High School</td><td style = \"text-align: left;\">Near</td><td style = \"text-align: left;\">Female</td><td style = \"text-align: right;\">67</td></tr><tr><td class = \"rowNumber\" style = \"font-weight: bold; text-align: right;\">2665</td><td style = \"text-align: right;\">20</td><td style = \"text-align: right;\">83</td><td style = \"text-align: left;\">Medium</td><td style = \"text-align: left;\">Low</td><td style = \"text-align: left;\">No</td><td style = \"text-align: right;\">6</td><td style = \"text-align: right;\">51</td><td style = \"text-align: left;\">Low</td><td style = \"text-align: left;\">Yes</td><td style = \"text-align: right;\">2</td><td style = \"text-align: left;\">Medium</td><td style = \"text-align: left;\">Medium</td><td style = \"text-align: left;\">Public</td><td style = \"text-align: left;\">Neutral</td><td style = \"text-align: right;\">4</td><td style = \"text-align: left;\">No</td><td style = \"text-align: left;\">High School</td><td style = \"text-align: left;\">Moderate</td><td style = \"text-align: left;\">Female</td><td style = \"text-align: right;\">65</td></tr><tr><td class = \"rowNumber\" style = \"font-weight: bold; text-align: right;\">2666</td><td style = \"text-align: right;\">15</td><td style = \"text-align: right;\">67</td><td style = \"text-align: left;\">Medium</td><td style = \"text-align: left;\">Low</td><td style = \"text-align: left;\">Yes</td><td style = \"text-align: right;\">9</td><td style = \"text-align: right;\">94</td><td style = \"text-align: left;\">Medium</td><td style = \"text-align: left;\">Yes</td><td style = \"text-align: right;\">0</td><td style = \"text-align: left;\">Medium</td><td style = \"text-align: left;\">Medium</td><td style = \"text-align: left;\">Public</td><td style = \"text-align: left;\">Positive</td><td style = \"text-align: right;\">4</td><td style = \"text-align: left;\">No</td><td style = \"text-align: left;\">Postgraduate</td><td style = \"text-align: left;\">Near</td><td style = \"text-align: left;\">Male</td><td style = \"text-align: right;\">64</td></tr></tbody></table></div>"
      ],
      "text/latex": [
       "\\begin{tabular}{r|cccccc}\n",
       "\t& Hours\\_Studied & Attendance & Parental\\_Involvement & Access\\_to\\_Resources & Extracurricular\\_Activities & \\\\\n",
       "\t\\hline\n",
       "\t& Int64 & Int64 & String7 & String7 & String3 & \\\\\n",
       "\t\\hline\n",
       "\t1 & 19 & 64 & Low & Medium & No & $\\dots$ \\\\\n",
       "\t2 & 24 & 98 & Medium & Medium & Yes & $\\dots$ \\\\\n",
       "\t3 & 29 & 89 & Low & Medium & Yes & $\\dots$ \\\\\n",
       "\t4 & 19 & 92 & Medium & Medium & Yes & $\\dots$ \\\\\n",
       "\t5 & 19 & 88 & Medium & Medium & Yes & $\\dots$ \\\\\n",
       "\t6 & 17 & 94 & Medium & High & No & $\\dots$ \\\\\n",
       "\t7 & 17 & 80 & Low & High & No & $\\dots$ \\\\\n",
       "\t8 & 21 & 83 & Medium & Medium & Yes & $\\dots$ \\\\\n",
       "\t9 & 9 & 82 & Medium & Medium & Yes & $\\dots$ \\\\\n",
       "\t10 & 17 & 68 & Medium & Medium & No & $\\dots$ \\\\\n",
       "\t11 & 12 & 75 & Medium & High & Yes & $\\dots$ \\\\\n",
       "\t12 & 19 & 99 & Medium & High & No & $\\dots$ \\\\\n",
       "\t13 & 20 & 74 & Medium & High & No & $\\dots$ \\\\\n",
       "\t14 & 20 & 69 & Medium & Medium & Yes & $\\dots$ \\\\\n",
       "\t15 & 14 & 60 & High & Medium & No & $\\dots$ \\\\\n",
       "\t16 & 25 & 65 & High & Medium & No & $\\dots$ \\\\\n",
       "\t17 & 21 & 65 & Medium & Low & Yes & $\\dots$ \\\\\n",
       "\t18 & 21 & 65 & Low & Medium & Yes & $\\dots$ \\\\\n",
       "\t19 & 21 & 84 & Medium & Medium & Yes & $\\dots$ \\\\\n",
       "\t20 & 19 & 63 & Low & High & No & $\\dots$ \\\\\n",
       "\t21 & 18 & 94 & Medium & High & Yes & $\\dots$ \\\\\n",
       "\t22 & 11 & 98 & Medium & Medium & Yes & $\\dots$ \\\\\n",
       "\t23 & 16 & 70 & Medium & Medium & Yes & $\\dots$ \\\\\n",
       "\t24 & 17 & 78 & Medium & Medium & Yes & $\\dots$ \\\\\n",
       "\t$\\dots$ & $\\dots$ & $\\dots$ & $\\dots$ & $\\dots$ & $\\dots$ &  \\\\\n",
       "\\end{tabular}\n"
      ],
      "text/plain": [
       "\u001b[1m2666×20 SubDataFrame\u001b[0m\n",
       "\u001b[1m  Row \u001b[0m│\u001b[1m Hours_Studied \u001b[0m\u001b[1m Attendance \u001b[0m\u001b[1m Parental_Involvement \u001b[0m\u001b[1m Access_to_Resources \u001b[0m\u001b[1m \u001b[0m ⋯\n",
       "      │\u001b[90m Int64         \u001b[0m\u001b[90m Int64      \u001b[0m\u001b[90m String7              \u001b[0m\u001b[90m String7             \u001b[0m\u001b[90m \u001b[0m ⋯\n",
       "──────┼─────────────────────────────────────────────────────────────────────────\n",
       "    1 │            19          64  Low                   Medium                ⋯\n",
       "    2 │            24          98  Medium                Medium\n",
       "    3 │            29          89  Low                   Medium\n",
       "    4 │            19          92  Medium                Medium\n",
       "    5 │            19          88  Medium                Medium                ⋯\n",
       "    6 │            17          94  Medium                High\n",
       "    7 │            17          80  Low                   High\n",
       "    8 │            21          83  Medium                Medium\n",
       "  ⋮   │       ⋮            ⋮                ⋮                     ⋮            ⋱\n",
       " 2660 │            14          73  High                  Medium                ⋯\n",
       " 2661 │            22          76  Low                   High\n",
       " 2662 │            19          70  Medium                Medium\n",
       " 2663 │            28          78  Medium                High\n",
       " 2664 │            12          98  Medium                Low                   ⋯\n",
       " 2665 │            20          83  Medium                Low\n",
       " 2666 │            15          67  Medium                Low\n",
       "\u001b[36m                                                16 columns and 2651 rows omitted\u001b[0m"
      ]
     },
     "metadata": {},
     "output_type": "display_data"
    }
   ],
   "source": [
    "grp_income[2]"
   ]
  },
  {
   "cell_type": "markdown",
   "metadata": {},
   "source": [
    "Estimate the mean `Exam_Score` for females and males together with the accompanying variance."
   ]
  },
  {
   "cell_type": "code",
   "execution_count": 14,
   "metadata": {},
   "outputs": [
    {
     "data": {
      "text/html": [
       "<div><div style = \"float: left;\"><span>2×3 DataFrame</span></div><div style = \"clear: both;\"></div></div><div class = \"data-frame\" style = \"overflow-x: scroll;\"><table class = \"data-frame\" style = \"margin-bottom: 6px;\"><thead><tr class = \"header\"><th class = \"rowNumber\" style = \"font-weight: bold; text-align: right;\">Row</th><th style = \"text-align: left;\">Gender</th><th style = \"text-align: left;\">mean_score</th><th style = \"text-align: left;\">var_score</th></tr><tr class = \"subheader headerLastRow\"><th class = \"rowNumber\" style = \"font-weight: bold; text-align: right;\"></th><th title = \"String7\" style = \"text-align: left;\">String7</th><th title = \"Float64\" style = \"text-align: left;\">Float64</th><th title = \"Float64\" style = \"text-align: left;\">Float64</th></tr></thead><tbody><tr><td class = \"rowNumber\" style = \"font-weight: bold; text-align: right;\">1</td><td style = \"text-align: left;\">Male</td><td style = \"text-align: right;\">67.2289</td><td style = \"text-align: right;\">14.1855</td></tr><tr><td class = \"rowNumber\" style = \"font-weight: bold; text-align: right;\">2</td><td style = \"text-align: left;\">Female</td><td style = \"text-align: right;\">67.2449</td><td style = \"text-align: right;\">16.4386</td></tr></tbody></table></div>"
      ],
      "text/latex": [
       "\\begin{tabular}{r|ccc}\n",
       "\t& Gender & mean\\_score & var\\_score\\\\\n",
       "\t\\hline\n",
       "\t& String7 & Float64 & Float64\\\\\n",
       "\t\\hline\n",
       "\t1 & Male & 67.2289 & 14.1855 \\\\\n",
       "\t2 & Female & 67.2449 & 16.4386 \\\\\n",
       "\\end{tabular}\n"
      ],
      "text/plain": [
       "\u001b[1m2×3 DataFrame\u001b[0m\n",
       "\u001b[1m Row \u001b[0m│\u001b[1m Gender  \u001b[0m\u001b[1m mean_score \u001b[0m\u001b[1m var_score \u001b[0m\n",
       "     │\u001b[90m String7 \u001b[0m\u001b[90m Float64    \u001b[0m\u001b[90m Float64   \u001b[0m\n",
       "─────┼────────────────────────────────\n",
       "   1 │ Male        67.2289    14.1855\n",
       "   2 │ Female      67.2449    16.4386"
      ]
     },
     "metadata": {},
     "output_type": "display_data"
    }
   ],
   "source": [
    "combine(groupby(student_performance, :Gender), [:Exam_Score => mean => :mean_score, :Exam_Score => var => :var_score])"
   ]
  },
  {
   "cell_type": "markdown",
   "metadata": {},
   "source": [
    "Accomplish the same by this time using the DataFramesMeta syntax."
   ]
  },
  {
   "cell_type": "code",
   "execution_count": 15,
   "metadata": {},
   "outputs": [],
   "source": [
    "using DataFramesMeta"
   ]
  },
  {
   "cell_type": "code",
   "execution_count": 16,
   "metadata": {},
   "outputs": [
    {
     "data": {
      "text/html": [
       "<div><div style = \"float: left;\"><span>2×3 DataFrame</span></div><div style = \"clear: both;\"></div></div><div class = \"data-frame\" style = \"overflow-x: scroll;\"><table class = \"data-frame\" style = \"margin-bottom: 6px;\"><thead><tr class = \"header\"><th class = \"rowNumber\" style = \"font-weight: bold; text-align: right;\">Row</th><th style = \"text-align: left;\">Gender</th><th style = \"text-align: left;\">mean_score</th><th style = \"text-align: left;\">var_score</th></tr><tr class = \"subheader headerLastRow\"><th class = \"rowNumber\" style = \"font-weight: bold; text-align: right;\"></th><th title = \"String7\" style = \"text-align: left;\">String7</th><th title = \"Float64\" style = \"text-align: left;\">Float64</th><th title = \"Float64\" style = \"text-align: left;\">Float64</th></tr></thead><tbody><tr><td class = \"rowNumber\" style = \"font-weight: bold; text-align: right;\">1</td><td style = \"text-align: left;\">Male</td><td style = \"text-align: right;\">67.2289</td><td style = \"text-align: right;\">14.1855</td></tr><tr><td class = \"rowNumber\" style = \"font-weight: bold; text-align: right;\">2</td><td style = \"text-align: left;\">Female</td><td style = \"text-align: right;\">67.2449</td><td style = \"text-align: right;\">16.4386</td></tr></tbody></table></div>"
      ],
      "text/latex": [
       "\\begin{tabular}{r|ccc}\n",
       "\t& Gender & mean\\_score & var\\_score\\\\\n",
       "\t\\hline\n",
       "\t& String7 & Float64 & Float64\\\\\n",
       "\t\\hline\n",
       "\t1 & Male & 67.2289 & 14.1855 \\\\\n",
       "\t2 & Female & 67.2449 & 16.4386 \\\\\n",
       "\\end{tabular}\n"
      ],
      "text/plain": [
       "\u001b[1m2×3 DataFrame\u001b[0m\n",
       "\u001b[1m Row \u001b[0m│\u001b[1m Gender  \u001b[0m\u001b[1m mean_score \u001b[0m\u001b[1m var_score \u001b[0m\n",
       "     │\u001b[90m String7 \u001b[0m\u001b[90m Float64    \u001b[0m\u001b[90m Float64   \u001b[0m\n",
       "─────┼────────────────────────────────\n",
       "   1 │ Male        67.2289    14.1855\n",
       "   2 │ Female      67.2449    16.4386"
      ]
     },
     "metadata": {},
     "output_type": "display_data"
    }
   ],
   "source": [
    "@combine(groupby(student_performance, :Gender),:mean_score = mean(:Exam_Score), :var_score=var(:Exam_Score))"
   ]
  },
  {
   "cell_type": "markdown",
   "metadata": {},
   "source": [
    "Find the coefficient of variation of `Exam_Score` from females and males of equal motivation levels. The coefficient of variation is the ratio of the standard deviation to the mean."
   ]
  },
  {
   "cell_type": "code",
   "execution_count": 17,
   "metadata": {},
   "outputs": [
    {
     "data": {
      "text/html": [
       "<div><div style = \"float: left;\"><span>6×3 DataFrame</span></div><div style = \"clear: both;\"></div></div><div class = \"data-frame\" style = \"overflow-x: scroll;\"><table class = \"data-frame\" style = \"margin-bottom: 6px;\"><thead><tr class = \"header\"><th class = \"rowNumber\" style = \"font-weight: bold; text-align: right;\">Row</th><th style = \"text-align: left;\">Gender</th><th style = \"text-align: left;\">Motivation_Level</th><th style = \"text-align: left;\">coef_variation</th></tr><tr class = \"subheader headerLastRow\"><th class = \"rowNumber\" style = \"font-weight: bold; text-align: right;\"></th><th title = \"String7\" style = \"text-align: left;\">String7</th><th title = \"String7\" style = \"text-align: left;\">String7</th><th title = \"Float64\" style = \"text-align: left;\">Float64</th></tr></thead><tbody><tr><td class = \"rowNumber\" style = \"font-weight: bold; text-align: right;\">1</td><td style = \"text-align: left;\">Male</td><td style = \"text-align: left;\">Low</td><td style = \"text-align: right;\">0.0550573</td></tr><tr><td class = \"rowNumber\" style = \"font-weight: bold; text-align: right;\">2</td><td style = \"text-align: left;\">Male</td><td style = \"text-align: left;\">Medium</td><td style = \"text-align: right;\">0.0541064</td></tr><tr><td class = \"rowNumber\" style = \"font-weight: bold; text-align: right;\">3</td><td style = \"text-align: left;\">Male</td><td style = \"text-align: left;\">High</td><td style = \"text-align: right;\">0.0604881</td></tr><tr><td class = \"rowNumber\" style = \"font-weight: bold; text-align: right;\">4</td><td style = \"text-align: left;\">Female</td><td style = \"text-align: left;\">Low</td><td style = \"text-align: right;\">0.0644236</td></tr><tr><td class = \"rowNumber\" style = \"font-weight: bold; text-align: right;\">5</td><td style = \"text-align: left;\">Female</td><td style = \"text-align: left;\">Medium</td><td style = \"text-align: right;\">0.0604188</td></tr><tr><td class = \"rowNumber\" style = \"font-weight: bold; text-align: right;\">6</td><td style = \"text-align: left;\">Female</td><td style = \"text-align: left;\">High</td><td style = \"text-align: right;\">0.0522756</td></tr></tbody></table></div>"
      ],
      "text/latex": [
       "\\begin{tabular}{r|ccc}\n",
       "\t& Gender & Motivation\\_Level & coef\\_variation\\\\\n",
       "\t\\hline\n",
       "\t& String7 & String7 & Float64\\\\\n",
       "\t\\hline\n",
       "\t1 & Male & Low & 0.0550573 \\\\\n",
       "\t2 & Male & Medium & 0.0541064 \\\\\n",
       "\t3 & Male & High & 0.0604881 \\\\\n",
       "\t4 & Female & Low & 0.0644236 \\\\\n",
       "\t5 & Female & Medium & 0.0604188 \\\\\n",
       "\t6 & Female & High & 0.0522756 \\\\\n",
       "\\end{tabular}\n"
      ],
      "text/plain": [
       "\u001b[1m6×3 DataFrame\u001b[0m\n",
       "\u001b[1m Row \u001b[0m│\u001b[1m Gender  \u001b[0m\u001b[1m Motivation_Level \u001b[0m\u001b[1m coef_variation \u001b[0m\n",
       "     │\u001b[90m String7 \u001b[0m\u001b[90m String7          \u001b[0m\u001b[90m Float64        \u001b[0m\n",
       "─────┼───────────────────────────────────────────\n",
       "   1 │ Male     Low                    0.0550573\n",
       "   2 │ Male     Medium                 0.0541064\n",
       "   3 │ Male     High                   0.0604881\n",
       "   4 │ Female   Low                    0.0644236\n",
       "   5 │ Female   Medium                 0.0604188\n",
       "   6 │ Female   High                   0.0522756"
      ]
     },
     "metadata": {},
     "output_type": "display_data"
    }
   ],
   "source": [
    "combine(groupby(student_performance,[:Gender, :Motivation_Level]), :Exam_Score => (x -> std(x)/mean(x)) => :coef_variation)"
   ]
  },
  {
   "cell_type": "markdown",
   "metadata": {},
   "source": [
    "Group by `Parental_Involvement` and `Family_Income` and find the minimum and maximum `Exam_Score` of each group."
   ]
  },
  {
   "cell_type": "code",
   "execution_count": 18,
   "metadata": {},
   "outputs": [
    {
     "data": {
      "text/html": [
       "<div><div style = \"float: left;\"><span>9×4 DataFrame</span></div><div style = \"clear: both;\"></div></div><div class = \"data-frame\" style = \"overflow-x: scroll;\"><table class = \"data-frame\" style = \"margin-bottom: 6px;\"><thead><tr class = \"header\"><th class = \"rowNumber\" style = \"font-weight: bold; text-align: right;\">Row</th><th style = \"text-align: left;\">Parental_Involvement</th><th style = \"text-align: left;\">Family_Income</th><th style = \"text-align: left;\">min_score</th><th style = \"text-align: left;\">max_score</th></tr><tr class = \"subheader headerLastRow\"><th class = \"rowNumber\" style = \"font-weight: bold; text-align: right;\"></th><th title = \"String7\" style = \"text-align: left;\">String7</th><th title = \"String7\" style = \"text-align: left;\">String7</th><th title = \"Int64\" style = \"text-align: left;\">Int64</th><th title = \"Int64\" style = \"text-align: left;\">Int64</th></tr></thead><tbody><tr><td class = \"rowNumber\" style = \"font-weight: bold; text-align: right;\">1</td><td style = \"text-align: left;\">Low</td><td style = \"text-align: left;\">Low</td><td style = \"text-align: right;\">56</td><td style = \"text-align: right;\">94</td></tr><tr><td class = \"rowNumber\" style = \"font-weight: bold; text-align: right;\">2</td><td style = \"text-align: left;\">Low</td><td style = \"text-align: left;\">Medium</td><td style = \"text-align: right;\">58</td><td style = \"text-align: right;\">98</td></tr><tr><td class = \"rowNumber\" style = \"font-weight: bold; text-align: right;\">3</td><td style = \"text-align: left;\">Low</td><td style = \"text-align: left;\">High</td><td style = \"text-align: right;\">59</td><td style = \"text-align: right;\">101</td></tr><tr><td class = \"rowNumber\" style = \"font-weight: bold; text-align: right;\">4</td><td style = \"text-align: left;\">Medium</td><td style = \"text-align: left;\">Low</td><td style = \"text-align: right;\">55</td><td style = \"text-align: right;\">97</td></tr><tr><td class = \"rowNumber\" style = \"font-weight: bold; text-align: right;\">5</td><td style = \"text-align: left;\">Medium</td><td style = \"text-align: left;\">Medium</td><td style = \"text-align: right;\">57</td><td style = \"text-align: right;\">96</td></tr><tr><td class = \"rowNumber\" style = \"font-weight: bold; text-align: right;\">6</td><td style = \"text-align: left;\">Medium</td><td style = \"text-align: left;\">High</td><td style = \"text-align: right;\">58</td><td style = \"text-align: right;\">97</td></tr><tr><td class = \"rowNumber\" style = \"font-weight: bold; text-align: right;\">7</td><td style = \"text-align: left;\">High</td><td style = \"text-align: left;\">Low</td><td style = \"text-align: right;\">57</td><td style = \"text-align: right;\">97</td></tr><tr><td class = \"rowNumber\" style = \"font-weight: bold; text-align: right;\">8</td><td style = \"text-align: left;\">High</td><td style = \"text-align: left;\">Medium</td><td style = \"text-align: right;\">58</td><td style = \"text-align: right;\">99</td></tr><tr><td class = \"rowNumber\" style = \"font-weight: bold; text-align: right;\">9</td><td style = \"text-align: left;\">High</td><td style = \"text-align: left;\">High</td><td style = \"text-align: right;\">59</td><td style = \"text-align: right;\">100</td></tr></tbody></table></div>"
      ],
      "text/latex": [
       "\\begin{tabular}{r|cccc}\n",
       "\t& Parental\\_Involvement & Family\\_Income & min\\_score & max\\_score\\\\\n",
       "\t\\hline\n",
       "\t& String7 & String7 & Int64 & Int64\\\\\n",
       "\t\\hline\n",
       "\t1 & Low & Low & 56 & 94 \\\\\n",
       "\t2 & Low & Medium & 58 & 98 \\\\\n",
       "\t3 & Low & High & 59 & 101 \\\\\n",
       "\t4 & Medium & Low & 55 & 97 \\\\\n",
       "\t5 & Medium & Medium & 57 & 96 \\\\\n",
       "\t6 & Medium & High & 58 & 97 \\\\\n",
       "\t7 & High & Low & 57 & 97 \\\\\n",
       "\t8 & High & Medium & 58 & 99 \\\\\n",
       "\t9 & High & High & 59 & 100 \\\\\n",
       "\\end{tabular}\n"
      ],
      "text/plain": [
       "\u001b[1m9×4 DataFrame\u001b[0m\n",
       "\u001b[1m Row \u001b[0m│\u001b[1m Parental_Involvement \u001b[0m\u001b[1m Family_Income \u001b[0m\u001b[1m min_score \u001b[0m\u001b[1m max_score \u001b[0m\n",
       "     │\u001b[90m String7              \u001b[0m\u001b[90m String7       \u001b[0m\u001b[90m Int64     \u001b[0m\u001b[90m Int64     \u001b[0m\n",
       "─────┼───────────────────────────────────────────────────────────\n",
       "   1 │ Low                   Low                   56         94\n",
       "   2 │ Low                   Medium                58         98\n",
       "   3 │ Low                   High                  59        101\n",
       "   4 │ Medium                Low                   55         97\n",
       "   5 │ Medium                Medium                57         96\n",
       "   6 │ Medium                High                  58         97\n",
       "   7 │ High                  Low                   57         97\n",
       "   8 │ High                  Medium                58         99\n",
       "   9 │ High                  High                  59        100"
      ]
     },
     "metadata": {},
     "output_type": "display_data"
    }
   ],
   "source": [
    "@combine(groupby(student_performance,[:Parental_Involvement, :Family_Income]), \n",
    "    :min_score = minimum(:Exam_Score), :max_score=maximum(:Exam_Score))"
   ]
  },
  {
   "cell_type": "code",
   "execution_count": null,
   "metadata": {},
   "outputs": [],
   "source": []
  }
 ],
 "metadata": {
  "kernelspec": {
   "display_name": "Julia 1.11.1",
   "language": "julia",
   "name": "julia-1.11"
  },
  "language_info": {
   "file_extension": ".jl",
   "mimetype": "application/julia",
   "name": "julia",
   "version": "1.11.1"
  }
 },
 "nbformat": 4,
 "nbformat_minor": 2
}

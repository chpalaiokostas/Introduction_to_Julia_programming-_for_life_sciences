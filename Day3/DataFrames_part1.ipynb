{
 "cells": [
  {
   "cell_type": "markdown",
   "metadata": {},
   "source": [
    "## DataFrames part I"
   ]
  },
  {
   "cell_type": "markdown",
   "metadata": {},
   "source": [
    "In this session we are going to start working with tabular data. The `DataFrames` package can help us analyze efficiently our data. For people having experience in R or Python the term DataFrame will be familiar."
   ]
  },
  {
   "cell_type": "code",
   "execution_count": 2,
   "metadata": {},
   "outputs": [],
   "source": [
    "using CSV\n",
    "using DataFrames"
   ]
  },
  {
   "cell_type": "markdown",
   "metadata": {},
   "source": [
    "Let's get our first DataFrame. Keep in mind that the `CSV` package is also needed here."
   ]
  },
  {
   "cell_type": "code",
   "execution_count": 3,
   "metadata": {},
   "outputs": [
    {
     "data": {
      "text/html": [
       "<div><div style = \"float: left;\"><span>1752×4 DataFrame</span></div><div style = \"float: right;\"><span style = \"font-style: italic;\">1727 rows omitted</span></div><div style = \"clear: both;\"></div></div><div class = \"data-frame\" style = \"overflow-x: scroll;\"><table class = \"data-frame\" style = \"margin-bottom: 6px;\"><thead><tr class = \"header\"><th class = \"rowNumber\" style = \"font-weight: bold; text-align: right;\">Row</th><th style = \"text-align: left;\">Animal</th><th style = \"text-align: left;\">Father</th><th style = \"text-align: left;\">Mother</th><th style = \"text-align: left;\">Line</th></tr><tr class = \"subheader headerLastRow\"><th class = \"rowNumber\" style = \"font-weight: bold; text-align: right;\"></th><th title = \"Int64\" style = \"text-align: left;\">Int64</th><th title = \"String15\" style = \"text-align: left;\">String15</th><th title = \"String7\" style = \"text-align: left;\">String7</th><th title = \"String15\" style = \"text-align: left;\">String15</th></tr></thead><tbody><tr><td class = \"rowNumber\" style = \"font-weight: bold; text-align: right;\">1</td><td style = \"text-align: right;\">10977965</td><td style = \"text-align: left;\">Sire_01</td><td style = \"text-align: left;\">Dam_01</td><td style = \"text-align: left;\">Wami</td></tr><tr><td class = \"rowNumber\" style = \"font-weight: bold; text-align: right;\">2</td><td style = \"text-align: right;\">10978207</td><td style = \"text-align: left;\">Sire_01</td><td style = \"text-align: left;\">Dam_01</td><td style = \"text-align: left;\">Wami</td></tr><tr><td class = \"rowNumber\" style = \"font-weight: bold; text-align: right;\">3</td><td style = \"text-align: right;\">10978378</td><td style = \"text-align: left;\">Sire_01</td><td style = \"text-align: left;\">Dam_01</td><td style = \"text-align: left;\">Wami</td></tr><tr><td class = \"rowNumber\" style = \"font-weight: bold; text-align: right;\">4</td><td style = \"text-align: right;\">10978460</td><td style = \"text-align: left;\">Sire_01</td><td style = \"text-align: left;\">Dam_01</td><td style = \"text-align: left;\">Wami</td></tr><tr><td class = \"rowNumber\" style = \"font-weight: bold; text-align: right;\">5</td><td style = \"text-align: right;\">10977732</td><td style = \"text-align: left;\">Sire_01</td><td style = \"text-align: left;\">Dam_01</td><td style = \"text-align: left;\">Wami</td></tr><tr><td class = \"rowNumber\" style = \"font-weight: bold; text-align: right;\">6</td><td style = \"text-align: right;\">10978532</td><td style = \"text-align: left;\">Sire_01</td><td style = \"text-align: left;\">Dam_01</td><td style = \"text-align: left;\">Wami</td></tr><tr><td class = \"rowNumber\" style = \"font-weight: bold; text-align: right;\">7</td><td style = \"text-align: right;\">10978612</td><td style = \"text-align: left;\">Sire_01</td><td style = \"text-align: left;\">Dam_01</td><td style = \"text-align: left;\">Wami</td></tr><tr><td class = \"rowNumber\" style = \"font-weight: bold; text-align: right;\">8</td><td style = \"text-align: right;\">10977963</td><td style = \"text-align: left;\">Sire_01</td><td style = \"text-align: left;\">Dam_01</td><td style = \"text-align: left;\">Wami</td></tr><tr><td class = \"rowNumber\" style = \"font-weight: bold; text-align: right;\">9</td><td style = \"text-align: right;\">10977682</td><td style = \"text-align: left;\">Sire_01</td><td style = \"text-align: left;\">Dam_01</td><td style = \"text-align: left;\">Wami</td></tr><tr><td class = \"rowNumber\" style = \"font-weight: bold; text-align: right;\">10</td><td style = \"text-align: right;\">10978295</td><td style = \"text-align: left;\">Sire_01</td><td style = \"text-align: left;\">Dam_01</td><td style = \"text-align: left;\">Wami</td></tr><tr><td class = \"rowNumber\" style = \"font-weight: bold; text-align: right;\">11</td><td style = \"text-align: right;\">10977643</td><td style = \"text-align: left;\">Sire_01</td><td style = \"text-align: left;\">Dam_01</td><td style = \"text-align: left;\">Wami</td></tr><tr><td class = \"rowNumber\" style = \"font-weight: bold; text-align: right;\">12</td><td style = \"text-align: right;\">10978401</td><td style = \"text-align: left;\">Sire_01</td><td style = \"text-align: left;\">Dam_01</td><td style = \"text-align: left;\">Wami</td></tr><tr><td class = \"rowNumber\" style = \"font-weight: bold; text-align: right;\">13</td><td style = \"text-align: right;\">10978321</td><td style = \"text-align: left;\">Sire_01</td><td style = \"text-align: left;\">Dam_01</td><td style = \"text-align: left;\">Wami</td></tr><tr><td style = \"text-align: right;\">&vellip;</td><td style = \"text-align: right;\">&vellip;</td><td style = \"text-align: right;\">&vellip;</td><td style = \"text-align: right;\">&vellip;</td><td style = \"text-align: right;\">&vellip;</td></tr><tr><td class = \"rowNumber\" style = \"font-weight: bold; text-align: right;\">1741</td><td style = \"text-align: right;\">10977823</td><td style = \"text-align: left;\">Sire_035</td><td style = \"text-align: left;\">Dam_035</td><td style = \"text-align: left;\">Ruaha</td></tr><tr><td class = \"rowNumber\" style = \"font-weight: bold; text-align: right;\">1742</td><td style = \"text-align: right;\">10977748</td><td style = \"text-align: left;\">Sire_035</td><td style = \"text-align: left;\">Dam_035</td><td style = \"text-align: left;\">Ruaha</td></tr><tr><td class = \"rowNumber\" style = \"font-weight: bold; text-align: right;\">1743</td><td style = \"text-align: right;\">10978899</td><td style = \"text-align: left;\">Sire_035</td><td style = \"text-align: left;\">Dam_035</td><td style = \"text-align: left;\">Ruaha</td></tr><tr><td class = \"rowNumber\" style = \"font-weight: bold; text-align: right;\">1744</td><td style = \"text-align: right;\">10977635</td><td style = \"text-align: left;\">Sire_035</td><td style = \"text-align: left;\">Dam_035</td><td style = \"text-align: left;\">Ruaha</td></tr><tr><td class = \"rowNumber\" style = \"font-weight: bold; text-align: right;\">1745</td><td style = \"text-align: right;\">10978151</td><td style = \"text-align: left;\">Sire_035</td><td style = \"text-align: left;\">Dam_035</td><td style = \"text-align: left;\">Ruaha</td></tr><tr><td class = \"rowNumber\" style = \"font-weight: bold; text-align: right;\">1746</td><td style = \"text-align: right;\">10977918</td><td style = \"text-align: left;\">Sire_035</td><td style = \"text-align: left;\">Dam_035</td><td style = \"text-align: left;\">Ruaha</td></tr><tr><td class = \"rowNumber\" style = \"font-weight: bold; text-align: right;\">1747</td><td style = \"text-align: right;\">10977945</td><td style = \"text-align: left;\">Sire_035</td><td style = \"text-align: left;\">Dam_035</td><td style = \"text-align: left;\">Ruaha</td></tr><tr><td class = \"rowNumber\" style = \"font-weight: bold; text-align: right;\">1748</td><td style = \"text-align: right;\">10978369</td><td style = \"text-align: left;\">Sire_035</td><td style = \"text-align: left;\">Dam_035</td><td style = \"text-align: left;\">Ruaha</td></tr><tr><td class = \"rowNumber\" style = \"font-weight: bold; text-align: right;\">1749</td><td style = \"text-align: right;\">10978013</td><td style = \"text-align: left;\">Sire_035</td><td style = \"text-align: left;\">Dam_035</td><td style = \"text-align: left;\">Ruaha</td></tr><tr><td class = \"rowNumber\" style = \"font-weight: bold; text-align: right;\">1750</td><td style = \"text-align: right;\">10978579</td><td style = \"text-align: left;\">Sire_035</td><td style = \"text-align: left;\">Dam_035</td><td style = \"text-align: left;\">Ruaha</td></tr><tr><td class = \"rowNumber\" style = \"font-weight: bold; text-align: right;\">1751</td><td style = \"text-align: right;\">10977708</td><td style = \"text-align: left;\">Sire_035</td><td style = \"text-align: left;\">Dam_035</td><td style = \"text-align: left;\">Ruaha</td></tr><tr><td class = \"rowNumber\" style = \"font-weight: bold; text-align: right;\">1752</td><td style = \"text-align: right;\">10977975</td><td style = \"text-align: left;\">Sire_035</td><td style = \"text-align: left;\">Dam_035</td><td style = \"text-align: left;\">Ruaha</td></tr></tbody></table></div>"
      ],
      "text/latex": [
       "\\begin{tabular}{r|cccc}\n",
       "\t& Animal & Father & Mother & Line\\\\\n",
       "\t\\hline\n",
       "\t& Int64 & String15 & String7 & String15\\\\\n",
       "\t\\hline\n",
       "\t1 & 10977965 & Sire\\_01 & Dam\\_01 & Wami \\\\\n",
       "\t2 & 10978207 & Sire\\_01 & Dam\\_01 & Wami \\\\\n",
       "\t3 & 10978378 & Sire\\_01 & Dam\\_01 & Wami \\\\\n",
       "\t4 & 10978460 & Sire\\_01 & Dam\\_01 & Wami \\\\\n",
       "\t5 & 10977732 & Sire\\_01 & Dam\\_01 & Wami \\\\\n",
       "\t6 & 10978532 & Sire\\_01 & Dam\\_01 & Wami \\\\\n",
       "\t7 & 10978612 & Sire\\_01 & Dam\\_01 & Wami \\\\\n",
       "\t8 & 10977963 & Sire\\_01 & Dam\\_01 & Wami \\\\\n",
       "\t9 & 10977682 & Sire\\_01 & Dam\\_01 & Wami \\\\\n",
       "\t10 & 10978295 & Sire\\_01 & Dam\\_01 & Wami \\\\\n",
       "\t11 & 10977643 & Sire\\_01 & Dam\\_01 & Wami \\\\\n",
       "\t12 & 10978401 & Sire\\_01 & Dam\\_01 & Wami \\\\\n",
       "\t13 & 10978321 & Sire\\_01 & Dam\\_01 & Wami \\\\\n",
       "\t14 & 10978593 & Sire\\_01 & Dam\\_01 & Wami \\\\\n",
       "\t15 & 10977891 & Sire\\_01 & Dam\\_01 & Wami \\\\\n",
       "\t16 & 10978510 & Sire\\_01 & Dam\\_01 & Wami \\\\\n",
       "\t17 & 10978282 & Sire\\_01 & Dam\\_01 & Wami \\\\\n",
       "\t18 & 10978130 & Sire\\_01 & Dam\\_01 & Wami \\\\\n",
       "\t19 & 10977956 & Sire\\_01 & Dam\\_01 & Wami \\\\\n",
       "\t20 & 10978586 & Sire\\_01 & Dam\\_01 & Wami \\\\\n",
       "\t21 & 10978426 & Sire\\_01 & Dam\\_01 & Wami \\\\\n",
       "\t22 & 10978463 & Sire\\_01 & Dam\\_01 & Wami \\\\\n",
       "\t23 & 10977973 & Sire\\_01 & Dam\\_01 & Wami \\\\\n",
       "\t24 & 10978434 & Sire\\_01 & Dam\\_01 & Wami \\\\\n",
       "\t$\\dots$ & $\\dots$ & $\\dots$ & $\\dots$ & $\\dots$ \\\\\n",
       "\\end{tabular}\n"
      ],
      "text/plain": [
       "\u001b[1m1752×4 DataFrame\u001b[0m\n",
       "\u001b[1m  Row \u001b[0m│\u001b[1m Animal   \u001b[0m\u001b[1m Father   \u001b[0m\u001b[1m Mother  \u001b[0m\u001b[1m Line     \u001b[0m\n",
       "      │\u001b[90m Int64    \u001b[0m\u001b[90m String15 \u001b[0m\u001b[90m String7 \u001b[0m\u001b[90m String15 \u001b[0m\n",
       "──────┼───────────────────────────────────────\n",
       "    1 │ 10977965  Sire_01   Dam_01   Wami\n",
       "    2 │ 10978207  Sire_01   Dam_01   Wami\n",
       "    3 │ 10978378  Sire_01   Dam_01   Wami\n",
       "    4 │ 10978460  Sire_01   Dam_01   Wami\n",
       "    5 │ 10977732  Sire_01   Dam_01   Wami\n",
       "    6 │ 10978532  Sire_01   Dam_01   Wami\n",
       "    7 │ 10978612  Sire_01   Dam_01   Wami\n",
       "    8 │ 10977963  Sire_01   Dam_01   Wami\n",
       "  ⋮   │    ⋮         ⋮         ⋮        ⋮\n",
       " 1746 │ 10977918  Sire_035  Dam_035  Ruaha\n",
       " 1747 │ 10977945  Sire_035  Dam_035  Ruaha\n",
       " 1748 │ 10978369  Sire_035  Dam_035  Ruaha\n",
       " 1749 │ 10978013  Sire_035  Dam_035  Ruaha\n",
       " 1750 │ 10978579  Sire_035  Dam_035  Ruaha\n",
       " 1751 │ 10977708  Sire_035  Dam_035  Ruaha\n",
       " 1752 │ 10977975  Sire_035  Dam_035  Ruaha\n",
       "\u001b[36m                             1737 rows omitted\u001b[0m"
      ]
     },
     "metadata": {},
     "output_type": "display_data"
    }
   ],
   "source": [
    "pedigree = DataFrame(CSV.File(\"tilapia_pedigree.csv\"))"
   ]
  },
  {
   "cell_type": "markdown",
   "metadata": {},
   "source": [
    "Equivalently"
   ]
  },
  {
   "cell_type": "code",
   "execution_count": 4,
   "metadata": {},
   "outputs": [],
   "source": [
    "pedigree = CSV.read(\"tilapia_pedigree.csv\", DataFrame);"
   ]
  },
  {
   "cell_type": "markdown",
   "metadata": {},
   "source": [
    "We cannot take for granted that every file is delimited with a comma. Useful to remember the `delim` argument as we see below."
   ]
  },
  {
   "cell_type": "code",
   "execution_count": 8,
   "metadata": {},
   "outputs": [
    {
     "data": {
      "text/html": [
       "<div><div style = \"float: left;\"><span>1752×7 DataFrame</span></div><div style = \"float: right;\"><span style = \"font-style: italic;\">1727 rows omitted</span></div><div style = \"clear: both;\"></div></div><div class = \"data-frame\" style = \"overflow-x: scroll;\"><table class = \"data-frame\" style = \"margin-bottom: 6px;\"><thead><tr class = \"header\"><th class = \"rowNumber\" style = \"font-weight: bold; text-align: right;\">Row</th><th style = \"text-align: left;\">Animal_Id</th><th style = \"text-align: left;\">Location</th><th style = \"text-align: left;\">Line</th><th style = \"text-align: left;\">Weight_initial</th><th style = \"text-align: left;\">Weight_final</th><th style = \"text-align: left;\">Length_initial</th><th style = \"text-align: left;\">Length_final</th></tr><tr class = \"subheader headerLastRow\"><th class = \"rowNumber\" style = \"font-weight: bold; text-align: right;\"></th><th title = \"Int64\" style = \"text-align: left;\">Int64</th><th title = \"String15\" style = \"text-align: left;\">String15</th><th title = \"String15\" style = \"text-align: left;\">String15</th><th title = \"Float64\" style = \"text-align: left;\">Float64</th><th title = \"Float64\" style = \"text-align: left;\">Float64</th><th title = \"Float64\" style = \"text-align: left;\">Float64</th><th title = \"Float64\" style = \"text-align: left;\">Float64</th></tr></thead><tbody><tr><td class = \"rowNumber\" style = \"font-weight: bold; text-align: right;\">1</td><td style = \"text-align: right;\">10977965</td><td style = \"text-align: left;\">Kunduchi</td><td style = \"text-align: left;\">Wami</td><td style = \"text-align: right;\">84.3</td><td style = \"text-align: right;\">201.5</td><td style = \"text-align: right;\">14.2</td><td style = \"text-align: right;\">18.0</td></tr><tr><td class = \"rowNumber\" style = \"font-weight: bold; text-align: right;\">2</td><td style = \"text-align: right;\">10978207</td><td style = \"text-align: left;\">Kunduchi</td><td style = \"text-align: left;\">Wami</td><td style = \"text-align: right;\">67.8</td><td style = \"text-align: right;\">0.0</td><td style = \"text-align: right;\">13.4</td><td style = \"text-align: right;\">0.0</td></tr><tr><td class = \"rowNumber\" style = \"font-weight: bold; text-align: right;\">3</td><td style = \"text-align: right;\">10978378</td><td style = \"text-align: left;\">Kunduchi</td><td style = \"text-align: left;\">Wami</td><td style = \"text-align: right;\">103.94</td><td style = \"text-align: right;\">225.9</td><td style = \"text-align: right;\">14.4</td><td style = \"text-align: right;\">18.5</td></tr><tr><td class = \"rowNumber\" style = \"font-weight: bold; text-align: right;\">4</td><td style = \"text-align: right;\">10978460</td><td style = \"text-align: left;\">Kunduchi</td><td style = \"text-align: left;\">Wami</td><td style = \"text-align: right;\">84.85</td><td style = \"text-align: right;\">239.2</td><td style = \"text-align: right;\">14.5</td><td style = \"text-align: right;\">19.9</td></tr><tr><td class = \"rowNumber\" style = \"font-weight: bold; text-align: right;\">5</td><td style = \"text-align: right;\">10977732</td><td style = \"text-align: left;\">Kunduchi</td><td style = \"text-align: left;\">Wami</td><td style = \"text-align: right;\">78.29</td><td style = \"text-align: right;\">195.6</td><td style = \"text-align: right;\">14.0</td><td style = \"text-align: right;\">19.0</td></tr><tr><td class = \"rowNumber\" style = \"font-weight: bold; text-align: right;\">6</td><td style = \"text-align: right;\">10978532</td><td style = \"text-align: left;\">Kunduchi</td><td style = \"text-align: left;\">Wami</td><td style = \"text-align: right;\">89.93</td><td style = \"text-align: right;\">220.0</td><td style = \"text-align: right;\">14.7</td><td style = \"text-align: right;\">19.0</td></tr><tr><td class = \"rowNumber\" style = \"font-weight: bold; text-align: right;\">7</td><td style = \"text-align: right;\">10978612</td><td style = \"text-align: left;\">Kunduchi</td><td style = \"text-align: left;\">Wami</td><td style = \"text-align: right;\">117.83</td><td style = \"text-align: right;\">270.9</td><td style = \"text-align: right;\">15.0</td><td style = \"text-align: right;\">20.0</td></tr><tr><td class = \"rowNumber\" style = \"font-weight: bold; text-align: right;\">8</td><td style = \"text-align: right;\">10977963</td><td style = \"text-align: left;\">Kunduchi</td><td style = \"text-align: left;\">Wami</td><td style = \"text-align: right;\">92.48</td><td style = \"text-align: right;\">209.4</td><td style = \"text-align: right;\">14.9</td><td style = \"text-align: right;\">18.3</td></tr><tr><td class = \"rowNumber\" style = \"font-weight: bold; text-align: right;\">9</td><td style = \"text-align: right;\">10977682</td><td style = \"text-align: left;\">Kunduchi</td><td style = \"text-align: left;\">Wami</td><td style = \"text-align: right;\">95.54</td><td style = \"text-align: right;\">178.8</td><td style = \"text-align: right;\">14.9</td><td style = \"text-align: right;\">17.7</td></tr><tr><td class = \"rowNumber\" style = \"font-weight: bold; text-align: right;\">10</td><td style = \"text-align: right;\">10978295</td><td style = \"text-align: left;\">Kunduchi</td><td style = \"text-align: left;\">Wami</td><td style = \"text-align: right;\">70.27</td><td style = \"text-align: right;\">135.2</td><td style = \"text-align: right;\">13.3</td><td style = \"text-align: right;\">16.0</td></tr><tr><td class = \"rowNumber\" style = \"font-weight: bold; text-align: right;\">11</td><td style = \"text-align: right;\">10977643</td><td style = \"text-align: left;\">Kunduchi</td><td style = \"text-align: left;\">Wami</td><td style = \"text-align: right;\">79.96</td><td style = \"text-align: right;\">184.0</td><td style = \"text-align: right;\">14.2</td><td style = \"text-align: right;\">18.2</td></tr><tr><td class = \"rowNumber\" style = \"font-weight: bold; text-align: right;\">12</td><td style = \"text-align: right;\">10978401</td><td style = \"text-align: left;\">Kunduchi</td><td style = \"text-align: left;\">Wami</td><td style = \"text-align: right;\">101.76</td><td style = \"text-align: right;\">173.9</td><td style = \"text-align: right;\">14.5</td><td style = \"text-align: right;\">17.2</td></tr><tr><td class = \"rowNumber\" style = \"font-weight: bold; text-align: right;\">13</td><td style = \"text-align: right;\">10978321</td><td style = \"text-align: left;\">Kunduchi</td><td style = \"text-align: left;\">Wami</td><td style = \"text-align: right;\">52.01</td><td style = \"text-align: right;\">168.8</td><td style = \"text-align: right;\">12.5</td><td style = \"text-align: right;\">17.0</td></tr><tr><td style = \"text-align: right;\">&vellip;</td><td style = \"text-align: right;\">&vellip;</td><td style = \"text-align: right;\">&vellip;</td><td style = \"text-align: right;\">&vellip;</td><td style = \"text-align: right;\">&vellip;</td><td style = \"text-align: right;\">&vellip;</td><td style = \"text-align: right;\">&vellip;</td><td style = \"text-align: right;\">&vellip;</td></tr><tr><td class = \"rowNumber\" style = \"font-weight: bold; text-align: right;\">1741</td><td style = \"text-align: right;\">10977823</td><td style = \"text-align: left;\">Pangani</td><td style = \"text-align: left;\">Ruaha</td><td style = \"text-align: right;\">30.31</td><td style = \"text-align: right;\">76.45</td><td style = \"text-align: right;\">9.8</td><td style = \"text-align: right;\">13.0</td></tr><tr><td class = \"rowNumber\" style = \"font-weight: bold; text-align: right;\">1742</td><td style = \"text-align: right;\">10977748</td><td style = \"text-align: left;\">Pangani</td><td style = \"text-align: left;\">Ruaha</td><td style = \"text-align: right;\">22.35</td><td style = \"text-align: right;\">0.0</td><td style = \"text-align: right;\">8.9</td><td style = \"text-align: right;\">0.0</td></tr><tr><td class = \"rowNumber\" style = \"font-weight: bold; text-align: right;\">1743</td><td style = \"text-align: right;\">10978899</td><td style = \"text-align: left;\">Pangani</td><td style = \"text-align: left;\">Ruaha</td><td style = \"text-align: right;\">39.64</td><td style = \"text-align: right;\">0.0</td><td style = \"text-align: right;\">10.8</td><td style = \"text-align: right;\">0.0</td></tr><tr><td class = \"rowNumber\" style = \"font-weight: bold; text-align: right;\">1744</td><td style = \"text-align: right;\">10977635</td><td style = \"text-align: left;\">Pangani</td><td style = \"text-align: left;\">Ruaha</td><td style = \"text-align: right;\">30.6</td><td style = \"text-align: right;\">80.03</td><td style = \"text-align: right;\">9.8</td><td style = \"text-align: right;\">13.1</td></tr><tr><td class = \"rowNumber\" style = \"font-weight: bold; text-align: right;\">1745</td><td style = \"text-align: right;\">10978151</td><td style = \"text-align: left;\">Pangani</td><td style = \"text-align: left;\">Ruaha</td><td style = \"text-align: right;\">29.85</td><td style = \"text-align: right;\">40.0</td><td style = \"text-align: right;\">9.7</td><td style = \"text-align: right;\">10.7</td></tr><tr><td class = \"rowNumber\" style = \"font-weight: bold; text-align: right;\">1746</td><td style = \"text-align: right;\">10977918</td><td style = \"text-align: left;\">Pangani</td><td style = \"text-align: left;\">Ruaha</td><td style = \"text-align: right;\">40.8</td><td style = \"text-align: right;\">103.74</td><td style = \"text-align: right;\">10.8</td><td style = \"text-align: right;\">14.0</td></tr><tr><td class = \"rowNumber\" style = \"font-weight: bold; text-align: right;\">1747</td><td style = \"text-align: right;\">10977945</td><td style = \"text-align: left;\">Pangani</td><td style = \"text-align: left;\">Ruaha</td><td style = \"text-align: right;\">49.54</td><td style = \"text-align: right;\">124.83</td><td style = \"text-align: right;\">11.4</td><td style = \"text-align: right;\">14.7</td></tr><tr><td class = \"rowNumber\" style = \"font-weight: bold; text-align: right;\">1748</td><td style = \"text-align: right;\">10978369</td><td style = \"text-align: left;\">Pangani</td><td style = \"text-align: left;\">Ruaha</td><td style = \"text-align: right;\">26.93</td><td style = \"text-align: right;\">86.12</td><td style = \"text-align: right;\">9.4</td><td style = \"text-align: right;\">13.8</td></tr><tr><td class = \"rowNumber\" style = \"font-weight: bold; text-align: right;\">1749</td><td style = \"text-align: right;\">10978013</td><td style = \"text-align: left;\">Pangani</td><td style = \"text-align: left;\">Ruaha</td><td style = \"text-align: right;\">18.02</td><td style = \"text-align: right;\">0.0</td><td style = \"text-align: right;\">8.6</td><td style = \"text-align: right;\">0.0</td></tr><tr><td class = \"rowNumber\" style = \"font-weight: bold; text-align: right;\">1750</td><td style = \"text-align: right;\">10978579</td><td style = \"text-align: left;\">Pangani</td><td style = \"text-align: left;\">Ruaha</td><td style = \"text-align: right;\">46.97</td><td style = \"text-align: right;\">101.54</td><td style = \"text-align: right;\">11.0</td><td style = \"text-align: right;\">14.0</td></tr><tr><td class = \"rowNumber\" style = \"font-weight: bold; text-align: right;\">1751</td><td style = \"text-align: right;\">10977708</td><td style = \"text-align: left;\">Pangani</td><td style = \"text-align: left;\">Ruaha</td><td style = \"text-align: right;\">39.83</td><td style = \"text-align: right;\">64.24</td><td style = \"text-align: right;\">10.7</td><td style = \"text-align: right;\">13.4</td></tr><tr><td class = \"rowNumber\" style = \"font-weight: bold; text-align: right;\">1752</td><td style = \"text-align: right;\">10977975</td><td style = \"text-align: left;\">Pangani</td><td style = \"text-align: left;\">Ruaha</td><td style = \"text-align: right;\">32.14</td><td style = \"text-align: right;\">57.24</td><td style = \"text-align: right;\">10.0</td><td style = \"text-align: right;\">12.0</td></tr></tbody></table></div>"
      ],
      "text/latex": [
       "\\begin{tabular}{r|ccccccc}\n",
       "\t& Animal\\_Id & Location & Line & Weight\\_initial & Weight\\_final & Length\\_initial & Length\\_final\\\\\n",
       "\t\\hline\n",
       "\t& Int64 & String15 & String15 & Float64 & Float64 & Float64 & Float64\\\\\n",
       "\t\\hline\n",
       "\t1 & 10977965 & Kunduchi & Wami & 84.3 & 201.5 & 14.2 & 18.0 \\\\\n",
       "\t2 & 10978207 & Kunduchi & Wami & 67.8 & 0.0 & 13.4 & 0.0 \\\\\n",
       "\t3 & 10978378 & Kunduchi & Wami & 103.94 & 225.9 & 14.4 & 18.5 \\\\\n",
       "\t4 & 10978460 & Kunduchi & Wami & 84.85 & 239.2 & 14.5 & 19.9 \\\\\n",
       "\t5 & 10977732 & Kunduchi & Wami & 78.29 & 195.6 & 14.0 & 19.0 \\\\\n",
       "\t6 & 10978532 & Kunduchi & Wami & 89.93 & 220.0 & 14.7 & 19.0 \\\\\n",
       "\t7 & 10978612 & Kunduchi & Wami & 117.83 & 270.9 & 15.0 & 20.0 \\\\\n",
       "\t8 & 10977963 & Kunduchi & Wami & 92.48 & 209.4 & 14.9 & 18.3 \\\\\n",
       "\t9 & 10977682 & Kunduchi & Wami & 95.54 & 178.8 & 14.9 & 17.7 \\\\\n",
       "\t10 & 10978295 & Kunduchi & Wami & 70.27 & 135.2 & 13.3 & 16.0 \\\\\n",
       "\t11 & 10977643 & Kunduchi & Wami & 79.96 & 184.0 & 14.2 & 18.2 \\\\\n",
       "\t12 & 10978401 & Kunduchi & Wami & 101.76 & 173.9 & 14.5 & 17.2 \\\\\n",
       "\t13 & 10978321 & Kunduchi & Wami & 52.01 & 168.8 & 12.5 & 17.0 \\\\\n",
       "\t14 & 10978593 & Kunduchi & Wami & 91.93 & 182.7 & 14.3 & 18.0 \\\\\n",
       "\t15 & 10977891 & Kunduchi & Wami & 83.48 & 183.0 & 13.8 & 17.5 \\\\\n",
       "\t16 & 10978510 & Kunduchi & Wami & 87.03 & 219.9 & 14.3 & 18.5 \\\\\n",
       "\t17 & 10978282 & Kunduchi & Wami & 87.54 & 213.1 & 13.4 & 17.0 \\\\\n",
       "\t18 & 10978130 & Kunduchi & Wami & 69.83 & 204.7 & 13.3 & 19.0 \\\\\n",
       "\t19 & 10977956 & Kunduchi & Wami & 76.47 & 218.2 & 13.7 & 18.5 \\\\\n",
       "\t20 & 10978586 & Kunduchi & Wami & 84.97 & 179.3 & 14.0 & 17.1 \\\\\n",
       "\t21 & 10978426 & Kunduchi & Wami & 69.47 & 0.0 & 13.3 & 0.0 \\\\\n",
       "\t22 & 10978463 & Kunduchi & Wami & 70.53 & 196.1 & 13.4 & 18.0 \\\\\n",
       "\t23 & 10977973 & Kunduchi & Wami & 69.51 & 171.1 & 13.3 & 16.7 \\\\\n",
       "\t24 & 10978434 & Kunduchi & Wami & 58.31 & 134.0 & 12.4 & 15.9 \\\\\n",
       "\t$\\dots$ & $\\dots$ & $\\dots$ & $\\dots$ & $\\dots$ & $\\dots$ & $\\dots$ & $\\dots$ \\\\\n",
       "\\end{tabular}\n"
      ],
      "text/plain": [
       "\u001b[1m1752×7 DataFrame\u001b[0m\n",
       "\u001b[1m  Row \u001b[0m│\u001b[1m Animal_Id \u001b[0m\u001b[1m Location \u001b[0m\u001b[1m Line     \u001b[0m\u001b[1m Weight_initial \u001b[0m\u001b[1m Weight_final \u001b[0m\u001b[1m Length_in\u001b[0m ⋯\n",
       "      │\u001b[90m Int64     \u001b[0m\u001b[90m String15 \u001b[0m\u001b[90m String15 \u001b[0m\u001b[90m Float64        \u001b[0m\u001b[90m Float64      \u001b[0m\u001b[90m Float64  \u001b[0m ⋯\n",
       "──────┼─────────────────────────────────────────────────────────────────────────\n",
       "    1 │  10977965  Kunduchi  Wami               84.3         201.5             ⋯\n",
       "    2 │  10978207  Kunduchi  Wami               67.8           0.0\n",
       "    3 │  10978378  Kunduchi  Wami              103.94        225.9\n",
       "    4 │  10978460  Kunduchi  Wami               84.85        239.2\n",
       "    5 │  10977732  Kunduchi  Wami               78.29        195.6             ⋯\n",
       "    6 │  10978532  Kunduchi  Wami               89.93        220.0\n",
       "    7 │  10978612  Kunduchi  Wami              117.83        270.9\n",
       "    8 │  10977963  Kunduchi  Wami               92.48        209.4\n",
       "  ⋮   │     ⋮         ⋮         ⋮            ⋮              ⋮              ⋮   ⋱\n",
       " 1746 │  10977918  Pangani   Ruaha              40.8         103.74            ⋯\n",
       " 1747 │  10977945  Pangani   Ruaha              49.54        124.83\n",
       " 1748 │  10978369  Pangani   Ruaha              26.93         86.12\n",
       " 1749 │  10978013  Pangani   Ruaha              18.02          0.0\n",
       " 1750 │  10978579  Pangani   Ruaha              46.97        101.54            ⋯\n",
       " 1751 │  10977708  Pangani   Ruaha              39.83         64.24\n",
       " 1752 │  10977975  Pangani   Ruaha              32.14         57.24\n",
       "\u001b[36m                                                 2 columns and 1737 rows omitted\u001b[0m"
      ]
     },
     "metadata": {},
     "output_type": "display_data"
    }
   ],
   "source": [
    "pheno = DataFrame(CSV.File(\"tilapia_pheno.txt\", delim=\";\"))"
   ]
  },
  {
   "cell_type": "markdown",
   "metadata": {},
   "source": [
    "Or if you if prefer the approach below"
   ]
  },
  {
   "cell_type": "code",
   "execution_count": 9,
   "metadata": {},
   "outputs": [],
   "source": [
    "pheno = CSV.read(\"tilapia_pheno.txt\", DataFrame; delim=\";\");"
   ]
  },
  {
   "cell_type": "markdown",
   "metadata": {},
   "source": [
    "Skimming through the table above we can spot some zeroes. In that case having a weight or lenght of zero is not possible. So most likely zero denotes a missing value here. We will see more about mssing values later in the course. At this stage just wanted to show that we have the possibility when loading a dataframe to specify the symbol that's used to denote a missing value."
   ]
  },
  {
   "cell_type": "code",
   "execution_count": 10,
   "metadata": {},
   "outputs": [
    {
     "data": {
      "text/html": [
       "<div><div style = \"float: left;\"><span>1752×7 DataFrame</span></div><div style = \"float: right;\"><span style = \"font-style: italic;\">1727 rows omitted</span></div><div style = \"clear: both;\"></div></div><div class = \"data-frame\" style = \"overflow-x: scroll;\"><table class = \"data-frame\" style = \"margin-bottom: 6px;\"><thead><tr class = \"header\"><th class = \"rowNumber\" style = \"font-weight: bold; text-align: right;\">Row</th><th style = \"text-align: left;\">Animal_Id</th><th style = \"text-align: left;\">Location</th><th style = \"text-align: left;\">Line</th><th style = \"text-align: left;\">Weight_initial</th><th style = \"text-align: left;\">Weight_final</th><th style = \"text-align: left;\">Length_initial</th><th style = \"text-align: left;\">Length_final</th></tr><tr class = \"subheader headerLastRow\"><th class = \"rowNumber\" style = \"font-weight: bold; text-align: right;\"></th><th title = \"Int64\" style = \"text-align: left;\">Int64</th><th title = \"String15\" style = \"text-align: left;\">String15</th><th title = \"String15\" style = \"text-align: left;\">String15</th><th title = \"Float64\" style = \"text-align: left;\">Float64</th><th title = \"Union{Missing, Float64}\" style = \"text-align: left;\">Float64?</th><th title = \"Float64\" style = \"text-align: left;\">Float64</th><th title = \"Union{Missing, Float64}\" style = \"text-align: left;\">Float64?</th></tr></thead><tbody><tr><td class = \"rowNumber\" style = \"font-weight: bold; text-align: right;\">1</td><td style = \"text-align: right;\">10977965</td><td style = \"text-align: left;\">Kunduchi</td><td style = \"text-align: left;\">Wami</td><td style = \"text-align: right;\">84.3</td><td style = \"text-align: right;\">201.5</td><td style = \"text-align: right;\">14.2</td><td style = \"text-align: right;\">18.0</td></tr><tr><td class = \"rowNumber\" style = \"font-weight: bold; text-align: right;\">2</td><td style = \"text-align: right;\">10978207</td><td style = \"text-align: left;\">Kunduchi</td><td style = \"text-align: left;\">Wami</td><td style = \"text-align: right;\">67.8</td><td style = \"font-style: italic; text-align: right;\">missing</td><td style = \"text-align: right;\">13.4</td><td style = \"font-style: italic; text-align: right;\">missing</td></tr><tr><td class = \"rowNumber\" style = \"font-weight: bold; text-align: right;\">3</td><td style = \"text-align: right;\">10978378</td><td style = \"text-align: left;\">Kunduchi</td><td style = \"text-align: left;\">Wami</td><td style = \"text-align: right;\">103.94</td><td style = \"text-align: right;\">225.9</td><td style = \"text-align: right;\">14.4</td><td style = \"text-align: right;\">18.5</td></tr><tr><td class = \"rowNumber\" style = \"font-weight: bold; text-align: right;\">4</td><td style = \"text-align: right;\">10978460</td><td style = \"text-align: left;\">Kunduchi</td><td style = \"text-align: left;\">Wami</td><td style = \"text-align: right;\">84.85</td><td style = \"text-align: right;\">239.2</td><td style = \"text-align: right;\">14.5</td><td style = \"text-align: right;\">19.9</td></tr><tr><td class = \"rowNumber\" style = \"font-weight: bold; text-align: right;\">5</td><td style = \"text-align: right;\">10977732</td><td style = \"text-align: left;\">Kunduchi</td><td style = \"text-align: left;\">Wami</td><td style = \"text-align: right;\">78.29</td><td style = \"text-align: right;\">195.6</td><td style = \"text-align: right;\">14.0</td><td style = \"text-align: right;\">19.0</td></tr><tr><td class = \"rowNumber\" style = \"font-weight: bold; text-align: right;\">6</td><td style = \"text-align: right;\">10978532</td><td style = \"text-align: left;\">Kunduchi</td><td style = \"text-align: left;\">Wami</td><td style = \"text-align: right;\">89.93</td><td style = \"text-align: right;\">220.0</td><td style = \"text-align: right;\">14.7</td><td style = \"text-align: right;\">19.0</td></tr><tr><td class = \"rowNumber\" style = \"font-weight: bold; text-align: right;\">7</td><td style = \"text-align: right;\">10978612</td><td style = \"text-align: left;\">Kunduchi</td><td style = \"text-align: left;\">Wami</td><td style = \"text-align: right;\">117.83</td><td style = \"text-align: right;\">270.9</td><td style = \"text-align: right;\">15.0</td><td style = \"text-align: right;\">20.0</td></tr><tr><td class = \"rowNumber\" style = \"font-weight: bold; text-align: right;\">8</td><td style = \"text-align: right;\">10977963</td><td style = \"text-align: left;\">Kunduchi</td><td style = \"text-align: left;\">Wami</td><td style = \"text-align: right;\">92.48</td><td style = \"text-align: right;\">209.4</td><td style = \"text-align: right;\">14.9</td><td style = \"text-align: right;\">18.3</td></tr><tr><td class = \"rowNumber\" style = \"font-weight: bold; text-align: right;\">9</td><td style = \"text-align: right;\">10977682</td><td style = \"text-align: left;\">Kunduchi</td><td style = \"text-align: left;\">Wami</td><td style = \"text-align: right;\">95.54</td><td style = \"text-align: right;\">178.8</td><td style = \"text-align: right;\">14.9</td><td style = \"text-align: right;\">17.7</td></tr><tr><td class = \"rowNumber\" style = \"font-weight: bold; text-align: right;\">10</td><td style = \"text-align: right;\">10978295</td><td style = \"text-align: left;\">Kunduchi</td><td style = \"text-align: left;\">Wami</td><td style = \"text-align: right;\">70.27</td><td style = \"text-align: right;\">135.2</td><td style = \"text-align: right;\">13.3</td><td style = \"text-align: right;\">16.0</td></tr><tr><td class = \"rowNumber\" style = \"font-weight: bold; text-align: right;\">11</td><td style = \"text-align: right;\">10977643</td><td style = \"text-align: left;\">Kunduchi</td><td style = \"text-align: left;\">Wami</td><td style = \"text-align: right;\">79.96</td><td style = \"text-align: right;\">184.0</td><td style = \"text-align: right;\">14.2</td><td style = \"text-align: right;\">18.2</td></tr><tr><td class = \"rowNumber\" style = \"font-weight: bold; text-align: right;\">12</td><td style = \"text-align: right;\">10978401</td><td style = \"text-align: left;\">Kunduchi</td><td style = \"text-align: left;\">Wami</td><td style = \"text-align: right;\">101.76</td><td style = \"text-align: right;\">173.9</td><td style = \"text-align: right;\">14.5</td><td style = \"text-align: right;\">17.2</td></tr><tr><td class = \"rowNumber\" style = \"font-weight: bold; text-align: right;\">13</td><td style = \"text-align: right;\">10978321</td><td style = \"text-align: left;\">Kunduchi</td><td style = \"text-align: left;\">Wami</td><td style = \"text-align: right;\">52.01</td><td style = \"text-align: right;\">168.8</td><td style = \"text-align: right;\">12.5</td><td style = \"text-align: right;\">17.0</td></tr><tr><td style = \"text-align: right;\">&vellip;</td><td style = \"text-align: right;\">&vellip;</td><td style = \"text-align: right;\">&vellip;</td><td style = \"text-align: right;\">&vellip;</td><td style = \"text-align: right;\">&vellip;</td><td style = \"text-align: right;\">&vellip;</td><td style = \"text-align: right;\">&vellip;</td><td style = \"text-align: right;\">&vellip;</td></tr><tr><td class = \"rowNumber\" style = \"font-weight: bold; text-align: right;\">1741</td><td style = \"text-align: right;\">10977823</td><td style = \"text-align: left;\">Pangani</td><td style = \"text-align: left;\">Ruaha</td><td style = \"text-align: right;\">30.31</td><td style = \"text-align: right;\">76.45</td><td style = \"text-align: right;\">9.8</td><td style = \"text-align: right;\">13.0</td></tr><tr><td class = \"rowNumber\" style = \"font-weight: bold; text-align: right;\">1742</td><td style = \"text-align: right;\">10977748</td><td style = \"text-align: left;\">Pangani</td><td style = \"text-align: left;\">Ruaha</td><td style = \"text-align: right;\">22.35</td><td style = \"font-style: italic; text-align: right;\">missing</td><td style = \"text-align: right;\">8.9</td><td style = \"font-style: italic; text-align: right;\">missing</td></tr><tr><td class = \"rowNumber\" style = \"font-weight: bold; text-align: right;\">1743</td><td style = \"text-align: right;\">10978899</td><td style = \"text-align: left;\">Pangani</td><td style = \"text-align: left;\">Ruaha</td><td style = \"text-align: right;\">39.64</td><td style = \"font-style: italic; text-align: right;\">missing</td><td style = \"text-align: right;\">10.8</td><td style = \"font-style: italic; text-align: right;\">missing</td></tr><tr><td class = \"rowNumber\" style = \"font-weight: bold; text-align: right;\">1744</td><td style = \"text-align: right;\">10977635</td><td style = \"text-align: left;\">Pangani</td><td style = \"text-align: left;\">Ruaha</td><td style = \"text-align: right;\">30.6</td><td style = \"text-align: right;\">80.03</td><td style = \"text-align: right;\">9.8</td><td style = \"text-align: right;\">13.1</td></tr><tr><td class = \"rowNumber\" style = \"font-weight: bold; text-align: right;\">1745</td><td style = \"text-align: right;\">10978151</td><td style = \"text-align: left;\">Pangani</td><td style = \"text-align: left;\">Ruaha</td><td style = \"text-align: right;\">29.85</td><td style = \"text-align: right;\">40.0</td><td style = \"text-align: right;\">9.7</td><td style = \"text-align: right;\">10.7</td></tr><tr><td class = \"rowNumber\" style = \"font-weight: bold; text-align: right;\">1746</td><td style = \"text-align: right;\">10977918</td><td style = \"text-align: left;\">Pangani</td><td style = \"text-align: left;\">Ruaha</td><td style = \"text-align: right;\">40.8</td><td style = \"text-align: right;\">103.74</td><td style = \"text-align: right;\">10.8</td><td style = \"text-align: right;\">14.0</td></tr><tr><td class = \"rowNumber\" style = \"font-weight: bold; text-align: right;\">1747</td><td style = \"text-align: right;\">10977945</td><td style = \"text-align: left;\">Pangani</td><td style = \"text-align: left;\">Ruaha</td><td style = \"text-align: right;\">49.54</td><td style = \"text-align: right;\">124.83</td><td style = \"text-align: right;\">11.4</td><td style = \"text-align: right;\">14.7</td></tr><tr><td class = \"rowNumber\" style = \"font-weight: bold; text-align: right;\">1748</td><td style = \"text-align: right;\">10978369</td><td style = \"text-align: left;\">Pangani</td><td style = \"text-align: left;\">Ruaha</td><td style = \"text-align: right;\">26.93</td><td style = \"text-align: right;\">86.12</td><td style = \"text-align: right;\">9.4</td><td style = \"text-align: right;\">13.8</td></tr><tr><td class = \"rowNumber\" style = \"font-weight: bold; text-align: right;\">1749</td><td style = \"text-align: right;\">10978013</td><td style = \"text-align: left;\">Pangani</td><td style = \"text-align: left;\">Ruaha</td><td style = \"text-align: right;\">18.02</td><td style = \"font-style: italic; text-align: right;\">missing</td><td style = \"text-align: right;\">8.6</td><td style = \"font-style: italic; text-align: right;\">missing</td></tr><tr><td class = \"rowNumber\" style = \"font-weight: bold; text-align: right;\">1750</td><td style = \"text-align: right;\">10978579</td><td style = \"text-align: left;\">Pangani</td><td style = \"text-align: left;\">Ruaha</td><td style = \"text-align: right;\">46.97</td><td style = \"text-align: right;\">101.54</td><td style = \"text-align: right;\">11.0</td><td style = \"text-align: right;\">14.0</td></tr><tr><td class = \"rowNumber\" style = \"font-weight: bold; text-align: right;\">1751</td><td style = \"text-align: right;\">10977708</td><td style = \"text-align: left;\">Pangani</td><td style = \"text-align: left;\">Ruaha</td><td style = \"text-align: right;\">39.83</td><td style = \"text-align: right;\">64.24</td><td style = \"text-align: right;\">10.7</td><td style = \"text-align: right;\">13.4</td></tr><tr><td class = \"rowNumber\" style = \"font-weight: bold; text-align: right;\">1752</td><td style = \"text-align: right;\">10977975</td><td style = \"text-align: left;\">Pangani</td><td style = \"text-align: left;\">Ruaha</td><td style = \"text-align: right;\">32.14</td><td style = \"text-align: right;\">57.24</td><td style = \"text-align: right;\">10.0</td><td style = \"text-align: right;\">12.0</td></tr></tbody></table></div>"
      ],
      "text/latex": [
       "\\begin{tabular}{r|ccccccc}\n",
       "\t& Animal\\_Id & Location & Line & Weight\\_initial & Weight\\_final & Length\\_initial & Length\\_final\\\\\n",
       "\t\\hline\n",
       "\t& Int64 & String15 & String15 & Float64 & Float64? & Float64 & Float64?\\\\\n",
       "\t\\hline\n",
       "\t1 & 10977965 & Kunduchi & Wami & 84.3 & 201.5 & 14.2 & 18.0 \\\\\n",
       "\t2 & 10978207 & Kunduchi & Wami & 67.8 & \\emph{missing} & 13.4 & \\emph{missing} \\\\\n",
       "\t3 & 10978378 & Kunduchi & Wami & 103.94 & 225.9 & 14.4 & 18.5 \\\\\n",
       "\t4 & 10978460 & Kunduchi & Wami & 84.85 & 239.2 & 14.5 & 19.9 \\\\\n",
       "\t5 & 10977732 & Kunduchi & Wami & 78.29 & 195.6 & 14.0 & 19.0 \\\\\n",
       "\t6 & 10978532 & Kunduchi & Wami & 89.93 & 220.0 & 14.7 & 19.0 \\\\\n",
       "\t7 & 10978612 & Kunduchi & Wami & 117.83 & 270.9 & 15.0 & 20.0 \\\\\n",
       "\t8 & 10977963 & Kunduchi & Wami & 92.48 & 209.4 & 14.9 & 18.3 \\\\\n",
       "\t9 & 10977682 & Kunduchi & Wami & 95.54 & 178.8 & 14.9 & 17.7 \\\\\n",
       "\t10 & 10978295 & Kunduchi & Wami & 70.27 & 135.2 & 13.3 & 16.0 \\\\\n",
       "\t11 & 10977643 & Kunduchi & Wami & 79.96 & 184.0 & 14.2 & 18.2 \\\\\n",
       "\t12 & 10978401 & Kunduchi & Wami & 101.76 & 173.9 & 14.5 & 17.2 \\\\\n",
       "\t13 & 10978321 & Kunduchi & Wami & 52.01 & 168.8 & 12.5 & 17.0 \\\\\n",
       "\t14 & 10978593 & Kunduchi & Wami & 91.93 & 182.7 & 14.3 & 18.0 \\\\\n",
       "\t15 & 10977891 & Kunduchi & Wami & 83.48 & 183.0 & 13.8 & 17.5 \\\\\n",
       "\t16 & 10978510 & Kunduchi & Wami & 87.03 & 219.9 & 14.3 & 18.5 \\\\\n",
       "\t17 & 10978282 & Kunduchi & Wami & 87.54 & 213.1 & 13.4 & 17.0 \\\\\n",
       "\t18 & 10978130 & Kunduchi & Wami & 69.83 & 204.7 & 13.3 & 19.0 \\\\\n",
       "\t19 & 10977956 & Kunduchi & Wami & 76.47 & 218.2 & 13.7 & 18.5 \\\\\n",
       "\t20 & 10978586 & Kunduchi & Wami & 84.97 & 179.3 & 14.0 & 17.1 \\\\\n",
       "\t21 & 10978426 & Kunduchi & Wami & 69.47 & \\emph{missing} & 13.3 & \\emph{missing} \\\\\n",
       "\t22 & 10978463 & Kunduchi & Wami & 70.53 & 196.1 & 13.4 & 18.0 \\\\\n",
       "\t23 & 10977973 & Kunduchi & Wami & 69.51 & 171.1 & 13.3 & 16.7 \\\\\n",
       "\t24 & 10978434 & Kunduchi & Wami & 58.31 & 134.0 & 12.4 & 15.9 \\\\\n",
       "\t$\\dots$ & $\\dots$ & $\\dots$ & $\\dots$ & $\\dots$ & $\\dots$ & $\\dots$ & $\\dots$ \\\\\n",
       "\\end{tabular}\n"
      ],
      "text/plain": [
       "\u001b[1m1752×7 DataFrame\u001b[0m\n",
       "\u001b[1m  Row \u001b[0m│\u001b[1m Animal_Id \u001b[0m\u001b[1m Location \u001b[0m\u001b[1m Line     \u001b[0m\u001b[1m Weight_initial \u001b[0m\u001b[1m Weight_final \u001b[0m\u001b[1m Length_in\u001b[0m ⋯\n",
       "      │\u001b[90m Int64     \u001b[0m\u001b[90m String15 \u001b[0m\u001b[90m String15 \u001b[0m\u001b[90m Float64        \u001b[0m\u001b[90m Float64?     \u001b[0m\u001b[90m Float64  \u001b[0m ⋯\n",
       "──────┼─────────────────────────────────────────────────────────────────────────\n",
       "    1 │  10977965  Kunduchi  Wami               84.3         201.5             ⋯\n",
       "    2 │  10978207  Kunduchi  Wami               67.8  \u001b[90m   missing    \u001b[0m\n",
       "    3 │  10978378  Kunduchi  Wami              103.94        225.9\n",
       "    4 │  10978460  Kunduchi  Wami               84.85        239.2\n",
       "    5 │  10977732  Kunduchi  Wami               78.29        195.6             ⋯\n",
       "    6 │  10978532  Kunduchi  Wami               89.93        220.0\n",
       "    7 │  10978612  Kunduchi  Wami              117.83        270.9\n",
       "    8 │  10977963  Kunduchi  Wami               92.48        209.4\n",
       "  ⋮   │     ⋮         ⋮         ⋮            ⋮              ⋮              ⋮   ⋱\n",
       " 1746 │  10977918  Pangani   Ruaha              40.8         103.74            ⋯\n",
       " 1747 │  10977945  Pangani   Ruaha              49.54        124.83\n",
       " 1748 │  10978369  Pangani   Ruaha              26.93         86.12\n",
       " 1749 │  10978013  Pangani   Ruaha              18.02 \u001b[90m   missing    \u001b[0m\n",
       " 1750 │  10978579  Pangani   Ruaha              46.97        101.54            ⋯\n",
       " 1751 │  10977708  Pangani   Ruaha              39.83         64.24\n",
       " 1752 │  10977975  Pangani   Ruaha              32.14         57.24\n",
       "\u001b[36m                                                 2 columns and 1737 rows omitted\u001b[0m"
      ]
     },
     "metadata": {},
     "output_type": "display_data"
    }
   ],
   "source": [
    "pheno = CSV.read(\"tilapia_pheno.txt\", DataFrame; delim=\";\", missingstring=\"0\")"
   ]
  },
  {
   "cell_type": "markdown",
   "metadata": {},
   "source": [
    "With the following we can see how many columns or rows our dataframe has"
   ]
  },
  {
   "cell_type": "code",
   "execution_count": 11,
   "metadata": {},
   "outputs": [
    {
     "data": {
      "text/plain": [
       "7"
      ]
     },
     "metadata": {},
     "output_type": "display_data"
    }
   ],
   "source": [
    "ncol(pheno)"
   ]
  },
  {
   "cell_type": "code",
   "execution_count": 12,
   "metadata": {},
   "outputs": [
    {
     "data": {
      "text/plain": [
       "1752"
      ]
     },
     "metadata": {},
     "output_type": "display_data"
    }
   ],
   "source": [
    "nrow(pheno)"
   ]
  },
  {
   "cell_type": "markdown",
   "metadata": {},
   "source": [
    "The following function is really useful when working with dataframes in Julia. It allows us to get instantly a short overview of any numeric columns as well as the type of data each column holds."
   ]
  },
  {
   "cell_type": "code",
   "execution_count": 13,
   "metadata": {},
   "outputs": [
    {
     "data": {
      "text/html": [
       "<div><div style = \"float: left;\"><span>4×7 DataFrame</span></div><div style = \"clear: both;\"></div></div><div class = \"data-frame\" style = \"overflow-x: scroll;\"><table class = \"data-frame\" style = \"margin-bottom: 6px;\"><thead><tr class = \"header\"><th class = \"rowNumber\" style = \"font-weight: bold; text-align: right;\">Row</th><th style = \"text-align: left;\">variable</th><th style = \"text-align: left;\">mean</th><th style = \"text-align: left;\">min</th><th style = \"text-align: left;\">median</th><th style = \"text-align: left;\">max</th><th style = \"text-align: left;\">nmissing</th><th style = \"text-align: left;\">eltype</th></tr><tr class = \"subheader headerLastRow\"><th class = \"rowNumber\" style = \"font-weight: bold; text-align: right;\"></th><th title = \"Symbol\" style = \"text-align: left;\">Symbol</th><th title = \"Union{Nothing, Float64}\" style = \"text-align: left;\">Union…</th><th title = \"Any\" style = \"text-align: left;\">Any</th><th title = \"Union{Nothing, Float64}\" style = \"text-align: left;\">Union…</th><th title = \"Any\" style = \"text-align: left;\">Any</th><th title = \"Int64\" style = \"text-align: left;\">Int64</th><th title = \"DataType\" style = \"text-align: left;\">DataType</th></tr></thead><tbody><tr><td class = \"rowNumber\" style = \"font-weight: bold; text-align: right;\">1</td><td style = \"text-align: left;\">Animal</td><td style = \"text-align: left;\">1.09764e7</td><td style = \"text-align: left;\">10973049</td><td style = \"text-align: left;\">1.09761e7</td><td style = \"text-align: left;\">10988600</td><td style = \"text-align: right;\">0</td><td style = \"text-align: left;\">Int64</td></tr><tr><td class = \"rowNumber\" style = \"font-weight: bold; text-align: right;\">2</td><td style = \"text-align: left;\">Father</td><td style = \"font-style: italic; text-align: left;\"></td><td style = \"text-align: left;\">Sire_01</td><td style = \"font-style: italic; text-align: left;\"></td><td style = \"text-align: left;\">Sire_09</td><td style = \"text-align: right;\">0</td><td style = \"text-align: left;\">String15</td></tr><tr><td class = \"rowNumber\" style = \"font-weight: bold; text-align: right;\">3</td><td style = \"text-align: left;\">Mother</td><td style = \"font-style: italic; text-align: left;\"></td><td style = \"text-align: left;\">Dam_01</td><td style = \"font-style: italic; text-align: left;\"></td><td style = \"text-align: left;\">Dam_09</td><td style = \"text-align: right;\">0</td><td style = \"text-align: left;\">String7</td></tr><tr><td class = \"rowNumber\" style = \"font-weight: bold; text-align: right;\">4</td><td style = \"text-align: left;\">Line</td><td style = \"font-style: italic; text-align: left;\"></td><td style = \"text-align: left;\">Bwawani</td><td style = \"font-style: italic; text-align: left;\"></td><td style = \"text-align: left;\">Wami</td><td style = \"text-align: right;\">0</td><td style = \"text-align: left;\">String15</td></tr></tbody></table></div>"
      ],
      "text/latex": [
       "\\begin{tabular}{r|ccccccc}\n",
       "\t& variable & mean & min & median & max & nmissing & eltype\\\\\n",
       "\t\\hline\n",
       "\t& Symbol & Union… & Any & Union… & Any & Int64 & DataType\\\\\n",
       "\t\\hline\n",
       "\t1 & Animal & 1.09764e7 & 10973049 & 1.09761e7 & 10988600 & 0 & Int64 \\\\\n",
       "\t2 & Father &  & Sire\\_01 &  & Sire\\_09 & 0 & String15 \\\\\n",
       "\t3 & Mother &  & Dam\\_01 &  & Dam\\_09 & 0 & String7 \\\\\n",
       "\t4 & Line &  & Bwawani &  & Wami & 0 & String15 \\\\\n",
       "\\end{tabular}\n"
      ],
      "text/plain": [
       "\u001b[1m4×7 DataFrame\u001b[0m\n",
       "\u001b[1m Row \u001b[0m│\u001b[1m variable \u001b[0m\u001b[1m mean      \u001b[0m\u001b[1m min      \u001b[0m\u001b[1m median    \u001b[0m\u001b[1m max      \u001b[0m\u001b[1m nmissing \u001b[0m\u001b[1m eltype   \u001b[0m\n",
       "     │\u001b[90m Symbol   \u001b[0m\u001b[90m Union…    \u001b[0m\u001b[90m Any      \u001b[0m\u001b[90m Union…    \u001b[0m\u001b[90m Any      \u001b[0m\u001b[90m Int64    \u001b[0m\u001b[90m DataType \u001b[0m\n",
       "─────┼────────────────────────────────────────────────────────────────────────\n",
       "   1 │ Animal    1.09764e7  10973049  1.09761e7  10988600         0  Int64\n",
       "   2 │ Father   \u001b[90m           \u001b[0m Sire_01  \u001b[90m           \u001b[0m Sire_09          0  String15\n",
       "   3 │ Mother   \u001b[90m           \u001b[0m Dam_01   \u001b[90m           \u001b[0m Dam_09           0  String7\n",
       "   4 │ Line     \u001b[90m           \u001b[0m Bwawani  \u001b[90m           \u001b[0m Wami             0  String15"
      ]
     },
     "metadata": {},
     "output_type": "display_data"
    }
   ],
   "source": [
    "describe(pedigree)"
   ]
  },
  {
   "cell_type": "markdown",
   "metadata": {},
   "source": [
    "Let's see do the same for the 2nd dataframe."
   ]
  },
  {
   "cell_type": "code",
   "execution_count": 14,
   "metadata": {},
   "outputs": [
    {
     "data": {
      "text/html": [
       "<div><div style = \"float: left;\"><span>7×7 DataFrame</span></div><div style = \"clear: both;\"></div></div><div class = \"data-frame\" style = \"overflow-x: scroll;\"><table class = \"data-frame\" style = \"margin-bottom: 6px;\"><thead><tr class = \"header\"><th class = \"rowNumber\" style = \"font-weight: bold; text-align: right;\">Row</th><th style = \"text-align: left;\">variable</th><th style = \"text-align: left;\">mean</th><th style = \"text-align: left;\">min</th><th style = \"text-align: left;\">median</th><th style = \"text-align: left;\">max</th><th style = \"text-align: left;\">nmissing</th><th style = \"text-align: left;\">eltype</th></tr><tr class = \"subheader headerLastRow\"><th class = \"rowNumber\" style = \"font-weight: bold; text-align: right;\"></th><th title = \"Symbol\" style = \"text-align: left;\">Symbol</th><th title = \"Union{Nothing, Float64}\" style = \"text-align: left;\">Union…</th><th title = \"Any\" style = \"text-align: left;\">Any</th><th title = \"Union{Nothing, Float64}\" style = \"text-align: left;\">Union…</th><th title = \"Any\" style = \"text-align: left;\">Any</th><th title = \"Int64\" style = \"text-align: left;\">Int64</th><th title = \"Type\" style = \"text-align: left;\">Type</th></tr></thead><tbody><tr><td class = \"rowNumber\" style = \"font-weight: bold; text-align: right;\">1</td><td style = \"text-align: left;\">Animal_Id</td><td style = \"text-align: left;\">1.09764e7</td><td style = \"text-align: left;\">10973049</td><td style = \"text-align: left;\">1.09761e7</td><td style = \"text-align: left;\">10988600</td><td style = \"text-align: right;\">0</td><td style = \"text-align: left;\">Int64</td></tr><tr><td class = \"rowNumber\" style = \"font-weight: bold; text-align: right;\">2</td><td style = \"text-align: left;\">Location</td><td style = \"font-style: italic; text-align: left;\"></td><td style = \"text-align: left;\">Kunduchi</td><td style = \"font-style: italic; text-align: left;\"></td><td style = \"text-align: left;\">Pangani</td><td style = \"text-align: right;\">0</td><td style = \"text-align: left;\">String15</td></tr><tr><td class = \"rowNumber\" style = \"font-weight: bold; text-align: right;\">3</td><td style = \"text-align: left;\">Line</td><td style = \"font-style: italic; text-align: left;\"></td><td style = \"text-align: left;\">Bwawani</td><td style = \"font-style: italic; text-align: left;\"></td><td style = \"text-align: left;\">Wami</td><td style = \"text-align: right;\">0</td><td style = \"text-align: left;\">String15</td></tr><tr><td class = \"rowNumber\" style = \"font-weight: bold; text-align: right;\">4</td><td style = \"text-align: left;\">Weight_initial</td><td style = \"text-align: left;\">46.0318</td><td style = \"text-align: left;\">8.44</td><td style = \"text-align: left;\">41.8</td><td style = \"text-align: left;\">128.85</td><td style = \"text-align: right;\">0</td><td style = \"text-align: left;\">Float64</td></tr><tr><td class = \"rowNumber\" style = \"font-weight: bold; text-align: right;\">5</td><td style = \"text-align: left;\">Weight_final</td><td style = \"text-align: left;\">113.918</td><td style = \"text-align: left;\">18.19</td><td style = \"text-align: left;\">103.5</td><td style = \"text-align: left;\">325.4</td><td style = \"text-align: right;\">359</td><td style = \"text-align: left;\">Union{Missing, Float64}</td></tr><tr><td class = \"rowNumber\" style = \"font-weight: bold; text-align: right;\">6</td><td style = \"text-align: left;\">Length_initial</td><td style = \"text-align: left;\">11.0472</td><td style = \"text-align: left;\">5.0</td><td style = \"text-align: left;\">11.0</td><td style = \"text-align: left;\">16.7</td><td style = \"text-align: right;\">0</td><td style = \"text-align: left;\">Float64</td></tr><tr><td class = \"rowNumber\" style = \"font-weight: bold; text-align: right;\">7</td><td style = \"text-align: left;\">Length_final</td><td style = \"text-align: left;\">14.5936</td><td style = \"text-align: left;\">9.0</td><td style = \"text-align: left;\">14.5</td><td style = \"text-align: left;\">21.5</td><td style = \"text-align: right;\">359</td><td style = \"text-align: left;\">Union{Missing, Float64}</td></tr></tbody></table></div>"
      ],
      "text/latex": [
       "\\begin{tabular}{r|ccccccc}\n",
       "\t& variable & mean & min & median & max & nmissing & eltype\\\\\n",
       "\t\\hline\n",
       "\t& Symbol & Union… & Any & Union… & Any & Int64 & Type\\\\\n",
       "\t\\hline\n",
       "\t1 & Animal\\_Id & 1.09764e7 & 10973049 & 1.09761e7 & 10988600 & 0 & Int64 \\\\\n",
       "\t2 & Location &  & Kunduchi &  & Pangani & 0 & String15 \\\\\n",
       "\t3 & Line &  & Bwawani &  & Wami & 0 & String15 \\\\\n",
       "\t4 & Weight\\_initial & 46.0318 & 8.44 & 41.8 & 128.85 & 0 & Float64 \\\\\n",
       "\t5 & Weight\\_final & 113.918 & 18.19 & 103.5 & 325.4 & 359 & Union\\{Missing, Float64\\} \\\\\n",
       "\t6 & Length\\_initial & 11.0472 & 5.0 & 11.0 & 16.7 & 0 & Float64 \\\\\n",
       "\t7 & Length\\_final & 14.5936 & 9.0 & 14.5 & 21.5 & 359 & Union\\{Missing, Float64\\} \\\\\n",
       "\\end{tabular}\n"
      ],
      "text/plain": [
       "\u001b[1m7×7 DataFrame\u001b[0m\n",
       "\u001b[1m Row \u001b[0m│\u001b[1m variable       \u001b[0m\u001b[1m mean      \u001b[0m\u001b[1m min      \u001b[0m\u001b[1m median    \u001b[0m\u001b[1m max      \u001b[0m\u001b[1m nmissing \u001b[0m\u001b[1m elt\u001b[0m ⋯\n",
       "     │\u001b[90m Symbol         \u001b[0m\u001b[90m Union…    \u001b[0m\u001b[90m Any      \u001b[0m\u001b[90m Union…    \u001b[0m\u001b[90m Any      \u001b[0m\u001b[90m Int64    \u001b[0m\u001b[90m Typ\u001b[0m ⋯\n",
       "─────┼──────────────────────────────────────────────────────────────────────────\n",
       "   1 │ Animal_Id       1.09764e7  10973049  1.09761e7  10988600         0  Int ⋯\n",
       "   2 │ Location       \u001b[90m           \u001b[0m Kunduchi \u001b[90m           \u001b[0m Pangani          0  Str\n",
       "   3 │ Line           \u001b[90m           \u001b[0m Bwawani  \u001b[90m           \u001b[0m Wami             0  Str\n",
       "   4 │ Weight_initial  46.0318    8.44      41.8       128.85           0  Flo\n",
       "   5 │ Weight_final    113.918    18.19     103.5      325.4          359  Uni ⋯\n",
       "   6 │ Length_initial  11.0472    5.0       11.0       16.7             0  Flo\n",
       "   7 │ Length_final    14.5936    9.0       14.5       21.5           359  Uni\n",
       "\u001b[36m                                                                1 column omitted\u001b[0m"
      ]
     },
     "metadata": {},
     "output_type": "display_data"
    }
   ],
   "source": [
    "describe(pheno)"
   ]
  },
  {
   "cell_type": "markdown",
   "metadata": {},
   "source": [
    "### Slicing dataframes"
   ]
  },
  {
   "cell_type": "markdown",
   "metadata": {},
   "source": [
    "Extracting sections of a dataframe is very common. Let's see how we can accomplish that."
   ]
  },
  {
   "cell_type": "code",
   "execution_count": 15,
   "metadata": {},
   "outputs": [
    {
     "data": {
      "text/html": [
       "<div><div style = \"float: left;\"><span>11×7 DataFrame</span></div><div style = \"clear: both;\"></div></div><div class = \"data-frame\" style = \"overflow-x: scroll;\"><table class = \"data-frame\" style = \"margin-bottom: 6px;\"><thead><tr class = \"header\"><th class = \"rowNumber\" style = \"font-weight: bold; text-align: right;\">Row</th><th style = \"text-align: left;\">Animal_Id</th><th style = \"text-align: left;\">Location</th><th style = \"text-align: left;\">Line</th><th style = \"text-align: left;\">Weight_initial</th><th style = \"text-align: left;\">Weight_final</th><th style = \"text-align: left;\">Length_initial</th><th style = \"text-align: left;\">Length_final</th></tr><tr class = \"subheader headerLastRow\"><th class = \"rowNumber\" style = \"font-weight: bold; text-align: right;\"></th><th title = \"Int64\" style = \"text-align: left;\">Int64</th><th title = \"String15\" style = \"text-align: left;\">String15</th><th title = \"String15\" style = \"text-align: left;\">String15</th><th title = \"Float64\" style = \"text-align: left;\">Float64</th><th title = \"Union{Missing, Float64}\" style = \"text-align: left;\">Float64?</th><th title = \"Float64\" style = \"text-align: left;\">Float64</th><th title = \"Union{Missing, Float64}\" style = \"text-align: left;\">Float64?</th></tr></thead><tbody><tr><td class = \"rowNumber\" style = \"font-weight: bold; text-align: right;\">1</td><td style = \"text-align: right;\">10978586</td><td style = \"text-align: left;\">Kunduchi</td><td style = \"text-align: left;\">Wami</td><td style = \"text-align: right;\">84.97</td><td style = \"text-align: right;\">179.3</td><td style = \"text-align: right;\">14.0</td><td style = \"text-align: right;\">17.1</td></tr><tr><td class = \"rowNumber\" style = \"font-weight: bold; text-align: right;\">2</td><td style = \"text-align: right;\">10978426</td><td style = \"text-align: left;\">Kunduchi</td><td style = \"text-align: left;\">Wami</td><td style = \"text-align: right;\">69.47</td><td style = \"font-style: italic; text-align: right;\">missing</td><td style = \"text-align: right;\">13.3</td><td style = \"font-style: italic; text-align: right;\">missing</td></tr><tr><td class = \"rowNumber\" style = \"font-weight: bold; text-align: right;\">3</td><td style = \"text-align: right;\">10978463</td><td style = \"text-align: left;\">Kunduchi</td><td style = \"text-align: left;\">Wami</td><td style = \"text-align: right;\">70.53</td><td style = \"text-align: right;\">196.1</td><td style = \"text-align: right;\">13.4</td><td style = \"text-align: right;\">18.0</td></tr><tr><td class = \"rowNumber\" style = \"font-weight: bold; text-align: right;\">4</td><td style = \"text-align: right;\">10977973</td><td style = \"text-align: left;\">Kunduchi</td><td style = \"text-align: left;\">Wami</td><td style = \"text-align: right;\">69.51</td><td style = \"text-align: right;\">171.1</td><td style = \"text-align: right;\">13.3</td><td style = \"text-align: right;\">16.7</td></tr><tr><td class = \"rowNumber\" style = \"font-weight: bold; text-align: right;\">5</td><td style = \"text-align: right;\">10978434</td><td style = \"text-align: left;\">Kunduchi</td><td style = \"text-align: left;\">Wami</td><td style = \"text-align: right;\">58.31</td><td style = \"text-align: right;\">134.0</td><td style = \"text-align: right;\">12.4</td><td style = \"text-align: right;\">15.9</td></tr><tr><td class = \"rowNumber\" style = \"font-weight: bold; text-align: right;\">6</td><td style = \"text-align: right;\">10978506</td><td style = \"text-align: left;\">Kunduchi</td><td style = \"text-align: left;\">Wami</td><td style = \"text-align: right;\">66.77</td><td style = \"text-align: right;\">176.3</td><td style = \"text-align: right;\">13.0</td><td style = \"text-align: right;\">17.7</td></tr><tr><td class = \"rowNumber\" style = \"font-weight: bold; text-align: right;\">7</td><td style = \"text-align: right;\">10977686</td><td style = \"text-align: left;\">Kunduchi</td><td style = \"text-align: left;\">Wami</td><td style = \"text-align: right;\">59.62</td><td style = \"text-align: right;\">205.2</td><td style = \"text-align: right;\">12.6</td><td style = \"text-align: right;\">18.0</td></tr><tr><td class = \"rowNumber\" style = \"font-weight: bold; text-align: right;\">8</td><td style = \"text-align: right;\">10978184</td><td style = \"text-align: left;\">Kunduchi</td><td style = \"text-align: left;\">Wami</td><td style = \"text-align: right;\">67.13</td><td style = \"text-align: right;\">176.4</td><td style = \"text-align: right;\">13.1</td><td style = \"text-align: right;\">17.0</td></tr><tr><td class = \"rowNumber\" style = \"font-weight: bold; text-align: right;\">9</td><td style = \"text-align: right;\">10978407</td><td style = \"text-align: left;\">Kunduchi</td><td style = \"text-align: left;\">Wami</td><td style = \"text-align: right;\">63.1</td><td style = \"text-align: right;\">124.1</td><td style = \"text-align: right;\">12.7</td><td style = \"text-align: right;\">15.0</td></tr><tr><td class = \"rowNumber\" style = \"font-weight: bold; text-align: right;\">10</td><td style = \"text-align: right;\">10977751</td><td style = \"text-align: left;\">Kunduchi</td><td style = \"text-align: left;\">Wami</td><td style = \"text-align: right;\">49.72</td><td style = \"text-align: right;\">142.3</td><td style = \"text-align: right;\">12.2</td><td style = \"text-align: right;\">18.3</td></tr><tr><td class = \"rowNumber\" style = \"font-weight: bold; text-align: right;\">11</td><td style = \"text-align: right;\">10977710</td><td style = \"text-align: left;\">Kunduchi</td><td style = \"text-align: left;\">Wami</td><td style = \"text-align: right;\">50.47</td><td style = \"text-align: right;\">176.1</td><td style = \"text-align: right;\">12.4</td><td style = \"text-align: right;\">17.0</td></tr></tbody></table></div>"
      ],
      "text/latex": [
       "\\begin{tabular}{r|ccccccc}\n",
       "\t& Animal\\_Id & Location & Line & Weight\\_initial & Weight\\_final & Length\\_initial & Length\\_final\\\\\n",
       "\t\\hline\n",
       "\t& Int64 & String15 & String15 & Float64 & Float64? & Float64 & Float64?\\\\\n",
       "\t\\hline\n",
       "\t1 & 10978586 & Kunduchi & Wami & 84.97 & 179.3 & 14.0 & 17.1 \\\\\n",
       "\t2 & 10978426 & Kunduchi & Wami & 69.47 & \\emph{missing} & 13.3 & \\emph{missing} \\\\\n",
       "\t3 & 10978463 & Kunduchi & Wami & 70.53 & 196.1 & 13.4 & 18.0 \\\\\n",
       "\t4 & 10977973 & Kunduchi & Wami & 69.51 & 171.1 & 13.3 & 16.7 \\\\\n",
       "\t5 & 10978434 & Kunduchi & Wami & 58.31 & 134.0 & 12.4 & 15.9 \\\\\n",
       "\t6 & 10978506 & Kunduchi & Wami & 66.77 & 176.3 & 13.0 & 17.7 \\\\\n",
       "\t7 & 10977686 & Kunduchi & Wami & 59.62 & 205.2 & 12.6 & 18.0 \\\\\n",
       "\t8 & 10978184 & Kunduchi & Wami & 67.13 & 176.4 & 13.1 & 17.0 \\\\\n",
       "\t9 & 10978407 & Kunduchi & Wami & 63.1 & 124.1 & 12.7 & 15.0 \\\\\n",
       "\t10 & 10977751 & Kunduchi & Wami & 49.72 & 142.3 & 12.2 & 18.3 \\\\\n",
       "\t11 & 10977710 & Kunduchi & Wami & 50.47 & 176.1 & 12.4 & 17.0 \\\\\n",
       "\\end{tabular}\n"
      ],
      "text/plain": [
       "\u001b[1m11×7 DataFrame\u001b[0m\n",
       "\u001b[1m Row \u001b[0m│\u001b[1m Animal_Id \u001b[0m\u001b[1m Location \u001b[0m\u001b[1m Line     \u001b[0m\u001b[1m Weight_initial \u001b[0m\u001b[1m Weight_final \u001b[0m\u001b[1m Length_ini\u001b[0m ⋯\n",
       "     │\u001b[90m Int64     \u001b[0m\u001b[90m String15 \u001b[0m\u001b[90m String15 \u001b[0m\u001b[90m Float64        \u001b[0m\u001b[90m Float64?     \u001b[0m\u001b[90m Float64   \u001b[0m ⋯\n",
       "─────┼──────────────────────────────────────────────────────────────────────────\n",
       "   1 │  10978586  Kunduchi  Wami               84.97         179.3             ⋯\n",
       "   2 │  10978426  Kunduchi  Wami               69.47 \u001b[90m    missing   \u001b[0m\n",
       "   3 │  10978463  Kunduchi  Wami               70.53         196.1\n",
       "   4 │  10977973  Kunduchi  Wami               69.51         171.1\n",
       "   5 │  10978434  Kunduchi  Wami               58.31         134.0             ⋯\n",
       "   6 │  10978506  Kunduchi  Wami               66.77         176.3\n",
       "   7 │  10977686  Kunduchi  Wami               59.62         205.2\n",
       "   8 │  10978184  Kunduchi  Wami               67.13         176.4\n",
       "   9 │  10978407  Kunduchi  Wami               63.1          124.1             ⋯\n",
       "  10 │  10977751  Kunduchi  Wami               49.72         142.3\n",
       "  11 │  10977710  Kunduchi  Wami               50.47         176.1\n",
       "\u001b[36m                                                               2 columns omitted\u001b[0m"
      ]
     },
     "metadata": {},
     "output_type": "display_data"
    }
   ],
   "source": [
    "pheno[20:30,:]"
   ]
  },
  {
   "cell_type": "markdown",
   "metadata": {},
   "source": [
    "Here we also select based on columns. We extract rows 20 to 30 as above and the first 4 columns."
   ]
  },
  {
   "cell_type": "code",
   "execution_count": 16,
   "metadata": {},
   "outputs": [
    {
     "data": {
      "text/html": [
       "<div><div style = \"float: left;\"><span>11×4 DataFrame</span></div><div style = \"clear: both;\"></div></div><div class = \"data-frame\" style = \"overflow-x: scroll;\"><table class = \"data-frame\" style = \"margin-bottom: 6px;\"><thead><tr class = \"header\"><th class = \"rowNumber\" style = \"font-weight: bold; text-align: right;\">Row</th><th style = \"text-align: left;\">Animal_Id</th><th style = \"text-align: left;\">Location</th><th style = \"text-align: left;\">Line</th><th style = \"text-align: left;\">Weight_initial</th></tr><tr class = \"subheader headerLastRow\"><th class = \"rowNumber\" style = \"font-weight: bold; text-align: right;\"></th><th title = \"Int64\" style = \"text-align: left;\">Int64</th><th title = \"String15\" style = \"text-align: left;\">String15</th><th title = \"String15\" style = \"text-align: left;\">String15</th><th title = \"Float64\" style = \"text-align: left;\">Float64</th></tr></thead><tbody><tr><td class = \"rowNumber\" style = \"font-weight: bold; text-align: right;\">1</td><td style = \"text-align: right;\">10978586</td><td style = \"text-align: left;\">Kunduchi</td><td style = \"text-align: left;\">Wami</td><td style = \"text-align: right;\">84.97</td></tr><tr><td class = \"rowNumber\" style = \"font-weight: bold; text-align: right;\">2</td><td style = \"text-align: right;\">10978426</td><td style = \"text-align: left;\">Kunduchi</td><td style = \"text-align: left;\">Wami</td><td style = \"text-align: right;\">69.47</td></tr><tr><td class = \"rowNumber\" style = \"font-weight: bold; text-align: right;\">3</td><td style = \"text-align: right;\">10978463</td><td style = \"text-align: left;\">Kunduchi</td><td style = \"text-align: left;\">Wami</td><td style = \"text-align: right;\">70.53</td></tr><tr><td class = \"rowNumber\" style = \"font-weight: bold; text-align: right;\">4</td><td style = \"text-align: right;\">10977973</td><td style = \"text-align: left;\">Kunduchi</td><td style = \"text-align: left;\">Wami</td><td style = \"text-align: right;\">69.51</td></tr><tr><td class = \"rowNumber\" style = \"font-weight: bold; text-align: right;\">5</td><td style = \"text-align: right;\">10978434</td><td style = \"text-align: left;\">Kunduchi</td><td style = \"text-align: left;\">Wami</td><td style = \"text-align: right;\">58.31</td></tr><tr><td class = \"rowNumber\" style = \"font-weight: bold; text-align: right;\">6</td><td style = \"text-align: right;\">10978506</td><td style = \"text-align: left;\">Kunduchi</td><td style = \"text-align: left;\">Wami</td><td style = \"text-align: right;\">66.77</td></tr><tr><td class = \"rowNumber\" style = \"font-weight: bold; text-align: right;\">7</td><td style = \"text-align: right;\">10977686</td><td style = \"text-align: left;\">Kunduchi</td><td style = \"text-align: left;\">Wami</td><td style = \"text-align: right;\">59.62</td></tr><tr><td class = \"rowNumber\" style = \"font-weight: bold; text-align: right;\">8</td><td style = \"text-align: right;\">10978184</td><td style = \"text-align: left;\">Kunduchi</td><td style = \"text-align: left;\">Wami</td><td style = \"text-align: right;\">67.13</td></tr><tr><td class = \"rowNumber\" style = \"font-weight: bold; text-align: right;\">9</td><td style = \"text-align: right;\">10978407</td><td style = \"text-align: left;\">Kunduchi</td><td style = \"text-align: left;\">Wami</td><td style = \"text-align: right;\">63.1</td></tr><tr><td class = \"rowNumber\" style = \"font-weight: bold; text-align: right;\">10</td><td style = \"text-align: right;\">10977751</td><td style = \"text-align: left;\">Kunduchi</td><td style = \"text-align: left;\">Wami</td><td style = \"text-align: right;\">49.72</td></tr><tr><td class = \"rowNumber\" style = \"font-weight: bold; text-align: right;\">11</td><td style = \"text-align: right;\">10977710</td><td style = \"text-align: left;\">Kunduchi</td><td style = \"text-align: left;\">Wami</td><td style = \"text-align: right;\">50.47</td></tr></tbody></table></div>"
      ],
      "text/latex": [
       "\\begin{tabular}{r|cccc}\n",
       "\t& Animal\\_Id & Location & Line & Weight\\_initial\\\\\n",
       "\t\\hline\n",
       "\t& Int64 & String15 & String15 & Float64\\\\\n",
       "\t\\hline\n",
       "\t1 & 10978586 & Kunduchi & Wami & 84.97 \\\\\n",
       "\t2 & 10978426 & Kunduchi & Wami & 69.47 \\\\\n",
       "\t3 & 10978463 & Kunduchi & Wami & 70.53 \\\\\n",
       "\t4 & 10977973 & Kunduchi & Wami & 69.51 \\\\\n",
       "\t5 & 10978434 & Kunduchi & Wami & 58.31 \\\\\n",
       "\t6 & 10978506 & Kunduchi & Wami & 66.77 \\\\\n",
       "\t7 & 10977686 & Kunduchi & Wami & 59.62 \\\\\n",
       "\t8 & 10978184 & Kunduchi & Wami & 67.13 \\\\\n",
       "\t9 & 10978407 & Kunduchi & Wami & 63.1 \\\\\n",
       "\t10 & 10977751 & Kunduchi & Wami & 49.72 \\\\\n",
       "\t11 & 10977710 & Kunduchi & Wami & 50.47 \\\\\n",
       "\\end{tabular}\n"
      ],
      "text/plain": [
       "\u001b[1m11×4 DataFrame\u001b[0m\n",
       "\u001b[1m Row \u001b[0m│\u001b[1m Animal_Id \u001b[0m\u001b[1m Location \u001b[0m\u001b[1m Line     \u001b[0m\u001b[1m Weight_initial \u001b[0m\n",
       "     │\u001b[90m Int64     \u001b[0m\u001b[90m String15 \u001b[0m\u001b[90m String15 \u001b[0m\u001b[90m Float64        \u001b[0m\n",
       "─────┼───────────────────────────────────────────────\n",
       "   1 │  10978586  Kunduchi  Wami               84.97\n",
       "   2 │  10978426  Kunduchi  Wami               69.47\n",
       "   3 │  10978463  Kunduchi  Wami               70.53\n",
       "   4 │  10977973  Kunduchi  Wami               69.51\n",
       "   5 │  10978434  Kunduchi  Wami               58.31\n",
       "   6 │  10978506  Kunduchi  Wami               66.77\n",
       "   7 │  10977686  Kunduchi  Wami               59.62\n",
       "   8 │  10978184  Kunduchi  Wami               67.13\n",
       "   9 │  10978407  Kunduchi  Wami               63.1\n",
       "  10 │  10977751  Kunduchi  Wami               49.72\n",
       "  11 │  10977710  Kunduchi  Wami               50.47"
      ]
     },
     "metadata": {},
     "output_type": "display_data"
    }
   ],
   "source": [
    "pheno[20:30,1:4]"
   ]
  },
  {
   "cell_type": "markdown",
   "metadata": {},
   "source": [
    "We can also use column names."
   ]
  },
  {
   "cell_type": "code",
   "execution_count": 17,
   "metadata": {},
   "outputs": [
    {
     "data": {
      "text/html": [
       "<div><div style = \"float: left;\"><span>11×2 DataFrame</span></div><div style = \"clear: both;\"></div></div><div class = \"data-frame\" style = \"overflow-x: scroll;\"><table class = \"data-frame\" style = \"margin-bottom: 6px;\"><thead><tr class = \"header\"><th class = \"rowNumber\" style = \"font-weight: bold; text-align: right;\">Row</th><th style = \"text-align: left;\">Animal_Id</th><th style = \"text-align: left;\">Line</th></tr><tr class = \"subheader headerLastRow\"><th class = \"rowNumber\" style = \"font-weight: bold; text-align: right;\"></th><th title = \"Int64\" style = \"text-align: left;\">Int64</th><th title = \"String15\" style = \"text-align: left;\">String15</th></tr></thead><tbody><tr><td class = \"rowNumber\" style = \"font-weight: bold; text-align: right;\">1</td><td style = \"text-align: right;\">10978586</td><td style = \"text-align: left;\">Wami</td></tr><tr><td class = \"rowNumber\" style = \"font-weight: bold; text-align: right;\">2</td><td style = \"text-align: right;\">10978426</td><td style = \"text-align: left;\">Wami</td></tr><tr><td class = \"rowNumber\" style = \"font-weight: bold; text-align: right;\">3</td><td style = \"text-align: right;\">10978463</td><td style = \"text-align: left;\">Wami</td></tr><tr><td class = \"rowNumber\" style = \"font-weight: bold; text-align: right;\">4</td><td style = \"text-align: right;\">10977973</td><td style = \"text-align: left;\">Wami</td></tr><tr><td class = \"rowNumber\" style = \"font-weight: bold; text-align: right;\">5</td><td style = \"text-align: right;\">10978434</td><td style = \"text-align: left;\">Wami</td></tr><tr><td class = \"rowNumber\" style = \"font-weight: bold; text-align: right;\">6</td><td style = \"text-align: right;\">10978506</td><td style = \"text-align: left;\">Wami</td></tr><tr><td class = \"rowNumber\" style = \"font-weight: bold; text-align: right;\">7</td><td style = \"text-align: right;\">10977686</td><td style = \"text-align: left;\">Wami</td></tr><tr><td class = \"rowNumber\" style = \"font-weight: bold; text-align: right;\">8</td><td style = \"text-align: right;\">10978184</td><td style = \"text-align: left;\">Wami</td></tr><tr><td class = \"rowNumber\" style = \"font-weight: bold; text-align: right;\">9</td><td style = \"text-align: right;\">10978407</td><td style = \"text-align: left;\">Wami</td></tr><tr><td class = \"rowNumber\" style = \"font-weight: bold; text-align: right;\">10</td><td style = \"text-align: right;\">10977751</td><td style = \"text-align: left;\">Wami</td></tr><tr><td class = \"rowNumber\" style = \"font-weight: bold; text-align: right;\">11</td><td style = \"text-align: right;\">10977710</td><td style = \"text-align: left;\">Wami</td></tr></tbody></table></div>"
      ],
      "text/latex": [
       "\\begin{tabular}{r|cc}\n",
       "\t& Animal\\_Id & Line\\\\\n",
       "\t\\hline\n",
       "\t& Int64 & String15\\\\\n",
       "\t\\hline\n",
       "\t1 & 10978586 & Wami \\\\\n",
       "\t2 & 10978426 & Wami \\\\\n",
       "\t3 & 10978463 & Wami \\\\\n",
       "\t4 & 10977973 & Wami \\\\\n",
       "\t5 & 10978434 & Wami \\\\\n",
       "\t6 & 10978506 & Wami \\\\\n",
       "\t7 & 10977686 & Wami \\\\\n",
       "\t8 & 10978184 & Wami \\\\\n",
       "\t9 & 10978407 & Wami \\\\\n",
       "\t10 & 10977751 & Wami \\\\\n",
       "\t11 & 10977710 & Wami \\\\\n",
       "\\end{tabular}\n"
      ],
      "text/plain": [
       "\u001b[1m11×2 DataFrame\u001b[0m\n",
       "\u001b[1m Row \u001b[0m│\u001b[1m Animal_Id \u001b[0m\u001b[1m Line     \u001b[0m\n",
       "     │\u001b[90m Int64     \u001b[0m\u001b[90m String15 \u001b[0m\n",
       "─────┼─────────────────────\n",
       "   1 │  10978586  Wami\n",
       "   2 │  10978426  Wami\n",
       "   3 │  10978463  Wami\n",
       "   4 │  10977973  Wami\n",
       "   5 │  10978434  Wami\n",
       "   6 │  10978506  Wami\n",
       "   7 │  10977686  Wami\n",
       "   8 │  10978184  Wami\n",
       "   9 │  10978407  Wami\n",
       "  10 │  10977751  Wami\n",
       "  11 │  10977710  Wami"
      ]
     },
     "metadata": {},
     "output_type": "display_data"
    }
   ],
   "source": [
    "pheno[20:30,[\"Animal_Id\",\"Line\"]]"
   ]
  },
  {
   "cell_type": "markdown",
   "metadata": {},
   "source": [
    "Alternatively we can refer to column names as follows. It's a special syntax be briefly mentioned in a previous session. The column names can be represented as so called `Symbols` in Julia. Keep in mind that `Symbols`is not only specific to column names can be used in other cases as well. "
   ]
  },
  {
   "cell_type": "code",
   "execution_count": 31,
   "metadata": {},
   "outputs": [
    {
     "data": {
      "text/html": [
       "<div><div style = \"float: left;\"><span>11×4 DataFrame</span></div><div style = \"clear: both;\"></div></div><div class = \"data-frame\" style = \"overflow-x: scroll;\"><table class = \"data-frame\" style = \"margin-bottom: 6px;\"><thead><tr class = \"header\"><th class = \"rowNumber\" style = \"font-weight: bold; text-align: right;\">Row</th><th style = \"text-align: left;\">Animal_Id</th><th style = \"text-align: left;\">Location</th><th style = \"text-align: left;\">Line</th><th style = \"text-align: left;\">Weight_initial</th></tr><tr class = \"subheader headerLastRow\"><th class = \"rowNumber\" style = \"font-weight: bold; text-align: right;\"></th><th title = \"Int64\" style = \"text-align: left;\">Int64</th><th title = \"String15\" style = \"text-align: left;\">String15</th><th title = \"String15\" style = \"text-align: left;\">String15</th><th title = \"Float64\" style = \"text-align: left;\">Float64</th></tr></thead><tbody><tr><td class = \"rowNumber\" style = \"font-weight: bold; text-align: right;\">1</td><td style = \"text-align: right;\">10978586</td><td style = \"text-align: left;\">Kunduchi</td><td style = \"text-align: left;\">Wami</td><td style = \"text-align: right;\">84.97</td></tr><tr><td class = \"rowNumber\" style = \"font-weight: bold; text-align: right;\">2</td><td style = \"text-align: right;\">10978426</td><td style = \"text-align: left;\">Kunduchi</td><td style = \"text-align: left;\">Wami</td><td style = \"text-align: right;\">69.47</td></tr><tr><td class = \"rowNumber\" style = \"font-weight: bold; text-align: right;\">3</td><td style = \"text-align: right;\">10978463</td><td style = \"text-align: left;\">Kunduchi</td><td style = \"text-align: left;\">Wami</td><td style = \"text-align: right;\">70.53</td></tr><tr><td class = \"rowNumber\" style = \"font-weight: bold; text-align: right;\">4</td><td style = \"text-align: right;\">10977973</td><td style = \"text-align: left;\">Kunduchi</td><td style = \"text-align: left;\">Wami</td><td style = \"text-align: right;\">69.51</td></tr><tr><td class = \"rowNumber\" style = \"font-weight: bold; text-align: right;\">5</td><td style = \"text-align: right;\">10978434</td><td style = \"text-align: left;\">Kunduchi</td><td style = \"text-align: left;\">Wami</td><td style = \"text-align: right;\">58.31</td></tr><tr><td class = \"rowNumber\" style = \"font-weight: bold; text-align: right;\">6</td><td style = \"text-align: right;\">10978506</td><td style = \"text-align: left;\">Kunduchi</td><td style = \"text-align: left;\">Wami</td><td style = \"text-align: right;\">66.77</td></tr><tr><td class = \"rowNumber\" style = \"font-weight: bold; text-align: right;\">7</td><td style = \"text-align: right;\">10977686</td><td style = \"text-align: left;\">Kunduchi</td><td style = \"text-align: left;\">Wami</td><td style = \"text-align: right;\">59.62</td></tr><tr><td class = \"rowNumber\" style = \"font-weight: bold; text-align: right;\">8</td><td style = \"text-align: right;\">10978184</td><td style = \"text-align: left;\">Kunduchi</td><td style = \"text-align: left;\">Wami</td><td style = \"text-align: right;\">67.13</td></tr><tr><td class = \"rowNumber\" style = \"font-weight: bold; text-align: right;\">9</td><td style = \"text-align: right;\">10978407</td><td style = \"text-align: left;\">Kunduchi</td><td style = \"text-align: left;\">Wami</td><td style = \"text-align: right;\">63.1</td></tr><tr><td class = \"rowNumber\" style = \"font-weight: bold; text-align: right;\">10</td><td style = \"text-align: right;\">10977751</td><td style = \"text-align: left;\">Kunduchi</td><td style = \"text-align: left;\">Wami</td><td style = \"text-align: right;\">49.72</td></tr><tr><td class = \"rowNumber\" style = \"font-weight: bold; text-align: right;\">11</td><td style = \"text-align: right;\">10977710</td><td style = \"text-align: left;\">Kunduchi</td><td style = \"text-align: left;\">Wami</td><td style = \"text-align: right;\">50.47</td></tr></tbody></table></div>"
      ],
      "text/latex": [
       "\\begin{tabular}{r|cccc}\n",
       "\t& Animal\\_Id & Location & Line & Weight\\_initial\\\\\n",
       "\t\\hline\n",
       "\t& Int64 & String15 & String15 & Float64\\\\\n",
       "\t\\hline\n",
       "\t1 & 10978586 & Kunduchi & Wami & 84.97 \\\\\n",
       "\t2 & 10978426 & Kunduchi & Wami & 69.47 \\\\\n",
       "\t3 & 10978463 & Kunduchi & Wami & 70.53 \\\\\n",
       "\t4 & 10977973 & Kunduchi & Wami & 69.51 \\\\\n",
       "\t5 & 10978434 & Kunduchi & Wami & 58.31 \\\\\n",
       "\t6 & 10978506 & Kunduchi & Wami & 66.77 \\\\\n",
       "\t7 & 10977686 & Kunduchi & Wami & 59.62 \\\\\n",
       "\t8 & 10978184 & Kunduchi & Wami & 67.13 \\\\\n",
       "\t9 & 10978407 & Kunduchi & Wami & 63.1 \\\\\n",
       "\t10 & 10977751 & Kunduchi & Wami & 49.72 \\\\\n",
       "\t11 & 10977710 & Kunduchi & Wami & 50.47 \\\\\n",
       "\\end{tabular}\n"
      ],
      "text/plain": [
       "\u001b[1m11×4 DataFrame\u001b[0m\n",
       "\u001b[1m Row \u001b[0m│\u001b[1m Animal_Id \u001b[0m\u001b[1m Location \u001b[0m\u001b[1m Line     \u001b[0m\u001b[1m Weight_initial \u001b[0m\n",
       "     │\u001b[90m Int64     \u001b[0m\u001b[90m String15 \u001b[0m\u001b[90m String15 \u001b[0m\u001b[90m Float64        \u001b[0m\n",
       "─────┼───────────────────────────────────────────────\n",
       "   1 │  10978586  Kunduchi  Wami               84.97\n",
       "   2 │  10978426  Kunduchi  Wami               69.47\n",
       "   3 │  10978463  Kunduchi  Wami               70.53\n",
       "   4 │  10977973  Kunduchi  Wami               69.51\n",
       "   5 │  10978434  Kunduchi  Wami               58.31\n",
       "   6 │  10978506  Kunduchi  Wami               66.77\n",
       "   7 │  10977686  Kunduchi  Wami               59.62\n",
       "   8 │  10978184  Kunduchi  Wami               67.13\n",
       "   9 │  10978407  Kunduchi  Wami               63.1\n",
       "  10 │  10977751  Kunduchi  Wami               49.72\n",
       "  11 │  10977710  Kunduchi  Wami               50.47"
      ]
     },
     "metadata": {},
     "output_type": "display_data"
    }
   ],
   "source": [
    "pheno[20:30,[:Animal_Id, :Location, :Line, :Weight_initial]]"
   ]
  },
  {
   "cell_type": "markdown",
   "metadata": {},
   "source": [
    "We can do more elaborate slicing. Let's say that we want only rows where `Weight_initial`is 40 or more."
   ]
  },
  {
   "cell_type": "code",
   "execution_count": 73,
   "metadata": {},
   "outputs": [
    {
     "data": {
      "text/plain": [
       "1752-element BitVector:\n",
       " 1\n",
       " 1\n",
       " 1\n",
       " 1\n",
       " 1\n",
       " 1\n",
       " 1\n",
       " 1\n",
       " 1\n",
       " 1\n",
       " ⋮\n",
       " 0\n",
       " 0\n",
       " 1\n",
       " 1\n",
       " 0\n",
       " 0\n",
       " 1\n",
       " 0\n",
       " 0"
      ]
     },
     "metadata": {},
     "output_type": "display_data"
    }
   ],
   "source": [
    "pheno.Weight_initial .≥ 40 "
   ]
  },
  {
   "cell_type": "code",
   "execution_count": 18,
   "metadata": {},
   "outputs": [
    {
     "data": {
      "text/html": [
       "<div><div style = \"float: left;\"><span>924×7 DataFrame</span></div><div style = \"float: right;\"><span style = \"font-style: italic;\">899 rows omitted</span></div><div style = \"clear: both;\"></div></div><div class = \"data-frame\" style = \"overflow-x: scroll;\"><table class = \"data-frame\" style = \"margin-bottom: 6px;\"><thead><tr class = \"header\"><th class = \"rowNumber\" style = \"font-weight: bold; text-align: right;\">Row</th><th style = \"text-align: left;\">Animal_Id</th><th style = \"text-align: left;\">Location</th><th style = \"text-align: left;\">Line</th><th style = \"text-align: left;\">Weight_initial</th><th style = \"text-align: left;\">Weight_final</th><th style = \"text-align: left;\">Length_initial</th><th style = \"text-align: left;\">Length_final</th></tr><tr class = \"subheader headerLastRow\"><th class = \"rowNumber\" style = \"font-weight: bold; text-align: right;\"></th><th title = \"Int64\" style = \"text-align: left;\">Int64</th><th title = \"String15\" style = \"text-align: left;\">String15</th><th title = \"String15\" style = \"text-align: left;\">String15</th><th title = \"Float64\" style = \"text-align: left;\">Float64</th><th title = \"Union{Missing, Float64}\" style = \"text-align: left;\">Float64?</th><th title = \"Float64\" style = \"text-align: left;\">Float64</th><th title = \"Union{Missing, Float64}\" style = \"text-align: left;\">Float64?</th></tr></thead><tbody><tr><td class = \"rowNumber\" style = \"font-weight: bold; text-align: right;\">1</td><td style = \"text-align: right;\">10977965</td><td style = \"text-align: left;\">Kunduchi</td><td style = \"text-align: left;\">Wami</td><td style = \"text-align: right;\">84.3</td><td style = \"text-align: right;\">201.5</td><td style = \"text-align: right;\">14.2</td><td style = \"text-align: right;\">18.0</td></tr><tr><td class = \"rowNumber\" style = \"font-weight: bold; text-align: right;\">2</td><td style = \"text-align: right;\">10978207</td><td style = \"text-align: left;\">Kunduchi</td><td style = \"text-align: left;\">Wami</td><td style = \"text-align: right;\">67.8</td><td style = \"font-style: italic; text-align: right;\">missing</td><td style = \"text-align: right;\">13.4</td><td style = \"font-style: italic; text-align: right;\">missing</td></tr><tr><td class = \"rowNumber\" style = \"font-weight: bold; text-align: right;\">3</td><td style = \"text-align: right;\">10978378</td><td style = \"text-align: left;\">Kunduchi</td><td style = \"text-align: left;\">Wami</td><td style = \"text-align: right;\">103.94</td><td style = \"text-align: right;\">225.9</td><td style = \"text-align: right;\">14.4</td><td style = \"text-align: right;\">18.5</td></tr><tr><td class = \"rowNumber\" style = \"font-weight: bold; text-align: right;\">4</td><td style = \"text-align: right;\">10978460</td><td style = \"text-align: left;\">Kunduchi</td><td style = \"text-align: left;\">Wami</td><td style = \"text-align: right;\">84.85</td><td style = \"text-align: right;\">239.2</td><td style = \"text-align: right;\">14.5</td><td style = \"text-align: right;\">19.9</td></tr><tr><td class = \"rowNumber\" style = \"font-weight: bold; text-align: right;\">5</td><td style = \"text-align: right;\">10977732</td><td style = \"text-align: left;\">Kunduchi</td><td style = \"text-align: left;\">Wami</td><td style = \"text-align: right;\">78.29</td><td style = \"text-align: right;\">195.6</td><td style = \"text-align: right;\">14.0</td><td style = \"text-align: right;\">19.0</td></tr><tr><td class = \"rowNumber\" style = \"font-weight: bold; text-align: right;\">6</td><td style = \"text-align: right;\">10978532</td><td style = \"text-align: left;\">Kunduchi</td><td style = \"text-align: left;\">Wami</td><td style = \"text-align: right;\">89.93</td><td style = \"text-align: right;\">220.0</td><td style = \"text-align: right;\">14.7</td><td style = \"text-align: right;\">19.0</td></tr><tr><td class = \"rowNumber\" style = \"font-weight: bold; text-align: right;\">7</td><td style = \"text-align: right;\">10978612</td><td style = \"text-align: left;\">Kunduchi</td><td style = \"text-align: left;\">Wami</td><td style = \"text-align: right;\">117.83</td><td style = \"text-align: right;\">270.9</td><td style = \"text-align: right;\">15.0</td><td style = \"text-align: right;\">20.0</td></tr><tr><td class = \"rowNumber\" style = \"font-weight: bold; text-align: right;\">8</td><td style = \"text-align: right;\">10977963</td><td style = \"text-align: left;\">Kunduchi</td><td style = \"text-align: left;\">Wami</td><td style = \"text-align: right;\">92.48</td><td style = \"text-align: right;\">209.4</td><td style = \"text-align: right;\">14.9</td><td style = \"text-align: right;\">18.3</td></tr><tr><td class = \"rowNumber\" style = \"font-weight: bold; text-align: right;\">9</td><td style = \"text-align: right;\">10977682</td><td style = \"text-align: left;\">Kunduchi</td><td style = \"text-align: left;\">Wami</td><td style = \"text-align: right;\">95.54</td><td style = \"text-align: right;\">178.8</td><td style = \"text-align: right;\">14.9</td><td style = \"text-align: right;\">17.7</td></tr><tr><td class = \"rowNumber\" style = \"font-weight: bold; text-align: right;\">10</td><td style = \"text-align: right;\">10978295</td><td style = \"text-align: left;\">Kunduchi</td><td style = \"text-align: left;\">Wami</td><td style = \"text-align: right;\">70.27</td><td style = \"text-align: right;\">135.2</td><td style = \"text-align: right;\">13.3</td><td style = \"text-align: right;\">16.0</td></tr><tr><td class = \"rowNumber\" style = \"font-weight: bold; text-align: right;\">11</td><td style = \"text-align: right;\">10977643</td><td style = \"text-align: left;\">Kunduchi</td><td style = \"text-align: left;\">Wami</td><td style = \"text-align: right;\">79.96</td><td style = \"text-align: right;\">184.0</td><td style = \"text-align: right;\">14.2</td><td style = \"text-align: right;\">18.2</td></tr><tr><td class = \"rowNumber\" style = \"font-weight: bold; text-align: right;\">12</td><td style = \"text-align: right;\">10978401</td><td style = \"text-align: left;\">Kunduchi</td><td style = \"text-align: left;\">Wami</td><td style = \"text-align: right;\">101.76</td><td style = \"text-align: right;\">173.9</td><td style = \"text-align: right;\">14.5</td><td style = \"text-align: right;\">17.2</td></tr><tr><td class = \"rowNumber\" style = \"font-weight: bold; text-align: right;\">13</td><td style = \"text-align: right;\">10978321</td><td style = \"text-align: left;\">Kunduchi</td><td style = \"text-align: left;\">Wami</td><td style = \"text-align: right;\">52.01</td><td style = \"text-align: right;\">168.8</td><td style = \"text-align: right;\">12.5</td><td style = \"text-align: right;\">17.0</td></tr><tr><td style = \"text-align: right;\">&vellip;</td><td style = \"text-align: right;\">&vellip;</td><td style = \"text-align: right;\">&vellip;</td><td style = \"text-align: right;\">&vellip;</td><td style = \"text-align: right;\">&vellip;</td><td style = \"text-align: right;\">&vellip;</td><td style = \"text-align: right;\">&vellip;</td><td style = \"text-align: right;\">&vellip;</td></tr><tr><td class = \"rowNumber\" style = \"font-weight: bold; text-align: right;\">913</td><td style = \"text-align: right;\">10978221</td><td style = \"text-align: left;\">Pangani</td><td style = \"text-align: left;\">Ruaha</td><td style = \"text-align: right;\">51.51</td><td style = \"font-style: italic; text-align: right;\">missing</td><td style = \"text-align: right;\">12.0</td><td style = \"font-style: italic; text-align: right;\">missing</td></tr><tr><td class = \"rowNumber\" style = \"font-weight: bold; text-align: right;\">914</td><td style = \"text-align: right;\">10978120</td><td style = \"text-align: left;\">Pangani</td><td style = \"text-align: left;\">Ruaha</td><td style = \"text-align: right;\">51.5</td><td style = \"text-align: right;\">76.17</td><td style = \"text-align: right;\">11.9</td><td style = \"text-align: right;\">14.5</td></tr><tr><td class = \"rowNumber\" style = \"font-weight: bold; text-align: right;\">915</td><td style = \"text-align: right;\">10978149</td><td style = \"text-align: left;\">Pangani</td><td style = \"text-align: left;\">Ruaha</td><td style = \"text-align: right;\">48.79</td><td style = \"text-align: right;\">62.62</td><td style = \"text-align: right;\">11.4</td><td style = \"text-align: right;\">13.6</td></tr><tr><td class = \"rowNumber\" style = \"font-weight: bold; text-align: right;\">916</td><td style = \"text-align: right;\">10978480</td><td style = \"text-align: left;\">Pangani</td><td style = \"text-align: left;\">Ruaha</td><td style = \"text-align: right;\">40.02</td><td style = \"text-align: right;\">89.41</td><td style = \"text-align: right;\">10.3</td><td style = \"text-align: right;\">15.2</td></tr><tr><td class = \"rowNumber\" style = \"font-weight: bold; text-align: right;\">917</td><td style = \"text-align: right;\">10977936</td><td style = \"text-align: left;\">Pangani</td><td style = \"text-align: left;\">Ruaha</td><td style = \"text-align: right;\">41.39</td><td style = \"text-align: right;\">70.19</td><td style = \"text-align: right;\">10.7</td><td style = \"text-align: right;\">12.4</td></tr><tr><td class = \"rowNumber\" style = \"font-weight: bold; text-align: right;\">918</td><td style = \"text-align: right;\">10978377</td><td style = \"text-align: left;\">Pangani</td><td style = \"text-align: left;\">Ruaha</td><td style = \"text-align: right;\">53.69</td><td style = \"text-align: right;\">110.26</td><td style = \"text-align: right;\">12.0</td><td style = \"text-align: right;\">15.0</td></tr><tr><td class = \"rowNumber\" style = \"font-weight: bold; text-align: right;\">919</td><td style = \"text-align: right;\">10977644</td><td style = \"text-align: left;\">Pangani</td><td style = \"text-align: left;\">Ruaha</td><td style = \"text-align: right;\">50.65</td><td style = \"text-align: right;\">139.13</td><td style = \"text-align: right;\">12.8</td><td style = \"text-align: right;\">15.5</td></tr><tr><td class = \"rowNumber\" style = \"font-weight: bold; text-align: right;\">920</td><td style = \"text-align: right;\">10978592</td><td style = \"text-align: left;\">Pangani</td><td style = \"text-align: left;\">Ruaha</td><td style = \"text-align: right;\">52.94</td><td style = \"text-align: right;\">113.24</td><td style = \"text-align: right;\">5.0</td><td style = \"text-align: right;\">14.9</td></tr><tr><td class = \"rowNumber\" style = \"font-weight: bold; text-align: right;\">921</td><td style = \"text-align: right;\">10978533</td><td style = \"text-align: left;\">Pangani</td><td style = \"text-align: left;\">Ruaha</td><td style = \"text-align: right;\">43.21</td><td style = \"text-align: right;\">100.5</td><td style = \"text-align: right;\">11.5</td><td style = \"text-align: right;\">14.0</td></tr><tr><td class = \"rowNumber\" style = \"font-weight: bold; text-align: right;\">922</td><td style = \"text-align: right;\">10977918</td><td style = \"text-align: left;\">Pangani</td><td style = \"text-align: left;\">Ruaha</td><td style = \"text-align: right;\">40.8</td><td style = \"text-align: right;\">103.74</td><td style = \"text-align: right;\">10.8</td><td style = \"text-align: right;\">14.0</td></tr><tr><td class = \"rowNumber\" style = \"font-weight: bold; text-align: right;\">923</td><td style = \"text-align: right;\">10977945</td><td style = \"text-align: left;\">Pangani</td><td style = \"text-align: left;\">Ruaha</td><td style = \"text-align: right;\">49.54</td><td style = \"text-align: right;\">124.83</td><td style = \"text-align: right;\">11.4</td><td style = \"text-align: right;\">14.7</td></tr><tr><td class = \"rowNumber\" style = \"font-weight: bold; text-align: right;\">924</td><td style = \"text-align: right;\">10978579</td><td style = \"text-align: left;\">Pangani</td><td style = \"text-align: left;\">Ruaha</td><td style = \"text-align: right;\">46.97</td><td style = \"text-align: right;\">101.54</td><td style = \"text-align: right;\">11.0</td><td style = \"text-align: right;\">14.0</td></tr></tbody></table></div>"
      ],
      "text/latex": [
       "\\begin{tabular}{r|ccccccc}\n",
       "\t& Animal\\_Id & Location & Line & Weight\\_initial & Weight\\_final & Length\\_initial & Length\\_final\\\\\n",
       "\t\\hline\n",
       "\t& Int64 & String15 & String15 & Float64 & Float64? & Float64 & Float64?\\\\\n",
       "\t\\hline\n",
       "\t1 & 10977965 & Kunduchi & Wami & 84.3 & 201.5 & 14.2 & 18.0 \\\\\n",
       "\t2 & 10978207 & Kunduchi & Wami & 67.8 & \\emph{missing} & 13.4 & \\emph{missing} \\\\\n",
       "\t3 & 10978378 & Kunduchi & Wami & 103.94 & 225.9 & 14.4 & 18.5 \\\\\n",
       "\t4 & 10978460 & Kunduchi & Wami & 84.85 & 239.2 & 14.5 & 19.9 \\\\\n",
       "\t5 & 10977732 & Kunduchi & Wami & 78.29 & 195.6 & 14.0 & 19.0 \\\\\n",
       "\t6 & 10978532 & Kunduchi & Wami & 89.93 & 220.0 & 14.7 & 19.0 \\\\\n",
       "\t7 & 10978612 & Kunduchi & Wami & 117.83 & 270.9 & 15.0 & 20.0 \\\\\n",
       "\t8 & 10977963 & Kunduchi & Wami & 92.48 & 209.4 & 14.9 & 18.3 \\\\\n",
       "\t9 & 10977682 & Kunduchi & Wami & 95.54 & 178.8 & 14.9 & 17.7 \\\\\n",
       "\t10 & 10978295 & Kunduchi & Wami & 70.27 & 135.2 & 13.3 & 16.0 \\\\\n",
       "\t11 & 10977643 & Kunduchi & Wami & 79.96 & 184.0 & 14.2 & 18.2 \\\\\n",
       "\t12 & 10978401 & Kunduchi & Wami & 101.76 & 173.9 & 14.5 & 17.2 \\\\\n",
       "\t13 & 10978321 & Kunduchi & Wami & 52.01 & 168.8 & 12.5 & 17.0 \\\\\n",
       "\t14 & 10978593 & Kunduchi & Wami & 91.93 & 182.7 & 14.3 & 18.0 \\\\\n",
       "\t15 & 10977891 & Kunduchi & Wami & 83.48 & 183.0 & 13.8 & 17.5 \\\\\n",
       "\t16 & 10978510 & Kunduchi & Wami & 87.03 & 219.9 & 14.3 & 18.5 \\\\\n",
       "\t17 & 10978282 & Kunduchi & Wami & 87.54 & 213.1 & 13.4 & 17.0 \\\\\n",
       "\t18 & 10978130 & Kunduchi & Wami & 69.83 & 204.7 & 13.3 & 19.0 \\\\\n",
       "\t19 & 10977956 & Kunduchi & Wami & 76.47 & 218.2 & 13.7 & 18.5 \\\\\n",
       "\t20 & 10978586 & Kunduchi & Wami & 84.97 & 179.3 & 14.0 & 17.1 \\\\\n",
       "\t21 & 10978426 & Kunduchi & Wami & 69.47 & \\emph{missing} & 13.3 & \\emph{missing} \\\\\n",
       "\t22 & 10978463 & Kunduchi & Wami & 70.53 & 196.1 & 13.4 & 18.0 \\\\\n",
       "\t23 & 10977973 & Kunduchi & Wami & 69.51 & 171.1 & 13.3 & 16.7 \\\\\n",
       "\t24 & 10978434 & Kunduchi & Wami & 58.31 & 134.0 & 12.4 & 15.9 \\\\\n",
       "\t$\\dots$ & $\\dots$ & $\\dots$ & $\\dots$ & $\\dots$ & $\\dots$ & $\\dots$ & $\\dots$ \\\\\n",
       "\\end{tabular}\n"
      ],
      "text/plain": [
       "\u001b[1m924×7 DataFrame\u001b[0m\n",
       "\u001b[1m Row \u001b[0m│\u001b[1m Animal_Id \u001b[0m\u001b[1m Location \u001b[0m\u001b[1m Line     \u001b[0m\u001b[1m Weight_initial \u001b[0m\u001b[1m Weight_final \u001b[0m\u001b[1m Length_ini\u001b[0m ⋯\n",
       "     │\u001b[90m Int64     \u001b[0m\u001b[90m String15 \u001b[0m\u001b[90m String15 \u001b[0m\u001b[90m Float64        \u001b[0m\u001b[90m Float64?     \u001b[0m\u001b[90m Float64   \u001b[0m ⋯\n",
       "─────┼──────────────────────────────────────────────────────────────────────────\n",
       "   1 │  10977965  Kunduchi  Wami               84.3         201.5              ⋯\n",
       "   2 │  10978207  Kunduchi  Wami               67.8  \u001b[90m   missing    \u001b[0m\n",
       "   3 │  10978378  Kunduchi  Wami              103.94        225.9\n",
       "   4 │  10978460  Kunduchi  Wami               84.85        239.2\n",
       "   5 │  10977732  Kunduchi  Wami               78.29        195.6              ⋯\n",
       "   6 │  10978532  Kunduchi  Wami               89.93        220.0\n",
       "   7 │  10978612  Kunduchi  Wami              117.83        270.9\n",
       "   8 │  10977963  Kunduchi  Wami               92.48        209.4\n",
       "  ⋮  │     ⋮         ⋮         ⋮            ⋮              ⋮              ⋮    ⋱\n",
       " 918 │  10978377  Pangani   Ruaha              53.69        110.26             ⋯\n",
       " 919 │  10977644  Pangani   Ruaha              50.65        139.13\n",
       " 920 │  10978592  Pangani   Ruaha              52.94        113.24\n",
       " 921 │  10978533  Pangani   Ruaha              43.21        100.5\n",
       " 922 │  10977918  Pangani   Ruaha              40.8         103.74             ⋯\n",
       " 923 │  10977945  Pangani   Ruaha              49.54        124.83\n",
       " 924 │  10978579  Pangani   Ruaha              46.97        101.54\n",
       "\u001b[36m                                                  2 columns and 909 rows omitted\u001b[0m"
      ]
     },
     "metadata": {},
     "output_type": "display_data"
    }
   ],
   "source": [
    "pheno[pheno.Weight_initial .≥ 40,:]"
   ]
  },
  {
   "cell_type": "markdown",
   "metadata": {},
   "source": [
    "When we want to select all rows we can use either `:` or `!`. Let's see their difference."
   ]
  },
  {
   "cell_type": "code",
   "execution_count": 19,
   "metadata": {},
   "outputs": [],
   "source": [
    "using BenchmarkTools"
   ]
  },
  {
   "cell_type": "code",
   "execution_count": 20,
   "metadata": {},
   "outputs": [
    {
     "data": {
      "text/plain": [
       "BenchmarkTools.Trial: 10000 samples with 10 evaluations.\n",
       " Range \u001b[90m(\u001b[39m\u001b[36m\u001b[1mmin\u001b[22m\u001b[39m … \u001b[35mmax\u001b[39m\u001b[90m):  \u001b[39m\u001b[36m\u001b[1m1.062 μs\u001b[22m\u001b[39m … \u001b[35m 1.656 ms\u001b[39m  \u001b[90m┊\u001b[39m GC \u001b[90m(\u001b[39mmin … max\u001b[90m): \u001b[39m 0.00% … 95.93%\n",
       " Time  \u001b[90m(\u001b[39m\u001b[34m\u001b[1mmedian\u001b[22m\u001b[39m\u001b[90m):     \u001b[39m\u001b[34m\u001b[1m1.946 μs              \u001b[22m\u001b[39m\u001b[90m┊\u001b[39m GC \u001b[90m(\u001b[39mmedian\u001b[90m):    \u001b[39m 0.00%\n",
       " Time  \u001b[90m(\u001b[39m\u001b[32m\u001b[1mmean\u001b[22m\u001b[39m ± \u001b[32mσ\u001b[39m\u001b[90m):   \u001b[39m\u001b[32m\u001b[1m3.093 μs\u001b[22m\u001b[39m ± \u001b[32m32.633 μs\u001b[39m  \u001b[90m┊\u001b[39m GC \u001b[90m(\u001b[39mmean ± σ\u001b[90m):  \u001b[39m32.66% ±  3.30%\n",
       "\n",
       "  \u001b[39m \u001b[39m \u001b[39m \u001b[39m \u001b[39m \u001b[39m \u001b[39m \u001b[39m \u001b[39m \u001b[39m \u001b[39m \u001b[39m \u001b[39m \u001b[39m \u001b[39m▁\u001b[39m▇\u001b[39m█\u001b[39m▇\u001b[34m▅\u001b[39m\u001b[39m▃\u001b[39m▁\u001b[39m \u001b[39m \u001b[39m \u001b[39m \u001b[39m \u001b[39m \u001b[39m \u001b[39m \u001b[39m \u001b[39m \u001b[39m \u001b[39m \u001b[39m \u001b[39m \u001b[39m \u001b[39m \u001b[39m \u001b[39m \u001b[39m \u001b[39m \u001b[39m \u001b[32m \u001b[39m\u001b[39m \u001b[39m \u001b[39m \u001b[39m \u001b[39m \u001b[39m \u001b[39m \u001b[39m \u001b[39m \u001b[39m \u001b[39m \u001b[39m \u001b[39m \u001b[39m \u001b[39m \u001b[39m \u001b[39m \n",
       "  \u001b[39m▁\u001b[39m▂\u001b[39m▂\u001b[39m▂\u001b[39m▂\u001b[39m▂\u001b[39m▂\u001b[39m▁\u001b[39m▁\u001b[39m▁\u001b[39m▁\u001b[39m▁\u001b[39m▂\u001b[39m▄\u001b[39m█\u001b[39m█\u001b[39m█\u001b[39m█\u001b[34m█\u001b[39m\u001b[39m█\u001b[39m█\u001b[39m▆\u001b[39m▆\u001b[39m▅\u001b[39m▄\u001b[39m▃\u001b[39m▃\u001b[39m▂\u001b[39m▂\u001b[39m▂\u001b[39m▂\u001b[39m▂\u001b[39m▂\u001b[39m▂\u001b[39m▂\u001b[39m▂\u001b[39m▁\u001b[39m▂\u001b[39m▁\u001b[39m▂\u001b[39m▁\u001b[39m▁\u001b[32m▁\u001b[39m\u001b[39m▁\u001b[39m▁\u001b[39m▁\u001b[39m▁\u001b[39m▁\u001b[39m▁\u001b[39m▁\u001b[39m▁\u001b[39m▁\u001b[39m▁\u001b[39m▁\u001b[39m▁\u001b[39m▁\u001b[39m▁\u001b[39m▁\u001b[39m \u001b[39m▂\n",
       "  1.06 μs\u001b[90m        Histogram: frequency by time\u001b[39m         3.9 μs \u001b[0m\u001b[1m<\u001b[22m\n",
       "\n",
       " Memory estimate\u001b[90m: \u001b[39m\u001b[33m15.28 KiB\u001b[39m, allocs estimate\u001b[90m: \u001b[39m\u001b[33m33\u001b[39m."
      ]
     },
     "metadata": {},
     "output_type": "display_data"
    }
   ],
   "source": [
    "@benchmark $pheno[:,[:Location, :Line]]"
   ]
  },
  {
   "cell_type": "markdown",
   "metadata": {},
   "source": [
    "Now will try the same but this time select rows using `!`."
   ]
  },
  {
   "cell_type": "code",
   "execution_count": 21,
   "metadata": {},
   "outputs": [
    {
     "data": {
      "text/plain": [
       "BenchmarkTools.Trial: 10000 samples with 204 evaluations.\n",
       " Range \u001b[90m(\u001b[39m\u001b[36m\u001b[1mmin\u001b[22m\u001b[39m … \u001b[35mmax\u001b[39m\u001b[90m):  \u001b[39m\u001b[36m\u001b[1m372.343 ns\u001b[22m\u001b[39m … \u001b[35m45.820 μs\u001b[39m  \u001b[90m┊\u001b[39m GC \u001b[90m(\u001b[39mmin … max\u001b[90m): \u001b[39m 0.00% … 98.14%\n",
       " Time  \u001b[90m(\u001b[39m\u001b[34m\u001b[1mmedian\u001b[22m\u001b[39m\u001b[90m):     \u001b[39m\u001b[34m\u001b[1m417.892 ns              \u001b[22m\u001b[39m\u001b[90m┊\u001b[39m GC \u001b[90m(\u001b[39mmedian\u001b[90m):    \u001b[39m 0.00%\n",
       " Time  \u001b[90m(\u001b[39m\u001b[32m\u001b[1mmean\u001b[22m\u001b[39m ± \u001b[32mσ\u001b[39m\u001b[90m):   \u001b[39m\u001b[32m\u001b[1m509.741 ns\u001b[22m\u001b[39m ± \u001b[32m 1.136 μs\u001b[39m  \u001b[90m┊\u001b[39m GC \u001b[90m(\u001b[39mmean ± σ\u001b[90m):  \u001b[39m12.61% ±  6.48%\n",
       "\n",
       "  \u001b[39m▄\u001b[39m█\u001b[39m█\u001b[39m▆\u001b[34m▇\u001b[39m\u001b[39m▆\u001b[39m▅\u001b[39m▅\u001b[39m▅\u001b[39m▄\u001b[39m▄\u001b[39m▃\u001b[32m▃\u001b[39m\u001b[39m▃\u001b[39m▂\u001b[39m▁\u001b[39m▂\u001b[39m▁\u001b[39m▁\u001b[39m \u001b[39m▁\u001b[39m▁\u001b[39m \u001b[39m \u001b[39m▁\u001b[39m \u001b[39m \u001b[39m \u001b[39m \u001b[39m \u001b[39m \u001b[39m \u001b[39m \u001b[39m \u001b[39m \u001b[39m \u001b[39m \u001b[39m \u001b[39m \u001b[39m \u001b[39m \u001b[39m \u001b[39m \u001b[39m \u001b[39m \u001b[39m \u001b[39m \u001b[39m \u001b[39m \u001b[39m \u001b[39m \u001b[39m \u001b[39m \u001b[39m \u001b[39m \u001b[39m \u001b[39m \u001b[39m \u001b[39m \u001b[39m \u001b[39m \u001b[39m▂\n",
       "  \u001b[39m█\u001b[39m█\u001b[39m█\u001b[39m█\u001b[34m█\u001b[39m\u001b[39m█\u001b[39m█\u001b[39m█\u001b[39m█\u001b[39m█\u001b[39m█\u001b[39m█\u001b[32m█\u001b[39m\u001b[39m█\u001b[39m█\u001b[39m█\u001b[39m█\u001b[39m█\u001b[39m█\u001b[39m█\u001b[39m█\u001b[39m█\u001b[39m█\u001b[39m█\u001b[39m█\u001b[39m█\u001b[39m▇\u001b[39m█\u001b[39m█\u001b[39m█\u001b[39m▇\u001b[39m▆\u001b[39m▆\u001b[39m▇\u001b[39m▆\u001b[39m▅\u001b[39m▆\u001b[39m▆\u001b[39m▅\u001b[39m▆\u001b[39m▅\u001b[39m▆\u001b[39m▅\u001b[39m▆\u001b[39m▅\u001b[39m▃\u001b[39m▅\u001b[39m▅\u001b[39m▅\u001b[39m▆\u001b[39m▅\u001b[39m▅\u001b[39m▄\u001b[39m▃\u001b[39m▅\u001b[39m▁\u001b[39m▃\u001b[39m▁\u001b[39m▄\u001b[39m▅\u001b[39m \u001b[39m█\n",
       "  372 ns\u001b[90m        \u001b[39m\u001b[90mHistogram: \u001b[39m\u001b[90m\u001b[1mlog(\u001b[22m\u001b[39m\u001b[90mfrequency\u001b[39m\u001b[90m\u001b[1m)\u001b[22m\u001b[39m\u001b[90m by time\u001b[39m      1.06 μs \u001b[0m\u001b[1m<\u001b[22m\n",
       "\n",
       " Memory estimate\u001b[90m: \u001b[39m\u001b[33m1.28 KiB\u001b[39m, allocs estimate\u001b[90m: \u001b[39m\u001b[33m23\u001b[39m."
      ]
     },
     "metadata": {},
     "output_type": "display_data"
    }
   ],
   "source": [
    "@benchmark $pheno[!, [:Location, :Line]]"
   ]
  },
  {
   "cell_type": "markdown",
   "metadata": {},
   "source": [
    "As we witness using `!` both faster and requires substantially less memmory. This is because when we use `:` a copy is created behind the scenes, while with `!`we refer to the source dataframe. As such in the latter case if we proceed with any changes the source dataframe will be affected. Keep this in mind as it can result to difficult to spot bugs."
   ]
  },
  {
   "cell_type": "markdown",
   "metadata": {},
   "source": [
    "Now let's explore some more possibilities of how we can select columns. First will use regular expressions to select columns that have in their name `Weight`"
   ]
  },
  {
   "cell_type": "code",
   "execution_count": 22,
   "metadata": {},
   "outputs": [
    {
     "data": {
      "text/html": [
       "<div><div style = \"float: left;\"><span>1752×2 DataFrame</span></div><div style = \"float: right;\"><span style = \"font-style: italic;\">1727 rows omitted</span></div><div style = \"clear: both;\"></div></div><div class = \"data-frame\" style = \"overflow-x: scroll;\"><table class = \"data-frame\" style = \"margin-bottom: 6px;\"><thead><tr class = \"header\"><th class = \"rowNumber\" style = \"font-weight: bold; text-align: right;\">Row</th><th style = \"text-align: left;\">Weight_initial</th><th style = \"text-align: left;\">Weight_final</th></tr><tr class = \"subheader headerLastRow\"><th class = \"rowNumber\" style = \"font-weight: bold; text-align: right;\"></th><th title = \"Float64\" style = \"text-align: left;\">Float64</th><th title = \"Union{Missing, Float64}\" style = \"text-align: left;\">Float64?</th></tr></thead><tbody><tr><td class = \"rowNumber\" style = \"font-weight: bold; text-align: right;\">1</td><td style = \"text-align: right;\">84.3</td><td style = \"text-align: right;\">201.5</td></tr><tr><td class = \"rowNumber\" style = \"font-weight: bold; text-align: right;\">2</td><td style = \"text-align: right;\">67.8</td><td style = \"font-style: italic; text-align: right;\">missing</td></tr><tr><td class = \"rowNumber\" style = \"font-weight: bold; text-align: right;\">3</td><td style = \"text-align: right;\">103.94</td><td style = \"text-align: right;\">225.9</td></tr><tr><td class = \"rowNumber\" style = \"font-weight: bold; text-align: right;\">4</td><td style = \"text-align: right;\">84.85</td><td style = \"text-align: right;\">239.2</td></tr><tr><td class = \"rowNumber\" style = \"font-weight: bold; text-align: right;\">5</td><td style = \"text-align: right;\">78.29</td><td style = \"text-align: right;\">195.6</td></tr><tr><td class = \"rowNumber\" style = \"font-weight: bold; text-align: right;\">6</td><td style = \"text-align: right;\">89.93</td><td style = \"text-align: right;\">220.0</td></tr><tr><td class = \"rowNumber\" style = \"font-weight: bold; text-align: right;\">7</td><td style = \"text-align: right;\">117.83</td><td style = \"text-align: right;\">270.9</td></tr><tr><td class = \"rowNumber\" style = \"font-weight: bold; text-align: right;\">8</td><td style = \"text-align: right;\">92.48</td><td style = \"text-align: right;\">209.4</td></tr><tr><td class = \"rowNumber\" style = \"font-weight: bold; text-align: right;\">9</td><td style = \"text-align: right;\">95.54</td><td style = \"text-align: right;\">178.8</td></tr><tr><td class = \"rowNumber\" style = \"font-weight: bold; text-align: right;\">10</td><td style = \"text-align: right;\">70.27</td><td style = \"text-align: right;\">135.2</td></tr><tr><td class = \"rowNumber\" style = \"font-weight: bold; text-align: right;\">11</td><td style = \"text-align: right;\">79.96</td><td style = \"text-align: right;\">184.0</td></tr><tr><td class = \"rowNumber\" style = \"font-weight: bold; text-align: right;\">12</td><td style = \"text-align: right;\">101.76</td><td style = \"text-align: right;\">173.9</td></tr><tr><td class = \"rowNumber\" style = \"font-weight: bold; text-align: right;\">13</td><td style = \"text-align: right;\">52.01</td><td style = \"text-align: right;\">168.8</td></tr><tr><td style = \"text-align: right;\">&vellip;</td><td style = \"text-align: right;\">&vellip;</td><td style = \"text-align: right;\">&vellip;</td></tr><tr><td class = \"rowNumber\" style = \"font-weight: bold; text-align: right;\">1741</td><td style = \"text-align: right;\">30.31</td><td style = \"text-align: right;\">76.45</td></tr><tr><td class = \"rowNumber\" style = \"font-weight: bold; text-align: right;\">1742</td><td style = \"text-align: right;\">22.35</td><td style = \"font-style: italic; text-align: right;\">missing</td></tr><tr><td class = \"rowNumber\" style = \"font-weight: bold; text-align: right;\">1743</td><td style = \"text-align: right;\">39.64</td><td style = \"font-style: italic; text-align: right;\">missing</td></tr><tr><td class = \"rowNumber\" style = \"font-weight: bold; text-align: right;\">1744</td><td style = \"text-align: right;\">30.6</td><td style = \"text-align: right;\">80.03</td></tr><tr><td class = \"rowNumber\" style = \"font-weight: bold; text-align: right;\">1745</td><td style = \"text-align: right;\">29.85</td><td style = \"text-align: right;\">40.0</td></tr><tr><td class = \"rowNumber\" style = \"font-weight: bold; text-align: right;\">1746</td><td style = \"text-align: right;\">40.8</td><td style = \"text-align: right;\">103.74</td></tr><tr><td class = \"rowNumber\" style = \"font-weight: bold; text-align: right;\">1747</td><td style = \"text-align: right;\">49.54</td><td style = \"text-align: right;\">124.83</td></tr><tr><td class = \"rowNumber\" style = \"font-weight: bold; text-align: right;\">1748</td><td style = \"text-align: right;\">26.93</td><td style = \"text-align: right;\">86.12</td></tr><tr><td class = \"rowNumber\" style = \"font-weight: bold; text-align: right;\">1749</td><td style = \"text-align: right;\">18.02</td><td style = \"font-style: italic; text-align: right;\">missing</td></tr><tr><td class = \"rowNumber\" style = \"font-weight: bold; text-align: right;\">1750</td><td style = \"text-align: right;\">46.97</td><td style = \"text-align: right;\">101.54</td></tr><tr><td class = \"rowNumber\" style = \"font-weight: bold; text-align: right;\">1751</td><td style = \"text-align: right;\">39.83</td><td style = \"text-align: right;\">64.24</td></tr><tr><td class = \"rowNumber\" style = \"font-weight: bold; text-align: right;\">1752</td><td style = \"text-align: right;\">32.14</td><td style = \"text-align: right;\">57.24</td></tr></tbody></table></div>"
      ],
      "text/latex": [
       "\\begin{tabular}{r|cc}\n",
       "\t& Weight\\_initial & Weight\\_final\\\\\n",
       "\t\\hline\n",
       "\t& Float64 & Float64?\\\\\n",
       "\t\\hline\n",
       "\t1 & 84.3 & 201.5 \\\\\n",
       "\t2 & 67.8 & \\emph{missing} \\\\\n",
       "\t3 & 103.94 & 225.9 \\\\\n",
       "\t4 & 84.85 & 239.2 \\\\\n",
       "\t5 & 78.29 & 195.6 \\\\\n",
       "\t6 & 89.93 & 220.0 \\\\\n",
       "\t7 & 117.83 & 270.9 \\\\\n",
       "\t8 & 92.48 & 209.4 \\\\\n",
       "\t9 & 95.54 & 178.8 \\\\\n",
       "\t10 & 70.27 & 135.2 \\\\\n",
       "\t11 & 79.96 & 184.0 \\\\\n",
       "\t12 & 101.76 & 173.9 \\\\\n",
       "\t13 & 52.01 & 168.8 \\\\\n",
       "\t14 & 91.93 & 182.7 \\\\\n",
       "\t15 & 83.48 & 183.0 \\\\\n",
       "\t16 & 87.03 & 219.9 \\\\\n",
       "\t17 & 87.54 & 213.1 \\\\\n",
       "\t18 & 69.83 & 204.7 \\\\\n",
       "\t19 & 76.47 & 218.2 \\\\\n",
       "\t20 & 84.97 & 179.3 \\\\\n",
       "\t21 & 69.47 & \\emph{missing} \\\\\n",
       "\t22 & 70.53 & 196.1 \\\\\n",
       "\t23 & 69.51 & 171.1 \\\\\n",
       "\t24 & 58.31 & 134.0 \\\\\n",
       "\t$\\dots$ & $\\dots$ & $\\dots$ \\\\\n",
       "\\end{tabular}\n"
      ],
      "text/plain": [
       "\u001b[1m1752×2 DataFrame\u001b[0m\n",
       "\u001b[1m  Row \u001b[0m│\u001b[1m Weight_initial \u001b[0m\u001b[1m Weight_final \u001b[0m\n",
       "      │\u001b[90m Float64        \u001b[0m\u001b[90m Float64?     \u001b[0m\n",
       "──────┼──────────────────────────────\n",
       "    1 │          84.3         201.5\n",
       "    2 │          67.8  \u001b[90m   missing    \u001b[0m\n",
       "    3 │         103.94        225.9\n",
       "    4 │          84.85        239.2\n",
       "    5 │          78.29        195.6\n",
       "    6 │          89.93        220.0\n",
       "    7 │         117.83        270.9\n",
       "    8 │          92.48        209.4\n",
       "  ⋮   │       ⋮              ⋮\n",
       " 1746 │          40.8         103.74\n",
       " 1747 │          49.54        124.83\n",
       " 1748 │          26.93         86.12\n",
       " 1749 │          18.02 \u001b[90m   missing    \u001b[0m\n",
       " 1750 │          46.97        101.54\n",
       " 1751 │          39.83         64.24\n",
       " 1752 │          32.14         57.24\n",
       "\u001b[36m                    1737 rows omitted\u001b[0m"
      ]
     },
     "metadata": {},
     "output_type": "display_data"
    }
   ],
   "source": [
    "pheno[!,r\"Weight\"]"
   ]
  },
  {
   "cell_type": "markdown",
   "metadata": {},
   "source": [
    "If I would need to do the opposite e.g. select columns that don't contain `Weight`"
   ]
  },
  {
   "cell_type": "code",
   "execution_count": 23,
   "metadata": {},
   "outputs": [
    {
     "data": {
      "text/html": [
       "<div><div style = \"float: left;\"><span>1752×5 DataFrame</span></div><div style = \"float: right;\"><span style = \"font-style: italic;\">1727 rows omitted</span></div><div style = \"clear: both;\"></div></div><div class = \"data-frame\" style = \"overflow-x: scroll;\"><table class = \"data-frame\" style = \"margin-bottom: 6px;\"><thead><tr class = \"header\"><th class = \"rowNumber\" style = \"font-weight: bold; text-align: right;\">Row</th><th style = \"text-align: left;\">Animal_Id</th><th style = \"text-align: left;\">Location</th><th style = \"text-align: left;\">Line</th><th style = \"text-align: left;\">Length_initial</th><th style = \"text-align: left;\">Length_final</th></tr><tr class = \"subheader headerLastRow\"><th class = \"rowNumber\" style = \"font-weight: bold; text-align: right;\"></th><th title = \"Int64\" style = \"text-align: left;\">Int64</th><th title = \"String15\" style = \"text-align: left;\">String15</th><th title = \"String15\" style = \"text-align: left;\">String15</th><th title = \"Float64\" style = \"text-align: left;\">Float64</th><th title = \"Union{Missing, Float64}\" style = \"text-align: left;\">Float64?</th></tr></thead><tbody><tr><td class = \"rowNumber\" style = \"font-weight: bold; text-align: right;\">1</td><td style = \"text-align: right;\">10977965</td><td style = \"text-align: left;\">Kunduchi</td><td style = \"text-align: left;\">Wami</td><td style = \"text-align: right;\">14.2</td><td style = \"text-align: right;\">18.0</td></tr><tr><td class = \"rowNumber\" style = \"font-weight: bold; text-align: right;\">2</td><td style = \"text-align: right;\">10978207</td><td style = \"text-align: left;\">Kunduchi</td><td style = \"text-align: left;\">Wami</td><td style = \"text-align: right;\">13.4</td><td style = \"font-style: italic; text-align: right;\">missing</td></tr><tr><td class = \"rowNumber\" style = \"font-weight: bold; text-align: right;\">3</td><td style = \"text-align: right;\">10978378</td><td style = \"text-align: left;\">Kunduchi</td><td style = \"text-align: left;\">Wami</td><td style = \"text-align: right;\">14.4</td><td style = \"text-align: right;\">18.5</td></tr><tr><td class = \"rowNumber\" style = \"font-weight: bold; text-align: right;\">4</td><td style = \"text-align: right;\">10978460</td><td style = \"text-align: left;\">Kunduchi</td><td style = \"text-align: left;\">Wami</td><td style = \"text-align: right;\">14.5</td><td style = \"text-align: right;\">19.9</td></tr><tr><td class = \"rowNumber\" style = \"font-weight: bold; text-align: right;\">5</td><td style = \"text-align: right;\">10977732</td><td style = \"text-align: left;\">Kunduchi</td><td style = \"text-align: left;\">Wami</td><td style = \"text-align: right;\">14.0</td><td style = \"text-align: right;\">19.0</td></tr><tr><td class = \"rowNumber\" style = \"font-weight: bold; text-align: right;\">6</td><td style = \"text-align: right;\">10978532</td><td style = \"text-align: left;\">Kunduchi</td><td style = \"text-align: left;\">Wami</td><td style = \"text-align: right;\">14.7</td><td style = \"text-align: right;\">19.0</td></tr><tr><td class = \"rowNumber\" style = \"font-weight: bold; text-align: right;\">7</td><td style = \"text-align: right;\">10978612</td><td style = \"text-align: left;\">Kunduchi</td><td style = \"text-align: left;\">Wami</td><td style = \"text-align: right;\">15.0</td><td style = \"text-align: right;\">20.0</td></tr><tr><td class = \"rowNumber\" style = \"font-weight: bold; text-align: right;\">8</td><td style = \"text-align: right;\">10977963</td><td style = \"text-align: left;\">Kunduchi</td><td style = \"text-align: left;\">Wami</td><td style = \"text-align: right;\">14.9</td><td style = \"text-align: right;\">18.3</td></tr><tr><td class = \"rowNumber\" style = \"font-weight: bold; text-align: right;\">9</td><td style = \"text-align: right;\">10977682</td><td style = \"text-align: left;\">Kunduchi</td><td style = \"text-align: left;\">Wami</td><td style = \"text-align: right;\">14.9</td><td style = \"text-align: right;\">17.7</td></tr><tr><td class = \"rowNumber\" style = \"font-weight: bold; text-align: right;\">10</td><td style = \"text-align: right;\">10978295</td><td style = \"text-align: left;\">Kunduchi</td><td style = \"text-align: left;\">Wami</td><td style = \"text-align: right;\">13.3</td><td style = \"text-align: right;\">16.0</td></tr><tr><td class = \"rowNumber\" style = \"font-weight: bold; text-align: right;\">11</td><td style = \"text-align: right;\">10977643</td><td style = \"text-align: left;\">Kunduchi</td><td style = \"text-align: left;\">Wami</td><td style = \"text-align: right;\">14.2</td><td style = \"text-align: right;\">18.2</td></tr><tr><td class = \"rowNumber\" style = \"font-weight: bold; text-align: right;\">12</td><td style = \"text-align: right;\">10978401</td><td style = \"text-align: left;\">Kunduchi</td><td style = \"text-align: left;\">Wami</td><td style = \"text-align: right;\">14.5</td><td style = \"text-align: right;\">17.2</td></tr><tr><td class = \"rowNumber\" style = \"font-weight: bold; text-align: right;\">13</td><td style = \"text-align: right;\">10978321</td><td style = \"text-align: left;\">Kunduchi</td><td style = \"text-align: left;\">Wami</td><td style = \"text-align: right;\">12.5</td><td style = \"text-align: right;\">17.0</td></tr><tr><td style = \"text-align: right;\">&vellip;</td><td style = \"text-align: right;\">&vellip;</td><td style = \"text-align: right;\">&vellip;</td><td style = \"text-align: right;\">&vellip;</td><td style = \"text-align: right;\">&vellip;</td><td style = \"text-align: right;\">&vellip;</td></tr><tr><td class = \"rowNumber\" style = \"font-weight: bold; text-align: right;\">1741</td><td style = \"text-align: right;\">10977823</td><td style = \"text-align: left;\">Pangani</td><td style = \"text-align: left;\">Ruaha</td><td style = \"text-align: right;\">9.8</td><td style = \"text-align: right;\">13.0</td></tr><tr><td class = \"rowNumber\" style = \"font-weight: bold; text-align: right;\">1742</td><td style = \"text-align: right;\">10977748</td><td style = \"text-align: left;\">Pangani</td><td style = \"text-align: left;\">Ruaha</td><td style = \"text-align: right;\">8.9</td><td style = \"font-style: italic; text-align: right;\">missing</td></tr><tr><td class = \"rowNumber\" style = \"font-weight: bold; text-align: right;\">1743</td><td style = \"text-align: right;\">10978899</td><td style = \"text-align: left;\">Pangani</td><td style = \"text-align: left;\">Ruaha</td><td style = \"text-align: right;\">10.8</td><td style = \"font-style: italic; text-align: right;\">missing</td></tr><tr><td class = \"rowNumber\" style = \"font-weight: bold; text-align: right;\">1744</td><td style = \"text-align: right;\">10977635</td><td style = \"text-align: left;\">Pangani</td><td style = \"text-align: left;\">Ruaha</td><td style = \"text-align: right;\">9.8</td><td style = \"text-align: right;\">13.1</td></tr><tr><td class = \"rowNumber\" style = \"font-weight: bold; text-align: right;\">1745</td><td style = \"text-align: right;\">10978151</td><td style = \"text-align: left;\">Pangani</td><td style = \"text-align: left;\">Ruaha</td><td style = \"text-align: right;\">9.7</td><td style = \"text-align: right;\">10.7</td></tr><tr><td class = \"rowNumber\" style = \"font-weight: bold; text-align: right;\">1746</td><td style = \"text-align: right;\">10977918</td><td style = \"text-align: left;\">Pangani</td><td style = \"text-align: left;\">Ruaha</td><td style = \"text-align: right;\">10.8</td><td style = \"text-align: right;\">14.0</td></tr><tr><td class = \"rowNumber\" style = \"font-weight: bold; text-align: right;\">1747</td><td style = \"text-align: right;\">10977945</td><td style = \"text-align: left;\">Pangani</td><td style = \"text-align: left;\">Ruaha</td><td style = \"text-align: right;\">11.4</td><td style = \"text-align: right;\">14.7</td></tr><tr><td class = \"rowNumber\" style = \"font-weight: bold; text-align: right;\">1748</td><td style = \"text-align: right;\">10978369</td><td style = \"text-align: left;\">Pangani</td><td style = \"text-align: left;\">Ruaha</td><td style = \"text-align: right;\">9.4</td><td style = \"text-align: right;\">13.8</td></tr><tr><td class = \"rowNumber\" style = \"font-weight: bold; text-align: right;\">1749</td><td style = \"text-align: right;\">10978013</td><td style = \"text-align: left;\">Pangani</td><td style = \"text-align: left;\">Ruaha</td><td style = \"text-align: right;\">8.6</td><td style = \"font-style: italic; text-align: right;\">missing</td></tr><tr><td class = \"rowNumber\" style = \"font-weight: bold; text-align: right;\">1750</td><td style = \"text-align: right;\">10978579</td><td style = \"text-align: left;\">Pangani</td><td style = \"text-align: left;\">Ruaha</td><td style = \"text-align: right;\">11.0</td><td style = \"text-align: right;\">14.0</td></tr><tr><td class = \"rowNumber\" style = \"font-weight: bold; text-align: right;\">1751</td><td style = \"text-align: right;\">10977708</td><td style = \"text-align: left;\">Pangani</td><td style = \"text-align: left;\">Ruaha</td><td style = \"text-align: right;\">10.7</td><td style = \"text-align: right;\">13.4</td></tr><tr><td class = \"rowNumber\" style = \"font-weight: bold; text-align: right;\">1752</td><td style = \"text-align: right;\">10977975</td><td style = \"text-align: left;\">Pangani</td><td style = \"text-align: left;\">Ruaha</td><td style = \"text-align: right;\">10.0</td><td style = \"text-align: right;\">12.0</td></tr></tbody></table></div>"
      ],
      "text/latex": [
       "\\begin{tabular}{r|ccccc}\n",
       "\t& Animal\\_Id & Location & Line & Length\\_initial & Length\\_final\\\\\n",
       "\t\\hline\n",
       "\t& Int64 & String15 & String15 & Float64 & Float64?\\\\\n",
       "\t\\hline\n",
       "\t1 & 10977965 & Kunduchi & Wami & 14.2 & 18.0 \\\\\n",
       "\t2 & 10978207 & Kunduchi & Wami & 13.4 & \\emph{missing} \\\\\n",
       "\t3 & 10978378 & Kunduchi & Wami & 14.4 & 18.5 \\\\\n",
       "\t4 & 10978460 & Kunduchi & Wami & 14.5 & 19.9 \\\\\n",
       "\t5 & 10977732 & Kunduchi & Wami & 14.0 & 19.0 \\\\\n",
       "\t6 & 10978532 & Kunduchi & Wami & 14.7 & 19.0 \\\\\n",
       "\t7 & 10978612 & Kunduchi & Wami & 15.0 & 20.0 \\\\\n",
       "\t8 & 10977963 & Kunduchi & Wami & 14.9 & 18.3 \\\\\n",
       "\t9 & 10977682 & Kunduchi & Wami & 14.9 & 17.7 \\\\\n",
       "\t10 & 10978295 & Kunduchi & Wami & 13.3 & 16.0 \\\\\n",
       "\t11 & 10977643 & Kunduchi & Wami & 14.2 & 18.2 \\\\\n",
       "\t12 & 10978401 & Kunduchi & Wami & 14.5 & 17.2 \\\\\n",
       "\t13 & 10978321 & Kunduchi & Wami & 12.5 & 17.0 \\\\\n",
       "\t14 & 10978593 & Kunduchi & Wami & 14.3 & 18.0 \\\\\n",
       "\t15 & 10977891 & Kunduchi & Wami & 13.8 & 17.5 \\\\\n",
       "\t16 & 10978510 & Kunduchi & Wami & 14.3 & 18.5 \\\\\n",
       "\t17 & 10978282 & Kunduchi & Wami & 13.4 & 17.0 \\\\\n",
       "\t18 & 10978130 & Kunduchi & Wami & 13.3 & 19.0 \\\\\n",
       "\t19 & 10977956 & Kunduchi & Wami & 13.7 & 18.5 \\\\\n",
       "\t20 & 10978586 & Kunduchi & Wami & 14.0 & 17.1 \\\\\n",
       "\t21 & 10978426 & Kunduchi & Wami & 13.3 & \\emph{missing} \\\\\n",
       "\t22 & 10978463 & Kunduchi & Wami & 13.4 & 18.0 \\\\\n",
       "\t23 & 10977973 & Kunduchi & Wami & 13.3 & 16.7 \\\\\n",
       "\t24 & 10978434 & Kunduchi & Wami & 12.4 & 15.9 \\\\\n",
       "\t$\\dots$ & $\\dots$ & $\\dots$ & $\\dots$ & $\\dots$ & $\\dots$ \\\\\n",
       "\\end{tabular}\n"
      ],
      "text/plain": [
       "\u001b[1m1752×5 DataFrame\u001b[0m\n",
       "\u001b[1m  Row \u001b[0m│\u001b[1m Animal_Id \u001b[0m\u001b[1m Location \u001b[0m\u001b[1m Line     \u001b[0m\u001b[1m Length_initial \u001b[0m\u001b[1m Length_final \u001b[0m\n",
       "      │\u001b[90m Int64     \u001b[0m\u001b[90m String15 \u001b[0m\u001b[90m String15 \u001b[0m\u001b[90m Float64        \u001b[0m\u001b[90m Float64?     \u001b[0m\n",
       "──────┼─────────────────────────────────────────────────────────────\n",
       "    1 │  10977965  Kunduchi  Wami                14.2          18.0\n",
       "    2 │  10978207  Kunduchi  Wami                13.4 \u001b[90m    missing   \u001b[0m\n",
       "    3 │  10978378  Kunduchi  Wami                14.4          18.5\n",
       "    4 │  10978460  Kunduchi  Wami                14.5          19.9\n",
       "    5 │  10977732  Kunduchi  Wami                14.0          19.0\n",
       "    6 │  10978532  Kunduchi  Wami                14.7          19.0\n",
       "    7 │  10978612  Kunduchi  Wami                15.0          20.0\n",
       "    8 │  10977963  Kunduchi  Wami                14.9          18.3\n",
       "  ⋮   │     ⋮         ⋮         ⋮            ⋮              ⋮\n",
       " 1746 │  10977918  Pangani   Ruaha               10.8          14.0\n",
       " 1747 │  10977945  Pangani   Ruaha               11.4          14.7\n",
       " 1748 │  10978369  Pangani   Ruaha                9.4          13.8\n",
       " 1749 │  10978013  Pangani   Ruaha                8.6 \u001b[90m    missing   \u001b[0m\n",
       " 1750 │  10978579  Pangani   Ruaha               11.0          14.0\n",
       " 1751 │  10977708  Pangani   Ruaha               10.7          13.4\n",
       " 1752 │  10977975  Pangani   Ruaha               10.0          12.0\n",
       "\u001b[36m                                                   1737 rows omitted\u001b[0m"
      ]
     },
     "metadata": {},
     "output_type": "display_data"
    }
   ],
   "source": [
    "pheno[!,Not(r\"Weight\")]"
   ]
  },
  {
   "cell_type": "markdown",
   "metadata": {},
   "source": [
    "Below I am selecting all columns between `Line` and `Length_initial`"
   ]
  },
  {
   "cell_type": "code",
   "execution_count": 24,
   "metadata": {},
   "outputs": [
    {
     "data": {
      "text/html": [
       "<div><div style = \"float: left;\"><span>1752×4 DataFrame</span></div><div style = \"float: right;\"><span style = \"font-style: italic;\">1727 rows omitted</span></div><div style = \"clear: both;\"></div></div><div class = \"data-frame\" style = \"overflow-x: scroll;\"><table class = \"data-frame\" style = \"margin-bottom: 6px;\"><thead><tr class = \"header\"><th class = \"rowNumber\" style = \"font-weight: bold; text-align: right;\">Row</th><th style = \"text-align: left;\">Line</th><th style = \"text-align: left;\">Weight_initial</th><th style = \"text-align: left;\">Weight_final</th><th style = \"text-align: left;\">Length_initial</th></tr><tr class = \"subheader headerLastRow\"><th class = \"rowNumber\" style = \"font-weight: bold; text-align: right;\"></th><th title = \"String15\" style = \"text-align: left;\">String15</th><th title = \"Float64\" style = \"text-align: left;\">Float64</th><th title = \"Union{Missing, Float64}\" style = \"text-align: left;\">Float64?</th><th title = \"Float64\" style = \"text-align: left;\">Float64</th></tr></thead><tbody><tr><td class = \"rowNumber\" style = \"font-weight: bold; text-align: right;\">1</td><td style = \"text-align: left;\">Wami</td><td style = \"text-align: right;\">84.3</td><td style = \"text-align: right;\">201.5</td><td style = \"text-align: right;\">14.2</td></tr><tr><td class = \"rowNumber\" style = \"font-weight: bold; text-align: right;\">2</td><td style = \"text-align: left;\">Wami</td><td style = \"text-align: right;\">67.8</td><td style = \"font-style: italic; text-align: right;\">missing</td><td style = \"text-align: right;\">13.4</td></tr><tr><td class = \"rowNumber\" style = \"font-weight: bold; text-align: right;\">3</td><td style = \"text-align: left;\">Wami</td><td style = \"text-align: right;\">103.94</td><td style = \"text-align: right;\">225.9</td><td style = \"text-align: right;\">14.4</td></tr><tr><td class = \"rowNumber\" style = \"font-weight: bold; text-align: right;\">4</td><td style = \"text-align: left;\">Wami</td><td style = \"text-align: right;\">84.85</td><td style = \"text-align: right;\">239.2</td><td style = \"text-align: right;\">14.5</td></tr><tr><td class = \"rowNumber\" style = \"font-weight: bold; text-align: right;\">5</td><td style = \"text-align: left;\">Wami</td><td style = \"text-align: right;\">78.29</td><td style = \"text-align: right;\">195.6</td><td style = \"text-align: right;\">14.0</td></tr><tr><td class = \"rowNumber\" style = \"font-weight: bold; text-align: right;\">6</td><td style = \"text-align: left;\">Wami</td><td style = \"text-align: right;\">89.93</td><td style = \"text-align: right;\">220.0</td><td style = \"text-align: right;\">14.7</td></tr><tr><td class = \"rowNumber\" style = \"font-weight: bold; text-align: right;\">7</td><td style = \"text-align: left;\">Wami</td><td style = \"text-align: right;\">117.83</td><td style = \"text-align: right;\">270.9</td><td style = \"text-align: right;\">15.0</td></tr><tr><td class = \"rowNumber\" style = \"font-weight: bold; text-align: right;\">8</td><td style = \"text-align: left;\">Wami</td><td style = \"text-align: right;\">92.48</td><td style = \"text-align: right;\">209.4</td><td style = \"text-align: right;\">14.9</td></tr><tr><td class = \"rowNumber\" style = \"font-weight: bold; text-align: right;\">9</td><td style = \"text-align: left;\">Wami</td><td style = \"text-align: right;\">95.54</td><td style = \"text-align: right;\">178.8</td><td style = \"text-align: right;\">14.9</td></tr><tr><td class = \"rowNumber\" style = \"font-weight: bold; text-align: right;\">10</td><td style = \"text-align: left;\">Wami</td><td style = \"text-align: right;\">70.27</td><td style = \"text-align: right;\">135.2</td><td style = \"text-align: right;\">13.3</td></tr><tr><td class = \"rowNumber\" style = \"font-weight: bold; text-align: right;\">11</td><td style = \"text-align: left;\">Wami</td><td style = \"text-align: right;\">79.96</td><td style = \"text-align: right;\">184.0</td><td style = \"text-align: right;\">14.2</td></tr><tr><td class = \"rowNumber\" style = \"font-weight: bold; text-align: right;\">12</td><td style = \"text-align: left;\">Wami</td><td style = \"text-align: right;\">101.76</td><td style = \"text-align: right;\">173.9</td><td style = \"text-align: right;\">14.5</td></tr><tr><td class = \"rowNumber\" style = \"font-weight: bold; text-align: right;\">13</td><td style = \"text-align: left;\">Wami</td><td style = \"text-align: right;\">52.01</td><td style = \"text-align: right;\">168.8</td><td style = \"text-align: right;\">12.5</td></tr><tr><td style = \"text-align: right;\">&vellip;</td><td style = \"text-align: right;\">&vellip;</td><td style = \"text-align: right;\">&vellip;</td><td style = \"text-align: right;\">&vellip;</td><td style = \"text-align: right;\">&vellip;</td></tr><tr><td class = \"rowNumber\" style = \"font-weight: bold; text-align: right;\">1741</td><td style = \"text-align: left;\">Ruaha</td><td style = \"text-align: right;\">30.31</td><td style = \"text-align: right;\">76.45</td><td style = \"text-align: right;\">9.8</td></tr><tr><td class = \"rowNumber\" style = \"font-weight: bold; text-align: right;\">1742</td><td style = \"text-align: left;\">Ruaha</td><td style = \"text-align: right;\">22.35</td><td style = \"font-style: italic; text-align: right;\">missing</td><td style = \"text-align: right;\">8.9</td></tr><tr><td class = \"rowNumber\" style = \"font-weight: bold; text-align: right;\">1743</td><td style = \"text-align: left;\">Ruaha</td><td style = \"text-align: right;\">39.64</td><td style = \"font-style: italic; text-align: right;\">missing</td><td style = \"text-align: right;\">10.8</td></tr><tr><td class = \"rowNumber\" style = \"font-weight: bold; text-align: right;\">1744</td><td style = \"text-align: left;\">Ruaha</td><td style = \"text-align: right;\">30.6</td><td style = \"text-align: right;\">80.03</td><td style = \"text-align: right;\">9.8</td></tr><tr><td class = \"rowNumber\" style = \"font-weight: bold; text-align: right;\">1745</td><td style = \"text-align: left;\">Ruaha</td><td style = \"text-align: right;\">29.85</td><td style = \"text-align: right;\">40.0</td><td style = \"text-align: right;\">9.7</td></tr><tr><td class = \"rowNumber\" style = \"font-weight: bold; text-align: right;\">1746</td><td style = \"text-align: left;\">Ruaha</td><td style = \"text-align: right;\">40.8</td><td style = \"text-align: right;\">103.74</td><td style = \"text-align: right;\">10.8</td></tr><tr><td class = \"rowNumber\" style = \"font-weight: bold; text-align: right;\">1747</td><td style = \"text-align: left;\">Ruaha</td><td style = \"text-align: right;\">49.54</td><td style = \"text-align: right;\">124.83</td><td style = \"text-align: right;\">11.4</td></tr><tr><td class = \"rowNumber\" style = \"font-weight: bold; text-align: right;\">1748</td><td style = \"text-align: left;\">Ruaha</td><td style = \"text-align: right;\">26.93</td><td style = \"text-align: right;\">86.12</td><td style = \"text-align: right;\">9.4</td></tr><tr><td class = \"rowNumber\" style = \"font-weight: bold; text-align: right;\">1749</td><td style = \"text-align: left;\">Ruaha</td><td style = \"text-align: right;\">18.02</td><td style = \"font-style: italic; text-align: right;\">missing</td><td style = \"text-align: right;\">8.6</td></tr><tr><td class = \"rowNumber\" style = \"font-weight: bold; text-align: right;\">1750</td><td style = \"text-align: left;\">Ruaha</td><td style = \"text-align: right;\">46.97</td><td style = \"text-align: right;\">101.54</td><td style = \"text-align: right;\">11.0</td></tr><tr><td class = \"rowNumber\" style = \"font-weight: bold; text-align: right;\">1751</td><td style = \"text-align: left;\">Ruaha</td><td style = \"text-align: right;\">39.83</td><td style = \"text-align: right;\">64.24</td><td style = \"text-align: right;\">10.7</td></tr><tr><td class = \"rowNumber\" style = \"font-weight: bold; text-align: right;\">1752</td><td style = \"text-align: left;\">Ruaha</td><td style = \"text-align: right;\">32.14</td><td style = \"text-align: right;\">57.24</td><td style = \"text-align: right;\">10.0</td></tr></tbody></table></div>"
      ],
      "text/latex": [
       "\\begin{tabular}{r|cccc}\n",
       "\t& Line & Weight\\_initial & Weight\\_final & Length\\_initial\\\\\n",
       "\t\\hline\n",
       "\t& String15 & Float64 & Float64? & Float64\\\\\n",
       "\t\\hline\n",
       "\t1 & Wami & 84.3 & 201.5 & 14.2 \\\\\n",
       "\t2 & Wami & 67.8 & \\emph{missing} & 13.4 \\\\\n",
       "\t3 & Wami & 103.94 & 225.9 & 14.4 \\\\\n",
       "\t4 & Wami & 84.85 & 239.2 & 14.5 \\\\\n",
       "\t5 & Wami & 78.29 & 195.6 & 14.0 \\\\\n",
       "\t6 & Wami & 89.93 & 220.0 & 14.7 \\\\\n",
       "\t7 & Wami & 117.83 & 270.9 & 15.0 \\\\\n",
       "\t8 & Wami & 92.48 & 209.4 & 14.9 \\\\\n",
       "\t9 & Wami & 95.54 & 178.8 & 14.9 \\\\\n",
       "\t10 & Wami & 70.27 & 135.2 & 13.3 \\\\\n",
       "\t11 & Wami & 79.96 & 184.0 & 14.2 \\\\\n",
       "\t12 & Wami & 101.76 & 173.9 & 14.5 \\\\\n",
       "\t13 & Wami & 52.01 & 168.8 & 12.5 \\\\\n",
       "\t14 & Wami & 91.93 & 182.7 & 14.3 \\\\\n",
       "\t15 & Wami & 83.48 & 183.0 & 13.8 \\\\\n",
       "\t16 & Wami & 87.03 & 219.9 & 14.3 \\\\\n",
       "\t17 & Wami & 87.54 & 213.1 & 13.4 \\\\\n",
       "\t18 & Wami & 69.83 & 204.7 & 13.3 \\\\\n",
       "\t19 & Wami & 76.47 & 218.2 & 13.7 \\\\\n",
       "\t20 & Wami & 84.97 & 179.3 & 14.0 \\\\\n",
       "\t21 & Wami & 69.47 & \\emph{missing} & 13.3 \\\\\n",
       "\t22 & Wami & 70.53 & 196.1 & 13.4 \\\\\n",
       "\t23 & Wami & 69.51 & 171.1 & 13.3 \\\\\n",
       "\t24 & Wami & 58.31 & 134.0 & 12.4 \\\\\n",
       "\t$\\dots$ & $\\dots$ & $\\dots$ & $\\dots$ & $\\dots$ \\\\\n",
       "\\end{tabular}\n"
      ],
      "text/plain": [
       "\u001b[1m1752×4 DataFrame\u001b[0m\n",
       "\u001b[1m  Row \u001b[0m│\u001b[1m Line     \u001b[0m\u001b[1m Weight_initial \u001b[0m\u001b[1m Weight_final \u001b[0m\u001b[1m Length_initial \u001b[0m\n",
       "      │\u001b[90m String15 \u001b[0m\u001b[90m Float64        \u001b[0m\u001b[90m Float64?     \u001b[0m\u001b[90m Float64        \u001b[0m\n",
       "──────┼────────────────────────────────────────────────────────\n",
       "    1 │ Wami               84.3         201.5             14.2\n",
       "    2 │ Wami               67.8  \u001b[90m   missing    \u001b[0m           13.4\n",
       "    3 │ Wami              103.94        225.9             14.4\n",
       "    4 │ Wami               84.85        239.2             14.5\n",
       "    5 │ Wami               78.29        195.6             14.0\n",
       "    6 │ Wami               89.93        220.0             14.7\n",
       "    7 │ Wami              117.83        270.9             15.0\n",
       "    8 │ Wami               92.48        209.4             14.9\n",
       "  ⋮   │    ⋮            ⋮              ⋮              ⋮\n",
       " 1746 │ Ruaha              40.8         103.74            10.8\n",
       " 1747 │ Ruaha              49.54        124.83            11.4\n",
       " 1748 │ Ruaha              26.93         86.12             9.4\n",
       " 1749 │ Ruaha              18.02 \u001b[90m   missing    \u001b[0m            8.6\n",
       " 1750 │ Ruaha              46.97        101.54            11.0\n",
       " 1751 │ Ruaha              39.83         64.24            10.7\n",
       " 1752 │ Ruaha              32.14         57.24            10.0\n",
       "\u001b[36m                                              1737 rows omitted\u001b[0m"
      ]
     },
     "metadata": {},
     "output_type": "display_data"
    }
   ],
   "source": [
    "pheno[!,Between(\"Line\",\"Length_initial\")]"
   ]
  },
  {
   "cell_type": "markdown",
   "metadata": {},
   "source": [
    "In the following select columns that start with `Length`"
   ]
  },
  {
   "cell_type": "code",
   "execution_count": 25,
   "metadata": {},
   "outputs": [
    {
     "data": {
      "text/html": [
       "<div><div style = \"float: left;\"><span>1752×2 DataFrame</span></div><div style = \"float: right;\"><span style = \"font-style: italic;\">1727 rows omitted</span></div><div style = \"clear: both;\"></div></div><div class = \"data-frame\" style = \"overflow-x: scroll;\"><table class = \"data-frame\" style = \"margin-bottom: 6px;\"><thead><tr class = \"header\"><th class = \"rowNumber\" style = \"font-weight: bold; text-align: right;\">Row</th><th style = \"text-align: left;\">Length_initial</th><th style = \"text-align: left;\">Length_final</th></tr><tr class = \"subheader headerLastRow\"><th class = \"rowNumber\" style = \"font-weight: bold; text-align: right;\"></th><th title = \"Float64\" style = \"text-align: left;\">Float64</th><th title = \"Union{Missing, Float64}\" style = \"text-align: left;\">Float64?</th></tr></thead><tbody><tr><td class = \"rowNumber\" style = \"font-weight: bold; text-align: right;\">1</td><td style = \"text-align: right;\">14.2</td><td style = \"text-align: right;\">18.0</td></tr><tr><td class = \"rowNumber\" style = \"font-weight: bold; text-align: right;\">2</td><td style = \"text-align: right;\">13.4</td><td style = \"font-style: italic; text-align: right;\">missing</td></tr><tr><td class = \"rowNumber\" style = \"font-weight: bold; text-align: right;\">3</td><td style = \"text-align: right;\">14.4</td><td style = \"text-align: right;\">18.5</td></tr><tr><td class = \"rowNumber\" style = \"font-weight: bold; text-align: right;\">4</td><td style = \"text-align: right;\">14.5</td><td style = \"text-align: right;\">19.9</td></tr><tr><td class = \"rowNumber\" style = \"font-weight: bold; text-align: right;\">5</td><td style = \"text-align: right;\">14.0</td><td style = \"text-align: right;\">19.0</td></tr><tr><td class = \"rowNumber\" style = \"font-weight: bold; text-align: right;\">6</td><td style = \"text-align: right;\">14.7</td><td style = \"text-align: right;\">19.0</td></tr><tr><td class = \"rowNumber\" style = \"font-weight: bold; text-align: right;\">7</td><td style = \"text-align: right;\">15.0</td><td style = \"text-align: right;\">20.0</td></tr><tr><td class = \"rowNumber\" style = \"font-weight: bold; text-align: right;\">8</td><td style = \"text-align: right;\">14.9</td><td style = \"text-align: right;\">18.3</td></tr><tr><td class = \"rowNumber\" style = \"font-weight: bold; text-align: right;\">9</td><td style = \"text-align: right;\">14.9</td><td style = \"text-align: right;\">17.7</td></tr><tr><td class = \"rowNumber\" style = \"font-weight: bold; text-align: right;\">10</td><td style = \"text-align: right;\">13.3</td><td style = \"text-align: right;\">16.0</td></tr><tr><td class = \"rowNumber\" style = \"font-weight: bold; text-align: right;\">11</td><td style = \"text-align: right;\">14.2</td><td style = \"text-align: right;\">18.2</td></tr><tr><td class = \"rowNumber\" style = \"font-weight: bold; text-align: right;\">12</td><td style = \"text-align: right;\">14.5</td><td style = \"text-align: right;\">17.2</td></tr><tr><td class = \"rowNumber\" style = \"font-weight: bold; text-align: right;\">13</td><td style = \"text-align: right;\">12.5</td><td style = \"text-align: right;\">17.0</td></tr><tr><td style = \"text-align: right;\">&vellip;</td><td style = \"text-align: right;\">&vellip;</td><td style = \"text-align: right;\">&vellip;</td></tr><tr><td class = \"rowNumber\" style = \"font-weight: bold; text-align: right;\">1741</td><td style = \"text-align: right;\">9.8</td><td style = \"text-align: right;\">13.0</td></tr><tr><td class = \"rowNumber\" style = \"font-weight: bold; text-align: right;\">1742</td><td style = \"text-align: right;\">8.9</td><td style = \"font-style: italic; text-align: right;\">missing</td></tr><tr><td class = \"rowNumber\" style = \"font-weight: bold; text-align: right;\">1743</td><td style = \"text-align: right;\">10.8</td><td style = \"font-style: italic; text-align: right;\">missing</td></tr><tr><td class = \"rowNumber\" style = \"font-weight: bold; text-align: right;\">1744</td><td style = \"text-align: right;\">9.8</td><td style = \"text-align: right;\">13.1</td></tr><tr><td class = \"rowNumber\" style = \"font-weight: bold; text-align: right;\">1745</td><td style = \"text-align: right;\">9.7</td><td style = \"text-align: right;\">10.7</td></tr><tr><td class = \"rowNumber\" style = \"font-weight: bold; text-align: right;\">1746</td><td style = \"text-align: right;\">10.8</td><td style = \"text-align: right;\">14.0</td></tr><tr><td class = \"rowNumber\" style = \"font-weight: bold; text-align: right;\">1747</td><td style = \"text-align: right;\">11.4</td><td style = \"text-align: right;\">14.7</td></tr><tr><td class = \"rowNumber\" style = \"font-weight: bold; text-align: right;\">1748</td><td style = \"text-align: right;\">9.4</td><td style = \"text-align: right;\">13.8</td></tr><tr><td class = \"rowNumber\" style = \"font-weight: bold; text-align: right;\">1749</td><td style = \"text-align: right;\">8.6</td><td style = \"font-style: italic; text-align: right;\">missing</td></tr><tr><td class = \"rowNumber\" style = \"font-weight: bold; text-align: right;\">1750</td><td style = \"text-align: right;\">11.0</td><td style = \"text-align: right;\">14.0</td></tr><tr><td class = \"rowNumber\" style = \"font-weight: bold; text-align: right;\">1751</td><td style = \"text-align: right;\">10.7</td><td style = \"text-align: right;\">13.4</td></tr><tr><td class = \"rowNumber\" style = \"font-weight: bold; text-align: right;\">1752</td><td style = \"text-align: right;\">10.0</td><td style = \"text-align: right;\">12.0</td></tr></tbody></table></div>"
      ],
      "text/latex": [
       "\\begin{tabular}{r|cc}\n",
       "\t& Length\\_initial & Length\\_final\\\\\n",
       "\t\\hline\n",
       "\t& Float64 & Float64?\\\\\n",
       "\t\\hline\n",
       "\t1 & 14.2 & 18.0 \\\\\n",
       "\t2 & 13.4 & \\emph{missing} \\\\\n",
       "\t3 & 14.4 & 18.5 \\\\\n",
       "\t4 & 14.5 & 19.9 \\\\\n",
       "\t5 & 14.0 & 19.0 \\\\\n",
       "\t6 & 14.7 & 19.0 \\\\\n",
       "\t7 & 15.0 & 20.0 \\\\\n",
       "\t8 & 14.9 & 18.3 \\\\\n",
       "\t9 & 14.9 & 17.7 \\\\\n",
       "\t10 & 13.3 & 16.0 \\\\\n",
       "\t11 & 14.2 & 18.2 \\\\\n",
       "\t12 & 14.5 & 17.2 \\\\\n",
       "\t13 & 12.5 & 17.0 \\\\\n",
       "\t14 & 14.3 & 18.0 \\\\\n",
       "\t15 & 13.8 & 17.5 \\\\\n",
       "\t16 & 14.3 & 18.5 \\\\\n",
       "\t17 & 13.4 & 17.0 \\\\\n",
       "\t18 & 13.3 & 19.0 \\\\\n",
       "\t19 & 13.7 & 18.5 \\\\\n",
       "\t20 & 14.0 & 17.1 \\\\\n",
       "\t21 & 13.3 & \\emph{missing} \\\\\n",
       "\t22 & 13.4 & 18.0 \\\\\n",
       "\t23 & 13.3 & 16.7 \\\\\n",
       "\t24 & 12.4 & 15.9 \\\\\n",
       "\t$\\dots$ & $\\dots$ & $\\dots$ \\\\\n",
       "\\end{tabular}\n"
      ],
      "text/plain": [
       "\u001b[1m1752×2 DataFrame\u001b[0m\n",
       "\u001b[1m  Row \u001b[0m│\u001b[1m Length_initial \u001b[0m\u001b[1m Length_final \u001b[0m\n",
       "      │\u001b[90m Float64        \u001b[0m\u001b[90m Float64?     \u001b[0m\n",
       "──────┼──────────────────────────────\n",
       "    1 │           14.2          18.0\n",
       "    2 │           13.4 \u001b[90m    missing   \u001b[0m\n",
       "    3 │           14.4          18.5\n",
       "    4 │           14.5          19.9\n",
       "    5 │           14.0          19.0\n",
       "    6 │           14.7          19.0\n",
       "    7 │           15.0          20.0\n",
       "    8 │           14.9          18.3\n",
       "  ⋮   │       ⋮              ⋮\n",
       " 1746 │           10.8          14.0\n",
       " 1747 │           11.4          14.7\n",
       " 1748 │            9.4          13.8\n",
       " 1749 │            8.6 \u001b[90m    missing   \u001b[0m\n",
       " 1750 │           11.0          14.0\n",
       " 1751 │           10.7          13.4\n",
       " 1752 │           10.0          12.0\n",
       "\u001b[36m                    1737 rows omitted\u001b[0m"
      ]
     },
     "metadata": {},
     "output_type": "display_data"
    }
   ],
   "source": [
    "pheno[!,Cols(startswith(\"Length\"))]"
   ]
  },
  {
   "cell_type": "markdown",
   "metadata": {},
   "source": [
    "In cases where we are dealing with dataframes that have a large number of columns and we want to perform an elaborate selection the following could be of help."
   ]
  },
  {
   "cell_type": "code",
   "execution_count": 29,
   "metadata": {},
   "outputs": [
    {
     "data": {
      "text/plain": [
       "7-element Vector{String}:\n",
       " \"Animal_Id\"\n",
       " \"Location\"\n",
       " \"Line\"\n",
       " \"Weight_initial\"\n",
       " \"Weight_final\"\n",
       " \"Length_initial\"\n",
       " \"Length_final\""
      ]
     },
     "metadata": {},
     "output_type": "display_data"
    }
   ],
   "source": [
    " names(pheno)"
   ]
  },
  {
   "cell_type": "markdown",
   "metadata": {},
   "source": [
    "Using the built-in `names`function we can make complex selections in a kind of two step process."
   ]
  },
  {
   "cell_type": "code",
   "execution_count": 30,
   "metadata": {},
   "outputs": [
    {
     "data": {
      "text/plain": [
       "3-element Vector{String}:\n",
       " \"Weight_initial\"\n",
       " \"Weight_final\"\n",
       " \"Line\""
      ]
     },
     "metadata": {},
     "output_type": "display_data"
    }
   ],
   "source": [
    "cols_needed = names(pheno, Cols(r\"Weight\",startswith(\"Li\")))"
   ]
  },
  {
   "cell_type": "code",
   "execution_count": 31,
   "metadata": {},
   "outputs": [
    {
     "data": {
      "text/html": [
       "<div><div style = \"float: left;\"><span>1752×3 DataFrame</span></div><div style = \"float: right;\"><span style = \"font-style: italic;\">1727 rows omitted</span></div><div style = \"clear: both;\"></div></div><div class = \"data-frame\" style = \"overflow-x: scroll;\"><table class = \"data-frame\" style = \"margin-bottom: 6px;\"><thead><tr class = \"header\"><th class = \"rowNumber\" style = \"font-weight: bold; text-align: right;\">Row</th><th style = \"text-align: left;\">Weight_initial</th><th style = \"text-align: left;\">Weight_final</th><th style = \"text-align: left;\">Line</th></tr><tr class = \"subheader headerLastRow\"><th class = \"rowNumber\" style = \"font-weight: bold; text-align: right;\"></th><th title = \"Float64\" style = \"text-align: left;\">Float64</th><th title = \"Union{Missing, Float64}\" style = \"text-align: left;\">Float64?</th><th title = \"String15\" style = \"text-align: left;\">String15</th></tr></thead><tbody><tr><td class = \"rowNumber\" style = \"font-weight: bold; text-align: right;\">1</td><td style = \"text-align: right;\">84.3</td><td style = \"text-align: right;\">201.5</td><td style = \"text-align: left;\">Wami</td></tr><tr><td class = \"rowNumber\" style = \"font-weight: bold; text-align: right;\">2</td><td style = \"text-align: right;\">67.8</td><td style = \"font-style: italic; text-align: right;\">missing</td><td style = \"text-align: left;\">Wami</td></tr><tr><td class = \"rowNumber\" style = \"font-weight: bold; text-align: right;\">3</td><td style = \"text-align: right;\">103.94</td><td style = \"text-align: right;\">225.9</td><td style = \"text-align: left;\">Wami</td></tr><tr><td class = \"rowNumber\" style = \"font-weight: bold; text-align: right;\">4</td><td style = \"text-align: right;\">84.85</td><td style = \"text-align: right;\">239.2</td><td style = \"text-align: left;\">Wami</td></tr><tr><td class = \"rowNumber\" style = \"font-weight: bold; text-align: right;\">5</td><td style = \"text-align: right;\">78.29</td><td style = \"text-align: right;\">195.6</td><td style = \"text-align: left;\">Wami</td></tr><tr><td class = \"rowNumber\" style = \"font-weight: bold; text-align: right;\">6</td><td style = \"text-align: right;\">89.93</td><td style = \"text-align: right;\">220.0</td><td style = \"text-align: left;\">Wami</td></tr><tr><td class = \"rowNumber\" style = \"font-weight: bold; text-align: right;\">7</td><td style = \"text-align: right;\">117.83</td><td style = \"text-align: right;\">270.9</td><td style = \"text-align: left;\">Wami</td></tr><tr><td class = \"rowNumber\" style = \"font-weight: bold; text-align: right;\">8</td><td style = \"text-align: right;\">92.48</td><td style = \"text-align: right;\">209.4</td><td style = \"text-align: left;\">Wami</td></tr><tr><td class = \"rowNumber\" style = \"font-weight: bold; text-align: right;\">9</td><td style = \"text-align: right;\">95.54</td><td style = \"text-align: right;\">178.8</td><td style = \"text-align: left;\">Wami</td></tr><tr><td class = \"rowNumber\" style = \"font-weight: bold; text-align: right;\">10</td><td style = \"text-align: right;\">70.27</td><td style = \"text-align: right;\">135.2</td><td style = \"text-align: left;\">Wami</td></tr><tr><td class = \"rowNumber\" style = \"font-weight: bold; text-align: right;\">11</td><td style = \"text-align: right;\">79.96</td><td style = \"text-align: right;\">184.0</td><td style = \"text-align: left;\">Wami</td></tr><tr><td class = \"rowNumber\" style = \"font-weight: bold; text-align: right;\">12</td><td style = \"text-align: right;\">101.76</td><td style = \"text-align: right;\">173.9</td><td style = \"text-align: left;\">Wami</td></tr><tr><td class = \"rowNumber\" style = \"font-weight: bold; text-align: right;\">13</td><td style = \"text-align: right;\">52.01</td><td style = \"text-align: right;\">168.8</td><td style = \"text-align: left;\">Wami</td></tr><tr><td style = \"text-align: right;\">&vellip;</td><td style = \"text-align: right;\">&vellip;</td><td style = \"text-align: right;\">&vellip;</td><td style = \"text-align: right;\">&vellip;</td></tr><tr><td class = \"rowNumber\" style = \"font-weight: bold; text-align: right;\">1741</td><td style = \"text-align: right;\">30.31</td><td style = \"text-align: right;\">76.45</td><td style = \"text-align: left;\">Ruaha</td></tr><tr><td class = \"rowNumber\" style = \"font-weight: bold; text-align: right;\">1742</td><td style = \"text-align: right;\">22.35</td><td style = \"font-style: italic; text-align: right;\">missing</td><td style = \"text-align: left;\">Ruaha</td></tr><tr><td class = \"rowNumber\" style = \"font-weight: bold; text-align: right;\">1743</td><td style = \"text-align: right;\">39.64</td><td style = \"font-style: italic; text-align: right;\">missing</td><td style = \"text-align: left;\">Ruaha</td></tr><tr><td class = \"rowNumber\" style = \"font-weight: bold; text-align: right;\">1744</td><td style = \"text-align: right;\">30.6</td><td style = \"text-align: right;\">80.03</td><td style = \"text-align: left;\">Ruaha</td></tr><tr><td class = \"rowNumber\" style = \"font-weight: bold; text-align: right;\">1745</td><td style = \"text-align: right;\">29.85</td><td style = \"text-align: right;\">40.0</td><td style = \"text-align: left;\">Ruaha</td></tr><tr><td class = \"rowNumber\" style = \"font-weight: bold; text-align: right;\">1746</td><td style = \"text-align: right;\">40.8</td><td style = \"text-align: right;\">103.74</td><td style = \"text-align: left;\">Ruaha</td></tr><tr><td class = \"rowNumber\" style = \"font-weight: bold; text-align: right;\">1747</td><td style = \"text-align: right;\">49.54</td><td style = \"text-align: right;\">124.83</td><td style = \"text-align: left;\">Ruaha</td></tr><tr><td class = \"rowNumber\" style = \"font-weight: bold; text-align: right;\">1748</td><td style = \"text-align: right;\">26.93</td><td style = \"text-align: right;\">86.12</td><td style = \"text-align: left;\">Ruaha</td></tr><tr><td class = \"rowNumber\" style = \"font-weight: bold; text-align: right;\">1749</td><td style = \"text-align: right;\">18.02</td><td style = \"font-style: italic; text-align: right;\">missing</td><td style = \"text-align: left;\">Ruaha</td></tr><tr><td class = \"rowNumber\" style = \"font-weight: bold; text-align: right;\">1750</td><td style = \"text-align: right;\">46.97</td><td style = \"text-align: right;\">101.54</td><td style = \"text-align: left;\">Ruaha</td></tr><tr><td class = \"rowNumber\" style = \"font-weight: bold; text-align: right;\">1751</td><td style = \"text-align: right;\">39.83</td><td style = \"text-align: right;\">64.24</td><td style = \"text-align: left;\">Ruaha</td></tr><tr><td class = \"rowNumber\" style = \"font-weight: bold; text-align: right;\">1752</td><td style = \"text-align: right;\">32.14</td><td style = \"text-align: right;\">57.24</td><td style = \"text-align: left;\">Ruaha</td></tr></tbody></table></div>"
      ],
      "text/latex": [
       "\\begin{tabular}{r|ccc}\n",
       "\t& Weight\\_initial & Weight\\_final & Line\\\\\n",
       "\t\\hline\n",
       "\t& Float64 & Float64? & String15\\\\\n",
       "\t\\hline\n",
       "\t1 & 84.3 & 201.5 & Wami \\\\\n",
       "\t2 & 67.8 & \\emph{missing} & Wami \\\\\n",
       "\t3 & 103.94 & 225.9 & Wami \\\\\n",
       "\t4 & 84.85 & 239.2 & Wami \\\\\n",
       "\t5 & 78.29 & 195.6 & Wami \\\\\n",
       "\t6 & 89.93 & 220.0 & Wami \\\\\n",
       "\t7 & 117.83 & 270.9 & Wami \\\\\n",
       "\t8 & 92.48 & 209.4 & Wami \\\\\n",
       "\t9 & 95.54 & 178.8 & Wami \\\\\n",
       "\t10 & 70.27 & 135.2 & Wami \\\\\n",
       "\t11 & 79.96 & 184.0 & Wami \\\\\n",
       "\t12 & 101.76 & 173.9 & Wami \\\\\n",
       "\t13 & 52.01 & 168.8 & Wami \\\\\n",
       "\t14 & 91.93 & 182.7 & Wami \\\\\n",
       "\t15 & 83.48 & 183.0 & Wami \\\\\n",
       "\t16 & 87.03 & 219.9 & Wami \\\\\n",
       "\t17 & 87.54 & 213.1 & Wami \\\\\n",
       "\t18 & 69.83 & 204.7 & Wami \\\\\n",
       "\t19 & 76.47 & 218.2 & Wami \\\\\n",
       "\t20 & 84.97 & 179.3 & Wami \\\\\n",
       "\t21 & 69.47 & \\emph{missing} & Wami \\\\\n",
       "\t22 & 70.53 & 196.1 & Wami \\\\\n",
       "\t23 & 69.51 & 171.1 & Wami \\\\\n",
       "\t24 & 58.31 & 134.0 & Wami \\\\\n",
       "\t$\\dots$ & $\\dots$ & $\\dots$ & $\\dots$ \\\\\n",
       "\\end{tabular}\n"
      ],
      "text/plain": [
       "\u001b[1m1752×3 DataFrame\u001b[0m\n",
       "\u001b[1m  Row \u001b[0m│\u001b[1m Weight_initial \u001b[0m\u001b[1m Weight_final \u001b[0m\u001b[1m Line     \u001b[0m\n",
       "      │\u001b[90m Float64        \u001b[0m\u001b[90m Float64?     \u001b[0m\u001b[90m String15 \u001b[0m\n",
       "──────┼────────────────────────────────────────\n",
       "    1 │          84.3         201.5   Wami\n",
       "    2 │          67.8  \u001b[90m   missing    \u001b[0m Wami\n",
       "    3 │         103.94        225.9   Wami\n",
       "    4 │          84.85        239.2   Wami\n",
       "    5 │          78.29        195.6   Wami\n",
       "    6 │          89.93        220.0   Wami\n",
       "    7 │         117.83        270.9   Wami\n",
       "    8 │          92.48        209.4   Wami\n",
       "  ⋮   │       ⋮              ⋮           ⋮\n",
       " 1746 │          40.8         103.74  Ruaha\n",
       " 1747 │          49.54        124.83  Ruaha\n",
       " 1748 │          26.93         86.12  Ruaha\n",
       " 1749 │          18.02 \u001b[90m   missing    \u001b[0m Ruaha\n",
       " 1750 │          46.97        101.54  Ruaha\n",
       " 1751 │          39.83         64.24  Ruaha\n",
       " 1752 │          32.14         57.24  Ruaha\n",
       "\u001b[36m                              1737 rows omitted\u001b[0m"
      ]
     },
     "metadata": {},
     "output_type": "display_data"
    }
   ],
   "source": [
    "pheno[!,cols_needed]"
   ]
  },
  {
   "cell_type": "markdown",
   "metadata": {},
   "source": [
    "The following possibility could also be handy."
   ]
  },
  {
   "cell_type": "code",
   "execution_count": 32,
   "metadata": {},
   "outputs": [
    {
     "data": {
      "text/plain": [
       "3-element Vector{String}:\n",
       " \"Animal_Id\"\n",
       " \"Weight_initial\"\n",
       " \"Length_initial\""
      ]
     },
     "metadata": {},
     "output_type": "display_data"
    }
   ],
   "source": [
    "names(pheno,Real)"
   ]
  },
  {
   "cell_type": "markdown",
   "metadata": {},
   "source": [
    "In this particular case though the first column is more of an ID show change it's type to string."
   ]
  },
  {
   "cell_type": "code",
   "execution_count": 33,
   "metadata": {},
   "outputs": [
    {
     "data": {
      "text/plain": [
       "1752-element Vector{String}:\n",
       " \"10977965\"\n",
       " \"10978207\"\n",
       " \"10978378\"\n",
       " \"10978460\"\n",
       " \"10977732\"\n",
       " \"10978532\"\n",
       " \"10978612\"\n",
       " \"10977963\"\n",
       " \"10977682\"\n",
       " \"10978295\"\n",
       " ⋮\n",
       " \"10977635\"\n",
       " \"10978151\"\n",
       " \"10977918\"\n",
       " \"10977945\"\n",
       " \"10978369\"\n",
       " \"10978013\"\n",
       " \"10978579\"\n",
       " \"10977708\"\n",
       " \"10977975\""
      ]
     },
     "metadata": {},
     "output_type": "display_data"
    }
   ],
   "source": [
    "pheno.Animal_Id = string.(pheno.Animal_Id)"
   ]
  },
  {
   "cell_type": "code",
   "execution_count": 34,
   "metadata": {},
   "outputs": [
    {
     "data": {
      "text/html": [
       "<div><div style = \"float: left;\"><span>1752×7 DataFrame</span></div><div style = \"float: right;\"><span style = \"font-style: italic;\">1727 rows omitted</span></div><div style = \"clear: both;\"></div></div><div class = \"data-frame\" style = \"overflow-x: scroll;\"><table class = \"data-frame\" style = \"margin-bottom: 6px;\"><thead><tr class = \"header\"><th class = \"rowNumber\" style = \"font-weight: bold; text-align: right;\">Row</th><th style = \"text-align: left;\">Animal_Id</th><th style = \"text-align: left;\">Location</th><th style = \"text-align: left;\">Line</th><th style = \"text-align: left;\">Weight_initial</th><th style = \"text-align: left;\">Weight_final</th><th style = \"text-align: left;\">Length_initial</th><th style = \"text-align: left;\">Length_final</th></tr><tr class = \"subheader headerLastRow\"><th class = \"rowNumber\" style = \"font-weight: bold; text-align: right;\"></th><th title = \"String\" style = \"text-align: left;\">String</th><th title = \"String15\" style = \"text-align: left;\">String15</th><th title = \"String15\" style = \"text-align: left;\">String15</th><th title = \"Float64\" style = \"text-align: left;\">Float64</th><th title = \"Union{Missing, Float64}\" style = \"text-align: left;\">Float64?</th><th title = \"Float64\" style = \"text-align: left;\">Float64</th><th title = \"Union{Missing, Float64}\" style = \"text-align: left;\">Float64?</th></tr></thead><tbody><tr><td class = \"rowNumber\" style = \"font-weight: bold; text-align: right;\">1</td><td style = \"text-align: left;\">10977965</td><td style = \"text-align: left;\">Kunduchi</td><td style = \"text-align: left;\">Wami</td><td style = \"text-align: right;\">84.3</td><td style = \"text-align: right;\">201.5</td><td style = \"text-align: right;\">14.2</td><td style = \"text-align: right;\">18.0</td></tr><tr><td class = \"rowNumber\" style = \"font-weight: bold; text-align: right;\">2</td><td style = \"text-align: left;\">10978207</td><td style = \"text-align: left;\">Kunduchi</td><td style = \"text-align: left;\">Wami</td><td style = \"text-align: right;\">67.8</td><td style = \"font-style: italic; text-align: right;\">missing</td><td style = \"text-align: right;\">13.4</td><td style = \"font-style: italic; text-align: right;\">missing</td></tr><tr><td class = \"rowNumber\" style = \"font-weight: bold; text-align: right;\">3</td><td style = \"text-align: left;\">10978378</td><td style = \"text-align: left;\">Kunduchi</td><td style = \"text-align: left;\">Wami</td><td style = \"text-align: right;\">103.94</td><td style = \"text-align: right;\">225.9</td><td style = \"text-align: right;\">14.4</td><td style = \"text-align: right;\">18.5</td></tr><tr><td class = \"rowNumber\" style = \"font-weight: bold; text-align: right;\">4</td><td style = \"text-align: left;\">10978460</td><td style = \"text-align: left;\">Kunduchi</td><td style = \"text-align: left;\">Wami</td><td style = \"text-align: right;\">84.85</td><td style = \"text-align: right;\">239.2</td><td style = \"text-align: right;\">14.5</td><td style = \"text-align: right;\">19.9</td></tr><tr><td class = \"rowNumber\" style = \"font-weight: bold; text-align: right;\">5</td><td style = \"text-align: left;\">10977732</td><td style = \"text-align: left;\">Kunduchi</td><td style = \"text-align: left;\">Wami</td><td style = \"text-align: right;\">78.29</td><td style = \"text-align: right;\">195.6</td><td style = \"text-align: right;\">14.0</td><td style = \"text-align: right;\">19.0</td></tr><tr><td class = \"rowNumber\" style = \"font-weight: bold; text-align: right;\">6</td><td style = \"text-align: left;\">10978532</td><td style = \"text-align: left;\">Kunduchi</td><td style = \"text-align: left;\">Wami</td><td style = \"text-align: right;\">89.93</td><td style = \"text-align: right;\">220.0</td><td style = \"text-align: right;\">14.7</td><td style = \"text-align: right;\">19.0</td></tr><tr><td class = \"rowNumber\" style = \"font-weight: bold; text-align: right;\">7</td><td style = \"text-align: left;\">10978612</td><td style = \"text-align: left;\">Kunduchi</td><td style = \"text-align: left;\">Wami</td><td style = \"text-align: right;\">117.83</td><td style = \"text-align: right;\">270.9</td><td style = \"text-align: right;\">15.0</td><td style = \"text-align: right;\">20.0</td></tr><tr><td class = \"rowNumber\" style = \"font-weight: bold; text-align: right;\">8</td><td style = \"text-align: left;\">10977963</td><td style = \"text-align: left;\">Kunduchi</td><td style = \"text-align: left;\">Wami</td><td style = \"text-align: right;\">92.48</td><td style = \"text-align: right;\">209.4</td><td style = \"text-align: right;\">14.9</td><td style = \"text-align: right;\">18.3</td></tr><tr><td class = \"rowNumber\" style = \"font-weight: bold; text-align: right;\">9</td><td style = \"text-align: left;\">10977682</td><td style = \"text-align: left;\">Kunduchi</td><td style = \"text-align: left;\">Wami</td><td style = \"text-align: right;\">95.54</td><td style = \"text-align: right;\">178.8</td><td style = \"text-align: right;\">14.9</td><td style = \"text-align: right;\">17.7</td></tr><tr><td class = \"rowNumber\" style = \"font-weight: bold; text-align: right;\">10</td><td style = \"text-align: left;\">10978295</td><td style = \"text-align: left;\">Kunduchi</td><td style = \"text-align: left;\">Wami</td><td style = \"text-align: right;\">70.27</td><td style = \"text-align: right;\">135.2</td><td style = \"text-align: right;\">13.3</td><td style = \"text-align: right;\">16.0</td></tr><tr><td class = \"rowNumber\" style = \"font-weight: bold; text-align: right;\">11</td><td style = \"text-align: left;\">10977643</td><td style = \"text-align: left;\">Kunduchi</td><td style = \"text-align: left;\">Wami</td><td style = \"text-align: right;\">79.96</td><td style = \"text-align: right;\">184.0</td><td style = \"text-align: right;\">14.2</td><td style = \"text-align: right;\">18.2</td></tr><tr><td class = \"rowNumber\" style = \"font-weight: bold; text-align: right;\">12</td><td style = \"text-align: left;\">10978401</td><td style = \"text-align: left;\">Kunduchi</td><td style = \"text-align: left;\">Wami</td><td style = \"text-align: right;\">101.76</td><td style = \"text-align: right;\">173.9</td><td style = \"text-align: right;\">14.5</td><td style = \"text-align: right;\">17.2</td></tr><tr><td class = \"rowNumber\" style = \"font-weight: bold; text-align: right;\">13</td><td style = \"text-align: left;\">10978321</td><td style = \"text-align: left;\">Kunduchi</td><td style = \"text-align: left;\">Wami</td><td style = \"text-align: right;\">52.01</td><td style = \"text-align: right;\">168.8</td><td style = \"text-align: right;\">12.5</td><td style = \"text-align: right;\">17.0</td></tr><tr><td style = \"text-align: right;\">&vellip;</td><td style = \"text-align: right;\">&vellip;</td><td style = \"text-align: right;\">&vellip;</td><td style = \"text-align: right;\">&vellip;</td><td style = \"text-align: right;\">&vellip;</td><td style = \"text-align: right;\">&vellip;</td><td style = \"text-align: right;\">&vellip;</td><td style = \"text-align: right;\">&vellip;</td></tr><tr><td class = \"rowNumber\" style = \"font-weight: bold; text-align: right;\">1741</td><td style = \"text-align: left;\">10977823</td><td style = \"text-align: left;\">Pangani</td><td style = \"text-align: left;\">Ruaha</td><td style = \"text-align: right;\">30.31</td><td style = \"text-align: right;\">76.45</td><td style = \"text-align: right;\">9.8</td><td style = \"text-align: right;\">13.0</td></tr><tr><td class = \"rowNumber\" style = \"font-weight: bold; text-align: right;\">1742</td><td style = \"text-align: left;\">10977748</td><td style = \"text-align: left;\">Pangani</td><td style = \"text-align: left;\">Ruaha</td><td style = \"text-align: right;\">22.35</td><td style = \"font-style: italic; text-align: right;\">missing</td><td style = \"text-align: right;\">8.9</td><td style = \"font-style: italic; text-align: right;\">missing</td></tr><tr><td class = \"rowNumber\" style = \"font-weight: bold; text-align: right;\">1743</td><td style = \"text-align: left;\">10978899</td><td style = \"text-align: left;\">Pangani</td><td style = \"text-align: left;\">Ruaha</td><td style = \"text-align: right;\">39.64</td><td style = \"font-style: italic; text-align: right;\">missing</td><td style = \"text-align: right;\">10.8</td><td style = \"font-style: italic; text-align: right;\">missing</td></tr><tr><td class = \"rowNumber\" style = \"font-weight: bold; text-align: right;\">1744</td><td style = \"text-align: left;\">10977635</td><td style = \"text-align: left;\">Pangani</td><td style = \"text-align: left;\">Ruaha</td><td style = \"text-align: right;\">30.6</td><td style = \"text-align: right;\">80.03</td><td style = \"text-align: right;\">9.8</td><td style = \"text-align: right;\">13.1</td></tr><tr><td class = \"rowNumber\" style = \"font-weight: bold; text-align: right;\">1745</td><td style = \"text-align: left;\">10978151</td><td style = \"text-align: left;\">Pangani</td><td style = \"text-align: left;\">Ruaha</td><td style = \"text-align: right;\">29.85</td><td style = \"text-align: right;\">40.0</td><td style = \"text-align: right;\">9.7</td><td style = \"text-align: right;\">10.7</td></tr><tr><td class = \"rowNumber\" style = \"font-weight: bold; text-align: right;\">1746</td><td style = \"text-align: left;\">10977918</td><td style = \"text-align: left;\">Pangani</td><td style = \"text-align: left;\">Ruaha</td><td style = \"text-align: right;\">40.8</td><td style = \"text-align: right;\">103.74</td><td style = \"text-align: right;\">10.8</td><td style = \"text-align: right;\">14.0</td></tr><tr><td class = \"rowNumber\" style = \"font-weight: bold; text-align: right;\">1747</td><td style = \"text-align: left;\">10977945</td><td style = \"text-align: left;\">Pangani</td><td style = \"text-align: left;\">Ruaha</td><td style = \"text-align: right;\">49.54</td><td style = \"text-align: right;\">124.83</td><td style = \"text-align: right;\">11.4</td><td style = \"text-align: right;\">14.7</td></tr><tr><td class = \"rowNumber\" style = \"font-weight: bold; text-align: right;\">1748</td><td style = \"text-align: left;\">10978369</td><td style = \"text-align: left;\">Pangani</td><td style = \"text-align: left;\">Ruaha</td><td style = \"text-align: right;\">26.93</td><td style = \"text-align: right;\">86.12</td><td style = \"text-align: right;\">9.4</td><td style = \"text-align: right;\">13.8</td></tr><tr><td class = \"rowNumber\" style = \"font-weight: bold; text-align: right;\">1749</td><td style = \"text-align: left;\">10978013</td><td style = \"text-align: left;\">Pangani</td><td style = \"text-align: left;\">Ruaha</td><td style = \"text-align: right;\">18.02</td><td style = \"font-style: italic; text-align: right;\">missing</td><td style = \"text-align: right;\">8.6</td><td style = \"font-style: italic; text-align: right;\">missing</td></tr><tr><td class = \"rowNumber\" style = \"font-weight: bold; text-align: right;\">1750</td><td style = \"text-align: left;\">10978579</td><td style = \"text-align: left;\">Pangani</td><td style = \"text-align: left;\">Ruaha</td><td style = \"text-align: right;\">46.97</td><td style = \"text-align: right;\">101.54</td><td style = \"text-align: right;\">11.0</td><td style = \"text-align: right;\">14.0</td></tr><tr><td class = \"rowNumber\" style = \"font-weight: bold; text-align: right;\">1751</td><td style = \"text-align: left;\">10977708</td><td style = \"text-align: left;\">Pangani</td><td style = \"text-align: left;\">Ruaha</td><td style = \"text-align: right;\">39.83</td><td style = \"text-align: right;\">64.24</td><td style = \"text-align: right;\">10.7</td><td style = \"text-align: right;\">13.4</td></tr><tr><td class = \"rowNumber\" style = \"font-weight: bold; text-align: right;\">1752</td><td style = \"text-align: left;\">10977975</td><td style = \"text-align: left;\">Pangani</td><td style = \"text-align: left;\">Ruaha</td><td style = \"text-align: right;\">32.14</td><td style = \"text-align: right;\">57.24</td><td style = \"text-align: right;\">10.0</td><td style = \"text-align: right;\">12.0</td></tr></tbody></table></div>"
      ],
      "text/latex": [
       "\\begin{tabular}{r|ccccccc}\n",
       "\t& Animal\\_Id & Location & Line & Weight\\_initial & Weight\\_final & Length\\_initial & Length\\_final\\\\\n",
       "\t\\hline\n",
       "\t& String & String15 & String15 & Float64 & Float64? & Float64 & Float64?\\\\\n",
       "\t\\hline\n",
       "\t1 & 10977965 & Kunduchi & Wami & 84.3 & 201.5 & 14.2 & 18.0 \\\\\n",
       "\t2 & 10978207 & Kunduchi & Wami & 67.8 & \\emph{missing} & 13.4 & \\emph{missing} \\\\\n",
       "\t3 & 10978378 & Kunduchi & Wami & 103.94 & 225.9 & 14.4 & 18.5 \\\\\n",
       "\t4 & 10978460 & Kunduchi & Wami & 84.85 & 239.2 & 14.5 & 19.9 \\\\\n",
       "\t5 & 10977732 & Kunduchi & Wami & 78.29 & 195.6 & 14.0 & 19.0 \\\\\n",
       "\t6 & 10978532 & Kunduchi & Wami & 89.93 & 220.0 & 14.7 & 19.0 \\\\\n",
       "\t7 & 10978612 & Kunduchi & Wami & 117.83 & 270.9 & 15.0 & 20.0 \\\\\n",
       "\t8 & 10977963 & Kunduchi & Wami & 92.48 & 209.4 & 14.9 & 18.3 \\\\\n",
       "\t9 & 10977682 & Kunduchi & Wami & 95.54 & 178.8 & 14.9 & 17.7 \\\\\n",
       "\t10 & 10978295 & Kunduchi & Wami & 70.27 & 135.2 & 13.3 & 16.0 \\\\\n",
       "\t11 & 10977643 & Kunduchi & Wami & 79.96 & 184.0 & 14.2 & 18.2 \\\\\n",
       "\t12 & 10978401 & Kunduchi & Wami & 101.76 & 173.9 & 14.5 & 17.2 \\\\\n",
       "\t13 & 10978321 & Kunduchi & Wami & 52.01 & 168.8 & 12.5 & 17.0 \\\\\n",
       "\t14 & 10978593 & Kunduchi & Wami & 91.93 & 182.7 & 14.3 & 18.0 \\\\\n",
       "\t15 & 10977891 & Kunduchi & Wami & 83.48 & 183.0 & 13.8 & 17.5 \\\\\n",
       "\t16 & 10978510 & Kunduchi & Wami & 87.03 & 219.9 & 14.3 & 18.5 \\\\\n",
       "\t17 & 10978282 & Kunduchi & Wami & 87.54 & 213.1 & 13.4 & 17.0 \\\\\n",
       "\t18 & 10978130 & Kunduchi & Wami & 69.83 & 204.7 & 13.3 & 19.0 \\\\\n",
       "\t19 & 10977956 & Kunduchi & Wami & 76.47 & 218.2 & 13.7 & 18.5 \\\\\n",
       "\t20 & 10978586 & Kunduchi & Wami & 84.97 & 179.3 & 14.0 & 17.1 \\\\\n",
       "\t21 & 10978426 & Kunduchi & Wami & 69.47 & \\emph{missing} & 13.3 & \\emph{missing} \\\\\n",
       "\t22 & 10978463 & Kunduchi & Wami & 70.53 & 196.1 & 13.4 & 18.0 \\\\\n",
       "\t23 & 10977973 & Kunduchi & Wami & 69.51 & 171.1 & 13.3 & 16.7 \\\\\n",
       "\t24 & 10978434 & Kunduchi & Wami & 58.31 & 134.0 & 12.4 & 15.9 \\\\\n",
       "\t$\\dots$ & $\\dots$ & $\\dots$ & $\\dots$ & $\\dots$ & $\\dots$ & $\\dots$ & $\\dots$ \\\\\n",
       "\\end{tabular}\n"
      ],
      "text/plain": [
       "\u001b[1m1752×7 DataFrame\u001b[0m\n",
       "\u001b[1m  Row \u001b[0m│\u001b[1m Animal_Id \u001b[0m\u001b[1m Location \u001b[0m\u001b[1m Line     \u001b[0m\u001b[1m Weight_initial \u001b[0m\u001b[1m Weight_final \u001b[0m\u001b[1m Length_in\u001b[0m ⋯\n",
       "      │\u001b[90m String    \u001b[0m\u001b[90m String15 \u001b[0m\u001b[90m String15 \u001b[0m\u001b[90m Float64        \u001b[0m\u001b[90m Float64?     \u001b[0m\u001b[90m Float64  \u001b[0m ⋯\n",
       "──────┼─────────────────────────────────────────────────────────────────────────\n",
       "    1 │ 10977965   Kunduchi  Wami               84.3         201.5             ⋯\n",
       "    2 │ 10978207   Kunduchi  Wami               67.8  \u001b[90m   missing    \u001b[0m\n",
       "    3 │ 10978378   Kunduchi  Wami              103.94        225.9\n",
       "    4 │ 10978460   Kunduchi  Wami               84.85        239.2\n",
       "    5 │ 10977732   Kunduchi  Wami               78.29        195.6             ⋯\n",
       "    6 │ 10978532   Kunduchi  Wami               89.93        220.0\n",
       "    7 │ 10978612   Kunduchi  Wami              117.83        270.9\n",
       "    8 │ 10977963   Kunduchi  Wami               92.48        209.4\n",
       "  ⋮   │     ⋮         ⋮         ⋮            ⋮              ⋮              ⋮   ⋱\n",
       " 1746 │ 10977918   Pangani   Ruaha              40.8         103.74            ⋯\n",
       " 1747 │ 10977945   Pangani   Ruaha              49.54        124.83\n",
       " 1748 │ 10978369   Pangani   Ruaha              26.93         86.12\n",
       " 1749 │ 10978013   Pangani   Ruaha              18.02 \u001b[90m   missing    \u001b[0m\n",
       " 1750 │ 10978579   Pangani   Ruaha              46.97        101.54            ⋯\n",
       " 1751 │ 10977708   Pangani   Ruaha              39.83         64.24\n",
       " 1752 │ 10977975   Pangani   Ruaha              32.14         57.24\n",
       "\u001b[36m                                                 2 columns and 1737 rows omitted\u001b[0m"
      ]
     },
     "metadata": {},
     "output_type": "display_data"
    }
   ],
   "source": [
    "pheno"
   ]
  },
  {
   "cell_type": "markdown",
   "metadata": {},
   "source": [
    "If we are interested in selecting columns with different data types."
   ]
  },
  {
   "cell_type": "code",
   "execution_count": 39,
   "metadata": {},
   "outputs": [
    {
     "data": {
      "text/plain": [
       "5-element Vector{String}:\n",
       " \"Animal_Id\"\n",
       " \"Weight_initial\"\n",
       " \"Weight_final\"\n",
       " \"Length_initial\"\n",
       " \"Length_final\""
      ]
     },
     "metadata": {},
     "output_type": "display_data"
    }
   ],
   "source": [
    "names(pheno, Union{String,Real, Missing})"
   ]
  },
  {
   "cell_type": "markdown",
   "metadata": {},
   "source": [
    "Now let's how we can get insights from our data. "
   ]
  },
  {
   "cell_type": "code",
   "execution_count": 40,
   "metadata": {},
   "outputs": [],
   "source": [
    "using Statistics"
   ]
  },
  {
   "cell_type": "code",
   "execution_count": 41,
   "metadata": {},
   "outputs": [
    {
     "data": {
      "text/plain": [
       "46.03179223744293"
      ]
     },
     "metadata": {},
     "output_type": "display_data"
    }
   ],
   "source": [
    "mean(pheno.Weight_initial)"
   ]
  },
  {
   "cell_type": "markdown",
   "metadata": {},
   "source": [
    "Let's try to do something bit more elaborate. We want to create a new vector that contains standardized weights."
   ]
  },
  {
   "cell_type": "code",
   "execution_count": 42,
   "metadata": {},
   "outputs": [
    {
     "ename": "MethodError",
     "evalue": "MethodError: no method matching -(::Vector{Float64}, ::Float64)\nFor element-wise subtraction, use broadcasting with dot syntax: array .- scalar\nThe function `-` exists, but no method is defined for this combination of argument types.\n\nClosest candidates are:\n  -(!Matched::Missing, ::Number)\n   @ Base missing.jl:123\n  -(!Matched::Complex{Bool}, ::Real)\n   @ Base complex.jl:329\n  -(!Matched::BigFloat, ::Union{Float16, Float32, Float64})\n   @ Base mpfr.jl:565\n  ...\n",
     "output_type": "error",
     "traceback": [
      "MethodError: no method matching -(::Vector{Float64}, ::Float64)\n",
      "For element-wise subtraction, use broadcasting with dot syntax: array .- scalar\n",
      "The function `-` exists, but no method is defined for this combination of argument types.\n",
      "\n",
      "Closest candidates are:\n",
      "  -(!Matched::Missing, ::Number)\n",
      "   @ Base missing.jl:123\n",
      "  -(!Matched::Complex{Bool}, ::Real)\n",
      "   @ Base complex.jl:329\n",
      "  -(!Matched::BigFloat, ::Union{Float16, Float32, Float64})\n",
      "   @ Base mpfr.jl:565\n",
      "  ...\n",
      "\n",
      "\n",
      "Stacktrace:\n",
      " [1] top-level scope\n",
      "   @ ~/Library/CloudStorage/OneDrive-Sverigeslantbruksuniversitet/Teaching/Julia_SLU/Teaching_material/Day3/jl_notebook_cell_df34fa98e69747e1a8f8a730347b8e2f_Y116sZmlsZQ==.jl:1"
     ]
    }
   ],
   "source": [
    "pheno.weight_init_std = (pheno.Weight_initial - \n",
    "    mean(pheno.Weight_initial))/std(pheno.Weight_initial)"
   ]
  },
  {
   "cell_type": "markdown",
   "metadata": {},
   "source": [
    "The above didn't work as expected. Remember the `.` when we want to vectorize."
   ]
  },
  {
   "cell_type": "code",
   "execution_count": 47,
   "metadata": {},
   "outputs": [
    {
     "data": {
      "text/plain": [
       "1752-element Vector{Float64}:\n",
       "  1.735548950937706\n",
       "  0.9872369874364745\n",
       "  2.6262669487052324\n",
       "  1.7604926830544134\n",
       "  1.4629819872624092\n",
       "  1.990882063332369\n",
       "  3.256209565252633\n",
       "  2.1065302758734683\n",
       "  2.245308130922788\n",
       "  1.099257020760598\n",
       "  ⋮\n",
       " -0.6998663484572109\n",
       " -0.7338805286163578\n",
       " -0.2372734982928134\n",
       "  0.15910508116177838\n",
       " -0.8663090700359697\n",
       " -1.2703975303266346\n",
       "  0.04254982381643505\n",
       " -0.2812651712986433\n",
       " -0.6300238985304293"
      ]
     },
     "metadata": {},
     "output_type": "display_data"
    }
   ],
   "source": [
    "pheno.weight_init_std = (pheno.Weight_initial .- \n",
    "    mean(pheno.Weight_initial))/std(pheno.Weight_initial)"
   ]
  },
  {
   "cell_type": "markdown",
   "metadata": {},
   "source": [
    "Let's verify whether it worked."
   ]
  },
  {
   "cell_type": "code",
   "execution_count": 44,
   "metadata": {},
   "outputs": [
    {
     "data": {
      "text/plain": [
       "-3.1228191012287506e-16"
      ]
     },
     "metadata": {},
     "output_type": "display_data"
    }
   ],
   "source": [
    "mean(weight_init_std)"
   ]
  },
  {
   "cell_type": "code",
   "execution_count": 45,
   "metadata": {},
   "outputs": [
    {
     "data": {
      "text/plain": [
       "1.0"
      ]
     },
     "metadata": {},
     "output_type": "display_data"
    }
   ],
   "source": [
    "std(weight_init_std)"
   ]
  },
  {
   "cell_type": "markdown",
   "metadata": {},
   "source": [
    "If we wanted to create a new column with the above result"
   ]
  },
  {
   "cell_type": "code",
   "execution_count": 48,
   "metadata": {},
   "outputs": [
    {
     "data": {
      "text/html": [
       "<div><div style = \"float: left;\"><span>8×7 DataFrame</span></div><div style = \"clear: both;\"></div></div><div class = \"data-frame\" style = \"overflow-x: scroll;\"><table class = \"data-frame\" style = \"margin-bottom: 6px;\"><thead><tr class = \"header\"><th class = \"rowNumber\" style = \"font-weight: bold; text-align: right;\">Row</th><th style = \"text-align: left;\">variable</th><th style = \"text-align: left;\">mean</th><th style = \"text-align: left;\">min</th><th style = \"text-align: left;\">median</th><th style = \"text-align: left;\">max</th><th style = \"text-align: left;\">nmissing</th><th style = \"text-align: left;\">eltype</th></tr><tr class = \"subheader headerLastRow\"><th class = \"rowNumber\" style = \"font-weight: bold; text-align: right;\"></th><th title = \"Symbol\" style = \"text-align: left;\">Symbol</th><th title = \"Union{Nothing, Float64}\" style = \"text-align: left;\">Union…</th><th title = \"Any\" style = \"text-align: left;\">Any</th><th title = \"Union{Nothing, Float64}\" style = \"text-align: left;\">Union…</th><th title = \"Any\" style = \"text-align: left;\">Any</th><th title = \"Int64\" style = \"text-align: left;\">Int64</th><th title = \"Type\" style = \"text-align: left;\">Type</th></tr></thead><tbody><tr><td class = \"rowNumber\" style = \"font-weight: bold; text-align: right;\">1</td><td style = \"text-align: left;\">Animal_Id</td><td style = \"font-style: italic; text-align: left;\"></td><td style = \"text-align: left;\">10973049</td><td style = \"font-style: italic; text-align: left;\"></td><td style = \"text-align: left;\">10988600</td><td style = \"text-align: right;\">0</td><td style = \"text-align: left;\">String</td></tr><tr><td class = \"rowNumber\" style = \"font-weight: bold; text-align: right;\">2</td><td style = \"text-align: left;\">Location</td><td style = \"font-style: italic; text-align: left;\"></td><td style = \"text-align: left;\">Kunduchi</td><td style = \"font-style: italic; text-align: left;\"></td><td style = \"text-align: left;\">Pangani</td><td style = \"text-align: right;\">0</td><td style = \"text-align: left;\">String15</td></tr><tr><td class = \"rowNumber\" style = \"font-weight: bold; text-align: right;\">3</td><td style = \"text-align: left;\">Line</td><td style = \"font-style: italic; text-align: left;\"></td><td style = \"text-align: left;\">Bwawani</td><td style = \"font-style: italic; text-align: left;\"></td><td style = \"text-align: left;\">Wami</td><td style = \"text-align: right;\">0</td><td style = \"text-align: left;\">String15</td></tr><tr><td class = \"rowNumber\" style = \"font-weight: bold; text-align: right;\">4</td><td style = \"text-align: left;\">Weight_initial</td><td style = \"text-align: left;\">46.0318</td><td style = \"text-align: left;\">8.44</td><td style = \"text-align: left;\">41.8</td><td style = \"text-align: left;\">128.85</td><td style = \"text-align: right;\">0</td><td style = \"text-align: left;\">Float64</td></tr><tr><td class = \"rowNumber\" style = \"font-weight: bold; text-align: right;\">5</td><td style = \"text-align: left;\">Weight_final</td><td style = \"text-align: left;\">113.918</td><td style = \"text-align: left;\">18.19</td><td style = \"text-align: left;\">103.5</td><td style = \"text-align: left;\">325.4</td><td style = \"text-align: right;\">359</td><td style = \"text-align: left;\">Union{Missing, Float64}</td></tr><tr><td class = \"rowNumber\" style = \"font-weight: bold; text-align: right;\">6</td><td style = \"text-align: left;\">Length_initial</td><td style = \"text-align: left;\">11.0472</td><td style = \"text-align: left;\">5.0</td><td style = \"text-align: left;\">11.0</td><td style = \"text-align: left;\">16.7</td><td style = \"text-align: right;\">0</td><td style = \"text-align: left;\">Float64</td></tr><tr><td class = \"rowNumber\" style = \"font-weight: bold; text-align: right;\">7</td><td style = \"text-align: left;\">Length_final</td><td style = \"text-align: left;\">14.5936</td><td style = \"text-align: left;\">9.0</td><td style = \"text-align: left;\">14.5</td><td style = \"text-align: left;\">21.5</td><td style = \"text-align: right;\">359</td><td style = \"text-align: left;\">Union{Missing, Float64}</td></tr><tr><td class = \"rowNumber\" style = \"font-weight: bold; text-align: right;\">8</td><td style = \"text-align: left;\">weight_init_std</td><td style = \"text-align: left;\">-3.12282e-16</td><td style = \"text-align: left;\">-1.70487</td><td style = \"text-align: left;\">-0.191921</td><td style = \"text-align: left;\">3.75599</td><td style = \"text-align: right;\">0</td><td style = \"text-align: left;\">Float64</td></tr></tbody></table></div>"
      ],
      "text/latex": [
       "\\begin{tabular}{r|ccccccc}\n",
       "\t& variable & mean & min & median & max & nmissing & eltype\\\\\n",
       "\t\\hline\n",
       "\t& Symbol & Union… & Any & Union… & Any & Int64 & Type\\\\\n",
       "\t\\hline\n",
       "\t1 & Animal\\_Id &  & 10973049 &  & 10988600 & 0 & String \\\\\n",
       "\t2 & Location &  & Kunduchi &  & Pangani & 0 & String15 \\\\\n",
       "\t3 & Line &  & Bwawani &  & Wami & 0 & String15 \\\\\n",
       "\t4 & Weight\\_initial & 46.0318 & 8.44 & 41.8 & 128.85 & 0 & Float64 \\\\\n",
       "\t5 & Weight\\_final & 113.918 & 18.19 & 103.5 & 325.4 & 359 & Union\\{Missing, Float64\\} \\\\\n",
       "\t6 & Length\\_initial & 11.0472 & 5.0 & 11.0 & 16.7 & 0 & Float64 \\\\\n",
       "\t7 & Length\\_final & 14.5936 & 9.0 & 14.5 & 21.5 & 359 & Union\\{Missing, Float64\\} \\\\\n",
       "\t8 & weight\\_init\\_std & -3.12282e-16 & -1.70487 & -0.191921 & 3.75599 & 0 & Float64 \\\\\n",
       "\\end{tabular}\n"
      ],
      "text/plain": [
       "\u001b[1m8×7 DataFrame\u001b[0m\n",
       "\u001b[1m Row \u001b[0m│\u001b[1m variable        \u001b[0m\u001b[1m mean         \u001b[0m\u001b[1m min      \u001b[0m\u001b[1m median    \u001b[0m\u001b[1m max      \u001b[0m\u001b[1m nmissing \u001b[0m\u001b[1m\u001b[0m ⋯\n",
       "     │\u001b[90m Symbol          \u001b[0m\u001b[90m Union…       \u001b[0m\u001b[90m Any      \u001b[0m\u001b[90m Union…    \u001b[0m\u001b[90m Any      \u001b[0m\u001b[90m Int64    \u001b[0m\u001b[90m\u001b[0m ⋯\n",
       "─────┼──────────────────────────────────────────────────────────────────────────\n",
       "   1 │ Animal_Id       \u001b[90m              \u001b[0m 10973049 \u001b[90m           \u001b[0m 10988600         0  ⋯\n",
       "   2 │ Location        \u001b[90m              \u001b[0m Kunduchi \u001b[90m           \u001b[0m Pangani          0\n",
       "   3 │ Line            \u001b[90m              \u001b[0m Bwawani  \u001b[90m           \u001b[0m Wami             0\n",
       "   4 │ Weight_initial   46.0318       8.44      41.8       128.85           0\n",
       "   5 │ Weight_final     113.918       18.19     103.5      325.4          359  ⋯\n",
       "   6 │ Length_initial   11.0472       5.0       11.0       16.7             0\n",
       "   7 │ Length_final     14.5936       9.0       14.5       21.5           359\n",
       "   8 │ weight_init_std  -3.12282e-16  -1.70487  -0.191921  3.75599          0\n",
       "\u001b[36m                                                                1 column omitted\u001b[0m"
      ]
     },
     "metadata": {},
     "output_type": "display_data"
    }
   ],
   "source": [
    "describe(pheno)"
   ]
  },
  {
   "cell_type": "markdown",
   "metadata": {},
   "source": [
    "The `insertcols!`function gives us flexibility in terms of controling the position of the newly added column. Let's see a few examples."
   ]
  },
  {
   "cell_type": "code",
   "execution_count": 49,
   "metadata": {},
   "outputs": [
    {
     "data": {
      "text/html": [
       "<div><div style = \"float: left;\"><span>1752×9 DataFrame</span></div><div style = \"float: right;\"><span style = \"font-style: italic;\">1727 rows omitted</span></div><div style = \"clear: both;\"></div></div><div class = \"data-frame\" style = \"overflow-x: scroll;\"><table class = \"data-frame\" style = \"margin-bottom: 6px;\"><thead><tr class = \"header\"><th class = \"rowNumber\" style = \"font-weight: bold; text-align: right;\">Row</th><th style = \"text-align: left;\">Animal_Id</th><th style = \"text-align: left;\">Location</th><th style = \"text-align: left;\">Line</th><th style = \"text-align: left;\">Weight_initial</th><th style = \"text-align: left;\">Weight_final</th><th style = \"text-align: left;\">Length_initial</th><th style = \"text-align: left;\">Length_final</th><th style = \"text-align: left;\">weight_init_std</th><th style = \"text-align: left;\">country</th></tr><tr class = \"subheader headerLastRow\"><th class = \"rowNumber\" style = \"font-weight: bold; text-align: right;\"></th><th title = \"String\" style = \"text-align: left;\">String</th><th title = \"String15\" style = \"text-align: left;\">String15</th><th title = \"String15\" style = \"text-align: left;\">String15</th><th title = \"Float64\" style = \"text-align: left;\">Float64</th><th title = \"Union{Missing, Float64}\" style = \"text-align: left;\">Float64?</th><th title = \"Float64\" style = \"text-align: left;\">Float64</th><th title = \"Union{Missing, Float64}\" style = \"text-align: left;\">Float64?</th><th title = \"Float64\" style = \"text-align: left;\">Float64</th><th title = \"String\" style = \"text-align: left;\">String</th></tr></thead><tbody><tr><td class = \"rowNumber\" style = \"font-weight: bold; text-align: right;\">1</td><td style = \"text-align: left;\">10977965</td><td style = \"text-align: left;\">Kunduchi</td><td style = \"text-align: left;\">Wami</td><td style = \"text-align: right;\">84.3</td><td style = \"text-align: right;\">201.5</td><td style = \"text-align: right;\">14.2</td><td style = \"text-align: right;\">18.0</td><td style = \"text-align: right;\">1.73555</td><td style = \"text-align: left;\">Africa</td></tr><tr><td class = \"rowNumber\" style = \"font-weight: bold; text-align: right;\">2</td><td style = \"text-align: left;\">10978207</td><td style = \"text-align: left;\">Kunduchi</td><td style = \"text-align: left;\">Wami</td><td style = \"text-align: right;\">67.8</td><td style = \"font-style: italic; text-align: right;\">missing</td><td style = \"text-align: right;\">13.4</td><td style = \"font-style: italic; text-align: right;\">missing</td><td style = \"text-align: right;\">0.987237</td><td style = \"text-align: left;\">Africa</td></tr><tr><td class = \"rowNumber\" style = \"font-weight: bold; text-align: right;\">3</td><td style = \"text-align: left;\">10978378</td><td style = \"text-align: left;\">Kunduchi</td><td style = \"text-align: left;\">Wami</td><td style = \"text-align: right;\">103.94</td><td style = \"text-align: right;\">225.9</td><td style = \"text-align: right;\">14.4</td><td style = \"text-align: right;\">18.5</td><td style = \"text-align: right;\">2.62627</td><td style = \"text-align: left;\">Africa</td></tr><tr><td class = \"rowNumber\" style = \"font-weight: bold; text-align: right;\">4</td><td style = \"text-align: left;\">10978460</td><td style = \"text-align: left;\">Kunduchi</td><td style = \"text-align: left;\">Wami</td><td style = \"text-align: right;\">84.85</td><td style = \"text-align: right;\">239.2</td><td style = \"text-align: right;\">14.5</td><td style = \"text-align: right;\">19.9</td><td style = \"text-align: right;\">1.76049</td><td style = \"text-align: left;\">Africa</td></tr><tr><td class = \"rowNumber\" style = \"font-weight: bold; text-align: right;\">5</td><td style = \"text-align: left;\">10977732</td><td style = \"text-align: left;\">Kunduchi</td><td style = \"text-align: left;\">Wami</td><td style = \"text-align: right;\">78.29</td><td style = \"text-align: right;\">195.6</td><td style = \"text-align: right;\">14.0</td><td style = \"text-align: right;\">19.0</td><td style = \"text-align: right;\">1.46298</td><td style = \"text-align: left;\">Africa</td></tr><tr><td class = \"rowNumber\" style = \"font-weight: bold; text-align: right;\">6</td><td style = \"text-align: left;\">10978532</td><td style = \"text-align: left;\">Kunduchi</td><td style = \"text-align: left;\">Wami</td><td style = \"text-align: right;\">89.93</td><td style = \"text-align: right;\">220.0</td><td style = \"text-align: right;\">14.7</td><td style = \"text-align: right;\">19.0</td><td style = \"text-align: right;\">1.99088</td><td style = \"text-align: left;\">Africa</td></tr><tr><td class = \"rowNumber\" style = \"font-weight: bold; text-align: right;\">7</td><td style = \"text-align: left;\">10978612</td><td style = \"text-align: left;\">Kunduchi</td><td style = \"text-align: left;\">Wami</td><td style = \"text-align: right;\">117.83</td><td style = \"text-align: right;\">270.9</td><td style = \"text-align: right;\">15.0</td><td style = \"text-align: right;\">20.0</td><td style = \"text-align: right;\">3.25621</td><td style = \"text-align: left;\">Africa</td></tr><tr><td class = \"rowNumber\" style = \"font-weight: bold; text-align: right;\">8</td><td style = \"text-align: left;\">10977963</td><td style = \"text-align: left;\">Kunduchi</td><td style = \"text-align: left;\">Wami</td><td style = \"text-align: right;\">92.48</td><td style = \"text-align: right;\">209.4</td><td style = \"text-align: right;\">14.9</td><td style = \"text-align: right;\">18.3</td><td style = \"text-align: right;\">2.10653</td><td style = \"text-align: left;\">Africa</td></tr><tr><td class = \"rowNumber\" style = \"font-weight: bold; text-align: right;\">9</td><td style = \"text-align: left;\">10977682</td><td style = \"text-align: left;\">Kunduchi</td><td style = \"text-align: left;\">Wami</td><td style = \"text-align: right;\">95.54</td><td style = \"text-align: right;\">178.8</td><td style = \"text-align: right;\">14.9</td><td style = \"text-align: right;\">17.7</td><td style = \"text-align: right;\">2.24531</td><td style = \"text-align: left;\">Africa</td></tr><tr><td class = \"rowNumber\" style = \"font-weight: bold; text-align: right;\">10</td><td style = \"text-align: left;\">10978295</td><td style = \"text-align: left;\">Kunduchi</td><td style = \"text-align: left;\">Wami</td><td style = \"text-align: right;\">70.27</td><td style = \"text-align: right;\">135.2</td><td style = \"text-align: right;\">13.3</td><td style = \"text-align: right;\">16.0</td><td style = \"text-align: right;\">1.09926</td><td style = \"text-align: left;\">Africa</td></tr><tr><td class = \"rowNumber\" style = \"font-weight: bold; text-align: right;\">11</td><td style = \"text-align: left;\">10977643</td><td style = \"text-align: left;\">Kunduchi</td><td style = \"text-align: left;\">Wami</td><td style = \"text-align: right;\">79.96</td><td style = \"text-align: right;\">184.0</td><td style = \"text-align: right;\">14.2</td><td style = \"text-align: right;\">18.2</td><td style = \"text-align: right;\">1.53872</td><td style = \"text-align: left;\">Africa</td></tr><tr><td class = \"rowNumber\" style = \"font-weight: bold; text-align: right;\">12</td><td style = \"text-align: left;\">10978401</td><td style = \"text-align: left;\">Kunduchi</td><td style = \"text-align: left;\">Wami</td><td style = \"text-align: right;\">101.76</td><td style = \"text-align: right;\">173.9</td><td style = \"text-align: right;\">14.5</td><td style = \"text-align: right;\">17.2</td><td style = \"text-align: right;\">2.5274</td><td style = \"text-align: left;\">Africa</td></tr><tr><td class = \"rowNumber\" style = \"font-weight: bold; text-align: right;\">13</td><td style = \"text-align: left;\">10978321</td><td style = \"text-align: left;\">Kunduchi</td><td style = \"text-align: left;\">Wami</td><td style = \"text-align: right;\">52.01</td><td style = \"text-align: right;\">168.8</td><td style = \"text-align: right;\">12.5</td><td style = \"text-align: right;\">17.0</td><td style = \"text-align: right;\">0.271125</td><td style = \"text-align: left;\">Africa</td></tr><tr><td style = \"text-align: right;\">&vellip;</td><td style = \"text-align: right;\">&vellip;</td><td style = \"text-align: right;\">&vellip;</td><td style = \"text-align: right;\">&vellip;</td><td style = \"text-align: right;\">&vellip;</td><td style = \"text-align: right;\">&vellip;</td><td style = \"text-align: right;\">&vellip;</td><td style = \"text-align: right;\">&vellip;</td><td style = \"text-align: right;\">&vellip;</td><td style = \"text-align: right;\">&vellip;</td></tr><tr><td class = \"rowNumber\" style = \"font-weight: bold; text-align: right;\">1741</td><td style = \"text-align: left;\">10977823</td><td style = \"text-align: left;\">Pangani</td><td style = \"text-align: left;\">Ruaha</td><td style = \"text-align: right;\">30.31</td><td style = \"text-align: right;\">76.45</td><td style = \"text-align: right;\">9.8</td><td style = \"text-align: right;\">13.0</td><td style = \"text-align: right;\">-0.713018</td><td style = \"text-align: left;\">Africa</td></tr><tr><td class = \"rowNumber\" style = \"font-weight: bold; text-align: right;\">1742</td><td style = \"text-align: left;\">10977748</td><td style = \"text-align: left;\">Pangani</td><td style = \"text-align: left;\">Ruaha</td><td style = \"text-align: right;\">22.35</td><td style = \"font-style: italic; text-align: right;\">missing</td><td style = \"text-align: right;\">8.9</td><td style = \"font-style: italic; text-align: right;\">missing</td><td style = \"text-align: right;\">-1.07402</td><td style = \"text-align: left;\">Africa</td></tr><tr><td class = \"rowNumber\" style = \"font-weight: bold; text-align: right;\">1743</td><td style = \"text-align: left;\">10978899</td><td style = \"text-align: left;\">Pangani</td><td style = \"text-align: left;\">Ruaha</td><td style = \"text-align: right;\">39.64</td><td style = \"font-style: italic; text-align: right;\">missing</td><td style = \"text-align: right;\">10.8</td><td style = \"font-style: italic; text-align: right;\">missing</td><td style = \"text-align: right;\">-0.289882</td><td style = \"text-align: left;\">Africa</td></tr><tr><td class = \"rowNumber\" style = \"font-weight: bold; text-align: right;\">1744</td><td style = \"text-align: left;\">10977635</td><td style = \"text-align: left;\">Pangani</td><td style = \"text-align: left;\">Ruaha</td><td style = \"text-align: right;\">30.6</td><td style = \"text-align: right;\">80.03</td><td style = \"text-align: right;\">9.8</td><td style = \"text-align: right;\">13.1</td><td style = \"text-align: right;\">-0.699866</td><td style = \"text-align: left;\">Africa</td></tr><tr><td class = \"rowNumber\" style = \"font-weight: bold; text-align: right;\">1745</td><td style = \"text-align: left;\">10978151</td><td style = \"text-align: left;\">Pangani</td><td style = \"text-align: left;\">Ruaha</td><td style = \"text-align: right;\">29.85</td><td style = \"text-align: right;\">40.0</td><td style = \"text-align: right;\">9.7</td><td style = \"text-align: right;\">10.7</td><td style = \"text-align: right;\">-0.733881</td><td style = \"text-align: left;\">Africa</td></tr><tr><td class = \"rowNumber\" style = \"font-weight: bold; text-align: right;\">1746</td><td style = \"text-align: left;\">10977918</td><td style = \"text-align: left;\">Pangani</td><td style = \"text-align: left;\">Ruaha</td><td style = \"text-align: right;\">40.8</td><td style = \"text-align: right;\">103.74</td><td style = \"text-align: right;\">10.8</td><td style = \"text-align: right;\">14.0</td><td style = \"text-align: right;\">-0.237273</td><td style = \"text-align: left;\">Africa</td></tr><tr><td class = \"rowNumber\" style = \"font-weight: bold; text-align: right;\">1747</td><td style = \"text-align: left;\">10977945</td><td style = \"text-align: left;\">Pangani</td><td style = \"text-align: left;\">Ruaha</td><td style = \"text-align: right;\">49.54</td><td style = \"text-align: right;\">124.83</td><td style = \"text-align: right;\">11.4</td><td style = \"text-align: right;\">14.7</td><td style = \"text-align: right;\">0.159105</td><td style = \"text-align: left;\">Africa</td></tr><tr><td class = \"rowNumber\" style = \"font-weight: bold; text-align: right;\">1748</td><td style = \"text-align: left;\">10978369</td><td style = \"text-align: left;\">Pangani</td><td style = \"text-align: left;\">Ruaha</td><td style = \"text-align: right;\">26.93</td><td style = \"text-align: right;\">86.12</td><td style = \"text-align: right;\">9.4</td><td style = \"text-align: right;\">13.8</td><td style = \"text-align: right;\">-0.866309</td><td style = \"text-align: left;\">Africa</td></tr><tr><td class = \"rowNumber\" style = \"font-weight: bold; text-align: right;\">1749</td><td style = \"text-align: left;\">10978013</td><td style = \"text-align: left;\">Pangani</td><td style = \"text-align: left;\">Ruaha</td><td style = \"text-align: right;\">18.02</td><td style = \"font-style: italic; text-align: right;\">missing</td><td style = \"text-align: right;\">8.6</td><td style = \"font-style: italic; text-align: right;\">missing</td><td style = \"text-align: right;\">-1.2704</td><td style = \"text-align: left;\">Africa</td></tr><tr><td class = \"rowNumber\" style = \"font-weight: bold; text-align: right;\">1750</td><td style = \"text-align: left;\">10978579</td><td style = \"text-align: left;\">Pangani</td><td style = \"text-align: left;\">Ruaha</td><td style = \"text-align: right;\">46.97</td><td style = \"text-align: right;\">101.54</td><td style = \"text-align: right;\">11.0</td><td style = \"text-align: right;\">14.0</td><td style = \"text-align: right;\">0.0425498</td><td style = \"text-align: left;\">Africa</td></tr><tr><td class = \"rowNumber\" style = \"font-weight: bold; text-align: right;\">1751</td><td style = \"text-align: left;\">10977708</td><td style = \"text-align: left;\">Pangani</td><td style = \"text-align: left;\">Ruaha</td><td style = \"text-align: right;\">39.83</td><td style = \"text-align: right;\">64.24</td><td style = \"text-align: right;\">10.7</td><td style = \"text-align: right;\">13.4</td><td style = \"text-align: right;\">-0.281265</td><td style = \"text-align: left;\">Africa</td></tr><tr><td class = \"rowNumber\" style = \"font-weight: bold; text-align: right;\">1752</td><td style = \"text-align: left;\">10977975</td><td style = \"text-align: left;\">Pangani</td><td style = \"text-align: left;\">Ruaha</td><td style = \"text-align: right;\">32.14</td><td style = \"text-align: right;\">57.24</td><td style = \"text-align: right;\">10.0</td><td style = \"text-align: right;\">12.0</td><td style = \"text-align: right;\">-0.630024</td><td style = \"text-align: left;\">Africa</td></tr></tbody></table></div>"
      ],
      "text/latex": [
       "\\begin{tabular}{r|cccccccc}\n",
       "\t& Animal\\_Id & Location & Line & Weight\\_initial & Weight\\_final & Length\\_initial & Length\\_final & \\\\\n",
       "\t\\hline\n",
       "\t& String & String15 & String15 & Float64 & Float64? & Float64 & Float64? & \\\\\n",
       "\t\\hline\n",
       "\t1 & 10977965 & Kunduchi & Wami & 84.3 & 201.5 & 14.2 & 18.0 & $\\dots$ \\\\\n",
       "\t2 & 10978207 & Kunduchi & Wami & 67.8 & \\emph{missing} & 13.4 & \\emph{missing} & $\\dots$ \\\\\n",
       "\t3 & 10978378 & Kunduchi & Wami & 103.94 & 225.9 & 14.4 & 18.5 & $\\dots$ \\\\\n",
       "\t4 & 10978460 & Kunduchi & Wami & 84.85 & 239.2 & 14.5 & 19.9 & $\\dots$ \\\\\n",
       "\t5 & 10977732 & Kunduchi & Wami & 78.29 & 195.6 & 14.0 & 19.0 & $\\dots$ \\\\\n",
       "\t6 & 10978532 & Kunduchi & Wami & 89.93 & 220.0 & 14.7 & 19.0 & $\\dots$ \\\\\n",
       "\t7 & 10978612 & Kunduchi & Wami & 117.83 & 270.9 & 15.0 & 20.0 & $\\dots$ \\\\\n",
       "\t8 & 10977963 & Kunduchi & Wami & 92.48 & 209.4 & 14.9 & 18.3 & $\\dots$ \\\\\n",
       "\t9 & 10977682 & Kunduchi & Wami & 95.54 & 178.8 & 14.9 & 17.7 & $\\dots$ \\\\\n",
       "\t10 & 10978295 & Kunduchi & Wami & 70.27 & 135.2 & 13.3 & 16.0 & $\\dots$ \\\\\n",
       "\t11 & 10977643 & Kunduchi & Wami & 79.96 & 184.0 & 14.2 & 18.2 & $\\dots$ \\\\\n",
       "\t12 & 10978401 & Kunduchi & Wami & 101.76 & 173.9 & 14.5 & 17.2 & $\\dots$ \\\\\n",
       "\t13 & 10978321 & Kunduchi & Wami & 52.01 & 168.8 & 12.5 & 17.0 & $\\dots$ \\\\\n",
       "\t14 & 10978593 & Kunduchi & Wami & 91.93 & 182.7 & 14.3 & 18.0 & $\\dots$ \\\\\n",
       "\t15 & 10977891 & Kunduchi & Wami & 83.48 & 183.0 & 13.8 & 17.5 & $\\dots$ \\\\\n",
       "\t16 & 10978510 & Kunduchi & Wami & 87.03 & 219.9 & 14.3 & 18.5 & $\\dots$ \\\\\n",
       "\t17 & 10978282 & Kunduchi & Wami & 87.54 & 213.1 & 13.4 & 17.0 & $\\dots$ \\\\\n",
       "\t18 & 10978130 & Kunduchi & Wami & 69.83 & 204.7 & 13.3 & 19.0 & $\\dots$ \\\\\n",
       "\t19 & 10977956 & Kunduchi & Wami & 76.47 & 218.2 & 13.7 & 18.5 & $\\dots$ \\\\\n",
       "\t20 & 10978586 & Kunduchi & Wami & 84.97 & 179.3 & 14.0 & 17.1 & $\\dots$ \\\\\n",
       "\t21 & 10978426 & Kunduchi & Wami & 69.47 & \\emph{missing} & 13.3 & \\emph{missing} & $\\dots$ \\\\\n",
       "\t22 & 10978463 & Kunduchi & Wami & 70.53 & 196.1 & 13.4 & 18.0 & $\\dots$ \\\\\n",
       "\t23 & 10977973 & Kunduchi & Wami & 69.51 & 171.1 & 13.3 & 16.7 & $\\dots$ \\\\\n",
       "\t24 & 10978434 & Kunduchi & Wami & 58.31 & 134.0 & 12.4 & 15.9 & $\\dots$ \\\\\n",
       "\t$\\dots$ & $\\dots$ & $\\dots$ & $\\dots$ & $\\dots$ & $\\dots$ & $\\dots$ & $\\dots$ &  \\\\\n",
       "\\end{tabular}\n"
      ],
      "text/plain": [
       "\u001b[1m1752×9 DataFrame\u001b[0m\n",
       "\u001b[1m  Row \u001b[0m│\u001b[1m Animal_Id \u001b[0m\u001b[1m Location \u001b[0m\u001b[1m Line     \u001b[0m\u001b[1m Weight_initial \u001b[0m\u001b[1m Weight_final \u001b[0m\u001b[1m Length_in\u001b[0m ⋯\n",
       "      │\u001b[90m String    \u001b[0m\u001b[90m String15 \u001b[0m\u001b[90m String15 \u001b[0m\u001b[90m Float64        \u001b[0m\u001b[90m Float64?     \u001b[0m\u001b[90m Float64  \u001b[0m ⋯\n",
       "──────┼─────────────────────────────────────────────────────────────────────────\n",
       "    1 │ 10977965   Kunduchi  Wami               84.3         201.5             ⋯\n",
       "    2 │ 10978207   Kunduchi  Wami               67.8  \u001b[90m   missing    \u001b[0m\n",
       "    3 │ 10978378   Kunduchi  Wami              103.94        225.9\n",
       "    4 │ 10978460   Kunduchi  Wami               84.85        239.2\n",
       "    5 │ 10977732   Kunduchi  Wami               78.29        195.6             ⋯\n",
       "    6 │ 10978532   Kunduchi  Wami               89.93        220.0\n",
       "    7 │ 10978612   Kunduchi  Wami              117.83        270.9\n",
       "    8 │ 10977963   Kunduchi  Wami               92.48        209.4\n",
       "  ⋮   │     ⋮         ⋮         ⋮            ⋮              ⋮              ⋮   ⋱\n",
       " 1746 │ 10977918   Pangani   Ruaha              40.8         103.74            ⋯\n",
       " 1747 │ 10977945   Pangani   Ruaha              49.54        124.83\n",
       " 1748 │ 10978369   Pangani   Ruaha              26.93         86.12\n",
       " 1749 │ 10978013   Pangani   Ruaha              18.02 \u001b[90m   missing    \u001b[0m\n",
       " 1750 │ 10978579   Pangani   Ruaha              46.97        101.54            ⋯\n",
       " 1751 │ 10977708   Pangani   Ruaha              39.83         64.24\n",
       " 1752 │ 10977975   Pangani   Ruaha              32.14         57.24\n",
       "\u001b[36m                                                 4 columns and 1737 rows omitted\u001b[0m"
      ]
     },
     "metadata": {},
     "output_type": "display_data"
    }
   ],
   "source": [
    "insertcols!(pheno, :country => \"Africa\")"
   ]
  },
  {
   "cell_type": "markdown",
   "metadata": {},
   "source": [
    "In the following a specify also the position of the new column."
   ]
  },
  {
   "cell_type": "code",
   "execution_count": 50,
   "metadata": {},
   "outputs": [
    {
     "data": {
      "text/html": [
       "<div><div style = \"float: left;\"><span>1752×10 DataFrame</span></div><div style = \"float: right;\"><span style = \"font-style: italic;\">1727 rows omitted</span></div><div style = \"clear: both;\"></div></div><div class = \"data-frame\" style = \"overflow-x: scroll;\"><table class = \"data-frame\" style = \"margin-bottom: 6px;\"><thead><tr class = \"header\"><th class = \"rowNumber\" style = \"font-weight: bold; text-align: right;\">Row</th><th style = \"text-align: left;\">Animal_Id</th><th style = \"text-align: left;\">Location</th><th style = \"text-align: left;\">Fittness</th><th style = \"text-align: left;\">Line</th><th style = \"text-align: left;\">Weight_initial</th><th style = \"text-align: left;\">Weight_final</th><th style = \"text-align: left;\">Length_initial</th><th style = \"text-align: left;\">Length_final</th><th style = \"text-align: left;\">weight_init_std</th><th style = \"text-align: left;\">country</th></tr><tr class = \"subheader headerLastRow\"><th class = \"rowNumber\" style = \"font-weight: bold; text-align: right;\"></th><th title = \"String\" style = \"text-align: left;\">String</th><th title = \"String15\" style = \"text-align: left;\">String15</th><th title = \"String\" style = \"text-align: left;\">String</th><th title = \"String15\" style = \"text-align: left;\">String15</th><th title = \"Float64\" style = \"text-align: left;\">Float64</th><th title = \"Union{Missing, Float64}\" style = \"text-align: left;\">Float64?</th><th title = \"Float64\" style = \"text-align: left;\">Float64</th><th title = \"Union{Missing, Float64}\" style = \"text-align: left;\">Float64?</th><th title = \"Float64\" style = \"text-align: left;\">Float64</th><th title = \"String\" style = \"text-align: left;\">String</th></tr></thead><tbody><tr><td class = \"rowNumber\" style = \"font-weight: bold; text-align: right;\">1</td><td style = \"text-align: left;\">10977965</td><td style = \"text-align: left;\">Kunduchi</td><td style = \"text-align: left;\">Adequate</td><td style = \"text-align: left;\">Wami</td><td style = \"text-align: right;\">84.3</td><td style = \"text-align: right;\">201.5</td><td style = \"text-align: right;\">14.2</td><td style = \"text-align: right;\">18.0</td><td style = \"text-align: right;\">1.73555</td><td style = \"text-align: left;\">Africa</td></tr><tr><td class = \"rowNumber\" style = \"font-weight: bold; text-align: right;\">2</td><td style = \"text-align: left;\">10978207</td><td style = \"text-align: left;\">Kunduchi</td><td style = \"text-align: left;\">Adequate</td><td style = \"text-align: left;\">Wami</td><td style = \"text-align: right;\">67.8</td><td style = \"font-style: italic; text-align: right;\">missing</td><td style = \"text-align: right;\">13.4</td><td style = \"font-style: italic; text-align: right;\">missing</td><td style = \"text-align: right;\">0.987237</td><td style = \"text-align: left;\">Africa</td></tr><tr><td class = \"rowNumber\" style = \"font-weight: bold; text-align: right;\">3</td><td style = \"text-align: left;\">10978378</td><td style = \"text-align: left;\">Kunduchi</td><td style = \"text-align: left;\">Adequate</td><td style = \"text-align: left;\">Wami</td><td style = \"text-align: right;\">103.94</td><td style = \"text-align: right;\">225.9</td><td style = \"text-align: right;\">14.4</td><td style = \"text-align: right;\">18.5</td><td style = \"text-align: right;\">2.62627</td><td style = \"text-align: left;\">Africa</td></tr><tr><td class = \"rowNumber\" style = \"font-weight: bold; text-align: right;\">4</td><td style = \"text-align: left;\">10978460</td><td style = \"text-align: left;\">Kunduchi</td><td style = \"text-align: left;\">Adequate</td><td style = \"text-align: left;\">Wami</td><td style = \"text-align: right;\">84.85</td><td style = \"text-align: right;\">239.2</td><td style = \"text-align: right;\">14.5</td><td style = \"text-align: right;\">19.9</td><td style = \"text-align: right;\">1.76049</td><td style = \"text-align: left;\">Africa</td></tr><tr><td class = \"rowNumber\" style = \"font-weight: bold; text-align: right;\">5</td><td style = \"text-align: left;\">10977732</td><td style = \"text-align: left;\">Kunduchi</td><td style = \"text-align: left;\">Adequate</td><td style = \"text-align: left;\">Wami</td><td style = \"text-align: right;\">78.29</td><td style = \"text-align: right;\">195.6</td><td style = \"text-align: right;\">14.0</td><td style = \"text-align: right;\">19.0</td><td style = \"text-align: right;\">1.46298</td><td style = \"text-align: left;\">Africa</td></tr><tr><td class = \"rowNumber\" style = \"font-weight: bold; text-align: right;\">6</td><td style = \"text-align: left;\">10978532</td><td style = \"text-align: left;\">Kunduchi</td><td style = \"text-align: left;\">Adequate</td><td style = \"text-align: left;\">Wami</td><td style = \"text-align: right;\">89.93</td><td style = \"text-align: right;\">220.0</td><td style = \"text-align: right;\">14.7</td><td style = \"text-align: right;\">19.0</td><td style = \"text-align: right;\">1.99088</td><td style = \"text-align: left;\">Africa</td></tr><tr><td class = \"rowNumber\" style = \"font-weight: bold; text-align: right;\">7</td><td style = \"text-align: left;\">10978612</td><td style = \"text-align: left;\">Kunduchi</td><td style = \"text-align: left;\">Adequate</td><td style = \"text-align: left;\">Wami</td><td style = \"text-align: right;\">117.83</td><td style = \"text-align: right;\">270.9</td><td style = \"text-align: right;\">15.0</td><td style = \"text-align: right;\">20.0</td><td style = \"text-align: right;\">3.25621</td><td style = \"text-align: left;\">Africa</td></tr><tr><td class = \"rowNumber\" style = \"font-weight: bold; text-align: right;\">8</td><td style = \"text-align: left;\">10977963</td><td style = \"text-align: left;\">Kunduchi</td><td style = \"text-align: left;\">Adequate</td><td style = \"text-align: left;\">Wami</td><td style = \"text-align: right;\">92.48</td><td style = \"text-align: right;\">209.4</td><td style = \"text-align: right;\">14.9</td><td style = \"text-align: right;\">18.3</td><td style = \"text-align: right;\">2.10653</td><td style = \"text-align: left;\">Africa</td></tr><tr><td class = \"rowNumber\" style = \"font-weight: bold; text-align: right;\">9</td><td style = \"text-align: left;\">10977682</td><td style = \"text-align: left;\">Kunduchi</td><td style = \"text-align: left;\">Adequate</td><td style = \"text-align: left;\">Wami</td><td style = \"text-align: right;\">95.54</td><td style = \"text-align: right;\">178.8</td><td style = \"text-align: right;\">14.9</td><td style = \"text-align: right;\">17.7</td><td style = \"text-align: right;\">2.24531</td><td style = \"text-align: left;\">Africa</td></tr><tr><td class = \"rowNumber\" style = \"font-weight: bold; text-align: right;\">10</td><td style = \"text-align: left;\">10978295</td><td style = \"text-align: left;\">Kunduchi</td><td style = \"text-align: left;\">Adequate</td><td style = \"text-align: left;\">Wami</td><td style = \"text-align: right;\">70.27</td><td style = \"text-align: right;\">135.2</td><td style = \"text-align: right;\">13.3</td><td style = \"text-align: right;\">16.0</td><td style = \"text-align: right;\">1.09926</td><td style = \"text-align: left;\">Africa</td></tr><tr><td class = \"rowNumber\" style = \"font-weight: bold; text-align: right;\">11</td><td style = \"text-align: left;\">10977643</td><td style = \"text-align: left;\">Kunduchi</td><td style = \"text-align: left;\">Adequate</td><td style = \"text-align: left;\">Wami</td><td style = \"text-align: right;\">79.96</td><td style = \"text-align: right;\">184.0</td><td style = \"text-align: right;\">14.2</td><td style = \"text-align: right;\">18.2</td><td style = \"text-align: right;\">1.53872</td><td style = \"text-align: left;\">Africa</td></tr><tr><td class = \"rowNumber\" style = \"font-weight: bold; text-align: right;\">12</td><td style = \"text-align: left;\">10978401</td><td style = \"text-align: left;\">Kunduchi</td><td style = \"text-align: left;\">Adequate</td><td style = \"text-align: left;\">Wami</td><td style = \"text-align: right;\">101.76</td><td style = \"text-align: right;\">173.9</td><td style = \"text-align: right;\">14.5</td><td style = \"text-align: right;\">17.2</td><td style = \"text-align: right;\">2.5274</td><td style = \"text-align: left;\">Africa</td></tr><tr><td class = \"rowNumber\" style = \"font-weight: bold; text-align: right;\">13</td><td style = \"text-align: left;\">10978321</td><td style = \"text-align: left;\">Kunduchi</td><td style = \"text-align: left;\">Adequate</td><td style = \"text-align: left;\">Wami</td><td style = \"text-align: right;\">52.01</td><td style = \"text-align: right;\">168.8</td><td style = \"text-align: right;\">12.5</td><td style = \"text-align: right;\">17.0</td><td style = \"text-align: right;\">0.271125</td><td style = \"text-align: left;\">Africa</td></tr><tr><td style = \"text-align: right;\">&vellip;</td><td style = \"text-align: right;\">&vellip;</td><td style = \"text-align: right;\">&vellip;</td><td style = \"text-align: right;\">&vellip;</td><td style = \"text-align: right;\">&vellip;</td><td style = \"text-align: right;\">&vellip;</td><td style = \"text-align: right;\">&vellip;</td><td style = \"text-align: right;\">&vellip;</td><td style = \"text-align: right;\">&vellip;</td><td style = \"text-align: right;\">&vellip;</td><td style = \"text-align: right;\">&vellip;</td></tr><tr><td class = \"rowNumber\" style = \"font-weight: bold; text-align: right;\">1741</td><td style = \"text-align: left;\">10977823</td><td style = \"text-align: left;\">Pangani</td><td style = \"text-align: left;\">Adequate</td><td style = \"text-align: left;\">Ruaha</td><td style = \"text-align: right;\">30.31</td><td style = \"text-align: right;\">76.45</td><td style = \"text-align: right;\">9.8</td><td style = \"text-align: right;\">13.0</td><td style = \"text-align: right;\">-0.713018</td><td style = \"text-align: left;\">Africa</td></tr><tr><td class = \"rowNumber\" style = \"font-weight: bold; text-align: right;\">1742</td><td style = \"text-align: left;\">10977748</td><td style = \"text-align: left;\">Pangani</td><td style = \"text-align: left;\">Adequate</td><td style = \"text-align: left;\">Ruaha</td><td style = \"text-align: right;\">22.35</td><td style = \"font-style: italic; text-align: right;\">missing</td><td style = \"text-align: right;\">8.9</td><td style = \"font-style: italic; text-align: right;\">missing</td><td style = \"text-align: right;\">-1.07402</td><td style = \"text-align: left;\">Africa</td></tr><tr><td class = \"rowNumber\" style = \"font-weight: bold; text-align: right;\">1743</td><td style = \"text-align: left;\">10978899</td><td style = \"text-align: left;\">Pangani</td><td style = \"text-align: left;\">Adequate</td><td style = \"text-align: left;\">Ruaha</td><td style = \"text-align: right;\">39.64</td><td style = \"font-style: italic; text-align: right;\">missing</td><td style = \"text-align: right;\">10.8</td><td style = \"font-style: italic; text-align: right;\">missing</td><td style = \"text-align: right;\">-0.289882</td><td style = \"text-align: left;\">Africa</td></tr><tr><td class = \"rowNumber\" style = \"font-weight: bold; text-align: right;\">1744</td><td style = \"text-align: left;\">10977635</td><td style = \"text-align: left;\">Pangani</td><td style = \"text-align: left;\">Adequate</td><td style = \"text-align: left;\">Ruaha</td><td style = \"text-align: right;\">30.6</td><td style = \"text-align: right;\">80.03</td><td style = \"text-align: right;\">9.8</td><td style = \"text-align: right;\">13.1</td><td style = \"text-align: right;\">-0.699866</td><td style = \"text-align: left;\">Africa</td></tr><tr><td class = \"rowNumber\" style = \"font-weight: bold; text-align: right;\">1745</td><td style = \"text-align: left;\">10978151</td><td style = \"text-align: left;\">Pangani</td><td style = \"text-align: left;\">Adequate</td><td style = \"text-align: left;\">Ruaha</td><td style = \"text-align: right;\">29.85</td><td style = \"text-align: right;\">40.0</td><td style = \"text-align: right;\">9.7</td><td style = \"text-align: right;\">10.7</td><td style = \"text-align: right;\">-0.733881</td><td style = \"text-align: left;\">Africa</td></tr><tr><td class = \"rowNumber\" style = \"font-weight: bold; text-align: right;\">1746</td><td style = \"text-align: left;\">10977918</td><td style = \"text-align: left;\">Pangani</td><td style = \"text-align: left;\">Adequate</td><td style = \"text-align: left;\">Ruaha</td><td style = \"text-align: right;\">40.8</td><td style = \"text-align: right;\">103.74</td><td style = \"text-align: right;\">10.8</td><td style = \"text-align: right;\">14.0</td><td style = \"text-align: right;\">-0.237273</td><td style = \"text-align: left;\">Africa</td></tr><tr><td class = \"rowNumber\" style = \"font-weight: bold; text-align: right;\">1747</td><td style = \"text-align: left;\">10977945</td><td style = \"text-align: left;\">Pangani</td><td style = \"text-align: left;\">Adequate</td><td style = \"text-align: left;\">Ruaha</td><td style = \"text-align: right;\">49.54</td><td style = \"text-align: right;\">124.83</td><td style = \"text-align: right;\">11.4</td><td style = \"text-align: right;\">14.7</td><td style = \"text-align: right;\">0.159105</td><td style = \"text-align: left;\">Africa</td></tr><tr><td class = \"rowNumber\" style = \"font-weight: bold; text-align: right;\">1748</td><td style = \"text-align: left;\">10978369</td><td style = \"text-align: left;\">Pangani</td><td style = \"text-align: left;\">Adequate</td><td style = \"text-align: left;\">Ruaha</td><td style = \"text-align: right;\">26.93</td><td style = \"text-align: right;\">86.12</td><td style = \"text-align: right;\">9.4</td><td style = \"text-align: right;\">13.8</td><td style = \"text-align: right;\">-0.866309</td><td style = \"text-align: left;\">Africa</td></tr><tr><td class = \"rowNumber\" style = \"font-weight: bold; text-align: right;\">1749</td><td style = \"text-align: left;\">10978013</td><td style = \"text-align: left;\">Pangani</td><td style = \"text-align: left;\">Adequate</td><td style = \"text-align: left;\">Ruaha</td><td style = \"text-align: right;\">18.02</td><td style = \"font-style: italic; text-align: right;\">missing</td><td style = \"text-align: right;\">8.6</td><td style = \"font-style: italic; text-align: right;\">missing</td><td style = \"text-align: right;\">-1.2704</td><td style = \"text-align: left;\">Africa</td></tr><tr><td class = \"rowNumber\" style = \"font-weight: bold; text-align: right;\">1750</td><td style = \"text-align: left;\">10978579</td><td style = \"text-align: left;\">Pangani</td><td style = \"text-align: left;\">Adequate</td><td style = \"text-align: left;\">Ruaha</td><td style = \"text-align: right;\">46.97</td><td style = \"text-align: right;\">101.54</td><td style = \"text-align: right;\">11.0</td><td style = \"text-align: right;\">14.0</td><td style = \"text-align: right;\">0.0425498</td><td style = \"text-align: left;\">Africa</td></tr><tr><td class = \"rowNumber\" style = \"font-weight: bold; text-align: right;\">1751</td><td style = \"text-align: left;\">10977708</td><td style = \"text-align: left;\">Pangani</td><td style = \"text-align: left;\">Adequate</td><td style = \"text-align: left;\">Ruaha</td><td style = \"text-align: right;\">39.83</td><td style = \"text-align: right;\">64.24</td><td style = \"text-align: right;\">10.7</td><td style = \"text-align: right;\">13.4</td><td style = \"text-align: right;\">-0.281265</td><td style = \"text-align: left;\">Africa</td></tr><tr><td class = \"rowNumber\" style = \"font-weight: bold; text-align: right;\">1752</td><td style = \"text-align: left;\">10977975</td><td style = \"text-align: left;\">Pangani</td><td style = \"text-align: left;\">Adequate</td><td style = \"text-align: left;\">Ruaha</td><td style = \"text-align: right;\">32.14</td><td style = \"text-align: right;\">57.24</td><td style = \"text-align: right;\">10.0</td><td style = \"text-align: right;\">12.0</td><td style = \"text-align: right;\">-0.630024</td><td style = \"text-align: left;\">Africa</td></tr></tbody></table></div>"
      ],
      "text/latex": [
       "\\begin{tabular}{r|cccccccc}\n",
       "\t& Animal\\_Id & Location & Fittness & Line & Weight\\_initial & Weight\\_final & Length\\_initial & \\\\\n",
       "\t\\hline\n",
       "\t& String & String15 & String & String15 & Float64 & Float64? & Float64 & \\\\\n",
       "\t\\hline\n",
       "\t1 & 10977965 & Kunduchi & Adequate & Wami & 84.3 & 201.5 & 14.2 & $\\dots$ \\\\\n",
       "\t2 & 10978207 & Kunduchi & Adequate & Wami & 67.8 & \\emph{missing} & 13.4 & $\\dots$ \\\\\n",
       "\t3 & 10978378 & Kunduchi & Adequate & Wami & 103.94 & 225.9 & 14.4 & $\\dots$ \\\\\n",
       "\t4 & 10978460 & Kunduchi & Adequate & Wami & 84.85 & 239.2 & 14.5 & $\\dots$ \\\\\n",
       "\t5 & 10977732 & Kunduchi & Adequate & Wami & 78.29 & 195.6 & 14.0 & $\\dots$ \\\\\n",
       "\t6 & 10978532 & Kunduchi & Adequate & Wami & 89.93 & 220.0 & 14.7 & $\\dots$ \\\\\n",
       "\t7 & 10978612 & Kunduchi & Adequate & Wami & 117.83 & 270.9 & 15.0 & $\\dots$ \\\\\n",
       "\t8 & 10977963 & Kunduchi & Adequate & Wami & 92.48 & 209.4 & 14.9 & $\\dots$ \\\\\n",
       "\t9 & 10977682 & Kunduchi & Adequate & Wami & 95.54 & 178.8 & 14.9 & $\\dots$ \\\\\n",
       "\t10 & 10978295 & Kunduchi & Adequate & Wami & 70.27 & 135.2 & 13.3 & $\\dots$ \\\\\n",
       "\t11 & 10977643 & Kunduchi & Adequate & Wami & 79.96 & 184.0 & 14.2 & $\\dots$ \\\\\n",
       "\t12 & 10978401 & Kunduchi & Adequate & Wami & 101.76 & 173.9 & 14.5 & $\\dots$ \\\\\n",
       "\t13 & 10978321 & Kunduchi & Adequate & Wami & 52.01 & 168.8 & 12.5 & $\\dots$ \\\\\n",
       "\t14 & 10978593 & Kunduchi & Adequate & Wami & 91.93 & 182.7 & 14.3 & $\\dots$ \\\\\n",
       "\t15 & 10977891 & Kunduchi & Adequate & Wami & 83.48 & 183.0 & 13.8 & $\\dots$ \\\\\n",
       "\t16 & 10978510 & Kunduchi & Adequate & Wami & 87.03 & 219.9 & 14.3 & $\\dots$ \\\\\n",
       "\t17 & 10978282 & Kunduchi & Adequate & Wami & 87.54 & 213.1 & 13.4 & $\\dots$ \\\\\n",
       "\t18 & 10978130 & Kunduchi & Adequate & Wami & 69.83 & 204.7 & 13.3 & $\\dots$ \\\\\n",
       "\t19 & 10977956 & Kunduchi & Adequate & Wami & 76.47 & 218.2 & 13.7 & $\\dots$ \\\\\n",
       "\t20 & 10978586 & Kunduchi & Adequate & Wami & 84.97 & 179.3 & 14.0 & $\\dots$ \\\\\n",
       "\t21 & 10978426 & Kunduchi & Adequate & Wami & 69.47 & \\emph{missing} & 13.3 & $\\dots$ \\\\\n",
       "\t22 & 10978463 & Kunduchi & Adequate & Wami & 70.53 & 196.1 & 13.4 & $\\dots$ \\\\\n",
       "\t23 & 10977973 & Kunduchi & Adequate & Wami & 69.51 & 171.1 & 13.3 & $\\dots$ \\\\\n",
       "\t24 & 10978434 & Kunduchi & Adequate & Wami & 58.31 & 134.0 & 12.4 & $\\dots$ \\\\\n",
       "\t$\\dots$ & $\\dots$ & $\\dots$ & $\\dots$ & $\\dots$ & $\\dots$ & $\\dots$ & $\\dots$ &  \\\\\n",
       "\\end{tabular}\n"
      ],
      "text/plain": [
       "\u001b[1m1752×10 DataFrame\u001b[0m\n",
       "\u001b[1m  Row \u001b[0m│\u001b[1m Animal_Id \u001b[0m\u001b[1m Location \u001b[0m\u001b[1m Fittness \u001b[0m\u001b[1m Line     \u001b[0m\u001b[1m Weight_initial \u001b[0m\u001b[1m Weight_final \u001b[0m\u001b[1m\u001b[0m ⋯\n",
       "      │\u001b[90m String    \u001b[0m\u001b[90m String15 \u001b[0m\u001b[90m String   \u001b[0m\u001b[90m String15 \u001b[0m\u001b[90m Float64        \u001b[0m\u001b[90m Float64?     \u001b[0m\u001b[90m\u001b[0m ⋯\n",
       "──────┼─────────────────────────────────────────────────────────────────────────\n",
       "    1 │ 10977965   Kunduchi  Adequate  Wami               84.3         201.5   ⋯\n",
       "    2 │ 10978207   Kunduchi  Adequate  Wami               67.8  \u001b[90m   missing    \u001b[0m\n",
       "    3 │ 10978378   Kunduchi  Adequate  Wami              103.94        225.9\n",
       "    4 │ 10978460   Kunduchi  Adequate  Wami               84.85        239.2\n",
       "    5 │ 10977732   Kunduchi  Adequate  Wami               78.29        195.6   ⋯\n",
       "    6 │ 10978532   Kunduchi  Adequate  Wami               89.93        220.0\n",
       "    7 │ 10978612   Kunduchi  Adequate  Wami              117.83        270.9\n",
       "    8 │ 10977963   Kunduchi  Adequate  Wami               92.48        209.4\n",
       "  ⋮   │     ⋮         ⋮         ⋮         ⋮            ⋮              ⋮        ⋱\n",
       " 1746 │ 10977918   Pangani   Adequate  Ruaha              40.8         103.74  ⋯\n",
       " 1747 │ 10977945   Pangani   Adequate  Ruaha              49.54        124.83\n",
       " 1748 │ 10978369   Pangani   Adequate  Ruaha              26.93         86.12\n",
       " 1749 │ 10978013   Pangani   Adequate  Ruaha              18.02 \u001b[90m   missing    \u001b[0m\n",
       " 1750 │ 10978579   Pangani   Adequate  Ruaha              46.97        101.54  ⋯\n",
       " 1751 │ 10977708   Pangani   Adequate  Ruaha              39.83         64.24\n",
       " 1752 │ 10977975   Pangani   Adequate  Ruaha              32.14         57.24\n",
       "\u001b[36m                                                 4 columns and 1737 rows omitted\u001b[0m"
      ]
     },
     "metadata": {},
     "output_type": "display_data"
    }
   ],
   "source": [
    "insertcols!(pheno, :Line, :Fittness => \"Adequate\")"
   ]
  },
  {
   "cell_type": "markdown",
   "metadata": {},
   "source": [
    "If I want the new column to be after the one I refer to."
   ]
  },
  {
   "cell_type": "code",
   "execution_count": 51,
   "metadata": {},
   "outputs": [
    {
     "data": {
      "text/html": [
       "<div><div style = \"float: left;\"><span>1752×11 DataFrame</span></div><div style = \"float: right;\"><span style = \"font-style: italic;\">1727 rows omitted</span></div><div style = \"clear: both;\"></div></div><div class = \"data-frame\" style = \"overflow-x: scroll;\"><table class = \"data-frame\" style = \"margin-bottom: 6px;\"><thead><tr class = \"header\"><th class = \"rowNumber\" style = \"font-weight: bold; text-align: right;\">Row</th><th style = \"text-align: left;\">Animal_Id</th><th style = \"text-align: left;\">Location</th><th style = \"text-align: left;\">Fittness</th><th style = \"text-align: left;\">Line</th><th style = \"text-align: left;\">harvest</th><th style = \"text-align: left;\">Weight_initial</th><th style = \"text-align: left;\">Weight_final</th><th style = \"text-align: left;\">Length_initial</th><th style = \"text-align: left;\">Length_final</th><th style = \"text-align: left;\">weight_init_std</th><th style = \"text-align: left;\">country</th></tr><tr class = \"subheader headerLastRow\"><th class = \"rowNumber\" style = \"font-weight: bold; text-align: right;\"></th><th title = \"String\" style = \"text-align: left;\">String</th><th title = \"String15\" style = \"text-align: left;\">String15</th><th title = \"String\" style = \"text-align: left;\">String</th><th title = \"String15\" style = \"text-align: left;\">String15</th><th title = \"String\" style = \"text-align: left;\">String</th><th title = \"Float64\" style = \"text-align: left;\">Float64</th><th title = \"Union{Missing, Float64}\" style = \"text-align: left;\">Float64?</th><th title = \"Float64\" style = \"text-align: left;\">Float64</th><th title = \"Union{Missing, Float64}\" style = \"text-align: left;\">Float64?</th><th title = \"Float64\" style = \"text-align: left;\">Float64</th><th title = \"String\" style = \"text-align: left;\">String</th></tr></thead><tbody><tr><td class = \"rowNumber\" style = \"font-weight: bold; text-align: right;\">1</td><td style = \"text-align: left;\">10977965</td><td style = \"text-align: left;\">Kunduchi</td><td style = \"text-align: left;\">Adequate</td><td style = \"text-align: left;\">Wami</td><td style = \"text-align: left;\">Yes</td><td style = \"text-align: right;\">84.3</td><td style = \"text-align: right;\">201.5</td><td style = \"text-align: right;\">14.2</td><td style = \"text-align: right;\">18.0</td><td style = \"text-align: right;\">1.73555</td><td style = \"text-align: left;\">Africa</td></tr><tr><td class = \"rowNumber\" style = \"font-weight: bold; text-align: right;\">2</td><td style = \"text-align: left;\">10978207</td><td style = \"text-align: left;\">Kunduchi</td><td style = \"text-align: left;\">Adequate</td><td style = \"text-align: left;\">Wami</td><td style = \"text-align: left;\">Yes</td><td style = \"text-align: right;\">67.8</td><td style = \"font-style: italic; text-align: right;\">missing</td><td style = \"text-align: right;\">13.4</td><td style = \"font-style: italic; text-align: right;\">missing</td><td style = \"text-align: right;\">0.987237</td><td style = \"text-align: left;\">Africa</td></tr><tr><td class = \"rowNumber\" style = \"font-weight: bold; text-align: right;\">3</td><td style = \"text-align: left;\">10978378</td><td style = \"text-align: left;\">Kunduchi</td><td style = \"text-align: left;\">Adequate</td><td style = \"text-align: left;\">Wami</td><td style = \"text-align: left;\">Yes</td><td style = \"text-align: right;\">103.94</td><td style = \"text-align: right;\">225.9</td><td style = \"text-align: right;\">14.4</td><td style = \"text-align: right;\">18.5</td><td style = \"text-align: right;\">2.62627</td><td style = \"text-align: left;\">Africa</td></tr><tr><td class = \"rowNumber\" style = \"font-weight: bold; text-align: right;\">4</td><td style = \"text-align: left;\">10978460</td><td style = \"text-align: left;\">Kunduchi</td><td style = \"text-align: left;\">Adequate</td><td style = \"text-align: left;\">Wami</td><td style = \"text-align: left;\">Yes</td><td style = \"text-align: right;\">84.85</td><td style = \"text-align: right;\">239.2</td><td style = \"text-align: right;\">14.5</td><td style = \"text-align: right;\">19.9</td><td style = \"text-align: right;\">1.76049</td><td style = \"text-align: left;\">Africa</td></tr><tr><td class = \"rowNumber\" style = \"font-weight: bold; text-align: right;\">5</td><td style = \"text-align: left;\">10977732</td><td style = \"text-align: left;\">Kunduchi</td><td style = \"text-align: left;\">Adequate</td><td style = \"text-align: left;\">Wami</td><td style = \"text-align: left;\">Yes</td><td style = \"text-align: right;\">78.29</td><td style = \"text-align: right;\">195.6</td><td style = \"text-align: right;\">14.0</td><td style = \"text-align: right;\">19.0</td><td style = \"text-align: right;\">1.46298</td><td style = \"text-align: left;\">Africa</td></tr><tr><td class = \"rowNumber\" style = \"font-weight: bold; text-align: right;\">6</td><td style = \"text-align: left;\">10978532</td><td style = \"text-align: left;\">Kunduchi</td><td style = \"text-align: left;\">Adequate</td><td style = \"text-align: left;\">Wami</td><td style = \"text-align: left;\">Yes</td><td style = \"text-align: right;\">89.93</td><td style = \"text-align: right;\">220.0</td><td style = \"text-align: right;\">14.7</td><td style = \"text-align: right;\">19.0</td><td style = \"text-align: right;\">1.99088</td><td style = \"text-align: left;\">Africa</td></tr><tr><td class = \"rowNumber\" style = \"font-weight: bold; text-align: right;\">7</td><td style = \"text-align: left;\">10978612</td><td style = \"text-align: left;\">Kunduchi</td><td style = \"text-align: left;\">Adequate</td><td style = \"text-align: left;\">Wami</td><td style = \"text-align: left;\">Yes</td><td style = \"text-align: right;\">117.83</td><td style = \"text-align: right;\">270.9</td><td style = \"text-align: right;\">15.0</td><td style = \"text-align: right;\">20.0</td><td style = \"text-align: right;\">3.25621</td><td style = \"text-align: left;\">Africa</td></tr><tr><td class = \"rowNumber\" style = \"font-weight: bold; text-align: right;\">8</td><td style = \"text-align: left;\">10977963</td><td style = \"text-align: left;\">Kunduchi</td><td style = \"text-align: left;\">Adequate</td><td style = \"text-align: left;\">Wami</td><td style = \"text-align: left;\">Yes</td><td style = \"text-align: right;\">92.48</td><td style = \"text-align: right;\">209.4</td><td style = \"text-align: right;\">14.9</td><td style = \"text-align: right;\">18.3</td><td style = \"text-align: right;\">2.10653</td><td style = \"text-align: left;\">Africa</td></tr><tr><td class = \"rowNumber\" style = \"font-weight: bold; text-align: right;\">9</td><td style = \"text-align: left;\">10977682</td><td style = \"text-align: left;\">Kunduchi</td><td style = \"text-align: left;\">Adequate</td><td style = \"text-align: left;\">Wami</td><td style = \"text-align: left;\">Yes</td><td style = \"text-align: right;\">95.54</td><td style = \"text-align: right;\">178.8</td><td style = \"text-align: right;\">14.9</td><td style = \"text-align: right;\">17.7</td><td style = \"text-align: right;\">2.24531</td><td style = \"text-align: left;\">Africa</td></tr><tr><td class = \"rowNumber\" style = \"font-weight: bold; text-align: right;\">10</td><td style = \"text-align: left;\">10978295</td><td style = \"text-align: left;\">Kunduchi</td><td style = \"text-align: left;\">Adequate</td><td style = \"text-align: left;\">Wami</td><td style = \"text-align: left;\">Yes</td><td style = \"text-align: right;\">70.27</td><td style = \"text-align: right;\">135.2</td><td style = \"text-align: right;\">13.3</td><td style = \"text-align: right;\">16.0</td><td style = \"text-align: right;\">1.09926</td><td style = \"text-align: left;\">Africa</td></tr><tr><td class = \"rowNumber\" style = \"font-weight: bold; text-align: right;\">11</td><td style = \"text-align: left;\">10977643</td><td style = \"text-align: left;\">Kunduchi</td><td style = \"text-align: left;\">Adequate</td><td style = \"text-align: left;\">Wami</td><td style = \"text-align: left;\">Yes</td><td style = \"text-align: right;\">79.96</td><td style = \"text-align: right;\">184.0</td><td style = \"text-align: right;\">14.2</td><td style = \"text-align: right;\">18.2</td><td style = \"text-align: right;\">1.53872</td><td style = \"text-align: left;\">Africa</td></tr><tr><td class = \"rowNumber\" style = \"font-weight: bold; text-align: right;\">12</td><td style = \"text-align: left;\">10978401</td><td style = \"text-align: left;\">Kunduchi</td><td style = \"text-align: left;\">Adequate</td><td style = \"text-align: left;\">Wami</td><td style = \"text-align: left;\">Yes</td><td style = \"text-align: right;\">101.76</td><td style = \"text-align: right;\">173.9</td><td style = \"text-align: right;\">14.5</td><td style = \"text-align: right;\">17.2</td><td style = \"text-align: right;\">2.5274</td><td style = \"text-align: left;\">Africa</td></tr><tr><td class = \"rowNumber\" style = \"font-weight: bold; text-align: right;\">13</td><td style = \"text-align: left;\">10978321</td><td style = \"text-align: left;\">Kunduchi</td><td style = \"text-align: left;\">Adequate</td><td style = \"text-align: left;\">Wami</td><td style = \"text-align: left;\">Yes</td><td style = \"text-align: right;\">52.01</td><td style = \"text-align: right;\">168.8</td><td style = \"text-align: right;\">12.5</td><td style = \"text-align: right;\">17.0</td><td style = \"text-align: right;\">0.271125</td><td style = \"text-align: left;\">Africa</td></tr><tr><td style = \"text-align: right;\">&vellip;</td><td style = \"text-align: right;\">&vellip;</td><td style = \"text-align: right;\">&vellip;</td><td style = \"text-align: right;\">&vellip;</td><td style = \"text-align: right;\">&vellip;</td><td style = \"text-align: right;\">&vellip;</td><td style = \"text-align: right;\">&vellip;</td><td style = \"text-align: right;\">&vellip;</td><td style = \"text-align: right;\">&vellip;</td><td style = \"text-align: right;\">&vellip;</td><td style = \"text-align: right;\">&vellip;</td><td style = \"text-align: right;\">&vellip;</td></tr><tr><td class = \"rowNumber\" style = \"font-weight: bold; text-align: right;\">1741</td><td style = \"text-align: left;\">10977823</td><td style = \"text-align: left;\">Pangani</td><td style = \"text-align: left;\">Adequate</td><td style = \"text-align: left;\">Ruaha</td><td style = \"text-align: left;\">Yes</td><td style = \"text-align: right;\">30.31</td><td style = \"text-align: right;\">76.45</td><td style = \"text-align: right;\">9.8</td><td style = \"text-align: right;\">13.0</td><td style = \"text-align: right;\">-0.713018</td><td style = \"text-align: left;\">Africa</td></tr><tr><td class = \"rowNumber\" style = \"font-weight: bold; text-align: right;\">1742</td><td style = \"text-align: left;\">10977748</td><td style = \"text-align: left;\">Pangani</td><td style = \"text-align: left;\">Adequate</td><td style = \"text-align: left;\">Ruaha</td><td style = \"text-align: left;\">Yes</td><td style = \"text-align: right;\">22.35</td><td style = \"font-style: italic; text-align: right;\">missing</td><td style = \"text-align: right;\">8.9</td><td style = \"font-style: italic; text-align: right;\">missing</td><td style = \"text-align: right;\">-1.07402</td><td style = \"text-align: left;\">Africa</td></tr><tr><td class = \"rowNumber\" style = \"font-weight: bold; text-align: right;\">1743</td><td style = \"text-align: left;\">10978899</td><td style = \"text-align: left;\">Pangani</td><td style = \"text-align: left;\">Adequate</td><td style = \"text-align: left;\">Ruaha</td><td style = \"text-align: left;\">Yes</td><td style = \"text-align: right;\">39.64</td><td style = \"font-style: italic; text-align: right;\">missing</td><td style = \"text-align: right;\">10.8</td><td style = \"font-style: italic; text-align: right;\">missing</td><td style = \"text-align: right;\">-0.289882</td><td style = \"text-align: left;\">Africa</td></tr><tr><td class = \"rowNumber\" style = \"font-weight: bold; text-align: right;\">1744</td><td style = \"text-align: left;\">10977635</td><td style = \"text-align: left;\">Pangani</td><td style = \"text-align: left;\">Adequate</td><td style = \"text-align: left;\">Ruaha</td><td style = \"text-align: left;\">Yes</td><td style = \"text-align: right;\">30.6</td><td style = \"text-align: right;\">80.03</td><td style = \"text-align: right;\">9.8</td><td style = \"text-align: right;\">13.1</td><td style = \"text-align: right;\">-0.699866</td><td style = \"text-align: left;\">Africa</td></tr><tr><td class = \"rowNumber\" style = \"font-weight: bold; text-align: right;\">1745</td><td style = \"text-align: left;\">10978151</td><td style = \"text-align: left;\">Pangani</td><td style = \"text-align: left;\">Adequate</td><td style = \"text-align: left;\">Ruaha</td><td style = \"text-align: left;\">Yes</td><td style = \"text-align: right;\">29.85</td><td style = \"text-align: right;\">40.0</td><td style = \"text-align: right;\">9.7</td><td style = \"text-align: right;\">10.7</td><td style = \"text-align: right;\">-0.733881</td><td style = \"text-align: left;\">Africa</td></tr><tr><td class = \"rowNumber\" style = \"font-weight: bold; text-align: right;\">1746</td><td style = \"text-align: left;\">10977918</td><td style = \"text-align: left;\">Pangani</td><td style = \"text-align: left;\">Adequate</td><td style = \"text-align: left;\">Ruaha</td><td style = \"text-align: left;\">Yes</td><td style = \"text-align: right;\">40.8</td><td style = \"text-align: right;\">103.74</td><td style = \"text-align: right;\">10.8</td><td style = \"text-align: right;\">14.0</td><td style = \"text-align: right;\">-0.237273</td><td style = \"text-align: left;\">Africa</td></tr><tr><td class = \"rowNumber\" style = \"font-weight: bold; text-align: right;\">1747</td><td style = \"text-align: left;\">10977945</td><td style = \"text-align: left;\">Pangani</td><td style = \"text-align: left;\">Adequate</td><td style = \"text-align: left;\">Ruaha</td><td style = \"text-align: left;\">Yes</td><td style = \"text-align: right;\">49.54</td><td style = \"text-align: right;\">124.83</td><td style = \"text-align: right;\">11.4</td><td style = \"text-align: right;\">14.7</td><td style = \"text-align: right;\">0.159105</td><td style = \"text-align: left;\">Africa</td></tr><tr><td class = \"rowNumber\" style = \"font-weight: bold; text-align: right;\">1748</td><td style = \"text-align: left;\">10978369</td><td style = \"text-align: left;\">Pangani</td><td style = \"text-align: left;\">Adequate</td><td style = \"text-align: left;\">Ruaha</td><td style = \"text-align: left;\">Yes</td><td style = \"text-align: right;\">26.93</td><td style = \"text-align: right;\">86.12</td><td style = \"text-align: right;\">9.4</td><td style = \"text-align: right;\">13.8</td><td style = \"text-align: right;\">-0.866309</td><td style = \"text-align: left;\">Africa</td></tr><tr><td class = \"rowNumber\" style = \"font-weight: bold; text-align: right;\">1749</td><td style = \"text-align: left;\">10978013</td><td style = \"text-align: left;\">Pangani</td><td style = \"text-align: left;\">Adequate</td><td style = \"text-align: left;\">Ruaha</td><td style = \"text-align: left;\">Yes</td><td style = \"text-align: right;\">18.02</td><td style = \"font-style: italic; text-align: right;\">missing</td><td style = \"text-align: right;\">8.6</td><td style = \"font-style: italic; text-align: right;\">missing</td><td style = \"text-align: right;\">-1.2704</td><td style = \"text-align: left;\">Africa</td></tr><tr><td class = \"rowNumber\" style = \"font-weight: bold; text-align: right;\">1750</td><td style = \"text-align: left;\">10978579</td><td style = \"text-align: left;\">Pangani</td><td style = \"text-align: left;\">Adequate</td><td style = \"text-align: left;\">Ruaha</td><td style = \"text-align: left;\">Yes</td><td style = \"text-align: right;\">46.97</td><td style = \"text-align: right;\">101.54</td><td style = \"text-align: right;\">11.0</td><td style = \"text-align: right;\">14.0</td><td style = \"text-align: right;\">0.0425498</td><td style = \"text-align: left;\">Africa</td></tr><tr><td class = \"rowNumber\" style = \"font-weight: bold; text-align: right;\">1751</td><td style = \"text-align: left;\">10977708</td><td style = \"text-align: left;\">Pangani</td><td style = \"text-align: left;\">Adequate</td><td style = \"text-align: left;\">Ruaha</td><td style = \"text-align: left;\">Yes</td><td style = \"text-align: right;\">39.83</td><td style = \"text-align: right;\">64.24</td><td style = \"text-align: right;\">10.7</td><td style = \"text-align: right;\">13.4</td><td style = \"text-align: right;\">-0.281265</td><td style = \"text-align: left;\">Africa</td></tr><tr><td class = \"rowNumber\" style = \"font-weight: bold; text-align: right;\">1752</td><td style = \"text-align: left;\">10977975</td><td style = \"text-align: left;\">Pangani</td><td style = \"text-align: left;\">Adequate</td><td style = \"text-align: left;\">Ruaha</td><td style = \"text-align: left;\">Yes</td><td style = \"text-align: right;\">32.14</td><td style = \"text-align: right;\">57.24</td><td style = \"text-align: right;\">10.0</td><td style = \"text-align: right;\">12.0</td><td style = \"text-align: right;\">-0.630024</td><td style = \"text-align: left;\">Africa</td></tr></tbody></table></div>"
      ],
      "text/latex": [
       "\\begin{tabular}{r|cccccccc}\n",
       "\t& Animal\\_Id & Location & Fittness & Line & harvest & Weight\\_initial & Weight\\_final & \\\\\n",
       "\t\\hline\n",
       "\t& String & String15 & String & String15 & String & Float64 & Float64? & \\\\\n",
       "\t\\hline\n",
       "\t1 & 10977965 & Kunduchi & Adequate & Wami & Yes & 84.3 & 201.5 & $\\dots$ \\\\\n",
       "\t2 & 10978207 & Kunduchi & Adequate & Wami & Yes & 67.8 & \\emph{missing} & $\\dots$ \\\\\n",
       "\t3 & 10978378 & Kunduchi & Adequate & Wami & Yes & 103.94 & 225.9 & $\\dots$ \\\\\n",
       "\t4 & 10978460 & Kunduchi & Adequate & Wami & Yes & 84.85 & 239.2 & $\\dots$ \\\\\n",
       "\t5 & 10977732 & Kunduchi & Adequate & Wami & Yes & 78.29 & 195.6 & $\\dots$ \\\\\n",
       "\t6 & 10978532 & Kunduchi & Adequate & Wami & Yes & 89.93 & 220.0 & $\\dots$ \\\\\n",
       "\t7 & 10978612 & Kunduchi & Adequate & Wami & Yes & 117.83 & 270.9 & $\\dots$ \\\\\n",
       "\t8 & 10977963 & Kunduchi & Adequate & Wami & Yes & 92.48 & 209.4 & $\\dots$ \\\\\n",
       "\t9 & 10977682 & Kunduchi & Adequate & Wami & Yes & 95.54 & 178.8 & $\\dots$ \\\\\n",
       "\t10 & 10978295 & Kunduchi & Adequate & Wami & Yes & 70.27 & 135.2 & $\\dots$ \\\\\n",
       "\t11 & 10977643 & Kunduchi & Adequate & Wami & Yes & 79.96 & 184.0 & $\\dots$ \\\\\n",
       "\t12 & 10978401 & Kunduchi & Adequate & Wami & Yes & 101.76 & 173.9 & $\\dots$ \\\\\n",
       "\t13 & 10978321 & Kunduchi & Adequate & Wami & Yes & 52.01 & 168.8 & $\\dots$ \\\\\n",
       "\t14 & 10978593 & Kunduchi & Adequate & Wami & Yes & 91.93 & 182.7 & $\\dots$ \\\\\n",
       "\t15 & 10977891 & Kunduchi & Adequate & Wami & Yes & 83.48 & 183.0 & $\\dots$ \\\\\n",
       "\t16 & 10978510 & Kunduchi & Adequate & Wami & Yes & 87.03 & 219.9 & $\\dots$ \\\\\n",
       "\t17 & 10978282 & Kunduchi & Adequate & Wami & Yes & 87.54 & 213.1 & $\\dots$ \\\\\n",
       "\t18 & 10978130 & Kunduchi & Adequate & Wami & Yes & 69.83 & 204.7 & $\\dots$ \\\\\n",
       "\t19 & 10977956 & Kunduchi & Adequate & Wami & Yes & 76.47 & 218.2 & $\\dots$ \\\\\n",
       "\t20 & 10978586 & Kunduchi & Adequate & Wami & Yes & 84.97 & 179.3 & $\\dots$ \\\\\n",
       "\t21 & 10978426 & Kunduchi & Adequate & Wami & Yes & 69.47 & \\emph{missing} & $\\dots$ \\\\\n",
       "\t22 & 10978463 & Kunduchi & Adequate & Wami & Yes & 70.53 & 196.1 & $\\dots$ \\\\\n",
       "\t23 & 10977973 & Kunduchi & Adequate & Wami & Yes & 69.51 & 171.1 & $\\dots$ \\\\\n",
       "\t24 & 10978434 & Kunduchi & Adequate & Wami & Yes & 58.31 & 134.0 & $\\dots$ \\\\\n",
       "\t$\\dots$ & $\\dots$ & $\\dots$ & $\\dots$ & $\\dots$ & $\\dots$ & $\\dots$ & $\\dots$ &  \\\\\n",
       "\\end{tabular}\n"
      ],
      "text/plain": [
       "\u001b[1m1752×11 DataFrame\u001b[0m\n",
       "\u001b[1m  Row \u001b[0m│\u001b[1m Animal_Id \u001b[0m\u001b[1m Location \u001b[0m\u001b[1m Fittness \u001b[0m\u001b[1m Line     \u001b[0m\u001b[1m harvest \u001b[0m\u001b[1m Weight_initial \u001b[0m\u001b[1m Weig\u001b[0m ⋯\n",
       "      │\u001b[90m String    \u001b[0m\u001b[90m String15 \u001b[0m\u001b[90m String   \u001b[0m\u001b[90m String15 \u001b[0m\u001b[90m String  \u001b[0m\u001b[90m Float64        \u001b[0m\u001b[90m Floa\u001b[0m ⋯\n",
       "──────┼─────────────────────────────────────────────────────────────────────────\n",
       "    1 │ 10977965   Kunduchi  Adequate  Wami      Yes               84.3        ⋯\n",
       "    2 │ 10978207   Kunduchi  Adequate  Wami      Yes               67.8  \u001b[90m   mi\u001b[0m\n",
       "    3 │ 10978378   Kunduchi  Adequate  Wami      Yes              103.94\n",
       "    4 │ 10978460   Kunduchi  Adequate  Wami      Yes               84.85\n",
       "    5 │ 10977732   Kunduchi  Adequate  Wami      Yes               78.29       ⋯\n",
       "    6 │ 10978532   Kunduchi  Adequate  Wami      Yes               89.93\n",
       "    7 │ 10978612   Kunduchi  Adequate  Wami      Yes              117.83\n",
       "    8 │ 10977963   Kunduchi  Adequate  Wami      Yes               92.48\n",
       "  ⋮   │     ⋮         ⋮         ⋮         ⋮         ⋮           ⋮              ⋱\n",
       " 1746 │ 10977918   Pangani   Adequate  Ruaha     Yes               40.8        ⋯\n",
       " 1747 │ 10977945   Pangani   Adequate  Ruaha     Yes               49.54\n",
       " 1748 │ 10978369   Pangani   Adequate  Ruaha     Yes               26.93\n",
       " 1749 │ 10978013   Pangani   Adequate  Ruaha     Yes               18.02 \u001b[90m   mi\u001b[0m\n",
       " 1750 │ 10978579   Pangani   Adequate  Ruaha     Yes               46.97       ⋯\n",
       " 1751 │ 10977708   Pangani   Adequate  Ruaha     Yes               39.83\n",
       " 1752 │ 10977975   Pangani   Adequate  Ruaha     Yes               32.14\n",
       "\u001b[36m                                                 5 columns and 1737 rows omitted\u001b[0m"
      ]
     },
     "metadata": {},
     "output_type": "display_data"
    }
   ],
   "source": [
    "insertcols!(pheno, :Line, :harvest => \"Yes\"; after=true)"
   ]
  },
  {
   "cell_type": "markdown",
   "metadata": {},
   "source": [
    "We will finish this session with a core skill. How to save dataframes in a file."
   ]
  },
  {
   "cell_type": "code",
   "execution_count": 52,
   "metadata": {},
   "outputs": [
    {
     "data": {
      "text/plain": [
       "\"pheno_modified.csv\""
      ]
     },
     "metadata": {},
     "output_type": "display_data"
    }
   ],
   "source": [
    "CSV.write(\"pheno_modified.csv\", pheno)"
   ]
  },
  {
   "cell_type": "markdown",
   "metadata": {},
   "source": [
    "## Exercises"
   ]
  },
  {
   "cell_type": "markdown",
   "metadata": {},
   "source": [
    "### Exercise 1"
   ]
  },
  {
   "cell_type": "markdown",
   "metadata": {},
   "source": [
    "We will use a dataset from Kaggle https://www.kaggle.com/datasets/jessemostipak/hotel-booking-demand?resource=download on hotel bookings. You can find the file under today's folder with the name `hotel_bookings.csv`."
   ]
  },
  {
   "cell_type": "markdown",
   "metadata": {},
   "source": [
    "* Create a dataframe named hotel_bookings. Indicate that NULL denotes a missing value.\n",
    "* How many rows an columns it contains.\n",
    "* Create a data summary.\n",
    "* Select rows 10000 - 10100 and the columns `reserved_room_type` and `reservation_status`.\n",
    "* Select rows where `hotel`is `City Hotel`,`arrival_date_month`is `December` and `adr`is 100 or less. How many rows do you end up with?\n",
    "* Select the column names that contain `previous`.\n",
    "* Select the column names between `adults` and `is_repeated_guest`. \n",
    "* Create a new dataframe that contain all the numeric columns from hotel_bookings.\n",
    "* Create a new column that contains the values of the `adr` column in the power of 3. Name it `adr_cube`.\n",
    "* Write the modified dataframe in a zip format in a file named `hotel_bookings_modified.zip`. Use `:`to separate the columns."
   ]
  }
 ],
 "metadata": {
  "kernelspec": {
   "display_name": "Julia 1.11.1",
   "language": "julia",
   "name": "julia-1.11"
  },
  "language_info": {
   "file_extension": ".jl",
   "mimetype": "application/julia",
   "name": "julia",
   "version": "1.11.1"
  }
 },
 "nbformat": 4,
 "nbformat_minor": 2
}

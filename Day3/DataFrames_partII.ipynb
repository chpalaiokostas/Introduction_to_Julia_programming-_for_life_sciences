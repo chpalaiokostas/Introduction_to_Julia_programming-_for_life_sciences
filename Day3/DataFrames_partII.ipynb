{
 "cells": [
  {
   "cell_type": "code",
   "execution_count": 1,
   "metadata": {},
   "outputs": [],
   "source": [
    "using CSV, DataFrames"
   ]
  },
  {
   "cell_type": "markdown",
   "metadata": {},
   "source": [
    "### Adding data to an existing dataframe"
   ]
  },
  {
   "cell_type": "code",
   "execution_count": 48,
   "metadata": {},
   "outputs": [
    {
     "data": {
      "text/html": [
       "<div><div style = \"float: left;\"><span>50×3 DataFrame</span></div><div style = \"float: right;\"><span style = \"font-style: italic;\">25 rows omitted</span></div><div style = \"clear: both;\"></div></div><div class = \"data-frame\" style = \"overflow-x: scroll;\"><table class = \"data-frame\" style = \"margin-bottom: 6px;\"><thead><tr class = \"header\"><th class = \"rowNumber\" style = \"font-weight: bold; text-align: right;\">Row</th><th style = \"text-align: left;\">Id</th><th style = \"text-align: left;\">Sire</th><th style = \"text-align: left;\">Dam</th></tr><tr class = \"subheader headerLastRow\"><th class = \"rowNumber\" style = \"font-weight: bold; text-align: right;\"></th><th title = \"String15\" style = \"text-align: left;\">String15</th><th title = \"String15\" style = \"text-align: left;\">String15</th><th title = \"String15\" style = \"text-align: left;\">String15</th></tr></thead><tbody><tr><td class = \"rowNumber\" style = \"font-weight: bold; text-align: right;\">1</td><td style = \"text-align: left;\">G2_431872</td><td style = \"text-align: left;\">G1_801698</td><td style = \"text-align: left;\">G1_973614</td></tr><tr><td class = \"rowNumber\" style = \"font-weight: bold; text-align: right;\">2</td><td style = \"text-align: left;\">G2_432072</td><td style = \"text-align: left;\">G1_801698</td><td style = \"text-align: left;\">G1_973614</td></tr><tr><td class = \"rowNumber\" style = \"font-weight: bold; text-align: right;\">3</td><td style = \"text-align: left;\">G2_425484</td><td style = \"text-align: left;\">G1_801698</td><td style = \"text-align: left;\">G1_973614</td></tr><tr><td class = \"rowNumber\" style = \"font-weight: bold; text-align: right;\">4</td><td style = \"text-align: left;\">G2_426165</td><td style = \"text-align: left;\">G1_801698</td><td style = \"text-align: left;\">G1_973614</td></tr><tr><td class = \"rowNumber\" style = \"font-weight: bold; text-align: right;\">5</td><td style = \"text-align: left;\">G2_431334</td><td style = \"text-align: left;\">G1_801698</td><td style = \"text-align: left;\">G1_973614</td></tr><tr><td class = \"rowNumber\" style = \"font-weight: bold; text-align: right;\">6</td><td style = \"text-align: left;\">G2_425367</td><td style = \"text-align: left;\">G1_801698</td><td style = \"text-align: left;\">G1_973614</td></tr><tr><td class = \"rowNumber\" style = \"font-weight: bold; text-align: right;\">7</td><td style = \"text-align: left;\">G2_425503</td><td style = \"text-align: left;\">G1_801698</td><td style = \"text-align: left;\">G1_973614</td></tr><tr><td class = \"rowNumber\" style = \"font-weight: bold; text-align: right;\">8</td><td style = \"text-align: left;\">G2_430925</td><td style = \"text-align: left;\">G1_801698</td><td style = \"text-align: left;\">G1_973614</td></tr><tr><td class = \"rowNumber\" style = \"font-weight: bold; text-align: right;\">9</td><td style = \"text-align: left;\">G2_431214</td><td style = \"text-align: left;\">G1_801698</td><td style = \"text-align: left;\">G1_973614</td></tr><tr><td class = \"rowNumber\" style = \"font-weight: bold; text-align: right;\">10</td><td style = \"text-align: left;\">G2_425304</td><td style = \"text-align: left;\">G1_801698</td><td style = \"text-align: left;\">G1_973614</td></tr><tr><td class = \"rowNumber\" style = \"font-weight: bold; text-align: right;\">11</td><td style = \"text-align: left;\">G2_431658</td><td style = \"text-align: left;\">G1_801698</td><td style = \"text-align: left;\">G1_973614</td></tr><tr><td class = \"rowNumber\" style = \"font-weight: bold; text-align: right;\">12</td><td style = \"text-align: left;\">G2_426022</td><td style = \"text-align: left;\">G1_801698</td><td style = \"text-align: left;\">G1_973614</td></tr><tr><td class = \"rowNumber\" style = \"font-weight: bold; text-align: right;\">13</td><td style = \"text-align: left;\">G2_425556</td><td style = \"text-align: left;\">G1_801698</td><td style = \"text-align: left;\">G1_973614</td></tr><tr><td style = \"text-align: right;\">&vellip;</td><td style = \"text-align: right;\">&vellip;</td><td style = \"text-align: right;\">&vellip;</td><td style = \"text-align: right;\">&vellip;</td></tr><tr><td class = \"rowNumber\" style = \"font-weight: bold; text-align: right;\">39</td><td style = \"text-align: left;\">G2_7800956</td><td style = \"text-align: left;\">G1_801698</td><td style = \"text-align: left;\">G1_802693</td></tr><tr><td class = \"rowNumber\" style = \"font-weight: bold; text-align: right;\">40</td><td style = \"text-align: left;\">G2_7402261</td><td style = \"text-align: left;\">G1_801698</td><td style = \"text-align: left;\">G1_802693</td></tr><tr><td class = \"rowNumber\" style = \"font-weight: bold; text-align: right;\">41</td><td style = \"text-align: left;\">G2_7801038</td><td style = \"text-align: left;\">G1_801698</td><td style = \"text-align: left;\">G1_802693</td></tr><tr><td class = \"rowNumber\" style = \"font-weight: bold; text-align: right;\">42</td><td style = \"text-align: left;\">G2_7801156</td><td style = \"text-align: left;\">G1_801698</td><td style = \"text-align: left;\">G1_802693</td></tr><tr><td class = \"rowNumber\" style = \"font-weight: bold; text-align: right;\">43</td><td style = \"text-align: left;\">G2_7402296</td><td style = \"text-align: left;\">G1_801698</td><td style = \"text-align: left;\">G1_802693</td></tr><tr><td class = \"rowNumber\" style = \"font-weight: bold; text-align: right;\">44</td><td style = \"text-align: left;\">G2_7402294</td><td style = \"text-align: left;\">G1_801698</td><td style = \"text-align: left;\">G1_802693</td></tr><tr><td class = \"rowNumber\" style = \"font-weight: bold; text-align: right;\">45</td><td style = \"text-align: left;\">G2_7091777</td><td style = \"text-align: left;\">G1_801698</td><td style = \"text-align: left;\">G1_802693</td></tr><tr><td class = \"rowNumber\" style = \"font-weight: bold; text-align: right;\">46</td><td style = \"text-align: left;\">G2_7801132</td><td style = \"text-align: left;\">G1_801698</td><td style = \"text-align: left;\">G1_802693</td></tr><tr><td class = \"rowNumber\" style = \"font-weight: bold; text-align: right;\">47</td><td style = \"text-align: left;\">G2_7402413</td><td style = \"text-align: left;\">G1_801698</td><td style = \"text-align: left;\">G1_802693</td></tr><tr><td class = \"rowNumber\" style = \"font-weight: bold; text-align: right;\">48</td><td style = \"text-align: left;\">G2_7402362</td><td style = \"text-align: left;\">G1_801698</td><td style = \"text-align: left;\">G1_802693</td></tr><tr><td class = \"rowNumber\" style = \"font-weight: bold; text-align: right;\">49</td><td style = \"text-align: left;\">G2_7402364</td><td style = \"text-align: left;\">G1_801698</td><td style = \"text-align: left;\">G1_802693</td></tr><tr><td class = \"rowNumber\" style = \"font-weight: bold; text-align: right;\">50</td><td style = \"text-align: left;\">G2_7091741</td><td style = \"text-align: left;\">G1_801698</td><td style = \"text-align: left;\">G1_802693</td></tr></tbody></table></div>"
      ],
      "text/latex": [
       "\\begin{tabular}{r|ccc}\n",
       "\t& Id & Sire & Dam\\\\\n",
       "\t\\hline\n",
       "\t& String15 & String15 & String15\\\\\n",
       "\t\\hline\n",
       "\t1 & G2\\_431872 & G1\\_801698 & G1\\_973614 \\\\\n",
       "\t2 & G2\\_432072 & G1\\_801698 & G1\\_973614 \\\\\n",
       "\t3 & G2\\_425484 & G1\\_801698 & G1\\_973614 \\\\\n",
       "\t4 & G2\\_426165 & G1\\_801698 & G1\\_973614 \\\\\n",
       "\t5 & G2\\_431334 & G1\\_801698 & G1\\_973614 \\\\\n",
       "\t6 & G2\\_425367 & G1\\_801698 & G1\\_973614 \\\\\n",
       "\t7 & G2\\_425503 & G1\\_801698 & G1\\_973614 \\\\\n",
       "\t8 & G2\\_430925 & G1\\_801698 & G1\\_973614 \\\\\n",
       "\t9 & G2\\_431214 & G1\\_801698 & G1\\_973614 \\\\\n",
       "\t10 & G2\\_425304 & G1\\_801698 & G1\\_973614 \\\\\n",
       "\t11 & G2\\_431658 & G1\\_801698 & G1\\_973614 \\\\\n",
       "\t12 & G2\\_426022 & G1\\_801698 & G1\\_973614 \\\\\n",
       "\t13 & G2\\_425556 & G1\\_801698 & G1\\_973614 \\\\\n",
       "\t14 & G2\\_425064 & G1\\_801698 & G1\\_973614 \\\\\n",
       "\t15 & G2\\_431112 & G1\\_801698 & G1\\_973614 \\\\\n",
       "\t16 & G2\\_425024 & G1\\_801698 & G1\\_973614 \\\\\n",
       "\t17 & G2\\_7800873 & G1\\_801698 & G1\\_973614 \\\\\n",
       "\t18 & G2\\_7801208 & G1\\_801698 & G1\\_973614 \\\\\n",
       "\t19 & G2\\_7091787 & G1\\_801698 & G1\\_973614 \\\\\n",
       "\t20 & G2\\_7091747 & G1\\_801698 & G1\\_973614 \\\\\n",
       "\t21 & G2\\_7801035 & G1\\_801698 & G1\\_973614 \\\\\n",
       "\t22 & G2\\_7402382 & G1\\_801698 & G1\\_973614 \\\\\n",
       "\t23 & G2\\_7801243 & G1\\_801698 & G1\\_973614 \\\\\n",
       "\t24 & G2\\_7402431 & G1\\_801698 & G1\\_973614 \\\\\n",
       "\t$\\dots$ & $\\dots$ & $\\dots$ & $\\dots$ \\\\\n",
       "\\end{tabular}\n"
      ],
      "text/plain": [
       "\u001b[1m50×3 DataFrame\u001b[0m\n",
       "\u001b[1m Row \u001b[0m│\u001b[1m Id         \u001b[0m\u001b[1m Sire      \u001b[0m\u001b[1m Dam       \u001b[0m\n",
       "     │\u001b[90m String15   \u001b[0m\u001b[90m String15  \u001b[0m\u001b[90m String15  \u001b[0m\n",
       "─────┼──────────────────────────────────\n",
       "   1 │ G2_431872   G1_801698  G1_973614\n",
       "   2 │ G2_432072   G1_801698  G1_973614\n",
       "   3 │ G2_425484   G1_801698  G1_973614\n",
       "   4 │ G2_426165   G1_801698  G1_973614\n",
       "   5 │ G2_431334   G1_801698  G1_973614\n",
       "   6 │ G2_425367   G1_801698  G1_973614\n",
       "   7 │ G2_425503   G1_801698  G1_973614\n",
       "   8 │ G2_430925   G1_801698  G1_973614\n",
       "  ⋮  │     ⋮           ⋮          ⋮\n",
       "  44 │ G2_7402294  G1_801698  G1_802693\n",
       "  45 │ G2_7091777  G1_801698  G1_802693\n",
       "  46 │ G2_7801132  G1_801698  G1_802693\n",
       "  47 │ G2_7402413  G1_801698  G1_802693\n",
       "  48 │ G2_7402362  G1_801698  G1_802693\n",
       "  49 │ G2_7402364  G1_801698  G1_802693\n",
       "  50 │ G2_7091741  G1_801698  G1_802693\n",
       "\u001b[36m                         35 rows omitted\u001b[0m"
      ]
     },
     "metadata": {},
     "output_type": "display_data"
    }
   ],
   "source": [
    "ped_1 = CSV.read(\"pedigree_1.txt\", DataFrame)"
   ]
  },
  {
   "cell_type": "markdown",
   "metadata": {},
   "source": [
    "Let's see how we can add data to the dataframe above."
   ]
  },
  {
   "cell_type": "code",
   "execution_count": 3,
   "metadata": {},
   "outputs": [
    {
     "data": {
      "text/html": [
       "<div><div style = \"float: left;\"><span>51×3 DataFrame</span></div><div style = \"float: right;\"><span style = \"font-style: italic;\">26 rows omitted</span></div><div style = \"clear: both;\"></div></div><div class = \"data-frame\" style = \"overflow-x: scroll;\"><table class = \"data-frame\" style = \"margin-bottom: 6px;\"><thead><tr class = \"header\"><th class = \"rowNumber\" style = \"font-weight: bold; text-align: right;\">Row</th><th style = \"text-align: left;\">Id</th><th style = \"text-align: left;\">Sire</th><th style = \"text-align: left;\">Dam</th></tr><tr class = \"subheader headerLastRow\"><th class = \"rowNumber\" style = \"font-weight: bold; text-align: right;\"></th><th title = \"String15\" style = \"text-align: left;\">String15</th><th title = \"String15\" style = \"text-align: left;\">String15</th><th title = \"String15\" style = \"text-align: left;\">String15</th></tr></thead><tbody><tr><td class = \"rowNumber\" style = \"font-weight: bold; text-align: right;\">1</td><td style = \"text-align: left;\">G2_431872</td><td style = \"text-align: left;\">G1_801698</td><td style = \"text-align: left;\">G1_973614</td></tr><tr><td class = \"rowNumber\" style = \"font-weight: bold; text-align: right;\">2</td><td style = \"text-align: left;\">G2_432072</td><td style = \"text-align: left;\">G1_801698</td><td style = \"text-align: left;\">G1_973614</td></tr><tr><td class = \"rowNumber\" style = \"font-weight: bold; text-align: right;\">3</td><td style = \"text-align: left;\">G2_425484</td><td style = \"text-align: left;\">G1_801698</td><td style = \"text-align: left;\">G1_973614</td></tr><tr><td class = \"rowNumber\" style = \"font-weight: bold; text-align: right;\">4</td><td style = \"text-align: left;\">G2_426165</td><td style = \"text-align: left;\">G1_801698</td><td style = \"text-align: left;\">G1_973614</td></tr><tr><td class = \"rowNumber\" style = \"font-weight: bold; text-align: right;\">5</td><td style = \"text-align: left;\">G2_431334</td><td style = \"text-align: left;\">G1_801698</td><td style = \"text-align: left;\">G1_973614</td></tr><tr><td class = \"rowNumber\" style = \"font-weight: bold; text-align: right;\">6</td><td style = \"text-align: left;\">G2_425367</td><td style = \"text-align: left;\">G1_801698</td><td style = \"text-align: left;\">G1_973614</td></tr><tr><td class = \"rowNumber\" style = \"font-weight: bold; text-align: right;\">7</td><td style = \"text-align: left;\">G2_425503</td><td style = \"text-align: left;\">G1_801698</td><td style = \"text-align: left;\">G1_973614</td></tr><tr><td class = \"rowNumber\" style = \"font-weight: bold; text-align: right;\">8</td><td style = \"text-align: left;\">G2_430925</td><td style = \"text-align: left;\">G1_801698</td><td style = \"text-align: left;\">G1_973614</td></tr><tr><td class = \"rowNumber\" style = \"font-weight: bold; text-align: right;\">9</td><td style = \"text-align: left;\">G2_431214</td><td style = \"text-align: left;\">G1_801698</td><td style = \"text-align: left;\">G1_973614</td></tr><tr><td class = \"rowNumber\" style = \"font-weight: bold; text-align: right;\">10</td><td style = \"text-align: left;\">G2_425304</td><td style = \"text-align: left;\">G1_801698</td><td style = \"text-align: left;\">G1_973614</td></tr><tr><td class = \"rowNumber\" style = \"font-weight: bold; text-align: right;\">11</td><td style = \"text-align: left;\">G2_431658</td><td style = \"text-align: left;\">G1_801698</td><td style = \"text-align: left;\">G1_973614</td></tr><tr><td class = \"rowNumber\" style = \"font-weight: bold; text-align: right;\">12</td><td style = \"text-align: left;\">G2_426022</td><td style = \"text-align: left;\">G1_801698</td><td style = \"text-align: left;\">G1_973614</td></tr><tr><td class = \"rowNumber\" style = \"font-weight: bold; text-align: right;\">13</td><td style = \"text-align: left;\">G2_425556</td><td style = \"text-align: left;\">G1_801698</td><td style = \"text-align: left;\">G1_973614</td></tr><tr><td style = \"text-align: right;\">&vellip;</td><td style = \"text-align: right;\">&vellip;</td><td style = \"text-align: right;\">&vellip;</td><td style = \"text-align: right;\">&vellip;</td></tr><tr><td class = \"rowNumber\" style = \"font-weight: bold; text-align: right;\">40</td><td style = \"text-align: left;\">G2_7402261</td><td style = \"text-align: left;\">G1_801698</td><td style = \"text-align: left;\">G1_802693</td></tr><tr><td class = \"rowNumber\" style = \"font-weight: bold; text-align: right;\">41</td><td style = \"text-align: left;\">G2_7801038</td><td style = \"text-align: left;\">G1_801698</td><td style = \"text-align: left;\">G1_802693</td></tr><tr><td class = \"rowNumber\" style = \"font-weight: bold; text-align: right;\">42</td><td style = \"text-align: left;\">G2_7801156</td><td style = \"text-align: left;\">G1_801698</td><td style = \"text-align: left;\">G1_802693</td></tr><tr><td class = \"rowNumber\" style = \"font-weight: bold; text-align: right;\">43</td><td style = \"text-align: left;\">G2_7402296</td><td style = \"text-align: left;\">G1_801698</td><td style = \"text-align: left;\">G1_802693</td></tr><tr><td class = \"rowNumber\" style = \"font-weight: bold; text-align: right;\">44</td><td style = \"text-align: left;\">G2_7402294</td><td style = \"text-align: left;\">G1_801698</td><td style = \"text-align: left;\">G1_802693</td></tr><tr><td class = \"rowNumber\" style = \"font-weight: bold; text-align: right;\">45</td><td style = \"text-align: left;\">G2_7091777</td><td style = \"text-align: left;\">G1_801698</td><td style = \"text-align: left;\">G1_802693</td></tr><tr><td class = \"rowNumber\" style = \"font-weight: bold; text-align: right;\">46</td><td style = \"text-align: left;\">G2_7801132</td><td style = \"text-align: left;\">G1_801698</td><td style = \"text-align: left;\">G1_802693</td></tr><tr><td class = \"rowNumber\" style = \"font-weight: bold; text-align: right;\">47</td><td style = \"text-align: left;\">G2_7402413</td><td style = \"text-align: left;\">G1_801698</td><td style = \"text-align: left;\">G1_802693</td></tr><tr><td class = \"rowNumber\" style = \"font-weight: bold; text-align: right;\">48</td><td style = \"text-align: left;\">G2_7402362</td><td style = \"text-align: left;\">G1_801698</td><td style = \"text-align: left;\">G1_802693</td></tr><tr><td class = \"rowNumber\" style = \"font-weight: bold; text-align: right;\">49</td><td style = \"text-align: left;\">G2_7402364</td><td style = \"text-align: left;\">G1_801698</td><td style = \"text-align: left;\">G1_802693</td></tr><tr><td class = \"rowNumber\" style = \"font-weight: bold; text-align: right;\">50</td><td style = \"text-align: left;\">G2_7091741</td><td style = \"text-align: left;\">G1_801698</td><td style = \"text-align: left;\">G1_802693</td></tr><tr><td class = \"rowNumber\" style = \"font-weight: bold; text-align: right;\">51</td><td style = \"text-align: left;\">G3_801</td><td style = \"text-align: left;\">G2_7091741</td><td style = \"text-align: left;\">G2_7402364</td></tr></tbody></table></div>"
      ],
      "text/latex": [
       "\\begin{tabular}{r|ccc}\n",
       "\t& Id & Sire & Dam\\\\\n",
       "\t\\hline\n",
       "\t& String15 & String15 & String15\\\\\n",
       "\t\\hline\n",
       "\t1 & G2\\_431872 & G1\\_801698 & G1\\_973614 \\\\\n",
       "\t2 & G2\\_432072 & G1\\_801698 & G1\\_973614 \\\\\n",
       "\t3 & G2\\_425484 & G1\\_801698 & G1\\_973614 \\\\\n",
       "\t4 & G2\\_426165 & G1\\_801698 & G1\\_973614 \\\\\n",
       "\t5 & G2\\_431334 & G1\\_801698 & G1\\_973614 \\\\\n",
       "\t6 & G2\\_425367 & G1\\_801698 & G1\\_973614 \\\\\n",
       "\t7 & G2\\_425503 & G1\\_801698 & G1\\_973614 \\\\\n",
       "\t8 & G2\\_430925 & G1\\_801698 & G1\\_973614 \\\\\n",
       "\t9 & G2\\_431214 & G1\\_801698 & G1\\_973614 \\\\\n",
       "\t10 & G2\\_425304 & G1\\_801698 & G1\\_973614 \\\\\n",
       "\t11 & G2\\_431658 & G1\\_801698 & G1\\_973614 \\\\\n",
       "\t12 & G2\\_426022 & G1\\_801698 & G1\\_973614 \\\\\n",
       "\t13 & G2\\_425556 & G1\\_801698 & G1\\_973614 \\\\\n",
       "\t14 & G2\\_425064 & G1\\_801698 & G1\\_973614 \\\\\n",
       "\t15 & G2\\_431112 & G1\\_801698 & G1\\_973614 \\\\\n",
       "\t16 & G2\\_425024 & G1\\_801698 & G1\\_973614 \\\\\n",
       "\t17 & G2\\_7800873 & G1\\_801698 & G1\\_973614 \\\\\n",
       "\t18 & G2\\_7801208 & G1\\_801698 & G1\\_973614 \\\\\n",
       "\t19 & G2\\_7091787 & G1\\_801698 & G1\\_973614 \\\\\n",
       "\t20 & G2\\_7091747 & G1\\_801698 & G1\\_973614 \\\\\n",
       "\t21 & G2\\_7801035 & G1\\_801698 & G1\\_973614 \\\\\n",
       "\t22 & G2\\_7402382 & G1\\_801698 & G1\\_973614 \\\\\n",
       "\t23 & G2\\_7801243 & G1\\_801698 & G1\\_973614 \\\\\n",
       "\t24 & G2\\_7402431 & G1\\_801698 & G1\\_973614 \\\\\n",
       "\t$\\dots$ & $\\dots$ & $\\dots$ & $\\dots$ \\\\\n",
       "\\end{tabular}\n"
      ],
      "text/plain": [
       "\u001b[1m51×3 DataFrame\u001b[0m\n",
       "\u001b[1m Row \u001b[0m│\u001b[1m Id         \u001b[0m\u001b[1m Sire       \u001b[0m\u001b[1m Dam        \u001b[0m\n",
       "     │\u001b[90m String15   \u001b[0m\u001b[90m String15   \u001b[0m\u001b[90m String15   \u001b[0m\n",
       "─────┼────────────────────────────────────\n",
       "   1 │ G2_431872   G1_801698   G1_973614\n",
       "   2 │ G2_432072   G1_801698   G1_973614\n",
       "   3 │ G2_425484   G1_801698   G1_973614\n",
       "   4 │ G2_426165   G1_801698   G1_973614\n",
       "   5 │ G2_431334   G1_801698   G1_973614\n",
       "   6 │ G2_425367   G1_801698   G1_973614\n",
       "   7 │ G2_425503   G1_801698   G1_973614\n",
       "   8 │ G2_430925   G1_801698   G1_973614\n",
       "  ⋮  │     ⋮           ⋮           ⋮\n",
       "  45 │ G2_7091777  G1_801698   G1_802693\n",
       "  46 │ G2_7801132  G1_801698   G1_802693\n",
       "  47 │ G2_7402413  G1_801698   G1_802693\n",
       "  48 │ G2_7402362  G1_801698   G1_802693\n",
       "  49 │ G2_7402364  G1_801698   G1_802693\n",
       "  50 │ G2_7091741  G1_801698   G1_802693\n",
       "  51 │ G3_801      G2_7091741  G2_7402364\n",
       "\u001b[36m                           36 rows omitted\u001b[0m"
      ]
     },
     "metadata": {},
     "output_type": "display_data"
    }
   ],
   "source": [
    "push!(ped_1,(\"G3_801\",\"G2_7091741\",\"G2_7402364\"))"
   ]
  },
  {
   "cell_type": "markdown",
   "metadata": {},
   "source": [
    "We can also use a NamedTuple."
   ]
  },
  {
   "cell_type": "code",
   "execution_count": 4,
   "metadata": {},
   "outputs": [
    {
     "data": {
      "text/html": [
       "<div><div style = \"float: left;\"><span>52×3 DataFrame</span></div><div style = \"float: right;\"><span style = \"font-style: italic;\">27 rows omitted</span></div><div style = \"clear: both;\"></div></div><div class = \"data-frame\" style = \"overflow-x: scroll;\"><table class = \"data-frame\" style = \"margin-bottom: 6px;\"><thead><tr class = \"header\"><th class = \"rowNumber\" style = \"font-weight: bold; text-align: right;\">Row</th><th style = \"text-align: left;\">Id</th><th style = \"text-align: left;\">Sire</th><th style = \"text-align: left;\">Dam</th></tr><tr class = \"subheader headerLastRow\"><th class = \"rowNumber\" style = \"font-weight: bold; text-align: right;\"></th><th title = \"String15\" style = \"text-align: left;\">String15</th><th title = \"String15\" style = \"text-align: left;\">String15</th><th title = \"String15\" style = \"text-align: left;\">String15</th></tr></thead><tbody><tr><td class = \"rowNumber\" style = \"font-weight: bold; text-align: right;\">1</td><td style = \"text-align: left;\">G2_431872</td><td style = \"text-align: left;\">G1_801698</td><td style = \"text-align: left;\">G1_973614</td></tr><tr><td class = \"rowNumber\" style = \"font-weight: bold; text-align: right;\">2</td><td style = \"text-align: left;\">G2_432072</td><td style = \"text-align: left;\">G1_801698</td><td style = \"text-align: left;\">G1_973614</td></tr><tr><td class = \"rowNumber\" style = \"font-weight: bold; text-align: right;\">3</td><td style = \"text-align: left;\">G2_425484</td><td style = \"text-align: left;\">G1_801698</td><td style = \"text-align: left;\">G1_973614</td></tr><tr><td class = \"rowNumber\" style = \"font-weight: bold; text-align: right;\">4</td><td style = \"text-align: left;\">G2_426165</td><td style = \"text-align: left;\">G1_801698</td><td style = \"text-align: left;\">G1_973614</td></tr><tr><td class = \"rowNumber\" style = \"font-weight: bold; text-align: right;\">5</td><td style = \"text-align: left;\">G2_431334</td><td style = \"text-align: left;\">G1_801698</td><td style = \"text-align: left;\">G1_973614</td></tr><tr><td class = \"rowNumber\" style = \"font-weight: bold; text-align: right;\">6</td><td style = \"text-align: left;\">G2_425367</td><td style = \"text-align: left;\">G1_801698</td><td style = \"text-align: left;\">G1_973614</td></tr><tr><td class = \"rowNumber\" style = \"font-weight: bold; text-align: right;\">7</td><td style = \"text-align: left;\">G2_425503</td><td style = \"text-align: left;\">G1_801698</td><td style = \"text-align: left;\">G1_973614</td></tr><tr><td class = \"rowNumber\" style = \"font-weight: bold; text-align: right;\">8</td><td style = \"text-align: left;\">G2_430925</td><td style = \"text-align: left;\">G1_801698</td><td style = \"text-align: left;\">G1_973614</td></tr><tr><td class = \"rowNumber\" style = \"font-weight: bold; text-align: right;\">9</td><td style = \"text-align: left;\">G2_431214</td><td style = \"text-align: left;\">G1_801698</td><td style = \"text-align: left;\">G1_973614</td></tr><tr><td class = \"rowNumber\" style = \"font-weight: bold; text-align: right;\">10</td><td style = \"text-align: left;\">G2_425304</td><td style = \"text-align: left;\">G1_801698</td><td style = \"text-align: left;\">G1_973614</td></tr><tr><td class = \"rowNumber\" style = \"font-weight: bold; text-align: right;\">11</td><td style = \"text-align: left;\">G2_431658</td><td style = \"text-align: left;\">G1_801698</td><td style = \"text-align: left;\">G1_973614</td></tr><tr><td class = \"rowNumber\" style = \"font-weight: bold; text-align: right;\">12</td><td style = \"text-align: left;\">G2_426022</td><td style = \"text-align: left;\">G1_801698</td><td style = \"text-align: left;\">G1_973614</td></tr><tr><td class = \"rowNumber\" style = \"font-weight: bold; text-align: right;\">13</td><td style = \"text-align: left;\">G2_425556</td><td style = \"text-align: left;\">G1_801698</td><td style = \"text-align: left;\">G1_973614</td></tr><tr><td style = \"text-align: right;\">&vellip;</td><td style = \"text-align: right;\">&vellip;</td><td style = \"text-align: right;\">&vellip;</td><td style = \"text-align: right;\">&vellip;</td></tr><tr><td class = \"rowNumber\" style = \"font-weight: bold; text-align: right;\">41</td><td style = \"text-align: left;\">G2_7801038</td><td style = \"text-align: left;\">G1_801698</td><td style = \"text-align: left;\">G1_802693</td></tr><tr><td class = \"rowNumber\" style = \"font-weight: bold; text-align: right;\">42</td><td style = \"text-align: left;\">G2_7801156</td><td style = \"text-align: left;\">G1_801698</td><td style = \"text-align: left;\">G1_802693</td></tr><tr><td class = \"rowNumber\" style = \"font-weight: bold; text-align: right;\">43</td><td style = \"text-align: left;\">G2_7402296</td><td style = \"text-align: left;\">G1_801698</td><td style = \"text-align: left;\">G1_802693</td></tr><tr><td class = \"rowNumber\" style = \"font-weight: bold; text-align: right;\">44</td><td style = \"text-align: left;\">G2_7402294</td><td style = \"text-align: left;\">G1_801698</td><td style = \"text-align: left;\">G1_802693</td></tr><tr><td class = \"rowNumber\" style = \"font-weight: bold; text-align: right;\">45</td><td style = \"text-align: left;\">G2_7091777</td><td style = \"text-align: left;\">G1_801698</td><td style = \"text-align: left;\">G1_802693</td></tr><tr><td class = \"rowNumber\" style = \"font-weight: bold; text-align: right;\">46</td><td style = \"text-align: left;\">G2_7801132</td><td style = \"text-align: left;\">G1_801698</td><td style = \"text-align: left;\">G1_802693</td></tr><tr><td class = \"rowNumber\" style = \"font-weight: bold; text-align: right;\">47</td><td style = \"text-align: left;\">G2_7402413</td><td style = \"text-align: left;\">G1_801698</td><td style = \"text-align: left;\">G1_802693</td></tr><tr><td class = \"rowNumber\" style = \"font-weight: bold; text-align: right;\">48</td><td style = \"text-align: left;\">G2_7402362</td><td style = \"text-align: left;\">G1_801698</td><td style = \"text-align: left;\">G1_802693</td></tr><tr><td class = \"rowNumber\" style = \"font-weight: bold; text-align: right;\">49</td><td style = \"text-align: left;\">G2_7402364</td><td style = \"text-align: left;\">G1_801698</td><td style = \"text-align: left;\">G1_802693</td></tr><tr><td class = \"rowNumber\" style = \"font-weight: bold; text-align: right;\">50</td><td style = \"text-align: left;\">G2_7091741</td><td style = \"text-align: left;\">G1_801698</td><td style = \"text-align: left;\">G1_802693</td></tr><tr><td class = \"rowNumber\" style = \"font-weight: bold; text-align: right;\">51</td><td style = \"text-align: left;\">G3_801</td><td style = \"text-align: left;\">G2_7091741</td><td style = \"text-align: left;\">G2_7402364</td></tr><tr><td class = \"rowNumber\" style = \"font-weight: bold; text-align: right;\">52</td><td style = \"text-align: left;\">G3_801</td><td style = \"text-align: left;\">G2_7091741</td><td style = \"text-align: left;\">G2_7402364</td></tr></tbody></table></div>"
      ],
      "text/latex": [
       "\\begin{tabular}{r|ccc}\n",
       "\t& Id & Sire & Dam\\\\\n",
       "\t\\hline\n",
       "\t& String15 & String15 & String15\\\\\n",
       "\t\\hline\n",
       "\t1 & G2\\_431872 & G1\\_801698 & G1\\_973614 \\\\\n",
       "\t2 & G2\\_432072 & G1\\_801698 & G1\\_973614 \\\\\n",
       "\t3 & G2\\_425484 & G1\\_801698 & G1\\_973614 \\\\\n",
       "\t4 & G2\\_426165 & G1\\_801698 & G1\\_973614 \\\\\n",
       "\t5 & G2\\_431334 & G1\\_801698 & G1\\_973614 \\\\\n",
       "\t6 & G2\\_425367 & G1\\_801698 & G1\\_973614 \\\\\n",
       "\t7 & G2\\_425503 & G1\\_801698 & G1\\_973614 \\\\\n",
       "\t8 & G2\\_430925 & G1\\_801698 & G1\\_973614 \\\\\n",
       "\t9 & G2\\_431214 & G1\\_801698 & G1\\_973614 \\\\\n",
       "\t10 & G2\\_425304 & G1\\_801698 & G1\\_973614 \\\\\n",
       "\t11 & G2\\_431658 & G1\\_801698 & G1\\_973614 \\\\\n",
       "\t12 & G2\\_426022 & G1\\_801698 & G1\\_973614 \\\\\n",
       "\t13 & G2\\_425556 & G1\\_801698 & G1\\_973614 \\\\\n",
       "\t14 & G2\\_425064 & G1\\_801698 & G1\\_973614 \\\\\n",
       "\t15 & G2\\_431112 & G1\\_801698 & G1\\_973614 \\\\\n",
       "\t16 & G2\\_425024 & G1\\_801698 & G1\\_973614 \\\\\n",
       "\t17 & G2\\_7800873 & G1\\_801698 & G1\\_973614 \\\\\n",
       "\t18 & G2\\_7801208 & G1\\_801698 & G1\\_973614 \\\\\n",
       "\t19 & G2\\_7091787 & G1\\_801698 & G1\\_973614 \\\\\n",
       "\t20 & G2\\_7091747 & G1\\_801698 & G1\\_973614 \\\\\n",
       "\t21 & G2\\_7801035 & G1\\_801698 & G1\\_973614 \\\\\n",
       "\t22 & G2\\_7402382 & G1\\_801698 & G1\\_973614 \\\\\n",
       "\t23 & G2\\_7801243 & G1\\_801698 & G1\\_973614 \\\\\n",
       "\t24 & G2\\_7402431 & G1\\_801698 & G1\\_973614 \\\\\n",
       "\t$\\dots$ & $\\dots$ & $\\dots$ & $\\dots$ \\\\\n",
       "\\end{tabular}\n"
      ],
      "text/plain": [
       "\u001b[1m52×3 DataFrame\u001b[0m\n",
       "\u001b[1m Row \u001b[0m│\u001b[1m Id         \u001b[0m\u001b[1m Sire       \u001b[0m\u001b[1m Dam        \u001b[0m\n",
       "     │\u001b[90m String15   \u001b[0m\u001b[90m String15   \u001b[0m\u001b[90m String15   \u001b[0m\n",
       "─────┼────────────────────────────────────\n",
       "   1 │ G2_431872   G1_801698   G1_973614\n",
       "   2 │ G2_432072   G1_801698   G1_973614\n",
       "   3 │ G2_425484   G1_801698   G1_973614\n",
       "   4 │ G2_426165   G1_801698   G1_973614\n",
       "   5 │ G2_431334   G1_801698   G1_973614\n",
       "   6 │ G2_425367   G1_801698   G1_973614\n",
       "   7 │ G2_425503   G1_801698   G1_973614\n",
       "   8 │ G2_430925   G1_801698   G1_973614\n",
       "  ⋮  │     ⋮           ⋮           ⋮\n",
       "  46 │ G2_7801132  G1_801698   G1_802693\n",
       "  47 │ G2_7402413  G1_801698   G1_802693\n",
       "  48 │ G2_7402362  G1_801698   G1_802693\n",
       "  49 │ G2_7402364  G1_801698   G1_802693\n",
       "  50 │ G2_7091741  G1_801698   G1_802693\n",
       "  51 │ G3_801      G2_7091741  G2_7402364\n",
       "  52 │ G3_801      G2_7091741  G2_7402364\n",
       "\u001b[36m                           37 rows omitted\u001b[0m"
      ]
     },
     "metadata": {},
     "output_type": "display_data"
    }
   ],
   "source": [
    "push!(ped_1,(Id=\"G3_801\",Sire=\"G2_7091741\",Dam=\"G2_7402364\"))"
   ]
  },
  {
   "cell_type": "markdown",
   "metadata": {},
   "source": [
    "Or we can use a vector instead."
   ]
  },
  {
   "cell_type": "code",
   "execution_count": 5,
   "metadata": {},
   "outputs": [
    {
     "data": {
      "text/html": [
       "<div><div style = \"float: left;\"><span>53×3 DataFrame</span></div><div style = \"float: right;\"><span style = \"font-style: italic;\">28 rows omitted</span></div><div style = \"clear: both;\"></div></div><div class = \"data-frame\" style = \"overflow-x: scroll;\"><table class = \"data-frame\" style = \"margin-bottom: 6px;\"><thead><tr class = \"header\"><th class = \"rowNumber\" style = \"font-weight: bold; text-align: right;\">Row</th><th style = \"text-align: left;\">Id</th><th style = \"text-align: left;\">Sire</th><th style = \"text-align: left;\">Dam</th></tr><tr class = \"subheader headerLastRow\"><th class = \"rowNumber\" style = \"font-weight: bold; text-align: right;\"></th><th title = \"String15\" style = \"text-align: left;\">String15</th><th title = \"String15\" style = \"text-align: left;\">String15</th><th title = \"String15\" style = \"text-align: left;\">String15</th></tr></thead><tbody><tr><td class = \"rowNumber\" style = \"font-weight: bold; text-align: right;\">1</td><td style = \"text-align: left;\">G2_431872</td><td style = \"text-align: left;\">G1_801698</td><td style = \"text-align: left;\">G1_973614</td></tr><tr><td class = \"rowNumber\" style = \"font-weight: bold; text-align: right;\">2</td><td style = \"text-align: left;\">G2_432072</td><td style = \"text-align: left;\">G1_801698</td><td style = \"text-align: left;\">G1_973614</td></tr><tr><td class = \"rowNumber\" style = \"font-weight: bold; text-align: right;\">3</td><td style = \"text-align: left;\">G2_425484</td><td style = \"text-align: left;\">G1_801698</td><td style = \"text-align: left;\">G1_973614</td></tr><tr><td class = \"rowNumber\" style = \"font-weight: bold; text-align: right;\">4</td><td style = \"text-align: left;\">G2_426165</td><td style = \"text-align: left;\">G1_801698</td><td style = \"text-align: left;\">G1_973614</td></tr><tr><td class = \"rowNumber\" style = \"font-weight: bold; text-align: right;\">5</td><td style = \"text-align: left;\">G2_431334</td><td style = \"text-align: left;\">G1_801698</td><td style = \"text-align: left;\">G1_973614</td></tr><tr><td class = \"rowNumber\" style = \"font-weight: bold; text-align: right;\">6</td><td style = \"text-align: left;\">G2_425367</td><td style = \"text-align: left;\">G1_801698</td><td style = \"text-align: left;\">G1_973614</td></tr><tr><td class = \"rowNumber\" style = \"font-weight: bold; text-align: right;\">7</td><td style = \"text-align: left;\">G2_425503</td><td style = \"text-align: left;\">G1_801698</td><td style = \"text-align: left;\">G1_973614</td></tr><tr><td class = \"rowNumber\" style = \"font-weight: bold; text-align: right;\">8</td><td style = \"text-align: left;\">G2_430925</td><td style = \"text-align: left;\">G1_801698</td><td style = \"text-align: left;\">G1_973614</td></tr><tr><td class = \"rowNumber\" style = \"font-weight: bold; text-align: right;\">9</td><td style = \"text-align: left;\">G2_431214</td><td style = \"text-align: left;\">G1_801698</td><td style = \"text-align: left;\">G1_973614</td></tr><tr><td class = \"rowNumber\" style = \"font-weight: bold; text-align: right;\">10</td><td style = \"text-align: left;\">G2_425304</td><td style = \"text-align: left;\">G1_801698</td><td style = \"text-align: left;\">G1_973614</td></tr><tr><td class = \"rowNumber\" style = \"font-weight: bold; text-align: right;\">11</td><td style = \"text-align: left;\">G2_431658</td><td style = \"text-align: left;\">G1_801698</td><td style = \"text-align: left;\">G1_973614</td></tr><tr><td class = \"rowNumber\" style = \"font-weight: bold; text-align: right;\">12</td><td style = \"text-align: left;\">G2_426022</td><td style = \"text-align: left;\">G1_801698</td><td style = \"text-align: left;\">G1_973614</td></tr><tr><td class = \"rowNumber\" style = \"font-weight: bold; text-align: right;\">13</td><td style = \"text-align: left;\">G2_425556</td><td style = \"text-align: left;\">G1_801698</td><td style = \"text-align: left;\">G1_973614</td></tr><tr><td style = \"text-align: right;\">&vellip;</td><td style = \"text-align: right;\">&vellip;</td><td style = \"text-align: right;\">&vellip;</td><td style = \"text-align: right;\">&vellip;</td></tr><tr><td class = \"rowNumber\" style = \"font-weight: bold; text-align: right;\">42</td><td style = \"text-align: left;\">G2_7801156</td><td style = \"text-align: left;\">G1_801698</td><td style = \"text-align: left;\">G1_802693</td></tr><tr><td class = \"rowNumber\" style = \"font-weight: bold; text-align: right;\">43</td><td style = \"text-align: left;\">G2_7402296</td><td style = \"text-align: left;\">G1_801698</td><td style = \"text-align: left;\">G1_802693</td></tr><tr><td class = \"rowNumber\" style = \"font-weight: bold; text-align: right;\">44</td><td style = \"text-align: left;\">G2_7402294</td><td style = \"text-align: left;\">G1_801698</td><td style = \"text-align: left;\">G1_802693</td></tr><tr><td class = \"rowNumber\" style = \"font-weight: bold; text-align: right;\">45</td><td style = \"text-align: left;\">G2_7091777</td><td style = \"text-align: left;\">G1_801698</td><td style = \"text-align: left;\">G1_802693</td></tr><tr><td class = \"rowNumber\" style = \"font-weight: bold; text-align: right;\">46</td><td style = \"text-align: left;\">G2_7801132</td><td style = \"text-align: left;\">G1_801698</td><td style = \"text-align: left;\">G1_802693</td></tr><tr><td class = \"rowNumber\" style = \"font-weight: bold; text-align: right;\">47</td><td style = \"text-align: left;\">G2_7402413</td><td style = \"text-align: left;\">G1_801698</td><td style = \"text-align: left;\">G1_802693</td></tr><tr><td class = \"rowNumber\" style = \"font-weight: bold; text-align: right;\">48</td><td style = \"text-align: left;\">G2_7402362</td><td style = \"text-align: left;\">G1_801698</td><td style = \"text-align: left;\">G1_802693</td></tr><tr><td class = \"rowNumber\" style = \"font-weight: bold; text-align: right;\">49</td><td style = \"text-align: left;\">G2_7402364</td><td style = \"text-align: left;\">G1_801698</td><td style = \"text-align: left;\">G1_802693</td></tr><tr><td class = \"rowNumber\" style = \"font-weight: bold; text-align: right;\">50</td><td style = \"text-align: left;\">G2_7091741</td><td style = \"text-align: left;\">G1_801698</td><td style = \"text-align: left;\">G1_802693</td></tr><tr><td class = \"rowNumber\" style = \"font-weight: bold; text-align: right;\">51</td><td style = \"text-align: left;\">G3_801</td><td style = \"text-align: left;\">G2_7091741</td><td style = \"text-align: left;\">G2_7402364</td></tr><tr><td class = \"rowNumber\" style = \"font-weight: bold; text-align: right;\">52</td><td style = \"text-align: left;\">G3_801</td><td style = \"text-align: left;\">G2_7091741</td><td style = \"text-align: left;\">G2_7402364</td></tr><tr><td class = \"rowNumber\" style = \"font-weight: bold; text-align: right;\">53</td><td style = \"text-align: left;\">G3_801</td><td style = \"text-align: left;\">G2_7091741</td><td style = \"text-align: left;\">G2_7402364</td></tr></tbody></table></div>"
      ],
      "text/latex": [
       "\\begin{tabular}{r|ccc}\n",
       "\t& Id & Sire & Dam\\\\\n",
       "\t\\hline\n",
       "\t& String15 & String15 & String15\\\\\n",
       "\t\\hline\n",
       "\t1 & G2\\_431872 & G1\\_801698 & G1\\_973614 \\\\\n",
       "\t2 & G2\\_432072 & G1\\_801698 & G1\\_973614 \\\\\n",
       "\t3 & G2\\_425484 & G1\\_801698 & G1\\_973614 \\\\\n",
       "\t4 & G2\\_426165 & G1\\_801698 & G1\\_973614 \\\\\n",
       "\t5 & G2\\_431334 & G1\\_801698 & G1\\_973614 \\\\\n",
       "\t6 & G2\\_425367 & G1\\_801698 & G1\\_973614 \\\\\n",
       "\t7 & G2\\_425503 & G1\\_801698 & G1\\_973614 \\\\\n",
       "\t8 & G2\\_430925 & G1\\_801698 & G1\\_973614 \\\\\n",
       "\t9 & G2\\_431214 & G1\\_801698 & G1\\_973614 \\\\\n",
       "\t10 & G2\\_425304 & G1\\_801698 & G1\\_973614 \\\\\n",
       "\t11 & G2\\_431658 & G1\\_801698 & G1\\_973614 \\\\\n",
       "\t12 & G2\\_426022 & G1\\_801698 & G1\\_973614 \\\\\n",
       "\t13 & G2\\_425556 & G1\\_801698 & G1\\_973614 \\\\\n",
       "\t14 & G2\\_425064 & G1\\_801698 & G1\\_973614 \\\\\n",
       "\t15 & G2\\_431112 & G1\\_801698 & G1\\_973614 \\\\\n",
       "\t16 & G2\\_425024 & G1\\_801698 & G1\\_973614 \\\\\n",
       "\t17 & G2\\_7800873 & G1\\_801698 & G1\\_973614 \\\\\n",
       "\t18 & G2\\_7801208 & G1\\_801698 & G1\\_973614 \\\\\n",
       "\t19 & G2\\_7091787 & G1\\_801698 & G1\\_973614 \\\\\n",
       "\t20 & G2\\_7091747 & G1\\_801698 & G1\\_973614 \\\\\n",
       "\t21 & G2\\_7801035 & G1\\_801698 & G1\\_973614 \\\\\n",
       "\t22 & G2\\_7402382 & G1\\_801698 & G1\\_973614 \\\\\n",
       "\t23 & G2\\_7801243 & G1\\_801698 & G1\\_973614 \\\\\n",
       "\t24 & G2\\_7402431 & G1\\_801698 & G1\\_973614 \\\\\n",
       "\t$\\dots$ & $\\dots$ & $\\dots$ & $\\dots$ \\\\\n",
       "\\end{tabular}\n"
      ],
      "text/plain": [
       "\u001b[1m53×3 DataFrame\u001b[0m\n",
       "\u001b[1m Row \u001b[0m│\u001b[1m Id         \u001b[0m\u001b[1m Sire       \u001b[0m\u001b[1m Dam        \u001b[0m\n",
       "     │\u001b[90m String15   \u001b[0m\u001b[90m String15   \u001b[0m\u001b[90m String15   \u001b[0m\n",
       "─────┼────────────────────────────────────\n",
       "   1 │ G2_431872   G1_801698   G1_973614\n",
       "   2 │ G2_432072   G1_801698   G1_973614\n",
       "   3 │ G2_425484   G1_801698   G1_973614\n",
       "   4 │ G2_426165   G1_801698   G1_973614\n",
       "   5 │ G2_431334   G1_801698   G1_973614\n",
       "   6 │ G2_425367   G1_801698   G1_973614\n",
       "   7 │ G2_425503   G1_801698   G1_973614\n",
       "   8 │ G2_430925   G1_801698   G1_973614\n",
       "  ⋮  │     ⋮           ⋮           ⋮\n",
       "  47 │ G2_7402413  G1_801698   G1_802693\n",
       "  48 │ G2_7402362  G1_801698   G1_802693\n",
       "  49 │ G2_7402364  G1_801698   G1_802693\n",
       "  50 │ G2_7091741  G1_801698   G1_802693\n",
       "  51 │ G3_801      G2_7091741  G2_7402364\n",
       "  52 │ G3_801      G2_7091741  G2_7402364\n",
       "  53 │ G3_801      G2_7091741  G2_7402364\n",
       "\u001b[36m                           38 rows omitted\u001b[0m"
      ]
     },
     "metadata": {},
     "output_type": "display_data"
    }
   ],
   "source": [
    "push!(ped_1,[\"G3_801\",\"G2_7091741\",\"G2_7402364\"])"
   ]
  },
  {
   "cell_type": "markdown",
   "metadata": {},
   "source": [
    "Now let's see how we can handle cases where we want to add several rows at the same time. Let's create first a 2nd dataframe."
   ]
  },
  {
   "cell_type": "code",
   "execution_count": 46,
   "metadata": {},
   "outputs": [
    {
     "data": {
      "text/html": [
       "<div><div style = \"float: left;\"><span>50×3 DataFrame</span></div><div style = \"float: right;\"><span style = \"font-style: italic;\">25 rows omitted</span></div><div style = \"clear: both;\"></div></div><div class = \"data-frame\" style = \"overflow-x: scroll;\"><table class = \"data-frame\" style = \"margin-bottom: 6px;\"><thead><tr class = \"header\"><th class = \"rowNumber\" style = \"font-weight: bold; text-align: right;\">Row</th><th style = \"text-align: left;\">Id</th><th style = \"text-align: left;\">Sire</th><th style = \"text-align: left;\">Dam</th></tr><tr class = \"subheader headerLastRow\"><th class = \"rowNumber\" style = \"font-weight: bold; text-align: right;\"></th><th title = \"String15\" style = \"text-align: left;\">String15</th><th title = \"String15\" style = \"text-align: left;\">String15</th><th title = \"String15\" style = \"text-align: left;\">String15</th></tr></thead><tbody><tr><td class = \"rowNumber\" style = \"font-weight: bold; text-align: right;\">1</td><td style = \"text-align: left;\">G2_7402413</td><td style = \"text-align: left;\">G1_801698</td><td style = \"text-align: left;\">G1_802693</td></tr><tr><td class = \"rowNumber\" style = \"font-weight: bold; text-align: right;\">2</td><td style = \"text-align: left;\">G2_7402362</td><td style = \"text-align: left;\">G1_801698</td><td style = \"text-align: left;\">G1_802693</td></tr><tr><td class = \"rowNumber\" style = \"font-weight: bold; text-align: right;\">3</td><td style = \"text-align: left;\">G2_7402364</td><td style = \"text-align: left;\">G1_801698</td><td style = \"text-align: left;\">G1_802693</td></tr><tr><td class = \"rowNumber\" style = \"font-weight: bold; text-align: right;\">4</td><td style = \"text-align: left;\">G2_7091741</td><td style = \"text-align: left;\">G1_801698</td><td style = \"text-align: left;\">G1_802693</td></tr><tr><td class = \"rowNumber\" style = \"font-weight: bold; text-align: right;\">5</td><td style = \"text-align: left;\">G2_7801036</td><td style = \"text-align: left;\">G1_801698</td><td style = \"text-align: left;\">G1_802693</td></tr><tr><td class = \"rowNumber\" style = \"font-weight: bold; text-align: right;\">6</td><td style = \"text-align: left;\">G2_7801017</td><td style = \"text-align: left;\">G1_801698</td><td style = \"text-align: left;\">G1_802693</td></tr><tr><td class = \"rowNumber\" style = \"font-weight: bold; text-align: right;\">7</td><td style = \"text-align: left;\">G2_7800889</td><td style = \"text-align: left;\">G1_801698</td><td style = \"text-align: left;\">G1_802693</td></tr><tr><td class = \"rowNumber\" style = \"font-weight: bold; text-align: right;\">8</td><td style = \"text-align: left;\">G2_7402310</td><td style = \"text-align: left;\">G1_801698</td><td style = \"text-align: left;\">G1_802693</td></tr><tr><td class = \"rowNumber\" style = \"font-weight: bold; text-align: right;\">9</td><td style = \"text-align: left;\">G2_7091778</td><td style = \"text-align: left;\">G1_801698</td><td style = \"text-align: left;\">G1_802693</td></tr><tr><td class = \"rowNumber\" style = \"font-weight: bold; text-align: right;\">10</td><td style = \"text-align: left;\">G2_7801284</td><td style = \"text-align: left;\">G1_801698</td><td style = \"text-align: left;\">G1_802693</td></tr><tr><td class = \"rowNumber\" style = \"font-weight: bold; text-align: right;\">11</td><td style = \"text-align: left;\">G2_7402429</td><td style = \"text-align: left;\">G1_801698</td><td style = \"text-align: left;\">G1_802693</td></tr><tr><td class = \"rowNumber\" style = \"font-weight: bold; text-align: right;\">12</td><td style = \"text-align: left;\">G2_7402448</td><td style = \"text-align: left;\">G1_801698</td><td style = \"text-align: left;\">G1_802693</td></tr><tr><td class = \"rowNumber\" style = \"font-weight: bold; text-align: right;\">13</td><td style = \"text-align: left;\">G2_7091757</td><td style = \"text-align: left;\">G1_801698</td><td style = \"text-align: left;\">G1_802693</td></tr><tr><td style = \"text-align: right;\">&vellip;</td><td style = \"text-align: right;\">&vellip;</td><td style = \"text-align: right;\">&vellip;</td><td style = \"text-align: right;\">&vellip;</td></tr><tr><td class = \"rowNumber\" style = \"font-weight: bold; text-align: right;\">39</td><td style = \"text-align: left;\">G2_430655</td><td style = \"text-align: left;\">G1_823196</td><td style = \"text-align: left;\">G1_822979</td></tr><tr><td class = \"rowNumber\" style = \"font-weight: bold; text-align: right;\">40</td><td style = \"text-align: left;\">G2_425625</td><td style = \"text-align: left;\">G1_823196</td><td style = \"text-align: left;\">G1_822979</td></tr><tr><td class = \"rowNumber\" style = \"font-weight: bold; text-align: right;\">41</td><td style = \"text-align: left;\">G2_430896</td><td style = \"text-align: left;\">G1_823196</td><td style = \"text-align: left;\">G1_822979</td></tr><tr><td class = \"rowNumber\" style = \"font-weight: bold; text-align: right;\">42</td><td style = \"text-align: left;\">G2_430298</td><td style = \"text-align: left;\">G1_823196</td><td style = \"text-align: left;\">G1_822979</td></tr><tr><td class = \"rowNumber\" style = \"font-weight: bold; text-align: right;\">43</td><td style = \"text-align: left;\">G2_430365</td><td style = \"text-align: left;\">G1_823196</td><td style = \"text-align: left;\">G1_822979</td></tr><tr><td class = \"rowNumber\" style = \"font-weight: bold; text-align: right;\">44</td><td style = \"text-align: left;\">G2_426096</td><td style = \"text-align: left;\">G1_823196</td><td style = \"text-align: left;\">G1_822979</td></tr><tr><td class = \"rowNumber\" style = \"font-weight: bold; text-align: right;\">45</td><td style = \"text-align: left;\">G2_425704</td><td style = \"text-align: left;\">G1_823196</td><td style = \"text-align: left;\">G1_299593</td></tr><tr><td class = \"rowNumber\" style = \"font-weight: bold; text-align: right;\">46</td><td style = \"text-align: left;\">G2_431299</td><td style = \"text-align: left;\">G1_823196</td><td style = \"text-align: left;\">G1_299593</td></tr><tr><td class = \"rowNumber\" style = \"font-weight: bold; text-align: right;\">47</td><td style = \"text-align: left;\">G2_430923</td><td style = \"text-align: left;\">G1_823196</td><td style = \"text-align: left;\">G1_299593</td></tr><tr><td class = \"rowNumber\" style = \"font-weight: bold; text-align: right;\">48</td><td style = \"text-align: left;\">G2_430909</td><td style = \"text-align: left;\">G1_823196</td><td style = \"text-align: left;\">G1_299593</td></tr><tr><td class = \"rowNumber\" style = \"font-weight: bold; text-align: right;\">49</td><td style = \"text-align: left;\">G2_425812</td><td style = \"text-align: left;\">G1_823196</td><td style = \"text-align: left;\">G1_299593</td></tr><tr><td class = \"rowNumber\" style = \"font-weight: bold; text-align: right;\">50</td><td style = \"text-align: left;\">G2_430452</td><td style = \"text-align: left;\">G1_823196</td><td style = \"text-align: left;\">G1_299593</td></tr></tbody></table></div>"
      ],
      "text/latex": [
       "\\begin{tabular}{r|ccc}\n",
       "\t& Id & Sire & Dam\\\\\n",
       "\t\\hline\n",
       "\t& String15 & String15 & String15\\\\\n",
       "\t\\hline\n",
       "\t1 & G2\\_7402413 & G1\\_801698 & G1\\_802693 \\\\\n",
       "\t2 & G2\\_7402362 & G1\\_801698 & G1\\_802693 \\\\\n",
       "\t3 & G2\\_7402364 & G1\\_801698 & G1\\_802693 \\\\\n",
       "\t4 & G2\\_7091741 & G1\\_801698 & G1\\_802693 \\\\\n",
       "\t5 & G2\\_7801036 & G1\\_801698 & G1\\_802693 \\\\\n",
       "\t6 & G2\\_7801017 & G1\\_801698 & G1\\_802693 \\\\\n",
       "\t7 & G2\\_7800889 & G1\\_801698 & G1\\_802693 \\\\\n",
       "\t8 & G2\\_7402310 & G1\\_801698 & G1\\_802693 \\\\\n",
       "\t9 & G2\\_7091778 & G1\\_801698 & G1\\_802693 \\\\\n",
       "\t10 & G2\\_7801284 & G1\\_801698 & G1\\_802693 \\\\\n",
       "\t11 & G2\\_7402429 & G1\\_801698 & G1\\_802693 \\\\\n",
       "\t12 & G2\\_7402448 & G1\\_801698 & G1\\_802693 \\\\\n",
       "\t13 & G2\\_7091757 & G1\\_801698 & G1\\_802693 \\\\\n",
       "\t14 & G2\\_7801127 & G1\\_801698 & G1\\_802693 \\\\\n",
       "\t15 & G2\\_431966 & G1\\_823196 & G1\\_822979 \\\\\n",
       "\t16 & G2\\_426161 & G1\\_823196 & G1\\_822979 \\\\\n",
       "\t17 & G2\\_424643 & G1\\_823196 & G1\\_822979 \\\\\n",
       "\t18 & G2\\_431593 & G1\\_823196 & G1\\_822979 \\\\\n",
       "\t19 & G2\\_430484 & G1\\_823196 & G1\\_822979 \\\\\n",
       "\t20 & G2\\_424281 & G1\\_823196 & G1\\_822979 \\\\\n",
       "\t21 & G2\\_425664 & G1\\_823196 & G1\\_822979 \\\\\n",
       "\t22 & G2\\_425244 & G1\\_823196 & G1\\_822979 \\\\\n",
       "\t23 & G2\\_425092 & G1\\_823196 & G1\\_822979 \\\\\n",
       "\t24 & G2\\_430251 & G1\\_823196 & G1\\_822979 \\\\\n",
       "\t$\\dots$ & $\\dots$ & $\\dots$ & $\\dots$ \\\\\n",
       "\\end{tabular}\n"
      ],
      "text/plain": [
       "\u001b[1m50×3 DataFrame\u001b[0m\n",
       "\u001b[1m Row \u001b[0m│\u001b[1m Id         \u001b[0m\u001b[1m Sire      \u001b[0m\u001b[1m Dam       \u001b[0m\n",
       "     │\u001b[90m String15   \u001b[0m\u001b[90m String15  \u001b[0m\u001b[90m String15  \u001b[0m\n",
       "─────┼──────────────────────────────────\n",
       "   1 │ G2_7402413  G1_801698  G1_802693\n",
       "   2 │ G2_7402362  G1_801698  G1_802693\n",
       "   3 │ G2_7402364  G1_801698  G1_802693\n",
       "   4 │ G2_7091741  G1_801698  G1_802693\n",
       "   5 │ G2_7801036  G1_801698  G1_802693\n",
       "   6 │ G2_7801017  G1_801698  G1_802693\n",
       "   7 │ G2_7800889  G1_801698  G1_802693\n",
       "   8 │ G2_7402310  G1_801698  G1_802693\n",
       "  ⋮  │     ⋮           ⋮          ⋮\n",
       "  44 │ G2_426096   G1_823196  G1_822979\n",
       "  45 │ G2_425704   G1_823196  G1_299593\n",
       "  46 │ G2_431299   G1_823196  G1_299593\n",
       "  47 │ G2_430923   G1_823196  G1_299593\n",
       "  48 │ G2_430909   G1_823196  G1_299593\n",
       "  49 │ G2_425812   G1_823196  G1_299593\n",
       "  50 │ G2_430452   G1_823196  G1_299593\n",
       "\u001b[36m                         35 rows omitted\u001b[0m"
      ]
     },
     "metadata": {},
     "output_type": "display_data"
    }
   ],
   "source": [
    "ped_2 = CSV.read(\"pedigree_2.txt\", DataFrame)"
   ]
  },
  {
   "cell_type": "markdown",
   "metadata": {},
   "source": [
    "Will append the new dataframe to the first one. Will first create a copy."
   ]
  },
  {
   "cell_type": "code",
   "execution_count": 49,
   "metadata": {},
   "outputs": [
    {
     "data": {
      "text/html": [
       "<div><div style = \"float: left;\"><span>50×3 DataFrame</span></div><div style = \"float: right;\"><span style = \"font-style: italic;\">25 rows omitted</span></div><div style = \"clear: both;\"></div></div><div class = \"data-frame\" style = \"overflow-x: scroll;\"><table class = \"data-frame\" style = \"margin-bottom: 6px;\"><thead><tr class = \"header\"><th class = \"rowNumber\" style = \"font-weight: bold; text-align: right;\">Row</th><th style = \"text-align: left;\">Id</th><th style = \"text-align: left;\">Sire</th><th style = \"text-align: left;\">Dam</th></tr><tr class = \"subheader headerLastRow\"><th class = \"rowNumber\" style = \"font-weight: bold; text-align: right;\"></th><th title = \"String15\" style = \"text-align: left;\">String15</th><th title = \"String15\" style = \"text-align: left;\">String15</th><th title = \"String15\" style = \"text-align: left;\">String15</th></tr></thead><tbody><tr><td class = \"rowNumber\" style = \"font-weight: bold; text-align: right;\">1</td><td style = \"text-align: left;\">G2_431872</td><td style = \"text-align: left;\">G1_801698</td><td style = \"text-align: left;\">G1_973614</td></tr><tr><td class = \"rowNumber\" style = \"font-weight: bold; text-align: right;\">2</td><td style = \"text-align: left;\">G2_432072</td><td style = \"text-align: left;\">G1_801698</td><td style = \"text-align: left;\">G1_973614</td></tr><tr><td class = \"rowNumber\" style = \"font-weight: bold; text-align: right;\">3</td><td style = \"text-align: left;\">G2_425484</td><td style = \"text-align: left;\">G1_801698</td><td style = \"text-align: left;\">G1_973614</td></tr><tr><td class = \"rowNumber\" style = \"font-weight: bold; text-align: right;\">4</td><td style = \"text-align: left;\">G2_426165</td><td style = \"text-align: left;\">G1_801698</td><td style = \"text-align: left;\">G1_973614</td></tr><tr><td class = \"rowNumber\" style = \"font-weight: bold; text-align: right;\">5</td><td style = \"text-align: left;\">G2_431334</td><td style = \"text-align: left;\">G1_801698</td><td style = \"text-align: left;\">G1_973614</td></tr><tr><td class = \"rowNumber\" style = \"font-weight: bold; text-align: right;\">6</td><td style = \"text-align: left;\">G2_425367</td><td style = \"text-align: left;\">G1_801698</td><td style = \"text-align: left;\">G1_973614</td></tr><tr><td class = \"rowNumber\" style = \"font-weight: bold; text-align: right;\">7</td><td style = \"text-align: left;\">G2_425503</td><td style = \"text-align: left;\">G1_801698</td><td style = \"text-align: left;\">G1_973614</td></tr><tr><td class = \"rowNumber\" style = \"font-weight: bold; text-align: right;\">8</td><td style = \"text-align: left;\">G2_430925</td><td style = \"text-align: left;\">G1_801698</td><td style = \"text-align: left;\">G1_973614</td></tr><tr><td class = \"rowNumber\" style = \"font-weight: bold; text-align: right;\">9</td><td style = \"text-align: left;\">G2_431214</td><td style = \"text-align: left;\">G1_801698</td><td style = \"text-align: left;\">G1_973614</td></tr><tr><td class = \"rowNumber\" style = \"font-weight: bold; text-align: right;\">10</td><td style = \"text-align: left;\">G2_425304</td><td style = \"text-align: left;\">G1_801698</td><td style = \"text-align: left;\">G1_973614</td></tr><tr><td class = \"rowNumber\" style = \"font-weight: bold; text-align: right;\">11</td><td style = \"text-align: left;\">G2_431658</td><td style = \"text-align: left;\">G1_801698</td><td style = \"text-align: left;\">G1_973614</td></tr><tr><td class = \"rowNumber\" style = \"font-weight: bold; text-align: right;\">12</td><td style = \"text-align: left;\">G2_426022</td><td style = \"text-align: left;\">G1_801698</td><td style = \"text-align: left;\">G1_973614</td></tr><tr><td class = \"rowNumber\" style = \"font-weight: bold; text-align: right;\">13</td><td style = \"text-align: left;\">G2_425556</td><td style = \"text-align: left;\">G1_801698</td><td style = \"text-align: left;\">G1_973614</td></tr><tr><td style = \"text-align: right;\">&vellip;</td><td style = \"text-align: right;\">&vellip;</td><td style = \"text-align: right;\">&vellip;</td><td style = \"text-align: right;\">&vellip;</td></tr><tr><td class = \"rowNumber\" style = \"font-weight: bold; text-align: right;\">39</td><td style = \"text-align: left;\">G2_7800956</td><td style = \"text-align: left;\">G1_801698</td><td style = \"text-align: left;\">G1_802693</td></tr><tr><td class = \"rowNumber\" style = \"font-weight: bold; text-align: right;\">40</td><td style = \"text-align: left;\">G2_7402261</td><td style = \"text-align: left;\">G1_801698</td><td style = \"text-align: left;\">G1_802693</td></tr><tr><td class = \"rowNumber\" style = \"font-weight: bold; text-align: right;\">41</td><td style = \"text-align: left;\">G2_7801038</td><td style = \"text-align: left;\">G1_801698</td><td style = \"text-align: left;\">G1_802693</td></tr><tr><td class = \"rowNumber\" style = \"font-weight: bold; text-align: right;\">42</td><td style = \"text-align: left;\">G2_7801156</td><td style = \"text-align: left;\">G1_801698</td><td style = \"text-align: left;\">G1_802693</td></tr><tr><td class = \"rowNumber\" style = \"font-weight: bold; text-align: right;\">43</td><td style = \"text-align: left;\">G2_7402296</td><td style = \"text-align: left;\">G1_801698</td><td style = \"text-align: left;\">G1_802693</td></tr><tr><td class = \"rowNumber\" style = \"font-weight: bold; text-align: right;\">44</td><td style = \"text-align: left;\">G2_7402294</td><td style = \"text-align: left;\">G1_801698</td><td style = \"text-align: left;\">G1_802693</td></tr><tr><td class = \"rowNumber\" style = \"font-weight: bold; text-align: right;\">45</td><td style = \"text-align: left;\">G2_7091777</td><td style = \"text-align: left;\">G1_801698</td><td style = \"text-align: left;\">G1_802693</td></tr><tr><td class = \"rowNumber\" style = \"font-weight: bold; text-align: right;\">46</td><td style = \"text-align: left;\">G2_7801132</td><td style = \"text-align: left;\">G1_801698</td><td style = \"text-align: left;\">G1_802693</td></tr><tr><td class = \"rowNumber\" style = \"font-weight: bold; text-align: right;\">47</td><td style = \"text-align: left;\">G2_7402413</td><td style = \"text-align: left;\">G1_801698</td><td style = \"text-align: left;\">G1_802693</td></tr><tr><td class = \"rowNumber\" style = \"font-weight: bold; text-align: right;\">48</td><td style = \"text-align: left;\">G2_7402362</td><td style = \"text-align: left;\">G1_801698</td><td style = \"text-align: left;\">G1_802693</td></tr><tr><td class = \"rowNumber\" style = \"font-weight: bold; text-align: right;\">49</td><td style = \"text-align: left;\">G2_7402364</td><td style = \"text-align: left;\">G1_801698</td><td style = \"text-align: left;\">G1_802693</td></tr><tr><td class = \"rowNumber\" style = \"font-weight: bold; text-align: right;\">50</td><td style = \"text-align: left;\">G2_7091741</td><td style = \"text-align: left;\">G1_801698</td><td style = \"text-align: left;\">G1_802693</td></tr></tbody></table></div>"
      ],
      "text/latex": [
       "\\begin{tabular}{r|ccc}\n",
       "\t& Id & Sire & Dam\\\\\n",
       "\t\\hline\n",
       "\t& String15 & String15 & String15\\\\\n",
       "\t\\hline\n",
       "\t1 & G2\\_431872 & G1\\_801698 & G1\\_973614 \\\\\n",
       "\t2 & G2\\_432072 & G1\\_801698 & G1\\_973614 \\\\\n",
       "\t3 & G2\\_425484 & G1\\_801698 & G1\\_973614 \\\\\n",
       "\t4 & G2\\_426165 & G1\\_801698 & G1\\_973614 \\\\\n",
       "\t5 & G2\\_431334 & G1\\_801698 & G1\\_973614 \\\\\n",
       "\t6 & G2\\_425367 & G1\\_801698 & G1\\_973614 \\\\\n",
       "\t7 & G2\\_425503 & G1\\_801698 & G1\\_973614 \\\\\n",
       "\t8 & G2\\_430925 & G1\\_801698 & G1\\_973614 \\\\\n",
       "\t9 & G2\\_431214 & G1\\_801698 & G1\\_973614 \\\\\n",
       "\t10 & G2\\_425304 & G1\\_801698 & G1\\_973614 \\\\\n",
       "\t11 & G2\\_431658 & G1\\_801698 & G1\\_973614 \\\\\n",
       "\t12 & G2\\_426022 & G1\\_801698 & G1\\_973614 \\\\\n",
       "\t13 & G2\\_425556 & G1\\_801698 & G1\\_973614 \\\\\n",
       "\t14 & G2\\_425064 & G1\\_801698 & G1\\_973614 \\\\\n",
       "\t15 & G2\\_431112 & G1\\_801698 & G1\\_973614 \\\\\n",
       "\t16 & G2\\_425024 & G1\\_801698 & G1\\_973614 \\\\\n",
       "\t17 & G2\\_7800873 & G1\\_801698 & G1\\_973614 \\\\\n",
       "\t18 & G2\\_7801208 & G1\\_801698 & G1\\_973614 \\\\\n",
       "\t19 & G2\\_7091787 & G1\\_801698 & G1\\_973614 \\\\\n",
       "\t20 & G2\\_7091747 & G1\\_801698 & G1\\_973614 \\\\\n",
       "\t21 & G2\\_7801035 & G1\\_801698 & G1\\_973614 \\\\\n",
       "\t22 & G2\\_7402382 & G1\\_801698 & G1\\_973614 \\\\\n",
       "\t23 & G2\\_7801243 & G1\\_801698 & G1\\_973614 \\\\\n",
       "\t24 & G2\\_7402431 & G1\\_801698 & G1\\_973614 \\\\\n",
       "\t$\\dots$ & $\\dots$ & $\\dots$ & $\\dots$ \\\\\n",
       "\\end{tabular}\n"
      ],
      "text/plain": [
       "\u001b[1m50×3 DataFrame\u001b[0m\n",
       "\u001b[1m Row \u001b[0m│\u001b[1m Id         \u001b[0m\u001b[1m Sire      \u001b[0m\u001b[1m Dam       \u001b[0m\n",
       "     │\u001b[90m String15   \u001b[0m\u001b[90m String15  \u001b[0m\u001b[90m String15  \u001b[0m\n",
       "─────┼──────────────────────────────────\n",
       "   1 │ G2_431872   G1_801698  G1_973614\n",
       "   2 │ G2_432072   G1_801698  G1_973614\n",
       "   3 │ G2_425484   G1_801698  G1_973614\n",
       "   4 │ G2_426165   G1_801698  G1_973614\n",
       "   5 │ G2_431334   G1_801698  G1_973614\n",
       "   6 │ G2_425367   G1_801698  G1_973614\n",
       "   7 │ G2_425503   G1_801698  G1_973614\n",
       "   8 │ G2_430925   G1_801698  G1_973614\n",
       "  ⋮  │     ⋮           ⋮          ⋮\n",
       "  44 │ G2_7402294  G1_801698  G1_802693\n",
       "  45 │ G2_7091777  G1_801698  G1_802693\n",
       "  46 │ G2_7801132  G1_801698  G1_802693\n",
       "  47 │ G2_7402413  G1_801698  G1_802693\n",
       "  48 │ G2_7402362  G1_801698  G1_802693\n",
       "  49 │ G2_7402364  G1_801698  G1_802693\n",
       "  50 │ G2_7091741  G1_801698  G1_802693\n",
       "\u001b[36m                         35 rows omitted\u001b[0m"
      ]
     },
     "metadata": {},
     "output_type": "display_data"
    }
   ],
   "source": [
    "ped_copy = copy(ped_1)"
   ]
  },
  {
   "cell_type": "code",
   "execution_count": 50,
   "metadata": {},
   "outputs": [
    {
     "data": {
      "text/html": [
       "<div><div style = \"float: left;\"><span>100×3 DataFrame</span></div><div style = \"float: right;\"><span style = \"font-style: italic;\">75 rows omitted</span></div><div style = \"clear: both;\"></div></div><div class = \"data-frame\" style = \"overflow-x: scroll;\"><table class = \"data-frame\" style = \"margin-bottom: 6px;\"><thead><tr class = \"header\"><th class = \"rowNumber\" style = \"font-weight: bold; text-align: right;\">Row</th><th style = \"text-align: left;\">Id</th><th style = \"text-align: left;\">Sire</th><th style = \"text-align: left;\">Dam</th></tr><tr class = \"subheader headerLastRow\"><th class = \"rowNumber\" style = \"font-weight: bold; text-align: right;\"></th><th title = \"String15\" style = \"text-align: left;\">String15</th><th title = \"String15\" style = \"text-align: left;\">String15</th><th title = \"String15\" style = \"text-align: left;\">String15</th></tr></thead><tbody><tr><td class = \"rowNumber\" style = \"font-weight: bold; text-align: right;\">1</td><td style = \"text-align: left;\">G2_431872</td><td style = \"text-align: left;\">G1_801698</td><td style = \"text-align: left;\">G1_973614</td></tr><tr><td class = \"rowNumber\" style = \"font-weight: bold; text-align: right;\">2</td><td style = \"text-align: left;\">G2_432072</td><td style = \"text-align: left;\">G1_801698</td><td style = \"text-align: left;\">G1_973614</td></tr><tr><td class = \"rowNumber\" style = \"font-weight: bold; text-align: right;\">3</td><td style = \"text-align: left;\">G2_425484</td><td style = \"text-align: left;\">G1_801698</td><td style = \"text-align: left;\">G1_973614</td></tr><tr><td class = \"rowNumber\" style = \"font-weight: bold; text-align: right;\">4</td><td style = \"text-align: left;\">G2_426165</td><td style = \"text-align: left;\">G1_801698</td><td style = \"text-align: left;\">G1_973614</td></tr><tr><td class = \"rowNumber\" style = \"font-weight: bold; text-align: right;\">5</td><td style = \"text-align: left;\">G2_431334</td><td style = \"text-align: left;\">G1_801698</td><td style = \"text-align: left;\">G1_973614</td></tr><tr><td class = \"rowNumber\" style = \"font-weight: bold; text-align: right;\">6</td><td style = \"text-align: left;\">G2_425367</td><td style = \"text-align: left;\">G1_801698</td><td style = \"text-align: left;\">G1_973614</td></tr><tr><td class = \"rowNumber\" style = \"font-weight: bold; text-align: right;\">7</td><td style = \"text-align: left;\">G2_425503</td><td style = \"text-align: left;\">G1_801698</td><td style = \"text-align: left;\">G1_973614</td></tr><tr><td class = \"rowNumber\" style = \"font-weight: bold; text-align: right;\">8</td><td style = \"text-align: left;\">G2_430925</td><td style = \"text-align: left;\">G1_801698</td><td style = \"text-align: left;\">G1_973614</td></tr><tr><td class = \"rowNumber\" style = \"font-weight: bold; text-align: right;\">9</td><td style = \"text-align: left;\">G2_431214</td><td style = \"text-align: left;\">G1_801698</td><td style = \"text-align: left;\">G1_973614</td></tr><tr><td class = \"rowNumber\" style = \"font-weight: bold; text-align: right;\">10</td><td style = \"text-align: left;\">G2_425304</td><td style = \"text-align: left;\">G1_801698</td><td style = \"text-align: left;\">G1_973614</td></tr><tr><td class = \"rowNumber\" style = \"font-weight: bold; text-align: right;\">11</td><td style = \"text-align: left;\">G2_431658</td><td style = \"text-align: left;\">G1_801698</td><td style = \"text-align: left;\">G1_973614</td></tr><tr><td class = \"rowNumber\" style = \"font-weight: bold; text-align: right;\">12</td><td style = \"text-align: left;\">G2_426022</td><td style = \"text-align: left;\">G1_801698</td><td style = \"text-align: left;\">G1_973614</td></tr><tr><td class = \"rowNumber\" style = \"font-weight: bold; text-align: right;\">13</td><td style = \"text-align: left;\">G2_425556</td><td style = \"text-align: left;\">G1_801698</td><td style = \"text-align: left;\">G1_973614</td></tr><tr><td style = \"text-align: right;\">&vellip;</td><td style = \"text-align: right;\">&vellip;</td><td style = \"text-align: right;\">&vellip;</td><td style = \"text-align: right;\">&vellip;</td></tr><tr><td class = \"rowNumber\" style = \"font-weight: bold; text-align: right;\">89</td><td style = \"text-align: left;\">G2_430655</td><td style = \"text-align: left;\">G1_823196</td><td style = \"text-align: left;\">G1_822979</td></tr><tr><td class = \"rowNumber\" style = \"font-weight: bold; text-align: right;\">90</td><td style = \"text-align: left;\">G2_425625</td><td style = \"text-align: left;\">G1_823196</td><td style = \"text-align: left;\">G1_822979</td></tr><tr><td class = \"rowNumber\" style = \"font-weight: bold; text-align: right;\">91</td><td style = \"text-align: left;\">G2_430896</td><td style = \"text-align: left;\">G1_823196</td><td style = \"text-align: left;\">G1_822979</td></tr><tr><td class = \"rowNumber\" style = \"font-weight: bold; text-align: right;\">92</td><td style = \"text-align: left;\">G2_430298</td><td style = \"text-align: left;\">G1_823196</td><td style = \"text-align: left;\">G1_822979</td></tr><tr><td class = \"rowNumber\" style = \"font-weight: bold; text-align: right;\">93</td><td style = \"text-align: left;\">G2_430365</td><td style = \"text-align: left;\">G1_823196</td><td style = \"text-align: left;\">G1_822979</td></tr><tr><td class = \"rowNumber\" style = \"font-weight: bold; text-align: right;\">94</td><td style = \"text-align: left;\">G2_426096</td><td style = \"text-align: left;\">G1_823196</td><td style = \"text-align: left;\">G1_822979</td></tr><tr><td class = \"rowNumber\" style = \"font-weight: bold; text-align: right;\">95</td><td style = \"text-align: left;\">G2_425704</td><td style = \"text-align: left;\">G1_823196</td><td style = \"text-align: left;\">G1_299593</td></tr><tr><td class = \"rowNumber\" style = \"font-weight: bold; text-align: right;\">96</td><td style = \"text-align: left;\">G2_431299</td><td style = \"text-align: left;\">G1_823196</td><td style = \"text-align: left;\">G1_299593</td></tr><tr><td class = \"rowNumber\" style = \"font-weight: bold; text-align: right;\">97</td><td style = \"text-align: left;\">G2_430923</td><td style = \"text-align: left;\">G1_823196</td><td style = \"text-align: left;\">G1_299593</td></tr><tr><td class = \"rowNumber\" style = \"font-weight: bold; text-align: right;\">98</td><td style = \"text-align: left;\">G2_430909</td><td style = \"text-align: left;\">G1_823196</td><td style = \"text-align: left;\">G1_299593</td></tr><tr><td class = \"rowNumber\" style = \"font-weight: bold; text-align: right;\">99</td><td style = \"text-align: left;\">G2_425812</td><td style = \"text-align: left;\">G1_823196</td><td style = \"text-align: left;\">G1_299593</td></tr><tr><td class = \"rowNumber\" style = \"font-weight: bold; text-align: right;\">100</td><td style = \"text-align: left;\">G2_430452</td><td style = \"text-align: left;\">G1_823196</td><td style = \"text-align: left;\">G1_299593</td></tr></tbody></table></div>"
      ],
      "text/latex": [
       "\\begin{tabular}{r|ccc}\n",
       "\t& Id & Sire & Dam\\\\\n",
       "\t\\hline\n",
       "\t& String15 & String15 & String15\\\\\n",
       "\t\\hline\n",
       "\t1 & G2\\_431872 & G1\\_801698 & G1\\_973614 \\\\\n",
       "\t2 & G2\\_432072 & G1\\_801698 & G1\\_973614 \\\\\n",
       "\t3 & G2\\_425484 & G1\\_801698 & G1\\_973614 \\\\\n",
       "\t4 & G2\\_426165 & G1\\_801698 & G1\\_973614 \\\\\n",
       "\t5 & G2\\_431334 & G1\\_801698 & G1\\_973614 \\\\\n",
       "\t6 & G2\\_425367 & G1\\_801698 & G1\\_973614 \\\\\n",
       "\t7 & G2\\_425503 & G1\\_801698 & G1\\_973614 \\\\\n",
       "\t8 & G2\\_430925 & G1\\_801698 & G1\\_973614 \\\\\n",
       "\t9 & G2\\_431214 & G1\\_801698 & G1\\_973614 \\\\\n",
       "\t10 & G2\\_425304 & G1\\_801698 & G1\\_973614 \\\\\n",
       "\t11 & G2\\_431658 & G1\\_801698 & G1\\_973614 \\\\\n",
       "\t12 & G2\\_426022 & G1\\_801698 & G1\\_973614 \\\\\n",
       "\t13 & G2\\_425556 & G1\\_801698 & G1\\_973614 \\\\\n",
       "\t14 & G2\\_425064 & G1\\_801698 & G1\\_973614 \\\\\n",
       "\t15 & G2\\_431112 & G1\\_801698 & G1\\_973614 \\\\\n",
       "\t16 & G2\\_425024 & G1\\_801698 & G1\\_973614 \\\\\n",
       "\t17 & G2\\_7800873 & G1\\_801698 & G1\\_973614 \\\\\n",
       "\t18 & G2\\_7801208 & G1\\_801698 & G1\\_973614 \\\\\n",
       "\t19 & G2\\_7091787 & G1\\_801698 & G1\\_973614 \\\\\n",
       "\t20 & G2\\_7091747 & G1\\_801698 & G1\\_973614 \\\\\n",
       "\t21 & G2\\_7801035 & G1\\_801698 & G1\\_973614 \\\\\n",
       "\t22 & G2\\_7402382 & G1\\_801698 & G1\\_973614 \\\\\n",
       "\t23 & G2\\_7801243 & G1\\_801698 & G1\\_973614 \\\\\n",
       "\t24 & G2\\_7402431 & G1\\_801698 & G1\\_973614 \\\\\n",
       "\t$\\dots$ & $\\dots$ & $\\dots$ & $\\dots$ \\\\\n",
       "\\end{tabular}\n"
      ],
      "text/plain": [
       "\u001b[1m100×3 DataFrame\u001b[0m\n",
       "\u001b[1m Row \u001b[0m│\u001b[1m Id        \u001b[0m\u001b[1m Sire      \u001b[0m\u001b[1m Dam       \u001b[0m\n",
       "     │\u001b[90m String15  \u001b[0m\u001b[90m String15  \u001b[0m\u001b[90m String15  \u001b[0m\n",
       "─────┼─────────────────────────────────\n",
       "   1 │ G2_431872  G1_801698  G1_973614\n",
       "   2 │ G2_432072  G1_801698  G1_973614\n",
       "   3 │ G2_425484  G1_801698  G1_973614\n",
       "   4 │ G2_426165  G1_801698  G1_973614\n",
       "   5 │ G2_431334  G1_801698  G1_973614\n",
       "   6 │ G2_425367  G1_801698  G1_973614\n",
       "   7 │ G2_425503  G1_801698  G1_973614\n",
       "   8 │ G2_430925  G1_801698  G1_973614\n",
       "  ⋮  │     ⋮          ⋮          ⋮\n",
       "  94 │ G2_426096  G1_823196  G1_822979\n",
       "  95 │ G2_425704  G1_823196  G1_299593\n",
       "  96 │ G2_431299  G1_823196  G1_299593\n",
       "  97 │ G2_430923  G1_823196  G1_299593\n",
       "  98 │ G2_430909  G1_823196  G1_299593\n",
       "  99 │ G2_425812  G1_823196  G1_299593\n",
       " 100 │ G2_430452  G1_823196  G1_299593\n",
       "\u001b[36m                        85 rows omitted\u001b[0m"
      ]
     },
     "metadata": {},
     "output_type": "display_data"
    }
   ],
   "source": [
    "append!(ped_copy, ped_2)"
   ]
  },
  {
   "cell_type": "code",
   "execution_count": 61,
   "metadata": {},
   "outputs": [
    {
     "data": {
      "text/html": [
       "<div><div style = \"float: left;\"><span>50×3 DataFrame</span></div><div style = \"float: right;\"><span style = \"font-style: italic;\">25 rows omitted</span></div><div style = \"clear: both;\"></div></div><div class = \"data-frame\" style = \"overflow-x: scroll;\"><table class = \"data-frame\" style = \"margin-bottom: 6px;\"><thead><tr class = \"header\"><th class = \"rowNumber\" style = \"font-weight: bold; text-align: right;\">Row</th><th style = \"text-align: left;\">Id</th><th style = \"text-align: left;\">Sire</th><th style = \"text-align: left;\">Dam</th></tr><tr class = \"subheader headerLastRow\"><th class = \"rowNumber\" style = \"font-weight: bold; text-align: right;\"></th><th title = \"String15\" style = \"text-align: left;\">String15</th><th title = \"String15\" style = \"text-align: left;\">String15</th><th title = \"String15\" style = \"text-align: left;\">String15</th></tr></thead><tbody><tr><td class = \"rowNumber\" style = \"font-weight: bold; text-align: right;\">1</td><td style = \"text-align: left;\">G2_431872</td><td style = \"text-align: left;\">G1_801698</td><td style = \"text-align: left;\">G1_973614</td></tr><tr><td class = \"rowNumber\" style = \"font-weight: bold; text-align: right;\">2</td><td style = \"text-align: left;\">G2_432072</td><td style = \"text-align: left;\">G1_801698</td><td style = \"text-align: left;\">G1_973614</td></tr><tr><td class = \"rowNumber\" style = \"font-weight: bold; text-align: right;\">3</td><td style = \"text-align: left;\">G2_425484</td><td style = \"text-align: left;\">G1_801698</td><td style = \"text-align: left;\">G1_973614</td></tr><tr><td class = \"rowNumber\" style = \"font-weight: bold; text-align: right;\">4</td><td style = \"text-align: left;\">G2_426165</td><td style = \"text-align: left;\">G1_801698</td><td style = \"text-align: left;\">G1_973614</td></tr><tr><td class = \"rowNumber\" style = \"font-weight: bold; text-align: right;\">5</td><td style = \"text-align: left;\">G2_431334</td><td style = \"text-align: left;\">G1_801698</td><td style = \"text-align: left;\">G1_973614</td></tr><tr><td class = \"rowNumber\" style = \"font-weight: bold; text-align: right;\">6</td><td style = \"text-align: left;\">G2_425367</td><td style = \"text-align: left;\">G1_801698</td><td style = \"text-align: left;\">G1_973614</td></tr><tr><td class = \"rowNumber\" style = \"font-weight: bold; text-align: right;\">7</td><td style = \"text-align: left;\">G2_425503</td><td style = \"text-align: left;\">G1_801698</td><td style = \"text-align: left;\">G1_973614</td></tr><tr><td class = \"rowNumber\" style = \"font-weight: bold; text-align: right;\">8</td><td style = \"text-align: left;\">G2_430925</td><td style = \"text-align: left;\">G1_801698</td><td style = \"text-align: left;\">G1_973614</td></tr><tr><td class = \"rowNumber\" style = \"font-weight: bold; text-align: right;\">9</td><td style = \"text-align: left;\">G2_431214</td><td style = \"text-align: left;\">G1_801698</td><td style = \"text-align: left;\">G1_973614</td></tr><tr><td class = \"rowNumber\" style = \"font-weight: bold; text-align: right;\">10</td><td style = \"text-align: left;\">G2_425304</td><td style = \"text-align: left;\">G1_801698</td><td style = \"text-align: left;\">G1_973614</td></tr><tr><td class = \"rowNumber\" style = \"font-weight: bold; text-align: right;\">11</td><td style = \"text-align: left;\">G2_431658</td><td style = \"text-align: left;\">G1_801698</td><td style = \"text-align: left;\">G1_973614</td></tr><tr><td class = \"rowNumber\" style = \"font-weight: bold; text-align: right;\">12</td><td style = \"text-align: left;\">G2_426022</td><td style = \"text-align: left;\">G1_801698</td><td style = \"text-align: left;\">G1_973614</td></tr><tr><td class = \"rowNumber\" style = \"font-weight: bold; text-align: right;\">13</td><td style = \"text-align: left;\">G2_425556</td><td style = \"text-align: left;\">G1_801698</td><td style = \"text-align: left;\">G1_973614</td></tr><tr><td style = \"text-align: right;\">&vellip;</td><td style = \"text-align: right;\">&vellip;</td><td style = \"text-align: right;\">&vellip;</td><td style = \"text-align: right;\">&vellip;</td></tr><tr><td class = \"rowNumber\" style = \"font-weight: bold; text-align: right;\">39</td><td style = \"text-align: left;\">G2_7800956</td><td style = \"text-align: left;\">G1_801698</td><td style = \"text-align: left;\">G1_802693</td></tr><tr><td class = \"rowNumber\" style = \"font-weight: bold; text-align: right;\">40</td><td style = \"text-align: left;\">G2_7402261</td><td style = \"text-align: left;\">G1_801698</td><td style = \"text-align: left;\">G1_802693</td></tr><tr><td class = \"rowNumber\" style = \"font-weight: bold; text-align: right;\">41</td><td style = \"text-align: left;\">G2_7801038</td><td style = \"text-align: left;\">G1_801698</td><td style = \"text-align: left;\">G1_802693</td></tr><tr><td class = \"rowNumber\" style = \"font-weight: bold; text-align: right;\">42</td><td style = \"text-align: left;\">G2_7801156</td><td style = \"text-align: left;\">G1_801698</td><td style = \"text-align: left;\">G1_802693</td></tr><tr><td class = \"rowNumber\" style = \"font-weight: bold; text-align: right;\">43</td><td style = \"text-align: left;\">G2_7402296</td><td style = \"text-align: left;\">G1_801698</td><td style = \"text-align: left;\">G1_802693</td></tr><tr><td class = \"rowNumber\" style = \"font-weight: bold; text-align: right;\">44</td><td style = \"text-align: left;\">G2_7402294</td><td style = \"text-align: left;\">G1_801698</td><td style = \"text-align: left;\">G1_802693</td></tr><tr><td class = \"rowNumber\" style = \"font-weight: bold; text-align: right;\">45</td><td style = \"text-align: left;\">G2_7091777</td><td style = \"text-align: left;\">G1_801698</td><td style = \"text-align: left;\">G1_802693</td></tr><tr><td class = \"rowNumber\" style = \"font-weight: bold; text-align: right;\">46</td><td style = \"text-align: left;\">G2_7801132</td><td style = \"text-align: left;\">G1_801698</td><td style = \"text-align: left;\">G1_802693</td></tr><tr><td class = \"rowNumber\" style = \"font-weight: bold; text-align: right;\">47</td><td style = \"text-align: left;\">G2_7402413</td><td style = \"text-align: left;\">G1_801698</td><td style = \"text-align: left;\">G1_802693</td></tr><tr><td class = \"rowNumber\" style = \"font-weight: bold; text-align: right;\">48</td><td style = \"text-align: left;\">G2_7402362</td><td style = \"text-align: left;\">G1_801698</td><td style = \"text-align: left;\">G1_802693</td></tr><tr><td class = \"rowNumber\" style = \"font-weight: bold; text-align: right;\">49</td><td style = \"text-align: left;\">G2_7402364</td><td style = \"text-align: left;\">G1_801698</td><td style = \"text-align: left;\">G1_802693</td></tr><tr><td class = \"rowNumber\" style = \"font-weight: bold; text-align: right;\">50</td><td style = \"text-align: left;\">G2_7091741</td><td style = \"text-align: left;\">G1_801698</td><td style = \"text-align: left;\">G1_802693</td></tr></tbody></table></div>"
      ],
      "text/latex": [
       "\\begin{tabular}{r|ccc}\n",
       "\t& Id & Sire & Dam\\\\\n",
       "\t\\hline\n",
       "\t& String15 & String15 & String15\\\\\n",
       "\t\\hline\n",
       "\t1 & G2\\_431872 & G1\\_801698 & G1\\_973614 \\\\\n",
       "\t2 & G2\\_432072 & G1\\_801698 & G1\\_973614 \\\\\n",
       "\t3 & G2\\_425484 & G1\\_801698 & G1\\_973614 \\\\\n",
       "\t4 & G2\\_426165 & G1\\_801698 & G1\\_973614 \\\\\n",
       "\t5 & G2\\_431334 & G1\\_801698 & G1\\_973614 \\\\\n",
       "\t6 & G2\\_425367 & G1\\_801698 & G1\\_973614 \\\\\n",
       "\t7 & G2\\_425503 & G1\\_801698 & G1\\_973614 \\\\\n",
       "\t8 & G2\\_430925 & G1\\_801698 & G1\\_973614 \\\\\n",
       "\t9 & G2\\_431214 & G1\\_801698 & G1\\_973614 \\\\\n",
       "\t10 & G2\\_425304 & G1\\_801698 & G1\\_973614 \\\\\n",
       "\t11 & G2\\_431658 & G1\\_801698 & G1\\_973614 \\\\\n",
       "\t12 & G2\\_426022 & G1\\_801698 & G1\\_973614 \\\\\n",
       "\t13 & G2\\_425556 & G1\\_801698 & G1\\_973614 \\\\\n",
       "\t14 & G2\\_425064 & G1\\_801698 & G1\\_973614 \\\\\n",
       "\t15 & G2\\_431112 & G1\\_801698 & G1\\_973614 \\\\\n",
       "\t16 & G2\\_425024 & G1\\_801698 & G1\\_973614 \\\\\n",
       "\t17 & G2\\_7800873 & G1\\_801698 & G1\\_973614 \\\\\n",
       "\t18 & G2\\_7801208 & G1\\_801698 & G1\\_973614 \\\\\n",
       "\t19 & G2\\_7091787 & G1\\_801698 & G1\\_973614 \\\\\n",
       "\t20 & G2\\_7091747 & G1\\_801698 & G1\\_973614 \\\\\n",
       "\t21 & G2\\_7801035 & G1\\_801698 & G1\\_973614 \\\\\n",
       "\t22 & G2\\_7402382 & G1\\_801698 & G1\\_973614 \\\\\n",
       "\t23 & G2\\_7801243 & G1\\_801698 & G1\\_973614 \\\\\n",
       "\t24 & G2\\_7402431 & G1\\_801698 & G1\\_973614 \\\\\n",
       "\t$\\dots$ & $\\dots$ & $\\dots$ & $\\dots$ \\\\\n",
       "\\end{tabular}\n"
      ],
      "text/plain": [
       "\u001b[1m50×3 DataFrame\u001b[0m\n",
       "\u001b[1m Row \u001b[0m│\u001b[1m Id         \u001b[0m\u001b[1m Sire      \u001b[0m\u001b[1m Dam       \u001b[0m\n",
       "     │\u001b[90m String15   \u001b[0m\u001b[90m String15  \u001b[0m\u001b[90m String15  \u001b[0m\n",
       "─────┼──────────────────────────────────\n",
       "   1 │ G2_431872   G1_801698  G1_973614\n",
       "   2 │ G2_432072   G1_801698  G1_973614\n",
       "   3 │ G2_425484   G1_801698  G1_973614\n",
       "   4 │ G2_426165   G1_801698  G1_973614\n",
       "   5 │ G2_431334   G1_801698  G1_973614\n",
       "   6 │ G2_425367   G1_801698  G1_973614\n",
       "   7 │ G2_425503   G1_801698  G1_973614\n",
       "   8 │ G2_430925   G1_801698  G1_973614\n",
       "  ⋮  │     ⋮           ⋮          ⋮\n",
       "  44 │ G2_7402294  G1_801698  G1_802693\n",
       "  45 │ G2_7091777  G1_801698  G1_802693\n",
       "  46 │ G2_7801132  G1_801698  G1_802693\n",
       "  47 │ G2_7402413  G1_801698  G1_802693\n",
       "  48 │ G2_7402362  G1_801698  G1_802693\n",
       "  49 │ G2_7402364  G1_801698  G1_802693\n",
       "  50 │ G2_7091741  G1_801698  G1_802693\n",
       "\u001b[36m                         35 rows omitted\u001b[0m"
      ]
     },
     "metadata": {},
     "output_type": "display_data"
    }
   ],
   "source": [
    "ped_new = copy(ped_1)"
   ]
  },
  {
   "cell_type": "code",
   "execution_count": 62,
   "metadata": {},
   "outputs": [
    {
     "data": {
      "text/html": [
       "<div><div style = \"float: left;\"><span>50×3 DataFrame</span></div><div style = \"float: right;\"><span style = \"font-style: italic;\">25 rows omitted</span></div><div style = \"clear: both;\"></div></div><div class = \"data-frame\" style = \"overflow-x: scroll;\"><table class = \"data-frame\" style = \"margin-bottom: 6px;\"><thead><tr class = \"header\"><th class = \"rowNumber\" style = \"font-weight: bold; text-align: right;\">Row</th><th style = \"text-align: left;\">Id_new</th><th style = \"text-align: left;\">Sire</th><th style = \"text-align: left;\">Dam</th></tr><tr class = \"subheader headerLastRow\"><th class = \"rowNumber\" style = \"font-weight: bold; text-align: right;\"></th><th title = \"String15\" style = \"text-align: left;\">String15</th><th title = \"String15\" style = \"text-align: left;\">String15</th><th title = \"String15\" style = \"text-align: left;\">String15</th></tr></thead><tbody><tr><td class = \"rowNumber\" style = \"font-weight: bold; text-align: right;\">1</td><td style = \"text-align: left;\">G2_431872</td><td style = \"text-align: left;\">G1_801698</td><td style = \"text-align: left;\">G1_973614</td></tr><tr><td class = \"rowNumber\" style = \"font-weight: bold; text-align: right;\">2</td><td style = \"text-align: left;\">G2_432072</td><td style = \"text-align: left;\">G1_801698</td><td style = \"text-align: left;\">G1_973614</td></tr><tr><td class = \"rowNumber\" style = \"font-weight: bold; text-align: right;\">3</td><td style = \"text-align: left;\">G2_425484</td><td style = \"text-align: left;\">G1_801698</td><td style = \"text-align: left;\">G1_973614</td></tr><tr><td class = \"rowNumber\" style = \"font-weight: bold; text-align: right;\">4</td><td style = \"text-align: left;\">G2_426165</td><td style = \"text-align: left;\">G1_801698</td><td style = \"text-align: left;\">G1_973614</td></tr><tr><td class = \"rowNumber\" style = \"font-weight: bold; text-align: right;\">5</td><td style = \"text-align: left;\">G2_431334</td><td style = \"text-align: left;\">G1_801698</td><td style = \"text-align: left;\">G1_973614</td></tr><tr><td class = \"rowNumber\" style = \"font-weight: bold; text-align: right;\">6</td><td style = \"text-align: left;\">G2_425367</td><td style = \"text-align: left;\">G1_801698</td><td style = \"text-align: left;\">G1_973614</td></tr><tr><td class = \"rowNumber\" style = \"font-weight: bold; text-align: right;\">7</td><td style = \"text-align: left;\">G2_425503</td><td style = \"text-align: left;\">G1_801698</td><td style = \"text-align: left;\">G1_973614</td></tr><tr><td class = \"rowNumber\" style = \"font-weight: bold; text-align: right;\">8</td><td style = \"text-align: left;\">G2_430925</td><td style = \"text-align: left;\">G1_801698</td><td style = \"text-align: left;\">G1_973614</td></tr><tr><td class = \"rowNumber\" style = \"font-weight: bold; text-align: right;\">9</td><td style = \"text-align: left;\">G2_431214</td><td style = \"text-align: left;\">G1_801698</td><td style = \"text-align: left;\">G1_973614</td></tr><tr><td class = \"rowNumber\" style = \"font-weight: bold; text-align: right;\">10</td><td style = \"text-align: left;\">G2_425304</td><td style = \"text-align: left;\">G1_801698</td><td style = \"text-align: left;\">G1_973614</td></tr><tr><td class = \"rowNumber\" style = \"font-weight: bold; text-align: right;\">11</td><td style = \"text-align: left;\">G2_431658</td><td style = \"text-align: left;\">G1_801698</td><td style = \"text-align: left;\">G1_973614</td></tr><tr><td class = \"rowNumber\" style = \"font-weight: bold; text-align: right;\">12</td><td style = \"text-align: left;\">G2_426022</td><td style = \"text-align: left;\">G1_801698</td><td style = \"text-align: left;\">G1_973614</td></tr><tr><td class = \"rowNumber\" style = \"font-weight: bold; text-align: right;\">13</td><td style = \"text-align: left;\">G2_425556</td><td style = \"text-align: left;\">G1_801698</td><td style = \"text-align: left;\">G1_973614</td></tr><tr><td style = \"text-align: right;\">&vellip;</td><td style = \"text-align: right;\">&vellip;</td><td style = \"text-align: right;\">&vellip;</td><td style = \"text-align: right;\">&vellip;</td></tr><tr><td class = \"rowNumber\" style = \"font-weight: bold; text-align: right;\">39</td><td style = \"text-align: left;\">G2_7800956</td><td style = \"text-align: left;\">G1_801698</td><td style = \"text-align: left;\">G1_802693</td></tr><tr><td class = \"rowNumber\" style = \"font-weight: bold; text-align: right;\">40</td><td style = \"text-align: left;\">G2_7402261</td><td style = \"text-align: left;\">G1_801698</td><td style = \"text-align: left;\">G1_802693</td></tr><tr><td class = \"rowNumber\" style = \"font-weight: bold; text-align: right;\">41</td><td style = \"text-align: left;\">G2_7801038</td><td style = \"text-align: left;\">G1_801698</td><td style = \"text-align: left;\">G1_802693</td></tr><tr><td class = \"rowNumber\" style = \"font-weight: bold; text-align: right;\">42</td><td style = \"text-align: left;\">G2_7801156</td><td style = \"text-align: left;\">G1_801698</td><td style = \"text-align: left;\">G1_802693</td></tr><tr><td class = \"rowNumber\" style = \"font-weight: bold; text-align: right;\">43</td><td style = \"text-align: left;\">G2_7402296</td><td style = \"text-align: left;\">G1_801698</td><td style = \"text-align: left;\">G1_802693</td></tr><tr><td class = \"rowNumber\" style = \"font-weight: bold; text-align: right;\">44</td><td style = \"text-align: left;\">G2_7402294</td><td style = \"text-align: left;\">G1_801698</td><td style = \"text-align: left;\">G1_802693</td></tr><tr><td class = \"rowNumber\" style = \"font-weight: bold; text-align: right;\">45</td><td style = \"text-align: left;\">G2_7091777</td><td style = \"text-align: left;\">G1_801698</td><td style = \"text-align: left;\">G1_802693</td></tr><tr><td class = \"rowNumber\" style = \"font-weight: bold; text-align: right;\">46</td><td style = \"text-align: left;\">G2_7801132</td><td style = \"text-align: left;\">G1_801698</td><td style = \"text-align: left;\">G1_802693</td></tr><tr><td class = \"rowNumber\" style = \"font-weight: bold; text-align: right;\">47</td><td style = \"text-align: left;\">G2_7402413</td><td style = \"text-align: left;\">G1_801698</td><td style = \"text-align: left;\">G1_802693</td></tr><tr><td class = \"rowNumber\" style = \"font-weight: bold; text-align: right;\">48</td><td style = \"text-align: left;\">G2_7402362</td><td style = \"text-align: left;\">G1_801698</td><td style = \"text-align: left;\">G1_802693</td></tr><tr><td class = \"rowNumber\" style = \"font-weight: bold; text-align: right;\">49</td><td style = \"text-align: left;\">G2_7402364</td><td style = \"text-align: left;\">G1_801698</td><td style = \"text-align: left;\">G1_802693</td></tr><tr><td class = \"rowNumber\" style = \"font-weight: bold; text-align: right;\">50</td><td style = \"text-align: left;\">G2_7091741</td><td style = \"text-align: left;\">G1_801698</td><td style = \"text-align: left;\">G1_802693</td></tr></tbody></table></div>"
      ],
      "text/latex": [
       "\\begin{tabular}{r|ccc}\n",
       "\t& Id\\_new & Sire & Dam\\\\\n",
       "\t\\hline\n",
       "\t& String15 & String15 & String15\\\\\n",
       "\t\\hline\n",
       "\t1 & G2\\_431872 & G1\\_801698 & G1\\_973614 \\\\\n",
       "\t2 & G2\\_432072 & G1\\_801698 & G1\\_973614 \\\\\n",
       "\t3 & G2\\_425484 & G1\\_801698 & G1\\_973614 \\\\\n",
       "\t4 & G2\\_426165 & G1\\_801698 & G1\\_973614 \\\\\n",
       "\t5 & G2\\_431334 & G1\\_801698 & G1\\_973614 \\\\\n",
       "\t6 & G2\\_425367 & G1\\_801698 & G1\\_973614 \\\\\n",
       "\t7 & G2\\_425503 & G1\\_801698 & G1\\_973614 \\\\\n",
       "\t8 & G2\\_430925 & G1\\_801698 & G1\\_973614 \\\\\n",
       "\t9 & G2\\_431214 & G1\\_801698 & G1\\_973614 \\\\\n",
       "\t10 & G2\\_425304 & G1\\_801698 & G1\\_973614 \\\\\n",
       "\t11 & G2\\_431658 & G1\\_801698 & G1\\_973614 \\\\\n",
       "\t12 & G2\\_426022 & G1\\_801698 & G1\\_973614 \\\\\n",
       "\t13 & G2\\_425556 & G1\\_801698 & G1\\_973614 \\\\\n",
       "\t14 & G2\\_425064 & G1\\_801698 & G1\\_973614 \\\\\n",
       "\t15 & G2\\_431112 & G1\\_801698 & G1\\_973614 \\\\\n",
       "\t16 & G2\\_425024 & G1\\_801698 & G1\\_973614 \\\\\n",
       "\t17 & G2\\_7800873 & G1\\_801698 & G1\\_973614 \\\\\n",
       "\t18 & G2\\_7801208 & G1\\_801698 & G1\\_973614 \\\\\n",
       "\t19 & G2\\_7091787 & G1\\_801698 & G1\\_973614 \\\\\n",
       "\t20 & G2\\_7091747 & G1\\_801698 & G1\\_973614 \\\\\n",
       "\t21 & G2\\_7801035 & G1\\_801698 & G1\\_973614 \\\\\n",
       "\t22 & G2\\_7402382 & G1\\_801698 & G1\\_973614 \\\\\n",
       "\t23 & G2\\_7801243 & G1\\_801698 & G1\\_973614 \\\\\n",
       "\t24 & G2\\_7402431 & G1\\_801698 & G1\\_973614 \\\\\n",
       "\t$\\dots$ & $\\dots$ & $\\dots$ & $\\dots$ \\\\\n",
       "\\end{tabular}\n"
      ],
      "text/plain": [
       "\u001b[1m50×3 DataFrame\u001b[0m\n",
       "\u001b[1m Row \u001b[0m│\u001b[1m Id_new     \u001b[0m\u001b[1m Sire      \u001b[0m\u001b[1m Dam       \u001b[0m\n",
       "     │\u001b[90m String15   \u001b[0m\u001b[90m String15  \u001b[0m\u001b[90m String15  \u001b[0m\n",
       "─────┼──────────────────────────────────\n",
       "   1 │ G2_431872   G1_801698  G1_973614\n",
       "   2 │ G2_432072   G1_801698  G1_973614\n",
       "   3 │ G2_425484   G1_801698  G1_973614\n",
       "   4 │ G2_426165   G1_801698  G1_973614\n",
       "   5 │ G2_431334   G1_801698  G1_973614\n",
       "   6 │ G2_425367   G1_801698  G1_973614\n",
       "   7 │ G2_425503   G1_801698  G1_973614\n",
       "   8 │ G2_430925   G1_801698  G1_973614\n",
       "  ⋮  │     ⋮           ⋮          ⋮\n",
       "  44 │ G2_7402294  G1_801698  G1_802693\n",
       "  45 │ G2_7091777  G1_801698  G1_802693\n",
       "  46 │ G2_7801132  G1_801698  G1_802693\n",
       "  47 │ G2_7402413  G1_801698  G1_802693\n",
       "  48 │ G2_7402362  G1_801698  G1_802693\n",
       "  49 │ G2_7402364  G1_801698  G1_802693\n",
       "  50 │ G2_7091741  G1_801698  G1_802693\n",
       "\u001b[36m                         35 rows omitted\u001b[0m"
      ]
     },
     "metadata": {},
     "output_type": "display_data"
    }
   ],
   "source": [
    "rename!(ped_new, \"Id\" => \"Id_new\")"
   ]
  },
  {
   "cell_type": "code",
   "execution_count": 59,
   "metadata": {},
   "outputs": [
    {
     "ename": "ArgumentError",
     "evalue": "ArgumentError: Column names :Id_new and :Id were found in only one of the passed data frames and `cols == :setequal`",
     "output_type": "error",
     "traceback": [
      "ArgumentError: Column names :Id_new and :Id were found in only one of the passed data frames and `cols == :setequal`\n",
      "\n",
      "Stacktrace:\n",
      " [1] _append_or_prepend!(df1::DataFrame, df2::DataFrame; cols::Symbol, promote::Bool, atend::Bool)\n",
      "   @ DataFrames ~/.julia/packages/DataFrames/kcA9R/src/dataframe/insertion.jl:275\n",
      " [2] _append_or_prepend!\n",
      "   @ ~/.julia/packages/DataFrames/kcA9R/src/dataframe/insertion.jl:239 [inlined]\n",
      " [3] append!(df1::DataFrame, df2::DataFrame)\n",
      "   @ DataFrames ~/.julia/packages/DataFrames/kcA9R/src/dataframe/insertion.jl:93\n",
      " [4] top-level scope\n",
      "   @ ~/Library/CloudStorage/OneDrive-Sverigeslantbruksuniversitet/Teaching/Julia_SLU/Teaching_material/Day3/jl_notebook_cell_df34fa98e69747e1a8f8a730347b8e2f_Y133sZmlsZQ==.jl:1"
     ]
    }
   ],
   "source": [
    "append!(ped_new,ped_2)"
   ]
  },
  {
   "cell_type": "code",
   "execution_count": 60,
   "metadata": {},
   "outputs": [
    {
     "ename": "ArgumentError",
     "evalue": "ArgumentError: column(s) Id are missing from argument(s) 1, and column(s) Id_new are missing from argument(s) 2",
     "output_type": "error",
     "traceback": [
      "ArgumentError: column(s) Id are missing from argument(s) 1, and column(s) Id_new are missing from argument(s) 2\n",
      "\n",
      "Stacktrace:\n",
      " [1] _vcat(dfs::Vector{AbstractDataFrame}; cols::Symbol)\n",
      "   @ DataFrames ~/.julia/packages/DataFrames/kcA9R/src/abstractdataframe/iteration.jl:809\n",
      " [2] _vcat\n",
      "   @ ~/.julia/packages/DataFrames/kcA9R/src/abstractdataframe/iteration.jl:764 [inlined]\n",
      " [3] reduce(::typeof(vcat), dfs::Tuple{DataFrame, DataFrame}; cols::Symbol, source::Nothing, init::DataFrame)\n",
      "   @ DataFrames ~/.julia/packages/DataFrames/kcA9R/src/abstractdataframe/iteration.jl:710\n",
      " [4] reduce\n",
      "   @ ~/.julia/packages/DataFrames/kcA9R/src/abstractdataframe/iteration.jl:694 [inlined]\n",
      " [5] vcat(::DataFrame, ::DataFrame)\n",
      "   @ DataFrames ~/.julia/packages/DataFrames/kcA9R/src/abstractdataframe/abstractdataframe.jl:1811\n",
      " [6] top-level scope\n",
      "   @ ~/Library/CloudStorage/OneDrive-Sverigeslantbruksuniversitet/Teaching/Julia_SLU/Teaching_material/Day3/jl_notebook_cell_df34fa98e69747e1a8f8a730347b8e2f_Y134sZmlsZQ==.jl:1"
     ]
    }
   ],
   "source": [
    "vcat(ped_new, ped_2)"
   ]
  },
  {
   "cell_type": "markdown",
   "metadata": {},
   "source": [
    "Now let's explore some more possibilies of adding data to a pre-existent dataframe."
   ]
  },
  {
   "cell_type": "code",
   "execution_count": 13,
   "metadata": {},
   "outputs": [
    {
     "data": {
      "text/html": [
       "<div><div style = \"float: left;\"><span>103×3 DataFrame</span></div><div style = \"float: right;\"><span style = \"font-style: italic;\">78 rows omitted</span></div><div style = \"clear: both;\"></div></div><div class = \"data-frame\" style = \"overflow-x: scroll;\"><table class = \"data-frame\" style = \"margin-bottom: 6px;\"><thead><tr class = \"header\"><th class = \"rowNumber\" style = \"font-weight: bold; text-align: right;\">Row</th><th style = \"text-align: left;\">Id</th><th style = \"text-align: left;\">Sire</th><th style = \"text-align: left;\">Dam</th></tr><tr class = \"subheader headerLastRow\"><th class = \"rowNumber\" style = \"font-weight: bold; text-align: right;\"></th><th title = \"String15\" style = \"text-align: left;\">String15</th><th title = \"String15\" style = \"text-align: left;\">String15</th><th title = \"String15\" style = \"text-align: left;\">String15</th></tr></thead><tbody><tr><td class = \"rowNumber\" style = \"font-weight: bold; text-align: right;\">1</td><td style = \"text-align: left;\">G2_431872</td><td style = \"text-align: left;\">G1_801698</td><td style = \"text-align: left;\">G1_973614</td></tr><tr><td class = \"rowNumber\" style = \"font-weight: bold; text-align: right;\">2</td><td style = \"text-align: left;\">G2_432072</td><td style = \"text-align: left;\">G1_801698</td><td style = \"text-align: left;\">G1_973614</td></tr><tr><td class = \"rowNumber\" style = \"font-weight: bold; text-align: right;\">3</td><td style = \"text-align: left;\">G2_425484</td><td style = \"text-align: left;\">G1_801698</td><td style = \"text-align: left;\">G1_973614</td></tr><tr><td class = \"rowNumber\" style = \"font-weight: bold; text-align: right;\">4</td><td style = \"text-align: left;\">G2_426165</td><td style = \"text-align: left;\">G1_801698</td><td style = \"text-align: left;\">G1_973614</td></tr><tr><td class = \"rowNumber\" style = \"font-weight: bold; text-align: right;\">5</td><td style = \"text-align: left;\">G2_431334</td><td style = \"text-align: left;\">G1_801698</td><td style = \"text-align: left;\">G1_973614</td></tr><tr><td class = \"rowNumber\" style = \"font-weight: bold; text-align: right;\">6</td><td style = \"text-align: left;\">G2_425367</td><td style = \"text-align: left;\">G1_801698</td><td style = \"text-align: left;\">G1_973614</td></tr><tr><td class = \"rowNumber\" style = \"font-weight: bold; text-align: right;\">7</td><td style = \"text-align: left;\">G2_425503</td><td style = \"text-align: left;\">G1_801698</td><td style = \"text-align: left;\">G1_973614</td></tr><tr><td class = \"rowNumber\" style = \"font-weight: bold; text-align: right;\">8</td><td style = \"text-align: left;\">G2_430925</td><td style = \"text-align: left;\">G1_801698</td><td style = \"text-align: left;\">G1_973614</td></tr><tr><td class = \"rowNumber\" style = \"font-weight: bold; text-align: right;\">9</td><td style = \"text-align: left;\">G2_431214</td><td style = \"text-align: left;\">G1_801698</td><td style = \"text-align: left;\">G1_973614</td></tr><tr><td class = \"rowNumber\" style = \"font-weight: bold; text-align: right;\">10</td><td style = \"text-align: left;\">G2_425304</td><td style = \"text-align: left;\">G1_801698</td><td style = \"text-align: left;\">G1_973614</td></tr><tr><td class = \"rowNumber\" style = \"font-weight: bold; text-align: right;\">11</td><td style = \"text-align: left;\">G2_431658</td><td style = \"text-align: left;\">G1_801698</td><td style = \"text-align: left;\">G1_973614</td></tr><tr><td class = \"rowNumber\" style = \"font-weight: bold; text-align: right;\">12</td><td style = \"text-align: left;\">G2_426022</td><td style = \"text-align: left;\">G1_801698</td><td style = \"text-align: left;\">G1_973614</td></tr><tr><td class = \"rowNumber\" style = \"font-weight: bold; text-align: right;\">13</td><td style = \"text-align: left;\">G2_425556</td><td style = \"text-align: left;\">G1_801698</td><td style = \"text-align: left;\">G1_973614</td></tr><tr><td style = \"text-align: right;\">&vellip;</td><td style = \"text-align: right;\">&vellip;</td><td style = \"text-align: right;\">&vellip;</td><td style = \"text-align: right;\">&vellip;</td></tr><tr><td class = \"rowNumber\" style = \"font-weight: bold; text-align: right;\">92</td><td style = \"text-align: left;\">G2_430655</td><td style = \"text-align: left;\">G1_823196</td><td style = \"text-align: left;\">G1_822979</td></tr><tr><td class = \"rowNumber\" style = \"font-weight: bold; text-align: right;\">93</td><td style = \"text-align: left;\">G2_425625</td><td style = \"text-align: left;\">G1_823196</td><td style = \"text-align: left;\">G1_822979</td></tr><tr><td class = \"rowNumber\" style = \"font-weight: bold; text-align: right;\">94</td><td style = \"text-align: left;\">G2_430896</td><td style = \"text-align: left;\">G1_823196</td><td style = \"text-align: left;\">G1_822979</td></tr><tr><td class = \"rowNumber\" style = \"font-weight: bold; text-align: right;\">95</td><td style = \"text-align: left;\">G2_430298</td><td style = \"text-align: left;\">G1_823196</td><td style = \"text-align: left;\">G1_822979</td></tr><tr><td class = \"rowNumber\" style = \"font-weight: bold; text-align: right;\">96</td><td style = \"text-align: left;\">G2_430365</td><td style = \"text-align: left;\">G1_823196</td><td style = \"text-align: left;\">G1_822979</td></tr><tr><td class = \"rowNumber\" style = \"font-weight: bold; text-align: right;\">97</td><td style = \"text-align: left;\">G2_426096</td><td style = \"text-align: left;\">G1_823196</td><td style = \"text-align: left;\">G1_822979</td></tr><tr><td class = \"rowNumber\" style = \"font-weight: bold; text-align: right;\">98</td><td style = \"text-align: left;\">G2_425704</td><td style = \"text-align: left;\">G1_823196</td><td style = \"text-align: left;\">G1_299593</td></tr><tr><td class = \"rowNumber\" style = \"font-weight: bold; text-align: right;\">99</td><td style = \"text-align: left;\">G2_431299</td><td style = \"text-align: left;\">G1_823196</td><td style = \"text-align: left;\">G1_299593</td></tr><tr><td class = \"rowNumber\" style = \"font-weight: bold; text-align: right;\">100</td><td style = \"text-align: left;\">G2_430923</td><td style = \"text-align: left;\">G1_823196</td><td style = \"text-align: left;\">G1_299593</td></tr><tr><td class = \"rowNumber\" style = \"font-weight: bold; text-align: right;\">101</td><td style = \"text-align: left;\">G2_430909</td><td style = \"text-align: left;\">G1_823196</td><td style = \"text-align: left;\">G1_299593</td></tr><tr><td class = \"rowNumber\" style = \"font-weight: bold; text-align: right;\">102</td><td style = \"text-align: left;\">G2_425812</td><td style = \"text-align: left;\">G1_823196</td><td style = \"text-align: left;\">G1_299593</td></tr><tr><td class = \"rowNumber\" style = \"font-weight: bold; text-align: right;\">103</td><td style = \"text-align: left;\">G2_430452</td><td style = \"text-align: left;\">G1_823196</td><td style = \"text-align: left;\">G1_299593</td></tr></tbody></table></div>"
      ],
      "text/latex": [
       "\\begin{tabular}{r|ccc}\n",
       "\t& Id & Sire & Dam\\\\\n",
       "\t\\hline\n",
       "\t& String15 & String15 & String15\\\\\n",
       "\t\\hline\n",
       "\t1 & G2\\_431872 & G1\\_801698 & G1\\_973614 \\\\\n",
       "\t2 & G2\\_432072 & G1\\_801698 & G1\\_973614 \\\\\n",
       "\t3 & G2\\_425484 & G1\\_801698 & G1\\_973614 \\\\\n",
       "\t4 & G2\\_426165 & G1\\_801698 & G1\\_973614 \\\\\n",
       "\t5 & G2\\_431334 & G1\\_801698 & G1\\_973614 \\\\\n",
       "\t6 & G2\\_425367 & G1\\_801698 & G1\\_973614 \\\\\n",
       "\t7 & G2\\_425503 & G1\\_801698 & G1\\_973614 \\\\\n",
       "\t8 & G2\\_430925 & G1\\_801698 & G1\\_973614 \\\\\n",
       "\t9 & G2\\_431214 & G1\\_801698 & G1\\_973614 \\\\\n",
       "\t10 & G2\\_425304 & G1\\_801698 & G1\\_973614 \\\\\n",
       "\t11 & G2\\_431658 & G1\\_801698 & G1\\_973614 \\\\\n",
       "\t12 & G2\\_426022 & G1\\_801698 & G1\\_973614 \\\\\n",
       "\t13 & G2\\_425556 & G1\\_801698 & G1\\_973614 \\\\\n",
       "\t14 & G2\\_425064 & G1\\_801698 & G1\\_973614 \\\\\n",
       "\t15 & G2\\_431112 & G1\\_801698 & G1\\_973614 \\\\\n",
       "\t16 & G2\\_425024 & G1\\_801698 & G1\\_973614 \\\\\n",
       "\t17 & G2\\_7800873 & G1\\_801698 & G1\\_973614 \\\\\n",
       "\t18 & G2\\_7801208 & G1\\_801698 & G1\\_973614 \\\\\n",
       "\t19 & G2\\_7091787 & G1\\_801698 & G1\\_973614 \\\\\n",
       "\t20 & G2\\_7091747 & G1\\_801698 & G1\\_973614 \\\\\n",
       "\t21 & G2\\_7801035 & G1\\_801698 & G1\\_973614 \\\\\n",
       "\t22 & G2\\_7402382 & G1\\_801698 & G1\\_973614 \\\\\n",
       "\t23 & G2\\_7801243 & G1\\_801698 & G1\\_973614 \\\\\n",
       "\t24 & G2\\_7402431 & G1\\_801698 & G1\\_973614 \\\\\n",
       "\t$\\dots$ & $\\dots$ & $\\dots$ & $\\dots$ \\\\\n",
       "\\end{tabular}\n"
      ],
      "text/plain": [
       "\u001b[1m103×3 DataFrame\u001b[0m\n",
       "\u001b[1m Row \u001b[0m│\u001b[1m Id        \u001b[0m\u001b[1m Sire      \u001b[0m\u001b[1m Dam       \u001b[0m\n",
       "     │\u001b[90m String15  \u001b[0m\u001b[90m String15  \u001b[0m\u001b[90m String15  \u001b[0m\n",
       "─────┼─────────────────────────────────\n",
       "   1 │ G2_431872  G1_801698  G1_973614\n",
       "   2 │ G2_432072  G1_801698  G1_973614\n",
       "   3 │ G2_425484  G1_801698  G1_973614\n",
       "   4 │ G2_426165  G1_801698  G1_973614\n",
       "   5 │ G2_431334  G1_801698  G1_973614\n",
       "   6 │ G2_425367  G1_801698  G1_973614\n",
       "   7 │ G2_425503  G1_801698  G1_973614\n",
       "   8 │ G2_430925  G1_801698  G1_973614\n",
       "  ⋮  │     ⋮          ⋮          ⋮\n",
       "  97 │ G2_426096  G1_823196  G1_822979\n",
       "  98 │ G2_425704  G1_823196  G1_299593\n",
       "  99 │ G2_431299  G1_823196  G1_299593\n",
       " 100 │ G2_430923  G1_823196  G1_299593\n",
       " 101 │ G2_430909  G1_823196  G1_299593\n",
       " 102 │ G2_425812  G1_823196  G1_299593\n",
       " 103 │ G2_430452  G1_823196  G1_299593\n",
       "\u001b[36m                        88 rows omitted\u001b[0m"
      ]
     },
     "metadata": {},
     "output_type": "display_data"
    }
   ],
   "source": [
    "vcat(ped_1,ped_2)"
   ]
  },
  {
   "cell_type": "markdown",
   "metadata": {},
   "source": [
    "Some times we might want to keep track from which dataframe each record originates."
   ]
  },
  {
   "cell_type": "code",
   "execution_count": 14,
   "metadata": {},
   "outputs": [
    {
     "data": {
      "text/html": [
       "<div><div style = \"float: left;\"><span>103×4 DataFrame</span></div><div style = \"float: right;\"><span style = \"font-style: italic;\">78 rows omitted</span></div><div style = \"clear: both;\"></div></div><div class = \"data-frame\" style = \"overflow-x: scroll;\"><table class = \"data-frame\" style = \"margin-bottom: 6px;\"><thead><tr class = \"header\"><th class = \"rowNumber\" style = \"font-weight: bold; text-align: right;\">Row</th><th style = \"text-align: left;\">Id</th><th style = \"text-align: left;\">Sire</th><th style = \"text-align: left;\">Dam</th><th style = \"text-align: left;\">Ped_Id</th></tr><tr class = \"subheader headerLastRow\"><th class = \"rowNumber\" style = \"font-weight: bold; text-align: right;\"></th><th title = \"String15\" style = \"text-align: left;\">String15</th><th title = \"String15\" style = \"text-align: left;\">String15</th><th title = \"String15\" style = \"text-align: left;\">String15</th><th title = \"Int64\" style = \"text-align: left;\">Int64</th></tr></thead><tbody><tr><td class = \"rowNumber\" style = \"font-weight: bold; text-align: right;\">1</td><td style = \"text-align: left;\">G2_431872</td><td style = \"text-align: left;\">G1_801698</td><td style = \"text-align: left;\">G1_973614</td><td style = \"text-align: right;\">1</td></tr><tr><td class = \"rowNumber\" style = \"font-weight: bold; text-align: right;\">2</td><td style = \"text-align: left;\">G2_432072</td><td style = \"text-align: left;\">G1_801698</td><td style = \"text-align: left;\">G1_973614</td><td style = \"text-align: right;\">1</td></tr><tr><td class = \"rowNumber\" style = \"font-weight: bold; text-align: right;\">3</td><td style = \"text-align: left;\">G2_425484</td><td style = \"text-align: left;\">G1_801698</td><td style = \"text-align: left;\">G1_973614</td><td style = \"text-align: right;\">1</td></tr><tr><td class = \"rowNumber\" style = \"font-weight: bold; text-align: right;\">4</td><td style = \"text-align: left;\">G2_426165</td><td style = \"text-align: left;\">G1_801698</td><td style = \"text-align: left;\">G1_973614</td><td style = \"text-align: right;\">1</td></tr><tr><td class = \"rowNumber\" style = \"font-weight: bold; text-align: right;\">5</td><td style = \"text-align: left;\">G2_431334</td><td style = \"text-align: left;\">G1_801698</td><td style = \"text-align: left;\">G1_973614</td><td style = \"text-align: right;\">1</td></tr><tr><td class = \"rowNumber\" style = \"font-weight: bold; text-align: right;\">6</td><td style = \"text-align: left;\">G2_425367</td><td style = \"text-align: left;\">G1_801698</td><td style = \"text-align: left;\">G1_973614</td><td style = \"text-align: right;\">1</td></tr><tr><td class = \"rowNumber\" style = \"font-weight: bold; text-align: right;\">7</td><td style = \"text-align: left;\">G2_425503</td><td style = \"text-align: left;\">G1_801698</td><td style = \"text-align: left;\">G1_973614</td><td style = \"text-align: right;\">1</td></tr><tr><td class = \"rowNumber\" style = \"font-weight: bold; text-align: right;\">8</td><td style = \"text-align: left;\">G2_430925</td><td style = \"text-align: left;\">G1_801698</td><td style = \"text-align: left;\">G1_973614</td><td style = \"text-align: right;\">1</td></tr><tr><td class = \"rowNumber\" style = \"font-weight: bold; text-align: right;\">9</td><td style = \"text-align: left;\">G2_431214</td><td style = \"text-align: left;\">G1_801698</td><td style = \"text-align: left;\">G1_973614</td><td style = \"text-align: right;\">1</td></tr><tr><td class = \"rowNumber\" style = \"font-weight: bold; text-align: right;\">10</td><td style = \"text-align: left;\">G2_425304</td><td style = \"text-align: left;\">G1_801698</td><td style = \"text-align: left;\">G1_973614</td><td style = \"text-align: right;\">1</td></tr><tr><td class = \"rowNumber\" style = \"font-weight: bold; text-align: right;\">11</td><td style = \"text-align: left;\">G2_431658</td><td style = \"text-align: left;\">G1_801698</td><td style = \"text-align: left;\">G1_973614</td><td style = \"text-align: right;\">1</td></tr><tr><td class = \"rowNumber\" style = \"font-weight: bold; text-align: right;\">12</td><td style = \"text-align: left;\">G2_426022</td><td style = \"text-align: left;\">G1_801698</td><td style = \"text-align: left;\">G1_973614</td><td style = \"text-align: right;\">1</td></tr><tr><td class = \"rowNumber\" style = \"font-weight: bold; text-align: right;\">13</td><td style = \"text-align: left;\">G2_425556</td><td style = \"text-align: left;\">G1_801698</td><td style = \"text-align: left;\">G1_973614</td><td style = \"text-align: right;\">1</td></tr><tr><td style = \"text-align: right;\">&vellip;</td><td style = \"text-align: right;\">&vellip;</td><td style = \"text-align: right;\">&vellip;</td><td style = \"text-align: right;\">&vellip;</td><td style = \"text-align: right;\">&vellip;</td></tr><tr><td class = \"rowNumber\" style = \"font-weight: bold; text-align: right;\">92</td><td style = \"text-align: left;\">G2_430655</td><td style = \"text-align: left;\">G1_823196</td><td style = \"text-align: left;\">G1_822979</td><td style = \"text-align: right;\">2</td></tr><tr><td class = \"rowNumber\" style = \"font-weight: bold; text-align: right;\">93</td><td style = \"text-align: left;\">G2_425625</td><td style = \"text-align: left;\">G1_823196</td><td style = \"text-align: left;\">G1_822979</td><td style = \"text-align: right;\">2</td></tr><tr><td class = \"rowNumber\" style = \"font-weight: bold; text-align: right;\">94</td><td style = \"text-align: left;\">G2_430896</td><td style = \"text-align: left;\">G1_823196</td><td style = \"text-align: left;\">G1_822979</td><td style = \"text-align: right;\">2</td></tr><tr><td class = \"rowNumber\" style = \"font-weight: bold; text-align: right;\">95</td><td style = \"text-align: left;\">G2_430298</td><td style = \"text-align: left;\">G1_823196</td><td style = \"text-align: left;\">G1_822979</td><td style = \"text-align: right;\">2</td></tr><tr><td class = \"rowNumber\" style = \"font-weight: bold; text-align: right;\">96</td><td style = \"text-align: left;\">G2_430365</td><td style = \"text-align: left;\">G1_823196</td><td style = \"text-align: left;\">G1_822979</td><td style = \"text-align: right;\">2</td></tr><tr><td class = \"rowNumber\" style = \"font-weight: bold; text-align: right;\">97</td><td style = \"text-align: left;\">G2_426096</td><td style = \"text-align: left;\">G1_823196</td><td style = \"text-align: left;\">G1_822979</td><td style = \"text-align: right;\">2</td></tr><tr><td class = \"rowNumber\" style = \"font-weight: bold; text-align: right;\">98</td><td style = \"text-align: left;\">G2_425704</td><td style = \"text-align: left;\">G1_823196</td><td style = \"text-align: left;\">G1_299593</td><td style = \"text-align: right;\">2</td></tr><tr><td class = \"rowNumber\" style = \"font-weight: bold; text-align: right;\">99</td><td style = \"text-align: left;\">G2_431299</td><td style = \"text-align: left;\">G1_823196</td><td style = \"text-align: left;\">G1_299593</td><td style = \"text-align: right;\">2</td></tr><tr><td class = \"rowNumber\" style = \"font-weight: bold; text-align: right;\">100</td><td style = \"text-align: left;\">G2_430923</td><td style = \"text-align: left;\">G1_823196</td><td style = \"text-align: left;\">G1_299593</td><td style = \"text-align: right;\">2</td></tr><tr><td class = \"rowNumber\" style = \"font-weight: bold; text-align: right;\">101</td><td style = \"text-align: left;\">G2_430909</td><td style = \"text-align: left;\">G1_823196</td><td style = \"text-align: left;\">G1_299593</td><td style = \"text-align: right;\">2</td></tr><tr><td class = \"rowNumber\" style = \"font-weight: bold; text-align: right;\">102</td><td style = \"text-align: left;\">G2_425812</td><td style = \"text-align: left;\">G1_823196</td><td style = \"text-align: left;\">G1_299593</td><td style = \"text-align: right;\">2</td></tr><tr><td class = \"rowNumber\" style = \"font-weight: bold; text-align: right;\">103</td><td style = \"text-align: left;\">G2_430452</td><td style = \"text-align: left;\">G1_823196</td><td style = \"text-align: left;\">G1_299593</td><td style = \"text-align: right;\">2</td></tr></tbody></table></div>"
      ],
      "text/latex": [
       "\\begin{tabular}{r|cccc}\n",
       "\t& Id & Sire & Dam & Ped\\_Id\\\\\n",
       "\t\\hline\n",
       "\t& String15 & String15 & String15 & Int64\\\\\n",
       "\t\\hline\n",
       "\t1 & G2\\_431872 & G1\\_801698 & G1\\_973614 & 1 \\\\\n",
       "\t2 & G2\\_432072 & G1\\_801698 & G1\\_973614 & 1 \\\\\n",
       "\t3 & G2\\_425484 & G1\\_801698 & G1\\_973614 & 1 \\\\\n",
       "\t4 & G2\\_426165 & G1\\_801698 & G1\\_973614 & 1 \\\\\n",
       "\t5 & G2\\_431334 & G1\\_801698 & G1\\_973614 & 1 \\\\\n",
       "\t6 & G2\\_425367 & G1\\_801698 & G1\\_973614 & 1 \\\\\n",
       "\t7 & G2\\_425503 & G1\\_801698 & G1\\_973614 & 1 \\\\\n",
       "\t8 & G2\\_430925 & G1\\_801698 & G1\\_973614 & 1 \\\\\n",
       "\t9 & G2\\_431214 & G1\\_801698 & G1\\_973614 & 1 \\\\\n",
       "\t10 & G2\\_425304 & G1\\_801698 & G1\\_973614 & 1 \\\\\n",
       "\t11 & G2\\_431658 & G1\\_801698 & G1\\_973614 & 1 \\\\\n",
       "\t12 & G2\\_426022 & G1\\_801698 & G1\\_973614 & 1 \\\\\n",
       "\t13 & G2\\_425556 & G1\\_801698 & G1\\_973614 & 1 \\\\\n",
       "\t14 & G2\\_425064 & G1\\_801698 & G1\\_973614 & 1 \\\\\n",
       "\t15 & G2\\_431112 & G1\\_801698 & G1\\_973614 & 1 \\\\\n",
       "\t16 & G2\\_425024 & G1\\_801698 & G1\\_973614 & 1 \\\\\n",
       "\t17 & G2\\_7800873 & G1\\_801698 & G1\\_973614 & 1 \\\\\n",
       "\t18 & G2\\_7801208 & G1\\_801698 & G1\\_973614 & 1 \\\\\n",
       "\t19 & G2\\_7091787 & G1\\_801698 & G1\\_973614 & 1 \\\\\n",
       "\t20 & G2\\_7091747 & G1\\_801698 & G1\\_973614 & 1 \\\\\n",
       "\t21 & G2\\_7801035 & G1\\_801698 & G1\\_973614 & 1 \\\\\n",
       "\t22 & G2\\_7402382 & G1\\_801698 & G1\\_973614 & 1 \\\\\n",
       "\t23 & G2\\_7801243 & G1\\_801698 & G1\\_973614 & 1 \\\\\n",
       "\t24 & G2\\_7402431 & G1\\_801698 & G1\\_973614 & 1 \\\\\n",
       "\t$\\dots$ & $\\dots$ & $\\dots$ & $\\dots$ & $\\dots$ \\\\\n",
       "\\end{tabular}\n"
      ],
      "text/plain": [
       "\u001b[1m103×4 DataFrame\u001b[0m\n",
       "\u001b[1m Row \u001b[0m│\u001b[1m Id        \u001b[0m\u001b[1m Sire      \u001b[0m\u001b[1m Dam       \u001b[0m\u001b[1m Ped_Id \u001b[0m\n",
       "     │\u001b[90m String15  \u001b[0m\u001b[90m String15  \u001b[0m\u001b[90m String15  \u001b[0m\u001b[90m Int64  \u001b[0m\n",
       "─────┼─────────────────────────────────────────\n",
       "   1 │ G2_431872  G1_801698  G1_973614       1\n",
       "   2 │ G2_432072  G1_801698  G1_973614       1\n",
       "   3 │ G2_425484  G1_801698  G1_973614       1\n",
       "   4 │ G2_426165  G1_801698  G1_973614       1\n",
       "   5 │ G2_431334  G1_801698  G1_973614       1\n",
       "   6 │ G2_425367  G1_801698  G1_973614       1\n",
       "   7 │ G2_425503  G1_801698  G1_973614       1\n",
       "   8 │ G2_430925  G1_801698  G1_973614       1\n",
       "  ⋮  │     ⋮          ⋮          ⋮        ⋮\n",
       "  97 │ G2_426096  G1_823196  G1_822979       2\n",
       "  98 │ G2_425704  G1_823196  G1_299593       2\n",
       "  99 │ G2_431299  G1_823196  G1_299593       2\n",
       " 100 │ G2_430923  G1_823196  G1_299593       2\n",
       " 101 │ G2_430909  G1_823196  G1_299593       2\n",
       " 102 │ G2_425812  G1_823196  G1_299593       2\n",
       " 103 │ G2_430452  G1_823196  G1_299593       2\n",
       "\u001b[36m                                88 rows omitted\u001b[0m"
      ]
     },
     "metadata": {},
     "output_type": "display_data"
    }
   ],
   "source": [
    "vcat(ped_1,ped_2; source=\"Ped_Id\")"
   ]
  },
  {
   "cell_type": "markdown",
   "metadata": {},
   "source": [
    "It's interesting to see how to deal with cases when the dataframes have not the same columns."
   ]
  },
  {
   "cell_type": "code",
   "execution_count": 15,
   "metadata": {},
   "outputs": [],
   "source": [
    "ped_1.Generation .= 1;\n"
   ]
  },
  {
   "cell_type": "code",
   "execution_count": 12,
   "metadata": {},
   "outputs": [
    {
     "data": {
      "text/html": [
       "<div><div style = \"float: left;\"><span>53×4 DataFrame</span></div><div style = \"float: right;\"><span style = \"font-style: italic;\">28 rows omitted</span></div><div style = \"clear: both;\"></div></div><div class = \"data-frame\" style = \"overflow-x: scroll;\"><table class = \"data-frame\" style = \"margin-bottom: 6px;\"><thead><tr class = \"header\"><th class = \"rowNumber\" style = \"font-weight: bold; text-align: right;\">Row</th><th style = \"text-align: left;\">Id</th><th style = \"text-align: left;\">Sire</th><th style = \"text-align: left;\">Dam</th><th style = \"text-align: left;\">Generation</th></tr><tr class = \"subheader headerLastRow\"><th class = \"rowNumber\" style = \"font-weight: bold; text-align: right;\"></th><th title = \"String15\" style = \"text-align: left;\">String15</th><th title = \"String15\" style = \"text-align: left;\">String15</th><th title = \"String15\" style = \"text-align: left;\">String15</th><th title = \"Int64\" style = \"text-align: left;\">Int64</th></tr></thead><tbody><tr><td class = \"rowNumber\" style = \"font-weight: bold; text-align: right;\">1</td><td style = \"text-align: left;\">G2_431872</td><td style = \"text-align: left;\">G1_801698</td><td style = \"text-align: left;\">G1_973614</td><td style = \"text-align: right;\">1</td></tr><tr><td class = \"rowNumber\" style = \"font-weight: bold; text-align: right;\">2</td><td style = \"text-align: left;\">G2_432072</td><td style = \"text-align: left;\">G1_801698</td><td style = \"text-align: left;\">G1_973614</td><td style = \"text-align: right;\">1</td></tr><tr><td class = \"rowNumber\" style = \"font-weight: bold; text-align: right;\">3</td><td style = \"text-align: left;\">G2_425484</td><td style = \"text-align: left;\">G1_801698</td><td style = \"text-align: left;\">G1_973614</td><td style = \"text-align: right;\">1</td></tr><tr><td class = \"rowNumber\" style = \"font-weight: bold; text-align: right;\">4</td><td style = \"text-align: left;\">G2_426165</td><td style = \"text-align: left;\">G1_801698</td><td style = \"text-align: left;\">G1_973614</td><td style = \"text-align: right;\">1</td></tr><tr><td class = \"rowNumber\" style = \"font-weight: bold; text-align: right;\">5</td><td style = \"text-align: left;\">G2_431334</td><td style = \"text-align: left;\">G1_801698</td><td style = \"text-align: left;\">G1_973614</td><td style = \"text-align: right;\">1</td></tr><tr><td class = \"rowNumber\" style = \"font-weight: bold; text-align: right;\">6</td><td style = \"text-align: left;\">G2_425367</td><td style = \"text-align: left;\">G1_801698</td><td style = \"text-align: left;\">G1_973614</td><td style = \"text-align: right;\">1</td></tr><tr><td class = \"rowNumber\" style = \"font-weight: bold; text-align: right;\">7</td><td style = \"text-align: left;\">G2_425503</td><td style = \"text-align: left;\">G1_801698</td><td style = \"text-align: left;\">G1_973614</td><td style = \"text-align: right;\">1</td></tr><tr><td class = \"rowNumber\" style = \"font-weight: bold; text-align: right;\">8</td><td style = \"text-align: left;\">G2_430925</td><td style = \"text-align: left;\">G1_801698</td><td style = \"text-align: left;\">G1_973614</td><td style = \"text-align: right;\">1</td></tr><tr><td class = \"rowNumber\" style = \"font-weight: bold; text-align: right;\">9</td><td style = \"text-align: left;\">G2_431214</td><td style = \"text-align: left;\">G1_801698</td><td style = \"text-align: left;\">G1_973614</td><td style = \"text-align: right;\">1</td></tr><tr><td class = \"rowNumber\" style = \"font-weight: bold; text-align: right;\">10</td><td style = \"text-align: left;\">G2_425304</td><td style = \"text-align: left;\">G1_801698</td><td style = \"text-align: left;\">G1_973614</td><td style = \"text-align: right;\">1</td></tr><tr><td class = \"rowNumber\" style = \"font-weight: bold; text-align: right;\">11</td><td style = \"text-align: left;\">G2_431658</td><td style = \"text-align: left;\">G1_801698</td><td style = \"text-align: left;\">G1_973614</td><td style = \"text-align: right;\">1</td></tr><tr><td class = \"rowNumber\" style = \"font-weight: bold; text-align: right;\">12</td><td style = \"text-align: left;\">G2_426022</td><td style = \"text-align: left;\">G1_801698</td><td style = \"text-align: left;\">G1_973614</td><td style = \"text-align: right;\">1</td></tr><tr><td class = \"rowNumber\" style = \"font-weight: bold; text-align: right;\">13</td><td style = \"text-align: left;\">G2_425556</td><td style = \"text-align: left;\">G1_801698</td><td style = \"text-align: left;\">G1_973614</td><td style = \"text-align: right;\">1</td></tr><tr><td style = \"text-align: right;\">&vellip;</td><td style = \"text-align: right;\">&vellip;</td><td style = \"text-align: right;\">&vellip;</td><td style = \"text-align: right;\">&vellip;</td><td style = \"text-align: right;\">&vellip;</td></tr><tr><td class = \"rowNumber\" style = \"font-weight: bold; text-align: right;\">42</td><td style = \"text-align: left;\">G2_7801156</td><td style = \"text-align: left;\">G1_801698</td><td style = \"text-align: left;\">G1_802693</td><td style = \"text-align: right;\">1</td></tr><tr><td class = \"rowNumber\" style = \"font-weight: bold; text-align: right;\">43</td><td style = \"text-align: left;\">G2_7402296</td><td style = \"text-align: left;\">G1_801698</td><td style = \"text-align: left;\">G1_802693</td><td style = \"text-align: right;\">1</td></tr><tr><td class = \"rowNumber\" style = \"font-weight: bold; text-align: right;\">44</td><td style = \"text-align: left;\">G2_7402294</td><td style = \"text-align: left;\">G1_801698</td><td style = \"text-align: left;\">G1_802693</td><td style = \"text-align: right;\">1</td></tr><tr><td class = \"rowNumber\" style = \"font-weight: bold; text-align: right;\">45</td><td style = \"text-align: left;\">G2_7091777</td><td style = \"text-align: left;\">G1_801698</td><td style = \"text-align: left;\">G1_802693</td><td style = \"text-align: right;\">1</td></tr><tr><td class = \"rowNumber\" style = \"font-weight: bold; text-align: right;\">46</td><td style = \"text-align: left;\">G2_7801132</td><td style = \"text-align: left;\">G1_801698</td><td style = \"text-align: left;\">G1_802693</td><td style = \"text-align: right;\">1</td></tr><tr><td class = \"rowNumber\" style = \"font-weight: bold; text-align: right;\">47</td><td style = \"text-align: left;\">G2_7402413</td><td style = \"text-align: left;\">G1_801698</td><td style = \"text-align: left;\">G1_802693</td><td style = \"text-align: right;\">1</td></tr><tr><td class = \"rowNumber\" style = \"font-weight: bold; text-align: right;\">48</td><td style = \"text-align: left;\">G2_7402362</td><td style = \"text-align: left;\">G1_801698</td><td style = \"text-align: left;\">G1_802693</td><td style = \"text-align: right;\">1</td></tr><tr><td class = \"rowNumber\" style = \"font-weight: bold; text-align: right;\">49</td><td style = \"text-align: left;\">G2_7402364</td><td style = \"text-align: left;\">G1_801698</td><td style = \"text-align: left;\">G1_802693</td><td style = \"text-align: right;\">1</td></tr><tr><td class = \"rowNumber\" style = \"font-weight: bold; text-align: right;\">50</td><td style = \"text-align: left;\">G2_7091741</td><td style = \"text-align: left;\">G1_801698</td><td style = \"text-align: left;\">G1_802693</td><td style = \"text-align: right;\">1</td></tr><tr><td class = \"rowNumber\" style = \"font-weight: bold; text-align: right;\">51</td><td style = \"text-align: left;\">G3_801</td><td style = \"text-align: left;\">G2_7091741</td><td style = \"text-align: left;\">G2_7402364</td><td style = \"text-align: right;\">1</td></tr><tr><td class = \"rowNumber\" style = \"font-weight: bold; text-align: right;\">52</td><td style = \"text-align: left;\">G3_801</td><td style = \"text-align: left;\">G2_7091741</td><td style = \"text-align: left;\">G2_7402364</td><td style = \"text-align: right;\">1</td></tr><tr><td class = \"rowNumber\" style = \"font-weight: bold; text-align: right;\">53</td><td style = \"text-align: left;\">G3_801</td><td style = \"text-align: left;\">G2_7091741</td><td style = \"text-align: left;\">G2_7402364</td><td style = \"text-align: right;\">1</td></tr></tbody></table></div>"
      ],
      "text/latex": [
       "\\begin{tabular}{r|cccc}\n",
       "\t& Id & Sire & Dam & Generation\\\\\n",
       "\t\\hline\n",
       "\t& String15 & String15 & String15 & Int64\\\\\n",
       "\t\\hline\n",
       "\t1 & G2\\_431872 & G1\\_801698 & G1\\_973614 & 1 \\\\\n",
       "\t2 & G2\\_432072 & G1\\_801698 & G1\\_973614 & 1 \\\\\n",
       "\t3 & G2\\_425484 & G1\\_801698 & G1\\_973614 & 1 \\\\\n",
       "\t4 & G2\\_426165 & G1\\_801698 & G1\\_973614 & 1 \\\\\n",
       "\t5 & G2\\_431334 & G1\\_801698 & G1\\_973614 & 1 \\\\\n",
       "\t6 & G2\\_425367 & G1\\_801698 & G1\\_973614 & 1 \\\\\n",
       "\t7 & G2\\_425503 & G1\\_801698 & G1\\_973614 & 1 \\\\\n",
       "\t8 & G2\\_430925 & G1\\_801698 & G1\\_973614 & 1 \\\\\n",
       "\t9 & G2\\_431214 & G1\\_801698 & G1\\_973614 & 1 \\\\\n",
       "\t10 & G2\\_425304 & G1\\_801698 & G1\\_973614 & 1 \\\\\n",
       "\t11 & G2\\_431658 & G1\\_801698 & G1\\_973614 & 1 \\\\\n",
       "\t12 & G2\\_426022 & G1\\_801698 & G1\\_973614 & 1 \\\\\n",
       "\t13 & G2\\_425556 & G1\\_801698 & G1\\_973614 & 1 \\\\\n",
       "\t14 & G2\\_425064 & G1\\_801698 & G1\\_973614 & 1 \\\\\n",
       "\t15 & G2\\_431112 & G1\\_801698 & G1\\_973614 & 1 \\\\\n",
       "\t16 & G2\\_425024 & G1\\_801698 & G1\\_973614 & 1 \\\\\n",
       "\t17 & G2\\_7800873 & G1\\_801698 & G1\\_973614 & 1 \\\\\n",
       "\t18 & G2\\_7801208 & G1\\_801698 & G1\\_973614 & 1 \\\\\n",
       "\t19 & G2\\_7091787 & G1\\_801698 & G1\\_973614 & 1 \\\\\n",
       "\t20 & G2\\_7091747 & G1\\_801698 & G1\\_973614 & 1 \\\\\n",
       "\t21 & G2\\_7801035 & G1\\_801698 & G1\\_973614 & 1 \\\\\n",
       "\t22 & G2\\_7402382 & G1\\_801698 & G1\\_973614 & 1 \\\\\n",
       "\t23 & G2\\_7801243 & G1\\_801698 & G1\\_973614 & 1 \\\\\n",
       "\t24 & G2\\_7402431 & G1\\_801698 & G1\\_973614 & 1 \\\\\n",
       "\t$\\dots$ & $\\dots$ & $\\dots$ & $\\dots$ & $\\dots$ \\\\\n",
       "\\end{tabular}\n"
      ],
      "text/plain": [
       "\u001b[1m53×4 DataFrame\u001b[0m\n",
       "\u001b[1m Row \u001b[0m│\u001b[1m Id         \u001b[0m\u001b[1m Sire       \u001b[0m\u001b[1m Dam        \u001b[0m\u001b[1m Generation \u001b[0m\n",
       "     │\u001b[90m String15   \u001b[0m\u001b[90m String15   \u001b[0m\u001b[90m String15   \u001b[0m\u001b[90m Int64      \u001b[0m\n",
       "─────┼────────────────────────────────────────────────\n",
       "   1 │ G2_431872   G1_801698   G1_973614            1\n",
       "   2 │ G2_432072   G1_801698   G1_973614            1\n",
       "   3 │ G2_425484   G1_801698   G1_973614            1\n",
       "   4 │ G2_426165   G1_801698   G1_973614            1\n",
       "   5 │ G2_431334   G1_801698   G1_973614            1\n",
       "   6 │ G2_425367   G1_801698   G1_973614            1\n",
       "   7 │ G2_425503   G1_801698   G1_973614            1\n",
       "   8 │ G2_430925   G1_801698   G1_973614            1\n",
       "  ⋮  │     ⋮           ⋮           ⋮           ⋮\n",
       "  47 │ G2_7402413  G1_801698   G1_802693            1\n",
       "  48 │ G2_7402362  G1_801698   G1_802693            1\n",
       "  49 │ G2_7402364  G1_801698   G1_802693            1\n",
       "  50 │ G2_7091741  G1_801698   G1_802693            1\n",
       "  51 │ G3_801      G2_7091741  G2_7402364           1\n",
       "  52 │ G3_801      G2_7091741  G2_7402364           1\n",
       "  53 │ G3_801      G2_7091741  G2_7402364           1\n",
       "\u001b[36m                                       38 rows omitted\u001b[0m"
      ]
     },
     "metadata": {},
     "output_type": "display_data"
    }
   ],
   "source": [
    "ped_1"
   ]
  },
  {
   "cell_type": "markdown",
   "metadata": {},
   "source": [
    "Now let's see what happens when we try to add to `ped_1` the records from `ped_2`."
   ]
  },
  {
   "cell_type": "code",
   "execution_count": 16,
   "metadata": {},
   "outputs": [
    {
     "ename": "ArgumentError",
     "evalue": "ArgumentError: column(s) Generation are missing from argument(s) 2",
     "output_type": "error",
     "traceback": [
      "ArgumentError: column(s) Generation are missing from argument(s) 2\n",
      "\n",
      "Stacktrace:\n",
      " [1] _vcat(dfs::Vector{AbstractDataFrame}; cols::Symbol)\n",
      "   @ DataFrames ~/.julia/packages/DataFrames/kcA9R/src/abstractdataframe/iteration.jl:809\n",
      " [2] _vcat\n",
      "   @ ~/.julia/packages/DataFrames/kcA9R/src/abstractdataframe/iteration.jl:764 [inlined]\n",
      " [3] reduce(::typeof(vcat), dfs::Tuple{DataFrame, DataFrame}; cols::Symbol, source::Nothing, init::DataFrame)\n",
      "   @ DataFrames ~/.julia/packages/DataFrames/kcA9R/src/abstractdataframe/iteration.jl:710\n",
      " [4] reduce\n",
      "   @ ~/.julia/packages/DataFrames/kcA9R/src/abstractdataframe/iteration.jl:694 [inlined]\n",
      " [5] vcat(::DataFrame, ::DataFrame)\n",
      "   @ DataFrames ~/.julia/packages/DataFrames/kcA9R/src/abstractdataframe/abstractdataframe.jl:1811\n",
      " [6] top-level scope\n",
      "   @ ~/Library/CloudStorage/OneDrive-Sverigeslantbruksuniversitet/Teaching/Julia_SLU/Teaching_material/Day3/jl_notebook_cell_df34fa98e69747e1a8f8a730347b8e2f_X31sZmlsZQ==.jl:1"
     ]
    }
   ],
   "source": [
    "vcat(ped_1,ped_2)"
   ]
  },
  {
   "cell_type": "code",
   "execution_count": 17,
   "metadata": {},
   "outputs": [
    {
     "data": {
      "text/html": [
       "<div><div style = \"float: left;\"><span>103×4 DataFrame</span></div><div style = \"float: right;\"><span style = \"font-style: italic;\">78 rows omitted</span></div><div style = \"clear: both;\"></div></div><div class = \"data-frame\" style = \"overflow-x: scroll;\"><table class = \"data-frame\" style = \"margin-bottom: 6px;\"><thead><tr class = \"header\"><th class = \"rowNumber\" style = \"font-weight: bold; text-align: right;\">Row</th><th style = \"text-align: left;\">Id</th><th style = \"text-align: left;\">Sire</th><th style = \"text-align: left;\">Dam</th><th style = \"text-align: left;\">Generation</th></tr><tr class = \"subheader headerLastRow\"><th class = \"rowNumber\" style = \"font-weight: bold; text-align: right;\"></th><th title = \"String15\" style = \"text-align: left;\">String15</th><th title = \"String15\" style = \"text-align: left;\">String15</th><th title = \"String15\" style = \"text-align: left;\">String15</th><th title = \"Union{Missing, Int64}\" style = \"text-align: left;\">Int64?</th></tr></thead><tbody><tr><td class = \"rowNumber\" style = \"font-weight: bold; text-align: right;\">1</td><td style = \"text-align: left;\">G2_431872</td><td style = \"text-align: left;\">G1_801698</td><td style = \"text-align: left;\">G1_973614</td><td style = \"text-align: right;\">1</td></tr><tr><td class = \"rowNumber\" style = \"font-weight: bold; text-align: right;\">2</td><td style = \"text-align: left;\">G2_432072</td><td style = \"text-align: left;\">G1_801698</td><td style = \"text-align: left;\">G1_973614</td><td style = \"text-align: right;\">1</td></tr><tr><td class = \"rowNumber\" style = \"font-weight: bold; text-align: right;\">3</td><td style = \"text-align: left;\">G2_425484</td><td style = \"text-align: left;\">G1_801698</td><td style = \"text-align: left;\">G1_973614</td><td style = \"text-align: right;\">1</td></tr><tr><td class = \"rowNumber\" style = \"font-weight: bold; text-align: right;\">4</td><td style = \"text-align: left;\">G2_426165</td><td style = \"text-align: left;\">G1_801698</td><td style = \"text-align: left;\">G1_973614</td><td style = \"text-align: right;\">1</td></tr><tr><td class = \"rowNumber\" style = \"font-weight: bold; text-align: right;\">5</td><td style = \"text-align: left;\">G2_431334</td><td style = \"text-align: left;\">G1_801698</td><td style = \"text-align: left;\">G1_973614</td><td style = \"text-align: right;\">1</td></tr><tr><td class = \"rowNumber\" style = \"font-weight: bold; text-align: right;\">6</td><td style = \"text-align: left;\">G2_425367</td><td style = \"text-align: left;\">G1_801698</td><td style = \"text-align: left;\">G1_973614</td><td style = \"text-align: right;\">1</td></tr><tr><td class = \"rowNumber\" style = \"font-weight: bold; text-align: right;\">7</td><td style = \"text-align: left;\">G2_425503</td><td style = \"text-align: left;\">G1_801698</td><td style = \"text-align: left;\">G1_973614</td><td style = \"text-align: right;\">1</td></tr><tr><td class = \"rowNumber\" style = \"font-weight: bold; text-align: right;\">8</td><td style = \"text-align: left;\">G2_430925</td><td style = \"text-align: left;\">G1_801698</td><td style = \"text-align: left;\">G1_973614</td><td style = \"text-align: right;\">1</td></tr><tr><td class = \"rowNumber\" style = \"font-weight: bold; text-align: right;\">9</td><td style = \"text-align: left;\">G2_431214</td><td style = \"text-align: left;\">G1_801698</td><td style = \"text-align: left;\">G1_973614</td><td style = \"text-align: right;\">1</td></tr><tr><td class = \"rowNumber\" style = \"font-weight: bold; text-align: right;\">10</td><td style = \"text-align: left;\">G2_425304</td><td style = \"text-align: left;\">G1_801698</td><td style = \"text-align: left;\">G1_973614</td><td style = \"text-align: right;\">1</td></tr><tr><td class = \"rowNumber\" style = \"font-weight: bold; text-align: right;\">11</td><td style = \"text-align: left;\">G2_431658</td><td style = \"text-align: left;\">G1_801698</td><td style = \"text-align: left;\">G1_973614</td><td style = \"text-align: right;\">1</td></tr><tr><td class = \"rowNumber\" style = \"font-weight: bold; text-align: right;\">12</td><td style = \"text-align: left;\">G2_426022</td><td style = \"text-align: left;\">G1_801698</td><td style = \"text-align: left;\">G1_973614</td><td style = \"text-align: right;\">1</td></tr><tr><td class = \"rowNumber\" style = \"font-weight: bold; text-align: right;\">13</td><td style = \"text-align: left;\">G2_425556</td><td style = \"text-align: left;\">G1_801698</td><td style = \"text-align: left;\">G1_973614</td><td style = \"text-align: right;\">1</td></tr><tr><td style = \"text-align: right;\">&vellip;</td><td style = \"text-align: right;\">&vellip;</td><td style = \"text-align: right;\">&vellip;</td><td style = \"text-align: right;\">&vellip;</td><td style = \"text-align: right;\">&vellip;</td></tr><tr><td class = \"rowNumber\" style = \"font-weight: bold; text-align: right;\">92</td><td style = \"text-align: left;\">G2_430655</td><td style = \"text-align: left;\">G1_823196</td><td style = \"text-align: left;\">G1_822979</td><td style = \"font-style: italic; text-align: right;\">missing</td></tr><tr><td class = \"rowNumber\" style = \"font-weight: bold; text-align: right;\">93</td><td style = \"text-align: left;\">G2_425625</td><td style = \"text-align: left;\">G1_823196</td><td style = \"text-align: left;\">G1_822979</td><td style = \"font-style: italic; text-align: right;\">missing</td></tr><tr><td class = \"rowNumber\" style = \"font-weight: bold; text-align: right;\">94</td><td style = \"text-align: left;\">G2_430896</td><td style = \"text-align: left;\">G1_823196</td><td style = \"text-align: left;\">G1_822979</td><td style = \"font-style: italic; text-align: right;\">missing</td></tr><tr><td class = \"rowNumber\" style = \"font-weight: bold; text-align: right;\">95</td><td style = \"text-align: left;\">G2_430298</td><td style = \"text-align: left;\">G1_823196</td><td style = \"text-align: left;\">G1_822979</td><td style = \"font-style: italic; text-align: right;\">missing</td></tr><tr><td class = \"rowNumber\" style = \"font-weight: bold; text-align: right;\">96</td><td style = \"text-align: left;\">G2_430365</td><td style = \"text-align: left;\">G1_823196</td><td style = \"text-align: left;\">G1_822979</td><td style = \"font-style: italic; text-align: right;\">missing</td></tr><tr><td class = \"rowNumber\" style = \"font-weight: bold; text-align: right;\">97</td><td style = \"text-align: left;\">G2_426096</td><td style = \"text-align: left;\">G1_823196</td><td style = \"text-align: left;\">G1_822979</td><td style = \"font-style: italic; text-align: right;\">missing</td></tr><tr><td class = \"rowNumber\" style = \"font-weight: bold; text-align: right;\">98</td><td style = \"text-align: left;\">G2_425704</td><td style = \"text-align: left;\">G1_823196</td><td style = \"text-align: left;\">G1_299593</td><td style = \"font-style: italic; text-align: right;\">missing</td></tr><tr><td class = \"rowNumber\" style = \"font-weight: bold; text-align: right;\">99</td><td style = \"text-align: left;\">G2_431299</td><td style = \"text-align: left;\">G1_823196</td><td style = \"text-align: left;\">G1_299593</td><td style = \"font-style: italic; text-align: right;\">missing</td></tr><tr><td class = \"rowNumber\" style = \"font-weight: bold; text-align: right;\">100</td><td style = \"text-align: left;\">G2_430923</td><td style = \"text-align: left;\">G1_823196</td><td style = \"text-align: left;\">G1_299593</td><td style = \"font-style: italic; text-align: right;\">missing</td></tr><tr><td class = \"rowNumber\" style = \"font-weight: bold; text-align: right;\">101</td><td style = \"text-align: left;\">G2_430909</td><td style = \"text-align: left;\">G1_823196</td><td style = \"text-align: left;\">G1_299593</td><td style = \"font-style: italic; text-align: right;\">missing</td></tr><tr><td class = \"rowNumber\" style = \"font-weight: bold; text-align: right;\">102</td><td style = \"text-align: left;\">G2_425812</td><td style = \"text-align: left;\">G1_823196</td><td style = \"text-align: left;\">G1_299593</td><td style = \"font-style: italic; text-align: right;\">missing</td></tr><tr><td class = \"rowNumber\" style = \"font-weight: bold; text-align: right;\">103</td><td style = \"text-align: left;\">G2_430452</td><td style = \"text-align: left;\">G1_823196</td><td style = \"text-align: left;\">G1_299593</td><td style = \"font-style: italic; text-align: right;\">missing</td></tr></tbody></table></div>"
      ],
      "text/latex": [
       "\\begin{tabular}{r|cccc}\n",
       "\t& Id & Sire & Dam & Generation\\\\\n",
       "\t\\hline\n",
       "\t& String15 & String15 & String15 & Int64?\\\\\n",
       "\t\\hline\n",
       "\t1 & G2\\_431872 & G1\\_801698 & G1\\_973614 & 1 \\\\\n",
       "\t2 & G2\\_432072 & G1\\_801698 & G1\\_973614 & 1 \\\\\n",
       "\t3 & G2\\_425484 & G1\\_801698 & G1\\_973614 & 1 \\\\\n",
       "\t4 & G2\\_426165 & G1\\_801698 & G1\\_973614 & 1 \\\\\n",
       "\t5 & G2\\_431334 & G1\\_801698 & G1\\_973614 & 1 \\\\\n",
       "\t6 & G2\\_425367 & G1\\_801698 & G1\\_973614 & 1 \\\\\n",
       "\t7 & G2\\_425503 & G1\\_801698 & G1\\_973614 & 1 \\\\\n",
       "\t8 & G2\\_430925 & G1\\_801698 & G1\\_973614 & 1 \\\\\n",
       "\t9 & G2\\_431214 & G1\\_801698 & G1\\_973614 & 1 \\\\\n",
       "\t10 & G2\\_425304 & G1\\_801698 & G1\\_973614 & 1 \\\\\n",
       "\t11 & G2\\_431658 & G1\\_801698 & G1\\_973614 & 1 \\\\\n",
       "\t12 & G2\\_426022 & G1\\_801698 & G1\\_973614 & 1 \\\\\n",
       "\t13 & G2\\_425556 & G1\\_801698 & G1\\_973614 & 1 \\\\\n",
       "\t14 & G2\\_425064 & G1\\_801698 & G1\\_973614 & 1 \\\\\n",
       "\t15 & G2\\_431112 & G1\\_801698 & G1\\_973614 & 1 \\\\\n",
       "\t16 & G2\\_425024 & G1\\_801698 & G1\\_973614 & 1 \\\\\n",
       "\t17 & G2\\_7800873 & G1\\_801698 & G1\\_973614 & 1 \\\\\n",
       "\t18 & G2\\_7801208 & G1\\_801698 & G1\\_973614 & 1 \\\\\n",
       "\t19 & G2\\_7091787 & G1\\_801698 & G1\\_973614 & 1 \\\\\n",
       "\t20 & G2\\_7091747 & G1\\_801698 & G1\\_973614 & 1 \\\\\n",
       "\t21 & G2\\_7801035 & G1\\_801698 & G1\\_973614 & 1 \\\\\n",
       "\t22 & G2\\_7402382 & G1\\_801698 & G1\\_973614 & 1 \\\\\n",
       "\t23 & G2\\_7801243 & G1\\_801698 & G1\\_973614 & 1 \\\\\n",
       "\t24 & G2\\_7402431 & G1\\_801698 & G1\\_973614 & 1 \\\\\n",
       "\t$\\dots$ & $\\dots$ & $\\dots$ & $\\dots$ & $\\dots$ \\\\\n",
       "\\end{tabular}\n"
      ],
      "text/plain": [
       "\u001b[1m103×4 DataFrame\u001b[0m\n",
       "\u001b[1m Row \u001b[0m│\u001b[1m Id        \u001b[0m\u001b[1m Sire      \u001b[0m\u001b[1m Dam       \u001b[0m\u001b[1m Generation \u001b[0m\n",
       "     │\u001b[90m String15  \u001b[0m\u001b[90m String15  \u001b[0m\u001b[90m String15  \u001b[0m\u001b[90m Int64?     \u001b[0m\n",
       "─────┼─────────────────────────────────────────────\n",
       "   1 │ G2_431872  G1_801698  G1_973614           1\n",
       "   2 │ G2_432072  G1_801698  G1_973614           1\n",
       "   3 │ G2_425484  G1_801698  G1_973614           1\n",
       "   4 │ G2_426165  G1_801698  G1_973614           1\n",
       "   5 │ G2_431334  G1_801698  G1_973614           1\n",
       "   6 │ G2_425367  G1_801698  G1_973614           1\n",
       "   7 │ G2_425503  G1_801698  G1_973614           1\n",
       "   8 │ G2_430925  G1_801698  G1_973614           1\n",
       "  ⋮  │     ⋮          ⋮          ⋮          ⋮\n",
       "  97 │ G2_426096  G1_823196  G1_822979 \u001b[90m    missing \u001b[0m\n",
       "  98 │ G2_425704  G1_823196  G1_299593 \u001b[90m    missing \u001b[0m\n",
       "  99 │ G2_431299  G1_823196  G1_299593 \u001b[90m    missing \u001b[0m\n",
       " 100 │ G2_430923  G1_823196  G1_299593 \u001b[90m    missing \u001b[0m\n",
       " 101 │ G2_430909  G1_823196  G1_299593 \u001b[90m    missing \u001b[0m\n",
       " 102 │ G2_425812  G1_823196  G1_299593 \u001b[90m    missing \u001b[0m\n",
       " 103 │ G2_430452  G1_823196  G1_299593 \u001b[90m    missing \u001b[0m\n",
       "\u001b[36m                                    88 rows omitted\u001b[0m"
      ]
     },
     "metadata": {},
     "output_type": "display_data"
    }
   ],
   "source": [
    "vcat(ped_1,ped_2; cols=:union)"
   ]
  },
  {
   "cell_type": "markdown",
   "metadata": {},
   "source": [
    "If we want to have only the common columns."
   ]
  },
  {
   "cell_type": "code",
   "execution_count": 18,
   "metadata": {},
   "outputs": [
    {
     "data": {
      "text/html": [
       "<div><div style = \"float: left;\"><span>103×3 DataFrame</span></div><div style = \"float: right;\"><span style = \"font-style: italic;\">78 rows omitted</span></div><div style = \"clear: both;\"></div></div><div class = \"data-frame\" style = \"overflow-x: scroll;\"><table class = \"data-frame\" style = \"margin-bottom: 6px;\"><thead><tr class = \"header\"><th class = \"rowNumber\" style = \"font-weight: bold; text-align: right;\">Row</th><th style = \"text-align: left;\">Id</th><th style = \"text-align: left;\">Sire</th><th style = \"text-align: left;\">Dam</th></tr><tr class = \"subheader headerLastRow\"><th class = \"rowNumber\" style = \"font-weight: bold; text-align: right;\"></th><th title = \"String15\" style = \"text-align: left;\">String15</th><th title = \"String15\" style = \"text-align: left;\">String15</th><th title = \"String15\" style = \"text-align: left;\">String15</th></tr></thead><tbody><tr><td class = \"rowNumber\" style = \"font-weight: bold; text-align: right;\">1</td><td style = \"text-align: left;\">G2_431872</td><td style = \"text-align: left;\">G1_801698</td><td style = \"text-align: left;\">G1_973614</td></tr><tr><td class = \"rowNumber\" style = \"font-weight: bold; text-align: right;\">2</td><td style = \"text-align: left;\">G2_432072</td><td style = \"text-align: left;\">G1_801698</td><td style = \"text-align: left;\">G1_973614</td></tr><tr><td class = \"rowNumber\" style = \"font-weight: bold; text-align: right;\">3</td><td style = \"text-align: left;\">G2_425484</td><td style = \"text-align: left;\">G1_801698</td><td style = \"text-align: left;\">G1_973614</td></tr><tr><td class = \"rowNumber\" style = \"font-weight: bold; text-align: right;\">4</td><td style = \"text-align: left;\">G2_426165</td><td style = \"text-align: left;\">G1_801698</td><td style = \"text-align: left;\">G1_973614</td></tr><tr><td class = \"rowNumber\" style = \"font-weight: bold; text-align: right;\">5</td><td style = \"text-align: left;\">G2_431334</td><td style = \"text-align: left;\">G1_801698</td><td style = \"text-align: left;\">G1_973614</td></tr><tr><td class = \"rowNumber\" style = \"font-weight: bold; text-align: right;\">6</td><td style = \"text-align: left;\">G2_425367</td><td style = \"text-align: left;\">G1_801698</td><td style = \"text-align: left;\">G1_973614</td></tr><tr><td class = \"rowNumber\" style = \"font-weight: bold; text-align: right;\">7</td><td style = \"text-align: left;\">G2_425503</td><td style = \"text-align: left;\">G1_801698</td><td style = \"text-align: left;\">G1_973614</td></tr><tr><td class = \"rowNumber\" style = \"font-weight: bold; text-align: right;\">8</td><td style = \"text-align: left;\">G2_430925</td><td style = \"text-align: left;\">G1_801698</td><td style = \"text-align: left;\">G1_973614</td></tr><tr><td class = \"rowNumber\" style = \"font-weight: bold; text-align: right;\">9</td><td style = \"text-align: left;\">G2_431214</td><td style = \"text-align: left;\">G1_801698</td><td style = \"text-align: left;\">G1_973614</td></tr><tr><td class = \"rowNumber\" style = \"font-weight: bold; text-align: right;\">10</td><td style = \"text-align: left;\">G2_425304</td><td style = \"text-align: left;\">G1_801698</td><td style = \"text-align: left;\">G1_973614</td></tr><tr><td class = \"rowNumber\" style = \"font-weight: bold; text-align: right;\">11</td><td style = \"text-align: left;\">G2_431658</td><td style = \"text-align: left;\">G1_801698</td><td style = \"text-align: left;\">G1_973614</td></tr><tr><td class = \"rowNumber\" style = \"font-weight: bold; text-align: right;\">12</td><td style = \"text-align: left;\">G2_426022</td><td style = \"text-align: left;\">G1_801698</td><td style = \"text-align: left;\">G1_973614</td></tr><tr><td class = \"rowNumber\" style = \"font-weight: bold; text-align: right;\">13</td><td style = \"text-align: left;\">G2_425556</td><td style = \"text-align: left;\">G1_801698</td><td style = \"text-align: left;\">G1_973614</td></tr><tr><td style = \"text-align: right;\">&vellip;</td><td style = \"text-align: right;\">&vellip;</td><td style = \"text-align: right;\">&vellip;</td><td style = \"text-align: right;\">&vellip;</td></tr><tr><td class = \"rowNumber\" style = \"font-weight: bold; text-align: right;\">92</td><td style = \"text-align: left;\">G2_430655</td><td style = \"text-align: left;\">G1_823196</td><td style = \"text-align: left;\">G1_822979</td></tr><tr><td class = \"rowNumber\" style = \"font-weight: bold; text-align: right;\">93</td><td style = \"text-align: left;\">G2_425625</td><td style = \"text-align: left;\">G1_823196</td><td style = \"text-align: left;\">G1_822979</td></tr><tr><td class = \"rowNumber\" style = \"font-weight: bold; text-align: right;\">94</td><td style = \"text-align: left;\">G2_430896</td><td style = \"text-align: left;\">G1_823196</td><td style = \"text-align: left;\">G1_822979</td></tr><tr><td class = \"rowNumber\" style = \"font-weight: bold; text-align: right;\">95</td><td style = \"text-align: left;\">G2_430298</td><td style = \"text-align: left;\">G1_823196</td><td style = \"text-align: left;\">G1_822979</td></tr><tr><td class = \"rowNumber\" style = \"font-weight: bold; text-align: right;\">96</td><td style = \"text-align: left;\">G2_430365</td><td style = \"text-align: left;\">G1_823196</td><td style = \"text-align: left;\">G1_822979</td></tr><tr><td class = \"rowNumber\" style = \"font-weight: bold; text-align: right;\">97</td><td style = \"text-align: left;\">G2_426096</td><td style = \"text-align: left;\">G1_823196</td><td style = \"text-align: left;\">G1_822979</td></tr><tr><td class = \"rowNumber\" style = \"font-weight: bold; text-align: right;\">98</td><td style = \"text-align: left;\">G2_425704</td><td style = \"text-align: left;\">G1_823196</td><td style = \"text-align: left;\">G1_299593</td></tr><tr><td class = \"rowNumber\" style = \"font-weight: bold; text-align: right;\">99</td><td style = \"text-align: left;\">G2_431299</td><td style = \"text-align: left;\">G1_823196</td><td style = \"text-align: left;\">G1_299593</td></tr><tr><td class = \"rowNumber\" style = \"font-weight: bold; text-align: right;\">100</td><td style = \"text-align: left;\">G2_430923</td><td style = \"text-align: left;\">G1_823196</td><td style = \"text-align: left;\">G1_299593</td></tr><tr><td class = \"rowNumber\" style = \"font-weight: bold; text-align: right;\">101</td><td style = \"text-align: left;\">G2_430909</td><td style = \"text-align: left;\">G1_823196</td><td style = \"text-align: left;\">G1_299593</td></tr><tr><td class = \"rowNumber\" style = \"font-weight: bold; text-align: right;\">102</td><td style = \"text-align: left;\">G2_425812</td><td style = \"text-align: left;\">G1_823196</td><td style = \"text-align: left;\">G1_299593</td></tr><tr><td class = \"rowNumber\" style = \"font-weight: bold; text-align: right;\">103</td><td style = \"text-align: left;\">G2_430452</td><td style = \"text-align: left;\">G1_823196</td><td style = \"text-align: left;\">G1_299593</td></tr></tbody></table></div>"
      ],
      "text/latex": [
       "\\begin{tabular}{r|ccc}\n",
       "\t& Id & Sire & Dam\\\\\n",
       "\t\\hline\n",
       "\t& String15 & String15 & String15\\\\\n",
       "\t\\hline\n",
       "\t1 & G2\\_431872 & G1\\_801698 & G1\\_973614 \\\\\n",
       "\t2 & G2\\_432072 & G1\\_801698 & G1\\_973614 \\\\\n",
       "\t3 & G2\\_425484 & G1\\_801698 & G1\\_973614 \\\\\n",
       "\t4 & G2\\_426165 & G1\\_801698 & G1\\_973614 \\\\\n",
       "\t5 & G2\\_431334 & G1\\_801698 & G1\\_973614 \\\\\n",
       "\t6 & G2\\_425367 & G1\\_801698 & G1\\_973614 \\\\\n",
       "\t7 & G2\\_425503 & G1\\_801698 & G1\\_973614 \\\\\n",
       "\t8 & G2\\_430925 & G1\\_801698 & G1\\_973614 \\\\\n",
       "\t9 & G2\\_431214 & G1\\_801698 & G1\\_973614 \\\\\n",
       "\t10 & G2\\_425304 & G1\\_801698 & G1\\_973614 \\\\\n",
       "\t11 & G2\\_431658 & G1\\_801698 & G1\\_973614 \\\\\n",
       "\t12 & G2\\_426022 & G1\\_801698 & G1\\_973614 \\\\\n",
       "\t13 & G2\\_425556 & G1\\_801698 & G1\\_973614 \\\\\n",
       "\t14 & G2\\_425064 & G1\\_801698 & G1\\_973614 \\\\\n",
       "\t15 & G2\\_431112 & G1\\_801698 & G1\\_973614 \\\\\n",
       "\t16 & G2\\_425024 & G1\\_801698 & G1\\_973614 \\\\\n",
       "\t17 & G2\\_7800873 & G1\\_801698 & G1\\_973614 \\\\\n",
       "\t18 & G2\\_7801208 & G1\\_801698 & G1\\_973614 \\\\\n",
       "\t19 & G2\\_7091787 & G1\\_801698 & G1\\_973614 \\\\\n",
       "\t20 & G2\\_7091747 & G1\\_801698 & G1\\_973614 \\\\\n",
       "\t21 & G2\\_7801035 & G1\\_801698 & G1\\_973614 \\\\\n",
       "\t22 & G2\\_7402382 & G1\\_801698 & G1\\_973614 \\\\\n",
       "\t23 & G2\\_7801243 & G1\\_801698 & G1\\_973614 \\\\\n",
       "\t24 & G2\\_7402431 & G1\\_801698 & G1\\_973614 \\\\\n",
       "\t$\\dots$ & $\\dots$ & $\\dots$ & $\\dots$ \\\\\n",
       "\\end{tabular}\n"
      ],
      "text/plain": [
       "\u001b[1m103×3 DataFrame\u001b[0m\n",
       "\u001b[1m Row \u001b[0m│\u001b[1m Id        \u001b[0m\u001b[1m Sire      \u001b[0m\u001b[1m Dam       \u001b[0m\n",
       "     │\u001b[90m String15  \u001b[0m\u001b[90m String15  \u001b[0m\u001b[90m String15  \u001b[0m\n",
       "─────┼─────────────────────────────────\n",
       "   1 │ G2_431872  G1_801698  G1_973614\n",
       "   2 │ G2_432072  G1_801698  G1_973614\n",
       "   3 │ G2_425484  G1_801698  G1_973614\n",
       "   4 │ G2_426165  G1_801698  G1_973614\n",
       "   5 │ G2_431334  G1_801698  G1_973614\n",
       "   6 │ G2_425367  G1_801698  G1_973614\n",
       "   7 │ G2_425503  G1_801698  G1_973614\n",
       "   8 │ G2_430925  G1_801698  G1_973614\n",
       "  ⋮  │     ⋮          ⋮          ⋮\n",
       "  97 │ G2_426096  G1_823196  G1_822979\n",
       "  98 │ G2_425704  G1_823196  G1_299593\n",
       "  99 │ G2_431299  G1_823196  G1_299593\n",
       " 100 │ G2_430923  G1_823196  G1_299593\n",
       " 101 │ G2_430909  G1_823196  G1_299593\n",
       " 102 │ G2_425812  G1_823196  G1_299593\n",
       " 103 │ G2_430452  G1_823196  G1_299593\n",
       "\u001b[36m                        88 rows omitted\u001b[0m"
      ]
     },
     "metadata": {},
     "output_type": "display_data"
    }
   ],
   "source": [
    "vcat(ped_1, ped_2; cols=:intersect)"
   ]
  },
  {
   "cell_type": "markdown",
   "metadata": {},
   "source": [
    "The `append` function has also the `cols` argument takes the same values. The behaviour though when using `:intersect`is a bit different."
   ]
  },
  {
   "cell_type": "code",
   "execution_count": 19,
   "metadata": {},
   "outputs": [
    {
     "data": {
      "text/html": [
       "<div><div style = \"float: left;\"><span>53×4 DataFrame</span></div><div style = \"float: right;\"><span style = \"font-style: italic;\">28 rows omitted</span></div><div style = \"clear: both;\"></div></div><div class = \"data-frame\" style = \"overflow-x: scroll;\"><table class = \"data-frame\" style = \"margin-bottom: 6px;\"><thead><tr class = \"header\"><th class = \"rowNumber\" style = \"font-weight: bold; text-align: right;\">Row</th><th style = \"text-align: left;\">Id</th><th style = \"text-align: left;\">Sire</th><th style = \"text-align: left;\">Dam</th><th style = \"text-align: left;\">Generation</th></tr><tr class = \"subheader headerLastRow\"><th class = \"rowNumber\" style = \"font-weight: bold; text-align: right;\"></th><th title = \"String15\" style = \"text-align: left;\">String15</th><th title = \"String15\" style = \"text-align: left;\">String15</th><th title = \"String15\" style = \"text-align: left;\">String15</th><th title = \"Int64\" style = \"text-align: left;\">Int64</th></tr></thead><tbody><tr><td class = \"rowNumber\" style = \"font-weight: bold; text-align: right;\">1</td><td style = \"text-align: left;\">G2_431872</td><td style = \"text-align: left;\">G1_801698</td><td style = \"text-align: left;\">G1_973614</td><td style = \"text-align: right;\">1</td></tr><tr><td class = \"rowNumber\" style = \"font-weight: bold; text-align: right;\">2</td><td style = \"text-align: left;\">G2_432072</td><td style = \"text-align: left;\">G1_801698</td><td style = \"text-align: left;\">G1_973614</td><td style = \"text-align: right;\">1</td></tr><tr><td class = \"rowNumber\" style = \"font-weight: bold; text-align: right;\">3</td><td style = \"text-align: left;\">G2_425484</td><td style = \"text-align: left;\">G1_801698</td><td style = \"text-align: left;\">G1_973614</td><td style = \"text-align: right;\">1</td></tr><tr><td class = \"rowNumber\" style = \"font-weight: bold; text-align: right;\">4</td><td style = \"text-align: left;\">G2_426165</td><td style = \"text-align: left;\">G1_801698</td><td style = \"text-align: left;\">G1_973614</td><td style = \"text-align: right;\">1</td></tr><tr><td class = \"rowNumber\" style = \"font-weight: bold; text-align: right;\">5</td><td style = \"text-align: left;\">G2_431334</td><td style = \"text-align: left;\">G1_801698</td><td style = \"text-align: left;\">G1_973614</td><td style = \"text-align: right;\">1</td></tr><tr><td class = \"rowNumber\" style = \"font-weight: bold; text-align: right;\">6</td><td style = \"text-align: left;\">G2_425367</td><td style = \"text-align: left;\">G1_801698</td><td style = \"text-align: left;\">G1_973614</td><td style = \"text-align: right;\">1</td></tr><tr><td class = \"rowNumber\" style = \"font-weight: bold; text-align: right;\">7</td><td style = \"text-align: left;\">G2_425503</td><td style = \"text-align: left;\">G1_801698</td><td style = \"text-align: left;\">G1_973614</td><td style = \"text-align: right;\">1</td></tr><tr><td class = \"rowNumber\" style = \"font-weight: bold; text-align: right;\">8</td><td style = \"text-align: left;\">G2_430925</td><td style = \"text-align: left;\">G1_801698</td><td style = \"text-align: left;\">G1_973614</td><td style = \"text-align: right;\">1</td></tr><tr><td class = \"rowNumber\" style = \"font-weight: bold; text-align: right;\">9</td><td style = \"text-align: left;\">G2_431214</td><td style = \"text-align: left;\">G1_801698</td><td style = \"text-align: left;\">G1_973614</td><td style = \"text-align: right;\">1</td></tr><tr><td class = \"rowNumber\" style = \"font-weight: bold; text-align: right;\">10</td><td style = \"text-align: left;\">G2_425304</td><td style = \"text-align: left;\">G1_801698</td><td style = \"text-align: left;\">G1_973614</td><td style = \"text-align: right;\">1</td></tr><tr><td class = \"rowNumber\" style = \"font-weight: bold; text-align: right;\">11</td><td style = \"text-align: left;\">G2_431658</td><td style = \"text-align: left;\">G1_801698</td><td style = \"text-align: left;\">G1_973614</td><td style = \"text-align: right;\">1</td></tr><tr><td class = \"rowNumber\" style = \"font-weight: bold; text-align: right;\">12</td><td style = \"text-align: left;\">G2_426022</td><td style = \"text-align: left;\">G1_801698</td><td style = \"text-align: left;\">G1_973614</td><td style = \"text-align: right;\">1</td></tr><tr><td class = \"rowNumber\" style = \"font-weight: bold; text-align: right;\">13</td><td style = \"text-align: left;\">G2_425556</td><td style = \"text-align: left;\">G1_801698</td><td style = \"text-align: left;\">G1_973614</td><td style = \"text-align: right;\">1</td></tr><tr><td style = \"text-align: right;\">&vellip;</td><td style = \"text-align: right;\">&vellip;</td><td style = \"text-align: right;\">&vellip;</td><td style = \"text-align: right;\">&vellip;</td><td style = \"text-align: right;\">&vellip;</td></tr><tr><td class = \"rowNumber\" style = \"font-weight: bold; text-align: right;\">42</td><td style = \"text-align: left;\">G2_7801156</td><td style = \"text-align: left;\">G1_801698</td><td style = \"text-align: left;\">G1_802693</td><td style = \"text-align: right;\">1</td></tr><tr><td class = \"rowNumber\" style = \"font-weight: bold; text-align: right;\">43</td><td style = \"text-align: left;\">G2_7402296</td><td style = \"text-align: left;\">G1_801698</td><td style = \"text-align: left;\">G1_802693</td><td style = \"text-align: right;\">1</td></tr><tr><td class = \"rowNumber\" style = \"font-weight: bold; text-align: right;\">44</td><td style = \"text-align: left;\">G2_7402294</td><td style = \"text-align: left;\">G1_801698</td><td style = \"text-align: left;\">G1_802693</td><td style = \"text-align: right;\">1</td></tr><tr><td class = \"rowNumber\" style = \"font-weight: bold; text-align: right;\">45</td><td style = \"text-align: left;\">G2_7091777</td><td style = \"text-align: left;\">G1_801698</td><td style = \"text-align: left;\">G1_802693</td><td style = \"text-align: right;\">1</td></tr><tr><td class = \"rowNumber\" style = \"font-weight: bold; text-align: right;\">46</td><td style = \"text-align: left;\">G2_7801132</td><td style = \"text-align: left;\">G1_801698</td><td style = \"text-align: left;\">G1_802693</td><td style = \"text-align: right;\">1</td></tr><tr><td class = \"rowNumber\" style = \"font-weight: bold; text-align: right;\">47</td><td style = \"text-align: left;\">G2_7402413</td><td style = \"text-align: left;\">G1_801698</td><td style = \"text-align: left;\">G1_802693</td><td style = \"text-align: right;\">1</td></tr><tr><td class = \"rowNumber\" style = \"font-weight: bold; text-align: right;\">48</td><td style = \"text-align: left;\">G2_7402362</td><td style = \"text-align: left;\">G1_801698</td><td style = \"text-align: left;\">G1_802693</td><td style = \"text-align: right;\">1</td></tr><tr><td class = \"rowNumber\" style = \"font-weight: bold; text-align: right;\">49</td><td style = \"text-align: left;\">G2_7402364</td><td style = \"text-align: left;\">G1_801698</td><td style = \"text-align: left;\">G1_802693</td><td style = \"text-align: right;\">1</td></tr><tr><td class = \"rowNumber\" style = \"font-weight: bold; text-align: right;\">50</td><td style = \"text-align: left;\">G2_7091741</td><td style = \"text-align: left;\">G1_801698</td><td style = \"text-align: left;\">G1_802693</td><td style = \"text-align: right;\">1</td></tr><tr><td class = \"rowNumber\" style = \"font-weight: bold; text-align: right;\">51</td><td style = \"text-align: left;\">G3_801</td><td style = \"text-align: left;\">G2_7091741</td><td style = \"text-align: left;\">G2_7402364</td><td style = \"text-align: right;\">1</td></tr><tr><td class = \"rowNumber\" style = \"font-weight: bold; text-align: right;\">52</td><td style = \"text-align: left;\">G3_801</td><td style = \"text-align: left;\">G2_7091741</td><td style = \"text-align: left;\">G2_7402364</td><td style = \"text-align: right;\">1</td></tr><tr><td class = \"rowNumber\" style = \"font-weight: bold; text-align: right;\">53</td><td style = \"text-align: left;\">G3_801</td><td style = \"text-align: left;\">G2_7091741</td><td style = \"text-align: left;\">G2_7402364</td><td style = \"text-align: right;\">1</td></tr></tbody></table></div>"
      ],
      "text/latex": [
       "\\begin{tabular}{r|cccc}\n",
       "\t& Id & Sire & Dam & Generation\\\\\n",
       "\t\\hline\n",
       "\t& String15 & String15 & String15 & Int64\\\\\n",
       "\t\\hline\n",
       "\t1 & G2\\_431872 & G1\\_801698 & G1\\_973614 & 1 \\\\\n",
       "\t2 & G2\\_432072 & G1\\_801698 & G1\\_973614 & 1 \\\\\n",
       "\t3 & G2\\_425484 & G1\\_801698 & G1\\_973614 & 1 \\\\\n",
       "\t4 & G2\\_426165 & G1\\_801698 & G1\\_973614 & 1 \\\\\n",
       "\t5 & G2\\_431334 & G1\\_801698 & G1\\_973614 & 1 \\\\\n",
       "\t6 & G2\\_425367 & G1\\_801698 & G1\\_973614 & 1 \\\\\n",
       "\t7 & G2\\_425503 & G1\\_801698 & G1\\_973614 & 1 \\\\\n",
       "\t8 & G2\\_430925 & G1\\_801698 & G1\\_973614 & 1 \\\\\n",
       "\t9 & G2\\_431214 & G1\\_801698 & G1\\_973614 & 1 \\\\\n",
       "\t10 & G2\\_425304 & G1\\_801698 & G1\\_973614 & 1 \\\\\n",
       "\t11 & G2\\_431658 & G1\\_801698 & G1\\_973614 & 1 \\\\\n",
       "\t12 & G2\\_426022 & G1\\_801698 & G1\\_973614 & 1 \\\\\n",
       "\t13 & G2\\_425556 & G1\\_801698 & G1\\_973614 & 1 \\\\\n",
       "\t14 & G2\\_425064 & G1\\_801698 & G1\\_973614 & 1 \\\\\n",
       "\t15 & G2\\_431112 & G1\\_801698 & G1\\_973614 & 1 \\\\\n",
       "\t16 & G2\\_425024 & G1\\_801698 & G1\\_973614 & 1 \\\\\n",
       "\t17 & G2\\_7800873 & G1\\_801698 & G1\\_973614 & 1 \\\\\n",
       "\t18 & G2\\_7801208 & G1\\_801698 & G1\\_973614 & 1 \\\\\n",
       "\t19 & G2\\_7091787 & G1\\_801698 & G1\\_973614 & 1 \\\\\n",
       "\t20 & G2\\_7091747 & G1\\_801698 & G1\\_973614 & 1 \\\\\n",
       "\t21 & G2\\_7801035 & G1\\_801698 & G1\\_973614 & 1 \\\\\n",
       "\t22 & G2\\_7402382 & G1\\_801698 & G1\\_973614 & 1 \\\\\n",
       "\t23 & G2\\_7801243 & G1\\_801698 & G1\\_973614 & 1 \\\\\n",
       "\t24 & G2\\_7402431 & G1\\_801698 & G1\\_973614 & 1 \\\\\n",
       "\t$\\dots$ & $\\dots$ & $\\dots$ & $\\dots$ & $\\dots$ \\\\\n",
       "\\end{tabular}\n"
      ],
      "text/plain": [
       "\u001b[1m53×4 DataFrame\u001b[0m\n",
       "\u001b[1m Row \u001b[0m│\u001b[1m Id         \u001b[0m\u001b[1m Sire       \u001b[0m\u001b[1m Dam        \u001b[0m\u001b[1m Generation \u001b[0m\n",
       "     │\u001b[90m String15   \u001b[0m\u001b[90m String15   \u001b[0m\u001b[90m String15   \u001b[0m\u001b[90m Int64      \u001b[0m\n",
       "─────┼────────────────────────────────────────────────\n",
       "   1 │ G2_431872   G1_801698   G1_973614            1\n",
       "   2 │ G2_432072   G1_801698   G1_973614            1\n",
       "   3 │ G2_425484   G1_801698   G1_973614            1\n",
       "   4 │ G2_426165   G1_801698   G1_973614            1\n",
       "   5 │ G2_431334   G1_801698   G1_973614            1\n",
       "   6 │ G2_425367   G1_801698   G1_973614            1\n",
       "   7 │ G2_425503   G1_801698   G1_973614            1\n",
       "   8 │ G2_430925   G1_801698   G1_973614            1\n",
       "  ⋮  │     ⋮           ⋮           ⋮           ⋮\n",
       "  47 │ G2_7402413  G1_801698   G1_802693            1\n",
       "  48 │ G2_7402362  G1_801698   G1_802693            1\n",
       "  49 │ G2_7402364  G1_801698   G1_802693            1\n",
       "  50 │ G2_7091741  G1_801698   G1_802693            1\n",
       "  51 │ G3_801      G2_7091741  G2_7402364           1\n",
       "  52 │ G3_801      G2_7091741  G2_7402364           1\n",
       "  53 │ G3_801      G2_7091741  G2_7402364           1\n",
       "\u001b[36m                                       38 rows omitted\u001b[0m"
      ]
     },
     "metadata": {},
     "output_type": "display_data"
    }
   ],
   "source": [
    "ped_copy = copy(ped_1)"
   ]
  },
  {
   "cell_type": "code",
   "execution_count": 20,
   "metadata": {},
   "outputs": [
    {
     "ename": "ArgumentError",
     "evalue": "ArgumentError: Column names :Generation were found in only in destination data frame and `cols == :intersect`",
     "output_type": "error",
     "traceback": [
      "ArgumentError: Column names :Generation were found in only in destination data frame and `cols == :intersect`\n",
      "\n",
      "Stacktrace:\n",
      " [1] _append_or_prepend!(df1::DataFrame, df2::DataFrame; cols::Symbol, promote::Bool, atend::Bool)\n",
      "   @ DataFrames ~/.julia/packages/DataFrames/kcA9R/src/dataframe/insertion.jl:283\n",
      " [2] _append_or_prepend!\n",
      "   @ ~/.julia/packages/DataFrames/kcA9R/src/dataframe/insertion.jl:239 [inlined]\n",
      " [3] #append!#328\n",
      "   @ ~/.julia/packages/DataFrames/kcA9R/src/dataframe/insertion.jl:93 [inlined]\n",
      " [4] top-level scope\n",
      "   @ ~/Library/CloudStorage/OneDrive-Sverigeslantbruksuniversitet/Teaching/Julia_SLU/Teaching_material/Day3/jl_notebook_cell_df34fa98e69747e1a8f8a730347b8e2f_X40sZmlsZQ==.jl:1"
     ]
    }
   ],
   "source": [
    "append!(ped_copy, ped_2; cols=:intersect)"
   ]
  },
  {
   "cell_type": "code",
   "execution_count": 21,
   "metadata": {},
   "outputs": [
    {
     "data": {
      "text/html": [
       "<div><div style = \"float: left;\"><span>103×4 DataFrame</span></div><div style = \"float: right;\"><span style = \"font-style: italic;\">78 rows omitted</span></div><div style = \"clear: both;\"></div></div><div class = \"data-frame\" style = \"overflow-x: scroll;\"><table class = \"data-frame\" style = \"margin-bottom: 6px;\"><thead><tr class = \"header\"><th class = \"rowNumber\" style = \"font-weight: bold; text-align: right;\">Row</th><th style = \"text-align: left;\">Id</th><th style = \"text-align: left;\">Sire</th><th style = \"text-align: left;\">Dam</th><th style = \"text-align: left;\">Generation</th></tr><tr class = \"subheader headerLastRow\"><th class = \"rowNumber\" style = \"font-weight: bold; text-align: right;\"></th><th title = \"String15\" style = \"text-align: left;\">String15</th><th title = \"String15\" style = \"text-align: left;\">String15</th><th title = \"String15\" style = \"text-align: left;\">String15</th><th title = \"Union{Missing, Int64}\" style = \"text-align: left;\">Int64?</th></tr></thead><tbody><tr><td class = \"rowNumber\" style = \"font-weight: bold; text-align: right;\">1</td><td style = \"text-align: left;\">G2_431872</td><td style = \"text-align: left;\">G1_801698</td><td style = \"text-align: left;\">G1_973614</td><td style = \"text-align: right;\">1</td></tr><tr><td class = \"rowNumber\" style = \"font-weight: bold; text-align: right;\">2</td><td style = \"text-align: left;\">G2_432072</td><td style = \"text-align: left;\">G1_801698</td><td style = \"text-align: left;\">G1_973614</td><td style = \"text-align: right;\">1</td></tr><tr><td class = \"rowNumber\" style = \"font-weight: bold; text-align: right;\">3</td><td style = \"text-align: left;\">G2_425484</td><td style = \"text-align: left;\">G1_801698</td><td style = \"text-align: left;\">G1_973614</td><td style = \"text-align: right;\">1</td></tr><tr><td class = \"rowNumber\" style = \"font-weight: bold; text-align: right;\">4</td><td style = \"text-align: left;\">G2_426165</td><td style = \"text-align: left;\">G1_801698</td><td style = \"text-align: left;\">G1_973614</td><td style = \"text-align: right;\">1</td></tr><tr><td class = \"rowNumber\" style = \"font-weight: bold; text-align: right;\">5</td><td style = \"text-align: left;\">G2_431334</td><td style = \"text-align: left;\">G1_801698</td><td style = \"text-align: left;\">G1_973614</td><td style = \"text-align: right;\">1</td></tr><tr><td class = \"rowNumber\" style = \"font-weight: bold; text-align: right;\">6</td><td style = \"text-align: left;\">G2_425367</td><td style = \"text-align: left;\">G1_801698</td><td style = \"text-align: left;\">G1_973614</td><td style = \"text-align: right;\">1</td></tr><tr><td class = \"rowNumber\" style = \"font-weight: bold; text-align: right;\">7</td><td style = \"text-align: left;\">G2_425503</td><td style = \"text-align: left;\">G1_801698</td><td style = \"text-align: left;\">G1_973614</td><td style = \"text-align: right;\">1</td></tr><tr><td class = \"rowNumber\" style = \"font-weight: bold; text-align: right;\">8</td><td style = \"text-align: left;\">G2_430925</td><td style = \"text-align: left;\">G1_801698</td><td style = \"text-align: left;\">G1_973614</td><td style = \"text-align: right;\">1</td></tr><tr><td class = \"rowNumber\" style = \"font-weight: bold; text-align: right;\">9</td><td style = \"text-align: left;\">G2_431214</td><td style = \"text-align: left;\">G1_801698</td><td style = \"text-align: left;\">G1_973614</td><td style = \"text-align: right;\">1</td></tr><tr><td class = \"rowNumber\" style = \"font-weight: bold; text-align: right;\">10</td><td style = \"text-align: left;\">G2_425304</td><td style = \"text-align: left;\">G1_801698</td><td style = \"text-align: left;\">G1_973614</td><td style = \"text-align: right;\">1</td></tr><tr><td class = \"rowNumber\" style = \"font-weight: bold; text-align: right;\">11</td><td style = \"text-align: left;\">G2_431658</td><td style = \"text-align: left;\">G1_801698</td><td style = \"text-align: left;\">G1_973614</td><td style = \"text-align: right;\">1</td></tr><tr><td class = \"rowNumber\" style = \"font-weight: bold; text-align: right;\">12</td><td style = \"text-align: left;\">G2_426022</td><td style = \"text-align: left;\">G1_801698</td><td style = \"text-align: left;\">G1_973614</td><td style = \"text-align: right;\">1</td></tr><tr><td class = \"rowNumber\" style = \"font-weight: bold; text-align: right;\">13</td><td style = \"text-align: left;\">G2_425556</td><td style = \"text-align: left;\">G1_801698</td><td style = \"text-align: left;\">G1_973614</td><td style = \"text-align: right;\">1</td></tr><tr><td style = \"text-align: right;\">&vellip;</td><td style = \"text-align: right;\">&vellip;</td><td style = \"text-align: right;\">&vellip;</td><td style = \"text-align: right;\">&vellip;</td><td style = \"text-align: right;\">&vellip;</td></tr><tr><td class = \"rowNumber\" style = \"font-weight: bold; text-align: right;\">92</td><td style = \"text-align: left;\">G2_430655</td><td style = \"text-align: left;\">G1_823196</td><td style = \"text-align: left;\">G1_822979</td><td style = \"font-style: italic; text-align: right;\">missing</td></tr><tr><td class = \"rowNumber\" style = \"font-weight: bold; text-align: right;\">93</td><td style = \"text-align: left;\">G2_425625</td><td style = \"text-align: left;\">G1_823196</td><td style = \"text-align: left;\">G1_822979</td><td style = \"font-style: italic; text-align: right;\">missing</td></tr><tr><td class = \"rowNumber\" style = \"font-weight: bold; text-align: right;\">94</td><td style = \"text-align: left;\">G2_430896</td><td style = \"text-align: left;\">G1_823196</td><td style = \"text-align: left;\">G1_822979</td><td style = \"font-style: italic; text-align: right;\">missing</td></tr><tr><td class = \"rowNumber\" style = \"font-weight: bold; text-align: right;\">95</td><td style = \"text-align: left;\">G2_430298</td><td style = \"text-align: left;\">G1_823196</td><td style = \"text-align: left;\">G1_822979</td><td style = \"font-style: italic; text-align: right;\">missing</td></tr><tr><td class = \"rowNumber\" style = \"font-weight: bold; text-align: right;\">96</td><td style = \"text-align: left;\">G2_430365</td><td style = \"text-align: left;\">G1_823196</td><td style = \"text-align: left;\">G1_822979</td><td style = \"font-style: italic; text-align: right;\">missing</td></tr><tr><td class = \"rowNumber\" style = \"font-weight: bold; text-align: right;\">97</td><td style = \"text-align: left;\">G2_426096</td><td style = \"text-align: left;\">G1_823196</td><td style = \"text-align: left;\">G1_822979</td><td style = \"font-style: italic; text-align: right;\">missing</td></tr><tr><td class = \"rowNumber\" style = \"font-weight: bold; text-align: right;\">98</td><td style = \"text-align: left;\">G2_425704</td><td style = \"text-align: left;\">G1_823196</td><td style = \"text-align: left;\">G1_299593</td><td style = \"font-style: italic; text-align: right;\">missing</td></tr><tr><td class = \"rowNumber\" style = \"font-weight: bold; text-align: right;\">99</td><td style = \"text-align: left;\">G2_431299</td><td style = \"text-align: left;\">G1_823196</td><td style = \"text-align: left;\">G1_299593</td><td style = \"font-style: italic; text-align: right;\">missing</td></tr><tr><td class = \"rowNumber\" style = \"font-weight: bold; text-align: right;\">100</td><td style = \"text-align: left;\">G2_430923</td><td style = \"text-align: left;\">G1_823196</td><td style = \"text-align: left;\">G1_299593</td><td style = \"font-style: italic; text-align: right;\">missing</td></tr><tr><td class = \"rowNumber\" style = \"font-weight: bold; text-align: right;\">101</td><td style = \"text-align: left;\">G2_430909</td><td style = \"text-align: left;\">G1_823196</td><td style = \"text-align: left;\">G1_299593</td><td style = \"font-style: italic; text-align: right;\">missing</td></tr><tr><td class = \"rowNumber\" style = \"font-weight: bold; text-align: right;\">102</td><td style = \"text-align: left;\">G2_425812</td><td style = \"text-align: left;\">G1_823196</td><td style = \"text-align: left;\">G1_299593</td><td style = \"font-style: italic; text-align: right;\">missing</td></tr><tr><td class = \"rowNumber\" style = \"font-weight: bold; text-align: right;\">103</td><td style = \"text-align: left;\">G2_430452</td><td style = \"text-align: left;\">G1_823196</td><td style = \"text-align: left;\">G1_299593</td><td style = \"font-style: italic; text-align: right;\">missing</td></tr></tbody></table></div>"
      ],
      "text/latex": [
       "\\begin{tabular}{r|cccc}\n",
       "\t& Id & Sire & Dam & Generation\\\\\n",
       "\t\\hline\n",
       "\t& String15 & String15 & String15 & Int64?\\\\\n",
       "\t\\hline\n",
       "\t1 & G2\\_431872 & G1\\_801698 & G1\\_973614 & 1 \\\\\n",
       "\t2 & G2\\_432072 & G1\\_801698 & G1\\_973614 & 1 \\\\\n",
       "\t3 & G2\\_425484 & G1\\_801698 & G1\\_973614 & 1 \\\\\n",
       "\t4 & G2\\_426165 & G1\\_801698 & G1\\_973614 & 1 \\\\\n",
       "\t5 & G2\\_431334 & G1\\_801698 & G1\\_973614 & 1 \\\\\n",
       "\t6 & G2\\_425367 & G1\\_801698 & G1\\_973614 & 1 \\\\\n",
       "\t7 & G2\\_425503 & G1\\_801698 & G1\\_973614 & 1 \\\\\n",
       "\t8 & G2\\_430925 & G1\\_801698 & G1\\_973614 & 1 \\\\\n",
       "\t9 & G2\\_431214 & G1\\_801698 & G1\\_973614 & 1 \\\\\n",
       "\t10 & G2\\_425304 & G1\\_801698 & G1\\_973614 & 1 \\\\\n",
       "\t11 & G2\\_431658 & G1\\_801698 & G1\\_973614 & 1 \\\\\n",
       "\t12 & G2\\_426022 & G1\\_801698 & G1\\_973614 & 1 \\\\\n",
       "\t13 & G2\\_425556 & G1\\_801698 & G1\\_973614 & 1 \\\\\n",
       "\t14 & G2\\_425064 & G1\\_801698 & G1\\_973614 & 1 \\\\\n",
       "\t15 & G2\\_431112 & G1\\_801698 & G1\\_973614 & 1 \\\\\n",
       "\t16 & G2\\_425024 & G1\\_801698 & G1\\_973614 & 1 \\\\\n",
       "\t17 & G2\\_7800873 & G1\\_801698 & G1\\_973614 & 1 \\\\\n",
       "\t18 & G2\\_7801208 & G1\\_801698 & G1\\_973614 & 1 \\\\\n",
       "\t19 & G2\\_7091787 & G1\\_801698 & G1\\_973614 & 1 \\\\\n",
       "\t20 & G2\\_7091747 & G1\\_801698 & G1\\_973614 & 1 \\\\\n",
       "\t21 & G2\\_7801035 & G1\\_801698 & G1\\_973614 & 1 \\\\\n",
       "\t22 & G2\\_7402382 & G1\\_801698 & G1\\_973614 & 1 \\\\\n",
       "\t23 & G2\\_7801243 & G1\\_801698 & G1\\_973614 & 1 \\\\\n",
       "\t24 & G2\\_7402431 & G1\\_801698 & G1\\_973614 & 1 \\\\\n",
       "\t$\\dots$ & $\\dots$ & $\\dots$ & $\\dots$ & $\\dots$ \\\\\n",
       "\\end{tabular}\n"
      ],
      "text/plain": [
       "\u001b[1m103×4 DataFrame\u001b[0m\n",
       "\u001b[1m Row \u001b[0m│\u001b[1m Id        \u001b[0m\u001b[1m Sire      \u001b[0m\u001b[1m Dam       \u001b[0m\u001b[1m Generation \u001b[0m\n",
       "     │\u001b[90m String15  \u001b[0m\u001b[90m String15  \u001b[0m\u001b[90m String15  \u001b[0m\u001b[90m Int64?     \u001b[0m\n",
       "─────┼─────────────────────────────────────────────\n",
       "   1 │ G2_431872  G1_801698  G1_973614           1\n",
       "   2 │ G2_432072  G1_801698  G1_973614           1\n",
       "   3 │ G2_425484  G1_801698  G1_973614           1\n",
       "   4 │ G2_426165  G1_801698  G1_973614           1\n",
       "   5 │ G2_431334  G1_801698  G1_973614           1\n",
       "   6 │ G2_425367  G1_801698  G1_973614           1\n",
       "   7 │ G2_425503  G1_801698  G1_973614           1\n",
       "   8 │ G2_430925  G1_801698  G1_973614           1\n",
       "  ⋮  │     ⋮          ⋮          ⋮          ⋮\n",
       "  97 │ G2_426096  G1_823196  G1_822979 \u001b[90m    missing \u001b[0m\n",
       "  98 │ G2_425704  G1_823196  G1_299593 \u001b[90m    missing \u001b[0m\n",
       "  99 │ G2_431299  G1_823196  G1_299593 \u001b[90m    missing \u001b[0m\n",
       " 100 │ G2_430923  G1_823196  G1_299593 \u001b[90m    missing \u001b[0m\n",
       " 101 │ G2_430909  G1_823196  G1_299593 \u001b[90m    missing \u001b[0m\n",
       " 102 │ G2_425812  G1_823196  G1_299593 \u001b[90m    missing \u001b[0m\n",
       " 103 │ G2_430452  G1_823196  G1_299593 \u001b[90m    missing \u001b[0m\n",
       "\u001b[36m                                    88 rows omitted\u001b[0m"
      ]
     },
     "metadata": {},
     "output_type": "display_data"
    }
   ],
   "source": [
    "append!(ped_copy, ped_2; cols=:subset)"
   ]
  },
  {
   "cell_type": "markdown",
   "metadata": {},
   "source": [
    "The `promote` keyword argument from the `append`function can be of value when a column found in the dataframes of interest doesn't have the same type of values across them. E.g. there are missing values in one of them. "
   ]
  },
  {
   "cell_type": "code",
   "execution_count": 22,
   "metadata": {},
   "outputs": [
    {
     "name": "stderr",
     "output_type": "stream",
     "text": [
      "┌ Error: Error adding value to column :Generation. Maybe you forgot passing `promote=true`?\n",
      "└ @ DataFrames /Users/christos/.julia/packages/DataFrames/kcA9R/src/dataframe/insertion.jl:369\n"
     ]
    },
    {
     "ename": "MethodError",
     "evalue": "MethodError: Cannot `convert` an object of type Missing to an object of type Int64\nThe function `convert` exists, but no method is defined for this combination of argument types.\n\nClosest candidates are:\n  convert(::Type{T}, !Matched::T) where T<:Number\n   @ Base number.jl:6\n  convert(::Type{T}, !Matched::AbstractChar) where T<:Number\n   @ Base char.jl:185\n  convert(::Type{T}, !Matched::SentinelArrays.ChainedVectorIndex) where T<:Union{Signed, Unsigned}\n   @ SentinelArrays ~/.julia/packages/SentinelArrays/ob2QK/src/chainedvector.jl:262\n  ...\n",
     "output_type": "error",
     "traceback": [
      "MethodError: Cannot `convert` an object of type Missing to an object of type Int64\n",
      "The function `convert` exists, but no method is defined for this combination of argument types.\n",
      "\n",
      "Closest candidates are:\n",
      "  convert(::Type{T}, !Matched::T) where T<:Number\n",
      "   @ Base number.jl:6\n",
      "  convert(::Type{T}, !Matched::AbstractChar) where T<:Number\n",
      "   @ Base char.jl:185\n",
      "  convert(::Type{T}, !Matched::SentinelArrays.ChainedVectorIndex) where T<:Union{Signed, Unsigned}\n",
      "   @ SentinelArrays ~/.julia/packages/SentinelArrays/ob2QK/src/chainedvector.jl:262\n",
      "  ...\n",
      "\n",
      "\n",
      "Stacktrace:\n",
      " [1] push!(a::Vector{Int64}, item::Missing)\n",
      "   @ Base ./array.jl:1249\n",
      " [2] _append!(a::Vector{Int64}, ::Base.HasShape{1}, iter::Vector{Union{Missing, Int64}})\n",
      "   @ Base ./array.jl:1327\n",
      " [3] append!(a::Vector{Int64}, iter::Vector{Union{Missing, Int64}})\n",
      "   @ Base ./array.jl:1318\n",
      " [4] _append_or_prepend!(df1::DataFrame, df2::DataFrame; cols::Symbol, promote::Bool, atend::Bool)\n",
      "   @ DataFrames ~/.julia/packages/DataFrames/kcA9R/src/dataframe/insertion.jl:308\n",
      " [5] _append_or_prepend!\n",
      "   @ ~/.julia/packages/DataFrames/kcA9R/src/dataframe/insertion.jl:239 [inlined]\n",
      " [6] #append!#328\n",
      "   @ ~/.julia/packages/DataFrames/kcA9R/src/dataframe/insertion.jl:93 [inlined]\n",
      " [7] top-level scope\n",
      "   @ ~/Library/CloudStorage/OneDrive-Sverigeslantbruksuniversitet/Teaching/Julia_SLU/Teaching_material/Day3/jl_notebook_cell_df34fa98e69747e1a8f8a730347b8e2f_X43sZmlsZQ==.jl:1"
     ]
    }
   ],
   "source": [
    "append!(ped_1,ped_copy; promote=false)"
   ]
  },
  {
   "cell_type": "code",
   "execution_count": 23,
   "metadata": {},
   "outputs": [
    {
     "data": {
      "text/html": [
       "<div><div style = \"float: left;\"><span>156×4 DataFrame</span></div><div style = \"float: right;\"><span style = \"font-style: italic;\">131 rows omitted</span></div><div style = \"clear: both;\"></div></div><div class = \"data-frame\" style = \"overflow-x: scroll;\"><table class = \"data-frame\" style = \"margin-bottom: 6px;\"><thead><tr class = \"header\"><th class = \"rowNumber\" style = \"font-weight: bold; text-align: right;\">Row</th><th style = \"text-align: left;\">Id</th><th style = \"text-align: left;\">Sire</th><th style = \"text-align: left;\">Dam</th><th style = \"text-align: left;\">Generation</th></tr><tr class = \"subheader headerLastRow\"><th class = \"rowNumber\" style = \"font-weight: bold; text-align: right;\"></th><th title = \"String15\" style = \"text-align: left;\">String15</th><th title = \"String15\" style = \"text-align: left;\">String15</th><th title = \"String15\" style = \"text-align: left;\">String15</th><th title = \"Union{Missing, Int64}\" style = \"text-align: left;\">Int64?</th></tr></thead><tbody><tr><td class = \"rowNumber\" style = \"font-weight: bold; text-align: right;\">1</td><td style = \"text-align: left;\">G2_431872</td><td style = \"text-align: left;\">G1_801698</td><td style = \"text-align: left;\">G1_973614</td><td style = \"text-align: right;\">1</td></tr><tr><td class = \"rowNumber\" style = \"font-weight: bold; text-align: right;\">2</td><td style = \"text-align: left;\">G2_432072</td><td style = \"text-align: left;\">G1_801698</td><td style = \"text-align: left;\">G1_973614</td><td style = \"text-align: right;\">1</td></tr><tr><td class = \"rowNumber\" style = \"font-weight: bold; text-align: right;\">3</td><td style = \"text-align: left;\">G2_425484</td><td style = \"text-align: left;\">G1_801698</td><td style = \"text-align: left;\">G1_973614</td><td style = \"text-align: right;\">1</td></tr><tr><td class = \"rowNumber\" style = \"font-weight: bold; text-align: right;\">4</td><td style = \"text-align: left;\">G2_426165</td><td style = \"text-align: left;\">G1_801698</td><td style = \"text-align: left;\">G1_973614</td><td style = \"text-align: right;\">1</td></tr><tr><td class = \"rowNumber\" style = \"font-weight: bold; text-align: right;\">5</td><td style = \"text-align: left;\">G2_431334</td><td style = \"text-align: left;\">G1_801698</td><td style = \"text-align: left;\">G1_973614</td><td style = \"text-align: right;\">1</td></tr><tr><td class = \"rowNumber\" style = \"font-weight: bold; text-align: right;\">6</td><td style = \"text-align: left;\">G2_425367</td><td style = \"text-align: left;\">G1_801698</td><td style = \"text-align: left;\">G1_973614</td><td style = \"text-align: right;\">1</td></tr><tr><td class = \"rowNumber\" style = \"font-weight: bold; text-align: right;\">7</td><td style = \"text-align: left;\">G2_425503</td><td style = \"text-align: left;\">G1_801698</td><td style = \"text-align: left;\">G1_973614</td><td style = \"text-align: right;\">1</td></tr><tr><td class = \"rowNumber\" style = \"font-weight: bold; text-align: right;\">8</td><td style = \"text-align: left;\">G2_430925</td><td style = \"text-align: left;\">G1_801698</td><td style = \"text-align: left;\">G1_973614</td><td style = \"text-align: right;\">1</td></tr><tr><td class = \"rowNumber\" style = \"font-weight: bold; text-align: right;\">9</td><td style = \"text-align: left;\">G2_431214</td><td style = \"text-align: left;\">G1_801698</td><td style = \"text-align: left;\">G1_973614</td><td style = \"text-align: right;\">1</td></tr><tr><td class = \"rowNumber\" style = \"font-weight: bold; text-align: right;\">10</td><td style = \"text-align: left;\">G2_425304</td><td style = \"text-align: left;\">G1_801698</td><td style = \"text-align: left;\">G1_973614</td><td style = \"text-align: right;\">1</td></tr><tr><td class = \"rowNumber\" style = \"font-weight: bold; text-align: right;\">11</td><td style = \"text-align: left;\">G2_431658</td><td style = \"text-align: left;\">G1_801698</td><td style = \"text-align: left;\">G1_973614</td><td style = \"text-align: right;\">1</td></tr><tr><td class = \"rowNumber\" style = \"font-weight: bold; text-align: right;\">12</td><td style = \"text-align: left;\">G2_426022</td><td style = \"text-align: left;\">G1_801698</td><td style = \"text-align: left;\">G1_973614</td><td style = \"text-align: right;\">1</td></tr><tr><td class = \"rowNumber\" style = \"font-weight: bold; text-align: right;\">13</td><td style = \"text-align: left;\">G2_425556</td><td style = \"text-align: left;\">G1_801698</td><td style = \"text-align: left;\">G1_973614</td><td style = \"text-align: right;\">1</td></tr><tr><td style = \"text-align: right;\">&vellip;</td><td style = \"text-align: right;\">&vellip;</td><td style = \"text-align: right;\">&vellip;</td><td style = \"text-align: right;\">&vellip;</td><td style = \"text-align: right;\">&vellip;</td></tr><tr><td class = \"rowNumber\" style = \"font-weight: bold; text-align: right;\">145</td><td style = \"text-align: left;\">G2_430655</td><td style = \"text-align: left;\">G1_823196</td><td style = \"text-align: left;\">G1_822979</td><td style = \"font-style: italic; text-align: right;\">missing</td></tr><tr><td class = \"rowNumber\" style = \"font-weight: bold; text-align: right;\">146</td><td style = \"text-align: left;\">G2_425625</td><td style = \"text-align: left;\">G1_823196</td><td style = \"text-align: left;\">G1_822979</td><td style = \"font-style: italic; text-align: right;\">missing</td></tr><tr><td class = \"rowNumber\" style = \"font-weight: bold; text-align: right;\">147</td><td style = \"text-align: left;\">G2_430896</td><td style = \"text-align: left;\">G1_823196</td><td style = \"text-align: left;\">G1_822979</td><td style = \"font-style: italic; text-align: right;\">missing</td></tr><tr><td class = \"rowNumber\" style = \"font-weight: bold; text-align: right;\">148</td><td style = \"text-align: left;\">G2_430298</td><td style = \"text-align: left;\">G1_823196</td><td style = \"text-align: left;\">G1_822979</td><td style = \"font-style: italic; text-align: right;\">missing</td></tr><tr><td class = \"rowNumber\" style = \"font-weight: bold; text-align: right;\">149</td><td style = \"text-align: left;\">G2_430365</td><td style = \"text-align: left;\">G1_823196</td><td style = \"text-align: left;\">G1_822979</td><td style = \"font-style: italic; text-align: right;\">missing</td></tr><tr><td class = \"rowNumber\" style = \"font-weight: bold; text-align: right;\">150</td><td style = \"text-align: left;\">G2_426096</td><td style = \"text-align: left;\">G1_823196</td><td style = \"text-align: left;\">G1_822979</td><td style = \"font-style: italic; text-align: right;\">missing</td></tr><tr><td class = \"rowNumber\" style = \"font-weight: bold; text-align: right;\">151</td><td style = \"text-align: left;\">G2_425704</td><td style = \"text-align: left;\">G1_823196</td><td style = \"text-align: left;\">G1_299593</td><td style = \"font-style: italic; text-align: right;\">missing</td></tr><tr><td class = \"rowNumber\" style = \"font-weight: bold; text-align: right;\">152</td><td style = \"text-align: left;\">G2_431299</td><td style = \"text-align: left;\">G1_823196</td><td style = \"text-align: left;\">G1_299593</td><td style = \"font-style: italic; text-align: right;\">missing</td></tr><tr><td class = \"rowNumber\" style = \"font-weight: bold; text-align: right;\">153</td><td style = \"text-align: left;\">G2_430923</td><td style = \"text-align: left;\">G1_823196</td><td style = \"text-align: left;\">G1_299593</td><td style = \"font-style: italic; text-align: right;\">missing</td></tr><tr><td class = \"rowNumber\" style = \"font-weight: bold; text-align: right;\">154</td><td style = \"text-align: left;\">G2_430909</td><td style = \"text-align: left;\">G1_823196</td><td style = \"text-align: left;\">G1_299593</td><td style = \"font-style: italic; text-align: right;\">missing</td></tr><tr><td class = \"rowNumber\" style = \"font-weight: bold; text-align: right;\">155</td><td style = \"text-align: left;\">G2_425812</td><td style = \"text-align: left;\">G1_823196</td><td style = \"text-align: left;\">G1_299593</td><td style = \"font-style: italic; text-align: right;\">missing</td></tr><tr><td class = \"rowNumber\" style = \"font-weight: bold; text-align: right;\">156</td><td style = \"text-align: left;\">G2_430452</td><td style = \"text-align: left;\">G1_823196</td><td style = \"text-align: left;\">G1_299593</td><td style = \"font-style: italic; text-align: right;\">missing</td></tr></tbody></table></div>"
      ],
      "text/latex": [
       "\\begin{tabular}{r|cccc}\n",
       "\t& Id & Sire & Dam & Generation\\\\\n",
       "\t\\hline\n",
       "\t& String15 & String15 & String15 & Int64?\\\\\n",
       "\t\\hline\n",
       "\t1 & G2\\_431872 & G1\\_801698 & G1\\_973614 & 1 \\\\\n",
       "\t2 & G2\\_432072 & G1\\_801698 & G1\\_973614 & 1 \\\\\n",
       "\t3 & G2\\_425484 & G1\\_801698 & G1\\_973614 & 1 \\\\\n",
       "\t4 & G2\\_426165 & G1\\_801698 & G1\\_973614 & 1 \\\\\n",
       "\t5 & G2\\_431334 & G1\\_801698 & G1\\_973614 & 1 \\\\\n",
       "\t6 & G2\\_425367 & G1\\_801698 & G1\\_973614 & 1 \\\\\n",
       "\t7 & G2\\_425503 & G1\\_801698 & G1\\_973614 & 1 \\\\\n",
       "\t8 & G2\\_430925 & G1\\_801698 & G1\\_973614 & 1 \\\\\n",
       "\t9 & G2\\_431214 & G1\\_801698 & G1\\_973614 & 1 \\\\\n",
       "\t10 & G2\\_425304 & G1\\_801698 & G1\\_973614 & 1 \\\\\n",
       "\t11 & G2\\_431658 & G1\\_801698 & G1\\_973614 & 1 \\\\\n",
       "\t12 & G2\\_426022 & G1\\_801698 & G1\\_973614 & 1 \\\\\n",
       "\t13 & G2\\_425556 & G1\\_801698 & G1\\_973614 & 1 \\\\\n",
       "\t14 & G2\\_425064 & G1\\_801698 & G1\\_973614 & 1 \\\\\n",
       "\t15 & G2\\_431112 & G1\\_801698 & G1\\_973614 & 1 \\\\\n",
       "\t16 & G2\\_425024 & G1\\_801698 & G1\\_973614 & 1 \\\\\n",
       "\t17 & G2\\_7800873 & G1\\_801698 & G1\\_973614 & 1 \\\\\n",
       "\t18 & G2\\_7801208 & G1\\_801698 & G1\\_973614 & 1 \\\\\n",
       "\t19 & G2\\_7091787 & G1\\_801698 & G1\\_973614 & 1 \\\\\n",
       "\t20 & G2\\_7091747 & G1\\_801698 & G1\\_973614 & 1 \\\\\n",
       "\t21 & G2\\_7801035 & G1\\_801698 & G1\\_973614 & 1 \\\\\n",
       "\t22 & G2\\_7402382 & G1\\_801698 & G1\\_973614 & 1 \\\\\n",
       "\t23 & G2\\_7801243 & G1\\_801698 & G1\\_973614 & 1 \\\\\n",
       "\t24 & G2\\_7402431 & G1\\_801698 & G1\\_973614 & 1 \\\\\n",
       "\t$\\dots$ & $\\dots$ & $\\dots$ & $\\dots$ & $\\dots$ \\\\\n",
       "\\end{tabular}\n"
      ],
      "text/plain": [
       "\u001b[1m156×4 DataFrame\u001b[0m\n",
       "\u001b[1m Row \u001b[0m│\u001b[1m Id        \u001b[0m\u001b[1m Sire      \u001b[0m\u001b[1m Dam       \u001b[0m\u001b[1m Generation \u001b[0m\n",
       "     │\u001b[90m String15  \u001b[0m\u001b[90m String15  \u001b[0m\u001b[90m String15  \u001b[0m\u001b[90m Int64?     \u001b[0m\n",
       "─────┼─────────────────────────────────────────────\n",
       "   1 │ G2_431872  G1_801698  G1_973614           1\n",
       "   2 │ G2_432072  G1_801698  G1_973614           1\n",
       "   3 │ G2_425484  G1_801698  G1_973614           1\n",
       "   4 │ G2_426165  G1_801698  G1_973614           1\n",
       "   5 │ G2_431334  G1_801698  G1_973614           1\n",
       "   6 │ G2_425367  G1_801698  G1_973614           1\n",
       "   7 │ G2_425503  G1_801698  G1_973614           1\n",
       "   8 │ G2_430925  G1_801698  G1_973614           1\n",
       "  ⋮  │     ⋮          ⋮          ⋮          ⋮\n",
       " 150 │ G2_426096  G1_823196  G1_822979 \u001b[90m    missing \u001b[0m\n",
       " 151 │ G2_425704  G1_823196  G1_299593 \u001b[90m    missing \u001b[0m\n",
       " 152 │ G2_431299  G1_823196  G1_299593 \u001b[90m    missing \u001b[0m\n",
       " 153 │ G2_430923  G1_823196  G1_299593 \u001b[90m    missing \u001b[0m\n",
       " 154 │ G2_430909  G1_823196  G1_299593 \u001b[90m    missing \u001b[0m\n",
       " 155 │ G2_425812  G1_823196  G1_299593 \u001b[90m    missing \u001b[0m\n",
       " 156 │ G2_430452  G1_823196  G1_299593 \u001b[90m    missing \u001b[0m\n",
       "\u001b[36m                                   141 rows omitted\u001b[0m"
      ]
     },
     "metadata": {},
     "output_type": "display_data"
    }
   ],
   "source": [
    "append!(ped_1,ped_copy; promote=true)"
   ]
  },
  {
   "cell_type": "markdown",
   "metadata": {},
   "source": [
    "## Grouping"
   ]
  },
  {
   "cell_type": "markdown",
   "metadata": {},
   "source": [
    "Grouping can allow us make in depth inferences about our data. A common concept seen also in `R` and `Python` is the so-called `split-apply_combine`. Let's see that in practice."
   ]
  },
  {
   "cell_type": "code",
   "execution_count": 24,
   "metadata": {},
   "outputs": [
    {
     "data": {
      "text/html": [
       "<div><div style = \"float: left;\"><span>1752×7 DataFrame</span></div><div style = \"float: right;\"><span style = \"font-style: italic;\">1727 rows omitted</span></div><div style = \"clear: both;\"></div></div><div class = \"data-frame\" style = \"overflow-x: scroll;\"><table class = \"data-frame\" style = \"margin-bottom: 6px;\"><thead><tr class = \"header\"><th class = \"rowNumber\" style = \"font-weight: bold; text-align: right;\">Row</th><th style = \"text-align: left;\">Animal_Id</th><th style = \"text-align: left;\">Location</th><th style = \"text-align: left;\">Line</th><th style = \"text-align: left;\">Weight_initial</th><th style = \"text-align: left;\">Weight_final</th><th style = \"text-align: left;\">Length_initial</th><th style = \"text-align: left;\">Length_final</th></tr><tr class = \"subheader headerLastRow\"><th class = \"rowNumber\" style = \"font-weight: bold; text-align: right;\"></th><th title = \"Int64\" style = \"text-align: left;\">Int64</th><th title = \"String15\" style = \"text-align: left;\">String15</th><th title = \"String15\" style = \"text-align: left;\">String15</th><th title = \"Float64\" style = \"text-align: left;\">Float64</th><th title = \"Float64\" style = \"text-align: left;\">Float64</th><th title = \"Float64\" style = \"text-align: left;\">Float64</th><th title = \"Float64\" style = \"text-align: left;\">Float64</th></tr></thead><tbody><tr><td class = \"rowNumber\" style = \"font-weight: bold; text-align: right;\">1</td><td style = \"text-align: right;\">10977965</td><td style = \"text-align: left;\">Kunduchi</td><td style = \"text-align: left;\">Wami</td><td style = \"text-align: right;\">84.3</td><td style = \"text-align: right;\">201.5</td><td style = \"text-align: right;\">14.2</td><td style = \"text-align: right;\">18.0</td></tr><tr><td class = \"rowNumber\" style = \"font-weight: bold; text-align: right;\">2</td><td style = \"text-align: right;\">10978207</td><td style = \"text-align: left;\">Kunduchi</td><td style = \"text-align: left;\">Wami</td><td style = \"text-align: right;\">67.8</td><td style = \"text-align: right;\">0.0</td><td style = \"text-align: right;\">13.4</td><td style = \"text-align: right;\">0.0</td></tr><tr><td class = \"rowNumber\" style = \"font-weight: bold; text-align: right;\">3</td><td style = \"text-align: right;\">10978378</td><td style = \"text-align: left;\">Kunduchi</td><td style = \"text-align: left;\">Wami</td><td style = \"text-align: right;\">103.94</td><td style = \"text-align: right;\">225.9</td><td style = \"text-align: right;\">14.4</td><td style = \"text-align: right;\">18.5</td></tr><tr><td class = \"rowNumber\" style = \"font-weight: bold; text-align: right;\">4</td><td style = \"text-align: right;\">10978460</td><td style = \"text-align: left;\">Kunduchi</td><td style = \"text-align: left;\">Wami</td><td style = \"text-align: right;\">84.85</td><td style = \"text-align: right;\">239.2</td><td style = \"text-align: right;\">14.5</td><td style = \"text-align: right;\">19.9</td></tr><tr><td class = \"rowNumber\" style = \"font-weight: bold; text-align: right;\">5</td><td style = \"text-align: right;\">10977732</td><td style = \"text-align: left;\">Kunduchi</td><td style = \"text-align: left;\">Wami</td><td style = \"text-align: right;\">78.29</td><td style = \"text-align: right;\">195.6</td><td style = \"text-align: right;\">14.0</td><td style = \"text-align: right;\">19.0</td></tr><tr><td class = \"rowNumber\" style = \"font-weight: bold; text-align: right;\">6</td><td style = \"text-align: right;\">10978532</td><td style = \"text-align: left;\">Kunduchi</td><td style = \"text-align: left;\">Wami</td><td style = \"text-align: right;\">89.93</td><td style = \"text-align: right;\">220.0</td><td style = \"text-align: right;\">14.7</td><td style = \"text-align: right;\">19.0</td></tr><tr><td class = \"rowNumber\" style = \"font-weight: bold; text-align: right;\">7</td><td style = \"text-align: right;\">10978612</td><td style = \"text-align: left;\">Kunduchi</td><td style = \"text-align: left;\">Wami</td><td style = \"text-align: right;\">117.83</td><td style = \"text-align: right;\">270.9</td><td style = \"text-align: right;\">15.0</td><td style = \"text-align: right;\">20.0</td></tr><tr><td class = \"rowNumber\" style = \"font-weight: bold; text-align: right;\">8</td><td style = \"text-align: right;\">10977963</td><td style = \"text-align: left;\">Kunduchi</td><td style = \"text-align: left;\">Wami</td><td style = \"text-align: right;\">92.48</td><td style = \"text-align: right;\">209.4</td><td style = \"text-align: right;\">14.9</td><td style = \"text-align: right;\">18.3</td></tr><tr><td class = \"rowNumber\" style = \"font-weight: bold; text-align: right;\">9</td><td style = \"text-align: right;\">10977682</td><td style = \"text-align: left;\">Kunduchi</td><td style = \"text-align: left;\">Wami</td><td style = \"text-align: right;\">95.54</td><td style = \"text-align: right;\">178.8</td><td style = \"text-align: right;\">14.9</td><td style = \"text-align: right;\">17.7</td></tr><tr><td class = \"rowNumber\" style = \"font-weight: bold; text-align: right;\">10</td><td style = \"text-align: right;\">10978295</td><td style = \"text-align: left;\">Kunduchi</td><td style = \"text-align: left;\">Wami</td><td style = \"text-align: right;\">70.27</td><td style = \"text-align: right;\">135.2</td><td style = \"text-align: right;\">13.3</td><td style = \"text-align: right;\">16.0</td></tr><tr><td class = \"rowNumber\" style = \"font-weight: bold; text-align: right;\">11</td><td style = \"text-align: right;\">10977643</td><td style = \"text-align: left;\">Kunduchi</td><td style = \"text-align: left;\">Wami</td><td style = \"text-align: right;\">79.96</td><td style = \"text-align: right;\">184.0</td><td style = \"text-align: right;\">14.2</td><td style = \"text-align: right;\">18.2</td></tr><tr><td class = \"rowNumber\" style = \"font-weight: bold; text-align: right;\">12</td><td style = \"text-align: right;\">10978401</td><td style = \"text-align: left;\">Kunduchi</td><td style = \"text-align: left;\">Wami</td><td style = \"text-align: right;\">101.76</td><td style = \"text-align: right;\">173.9</td><td style = \"text-align: right;\">14.5</td><td style = \"text-align: right;\">17.2</td></tr><tr><td class = \"rowNumber\" style = \"font-weight: bold; text-align: right;\">13</td><td style = \"text-align: right;\">10978321</td><td style = \"text-align: left;\">Kunduchi</td><td style = \"text-align: left;\">Wami</td><td style = \"text-align: right;\">52.01</td><td style = \"text-align: right;\">168.8</td><td style = \"text-align: right;\">12.5</td><td style = \"text-align: right;\">17.0</td></tr><tr><td style = \"text-align: right;\">&vellip;</td><td style = \"text-align: right;\">&vellip;</td><td style = \"text-align: right;\">&vellip;</td><td style = \"text-align: right;\">&vellip;</td><td style = \"text-align: right;\">&vellip;</td><td style = \"text-align: right;\">&vellip;</td><td style = \"text-align: right;\">&vellip;</td><td style = \"text-align: right;\">&vellip;</td></tr><tr><td class = \"rowNumber\" style = \"font-weight: bold; text-align: right;\">1741</td><td style = \"text-align: right;\">10977823</td><td style = \"text-align: left;\">Pangani</td><td style = \"text-align: left;\">Ruaha</td><td style = \"text-align: right;\">30.31</td><td style = \"text-align: right;\">76.45</td><td style = \"text-align: right;\">9.8</td><td style = \"text-align: right;\">13.0</td></tr><tr><td class = \"rowNumber\" style = \"font-weight: bold; text-align: right;\">1742</td><td style = \"text-align: right;\">10977748</td><td style = \"text-align: left;\">Pangani</td><td style = \"text-align: left;\">Ruaha</td><td style = \"text-align: right;\">22.35</td><td style = \"text-align: right;\">0.0</td><td style = \"text-align: right;\">8.9</td><td style = \"text-align: right;\">0.0</td></tr><tr><td class = \"rowNumber\" style = \"font-weight: bold; text-align: right;\">1743</td><td style = \"text-align: right;\">10978899</td><td style = \"text-align: left;\">Pangani</td><td style = \"text-align: left;\">Ruaha</td><td style = \"text-align: right;\">39.64</td><td style = \"text-align: right;\">0.0</td><td style = \"text-align: right;\">10.8</td><td style = \"text-align: right;\">0.0</td></tr><tr><td class = \"rowNumber\" style = \"font-weight: bold; text-align: right;\">1744</td><td style = \"text-align: right;\">10977635</td><td style = \"text-align: left;\">Pangani</td><td style = \"text-align: left;\">Ruaha</td><td style = \"text-align: right;\">30.6</td><td style = \"text-align: right;\">80.03</td><td style = \"text-align: right;\">9.8</td><td style = \"text-align: right;\">13.1</td></tr><tr><td class = \"rowNumber\" style = \"font-weight: bold; text-align: right;\">1745</td><td style = \"text-align: right;\">10978151</td><td style = \"text-align: left;\">Pangani</td><td style = \"text-align: left;\">Ruaha</td><td style = \"text-align: right;\">29.85</td><td style = \"text-align: right;\">40.0</td><td style = \"text-align: right;\">9.7</td><td style = \"text-align: right;\">10.7</td></tr><tr><td class = \"rowNumber\" style = \"font-weight: bold; text-align: right;\">1746</td><td style = \"text-align: right;\">10977918</td><td style = \"text-align: left;\">Pangani</td><td style = \"text-align: left;\">Ruaha</td><td style = \"text-align: right;\">40.8</td><td style = \"text-align: right;\">103.74</td><td style = \"text-align: right;\">10.8</td><td style = \"text-align: right;\">14.0</td></tr><tr><td class = \"rowNumber\" style = \"font-weight: bold; text-align: right;\">1747</td><td style = \"text-align: right;\">10977945</td><td style = \"text-align: left;\">Pangani</td><td style = \"text-align: left;\">Ruaha</td><td style = \"text-align: right;\">49.54</td><td style = \"text-align: right;\">124.83</td><td style = \"text-align: right;\">11.4</td><td style = \"text-align: right;\">14.7</td></tr><tr><td class = \"rowNumber\" style = \"font-weight: bold; text-align: right;\">1748</td><td style = \"text-align: right;\">10978369</td><td style = \"text-align: left;\">Pangani</td><td style = \"text-align: left;\">Ruaha</td><td style = \"text-align: right;\">26.93</td><td style = \"text-align: right;\">86.12</td><td style = \"text-align: right;\">9.4</td><td style = \"text-align: right;\">13.8</td></tr><tr><td class = \"rowNumber\" style = \"font-weight: bold; text-align: right;\">1749</td><td style = \"text-align: right;\">10978013</td><td style = \"text-align: left;\">Pangani</td><td style = \"text-align: left;\">Ruaha</td><td style = \"text-align: right;\">18.02</td><td style = \"text-align: right;\">0.0</td><td style = \"text-align: right;\">8.6</td><td style = \"text-align: right;\">0.0</td></tr><tr><td class = \"rowNumber\" style = \"font-weight: bold; text-align: right;\">1750</td><td style = \"text-align: right;\">10978579</td><td style = \"text-align: left;\">Pangani</td><td style = \"text-align: left;\">Ruaha</td><td style = \"text-align: right;\">46.97</td><td style = \"text-align: right;\">101.54</td><td style = \"text-align: right;\">11.0</td><td style = \"text-align: right;\">14.0</td></tr><tr><td class = \"rowNumber\" style = \"font-weight: bold; text-align: right;\">1751</td><td style = \"text-align: right;\">10977708</td><td style = \"text-align: left;\">Pangani</td><td style = \"text-align: left;\">Ruaha</td><td style = \"text-align: right;\">39.83</td><td style = \"text-align: right;\">64.24</td><td style = \"text-align: right;\">10.7</td><td style = \"text-align: right;\">13.4</td></tr><tr><td class = \"rowNumber\" style = \"font-weight: bold; text-align: right;\">1752</td><td style = \"text-align: right;\">10977975</td><td style = \"text-align: left;\">Pangani</td><td style = \"text-align: left;\">Ruaha</td><td style = \"text-align: right;\">32.14</td><td style = \"text-align: right;\">57.24</td><td style = \"text-align: right;\">10.0</td><td style = \"text-align: right;\">12.0</td></tr></tbody></table></div>"
      ],
      "text/latex": [
       "\\begin{tabular}{r|ccccccc}\n",
       "\t& Animal\\_Id & Location & Line & Weight\\_initial & Weight\\_final & Length\\_initial & Length\\_final\\\\\n",
       "\t\\hline\n",
       "\t& Int64 & String15 & String15 & Float64 & Float64 & Float64 & Float64\\\\\n",
       "\t\\hline\n",
       "\t1 & 10977965 & Kunduchi & Wami & 84.3 & 201.5 & 14.2 & 18.0 \\\\\n",
       "\t2 & 10978207 & Kunduchi & Wami & 67.8 & 0.0 & 13.4 & 0.0 \\\\\n",
       "\t3 & 10978378 & Kunduchi & Wami & 103.94 & 225.9 & 14.4 & 18.5 \\\\\n",
       "\t4 & 10978460 & Kunduchi & Wami & 84.85 & 239.2 & 14.5 & 19.9 \\\\\n",
       "\t5 & 10977732 & Kunduchi & Wami & 78.29 & 195.6 & 14.0 & 19.0 \\\\\n",
       "\t6 & 10978532 & Kunduchi & Wami & 89.93 & 220.0 & 14.7 & 19.0 \\\\\n",
       "\t7 & 10978612 & Kunduchi & Wami & 117.83 & 270.9 & 15.0 & 20.0 \\\\\n",
       "\t8 & 10977963 & Kunduchi & Wami & 92.48 & 209.4 & 14.9 & 18.3 \\\\\n",
       "\t9 & 10977682 & Kunduchi & Wami & 95.54 & 178.8 & 14.9 & 17.7 \\\\\n",
       "\t10 & 10978295 & Kunduchi & Wami & 70.27 & 135.2 & 13.3 & 16.0 \\\\\n",
       "\t11 & 10977643 & Kunduchi & Wami & 79.96 & 184.0 & 14.2 & 18.2 \\\\\n",
       "\t12 & 10978401 & Kunduchi & Wami & 101.76 & 173.9 & 14.5 & 17.2 \\\\\n",
       "\t13 & 10978321 & Kunduchi & Wami & 52.01 & 168.8 & 12.5 & 17.0 \\\\\n",
       "\t14 & 10978593 & Kunduchi & Wami & 91.93 & 182.7 & 14.3 & 18.0 \\\\\n",
       "\t15 & 10977891 & Kunduchi & Wami & 83.48 & 183.0 & 13.8 & 17.5 \\\\\n",
       "\t16 & 10978510 & Kunduchi & Wami & 87.03 & 219.9 & 14.3 & 18.5 \\\\\n",
       "\t17 & 10978282 & Kunduchi & Wami & 87.54 & 213.1 & 13.4 & 17.0 \\\\\n",
       "\t18 & 10978130 & Kunduchi & Wami & 69.83 & 204.7 & 13.3 & 19.0 \\\\\n",
       "\t19 & 10977956 & Kunduchi & Wami & 76.47 & 218.2 & 13.7 & 18.5 \\\\\n",
       "\t20 & 10978586 & Kunduchi & Wami & 84.97 & 179.3 & 14.0 & 17.1 \\\\\n",
       "\t21 & 10978426 & Kunduchi & Wami & 69.47 & 0.0 & 13.3 & 0.0 \\\\\n",
       "\t22 & 10978463 & Kunduchi & Wami & 70.53 & 196.1 & 13.4 & 18.0 \\\\\n",
       "\t23 & 10977973 & Kunduchi & Wami & 69.51 & 171.1 & 13.3 & 16.7 \\\\\n",
       "\t24 & 10978434 & Kunduchi & Wami & 58.31 & 134.0 & 12.4 & 15.9 \\\\\n",
       "\t$\\dots$ & $\\dots$ & $\\dots$ & $\\dots$ & $\\dots$ & $\\dots$ & $\\dots$ & $\\dots$ \\\\\n",
       "\\end{tabular}\n"
      ],
      "text/plain": [
       "\u001b[1m1752×7 DataFrame\u001b[0m\n",
       "\u001b[1m  Row \u001b[0m│\u001b[1m Animal_Id \u001b[0m\u001b[1m Location \u001b[0m\u001b[1m Line     \u001b[0m\u001b[1m Weight_initial \u001b[0m\u001b[1m Weight_final \u001b[0m\u001b[1m Length_in\u001b[0m ⋯\n",
       "      │\u001b[90m Int64     \u001b[0m\u001b[90m String15 \u001b[0m\u001b[90m String15 \u001b[0m\u001b[90m Float64        \u001b[0m\u001b[90m Float64      \u001b[0m\u001b[90m Float64  \u001b[0m ⋯\n",
       "──────┼─────────────────────────────────────────────────────────────────────────\n",
       "    1 │  10977965  Kunduchi  Wami               84.3         201.5             ⋯\n",
       "    2 │  10978207  Kunduchi  Wami               67.8           0.0\n",
       "    3 │  10978378  Kunduchi  Wami              103.94        225.9\n",
       "    4 │  10978460  Kunduchi  Wami               84.85        239.2\n",
       "    5 │  10977732  Kunduchi  Wami               78.29        195.6             ⋯\n",
       "    6 │  10978532  Kunduchi  Wami               89.93        220.0\n",
       "    7 │  10978612  Kunduchi  Wami              117.83        270.9\n",
       "    8 │  10977963  Kunduchi  Wami               92.48        209.4\n",
       "  ⋮   │     ⋮         ⋮         ⋮            ⋮              ⋮              ⋮   ⋱\n",
       " 1746 │  10977918  Pangani   Ruaha              40.8         103.74            ⋯\n",
       " 1747 │  10977945  Pangani   Ruaha              49.54        124.83\n",
       " 1748 │  10978369  Pangani   Ruaha              26.93         86.12\n",
       " 1749 │  10978013  Pangani   Ruaha              18.02          0.0\n",
       " 1750 │  10978579  Pangani   Ruaha              46.97        101.54            ⋯\n",
       " 1751 │  10977708  Pangani   Ruaha              39.83         64.24\n",
       " 1752 │  10977975  Pangani   Ruaha              32.14         57.24\n",
       "\u001b[36m                                                 2 columns and 1737 rows omitted\u001b[0m"
      ]
     },
     "metadata": {},
     "output_type": "display_data"
    }
   ],
   "source": [
    "pheno = CSV.read(\"tilapia_pheno.txt\", DataFrame; delim=\";\")"
   ]
  },
  {
   "cell_type": "code",
   "execution_count": 25,
   "metadata": {},
   "outputs": [
    {
     "data": {
      "text/html": [
       "<p><b>GroupedDataFrame with 9 groups based on key: Line</b></p><div><div style = \"float: left;\"><span>First Group (211 rows): Line = &quot;Wami&quot;</span></div><div style = \"float: right;\"><span style = \"font-style: italic;\">186 rows omitted</span></div><div style = \"clear: both;\"></div></div><div class = \"data-frame\" style = \"overflow-x: scroll;\"><table class = \"data-frame\" style = \"margin-bottom: 6px;\"><thead><tr class = \"header\"><th class = \"rowNumber\" style = \"font-weight: bold; text-align: right;\">Row</th><th style = \"text-align: left;\">Animal_Id</th><th style = \"text-align: left;\">Location</th><th style = \"text-align: left;\">Line</th><th style = \"text-align: left;\">Weight_initial</th><th style = \"text-align: left;\">Weight_final</th><th style = \"text-align: left;\">Length_initial</th><th style = \"text-align: left;\">Length_final</th></tr><tr class = \"subheader headerLastRow\"><th class = \"rowNumber\" style = \"font-weight: bold; text-align: right;\"></th><th title = \"Int64\" style = \"text-align: left;\">Int64</th><th title = \"String15\" style = \"text-align: left;\">String15</th><th title = \"String15\" style = \"text-align: left;\">String15</th><th title = \"Float64\" style = \"text-align: left;\">Float64</th><th title = \"Float64\" style = \"text-align: left;\">Float64</th><th title = \"Float64\" style = \"text-align: left;\">Float64</th><th title = \"Float64\" style = \"text-align: left;\">Float64</th></tr></thead><tbody><tr><td class = \"rowNumber\" style = \"font-weight: bold; text-align: right;\">1</td><td style = \"text-align: right;\">10977965</td><td style = \"text-align: left;\">Kunduchi</td><td style = \"text-align: left;\">Wami</td><td style = \"text-align: right;\">84.3</td><td style = \"text-align: right;\">201.5</td><td style = \"text-align: right;\">14.2</td><td style = \"text-align: right;\">18.0</td></tr><tr><td class = \"rowNumber\" style = \"font-weight: bold; text-align: right;\">2</td><td style = \"text-align: right;\">10978207</td><td style = \"text-align: left;\">Kunduchi</td><td style = \"text-align: left;\">Wami</td><td style = \"text-align: right;\">67.8</td><td style = \"text-align: right;\">0.0</td><td style = \"text-align: right;\">13.4</td><td style = \"text-align: right;\">0.0</td></tr><tr><td class = \"rowNumber\" style = \"font-weight: bold; text-align: right;\">3</td><td style = \"text-align: right;\">10978378</td><td style = \"text-align: left;\">Kunduchi</td><td style = \"text-align: left;\">Wami</td><td style = \"text-align: right;\">103.94</td><td style = \"text-align: right;\">225.9</td><td style = \"text-align: right;\">14.4</td><td style = \"text-align: right;\">18.5</td></tr><tr><td class = \"rowNumber\" style = \"font-weight: bold; text-align: right;\">4</td><td style = \"text-align: right;\">10978460</td><td style = \"text-align: left;\">Kunduchi</td><td style = \"text-align: left;\">Wami</td><td style = \"text-align: right;\">84.85</td><td style = \"text-align: right;\">239.2</td><td style = \"text-align: right;\">14.5</td><td style = \"text-align: right;\">19.9</td></tr><tr><td class = \"rowNumber\" style = \"font-weight: bold; text-align: right;\">5</td><td style = \"text-align: right;\">10977732</td><td style = \"text-align: left;\">Kunduchi</td><td style = \"text-align: left;\">Wami</td><td style = \"text-align: right;\">78.29</td><td style = \"text-align: right;\">195.6</td><td style = \"text-align: right;\">14.0</td><td style = \"text-align: right;\">19.0</td></tr><tr><td class = \"rowNumber\" style = \"font-weight: bold; text-align: right;\">6</td><td style = \"text-align: right;\">10978532</td><td style = \"text-align: left;\">Kunduchi</td><td style = \"text-align: left;\">Wami</td><td style = \"text-align: right;\">89.93</td><td style = \"text-align: right;\">220.0</td><td style = \"text-align: right;\">14.7</td><td style = \"text-align: right;\">19.0</td></tr><tr><td class = \"rowNumber\" style = \"font-weight: bold; text-align: right;\">7</td><td style = \"text-align: right;\">10978612</td><td style = \"text-align: left;\">Kunduchi</td><td style = \"text-align: left;\">Wami</td><td style = \"text-align: right;\">117.83</td><td style = \"text-align: right;\">270.9</td><td style = \"text-align: right;\">15.0</td><td style = \"text-align: right;\">20.0</td></tr><tr><td class = \"rowNumber\" style = \"font-weight: bold; text-align: right;\">8</td><td style = \"text-align: right;\">10977963</td><td style = \"text-align: left;\">Kunduchi</td><td style = \"text-align: left;\">Wami</td><td style = \"text-align: right;\">92.48</td><td style = \"text-align: right;\">209.4</td><td style = \"text-align: right;\">14.9</td><td style = \"text-align: right;\">18.3</td></tr><tr><td class = \"rowNumber\" style = \"font-weight: bold; text-align: right;\">9</td><td style = \"text-align: right;\">10977682</td><td style = \"text-align: left;\">Kunduchi</td><td style = \"text-align: left;\">Wami</td><td style = \"text-align: right;\">95.54</td><td style = \"text-align: right;\">178.8</td><td style = \"text-align: right;\">14.9</td><td style = \"text-align: right;\">17.7</td></tr><tr><td class = \"rowNumber\" style = \"font-weight: bold; text-align: right;\">10</td><td style = \"text-align: right;\">10978295</td><td style = \"text-align: left;\">Kunduchi</td><td style = \"text-align: left;\">Wami</td><td style = \"text-align: right;\">70.27</td><td style = \"text-align: right;\">135.2</td><td style = \"text-align: right;\">13.3</td><td style = \"text-align: right;\">16.0</td></tr><tr><td class = \"rowNumber\" style = \"font-weight: bold; text-align: right;\">11</td><td style = \"text-align: right;\">10977643</td><td style = \"text-align: left;\">Kunduchi</td><td style = \"text-align: left;\">Wami</td><td style = \"text-align: right;\">79.96</td><td style = \"text-align: right;\">184.0</td><td style = \"text-align: right;\">14.2</td><td style = \"text-align: right;\">18.2</td></tr><tr><td class = \"rowNumber\" style = \"font-weight: bold; text-align: right;\">12</td><td style = \"text-align: right;\">10978401</td><td style = \"text-align: left;\">Kunduchi</td><td style = \"text-align: left;\">Wami</td><td style = \"text-align: right;\">101.76</td><td style = \"text-align: right;\">173.9</td><td style = \"text-align: right;\">14.5</td><td style = \"text-align: right;\">17.2</td></tr><tr><td class = \"rowNumber\" style = \"font-weight: bold; text-align: right;\">13</td><td style = \"text-align: right;\">10978321</td><td style = \"text-align: left;\">Kunduchi</td><td style = \"text-align: left;\">Wami</td><td style = \"text-align: right;\">52.01</td><td style = \"text-align: right;\">168.8</td><td style = \"text-align: right;\">12.5</td><td style = \"text-align: right;\">17.0</td></tr><tr><td style = \"text-align: right;\">&vellip;</td><td style = \"text-align: right;\">&vellip;</td><td style = \"text-align: right;\">&vellip;</td><td style = \"text-align: right;\">&vellip;</td><td style = \"text-align: right;\">&vellip;</td><td style = \"text-align: right;\">&vellip;</td><td style = \"text-align: right;\">&vellip;</td><td style = \"text-align: right;\">&vellip;</td></tr><tr><td class = \"rowNumber\" style = \"font-weight: bold; text-align: right;\">200</td><td style = \"text-align: right;\">10975649</td><td style = \"text-align: left;\">Pangani</td><td style = \"text-align: left;\">Wami</td><td style = \"text-align: right;\">50.98</td><td style = \"text-align: right;\">73.37</td><td style = \"text-align: right;\">11.5</td><td style = \"text-align: right;\">14.6</td></tr><tr><td class = \"rowNumber\" style = \"font-weight: bold; text-align: right;\">201</td><td style = \"text-align: right;\">10976464</td><td style = \"text-align: left;\">Pangani</td><td style = \"text-align: left;\">Wami</td><td style = \"text-align: right;\">51.15</td><td style = \"text-align: right;\">159.7</td><td style = \"text-align: right;\">11.5</td><td style = \"text-align: right;\">16.0</td></tr><tr><td class = \"rowNumber\" style = \"font-weight: bold; text-align: right;\">202</td><td style = \"text-align: right;\">10975951</td><td style = \"text-align: left;\">Pangani</td><td style = \"text-align: left;\">Wami</td><td style = \"text-align: right;\">55.29</td><td style = \"text-align: right;\">160.48</td><td style = \"text-align: right;\">11.3</td><td style = \"text-align: right;\">16.2</td></tr><tr><td class = \"rowNumber\" style = \"font-weight: bold; text-align: right;\">203</td><td style = \"text-align: right;\">10975747</td><td style = \"text-align: left;\">Pangani</td><td style = \"text-align: left;\">Wami</td><td style = \"text-align: right;\">71.32</td><td style = \"text-align: right;\">166.82</td><td style = \"text-align: right;\">12.9</td><td style = \"text-align: right;\">17.2</td></tr><tr><td class = \"rowNumber\" style = \"font-weight: bold; text-align: right;\">204</td><td style = \"text-align: right;\">10976511</td><td style = \"text-align: left;\">Pangani</td><td style = \"text-align: left;\">Wami</td><td style = \"text-align: right;\">89.42</td><td style = \"text-align: right;\">133.56</td><td style = \"text-align: right;\">14.0</td><td style = \"text-align: right;\">17.6</td></tr><tr><td class = \"rowNumber\" style = \"font-weight: bold; text-align: right;\">205</td><td style = \"text-align: right;\">10976113</td><td style = \"text-align: left;\">Pangani</td><td style = \"text-align: left;\">Wami</td><td style = \"text-align: right;\">43.22</td><td style = \"text-align: right;\">0.0</td><td style = \"text-align: right;\">10.8</td><td style = \"text-align: right;\">0.0</td></tr><tr><td class = \"rowNumber\" style = \"font-weight: bold; text-align: right;\">206</td><td style = \"text-align: right;\">10976182</td><td style = \"text-align: left;\">Pangani</td><td style = \"text-align: left;\">Wami</td><td style = \"text-align: right;\">33.61</td><td style = \"text-align: right;\">142.76</td><td style = \"text-align: right;\">9.9</td><td style = \"text-align: right;\">17.5</td></tr><tr><td class = \"rowNumber\" style = \"font-weight: bold; text-align: right;\">207</td><td style = \"text-align: right;\">10976242</td><td style = \"text-align: left;\">Pangani</td><td style = \"text-align: left;\">Wami</td><td style = \"text-align: right;\">79.66</td><td style = \"text-align: right;\">188.79</td><td style = \"text-align: right;\">13.4</td><td style = \"text-align: right;\">17.4</td></tr><tr><td class = \"rowNumber\" style = \"font-weight: bold; text-align: right;\">208</td><td style = \"text-align: right;\">10976119</td><td style = \"text-align: left;\">Pangani</td><td style = \"text-align: left;\">Wami</td><td style = \"text-align: right;\">35.71</td><td style = \"text-align: right;\">130.9</td><td style = \"text-align: right;\">10.3</td><td style = \"text-align: right;\">15.5</td></tr><tr><td class = \"rowNumber\" style = \"font-weight: bold; text-align: right;\">209</td><td style = \"text-align: right;\">10975821</td><td style = \"text-align: left;\">Pangani</td><td style = \"text-align: left;\">Wami</td><td style = \"text-align: right;\">30.22</td><td style = \"text-align: right;\">130.9</td><td style = \"text-align: right;\">9.2</td><td style = \"text-align: right;\">15.5</td></tr><tr><td class = \"rowNumber\" style = \"font-weight: bold; text-align: right;\">210</td><td style = \"text-align: right;\">10975979</td><td style = \"text-align: left;\">Pangani</td><td style = \"text-align: left;\">Wami</td><td style = \"text-align: right;\">36.15</td><td style = \"text-align: right;\">0.0</td><td style = \"text-align: right;\">10.0</td><td style = \"text-align: right;\">0.0</td></tr><tr><td class = \"rowNumber\" style = \"font-weight: bold; text-align: right;\">211</td><td style = \"text-align: right;\">10976499</td><td style = \"text-align: left;\">Pangani</td><td style = \"text-align: left;\">Wami</td><td style = \"text-align: right;\">40.97</td><td style = \"text-align: right;\">148.26</td><td style = \"text-align: right;\">10.5</td><td style = \"text-align: right;\">16.0</td></tr></tbody></table></div><p>&vellip;</p><div><div style = \"float: left;\"><span>Last Group (160 rows): Line = &quot;Ruaha&quot;</span></div><div style = \"float: right;\"><span style = \"font-style: italic;\">135 rows omitted</span></div><div style = \"clear: both;\"></div></div><div class = \"data-frame\" style = \"overflow-x: scroll;\"><table class = \"data-frame\" style = \"margin-bottom: 6px;\"><thead><tr class = \"header\"><th class = \"rowNumber\" style = \"font-weight: bold; text-align: right;\">Row</th><th style = \"text-align: left;\">Animal_Id</th><th style = \"text-align: left;\">Location</th><th style = \"text-align: left;\">Line</th><th style = \"text-align: left;\">Weight_initial</th><th style = \"text-align: left;\">Weight_final</th><th style = \"text-align: left;\">Length_initial</th><th style = \"text-align: left;\">Length_final</th></tr><tr class = \"subheader headerLastRow\"><th class = \"rowNumber\" style = \"font-weight: bold; text-align: right;\"></th><th title = \"Int64\" style = \"text-align: left;\">Int64</th><th title = \"String15\" style = \"text-align: left;\">String15</th><th title = \"String15\" style = \"text-align: left;\">String15</th><th title = \"Float64\" style = \"text-align: left;\">Float64</th><th title = \"Float64\" style = \"text-align: left;\">Float64</th><th title = \"Float64\" style = \"text-align: left;\">Float64</th><th title = \"Float64\" style = \"text-align: left;\">Float64</th></tr></thead><tbody><tr><td class = \"rowNumber\" style = \"font-weight: bold; text-align: right;\">1</td><td style = \"text-align: right;\">10974909</td><td style = \"text-align: left;\">Kunduchi</td><td style = \"text-align: left;\">Ruaha</td><td style = \"text-align: right;\">47.57</td><td style = \"text-align: right;\">0.0</td><td style = \"text-align: right;\">11.6</td><td style = \"text-align: right;\">0.0</td></tr><tr><td class = \"rowNumber\" style = \"font-weight: bold; text-align: right;\">2</td><td style = \"text-align: right;\">10974722</td><td style = \"text-align: left;\">Kunduchi</td><td style = \"text-align: left;\">Ruaha</td><td style = \"text-align: right;\">45.2</td><td style = \"text-align: right;\">0.0</td><td style = \"text-align: right;\">11.8</td><td style = \"text-align: right;\">0.0</td></tr><tr><td class = \"rowNumber\" style = \"font-weight: bold; text-align: right;\">3</td><td style = \"text-align: right;\">10975090</td><td style = \"text-align: left;\">Kunduchi</td><td style = \"text-align: left;\">Ruaha</td><td style = \"text-align: right;\">35.46</td><td style = \"text-align: right;\">41.4</td><td style = \"text-align: right;\">10.7</td><td style = \"text-align: right;\">12.0</td></tr><tr><td class = \"rowNumber\" style = \"font-weight: bold; text-align: right;\">4</td><td style = \"text-align: right;\">10975277</td><td style = \"text-align: left;\">Kunduchi</td><td style = \"text-align: left;\">Ruaha</td><td style = \"text-align: right;\">23.04</td><td style = \"text-align: right;\">54.3</td><td style = \"text-align: right;\">9.0</td><td style = \"text-align: right;\">11.3</td></tr><tr><td class = \"rowNumber\" style = \"font-weight: bold; text-align: right;\">5</td><td style = \"text-align: right;\">10974779</td><td style = \"text-align: left;\">Kunduchi</td><td style = \"text-align: left;\">Ruaha</td><td style = \"text-align: right;\">24.36</td><td style = \"text-align: right;\">60.4</td><td style = \"text-align: right;\">9.1</td><td style = \"text-align: right;\">11.5</td></tr><tr><td class = \"rowNumber\" style = \"font-weight: bold; text-align: right;\">6</td><td style = \"text-align: right;\">10974773</td><td style = \"text-align: left;\">Kunduchi</td><td style = \"text-align: left;\">Ruaha</td><td style = \"text-align: right;\">31.31</td><td style = \"text-align: right;\">40.5</td><td style = \"text-align: right;\">10.3</td><td style = \"text-align: right;\">12.5</td></tr><tr><td class = \"rowNumber\" style = \"font-weight: bold; text-align: right;\">7</td><td style = \"text-align: right;\">10975351</td><td style = \"text-align: left;\">Kunduchi</td><td style = \"text-align: left;\">Ruaha</td><td style = \"text-align: right;\">27.33</td><td style = \"text-align: right;\">49.7</td><td style = \"text-align: right;\">10.0</td><td style = \"text-align: right;\">12.0</td></tr><tr><td class = \"rowNumber\" style = \"font-weight: bold; text-align: right;\">8</td><td style = \"text-align: right;\">10975318</td><td style = \"text-align: left;\">Kunduchi</td><td style = \"text-align: left;\">Ruaha</td><td style = \"text-align: right;\">17.56</td><td style = \"text-align: right;\">38.1</td><td style = \"text-align: right;\">8.5</td><td style = \"text-align: right;\">10.2</td></tr><tr><td class = \"rowNumber\" style = \"font-weight: bold; text-align: right;\">9</td><td style = \"text-align: right;\">10975091</td><td style = \"text-align: left;\">Kunduchi</td><td style = \"text-align: left;\">Ruaha</td><td style = \"text-align: right;\">21.82</td><td style = \"text-align: right;\">52.5</td><td style = \"text-align: right;\">9.0</td><td style = \"text-align: right;\">11.1</td></tr><tr><td class = \"rowNumber\" style = \"font-weight: bold; text-align: right;\">10</td><td style = \"text-align: right;\">10975227</td><td style = \"text-align: left;\">Kunduchi</td><td style = \"text-align: left;\">Ruaha</td><td style = \"text-align: right;\">17.54</td><td style = \"text-align: right;\">50.3</td><td style = \"text-align: right;\">7.8</td><td style = \"text-align: right;\">11.0</td></tr><tr><td class = \"rowNumber\" style = \"font-weight: bold; text-align: right;\">11</td><td style = \"text-align: right;\">10974965</td><td style = \"text-align: left;\">Kunduchi</td><td style = \"text-align: left;\">Ruaha</td><td style = \"text-align: right;\">15.12</td><td style = \"text-align: right;\">39.8</td><td style = \"text-align: right;\">7.6</td><td style = \"text-align: right;\">10.2</td></tr><tr><td class = \"rowNumber\" style = \"font-weight: bold; text-align: right;\">12</td><td style = \"text-align: right;\">10975128</td><td style = \"text-align: left;\">Kunduchi</td><td style = \"text-align: left;\">Ruaha</td><td style = \"text-align: right;\">16.47</td><td style = \"text-align: right;\">50.4</td><td style = \"text-align: right;\">8.0</td><td style = \"text-align: right;\">11.2</td></tr><tr><td class = \"rowNumber\" style = \"font-weight: bold; text-align: right;\">13</td><td style = \"text-align: right;\">10974846</td><td style = \"text-align: left;\">Kunduchi</td><td style = \"text-align: left;\">Ruaha</td><td style = \"text-align: right;\">17.66</td><td style = \"text-align: right;\">47.0</td><td style = \"text-align: right;\">8.1</td><td style = \"text-align: right;\">10.5</td></tr><tr><td style = \"text-align: right;\">&vellip;</td><td style = \"text-align: right;\">&vellip;</td><td style = \"text-align: right;\">&vellip;</td><td style = \"text-align: right;\">&vellip;</td><td style = \"text-align: right;\">&vellip;</td><td style = \"text-align: right;\">&vellip;</td><td style = \"text-align: right;\">&vellip;</td><td style = \"text-align: right;\">&vellip;</td></tr><tr><td class = \"rowNumber\" style = \"font-weight: bold; text-align: right;\">149</td><td style = \"text-align: right;\">10977823</td><td style = \"text-align: left;\">Pangani</td><td style = \"text-align: left;\">Ruaha</td><td style = \"text-align: right;\">30.31</td><td style = \"text-align: right;\">76.45</td><td style = \"text-align: right;\">9.8</td><td style = \"text-align: right;\">13.0</td></tr><tr><td class = \"rowNumber\" style = \"font-weight: bold; text-align: right;\">150</td><td style = \"text-align: right;\">10977748</td><td style = \"text-align: left;\">Pangani</td><td style = \"text-align: left;\">Ruaha</td><td style = \"text-align: right;\">22.35</td><td style = \"text-align: right;\">0.0</td><td style = \"text-align: right;\">8.9</td><td style = \"text-align: right;\">0.0</td></tr><tr><td class = \"rowNumber\" style = \"font-weight: bold; text-align: right;\">151</td><td style = \"text-align: right;\">10978899</td><td style = \"text-align: left;\">Pangani</td><td style = \"text-align: left;\">Ruaha</td><td style = \"text-align: right;\">39.64</td><td style = \"text-align: right;\">0.0</td><td style = \"text-align: right;\">10.8</td><td style = \"text-align: right;\">0.0</td></tr><tr><td class = \"rowNumber\" style = \"font-weight: bold; text-align: right;\">152</td><td style = \"text-align: right;\">10977635</td><td style = \"text-align: left;\">Pangani</td><td style = \"text-align: left;\">Ruaha</td><td style = \"text-align: right;\">30.6</td><td style = \"text-align: right;\">80.03</td><td style = \"text-align: right;\">9.8</td><td style = \"text-align: right;\">13.1</td></tr><tr><td class = \"rowNumber\" style = \"font-weight: bold; text-align: right;\">153</td><td style = \"text-align: right;\">10978151</td><td style = \"text-align: left;\">Pangani</td><td style = \"text-align: left;\">Ruaha</td><td style = \"text-align: right;\">29.85</td><td style = \"text-align: right;\">40.0</td><td style = \"text-align: right;\">9.7</td><td style = \"text-align: right;\">10.7</td></tr><tr><td class = \"rowNumber\" style = \"font-weight: bold; text-align: right;\">154</td><td style = \"text-align: right;\">10977918</td><td style = \"text-align: left;\">Pangani</td><td style = \"text-align: left;\">Ruaha</td><td style = \"text-align: right;\">40.8</td><td style = \"text-align: right;\">103.74</td><td style = \"text-align: right;\">10.8</td><td style = \"text-align: right;\">14.0</td></tr><tr><td class = \"rowNumber\" style = \"font-weight: bold; text-align: right;\">155</td><td style = \"text-align: right;\">10977945</td><td style = \"text-align: left;\">Pangani</td><td style = \"text-align: left;\">Ruaha</td><td style = \"text-align: right;\">49.54</td><td style = \"text-align: right;\">124.83</td><td style = \"text-align: right;\">11.4</td><td style = \"text-align: right;\">14.7</td></tr><tr><td class = \"rowNumber\" style = \"font-weight: bold; text-align: right;\">156</td><td style = \"text-align: right;\">10978369</td><td style = \"text-align: left;\">Pangani</td><td style = \"text-align: left;\">Ruaha</td><td style = \"text-align: right;\">26.93</td><td style = \"text-align: right;\">86.12</td><td style = \"text-align: right;\">9.4</td><td style = \"text-align: right;\">13.8</td></tr><tr><td class = \"rowNumber\" style = \"font-weight: bold; text-align: right;\">157</td><td style = \"text-align: right;\">10978013</td><td style = \"text-align: left;\">Pangani</td><td style = \"text-align: left;\">Ruaha</td><td style = \"text-align: right;\">18.02</td><td style = \"text-align: right;\">0.0</td><td style = \"text-align: right;\">8.6</td><td style = \"text-align: right;\">0.0</td></tr><tr><td class = \"rowNumber\" style = \"font-weight: bold; text-align: right;\">158</td><td style = \"text-align: right;\">10978579</td><td style = \"text-align: left;\">Pangani</td><td style = \"text-align: left;\">Ruaha</td><td style = \"text-align: right;\">46.97</td><td style = \"text-align: right;\">101.54</td><td style = \"text-align: right;\">11.0</td><td style = \"text-align: right;\">14.0</td></tr><tr><td class = \"rowNumber\" style = \"font-weight: bold; text-align: right;\">159</td><td style = \"text-align: right;\">10977708</td><td style = \"text-align: left;\">Pangani</td><td style = \"text-align: left;\">Ruaha</td><td style = \"text-align: right;\">39.83</td><td style = \"text-align: right;\">64.24</td><td style = \"text-align: right;\">10.7</td><td style = \"text-align: right;\">13.4</td></tr><tr><td class = \"rowNumber\" style = \"font-weight: bold; text-align: right;\">160</td><td style = \"text-align: right;\">10977975</td><td style = \"text-align: left;\">Pangani</td><td style = \"text-align: left;\">Ruaha</td><td style = \"text-align: right;\">32.14</td><td style = \"text-align: right;\">57.24</td><td style = \"text-align: right;\">10.0</td><td style = \"text-align: right;\">12.0</td></tr></tbody></table></div>"
      ],
      "text/latex": [
       "GroupedDataFrame with 9 groups based on key: Line\n",
       "\n",
       "First Group (211 rows): Line = \"Wami\"\n",
       "\n",
       "\\begin{tabular}{r|ccccccc}\n",
       "\t& Animal\\_Id & Location & Line & Weight\\_initial & Weight\\_final & Length\\_initial & Length\\_final\\\\\n",
       "\t\\hline\n",
       "\t& Int64 & String15 & String15 & Float64 & Float64 & Float64 & Float64\\\\\n",
       "\t\\hline\n",
       "\t1 & 10977965 & Kunduchi & Wami & 84.3 & 201.5 & 14.2 & 18.0 \\\\\n",
       "\t2 & 10978207 & Kunduchi & Wami & 67.8 & 0.0 & 13.4 & 0.0 \\\\\n",
       "\t3 & 10978378 & Kunduchi & Wami & 103.94 & 225.9 & 14.4 & 18.5 \\\\\n",
       "\t4 & 10978460 & Kunduchi & Wami & 84.85 & 239.2 & 14.5 & 19.9 \\\\\n",
       "\t5 & 10977732 & Kunduchi & Wami & 78.29 & 195.6 & 14.0 & 19.0 \\\\\n",
       "\t6 & 10978532 & Kunduchi & Wami & 89.93 & 220.0 & 14.7 & 19.0 \\\\\n",
       "\t7 & 10978612 & Kunduchi & Wami & 117.83 & 270.9 & 15.0 & 20.0 \\\\\n",
       "\t8 & 10977963 & Kunduchi & Wami & 92.48 & 209.4 & 14.9 & 18.3 \\\\\n",
       "\t9 & 10977682 & Kunduchi & Wami & 95.54 & 178.8 & 14.9 & 17.7 \\\\\n",
       "\t10 & 10978295 & Kunduchi & Wami & 70.27 & 135.2 & 13.3 & 16.0 \\\\\n",
       "\t11 & 10977643 & Kunduchi & Wami & 79.96 & 184.0 & 14.2 & 18.2 \\\\\n",
       "\t12 & 10978401 & Kunduchi & Wami & 101.76 & 173.9 & 14.5 & 17.2 \\\\\n",
       "\t13 & 10978321 & Kunduchi & Wami & 52.01 & 168.8 & 12.5 & 17.0 \\\\\n",
       "\t14 & 10978593 & Kunduchi & Wami & 91.93 & 182.7 & 14.3 & 18.0 \\\\\n",
       "\t15 & 10977891 & Kunduchi & Wami & 83.48 & 183.0 & 13.8 & 17.5 \\\\\n",
       "\t16 & 10978510 & Kunduchi & Wami & 87.03 & 219.9 & 14.3 & 18.5 \\\\\n",
       "\t17 & 10978282 & Kunduchi & Wami & 87.54 & 213.1 & 13.4 & 17.0 \\\\\n",
       "\t18 & 10978130 & Kunduchi & Wami & 69.83 & 204.7 & 13.3 & 19.0 \\\\\n",
       "\t19 & 10977956 & Kunduchi & Wami & 76.47 & 218.2 & 13.7 & 18.5 \\\\\n",
       "\t20 & 10978586 & Kunduchi & Wami & 84.97 & 179.3 & 14.0 & 17.1 \\\\\n",
       "\t21 & 10978426 & Kunduchi & Wami & 69.47 & 0.0 & 13.3 & 0.0 \\\\\n",
       "\t22 & 10978463 & Kunduchi & Wami & 70.53 & 196.1 & 13.4 & 18.0 \\\\\n",
       "\t23 & 10977973 & Kunduchi & Wami & 69.51 & 171.1 & 13.3 & 16.7 \\\\\n",
       "\t24 & 10978434 & Kunduchi & Wami & 58.31 & 134.0 & 12.4 & 15.9 \\\\\n",
       "\t$\\dots$ & $\\dots$ & $\\dots$ & $\\dots$ & $\\dots$ & $\\dots$ & $\\dots$ & $\\dots$ \\\\\n",
       "\\end{tabular}\n",
       "\n",
       "$\\dots$\n",
       "\n",
       "Last Group (160 rows): Line = \"Ruaha\"\n",
       "\n",
       "\\begin{tabular}{r|ccccccc}\n",
       "\t& Animal\\_Id & Location & Line & Weight\\_initial & Weight\\_final & Length\\_initial & Length\\_final\\\\\n",
       "\t\\hline\n",
       "\t& Int64 & String15 & String15 & Float64 & Float64 & Float64 & Float64\\\\\n",
       "\t\\hline\n",
       "\t1 & 10974909 & Kunduchi & Ruaha & 47.57 & 0.0 & 11.6 & 0.0 \\\\\n",
       "\t2 & 10974722 & Kunduchi & Ruaha & 45.2 & 0.0 & 11.8 & 0.0 \\\\\n",
       "\t3 & 10975090 & Kunduchi & Ruaha & 35.46 & 41.4 & 10.7 & 12.0 \\\\\n",
       "\t4 & 10975277 & Kunduchi & Ruaha & 23.04 & 54.3 & 9.0 & 11.3 \\\\\n",
       "\t5 & 10974779 & Kunduchi & Ruaha & 24.36 & 60.4 & 9.1 & 11.5 \\\\\n",
       "\t6 & 10974773 & Kunduchi & Ruaha & 31.31 & 40.5 & 10.3 & 12.5 \\\\\n",
       "\t7 & 10975351 & Kunduchi & Ruaha & 27.33 & 49.7 & 10.0 & 12.0 \\\\\n",
       "\t8 & 10975318 & Kunduchi & Ruaha & 17.56 & 38.1 & 8.5 & 10.2 \\\\\n",
       "\t9 & 10975091 & Kunduchi & Ruaha & 21.82 & 52.5 & 9.0 & 11.1 \\\\\n",
       "\t10 & 10975227 & Kunduchi & Ruaha & 17.54 & 50.3 & 7.8 & 11.0 \\\\\n",
       "\t11 & 10974965 & Kunduchi & Ruaha & 15.12 & 39.8 & 7.6 & 10.2 \\\\\n",
       "\t12 & 10975128 & Kunduchi & Ruaha & 16.47 & 50.4 & 8.0 & 11.2 \\\\\n",
       "\t13 & 10974846 & Kunduchi & Ruaha & 17.66 & 47.0 & 8.1 & 10.5 \\\\\n",
       "\t14 & 10974801 & Kunduchi & Ruaha & 15.84 & 0.0 & 8.0 & 0.0 \\\\\n",
       "\t15 & 10975055 & Kunduchi & Ruaha & 14.33 & 0.0 & 8.0 & 0.0 \\\\\n",
       "\t16 & 10975057 & Kunduchi & Ruaha & 15.24 & 31.0 & 7.7 & 9.5 \\\\\n",
       "\t17 & 10974871 & Kunduchi & Ruaha & 29.13 & 41.7 & 9.2 & 10.3 \\\\\n",
       "\t18 & 10974869 & Kunduchi & Ruaha & 14.33 & 38.7 & 7.7 & 10.3 \\\\\n",
       "\t19 & 10974770 & Kunduchi & Ruaha & 20.56 & 41.6 & 8.6 & 10.4 \\\\\n",
       "\t20 & 10974734 & Kunduchi & Ruaha & 11.68 & 0.0 & 7.1 & 0.0 \\\\\n",
       "\t21 & 10974666 & Kunduchi & Ruaha & 11.94 & 33.7 & 7.2 & 9.6 \\\\\n",
       "\t22 & 10977059 & Kunduchi & Ruaha & 19.72 & 64.5 & 8.6 & 12.0 \\\\\n",
       "\t23 & 10977353 & Kunduchi & Ruaha & 41.48 & 111.4 & 11.1 & 14.1 \\\\\n",
       "\t24 & 10977483 & Kunduchi & Ruaha & 35.15 & 72.3 & 10.2 & 12.0 \\\\\n",
       "\t$\\dots$ & $\\dots$ & $\\dots$ & $\\dots$ & $\\dots$ & $\\dots$ & $\\dots$ & $\\dots$ \\\\\n",
       "\\end{tabular}\n"
      ],
      "text/plain": [
       "GroupedDataFrame with 9 groups based on key: Line\n",
       "First Group (211 rows): Line = \"Wami\"\n",
       "\u001b[1m Row \u001b[0m│\u001b[1m Animal_Id \u001b[0m\u001b[1m Location \u001b[0m\u001b[1m Line     \u001b[0m\u001b[1m Weight_initial \u001b[0m\u001b[1m Weight_final \u001b[0m\u001b[1m Length_ini\u001b[0m ⋯\n",
       "     │\u001b[90m Int64     \u001b[0m\u001b[90m String15 \u001b[0m\u001b[90m String15 \u001b[0m\u001b[90m Float64        \u001b[0m\u001b[90m Float64      \u001b[0m\u001b[90m Float64   \u001b[0m ⋯\n",
       "─────┼──────────────────────────────────────────────────────────────────────────\n",
       "   1 │  10977965  Kunduchi  Wami               84.3         201.5              ⋯\n",
       "   2 │  10978207  Kunduchi  Wami               67.8           0.0\n",
       "  ⋮  │     ⋮         ⋮         ⋮            ⋮              ⋮              ⋮    ⋱\n",
       " 210 │  10975979  Pangani   Wami               36.15          0.0\n",
       " 211 │  10976499  Pangani   Wami               40.97        148.26\n",
       "\u001b[36m                                                  2 columns and 207 rows omitted\u001b[0m\n",
       "⋮\n",
       "Last Group (160 rows): Line = \"Ruaha\"\n",
       "\u001b[1m Row \u001b[0m│\u001b[1m Animal_Id \u001b[0m\u001b[1m Location \u001b[0m\u001b[1m Line     \u001b[0m\u001b[1m Weight_initial \u001b[0m\u001b[1m Weight_final \u001b[0m\u001b[1m Length_ini\u001b[0m ⋯\n",
       "     │\u001b[90m Int64     \u001b[0m\u001b[90m String15 \u001b[0m\u001b[90m String15 \u001b[0m\u001b[90m Float64        \u001b[0m\u001b[90m Float64      \u001b[0m\u001b[90m Float64   \u001b[0m ⋯\n",
       "─────┼──────────────────────────────────────────────────────────────────────────\n",
       "   1 │  10974909  Kunduchi  Ruaha              47.57          0.0              ⋯\n",
       "   2 │  10974722  Kunduchi  Ruaha              45.2           0.0\n",
       "  ⋮  │     ⋮         ⋮         ⋮            ⋮              ⋮              ⋮    ⋱\n",
       " 160 │  10977975  Pangani   Ruaha              32.14         57.24\n",
       "\u001b[36m                                                  2 columns and 157 rows omitted\u001b[0m"
      ]
     },
     "metadata": {},
     "output_type": "display_data"
    }
   ],
   "source": [
    "pheno_grp = groupby(pheno, \"Line\")"
   ]
  },
  {
   "cell_type": "markdown",
   "metadata": {},
   "source": [
    "Let's see how we can access data from each group."
   ]
  },
  {
   "cell_type": "code",
   "execution_count": 26,
   "metadata": {},
   "outputs": [
    {
     "data": {
      "text/html": [
       "<div><div style = \"float: left;\"><span>211×7 SubDataFrame</span></div><div style = \"float: right;\"><span style = \"font-style: italic;\">186 rows omitted</span></div><div style = \"clear: both;\"></div></div><div class = \"data-frame\" style = \"overflow-x: scroll;\"><table class = \"data-frame\" style = \"margin-bottom: 6px;\"><thead><tr class = \"header\"><th class = \"rowNumber\" style = \"font-weight: bold; text-align: right;\">Row</th><th style = \"text-align: left;\">Animal_Id</th><th style = \"text-align: left;\">Location</th><th style = \"text-align: left;\">Line</th><th style = \"text-align: left;\">Weight_initial</th><th style = \"text-align: left;\">Weight_final</th><th style = \"text-align: left;\">Length_initial</th><th style = \"text-align: left;\">Length_final</th></tr><tr class = \"subheader headerLastRow\"><th class = \"rowNumber\" style = \"font-weight: bold; text-align: right;\"></th><th title = \"Int64\" style = \"text-align: left;\">Int64</th><th title = \"String15\" style = \"text-align: left;\">String15</th><th title = \"String15\" style = \"text-align: left;\">String15</th><th title = \"Float64\" style = \"text-align: left;\">Float64</th><th title = \"Float64\" style = \"text-align: left;\">Float64</th><th title = \"Float64\" style = \"text-align: left;\">Float64</th><th title = \"Float64\" style = \"text-align: left;\">Float64</th></tr></thead><tbody><tr><td class = \"rowNumber\" style = \"font-weight: bold; text-align: right;\">1</td><td style = \"text-align: right;\">10977965</td><td style = \"text-align: left;\">Kunduchi</td><td style = \"text-align: left;\">Wami</td><td style = \"text-align: right;\">84.3</td><td style = \"text-align: right;\">201.5</td><td style = \"text-align: right;\">14.2</td><td style = \"text-align: right;\">18.0</td></tr><tr><td class = \"rowNumber\" style = \"font-weight: bold; text-align: right;\">2</td><td style = \"text-align: right;\">10978207</td><td style = \"text-align: left;\">Kunduchi</td><td style = \"text-align: left;\">Wami</td><td style = \"text-align: right;\">67.8</td><td style = \"text-align: right;\">0.0</td><td style = \"text-align: right;\">13.4</td><td style = \"text-align: right;\">0.0</td></tr><tr><td class = \"rowNumber\" style = \"font-weight: bold; text-align: right;\">3</td><td style = \"text-align: right;\">10978378</td><td style = \"text-align: left;\">Kunduchi</td><td style = \"text-align: left;\">Wami</td><td style = \"text-align: right;\">103.94</td><td style = \"text-align: right;\">225.9</td><td style = \"text-align: right;\">14.4</td><td style = \"text-align: right;\">18.5</td></tr><tr><td class = \"rowNumber\" style = \"font-weight: bold; text-align: right;\">4</td><td style = \"text-align: right;\">10978460</td><td style = \"text-align: left;\">Kunduchi</td><td style = \"text-align: left;\">Wami</td><td style = \"text-align: right;\">84.85</td><td style = \"text-align: right;\">239.2</td><td style = \"text-align: right;\">14.5</td><td style = \"text-align: right;\">19.9</td></tr><tr><td class = \"rowNumber\" style = \"font-weight: bold; text-align: right;\">5</td><td style = \"text-align: right;\">10977732</td><td style = \"text-align: left;\">Kunduchi</td><td style = \"text-align: left;\">Wami</td><td style = \"text-align: right;\">78.29</td><td style = \"text-align: right;\">195.6</td><td style = \"text-align: right;\">14.0</td><td style = \"text-align: right;\">19.0</td></tr><tr><td class = \"rowNumber\" style = \"font-weight: bold; text-align: right;\">6</td><td style = \"text-align: right;\">10978532</td><td style = \"text-align: left;\">Kunduchi</td><td style = \"text-align: left;\">Wami</td><td style = \"text-align: right;\">89.93</td><td style = \"text-align: right;\">220.0</td><td style = \"text-align: right;\">14.7</td><td style = \"text-align: right;\">19.0</td></tr><tr><td class = \"rowNumber\" style = \"font-weight: bold; text-align: right;\">7</td><td style = \"text-align: right;\">10978612</td><td style = \"text-align: left;\">Kunduchi</td><td style = \"text-align: left;\">Wami</td><td style = \"text-align: right;\">117.83</td><td style = \"text-align: right;\">270.9</td><td style = \"text-align: right;\">15.0</td><td style = \"text-align: right;\">20.0</td></tr><tr><td class = \"rowNumber\" style = \"font-weight: bold; text-align: right;\">8</td><td style = \"text-align: right;\">10977963</td><td style = \"text-align: left;\">Kunduchi</td><td style = \"text-align: left;\">Wami</td><td style = \"text-align: right;\">92.48</td><td style = \"text-align: right;\">209.4</td><td style = \"text-align: right;\">14.9</td><td style = \"text-align: right;\">18.3</td></tr><tr><td class = \"rowNumber\" style = \"font-weight: bold; text-align: right;\">9</td><td style = \"text-align: right;\">10977682</td><td style = \"text-align: left;\">Kunduchi</td><td style = \"text-align: left;\">Wami</td><td style = \"text-align: right;\">95.54</td><td style = \"text-align: right;\">178.8</td><td style = \"text-align: right;\">14.9</td><td style = \"text-align: right;\">17.7</td></tr><tr><td class = \"rowNumber\" style = \"font-weight: bold; text-align: right;\">10</td><td style = \"text-align: right;\">10978295</td><td style = \"text-align: left;\">Kunduchi</td><td style = \"text-align: left;\">Wami</td><td style = \"text-align: right;\">70.27</td><td style = \"text-align: right;\">135.2</td><td style = \"text-align: right;\">13.3</td><td style = \"text-align: right;\">16.0</td></tr><tr><td class = \"rowNumber\" style = \"font-weight: bold; text-align: right;\">11</td><td style = \"text-align: right;\">10977643</td><td style = \"text-align: left;\">Kunduchi</td><td style = \"text-align: left;\">Wami</td><td style = \"text-align: right;\">79.96</td><td style = \"text-align: right;\">184.0</td><td style = \"text-align: right;\">14.2</td><td style = \"text-align: right;\">18.2</td></tr><tr><td class = \"rowNumber\" style = \"font-weight: bold; text-align: right;\">12</td><td style = \"text-align: right;\">10978401</td><td style = \"text-align: left;\">Kunduchi</td><td style = \"text-align: left;\">Wami</td><td style = \"text-align: right;\">101.76</td><td style = \"text-align: right;\">173.9</td><td style = \"text-align: right;\">14.5</td><td style = \"text-align: right;\">17.2</td></tr><tr><td class = \"rowNumber\" style = \"font-weight: bold; text-align: right;\">13</td><td style = \"text-align: right;\">10978321</td><td style = \"text-align: left;\">Kunduchi</td><td style = \"text-align: left;\">Wami</td><td style = \"text-align: right;\">52.01</td><td style = \"text-align: right;\">168.8</td><td style = \"text-align: right;\">12.5</td><td style = \"text-align: right;\">17.0</td></tr><tr><td style = \"text-align: right;\">&vellip;</td><td style = \"text-align: right;\">&vellip;</td><td style = \"text-align: right;\">&vellip;</td><td style = \"text-align: right;\">&vellip;</td><td style = \"text-align: right;\">&vellip;</td><td style = \"text-align: right;\">&vellip;</td><td style = \"text-align: right;\">&vellip;</td><td style = \"text-align: right;\">&vellip;</td></tr><tr><td class = \"rowNumber\" style = \"font-weight: bold; text-align: right;\">200</td><td style = \"text-align: right;\">10975649</td><td style = \"text-align: left;\">Pangani</td><td style = \"text-align: left;\">Wami</td><td style = \"text-align: right;\">50.98</td><td style = \"text-align: right;\">73.37</td><td style = \"text-align: right;\">11.5</td><td style = \"text-align: right;\">14.6</td></tr><tr><td class = \"rowNumber\" style = \"font-weight: bold; text-align: right;\">201</td><td style = \"text-align: right;\">10976464</td><td style = \"text-align: left;\">Pangani</td><td style = \"text-align: left;\">Wami</td><td style = \"text-align: right;\">51.15</td><td style = \"text-align: right;\">159.7</td><td style = \"text-align: right;\">11.5</td><td style = \"text-align: right;\">16.0</td></tr><tr><td class = \"rowNumber\" style = \"font-weight: bold; text-align: right;\">202</td><td style = \"text-align: right;\">10975951</td><td style = \"text-align: left;\">Pangani</td><td style = \"text-align: left;\">Wami</td><td style = \"text-align: right;\">55.29</td><td style = \"text-align: right;\">160.48</td><td style = \"text-align: right;\">11.3</td><td style = \"text-align: right;\">16.2</td></tr><tr><td class = \"rowNumber\" style = \"font-weight: bold; text-align: right;\">203</td><td style = \"text-align: right;\">10975747</td><td style = \"text-align: left;\">Pangani</td><td style = \"text-align: left;\">Wami</td><td style = \"text-align: right;\">71.32</td><td style = \"text-align: right;\">166.82</td><td style = \"text-align: right;\">12.9</td><td style = \"text-align: right;\">17.2</td></tr><tr><td class = \"rowNumber\" style = \"font-weight: bold; text-align: right;\">204</td><td style = \"text-align: right;\">10976511</td><td style = \"text-align: left;\">Pangani</td><td style = \"text-align: left;\">Wami</td><td style = \"text-align: right;\">89.42</td><td style = \"text-align: right;\">133.56</td><td style = \"text-align: right;\">14.0</td><td style = \"text-align: right;\">17.6</td></tr><tr><td class = \"rowNumber\" style = \"font-weight: bold; text-align: right;\">205</td><td style = \"text-align: right;\">10976113</td><td style = \"text-align: left;\">Pangani</td><td style = \"text-align: left;\">Wami</td><td style = \"text-align: right;\">43.22</td><td style = \"text-align: right;\">0.0</td><td style = \"text-align: right;\">10.8</td><td style = \"text-align: right;\">0.0</td></tr><tr><td class = \"rowNumber\" style = \"font-weight: bold; text-align: right;\">206</td><td style = \"text-align: right;\">10976182</td><td style = \"text-align: left;\">Pangani</td><td style = \"text-align: left;\">Wami</td><td style = \"text-align: right;\">33.61</td><td style = \"text-align: right;\">142.76</td><td style = \"text-align: right;\">9.9</td><td style = \"text-align: right;\">17.5</td></tr><tr><td class = \"rowNumber\" style = \"font-weight: bold; text-align: right;\">207</td><td style = \"text-align: right;\">10976242</td><td style = \"text-align: left;\">Pangani</td><td style = \"text-align: left;\">Wami</td><td style = \"text-align: right;\">79.66</td><td style = \"text-align: right;\">188.79</td><td style = \"text-align: right;\">13.4</td><td style = \"text-align: right;\">17.4</td></tr><tr><td class = \"rowNumber\" style = \"font-weight: bold; text-align: right;\">208</td><td style = \"text-align: right;\">10976119</td><td style = \"text-align: left;\">Pangani</td><td style = \"text-align: left;\">Wami</td><td style = \"text-align: right;\">35.71</td><td style = \"text-align: right;\">130.9</td><td style = \"text-align: right;\">10.3</td><td style = \"text-align: right;\">15.5</td></tr><tr><td class = \"rowNumber\" style = \"font-weight: bold; text-align: right;\">209</td><td style = \"text-align: right;\">10975821</td><td style = \"text-align: left;\">Pangani</td><td style = \"text-align: left;\">Wami</td><td style = \"text-align: right;\">30.22</td><td style = \"text-align: right;\">130.9</td><td style = \"text-align: right;\">9.2</td><td style = \"text-align: right;\">15.5</td></tr><tr><td class = \"rowNumber\" style = \"font-weight: bold; text-align: right;\">210</td><td style = \"text-align: right;\">10975979</td><td style = \"text-align: left;\">Pangani</td><td style = \"text-align: left;\">Wami</td><td style = \"text-align: right;\">36.15</td><td style = \"text-align: right;\">0.0</td><td style = \"text-align: right;\">10.0</td><td style = \"text-align: right;\">0.0</td></tr><tr><td class = \"rowNumber\" style = \"font-weight: bold; text-align: right;\">211</td><td style = \"text-align: right;\">10976499</td><td style = \"text-align: left;\">Pangani</td><td style = \"text-align: left;\">Wami</td><td style = \"text-align: right;\">40.97</td><td style = \"text-align: right;\">148.26</td><td style = \"text-align: right;\">10.5</td><td style = \"text-align: right;\">16.0</td></tr></tbody></table></div>"
      ],
      "text/latex": [
       "\\begin{tabular}{r|ccccccc}\n",
       "\t& Animal\\_Id & Location & Line & Weight\\_initial & Weight\\_final & Length\\_initial & Length\\_final\\\\\n",
       "\t\\hline\n",
       "\t& Int64 & String15 & String15 & Float64 & Float64 & Float64 & Float64\\\\\n",
       "\t\\hline\n",
       "\t1 & 10977965 & Kunduchi & Wami & 84.3 & 201.5 & 14.2 & 18.0 \\\\\n",
       "\t2 & 10978207 & Kunduchi & Wami & 67.8 & 0.0 & 13.4 & 0.0 \\\\\n",
       "\t3 & 10978378 & Kunduchi & Wami & 103.94 & 225.9 & 14.4 & 18.5 \\\\\n",
       "\t4 & 10978460 & Kunduchi & Wami & 84.85 & 239.2 & 14.5 & 19.9 \\\\\n",
       "\t5 & 10977732 & Kunduchi & Wami & 78.29 & 195.6 & 14.0 & 19.0 \\\\\n",
       "\t6 & 10978532 & Kunduchi & Wami & 89.93 & 220.0 & 14.7 & 19.0 \\\\\n",
       "\t7 & 10978612 & Kunduchi & Wami & 117.83 & 270.9 & 15.0 & 20.0 \\\\\n",
       "\t8 & 10977963 & Kunduchi & Wami & 92.48 & 209.4 & 14.9 & 18.3 \\\\\n",
       "\t9 & 10977682 & Kunduchi & Wami & 95.54 & 178.8 & 14.9 & 17.7 \\\\\n",
       "\t10 & 10978295 & Kunduchi & Wami & 70.27 & 135.2 & 13.3 & 16.0 \\\\\n",
       "\t11 & 10977643 & Kunduchi & Wami & 79.96 & 184.0 & 14.2 & 18.2 \\\\\n",
       "\t12 & 10978401 & Kunduchi & Wami & 101.76 & 173.9 & 14.5 & 17.2 \\\\\n",
       "\t13 & 10978321 & Kunduchi & Wami & 52.01 & 168.8 & 12.5 & 17.0 \\\\\n",
       "\t14 & 10978593 & Kunduchi & Wami & 91.93 & 182.7 & 14.3 & 18.0 \\\\\n",
       "\t15 & 10977891 & Kunduchi & Wami & 83.48 & 183.0 & 13.8 & 17.5 \\\\\n",
       "\t16 & 10978510 & Kunduchi & Wami & 87.03 & 219.9 & 14.3 & 18.5 \\\\\n",
       "\t17 & 10978282 & Kunduchi & Wami & 87.54 & 213.1 & 13.4 & 17.0 \\\\\n",
       "\t18 & 10978130 & Kunduchi & Wami & 69.83 & 204.7 & 13.3 & 19.0 \\\\\n",
       "\t19 & 10977956 & Kunduchi & Wami & 76.47 & 218.2 & 13.7 & 18.5 \\\\\n",
       "\t20 & 10978586 & Kunduchi & Wami & 84.97 & 179.3 & 14.0 & 17.1 \\\\\n",
       "\t21 & 10978426 & Kunduchi & Wami & 69.47 & 0.0 & 13.3 & 0.0 \\\\\n",
       "\t22 & 10978463 & Kunduchi & Wami & 70.53 & 196.1 & 13.4 & 18.0 \\\\\n",
       "\t23 & 10977973 & Kunduchi & Wami & 69.51 & 171.1 & 13.3 & 16.7 \\\\\n",
       "\t24 & 10978434 & Kunduchi & Wami & 58.31 & 134.0 & 12.4 & 15.9 \\\\\n",
       "\t$\\dots$ & $\\dots$ & $\\dots$ & $\\dots$ & $\\dots$ & $\\dots$ & $\\dots$ & $\\dots$ \\\\\n",
       "\\end{tabular}\n"
      ],
      "text/plain": [
       "\u001b[1m211×7 SubDataFrame\u001b[0m\n",
       "\u001b[1m Row \u001b[0m│\u001b[1m Animal_Id \u001b[0m\u001b[1m Location \u001b[0m\u001b[1m Line     \u001b[0m\u001b[1m Weight_initial \u001b[0m\u001b[1m Weight_final \u001b[0m\u001b[1m Length_ini\u001b[0m ⋯\n",
       "     │\u001b[90m Int64     \u001b[0m\u001b[90m String15 \u001b[0m\u001b[90m String15 \u001b[0m\u001b[90m Float64        \u001b[0m\u001b[90m Float64      \u001b[0m\u001b[90m Float64   \u001b[0m ⋯\n",
       "─────┼──────────────────────────────────────────────────────────────────────────\n",
       "   1 │  10977965  Kunduchi  Wami               84.3         201.5              ⋯\n",
       "   2 │  10978207  Kunduchi  Wami               67.8           0.0\n",
       "   3 │  10978378  Kunduchi  Wami              103.94        225.9\n",
       "   4 │  10978460  Kunduchi  Wami               84.85        239.2\n",
       "   5 │  10977732  Kunduchi  Wami               78.29        195.6              ⋯\n",
       "   6 │  10978532  Kunduchi  Wami               89.93        220.0\n",
       "   7 │  10978612  Kunduchi  Wami              117.83        270.9\n",
       "   8 │  10977963  Kunduchi  Wami               92.48        209.4\n",
       "  ⋮  │     ⋮         ⋮         ⋮            ⋮              ⋮              ⋮    ⋱\n",
       " 205 │  10976113  Pangani   Wami               43.22          0.0              ⋯\n",
       " 206 │  10976182  Pangani   Wami               33.61        142.76\n",
       " 207 │  10976242  Pangani   Wami               79.66        188.79\n",
       " 208 │  10976119  Pangani   Wami               35.71        130.9\n",
       " 209 │  10975821  Pangani   Wami               30.22        130.9              ⋯\n",
       " 210 │  10975979  Pangani   Wami               36.15          0.0\n",
       " 211 │  10976499  Pangani   Wami               40.97        148.26\n",
       "\u001b[36m                                                  2 columns and 196 rows omitted\u001b[0m"
      ]
     },
     "metadata": {},
     "output_type": "display_data"
    }
   ],
   "source": [
    "pheno_grp[1]"
   ]
  },
  {
   "cell_type": "markdown",
   "metadata": {},
   "source": [
    "Alternatively"
   ]
  },
  {
   "cell_type": "code",
   "execution_count": 27,
   "metadata": {},
   "outputs": [
    {
     "data": {
      "text/plain": [
       "9-element DataFrames.GroupKeys{GroupedDataFrame{DataFrame}}:\n",
       " GroupKey: (Line = String15(\"Wami\"),)\n",
       " GroupKey: (Line = String15(\"Chemchem\"),)\n",
       " GroupKey: (Line = String15(\"Mindu\"),)\n",
       " GroupKey: (Line = String15(\"Utete\"),)\n",
       " GroupKey: (Line = String15(\"Kibasira\"),)\n",
       " GroupKey: (Line = String15(\"Nyamisati\"),)\n",
       " GroupKey: (Line = String15(\"Bwawani\"),)\n",
       " GroupKey: (Line = String15(\"Kilola\"),)\n",
       " GroupKey: (Line = String15(\"Ruaha\"),)"
      ]
     },
     "metadata": {},
     "output_type": "display_data"
    }
   ],
   "source": [
    "keys(pheno_grp)"
   ]
  },
  {
   "cell_type": "code",
   "execution_count": 28,
   "metadata": {},
   "outputs": [
    {
     "data": {
      "text/plain": [
       "GroupKey: (Line = String15(\"Wami\"),)"
      ]
     },
     "metadata": {},
     "output_type": "display_data"
    }
   ],
   "source": [
    "grp_key = keys(pheno_grp)[1]"
   ]
  },
  {
   "cell_type": "code",
   "execution_count": 29,
   "metadata": {},
   "outputs": [
    {
     "data": {
      "text/html": [
       "<div><div style = \"float: left;\"><span>211×7 SubDataFrame</span></div><div style = \"float: right;\"><span style = \"font-style: italic;\">186 rows omitted</span></div><div style = \"clear: both;\"></div></div><div class = \"data-frame\" style = \"overflow-x: scroll;\"><table class = \"data-frame\" style = \"margin-bottom: 6px;\"><thead><tr class = \"header\"><th class = \"rowNumber\" style = \"font-weight: bold; text-align: right;\">Row</th><th style = \"text-align: left;\">Animal_Id</th><th style = \"text-align: left;\">Location</th><th style = \"text-align: left;\">Line</th><th style = \"text-align: left;\">Weight_initial</th><th style = \"text-align: left;\">Weight_final</th><th style = \"text-align: left;\">Length_initial</th><th style = \"text-align: left;\">Length_final</th></tr><tr class = \"subheader headerLastRow\"><th class = \"rowNumber\" style = \"font-weight: bold; text-align: right;\"></th><th title = \"Int64\" style = \"text-align: left;\">Int64</th><th title = \"String15\" style = \"text-align: left;\">String15</th><th title = \"String15\" style = \"text-align: left;\">String15</th><th title = \"Float64\" style = \"text-align: left;\">Float64</th><th title = \"Float64\" style = \"text-align: left;\">Float64</th><th title = \"Float64\" style = \"text-align: left;\">Float64</th><th title = \"Float64\" style = \"text-align: left;\">Float64</th></tr></thead><tbody><tr><td class = \"rowNumber\" style = \"font-weight: bold; text-align: right;\">1</td><td style = \"text-align: right;\">10977965</td><td style = \"text-align: left;\">Kunduchi</td><td style = \"text-align: left;\">Wami</td><td style = \"text-align: right;\">84.3</td><td style = \"text-align: right;\">201.5</td><td style = \"text-align: right;\">14.2</td><td style = \"text-align: right;\">18.0</td></tr><tr><td class = \"rowNumber\" style = \"font-weight: bold; text-align: right;\">2</td><td style = \"text-align: right;\">10978207</td><td style = \"text-align: left;\">Kunduchi</td><td style = \"text-align: left;\">Wami</td><td style = \"text-align: right;\">67.8</td><td style = \"text-align: right;\">0.0</td><td style = \"text-align: right;\">13.4</td><td style = \"text-align: right;\">0.0</td></tr><tr><td class = \"rowNumber\" style = \"font-weight: bold; text-align: right;\">3</td><td style = \"text-align: right;\">10978378</td><td style = \"text-align: left;\">Kunduchi</td><td style = \"text-align: left;\">Wami</td><td style = \"text-align: right;\">103.94</td><td style = \"text-align: right;\">225.9</td><td style = \"text-align: right;\">14.4</td><td style = \"text-align: right;\">18.5</td></tr><tr><td class = \"rowNumber\" style = \"font-weight: bold; text-align: right;\">4</td><td style = \"text-align: right;\">10978460</td><td style = \"text-align: left;\">Kunduchi</td><td style = \"text-align: left;\">Wami</td><td style = \"text-align: right;\">84.85</td><td style = \"text-align: right;\">239.2</td><td style = \"text-align: right;\">14.5</td><td style = \"text-align: right;\">19.9</td></tr><tr><td class = \"rowNumber\" style = \"font-weight: bold; text-align: right;\">5</td><td style = \"text-align: right;\">10977732</td><td style = \"text-align: left;\">Kunduchi</td><td style = \"text-align: left;\">Wami</td><td style = \"text-align: right;\">78.29</td><td style = \"text-align: right;\">195.6</td><td style = \"text-align: right;\">14.0</td><td style = \"text-align: right;\">19.0</td></tr><tr><td class = \"rowNumber\" style = \"font-weight: bold; text-align: right;\">6</td><td style = \"text-align: right;\">10978532</td><td style = \"text-align: left;\">Kunduchi</td><td style = \"text-align: left;\">Wami</td><td style = \"text-align: right;\">89.93</td><td style = \"text-align: right;\">220.0</td><td style = \"text-align: right;\">14.7</td><td style = \"text-align: right;\">19.0</td></tr><tr><td class = \"rowNumber\" style = \"font-weight: bold; text-align: right;\">7</td><td style = \"text-align: right;\">10978612</td><td style = \"text-align: left;\">Kunduchi</td><td style = \"text-align: left;\">Wami</td><td style = \"text-align: right;\">117.83</td><td style = \"text-align: right;\">270.9</td><td style = \"text-align: right;\">15.0</td><td style = \"text-align: right;\">20.0</td></tr><tr><td class = \"rowNumber\" style = \"font-weight: bold; text-align: right;\">8</td><td style = \"text-align: right;\">10977963</td><td style = \"text-align: left;\">Kunduchi</td><td style = \"text-align: left;\">Wami</td><td style = \"text-align: right;\">92.48</td><td style = \"text-align: right;\">209.4</td><td style = \"text-align: right;\">14.9</td><td style = \"text-align: right;\">18.3</td></tr><tr><td class = \"rowNumber\" style = \"font-weight: bold; text-align: right;\">9</td><td style = \"text-align: right;\">10977682</td><td style = \"text-align: left;\">Kunduchi</td><td style = \"text-align: left;\">Wami</td><td style = \"text-align: right;\">95.54</td><td style = \"text-align: right;\">178.8</td><td style = \"text-align: right;\">14.9</td><td style = \"text-align: right;\">17.7</td></tr><tr><td class = \"rowNumber\" style = \"font-weight: bold; text-align: right;\">10</td><td style = \"text-align: right;\">10978295</td><td style = \"text-align: left;\">Kunduchi</td><td style = \"text-align: left;\">Wami</td><td style = \"text-align: right;\">70.27</td><td style = \"text-align: right;\">135.2</td><td style = \"text-align: right;\">13.3</td><td style = \"text-align: right;\">16.0</td></tr><tr><td class = \"rowNumber\" style = \"font-weight: bold; text-align: right;\">11</td><td style = \"text-align: right;\">10977643</td><td style = \"text-align: left;\">Kunduchi</td><td style = \"text-align: left;\">Wami</td><td style = \"text-align: right;\">79.96</td><td style = \"text-align: right;\">184.0</td><td style = \"text-align: right;\">14.2</td><td style = \"text-align: right;\">18.2</td></tr><tr><td class = \"rowNumber\" style = \"font-weight: bold; text-align: right;\">12</td><td style = \"text-align: right;\">10978401</td><td style = \"text-align: left;\">Kunduchi</td><td style = \"text-align: left;\">Wami</td><td style = \"text-align: right;\">101.76</td><td style = \"text-align: right;\">173.9</td><td style = \"text-align: right;\">14.5</td><td style = \"text-align: right;\">17.2</td></tr><tr><td class = \"rowNumber\" style = \"font-weight: bold; text-align: right;\">13</td><td style = \"text-align: right;\">10978321</td><td style = \"text-align: left;\">Kunduchi</td><td style = \"text-align: left;\">Wami</td><td style = \"text-align: right;\">52.01</td><td style = \"text-align: right;\">168.8</td><td style = \"text-align: right;\">12.5</td><td style = \"text-align: right;\">17.0</td></tr><tr><td style = \"text-align: right;\">&vellip;</td><td style = \"text-align: right;\">&vellip;</td><td style = \"text-align: right;\">&vellip;</td><td style = \"text-align: right;\">&vellip;</td><td style = \"text-align: right;\">&vellip;</td><td style = \"text-align: right;\">&vellip;</td><td style = \"text-align: right;\">&vellip;</td><td style = \"text-align: right;\">&vellip;</td></tr><tr><td class = \"rowNumber\" style = \"font-weight: bold; text-align: right;\">200</td><td style = \"text-align: right;\">10975649</td><td style = \"text-align: left;\">Pangani</td><td style = \"text-align: left;\">Wami</td><td style = \"text-align: right;\">50.98</td><td style = \"text-align: right;\">73.37</td><td style = \"text-align: right;\">11.5</td><td style = \"text-align: right;\">14.6</td></tr><tr><td class = \"rowNumber\" style = \"font-weight: bold; text-align: right;\">201</td><td style = \"text-align: right;\">10976464</td><td style = \"text-align: left;\">Pangani</td><td style = \"text-align: left;\">Wami</td><td style = \"text-align: right;\">51.15</td><td style = \"text-align: right;\">159.7</td><td style = \"text-align: right;\">11.5</td><td style = \"text-align: right;\">16.0</td></tr><tr><td class = \"rowNumber\" style = \"font-weight: bold; text-align: right;\">202</td><td style = \"text-align: right;\">10975951</td><td style = \"text-align: left;\">Pangani</td><td style = \"text-align: left;\">Wami</td><td style = \"text-align: right;\">55.29</td><td style = \"text-align: right;\">160.48</td><td style = \"text-align: right;\">11.3</td><td style = \"text-align: right;\">16.2</td></tr><tr><td class = \"rowNumber\" style = \"font-weight: bold; text-align: right;\">203</td><td style = \"text-align: right;\">10975747</td><td style = \"text-align: left;\">Pangani</td><td style = \"text-align: left;\">Wami</td><td style = \"text-align: right;\">71.32</td><td style = \"text-align: right;\">166.82</td><td style = \"text-align: right;\">12.9</td><td style = \"text-align: right;\">17.2</td></tr><tr><td class = \"rowNumber\" style = \"font-weight: bold; text-align: right;\">204</td><td style = \"text-align: right;\">10976511</td><td style = \"text-align: left;\">Pangani</td><td style = \"text-align: left;\">Wami</td><td style = \"text-align: right;\">89.42</td><td style = \"text-align: right;\">133.56</td><td style = \"text-align: right;\">14.0</td><td style = \"text-align: right;\">17.6</td></tr><tr><td class = \"rowNumber\" style = \"font-weight: bold; text-align: right;\">205</td><td style = \"text-align: right;\">10976113</td><td style = \"text-align: left;\">Pangani</td><td style = \"text-align: left;\">Wami</td><td style = \"text-align: right;\">43.22</td><td style = \"text-align: right;\">0.0</td><td style = \"text-align: right;\">10.8</td><td style = \"text-align: right;\">0.0</td></tr><tr><td class = \"rowNumber\" style = \"font-weight: bold; text-align: right;\">206</td><td style = \"text-align: right;\">10976182</td><td style = \"text-align: left;\">Pangani</td><td style = \"text-align: left;\">Wami</td><td style = \"text-align: right;\">33.61</td><td style = \"text-align: right;\">142.76</td><td style = \"text-align: right;\">9.9</td><td style = \"text-align: right;\">17.5</td></tr><tr><td class = \"rowNumber\" style = \"font-weight: bold; text-align: right;\">207</td><td style = \"text-align: right;\">10976242</td><td style = \"text-align: left;\">Pangani</td><td style = \"text-align: left;\">Wami</td><td style = \"text-align: right;\">79.66</td><td style = \"text-align: right;\">188.79</td><td style = \"text-align: right;\">13.4</td><td style = \"text-align: right;\">17.4</td></tr><tr><td class = \"rowNumber\" style = \"font-weight: bold; text-align: right;\">208</td><td style = \"text-align: right;\">10976119</td><td style = \"text-align: left;\">Pangani</td><td style = \"text-align: left;\">Wami</td><td style = \"text-align: right;\">35.71</td><td style = \"text-align: right;\">130.9</td><td style = \"text-align: right;\">10.3</td><td style = \"text-align: right;\">15.5</td></tr><tr><td class = \"rowNumber\" style = \"font-weight: bold; text-align: right;\">209</td><td style = \"text-align: right;\">10975821</td><td style = \"text-align: left;\">Pangani</td><td style = \"text-align: left;\">Wami</td><td style = \"text-align: right;\">30.22</td><td style = \"text-align: right;\">130.9</td><td style = \"text-align: right;\">9.2</td><td style = \"text-align: right;\">15.5</td></tr><tr><td class = \"rowNumber\" style = \"font-weight: bold; text-align: right;\">210</td><td style = \"text-align: right;\">10975979</td><td style = \"text-align: left;\">Pangani</td><td style = \"text-align: left;\">Wami</td><td style = \"text-align: right;\">36.15</td><td style = \"text-align: right;\">0.0</td><td style = \"text-align: right;\">10.0</td><td style = \"text-align: right;\">0.0</td></tr><tr><td class = \"rowNumber\" style = \"font-weight: bold; text-align: right;\">211</td><td style = \"text-align: right;\">10976499</td><td style = \"text-align: left;\">Pangani</td><td style = \"text-align: left;\">Wami</td><td style = \"text-align: right;\">40.97</td><td style = \"text-align: right;\">148.26</td><td style = \"text-align: right;\">10.5</td><td style = \"text-align: right;\">16.0</td></tr></tbody></table></div>"
      ],
      "text/latex": [
       "\\begin{tabular}{r|ccccccc}\n",
       "\t& Animal\\_Id & Location & Line & Weight\\_initial & Weight\\_final & Length\\_initial & Length\\_final\\\\\n",
       "\t\\hline\n",
       "\t& Int64 & String15 & String15 & Float64 & Float64 & Float64 & Float64\\\\\n",
       "\t\\hline\n",
       "\t1 & 10977965 & Kunduchi & Wami & 84.3 & 201.5 & 14.2 & 18.0 \\\\\n",
       "\t2 & 10978207 & Kunduchi & Wami & 67.8 & 0.0 & 13.4 & 0.0 \\\\\n",
       "\t3 & 10978378 & Kunduchi & Wami & 103.94 & 225.9 & 14.4 & 18.5 \\\\\n",
       "\t4 & 10978460 & Kunduchi & Wami & 84.85 & 239.2 & 14.5 & 19.9 \\\\\n",
       "\t5 & 10977732 & Kunduchi & Wami & 78.29 & 195.6 & 14.0 & 19.0 \\\\\n",
       "\t6 & 10978532 & Kunduchi & Wami & 89.93 & 220.0 & 14.7 & 19.0 \\\\\n",
       "\t7 & 10978612 & Kunduchi & Wami & 117.83 & 270.9 & 15.0 & 20.0 \\\\\n",
       "\t8 & 10977963 & Kunduchi & Wami & 92.48 & 209.4 & 14.9 & 18.3 \\\\\n",
       "\t9 & 10977682 & Kunduchi & Wami & 95.54 & 178.8 & 14.9 & 17.7 \\\\\n",
       "\t10 & 10978295 & Kunduchi & Wami & 70.27 & 135.2 & 13.3 & 16.0 \\\\\n",
       "\t11 & 10977643 & Kunduchi & Wami & 79.96 & 184.0 & 14.2 & 18.2 \\\\\n",
       "\t12 & 10978401 & Kunduchi & Wami & 101.76 & 173.9 & 14.5 & 17.2 \\\\\n",
       "\t13 & 10978321 & Kunduchi & Wami & 52.01 & 168.8 & 12.5 & 17.0 \\\\\n",
       "\t14 & 10978593 & Kunduchi & Wami & 91.93 & 182.7 & 14.3 & 18.0 \\\\\n",
       "\t15 & 10977891 & Kunduchi & Wami & 83.48 & 183.0 & 13.8 & 17.5 \\\\\n",
       "\t16 & 10978510 & Kunduchi & Wami & 87.03 & 219.9 & 14.3 & 18.5 \\\\\n",
       "\t17 & 10978282 & Kunduchi & Wami & 87.54 & 213.1 & 13.4 & 17.0 \\\\\n",
       "\t18 & 10978130 & Kunduchi & Wami & 69.83 & 204.7 & 13.3 & 19.0 \\\\\n",
       "\t19 & 10977956 & Kunduchi & Wami & 76.47 & 218.2 & 13.7 & 18.5 \\\\\n",
       "\t20 & 10978586 & Kunduchi & Wami & 84.97 & 179.3 & 14.0 & 17.1 \\\\\n",
       "\t21 & 10978426 & Kunduchi & Wami & 69.47 & 0.0 & 13.3 & 0.0 \\\\\n",
       "\t22 & 10978463 & Kunduchi & Wami & 70.53 & 196.1 & 13.4 & 18.0 \\\\\n",
       "\t23 & 10977973 & Kunduchi & Wami & 69.51 & 171.1 & 13.3 & 16.7 \\\\\n",
       "\t24 & 10978434 & Kunduchi & Wami & 58.31 & 134.0 & 12.4 & 15.9 \\\\\n",
       "\t$\\dots$ & $\\dots$ & $\\dots$ & $\\dots$ & $\\dots$ & $\\dots$ & $\\dots$ & $\\dots$ \\\\\n",
       "\\end{tabular}\n"
      ],
      "text/plain": [
       "\u001b[1m211×7 SubDataFrame\u001b[0m\n",
       "\u001b[1m Row \u001b[0m│\u001b[1m Animal_Id \u001b[0m\u001b[1m Location \u001b[0m\u001b[1m Line     \u001b[0m\u001b[1m Weight_initial \u001b[0m\u001b[1m Weight_final \u001b[0m\u001b[1m Length_ini\u001b[0m ⋯\n",
       "     │\u001b[90m Int64     \u001b[0m\u001b[90m String15 \u001b[0m\u001b[90m String15 \u001b[0m\u001b[90m Float64        \u001b[0m\u001b[90m Float64      \u001b[0m\u001b[90m Float64   \u001b[0m ⋯\n",
       "─────┼──────────────────────────────────────────────────────────────────────────\n",
       "   1 │  10977965  Kunduchi  Wami               84.3         201.5              ⋯\n",
       "   2 │  10978207  Kunduchi  Wami               67.8           0.0\n",
       "   3 │  10978378  Kunduchi  Wami              103.94        225.9\n",
       "   4 │  10978460  Kunduchi  Wami               84.85        239.2\n",
       "   5 │  10977732  Kunduchi  Wami               78.29        195.6              ⋯\n",
       "   6 │  10978532  Kunduchi  Wami               89.93        220.0\n",
       "   7 │  10978612  Kunduchi  Wami              117.83        270.9\n",
       "   8 │  10977963  Kunduchi  Wami               92.48        209.4\n",
       "  ⋮  │     ⋮         ⋮         ⋮            ⋮              ⋮              ⋮    ⋱\n",
       " 205 │  10976113  Pangani   Wami               43.22          0.0              ⋯\n",
       " 206 │  10976182  Pangani   Wami               33.61        142.76\n",
       " 207 │  10976242  Pangani   Wami               79.66        188.79\n",
       " 208 │  10976119  Pangani   Wami               35.71        130.9\n",
       " 209 │  10975821  Pangani   Wami               30.22        130.9              ⋯\n",
       " 210 │  10975979  Pangani   Wami               36.15          0.0\n",
       " 211 │  10976499  Pangani   Wami               40.97        148.26\n",
       "\u001b[36m                                                  2 columns and 196 rows omitted\u001b[0m"
      ]
     },
     "metadata": {},
     "output_type": "display_data"
    }
   ],
   "source": [
    "pheno_grp[grp_key]"
   ]
  },
  {
   "cell_type": "markdown",
   "metadata": {},
   "source": [
    "We can access groups using `tuples`. In that case pay attention to the trailing `,`."
   ]
  },
  {
   "cell_type": "code",
   "execution_count": 30,
   "metadata": {},
   "outputs": [
    {
     "data": {
      "text/html": [
       "<div><div style = \"float: left;\"><span>211×7 SubDataFrame</span></div><div style = \"float: right;\"><span style = \"font-style: italic;\">186 rows omitted</span></div><div style = \"clear: both;\"></div></div><div class = \"data-frame\" style = \"overflow-x: scroll;\"><table class = \"data-frame\" style = \"margin-bottom: 6px;\"><thead><tr class = \"header\"><th class = \"rowNumber\" style = \"font-weight: bold; text-align: right;\">Row</th><th style = \"text-align: left;\">Animal_Id</th><th style = \"text-align: left;\">Location</th><th style = \"text-align: left;\">Line</th><th style = \"text-align: left;\">Weight_initial</th><th style = \"text-align: left;\">Weight_final</th><th style = \"text-align: left;\">Length_initial</th><th style = \"text-align: left;\">Length_final</th></tr><tr class = \"subheader headerLastRow\"><th class = \"rowNumber\" style = \"font-weight: bold; text-align: right;\"></th><th title = \"Int64\" style = \"text-align: left;\">Int64</th><th title = \"String15\" style = \"text-align: left;\">String15</th><th title = \"String15\" style = \"text-align: left;\">String15</th><th title = \"Float64\" style = \"text-align: left;\">Float64</th><th title = \"Float64\" style = \"text-align: left;\">Float64</th><th title = \"Float64\" style = \"text-align: left;\">Float64</th><th title = \"Float64\" style = \"text-align: left;\">Float64</th></tr></thead><tbody><tr><td class = \"rowNumber\" style = \"font-weight: bold; text-align: right;\">1</td><td style = \"text-align: right;\">10977965</td><td style = \"text-align: left;\">Kunduchi</td><td style = \"text-align: left;\">Wami</td><td style = \"text-align: right;\">84.3</td><td style = \"text-align: right;\">201.5</td><td style = \"text-align: right;\">14.2</td><td style = \"text-align: right;\">18.0</td></tr><tr><td class = \"rowNumber\" style = \"font-weight: bold; text-align: right;\">2</td><td style = \"text-align: right;\">10978207</td><td style = \"text-align: left;\">Kunduchi</td><td style = \"text-align: left;\">Wami</td><td style = \"text-align: right;\">67.8</td><td style = \"text-align: right;\">0.0</td><td style = \"text-align: right;\">13.4</td><td style = \"text-align: right;\">0.0</td></tr><tr><td class = \"rowNumber\" style = \"font-weight: bold; text-align: right;\">3</td><td style = \"text-align: right;\">10978378</td><td style = \"text-align: left;\">Kunduchi</td><td style = \"text-align: left;\">Wami</td><td style = \"text-align: right;\">103.94</td><td style = \"text-align: right;\">225.9</td><td style = \"text-align: right;\">14.4</td><td style = \"text-align: right;\">18.5</td></tr><tr><td class = \"rowNumber\" style = \"font-weight: bold; text-align: right;\">4</td><td style = \"text-align: right;\">10978460</td><td style = \"text-align: left;\">Kunduchi</td><td style = \"text-align: left;\">Wami</td><td style = \"text-align: right;\">84.85</td><td style = \"text-align: right;\">239.2</td><td style = \"text-align: right;\">14.5</td><td style = \"text-align: right;\">19.9</td></tr><tr><td class = \"rowNumber\" style = \"font-weight: bold; text-align: right;\">5</td><td style = \"text-align: right;\">10977732</td><td style = \"text-align: left;\">Kunduchi</td><td style = \"text-align: left;\">Wami</td><td style = \"text-align: right;\">78.29</td><td style = \"text-align: right;\">195.6</td><td style = \"text-align: right;\">14.0</td><td style = \"text-align: right;\">19.0</td></tr><tr><td class = \"rowNumber\" style = \"font-weight: bold; text-align: right;\">6</td><td style = \"text-align: right;\">10978532</td><td style = \"text-align: left;\">Kunduchi</td><td style = \"text-align: left;\">Wami</td><td style = \"text-align: right;\">89.93</td><td style = \"text-align: right;\">220.0</td><td style = \"text-align: right;\">14.7</td><td style = \"text-align: right;\">19.0</td></tr><tr><td class = \"rowNumber\" style = \"font-weight: bold; text-align: right;\">7</td><td style = \"text-align: right;\">10978612</td><td style = \"text-align: left;\">Kunduchi</td><td style = \"text-align: left;\">Wami</td><td style = \"text-align: right;\">117.83</td><td style = \"text-align: right;\">270.9</td><td style = \"text-align: right;\">15.0</td><td style = \"text-align: right;\">20.0</td></tr><tr><td class = \"rowNumber\" style = \"font-weight: bold; text-align: right;\">8</td><td style = \"text-align: right;\">10977963</td><td style = \"text-align: left;\">Kunduchi</td><td style = \"text-align: left;\">Wami</td><td style = \"text-align: right;\">92.48</td><td style = \"text-align: right;\">209.4</td><td style = \"text-align: right;\">14.9</td><td style = \"text-align: right;\">18.3</td></tr><tr><td class = \"rowNumber\" style = \"font-weight: bold; text-align: right;\">9</td><td style = \"text-align: right;\">10977682</td><td style = \"text-align: left;\">Kunduchi</td><td style = \"text-align: left;\">Wami</td><td style = \"text-align: right;\">95.54</td><td style = \"text-align: right;\">178.8</td><td style = \"text-align: right;\">14.9</td><td style = \"text-align: right;\">17.7</td></tr><tr><td class = \"rowNumber\" style = \"font-weight: bold; text-align: right;\">10</td><td style = \"text-align: right;\">10978295</td><td style = \"text-align: left;\">Kunduchi</td><td style = \"text-align: left;\">Wami</td><td style = \"text-align: right;\">70.27</td><td style = \"text-align: right;\">135.2</td><td style = \"text-align: right;\">13.3</td><td style = \"text-align: right;\">16.0</td></tr><tr><td class = \"rowNumber\" style = \"font-weight: bold; text-align: right;\">11</td><td style = \"text-align: right;\">10977643</td><td style = \"text-align: left;\">Kunduchi</td><td style = \"text-align: left;\">Wami</td><td style = \"text-align: right;\">79.96</td><td style = \"text-align: right;\">184.0</td><td style = \"text-align: right;\">14.2</td><td style = \"text-align: right;\">18.2</td></tr><tr><td class = \"rowNumber\" style = \"font-weight: bold; text-align: right;\">12</td><td style = \"text-align: right;\">10978401</td><td style = \"text-align: left;\">Kunduchi</td><td style = \"text-align: left;\">Wami</td><td style = \"text-align: right;\">101.76</td><td style = \"text-align: right;\">173.9</td><td style = \"text-align: right;\">14.5</td><td style = \"text-align: right;\">17.2</td></tr><tr><td class = \"rowNumber\" style = \"font-weight: bold; text-align: right;\">13</td><td style = \"text-align: right;\">10978321</td><td style = \"text-align: left;\">Kunduchi</td><td style = \"text-align: left;\">Wami</td><td style = \"text-align: right;\">52.01</td><td style = \"text-align: right;\">168.8</td><td style = \"text-align: right;\">12.5</td><td style = \"text-align: right;\">17.0</td></tr><tr><td style = \"text-align: right;\">&vellip;</td><td style = \"text-align: right;\">&vellip;</td><td style = \"text-align: right;\">&vellip;</td><td style = \"text-align: right;\">&vellip;</td><td style = \"text-align: right;\">&vellip;</td><td style = \"text-align: right;\">&vellip;</td><td style = \"text-align: right;\">&vellip;</td><td style = \"text-align: right;\">&vellip;</td></tr><tr><td class = \"rowNumber\" style = \"font-weight: bold; text-align: right;\">200</td><td style = \"text-align: right;\">10975649</td><td style = \"text-align: left;\">Pangani</td><td style = \"text-align: left;\">Wami</td><td style = \"text-align: right;\">50.98</td><td style = \"text-align: right;\">73.37</td><td style = \"text-align: right;\">11.5</td><td style = \"text-align: right;\">14.6</td></tr><tr><td class = \"rowNumber\" style = \"font-weight: bold; text-align: right;\">201</td><td style = \"text-align: right;\">10976464</td><td style = \"text-align: left;\">Pangani</td><td style = \"text-align: left;\">Wami</td><td style = \"text-align: right;\">51.15</td><td style = \"text-align: right;\">159.7</td><td style = \"text-align: right;\">11.5</td><td style = \"text-align: right;\">16.0</td></tr><tr><td class = \"rowNumber\" style = \"font-weight: bold; text-align: right;\">202</td><td style = \"text-align: right;\">10975951</td><td style = \"text-align: left;\">Pangani</td><td style = \"text-align: left;\">Wami</td><td style = \"text-align: right;\">55.29</td><td style = \"text-align: right;\">160.48</td><td style = \"text-align: right;\">11.3</td><td style = \"text-align: right;\">16.2</td></tr><tr><td class = \"rowNumber\" style = \"font-weight: bold; text-align: right;\">203</td><td style = \"text-align: right;\">10975747</td><td style = \"text-align: left;\">Pangani</td><td style = \"text-align: left;\">Wami</td><td style = \"text-align: right;\">71.32</td><td style = \"text-align: right;\">166.82</td><td style = \"text-align: right;\">12.9</td><td style = \"text-align: right;\">17.2</td></tr><tr><td class = \"rowNumber\" style = \"font-weight: bold; text-align: right;\">204</td><td style = \"text-align: right;\">10976511</td><td style = \"text-align: left;\">Pangani</td><td style = \"text-align: left;\">Wami</td><td style = \"text-align: right;\">89.42</td><td style = \"text-align: right;\">133.56</td><td style = \"text-align: right;\">14.0</td><td style = \"text-align: right;\">17.6</td></tr><tr><td class = \"rowNumber\" style = \"font-weight: bold; text-align: right;\">205</td><td style = \"text-align: right;\">10976113</td><td style = \"text-align: left;\">Pangani</td><td style = \"text-align: left;\">Wami</td><td style = \"text-align: right;\">43.22</td><td style = \"text-align: right;\">0.0</td><td style = \"text-align: right;\">10.8</td><td style = \"text-align: right;\">0.0</td></tr><tr><td class = \"rowNumber\" style = \"font-weight: bold; text-align: right;\">206</td><td style = \"text-align: right;\">10976182</td><td style = \"text-align: left;\">Pangani</td><td style = \"text-align: left;\">Wami</td><td style = \"text-align: right;\">33.61</td><td style = \"text-align: right;\">142.76</td><td style = \"text-align: right;\">9.9</td><td style = \"text-align: right;\">17.5</td></tr><tr><td class = \"rowNumber\" style = \"font-weight: bold; text-align: right;\">207</td><td style = \"text-align: right;\">10976242</td><td style = \"text-align: left;\">Pangani</td><td style = \"text-align: left;\">Wami</td><td style = \"text-align: right;\">79.66</td><td style = \"text-align: right;\">188.79</td><td style = \"text-align: right;\">13.4</td><td style = \"text-align: right;\">17.4</td></tr><tr><td class = \"rowNumber\" style = \"font-weight: bold; text-align: right;\">208</td><td style = \"text-align: right;\">10976119</td><td style = \"text-align: left;\">Pangani</td><td style = \"text-align: left;\">Wami</td><td style = \"text-align: right;\">35.71</td><td style = \"text-align: right;\">130.9</td><td style = \"text-align: right;\">10.3</td><td style = \"text-align: right;\">15.5</td></tr><tr><td class = \"rowNumber\" style = \"font-weight: bold; text-align: right;\">209</td><td style = \"text-align: right;\">10975821</td><td style = \"text-align: left;\">Pangani</td><td style = \"text-align: left;\">Wami</td><td style = \"text-align: right;\">30.22</td><td style = \"text-align: right;\">130.9</td><td style = \"text-align: right;\">9.2</td><td style = \"text-align: right;\">15.5</td></tr><tr><td class = \"rowNumber\" style = \"font-weight: bold; text-align: right;\">210</td><td style = \"text-align: right;\">10975979</td><td style = \"text-align: left;\">Pangani</td><td style = \"text-align: left;\">Wami</td><td style = \"text-align: right;\">36.15</td><td style = \"text-align: right;\">0.0</td><td style = \"text-align: right;\">10.0</td><td style = \"text-align: right;\">0.0</td></tr><tr><td class = \"rowNumber\" style = \"font-weight: bold; text-align: right;\">211</td><td style = \"text-align: right;\">10976499</td><td style = \"text-align: left;\">Pangani</td><td style = \"text-align: left;\">Wami</td><td style = \"text-align: right;\">40.97</td><td style = \"text-align: right;\">148.26</td><td style = \"text-align: right;\">10.5</td><td style = \"text-align: right;\">16.0</td></tr></tbody></table></div>"
      ],
      "text/latex": [
       "\\begin{tabular}{r|ccccccc}\n",
       "\t& Animal\\_Id & Location & Line & Weight\\_initial & Weight\\_final & Length\\_initial & Length\\_final\\\\\n",
       "\t\\hline\n",
       "\t& Int64 & String15 & String15 & Float64 & Float64 & Float64 & Float64\\\\\n",
       "\t\\hline\n",
       "\t1 & 10977965 & Kunduchi & Wami & 84.3 & 201.5 & 14.2 & 18.0 \\\\\n",
       "\t2 & 10978207 & Kunduchi & Wami & 67.8 & 0.0 & 13.4 & 0.0 \\\\\n",
       "\t3 & 10978378 & Kunduchi & Wami & 103.94 & 225.9 & 14.4 & 18.5 \\\\\n",
       "\t4 & 10978460 & Kunduchi & Wami & 84.85 & 239.2 & 14.5 & 19.9 \\\\\n",
       "\t5 & 10977732 & Kunduchi & Wami & 78.29 & 195.6 & 14.0 & 19.0 \\\\\n",
       "\t6 & 10978532 & Kunduchi & Wami & 89.93 & 220.0 & 14.7 & 19.0 \\\\\n",
       "\t7 & 10978612 & Kunduchi & Wami & 117.83 & 270.9 & 15.0 & 20.0 \\\\\n",
       "\t8 & 10977963 & Kunduchi & Wami & 92.48 & 209.4 & 14.9 & 18.3 \\\\\n",
       "\t9 & 10977682 & Kunduchi & Wami & 95.54 & 178.8 & 14.9 & 17.7 \\\\\n",
       "\t10 & 10978295 & Kunduchi & Wami & 70.27 & 135.2 & 13.3 & 16.0 \\\\\n",
       "\t11 & 10977643 & Kunduchi & Wami & 79.96 & 184.0 & 14.2 & 18.2 \\\\\n",
       "\t12 & 10978401 & Kunduchi & Wami & 101.76 & 173.9 & 14.5 & 17.2 \\\\\n",
       "\t13 & 10978321 & Kunduchi & Wami & 52.01 & 168.8 & 12.5 & 17.0 \\\\\n",
       "\t14 & 10978593 & Kunduchi & Wami & 91.93 & 182.7 & 14.3 & 18.0 \\\\\n",
       "\t15 & 10977891 & Kunduchi & Wami & 83.48 & 183.0 & 13.8 & 17.5 \\\\\n",
       "\t16 & 10978510 & Kunduchi & Wami & 87.03 & 219.9 & 14.3 & 18.5 \\\\\n",
       "\t17 & 10978282 & Kunduchi & Wami & 87.54 & 213.1 & 13.4 & 17.0 \\\\\n",
       "\t18 & 10978130 & Kunduchi & Wami & 69.83 & 204.7 & 13.3 & 19.0 \\\\\n",
       "\t19 & 10977956 & Kunduchi & Wami & 76.47 & 218.2 & 13.7 & 18.5 \\\\\n",
       "\t20 & 10978586 & Kunduchi & Wami & 84.97 & 179.3 & 14.0 & 17.1 \\\\\n",
       "\t21 & 10978426 & Kunduchi & Wami & 69.47 & 0.0 & 13.3 & 0.0 \\\\\n",
       "\t22 & 10978463 & Kunduchi & Wami & 70.53 & 196.1 & 13.4 & 18.0 \\\\\n",
       "\t23 & 10977973 & Kunduchi & Wami & 69.51 & 171.1 & 13.3 & 16.7 \\\\\n",
       "\t24 & 10978434 & Kunduchi & Wami & 58.31 & 134.0 & 12.4 & 15.9 \\\\\n",
       "\t$\\dots$ & $\\dots$ & $\\dots$ & $\\dots$ & $\\dots$ & $\\dots$ & $\\dots$ & $\\dots$ \\\\\n",
       "\\end{tabular}\n"
      ],
      "text/plain": [
       "\u001b[1m211×7 SubDataFrame\u001b[0m\n",
       "\u001b[1m Row \u001b[0m│\u001b[1m Animal_Id \u001b[0m\u001b[1m Location \u001b[0m\u001b[1m Line     \u001b[0m\u001b[1m Weight_initial \u001b[0m\u001b[1m Weight_final \u001b[0m\u001b[1m Length_ini\u001b[0m ⋯\n",
       "     │\u001b[90m Int64     \u001b[0m\u001b[90m String15 \u001b[0m\u001b[90m String15 \u001b[0m\u001b[90m Float64        \u001b[0m\u001b[90m Float64      \u001b[0m\u001b[90m Float64   \u001b[0m ⋯\n",
       "─────┼──────────────────────────────────────────────────────────────────────────\n",
       "   1 │  10977965  Kunduchi  Wami               84.3         201.5              ⋯\n",
       "   2 │  10978207  Kunduchi  Wami               67.8           0.0\n",
       "   3 │  10978378  Kunduchi  Wami              103.94        225.9\n",
       "   4 │  10978460  Kunduchi  Wami               84.85        239.2\n",
       "   5 │  10977732  Kunduchi  Wami               78.29        195.6              ⋯\n",
       "   6 │  10978532  Kunduchi  Wami               89.93        220.0\n",
       "   7 │  10978612  Kunduchi  Wami              117.83        270.9\n",
       "   8 │  10977963  Kunduchi  Wami               92.48        209.4\n",
       "  ⋮  │     ⋮         ⋮         ⋮            ⋮              ⋮              ⋮    ⋱\n",
       " 205 │  10976113  Pangani   Wami               43.22          0.0              ⋯\n",
       " 206 │  10976182  Pangani   Wami               33.61        142.76\n",
       " 207 │  10976242  Pangani   Wami               79.66        188.79\n",
       " 208 │  10976119  Pangani   Wami               35.71        130.9\n",
       " 209 │  10975821  Pangani   Wami               30.22        130.9              ⋯\n",
       " 210 │  10975979  Pangani   Wami               36.15          0.0\n",
       " 211 │  10976499  Pangani   Wami               40.97        148.26\n",
       "\u001b[36m                                                  2 columns and 196 rows omitted\u001b[0m"
      ]
     },
     "metadata": {},
     "output_type": "display_data"
    }
   ],
   "source": [
    "pheno_grp[(\"Wami\",)]"
   ]
  },
  {
   "cell_type": "markdown",
   "metadata": {},
   "source": [
    "Similarly we can use a `NamedTuple`."
   ]
  },
  {
   "cell_type": "code",
   "execution_count": 32,
   "metadata": {},
   "outputs": [
    {
     "data": {
      "text/html": [
       "<div><div style = \"float: left;\"><span>211×7 SubDataFrame</span></div><div style = \"float: right;\"><span style = \"font-style: italic;\">186 rows omitted</span></div><div style = \"clear: both;\"></div></div><div class = \"data-frame\" style = \"overflow-x: scroll;\"><table class = \"data-frame\" style = \"margin-bottom: 6px;\"><thead><tr class = \"header\"><th class = \"rowNumber\" style = \"font-weight: bold; text-align: right;\">Row</th><th style = \"text-align: left;\">Animal_Id</th><th style = \"text-align: left;\">Location</th><th style = \"text-align: left;\">Line</th><th style = \"text-align: left;\">Weight_initial</th><th style = \"text-align: left;\">Weight_final</th><th style = \"text-align: left;\">Length_initial</th><th style = \"text-align: left;\">Length_final</th></tr><tr class = \"subheader headerLastRow\"><th class = \"rowNumber\" style = \"font-weight: bold; text-align: right;\"></th><th title = \"Int64\" style = \"text-align: left;\">Int64</th><th title = \"String15\" style = \"text-align: left;\">String15</th><th title = \"String15\" style = \"text-align: left;\">String15</th><th title = \"Float64\" style = \"text-align: left;\">Float64</th><th title = \"Float64\" style = \"text-align: left;\">Float64</th><th title = \"Float64\" style = \"text-align: left;\">Float64</th><th title = \"Float64\" style = \"text-align: left;\">Float64</th></tr></thead><tbody><tr><td class = \"rowNumber\" style = \"font-weight: bold; text-align: right;\">1</td><td style = \"text-align: right;\">10977965</td><td style = \"text-align: left;\">Kunduchi</td><td style = \"text-align: left;\">Wami</td><td style = \"text-align: right;\">84.3</td><td style = \"text-align: right;\">201.5</td><td style = \"text-align: right;\">14.2</td><td style = \"text-align: right;\">18.0</td></tr><tr><td class = \"rowNumber\" style = \"font-weight: bold; text-align: right;\">2</td><td style = \"text-align: right;\">10978207</td><td style = \"text-align: left;\">Kunduchi</td><td style = \"text-align: left;\">Wami</td><td style = \"text-align: right;\">67.8</td><td style = \"text-align: right;\">0.0</td><td style = \"text-align: right;\">13.4</td><td style = \"text-align: right;\">0.0</td></tr><tr><td class = \"rowNumber\" style = \"font-weight: bold; text-align: right;\">3</td><td style = \"text-align: right;\">10978378</td><td style = \"text-align: left;\">Kunduchi</td><td style = \"text-align: left;\">Wami</td><td style = \"text-align: right;\">103.94</td><td style = \"text-align: right;\">225.9</td><td style = \"text-align: right;\">14.4</td><td style = \"text-align: right;\">18.5</td></tr><tr><td class = \"rowNumber\" style = \"font-weight: bold; text-align: right;\">4</td><td style = \"text-align: right;\">10978460</td><td style = \"text-align: left;\">Kunduchi</td><td style = \"text-align: left;\">Wami</td><td style = \"text-align: right;\">84.85</td><td style = \"text-align: right;\">239.2</td><td style = \"text-align: right;\">14.5</td><td style = \"text-align: right;\">19.9</td></tr><tr><td class = \"rowNumber\" style = \"font-weight: bold; text-align: right;\">5</td><td style = \"text-align: right;\">10977732</td><td style = \"text-align: left;\">Kunduchi</td><td style = \"text-align: left;\">Wami</td><td style = \"text-align: right;\">78.29</td><td style = \"text-align: right;\">195.6</td><td style = \"text-align: right;\">14.0</td><td style = \"text-align: right;\">19.0</td></tr><tr><td class = \"rowNumber\" style = \"font-weight: bold; text-align: right;\">6</td><td style = \"text-align: right;\">10978532</td><td style = \"text-align: left;\">Kunduchi</td><td style = \"text-align: left;\">Wami</td><td style = \"text-align: right;\">89.93</td><td style = \"text-align: right;\">220.0</td><td style = \"text-align: right;\">14.7</td><td style = \"text-align: right;\">19.0</td></tr><tr><td class = \"rowNumber\" style = \"font-weight: bold; text-align: right;\">7</td><td style = \"text-align: right;\">10978612</td><td style = \"text-align: left;\">Kunduchi</td><td style = \"text-align: left;\">Wami</td><td style = \"text-align: right;\">117.83</td><td style = \"text-align: right;\">270.9</td><td style = \"text-align: right;\">15.0</td><td style = \"text-align: right;\">20.0</td></tr><tr><td class = \"rowNumber\" style = \"font-weight: bold; text-align: right;\">8</td><td style = \"text-align: right;\">10977963</td><td style = \"text-align: left;\">Kunduchi</td><td style = \"text-align: left;\">Wami</td><td style = \"text-align: right;\">92.48</td><td style = \"text-align: right;\">209.4</td><td style = \"text-align: right;\">14.9</td><td style = \"text-align: right;\">18.3</td></tr><tr><td class = \"rowNumber\" style = \"font-weight: bold; text-align: right;\">9</td><td style = \"text-align: right;\">10977682</td><td style = \"text-align: left;\">Kunduchi</td><td style = \"text-align: left;\">Wami</td><td style = \"text-align: right;\">95.54</td><td style = \"text-align: right;\">178.8</td><td style = \"text-align: right;\">14.9</td><td style = \"text-align: right;\">17.7</td></tr><tr><td class = \"rowNumber\" style = \"font-weight: bold; text-align: right;\">10</td><td style = \"text-align: right;\">10978295</td><td style = \"text-align: left;\">Kunduchi</td><td style = \"text-align: left;\">Wami</td><td style = \"text-align: right;\">70.27</td><td style = \"text-align: right;\">135.2</td><td style = \"text-align: right;\">13.3</td><td style = \"text-align: right;\">16.0</td></tr><tr><td class = \"rowNumber\" style = \"font-weight: bold; text-align: right;\">11</td><td style = \"text-align: right;\">10977643</td><td style = \"text-align: left;\">Kunduchi</td><td style = \"text-align: left;\">Wami</td><td style = \"text-align: right;\">79.96</td><td style = \"text-align: right;\">184.0</td><td style = \"text-align: right;\">14.2</td><td style = \"text-align: right;\">18.2</td></tr><tr><td class = \"rowNumber\" style = \"font-weight: bold; text-align: right;\">12</td><td style = \"text-align: right;\">10978401</td><td style = \"text-align: left;\">Kunduchi</td><td style = \"text-align: left;\">Wami</td><td style = \"text-align: right;\">101.76</td><td style = \"text-align: right;\">173.9</td><td style = \"text-align: right;\">14.5</td><td style = \"text-align: right;\">17.2</td></tr><tr><td class = \"rowNumber\" style = \"font-weight: bold; text-align: right;\">13</td><td style = \"text-align: right;\">10978321</td><td style = \"text-align: left;\">Kunduchi</td><td style = \"text-align: left;\">Wami</td><td style = \"text-align: right;\">52.01</td><td style = \"text-align: right;\">168.8</td><td style = \"text-align: right;\">12.5</td><td style = \"text-align: right;\">17.0</td></tr><tr><td style = \"text-align: right;\">&vellip;</td><td style = \"text-align: right;\">&vellip;</td><td style = \"text-align: right;\">&vellip;</td><td style = \"text-align: right;\">&vellip;</td><td style = \"text-align: right;\">&vellip;</td><td style = \"text-align: right;\">&vellip;</td><td style = \"text-align: right;\">&vellip;</td><td style = \"text-align: right;\">&vellip;</td></tr><tr><td class = \"rowNumber\" style = \"font-weight: bold; text-align: right;\">200</td><td style = \"text-align: right;\">10975649</td><td style = \"text-align: left;\">Pangani</td><td style = \"text-align: left;\">Wami</td><td style = \"text-align: right;\">50.98</td><td style = \"text-align: right;\">73.37</td><td style = \"text-align: right;\">11.5</td><td style = \"text-align: right;\">14.6</td></tr><tr><td class = \"rowNumber\" style = \"font-weight: bold; text-align: right;\">201</td><td style = \"text-align: right;\">10976464</td><td style = \"text-align: left;\">Pangani</td><td style = \"text-align: left;\">Wami</td><td style = \"text-align: right;\">51.15</td><td style = \"text-align: right;\">159.7</td><td style = \"text-align: right;\">11.5</td><td style = \"text-align: right;\">16.0</td></tr><tr><td class = \"rowNumber\" style = \"font-weight: bold; text-align: right;\">202</td><td style = \"text-align: right;\">10975951</td><td style = \"text-align: left;\">Pangani</td><td style = \"text-align: left;\">Wami</td><td style = \"text-align: right;\">55.29</td><td style = \"text-align: right;\">160.48</td><td style = \"text-align: right;\">11.3</td><td style = \"text-align: right;\">16.2</td></tr><tr><td class = \"rowNumber\" style = \"font-weight: bold; text-align: right;\">203</td><td style = \"text-align: right;\">10975747</td><td style = \"text-align: left;\">Pangani</td><td style = \"text-align: left;\">Wami</td><td style = \"text-align: right;\">71.32</td><td style = \"text-align: right;\">166.82</td><td style = \"text-align: right;\">12.9</td><td style = \"text-align: right;\">17.2</td></tr><tr><td class = \"rowNumber\" style = \"font-weight: bold; text-align: right;\">204</td><td style = \"text-align: right;\">10976511</td><td style = \"text-align: left;\">Pangani</td><td style = \"text-align: left;\">Wami</td><td style = \"text-align: right;\">89.42</td><td style = \"text-align: right;\">133.56</td><td style = \"text-align: right;\">14.0</td><td style = \"text-align: right;\">17.6</td></tr><tr><td class = \"rowNumber\" style = \"font-weight: bold; text-align: right;\">205</td><td style = \"text-align: right;\">10976113</td><td style = \"text-align: left;\">Pangani</td><td style = \"text-align: left;\">Wami</td><td style = \"text-align: right;\">43.22</td><td style = \"text-align: right;\">0.0</td><td style = \"text-align: right;\">10.8</td><td style = \"text-align: right;\">0.0</td></tr><tr><td class = \"rowNumber\" style = \"font-weight: bold; text-align: right;\">206</td><td style = \"text-align: right;\">10976182</td><td style = \"text-align: left;\">Pangani</td><td style = \"text-align: left;\">Wami</td><td style = \"text-align: right;\">33.61</td><td style = \"text-align: right;\">142.76</td><td style = \"text-align: right;\">9.9</td><td style = \"text-align: right;\">17.5</td></tr><tr><td class = \"rowNumber\" style = \"font-weight: bold; text-align: right;\">207</td><td style = \"text-align: right;\">10976242</td><td style = \"text-align: left;\">Pangani</td><td style = \"text-align: left;\">Wami</td><td style = \"text-align: right;\">79.66</td><td style = \"text-align: right;\">188.79</td><td style = \"text-align: right;\">13.4</td><td style = \"text-align: right;\">17.4</td></tr><tr><td class = \"rowNumber\" style = \"font-weight: bold; text-align: right;\">208</td><td style = \"text-align: right;\">10976119</td><td style = \"text-align: left;\">Pangani</td><td style = \"text-align: left;\">Wami</td><td style = \"text-align: right;\">35.71</td><td style = \"text-align: right;\">130.9</td><td style = \"text-align: right;\">10.3</td><td style = \"text-align: right;\">15.5</td></tr><tr><td class = \"rowNumber\" style = \"font-weight: bold; text-align: right;\">209</td><td style = \"text-align: right;\">10975821</td><td style = \"text-align: left;\">Pangani</td><td style = \"text-align: left;\">Wami</td><td style = \"text-align: right;\">30.22</td><td style = \"text-align: right;\">130.9</td><td style = \"text-align: right;\">9.2</td><td style = \"text-align: right;\">15.5</td></tr><tr><td class = \"rowNumber\" style = \"font-weight: bold; text-align: right;\">210</td><td style = \"text-align: right;\">10975979</td><td style = \"text-align: left;\">Pangani</td><td style = \"text-align: left;\">Wami</td><td style = \"text-align: right;\">36.15</td><td style = \"text-align: right;\">0.0</td><td style = \"text-align: right;\">10.0</td><td style = \"text-align: right;\">0.0</td></tr><tr><td class = \"rowNumber\" style = \"font-weight: bold; text-align: right;\">211</td><td style = \"text-align: right;\">10976499</td><td style = \"text-align: left;\">Pangani</td><td style = \"text-align: left;\">Wami</td><td style = \"text-align: right;\">40.97</td><td style = \"text-align: right;\">148.26</td><td style = \"text-align: right;\">10.5</td><td style = \"text-align: right;\">16.0</td></tr></tbody></table></div>"
      ],
      "text/latex": [
       "\\begin{tabular}{r|ccccccc}\n",
       "\t& Animal\\_Id & Location & Line & Weight\\_initial & Weight\\_final & Length\\_initial & Length\\_final\\\\\n",
       "\t\\hline\n",
       "\t& Int64 & String15 & String15 & Float64 & Float64 & Float64 & Float64\\\\\n",
       "\t\\hline\n",
       "\t1 & 10977965 & Kunduchi & Wami & 84.3 & 201.5 & 14.2 & 18.0 \\\\\n",
       "\t2 & 10978207 & Kunduchi & Wami & 67.8 & 0.0 & 13.4 & 0.0 \\\\\n",
       "\t3 & 10978378 & Kunduchi & Wami & 103.94 & 225.9 & 14.4 & 18.5 \\\\\n",
       "\t4 & 10978460 & Kunduchi & Wami & 84.85 & 239.2 & 14.5 & 19.9 \\\\\n",
       "\t5 & 10977732 & Kunduchi & Wami & 78.29 & 195.6 & 14.0 & 19.0 \\\\\n",
       "\t6 & 10978532 & Kunduchi & Wami & 89.93 & 220.0 & 14.7 & 19.0 \\\\\n",
       "\t7 & 10978612 & Kunduchi & Wami & 117.83 & 270.9 & 15.0 & 20.0 \\\\\n",
       "\t8 & 10977963 & Kunduchi & Wami & 92.48 & 209.4 & 14.9 & 18.3 \\\\\n",
       "\t9 & 10977682 & Kunduchi & Wami & 95.54 & 178.8 & 14.9 & 17.7 \\\\\n",
       "\t10 & 10978295 & Kunduchi & Wami & 70.27 & 135.2 & 13.3 & 16.0 \\\\\n",
       "\t11 & 10977643 & Kunduchi & Wami & 79.96 & 184.0 & 14.2 & 18.2 \\\\\n",
       "\t12 & 10978401 & Kunduchi & Wami & 101.76 & 173.9 & 14.5 & 17.2 \\\\\n",
       "\t13 & 10978321 & Kunduchi & Wami & 52.01 & 168.8 & 12.5 & 17.0 \\\\\n",
       "\t14 & 10978593 & Kunduchi & Wami & 91.93 & 182.7 & 14.3 & 18.0 \\\\\n",
       "\t15 & 10977891 & Kunduchi & Wami & 83.48 & 183.0 & 13.8 & 17.5 \\\\\n",
       "\t16 & 10978510 & Kunduchi & Wami & 87.03 & 219.9 & 14.3 & 18.5 \\\\\n",
       "\t17 & 10978282 & Kunduchi & Wami & 87.54 & 213.1 & 13.4 & 17.0 \\\\\n",
       "\t18 & 10978130 & Kunduchi & Wami & 69.83 & 204.7 & 13.3 & 19.0 \\\\\n",
       "\t19 & 10977956 & Kunduchi & Wami & 76.47 & 218.2 & 13.7 & 18.5 \\\\\n",
       "\t20 & 10978586 & Kunduchi & Wami & 84.97 & 179.3 & 14.0 & 17.1 \\\\\n",
       "\t21 & 10978426 & Kunduchi & Wami & 69.47 & 0.0 & 13.3 & 0.0 \\\\\n",
       "\t22 & 10978463 & Kunduchi & Wami & 70.53 & 196.1 & 13.4 & 18.0 \\\\\n",
       "\t23 & 10977973 & Kunduchi & Wami & 69.51 & 171.1 & 13.3 & 16.7 \\\\\n",
       "\t24 & 10978434 & Kunduchi & Wami & 58.31 & 134.0 & 12.4 & 15.9 \\\\\n",
       "\t$\\dots$ & $\\dots$ & $\\dots$ & $\\dots$ & $\\dots$ & $\\dots$ & $\\dots$ & $\\dots$ \\\\\n",
       "\\end{tabular}\n"
      ],
      "text/plain": [
       "\u001b[1m211×7 SubDataFrame\u001b[0m\n",
       "\u001b[1m Row \u001b[0m│\u001b[1m Animal_Id \u001b[0m\u001b[1m Location \u001b[0m\u001b[1m Line     \u001b[0m\u001b[1m Weight_initial \u001b[0m\u001b[1m Weight_final \u001b[0m\u001b[1m Length_ini\u001b[0m ⋯\n",
       "     │\u001b[90m Int64     \u001b[0m\u001b[90m String15 \u001b[0m\u001b[90m String15 \u001b[0m\u001b[90m Float64        \u001b[0m\u001b[90m Float64      \u001b[0m\u001b[90m Float64   \u001b[0m ⋯\n",
       "─────┼──────────────────────────────────────────────────────────────────────────\n",
       "   1 │  10977965  Kunduchi  Wami               84.3         201.5              ⋯\n",
       "   2 │  10978207  Kunduchi  Wami               67.8           0.0\n",
       "   3 │  10978378  Kunduchi  Wami              103.94        225.9\n",
       "   4 │  10978460  Kunduchi  Wami               84.85        239.2\n",
       "   5 │  10977732  Kunduchi  Wami               78.29        195.6              ⋯\n",
       "   6 │  10978532  Kunduchi  Wami               89.93        220.0\n",
       "   7 │  10978612  Kunduchi  Wami              117.83        270.9\n",
       "   8 │  10977963  Kunduchi  Wami               92.48        209.4\n",
       "  ⋮  │     ⋮         ⋮         ⋮            ⋮              ⋮              ⋮    ⋱\n",
       " 205 │  10976113  Pangani   Wami               43.22          0.0              ⋯\n",
       " 206 │  10976182  Pangani   Wami               33.61        142.76\n",
       " 207 │  10976242  Pangani   Wami               79.66        188.79\n",
       " 208 │  10976119  Pangani   Wami               35.71        130.9\n",
       " 209 │  10975821  Pangani   Wami               30.22        130.9              ⋯\n",
       " 210 │  10975979  Pangani   Wami               36.15          0.0\n",
       " 211 │  10976499  Pangani   Wami               40.97        148.26\n",
       "\u001b[36m                                                  2 columns and 196 rows omitted\u001b[0m"
      ]
     },
     "metadata": {},
     "output_type": "display_data"
    }
   ],
   "source": [
    "pheno_grp[(Line=\"Wami\",)]"
   ]
  },
  {
   "cell_type": "markdown",
   "metadata": {},
   "source": [
    "Now let's see how we can perform data aggregations. For this it's most common to use the `combine` function after `groupby`. As an example will estimate the mean `Weight_initial` of each `Line`."
   ]
  },
  {
   "cell_type": "code",
   "execution_count": 33,
   "metadata": {},
   "outputs": [],
   "source": [
    "using Statistics"
   ]
  },
  {
   "cell_type": "code",
   "execution_count": 37,
   "metadata": {},
   "outputs": [
    {
     "data": {
      "text/html": [
       "<div><div style = \"float: left;\"><span>9×2 DataFrame</span></div><div style = \"clear: both;\"></div></div><div class = \"data-frame\" style = \"overflow-x: scroll;\"><table class = \"data-frame\" style = \"margin-bottom: 6px;\"><thead><tr class = \"header\"><th class = \"rowNumber\" style = \"font-weight: bold; text-align: right;\">Row</th><th style = \"text-align: left;\">Line</th><th style = \"text-align: left;\">Mean_weight_initial_per_line</th></tr><tr class = \"subheader headerLastRow\"><th class = \"rowNumber\" style = \"font-weight: bold; text-align: right;\"></th><th title = \"String15\" style = \"text-align: left;\">String15</th><th title = \"Float64\" style = \"text-align: left;\">Float64</th></tr></thead><tbody><tr><td class = \"rowNumber\" style = \"font-weight: bold; text-align: right;\">1</td><td style = \"text-align: left;\">Wami</td><td style = \"text-align: right;\">57.6455</td></tr><tr><td class = \"rowNumber\" style = \"font-weight: bold; text-align: right;\">2</td><td style = \"text-align: left;\">Chemchem</td><td style = \"text-align: right;\">44.3869</td></tr><tr><td class = \"rowNumber\" style = \"font-weight: bold; text-align: right;\">3</td><td style = \"text-align: left;\">Mindu</td><td style = \"text-align: right;\">55.761</td></tr><tr><td class = \"rowNumber\" style = \"font-weight: bold; text-align: right;\">4</td><td style = \"text-align: left;\">Utete</td><td style = \"text-align: right;\">45.689</td></tr><tr><td class = \"rowNumber\" style = \"font-weight: bold; text-align: right;\">5</td><td style = \"text-align: left;\">Kibasira</td><td style = \"text-align: right;\">42.4462</td></tr><tr><td class = \"rowNumber\" style = \"font-weight: bold; text-align: right;\">6</td><td style = \"text-align: left;\">Nyamisati</td><td style = \"text-align: right;\">48.8378</td></tr><tr><td class = \"rowNumber\" style = \"font-weight: bold; text-align: right;\">7</td><td style = \"text-align: left;\">Bwawani</td><td style = \"text-align: right;\">42.7621</td></tr><tr><td class = \"rowNumber\" style = \"font-weight: bold; text-align: right;\">8</td><td style = \"text-align: left;\">Kilola</td><td style = \"text-align: right;\">43.1653</td></tr><tr><td class = \"rowNumber\" style = \"font-weight: bold; text-align: right;\">9</td><td style = \"text-align: left;\">Ruaha</td><td style = \"text-align: right;\">25.2008</td></tr></tbody></table></div>"
      ],
      "text/latex": [
       "\\begin{tabular}{r|cc}\n",
       "\t& Line & Mean\\_weight\\_initial\\_per\\_line\\\\\n",
       "\t\\hline\n",
       "\t& String15 & Float64\\\\\n",
       "\t\\hline\n",
       "\t1 & Wami & 57.6455 \\\\\n",
       "\t2 & Chemchem & 44.3869 \\\\\n",
       "\t3 & Mindu & 55.761 \\\\\n",
       "\t4 & Utete & 45.689 \\\\\n",
       "\t5 & Kibasira & 42.4462 \\\\\n",
       "\t6 & Nyamisati & 48.8378 \\\\\n",
       "\t7 & Bwawani & 42.7621 \\\\\n",
       "\t8 & Kilola & 43.1653 \\\\\n",
       "\t9 & Ruaha & 25.2008 \\\\\n",
       "\\end{tabular}\n"
      ],
      "text/plain": [
       "\u001b[1m9×2 DataFrame\u001b[0m\n",
       "\u001b[1m Row \u001b[0m│\u001b[1m Line      \u001b[0m\u001b[1m Mean_weight_initial_per_line \u001b[0m\n",
       "     │\u001b[90m String15  \u001b[0m\u001b[90m Float64                      \u001b[0m\n",
       "─────┼─────────────────────────────────────────\n",
       "   1 │ Wami                            57.6455\n",
       "   2 │ Chemchem                        44.3869\n",
       "   3 │ Mindu                           55.761\n",
       "   4 │ Utete                           45.689\n",
       "   5 │ Kibasira                        42.4462\n",
       "   6 │ Nyamisati                       48.8378\n",
       "   7 │ Bwawani                         42.7621\n",
       "   8 │ Kilola                          43.1653\n",
       "   9 │ Ruaha                           25.2008"
      ]
     },
     "metadata": {},
     "output_type": "display_data"
    }
   ],
   "source": [
    "combine(pheno_grp, \"Weight_initial\" => mean => \"Mean_weight_initial_per_line\")"
   ]
  },
  {
   "cell_type": "markdown",
   "metadata": {},
   "source": [
    "Similarly"
   ]
  },
  {
   "cell_type": "code",
   "execution_count": 65,
   "metadata": {},
   "outputs": [
    {
     "data": {
      "text/html": [
       "<div><div style = \"float: left;\"><span>9×2 DataFrame</span></div><div style = \"clear: both;\"></div></div><div class = \"data-frame\" style = \"overflow-x: scroll;\"><table class = \"data-frame\" style = \"margin-bottom: 6px;\"><thead><tr class = \"header\"><th class = \"rowNumber\" style = \"font-weight: bold; text-align: right;\">Row</th><th style = \"text-align: left;\">Line</th><th style = \"text-align: left;\">Mean_weight_initial_per_line</th></tr><tr class = \"subheader headerLastRow\"><th class = \"rowNumber\" style = \"font-weight: bold; text-align: right;\"></th><th title = \"String15\" style = \"text-align: left;\">String15</th><th title = \"Float64\" style = \"text-align: left;\">Float64</th></tr></thead><tbody><tr><td class = \"rowNumber\" style = \"font-weight: bold; text-align: right;\">1</td><td style = \"text-align: left;\">Wami</td><td style = \"text-align: right;\">57.6455</td></tr><tr><td class = \"rowNumber\" style = \"font-weight: bold; text-align: right;\">2</td><td style = \"text-align: left;\">Chemchem</td><td style = \"text-align: right;\">44.3869</td></tr><tr><td class = \"rowNumber\" style = \"font-weight: bold; text-align: right;\">3</td><td style = \"text-align: left;\">Mindu</td><td style = \"text-align: right;\">55.761</td></tr><tr><td class = \"rowNumber\" style = \"font-weight: bold; text-align: right;\">4</td><td style = \"text-align: left;\">Utete</td><td style = \"text-align: right;\">45.689</td></tr><tr><td class = \"rowNumber\" style = \"font-weight: bold; text-align: right;\">5</td><td style = \"text-align: left;\">Kibasira</td><td style = \"text-align: right;\">42.4462</td></tr><tr><td class = \"rowNumber\" style = \"font-weight: bold; text-align: right;\">6</td><td style = \"text-align: left;\">Nyamisati</td><td style = \"text-align: right;\">48.8378</td></tr><tr><td class = \"rowNumber\" style = \"font-weight: bold; text-align: right;\">7</td><td style = \"text-align: left;\">Bwawani</td><td style = \"text-align: right;\">42.7621</td></tr><tr><td class = \"rowNumber\" style = \"font-weight: bold; text-align: right;\">8</td><td style = \"text-align: left;\">Kilola</td><td style = \"text-align: right;\">43.1653</td></tr><tr><td class = \"rowNumber\" style = \"font-weight: bold; text-align: right;\">9</td><td style = \"text-align: left;\">Ruaha</td><td style = \"text-align: right;\">25.2008</td></tr></tbody></table></div>"
      ],
      "text/latex": [
       "\\begin{tabular}{r|cc}\n",
       "\t& Line & Mean\\_weight\\_initial\\_per\\_line\\\\\n",
       "\t\\hline\n",
       "\t& String15 & Float64\\\\\n",
       "\t\\hline\n",
       "\t1 & Wami & 57.6455 \\\\\n",
       "\t2 & Chemchem & 44.3869 \\\\\n",
       "\t3 & Mindu & 55.761 \\\\\n",
       "\t4 & Utete & 45.689 \\\\\n",
       "\t5 & Kibasira & 42.4462 \\\\\n",
       "\t6 & Nyamisati & 48.8378 \\\\\n",
       "\t7 & Bwawani & 42.7621 \\\\\n",
       "\t8 & Kilola & 43.1653 \\\\\n",
       "\t9 & Ruaha & 25.2008 \\\\\n",
       "\\end{tabular}\n"
      ],
      "text/plain": [
       "\u001b[1m9×2 DataFrame\u001b[0m\n",
       "\u001b[1m Row \u001b[0m│\u001b[1m Line      \u001b[0m\u001b[1m Mean_weight_initial_per_line \u001b[0m\n",
       "     │\u001b[90m String15  \u001b[0m\u001b[90m Float64                      \u001b[0m\n",
       "─────┼─────────────────────────────────────────\n",
       "   1 │ Wami                            57.6455\n",
       "   2 │ Chemchem                        44.3869\n",
       "   3 │ Mindu                           55.761\n",
       "   4 │ Utete                           45.689\n",
       "   5 │ Kibasira                        42.4462\n",
       "   6 │ Nyamisati                       48.8378\n",
       "   7 │ Bwawani                         42.7621\n",
       "   8 │ Kilola                          43.1653\n",
       "   9 │ Ruaha                           25.2008"
      ]
     },
     "metadata": {},
     "output_type": "display_data"
    }
   ],
   "source": [
    "summary_stats = combine(pheno_grp, :Weight_initial => mean => :Mean_weight_initial_per_line)"
   ]
  },
  {
   "cell_type": "markdown",
   "metadata": {},
   "source": [
    "The above syntax has three parts separate by `=>`\n",
    "1. The column that has the values to aggregate\n",
    "2. The actual operation we want to perform\n",
    "3. The name of the resulting column"
   ]
  },
  {
   "cell_type": "markdown",
   "metadata": {},
   "source": [
    "Below we see a different syntax that accomplishes the same. That should feel more familiar to people with prior experience in the `dplyr` package of the `R`language."
   ]
  },
  {
   "cell_type": "code",
   "execution_count": 38,
   "metadata": {},
   "outputs": [],
   "source": [
    "using DataFramesMeta"
   ]
  },
  {
   "cell_type": "code",
   "execution_count": 42,
   "metadata": {},
   "outputs": [
    {
     "data": {
      "text/html": [
       "<div><div style = \"float: left;\"><span>9×2 DataFrame</span></div><div style = \"clear: both;\"></div></div><div class = \"data-frame\" style = \"overflow-x: scroll;\"><table class = \"data-frame\" style = \"margin-bottom: 6px;\"><thead><tr class = \"header\"><th class = \"rowNumber\" style = \"font-weight: bold; text-align: right;\">Row</th><th style = \"text-align: left;\">Line</th><th style = \"text-align: left;\">mean_weight_per_line</th></tr><tr class = \"subheader headerLastRow\"><th class = \"rowNumber\" style = \"font-weight: bold; text-align: right;\"></th><th title = \"String15\" style = \"text-align: left;\">String15</th><th title = \"Float64\" style = \"text-align: left;\">Float64</th></tr></thead><tbody><tr><td class = \"rowNumber\" style = \"font-weight: bold; text-align: right;\">1</td><td style = \"text-align: left;\">Wami</td><td style = \"text-align: right;\">57.6455</td></tr><tr><td class = \"rowNumber\" style = \"font-weight: bold; text-align: right;\">2</td><td style = \"text-align: left;\">Chemchem</td><td style = \"text-align: right;\">44.3869</td></tr><tr><td class = \"rowNumber\" style = \"font-weight: bold; text-align: right;\">3</td><td style = \"text-align: left;\">Mindu</td><td style = \"text-align: right;\">55.761</td></tr><tr><td class = \"rowNumber\" style = \"font-weight: bold; text-align: right;\">4</td><td style = \"text-align: left;\">Utete</td><td style = \"text-align: right;\">45.689</td></tr><tr><td class = \"rowNumber\" style = \"font-weight: bold; text-align: right;\">5</td><td style = \"text-align: left;\">Kibasira</td><td style = \"text-align: right;\">42.4462</td></tr><tr><td class = \"rowNumber\" style = \"font-weight: bold; text-align: right;\">6</td><td style = \"text-align: left;\">Nyamisati</td><td style = \"text-align: right;\">48.8378</td></tr><tr><td class = \"rowNumber\" style = \"font-weight: bold; text-align: right;\">7</td><td style = \"text-align: left;\">Bwawani</td><td style = \"text-align: right;\">42.7621</td></tr><tr><td class = \"rowNumber\" style = \"font-weight: bold; text-align: right;\">8</td><td style = \"text-align: left;\">Kilola</td><td style = \"text-align: right;\">43.1653</td></tr><tr><td class = \"rowNumber\" style = \"font-weight: bold; text-align: right;\">9</td><td style = \"text-align: left;\">Ruaha</td><td style = \"text-align: right;\">25.2008</td></tr></tbody></table></div>"
      ],
      "text/latex": [
       "\\begin{tabular}{r|cc}\n",
       "\t& Line & mean\\_weight\\_per\\_line\\\\\n",
       "\t\\hline\n",
       "\t& String15 & Float64\\\\\n",
       "\t\\hline\n",
       "\t1 & Wami & 57.6455 \\\\\n",
       "\t2 & Chemchem & 44.3869 \\\\\n",
       "\t3 & Mindu & 55.761 \\\\\n",
       "\t4 & Utete & 45.689 \\\\\n",
       "\t5 & Kibasira & 42.4462 \\\\\n",
       "\t6 & Nyamisati & 48.8378 \\\\\n",
       "\t7 & Bwawani & 42.7621 \\\\\n",
       "\t8 & Kilola & 43.1653 \\\\\n",
       "\t9 & Ruaha & 25.2008 \\\\\n",
       "\\end{tabular}\n"
      ],
      "text/plain": [
       "\u001b[1m9×2 DataFrame\u001b[0m\n",
       "\u001b[1m Row \u001b[0m│\u001b[1m Line      \u001b[0m\u001b[1m mean_weight_per_line \u001b[0m\n",
       "     │\u001b[90m String15  \u001b[0m\u001b[90m Float64              \u001b[0m\n",
       "─────┼─────────────────────────────────\n",
       "   1 │ Wami                    57.6455\n",
       "   2 │ Chemchem                44.3869\n",
       "   3 │ Mindu                   55.761\n",
       "   4 │ Utete                   45.689\n",
       "   5 │ Kibasira                42.4462\n",
       "   6 │ Nyamisati               48.8378\n",
       "   7 │ Bwawani                 42.7621\n",
       "   8 │ Kilola                  43.1653\n",
       "   9 │ Ruaha                   25.2008"
      ]
     },
     "metadata": {},
     "output_type": "display_data"
    }
   ],
   "source": [
    "@combine(pheno_grp, :mean_weight_per_line = mean(:Weight_initial))"
   ]
  },
  {
   "cell_type": "markdown",
   "metadata": {},
   "source": [
    "Keep in mind that in this case you have to refer to columns using `Symbols`."
   ]
  },
  {
   "cell_type": "markdown",
   "metadata": {},
   "source": [
    "## Exercises"
   ]
  },
  {
   "cell_type": "markdown",
   "metadata": {},
   "source": [
    "### Exercise 1"
   ]
  },
  {
   "cell_type": "markdown",
   "metadata": {},
   "source": [
    "We will work with the `fish_data.csv` dataset from https://www.kaggle.com/datasets/taweilo/fish-species-sampling-weight-and-height-data. The file is already available in the `Day3` folder."
   ]
  },
  {
   "cell_type": "markdown",
   "metadata": {},
   "source": [
    " * Create two toy dataframes of from the first 200 rows. Each dataframe should have 100 rows.\n",
    " * Add to the first dataframe the following: `Sparus aurata, 22, 4.2,0.19`\n",
    " * Add to the first dataframe the following: `Seriola dumerili, 120, 20,0.17`. Use a named tuple for that. \n",
    " * Create a new column to the second dataframe and name it `Farmed`. Give all the records the value `No`\n",
    " * Append the 2nd dataframe to the first one. Keep track for which dataframe each record originated.\n",
    " * In the original dataframe which fish species has the largest mean `weight` and which the lowest `w_l_ratio`."
   ]
  },
  {
   "cell_type": "markdown",
   "metadata": {},
   "source": [
    "### Exercise 2"
   ]
  },
  {
   "cell_type": "markdown",
   "metadata": {},
   "source": [
    "We will work with the `StudentPerformaceFactors.csv` dataset from https://www.kaggle.com/datasets/lainguyn123/student-performance-factors. The file is already available in the `Day3` folder."
   ]
  },
  {
   "cell_type": "markdown",
   "metadata": {},
   "source": [
    "* Create a GroupedDataFrame object for the different `Family_Income`. How many groups are there? Access the 2nd group. How many records it has?\n",
    "* Estimate the mean `Exam_Score` for females and males together with the accompanying variance.\n",
    "* Accomplish the same by this time using the DataFramesMeta syntax.\n",
    "* Find the coefficient of variation of the `Exam_Score` from females and males of equal motivation levels. The coefficient of variation is the ratio between the standard deviation and the mean.\n",
    "* Group by `Parental_Involvement` and `Family_Income` and find the minimum and maximum `Exam_Score` of each subcategory."
   ]
  }
 ],
 "metadata": {
  "kernelspec": {
   "display_name": "Julia 1.11.1",
   "language": "julia",
   "name": "julia-1.11"
  },
  "language_info": {
   "file_extension": ".jl",
   "mimetype": "application/julia",
   "name": "julia",
   "version": "1.11.1"
  }
 },
 "nbformat": 4,
 "nbformat_minor": 2
}

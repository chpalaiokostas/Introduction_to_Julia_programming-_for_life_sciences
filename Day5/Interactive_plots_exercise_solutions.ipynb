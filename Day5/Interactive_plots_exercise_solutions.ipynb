{
 "cells": [
  {
   "cell_type": "markdown",
   "metadata": {},
   "source": [
    "## Exercise solutions"
   ]
  },
  {
   "cell_type": "code",
   "execution_count": 1,
   "metadata": {},
   "outputs": [],
   "source": [
    "using CSV, DataFrames, Pkg"
   ]
  },
  {
   "cell_type": "code",
   "execution_count": 2,
   "metadata": {},
   "outputs": [],
   "source": [
    "#Pkg.add(\"PlotlyJS\")\n",
    "using PlotlyJS"
   ]
  },
  {
   "cell_type": "markdown",
   "metadata": {},
   "source": [
    "### Exercise 1"
   ]
  },
  {
   "cell_type": "markdown",
   "metadata": {},
   "source": [
    "Load the `Mmmec`dataset from the `mlmRev` package. You can access it through `RDatasets`."
   ]
  },
  {
   "cell_type": "code",
   "execution_count": 3,
   "metadata": {},
   "outputs": [
    {
     "data": {
      "text/html": [
       "<div><div style = \"float: left;\"><span>354×6 DataFrame</span></div><div style = \"float: right;\"><span style = \"font-style: italic;\">329 rows omitted</span></div><div style = \"clear: both;\"></div></div><div class = \"data-frame\" style = \"overflow-x: scroll;\"><table class = \"data-frame\" style = \"margin-bottom: 6px;\"><thead><tr class = \"header\"><th class = \"rowNumber\" style = \"font-weight: bold; text-align: right;\">Row</th><th style = \"text-align: left;\">Nation</th><th style = \"text-align: left;\">Region</th><th style = \"text-align: left;\">County</th><th style = \"text-align: left;\">Deaths</th><th style = \"text-align: left;\">Expected</th><th style = \"text-align: left;\">UVB</th></tr><tr class = \"subheader headerLastRow\"><th class = \"rowNumber\" style = \"font-weight: bold; text-align: right;\"></th><th title = \"CategoricalArrays.CategoricalValue{String, UInt8}\" style = \"text-align: left;\">Cat…</th><th title = \"CategoricalArrays.CategoricalValue{String, UInt8}\" style = \"text-align: left;\">Cat…</th><th title = \"CategoricalArrays.CategoricalValue{String, UInt16}\" style = \"text-align: left;\">Cat…</th><th title = \"Int32\" style = \"text-align: left;\">Int32</th><th title = \"Float64\" style = \"text-align: left;\">Float64</th><th title = \"Float64\" style = \"text-align: left;\">Float64</th></tr></thead><tbody><tr><td class = \"rowNumber\" style = \"font-weight: bold; text-align: right;\">1</td><td style = \"text-align: left;\">Belgium</td><td style = \"text-align: left;\">1</td><td style = \"text-align: left;\">1</td><td style = \"text-align: right;\">79</td><td style = \"text-align: right;\">51.222</td><td style = \"text-align: right;\">-2.9057</td></tr><tr><td class = \"rowNumber\" style = \"font-weight: bold; text-align: right;\">2</td><td style = \"text-align: left;\">Belgium</td><td style = \"text-align: left;\">2</td><td style = \"text-align: left;\">2</td><td style = \"text-align: right;\">80</td><td style = \"text-align: right;\">79.956</td><td style = \"text-align: right;\">-3.2075</td></tr><tr><td class = \"rowNumber\" style = \"font-weight: bold; text-align: right;\">3</td><td style = \"text-align: left;\">Belgium</td><td style = \"text-align: left;\">2</td><td style = \"text-align: left;\">3</td><td style = \"text-align: right;\">51</td><td style = \"text-align: right;\">46.5169</td><td style = \"text-align: right;\">-2.8038</td></tr><tr><td class = \"rowNumber\" style = \"font-weight: bold; text-align: right;\">4</td><td style = \"text-align: left;\">Belgium</td><td style = \"text-align: left;\">2</td><td style = \"text-align: left;\">4</td><td style = \"text-align: right;\">43</td><td style = \"text-align: right;\">55.053</td><td style = \"text-align: right;\">-3.0069</td></tr><tr><td class = \"rowNumber\" style = \"font-weight: bold; text-align: right;\">5</td><td style = \"text-align: left;\">Belgium</td><td style = \"text-align: left;\">2</td><td style = \"text-align: left;\">5</td><td style = \"text-align: right;\">89</td><td style = \"text-align: right;\">67.758</td><td style = \"text-align: right;\">-3.0069</td></tr><tr><td class = \"rowNumber\" style = \"font-weight: bold; text-align: right;\">6</td><td style = \"text-align: left;\">Belgium</td><td style = \"text-align: left;\">2</td><td style = \"text-align: left;\">6</td><td style = \"text-align: right;\">19</td><td style = \"text-align: right;\">35.976</td><td style = \"text-align: right;\">-3.4175</td></tr><tr><td class = \"rowNumber\" style = \"font-weight: bold; text-align: right;\">7</td><td style = \"text-align: left;\">Belgium</td><td style = \"text-align: left;\">3</td><td style = \"text-align: left;\">7</td><td style = \"text-align: right;\">19</td><td style = \"text-align: right;\">13.28</td><td style = \"text-align: right;\">-2.6671</td></tr><tr><td class = \"rowNumber\" style = \"font-weight: bold; text-align: right;\">8</td><td style = \"text-align: left;\">Belgium</td><td style = \"text-align: left;\">3</td><td style = \"text-align: left;\">8</td><td style = \"text-align: right;\">15</td><td style = \"text-align: right;\">66.5579</td><td style = \"text-align: right;\">-2.6671</td></tr><tr><td class = \"rowNumber\" style = \"font-weight: bold; text-align: right;\">9</td><td style = \"text-align: left;\">Belgium</td><td style = \"text-align: left;\">3</td><td style = \"text-align: left;\">9</td><td style = \"text-align: right;\">33</td><td style = \"text-align: right;\">50.969</td><td style = \"text-align: right;\">-3.1222</td></tr><tr><td class = \"rowNumber\" style = \"font-weight: bold; text-align: right;\">10</td><td style = \"text-align: left;\">Belgium</td><td style = \"text-align: left;\">3</td><td style = \"text-align: left;\">10</td><td style = \"text-align: right;\">9</td><td style = \"text-align: right;\">11.171</td><td style = \"text-align: right;\">-2.4852</td></tr><tr><td class = \"rowNumber\" style = \"font-weight: bold; text-align: right;\">11</td><td style = \"text-align: left;\">Belgium</td><td style = \"text-align: left;\">3</td><td style = \"text-align: left;\">11</td><td style = \"text-align: right;\">12</td><td style = \"text-align: right;\">19.683</td><td style = \"text-align: right;\">-2.5293</td></tr><tr><td class = \"rowNumber\" style = \"font-weight: bold; text-align: right;\">12</td><td style = \"text-align: left;\">W.Germany</td><td style = \"text-align: left;\">4</td><td style = \"text-align: left;\">12</td><td style = \"text-align: right;\">156</td><td style = \"text-align: right;\">108.04</td><td style = \"text-align: right;\">-1.1375</td></tr><tr><td class = \"rowNumber\" style = \"font-weight: bold; text-align: right;\">13</td><td style = \"text-align: left;\">W.Germany</td><td style = \"text-align: left;\">4</td><td style = \"text-align: left;\">13</td><td style = \"text-align: right;\">110</td><td style = \"text-align: right;\">73.692</td><td style = \"text-align: right;\">-1.3977</td></tr><tr><td style = \"text-align: right;\">&vellip;</td><td style = \"text-align: right;\">&vellip;</td><td style = \"text-align: right;\">&vellip;</td><td style = \"text-align: right;\">&vellip;</td><td style = \"text-align: right;\">&vellip;</td><td style = \"text-align: right;\">&vellip;</td><td style = \"text-align: right;\">&vellip;</td></tr><tr><td class = \"rowNumber\" style = \"font-weight: bold; text-align: right;\">343</td><td style = \"text-align: left;\">Luxembourg</td><td style = \"text-align: left;\">75</td><td style = \"text-align: left;\">344</td><td style = \"text-align: right;\">19</td><td style = \"text-align: right;\">16.5529</td><td style = \"text-align: right;\">-2.2769</td></tr><tr><td class = \"rowNumber\" style = \"font-weight: bold; text-align: right;\">344</td><td style = \"text-align: left;\">Netherlands</td><td style = \"text-align: left;\">76</td><td style = \"text-align: left;\">345</td><td style = \"text-align: right;\">14</td><td style = \"text-align: right;\">17.68</td><td style = \"text-align: right;\">-4.972</td></tr><tr><td class = \"rowNumber\" style = \"font-weight: bold; text-align: right;\">345</td><td style = \"text-align: left;\">Netherlands</td><td style = \"text-align: left;\">76</td><td style = \"text-align: left;\">346</td><td style = \"text-align: right;\">26</td><td style = \"text-align: right;\">18.495</td><td style = \"text-align: right;\">-4.8547</td></tr><tr><td class = \"rowNumber\" style = \"font-weight: bold; text-align: right;\">346</td><td style = \"text-align: left;\">Netherlands</td><td style = \"text-align: left;\">76</td><td style = \"text-align: left;\">347</td><td style = \"text-align: right;\">11</td><td style = \"text-align: right;\">13.456</td><td style = \"text-align: right;\">-4.7363</td></tr><tr><td class = \"rowNumber\" style = \"font-weight: bold; text-align: right;\">347</td><td style = \"text-align: left;\">Netherlands</td><td style = \"text-align: left;\">77</td><td style = \"text-align: left;\">348</td><td style = \"text-align: right;\">34</td><td style = \"text-align: right;\">32.5779</td><td style = \"text-align: right;\">-4.1278</td></tr><tr><td class = \"rowNumber\" style = \"font-weight: bold; text-align: right;\">348</td><td style = \"text-align: left;\">Netherlands</td><td style = \"text-align: left;\">77</td><td style = \"text-align: left;\">349</td><td style = \"text-align: right;\">62</td><td style = \"text-align: right;\">53.824</td><td style = \"text-align: right;\">-3.8761</td></tr><tr><td class = \"rowNumber\" style = \"font-weight: bold; text-align: right;\">349</td><td style = \"text-align: left;\">Netherlands</td><td style = \"text-align: left;\">78</td><td style = \"text-align: left;\">350</td><td style = \"text-align: right;\">32</td><td style = \"text-align: right;\">28.011</td><td style = \"text-align: right;\">-3.9394</td></tr><tr><td class = \"rowNumber\" style = \"font-weight: bold; text-align: right;\">350</td><td style = \"text-align: left;\">Netherlands</td><td style = \"text-align: left;\">78</td><td style = \"text-align: left;\">351</td><td style = \"text-align: right;\">107</td><td style = \"text-align: right;\">74.903</td><td style = \"text-align: right;\">-4.2127</td></tr><tr><td class = \"rowNumber\" style = \"font-weight: bold; text-align: right;\">351</td><td style = \"text-align: left;\">Netherlands</td><td style = \"text-align: left;\">78</td><td style = \"text-align: left;\">352</td><td style = \"text-align: right;\">150</td><td style = \"text-align: right;\">97.6399</td><td style = \"text-align: right;\">-4.1911</td></tr><tr><td class = \"rowNumber\" style = \"font-weight: bold; text-align: right;\">352</td><td style = \"text-align: left;\">Netherlands</td><td style = \"text-align: left;\">78</td><td style = \"text-align: left;\">353</td><td style = \"text-align: right;\">15</td><td style = \"text-align: right;\">11.01</td><td style = \"text-align: right;\">-3.8761</td></tr><tr><td class = \"rowNumber\" style = \"font-weight: bold; text-align: right;\">353</td><td style = \"text-align: left;\">Netherlands</td><td style = \"text-align: left;\">79</td><td style = \"text-align: left;\">354</td><td style = \"text-align: right;\">64</td><td style = \"text-align: right;\">65.7699</td><td style = \"text-align: right;\">-3.6846</td></tr><tr><td class = \"rowNumber\" style = \"font-weight: bold; text-align: right;\">354</td><td style = \"text-align: left;\">Netherlands</td><td style = \"text-align: left;\">79</td><td style = \"text-align: left;\">355</td><td style = \"text-align: right;\">31</td><td style = \"text-align: right;\">34.471</td><td style = \"text-align: right;\">-3.6436</td></tr></tbody></table></div>"
      ],
      "text/latex": [
       "\\begin{tabular}{r|cccccc}\n",
       "\t& Nation & Region & County & Deaths & Expected & UVB\\\\\n",
       "\t\\hline\n",
       "\t& Cat… & Cat… & Cat… & Int32 & Float64 & Float64\\\\\n",
       "\t\\hline\n",
       "\t1 & Belgium & 1 & 1 & 79 & 51.222 & -2.9057 \\\\\n",
       "\t2 & Belgium & 2 & 2 & 80 & 79.956 & -3.2075 \\\\\n",
       "\t3 & Belgium & 2 & 3 & 51 & 46.5169 & -2.8038 \\\\\n",
       "\t4 & Belgium & 2 & 4 & 43 & 55.053 & -3.0069 \\\\\n",
       "\t5 & Belgium & 2 & 5 & 89 & 67.758 & -3.0069 \\\\\n",
       "\t6 & Belgium & 2 & 6 & 19 & 35.976 & -3.4175 \\\\\n",
       "\t7 & Belgium & 3 & 7 & 19 & 13.28 & -2.6671 \\\\\n",
       "\t8 & Belgium & 3 & 8 & 15 & 66.5579 & -2.6671 \\\\\n",
       "\t9 & Belgium & 3 & 9 & 33 & 50.969 & -3.1222 \\\\\n",
       "\t10 & Belgium & 3 & 10 & 9 & 11.171 & -2.4852 \\\\\n",
       "\t11 & Belgium & 3 & 11 & 12 & 19.683 & -2.5293 \\\\\n",
       "\t12 & W.Germany & 4 & 12 & 156 & 108.04 & -1.1375 \\\\\n",
       "\t13 & W.Germany & 4 & 13 & 110 & 73.692 & -1.3977 \\\\\n",
       "\t14 & W.Germany & 4 & 14 & 77 & 57.098 & -0.4386 \\\\\n",
       "\t15 & W.Germany & 4 & 15 & 56 & 46.622 & -1.0249 \\\\\n",
       "\t16 & W.Germany & 5 & 16 & 220 & 112.61 & -0.5033 \\\\\n",
       "\t17 & W.Germany & 5 & 17 & 46 & 30.334 & -1.4609 \\\\\n",
       "\t18 & W.Germany & 5 & 18 & 47 & 29.973 & -1.8956 \\\\\n",
       "\t19 & W.Germany & 5 & 19 & 50 & 32.027 & -2.5541 \\\\\n",
       "\t20 & W.Germany & 5 & 20 & 90 & 46.521 & -1.9671 \\\\\n",
       "\t21 & W.Germany & 5 & 21 & 62 & 36.99 & -2.3444 \\\\\n",
       "\t22 & W.Germany & 5 & 22 & 85 & 46.942 & -0.6578 \\\\\n",
       "\t23 & W.Germany & 6 & 23 & 141 & 55.3829 & -3.8836 \\\\\n",
       "\t24 & W.Germany & 7 & 24 & 38 & 21.304 & -4.4592 \\\\\n",
       "\t$\\dots$ & $\\dots$ & $\\dots$ & $\\dots$ & $\\dots$ & $\\dots$ & $\\dots$ \\\\\n",
       "\\end{tabular}\n"
      ],
      "text/plain": [
       "\u001b[1m354×6 DataFrame\u001b[0m\n",
       "\u001b[1m Row \u001b[0m│\u001b[1m Nation      \u001b[0m\u001b[1m Region \u001b[0m\u001b[1m County \u001b[0m\u001b[1m Deaths \u001b[0m\u001b[1m Expected \u001b[0m\u001b[1m UVB     \u001b[0m\n",
       "     │\u001b[90m Cat…        \u001b[0m\u001b[90m Cat…   \u001b[0m\u001b[90m Cat…   \u001b[0m\u001b[90m Int32  \u001b[0m\u001b[90m Float64  \u001b[0m\u001b[90m Float64 \u001b[0m\n",
       "─────┼────────────────────────────────────────────────────────\n",
       "   1 │ Belgium      1       1           79   51.222   -2.9057\n",
       "   2 │ Belgium      2       2           80   79.956   -3.2075\n",
       "   3 │ Belgium      2       3           51   46.5169  -2.8038\n",
       "   4 │ Belgium      2       4           43   55.053   -3.0069\n",
       "   5 │ Belgium      2       5           89   67.758   -3.0069\n",
       "   6 │ Belgium      2       6           19   35.976   -3.4175\n",
       "   7 │ Belgium      3       7           19   13.28    -2.6671\n",
       "   8 │ Belgium      3       8           15   66.5579  -2.6671\n",
       "  ⋮  │      ⋮         ⋮       ⋮       ⋮        ⋮         ⋮\n",
       " 348 │ Netherlands  77      349         62   53.824   -3.8761\n",
       " 349 │ Netherlands  78      350         32   28.011   -3.9394\n",
       " 350 │ Netherlands  78      351        107   74.903   -4.2127\n",
       " 351 │ Netherlands  78      352        150   97.6399  -4.1911\n",
       " 352 │ Netherlands  78      353         15   11.01    -3.8761\n",
       " 353 │ Netherlands  79      354         64   65.7699  -3.6846\n",
       " 354 │ Netherlands  79      355         31   34.471   -3.6436\n",
       "\u001b[36m                                              339 rows omitted\u001b[0m"
      ]
     },
     "metadata": {},
     "output_type": "display_data"
    }
   ],
   "source": [
    "import RDatasets\n",
    "melanoma = RDatasets.dataset(\"mlmRev\", \"Mmmec\")"
   ]
  },
  {
   "cell_type": "markdown",
   "metadata": {},
   "source": [
    "Create an interactive histogram depicting the number of deaths due to melanoma in all the European countries. Use 50 bins and the `lightcoral`colour."
   ]
  },
  {
   "cell_type": "code",
   "execution_count": 4,
   "metadata": {},
   "outputs": [
    {
     "data": {
      "application/vnd.plotly.v1+json": {
       "config": {
        "editable": false,
        "responsive": true,
        "scrollZoom": true,
        "showLink": false,
        "staticPlot": false
       },
       "data": [
        {
         "marker": {
          "color": "lightcoral"
         },
         "nbinsx": 50,
         "type": "histogram",
         "xaxis": "x",
         "y": [
          79,
          80,
          51,
          43,
          89,
          19,
          19,
          15,
          33,
          9,
          12,
          156,
          110,
          77,
          56,
          220,
          46,
          47,
          50,
          90,
          62,
          85,
          141,
          38,
          121,
          218,
          50,
          97,
          98,
          75,
          85,
          209,
          127,
          98,
          58,
          151,
          66,
          25,
          91,
          42,
          160,
          209,
          43,
          28,
          41,
          42,
          6,
          57,
          20,
          21,
          31,
          23,
          79,
          24,
          57,
          33,
          20,
          15,
          29,
          9,
          7,
          14,
          17,
          7,
          8,
          10,
          13,
          9,
          7,
          13,
          8,
          19,
          9,
          16,
          44,
          14,
          24,
          12,
          13,
          11,
          14,
          5,
          13,
          11,
          8,
          16,
          3,
          9,
          13,
          8,
          3,
          12,
          42,
          77,
          15,
          40,
          16,
          34,
          30,
          41,
          18,
          5,
          16,
          18,
          2,
          11,
          5,
          9,
          11,
          14,
          7,
          28,
          10,
          5,
          7,
          13,
          7,
          5,
          9,
          3,
          7,
          63,
          35,
          25,
          17,
          6,
          12,
          14,
          9,
          8,
          10,
          12,
          19,
          9,
          4,
          3,
          1,
          22,
          44,
          17,
          11,
          12,
          10,
          14,
          22,
          22,
          50,
          5,
          18,
          20,
          27,
          28,
          31,
          32,
          16,
          28,
          35,
          31,
          9,
          18,
          23,
          11,
          65,
          52,
          34,
          43,
          313,
          27,
          24,
          20,
          36,
          74,
          65,
          45,
          10,
          69,
          29,
          53,
          39,
          33,
          28,
          47,
          27,
          22,
          21,
          21,
          97,
          27,
          15,
          26,
          12,
          47,
          63,
          38,
          31,
          13,
          17,
          15,
          11,
          19,
          4,
          11,
          15,
          8,
          23,
          19,
          13,
          28,
          1,
          7,
          74,
          3,
          2,
          0,
          0,
          16,
          10,
          4,
          4,
          9,
          6,
          9,
          8,
          6,
          5,
          10,
          9,
          5,
          10,
          4,
          31,
          4,
          13,
          11,
          18,
          9,
          19,
          31,
          10,
          16,
          20,
          22,
          9,
          17,
          8,
          8,
          4,
          109,
          12,
          9,
          4,
          10,
          36,
          13,
          23,
          24,
          4,
          128,
          15,
          12,
          16,
          9,
          13,
          8,
          13,
          8,
          6,
          6,
          2,
          88,
          14,
          21,
          13,
          8,
          25,
          15,
          22,
          12,
          8,
          9,
          11,
          2,
          15,
          1,
          6,
          20,
          11,
          9,
          5,
          2,
          11,
          4,
          12,
          5,
          8,
          8,
          44,
          6,
          14,
          9,
          5,
          11,
          13,
          15,
          9,
          12,
          6,
          19,
          19,
          10,
          22,
          29,
          35,
          8,
          1,
          0,
          3,
          0,
          2,
          0,
          21,
          4,
          1,
          0,
          2,
          2,
          2,
          0,
          1,
          2,
          1,
          1,
          7,
          3,
          5,
          1,
          3,
          1,
          3,
          1,
          2,
          2,
          19,
          14,
          26,
          11,
          34,
          62,
          32,
          107,
          150,
          15,
          64,
          31
         ],
         "yaxis": "y"
        }
       ],
       "frames": [],
       "layout": {
        "legend": {
         "tracegroupgap": 0
        },
        "margin": {
         "b": 50,
         "l": 50,
         "r": 50,
         "t": 60
        },
        "template": {
         "data": {
          "bar": [
           {
            "error_x": {
             "color": "#2a3f5f"
            },
            "error_y": {
             "color": "#2a3f5f"
            },
            "marker": {
             "line": {
              "color": "#E5ECF6",
              "width": 0.5
             }
            },
            "type": "bar"
           }
          ],
          "barpolar": [
           {
            "marker": {
             "line": {
              "color": "#E5ECF6",
              "width": 0.5
             }
            },
            "type": "barpolar"
           }
          ],
          "carpet": [
           {
            "aaxis": {
             "endlinecolor": "#2a3f5f",
             "gridcolor": "white",
             "linecolor": "white",
             "minorgridcolor": "white",
             "startlinecolor": "#2a3f5f"
            },
            "baxis": {
             "endlinecolor": "#2a3f5f",
             "gridcolor": "white",
             "linecolor": "white",
             "minorgridcolor": "white",
             "startlinecolor": "#2a3f5f"
            },
            "type": "carpet"
           }
          ],
          "choropleth": [
           {
            "colorbar": {
             "outlinewidth": 0,
             "ticks": ""
            },
            "type": "choropleth"
           }
          ],
          "contour": [
           {
            "colorbar": {
             "outlinewidth": 0,
             "ticks": ""
            },
            "colorscale": [
             [
              0,
              "#0d0887"
             ],
             [
              0.1111111111111111,
              "#46039f"
             ],
             [
              0.2222222222222222,
              "#7201a8"
             ],
             [
              0.3333333333333333,
              "#9c179e"
             ],
             [
              0.4444444444444444,
              "#bd3786"
             ],
             [
              0.5555555555555556,
              "#d8576b"
             ],
             [
              0.6666666666666666,
              "#ed7953"
             ],
             [
              0.7777777777777778,
              "#fb9f3a"
             ],
             [
              0.8888888888888888,
              "#fdca26"
             ],
             [
              1,
              "#f0f921"
             ]
            ],
            "type": "contour"
           }
          ],
          "contourcarpet": [
           {
            "colorbar": {
             "outlinewidth": 0,
             "ticks": ""
            },
            "type": "contourcarpet"
           }
          ],
          "heatmap": [
           {
            "colorbar": {
             "outlinewidth": 0,
             "ticks": ""
            },
            "colorscale": [
             [
              0,
              "#0d0887"
             ],
             [
              0.1111111111111111,
              "#46039f"
             ],
             [
              0.2222222222222222,
              "#7201a8"
             ],
             [
              0.3333333333333333,
              "#9c179e"
             ],
             [
              0.4444444444444444,
              "#bd3786"
             ],
             [
              0.5555555555555556,
              "#d8576b"
             ],
             [
              0.6666666666666666,
              "#ed7953"
             ],
             [
              0.7777777777777778,
              "#fb9f3a"
             ],
             [
              0.8888888888888888,
              "#fdca26"
             ],
             [
              1,
              "#f0f921"
             ]
            ],
            "type": "heatmap"
           }
          ],
          "heatmapgl": [
           {
            "colorbar": {
             "outlinewidth": 0,
             "ticks": ""
            },
            "colorscale": [
             [
              0,
              "#0d0887"
             ],
             [
              0.1111111111111111,
              "#46039f"
             ],
             [
              0.2222222222222222,
              "#7201a8"
             ],
             [
              0.3333333333333333,
              "#9c179e"
             ],
             [
              0.4444444444444444,
              "#bd3786"
             ],
             [
              0.5555555555555556,
              "#d8576b"
             ],
             [
              0.6666666666666666,
              "#ed7953"
             ],
             [
              0.7777777777777778,
              "#fb9f3a"
             ],
             [
              0.8888888888888888,
              "#fdca26"
             ],
             [
              1,
              "#f0f921"
             ]
            ],
            "type": "heatmapgl"
           }
          ],
          "histogram": [
           {
            "marker": {
             "colorbar": {
              "outlinewidth": 0,
              "ticks": ""
             }
            },
            "type": "histogram"
           }
          ],
          "histogram2d": [
           {
            "colorbar": {
             "outlinewidth": 0,
             "ticks": ""
            },
            "colorscale": [
             [
              0,
              "#0d0887"
             ],
             [
              0.1111111111111111,
              "#46039f"
             ],
             [
              0.2222222222222222,
              "#7201a8"
             ],
             [
              0.3333333333333333,
              "#9c179e"
             ],
             [
              0.4444444444444444,
              "#bd3786"
             ],
             [
              0.5555555555555556,
              "#d8576b"
             ],
             [
              0.6666666666666666,
              "#ed7953"
             ],
             [
              0.7777777777777778,
              "#fb9f3a"
             ],
             [
              0.8888888888888888,
              "#fdca26"
             ],
             [
              1,
              "#f0f921"
             ]
            ],
            "type": "histogram2d"
           }
          ],
          "histogram2dcontour": [
           {
            "colorbar": {
             "outlinewidth": 0,
             "ticks": ""
            },
            "colorscale": [
             [
              0,
              "#0d0887"
             ],
             [
              0.1111111111111111,
              "#46039f"
             ],
             [
              0.2222222222222222,
              "#7201a8"
             ],
             [
              0.3333333333333333,
              "#9c179e"
             ],
             [
              0.4444444444444444,
              "#bd3786"
             ],
             [
              0.5555555555555556,
              "#d8576b"
             ],
             [
              0.6666666666666666,
              "#ed7953"
             ],
             [
              0.7777777777777778,
              "#fb9f3a"
             ],
             [
              0.8888888888888888,
              "#fdca26"
             ],
             [
              1,
              "#f0f921"
             ]
            ],
            "type": "histogram2dcontour"
           }
          ],
          "mesh3d": [
           {
            "colorbar": {
             "outlinewidth": 0,
             "ticks": ""
            },
            "type": "mesh3d"
           }
          ],
          "parcoords": [
           {
            "line": {
             "colorbar": {
              "outlinewidth": 0,
              "ticks": ""
             }
            },
            "type": "parcoords"
           }
          ],
          "pie": [
           {
            "automargin": true,
            "type": "pie"
           }
          ],
          "scatter": [
           {
            "marker": {
             "colorbar": {
              "outlinewidth": 0,
              "ticks": ""
             }
            },
            "type": "scatter"
           }
          ],
          "scatter3d": [
           {
            "line": {
             "colorbar": {
              "outlinewidth": 0,
              "ticks": ""
             }
            },
            "marker": {
             "colorbar": {
              "outlinewidth": 0,
              "ticks": ""
             }
            },
            "type": "scatter3d"
           }
          ],
          "scattercarpet": [
           {
            "marker": {
             "colorbar": {
              "outlinewidth": 0,
              "ticks": ""
             }
            },
            "type": "scattercarpet"
           }
          ],
          "scattergeo": [
           {
            "marker": {
             "colorbar": {
              "outlinewidth": 0,
              "ticks": ""
             }
            },
            "type": "scattergeo"
           }
          ],
          "scattergl": [
           {
            "marker": {
             "colorbar": {
              "outlinewidth": 0,
              "ticks": ""
             }
            },
            "type": "scattergl"
           }
          ],
          "scattermapbox": [
           {
            "marker": {
             "colorbar": {
              "outlinewidth": 0,
              "ticks": ""
             }
            },
            "type": "scattermapbox"
           }
          ],
          "scatterpolar": [
           {
            "marker": {
             "colorbar": {
              "outlinewidth": 0,
              "ticks": ""
             }
            },
            "type": "scatterpolar"
           }
          ],
          "scatterpolargl": [
           {
            "marker": {
             "colorbar": {
              "outlinewidth": 0,
              "ticks": ""
             }
            },
            "type": "scatterpolargl"
           }
          ],
          "scatterternary": [
           {
            "marker": {
             "colorbar": {
              "outlinewidth": 0,
              "ticks": ""
             }
            },
            "type": "scatterternary"
           }
          ],
          "surface": [
           {
            "colorbar": {
             "outlinewidth": 0,
             "ticks": ""
            },
            "colorscale": [
             [
              0,
              "#0d0887"
             ],
             [
              0.1111111111111111,
              "#46039f"
             ],
             [
              0.2222222222222222,
              "#7201a8"
             ],
             [
              0.3333333333333333,
              "#9c179e"
             ],
             [
              0.4444444444444444,
              "#bd3786"
             ],
             [
              0.5555555555555556,
              "#d8576b"
             ],
             [
              0.6666666666666666,
              "#ed7953"
             ],
             [
              0.7777777777777778,
              "#fb9f3a"
             ],
             [
              0.8888888888888888,
              "#fdca26"
             ],
             [
              1,
              "#f0f921"
             ]
            ],
            "type": "surface"
           }
          ],
          "table": [
           {
            "cells": {
             "fill": {
              "color": "#EBF0F8"
             },
             "line": {
              "color": "white"
             }
            },
            "header": {
             "fill": {
              "color": "#C8D4E3"
             },
             "line": {
              "color": "white"
             }
            },
            "type": "table"
           }
          ]
         },
         "layout": {
          "annotationdefaults": {
           "arrowcolor": "#2a3f5f",
           "arrowhead": 0,
           "arrowwidth": 1
          },
          "autotypenumbers": "strict",
          "coloraxis": {
           "colorbar": {
            "outlinewidth": 0,
            "ticks": ""
           }
          },
          "colorscale": {
           "diverging": [
            [
             0,
             "#8e0152"
            ],
            [
             0.1,
             "#c51b7d"
            ],
            [
             0.2,
             "#de77ae"
            ],
            [
             0.3,
             "#f1b6da"
            ],
            [
             0.4,
             "#fde0ef"
            ],
            [
             0.5,
             "#f7f7f7"
            ],
            [
             0.6,
             "#e6f5d0"
            ],
            [
             0.7,
             "#b8e186"
            ],
            [
             0.8,
             "#7fbc41"
            ],
            [
             0.9,
             "#4d9221"
            ],
            [
             1,
             "#276419"
            ]
           ],
           "sequential": [
            [
             0,
             "#0d0887"
            ],
            [
             0.1111111111111111,
             "#46039f"
            ],
            [
             0.2222222222222222,
             "#7201a8"
            ],
            [
             0.3333333333333333,
             "#9c179e"
            ],
            [
             0.4444444444444444,
             "#bd3786"
            ],
            [
             0.5555555555555556,
             "#d8576b"
            ],
            [
             0.6666666666666666,
             "#ed7953"
            ],
            [
             0.7777777777777778,
             "#fb9f3a"
            ],
            [
             0.8888888888888888,
             "#fdca26"
            ],
            [
             1,
             "#f0f921"
            ]
           ],
           "sequentialminus": [
            [
             0,
             "#0d0887"
            ],
            [
             0.1111111111111111,
             "#46039f"
            ],
            [
             0.2222222222222222,
             "#7201a8"
            ],
            [
             0.3333333333333333,
             "#9c179e"
            ],
            [
             0.4444444444444444,
             "#bd3786"
            ],
            [
             0.5555555555555556,
             "#d8576b"
            ],
            [
             0.6666666666666666,
             "#ed7953"
            ],
            [
             0.7777777777777778,
             "#fb9f3a"
            ],
            [
             0.8888888888888888,
             "#fdca26"
            ],
            [
             1,
             "#f0f921"
            ]
           ]
          },
          "colorway": [
           "#636efa",
           "#EF553B",
           "#00cc96",
           "#ab63fa",
           "#FFA15A",
           "#19d3f3",
           "#FF6692",
           "#B6E880",
           "#FF97FF",
           "#FECB52"
          ],
          "font": {
           "color": "#2a3f5f"
          },
          "geo": {
           "bgcolor": "white",
           "lakecolor": "white",
           "landcolor": "#E5ECF6",
           "showlakes": true,
           "showland": true,
           "subunitcolor": "white"
          },
          "hoverlabel": {
           "align": "left"
          },
          "hovermode": "closest",
          "mapbox": {
           "style": "light"
          },
          "paper_bgcolor": "white",
          "plot_bgcolor": "#E5ECF6",
          "polar": {
           "angularaxis": {
            "gridcolor": "white",
            "linecolor": "white",
            "ticks": ""
           },
           "bgcolor": "#E5ECF6",
           "radialaxis": {
            "gridcolor": "white",
            "linecolor": "white",
            "ticks": ""
           }
          },
          "scene": {
           "xaxis": {
            "backgroundcolor": "#E5ECF6",
            "gridcolor": "white",
            "gridwidth": 2,
            "linecolor": "white",
            "showbackground": true,
            "ticks": "",
            "zerolinecolor": "white"
           },
           "yaxis": {
            "backgroundcolor": "#E5ECF6",
            "gridcolor": "white",
            "gridwidth": 2,
            "linecolor": "white",
            "showbackground": true,
            "ticks": "",
            "zerolinecolor": "white"
           },
           "zaxis": {
            "backgroundcolor": "#E5ECF6",
            "gridcolor": "white",
            "gridwidth": 2,
            "linecolor": "white",
            "showbackground": true,
            "ticks": "",
            "zerolinecolor": "white"
           }
          },
          "shapedefaults": {
           "line": {
            "color": "#2a3f5f"
           }
          },
          "ternary": {
           "aaxis": {
            "gridcolor": "white",
            "linecolor": "white",
            "ticks": ""
           },
           "baxis": {
            "gridcolor": "white",
            "linecolor": "white",
            "ticks": ""
           },
           "bgcolor": "#E5ECF6",
           "caxis": {
            "gridcolor": "white",
            "linecolor": "white",
            "ticks": ""
           }
          },
          "title": {
           "x": 0.05
          },
          "xaxis": {
           "automargin": true,
           "gridcolor": "white",
           "linecolor": "white",
           "ticks": "",
           "title": {
            "standoff": 15
           },
           "zerolinecolor": "white",
           "zerolinewidth": 2
          },
          "yaxis": {
           "automargin": true,
           "gridcolor": "white",
           "linecolor": "white",
           "ticks": "",
           "title": {
            "standoff": 15
           },
           "zerolinecolor": "white",
           "zerolinewidth": 2
          }
         }
        },
        "yaxis": {
         "title": {
          "text": "Deaths"
         }
        }
       }
      },
      "image/png": "[encoded data removed]",
      "image/svg+xml": [
       "<svg class=\"main-svg\" xmlns=\"http://www.w3.org/2000/svg\" xmlns:xlink=\"http://www.w3.org/1999/xlink\" width=\"700\" height=\"500\" style=\"\" viewBox=\"0 0 700 500\"><rect x=\"0\" y=\"0\" width=\"700\" height=\"500\" style=\"fill: rgb(255, 255, 255); fill-opacity: 1;\"/><defs id=\"defs-8cc57b\"><g class=\"clips\"><clipPath id=\"clip8cc57bxyplot\" class=\"plotclip\"><rect width=\"589\" height=\"390\"/></clipPath><clipPath class=\"axesclip\" id=\"clip8cc57bx\"><rect x=\"61\" y=\"0\" width=\"589\" height=\"500\"/></clipPath><clipPath class=\"axesclip\" id=\"clip8cc57by\"><rect x=\"0\" y=\"60\" width=\"700\" height=\"390\"/></clipPath><clipPath class=\"axesclip\" id=\"clip8cc57bxy\"><rect x=\"61\" y=\"60\" width=\"589\" height=\"390\"/></clipPath></g><g class=\"gradients\"/><g class=\"patterns\"/></defs><g class=\"bglayer\"><rect class=\"bg\" x=\"61\" y=\"60\" width=\"589\" height=\"390\" style=\"fill: rgb(229, 236, 246); fill-opacity: 1; stroke-width: 0;\"/></g><g class=\"layer-below\"><g class=\"imagelayer\"/><g class=\"shapelayer\"/></g><g class=\"cartesianlayer\"><g class=\"subplot xy\"><g class=\"layer-subplot\"><g class=\"shapelayer\"/><g class=\"imagelayer\"/></g><g class=\"gridlayer\"><g class=\"x\"><path class=\"xgrid crisp\" transform=\"translate(156.65,0)\" d=\"M0,60v390\" style=\"stroke: rgb(255, 255, 255); stroke-opacity: 1; stroke-width: 1px;\"/><path class=\"xgrid crisp\" transform=\"translate(252.3,0)\" d=\"M0,60v390\" style=\"stroke: rgb(255, 255, 255); stroke-opacity: 1; stroke-width: 1px;\"/><path class=\"xgrid crisp\" transform=\"translate(347.95,0)\" d=\"M0,60v390\" style=\"stroke: rgb(255, 255, 255); stroke-opacity: 1; stroke-width: 1px;\"/><path class=\"xgrid crisp\" transform=\"translate(443.6,0)\" d=\"M0,60v390\" style=\"stroke: rgb(255, 255, 255); stroke-opacity: 1; stroke-width: 1px;\"/><path class=\"xgrid crisp\" transform=\"translate(539.25,0)\" d=\"M0,60v390\" style=\"stroke: rgb(255, 255, 255); stroke-opacity: 1; stroke-width: 1px;\"/><path class=\"xgrid crisp\" transform=\"translate(634.9,0)\" d=\"M0,60v390\" style=\"stroke: rgb(255, 255, 255); stroke-opacity: 1; stroke-width: 1px;\"/></g><g class=\"y\"/></g><g class=\"zerolinelayer\"><path class=\"xzl zl crisp\" transform=\"translate(61,0)\" d=\"M0,60v390\" style=\"stroke: rgb(255, 255, 255); stroke-opacity: 1; stroke-width: 2px;\"/></g><path class=\"xlines-below\"/><path class=\"ylines-below\"/><g class=\"overlines-below\"/><g class=\"xaxislayer-below\"/><g class=\"yaxislayer-below\"/><g class=\"overaxes-below\"/><g class=\"plot\" transform=\"translate(61,60)\" clip-path=\"url(#clip8cc57bxyplot)\"><g class=\"barlayer mlayer\"><g class=\"trace bars\" shape-rendering=\"crispEdges\" style=\"opacity: 1;\"><g class=\"points\"><g class=\"point\"><path d=\"M0,390V377.81H559.55V390Z\" style=\"vector-effect: non-scaling-stroke; opacity: 1; stroke-width: 0px; fill: rgb(240, 128, 128); fill-opacity: 1;\"/></g><g class=\"point\"><path d=\"M0,377.81V365.63H473.47V377.81Z\" style=\"vector-effect: non-scaling-stroke; opacity: 1; stroke-width: 0px; fill: rgb(240, 128, 128); fill-opacity: 1;\"/></g><g class=\"point\"><path d=\"M0,365.63V353.44H210.43V365.63Z\" style=\"vector-effect: non-scaling-stroke; opacity: 1; stroke-width: 0px; fill: rgb(240, 128, 128); fill-opacity: 1;\"/></g><g class=\"point\"><path d=\"M0,353.44V341.25H114.78V353.44Z\" style=\"vector-effect: non-scaling-stroke; opacity: 1; stroke-width: 0px; fill: rgb(240, 128, 128); fill-opacity: 1;\"/></g><g class=\"point\"><path d=\"M0,341.25V329.06H81.3V341.25Z\" style=\"vector-effect: non-scaling-stroke; opacity: 1; stroke-width: 0px; fill: rgb(240, 128, 128); fill-opacity: 1;\"/></g><g class=\"point\"><path d=\"M0,329.06V316.88H47.82V329.06Z\" style=\"vector-effect: non-scaling-stroke; opacity: 1; stroke-width: 0px; fill: rgb(240, 128, 128); fill-opacity: 1;\"/></g><g class=\"point\"><path d=\"M0,316.88V304.69H43.04V316.88Z\" style=\"vector-effect: non-scaling-stroke; opacity: 1; stroke-width: 0px; fill: rgb(240, 128, 128); fill-opacity: 1;\"/></g><g class=\"point\"><path d=\"M0,304.69V292.5H33.48V304.69Z\" style=\"vector-effect: non-scaling-stroke; opacity: 1; stroke-width: 0px; fill: rgb(240, 128, 128); fill-opacity: 1;\"/></g><g class=\"point\"><path d=\"M0,292.5V280.31H23.91V292.5Z\" style=\"vector-effect: non-scaling-stroke; opacity: 1; stroke-width: 0px; fill: rgb(240, 128, 128); fill-opacity: 1;\"/></g><g class=\"point\"><path d=\"M0,280.31V268.13H28.69V280.31Z\" style=\"vector-effect: non-scaling-stroke; opacity: 1; stroke-width: 0px; fill: rgb(240, 128, 128); fill-opacity: 1;\"/></g><g class=\"point\"><path d=\"M0,268.13V255.94H9.56V268.13Z\" style=\"vector-effect: non-scaling-stroke; opacity: 1; stroke-width: 0px; fill: rgb(240, 128, 128); fill-opacity: 1;\"/></g><g class=\"point\"><path d=\"M0,255.94V243.75H4.78V255.94Z\" style=\"vector-effect: non-scaling-stroke; opacity: 1; stroke-width: 0px; fill: rgb(240, 128, 128); fill-opacity: 1;\"/></g><g class=\"point\"><path d=\"M0,243.75V231.56H14.35V243.75Z\" style=\"vector-effect: non-scaling-stroke; opacity: 1; stroke-width: 0px; fill: rgb(240, 128, 128); fill-opacity: 1;\"/></g><g class=\"point\"><path d=\"M0,0Z\" style=\"vector-effect: non-scaling-stroke; opacity: 1; stroke-width: 0px; fill: rgb(240, 128, 128); fill-opacity: 1;\"/></g><g class=\"point\"><path d=\"M0,219.38V207.19H4.78V219.38Z\" style=\"vector-effect: non-scaling-stroke; opacity: 1; stroke-width: 0px; fill: rgb(240, 128, 128); fill-opacity: 1;\"/></g><g class=\"point\"><path d=\"M0,207.19V195H14.35V207.19Z\" style=\"vector-effect: non-scaling-stroke; opacity: 1; stroke-width: 0px; fill: rgb(240, 128, 128); fill-opacity: 1;\"/></g><g class=\"point\"><path d=\"M0,195V182.81H4.78V195Z\" style=\"vector-effect: non-scaling-stroke; opacity: 1; stroke-width: 0px; fill: rgb(240, 128, 128); fill-opacity: 1;\"/></g><g class=\"point\"><path d=\"M0,0Z\" style=\"vector-effect: non-scaling-stroke; opacity: 1; stroke-width: 0px; fill: rgb(240, 128, 128); fill-opacity: 1;\"/></g><g class=\"point\"><path d=\"M0,0Z\" style=\"vector-effect: non-scaling-stroke; opacity: 1; stroke-width: 0px; fill: rgb(240, 128, 128); fill-opacity: 1;\"/></g><g class=\"point\"><path d=\"M0,0Z\" style=\"vector-effect: non-scaling-stroke; opacity: 1; stroke-width: 0px; fill: rgb(240, 128, 128); fill-opacity: 1;\"/></g><g class=\"point\"><path d=\"M0,146.25V134.06H9.56V146.25Z\" style=\"vector-effect: non-scaling-stroke; opacity: 1; stroke-width: 0px; fill: rgb(240, 128, 128); fill-opacity: 1;\"/></g><g class=\"point\"><path d=\"M0,134.06V121.88H4.78V134.06Z\" style=\"vector-effect: non-scaling-stroke; opacity: 1; stroke-width: 0px; fill: rgb(240, 128, 128); fill-opacity: 1;\"/></g><g class=\"point\"><path d=\"M0,121.88V109.69H4.78V121.88Z\" style=\"vector-effect: non-scaling-stroke; opacity: 1; stroke-width: 0px; fill: rgb(240, 128, 128); fill-opacity: 1;\"/></g><g class=\"point\"><path d=\"M0,0Z\" style=\"vector-effect: non-scaling-stroke; opacity: 1; stroke-width: 0px; fill: rgb(240, 128, 128); fill-opacity: 1;\"/></g><g class=\"point\"><path d=\"M0,0Z\" style=\"vector-effect: non-scaling-stroke; opacity: 1; stroke-width: 0px; fill: rgb(240, 128, 128); fill-opacity: 1;\"/></g><g class=\"point\"><path d=\"M0,0Z\" style=\"vector-effect: non-scaling-stroke; opacity: 1; stroke-width: 0px; fill: rgb(240, 128, 128); fill-opacity: 1;\"/></g><g class=\"point\"><path d=\"M0,0Z\" style=\"vector-effect: non-scaling-stroke; opacity: 1; stroke-width: 0px; fill: rgb(240, 128, 128); fill-opacity: 1;\"/></g><g class=\"point\"><path d=\"M0,0Z\" style=\"vector-effect: non-scaling-stroke; opacity: 1; stroke-width: 0px; fill: rgb(240, 128, 128); fill-opacity: 1;\"/></g><g class=\"point\"><path d=\"M0,0Z\" style=\"vector-effect: non-scaling-stroke; opacity: 1; stroke-width: 0px; fill: rgb(240, 128, 128); fill-opacity: 1;\"/></g><g class=\"point\"><path d=\"M0,0Z\" style=\"vector-effect: non-scaling-stroke; opacity: 1; stroke-width: 0px; fill: rgb(240, 128, 128); fill-opacity: 1;\"/></g><g class=\"point\"><path d=\"M0,0Z\" style=\"vector-effect: non-scaling-stroke; opacity: 1; stroke-width: 0px; fill: rgb(240, 128, 128); fill-opacity: 1;\"/></g><g class=\"point\"><path d=\"M0,12.19V0H4.78V12.19Z\" style=\"vector-effect: non-scaling-stroke; opacity: 1; stroke-width: 0px; fill: rgb(240, 128, 128); fill-opacity: 1;\"/></g></g></g></g></g><g class=\"overplot\"/><path class=\"xlines-above crisp\" d=\"M0,0\" style=\"fill: none;\"/><path class=\"ylines-above crisp\" d=\"M0,0\" style=\"fill: none;\"/><g class=\"overlines-above\"/><g class=\"xaxislayer-above\"><g class=\"xtick\"><text text-anchor=\"middle\" x=\"0\" y=\"463\" transform=\"translate(61,0)\" style=\"font-family: 'Open Sans', verdana, arial, sans-serif; font-size: 12px; fill: rgb(42, 63, 95); fill-opacity: 1; white-space: pre; opacity: 1;\">0</text></g><g class=\"xtick\"><text text-anchor=\"middle\" x=\"0\" y=\"463\" style=\"font-family: 'Open Sans', verdana, arial, sans-serif; font-size: 12px; fill: rgb(42, 63, 95); fill-opacity: 1; white-space: pre; opacity: 1;\" transform=\"translate(156.65,0)\">20</text></g><g class=\"xtick\"><text text-anchor=\"middle\" x=\"0\" y=\"463\" style=\"font-family: 'Open Sans', verdana, arial, sans-serif; font-size: 12px; fill: rgb(42, 63, 95); fill-opacity: 1; white-space: pre; opacity: 1;\" transform=\"translate(252.3,0)\">40</text></g><g class=\"xtick\"><text text-anchor=\"middle\" x=\"0\" y=\"463\" style=\"font-family: 'Open Sans', verdana, arial, sans-serif; font-size: 12px; fill: rgb(42, 63, 95); fill-opacity: 1; white-space: pre; opacity: 1;\" transform=\"translate(347.95,0)\">60</text></g><g class=\"xtick\"><text text-anchor=\"middle\" x=\"0\" y=\"463\" style=\"font-family: 'Open Sans', verdana, arial, sans-serif; font-size: 12px; fill: rgb(42, 63, 95); fill-opacity: 1; white-space: pre; opacity: 1;\" transform=\"translate(443.6,0)\">80</text></g><g class=\"xtick\"><text text-anchor=\"middle\" x=\"0\" y=\"463\" style=\"font-family: 'Open Sans', verdana, arial, sans-serif; font-size: 12px; fill: rgb(42, 63, 95); fill-opacity: 1; white-space: pre; opacity: 1;\" transform=\"translate(539.25,0)\">100</text></g><g class=\"xtick\"><text text-anchor=\"middle\" x=\"0\" y=\"463\" style=\"font-family: 'Open Sans', verdana, arial, sans-serif; font-size: 12px; fill: rgb(42, 63, 95); fill-opacity: 1; white-space: pre; opacity: 1;\" transform=\"translate(634.9,0)\">120</text></g></g><g class=\"yaxislayer-above\"><g class=\"ytick\"><text text-anchor=\"end\" x=\"60\" y=\"4.199999999999999\" transform=\"translate(0,449.39)\" style=\"font-family: 'Open Sans', verdana, arial, sans-serif; font-size: 12px; fill: rgb(42, 63, 95); fill-opacity: 1; white-space: pre; opacity: 1;\">0</text></g><g class=\"ytick\"><text text-anchor=\"end\" x=\"60\" y=\"4.199999999999999\" style=\"font-family: 'Open Sans', verdana, arial, sans-serif; font-size: 12px; fill: rgb(42, 63, 95); fill-opacity: 1; white-space: pre; opacity: 1;\" transform=\"translate(0,388.45)\">50</text></g><g class=\"ytick\"><text text-anchor=\"end\" x=\"60\" y=\"4.199999999999999\" style=\"font-family: 'Open Sans', verdana, arial, sans-serif; font-size: 12px; fill: rgb(42, 63, 95); fill-opacity: 1; white-space: pre; opacity: 1;\" transform=\"translate(0,327.52)\">100</text></g><g class=\"ytick\"><text text-anchor=\"end\" x=\"60\" y=\"4.199999999999999\" style=\"font-family: 'Open Sans', verdana, arial, sans-serif; font-size: 12px; fill: rgb(42, 63, 95); fill-opacity: 1; white-space: pre; opacity: 1;\" transform=\"translate(0,266.58000000000004)\">150</text></g><g class=\"ytick\"><text text-anchor=\"end\" x=\"60\" y=\"4.199999999999999\" style=\"font-family: 'Open Sans', verdana, arial, sans-serif; font-size: 12px; fill: rgb(42, 63, 95); fill-opacity: 1; white-space: pre; opacity: 1;\" transform=\"translate(0,205.64)\">200</text></g><g class=\"ytick\"><text text-anchor=\"end\" x=\"60\" y=\"4.199999999999999\" style=\"font-family: 'Open Sans', verdana, arial, sans-serif; font-size: 12px; fill: rgb(42, 63, 95); fill-opacity: 1; white-space: pre; opacity: 1;\" transform=\"translate(0,144.7)\">250</text></g><g class=\"ytick\"><text text-anchor=\"end\" x=\"60\" y=\"4.199999999999999\" style=\"font-family: 'Open Sans', verdana, arial, sans-serif; font-size: 12px; fill: rgb(42, 63, 95); fill-opacity: 1; white-space: pre; opacity: 1;\" transform=\"translate(0,83.77)\">300</text></g></g><g class=\"overaxes-above\"/></g></g><g class=\"polarlayer\"/><g class=\"ternarylayer\"/><g class=\"geolayer\"/><g class=\"funnelarealayer\"/><g class=\"pielayer\"/><g class=\"iciclelayer\"/><g class=\"treemaplayer\"/><g class=\"sunburstlayer\"/><g class=\"glimages\"/><defs id=\"topdefs-8cc57b\"><g class=\"clips\"/></defs><g class=\"layer-above\"><g class=\"imagelayer\"/><g class=\"shapelayer\"/></g><g class=\"infolayer\"><g class=\"g-gtitle\"/><g class=\"g-xtitle\"/><g class=\"g-ytitle\" transform=\"translate(1.6904296875,0)\"><text class=\"ytitle\" transform=\"rotate(-90,12.309375000000003,255)\" x=\"12.309375000000003\" y=\"255\" text-anchor=\"middle\" style=\"font-family: 'Open Sans', verdana, arial, sans-serif; font-size: 14px; fill: rgb(42, 63, 95); opacity: 1; font-weight: normal; white-space: pre;\">Deaths</text></g></g></svg>"
      ],
      "text/html": [
       "<div\n",
       "    class=\"webio-mountpoint\"\n",
       "    data-webio-mountpoint=\"9361594134273509245\"\n",
       ">\n",
       "    <script>\n",
       "    (function(){\n",
       "    // Some integrations (namely, IJulia/Jupyter) use an alternate render pathway than\n",
       "    // just putting the html on the page. If WebIO isn't defined, then it's pretty likely\n",
       "    // that we're in one of those situations and the integration just isn't installed\n",
       "    // correctly.\n",
       "    if (typeof window.WebIO === \"undefined\") {\n",
       "        document\n",
       "            .querySelector('[data-webio-mountpoint=\"9361594134273509245\"]')\n",
       "            .innerHTML = (\n",
       "                '<div style=\"padding: 1em; background-color: #f8d6da; border: 1px solid #f5c6cb; font-weight: bold;\">' +\n",
       "                '<p><strong>WebIO not detected.</strong></p>' +\n",
       "                '<p>Please read ' +\n",
       "                '<a href=\"https://juliagizmos.github.io/WebIO.jl/latest/troubleshooting/not-detected/\" target=\"_blank\">the troubleshooting guide</a> ' +\n",
       "                'for more information on how to resolve this issue.</p>' +\n",
       "                '<p><a href=\"https://juliagizmos.github.io/WebIO.jl/latest/troubleshooting/not-detected/\" target=\"_blank\">https://juliagizmos.github.io/WebIO.jl/latest/troubleshooting/not-detected/</a></p>' +\n",
       "                '</div>'\n",
       "            );\n",
       "        return;\n",
       "    }\n",
       "    WebIO.mount(\n",
       "        document.querySelector('[data-webio-mountpoint=\"9361594134273509245\"]'),\n",
       "        {\"props\":{},\"nodeType\":\"Scope\",\"type\":\"node\",\"instanceArgs\":{\"imports\":{\"data\":[{\"name\":\"Plotly\",\"type\":\"js\",\"url\":\"\\/assetserver\\/a1ce98aba64ebc875cd706be1c5f477c144bace2-plotly.min.js\"},{\"name\":null,\"type\":\"js\",\"url\":\"\\/assetserver\\/aa2112138e40c2a40506078cf4ea9303756a94b4-plotly_webio.bundle.js\"}],\"type\":\"async_block\"},\"id\":\"4790502960152970433\",\"handlers\":{\"_toImage\":[\"(function (options){return this.Plotly.toImage(this.plotElem,options).then((function (data){return WebIO.setval({\\\"name\\\":\\\"image\\\",\\\"scope\\\":\\\"4790502960152970433\\\",\\\"id\\\":\\\"5\\\",\\\"type\\\":\\\"observable\\\"},data)}))})\"],\"__get_gd_contents\":[\"(function (prop){prop==\\\"data\\\" ? (WebIO.setval({\\\"name\\\":\\\"__gd_contents\\\",\\\"scope\\\":\\\"4790502960152970433\\\",\\\"id\\\":\\\"6\\\",\\\"type\\\":\\\"observable\\\"},this.plotElem.data)) : undefined; return prop==\\\"layout\\\" ? (WebIO.setval({\\\"name\\\":\\\"__gd_contents\\\",\\\"scope\\\":\\\"4790502960152970433\\\",\\\"id\\\":\\\"6\\\",\\\"type\\\":\\\"observable\\\"},this.plotElem.layout)) : undefined})\"],\"_downloadImage\":[\"(function (options){return this.Plotly.downloadImage(this.plotElem,options)})\"],\"_commands\":[\"(function (args){var fn=args.shift(); var elem=this.plotElem; var Plotly=this.Plotly; args.unshift(elem); return Plotly[fn].apply(this,args)})\"]},\"systemjs_options\":null,\"mount_callbacks\":[\"function () {\\n    var handler = ((function (Plotly,PlotlyWebIO){PlotlyWebIO.init(WebIO); var gd=this.dom.querySelector(\\\"#plot-32060410-9192-4a5f-96c6-6c093aa6b16f\\\"); this.plotElem=gd; this.Plotly=Plotly; (window.Blink!==undefined) ? (gd.style.width=\\\"100%\\\", gd.style.height=\\\"100vh\\\", gd.style.marginLeft=\\\"0%\\\", gd.style.marginTop=\\\"0vh\\\") : undefined; window.onresize=(function (){return Plotly.Plots.resize(gd)}); Plotly.newPlot(gd,[{\\\"xaxis\\\":\\\"x\\\",\\\"y\\\":[79,80,51,43,89,19,19,15,33,9,12,156,110,77,56,220,46,47,50,90,62,85,141,38,121,218,50,97,98,75,85,209,127,98,58,151,66,25,91,42,160,209,43,28,41,42,6,57,20,21,31,23,79,24,57,33,20,15,29,9,7,14,17,7,8,10,13,9,7,13,8,19,9,16,44,14,24,12,13,11,14,5,13,11,8,16,3,9,13,8,3,12,42,77,15,40,16,34,30,41,18,5,16,18,2,11,5,9,11,14,7,28,10,5,7,13,7,5,9,3,7,63,35,25,17,6,12,14,9,8,10,12,19,9,4,3,1,22,44,17,11,12,10,14,22,22,50,5,18,20,27,28,31,32,16,28,35,31,9,18,23,11,65,52,34,43,313,27,24,20,36,74,65,45,10,69,29,53,39,33,28,47,27,22,21,21,97,27,15,26,12,47,63,38,31,13,17,15,11,19,4,11,15,8,23,19,13,28,1,7,74,3,2,0,0,16,10,4,4,9,6,9,8,6,5,10,9,5,10,4,31,4,13,11,18,9,19,31,10,16,20,22,9,17,8,8,4,109,12,9,4,10,36,13,23,24,4,128,15,12,16,9,13,8,13,8,6,6,2,88,14,21,13,8,25,15,22,12,8,9,11,2,15,1,6,20,11,9,5,2,11,4,12,5,8,8,44,6,14,9,5,11,13,15,9,12,6,19,19,10,22,29,35,8,1,0,3,0,2,0,21,4,1,0,2,2,2,0,1,2,1,1,7,3,5,1,3,1,3,1,2,2,19,14,26,11,34,62,32,107,150,15,64,31],\\\"type\\\":\\\"histogram\\\",\\\"yaxis\\\":\\\"y\\\",\\\"nbinsx\\\":50,\\\"marker\\\":{\\\"color\\\":\\\"lightcoral\\\"}}],{\\\"template\\\":{\\\"layout\\\":{\\\"coloraxis\\\":{\\\"colorbar\\\":{\\\"ticks\\\":\\\"\\\",\\\"outlinewidth\\\":0}},\\\"xaxis\\\":{\\\"gridcolor\\\":\\\"white\\\",\\\"zerolinewidth\\\":2,\\\"title\\\":{\\\"standoff\\\":15},\\\"ticks\\\":\\\"\\\",\\\"zerolinecolor\\\":\\\"white\\\",\\\"automargin\\\":true,\\\"linecolor\\\":\\\"white\\\"},\\\"hovermode\\\":\\\"closest\\\",\\\"paper_bgcolor\\\":\\\"white\\\",\\\"geo\\\":{\\\"showlakes\\\":true,\\\"showland\\\":true,\\\"landcolor\\\":\\\"#E5ECF6\\\",\\\"bgcolor\\\":\\\"white\\\",\\\"subunitcolor\\\":\\\"white\\\",\\\"lakecolor\\\":\\\"white\\\"},\\\"colorscale\\\":{\\\"sequential\\\":[[0.0,\\\"#0d0887\\\"],[0.1111111111111111,\\\"#46039f\\\"],[0.2222222222222222,\\\"#7201a8\\\"],[0.3333333333333333,\\\"#9c179e\\\"],[0.4444444444444444,\\\"#bd3786\\\"],[0.5555555555555556,\\\"#d8576b\\\"],[0.6666666666666666,\\\"#ed7953\\\"],[0.7777777777777778,\\\"#fb9f3a\\\"],[0.8888888888888888,\\\"#fdca26\\\"],[1.0,\\\"#f0f921\\\"]],\\\"diverging\\\":[[0,\\\"#8e0152\\\"],[0.1,\\\"#c51b7d\\\"],[0.2,\\\"#de77ae\\\"],[0.3,\\\"#f1b6da\\\"],[0.4,\\\"#fde0ef\\\"],[0.5,\\\"#f7f7f7\\\"],[0.6,\\\"#e6f5d0\\\"],[0.7,\\\"#b8e186\\\"],[0.8,\\\"#7fbc41\\\"],[0.9,\\\"#4d9221\\\"],[1,\\\"#276419\\\"]],\\\"sequentialminus\\\":[[0.0,\\\"#0d0887\\\"],[0.1111111111111111,\\\"#46039f\\\"],[0.2222222222222222,\\\"#7201a8\\\"],[0.3333333333333333,\\\"#9c179e\\\"],[0.4444444444444444,\\\"#bd3786\\\"],[0.5555555555555556,\\\"#d8576b\\\"],[0.6666666666666666,\\\"#ed7953\\\"],[0.7777777777777778,\\\"#fb9f3a\\\"],[0.8888888888888888,\\\"#fdca26\\\"],[1.0,\\\"#f0f921\\\"]]},\\\"yaxis\\\":{\\\"gridcolor\\\":\\\"white\\\",\\\"zerolinewidth\\\":2,\\\"title\\\":{\\\"standoff\\\":15},\\\"ticks\\\":\\\"\\\",\\\"zerolinecolor\\\":\\\"white\\\",\\\"automargin\\\":true,\\\"linecolor\\\":\\\"white\\\"},\\\"shapedefaults\\\":{\\\"line\\\":{\\\"color\\\":\\\"#2a3f5f\\\"}},\\\"hoverlabel\\\":{\\\"align\\\":\\\"left\\\"},\\\"mapbox\\\":{\\\"style\\\":\\\"light\\\"},\\\"polar\\\":{\\\"angularaxis\\\":{\\\"gridcolor\\\":\\\"white\\\",\\\"ticks\\\":\\\"\\\",\\\"linecolor\\\":\\\"white\\\"},\\\"bgcolor\\\":\\\"#E5ECF6\\\",\\\"radialaxis\\\":{\\\"gridcolor\\\":\\\"white\\\",\\\"ticks\\\":\\\"\\\",\\\"linecolor\\\":\\\"white\\\"}},\\\"autotypenumbers\\\":\\\"strict\\\",\\\"font\\\":{\\\"color\\\":\\\"#2a3f5f\\\"},\\\"ternary\\\":{\\\"baxis\\\":{\\\"gridcolor\\\":\\\"white\\\",\\\"ticks\\\":\\\"\\\",\\\"linecolor\\\":\\\"white\\\"},\\\"bgcolor\\\":\\\"#E5ECF6\\\",\\\"caxis\\\":{\\\"gridcolor\\\":\\\"white\\\",\\\"ticks\\\":\\\"\\\",\\\"linecolor\\\":\\\"white\\\"},\\\"aaxis\\\":{\\\"gridcolor\\\":\\\"white\\\",\\\"ticks\\\":\\\"\\\",\\\"linecolor\\\":\\\"white\\\"}},\\\"annotationdefaults\\\":{\\\"arrowhead\\\":0,\\\"arrowwidth\\\":1,\\\"arrowcolor\\\":\\\"#2a3f5f\\\"},\\\"plot_bgcolor\\\":\\\"#E5ECF6\\\",\\\"title\\\":{\\\"x\\\":0.05},\\\"scene\\\":{\\\"xaxis\\\":{\\\"gridcolor\\\":\\\"white\\\",\\\"gridwidth\\\":2,\\\"backgroundcolor\\\":\\\"#E5ECF6\\\",\\\"ticks\\\":\\\"\\\",\\\"showbackground\\\":true,\\\"zerolinecolor\\\":\\\"white\\\",\\\"linecolor\\\":\\\"white\\\"},\\\"zaxis\\\":{\\\"gridcolor\\\":\\\"white\\\",\\\"gridwidth\\\":2,\\\"backgroundcolor\\\":\\\"#E5ECF6\\\",\\\"ticks\\\":\\\"\\\",\\\"showbackground\\\":true,\\\"zerolinecolor\\\":\\\"white\\\",\\\"linecolor\\\":\\\"white\\\"},\\\"yaxis\\\":{\\\"gridcolor\\\":\\\"white\\\",\\\"gridwidth\\\":2,\\\"backgroundcolor\\\":\\\"#E5ECF6\\\",\\\"ticks\\\":\\\"\\\",\\\"showbackground\\\":true,\\\"zerolinecolor\\\":\\\"white\\\",\\\"linecolor\\\":\\\"white\\\"}},\\\"colorway\\\":[\\\"#636efa\\\",\\\"#EF553B\\\",\\\"#00cc96\\\",\\\"#ab63fa\\\",\\\"#FFA15A\\\",\\\"#19d3f3\\\",\\\"#FF6692\\\",\\\"#B6E880\\\",\\\"#FF97FF\\\",\\\"#FECB52\\\"]},\\\"data\\\":{\\\"barpolar\\\":[{\\\"type\\\":\\\"barpolar\\\",\\\"marker\\\":{\\\"line\\\":{\\\"color\\\":\\\"#E5ECF6\\\",\\\"width\\\":0.5}}}],\\\"carpet\\\":[{\\\"aaxis\\\":{\\\"gridcolor\\\":\\\"white\\\",\\\"endlinecolor\\\":\\\"#2a3f5f\\\",\\\"minorgridcolor\\\":\\\"white\\\",\\\"startlinecolor\\\":\\\"#2a3f5f\\\",\\\"linecolor\\\":\\\"white\\\"},\\\"type\\\":\\\"carpet\\\",\\\"baxis\\\":{\\\"gridcolor\\\":\\\"white\\\",\\\"endlinecolor\\\":\\\"#2a3f5f\\\",\\\"minorgridcolor\\\":\\\"white\\\",\\\"startlinecolor\\\":\\\"#2a3f5f\\\",\\\"linecolor\\\":\\\"white\\\"}}],\\\"scatterpolar\\\":[{\\\"type\\\":\\\"scatterpolar\\\",\\\"marker\\\":{\\\"colorbar\\\":{\\\"ticks\\\":\\\"\\\",\\\"outlinewidth\\\":0}}}],\\\"parcoords\\\":[{\\\"line\\\":{\\\"colorbar\\\":{\\\"ticks\\\":\\\"\\\",\\\"outlinewidth\\\":0}},\\\"type\\\":\\\"parcoords\\\"}],\\\"scatter\\\":[{\\\"type\\\":\\\"scatter\\\",\\\"marker\\\":{\\\"colorbar\\\":{\\\"ticks\\\":\\\"\\\",\\\"outlinewidth\\\":0}}}],\\\"histogram2dcontour\\\":[{\\\"colorbar\\\":{\\\"ticks\\\":\\\"\\\",\\\"outlinewidth\\\":0},\\\"type\\\":\\\"histogram2dcontour\\\",\\\"colorscale\\\":[[0.0,\\\"#0d0887\\\"],[0.1111111111111111,\\\"#46039f\\\"],[0.2222222222222222,\\\"#7201a8\\\"],[0.3333333333333333,\\\"#9c179e\\\"],[0.4444444444444444,\\\"#bd3786\\\"],[0.5555555555555556,\\\"#d8576b\\\"],[0.6666666666666666,\\\"#ed7953\\\"],[0.7777777777777778,\\\"#fb9f3a\\\"],[0.8888888888888888,\\\"#fdca26\\\"],[1.0,\\\"#f0f921\\\"]]}],\\\"contour\\\":[{\\\"colorbar\\\":{\\\"ticks\\\":\\\"\\\",\\\"outlinewidth\\\":0},\\\"type\\\":\\\"contour\\\",\\\"colorscale\\\":[[0.0,\\\"#0d0887\\\"],[0.1111111111111111,\\\"#46039f\\\"],[0.2222222222222222,\\\"#7201a8\\\"],[0.3333333333333333,\\\"#9c179e\\\"],[0.4444444444444444,\\\"#bd3786\\\"],[0.5555555555555556,\\\"#d8576b\\\"],[0.6666666666666666,\\\"#ed7953\\\"],[0.7777777777777778,\\\"#fb9f3a\\\"],[0.8888888888888888,\\\"#fdca26\\\"],[1.0,\\\"#f0f921\\\"]]}],\\\"scattercarpet\\\":[{\\\"type\\\":\\\"scattercarpet\\\",\\\"marker\\\":{\\\"colorbar\\\":{\\\"ticks\\\":\\\"\\\",\\\"outlinewidth\\\":0}}}],\\\"mesh3d\\\":[{\\\"colorbar\\\":{\\\"ticks\\\":\\\"\\\",\\\"outlinewidth\\\":0},\\\"type\\\":\\\"mesh3d\\\"}],\\\"surface\\\":[{\\\"colorbar\\\":{\\\"ticks\\\":\\\"\\\",\\\"outlinewidth\\\":0},\\\"type\\\":\\\"surface\\\",\\\"colorscale\\\":[[0.0,\\\"#0d0887\\\"],[0.1111111111111111,\\\"#46039f\\\"],[0.2222222222222222,\\\"#7201a8\\\"],[0.3333333333333333,\\\"#9c179e\\\"],[0.4444444444444444,\\\"#bd3786\\\"],[0.5555555555555556,\\\"#d8576b\\\"],[0.6666666666666666,\\\"#ed7953\\\"],[0.7777777777777778,\\\"#fb9f3a\\\"],[0.8888888888888888,\\\"#fdca26\\\"],[1.0,\\\"#f0f921\\\"]]}],\\\"scattermapbox\\\":[{\\\"type\\\":\\\"scattermapbox\\\",\\\"marker\\\":{\\\"colorbar\\\":{\\\"ticks\\\":\\\"\\\",\\\"outlinewidth\\\":0}}}],\\\"scattergeo\\\":[{\\\"type\\\":\\\"scattergeo\\\",\\\"marker\\\":{\\\"colorbar\\\":{\\\"ticks\\\":\\\"\\\",\\\"outlinewidth\\\":0}}}],\\\"histogram\\\":[{\\\"type\\\":\\\"histogram\\\",\\\"marker\\\":{\\\"colorbar\\\":{\\\"ticks\\\":\\\"\\\",\\\"outlinewidth\\\":0}}}],\\\"pie\\\":[{\\\"type\\\":\\\"pie\\\",\\\"automargin\\\":true}],\\\"choropleth\\\":[{\\\"colorbar\\\":{\\\"ticks\\\":\\\"\\\",\\\"outlinewidth\\\":0},\\\"type\\\":\\\"choropleth\\\"}],\\\"heatmapgl\\\":[{\\\"colorbar\\\":{\\\"ticks\\\":\\\"\\\",\\\"outlinewidth\\\":0},\\\"type\\\":\\\"heatmapgl\\\",\\\"colorscale\\\":[[0.0,\\\"#0d0887\\\"],[0.1111111111111111,\\\"#46039f\\\"],[0.2222222222222222,\\\"#7201a8\\\"],[0.3333333333333333,\\\"#9c179e\\\"],[0.4444444444444444,\\\"#bd3786\\\"],[0.5555555555555556,\\\"#d8576b\\\"],[0.6666666666666666,\\\"#ed7953\\\"],[0.7777777777777778,\\\"#fb9f3a\\\"],[0.8888888888888888,\\\"#fdca26\\\"],[1.0,\\\"#f0f921\\\"]]}],\\\"bar\\\":[{\\\"type\\\":\\\"bar\\\",\\\"error_y\\\":{\\\"color\\\":\\\"#2a3f5f\\\"},\\\"error_x\\\":{\\\"color\\\":\\\"#2a3f5f\\\"},\\\"marker\\\":{\\\"line\\\":{\\\"color\\\":\\\"#E5ECF6\\\",\\\"width\\\":0.5}}}],\\\"heatmap\\\":[{\\\"colorbar\\\":{\\\"ticks\\\":\\\"\\\",\\\"outlinewidth\\\":0},\\\"type\\\":\\\"heatmap\\\",\\\"colorscale\\\":[[0.0,\\\"#0d0887\\\"],[0.1111111111111111,\\\"#46039f\\\"],[0.2222222222222222,\\\"#7201a8\\\"],[0.3333333333333333,\\\"#9c179e\\\"],[0.4444444444444444,\\\"#bd3786\\\"],[0.5555555555555556,\\\"#d8576b\\\"],[0.6666666666666666,\\\"#ed7953\\\"],[0.7777777777777778,\\\"#fb9f3a\\\"],[0.8888888888888888,\\\"#fdca26\\\"],[1.0,\\\"#f0f921\\\"]]}],\\\"contourcarpet\\\":[{\\\"colorbar\\\":{\\\"ticks\\\":\\\"\\\",\\\"outlinewidth\\\":0},\\\"type\\\":\\\"contourcarpet\\\"}],\\\"table\\\":[{\\\"type\\\":\\\"table\\\",\\\"header\\\":{\\\"line\\\":{\\\"color\\\":\\\"white\\\"},\\\"fill\\\":{\\\"color\\\":\\\"#C8D4E3\\\"}},\\\"cells\\\":{\\\"line\\\":{\\\"color\\\":\\\"white\\\"},\\\"fill\\\":{\\\"color\\\":\\\"#EBF0F8\\\"}}}],\\\"scatter3d\\\":[{\\\"line\\\":{\\\"colorbar\\\":{\\\"ticks\\\":\\\"\\\",\\\"outlinewidth\\\":0}},\\\"type\\\":\\\"scatter3d\\\",\\\"marker\\\":{\\\"colorbar\\\":{\\\"ticks\\\":\\\"\\\",\\\"outlinewidth\\\":0}}}],\\\"scattergl\\\":[{\\\"type\\\":\\\"scattergl\\\",\\\"marker\\\":{\\\"colorbar\\\":{\\\"ticks\\\":\\\"\\\",\\\"outlinewidth\\\":0}}}],\\\"histogram2d\\\":[{\\\"colorbar\\\":{\\\"ticks\\\":\\\"\\\",\\\"outlinewidth\\\":0},\\\"type\\\":\\\"histogram2d\\\",\\\"colorscale\\\":[[0.0,\\\"#0d0887\\\"],[0.1111111111111111,\\\"#46039f\\\"],[0.2222222222222222,\\\"#7201a8\\\"],[0.3333333333333333,\\\"#9c179e\\\"],[0.4444444444444444,\\\"#bd3786\\\"],[0.5555555555555556,\\\"#d8576b\\\"],[0.6666666666666666,\\\"#ed7953\\\"],[0.7777777777777778,\\\"#fb9f3a\\\"],[0.8888888888888888,\\\"#fdca26\\\"],[1.0,\\\"#f0f921\\\"]]}],\\\"scatterternary\\\":[{\\\"type\\\":\\\"scatterternary\\\",\\\"marker\\\":{\\\"colorbar\\\":{\\\"ticks\\\":\\\"\\\",\\\"outlinewidth\\\":0}}}],\\\"scatterpolargl\\\":[{\\\"type\\\":\\\"scatterpolargl\\\",\\\"marker\\\":{\\\"colorbar\\\":{\\\"ticks\\\":\\\"\\\",\\\"outlinewidth\\\":0}}}]}},\\\"legend\\\":{\\\"tracegroupgap\\\":0},\\\"margin\\\":{\\\"l\\\":50,\\\"b\\\":50,\\\"r\\\":50,\\\"t\\\":60},\\\"yaxis\\\":{\\\"title\\\":{\\\"text\\\":\\\"Deaths\\\"}}},{\\\"showLink\\\":false,\\\"editable\\\":false,\\\"responsive\\\":true,\\\"staticPlot\\\":false,\\\"scrollZoom\\\":true}); gd.on(\\\"plotly_hover\\\",(function (data){var filtered_data=WebIO.PlotlyCommands.filterEventData(gd,data,\\\"hover\\\"); return !(filtered_data.isnil) ? (WebIO.setval({\\\"name\\\":\\\"hover\\\",\\\"scope\\\":\\\"4790502960152970433\\\",\\\"id\\\":\\\"1\\\",\\\"type\\\":\\\"observable\\\"},filtered_data.out)) : undefined})); gd.on(\\\"plotly_unhover\\\",(function (){return WebIO.setval({\\\"name\\\":\\\"hover\\\",\\\"scope\\\":\\\"4790502960152970433\\\",\\\"id\\\":\\\"1\\\",\\\"type\\\":\\\"observable\\\"},{})})); gd.on(\\\"plotly_selected\\\",(function (data){var filtered_data=WebIO.PlotlyCommands.filterEventData(gd,data,\\\"selected\\\"); return !(filtered_data.isnil) ? (WebIO.setval({\\\"name\\\":\\\"selected\\\",\\\"scope\\\":\\\"4790502960152970433\\\",\\\"id\\\":\\\"2\\\",\\\"type\\\":\\\"observable\\\"},filtered_data.out)) : undefined})); gd.on(\\\"plotly_deselect\\\",(function (){return WebIO.setval({\\\"name\\\":\\\"selected\\\",\\\"scope\\\":\\\"4790502960152970433\\\",\\\"id\\\":\\\"2\\\",\\\"type\\\":\\\"observable\\\"},{})})); gd.on(\\\"plotly_relayout\\\",(function (data){var filtered_data=WebIO.PlotlyCommands.filterEventData(gd,data,\\\"relayout\\\"); return !(filtered_data.isnil) ? (WebIO.setval({\\\"name\\\":\\\"relayout\\\",\\\"scope\\\":\\\"4790502960152970433\\\",\\\"id\\\":\\\"4\\\",\\\"type\\\":\\\"observable\\\"},filtered_data.out)) : undefined})); return gd.on(\\\"plotly_click\\\",(function (data){var filtered_data=WebIO.PlotlyCommands.filterEventData(gd,data,\\\"click\\\"); return !(filtered_data.isnil) ? (WebIO.setval({\\\"name\\\":\\\"click\\\",\\\"scope\\\":\\\"4790502960152970433\\\",\\\"id\\\":\\\"3\\\",\\\"type\\\":\\\"observable\\\"},filtered_data.out)) : undefined}))}));\\n    (WebIO.importBlock({\\\"data\\\":[{\\\"name\\\":\\\"Plotly\\\",\\\"type\\\":\\\"js\\\",\\\"url\\\":\\\"\\/assetserver\\/a1ce98aba64ebc875cd706be1c5f477c144bace2-plotly.min.js\\\"},{\\\"name\\\":null,\\\"type\\\":\\\"js\\\",\\\"url\\\":\\\"\\/assetserver\\/aa2112138e40c2a40506078cf4ea9303756a94b4-plotly_webio.bundle.js\\\"}],\\\"type\\\":\\\"async_block\\\"})).then((imports) => handler.apply(this, imports));\\n}\\n\"],\"observables\":{\"_toImage\":{\"sync\":false,\"id\":\"8\",\"value\":{}},\"hover\":{\"sync\":false,\"id\":\"1\",\"value\":{}},\"selected\":{\"sync\":false,\"id\":\"2\",\"value\":{}},\"__gd_contents\":{\"sync\":false,\"id\":\"6\",\"value\":{}},\"click\":{\"sync\":false,\"id\":\"3\",\"value\":{}},\"image\":{\"sync\":true,\"id\":\"5\",\"value\":\"\"},\"__get_gd_contents\":{\"sync\":false,\"id\":\"10\",\"value\":\"\"},\"_downloadImage\":{\"sync\":false,\"id\":\"9\",\"value\":{}},\"relayout\":{\"sync\":false,\"id\":\"4\",\"value\":{}},\"_commands\":{\"sync\":false,\"id\":\"7\",\"value\":[]}}},\"children\":[{\"props\":{\"id\":\"plot-32060410-9192-4a5f-96c6-6c093aa6b16f\"},\"nodeType\":\"DOM\",\"type\":\"node\",\"instanceArgs\":{\"namespace\":\"html\",\"tag\":\"div\"},\"children\":[]}]},\n",
       "        window,\n",
       "    );\n",
       "    })()\n",
       "    </script>\n",
       "</div>\n"
      ],
      "text/plain": [
       "data: [\n",
       "  \"histogram with fields marker, nbinsx, type, xaxis, y, and yaxis\"\n",
       "]\n",
       "\n",
       "layout: \"layout with fields legend, margin, template, and yaxis\"\n",
       "\n"
      ]
     },
     "metadata": {},
     "output_type": "display_data"
    }
   ],
   "source": [
    "hist = plot(melanoma, :Deaths, kind=\"histogram\", nbinsx=50, marker_color=:lightcoral)"
   ]
  },
  {
   "cell_type": "markdown",
   "metadata": {},
   "source": [
    "Create a scatter plot between `UVB` and `Deaths`. Colour differently each country. Label the axis appropriately."
   ]
  },
  {
   "cell_type": "code",
   "execution_count": 5,
   "metadata": {},
   "outputs": [
    {
     "data": {
      "application/vnd.plotly.v1+json": {
       "config": {
        "editable": false,
        "responsive": true,
        "scrollZoom": true,
        "showLink": false,
        "staticPlot": false
       },
       "data": [
        {
         "legendgroup": "Belgium",
         "marker": {
          "color": "#636efa"
         },
         "mode": "markers",
         "name": "Belgium",
         "showlegend": true,
         "type": "scatter",
         "x": [
          -2.9057,
          -3.2075,
          -2.8038,
          -3.0069,
          -3.0069,
          -3.4175,
          -2.6671,
          -2.6671,
          -3.1222,
          -2.4852,
          -2.5293
         ],
         "xaxis": "x",
         "y": [
          79,
          80,
          51,
          43,
          89,
          19,
          19,
          15,
          33,
          9,
          12
         ],
         "yaxis": "y"
        },
        {
         "legendgroup": "W.Germany",
         "marker": {
          "color": "#EF553B"
         },
         "mode": "markers",
         "name": "W.Germany",
         "showlegend": true,
         "type": "scatter",
         "x": [
          -1.1375,
          -1.3977,
          -0.4386,
          -1.0249,
          -0.5033,
          -1.4609,
          -1.8956,
          -2.5541,
          -1.9671,
          -2.3444,
          -0.6578,
          -3.8836,
          -4.4592,
          -4.8576,
          -2.6027,
          -3.5346,
          -4.0251,
          -3.9857,
          -4.4592,
          -4.1117,
          -3.5346,
          -3.2736,
          -3.8126,
          -3.6015,
          -3.5991,
          -2.9414,
          -2.2504,
          -2.3269,
          -2.0662,
          -5.1393
         ],
         "xaxis": "x",
         "y": [
          156,
          110,
          77,
          56,
          220,
          46,
          47,
          50,
          90,
          62,
          85,
          141,
          38,
          121,
          218,
          50,
          97,
          98,
          75,
          85,
          209,
          127,
          98,
          58,
          151,
          66,
          25,
          91,
          42,
          160
         ],
         "yaxis": "y"
        },
        {
         "legendgroup": "Denmark",
         "marker": {
          "color": "#00cc96"
         },
         "mode": "markers",
         "name": "Denmark",
         "showlegend": true,
         "type": "scatter",
         "x": [
          -5.7887,
          -5.8989,
          -5.245,
          -5.1866,
          -5.217,
          -5.0981,
          -5.4778,
          -5.217,
          -5.5612,
          -5.8439,
          -6.0623,
          -5.9509,
          -6.114,
          -6.1151
         ],
         "xaxis": "x",
         "y": [
          209,
          43,
          28,
          41,
          42,
          6,
          57,
          20,
          21,
          31,
          23,
          79,
          24,
          57
         ],
         "yaxis": "y"
        },
        {
         "legendgroup": "France",
         "marker": {
          "color": "#ab63fa"
         },
         "mode": "markers",
         "name": "France",
         "showlegend": true,
         "type": "scatter",
         "x": [
          -0.9368,
          -0.0884,
          2.7823,
          3.2047,
          3.7856,
          3.5087,
          5.3566,
          1.9737,
          2.5436,
          3.0821,
          2.1911,
          -0.6221,
          -0.4548,
          -1.0124,
          0.9771,
          1.366,
          1.6602,
          0.2517,
          0.1042,
          -0.5807,
          -0.375,
          -0.06,
          1.452,
          -0.453,
          1.0764,
          0.3122,
          0.1511,
          -0.1392,
          -1.7997,
          -0.1498,
          -1.2866,
          -0.7599,
          0.556,
          1.5737,
          2.3619,
          0.2315,
          -1.6795,
          -2.1093,
          -0.7146,
          -0.6373,
          -0.6373,
          -0.4819,
          -0.5598,
          -0.7916,
          -0.7146,
          -0.9447,
          4.9606,
          6.4726,
          6.8973,
          3.8485,
          7.4113,
          2.3668,
          1.7567,
          2.0165,
          -1.1375,
          -1.2866,
          -1.4346,
          -0.836,
          4.9606,
          4.1319,
          4.6719,
          4.0649,
          3.2342,
          5.4555,
          4.2907,
          3.693,
          -2.6671,
          -2.5983,
          0.546,
          0.8774,
          -0.375,
          0.2517,
          1.3832,
          -1.7997,
          -1.9671,
          -2.0155,
          2.1037,
          2.1911,
          1.3294,
          1.4143,
          5.949,
          5.5376,
          6.7371,
          6.5751,
          7.6517,
          5.5807,
          2.0421,
          4.9771,
          5.077,
          3.0487,
          2.3947,
          2.2178,
          2.9576,
          2.4166
         ],
         "xaxis": "x",
         "y": [
          33,
          20,
          15,
          29,
          9,
          7,
          14,
          17,
          7,
          8,
          10,
          13,
          9,
          7,
          13,
          8,
          19,
          9,
          16,
          44,
          14,
          24,
          12,
          13,
          11,
          14,
          5,
          13,
          11,
          8,
          16,
          3,
          9,
          13,
          8,
          3,
          12,
          42,
          77,
          15,
          40,
          16,
          34,
          30,
          41,
          18,
          5,
          16,
          18,
          2,
          11,
          5,
          9,
          11,
          14,
          7,
          28,
          10,
          5,
          7,
          13,
          7,
          5,
          9,
          3,
          7,
          63,
          35,
          25,
          17,
          6,
          12,
          14,
          9,
          8,
          10,
          12,
          19,
          9,
          4,
          3,
          1,
          22,
          44,
          17,
          11,
          12,
          10,
          14,
          22,
          22,
          50,
          5,
          18
         ],
         "yaxis": "y"
        },
        {
         "legendgroup": "UK",
         "marker": {
          "color": "#FFA15A"
         },
         "mode": "markers",
         "name": "UK",
         "showlegend": true,
         "type": "scatter",
         "x": [
          -4.1278,
          -4.1117,
          -3.5871,
          -5.349,
          -4.5569,
          -4.5581,
          -4.1686,
          -4.5581,
          -5.8745,
          -5.7101,
          -5.7463,
          -5.7101,
          -6.0027,
          -4.8949,
          -4.8358,
          -4.7168,
          -4.845,
          -3.4478,
          -3.9394,
          -3.5556,
          -3.7487,
          -2.494,
          -3.3243,
          -2.9639,
          -3.7487,
          -2.1284,
          -2.8121,
          -3.7487,
          -3.0985,
          -2.2713,
          -3.3399,
          -2.3696,
          -2.5787,
          -2.4239,
          -3.7487,
          -2.9639,
          -3.2739,
          -4.5987,
          -3.9394,
          -4.5569,
          -4.7772,
          -4.4179,
          -5.2817,
          -5.3949,
          -5.2609,
          -5.4875,
          -4.5581,
          -3.6662,
          -3.4712,
          -4.1992,
          -3.513,
          -4.4784,
          -3.3399,
          -3.5779,
          -7.5623,
          -7.1104,
          -6.7138,
          -6.5611,
          -6.3218,
          -6.456,
          -6.8106,
          -6.4214,
          -6.0713,
          -8.1163,
          -8.9002,
          -7.7158,
          -5.8011,
          -5.8943,
          -5.451,
          -5.6191
         ],
         "xaxis": "x",
         "y": [
          20,
          27,
          28,
          31,
          32,
          16,
          28,
          35,
          31,
          9,
          18,
          23,
          11,
          65,
          52,
          34,
          43,
          313,
          27,
          24,
          20,
          36,
          74,
          65,
          45,
          10,
          69,
          29,
          53,
          39,
          33,
          28,
          47,
          27,
          22,
          21,
          21,
          97,
          27,
          15,
          26,
          12,
          47,
          63,
          38,
          31,
          13,
          17,
          15,
          11,
          19,
          4,
          11,
          15,
          8,
          23,
          19,
          13,
          28,
          1,
          7,
          74,
          3,
          2,
          0,
          0,
          16,
          10,
          4,
          4
         ],
         "yaxis": "y"
        },
        {
         "legendgroup": "Italy",
         "marker": {
          "color": "#19d3f3"
         },
         "mode": "markers",
         "name": "Italy",
         "showlegend": true,
         "type": "scatter",
         "x": [
          6.1548,
          5.8535,
          6.0541,
          6.2558,
          9.1951,
          9.1951,
          10.38,
          10.832,
          11.54,
          8.0301,
          8.0301,
          8.2438,
          8.2438,
          8.4584,
          2.1828,
          3.5676,
          3.7546,
          3.1433,
          3.3254,
          3.0526,
          3.4169,
          3.6007,
          1.9864,
          2.0737,
          2.6858,
          2.0737,
          5.3026,
          5.3026,
          7.5343,
          7.961,
          7.8539,
          6.7371,
          4.4435,
          4.3472,
          4.7941,
          1.5821,
          1.4973,
          1.2448,
          1.8379,
          1.6671,
          1.7524,
          2.0962,
          3.3818,
          3.2893,
          3.8784,
          4.3196,
          4.6044,
          5.6539,
          8.1386,
          8.0307,
          2.7823,
          2.6035,
          1.8379,
          3.4169,
          3.0526,
          2.9622,
          8.5727,
          8.7536,
          9.4174,
          9.3061,
          9.5289,
          9.5634,
          10.203,
          10.38,
          9.7085,
          13.104,
          12.983,
          11.312,
          12.769,
          12.652,
          12.535,
          12.652,
          13.359,
          13.122,
          4.7941,
          4.9901,
          5.4666,
          5.5673,
          5.2862,
          5.0885,
          5.8711,
          6.0751,
          6.6938,
          1.2744,
          1.614,
          4.6307,
          5.1093,
          2.2492,
          1.8379,
          2.4836,
          1.8994,
          2.3947,
          2.5727,
          2.6622,
          2.7823
         ],
         "xaxis": "x",
         "y": [
          9,
          6,
          9,
          8,
          6,
          5,
          10,
          9,
          5,
          10,
          4,
          31,
          4,
          13,
          11,
          18,
          9,
          19,
          31,
          10,
          16,
          20,
          22,
          9,
          17,
          8,
          8,
          4,
          109,
          12,
          9,
          4,
          10,
          36,
          13,
          23,
          24,
          4,
          128,
          15,
          12,
          16,
          9,
          13,
          8,
          13,
          8,
          6,
          6,
          2,
          88,
          14,
          21,
          13,
          8,
          25,
          15,
          22,
          12,
          8,
          9,
          11,
          2,
          15,
          1,
          6,
          20,
          11,
          9,
          5,
          2,
          11,
          4,
          12,
          5,
          8,
          8,
          44,
          6,
          14,
          9,
          5,
          11,
          13,
          15,
          9,
          12,
          6,
          19,
          19,
          10,
          22,
          29,
          35,
          8
         ],
         "yaxis": "y"
        },
        {
         "legendgroup": "Ireland",
         "marker": {
          "color": "#FF6692"
         },
         "mode": "markers",
         "name": "Ireland",
         "showlegend": true,
         "type": "scatter",
         "x": [
          -5.322,
          -5.9527,
          -5.6017,
          -5.4906,
          -5.9527,
          -4.6169,
          -4.7764,
          -4.7168,
          -4.5569,
          -4.9944,
          -5.2993,
          -5.6963,
          -5.2423,
          -5.1101,
          -5.185,
          -3.8836,
          -4.5968,
          -4.7772,
          -4.1911,
          -4.4179,
          -4.5987,
          -4.5569,
          -4.314,
          -5.751,
          -5.9293,
          -5.8596
         ],
         "xaxis": "x",
         "y": [
          1,
          0,
          3,
          0,
          2,
          0,
          21,
          4,
          1,
          0,
          2,
          2,
          2,
          0,
          1,
          2,
          1,
          1,
          7,
          3,
          5,
          1,
          3,
          1,
          3,
          1
         ],
         "yaxis": "y"
        },
        {
         "legendgroup": "Luxembourg",
         "marker": {
          "color": "#B6E880"
         },
         "mode": "markers",
         "name": "Luxembourg",
         "showlegend": true,
         "type": "scatter",
         "x": [
          -2.3466,
          -2.3678,
          -2.2769
         ],
         "xaxis": "x",
         "y": [
          2,
          2,
          19
         ],
         "yaxis": "y"
        },
        {
         "legendgroup": "Netherlands",
         "marker": {
          "color": "#FF97FF"
         },
         "mode": "markers",
         "name": "Netherlands",
         "showlegend": true,
         "type": "scatter",
         "x": [
          -4.972,
          -4.8547,
          -4.7363,
          -4.1278,
          -3.8761,
          -3.9394,
          -4.2127,
          -4.1911,
          -3.8761,
          -3.6846,
          -3.6436
         ],
         "xaxis": "x",
         "y": [
          14,
          26,
          11,
          34,
          62,
          32,
          107,
          150,
          15,
          64,
          31
         ],
         "yaxis": "y"
        }
       ],
       "frames": [],
       "layout": {
        "legend": {
         "title": {
          "text": "Nation"
         },
         "tracegroupgap": 0
        },
        "margin": {
         "b": 50,
         "l": 50,
         "r": 50,
         "t": 60
        },
        "template": {
         "data": {
          "bar": [
           {
            "error_x": {
             "color": "#2a3f5f"
            },
            "error_y": {
             "color": "#2a3f5f"
            },
            "marker": {
             "line": {
              "color": "#E5ECF6",
              "width": 0.5
             }
            },
            "type": "bar"
           }
          ],
          "barpolar": [
           {
            "marker": {
             "line": {
              "color": "#E5ECF6",
              "width": 0.5
             }
            },
            "type": "barpolar"
           }
          ],
          "carpet": [
           {
            "aaxis": {
             "endlinecolor": "#2a3f5f",
             "gridcolor": "white",
             "linecolor": "white",
             "minorgridcolor": "white",
             "startlinecolor": "#2a3f5f"
            },
            "baxis": {
             "endlinecolor": "#2a3f5f",
             "gridcolor": "white",
             "linecolor": "white",
             "minorgridcolor": "white",
             "startlinecolor": "#2a3f5f"
            },
            "type": "carpet"
           }
          ],
          "choropleth": [
           {
            "colorbar": {
             "outlinewidth": 0,
             "ticks": ""
            },
            "type": "choropleth"
           }
          ],
          "contour": [
           {
            "colorbar": {
             "outlinewidth": 0,
             "ticks": ""
            },
            "colorscale": [
             [
              0,
              "#0d0887"
             ],
             [
              0.1111111111111111,
              "#46039f"
             ],
             [
              0.2222222222222222,
              "#7201a8"
             ],
             [
              0.3333333333333333,
              "#9c179e"
             ],
             [
              0.4444444444444444,
              "#bd3786"
             ],
             [
              0.5555555555555556,
              "#d8576b"
             ],
             [
              0.6666666666666666,
              "#ed7953"
             ],
             [
              0.7777777777777778,
              "#fb9f3a"
             ],
             [
              0.8888888888888888,
              "#fdca26"
             ],
             [
              1,
              "#f0f921"
             ]
            ],
            "type": "contour"
           }
          ],
          "contourcarpet": [
           {
            "colorbar": {
             "outlinewidth": 0,
             "ticks": ""
            },
            "type": "contourcarpet"
           }
          ],
          "heatmap": [
           {
            "colorbar": {
             "outlinewidth": 0,
             "ticks": ""
            },
            "colorscale": [
             [
              0,
              "#0d0887"
             ],
             [
              0.1111111111111111,
              "#46039f"
             ],
             [
              0.2222222222222222,
              "#7201a8"
             ],
             [
              0.3333333333333333,
              "#9c179e"
             ],
             [
              0.4444444444444444,
              "#bd3786"
             ],
             [
              0.5555555555555556,
              "#d8576b"
             ],
             [
              0.6666666666666666,
              "#ed7953"
             ],
             [
              0.7777777777777778,
              "#fb9f3a"
             ],
             [
              0.8888888888888888,
              "#fdca26"
             ],
             [
              1,
              "#f0f921"
             ]
            ],
            "type": "heatmap"
           }
          ],
          "heatmapgl": [
           {
            "colorbar": {
             "outlinewidth": 0,
             "ticks": ""
            },
            "colorscale": [
             [
              0,
              "#0d0887"
             ],
             [
              0.1111111111111111,
              "#46039f"
             ],
             [
              0.2222222222222222,
              "#7201a8"
             ],
             [
              0.3333333333333333,
              "#9c179e"
             ],
             [
              0.4444444444444444,
              "#bd3786"
             ],
             [
              0.5555555555555556,
              "#d8576b"
             ],
             [
              0.6666666666666666,
              "#ed7953"
             ],
             [
              0.7777777777777778,
              "#fb9f3a"
             ],
             [
              0.8888888888888888,
              "#fdca26"
             ],
             [
              1,
              "#f0f921"
             ]
            ],
            "type": "heatmapgl"
           }
          ],
          "histogram": [
           {
            "marker": {
             "colorbar": {
              "outlinewidth": 0,
              "ticks": ""
             }
            },
            "type": "histogram"
           }
          ],
          "histogram2d": [
           {
            "colorbar": {
             "outlinewidth": 0,
             "ticks": ""
            },
            "colorscale": [
             [
              0,
              "#0d0887"
             ],
             [
              0.1111111111111111,
              "#46039f"
             ],
             [
              0.2222222222222222,
              "#7201a8"
             ],
             [
              0.3333333333333333,
              "#9c179e"
             ],
             [
              0.4444444444444444,
              "#bd3786"
             ],
             [
              0.5555555555555556,
              "#d8576b"
             ],
             [
              0.6666666666666666,
              "#ed7953"
             ],
             [
              0.7777777777777778,
              "#fb9f3a"
             ],
             [
              0.8888888888888888,
              "#fdca26"
             ],
             [
              1,
              "#f0f921"
             ]
            ],
            "type": "histogram2d"
           }
          ],
          "histogram2dcontour": [
           {
            "colorbar": {
             "outlinewidth": 0,
             "ticks": ""
            },
            "colorscale": [
             [
              0,
              "#0d0887"
             ],
             [
              0.1111111111111111,
              "#46039f"
             ],
             [
              0.2222222222222222,
              "#7201a8"
             ],
             [
              0.3333333333333333,
              "#9c179e"
             ],
             [
              0.4444444444444444,
              "#bd3786"
             ],
             [
              0.5555555555555556,
              "#d8576b"
             ],
             [
              0.6666666666666666,
              "#ed7953"
             ],
             [
              0.7777777777777778,
              "#fb9f3a"
             ],
             [
              0.8888888888888888,
              "#fdca26"
             ],
             [
              1,
              "#f0f921"
             ]
            ],
            "type": "histogram2dcontour"
           }
          ],
          "mesh3d": [
           {
            "colorbar": {
             "outlinewidth": 0,
             "ticks": ""
            },
            "type": "mesh3d"
           }
          ],
          "parcoords": [
           {
            "line": {
             "colorbar": {
              "outlinewidth": 0,
              "ticks": ""
             }
            },
            "type": "parcoords"
           }
          ],
          "pie": [
           {
            "automargin": true,
            "type": "pie"
           }
          ],
          "scatter": [
           {
            "marker": {
             "colorbar": {
              "outlinewidth": 0,
              "ticks": ""
             }
            },
            "type": "scatter"
           }
          ],
          "scatter3d": [
           {
            "line": {
             "colorbar": {
              "outlinewidth": 0,
              "ticks": ""
             }
            },
            "marker": {
             "colorbar": {
              "outlinewidth": 0,
              "ticks": ""
             }
            },
            "type": "scatter3d"
           }
          ],
          "scattercarpet": [
           {
            "marker": {
             "colorbar": {
              "outlinewidth": 0,
              "ticks": ""
             }
            },
            "type": "scattercarpet"
           }
          ],
          "scattergeo": [
           {
            "marker": {
             "colorbar": {
              "outlinewidth": 0,
              "ticks": ""
             }
            },
            "type": "scattergeo"
           }
          ],
          "scattergl": [
           {
            "marker": {
             "colorbar": {
              "outlinewidth": 0,
              "ticks": ""
             }
            },
            "type": "scattergl"
           }
          ],
          "scattermapbox": [
           {
            "marker": {
             "colorbar": {
              "outlinewidth": 0,
              "ticks": ""
             }
            },
            "type": "scattermapbox"
           }
          ],
          "scatterpolar": [
           {
            "marker": {
             "colorbar": {
              "outlinewidth": 0,
              "ticks": ""
             }
            },
            "type": "scatterpolar"
           }
          ],
          "scatterpolargl": [
           {
            "marker": {
             "colorbar": {
              "outlinewidth": 0,
              "ticks": ""
             }
            },
            "type": "scatterpolargl"
           }
          ],
          "scatterternary": [
           {
            "marker": {
             "colorbar": {
              "outlinewidth": 0,
              "ticks": ""
             }
            },
            "type": "scatterternary"
           }
          ],
          "surface": [
           {
            "colorbar": {
             "outlinewidth": 0,
             "ticks": ""
            },
            "colorscale": [
             [
              0,
              "#0d0887"
             ],
             [
              0.1111111111111111,
              "#46039f"
             ],
             [
              0.2222222222222222,
              "#7201a8"
             ],
             [
              0.3333333333333333,
              "#9c179e"
             ],
             [
              0.4444444444444444,
              "#bd3786"
             ],
             [
              0.5555555555555556,
              "#d8576b"
             ],
             [
              0.6666666666666666,
              "#ed7953"
             ],
             [
              0.7777777777777778,
              "#fb9f3a"
             ],
             [
              0.8888888888888888,
              "#fdca26"
             ],
             [
              1,
              "#f0f921"
             ]
            ],
            "type": "surface"
           }
          ],
          "table": [
           {
            "cells": {
             "fill": {
              "color": "#EBF0F8"
             },
             "line": {
              "color": "white"
             }
            },
            "header": {
             "fill": {
              "color": "#C8D4E3"
             },
             "line": {
              "color": "white"
             }
            },
            "type": "table"
           }
          ]
         },
         "layout": {
          "annotationdefaults": {
           "arrowcolor": "#2a3f5f",
           "arrowhead": 0,
           "arrowwidth": 1
          },
          "autotypenumbers": "strict",
          "coloraxis": {
           "colorbar": {
            "outlinewidth": 0,
            "ticks": ""
           }
          },
          "colorscale": {
           "diverging": [
            [
             0,
             "#8e0152"
            ],
            [
             0.1,
             "#c51b7d"
            ],
            [
             0.2,
             "#de77ae"
            ],
            [
             0.3,
             "#f1b6da"
            ],
            [
             0.4,
             "#fde0ef"
            ],
            [
             0.5,
             "#f7f7f7"
            ],
            [
             0.6,
             "#e6f5d0"
            ],
            [
             0.7,
             "#b8e186"
            ],
            [
             0.8,
             "#7fbc41"
            ],
            [
             0.9,
             "#4d9221"
            ],
            [
             1,
             "#276419"
            ]
           ],
           "sequential": [
            [
             0,
             "#0d0887"
            ],
            [
             0.1111111111111111,
             "#46039f"
            ],
            [
             0.2222222222222222,
             "#7201a8"
            ],
            [
             0.3333333333333333,
             "#9c179e"
            ],
            [
             0.4444444444444444,
             "#bd3786"
            ],
            [
             0.5555555555555556,
             "#d8576b"
            ],
            [
             0.6666666666666666,
             "#ed7953"
            ],
            [
             0.7777777777777778,
             "#fb9f3a"
            ],
            [
             0.8888888888888888,
             "#fdca26"
            ],
            [
             1,
             "#f0f921"
            ]
           ],
           "sequentialminus": [
            [
             0,
             "#0d0887"
            ],
            [
             0.1111111111111111,
             "#46039f"
            ],
            [
             0.2222222222222222,
             "#7201a8"
            ],
            [
             0.3333333333333333,
             "#9c179e"
            ],
            [
             0.4444444444444444,
             "#bd3786"
            ],
            [
             0.5555555555555556,
             "#d8576b"
            ],
            [
             0.6666666666666666,
             "#ed7953"
            ],
            [
             0.7777777777777778,
             "#fb9f3a"
            ],
            [
             0.8888888888888888,
             "#fdca26"
            ],
            [
             1,
             "#f0f921"
            ]
           ]
          },
          "colorway": [
           "#636efa",
           "#EF553B",
           "#00cc96",
           "#ab63fa",
           "#FFA15A",
           "#19d3f3",
           "#FF6692",
           "#B6E880",
           "#FF97FF",
           "#FECB52"
          ],
          "font": {
           "color": "#2a3f5f"
          },
          "geo": {
           "bgcolor": "white",
           "lakecolor": "white",
           "landcolor": "#E5ECF6",
           "showlakes": true,
           "showland": true,
           "subunitcolor": "white"
          },
          "hoverlabel": {
           "align": "left"
          },
          "hovermode": "closest",
          "mapbox": {
           "style": "light"
          },
          "paper_bgcolor": "white",
          "plot_bgcolor": "#E5ECF6",
          "polar": {
           "angularaxis": {
            "gridcolor": "white",
            "linecolor": "white",
            "ticks": ""
           },
           "bgcolor": "#E5ECF6",
           "radialaxis": {
            "gridcolor": "white",
            "linecolor": "white",
            "ticks": ""
           }
          },
          "scene": {
           "xaxis": {
            "backgroundcolor": "#E5ECF6",
            "gridcolor": "white",
            "gridwidth": 2,
            "linecolor": "white",
            "showbackground": true,
            "ticks": "",
            "zerolinecolor": "white"
           },
           "yaxis": {
            "backgroundcolor": "#E5ECF6",
            "gridcolor": "white",
            "gridwidth": 2,
            "linecolor": "white",
            "showbackground": true,
            "ticks": "",
            "zerolinecolor": "white"
           },
           "zaxis": {
            "backgroundcolor": "#E5ECF6",
            "gridcolor": "white",
            "gridwidth": 2,
            "linecolor": "white",
            "showbackground": true,
            "ticks": "",
            "zerolinecolor": "white"
           }
          },
          "shapedefaults": {
           "line": {
            "color": "#2a3f5f"
           }
          },
          "ternary": {
           "aaxis": {
            "gridcolor": "white",
            "linecolor": "white",
            "ticks": ""
           },
           "baxis": {
            "gridcolor": "white",
            "linecolor": "white",
            "ticks": ""
           },
           "bgcolor": "#E5ECF6",
           "caxis": {
            "gridcolor": "white",
            "linecolor": "white",
            "ticks": ""
           }
          },
          "title": {
           "x": 0.05
          },
          "xaxis": {
           "automargin": true,
           "gridcolor": "white",
           "linecolor": "white",
           "ticks": "",
           "title": {
            "standoff": 15
           },
           "zerolinecolor": "white",
           "zerolinewidth": 2
          },
          "yaxis": {
           "automargin": true,
           "gridcolor": "white",
           "linecolor": "white",
           "ticks": "",
           "title": {
            "standoff": 15
           },
           "zerolinecolor": "white",
           "zerolinewidth": 2
          }
         }
        },
        "xaxis": {
         "title": {
          "text": "UVB"
         }
        },
        "yaxis": {
         "title": {
          "text": "No deaths"
         }
        }
       }
      },
      "image/png": "[encoded data removed]",
      "image/svg+xml": [
       "<svg class=\"main-svg\" xmlns=\"http://www.w3.org/2000/svg\" xmlns:xlink=\"http://www.w3.org/1999/xlink\" width=\"700\" height=\"500\" style=\"\" viewBox=\"0 0 700 500\"><rect x=\"0\" y=\"0\" width=\"700\" height=\"500\" style=\"fill: rgb(255, 255, 255); fill-opacity: 1;\"/><defs id=\"defs-96382c\"><g class=\"clips\"><clipPath id=\"clip96382cxyplot\" class=\"plotclip\"><rect width=\"496\" height=\"388\"/></clipPath><clipPath class=\"axesclip\" id=\"clip96382cx\"><rect x=\"61\" y=\"0\" width=\"496\" height=\"500\"/></clipPath><clipPath class=\"axesclip\" id=\"clip96382cy\"><rect x=\"0\" y=\"60\" width=\"700\" height=\"388\"/></clipPath><clipPath class=\"axesclip\" id=\"clip96382cxy\"><rect x=\"61\" y=\"60\" width=\"496\" height=\"388\"/></clipPath></g><g class=\"gradients\"/><g class=\"patterns\"/></defs><g class=\"bglayer\"><rect class=\"bg\" x=\"61\" y=\"60\" width=\"496\" height=\"388\" style=\"fill: rgb(229, 236, 246); fill-opacity: 1; stroke-width: 0;\"/></g><g class=\"layer-below\"><g class=\"imagelayer\"/><g class=\"shapelayer\"/></g><g class=\"cartesianlayer\"><g class=\"subplot xy\"><g class=\"layer-subplot\"><g class=\"shapelayer\"/><g class=\"imagelayer\"/></g><g class=\"gridlayer\"><g class=\"x\"><path class=\"xgrid crisp\" transform=\"translate(67.86,0)\" d=\"M0,60v388\" style=\"stroke: rgb(255, 255, 255); stroke-opacity: 1; stroke-width: 1px;\"/><path class=\"xgrid crisp\" transform=\"translate(166.45,0)\" d=\"M0,60v388\" style=\"stroke: rgb(255, 255, 255); stroke-opacity: 1; stroke-width: 1px;\"/><path class=\"xgrid crisp\" transform=\"translate(363.63,0)\" d=\"M0,60v388\" style=\"stroke: rgb(255, 255, 255); stroke-opacity: 1; stroke-width: 1px;\"/><path class=\"xgrid crisp\" transform=\"translate(462.22,0)\" d=\"M0,60v388\" style=\"stroke: rgb(255, 255, 255); stroke-opacity: 1; stroke-width: 1px;\"/></g><g class=\"y\"><path class=\"ygrid crisp\" transform=\"translate(0,370.27)\" d=\"M61,0h496\" style=\"stroke: rgb(255, 255, 255); stroke-opacity: 1; stroke-width: 1px;\"/><path class=\"ygrid crisp\" transform=\"translate(0,315.68)\" d=\"M61,0h496\" style=\"stroke: rgb(255, 255, 255); stroke-opacity: 1; stroke-width: 1px;\"/><path class=\"ygrid crisp\" transform=\"translate(0,261.1)\" d=\"M61,0h496\" style=\"stroke: rgb(255, 255, 255); stroke-opacity: 1; stroke-width: 1px;\"/><path class=\"ygrid crisp\" transform=\"translate(0,206.51)\" d=\"M61,0h496\" style=\"stroke: rgb(255, 255, 255); stroke-opacity: 1; stroke-width: 1px;\"/><path class=\"ygrid crisp\" transform=\"translate(0,151.93)\" d=\"M61,0h496\" style=\"stroke: rgb(255, 255, 255); stroke-opacity: 1; stroke-width: 1px;\"/><path class=\"ygrid crisp\" transform=\"translate(0,97.34)\" d=\"M61,0h496\" style=\"stroke: rgb(255, 255, 255); stroke-opacity: 1; stroke-width: 1px;\"/></g></g><g class=\"zerolinelayer\"><path class=\"xzl zl crisp\" transform=\"translate(265.03999999999996,0)\" d=\"M0,60v388\" style=\"stroke: rgb(255, 255, 255); stroke-opacity: 1; stroke-width: 2px;\"/><path class=\"yzl zl crisp\" transform=\"translate(0,424.85)\" d=\"M61,0h496\" style=\"stroke: rgb(255, 255, 255); stroke-opacity: 1; stroke-width: 2px;\"/></g><path class=\"xlines-below\"/><path class=\"ylines-below\"/><g class=\"overlines-below\"/><g class=\"xaxislayer-below\"/><g class=\"yaxislayer-below\"/><g class=\"overaxes-below\"/><g class=\"plot\" transform=\"translate(61,60)\" clip-path=\"url(#clip96382cxyplot)\"><g class=\"scatterlayer mlayer\"><g class=\"trace scatter traceaec58e\" style=\"stroke-miterlimit: 2; opacity: 1;\"><g class=\"fills\"/><g class=\"errorbars\"/><g class=\"lines\"/><g class=\"points\"><path class=\"point\" transform=\"translate(146.75,278.61)\" d=\"M3,0A3,3 0 1,1 0,-3A3,3 0 0,1 3,0Z\" style=\"opacity: 1; stroke-width: 0px; fill: rgb(99, 110, 250); fill-opacity: 1;\"/><path class=\"point\" transform=\"translate(140.8,277.51)\" d=\"M3,0A3,3 0 1,1 0,-3A3,3 0 0,1 3,0Z\" style=\"opacity: 1; stroke-width: 0px; fill: rgb(99, 110, 250); fill-opacity: 1;\"/><path class=\"point\" transform=\"translate(148.76,309.17)\" d=\"M3,0A3,3 0 1,1 0,-3A3,3 0 0,1 3,0Z\" style=\"opacity: 1; stroke-width: 0px; fill: rgb(99, 110, 250); fill-opacity: 1;\"/><path class=\"point\" transform=\"translate(144.75,317.91)\" d=\"M3,0A3,3 0 1,1 0,-3A3,3 0 0,1 3,0Z\" style=\"opacity: 1; stroke-width: 0px; fill: rgb(99, 110, 250); fill-opacity: 1;\"/><path class=\"point\" transform=\"translate(144.75,267.69)\" d=\"M3,0A3,3 0 1,1 0,-3A3,3 0 0,1 3,0Z\" style=\"opacity: 1; stroke-width: 0px; fill: rgb(99, 110, 250); fill-opacity: 1;\"/><path class=\"point\" transform=\"translate(136.66,344.11)\" d=\"M3,0A3,3 0 1,1 0,-3A3,3 0 0,1 3,0Z\" style=\"opacity: 1; stroke-width: 0px; fill: rgb(99, 110, 250); fill-opacity: 1;\"/><path class=\"point\" transform=\"translate(151.45,344.11)\" d=\"M3,0A3,3 0 1,1 0,-3A3,3 0 0,1 3,0Z\" style=\"opacity: 1; stroke-width: 0px; fill: rgb(99, 110, 250); fill-opacity: 1;\"/><path class=\"point\" transform=\"translate(151.45,348.47)\" d=\"M3,0A3,3 0 1,1 0,-3A3,3 0 0,1 3,0Z\" style=\"opacity: 1; stroke-width: 0px; fill: rgb(99, 110, 250); fill-opacity: 1;\"/><path class=\"point\" transform=\"translate(142.48,328.82)\" d=\"M3,0A3,3 0 1,1 0,-3A3,3 0 0,1 3,0Z\" style=\"opacity: 1; stroke-width: 0px; fill: rgb(99, 110, 250); fill-opacity: 1;\"/><path class=\"point\" transform=\"translate(155.04,355.02)\" d=\"M3,0A3,3 0 1,1 0,-3A3,3 0 0,1 3,0Z\" style=\"opacity: 1; stroke-width: 0px; fill: rgb(99, 110, 250); fill-opacity: 1;\"/><path class=\"point\" transform=\"translate(154.17,351.75)\" d=\"M3,0A3,3 0 1,1 0,-3A3,3 0 0,1 3,0Z\" style=\"opacity: 1; stroke-width: 0px; fill: rgb(99, 110, 250); fill-opacity: 1;\"/></g><g class=\"text\"/></g><g class=\"trace scatter trace8f48a5\" style=\"stroke-miterlimit: 2; opacity: 1;\"><g class=\"fills\"/><g class=\"errorbars\"/><g class=\"lines\"/><g class=\"points\"><path class=\"point\" transform=\"translate(181.61,194.55)\" d=\"M3,0A3,3 0 1,1 0,-3A3,3 0 0,1 3,0Z\" style=\"opacity: 1; stroke-width: 0px; fill: rgb(239, 85, 59); fill-opacity: 1;\"/><path class=\"point\" transform=\"translate(176.48,244.76)\" d=\"M3,0A3,3 0 1,1 0,-3A3,3 0 0,1 3,0Z\" style=\"opacity: 1; stroke-width: 0px; fill: rgb(239, 85, 59); fill-opacity: 1;\"/><path class=\"point\" transform=\"translate(195.39,280.79)\" d=\"M3,0A3,3 0 1,1 0,-3A3,3 0 0,1 3,0Z\" style=\"opacity: 1; stroke-width: 0px; fill: rgb(239, 85, 59); fill-opacity: 1;\"/><path class=\"point\" transform=\"translate(183.83,303.72)\" d=\"M3,0A3,3 0 1,1 0,-3A3,3 0 0,1 3,0Z\" style=\"opacity: 1; stroke-width: 0px; fill: rgb(239, 85, 59); fill-opacity: 1;\"/><path class=\"point\" transform=\"translate(194.12,124.68)\" d=\"M3,0A3,3 0 1,1 0,-3A3,3 0 0,1 3,0Z\" style=\"opacity: 1; stroke-width: 0px; fill: rgb(239, 85, 59); fill-opacity: 1;\"/><path class=\"point\" transform=\"translate(175.24,314.63)\" d=\"M3,0A3,3 0 1,1 0,-3A3,3 0 0,1 3,0Z\" style=\"opacity: 1; stroke-width: 0px; fill: rgb(239, 85, 59); fill-opacity: 1;\"/><path class=\"point\" transform=\"translate(166.66,313.54)\" d=\"M3,0A3,3 0 1,1 0,-3A3,3 0 0,1 3,0Z\" style=\"opacity: 1; stroke-width: 0px; fill: rgb(239, 85, 59); fill-opacity: 1;\"/><path class=\"point\" transform=\"translate(153.68,310.27)\" d=\"M3,0A3,3 0 1,1 0,-3A3,3 0 0,1 3,0Z\" style=\"opacity: 1; stroke-width: 0px; fill: rgb(239, 85, 59); fill-opacity: 1;\"/><path class=\"point\" transform=\"translate(165.25,266.6)\" d=\"M3,0A3,3 0 1,1 0,-3A3,3 0 0,1 3,0Z\" style=\"opacity: 1; stroke-width: 0px; fill: rgb(239, 85, 59); fill-opacity: 1;\"/><path class=\"point\" transform=\"translate(157.82,297.17)\" d=\"M3,0A3,3 0 1,1 0,-3A3,3 0 0,1 3,0Z\" style=\"opacity: 1; stroke-width: 0px; fill: rgb(239, 85, 59); fill-opacity: 1;\"/><path class=\"point\" transform=\"translate(191.07,272.06)\" d=\"M3,0A3,3 0 1,1 0,-3A3,3 0 0,1 3,0Z\" style=\"opacity: 1; stroke-width: 0px; fill: rgb(239, 85, 59); fill-opacity: 1;\"/><path class=\"point\" transform=\"translate(127.47,210.92)\" d=\"M3,0A3,3 0 1,1 0,-3A3,3 0 0,1 3,0Z\" style=\"opacity: 1; stroke-width: 0px; fill: rgb(239, 85, 59); fill-opacity: 1;\"/><path class=\"point\" transform=\"translate(116.12,323.37)\" d=\"M3,0A3,3 0 1,1 0,-3A3,3 0 0,1 3,0Z\" style=\"opacity: 1; stroke-width: 0px; fill: rgb(239, 85, 59); fill-opacity: 1;\"/><path class=\"point\" transform=\"translate(108.26,232.76)\" d=\"M3,0A3,3 0 1,1 0,-3A3,3 0 0,1 3,0Z\" style=\"opacity: 1; stroke-width: 0px; fill: rgb(239, 85, 59); fill-opacity: 1;\"/><path class=\"point\" transform=\"translate(152.72,126.86)\" d=\"M3,0A3,3 0 1,1 0,-3A3,3 0 0,1 3,0Z\" style=\"opacity: 1; stroke-width: 0px; fill: rgb(239, 85, 59); fill-opacity: 1;\"/><path class=\"point\" transform=\"translate(134.35,310.27)\" d=\"M3,0A3,3 0 1,1 0,-3A3,3 0 0,1 3,0Z\" style=\"opacity: 1; stroke-width: 0px; fill: rgb(239, 85, 59); fill-opacity: 1;\"/><path class=\"point\" transform=\"translate(124.68,258.96)\" d=\"M3,0A3,3 0 1,1 0,-3A3,3 0 0,1 3,0Z\" style=\"opacity: 1; stroke-width: 0px; fill: rgb(239, 85, 59); fill-opacity: 1;\"/><path class=\"point\" transform=\"translate(125.45,257.86)\" d=\"M3,0A3,3 0 1,1 0,-3A3,3 0 0,1 3,0Z\" style=\"opacity: 1; stroke-width: 0px; fill: rgb(239, 85, 59); fill-opacity: 1;\"/><path class=\"point\" transform=\"translate(116.12,282.97)\" d=\"M3,0A3,3 0 1,1 0,-3A3,3 0 0,1 3,0Z\" style=\"opacity: 1; stroke-width: 0px; fill: rgb(239, 85, 59); fill-opacity: 1;\"/><path class=\"point\" transform=\"translate(122.97,272.06)\" d=\"M3,0A3,3 0 1,1 0,-3A3,3 0 0,1 3,0Z\" style=\"opacity: 1; stroke-width: 0px; fill: rgb(239, 85, 59); fill-opacity: 1;\"/><path class=\"point\" transform=\"translate(134.35,136.69)\" d=\"M3,0A3,3 0 1,1 0,-3A3,3 0 0,1 3,0Z\" style=\"opacity: 1; stroke-width: 0px; fill: rgb(239, 85, 59); fill-opacity: 1;\"/><path class=\"point\" transform=\"translate(139.49,226.2)\" d=\"M3,0A3,3 0 1,1 0,-3A3,3 0 0,1 3,0Z\" style=\"opacity: 1; stroke-width: 0px; fill: rgb(239, 85, 59); fill-opacity: 1;\"/><path class=\"point\" transform=\"translate(128.87,257.86)\" d=\"M3,0A3,3 0 1,1 0,-3A3,3 0 0,1 3,0Z\" style=\"opacity: 1; stroke-width: 0px; fill: rgb(239, 85, 59); fill-opacity: 1;\"/><path class=\"point\" transform=\"translate(133.03,301.53)\" d=\"M3,0A3,3 0 1,1 0,-3A3,3 0 0,1 3,0Z\" style=\"opacity: 1; stroke-width: 0px; fill: rgb(239, 85, 59); fill-opacity: 1;\"/><path class=\"point\" transform=\"translate(133.08,200)\" d=\"M3,0A3,3 0 1,1 0,-3A3,3 0 0,1 3,0Z\" style=\"opacity: 1; stroke-width: 0px; fill: rgb(239, 85, 59); fill-opacity: 1;\"/><path class=\"point\" transform=\"translate(146.04,292.8)\" d=\"M3,0A3,3 0 1,1 0,-3A3,3 0 0,1 3,0Z\" style=\"opacity: 1; stroke-width: 0px; fill: rgb(239, 85, 59); fill-opacity: 1;\"/><path class=\"point\" transform=\"translate(159.67,337.56)\" d=\"M3,0A3,3 0 1,1 0,-3A3,3 0 0,1 3,0Z\" style=\"opacity: 1; stroke-width: 0px; fill: rgb(239, 85, 59); fill-opacity: 1;\"/><path class=\"point\" transform=\"translate(158.16,265.51)\" d=\"M3,0A3,3 0 1,1 0,-3A3,3 0 0,1 3,0Z\" style=\"opacity: 1; stroke-width: 0px; fill: rgb(239, 85, 59); fill-opacity: 1;\"/><path class=\"point\" transform=\"translate(163.3,319)\" d=\"M3,0A3,3 0 1,1 0,-3A3,3 0 0,1 3,0Z\" style=\"opacity: 1; stroke-width: 0px; fill: rgb(239, 85, 59); fill-opacity: 1;\"/><path class=\"point\" transform=\"translate(102.71,190.18)\" d=\"M3,0A3,3 0 1,1 0,-3A3,3 0 0,1 3,0Z\" style=\"opacity: 1; stroke-width: 0px; fill: rgb(239, 85, 59); fill-opacity: 1;\"/></g><g class=\"text\"/></g><g class=\"trace scatter traceb7b903\" style=\"stroke-miterlimit: 2; opacity: 1;\"><g class=\"fills\"/><g class=\"errorbars\"/><g class=\"lines\"/><g class=\"points\"><path class=\"point\" transform=\"translate(89.9,136.69)\" d=\"M3,0A3,3 0 1,1 0,-3A3,3 0 0,1 3,0Z\" style=\"opacity: 1; stroke-width: 0px; fill: rgb(0, 204, 150); fill-opacity: 1;\"/><path class=\"point\" transform=\"translate(87.73,317.91)\" d=\"M3,0A3,3 0 1,1 0,-3A3,3 0 0,1 3,0Z\" style=\"opacity: 1; stroke-width: 0px; fill: rgb(0, 204, 150); fill-opacity: 1;\"/><path class=\"point\" transform=\"translate(100.62,334.28)\" d=\"M3,0A3,3 0 1,1 0,-3A3,3 0 0,1 3,0Z\" style=\"opacity: 1; stroke-width: 0px; fill: rgb(0, 204, 150); fill-opacity: 1;\"/><path class=\"point\" transform=\"translate(101.77,320.09)\" d=\"M3,0A3,3 0 1,1 0,-3A3,3 0 0,1 3,0Z\" style=\"opacity: 1; stroke-width: 0px; fill: rgb(0, 204, 150); fill-opacity: 1;\"/><path class=\"point\" transform=\"translate(101.17,319)\" d=\"M3,0A3,3 0 1,1 0,-3A3,3 0 0,1 3,0Z\" style=\"opacity: 1; stroke-width: 0px; fill: rgb(0, 204, 150); fill-opacity: 1;\"/><path class=\"point\" transform=\"translate(103.52,358.3)\" d=\"M3,0A3,3 0 1,1 0,-3A3,3 0 0,1 3,0Z\" style=\"opacity: 1; stroke-width: 0px; fill: rgb(0, 204, 150); fill-opacity: 1;\"/><path class=\"point\" transform=\"translate(96.03,302.62)\" d=\"M3,0A3,3 0 1,1 0,-3A3,3 0 0,1 3,0Z\" style=\"opacity: 1; stroke-width: 0px; fill: rgb(0, 204, 150); fill-opacity: 1;\"/><path class=\"point\" transform=\"translate(101.17,343.02)\" d=\"M3,0A3,3 0 1,1 0,-3A3,3 0 0,1 3,0Z\" style=\"opacity: 1; stroke-width: 0px; fill: rgb(0, 204, 150); fill-opacity: 1;\"/><path class=\"point\" transform=\"translate(94.39,341.92)\" d=\"M3,0A3,3 0 1,1 0,-3A3,3 0 0,1 3,0Z\" style=\"opacity: 1; stroke-width: 0px; fill: rgb(0, 204, 150); fill-opacity: 1;\"/><path class=\"point\" transform=\"translate(88.81,331.01)\" d=\"M3,0A3,3 0 1,1 0,-3A3,3 0 0,1 3,0Z\" style=\"opacity: 1; stroke-width: 0px; fill: rgb(0, 204, 150); fill-opacity: 1;\"/><path class=\"point\" transform=\"translate(84.51,339.74)\" d=\"M3,0A3,3 0 1,1 0,-3A3,3 0 0,1 3,0Z\" style=\"opacity: 1; stroke-width: 0px; fill: rgb(0, 204, 150); fill-opacity: 1;\"/><path class=\"point\" transform=\"translate(86.7,278.61)\" d=\"M3,0A3,3 0 1,1 0,-3A3,3 0 0,1 3,0Z\" style=\"opacity: 1; stroke-width: 0px; fill: rgb(0, 204, 150); fill-opacity: 1;\"/><path class=\"point\" transform=\"translate(83.49,338.65)\" d=\"M3,0A3,3 0 1,1 0,-3A3,3 0 0,1 3,0Z\" style=\"opacity: 1; stroke-width: 0px; fill: rgb(0, 204, 150); fill-opacity: 1;\"/><path class=\"point\" transform=\"translate(83.47,302.62)\" d=\"M3,0A3,3 0 1,1 0,-3A3,3 0 0,1 3,0Z\" style=\"opacity: 1; stroke-width: 0px; fill: rgb(0, 204, 150); fill-opacity: 1;\"/></g><g class=\"text\"/></g><g class=\"trace scatter trace5bcd68\" style=\"stroke-miterlimit: 2; opacity: 1;\"><g class=\"fills\"/><g class=\"errorbars\"/><g class=\"lines\"/><g class=\"points\"><path class=\"point\" transform=\"translate(185.57,328.82)\" d=\"M3,0A3,3 0 1,1 0,-3A3,3 0 0,1 3,0Z\" style=\"opacity: 1; stroke-width: 0px; fill: rgb(171, 99, 250); fill-opacity: 1;\"/><path class=\"point\" transform=\"translate(202.3,343.02)\" d=\"M3,0A3,3 0 1,1 0,-3A3,3 0 0,1 3,0Z\" style=\"opacity: 1; stroke-width: 0px; fill: rgb(171, 99, 250); fill-opacity: 1;\"/><path class=\"point\" transform=\"translate(258.9,348.47)\" d=\"M3,0A3,3 0 1,1 0,-3A3,3 0 0,1 3,0Z\" style=\"opacity: 1; stroke-width: 0px; fill: rgb(171, 99, 250); fill-opacity: 1;\"/><path class=\"point\" transform=\"translate(267.23,333.19)\" d=\"M3,0A3,3 0 1,1 0,-3A3,3 0 0,1 3,0Z\" style=\"opacity: 1; stroke-width: 0px; fill: rgb(171, 99, 250); fill-opacity: 1;\"/><path class=\"point\" transform=\"translate(278.68,355.02)\" d=\"M3,0A3,3 0 1,1 0,-3A3,3 0 0,1 3,0Z\" style=\"opacity: 1; stroke-width: 0px; fill: rgb(171, 99, 250); fill-opacity: 1;\"/><path class=\"point\" transform=\"translate(273.22,357.21)\" d=\"M3,0A3,3 0 1,1 0,-3A3,3 0 0,1 3,0Z\" style=\"opacity: 1; stroke-width: 0px; fill: rgb(171, 99, 250); fill-opacity: 1;\"/><path class=\"point\" transform=\"translate(309.66,349.57)\" d=\"M3,0A3,3 0 1,1 0,-3A3,3 0 0,1 3,0Z\" style=\"opacity: 1; stroke-width: 0px; fill: rgb(171, 99, 250); fill-opacity: 1;\"/><path class=\"point\" transform=\"translate(242.96,346.29)\" d=\"M3,0A3,3 0 1,1 0,-3A3,3 0 0,1 3,0Z\" style=\"opacity: 1; stroke-width: 0px; fill: rgb(171, 99, 250); fill-opacity: 1;\"/><path class=\"point\" transform=\"translate(254.2,357.21)\" d=\"M3,0A3,3 0 1,1 0,-3A3,3 0 0,1 3,0Z\" style=\"opacity: 1; stroke-width: 0px; fill: rgb(171, 99, 250); fill-opacity: 1;\"/><path class=\"point\" transform=\"translate(264.81,356.12)\" d=\"M3,0A3,3 0 1,1 0,-3A3,3 0 0,1 3,0Z\" style=\"opacity: 1; stroke-width: 0px; fill: rgb(171, 99, 250); fill-opacity: 1;\"/><path class=\"point\" transform=\"translate(247.24,353.93)\" d=\"M3,0A3,3 0 1,1 0,-3A3,3 0 0,1 3,0Z\" style=\"opacity: 1; stroke-width: 0px; fill: rgb(171, 99, 250); fill-opacity: 1;\"/><path class=\"point\" transform=\"translate(191.78,350.66)\" d=\"M3,0A3,3 0 1,1 0,-3A3,3 0 0,1 3,0Z\" style=\"opacity: 1; stroke-width: 0px; fill: rgb(171, 99, 250); fill-opacity: 1;\"/><path class=\"point\" transform=\"translate(195.07,355.02)\" d=\"M3,0A3,3 0 1,1 0,-3A3,3 0 0,1 3,0Z\" style=\"opacity: 1; stroke-width: 0px; fill: rgb(171, 99, 250); fill-opacity: 1;\"/><path class=\"point\" transform=\"translate(184.08,357.21)\" d=\"M3,0A3,3 0 1,1 0,-3A3,3 0 0,1 3,0Z\" style=\"opacity: 1; stroke-width: 0px; fill: rgb(171, 99, 250); fill-opacity: 1;\"/><path class=\"point\" transform=\"translate(223.31,350.66)\" d=\"M3,0A3,3 0 1,1 0,-3A3,3 0 0,1 3,0Z\" style=\"opacity: 1; stroke-width: 0px; fill: rgb(171, 99, 250); fill-opacity: 1;\"/><path class=\"point\" transform=\"translate(230.98,356.12)\" d=\"M3,0A3,3 0 1,1 0,-3A3,3 0 0,1 3,0Z\" style=\"opacity: 1; stroke-width: 0px; fill: rgb(171, 99, 250); fill-opacity: 1;\"/><path class=\"point\" transform=\"translate(236.78,344.11)\" d=\"M3,0A3,3 0 1,1 0,-3A3,3 0 0,1 3,0Z\" style=\"opacity: 1; stroke-width: 0px; fill: rgb(171, 99, 250); fill-opacity: 1;\"/><path class=\"point\" transform=\"translate(209,355.02)\" d=\"M3,0A3,3 0 1,1 0,-3A3,3 0 0,1 3,0Z\" style=\"opacity: 1; stroke-width: 0px; fill: rgb(171, 99, 250); fill-opacity: 1;\"/><path class=\"point\" transform=\"translate(206.1,347.38)\" d=\"M3,0A3,3 0 1,1 0,-3A3,3 0 0,1 3,0Z\" style=\"opacity: 1; stroke-width: 0px; fill: rgb(171, 99, 250); fill-opacity: 1;\"/><path class=\"point\" transform=\"translate(192.59,316.82)\" d=\"M3,0A3,3 0 1,1 0,-3A3,3 0 0,1 3,0Z\" style=\"opacity: 1; stroke-width: 0px; fill: rgb(171, 99, 250); fill-opacity: 1;\"/><path class=\"point\" transform=\"translate(196.65,349.57)\" d=\"M3,0A3,3 0 1,1 0,-3A3,3 0 0,1 3,0Z\" style=\"opacity: 1; stroke-width: 0px; fill: rgb(171, 99, 250); fill-opacity: 1;\"/><path class=\"point\" transform=\"translate(202.86,338.65)\" d=\"M3,0A3,3 0 1,1 0,-3A3,3 0 0,1 3,0Z\" style=\"opacity: 1; stroke-width: 0px; fill: rgb(171, 99, 250); fill-opacity: 1;\"/><path class=\"point\" transform=\"translate(232.67,351.75)\" d=\"M3,0A3,3 0 1,1 0,-3A3,3 0 0,1 3,0Z\" style=\"opacity: 1; stroke-width: 0px; fill: rgb(171, 99, 250); fill-opacity: 1;\"/><path class=\"point\" transform=\"translate(195.11,350.66)\" d=\"M3,0A3,3 0 1,1 0,-3A3,3 0 0,1 3,0Z\" style=\"opacity: 1; stroke-width: 0px; fill: rgb(171, 99, 250); fill-opacity: 1;\"/><path class=\"point\" transform=\"translate(225.27,352.84)\" d=\"M3,0A3,3 0 1,1 0,-3A3,3 0 0,1 3,0Z\" style=\"opacity: 1; stroke-width: 0px; fill: rgb(171, 99, 250); fill-opacity: 1;\"/><path class=\"point\" transform=\"translate(210.2,349.57)\" d=\"M3,0A3,3 0 1,1 0,-3A3,3 0 0,1 3,0Z\" style=\"opacity: 1; stroke-width: 0px; fill: rgb(171, 99, 250); fill-opacity: 1;\"/><path class=\"point\" transform=\"translate(207.02,359.39)\" d=\"M3,0A3,3 0 1,1 0,-3A3,3 0 0,1 3,0Z\" style=\"opacity: 1; stroke-width: 0px; fill: rgb(171, 99, 250); fill-opacity: 1;\"/><path class=\"point\" transform=\"translate(201.3,350.66)\" d=\"M3,0A3,3 0 1,1 0,-3A3,3 0 0,1 3,0Z\" style=\"opacity: 1; stroke-width: 0px; fill: rgb(171, 99, 250); fill-opacity: 1;\"/><path class=\"point\" transform=\"translate(168.56,352.84)\" d=\"M3,0A3,3 0 1,1 0,-3A3,3 0 0,1 3,0Z\" style=\"opacity: 1; stroke-width: 0px; fill: rgb(171, 99, 250); fill-opacity: 1;\"/><path class=\"point\" transform=\"translate(201.09,356.12)\" d=\"M3,0A3,3 0 1,1 0,-3A3,3 0 0,1 3,0Z\" style=\"opacity: 1; stroke-width: 0px; fill: rgb(171, 99, 250); fill-opacity: 1;\"/><path class=\"point\" transform=\"translate(178.67,347.38)\" d=\"M3,0A3,3 0 1,1 0,-3A3,3 0 0,1 3,0Z\" style=\"opacity: 1; stroke-width: 0px; fill: rgb(171, 99, 250); fill-opacity: 1;\"/><path class=\"point\" transform=\"translate(189.06,361.57)\" d=\"M3,0A3,3 0 1,1 0,-3A3,3 0 0,1 3,0Z\" style=\"opacity: 1; stroke-width: 0px; fill: rgb(171, 99, 250); fill-opacity: 1;\"/><path class=\"point\" transform=\"translate(215,355.02)\" d=\"M3,0A3,3 0 1,1 0,-3A3,3 0 0,1 3,0Z\" style=\"opacity: 1; stroke-width: 0px; fill: rgb(171, 99, 250); fill-opacity: 1;\"/><path class=\"point\" transform=\"translate(235.07,350.66)\" d=\"M3,0A3,3 0 1,1 0,-3A3,3 0 0,1 3,0Z\" style=\"opacity: 1; stroke-width: 0px; fill: rgb(171, 99, 250); fill-opacity: 1;\"/><path class=\"point\" transform=\"translate(250.61,356.12)\" d=\"M3,0A3,3 0 1,1 0,-3A3,3 0 0,1 3,0Z\" style=\"opacity: 1; stroke-width: 0px; fill: rgb(171, 99, 250); fill-opacity: 1;\"/><path class=\"point\" transform=\"translate(208.61,361.57)\" d=\"M3,0A3,3 0 1,1 0,-3A3,3 0 0,1 3,0Z\" style=\"opacity: 1; stroke-width: 0px; fill: rgb(171, 99, 250); fill-opacity: 1;\"/><path class=\"point\" transform=\"translate(170.93,351.75)\" d=\"M3,0A3,3 0 1,1 0,-3A3,3 0 0,1 3,0Z\" style=\"opacity: 1; stroke-width: 0px; fill: rgb(171, 99, 250); fill-opacity: 1;\"/><path class=\"point\" transform=\"translate(162.45,319)\" d=\"M3,0A3,3 0 1,1 0,-3A3,3 0 0,1 3,0Z\" style=\"opacity: 1; stroke-width: 0px; fill: rgb(171, 99, 250); fill-opacity: 1;\"/><path class=\"point\" transform=\"translate(189.95,280.79)\" d=\"M3,0A3,3 0 1,1 0,-3A3,3 0 0,1 3,0Z\" style=\"opacity: 1; stroke-width: 0px; fill: rgb(171, 99, 250); fill-opacity: 1;\"/><path class=\"point\" transform=\"translate(191.48,348.47)\" d=\"M3,0A3,3 0 1,1 0,-3A3,3 0 0,1 3,0Z\" style=\"opacity: 1; stroke-width: 0px; fill: rgb(171, 99, 250); fill-opacity: 1;\"/><path class=\"point\" transform=\"translate(191.48,321.18)\" d=\"M3,0A3,3 0 1,1 0,-3A3,3 0 0,1 3,0Z\" style=\"opacity: 1; stroke-width: 0px; fill: rgb(171, 99, 250); fill-opacity: 1;\"/><path class=\"point\" transform=\"translate(194.54,347.38)\" d=\"M3,0A3,3 0 1,1 0,-3A3,3 0 0,1 3,0Z\" style=\"opacity: 1; stroke-width: 0px; fill: rgb(171, 99, 250); fill-opacity: 1;\"/><path class=\"point\" transform=\"translate(193,327.73)\" d=\"M3,0A3,3 0 1,1 0,-3A3,3 0 0,1 3,0Z\" style=\"opacity: 1; stroke-width: 0px; fill: rgb(171, 99, 250); fill-opacity: 1;\"/><path class=\"point\" transform=\"translate(188.43,332.1)\" d=\"M3,0A3,3 0 1,1 0,-3A3,3 0 0,1 3,0Z\" style=\"opacity: 1; stroke-width: 0px; fill: rgb(171, 99, 250); fill-opacity: 1;\"/><path class=\"point\" transform=\"translate(189.95,320.09)\" d=\"M3,0A3,3 0 1,1 0,-3A3,3 0 0,1 3,0Z\" style=\"opacity: 1; stroke-width: 0px; fill: rgb(171, 99, 250); fill-opacity: 1;\"/><path class=\"point\" transform=\"translate(185.41,345.2)\" d=\"M3,0A3,3 0 1,1 0,-3A3,3 0 0,1 3,0Z\" style=\"opacity: 1; stroke-width: 0px; fill: rgb(171, 99, 250); fill-opacity: 1;\"/><path class=\"point\" transform=\"translate(301.85,359.39)\" d=\"M3,0A3,3 0 1,1 0,-3A3,3 0 0,1 3,0Z\" style=\"opacity: 1; stroke-width: 0px; fill: rgb(171, 99, 250); fill-opacity: 1;\"/><path class=\"point\" transform=\"translate(331.67,347.38)\" d=\"M3,0A3,3 0 1,1 0,-3A3,3 0 0,1 3,0Z\" style=\"opacity: 1; stroke-width: 0px; fill: rgb(171, 99, 250); fill-opacity: 1;\"/><path class=\"point\" transform=\"translate(340.04,345.2)\" d=\"M3,0A3,3 0 1,1 0,-3A3,3 0 0,1 3,0Z\" style=\"opacity: 1; stroke-width: 0px; fill: rgb(171, 99, 250); fill-opacity: 1;\"/><path class=\"point\" transform=\"translate(279.92,362.67)\" d=\"M3,0A3,3 0 1,1 0,-3A3,3 0 0,1 3,0Z\" style=\"opacity: 1; stroke-width: 0px; fill: rgb(171, 99, 250); fill-opacity: 1;\"/><path class=\"point\" transform=\"translate(350.18,352.84)\" d=\"M3,0A3,3 0 1,1 0,-3A3,3 0 0,1 3,0Z\" style=\"opacity: 1; stroke-width: 0px; fill: rgb(171, 99, 250); fill-opacity: 1;\"/><path class=\"point\" transform=\"translate(250.71,359.39)\" d=\"M3,0A3,3 0 1,1 0,-3A3,3 0 0,1 3,0Z\" style=\"opacity: 1; stroke-width: 0px; fill: rgb(171, 99, 250); fill-opacity: 1;\"/><path class=\"point\" transform=\"translate(238.68,355.02)\" d=\"M3,0A3,3 0 1,1 0,-3A3,3 0 0,1 3,0Z\" style=\"opacity: 1; stroke-width: 0px; fill: rgb(171, 99, 250); fill-opacity: 1;\"/><path class=\"point\" transform=\"translate(243.8,352.84)\" d=\"M3,0A3,3 0 1,1 0,-3A3,3 0 0,1 3,0Z\" style=\"opacity: 1; stroke-width: 0px; fill: rgb(171, 99, 250); fill-opacity: 1;\"/><path class=\"point\" transform=\"translate(181.61,349.57)\" d=\"M3,0A3,3 0 1,1 0,-3A3,3 0 0,1 3,0Z\" style=\"opacity: 1; stroke-width: 0px; fill: rgb(171, 99, 250); fill-opacity: 1;\"/><path class=\"point\" transform=\"translate(178.67,357.21)\" d=\"M3,0A3,3 0 1,1 0,-3A3,3 0 0,1 3,0Z\" style=\"opacity: 1; stroke-width: 0px; fill: rgb(171, 99, 250); fill-opacity: 1;\"/><path class=\"point\" transform=\"translate(175.75,334.28)\" d=\"M3,0A3,3 0 1,1 0,-3A3,3 0 0,1 3,0Z\" style=\"opacity: 1; stroke-width: 0px; fill: rgb(171, 99, 250); fill-opacity: 1;\"/><path class=\"point\" transform=\"translate(187.56,353.93)\" d=\"M3,0A3,3 0 1,1 0,-3A3,3 0 0,1 3,0Z\" style=\"opacity: 1; stroke-width: 0px; fill: rgb(171, 99, 250); fill-opacity: 1;\"/><path class=\"point\" transform=\"translate(301.85,359.39)\" d=\"M3,0A3,3 0 1,1 0,-3A3,3 0 0,1 3,0Z\" style=\"opacity: 1; stroke-width: 0px; fill: rgb(171, 99, 250); fill-opacity: 1;\"/><path class=\"point\" transform=\"translate(285.51,357.21)\" d=\"M3,0A3,3 0 1,1 0,-3A3,3 0 0,1 3,0Z\" style=\"opacity: 1; stroke-width: 0px; fill: rgb(171, 99, 250); fill-opacity: 1;\"/><path class=\"point\" transform=\"translate(296.16,350.66)\" d=\"M3,0A3,3 0 1,1 0,-3A3,3 0 0,1 3,0Z\" style=\"opacity: 1; stroke-width: 0px; fill: rgb(171, 99, 250); fill-opacity: 1;\"/><path class=\"point\" transform=\"translate(284.19,357.21)\" d=\"M3,0A3,3 0 1,1 0,-3A3,3 0 0,1 3,0Z\" style=\"opacity: 1; stroke-width: 0px; fill: rgb(171, 99, 250); fill-opacity: 1;\"/><path class=\"point\" transform=\"translate(267.81,359.39)\" d=\"M3,0A3,3 0 1,1 0,-3A3,3 0 0,1 3,0Z\" style=\"opacity: 1; stroke-width: 0px; fill: rgb(171, 99, 250); fill-opacity: 1;\"/><path class=\"point\" transform=\"translate(311.61,355.02)\" d=\"M3,0A3,3 0 1,1 0,-3A3,3 0 0,1 3,0Z\" style=\"opacity: 1; stroke-width: 0px; fill: rgb(171, 99, 250); fill-opacity: 1;\"/><path class=\"point\" transform=\"translate(288.64,361.57)\" d=\"M3,0A3,3 0 1,1 0,-3A3,3 0 0,1 3,0Z\" style=\"opacity: 1; stroke-width: 0px; fill: rgb(171, 99, 250); fill-opacity: 1;\"/><path class=\"point\" transform=\"translate(276.86,357.21)\" d=\"M3,0A3,3 0 1,1 0,-3A3,3 0 0,1 3,0Z\" style=\"opacity: 1; stroke-width: 0px; fill: rgb(171, 99, 250); fill-opacity: 1;\"/><path class=\"point\" transform=\"translate(151.45,296.07)\" d=\"M3,0A3,3 0 1,1 0,-3A3,3 0 0,1 3,0Z\" style=\"opacity: 1; stroke-width: 0px; fill: rgb(171, 99, 250); fill-opacity: 1;\"/><path class=\"point\" transform=\"translate(152.81,326.64)\" d=\"M3,0A3,3 0 1,1 0,-3A3,3 0 0,1 3,0Z\" style=\"opacity: 1; stroke-width: 0px; fill: rgb(171, 99, 250); fill-opacity: 1;\"/><path class=\"point\" transform=\"translate(214.81,337.56)\" d=\"M3,0A3,3 0 1,1 0,-3A3,3 0 0,1 3,0Z\" style=\"opacity: 1; stroke-width: 0px; fill: rgb(171, 99, 250); fill-opacity: 1;\"/><path class=\"point\" transform=\"translate(221.34,346.29)\" d=\"M3,0A3,3 0 1,1 0,-3A3,3 0 0,1 3,0Z\" style=\"opacity: 1; stroke-width: 0px; fill: rgb(171, 99, 250); fill-opacity: 1;\"/><path class=\"point\" transform=\"translate(196.65,358.3)\" d=\"M3,0A3,3 0 1,1 0,-3A3,3 0 0,1 3,0Z\" style=\"opacity: 1; stroke-width: 0px; fill: rgb(171, 99, 250); fill-opacity: 1;\"/><path class=\"point\" transform=\"translate(209,351.75)\" d=\"M3,0A3,3 0 1,1 0,-3A3,3 0 0,1 3,0Z\" style=\"opacity: 1; stroke-width: 0px; fill: rgb(171, 99, 250); fill-opacity: 1;\"/><path class=\"point\" transform=\"translate(231.31,349.57)\" d=\"M3,0A3,3 0 1,1 0,-3A3,3 0 0,1 3,0Z\" style=\"opacity: 1; stroke-width: 0px; fill: rgb(171, 99, 250); fill-opacity: 1;\"/><path class=\"point\" transform=\"translate(168.56,355.02)\" d=\"M3,0A3,3 0 1,1 0,-3A3,3 0 0,1 3,0Z\" style=\"opacity: 1; stroke-width: 0px; fill: rgb(171, 99, 250); fill-opacity: 1;\"/><path class=\"point\" transform=\"translate(165.25,356.12)\" d=\"M3,0A3,3 0 1,1 0,-3A3,3 0 0,1 3,0Z\" style=\"opacity: 1; stroke-width: 0px; fill: rgb(171, 99, 250); fill-opacity: 1;\"/><path class=\"point\" transform=\"translate(164.3,353.93)\" d=\"M3,0A3,3 0 1,1 0,-3A3,3 0 0,1 3,0Z\" style=\"opacity: 1; stroke-width: 0px; fill: rgb(171, 99, 250); fill-opacity: 1;\"/><path class=\"point\" transform=\"translate(245.52,351.75)\" d=\"M3,0A3,3 0 1,1 0,-3A3,3 0 0,1 3,0Z\" style=\"opacity: 1; stroke-width: 0px; fill: rgb(171, 99, 250); fill-opacity: 1;\"/><path class=\"point\" transform=\"translate(247.24,344.11)\" d=\"M3,0A3,3 0 1,1 0,-3A3,3 0 0,1 3,0Z\" style=\"opacity: 1; stroke-width: 0px; fill: rgb(171, 99, 250); fill-opacity: 1;\"/><path class=\"point\" transform=\"translate(230.25,355.02)\" d=\"M3,0A3,3 0 1,1 0,-3A3,3 0 0,1 3,0Z\" style=\"opacity: 1; stroke-width: 0px; fill: rgb(171, 99, 250); fill-opacity: 1;\"/><path class=\"point\" transform=\"translate(231.93,360.48)\" d=\"M3,0A3,3 0 1,1 0,-3A3,3 0 0,1 3,0Z\" style=\"opacity: 1; stroke-width: 0px; fill: rgb(171, 99, 250); fill-opacity: 1;\"/><path class=\"point\" transform=\"translate(321.34,361.57)\" d=\"M3,0A3,3 0 1,1 0,-3A3,3 0 0,1 3,0Z\" style=\"opacity: 1; stroke-width: 0px; fill: rgb(171, 99, 250); fill-opacity: 1;\"/><path class=\"point\" transform=\"translate(313.23,363.76)\" d=\"M3,0A3,3 0 1,1 0,-3A3,3 0 0,1 3,0Z\" style=\"opacity: 1; stroke-width: 0px; fill: rgb(171, 99, 250); fill-opacity: 1;\"/><path class=\"point\" transform=\"translate(336.88,340.83)\" d=\"M3,0A3,3 0 1,1 0,-3A3,3 0 0,1 3,0Z\" style=\"opacity: 1; stroke-width: 0px; fill: rgb(171, 99, 250); fill-opacity: 1;\"/><path class=\"point\" transform=\"translate(333.69,316.82)\" d=\"M3,0A3,3 0 1,1 0,-3A3,3 0 0,1 3,0Z\" style=\"opacity: 1; stroke-width: 0px; fill: rgb(171, 99, 250); fill-opacity: 1;\"/><path class=\"point\" transform=\"translate(354.92,346.29)\" d=\"M3,0A3,3 0 1,1 0,-3A3,3 0 0,1 3,0Z\" style=\"opacity: 1; stroke-width: 0px; fill: rgb(171, 99, 250); fill-opacity: 1;\"/><path class=\"point\" transform=\"translate(314.08,352.84)\" d=\"M3,0A3,3 0 1,1 0,-3A3,3 0 0,1 3,0Z\" style=\"opacity: 1; stroke-width: 0px; fill: rgb(171, 99, 250); fill-opacity: 1;\"/><path class=\"point\" transform=\"translate(244.31,351.75)\" d=\"M3,0A3,3 0 1,1 0,-3A3,3 0 0,1 3,0Z\" style=\"opacity: 1; stroke-width: 0px; fill: rgb(171, 99, 250); fill-opacity: 1;\"/><path class=\"point\" transform=\"translate(302.18,353.93)\" d=\"M3,0A3,3 0 1,1 0,-3A3,3 0 0,1 3,0Z\" style=\"opacity: 1; stroke-width: 0px; fill: rgb(171, 99, 250); fill-opacity: 1;\"/><path class=\"point\" transform=\"translate(304.15,349.57)\" d=\"M3,0A3,3 0 1,1 0,-3A3,3 0 0,1 3,0Z\" style=\"opacity: 1; stroke-width: 0px; fill: rgb(171, 99, 250); fill-opacity: 1;\"/><path class=\"point\" transform=\"translate(264.15,340.83)\" d=\"M3,0A3,3 0 1,1 0,-3A3,3 0 0,1 3,0Z\" style=\"opacity: 1; stroke-width: 0px; fill: rgb(171, 99, 250); fill-opacity: 1;\"/><path class=\"point\" transform=\"translate(251.26,340.83)\" d=\"M3,0A3,3 0 1,1 0,-3A3,3 0 0,1 3,0Z\" style=\"opacity: 1; stroke-width: 0px; fill: rgb(171, 99, 250); fill-opacity: 1;\"/><path class=\"point\" transform=\"translate(247.77,310.27)\" d=\"M3,0A3,3 0 1,1 0,-3A3,3 0 0,1 3,0Z\" style=\"opacity: 1; stroke-width: 0px; fill: rgb(171, 99, 250); fill-opacity: 1;\"/><path class=\"point\" transform=\"translate(262.36,359.39)\" d=\"M3,0A3,3 0 1,1 0,-3A3,3 0 0,1 3,0Z\" style=\"opacity: 1; stroke-width: 0px; fill: rgb(171, 99, 250); fill-opacity: 1;\"/><path class=\"point\" transform=\"translate(251.69,345.2)\" d=\"M3,0A3,3 0 1,1 0,-3A3,3 0 0,1 3,0Z\" style=\"opacity: 1; stroke-width: 0px; fill: rgb(171, 99, 250); fill-opacity: 1;\"/></g><g class=\"text\"/></g><g class=\"trace scatter traced23982\" style=\"stroke-miterlimit: 2; opacity: 1;\"><g class=\"fills\"/><g class=\"errorbars\"/><g class=\"lines\"/><g class=\"points\"><path class=\"point\" transform=\"translate(122.65,343.02)\" d=\"M3,0A3,3 0 1,1 0,-3A3,3 0 0,1 3,0Z\" style=\"opacity: 1; stroke-width: 0px; fill: rgb(255, 161, 90); fill-opacity: 1;\"/><path class=\"point\" transform=\"translate(122.97,335.37)\" d=\"M3,0A3,3 0 1,1 0,-3A3,3 0 0,1 3,0Z\" style=\"opacity: 1; stroke-width: 0px; fill: rgb(255, 161, 90); fill-opacity: 1;\"/><path class=\"point\" transform=\"translate(133.31,334.28)\" d=\"M3,0A3,3 0 1,1 0,-3A3,3 0 0,1 3,0Z\" style=\"opacity: 1; stroke-width: 0px; fill: rgb(255, 161, 90); fill-opacity: 1;\"/><path class=\"point\" transform=\"translate(98.57,331.01)\" d=\"M3,0A3,3 0 1,1 0,-3A3,3 0 0,1 3,0Z\" style=\"opacity: 1; stroke-width: 0px; fill: rgb(255, 161, 90); fill-opacity: 1;\"/><path class=\"point\" transform=\"translate(114.19,329.92)\" d=\"M3,0A3,3 0 1,1 0,-3A3,3 0 0,1 3,0Z\" style=\"opacity: 1; stroke-width: 0px; fill: rgb(255, 161, 90); fill-opacity: 1;\"/><path class=\"point\" transform=\"translate(114.17,347.38)\" d=\"M3,0A3,3 0 1,1 0,-3A3,3 0 0,1 3,0Z\" style=\"opacity: 1; stroke-width: 0px; fill: rgb(255, 161, 90); fill-opacity: 1;\"/><path class=\"point\" transform=\"translate(121.85,334.28)\" d=\"M3,0A3,3 0 1,1 0,-3A3,3 0 0,1 3,0Z\" style=\"opacity: 1; stroke-width: 0px; fill: rgb(255, 161, 90); fill-opacity: 1;\"/><path class=\"point\" transform=\"translate(114.17,326.64)\" d=\"M3,0A3,3 0 1,1 0,-3A3,3 0 0,1 3,0Z\" style=\"opacity: 1; stroke-width: 0px; fill: rgb(255, 161, 90); fill-opacity: 1;\"/><path class=\"point\" transform=\"translate(88.21,331.01)\" d=\"M3,0A3,3 0 1,1 0,-3A3,3 0 0,1 3,0Z\" style=\"opacity: 1; stroke-width: 0px; fill: rgb(255, 161, 90); fill-opacity: 1;\"/><path class=\"point\" transform=\"translate(91.45,355.02)\" d=\"M3,0A3,3 0 1,1 0,-3A3,3 0 0,1 3,0Z\" style=\"opacity: 1; stroke-width: 0px; fill: rgb(255, 161, 90); fill-opacity: 1;\"/><path class=\"point\" transform=\"translate(90.74,345.2)\" d=\"M3,0A3,3 0 1,1 0,-3A3,3 0 0,1 3,0Z\" style=\"opacity: 1; stroke-width: 0px; fill: rgb(255, 161, 90); fill-opacity: 1;\"/><path class=\"point\" transform=\"translate(91.45,339.74)\" d=\"M3,0A3,3 0 1,1 0,-3A3,3 0 0,1 3,0Z\" style=\"opacity: 1; stroke-width: 0px; fill: rgb(255, 161, 90); fill-opacity: 1;\"/><path class=\"point\" transform=\"translate(85.68,352.84)\" d=\"M3,0A3,3 0 1,1 0,-3A3,3 0 0,1 3,0Z\" style=\"opacity: 1; stroke-width: 0px; fill: rgb(255, 161, 90); fill-opacity: 1;\"/><path class=\"point\" transform=\"translate(107.53,293.89)\" d=\"M3,0A3,3 0 1,1 0,-3A3,3 0 0,1 3,0Z\" style=\"opacity: 1; stroke-width: 0px; fill: rgb(255, 161, 90); fill-opacity: 1;\"/><path class=\"point\" transform=\"translate(108.69,308.08)\" d=\"M3,0A3,3 0 1,1 0,-3A3,3 0 0,1 3,0Z\" style=\"opacity: 1; stroke-width: 0px; fill: rgb(255, 161, 90); fill-opacity: 1;\"/><path class=\"point\" transform=\"translate(111.04,327.73)\" d=\"M3,0A3,3 0 1,1 0,-3A3,3 0 0,1 3,0Z\" style=\"opacity: 1; stroke-width: 0px; fill: rgb(255, 161, 90); fill-opacity: 1;\"/><path class=\"point\" transform=\"translate(108.51,317.91)\" d=\"M3,0A3,3 0 1,1 0,-3A3,3 0 0,1 3,0Z\" style=\"opacity: 1; stroke-width: 0px; fill: rgb(255, 161, 90); fill-opacity: 1;\"/><path class=\"point\" transform=\"translate(136.06,23.15)\" d=\"M3,0A3,3 0 1,1 0,-3A3,3 0 0,1 3,0Z\" style=\"opacity: 1; stroke-width: 0px; fill: rgb(255, 161, 90); fill-opacity: 1;\"/><path class=\"point\" transform=\"translate(126.37,335.37)\" d=\"M3,0A3,3 0 1,1 0,-3A3,3 0 0,1 3,0Z\" style=\"opacity: 1; stroke-width: 0px; fill: rgb(255, 161, 90); fill-opacity: 1;\"/><path class=\"point\" transform=\"translate(133.93,338.65)\" d=\"M3,0A3,3 0 1,1 0,-3A3,3 0 0,1 3,0Z\" style=\"opacity: 1; stroke-width: 0px; fill: rgb(255, 161, 90); fill-opacity: 1;\"/><path class=\"point\" transform=\"translate(130.13,343.02)\" d=\"M3,0A3,3 0 1,1 0,-3A3,3 0 0,1 3,0Z\" style=\"opacity: 1; stroke-width: 0px; fill: rgb(255, 161, 90); fill-opacity: 1;\"/><path class=\"point\" transform=\"translate(154.87,325.55)\" d=\"M3,0A3,3 0 1,1 0,-3A3,3 0 0,1 3,0Z\" style=\"opacity: 1; stroke-width: 0px; fill: rgb(255, 161, 90); fill-opacity: 1;\"/><path class=\"point\" transform=\"translate(138.49,284.06)\" d=\"M3,0A3,3 0 1,1 0,-3A3,3 0 0,1 3,0Z\" style=\"opacity: 1; stroke-width: 0px; fill: rgb(255, 161, 90); fill-opacity: 1;\"/><path class=\"point\" transform=\"translate(145.6,293.89)\" d=\"M3,0A3,3 0 1,1 0,-3A3,3 0 0,1 3,0Z\" style=\"opacity: 1; stroke-width: 0px; fill: rgb(255, 161, 90); fill-opacity: 1;\"/><path class=\"point\" transform=\"translate(130.13,315.72)\" d=\"M3,0A3,3 0 1,1 0,-3A3,3 0 0,1 3,0Z\" style=\"opacity: 1; stroke-width: 0px; fill: rgb(255, 161, 90); fill-opacity: 1;\"/><path class=\"point\" transform=\"translate(162.07,353.93)\" d=\"M3,0A3,3 0 1,1 0,-3A3,3 0 0,1 3,0Z\" style=\"opacity: 1; stroke-width: 0px; fill: rgb(255, 161, 90); fill-opacity: 1;\"/><path class=\"point\" transform=\"translate(148.59,289.52)\" d=\"M3,0A3,3 0 1,1 0,-3A3,3 0 0,1 3,0Z\" style=\"opacity: 1; stroke-width: 0px; fill: rgb(255, 161, 90); fill-opacity: 1;\"/><path class=\"point\" transform=\"translate(130.13,333.19)\" d=\"M3,0A3,3 0 1,1 0,-3A3,3 0 0,1 3,0Z\" style=\"opacity: 1; stroke-width: 0px; fill: rgb(255, 161, 90); fill-opacity: 1;\"/><path class=\"point\" transform=\"translate(142.95,306.99)\" d=\"M3,0A3,3 0 1,1 0,-3A3,3 0 0,1 3,0Z\" style=\"opacity: 1; stroke-width: 0px; fill: rgb(255, 161, 90); fill-opacity: 1;\"/><path class=\"point\" transform=\"translate(159.26,322.27)\" d=\"M3,0A3,3 0 1,1 0,-3A3,3 0 0,1 3,0Z\" style=\"opacity: 1; stroke-width: 0px; fill: rgb(255, 161, 90); fill-opacity: 1;\"/><path class=\"point\" transform=\"translate(138.19,328.82)\" d=\"M3,0A3,3 0 1,1 0,-3A3,3 0 0,1 3,0Z\" style=\"opacity: 1; stroke-width: 0px; fill: rgb(255, 161, 90); fill-opacity: 1;\"/><path class=\"point\" transform=\"translate(157.32,334.28)\" d=\"M3,0A3,3 0 1,1 0,-3A3,3 0 0,1 3,0Z\" style=\"opacity: 1; stroke-width: 0px; fill: rgb(255, 161, 90); fill-opacity: 1;\"/><path class=\"point\" transform=\"translate(153.2,313.54)\" d=\"M3,0A3,3 0 1,1 0,-3A3,3 0 0,1 3,0Z\" style=\"opacity: 1; stroke-width: 0px; fill: rgb(255, 161, 90); fill-opacity: 1;\"/><path class=\"point\" transform=\"translate(156.25,335.37)\" d=\"M3,0A3,3 0 1,1 0,-3A3,3 0 0,1 3,0Z\" style=\"opacity: 1; stroke-width: 0px; fill: rgb(255, 161, 90); fill-opacity: 1;\"/><path class=\"point\" transform=\"translate(130.13,340.83)\" d=\"M3,0A3,3 0 1,1 0,-3A3,3 0 0,1 3,0Z\" style=\"opacity: 1; stroke-width: 0px; fill: rgb(255, 161, 90); fill-opacity: 1;\"/><path class=\"point\" transform=\"translate(145.6,341.92)\" d=\"M3,0A3,3 0 1,1 0,-3A3,3 0 0,1 3,0Z\" style=\"opacity: 1; stroke-width: 0px; fill: rgb(255, 161, 90); fill-opacity: 1;\"/><path class=\"point\" transform=\"translate(139.49,341.92)\" d=\"M3,0A3,3 0 1,1 0,-3A3,3 0 0,1 3,0Z\" style=\"opacity: 1; stroke-width: 0px; fill: rgb(255, 161, 90); fill-opacity: 1;\"/><path class=\"point\" transform=\"translate(113.37,258.96)\" d=\"M3,0A3,3 0 1,1 0,-3A3,3 0 0,1 3,0Z\" style=\"opacity: 1; stroke-width: 0px; fill: rgb(255, 161, 90); fill-opacity: 1;\"/><path class=\"point\" transform=\"translate(126.37,335.37)\" d=\"M3,0A3,3 0 1,1 0,-3A3,3 0 0,1 3,0Z\" style=\"opacity: 1; stroke-width: 0px; fill: rgb(255, 161, 90); fill-opacity: 1;\"/><path class=\"point\" transform=\"translate(114.19,348.47)\" d=\"M3,0A3,3 0 1,1 0,-3A3,3 0 0,1 3,0Z\" style=\"opacity: 1; stroke-width: 0px; fill: rgb(255, 161, 90); fill-opacity: 1;\"/><path class=\"point\" transform=\"translate(109.85,336.47)\" d=\"M3,0A3,3 0 1,1 0,-3A3,3 0 0,1 3,0Z\" style=\"opacity: 1; stroke-width: 0px; fill: rgb(255, 161, 90); fill-opacity: 1;\"/><path class=\"point\" transform=\"translate(116.93,351.75)\" d=\"M3,0A3,3 0 1,1 0,-3A3,3 0 0,1 3,0Z\" style=\"opacity: 1; stroke-width: 0px; fill: rgb(255, 161, 90); fill-opacity: 1;\"/><path class=\"point\" transform=\"translate(99.9,313.54)\" d=\"M3,0A3,3 0 1,1 0,-3A3,3 0 0,1 3,0Z\" style=\"opacity: 1; stroke-width: 0px; fill: rgb(255, 161, 90); fill-opacity: 1;\"/><path class=\"point\" transform=\"translate(97.67,296.07)\" d=\"M3,0A3,3 0 1,1 0,-3A3,3 0 0,1 3,0Z\" style=\"opacity: 1; stroke-width: 0px; fill: rgb(255, 161, 90); fill-opacity: 1;\"/><path class=\"point\" transform=\"translate(100.31,323.37)\" d=\"M3,0A3,3 0 1,1 0,-3A3,3 0 0,1 3,0Z\" style=\"opacity: 1; stroke-width: 0px; fill: rgb(255, 161, 90); fill-opacity: 1;\"/><path class=\"point\" transform=\"translate(95.84,331.01)\" d=\"M3,0A3,3 0 1,1 0,-3A3,3 0 0,1 3,0Z\" style=\"opacity: 1; stroke-width: 0px; fill: rgb(255, 161, 90); fill-opacity: 1;\"/><path class=\"point\" transform=\"translate(114.17,350.66)\" d=\"M3,0A3,3 0 1,1 0,-3A3,3 0 0,1 3,0Z\" style=\"opacity: 1; stroke-width: 0px; fill: rgb(255, 161, 90); fill-opacity: 1;\"/><path class=\"point\" transform=\"translate(131.75,346.29)\" d=\"M3,0A3,3 0 1,1 0,-3A3,3 0 0,1 3,0Z\" style=\"opacity: 1; stroke-width: 0px; fill: rgb(255, 161, 90); fill-opacity: 1;\"/><path class=\"point\" transform=\"translate(135.6,348.47)\" d=\"M3,0A3,3 0 1,1 0,-3A3,3 0 0,1 3,0Z\" style=\"opacity: 1; stroke-width: 0px; fill: rgb(255, 161, 90); fill-opacity: 1;\"/><path class=\"point\" transform=\"translate(121.24,352.84)\" d=\"M3,0A3,3 0 1,1 0,-3A3,3 0 0,1 3,0Z\" style=\"opacity: 1; stroke-width: 0px; fill: rgb(255, 161, 90); fill-opacity: 1;\"/><path class=\"point\" transform=\"translate(134.77,344.11)\" d=\"M3,0A3,3 0 1,1 0,-3A3,3 0 0,1 3,0Z\" style=\"opacity: 1; stroke-width: 0px; fill: rgb(255, 161, 90); fill-opacity: 1;\"/><path class=\"point\" transform=\"translate(115.74,360.48)\" d=\"M3,0A3,3 0 1,1 0,-3A3,3 0 0,1 3,0Z\" style=\"opacity: 1; stroke-width: 0px; fill: rgb(255, 161, 90); fill-opacity: 1;\"/><path class=\"point\" transform=\"translate(138.19,352.84)\" d=\"M3,0A3,3 0 1,1 0,-3A3,3 0 0,1 3,0Z\" style=\"opacity: 1; stroke-width: 0px; fill: rgb(255, 161, 90); fill-opacity: 1;\"/><path class=\"point\" transform=\"translate(133.49,348.47)\" d=\"M3,0A3,3 0 1,1 0,-3A3,3 0 0,1 3,0Z\" style=\"opacity: 1; stroke-width: 0px; fill: rgb(255, 161, 90); fill-opacity: 1;\"/><path class=\"point\" transform=\"translate(54.93,356.12)\" d=\"M3,0A3,3 0 1,1 0,-3A3,3 0 0,1 3,0Z\" style=\"opacity: 1; stroke-width: 0px; fill: rgb(255, 161, 90); fill-opacity: 1;\"/><path class=\"point\" transform=\"translate(63.84,339.74)\" d=\"M3,0A3,3 0 1,1 0,-3A3,3 0 0,1 3,0Z\" style=\"opacity: 1; stroke-width: 0px; fill: rgb(255, 161, 90); fill-opacity: 1;\"/><path class=\"point\" transform=\"translate(71.66,344.11)\" d=\"M3,0A3,3 0 1,1 0,-3A3,3 0 0,1 3,0Z\" style=\"opacity: 1; stroke-width: 0px; fill: rgb(255, 161, 90); fill-opacity: 1;\"/><path class=\"point\" transform=\"translate(74.67,350.66)\" d=\"M3,0A3,3 0 1,1 0,-3A3,3 0 0,1 3,0Z\" style=\"opacity: 1; stroke-width: 0px; fill: rgb(255, 161, 90); fill-opacity: 1;\"/><path class=\"point\" transform=\"translate(79.39,334.28)\" d=\"M3,0A3,3 0 1,1 0,-3A3,3 0 0,1 3,0Z\" style=\"opacity: 1; stroke-width: 0px; fill: rgb(255, 161, 90); fill-opacity: 1;\"/><path class=\"point\" transform=\"translate(76.74,363.76)\" d=\"M3,0A3,3 0 1,1 0,-3A3,3 0 0,1 3,0Z\" style=\"opacity: 1; stroke-width: 0px; fill: rgb(255, 161, 90); fill-opacity: 1;\"/><path class=\"point\" transform=\"translate(69.75,357.21)\" d=\"M3,0A3,3 0 1,1 0,-3A3,3 0 0,1 3,0Z\" style=\"opacity: 1; stroke-width: 0px; fill: rgb(255, 161, 90); fill-opacity: 1;\"/><path class=\"point\" transform=\"translate(77.43,284.06)\" d=\"M3,0A3,3 0 1,1 0,-3A3,3 0 0,1 3,0Z\" style=\"opacity: 1; stroke-width: 0px; fill: rgb(255, 161, 90); fill-opacity: 1;\"/><path class=\"point\" transform=\"translate(84.33,361.57)\" d=\"M3,0A3,3 0 1,1 0,-3A3,3 0 0,1 3,0Z\" style=\"opacity: 1; stroke-width: 0px; fill: rgb(255, 161, 90); fill-opacity: 1;\"/><path class=\"point\" transform=\"translate(44.01,362.67)\" d=\"M3,0A3,3 0 1,1 0,-3A3,3 0 0,1 3,0Z\" style=\"opacity: 1; stroke-width: 0px; fill: rgb(255, 161, 90); fill-opacity: 1;\"/><path class=\"point\" transform=\"translate(28.55,364.85)\" d=\"M3,0A3,3 0 1,1 0,-3A3,3 0 0,1 3,0Z\" style=\"opacity: 1; stroke-width: 0px; fill: rgb(255, 161, 90); fill-opacity: 1;\"/><path class=\"point\" transform=\"translate(51.9,364.85)\" d=\"M3,0A3,3 0 1,1 0,-3A3,3 0 0,1 3,0Z\" style=\"opacity: 1; stroke-width: 0px; fill: rgb(255, 161, 90); fill-opacity: 1;\"/><path class=\"point\" transform=\"translate(89.66,347.38)\" d=\"M3,0A3,3 0 1,1 0,-3A3,3 0 0,1 3,0Z\" style=\"opacity: 1; stroke-width: 0px; fill: rgb(255, 161, 90); fill-opacity: 1;\"/><path class=\"point\" transform=\"translate(87.82,353.93)\" d=\"M3,0A3,3 0 1,1 0,-3A3,3 0 0,1 3,0Z\" style=\"opacity: 1; stroke-width: 0px; fill: rgb(255, 161, 90); fill-opacity: 1;\"/><path class=\"point\" transform=\"translate(96.56,360.48)\" d=\"M3,0A3,3 0 1,1 0,-3A3,3 0 0,1 3,0Z\" style=\"opacity: 1; stroke-width: 0px; fill: rgb(255, 161, 90); fill-opacity: 1;\"/><path class=\"point\" transform=\"translate(93.25,360.48)\" d=\"M3,0A3,3 0 1,1 0,-3A3,3 0 0,1 3,0Z\" style=\"opacity: 1; stroke-width: 0px; fill: rgb(255, 161, 90); fill-opacity: 1;\"/></g><g class=\"text\"/></g><g class=\"trace scatter trace676dbe\" style=\"stroke-miterlimit: 2; opacity: 1;\"><g class=\"fills\"/><g class=\"errorbars\"/><g class=\"lines\"/><g class=\"points\"><path class=\"point\" transform=\"translate(325.4,355.02)\" d=\"M3,0A3,3 0 1,1 0,-3A3,3 0 0,1 3,0Z\" style=\"opacity: 1; stroke-width: 0px; fill: rgb(25, 211, 243); fill-opacity: 1;\"/><path class=\"point\" transform=\"translate(319.46,358.3)\" d=\"M3,0A3,3 0 1,1 0,-3A3,3 0 0,1 3,0Z\" style=\"opacity: 1; stroke-width: 0px; fill: rgb(25, 211, 243); fill-opacity: 1;\"/><path class=\"point\" transform=\"translate(323.41,355.02)\" d=\"M3,0A3,3 0 1,1 0,-3A3,3 0 0,1 3,0Z\" style=\"opacity: 1; stroke-width: 0px; fill: rgb(25, 211, 243); fill-opacity: 1;\"/><path class=\"point\" transform=\"translate(327.39,356.12)\" d=\"M3,0A3,3 0 1,1 0,-3A3,3 0 0,1 3,0Z\" style=\"opacity: 1; stroke-width: 0px; fill: rgb(25, 211, 243); fill-opacity: 1;\"/><path class=\"point\" transform=\"translate(385.35,358.3)\" d=\"M3,0A3,3 0 1,1 0,-3A3,3 0 0,1 3,0Z\" style=\"opacity: 1; stroke-width: 0px; fill: rgb(25, 211, 243); fill-opacity: 1;\"/><path class=\"point\" transform=\"translate(385.35,359.39)\" d=\"M3,0A3,3 0 1,1 0,-3A3,3 0 0,1 3,0Z\" style=\"opacity: 1; stroke-width: 0px; fill: rgb(25, 211, 243); fill-opacity: 1;\"/><path class=\"point\" transform=\"translate(408.71,353.93)\" d=\"M3,0A3,3 0 1,1 0,-3A3,3 0 0,1 3,0Z\" style=\"opacity: 1; stroke-width: 0px; fill: rgb(25, 211, 243); fill-opacity: 1;\"/><path class=\"point\" transform=\"translate(417.62,355.02)\" d=\"M3,0A3,3 0 1,1 0,-3A3,3 0 0,1 3,0Z\" style=\"opacity: 1; stroke-width: 0px; fill: rgb(25, 211, 243); fill-opacity: 1;\"/><path class=\"point\" transform=\"translate(431.58,359.39)\" d=\"M3,0A3,3 0 1,1 0,-3A3,3 0 0,1 3,0Z\" style=\"opacity: 1; stroke-width: 0px; fill: rgb(25, 211, 243); fill-opacity: 1;\"/><path class=\"point\" transform=\"translate(362.38,353.93)\" d=\"M3,0A3,3 0 1,1 0,-3A3,3 0 0,1 3,0Z\" style=\"opacity: 1; stroke-width: 0px; fill: rgb(25, 211, 243); fill-opacity: 1;\"/><path class=\"point\" transform=\"translate(362.38,360.48)\" d=\"M3,0A3,3 0 1,1 0,-3A3,3 0 0,1 3,0Z\" style=\"opacity: 1; stroke-width: 0px; fill: rgb(25, 211, 243); fill-opacity: 1;\"/><path class=\"point\" transform=\"translate(366.59,331.01)\" d=\"M3,0A3,3 0 1,1 0,-3A3,3 0 0,1 3,0Z\" style=\"opacity: 1; stroke-width: 0px; fill: rgb(25, 211, 243); fill-opacity: 1;\"/><path class=\"point\" transform=\"translate(366.59,360.48)\" d=\"M3,0A3,3 0 1,1 0,-3A3,3 0 0,1 3,0Z\" style=\"opacity: 1; stroke-width: 0px; fill: rgb(25, 211, 243); fill-opacity: 1;\"/><path class=\"point\" transform=\"translate(370.82,350.66)\" d=\"M3,0A3,3 0 1,1 0,-3A3,3 0 0,1 3,0Z\" style=\"opacity: 1; stroke-width: 0px; fill: rgb(25, 211, 243); fill-opacity: 1;\"/><path class=\"point\" transform=\"translate(247.08,352.84)\" d=\"M3,0A3,3 0 1,1 0,-3A3,3 0 0,1 3,0Z\" style=\"opacity: 1; stroke-width: 0px; fill: rgb(25, 211, 243); fill-opacity: 1;\"/><path class=\"point\" transform=\"translate(274.39,345.2)\" d=\"M3,0A3,3 0 1,1 0,-3A3,3 0 0,1 3,0Z\" style=\"opacity: 1; stroke-width: 0px; fill: rgb(25, 211, 243); fill-opacity: 1;\"/><path class=\"point\" transform=\"translate(278.07,355.02)\" d=\"M3,0A3,3 0 1,1 0,-3A3,3 0 0,1 3,0Z\" style=\"opacity: 1; stroke-width: 0px; fill: rgb(25, 211, 243); fill-opacity: 1;\"/><path class=\"point\" transform=\"translate(266.02,344.11)\" d=\"M3,0A3,3 0 1,1 0,-3A3,3 0 0,1 3,0Z\" style=\"opacity: 1; stroke-width: 0px; fill: rgb(25, 211, 243); fill-opacity: 1;\"/><path class=\"point\" transform=\"translate(269.61,331.01)\" d=\"M3,0A3,3 0 1,1 0,-3A3,3 0 0,1 3,0Z\" style=\"opacity: 1; stroke-width: 0px; fill: rgb(25, 211, 243); fill-opacity: 1;\"/><path class=\"point\" transform=\"translate(264.23,353.93)\" d=\"M3,0A3,3 0 1,1 0,-3A3,3 0 0,1 3,0Z\" style=\"opacity: 1; stroke-width: 0px; fill: rgb(25, 211, 243); fill-opacity: 1;\"/><path class=\"point\" transform=\"translate(271.41,347.38)\" d=\"M3,0A3,3 0 1,1 0,-3A3,3 0 0,1 3,0Z\" style=\"opacity: 1; stroke-width: 0px; fill: rgb(25, 211, 243); fill-opacity: 1;\"/><path class=\"point\" transform=\"translate(275.04,343.02)\" d=\"M3,0A3,3 0 1,1 0,-3A3,3 0 0,1 3,0Z\" style=\"opacity: 1; stroke-width: 0px; fill: rgb(25, 211, 243); fill-opacity: 1;\"/><path class=\"point\" transform=\"translate(243.21,340.83)\" d=\"M3,0A3,3 0 1,1 0,-3A3,3 0 0,1 3,0Z\" style=\"opacity: 1; stroke-width: 0px; fill: rgb(25, 211, 243); fill-opacity: 1;\"/><path class=\"point\" transform=\"translate(244.93,355.02)\" d=\"M3,0A3,3 0 1,1 0,-3A3,3 0 0,1 3,0Z\" style=\"opacity: 1; stroke-width: 0px; fill: rgb(25, 211, 243); fill-opacity: 1;\"/><path class=\"point\" transform=\"translate(257,346.29)\" d=\"M3,0A3,3 0 1,1 0,-3A3,3 0 0,1 3,0Z\" style=\"opacity: 1; stroke-width: 0px; fill: rgb(25, 211, 243); fill-opacity: 1;\"/><path class=\"point\" transform=\"translate(244.93,356.12)\" d=\"M3,0A3,3 0 1,1 0,-3A3,3 0 0,1 3,0Z\" style=\"opacity: 1; stroke-width: 0px; fill: rgb(25, 211, 243); fill-opacity: 1;\"/><path class=\"point\" transform=\"translate(308.6,356.12)\" d=\"M3,0A3,3 0 1,1 0,-3A3,3 0 0,1 3,0Z\" style=\"opacity: 1; stroke-width: 0px; fill: rgb(25, 211, 243); fill-opacity: 1;\"/><path class=\"point\" transform=\"translate(308.6,360.48)\" d=\"M3,0A3,3 0 1,1 0,-3A3,3 0 0,1 3,0Z\" style=\"opacity: 1; stroke-width: 0px; fill: rgb(25, 211, 243); fill-opacity: 1;\"/><path class=\"point\" transform=\"translate(352.6,245.86)\" d=\"M3,0A3,3 0 1,1 0,-3A3,3 0 0,1 3,0Z\" style=\"opacity: 1; stroke-width: 0px; fill: rgb(25, 211, 243); fill-opacity: 1;\"/><path class=\"point\" transform=\"translate(361.01,351.75)\" d=\"M3,0A3,3 0 1,1 0,-3A3,3 0 0,1 3,0Z\" style=\"opacity: 1; stroke-width: 0px; fill: rgb(25, 211, 243); fill-opacity: 1;\"/><path class=\"point\" transform=\"translate(358.9,355.02)\" d=\"M3,0A3,3 0 1,1 0,-3A3,3 0 0,1 3,0Z\" style=\"opacity: 1; stroke-width: 0px; fill: rgb(25, 211, 243); fill-opacity: 1;\"/><path class=\"point\" transform=\"translate(336.88,360.48)\" d=\"M3,0A3,3 0 1,1 0,-3A3,3 0 0,1 3,0Z\" style=\"opacity: 1; stroke-width: 0px; fill: rgb(25, 211, 243); fill-opacity: 1;\"/><path class=\"point\" transform=\"translate(291.66,353.93)\" d=\"M3,0A3,3 0 1,1 0,-3A3,3 0 0,1 3,0Z\" style=\"opacity: 1; stroke-width: 0px; fill: rgb(25, 211, 243); fill-opacity: 1;\"/><path class=\"point\" transform=\"translate(289.76,325.55)\" d=\"M3,0A3,3 0 1,1 0,-3A3,3 0 0,1 3,0Z\" style=\"opacity: 1; stroke-width: 0px; fill: rgb(25, 211, 243); fill-opacity: 1;\"/><path class=\"point\" transform=\"translate(298.57,350.66)\" d=\"M3,0A3,3 0 1,1 0,-3A3,3 0 0,1 3,0Z\" style=\"opacity: 1; stroke-width: 0px; fill: rgb(25, 211, 243); fill-opacity: 1;\"/><path class=\"point\" transform=\"translate(235.24,339.74)\" d=\"M3,0A3,3 0 1,1 0,-3A3,3 0 0,1 3,0Z\" style=\"opacity: 1; stroke-width: 0px; fill: rgb(25, 211, 243); fill-opacity: 1;\"/><path class=\"point\" transform=\"translate(233.56,338.65)\" d=\"M3,0A3,3 0 1,1 0,-3A3,3 0 0,1 3,0Z\" style=\"opacity: 1; stroke-width: 0px; fill: rgb(25, 211, 243); fill-opacity: 1;\"/><path class=\"point\" transform=\"translate(228.59,360.48)\" d=\"M3,0A3,3 0 1,1 0,-3A3,3 0 0,1 3,0Z\" style=\"opacity: 1; stroke-width: 0px; fill: rgb(25, 211, 243); fill-opacity: 1;\"/><path class=\"point\" transform=\"translate(240.28,225.11)\" d=\"M3,0A3,3 0 1,1 0,-3A3,3 0 0,1 3,0Z\" style=\"opacity: 1; stroke-width: 0px; fill: rgb(25, 211, 243); fill-opacity: 1;\"/><path class=\"point\" transform=\"translate(236.91,348.47)\" d=\"M3,0A3,3 0 1,1 0,-3A3,3 0 0,1 3,0Z\" style=\"opacity: 1; stroke-width: 0px; fill: rgb(25, 211, 243); fill-opacity: 1;\"/><path class=\"point\" transform=\"translate(238.59,351.75)\" d=\"M3,0A3,3 0 1,1 0,-3A3,3 0 0,1 3,0Z\" style=\"opacity: 1; stroke-width: 0px; fill: rgb(25, 211, 243); fill-opacity: 1;\"/><path class=\"point\" transform=\"translate(245.37,347.38)\" d=\"M3,0A3,3 0 1,1 0,-3A3,3 0 0,1 3,0Z\" style=\"opacity: 1; stroke-width: 0px; fill: rgb(25, 211, 243); fill-opacity: 1;\"/><path class=\"point\" transform=\"translate(270.72,355.02)\" d=\"M3,0A3,3 0 1,1 0,-3A3,3 0 0,1 3,0Z\" style=\"opacity: 1; stroke-width: 0px; fill: rgb(25, 211, 243); fill-opacity: 1;\"/><path class=\"point\" transform=\"translate(268.9,350.66)\" d=\"M3,0A3,3 0 1,1 0,-3A3,3 0 0,1 3,0Z\" style=\"opacity: 1; stroke-width: 0px; fill: rgb(25, 211, 243); fill-opacity: 1;\"/><path class=\"point\" transform=\"translate(280.51,356.12)\" d=\"M3,0A3,3 0 1,1 0,-3A3,3 0 0,1 3,0Z\" style=\"opacity: 1; stroke-width: 0px; fill: rgb(25, 211, 243); fill-opacity: 1;\"/><path class=\"point\" transform=\"translate(289.21,350.66)\" d=\"M3,0A3,3 0 1,1 0,-3A3,3 0 0,1 3,0Z\" style=\"opacity: 1; stroke-width: 0px; fill: rgb(25, 211, 243); fill-opacity: 1;\"/><path class=\"point\" transform=\"translate(294.83,356.12)\" d=\"M3,0A3,3 0 1,1 0,-3A3,3 0 0,1 3,0Z\" style=\"opacity: 1; stroke-width: 0px; fill: rgb(25, 211, 243); fill-opacity: 1;\"/><path class=\"point\" transform=\"translate(315.52,358.3)\" d=\"M3,0A3,3 0 1,1 0,-3A3,3 0 0,1 3,0Z\" style=\"opacity: 1; stroke-width: 0px; fill: rgb(25, 211, 243); fill-opacity: 1;\"/><path class=\"point\" transform=\"translate(364.52,358.3)\" d=\"M3,0A3,3 0 1,1 0,-3A3,3 0 0,1 3,0Z\" style=\"opacity: 1; stroke-width: 0px; fill: rgb(25, 211, 243); fill-opacity: 1;\"/><path class=\"point\" transform=\"translate(362.39,362.67)\" d=\"M3,0A3,3 0 1,1 0,-3A3,3 0 0,1 3,0Z\" style=\"opacity: 1; stroke-width: 0px; fill: rgb(25, 211, 243); fill-opacity: 1;\"/><path class=\"point\" transform=\"translate(258.9,268.78)\" d=\"M3,0A3,3 0 1,1 0,-3A3,3 0 0,1 3,0Z\" style=\"opacity: 1; stroke-width: 0px; fill: rgb(25, 211, 243); fill-opacity: 1;\"/><path class=\"point\" transform=\"translate(255.38,349.57)\" d=\"M3,0A3,3 0 1,1 0,-3A3,3 0 0,1 3,0Z\" style=\"opacity: 1; stroke-width: 0px; fill: rgb(25, 211, 243); fill-opacity: 1;\"/><path class=\"point\" transform=\"translate(240.28,341.92)\" d=\"M3,0A3,3 0 1,1 0,-3A3,3 0 0,1 3,0Z\" style=\"opacity: 1; stroke-width: 0px; fill: rgb(25, 211, 243); fill-opacity: 1;\"/><path class=\"point\" transform=\"translate(271.41,350.66)\" d=\"M3,0A3,3 0 1,1 0,-3A3,3 0 0,1 3,0Z\" style=\"opacity: 1; stroke-width: 0px; fill: rgb(25, 211, 243); fill-opacity: 1;\"/><path class=\"point\" transform=\"translate(264.23,356.12)\" d=\"M3,0A3,3 0 1,1 0,-3A3,3 0 0,1 3,0Z\" style=\"opacity: 1; stroke-width: 0px; fill: rgb(25, 211, 243); fill-opacity: 1;\"/><path class=\"point\" transform=\"translate(262.45,337.56)\" d=\"M3,0A3,3 0 1,1 0,-3A3,3 0 0,1 3,0Z\" style=\"opacity: 1; stroke-width: 0px; fill: rgb(25, 211, 243); fill-opacity: 1;\"/><path class=\"point\" transform=\"translate(373.08,348.47)\" d=\"M3,0A3,3 0 1,1 0,-3A3,3 0 0,1 3,0Z\" style=\"opacity: 1; stroke-width: 0px; fill: rgb(25, 211, 243); fill-opacity: 1;\"/><path class=\"point\" transform=\"translate(376.64,340.83)\" d=\"M3,0A3,3 0 1,1 0,-3A3,3 0 0,1 3,0Z\" style=\"opacity: 1; stroke-width: 0px; fill: rgb(25, 211, 243); fill-opacity: 1;\"/><path class=\"point\" transform=\"translate(389.73,351.75)\" d=\"M3,0A3,3 0 1,1 0,-3A3,3 0 0,1 3,0Z\" style=\"opacity: 1; stroke-width: 0px; fill: rgb(25, 211, 243); fill-opacity: 1;\"/><path class=\"point\" transform=\"translate(387.54,356.12)\" d=\"M3,0A3,3 0 1,1 0,-3A3,3 0 0,1 3,0Z\" style=\"opacity: 1; stroke-width: 0px; fill: rgb(25, 211, 243); fill-opacity: 1;\"/><path class=\"point\" transform=\"translate(391.93,355.02)\" d=\"M3,0A3,3 0 1,1 0,-3A3,3 0 0,1 3,0Z\" style=\"opacity: 1; stroke-width: 0px; fill: rgb(25, 211, 243); fill-opacity: 1;\"/><path class=\"point\" transform=\"translate(392.61,352.84)\" d=\"M3,0A3,3 0 1,1 0,-3A3,3 0 0,1 3,0Z\" style=\"opacity: 1; stroke-width: 0px; fill: rgb(25, 211, 243); fill-opacity: 1;\"/><path class=\"point\" transform=\"translate(405.22,362.67)\" d=\"M3,0A3,3 0 1,1 0,-3A3,3 0 0,1 3,0Z\" style=\"opacity: 1; stroke-width: 0px; fill: rgb(25, 211, 243); fill-opacity: 1;\"/><path class=\"point\" transform=\"translate(408.71,348.47)\" d=\"M3,0A3,3 0 1,1 0,-3A3,3 0 0,1 3,0Z\" style=\"opacity: 1; stroke-width: 0px; fill: rgb(25, 211, 243); fill-opacity: 1;\"/><path class=\"point\" transform=\"translate(395.47,363.76)\" d=\"M3,0A3,3 0 1,1 0,-3A3,3 0 0,1 3,0Z\" style=\"opacity: 1; stroke-width: 0px; fill: rgb(25, 211, 243); fill-opacity: 1;\"/><path class=\"point\" transform=\"translate(462.42,358.3)\" d=\"M3,0A3,3 0 1,1 0,-3A3,3 0 0,1 3,0Z\" style=\"opacity: 1; stroke-width: 0px; fill: rgb(25, 211, 243); fill-opacity: 1;\"/><path class=\"point\" transform=\"translate(460.04,343.02)\" d=\"M3,0A3,3 0 1,1 0,-3A3,3 0 0,1 3,0Z\" style=\"opacity: 1; stroke-width: 0px; fill: rgb(25, 211, 243); fill-opacity: 1;\"/><path class=\"point\" transform=\"translate(427.09,352.84)\" d=\"M3,0A3,3 0 1,1 0,-3A3,3 0 0,1 3,0Z\" style=\"opacity: 1; stroke-width: 0px; fill: rgb(25, 211, 243); fill-opacity: 1;\"/><path class=\"point\" transform=\"translate(455.82,355.02)\" d=\"M3,0A3,3 0 1,1 0,-3A3,3 0 0,1 3,0Z\" style=\"opacity: 1; stroke-width: 0px; fill: rgb(25, 211, 243); fill-opacity: 1;\"/><path class=\"point\" transform=\"translate(453.51,359.39)\" d=\"M3,0A3,3 0 1,1 0,-3A3,3 0 0,1 3,0Z\" style=\"opacity: 1; stroke-width: 0px; fill: rgb(25, 211, 243); fill-opacity: 1;\"/><path class=\"point\" transform=\"translate(451.2,362.67)\" d=\"M3,0A3,3 0 1,1 0,-3A3,3 0 0,1 3,0Z\" style=\"opacity: 1; stroke-width: 0px; fill: rgb(25, 211, 243); fill-opacity: 1;\"/><path class=\"point\" transform=\"translate(453.51,352.84)\" d=\"M3,0A3,3 0 1,1 0,-3A3,3 0 0,1 3,0Z\" style=\"opacity: 1; stroke-width: 0px; fill: rgb(25, 211, 243); fill-opacity: 1;\"/><path class=\"point\" transform=\"translate(467.45,360.48)\" d=\"M3,0A3,3 0 1,1 0,-3A3,3 0 0,1 3,0Z\" style=\"opacity: 1; stroke-width: 0px; fill: rgb(25, 211, 243); fill-opacity: 1;\"/><path class=\"point\" transform=\"translate(462.78,351.75)\" d=\"M3,0A3,3 0 1,1 0,-3A3,3 0 0,1 3,0Z\" style=\"opacity: 1; stroke-width: 0px; fill: rgb(25, 211, 243); fill-opacity: 1;\"/><path class=\"point\" transform=\"translate(298.57,359.39)\" d=\"M3,0A3,3 0 1,1 0,-3A3,3 0 0,1 3,0Z\" style=\"opacity: 1; stroke-width: 0px; fill: rgb(25, 211, 243); fill-opacity: 1;\"/><path class=\"point\" transform=\"translate(302.43,356.12)\" d=\"M3,0A3,3 0 1,1 0,-3A3,3 0 0,1 3,0Z\" style=\"opacity: 1; stroke-width: 0px; fill: rgb(25, 211, 243); fill-opacity: 1;\"/><path class=\"point\" transform=\"translate(311.83,356.12)\" d=\"M3,0A3,3 0 1,1 0,-3A3,3 0 0,1 3,0Z\" style=\"opacity: 1; stroke-width: 0px; fill: rgb(25, 211, 243); fill-opacity: 1;\"/><path class=\"point\" transform=\"translate(313.82,316.82)\" d=\"M3,0A3,3 0 1,1 0,-3A3,3 0 0,1 3,0Z\" style=\"opacity: 1; stroke-width: 0px; fill: rgb(25, 211, 243); fill-opacity: 1;\"/><path class=\"point\" transform=\"translate(308.27,358.3)\" d=\"M3,0A3,3 0 1,1 0,-3A3,3 0 0,1 3,0Z\" style=\"opacity: 1; stroke-width: 0px; fill: rgb(25, 211, 243); fill-opacity: 1;\"/><path class=\"point\" transform=\"translate(304.37,349.57)\" d=\"M3,0A3,3 0 1,1 0,-3A3,3 0 0,1 3,0Z\" style=\"opacity: 1; stroke-width: 0px; fill: rgb(25, 211, 243); fill-opacity: 1;\"/><path class=\"point\" transform=\"translate(319.81,355.02)\" d=\"M3,0A3,3 0 1,1 0,-3A3,3 0 0,1 3,0Z\" style=\"opacity: 1; stroke-width: 0px; fill: rgb(25, 211, 243); fill-opacity: 1;\"/><path class=\"point\" transform=\"translate(323.83,359.39)\" d=\"M3,0A3,3 0 1,1 0,-3A3,3 0 0,1 3,0Z\" style=\"opacity: 1; stroke-width: 0px; fill: rgb(25, 211, 243); fill-opacity: 1;\"/><path class=\"point\" transform=\"translate(336.03,352.84)\" d=\"M3,0A3,3 0 1,1 0,-3A3,3 0 0,1 3,0Z\" style=\"opacity: 1; stroke-width: 0px; fill: rgb(25, 211, 243); fill-opacity: 1;\"/><path class=\"point\" transform=\"translate(229.17,350.66)\" d=\"M3,0A3,3 0 1,1 0,-3A3,3 0 0,1 3,0Z\" style=\"opacity: 1; stroke-width: 0px; fill: rgb(25, 211, 243); fill-opacity: 1;\"/><path class=\"point\" transform=\"translate(235.87,348.47)\" d=\"M3,0A3,3 0 1,1 0,-3A3,3 0 0,1 3,0Z\" style=\"opacity: 1; stroke-width: 0px; fill: rgb(25, 211, 243); fill-opacity: 1;\"/><path class=\"point\" transform=\"translate(295.35,355.02)\" d=\"M3,0A3,3 0 1,1 0,-3A3,3 0 0,1 3,0Z\" style=\"opacity: 1; stroke-width: 0px; fill: rgb(25, 211, 243); fill-opacity: 1;\"/><path class=\"point\" transform=\"translate(304.78,351.75)\" d=\"M3,0A3,3 0 1,1 0,-3A3,3 0 0,1 3,0Z\" style=\"opacity: 1; stroke-width: 0px; fill: rgb(25, 211, 243); fill-opacity: 1;\"/><path class=\"point\" transform=\"translate(248.39,358.3)\" d=\"M3,0A3,3 0 1,1 0,-3A3,3 0 0,1 3,0Z\" style=\"opacity: 1; stroke-width: 0px; fill: rgb(25, 211, 243); fill-opacity: 1;\"/><path class=\"point\" transform=\"translate(240.28,344.11)\" d=\"M3,0A3,3 0 1,1 0,-3A3,3 0 0,1 3,0Z\" style=\"opacity: 1; stroke-width: 0px; fill: rgb(25, 211, 243); fill-opacity: 1;\"/><path class=\"point\" transform=\"translate(253.01,344.11)\" d=\"M3,0A3,3 0 1,1 0,-3A3,3 0 0,1 3,0Z\" style=\"opacity: 1; stroke-width: 0px; fill: rgb(25, 211, 243); fill-opacity: 1;\"/><path class=\"point\" transform=\"translate(241.49,353.93)\" d=\"M3,0A3,3 0 1,1 0,-3A3,3 0 0,1 3,0Z\" style=\"opacity: 1; stroke-width: 0px; fill: rgb(25, 211, 243); fill-opacity: 1;\"/><path class=\"point\" transform=\"translate(251.26,340.83)\" d=\"M3,0A3,3 0 1,1 0,-3A3,3 0 0,1 3,0Z\" style=\"opacity: 1; stroke-width: 0px; fill: rgb(25, 211, 243); fill-opacity: 1;\"/><path class=\"point\" transform=\"translate(254.77,333.19)\" d=\"M3,0A3,3 0 1,1 0,-3A3,3 0 0,1 3,0Z\" style=\"opacity: 1; stroke-width: 0px; fill: rgb(25, 211, 243); fill-opacity: 1;\"/><path class=\"point\" transform=\"translate(256.53,326.64)\" d=\"M3,0A3,3 0 1,1 0,-3A3,3 0 0,1 3,0Z\" style=\"opacity: 1; stroke-width: 0px; fill: rgb(25, 211, 243); fill-opacity: 1;\"/><path class=\"point\" transform=\"translate(258.9,356.12)\" d=\"M3,0A3,3 0 1,1 0,-3A3,3 0 0,1 3,0Z\" style=\"opacity: 1; stroke-width: 0px; fill: rgb(25, 211, 243); fill-opacity: 1;\"/></g><g class=\"text\"/></g><g class=\"trace scatter trace57283f\" style=\"stroke-miterlimit: 2; opacity: 1;\"><g class=\"fills\"/><g class=\"errorbars\"/><g class=\"lines\"/><g class=\"points\"><path class=\"point\" transform=\"translate(99.1,363.76)\" d=\"M3,0A3,3 0 1,1 0,-3A3,3 0 0,1 3,0Z\" style=\"opacity: 1; stroke-width: 0px; fill: rgb(255, 102, 146); fill-opacity: 1;\"/><path class=\"point\" transform=\"translate(86.67,364.85)\" d=\"M3,0A3,3 0 1,1 0,-3A3,3 0 0,1 3,0Z\" style=\"opacity: 1; stroke-width: 0px; fill: rgb(255, 102, 146); fill-opacity: 1;\"/><path class=\"point\" transform=\"translate(93.59,361.57)\" d=\"M3,0A3,3 0 1,1 0,-3A3,3 0 0,1 3,0Z\" style=\"opacity: 1; stroke-width: 0px; fill: rgb(255, 102, 146); fill-opacity: 1;\"/><path class=\"point\" transform=\"translate(95.78,364.85)\" d=\"M3,0A3,3 0 1,1 0,-3A3,3 0 0,1 3,0Z\" style=\"opacity: 1; stroke-width: 0px; fill: rgb(255, 102, 146); fill-opacity: 1;\"/><path class=\"point\" transform=\"translate(86.67,362.67)\" d=\"M3,0A3,3 0 1,1 0,-3A3,3 0 0,1 3,0Z\" style=\"opacity: 1; stroke-width: 0px; fill: rgb(255, 102, 146); fill-opacity: 1;\"/><path class=\"point\" transform=\"translate(113.01,364.85)\" d=\"M3,0A3,3 0 1,1 0,-3A3,3 0 0,1 3,0Z\" style=\"opacity: 1; stroke-width: 0px; fill: rgb(255, 102, 146); fill-opacity: 1;\"/><path class=\"point\" transform=\"translate(109.86,341.92)\" d=\"M3,0A3,3 0 1,1 0,-3A3,3 0 0,1 3,0Z\" style=\"opacity: 1; stroke-width: 0px; fill: rgb(255, 102, 146); fill-opacity: 1;\"/><path class=\"point\" transform=\"translate(111.04,360.48)\" d=\"M3,0A3,3 0 1,1 0,-3A3,3 0 0,1 3,0Z\" style=\"opacity: 1; stroke-width: 0px; fill: rgb(255, 102, 146); fill-opacity: 1;\"/><path class=\"point\" transform=\"translate(114.19,363.76)\" d=\"M3,0A3,3 0 1,1 0,-3A3,3 0 0,1 3,0Z\" style=\"opacity: 1; stroke-width: 0px; fill: rgb(255, 102, 146); fill-opacity: 1;\"/><path class=\"point\" transform=\"translate(105.56,364.85)\" d=\"M3,0A3,3 0 1,1 0,-3A3,3 0 0,1 3,0Z\" style=\"opacity: 1; stroke-width: 0px; fill: rgb(255, 102, 146); fill-opacity: 1;\"/><path class=\"point\" transform=\"translate(99.55,362.67)\" d=\"M3,0A3,3 0 1,1 0,-3A3,3 0 0,1 3,0Z\" style=\"opacity: 1; stroke-width: 0px; fill: rgb(255, 102, 146); fill-opacity: 1;\"/><path class=\"point\" transform=\"translate(91.72,362.67)\" d=\"M3,0A3,3 0 1,1 0,-3A3,3 0 0,1 3,0Z\" style=\"opacity: 1; stroke-width: 0px; fill: rgb(255, 102, 146); fill-opacity: 1;\"/><path class=\"point\" transform=\"translate(100.68,362.67)\" d=\"M3,0A3,3 0 1,1 0,-3A3,3 0 0,1 3,0Z\" style=\"opacity: 1; stroke-width: 0px; fill: rgb(255, 102, 146); fill-opacity: 1;\"/><path class=\"point\" transform=\"translate(103.28,364.85)\" d=\"M3,0A3,3 0 1,1 0,-3A3,3 0 0,1 3,0Z\" style=\"opacity: 1; stroke-width: 0px; fill: rgb(255, 102, 146); fill-opacity: 1;\"/><path class=\"point\" transform=\"translate(101.81,363.76)\" d=\"M3,0A3,3 0 1,1 0,-3A3,3 0 0,1 3,0Z\" style=\"opacity: 1; stroke-width: 0px; fill: rgb(255, 102, 146); fill-opacity: 1;\"/><path class=\"point\" transform=\"translate(127.47,362.67)\" d=\"M3,0A3,3 0 1,1 0,-3A3,3 0 0,1 3,0Z\" style=\"opacity: 1; stroke-width: 0px; fill: rgb(255, 102, 146); fill-opacity: 1;\"/><path class=\"point\" transform=\"translate(113.4,363.76)\" d=\"M3,0A3,3 0 1,1 0,-3A3,3 0 0,1 3,0Z\" style=\"opacity: 1; stroke-width: 0px; fill: rgb(255, 102, 146); fill-opacity: 1;\"/><path class=\"point\" transform=\"translate(109.85,363.76)\" d=\"M3,0A3,3 0 1,1 0,-3A3,3 0 0,1 3,0Z\" style=\"opacity: 1; stroke-width: 0px; fill: rgb(255, 102, 146); fill-opacity: 1;\"/><path class=\"point\" transform=\"translate(121.4,357.21)\" d=\"M3,0A3,3 0 1,1 0,-3A3,3 0 0,1 3,0Z\" style=\"opacity: 1; stroke-width: 0px; fill: rgb(255, 102, 146); fill-opacity: 1;\"/><path class=\"point\" transform=\"translate(116.93,361.57)\" d=\"M3,0A3,3 0 1,1 0,-3A3,3 0 0,1 3,0Z\" style=\"opacity: 1; stroke-width: 0px; fill: rgb(255, 102, 146); fill-opacity: 1;\"/><path class=\"point\" transform=\"translate(113.37,359.39)\" d=\"M3,0A3,3 0 1,1 0,-3A3,3 0 0,1 3,0Z\" style=\"opacity: 1; stroke-width: 0px; fill: rgb(255, 102, 146); fill-opacity: 1;\"/><path class=\"point\" transform=\"translate(114.19,363.76)\" d=\"M3,0A3,3 0 1,1 0,-3A3,3 0 0,1 3,0Z\" style=\"opacity: 1; stroke-width: 0px; fill: rgb(255, 102, 146); fill-opacity: 1;\"/><path class=\"point\" transform=\"translate(118.98,361.57)\" d=\"M3,0A3,3 0 1,1 0,-3A3,3 0 0,1 3,0Z\" style=\"opacity: 1; stroke-width: 0px; fill: rgb(255, 102, 146); fill-opacity: 1;\"/><path class=\"point\" transform=\"translate(90.64,363.76)\" d=\"M3,0A3,3 0 1,1 0,-3A3,3 0 0,1 3,0Z\" style=\"opacity: 1; stroke-width: 0px; fill: rgb(255, 102, 146); fill-opacity: 1;\"/><path class=\"point\" transform=\"translate(87.13,361.57)\" d=\"M3,0A3,3 0 1,1 0,-3A3,3 0 0,1 3,0Z\" style=\"opacity: 1; stroke-width: 0px; fill: rgb(255, 102, 146); fill-opacity: 1;\"/><path class=\"point\" transform=\"translate(88.5,363.76)\" d=\"M3,0A3,3 0 1,1 0,-3A3,3 0 0,1 3,0Z\" style=\"opacity: 1; stroke-width: 0px; fill: rgb(255, 102, 146); fill-opacity: 1;\"/></g><g class=\"text\"/></g><g class=\"trace scatter tracede694e\" style=\"stroke-miterlimit: 2; opacity: 1;\"><g class=\"fills\"/><g class=\"errorbars\"/><g class=\"lines\"/><g class=\"points\"><path class=\"point\" transform=\"translate(157.77,362.67)\" d=\"M3,0A3,3 0 1,1 0,-3A3,3 0 0,1 3,0Z\" style=\"opacity: 1; stroke-width: 0px; fill: rgb(182, 232, 128); fill-opacity: 1;\"/><path class=\"point\" transform=\"translate(157.35,362.67)\" d=\"M3,0A3,3 0 1,1 0,-3A3,3 0 0,1 3,0Z\" style=\"opacity: 1; stroke-width: 0px; fill: rgb(182, 232, 128); fill-opacity: 1;\"/><path class=\"point\" transform=\"translate(159.15,344.11)\" d=\"M3,0A3,3 0 1,1 0,-3A3,3 0 0,1 3,0Z\" style=\"opacity: 1; stroke-width: 0px; fill: rgb(182, 232, 128); fill-opacity: 1;\"/></g><g class=\"text\"/></g><g class=\"trace scatter traced0e481\" style=\"stroke-miterlimit: 2; opacity: 1;\"><g class=\"fills\"/><g class=\"errorbars\"/><g class=\"lines\"/><g class=\"points\"><path class=\"point\" transform=\"translate(106.01,349.57)\" d=\"M3,0A3,3 0 1,1 0,-3A3,3 0 0,1 3,0Z\" style=\"opacity: 1; stroke-width: 0px; fill: rgb(255, 151, 255); fill-opacity: 1;\"/><path class=\"point\" transform=\"translate(108.32,336.47)\" d=\"M3,0A3,3 0 1,1 0,-3A3,3 0 0,1 3,0Z\" style=\"opacity: 1; stroke-width: 0px; fill: rgb(255, 151, 255); fill-opacity: 1;\"/><path class=\"point\" transform=\"translate(110.65,352.84)\" d=\"M3,0A3,3 0 1,1 0,-3A3,3 0 0,1 3,0Z\" style=\"opacity: 1; stroke-width: 0px; fill: rgb(255, 151, 255); fill-opacity: 1;\"/><path class=\"point\" transform=\"translate(122.65,327.73)\" d=\"M3,0A3,3 0 1,1 0,-3A3,3 0 0,1 3,0Z\" style=\"opacity: 1; stroke-width: 0px; fill: rgb(255, 151, 255); fill-opacity: 1;\"/><path class=\"point\" transform=\"translate(127.61,297.17)\" d=\"M3,0A3,3 0 1,1 0,-3A3,3 0 0,1 3,0Z\" style=\"opacity: 1; stroke-width: 0px; fill: rgb(255, 151, 255); fill-opacity: 1;\"/><path class=\"point\" transform=\"translate(126.37,329.92)\" d=\"M3,0A3,3 0 1,1 0,-3A3,3 0 0,1 3,0Z\" style=\"opacity: 1; stroke-width: 0px; fill: rgb(255, 151, 255); fill-opacity: 1;\"/><path class=\"point\" transform=\"translate(120.98,248.04)\" d=\"M3,0A3,3 0 1,1 0,-3A3,3 0 0,1 3,0Z\" style=\"opacity: 1; stroke-width: 0px; fill: rgb(255, 151, 255); fill-opacity: 1;\"/><path class=\"point\" transform=\"translate(121.4,201.1)\" d=\"M3,0A3,3 0 1,1 0,-3A3,3 0 0,1 3,0Z\" style=\"opacity: 1; stroke-width: 0px; fill: rgb(255, 151, 255); fill-opacity: 1;\"/><path class=\"point\" transform=\"translate(127.61,348.47)\" d=\"M3,0A3,3 0 1,1 0,-3A3,3 0 0,1 3,0Z\" style=\"opacity: 1; stroke-width: 0px; fill: rgb(255, 151, 255); fill-opacity: 1;\"/><path class=\"point\" transform=\"translate(131.39,294.98)\" d=\"M3,0A3,3 0 1,1 0,-3A3,3 0 0,1 3,0Z\" style=\"opacity: 1; stroke-width: 0px; fill: rgb(255, 151, 255); fill-opacity: 1;\"/><path class=\"point\" transform=\"translate(132.2,331.01)\" d=\"M3,0A3,3 0 1,1 0,-3A3,3 0 0,1 3,0Z\" style=\"opacity: 1; stroke-width: 0px; fill: rgb(255, 151, 255); fill-opacity: 1;\"/></g><g class=\"text\"/></g></g></g><g class=\"overplot\"/><path class=\"xlines-above crisp\" d=\"M0,0\" style=\"fill: none;\"/><path class=\"ylines-above crisp\" d=\"M0,0\" style=\"fill: none;\"/><g class=\"overlines-above\"/><g class=\"xaxislayer-above\"><g class=\"xtick\"><text text-anchor=\"middle\" x=\"0\" y=\"461\" transform=\"translate(67.86,0)\" style=\"font-family: 'Open Sans', verdana, arial, sans-serif; font-size: 12px; fill: rgb(42, 63, 95); fill-opacity: 1; white-space: pre; opacity: 1;\">−10</text></g><g class=\"xtick\"><text text-anchor=\"middle\" x=\"0\" y=\"461\" style=\"font-family: 'Open Sans', verdana, arial, sans-serif; font-size: 12px; fill: rgb(42, 63, 95); fill-opacity: 1; white-space: pre; opacity: 1;\" transform=\"translate(166.45,0)\">−5</text></g><g class=\"xtick\"><text text-anchor=\"middle\" x=\"0\" y=\"461\" style=\"font-family: 'Open Sans', verdana, arial, sans-serif; font-size: 12px; fill: rgb(42, 63, 95); fill-opacity: 1; white-space: pre; opacity: 1;\" transform=\"translate(265.03999999999996,0)\">0</text></g><g class=\"xtick\"><text text-anchor=\"middle\" x=\"0\" y=\"461\" style=\"font-family: 'Open Sans', verdana, arial, sans-serif; font-size: 12px; fill: rgb(42, 63, 95); fill-opacity: 1; white-space: pre; opacity: 1;\" transform=\"translate(363.63,0)\">5</text></g><g class=\"xtick\"><text text-anchor=\"middle\" x=\"0\" y=\"461\" style=\"font-family: 'Open Sans', verdana, arial, sans-serif; font-size: 12px; fill: rgb(42, 63, 95); fill-opacity: 1; white-space: pre; opacity: 1;\" transform=\"translate(462.22,0)\">10</text></g></g><g class=\"yaxislayer-above\"><g class=\"ytick\"><text text-anchor=\"end\" x=\"60\" y=\"4.199999999999999\" transform=\"translate(0,424.85)\" style=\"font-family: 'Open Sans', verdana, arial, sans-serif; font-size: 12px; fill: rgb(42, 63, 95); fill-opacity: 1; white-space: pre; opacity: 1;\">0</text></g><g class=\"ytick\"><text text-anchor=\"end\" x=\"60\" y=\"4.199999999999999\" style=\"font-family: 'Open Sans', verdana, arial, sans-serif; font-size: 12px; fill: rgb(42, 63, 95); fill-opacity: 1; white-space: pre; opacity: 1;\" transform=\"translate(0,370.27)\">50</text></g><g class=\"ytick\"><text text-anchor=\"end\" x=\"60\" y=\"4.199999999999999\" style=\"font-family: 'Open Sans', verdana, arial, sans-serif; font-size: 12px; fill: rgb(42, 63, 95); fill-opacity: 1; white-space: pre; opacity: 1;\" transform=\"translate(0,315.68)\">100</text></g><g class=\"ytick\"><text text-anchor=\"end\" x=\"60\" y=\"4.199999999999999\" style=\"font-family: 'Open Sans', verdana, arial, sans-serif; font-size: 12px; fill: rgb(42, 63, 95); fill-opacity: 1; white-space: pre; opacity: 1;\" transform=\"translate(0,261.1)\">150</text></g><g class=\"ytick\"><text text-anchor=\"end\" x=\"60\" y=\"4.199999999999999\" style=\"font-family: 'Open Sans', verdana, arial, sans-serif; font-size: 12px; fill: rgb(42, 63, 95); fill-opacity: 1; white-space: pre; opacity: 1;\" transform=\"translate(0,206.51)\">200</text></g><g class=\"ytick\"><text text-anchor=\"end\" x=\"60\" y=\"4.199999999999999\" style=\"font-family: 'Open Sans', verdana, arial, sans-serif; font-size: 12px; fill: rgb(42, 63, 95); fill-opacity: 1; white-space: pre; opacity: 1;\" transform=\"translate(0,151.93)\">250</text></g><g class=\"ytick\"><text text-anchor=\"end\" x=\"60\" y=\"4.199999999999999\" style=\"font-family: 'Open Sans', verdana, arial, sans-serif; font-size: 12px; fill: rgb(42, 63, 95); fill-opacity: 1; white-space: pre; opacity: 1;\" transform=\"translate(0,97.34)\">300</text></g></g><g class=\"overaxes-above\"/></g></g><g class=\"polarlayer\"/><g class=\"ternarylayer\"/><g class=\"geolayer\"/><g class=\"funnelarealayer\"/><g class=\"pielayer\"/><g class=\"iciclelayer\"/><g class=\"treemaplayer\"/><g class=\"sunburstlayer\"/><g class=\"glimages\"/><defs id=\"topdefs-96382c\"><g class=\"clips\"/><clipPath id=\"legend96382c\"><rect width=\"121\" height=\"200\" x=\"0\" y=\"0\"/></clipPath></defs><g class=\"layer-above\"><g class=\"imagelayer\"/><g class=\"shapelayer\"/></g><g class=\"infolayer\"><g class=\"legend\" pointer-events=\"all\" transform=\"translate(566.9200000000001,60)\"><rect class=\"bg\" shape-rendering=\"crispEdges\" style=\"stroke: rgb(68, 68, 68); stroke-opacity: 1; fill: rgb(255, 255, 255); fill-opacity: 1; stroke-width: 0px;\" width=\"121\" height=\"200\" x=\"0\" y=\"0\"/><g class=\"scrollbox\" transform=\"\" clip-path=\"url(#legend96382c)\"><text class=\"legendtitletext\" text-anchor=\"start\" x=\"2\" y=\"18.2\" style=\"font-family: 'Open Sans', verdana, arial, sans-serif; font-size: 14px; fill: rgb(42, 63, 95); fill-opacity: 1; white-space: pre;\">Nation</text><g class=\"groups\" transform=\"\"><g class=\"traces\" transform=\"translate(0,32.7)\" style=\"opacity: 1;\"><text class=\"legendtext\" text-anchor=\"start\" x=\"40\" y=\"4.680000000000001\" style=\"font-family: 'Open Sans', verdana, arial, sans-serif; font-size: 12px; fill: rgb(42, 63, 95); fill-opacity: 1; white-space: pre;\">Belgium</text><g class=\"layers\" style=\"opacity: 1;\"><g class=\"legendfill\"/><g class=\"legendlines\"/><g class=\"legendsymbols\"><g class=\"legendpoints\"><path class=\"scatterpts\" transform=\"translate(20,0)\" d=\"M3,0A3,3 0 1,1 0,-3A3,3 0 0,1 3,0Z\" style=\"opacity: 1; stroke-width: 0px; fill: rgb(99, 110, 250); fill-opacity: 1;\"/></g></g></g><rect class=\"legendtoggle\" x=\"0\" y=\"-9.5\" width=\"115.15625\" height=\"19\" style=\"fill: rgb(0, 0, 0); fill-opacity: 0;\"/></g></g><g class=\"groups\" transform=\"\"><g class=\"traces\" transform=\"translate(0,51.7)\" style=\"opacity: 1;\"><text class=\"legendtext\" text-anchor=\"start\" x=\"40\" y=\"4.680000000000001\" style=\"font-family: 'Open Sans', verdana, arial, sans-serif; font-size: 12px; fill: rgb(42, 63, 95); fill-opacity: 1; white-space: pre;\">W.Germany</text><g class=\"layers\" style=\"opacity: 1;\"><g class=\"legendfill\"/><g class=\"legendlines\"/><g class=\"legendsymbols\"><g class=\"legendpoints\"><path class=\"scatterpts\" transform=\"translate(20,0)\" d=\"M3,0A3,3 0 1,1 0,-3A3,3 0 0,1 3,0Z\" style=\"opacity: 1; stroke-width: 0px; fill: rgb(239, 85, 59); fill-opacity: 1;\"/></g></g></g><rect class=\"legendtoggle\" x=\"0\" y=\"-9.5\" width=\"115.15625\" height=\"19\" style=\"fill: rgb(0, 0, 0); fill-opacity: 0;\"/></g></g><g class=\"groups\" transform=\"\"><g class=\"traces\" transform=\"translate(0,70.7)\" style=\"opacity: 1;\"><text class=\"legendtext\" text-anchor=\"start\" x=\"40\" y=\"4.680000000000001\" style=\"font-family: 'Open Sans', verdana, arial, sans-serif; font-size: 12px; fill: rgb(42, 63, 95); fill-opacity: 1; white-space: pre;\">Denmark</text><g class=\"layers\" style=\"opacity: 1;\"><g class=\"legendfill\"/><g class=\"legendlines\"/><g class=\"legendsymbols\"><g class=\"legendpoints\"><path class=\"scatterpts\" transform=\"translate(20,0)\" d=\"M3,0A3,3 0 1,1 0,-3A3,3 0 0,1 3,0Z\" style=\"opacity: 1; stroke-width: 0px; fill: rgb(0, 204, 150); fill-opacity: 1;\"/></g></g></g><rect class=\"legendtoggle\" x=\"0\" y=\"-9.5\" width=\"115.15625\" height=\"19\" style=\"fill: rgb(0, 0, 0); fill-opacity: 0;\"/></g></g><g class=\"groups\" transform=\"\"><g class=\"traces\" transform=\"translate(0,89.7)\" style=\"opacity: 1;\"><text class=\"legendtext\" text-anchor=\"start\" x=\"40\" y=\"4.680000000000001\" style=\"font-family: 'Open Sans', verdana, arial, sans-serif; font-size: 12px; fill: rgb(42, 63, 95); fill-opacity: 1; white-space: pre;\">France</text><g class=\"layers\" style=\"opacity: 1;\"><g class=\"legendfill\"/><g class=\"legendlines\"/><g class=\"legendsymbols\"><g class=\"legendpoints\"><path class=\"scatterpts\" transform=\"translate(20,0)\" d=\"M3,0A3,3 0 1,1 0,-3A3,3 0 0,1 3,0Z\" style=\"opacity: 1; stroke-width: 0px; fill: rgb(171, 99, 250); fill-opacity: 1;\"/></g></g></g><rect class=\"legendtoggle\" x=\"0\" y=\"-9.5\" width=\"115.15625\" height=\"19\" style=\"fill: rgb(0, 0, 0); fill-opacity: 0;\"/></g></g><g class=\"groups\" transform=\"\"><g class=\"traces\" transform=\"translate(0,108.7)\" style=\"opacity: 1;\"><text class=\"legendtext\" text-anchor=\"start\" x=\"40\" y=\"4.680000000000001\" style=\"font-family: 'Open Sans', verdana, arial, sans-serif; font-size: 12px; fill: rgb(42, 63, 95); fill-opacity: 1; white-space: pre;\">UK</text><g class=\"layers\" style=\"opacity: 1;\"><g class=\"legendfill\"/><g class=\"legendlines\"/><g class=\"legendsymbols\"><g class=\"legendpoints\"><path class=\"scatterpts\" transform=\"translate(20,0)\" d=\"M3,0A3,3 0 1,1 0,-3A3,3 0 0,1 3,0Z\" style=\"opacity: 1; stroke-width: 0px; fill: rgb(255, 161, 90); fill-opacity: 1;\"/></g></g></g><rect class=\"legendtoggle\" x=\"0\" y=\"-9.5\" width=\"115.15625\" height=\"19\" style=\"fill: rgb(0, 0, 0); fill-opacity: 0;\"/></g></g><g class=\"groups\" transform=\"\"><g class=\"traces\" transform=\"translate(0,127.7)\" style=\"opacity: 1;\"><text class=\"legendtext\" text-anchor=\"start\" x=\"40\" y=\"4.680000000000001\" style=\"font-family: 'Open Sans', verdana, arial, sans-serif; font-size: 12px; fill: rgb(42, 63, 95); fill-opacity: 1; white-space: pre;\">Italy</text><g class=\"layers\" style=\"opacity: 1;\"><g class=\"legendfill\"/><g class=\"legendlines\"/><g class=\"legendsymbols\"><g class=\"legendpoints\"><path class=\"scatterpts\" transform=\"translate(20,0)\" d=\"M3,0A3,3 0 1,1 0,-3A3,3 0 0,1 3,0Z\" style=\"opacity: 1; stroke-width: 0px; fill: rgb(25, 211, 243); fill-opacity: 1;\"/></g></g></g><rect class=\"legendtoggle\" x=\"0\" y=\"-9.5\" width=\"115.15625\" height=\"19\" style=\"fill: rgb(0, 0, 0); fill-opacity: 0;\"/></g></g><g class=\"groups\" transform=\"\"><g class=\"traces\" transform=\"translate(0,146.7)\" style=\"opacity: 1;\"><text class=\"legendtext\" text-anchor=\"start\" x=\"40\" y=\"4.680000000000001\" style=\"font-family: 'Open Sans', verdana, arial, sans-serif; font-size: 12px; fill: rgb(42, 63, 95); fill-opacity: 1; white-space: pre;\">Ireland</text><g class=\"layers\" style=\"opacity: 1;\"><g class=\"legendfill\"/><g class=\"legendlines\"/><g class=\"legendsymbols\"><g class=\"legendpoints\"><path class=\"scatterpts\" transform=\"translate(20,0)\" d=\"M3,0A3,3 0 1,1 0,-3A3,3 0 0,1 3,0Z\" style=\"opacity: 1; stroke-width: 0px; fill: rgb(255, 102, 146); fill-opacity: 1;\"/></g></g></g><rect class=\"legendtoggle\" x=\"0\" y=\"-9.5\" width=\"115.15625\" height=\"19\" style=\"fill: rgb(0, 0, 0); fill-opacity: 0;\"/></g></g><g class=\"groups\" transform=\"\"><g class=\"traces\" transform=\"translate(0,165.7)\" style=\"opacity: 1;\"><text class=\"legendtext\" text-anchor=\"start\" x=\"40\" y=\"4.680000000000001\" style=\"font-family: 'Open Sans', verdana, arial, sans-serif; font-size: 12px; fill: rgb(42, 63, 95); fill-opacity: 1; white-space: pre;\">Luxembourg</text><g class=\"layers\" style=\"opacity: 1;\"><g class=\"legendfill\"/><g class=\"legendlines\"/><g class=\"legendsymbols\"><g class=\"legendpoints\"><path class=\"scatterpts\" transform=\"translate(20,0)\" d=\"M3,0A3,3 0 1,1 0,-3A3,3 0 0,1 3,0Z\" style=\"opacity: 1; stroke-width: 0px; fill: rgb(182, 232, 128); fill-opacity: 1;\"/></g></g></g><rect class=\"legendtoggle\" x=\"0\" y=\"-9.5\" width=\"115.15625\" height=\"19\" style=\"fill: rgb(0, 0, 0); fill-opacity: 0;\"/></g></g><g class=\"groups\" transform=\"\"><g class=\"traces\" transform=\"translate(0,184.7)\" style=\"opacity: 1;\"><text class=\"legendtext\" text-anchor=\"start\" x=\"40\" y=\"4.680000000000001\" style=\"font-family: 'Open Sans', verdana, arial, sans-serif; font-size: 12px; fill: rgb(42, 63, 95); fill-opacity: 1; white-space: pre;\">Netherlands</text><g class=\"layers\" style=\"opacity: 1;\"><g class=\"legendfill\"/><g class=\"legendlines\"/><g class=\"legendsymbols\"><g class=\"legendpoints\"><path class=\"scatterpts\" transform=\"translate(20,0)\" d=\"M3,0A3,3 0 1,1 0,-3A3,3 0 0,1 3,0Z\" style=\"opacity: 1; stroke-width: 0px; fill: rgb(255, 151, 255); fill-opacity: 1;\"/></g></g></g><rect class=\"legendtoggle\" x=\"0\" y=\"-9.5\" width=\"115.15625\" height=\"19\" style=\"fill: rgb(0, 0, 0); fill-opacity: 0;\"/></g></g></g><rect class=\"scrollbar\" rx=\"20\" ry=\"3\" width=\"0\" height=\"0\" style=\"fill: rgb(128, 139, 164); fill-opacity: 1;\" x=\"0\" y=\"0\"/></g><g class=\"g-gtitle\"/><g class=\"g-xtitle\"><text class=\"xtitle\" x=\"309\" y=\"488.3\" text-anchor=\"middle\" style=\"font-family: 'Open Sans', verdana, arial, sans-serif; font-size: 14px; fill: rgb(42, 63, 95); opacity: 1; font-weight: normal; white-space: pre;\">UVB</text></g><g class=\"g-ytitle\" transform=\"translate(1.6904296875,0)\"><text class=\"ytitle\" transform=\"rotate(-90,12.309375000000003,254)\" x=\"12.309375000000003\" y=\"254\" text-anchor=\"middle\" style=\"font-family: 'Open Sans', verdana, arial, sans-serif; font-size: 14px; fill: rgb(42, 63, 95); opacity: 1; font-weight: normal; white-space: pre;\">No deaths</text></g></g></svg>"
      ],
      "text/html": [
       "<div\n",
       "    class=\"webio-mountpoint\"\n",
       "    data-webio-mountpoint=\"11641460053321630967\"\n",
       ">\n",
       "    <script>\n",
       "    (function(){\n",
       "    // Some integrations (namely, IJulia/Jupyter) use an alternate render pathway than\n",
       "    // just putting the html on the page. If WebIO isn't defined, then it's pretty likely\n",
       "    // that we're in one of those situations and the integration just isn't installed\n",
       "    // correctly.\n",
       "    if (typeof window.WebIO === \"undefined\") {\n",
       "        document\n",
       "            .querySelector('[data-webio-mountpoint=\"11641460053321630967\"]')\n",
       "            .innerHTML = (\n",
       "                '<div style=\"padding: 1em; background-color: #f8d6da; border: 1px solid #f5c6cb; font-weight: bold;\">' +\n",
       "                '<p><strong>WebIO not detected.</strong></p>' +\n",
       "                '<p>Please read ' +\n",
       "                '<a href=\"https://juliagizmos.github.io/WebIO.jl/latest/troubleshooting/not-detected/\" target=\"_blank\">the troubleshooting guide</a> ' +\n",
       "                'for more information on how to resolve this issue.</p>' +\n",
       "                '<p><a href=\"https://juliagizmos.github.io/WebIO.jl/latest/troubleshooting/not-detected/\" target=\"_blank\">https://juliagizmos.github.io/WebIO.jl/latest/troubleshooting/not-detected/</a></p>' +\n",
       "                '</div>'\n",
       "            );\n",
       "        return;\n",
       "    }\n",
       "    WebIO.mount(\n",
       "        document.querySelector('[data-webio-mountpoint=\"11641460053321630967\"]'),\n",
       "        {\"props\":{},\"nodeType\":\"Scope\",\"type\":\"node\",\"instanceArgs\":{\"imports\":{\"data\":[{\"name\":\"Plotly\",\"type\":\"js\",\"url\":\"\\/assetserver\\/a1ce98aba64ebc875cd706be1c5f477c144bace2-plotly.min.js\"},{\"name\":null,\"type\":\"js\",\"url\":\"\\/assetserver\\/aa2112138e40c2a40506078cf4ea9303756a94b4-plotly_webio.bundle.js\"}],\"type\":\"async_block\"},\"id\":\"7960495317054402638\",\"handlers\":{\"_toImage\":[\"(function (options){return this.Plotly.toImage(this.plotElem,options).then((function (data){return WebIO.setval({\\\"name\\\":\\\"image\\\",\\\"scope\\\":\\\"7960495317054402638\\\",\\\"id\\\":\\\"15\\\",\\\"type\\\":\\\"observable\\\"},data)}))})\"],\"__get_gd_contents\":[\"(function (prop){prop==\\\"data\\\" ? (WebIO.setval({\\\"name\\\":\\\"__gd_contents\\\",\\\"scope\\\":\\\"7960495317054402638\\\",\\\"id\\\":\\\"16\\\",\\\"type\\\":\\\"observable\\\"},this.plotElem.data)) : undefined; return prop==\\\"layout\\\" ? (WebIO.setval({\\\"name\\\":\\\"__gd_contents\\\",\\\"scope\\\":\\\"7960495317054402638\\\",\\\"id\\\":\\\"16\\\",\\\"type\\\":\\\"observable\\\"},this.plotElem.layout)) : undefined})\"],\"_downloadImage\":[\"(function (options){return this.Plotly.downloadImage(this.plotElem,options)})\"],\"_commands\":[\"(function (args){var fn=args.shift(); var elem=this.plotElem; var Plotly=this.Plotly; args.unshift(elem); return Plotly[fn].apply(this,args)})\"]},\"systemjs_options\":null,\"mount_callbacks\":[\"function () {\\n    var handler = ((function (Plotly,PlotlyWebIO){PlotlyWebIO.init(WebIO); var gd=this.dom.querySelector(\\\"#plot-57ebe3d6-a690-426e-8868-95fb65306d2f\\\"); this.plotElem=gd; this.Plotly=Plotly; (window.Blink!==undefined) ? (gd.style.width=\\\"100%\\\", gd.style.height=\\\"100vh\\\", gd.style.marginLeft=\\\"0%\\\", gd.style.marginTop=\\\"0vh\\\") : undefined; window.onresize=(function (){return Plotly.Plots.resize(gd)}); Plotly.newPlot(gd,[{\\\"showlegend\\\":true,\\\"mode\\\":\\\"markers\\\",\\\"xaxis\\\":\\\"x\\\",\\\"marker\\\":{\\\"color\\\":\\\"#636efa\\\"},\\\"y\\\":[79,80,51,43,89,19,19,15,33,9,12],\\\"type\\\":\\\"scatter\\\",\\\"name\\\":\\\"Belgium\\\",\\\"yaxis\\\":\\\"y\\\",\\\"legendgroup\\\":\\\"Belgium\\\",\\\"x\\\":[-2.9057,-3.2075,-2.8038,-3.0069,-3.0069,-3.4175,-2.6671,-2.6671,-3.1222,-2.4852,-2.5293]},{\\\"showlegend\\\":true,\\\"mode\\\":\\\"markers\\\",\\\"xaxis\\\":\\\"x\\\",\\\"marker\\\":{\\\"color\\\":\\\"#EF553B\\\"},\\\"y\\\":[156,110,77,56,220,46,47,50,90,62,85,141,38,121,218,50,97,98,75,85,209,127,98,58,151,66,25,91,42,160],\\\"type\\\":\\\"scatter\\\",\\\"name\\\":\\\"W.Germany\\\",\\\"yaxis\\\":\\\"y\\\",\\\"legendgroup\\\":\\\"W.Germany\\\",\\\"x\\\":[-1.1375,-1.3977,-0.4386,-1.0249,-0.5033,-1.4609,-1.8956,-2.5541,-1.9671,-2.3444,-0.6578,-3.8836,-4.4592,-4.8576,-2.6027,-3.5346,-4.0251,-3.9857,-4.4592,-4.1117,-3.5346,-3.2736,-3.8126,-3.6015,-3.5991,-2.9414,-2.2504,-2.3269,-2.0662,-5.1393]},{\\\"showlegend\\\":true,\\\"mode\\\":\\\"markers\\\",\\\"xaxis\\\":\\\"x\\\",\\\"marker\\\":{\\\"color\\\":\\\"#00cc96\\\"},\\\"y\\\":[209,43,28,41,42,6,57,20,21,31,23,79,24,57],\\\"type\\\":\\\"scatter\\\",\\\"name\\\":\\\"Denmark\\\",\\\"yaxis\\\":\\\"y\\\",\\\"legendgroup\\\":\\\"Denmark\\\",\\\"x\\\":[-5.7887,-5.8989,-5.245,-5.1866,-5.217,-5.0981,-5.4778,-5.217,-5.5612,-5.8439,-6.0623,-5.9509,-6.114,-6.1151]},{\\\"showlegend\\\":true,\\\"mode\\\":\\\"markers\\\",\\\"xaxis\\\":\\\"x\\\",\\\"marker\\\":{\\\"color\\\":\\\"#ab63fa\\\"},\\\"y\\\":[33,20,15,29,9,7,14,17,7,8,10,13,9,7,13,8,19,9,16,44,14,24,12,13,11,14,5,13,11,8,16,3,9,13,8,3,12,42,77,15,40,16,34,30,41,18,5,16,18,2,11,5,9,11,14,7,28,10,5,7,13,7,5,9,3,7,63,35,25,17,6,12,14,9,8,10,12,19,9,4,3,1,22,44,17,11,12,10,14,22,22,50,5,18],\\\"type\\\":\\\"scatter\\\",\\\"name\\\":\\\"France\\\",\\\"yaxis\\\":\\\"y\\\",\\\"legendgroup\\\":\\\"France\\\",\\\"x\\\":[-0.9368,-0.0884,2.7823,3.2047,3.7856,3.5087,5.3566,1.9737,2.5436,3.0821,2.1911,-0.6221,-0.4548,-1.0124,0.9771,1.366,1.6602,0.2517,0.1042,-0.5807,-0.375,-0.06,1.452,-0.453,1.0764,0.3122,0.1511,-0.1392,-1.7997,-0.1498,-1.2866,-0.7599,0.556,1.5737,2.3619,0.2315,-1.6795,-2.1093,-0.7146,-0.6373,-0.6373,-0.4819,-0.5598,-0.7916,-0.7146,-0.9447,4.9606,6.4726,6.8973,3.8485,7.4113,2.3668,1.7567,2.0165,-1.1375,-1.2866,-1.4346,-0.836,4.9606,4.1319,4.6719,4.0649,3.2342,5.4555,4.2907,3.693,-2.6671,-2.5983,0.546,0.8774,-0.375,0.2517,1.3832,-1.7997,-1.9671,-2.0155,2.1037,2.1911,1.3294,1.4143,5.949,5.5376,6.7371,6.5751,7.6517,5.5807,2.0421,4.9771,5.077,3.0487,2.3947,2.2178,2.9576,2.4166]},{\\\"showlegend\\\":true,\\\"mode\\\":\\\"markers\\\",\\\"xaxis\\\":\\\"x\\\",\\\"marker\\\":{\\\"color\\\":\\\"#FFA15A\\\"},\\\"y\\\":[20,27,28,31,32,16,28,35,31,9,18,23,11,65,52,34,43,313,27,24,20,36,74,65,45,10,69,29,53,39,33,28,47,27,22,21,21,97,27,15,26,12,47,63,38,31,13,17,15,11,19,4,11,15,8,23,19,13,28,1,7,74,3,2,0,0,16,10,4,4],\\\"type\\\":\\\"scatter\\\",\\\"name\\\":\\\"UK\\\",\\\"yaxis\\\":\\\"y\\\",\\\"legendgroup\\\":\\\"UK\\\",\\\"x\\\":[-4.1278,-4.1117,-3.5871,-5.349,-4.5569,-4.5581,-4.1686,-4.5581,-5.8745,-5.7101,-5.7463,-5.7101,-6.0027,-4.8949,-4.8358,-4.7168,-4.845,-3.4478,-3.9394,-3.5556,-3.7487,-2.494,-3.3243,-2.9639,-3.7487,-2.1284,-2.8121,-3.7487,-3.0985,-2.2713,-3.3399,-2.3696,-2.5787,-2.4239,-3.7487,-2.9639,-3.2739,-4.5987,-3.9394,-4.5569,-4.7772,-4.4179,-5.2817,-5.3949,-5.2609,-5.4875,-4.5581,-3.6662,-3.4712,-4.1992,-3.513,-4.4784,-3.3399,-3.5779,-7.5623,-7.1104,-6.7138,-6.5611,-6.3218,-6.456,-6.8106,-6.4214,-6.0713,-8.1163,-8.9002,-7.7158,-5.8011,-5.8943,-5.451,-5.6191]},{\\\"showlegend\\\":true,\\\"mode\\\":\\\"markers\\\",\\\"xaxis\\\":\\\"x\\\",\\\"marker\\\":{\\\"color\\\":\\\"#19d3f3\\\"},\\\"y\\\":[9,6,9,8,6,5,10,9,5,10,4,31,4,13,11,18,9,19,31,10,16,20,22,9,17,8,8,4,109,12,9,4,10,36,13,23,24,4,128,15,12,16,9,13,8,13,8,6,6,2,88,14,21,13,8,25,15,22,12,8,9,11,2,15,1,6,20,11,9,5,2,11,4,12,5,8,8,44,6,14,9,5,11,13,15,9,12,6,19,19,10,22,29,35,8],\\\"type\\\":\\\"scatter\\\",\\\"name\\\":\\\"Italy\\\",\\\"yaxis\\\":\\\"y\\\",\\\"legendgroup\\\":\\\"Italy\\\",\\\"x\\\":[6.1548,5.8535,6.0541,6.2558,9.1951,9.1951,10.38,10.832,11.54,8.0301,8.0301,8.2438,8.2438,8.4584,2.1828,3.5676,3.7546,3.1433,3.3254,3.0526,3.4169,3.6007,1.9864,2.0737,2.6858,2.0737,5.3026,5.3026,7.5343,7.961,7.8539,6.7371,4.4435,4.3472,4.7941,1.5821,1.4973,1.2448,1.8379,1.6671,1.7524,2.0962,3.3818,3.2893,3.8784,4.3196,4.6044,5.6539,8.1386,8.0307,2.7823,2.6035,1.8379,3.4169,3.0526,2.9622,8.5727,8.7536,9.4174,9.3061,9.5289,9.5634,10.203,10.38,9.7085,13.104,12.983,11.312,12.769,12.652,12.535,12.652,13.359,13.122,4.7941,4.9901,5.4666,5.5673,5.2862,5.0885,5.8711,6.0751,6.6938,1.2744,1.614,4.6307,5.1093,2.2492,1.8379,2.4836,1.8994,2.3947,2.5727,2.6622,2.7823]},{\\\"showlegend\\\":true,\\\"mode\\\":\\\"markers\\\",\\\"xaxis\\\":\\\"x\\\",\\\"marker\\\":{\\\"color\\\":\\\"#FF6692\\\"},\\\"y\\\":[1,0,3,0,2,0,21,4,1,0,2,2,2,0,1,2,1,1,7,3,5,1,3,1,3,1],\\\"type\\\":\\\"scatter\\\",\\\"name\\\":\\\"Ireland\\\",\\\"yaxis\\\":\\\"y\\\",\\\"legendgroup\\\":\\\"Ireland\\\",\\\"x\\\":[-5.322,-5.9527,-5.6017,-5.4906,-5.9527,-4.6169,-4.7764,-4.7168,-4.5569,-4.9944,-5.2993,-5.6963,-5.2423,-5.1101,-5.185,-3.8836,-4.5968,-4.7772,-4.1911,-4.4179,-4.5987,-4.5569,-4.314,-5.751,-5.9293,-5.8596]},{\\\"showlegend\\\":true,\\\"mode\\\":\\\"markers\\\",\\\"xaxis\\\":\\\"x\\\",\\\"marker\\\":{\\\"color\\\":\\\"#B6E880\\\"},\\\"y\\\":[2,2,19],\\\"type\\\":\\\"scatter\\\",\\\"name\\\":\\\"Luxembourg\\\",\\\"yaxis\\\":\\\"y\\\",\\\"legendgroup\\\":\\\"Luxembourg\\\",\\\"x\\\":[-2.3466,-2.3678,-2.2769]},{\\\"showlegend\\\":true,\\\"mode\\\":\\\"markers\\\",\\\"xaxis\\\":\\\"x\\\",\\\"marker\\\":{\\\"color\\\":\\\"#FF97FF\\\"},\\\"y\\\":[14,26,11,34,62,32,107,150,15,64,31],\\\"type\\\":\\\"scatter\\\",\\\"name\\\":\\\"Netherlands\\\",\\\"yaxis\\\":\\\"y\\\",\\\"legendgroup\\\":\\\"Netherlands\\\",\\\"x\\\":[-4.972,-4.8547,-4.7363,-4.1278,-3.8761,-3.9394,-4.2127,-4.1911,-3.8761,-3.6846,-3.6436]}],{\\\"xaxis\\\":{\\\"title\\\":{\\\"text\\\":\\\"UVB\\\"}},\\\"template\\\":{\\\"layout\\\":{\\\"coloraxis\\\":{\\\"colorbar\\\":{\\\"ticks\\\":\\\"\\\",\\\"outlinewidth\\\":0}},\\\"xaxis\\\":{\\\"gridcolor\\\":\\\"white\\\",\\\"zerolinewidth\\\":2,\\\"title\\\":{\\\"standoff\\\":15},\\\"ticks\\\":\\\"\\\",\\\"zerolinecolor\\\":\\\"white\\\",\\\"automargin\\\":true,\\\"linecolor\\\":\\\"white\\\"},\\\"hovermode\\\":\\\"closest\\\",\\\"paper_bgcolor\\\":\\\"white\\\",\\\"geo\\\":{\\\"showlakes\\\":true,\\\"showland\\\":true,\\\"landcolor\\\":\\\"#E5ECF6\\\",\\\"bgcolor\\\":\\\"white\\\",\\\"subunitcolor\\\":\\\"white\\\",\\\"lakecolor\\\":\\\"white\\\"},\\\"colorscale\\\":{\\\"sequential\\\":[[0.0,\\\"#0d0887\\\"],[0.1111111111111111,\\\"#46039f\\\"],[0.2222222222222222,\\\"#7201a8\\\"],[0.3333333333333333,\\\"#9c179e\\\"],[0.4444444444444444,\\\"#bd3786\\\"],[0.5555555555555556,\\\"#d8576b\\\"],[0.6666666666666666,\\\"#ed7953\\\"],[0.7777777777777778,\\\"#fb9f3a\\\"],[0.8888888888888888,\\\"#fdca26\\\"],[1.0,\\\"#f0f921\\\"]],\\\"diverging\\\":[[0,\\\"#8e0152\\\"],[0.1,\\\"#c51b7d\\\"],[0.2,\\\"#de77ae\\\"],[0.3,\\\"#f1b6da\\\"],[0.4,\\\"#fde0ef\\\"],[0.5,\\\"#f7f7f7\\\"],[0.6,\\\"#e6f5d0\\\"],[0.7,\\\"#b8e186\\\"],[0.8,\\\"#7fbc41\\\"],[0.9,\\\"#4d9221\\\"],[1,\\\"#276419\\\"]],\\\"sequentialminus\\\":[[0.0,\\\"#0d0887\\\"],[0.1111111111111111,\\\"#46039f\\\"],[0.2222222222222222,\\\"#7201a8\\\"],[0.3333333333333333,\\\"#9c179e\\\"],[0.4444444444444444,\\\"#bd3786\\\"],[0.5555555555555556,\\\"#d8576b\\\"],[0.6666666666666666,\\\"#ed7953\\\"],[0.7777777777777778,\\\"#fb9f3a\\\"],[0.8888888888888888,\\\"#fdca26\\\"],[1.0,\\\"#f0f921\\\"]]},\\\"yaxis\\\":{\\\"gridcolor\\\":\\\"white\\\",\\\"zerolinewidth\\\":2,\\\"title\\\":{\\\"standoff\\\":15},\\\"ticks\\\":\\\"\\\",\\\"zerolinecolor\\\":\\\"white\\\",\\\"automargin\\\":true,\\\"linecolor\\\":\\\"white\\\"},\\\"shapedefaults\\\":{\\\"line\\\":{\\\"color\\\":\\\"#2a3f5f\\\"}},\\\"hoverlabel\\\":{\\\"align\\\":\\\"left\\\"},\\\"mapbox\\\":{\\\"style\\\":\\\"light\\\"},\\\"polar\\\":{\\\"angularaxis\\\":{\\\"gridcolor\\\":\\\"white\\\",\\\"ticks\\\":\\\"\\\",\\\"linecolor\\\":\\\"white\\\"},\\\"bgcolor\\\":\\\"#E5ECF6\\\",\\\"radialaxis\\\":{\\\"gridcolor\\\":\\\"white\\\",\\\"ticks\\\":\\\"\\\",\\\"linecolor\\\":\\\"white\\\"}},\\\"autotypenumbers\\\":\\\"strict\\\",\\\"font\\\":{\\\"color\\\":\\\"#2a3f5f\\\"},\\\"ternary\\\":{\\\"baxis\\\":{\\\"gridcolor\\\":\\\"white\\\",\\\"ticks\\\":\\\"\\\",\\\"linecolor\\\":\\\"white\\\"},\\\"bgcolor\\\":\\\"#E5ECF6\\\",\\\"caxis\\\":{\\\"gridcolor\\\":\\\"white\\\",\\\"ticks\\\":\\\"\\\",\\\"linecolor\\\":\\\"white\\\"},\\\"aaxis\\\":{\\\"gridcolor\\\":\\\"white\\\",\\\"ticks\\\":\\\"\\\",\\\"linecolor\\\":\\\"white\\\"}},\\\"annotationdefaults\\\":{\\\"arrowhead\\\":0,\\\"arrowwidth\\\":1,\\\"arrowcolor\\\":\\\"#2a3f5f\\\"},\\\"plot_bgcolor\\\":\\\"#E5ECF6\\\",\\\"title\\\":{\\\"x\\\":0.05},\\\"scene\\\":{\\\"xaxis\\\":{\\\"gridcolor\\\":\\\"white\\\",\\\"gridwidth\\\":2,\\\"backgroundcolor\\\":\\\"#E5ECF6\\\",\\\"ticks\\\":\\\"\\\",\\\"showbackground\\\":true,\\\"zerolinecolor\\\":\\\"white\\\",\\\"linecolor\\\":\\\"white\\\"},\\\"zaxis\\\":{\\\"gridcolor\\\":\\\"white\\\",\\\"gridwidth\\\":2,\\\"backgroundcolor\\\":\\\"#E5ECF6\\\",\\\"ticks\\\":\\\"\\\",\\\"showbackground\\\":true,\\\"zerolinecolor\\\":\\\"white\\\",\\\"linecolor\\\":\\\"white\\\"},\\\"yaxis\\\":{\\\"gridcolor\\\":\\\"white\\\",\\\"gridwidth\\\":2,\\\"backgroundcolor\\\":\\\"#E5ECF6\\\",\\\"ticks\\\":\\\"\\\",\\\"showbackground\\\":true,\\\"zerolinecolor\\\":\\\"white\\\",\\\"linecolor\\\":\\\"white\\\"}},\\\"colorway\\\":[\\\"#636efa\\\",\\\"#EF553B\\\",\\\"#00cc96\\\",\\\"#ab63fa\\\",\\\"#FFA15A\\\",\\\"#19d3f3\\\",\\\"#FF6692\\\",\\\"#B6E880\\\",\\\"#FF97FF\\\",\\\"#FECB52\\\"]},\\\"data\\\":{\\\"barpolar\\\":[{\\\"type\\\":\\\"barpolar\\\",\\\"marker\\\":{\\\"line\\\":{\\\"color\\\":\\\"#E5ECF6\\\",\\\"width\\\":0.5}}}],\\\"carpet\\\":[{\\\"aaxis\\\":{\\\"gridcolor\\\":\\\"white\\\",\\\"endlinecolor\\\":\\\"#2a3f5f\\\",\\\"minorgridcolor\\\":\\\"white\\\",\\\"startlinecolor\\\":\\\"#2a3f5f\\\",\\\"linecolor\\\":\\\"white\\\"},\\\"type\\\":\\\"carpet\\\",\\\"baxis\\\":{\\\"gridcolor\\\":\\\"white\\\",\\\"endlinecolor\\\":\\\"#2a3f5f\\\",\\\"minorgridcolor\\\":\\\"white\\\",\\\"startlinecolor\\\":\\\"#2a3f5f\\\",\\\"linecolor\\\":\\\"white\\\"}}],\\\"scatterpolar\\\":[{\\\"type\\\":\\\"scatterpolar\\\",\\\"marker\\\":{\\\"colorbar\\\":{\\\"ticks\\\":\\\"\\\",\\\"outlinewidth\\\":0}}}],\\\"parcoords\\\":[{\\\"line\\\":{\\\"colorbar\\\":{\\\"ticks\\\":\\\"\\\",\\\"outlinewidth\\\":0}},\\\"type\\\":\\\"parcoords\\\"}],\\\"scatter\\\":[{\\\"type\\\":\\\"scatter\\\",\\\"marker\\\":{\\\"colorbar\\\":{\\\"ticks\\\":\\\"\\\",\\\"outlinewidth\\\":0}}}],\\\"histogram2dcontour\\\":[{\\\"colorbar\\\":{\\\"ticks\\\":\\\"\\\",\\\"outlinewidth\\\":0},\\\"type\\\":\\\"histogram2dcontour\\\",\\\"colorscale\\\":[[0.0,\\\"#0d0887\\\"],[0.1111111111111111,\\\"#46039f\\\"],[0.2222222222222222,\\\"#7201a8\\\"],[0.3333333333333333,\\\"#9c179e\\\"],[0.4444444444444444,\\\"#bd3786\\\"],[0.5555555555555556,\\\"#d8576b\\\"],[0.6666666666666666,\\\"#ed7953\\\"],[0.7777777777777778,\\\"#fb9f3a\\\"],[0.8888888888888888,\\\"#fdca26\\\"],[1.0,\\\"#f0f921\\\"]]}],\\\"contour\\\":[{\\\"colorbar\\\":{\\\"ticks\\\":\\\"\\\",\\\"outlinewidth\\\":0},\\\"type\\\":\\\"contour\\\",\\\"colorscale\\\":[[0.0,\\\"#0d0887\\\"],[0.1111111111111111,\\\"#46039f\\\"],[0.2222222222222222,\\\"#7201a8\\\"],[0.3333333333333333,\\\"#9c179e\\\"],[0.4444444444444444,\\\"#bd3786\\\"],[0.5555555555555556,\\\"#d8576b\\\"],[0.6666666666666666,\\\"#ed7953\\\"],[0.7777777777777778,\\\"#fb9f3a\\\"],[0.8888888888888888,\\\"#fdca26\\\"],[1.0,\\\"#f0f921\\\"]]}],\\\"scattercarpet\\\":[{\\\"type\\\":\\\"scattercarpet\\\",\\\"marker\\\":{\\\"colorbar\\\":{\\\"ticks\\\":\\\"\\\",\\\"outlinewidth\\\":0}}}],\\\"mesh3d\\\":[{\\\"colorbar\\\":{\\\"ticks\\\":\\\"\\\",\\\"outlinewidth\\\":0},\\\"type\\\":\\\"mesh3d\\\"}],\\\"surface\\\":[{\\\"colorbar\\\":{\\\"ticks\\\":\\\"\\\",\\\"outlinewidth\\\":0},\\\"type\\\":\\\"surface\\\",\\\"colorscale\\\":[[0.0,\\\"#0d0887\\\"],[0.1111111111111111,\\\"#46039f\\\"],[0.2222222222222222,\\\"#7201a8\\\"],[0.3333333333333333,\\\"#9c179e\\\"],[0.4444444444444444,\\\"#bd3786\\\"],[0.5555555555555556,\\\"#d8576b\\\"],[0.6666666666666666,\\\"#ed7953\\\"],[0.7777777777777778,\\\"#fb9f3a\\\"],[0.8888888888888888,\\\"#fdca26\\\"],[1.0,\\\"#f0f921\\\"]]}],\\\"scattermapbox\\\":[{\\\"type\\\":\\\"scattermapbox\\\",\\\"marker\\\":{\\\"colorbar\\\":{\\\"ticks\\\":\\\"\\\",\\\"outlinewidth\\\":0}}}],\\\"scattergeo\\\":[{\\\"type\\\":\\\"scattergeo\\\",\\\"marker\\\":{\\\"colorbar\\\":{\\\"ticks\\\":\\\"\\\",\\\"outlinewidth\\\":0}}}],\\\"histogram\\\":[{\\\"type\\\":\\\"histogram\\\",\\\"marker\\\":{\\\"colorbar\\\":{\\\"ticks\\\":\\\"\\\",\\\"outlinewidth\\\":0}}}],\\\"pie\\\":[{\\\"type\\\":\\\"pie\\\",\\\"automargin\\\":true}],\\\"choropleth\\\":[{\\\"colorbar\\\":{\\\"ticks\\\":\\\"\\\",\\\"outlinewidth\\\":0},\\\"type\\\":\\\"choropleth\\\"}],\\\"heatmapgl\\\":[{\\\"colorbar\\\":{\\\"ticks\\\":\\\"\\\",\\\"outlinewidth\\\":0},\\\"type\\\":\\\"heatmapgl\\\",\\\"colorscale\\\":[[0.0,\\\"#0d0887\\\"],[0.1111111111111111,\\\"#46039f\\\"],[0.2222222222222222,\\\"#7201a8\\\"],[0.3333333333333333,\\\"#9c179e\\\"],[0.4444444444444444,\\\"#bd3786\\\"],[0.5555555555555556,\\\"#d8576b\\\"],[0.6666666666666666,\\\"#ed7953\\\"],[0.7777777777777778,\\\"#fb9f3a\\\"],[0.8888888888888888,\\\"#fdca26\\\"],[1.0,\\\"#f0f921\\\"]]}],\\\"bar\\\":[{\\\"type\\\":\\\"bar\\\",\\\"error_y\\\":{\\\"color\\\":\\\"#2a3f5f\\\"},\\\"error_x\\\":{\\\"color\\\":\\\"#2a3f5f\\\"},\\\"marker\\\":{\\\"line\\\":{\\\"color\\\":\\\"#E5ECF6\\\",\\\"width\\\":0.5}}}],\\\"heatmap\\\":[{\\\"colorbar\\\":{\\\"ticks\\\":\\\"\\\",\\\"outlinewidth\\\":0},\\\"type\\\":\\\"heatmap\\\",\\\"colorscale\\\":[[0.0,\\\"#0d0887\\\"],[0.1111111111111111,\\\"#46039f\\\"],[0.2222222222222222,\\\"#7201a8\\\"],[0.3333333333333333,\\\"#9c179e\\\"],[0.4444444444444444,\\\"#bd3786\\\"],[0.5555555555555556,\\\"#d8576b\\\"],[0.6666666666666666,\\\"#ed7953\\\"],[0.7777777777777778,\\\"#fb9f3a\\\"],[0.8888888888888888,\\\"#fdca26\\\"],[1.0,\\\"#f0f921\\\"]]}],\\\"contourcarpet\\\":[{\\\"colorbar\\\":{\\\"ticks\\\":\\\"\\\",\\\"outlinewidth\\\":0},\\\"type\\\":\\\"contourcarpet\\\"}],\\\"table\\\":[{\\\"type\\\":\\\"table\\\",\\\"header\\\":{\\\"line\\\":{\\\"color\\\":\\\"white\\\"},\\\"fill\\\":{\\\"color\\\":\\\"#C8D4E3\\\"}},\\\"cells\\\":{\\\"line\\\":{\\\"color\\\":\\\"white\\\"},\\\"fill\\\":{\\\"color\\\":\\\"#EBF0F8\\\"}}}],\\\"scatter3d\\\":[{\\\"line\\\":{\\\"colorbar\\\":{\\\"ticks\\\":\\\"\\\",\\\"outlinewidth\\\":0}},\\\"type\\\":\\\"scatter3d\\\",\\\"marker\\\":{\\\"colorbar\\\":{\\\"ticks\\\":\\\"\\\",\\\"outlinewidth\\\":0}}}],\\\"scattergl\\\":[{\\\"type\\\":\\\"scattergl\\\",\\\"marker\\\":{\\\"colorbar\\\":{\\\"ticks\\\":\\\"\\\",\\\"outlinewidth\\\":0}}}],\\\"histogram2d\\\":[{\\\"colorbar\\\":{\\\"ticks\\\":\\\"\\\",\\\"outlinewidth\\\":0},\\\"type\\\":\\\"histogram2d\\\",\\\"colorscale\\\":[[0.0,\\\"#0d0887\\\"],[0.1111111111111111,\\\"#46039f\\\"],[0.2222222222222222,\\\"#7201a8\\\"],[0.3333333333333333,\\\"#9c179e\\\"],[0.4444444444444444,\\\"#bd3786\\\"],[0.5555555555555556,\\\"#d8576b\\\"],[0.6666666666666666,\\\"#ed7953\\\"],[0.7777777777777778,\\\"#fb9f3a\\\"],[0.8888888888888888,\\\"#fdca26\\\"],[1.0,\\\"#f0f921\\\"]]}],\\\"scatterternary\\\":[{\\\"type\\\":\\\"scatterternary\\\",\\\"marker\\\":{\\\"colorbar\\\":{\\\"ticks\\\":\\\"\\\",\\\"outlinewidth\\\":0}}}],\\\"scatterpolargl\\\":[{\\\"type\\\":\\\"scatterpolargl\\\",\\\"marker\\\":{\\\"colorbar\\\":{\\\"ticks\\\":\\\"\\\",\\\"outlinewidth\\\":0}}}]}},\\\"legend\\\":{\\\"tracegroupgap\\\":0,\\\"title\\\":{\\\"text\\\":\\\"Nation\\\"}},\\\"margin\\\":{\\\"l\\\":50,\\\"b\\\":50,\\\"r\\\":50,\\\"t\\\":60},\\\"yaxis\\\":{\\\"title\\\":{\\\"text\\\":\\\"No deaths\\\"}}},{\\\"showLink\\\":false,\\\"editable\\\":false,\\\"responsive\\\":true,\\\"staticPlot\\\":false,\\\"scrollZoom\\\":true}); gd.on(\\\"plotly_hover\\\",(function (data){var filtered_data=WebIO.PlotlyCommands.filterEventData(gd,data,\\\"hover\\\"); return !(filtered_data.isnil) ? (WebIO.setval({\\\"name\\\":\\\"hover\\\",\\\"scope\\\":\\\"7960495317054402638\\\",\\\"id\\\":\\\"11\\\",\\\"type\\\":\\\"observable\\\"},filtered_data.out)) : undefined})); gd.on(\\\"plotly_unhover\\\",(function (){return WebIO.setval({\\\"name\\\":\\\"hover\\\",\\\"scope\\\":\\\"7960495317054402638\\\",\\\"id\\\":\\\"11\\\",\\\"type\\\":\\\"observable\\\"},{})})); gd.on(\\\"plotly_selected\\\",(function (data){var filtered_data=WebIO.PlotlyCommands.filterEventData(gd,data,\\\"selected\\\"); return !(filtered_data.isnil) ? (WebIO.setval({\\\"name\\\":\\\"selected\\\",\\\"scope\\\":\\\"7960495317054402638\\\",\\\"id\\\":\\\"12\\\",\\\"type\\\":\\\"observable\\\"},filtered_data.out)) : undefined})); gd.on(\\\"plotly_deselect\\\",(function (){return WebIO.setval({\\\"name\\\":\\\"selected\\\",\\\"scope\\\":\\\"7960495317054402638\\\",\\\"id\\\":\\\"12\\\",\\\"type\\\":\\\"observable\\\"},{})})); gd.on(\\\"plotly_relayout\\\",(function (data){var filtered_data=WebIO.PlotlyCommands.filterEventData(gd,data,\\\"relayout\\\"); return !(filtered_data.isnil) ? (WebIO.setval({\\\"name\\\":\\\"relayout\\\",\\\"scope\\\":\\\"7960495317054402638\\\",\\\"id\\\":\\\"14\\\",\\\"type\\\":\\\"observable\\\"},filtered_data.out)) : undefined})); return gd.on(\\\"plotly_click\\\",(function (data){var filtered_data=WebIO.PlotlyCommands.filterEventData(gd,data,\\\"click\\\"); return !(filtered_data.isnil) ? (WebIO.setval({\\\"name\\\":\\\"click\\\",\\\"scope\\\":\\\"7960495317054402638\\\",\\\"id\\\":\\\"13\\\",\\\"type\\\":\\\"observable\\\"},filtered_data.out)) : undefined}))}));\\n    (WebIO.importBlock({\\\"data\\\":[{\\\"name\\\":\\\"Plotly\\\",\\\"type\\\":\\\"js\\\",\\\"url\\\":\\\"\\/assetserver\\/a1ce98aba64ebc875cd706be1c5f477c144bace2-plotly.min.js\\\"},{\\\"name\\\":null,\\\"type\\\":\\\"js\\\",\\\"url\\\":\\\"\\/assetserver\\/aa2112138e40c2a40506078cf4ea9303756a94b4-plotly_webio.bundle.js\\\"}],\\\"type\\\":\\\"async_block\\\"})).then((imports) => handler.apply(this, imports));\\n}\\n\"],\"observables\":{\"_toImage\":{\"sync\":false,\"id\":\"18\",\"value\":{}},\"hover\":{\"sync\":false,\"id\":\"11\",\"value\":{}},\"selected\":{\"sync\":false,\"id\":\"12\",\"value\":{}},\"__gd_contents\":{\"sync\":false,\"id\":\"16\",\"value\":{}},\"click\":{\"sync\":false,\"id\":\"13\",\"value\":{}},\"image\":{\"sync\":true,\"id\":\"15\",\"value\":\"\"},\"__get_gd_contents\":{\"sync\":false,\"id\":\"20\",\"value\":\"\"},\"_downloadImage\":{\"sync\":false,\"id\":\"19\",\"value\":{}},\"relayout\":{\"sync\":false,\"id\":\"14\",\"value\":{}},\"_commands\":{\"sync\":false,\"id\":\"17\",\"value\":[]}}},\"children\":[{\"props\":{\"id\":\"plot-57ebe3d6-a690-426e-8868-95fb65306d2f\"},\"nodeType\":\"DOM\",\"type\":\"node\",\"instanceArgs\":{\"namespace\":\"html\",\"tag\":\"div\"},\"children\":[]}]},\n",
       "        window,\n",
       "    );\n",
       "    })()\n",
       "    </script>\n",
       "</div>\n"
      ],
      "text/plain": [
       "data: [\n",
       "  \"scatter with fields legendgroup, marker, mode, name, showlegend, type, x, xaxis, y, and yaxis\",\n",
       "  \"scatter with fields legendgroup, marker, mode, name, showlegend, type, x, xaxis, y, and yaxis\",\n",
       "  \"scatter with fields legendgroup, marker, mode, name, showlegend, type, x, xaxis, y, and yaxis\",\n",
       "  \"scatter with fields legendgroup, marker, mode, name, showlegend, type, x, xaxis, y, and yaxis\",\n",
       "  \"scatter with fields legendgroup, marker, mode, name, showlegend, type, x, xaxis, y, and yaxis\",\n",
       "  \"scatter with fields legendgroup, marker, mode, name, showlegend, type, x, xaxis, y, and yaxis\",\n",
       "  \"scatter with fields legendgroup, marker, mode, name, showlegend, type, x, xaxis, y, and yaxis\",\n",
       "  \"scatter with fields legendgroup, marker, mode, name, showlegend, type, x, xaxis, y, and yaxis\",\n",
       "  \"scatter with fields legendgroup, marker, mode, name, showlegend, type, x, xaxis, y, and yaxis\"\n",
       "]\n",
       "\n",
       "layout: \"layout with fields legend, margin, template, xaxis, and yaxis\"\n",
       "\n"
      ]
     },
     "metadata": {},
     "output_type": "display_data"
    }
   ],
   "source": [
    "sc = plot(melanoma, x=:UVB, y=:Deaths, mode=:markers, color=:Nation,\n",
    "        Layout(xaxis_title=\"UVB\", yaxis_title=\"No deaths\"))"
   ]
  },
  {
   "cell_type": "markdown",
   "metadata": {},
   "source": [
    "Create box plots depicting the number of deaths on each country."
   ]
  },
  {
   "cell_type": "code",
   "execution_count": 6,
   "metadata": {},
   "outputs": [
    {
     "data": {
      "application/vnd.plotly.v1+json": {
       "config": {
        "editable": false,
        "responsive": true,
        "scrollZoom": true,
        "showLink": false,
        "staticPlot": false
       },
       "data": [
        {
         "marker": {
          "color": "navy"
         },
         "type": "box",
         "x": [
          "Belgium",
          "Belgium",
          "Belgium",
          "Belgium",
          "Belgium",
          "Belgium",
          "Belgium",
          "Belgium",
          "Belgium",
          "Belgium",
          "Belgium",
          "W.Germany",
          "W.Germany",
          "W.Germany",
          "W.Germany",
          "W.Germany",
          "W.Germany",
          "W.Germany",
          "W.Germany",
          "W.Germany",
          "W.Germany",
          "W.Germany",
          "W.Germany",
          "W.Germany",
          "W.Germany",
          "W.Germany",
          "W.Germany",
          "W.Germany",
          "W.Germany",
          "W.Germany",
          "W.Germany",
          "W.Germany",
          "W.Germany",
          "W.Germany",
          "W.Germany",
          "W.Germany",
          "W.Germany",
          "W.Germany",
          "W.Germany",
          "W.Germany",
          "W.Germany",
          "Denmark",
          "Denmark",
          "Denmark",
          "Denmark",
          "Denmark",
          "Denmark",
          "Denmark",
          "Denmark",
          "Denmark",
          "Denmark",
          "Denmark",
          "Denmark",
          "Denmark",
          "Denmark",
          "France",
          "France",
          "France",
          "France",
          "France",
          "France",
          "France",
          "France",
          "France",
          "France",
          "France",
          "France",
          "France",
          "France",
          "France",
          "France",
          "France",
          "France",
          "France",
          "France",
          "France",
          "France",
          "France",
          "France",
          "France",
          "France",
          "France",
          "France",
          "France",
          "France",
          "France",
          "France",
          "France",
          "France",
          "France",
          "France",
          "France",
          "France",
          "France",
          "France",
          "France",
          "France",
          "France",
          "France",
          "France",
          "France",
          "France",
          "France",
          "France",
          "France",
          "France",
          "France",
          "France",
          "France",
          "France",
          "France",
          "France",
          "France",
          "France",
          "France",
          "France",
          "France",
          "France",
          "France",
          "France",
          "France",
          "France",
          "France",
          "France",
          "France",
          "France",
          "France",
          "France",
          "France",
          "France",
          "France",
          "France",
          "France",
          "France",
          "France",
          "France",
          "France",
          "France",
          "France",
          "France",
          "France",
          "France",
          "France",
          "France",
          "France",
          "France",
          "France",
          "France",
          "France",
          "UK",
          "UK",
          "UK",
          "UK",
          "UK",
          "UK",
          "UK",
          "UK",
          "UK",
          "UK",
          "UK",
          "UK",
          "UK",
          "UK",
          "UK",
          "UK",
          "UK",
          "UK",
          "UK",
          "UK",
          "UK",
          "UK",
          "UK",
          "UK",
          "UK",
          "UK",
          "UK",
          "UK",
          "UK",
          "UK",
          "UK",
          "UK",
          "UK",
          "UK",
          "UK",
          "UK",
          "UK",
          "UK",
          "UK",
          "UK",
          "UK",
          "UK",
          "UK",
          "UK",
          "UK",
          "UK",
          "UK",
          "UK",
          "UK",
          "UK",
          "UK",
          "UK",
          "UK",
          "UK",
          "UK",
          "UK",
          "UK",
          "UK",
          "UK",
          "UK",
          "UK",
          "UK",
          "UK",
          "UK",
          "UK",
          "UK",
          "UK",
          "UK",
          "UK",
          "UK",
          "Italy",
          "Italy",
          "Italy",
          "Italy",
          "Italy",
          "Italy",
          "Italy",
          "Italy",
          "Italy",
          "Italy",
          "Italy",
          "Italy",
          "Italy",
          "Italy",
          "Italy",
          "Italy",
          "Italy",
          "Italy",
          "Italy",
          "Italy",
          "Italy",
          "Italy",
          "Italy",
          "Italy",
          "Italy",
          "Italy",
          "Italy",
          "Italy",
          "Italy",
          "Italy",
          "Italy",
          "Italy",
          "Italy",
          "Italy",
          "Italy",
          "Italy",
          "Italy",
          "Italy",
          "Italy",
          "Italy",
          "Italy",
          "Italy",
          "Italy",
          "Italy",
          "Italy",
          "Italy",
          "Italy",
          "Italy",
          "Italy",
          "Italy",
          "Italy",
          "Italy",
          "Italy",
          "Italy",
          "Italy",
          "Italy",
          "Italy",
          "Italy",
          "Italy",
          "Italy",
          "Italy",
          "Italy",
          "Italy",
          "Italy",
          "Italy",
          "Italy",
          "Italy",
          "Italy",
          "Italy",
          "Italy",
          "Italy",
          "Italy",
          "Italy",
          "Italy",
          "Italy",
          "Italy",
          "Italy",
          "Italy",
          "Italy",
          "Italy",
          "Italy",
          "Italy",
          "Italy",
          "Italy",
          "Italy",
          "Italy",
          "Italy",
          "Italy",
          "Italy",
          "Italy",
          "Italy",
          "Italy",
          "Italy",
          "Italy",
          "Italy",
          "Ireland",
          "Ireland",
          "Ireland",
          "Ireland",
          "Ireland",
          "Ireland",
          "Ireland",
          "Ireland",
          "Ireland",
          "Ireland",
          "Ireland",
          "Ireland",
          "Ireland",
          "Ireland",
          "Ireland",
          "Ireland",
          "Ireland",
          "Ireland",
          "Ireland",
          "Ireland",
          "Ireland",
          "Ireland",
          "Ireland",
          "Ireland",
          "Ireland",
          "Ireland",
          "Luxembourg",
          "Luxembourg",
          "Luxembourg",
          "Netherlands",
          "Netherlands",
          "Netherlands",
          "Netherlands",
          "Netherlands",
          "Netherlands",
          "Netherlands",
          "Netherlands",
          "Netherlands",
          "Netherlands",
          "Netherlands"
         ],
         "xaxis": "x",
         "y": [
          79,
          80,
          51,
          43,
          89,
          19,
          19,
          15,
          33,
          9,
          12,
          156,
          110,
          77,
          56,
          220,
          46,
          47,
          50,
          90,
          62,
          85,
          141,
          38,
          121,
          218,
          50,
          97,
          98,
          75,
          85,
          209,
          127,
          98,
          58,
          151,
          66,
          25,
          91,
          42,
          160,
          209,
          43,
          28,
          41,
          42,
          6,
          57,
          20,
          21,
          31,
          23,
          79,
          24,
          57,
          33,
          20,
          15,
          29,
          9,
          7,
          14,
          17,
          7,
          8,
          10,
          13,
          9,
          7,
          13,
          8,
          19,
          9,
          16,
          44,
          14,
          24,
          12,
          13,
          11,
          14,
          5,
          13,
          11,
          8,
          16,
          3,
          9,
          13,
          8,
          3,
          12,
          42,
          77,
          15,
          40,
          16,
          34,
          30,
          41,
          18,
          5,
          16,
          18,
          2,
          11,
          5,
          9,
          11,
          14,
          7,
          28,
          10,
          5,
          7,
          13,
          7,
          5,
          9,
          3,
          7,
          63,
          35,
          25,
          17,
          6,
          12,
          14,
          9,
          8,
          10,
          12,
          19,
          9,
          4,
          3,
          1,
          22,
          44,
          17,
          11,
          12,
          10,
          14,
          22,
          22,
          50,
          5,
          18,
          20,
          27,
          28,
          31,
          32,
          16,
          28,
          35,
          31,
          9,
          18,
          23,
          11,
          65,
          52,
          34,
          43,
          313,
          27,
          24,
          20,
          36,
          74,
          65,
          45,
          10,
          69,
          29,
          53,
          39,
          33,
          28,
          47,
          27,
          22,
          21,
          21,
          97,
          27,
          15,
          26,
          12,
          47,
          63,
          38,
          31,
          13,
          17,
          15,
          11,
          19,
          4,
          11,
          15,
          8,
          23,
          19,
          13,
          28,
          1,
          7,
          74,
          3,
          2,
          0,
          0,
          16,
          10,
          4,
          4,
          9,
          6,
          9,
          8,
          6,
          5,
          10,
          9,
          5,
          10,
          4,
          31,
          4,
          13,
          11,
          18,
          9,
          19,
          31,
          10,
          16,
          20,
          22,
          9,
          17,
          8,
          8,
          4,
          109,
          12,
          9,
          4,
          10,
          36,
          13,
          23,
          24,
          4,
          128,
          15,
          12,
          16,
          9,
          13,
          8,
          13,
          8,
          6,
          6,
          2,
          88,
          14,
          21,
          13,
          8,
          25,
          15,
          22,
          12,
          8,
          9,
          11,
          2,
          15,
          1,
          6,
          20,
          11,
          9,
          5,
          2,
          11,
          4,
          12,
          5,
          8,
          8,
          44,
          6,
          14,
          9,
          5,
          11,
          13,
          15,
          9,
          12,
          6,
          19,
          19,
          10,
          22,
          29,
          35,
          8,
          1,
          0,
          3,
          0,
          2,
          0,
          21,
          4,
          1,
          0,
          2,
          2,
          2,
          0,
          1,
          2,
          1,
          1,
          7,
          3,
          5,
          1,
          3,
          1,
          3,
          1,
          2,
          2,
          19,
          14,
          26,
          11,
          34,
          62,
          32,
          107,
          150,
          15,
          64,
          31
         ],
         "yaxis": "y"
        }
       ],
       "frames": [],
       "layout": {
        "legend": {
         "tracegroupgap": 0
        },
        "margin": {
         "b": 50,
         "l": 50,
         "r": 50,
         "t": 60
        },
        "template": {
         "data": {
          "bar": [
           {
            "error_x": {
             "color": "#2a3f5f"
            },
            "error_y": {
             "color": "#2a3f5f"
            },
            "marker": {
             "line": {
              "color": "#E5ECF6",
              "width": 0.5
             }
            },
            "type": "bar"
           }
          ],
          "barpolar": [
           {
            "marker": {
             "line": {
              "color": "#E5ECF6",
              "width": 0.5
             }
            },
            "type": "barpolar"
           }
          ],
          "carpet": [
           {
            "aaxis": {
             "endlinecolor": "#2a3f5f",
             "gridcolor": "white",
             "linecolor": "white",
             "minorgridcolor": "white",
             "startlinecolor": "#2a3f5f"
            },
            "baxis": {
             "endlinecolor": "#2a3f5f",
             "gridcolor": "white",
             "linecolor": "white",
             "minorgridcolor": "white",
             "startlinecolor": "#2a3f5f"
            },
            "type": "carpet"
           }
          ],
          "choropleth": [
           {
            "colorbar": {
             "outlinewidth": 0,
             "ticks": ""
            },
            "type": "choropleth"
           }
          ],
          "contour": [
           {
            "colorbar": {
             "outlinewidth": 0,
             "ticks": ""
            },
            "colorscale": [
             [
              0,
              "#0d0887"
             ],
             [
              0.1111111111111111,
              "#46039f"
             ],
             [
              0.2222222222222222,
              "#7201a8"
             ],
             [
              0.3333333333333333,
              "#9c179e"
             ],
             [
              0.4444444444444444,
              "#bd3786"
             ],
             [
              0.5555555555555556,
              "#d8576b"
             ],
             [
              0.6666666666666666,
              "#ed7953"
             ],
             [
              0.7777777777777778,
              "#fb9f3a"
             ],
             [
              0.8888888888888888,
              "#fdca26"
             ],
             [
              1,
              "#f0f921"
             ]
            ],
            "type": "contour"
           }
          ],
          "contourcarpet": [
           {
            "colorbar": {
             "outlinewidth": 0,
             "ticks": ""
            },
            "type": "contourcarpet"
           }
          ],
          "heatmap": [
           {
            "colorbar": {
             "outlinewidth": 0,
             "ticks": ""
            },
            "colorscale": [
             [
              0,
              "#0d0887"
             ],
             [
              0.1111111111111111,
              "#46039f"
             ],
             [
              0.2222222222222222,
              "#7201a8"
             ],
             [
              0.3333333333333333,
              "#9c179e"
             ],
             [
              0.4444444444444444,
              "#bd3786"
             ],
             [
              0.5555555555555556,
              "#d8576b"
             ],
             [
              0.6666666666666666,
              "#ed7953"
             ],
             [
              0.7777777777777778,
              "#fb9f3a"
             ],
             [
              0.8888888888888888,
              "#fdca26"
             ],
             [
              1,
              "#f0f921"
             ]
            ],
            "type": "heatmap"
           }
          ],
          "heatmapgl": [
           {
            "colorbar": {
             "outlinewidth": 0,
             "ticks": ""
            },
            "colorscale": [
             [
              0,
              "#0d0887"
             ],
             [
              0.1111111111111111,
              "#46039f"
             ],
             [
              0.2222222222222222,
              "#7201a8"
             ],
             [
              0.3333333333333333,
              "#9c179e"
             ],
             [
              0.4444444444444444,
              "#bd3786"
             ],
             [
              0.5555555555555556,
              "#d8576b"
             ],
             [
              0.6666666666666666,
              "#ed7953"
             ],
             [
              0.7777777777777778,
              "#fb9f3a"
             ],
             [
              0.8888888888888888,
              "#fdca26"
             ],
             [
              1,
              "#f0f921"
             ]
            ],
            "type": "heatmapgl"
           }
          ],
          "histogram": [
           {
            "marker": {
             "colorbar": {
              "outlinewidth": 0,
              "ticks": ""
             }
            },
            "type": "histogram"
           }
          ],
          "histogram2d": [
           {
            "colorbar": {
             "outlinewidth": 0,
             "ticks": ""
            },
            "colorscale": [
             [
              0,
              "#0d0887"
             ],
             [
              0.1111111111111111,
              "#46039f"
             ],
             [
              0.2222222222222222,
              "#7201a8"
             ],
             [
              0.3333333333333333,
              "#9c179e"
             ],
             [
              0.4444444444444444,
              "#bd3786"
             ],
             [
              0.5555555555555556,
              "#d8576b"
             ],
             [
              0.6666666666666666,
              "#ed7953"
             ],
             [
              0.7777777777777778,
              "#fb9f3a"
             ],
             [
              0.8888888888888888,
              "#fdca26"
             ],
             [
              1,
              "#f0f921"
             ]
            ],
            "type": "histogram2d"
           }
          ],
          "histogram2dcontour": [
           {
            "colorbar": {
             "outlinewidth": 0,
             "ticks": ""
            },
            "colorscale": [
             [
              0,
              "#0d0887"
             ],
             [
              0.1111111111111111,
              "#46039f"
             ],
             [
              0.2222222222222222,
              "#7201a8"
             ],
             [
              0.3333333333333333,
              "#9c179e"
             ],
             [
              0.4444444444444444,
              "#bd3786"
             ],
             [
              0.5555555555555556,
              "#d8576b"
             ],
             [
              0.6666666666666666,
              "#ed7953"
             ],
             [
              0.7777777777777778,
              "#fb9f3a"
             ],
             [
              0.8888888888888888,
              "#fdca26"
             ],
             [
              1,
              "#f0f921"
             ]
            ],
            "type": "histogram2dcontour"
           }
          ],
          "mesh3d": [
           {
            "colorbar": {
             "outlinewidth": 0,
             "ticks": ""
            },
            "type": "mesh3d"
           }
          ],
          "parcoords": [
           {
            "line": {
             "colorbar": {
              "outlinewidth": 0,
              "ticks": ""
             }
            },
            "type": "parcoords"
           }
          ],
          "pie": [
           {
            "automargin": true,
            "type": "pie"
           }
          ],
          "scatter": [
           {
            "marker": {
             "colorbar": {
              "outlinewidth": 0,
              "ticks": ""
             }
            },
            "type": "scatter"
           }
          ],
          "scatter3d": [
           {
            "line": {
             "colorbar": {
              "outlinewidth": 0,
              "ticks": ""
             }
            },
            "marker": {
             "colorbar": {
              "outlinewidth": 0,
              "ticks": ""
             }
            },
            "type": "scatter3d"
           }
          ],
          "scattercarpet": [
           {
            "marker": {
             "colorbar": {
              "outlinewidth": 0,
              "ticks": ""
             }
            },
            "type": "scattercarpet"
           }
          ],
          "scattergeo": [
           {
            "marker": {
             "colorbar": {
              "outlinewidth": 0,
              "ticks": ""
             }
            },
            "type": "scattergeo"
           }
          ],
          "scattergl": [
           {
            "marker": {
             "colorbar": {
              "outlinewidth": 0,
              "ticks": ""
             }
            },
            "type": "scattergl"
           }
          ],
          "scattermapbox": [
           {
            "marker": {
             "colorbar": {
              "outlinewidth": 0,
              "ticks": ""
             }
            },
            "type": "scattermapbox"
           }
          ],
          "scatterpolar": [
           {
            "marker": {
             "colorbar": {
              "outlinewidth": 0,
              "ticks": ""
             }
            },
            "type": "scatterpolar"
           }
          ],
          "scatterpolargl": [
           {
            "marker": {
             "colorbar": {
              "outlinewidth": 0,
              "ticks": ""
             }
            },
            "type": "scatterpolargl"
           }
          ],
          "scatterternary": [
           {
            "marker": {
             "colorbar": {
              "outlinewidth": 0,
              "ticks": ""
             }
            },
            "type": "scatterternary"
           }
          ],
          "surface": [
           {
            "colorbar": {
             "outlinewidth": 0,
             "ticks": ""
            },
            "colorscale": [
             [
              0,
              "#0d0887"
             ],
             [
              0.1111111111111111,
              "#46039f"
             ],
             [
              0.2222222222222222,
              "#7201a8"
             ],
             [
              0.3333333333333333,
              "#9c179e"
             ],
             [
              0.4444444444444444,
              "#bd3786"
             ],
             [
              0.5555555555555556,
              "#d8576b"
             ],
             [
              0.6666666666666666,
              "#ed7953"
             ],
             [
              0.7777777777777778,
              "#fb9f3a"
             ],
             [
              0.8888888888888888,
              "#fdca26"
             ],
             [
              1,
              "#f0f921"
             ]
            ],
            "type": "surface"
           }
          ],
          "table": [
           {
            "cells": {
             "fill": {
              "color": "#EBF0F8"
             },
             "line": {
              "color": "white"
             }
            },
            "header": {
             "fill": {
              "color": "#C8D4E3"
             },
             "line": {
              "color": "white"
             }
            },
            "type": "table"
           }
          ]
         },
         "layout": {
          "annotationdefaults": {
           "arrowcolor": "#2a3f5f",
           "arrowhead": 0,
           "arrowwidth": 1
          },
          "autotypenumbers": "strict",
          "coloraxis": {
           "colorbar": {
            "outlinewidth": 0,
            "ticks": ""
           }
          },
          "colorscale": {
           "diverging": [
            [
             0,
             "#8e0152"
            ],
            [
             0.1,
             "#c51b7d"
            ],
            [
             0.2,
             "#de77ae"
            ],
            [
             0.3,
             "#f1b6da"
            ],
            [
             0.4,
             "#fde0ef"
            ],
            [
             0.5,
             "#f7f7f7"
            ],
            [
             0.6,
             "#e6f5d0"
            ],
            [
             0.7,
             "#b8e186"
            ],
            [
             0.8,
             "#7fbc41"
            ],
            [
             0.9,
             "#4d9221"
            ],
            [
             1,
             "#276419"
            ]
           ],
           "sequential": [
            [
             0,
             "#0d0887"
            ],
            [
             0.1111111111111111,
             "#46039f"
            ],
            [
             0.2222222222222222,
             "#7201a8"
            ],
            [
             0.3333333333333333,
             "#9c179e"
            ],
            [
             0.4444444444444444,
             "#bd3786"
            ],
            [
             0.5555555555555556,
             "#d8576b"
            ],
            [
             0.6666666666666666,
             "#ed7953"
            ],
            [
             0.7777777777777778,
             "#fb9f3a"
            ],
            [
             0.8888888888888888,
             "#fdca26"
            ],
            [
             1,
             "#f0f921"
            ]
           ],
           "sequentialminus": [
            [
             0,
             "#0d0887"
            ],
            [
             0.1111111111111111,
             "#46039f"
            ],
            [
             0.2222222222222222,
             "#7201a8"
            ],
            [
             0.3333333333333333,
             "#9c179e"
            ],
            [
             0.4444444444444444,
             "#bd3786"
            ],
            [
             0.5555555555555556,
             "#d8576b"
            ],
            [
             0.6666666666666666,
             "#ed7953"
            ],
            [
             0.7777777777777778,
             "#fb9f3a"
            ],
            [
             0.8888888888888888,
             "#fdca26"
            ],
            [
             1,
             "#f0f921"
            ]
           ]
          },
          "colorway": [
           "#636efa",
           "#EF553B",
           "#00cc96",
           "#ab63fa",
           "#FFA15A",
           "#19d3f3",
           "#FF6692",
           "#B6E880",
           "#FF97FF",
           "#FECB52"
          ],
          "font": {
           "color": "#2a3f5f"
          },
          "geo": {
           "bgcolor": "white",
           "lakecolor": "white",
           "landcolor": "#E5ECF6",
           "showlakes": true,
           "showland": true,
           "subunitcolor": "white"
          },
          "hoverlabel": {
           "align": "left"
          },
          "hovermode": "closest",
          "mapbox": {
           "style": "light"
          },
          "paper_bgcolor": "white",
          "plot_bgcolor": "#E5ECF6",
          "polar": {
           "angularaxis": {
            "gridcolor": "white",
            "linecolor": "white",
            "ticks": ""
           },
           "bgcolor": "#E5ECF6",
           "radialaxis": {
            "gridcolor": "white",
            "linecolor": "white",
            "ticks": ""
           }
          },
          "scene": {
           "xaxis": {
            "backgroundcolor": "#E5ECF6",
            "gridcolor": "white",
            "gridwidth": 2,
            "linecolor": "white",
            "showbackground": true,
            "ticks": "",
            "zerolinecolor": "white"
           },
           "yaxis": {
            "backgroundcolor": "#E5ECF6",
            "gridcolor": "white",
            "gridwidth": 2,
            "linecolor": "white",
            "showbackground": true,
            "ticks": "",
            "zerolinecolor": "white"
           },
           "zaxis": {
            "backgroundcolor": "#E5ECF6",
            "gridcolor": "white",
            "gridwidth": 2,
            "linecolor": "white",
            "showbackground": true,
            "ticks": "",
            "zerolinecolor": "white"
           }
          },
          "shapedefaults": {
           "line": {
            "color": "#2a3f5f"
           }
          },
          "ternary": {
           "aaxis": {
            "gridcolor": "white",
            "linecolor": "white",
            "ticks": ""
           },
           "baxis": {
            "gridcolor": "white",
            "linecolor": "white",
            "ticks": ""
           },
           "bgcolor": "#E5ECF6",
           "caxis": {
            "gridcolor": "white",
            "linecolor": "white",
            "ticks": ""
           }
          },
          "title": {
           "x": 0.05
          },
          "xaxis": {
           "automargin": true,
           "gridcolor": "white",
           "linecolor": "white",
           "ticks": "",
           "title": {
            "standoff": 15
           },
           "zerolinecolor": "white",
           "zerolinewidth": 2
          },
          "yaxis": {
           "automargin": true,
           "gridcolor": "white",
           "linecolor": "white",
           "ticks": "",
           "title": {
            "standoff": 15
           },
           "zerolinecolor": "white",
           "zerolinewidth": 2
          }
         }
        },
        "xaxis": {
         "title": {
          "text": "Nation"
         }
        },
        "yaxis": {
         "title": {
          "text": "Deaths"
         }
        }
       }
      },
      "image/png": "[encoded data removed]",
      "image/svg+xml": [
       "<svg class=\"main-svg\" xmlns=\"http://www.w3.org/2000/svg\" xmlns:xlink=\"http://www.w3.org/1999/xlink\" width=\"700\" height=\"500\" style=\"\" viewBox=\"0 0 700 500\"><rect x=\"0\" y=\"0\" width=\"700\" height=\"500\" style=\"fill: rgb(255, 255, 255); fill-opacity: 1;\"/><defs id=\"defs-85f69b\"><g class=\"clips\"><clipPath id=\"clip85f69bxyplot\" class=\"plotclip\"><rect width=\"589\" height=\"351\"/></clipPath><clipPath class=\"axesclip\" id=\"clip85f69bx\"><rect x=\"61\" y=\"0\" width=\"589\" height=\"500\"/></clipPath><clipPath class=\"axesclip\" id=\"clip85f69by\"><rect x=\"0\" y=\"60\" width=\"700\" height=\"351\"/></clipPath><clipPath class=\"axesclip\" id=\"clip85f69bxy\"><rect x=\"61\" y=\"60\" width=\"589\" height=\"351\"/></clipPath></g><g class=\"gradients\"/><g class=\"patterns\"/></defs><g class=\"bglayer\"><rect class=\"bg\" x=\"61\" y=\"60\" width=\"589\" height=\"351\" style=\"fill: rgb(229, 236, 246); fill-opacity: 1; stroke-width: 0;\"/></g><g class=\"layer-below\"><g class=\"imagelayer\"/><g class=\"shapelayer\"/></g><g class=\"cartesianlayer\"><g class=\"subplot xy\"><g class=\"layer-subplot\"><g class=\"shapelayer\"/><g class=\"imagelayer\"/></g><g class=\"gridlayer\"><g class=\"x\"/><g class=\"y\"><path class=\"ygrid crisp\" transform=\"translate(0,342.99)\" d=\"M61,0h589\" style=\"stroke: rgb(255, 255, 255); stroke-opacity: 1; stroke-width: 1px;\"/><path class=\"ygrid crisp\" transform=\"translate(0,292.52)\" d=\"M61,0h589\" style=\"stroke: rgb(255, 255, 255); stroke-opacity: 1; stroke-width: 1px;\"/><path class=\"ygrid crisp\" transform=\"translate(0,242.06)\" d=\"M61,0h589\" style=\"stroke: rgb(255, 255, 255); stroke-opacity: 1; stroke-width: 1px;\"/><path class=\"ygrid crisp\" transform=\"translate(0,191.6)\" d=\"M61,0h589\" style=\"stroke: rgb(255, 255, 255); stroke-opacity: 1; stroke-width: 1px;\"/><path class=\"ygrid crisp\" transform=\"translate(0,141.13)\" d=\"M61,0h589\" style=\"stroke: rgb(255, 255, 255); stroke-opacity: 1; stroke-width: 1px;\"/><path class=\"ygrid crisp\" transform=\"translate(0,90.67)\" d=\"M61,0h589\" style=\"stroke: rgb(255, 255, 255); stroke-opacity: 1; stroke-width: 1px;\"/></g></g><g class=\"zerolinelayer\"><path class=\"yzl zl crisp\" transform=\"translate(0,393.45)\" d=\"M61,0h589\" style=\"stroke: rgb(255, 255, 255); stroke-opacity: 1; stroke-width: 2px;\"/></g><path class=\"xlines-below\"/><path class=\"ylines-below\"/><g class=\"overlines-below\"/><g class=\"xaxislayer-below\"/><g class=\"yaxislayer-below\"/><g class=\"overaxes-below\"/><g class=\"plot\" transform=\"translate(61,60)\" clip-path=\"url(#clip85f69bxyplot)\"><g class=\"boxlayer mlayer\"><g class=\"trace boxes\" style=\"opacity: 1;\"><path class=\"box\" d=\"M16.69,300.14H48.76M16.69,317.3H48.76V260.78H16.69ZM32.72,317.3V324.37M32.72,260.78V243.63M24.71,324.37H40.74M24.71,243.63H40.74\" style=\"vector-effect: non-scaling-stroke; stroke-width: 2px; stroke: rgb(0, 0, 128); stroke-opacity: 1; fill: rgb(0, 0, 128); fill-opacity: 0.5;\"/><path class=\"box\" d=\"M82.13,245.14H114.2M82.13,276.93H114.2V205.27H82.13ZM98.17,276.93V308.22M98.17,205.27V111.41M90.15,308.22H106.18M90.15,111.41H106.18\" style=\"vector-effect: non-scaling-stroke; stroke-width: 2px; stroke: rgb(0, 0, 128); stroke-opacity: 1; fill: rgb(0, 0, 128); fill-opacity: 0.5;\"/><path class=\"box\" d=\"M147.58,297.12H179.65M147.58,310.24H179.65V275.92H147.58ZM163.61,310.24V327.39M163.61,275.92V253.72M155.59,327.39H171.63M155.59,253.72H171.63\" style=\"vector-effect: non-scaling-stroke; stroke-width: 2px; stroke: rgb(0, 0, 128); stroke-opacity: 1; fill: rgb(0, 0, 128); fill-opacity: 0.5;\"/><path class=\"box\" d=\"M213.02,321.34H245.09M213.02,325.38H245.09V315.28H213.02ZM229.06,325.38V332.44M229.06,315.28V300.14M221.04,332.44H237.07M221.04,300.14H237.07\" style=\"vector-effect: non-scaling-stroke; stroke-width: 2px; stroke: rgb(0, 0, 128); stroke-opacity: 1; fill: rgb(0, 0, 128); fill-opacity: 0.5;\"/><path class=\"box\" d=\"M278.47,309.73H310.53M278.47,320.33H310.53V298.13H278.47ZM294.5,320.33V333.45M294.5,298.13V267.85M286.48,333.45H302.52M286.48,267.85H302.52\" style=\"vector-effect: non-scaling-stroke; stroke-width: 2px; stroke: rgb(0, 0, 128); stroke-opacity: 1; fill: rgb(0, 0, 128); fill-opacity: 0.5;\"/><path class=\"box\" d=\"M343.91,323.36H375.98M343.91,325.38H375.98V317.3H343.91ZM359.94,325.38V332.44M359.94,317.3V308.22M351.93,332.44H367.96M351.93,308.22H367.96\" style=\"vector-effect: non-scaling-stroke; stroke-width: 2px; stroke: rgb(0, 0, 128); stroke-opacity: 1; fill: rgb(0, 0, 128); fill-opacity: 0.5;\"/><path class=\"box\" d=\"M409.36,331.44H441.42M409.36,332.44H441.42V330.42H409.36ZM425.39,332.44V333.45M425.39,330.42V328.4M417.37,333.45H433.41M417.37,328.4H433.41\" style=\"vector-effect: non-scaling-stroke; stroke-width: 2px; stroke: rgb(0, 0, 128); stroke-opacity: 1; fill: rgb(0, 0, 128); fill-opacity: 0.5;\"/><path class=\"box\" d=\"M474.8,330.43H506.87M474.8,331.43H506.87V318.56H474.8ZM490.83,331.43V331.43M490.83,318.56V314.27M482.82,331.43H498.85M482.82,314.27H498.85\" style=\"vector-effect: non-scaling-stroke; stroke-width: 2px; stroke: rgb(0, 0, 128); stroke-opacity: 1; fill: rgb(0, 0, 128); fill-opacity: 0.5;\"/><path class=\"box\" d=\"M540.24,301.15H572.31M540.24,315.54H572.31V269.36H540.24ZM556.28,315.54V322.35M556.28,269.36V225.46M548.26,322.35H564.29M548.26,225.46H564.29\" style=\"vector-effect: non-scaling-stroke; stroke-width: 2px; stroke: rgb(0, 0, 128); stroke-opacity: 1; fill: rgb(0, 0, 128); fill-opacity: 0.5;\"/><g class=\"points\"/><g class=\"points\"/><g class=\"points\"><path class=\"point\" transform=\"translate(163.61,122.51)\" d=\"M3,0A3,3 0 1,1 0,-3A3,3 0 0,1 3,0Z\" style=\"opacity: 1; stroke-width: 0px; fill: rgb(0, 0, 128); fill-opacity: 1;\"/></g><g class=\"points\"><path class=\"point\" transform=\"translate(229.06,299.13)\" d=\"M3,0A3,3 0 1,1 0,-3A3,3 0 0,1 3,0Z\" style=\"opacity: 1; stroke-width: 0px; fill: rgb(0, 0, 128); fill-opacity: 1;\"/><path class=\"point\" transform=\"translate(229.06,298.13)\" d=\"M3,0A3,3 0 1,1 0,-3A3,3 0 0,1 3,0Z\" style=\"opacity: 1; stroke-width: 0px; fill: rgb(0, 0, 128); fill-opacity: 1;\"/><path class=\"point\" transform=\"translate(229.06,293.08)\" d=\"M3,0A3,3 0 1,1 0,-3A3,3 0 0,1 3,0Z\" style=\"opacity: 1; stroke-width: 0px; fill: rgb(0, 0, 128); fill-opacity: 1;\"/><path class=\"point\" transform=\"translate(229.06,292.07)\" d=\"M3,0A3,3 0 1,1 0,-3A3,3 0 0,1 3,0Z\" style=\"opacity: 1; stroke-width: 0px; fill: rgb(0, 0, 128); fill-opacity: 1;\"/><path class=\"point\" transform=\"translate(229.06,291.06)\" d=\"M3,0A3,3 0 1,1 0,-3A3,3 0 0,1 3,0Z\" style=\"opacity: 1; stroke-width: 0px; fill: rgb(0, 0, 128); fill-opacity: 1;\"/><path class=\"point\" transform=\"translate(229.06,289.04)\" d=\"M3,0A3,3 0 1,1 0,-3A3,3 0 0,1 3,0Z\" style=\"opacity: 1; stroke-width: 0px; fill: rgb(0, 0, 128); fill-opacity: 1;\"/><path class=\"point\" transform=\"translate(229.06,289.04)\" d=\"M3,0A3,3 0 1,1 0,-3A3,3 0 0,1 3,0Z\" style=\"opacity: 1; stroke-width: 0px; fill: rgb(0, 0, 128); fill-opacity: 1;\"/><path class=\"point\" transform=\"translate(229.06,282.99)\" d=\"M3,0A3,3 0 1,1 0,-3A3,3 0 0,1 3,0Z\" style=\"opacity: 1; stroke-width: 0px; fill: rgb(0, 0, 128); fill-opacity: 1;\"/><path class=\"point\" transform=\"translate(229.06,269.87)\" d=\"M3,0A3,3 0 1,1 0,-3A3,3 0 0,1 3,0Z\" style=\"opacity: 1; stroke-width: 0px; fill: rgb(0, 0, 128); fill-opacity: 1;\"/><path class=\"point\" transform=\"translate(229.06,255.74)\" d=\"M3,0A3,3 0 1,1 0,-3A3,3 0 0,1 3,0Z\" style=\"opacity: 1; stroke-width: 0px; fill: rgb(0, 0, 128); fill-opacity: 1;\"/></g><g class=\"points\"><path class=\"point\" transform=\"translate(294.5,263.81)\" d=\"M3,0A3,3 0 1,1 0,-3A3,3 0 0,1 3,0Z\" style=\"opacity: 1; stroke-width: 0px; fill: rgb(0, 0, 128); fill-opacity: 1;\"/><path class=\"point\" transform=\"translate(294.5,258.76)\" d=\"M3,0A3,3 0 1,1 0,-3A3,3 0 0,1 3,0Z\" style=\"opacity: 1; stroke-width: 0px; fill: rgb(0, 0, 128); fill-opacity: 1;\"/><path class=\"point\" transform=\"translate(294.5,258.76)\" d=\"M3,0A3,3 0 1,1 0,-3A3,3 0 0,1 3,0Z\" style=\"opacity: 1; stroke-width: 0px; fill: rgb(0, 0, 128); fill-opacity: 1;\"/><path class=\"point\" transform=\"translate(294.5,235.55)\" d=\"M3,0A3,3 0 1,1 0,-3A3,3 0 0,1 3,0Z\" style=\"opacity: 1; stroke-width: 0px; fill: rgb(0, 0, 128); fill-opacity: 1;\"/><path class=\"point\" transform=\"translate(294.5,17.55)\" d=\"M3,0A3,3 0 1,1 0,-3A3,3 0 0,1 3,0Z\" style=\"opacity: 1; stroke-width: 0px; fill: rgb(0, 0, 128); fill-opacity: 1;\"/></g><g class=\"points\"><path class=\"point\" transform=\"translate(359.94,304.18)\" d=\"M3,0A3,3 0 1,1 0,-3A3,3 0 0,1 3,0Z\" style=\"opacity: 1; stroke-width: 0px; fill: rgb(0, 0, 128); fill-opacity: 1;\"/><path class=\"point\" transform=\"translate(359.94,302.16)\" d=\"M3,0A3,3 0 1,1 0,-3A3,3 0 0,1 3,0Z\" style=\"opacity: 1; stroke-width: 0px; fill: rgb(0, 0, 128); fill-opacity: 1;\"/><path class=\"point\" transform=\"translate(359.94,302.16)\" d=\"M3,0A3,3 0 1,1 0,-3A3,3 0 0,1 3,0Z\" style=\"opacity: 1; stroke-width: 0px; fill: rgb(0, 0, 128); fill-opacity: 1;\"/><path class=\"point\" transform=\"translate(359.94,298.13)\" d=\"M3,0A3,3 0 1,1 0,-3A3,3 0 0,1 3,0Z\" style=\"opacity: 1; stroke-width: 0px; fill: rgb(0, 0, 128); fill-opacity: 1;\"/><path class=\"point\" transform=\"translate(359.94,297.12)\" d=\"M3,0A3,3 0 1,1 0,-3A3,3 0 0,1 3,0Z\" style=\"opacity: 1; stroke-width: 0px; fill: rgb(0, 0, 128); fill-opacity: 1;\"/><path class=\"point\" transform=\"translate(359.94,289.04)\" d=\"M3,0A3,3 0 1,1 0,-3A3,3 0 0,1 3,0Z\" style=\"opacity: 1; stroke-width: 0px; fill: rgb(0, 0, 128); fill-opacity: 1;\"/><path class=\"point\" transform=\"translate(359.94,244.63)\" d=\"M3,0A3,3 0 1,1 0,-3A3,3 0 0,1 3,0Z\" style=\"opacity: 1; stroke-width: 0px; fill: rgb(0, 0, 128); fill-opacity: 1;\"/><path class=\"point\" transform=\"translate(359.94,223.44)\" d=\"M3,0A3,3 0 1,1 0,-3A3,3 0 0,1 3,0Z\" style=\"opacity: 1; stroke-width: 0px; fill: rgb(0, 0, 128); fill-opacity: 1;\"/><path class=\"point\" transform=\"translate(359.94,204.26)\" d=\"M3,0A3,3 0 1,1 0,-3A3,3 0 0,1 3,0Z\" style=\"opacity: 1; stroke-width: 0px; fill: rgb(0, 0, 128); fill-opacity: 1;\"/></g><g class=\"points\"><path class=\"point\" transform=\"translate(425.39,326.39)\" d=\"M3,0A3,3 0 1,1 0,-3A3,3 0 0,1 3,0Z\" style=\"opacity: 1; stroke-width: 0px; fill: rgb(0, 0, 128); fill-opacity: 1;\"/><path class=\"point\" transform=\"translate(425.39,312.26)\" d=\"M3,0A3,3 0 1,1 0,-3A3,3 0 0,1 3,0Z\" style=\"opacity: 1; stroke-width: 0px; fill: rgb(0, 0, 128); fill-opacity: 1;\"/></g><g class=\"points\"/><g class=\"points\"><path class=\"point\" transform=\"translate(556.28,182.06)\" d=\"M3,0A3,3 0 1,1 0,-3A3,3 0 0,1 3,0Z\" style=\"opacity: 1; stroke-width: 0px; fill: rgb(0, 0, 128); fill-opacity: 1;\"/></g></g></g></g><g class=\"overplot\"/><path class=\"xlines-above crisp\" d=\"M0,0\" style=\"fill: none;\"/><path class=\"ylines-above crisp\" d=\"M0,0\" style=\"fill: none;\"/><g class=\"overlines-above\"/><g class=\"xaxislayer-above\"><g class=\"xtick\"><text text-anchor=\"start\" x=\"0\" y=\"424\" transform=\"translate(93.72,0) rotate(30,0,418)\" style=\"font-family: 'Open Sans', verdana, arial, sans-serif; font-size: 12px; fill: rgb(42, 63, 95); fill-opacity: 1; white-space: pre; opacity: 1;\">Belgium</text></g><g class=\"xtick\"><text text-anchor=\"start\" x=\"0\" y=\"424\" transform=\"translate(159.17000000000002,0) rotate(30,0,418)\" style=\"font-family: 'Open Sans', verdana, arial, sans-serif; font-size: 12px; fill: rgb(42, 63, 95); fill-opacity: 1; white-space: pre; opacity: 1;\">W.Germany</text></g><g class=\"xtick\"><text text-anchor=\"start\" x=\"0\" y=\"424\" transform=\"translate(224.61,0) rotate(30,0,418)\" style=\"font-family: 'Open Sans', verdana, arial, sans-serif; font-size: 12px; fill: rgb(42, 63, 95); fill-opacity: 1; white-space: pre; opacity: 1;\">Denmark</text></g><g class=\"xtick\"><text text-anchor=\"start\" x=\"0\" y=\"424\" transform=\"translate(290.06,0) rotate(30,0,418)\" style=\"font-family: 'Open Sans', verdana, arial, sans-serif; font-size: 12px; fill: rgb(42, 63, 95); fill-opacity: 1; white-space: pre; opacity: 1;\">France</text></g><g class=\"xtick\"><text text-anchor=\"start\" x=\"0\" y=\"424\" transform=\"translate(355.5,0) rotate(30,0,418)\" style=\"font-family: 'Open Sans', verdana, arial, sans-serif; font-size: 12px; fill: rgb(42, 63, 95); fill-opacity: 1; white-space: pre; opacity: 1;\">UK</text></g><g class=\"xtick\"><text text-anchor=\"start\" x=\"0\" y=\"424\" transform=\"translate(420.94,0) rotate(30,0,418)\" style=\"font-family: 'Open Sans', verdana, arial, sans-serif; font-size: 12px; fill: rgb(42, 63, 95); fill-opacity: 1; white-space: pre; opacity: 1;\">Italy</text></g><g class=\"xtick\"><text text-anchor=\"start\" x=\"0\" y=\"424\" transform=\"translate(486.39,0) rotate(30,0,418)\" style=\"font-family: 'Open Sans', verdana, arial, sans-serif; font-size: 12px; fill: rgb(42, 63, 95); fill-opacity: 1; white-space: pre; opacity: 1;\">Ireland</text></g><g class=\"xtick\"><text text-anchor=\"start\" x=\"0\" y=\"424\" transform=\"translate(551.8299999999999,0) rotate(30,0,418)\" style=\"font-family: 'Open Sans', verdana, arial, sans-serif; font-size: 12px; fill: rgb(42, 63, 95); fill-opacity: 1; white-space: pre; opacity: 1;\">Luxembourg</text></g><g class=\"xtick\"><text text-anchor=\"start\" x=\"0\" y=\"424\" transform=\"translate(617.28,0) rotate(30,0,418)\" style=\"font-family: 'Open Sans', verdana, arial, sans-serif; font-size: 12px; fill: rgb(42, 63, 95); fill-opacity: 1; white-space: pre; opacity: 1;\">Netherlands</text></g></g><g class=\"yaxislayer-above\"><g class=\"ytick\"><text text-anchor=\"end\" x=\"60\" y=\"4.199999999999999\" transform=\"translate(0,393.45)\" style=\"font-family: 'Open Sans', verdana, arial, sans-serif; font-size: 12px; fill: rgb(42, 63, 95); fill-opacity: 1; white-space: pre; opacity: 1;\">0</text></g><g class=\"ytick\"><text text-anchor=\"end\" x=\"60\" y=\"4.199999999999999\" style=\"font-family: 'Open Sans', verdana, arial, sans-serif; font-size: 12px; fill: rgb(42, 63, 95); fill-opacity: 1; white-space: pre; opacity: 1;\" transform=\"translate(0,342.99)\">50</text></g><g class=\"ytick\"><text text-anchor=\"end\" x=\"60\" y=\"4.199999999999999\" style=\"font-family: 'Open Sans', verdana, arial, sans-serif; font-size: 12px; fill: rgb(42, 63, 95); fill-opacity: 1; white-space: pre; opacity: 1;\" transform=\"translate(0,292.52)\">100</text></g><g class=\"ytick\"><text text-anchor=\"end\" x=\"60\" y=\"4.199999999999999\" style=\"font-family: 'Open Sans', verdana, arial, sans-serif; font-size: 12px; fill: rgb(42, 63, 95); fill-opacity: 1; white-space: pre; opacity: 1;\" transform=\"translate(0,242.06)\">150</text></g><g class=\"ytick\"><text text-anchor=\"end\" x=\"60\" y=\"4.199999999999999\" style=\"font-family: 'Open Sans', verdana, arial, sans-serif; font-size: 12px; fill: rgb(42, 63, 95); fill-opacity: 1; white-space: pre; opacity: 1;\" transform=\"translate(0,191.6)\">200</text></g><g class=\"ytick\"><text text-anchor=\"end\" x=\"60\" y=\"4.199999999999999\" style=\"font-family: 'Open Sans', verdana, arial, sans-serif; font-size: 12px; fill: rgb(42, 63, 95); fill-opacity: 1; white-space: pre; opacity: 1;\" transform=\"translate(0,141.13)\">250</text></g><g class=\"ytick\"><text text-anchor=\"end\" x=\"60\" y=\"4.199999999999999\" style=\"font-family: 'Open Sans', verdana, arial, sans-serif; font-size: 12px; fill: rgb(42, 63, 95); fill-opacity: 1; white-space: pre; opacity: 1;\" transform=\"translate(0,90.67)\">300</text></g></g><g class=\"overaxes-above\"/></g></g><g class=\"polarlayer\"/><g class=\"ternarylayer\"/><g class=\"geolayer\"/><g class=\"funnelarealayer\"/><g class=\"pielayer\"/><g class=\"iciclelayer\"/><g class=\"treemaplayer\"/><g class=\"sunburstlayer\"/><g class=\"glimages\"/><defs id=\"topdefs-85f69b\"><g class=\"clips\"/></defs><g class=\"layer-above\"><g class=\"imagelayer\"/><g class=\"shapelayer\"/></g><g class=\"infolayer\"><g class=\"g-gtitle\"/><g class=\"g-xtitle\"><text class=\"xtitle\" x=\"355.5\" y=\"487.739453125\" text-anchor=\"middle\" style=\"font-family: 'Open Sans', verdana, arial, sans-serif; font-size: 14px; fill: rgb(42, 63, 95); opacity: 1; font-weight: normal; white-space: pre;\">Nation</text></g><g class=\"g-ytitle\" transform=\"translate(1.6904296875,0)\"><text class=\"ytitle\" transform=\"rotate(-90,12.309375000000003,235.5)\" x=\"12.309375000000003\" y=\"235.5\" text-anchor=\"middle\" style=\"font-family: 'Open Sans', verdana, arial, sans-serif; font-size: 14px; fill: rgb(42, 63, 95); opacity: 1; font-weight: normal; white-space: pre;\">Deaths</text></g></g></svg>"
      ],
      "text/html": [
       "<div\n",
       "    class=\"webio-mountpoint\"\n",
       "    data-webio-mountpoint=\"3421636039151668814\"\n",
       ">\n",
       "    <script>\n",
       "    (function(){\n",
       "    // Some integrations (namely, IJulia/Jupyter) use an alternate render pathway than\n",
       "    // just putting the html on the page. If WebIO isn't defined, then it's pretty likely\n",
       "    // that we're in one of those situations and the integration just isn't installed\n",
       "    // correctly.\n",
       "    if (typeof window.WebIO === \"undefined\") {\n",
       "        document\n",
       "            .querySelector('[data-webio-mountpoint=\"3421636039151668814\"]')\n",
       "            .innerHTML = (\n",
       "                '<div style=\"padding: 1em; background-color: #f8d6da; border: 1px solid #f5c6cb; font-weight: bold;\">' +\n",
       "                '<p><strong>WebIO not detected.</strong></p>' +\n",
       "                '<p>Please read ' +\n",
       "                '<a href=\"https://juliagizmos.github.io/WebIO.jl/latest/troubleshooting/not-detected/\" target=\"_blank\">the troubleshooting guide</a> ' +\n",
       "                'for more information on how to resolve this issue.</p>' +\n",
       "                '<p><a href=\"https://juliagizmos.github.io/WebIO.jl/latest/troubleshooting/not-detected/\" target=\"_blank\">https://juliagizmos.github.io/WebIO.jl/latest/troubleshooting/not-detected/</a></p>' +\n",
       "                '</div>'\n",
       "            );\n",
       "        return;\n",
       "    }\n",
       "    WebIO.mount(\n",
       "        document.querySelector('[data-webio-mountpoint=\"3421636039151668814\"]'),\n",
       "        {\"props\":{},\"nodeType\":\"Scope\",\"type\":\"node\",\"instanceArgs\":{\"imports\":{\"data\":[{\"name\":\"Plotly\",\"type\":\"js\",\"url\":\"\\/assetserver\\/a1ce98aba64ebc875cd706be1c5f477c144bace2-plotly.min.js\"},{\"name\":null,\"type\":\"js\",\"url\":\"\\/assetserver\\/aa2112138e40c2a40506078cf4ea9303756a94b4-plotly_webio.bundle.js\"}],\"type\":\"async_block\"},\"id\":\"3842755343669926885\",\"handlers\":{\"_toImage\":[\"(function (options){return this.Plotly.toImage(this.plotElem,options).then((function (data){return WebIO.setval({\\\"name\\\":\\\"image\\\",\\\"scope\\\":\\\"3842755343669926885\\\",\\\"id\\\":\\\"25\\\",\\\"type\\\":\\\"observable\\\"},data)}))})\"],\"__get_gd_contents\":[\"(function (prop){prop==\\\"data\\\" ? (WebIO.setval({\\\"name\\\":\\\"__gd_contents\\\",\\\"scope\\\":\\\"3842755343669926885\\\",\\\"id\\\":\\\"26\\\",\\\"type\\\":\\\"observable\\\"},this.plotElem.data)) : undefined; return prop==\\\"layout\\\" ? (WebIO.setval({\\\"name\\\":\\\"__gd_contents\\\",\\\"scope\\\":\\\"3842755343669926885\\\",\\\"id\\\":\\\"26\\\",\\\"type\\\":\\\"observable\\\"},this.plotElem.layout)) : undefined})\"],\"_downloadImage\":[\"(function (options){return this.Plotly.downloadImage(this.plotElem,options)})\"],\"_commands\":[\"(function (args){var fn=args.shift(); var elem=this.plotElem; var Plotly=this.Plotly; args.unshift(elem); return Plotly[fn].apply(this,args)})\"]},\"systemjs_options\":null,\"mount_callbacks\":[\"function () {\\n    var handler = ((function (Plotly,PlotlyWebIO){PlotlyWebIO.init(WebIO); var gd=this.dom.querySelector(\\\"#plot-ee0ee04f-8ca9-4aff-99a3-df5574f044ea\\\"); this.plotElem=gd; this.Plotly=Plotly; (window.Blink!==undefined) ? (gd.style.width=\\\"100%\\\", gd.style.height=\\\"100vh\\\", gd.style.marginLeft=\\\"0%\\\", gd.style.marginTop=\\\"0vh\\\") : undefined; window.onresize=(function (){return Plotly.Plots.resize(gd)}); Plotly.newPlot(gd,[{\\\"x\\\":[\\\"Belgium\\\",\\\"Belgium\\\",\\\"Belgium\\\",\\\"Belgium\\\",\\\"Belgium\\\",\\\"Belgium\\\",\\\"Belgium\\\",\\\"Belgium\\\",\\\"Belgium\\\",\\\"Belgium\\\",\\\"Belgium\\\",\\\"W.Germany\\\",\\\"W.Germany\\\",\\\"W.Germany\\\",\\\"W.Germany\\\",\\\"W.Germany\\\",\\\"W.Germany\\\",\\\"W.Germany\\\",\\\"W.Germany\\\",\\\"W.Germany\\\",\\\"W.Germany\\\",\\\"W.Germany\\\",\\\"W.Germany\\\",\\\"W.Germany\\\",\\\"W.Germany\\\",\\\"W.Germany\\\",\\\"W.Germany\\\",\\\"W.Germany\\\",\\\"W.Germany\\\",\\\"W.Germany\\\",\\\"W.Germany\\\",\\\"W.Germany\\\",\\\"W.Germany\\\",\\\"W.Germany\\\",\\\"W.Germany\\\",\\\"W.Germany\\\",\\\"W.Germany\\\",\\\"W.Germany\\\",\\\"W.Germany\\\",\\\"W.Germany\\\",\\\"W.Germany\\\",\\\"Denmark\\\",\\\"Denmark\\\",\\\"Denmark\\\",\\\"Denmark\\\",\\\"Denmark\\\",\\\"Denmark\\\",\\\"Denmark\\\",\\\"Denmark\\\",\\\"Denmark\\\",\\\"Denmark\\\",\\\"Denmark\\\",\\\"Denmark\\\",\\\"Denmark\\\",\\\"Denmark\\\",\\\"France\\\",\\\"France\\\",\\\"France\\\",\\\"France\\\",\\\"France\\\",\\\"France\\\",\\\"France\\\",\\\"France\\\",\\\"France\\\",\\\"France\\\",\\\"France\\\",\\\"France\\\",\\\"France\\\",\\\"France\\\",\\\"France\\\",\\\"France\\\",\\\"France\\\",\\\"France\\\",\\\"France\\\",\\\"France\\\",\\\"France\\\",\\\"France\\\",\\\"France\\\",\\\"France\\\",\\\"France\\\",\\\"France\\\",\\\"France\\\",\\\"France\\\",\\\"France\\\",\\\"France\\\",\\\"France\\\",\\\"France\\\",\\\"France\\\",\\\"France\\\",\\\"France\\\",\\\"France\\\",\\\"France\\\",\\\"France\\\",\\\"France\\\",\\\"France\\\",\\\"France\\\",\\\"France\\\",\\\"France\\\",\\\"France\\\",\\\"France\\\",\\\"France\\\",\\\"France\\\",\\\"France\\\",\\\"France\\\",\\\"France\\\",\\\"France\\\",\\\"France\\\",\\\"France\\\",\\\"France\\\",\\\"France\\\",\\\"France\\\",\\\"France\\\",\\\"France\\\",\\\"France\\\",\\\"France\\\",\\\"France\\\",\\\"France\\\",\\\"France\\\",\\\"France\\\",\\\"France\\\",\\\"France\\\",\\\"France\\\",\\\"France\\\",\\\"France\\\",\\\"France\\\",\\\"France\\\",\\\"France\\\",\\\"France\\\",\\\"France\\\",\\\"France\\\",\\\"France\\\",\\\"France\\\",\\\"France\\\",\\\"France\\\",\\\"France\\\",\\\"France\\\",\\\"France\\\",\\\"France\\\",\\\"France\\\",\\\"France\\\",\\\"France\\\",\\\"France\\\",\\\"France\\\",\\\"France\\\",\\\"France\\\",\\\"France\\\",\\\"France\\\",\\\"France\\\",\\\"France\\\",\\\"UK\\\",\\\"UK\\\",\\\"UK\\\",\\\"UK\\\",\\\"UK\\\",\\\"UK\\\",\\\"UK\\\",\\\"UK\\\",\\\"UK\\\",\\\"UK\\\",\\\"UK\\\",\\\"UK\\\",\\\"UK\\\",\\\"UK\\\",\\\"UK\\\",\\\"UK\\\",\\\"UK\\\",\\\"UK\\\",\\\"UK\\\",\\\"UK\\\",\\\"UK\\\",\\\"UK\\\",\\\"UK\\\",\\\"UK\\\",\\\"UK\\\",\\\"UK\\\",\\\"UK\\\",\\\"UK\\\",\\\"UK\\\",\\\"UK\\\",\\\"UK\\\",\\\"UK\\\",\\\"UK\\\",\\\"UK\\\",\\\"UK\\\",\\\"UK\\\",\\\"UK\\\",\\\"UK\\\",\\\"UK\\\",\\\"UK\\\",\\\"UK\\\",\\\"UK\\\",\\\"UK\\\",\\\"UK\\\",\\\"UK\\\",\\\"UK\\\",\\\"UK\\\",\\\"UK\\\",\\\"UK\\\",\\\"UK\\\",\\\"UK\\\",\\\"UK\\\",\\\"UK\\\",\\\"UK\\\",\\\"UK\\\",\\\"UK\\\",\\\"UK\\\",\\\"UK\\\",\\\"UK\\\",\\\"UK\\\",\\\"UK\\\",\\\"UK\\\",\\\"UK\\\",\\\"UK\\\",\\\"UK\\\",\\\"UK\\\",\\\"UK\\\",\\\"UK\\\",\\\"UK\\\",\\\"UK\\\",\\\"Italy\\\",\\\"Italy\\\",\\\"Italy\\\",\\\"Italy\\\",\\\"Italy\\\",\\\"Italy\\\",\\\"Italy\\\",\\\"Italy\\\",\\\"Italy\\\",\\\"Italy\\\",\\\"Italy\\\",\\\"Italy\\\",\\\"Italy\\\",\\\"Italy\\\",\\\"Italy\\\",\\\"Italy\\\",\\\"Italy\\\",\\\"Italy\\\",\\\"Italy\\\",\\\"Italy\\\",\\\"Italy\\\",\\\"Italy\\\",\\\"Italy\\\",\\\"Italy\\\",\\\"Italy\\\",\\\"Italy\\\",\\\"Italy\\\",\\\"Italy\\\",\\\"Italy\\\",\\\"Italy\\\",\\\"Italy\\\",\\\"Italy\\\",\\\"Italy\\\",\\\"Italy\\\",\\\"Italy\\\",\\\"Italy\\\",\\\"Italy\\\",\\\"Italy\\\",\\\"Italy\\\",\\\"Italy\\\",\\\"Italy\\\",\\\"Italy\\\",\\\"Italy\\\",\\\"Italy\\\",\\\"Italy\\\",\\\"Italy\\\",\\\"Italy\\\",\\\"Italy\\\",\\\"Italy\\\",\\\"Italy\\\",\\\"Italy\\\",\\\"Italy\\\",\\\"Italy\\\",\\\"Italy\\\",\\\"Italy\\\",\\\"Italy\\\",\\\"Italy\\\",\\\"Italy\\\",\\\"Italy\\\",\\\"Italy\\\",\\\"Italy\\\",\\\"Italy\\\",\\\"Italy\\\",\\\"Italy\\\",\\\"Italy\\\",\\\"Italy\\\",\\\"Italy\\\",\\\"Italy\\\",\\\"Italy\\\",\\\"Italy\\\",\\\"Italy\\\",\\\"Italy\\\",\\\"Italy\\\",\\\"Italy\\\",\\\"Italy\\\",\\\"Italy\\\",\\\"Italy\\\",\\\"Italy\\\",\\\"Italy\\\",\\\"Italy\\\",\\\"Italy\\\",\\\"Italy\\\",\\\"Italy\\\",\\\"Italy\\\",\\\"Italy\\\",\\\"Italy\\\",\\\"Italy\\\",\\\"Italy\\\",\\\"Italy\\\",\\\"Italy\\\",\\\"Italy\\\",\\\"Italy\\\",\\\"Italy\\\",\\\"Italy\\\",\\\"Italy\\\",\\\"Ireland\\\",\\\"Ireland\\\",\\\"Ireland\\\",\\\"Ireland\\\",\\\"Ireland\\\",\\\"Ireland\\\",\\\"Ireland\\\",\\\"Ireland\\\",\\\"Ireland\\\",\\\"Ireland\\\",\\\"Ireland\\\",\\\"Ireland\\\",\\\"Ireland\\\",\\\"Ireland\\\",\\\"Ireland\\\",\\\"Ireland\\\",\\\"Ireland\\\",\\\"Ireland\\\",\\\"Ireland\\\",\\\"Ireland\\\",\\\"Ireland\\\",\\\"Ireland\\\",\\\"Ireland\\\",\\\"Ireland\\\",\\\"Ireland\\\",\\\"Ireland\\\",\\\"Luxembourg\\\",\\\"Luxembourg\\\",\\\"Luxembourg\\\",\\\"Netherlands\\\",\\\"Netherlands\\\",\\\"Netherlands\\\",\\\"Netherlands\\\",\\\"Netherlands\\\",\\\"Netherlands\\\",\\\"Netherlands\\\",\\\"Netherlands\\\",\\\"Netherlands\\\",\\\"Netherlands\\\",\\\"Netherlands\\\"],\\\"xaxis\\\":\\\"x\\\",\\\"y\\\":[79,80,51,43,89,19,19,15,33,9,12,156,110,77,56,220,46,47,50,90,62,85,141,38,121,218,50,97,98,75,85,209,127,98,58,151,66,25,91,42,160,209,43,28,41,42,6,57,20,21,31,23,79,24,57,33,20,15,29,9,7,14,17,7,8,10,13,9,7,13,8,19,9,16,44,14,24,12,13,11,14,5,13,11,8,16,3,9,13,8,3,12,42,77,15,40,16,34,30,41,18,5,16,18,2,11,5,9,11,14,7,28,10,5,7,13,7,5,9,3,7,63,35,25,17,6,12,14,9,8,10,12,19,9,4,3,1,22,44,17,11,12,10,14,22,22,50,5,18,20,27,28,31,32,16,28,35,31,9,18,23,11,65,52,34,43,313,27,24,20,36,74,65,45,10,69,29,53,39,33,28,47,27,22,21,21,97,27,15,26,12,47,63,38,31,13,17,15,11,19,4,11,15,8,23,19,13,28,1,7,74,3,2,0,0,16,10,4,4,9,6,9,8,6,5,10,9,5,10,4,31,4,13,11,18,9,19,31,10,16,20,22,9,17,8,8,4,109,12,9,4,10,36,13,23,24,4,128,15,12,16,9,13,8,13,8,6,6,2,88,14,21,13,8,25,15,22,12,8,9,11,2,15,1,6,20,11,9,5,2,11,4,12,5,8,8,44,6,14,9,5,11,13,15,9,12,6,19,19,10,22,29,35,8,1,0,3,0,2,0,21,4,1,0,2,2,2,0,1,2,1,1,7,3,5,1,3,1,3,1,2,2,19,14,26,11,34,62,32,107,150,15,64,31],\\\"type\\\":\\\"box\\\",\\\"yaxis\\\":\\\"y\\\",\\\"marker\\\":{\\\"color\\\":\\\"navy\\\"}}],{\\\"xaxis\\\":{\\\"title\\\":{\\\"text\\\":\\\"Nation\\\"}},\\\"template\\\":{\\\"layout\\\":{\\\"coloraxis\\\":{\\\"colorbar\\\":{\\\"ticks\\\":\\\"\\\",\\\"outlinewidth\\\":0}},\\\"xaxis\\\":{\\\"gridcolor\\\":\\\"white\\\",\\\"zerolinewidth\\\":2,\\\"title\\\":{\\\"standoff\\\":15},\\\"ticks\\\":\\\"\\\",\\\"zerolinecolor\\\":\\\"white\\\",\\\"automargin\\\":true,\\\"linecolor\\\":\\\"white\\\"},\\\"hovermode\\\":\\\"closest\\\",\\\"paper_bgcolor\\\":\\\"white\\\",\\\"geo\\\":{\\\"showlakes\\\":true,\\\"showland\\\":true,\\\"landcolor\\\":\\\"#E5ECF6\\\",\\\"bgcolor\\\":\\\"white\\\",\\\"subunitcolor\\\":\\\"white\\\",\\\"lakecolor\\\":\\\"white\\\"},\\\"colorscale\\\":{\\\"sequential\\\":[[0.0,\\\"#0d0887\\\"],[0.1111111111111111,\\\"#46039f\\\"],[0.2222222222222222,\\\"#7201a8\\\"],[0.3333333333333333,\\\"#9c179e\\\"],[0.4444444444444444,\\\"#bd3786\\\"],[0.5555555555555556,\\\"#d8576b\\\"],[0.6666666666666666,\\\"#ed7953\\\"],[0.7777777777777778,\\\"#fb9f3a\\\"],[0.8888888888888888,\\\"#fdca26\\\"],[1.0,\\\"#f0f921\\\"]],\\\"diverging\\\":[[0,\\\"#8e0152\\\"],[0.1,\\\"#c51b7d\\\"],[0.2,\\\"#de77ae\\\"],[0.3,\\\"#f1b6da\\\"],[0.4,\\\"#fde0ef\\\"],[0.5,\\\"#f7f7f7\\\"],[0.6,\\\"#e6f5d0\\\"],[0.7,\\\"#b8e186\\\"],[0.8,\\\"#7fbc41\\\"],[0.9,\\\"#4d9221\\\"],[1,\\\"#276419\\\"]],\\\"sequentialminus\\\":[[0.0,\\\"#0d0887\\\"],[0.1111111111111111,\\\"#46039f\\\"],[0.2222222222222222,\\\"#7201a8\\\"],[0.3333333333333333,\\\"#9c179e\\\"],[0.4444444444444444,\\\"#bd3786\\\"],[0.5555555555555556,\\\"#d8576b\\\"],[0.6666666666666666,\\\"#ed7953\\\"],[0.7777777777777778,\\\"#fb9f3a\\\"],[0.8888888888888888,\\\"#fdca26\\\"],[1.0,\\\"#f0f921\\\"]]},\\\"yaxis\\\":{\\\"gridcolor\\\":\\\"white\\\",\\\"zerolinewidth\\\":2,\\\"title\\\":{\\\"standoff\\\":15},\\\"ticks\\\":\\\"\\\",\\\"zerolinecolor\\\":\\\"white\\\",\\\"automargin\\\":true,\\\"linecolor\\\":\\\"white\\\"},\\\"shapedefaults\\\":{\\\"line\\\":{\\\"color\\\":\\\"#2a3f5f\\\"}},\\\"hoverlabel\\\":{\\\"align\\\":\\\"left\\\"},\\\"mapbox\\\":{\\\"style\\\":\\\"light\\\"},\\\"polar\\\":{\\\"angularaxis\\\":{\\\"gridcolor\\\":\\\"white\\\",\\\"ticks\\\":\\\"\\\",\\\"linecolor\\\":\\\"white\\\"},\\\"bgcolor\\\":\\\"#E5ECF6\\\",\\\"radialaxis\\\":{\\\"gridcolor\\\":\\\"white\\\",\\\"ticks\\\":\\\"\\\",\\\"linecolor\\\":\\\"white\\\"}},\\\"autotypenumbers\\\":\\\"strict\\\",\\\"font\\\":{\\\"color\\\":\\\"#2a3f5f\\\"},\\\"ternary\\\":{\\\"baxis\\\":{\\\"gridcolor\\\":\\\"white\\\",\\\"ticks\\\":\\\"\\\",\\\"linecolor\\\":\\\"white\\\"},\\\"bgcolor\\\":\\\"#E5ECF6\\\",\\\"caxis\\\":{\\\"gridcolor\\\":\\\"white\\\",\\\"ticks\\\":\\\"\\\",\\\"linecolor\\\":\\\"white\\\"},\\\"aaxis\\\":{\\\"gridcolor\\\":\\\"white\\\",\\\"ticks\\\":\\\"\\\",\\\"linecolor\\\":\\\"white\\\"}},\\\"annotationdefaults\\\":{\\\"arrowhead\\\":0,\\\"arrowwidth\\\":1,\\\"arrowcolor\\\":\\\"#2a3f5f\\\"},\\\"plot_bgcolor\\\":\\\"#E5ECF6\\\",\\\"title\\\":{\\\"x\\\":0.05},\\\"scene\\\":{\\\"xaxis\\\":{\\\"gridcolor\\\":\\\"white\\\",\\\"gridwidth\\\":2,\\\"backgroundcolor\\\":\\\"#E5ECF6\\\",\\\"ticks\\\":\\\"\\\",\\\"showbackground\\\":true,\\\"zerolinecolor\\\":\\\"white\\\",\\\"linecolor\\\":\\\"white\\\"},\\\"zaxis\\\":{\\\"gridcolor\\\":\\\"white\\\",\\\"gridwidth\\\":2,\\\"backgroundcolor\\\":\\\"#E5ECF6\\\",\\\"ticks\\\":\\\"\\\",\\\"showbackground\\\":true,\\\"zerolinecolor\\\":\\\"white\\\",\\\"linecolor\\\":\\\"white\\\"},\\\"yaxis\\\":{\\\"gridcolor\\\":\\\"white\\\",\\\"gridwidth\\\":2,\\\"backgroundcolor\\\":\\\"#E5ECF6\\\",\\\"ticks\\\":\\\"\\\",\\\"showbackground\\\":true,\\\"zerolinecolor\\\":\\\"white\\\",\\\"linecolor\\\":\\\"white\\\"}},\\\"colorway\\\":[\\\"#636efa\\\",\\\"#EF553B\\\",\\\"#00cc96\\\",\\\"#ab63fa\\\",\\\"#FFA15A\\\",\\\"#19d3f3\\\",\\\"#FF6692\\\",\\\"#B6E880\\\",\\\"#FF97FF\\\",\\\"#FECB52\\\"]},\\\"data\\\":{\\\"barpolar\\\":[{\\\"type\\\":\\\"barpolar\\\",\\\"marker\\\":{\\\"line\\\":{\\\"color\\\":\\\"#E5ECF6\\\",\\\"width\\\":0.5}}}],\\\"carpet\\\":[{\\\"aaxis\\\":{\\\"gridcolor\\\":\\\"white\\\",\\\"endlinecolor\\\":\\\"#2a3f5f\\\",\\\"minorgridcolor\\\":\\\"white\\\",\\\"startlinecolor\\\":\\\"#2a3f5f\\\",\\\"linecolor\\\":\\\"white\\\"},\\\"type\\\":\\\"carpet\\\",\\\"baxis\\\":{\\\"gridcolor\\\":\\\"white\\\",\\\"endlinecolor\\\":\\\"#2a3f5f\\\",\\\"minorgridcolor\\\":\\\"white\\\",\\\"startlinecolor\\\":\\\"#2a3f5f\\\",\\\"linecolor\\\":\\\"white\\\"}}],\\\"scatterpolar\\\":[{\\\"type\\\":\\\"scatterpolar\\\",\\\"marker\\\":{\\\"colorbar\\\":{\\\"ticks\\\":\\\"\\\",\\\"outlinewidth\\\":0}}}],\\\"parcoords\\\":[{\\\"line\\\":{\\\"colorbar\\\":{\\\"ticks\\\":\\\"\\\",\\\"outlinewidth\\\":0}},\\\"type\\\":\\\"parcoords\\\"}],\\\"scatter\\\":[{\\\"type\\\":\\\"scatter\\\",\\\"marker\\\":{\\\"colorbar\\\":{\\\"ticks\\\":\\\"\\\",\\\"outlinewidth\\\":0}}}],\\\"histogram2dcontour\\\":[{\\\"colorbar\\\":{\\\"ticks\\\":\\\"\\\",\\\"outlinewidth\\\":0},\\\"type\\\":\\\"histogram2dcontour\\\",\\\"colorscale\\\":[[0.0,\\\"#0d0887\\\"],[0.1111111111111111,\\\"#46039f\\\"],[0.2222222222222222,\\\"#7201a8\\\"],[0.3333333333333333,\\\"#9c179e\\\"],[0.4444444444444444,\\\"#bd3786\\\"],[0.5555555555555556,\\\"#d8576b\\\"],[0.6666666666666666,\\\"#ed7953\\\"],[0.7777777777777778,\\\"#fb9f3a\\\"],[0.8888888888888888,\\\"#fdca26\\\"],[1.0,\\\"#f0f921\\\"]]}],\\\"contour\\\":[{\\\"colorbar\\\":{\\\"ticks\\\":\\\"\\\",\\\"outlinewidth\\\":0},\\\"type\\\":\\\"contour\\\",\\\"colorscale\\\":[[0.0,\\\"#0d0887\\\"],[0.1111111111111111,\\\"#46039f\\\"],[0.2222222222222222,\\\"#7201a8\\\"],[0.3333333333333333,\\\"#9c179e\\\"],[0.4444444444444444,\\\"#bd3786\\\"],[0.5555555555555556,\\\"#d8576b\\\"],[0.6666666666666666,\\\"#ed7953\\\"],[0.7777777777777778,\\\"#fb9f3a\\\"],[0.8888888888888888,\\\"#fdca26\\\"],[1.0,\\\"#f0f921\\\"]]}],\\\"scattercarpet\\\":[{\\\"type\\\":\\\"scattercarpet\\\",\\\"marker\\\":{\\\"colorbar\\\":{\\\"ticks\\\":\\\"\\\",\\\"outlinewidth\\\":0}}}],\\\"mesh3d\\\":[{\\\"colorbar\\\":{\\\"ticks\\\":\\\"\\\",\\\"outlinewidth\\\":0},\\\"type\\\":\\\"mesh3d\\\"}],\\\"surface\\\":[{\\\"colorbar\\\":{\\\"ticks\\\":\\\"\\\",\\\"outlinewidth\\\":0},\\\"type\\\":\\\"surface\\\",\\\"colorscale\\\":[[0.0,\\\"#0d0887\\\"],[0.1111111111111111,\\\"#46039f\\\"],[0.2222222222222222,\\\"#7201a8\\\"],[0.3333333333333333,\\\"#9c179e\\\"],[0.4444444444444444,\\\"#bd3786\\\"],[0.5555555555555556,\\\"#d8576b\\\"],[0.6666666666666666,\\\"#ed7953\\\"],[0.7777777777777778,\\\"#fb9f3a\\\"],[0.8888888888888888,\\\"#fdca26\\\"],[1.0,\\\"#f0f921\\\"]]}],\\\"scattermapbox\\\":[{\\\"type\\\":\\\"scattermapbox\\\",\\\"marker\\\":{\\\"colorbar\\\":{\\\"ticks\\\":\\\"\\\",\\\"outlinewidth\\\":0}}}],\\\"scattergeo\\\":[{\\\"type\\\":\\\"scattergeo\\\",\\\"marker\\\":{\\\"colorbar\\\":{\\\"ticks\\\":\\\"\\\",\\\"outlinewidth\\\":0}}}],\\\"histogram\\\":[{\\\"type\\\":\\\"histogram\\\",\\\"marker\\\":{\\\"colorbar\\\":{\\\"ticks\\\":\\\"\\\",\\\"outlinewidth\\\":0}}}],\\\"pie\\\":[{\\\"type\\\":\\\"pie\\\",\\\"automargin\\\":true}],\\\"choropleth\\\":[{\\\"colorbar\\\":{\\\"ticks\\\":\\\"\\\",\\\"outlinewidth\\\":0},\\\"type\\\":\\\"choropleth\\\"}],\\\"heatmapgl\\\":[{\\\"colorbar\\\":{\\\"ticks\\\":\\\"\\\",\\\"outlinewidth\\\":0},\\\"type\\\":\\\"heatmapgl\\\",\\\"colorscale\\\":[[0.0,\\\"#0d0887\\\"],[0.1111111111111111,\\\"#46039f\\\"],[0.2222222222222222,\\\"#7201a8\\\"],[0.3333333333333333,\\\"#9c179e\\\"],[0.4444444444444444,\\\"#bd3786\\\"],[0.5555555555555556,\\\"#d8576b\\\"],[0.6666666666666666,\\\"#ed7953\\\"],[0.7777777777777778,\\\"#fb9f3a\\\"],[0.8888888888888888,\\\"#fdca26\\\"],[1.0,\\\"#f0f921\\\"]]}],\\\"bar\\\":[{\\\"type\\\":\\\"bar\\\",\\\"error_y\\\":{\\\"color\\\":\\\"#2a3f5f\\\"},\\\"error_x\\\":{\\\"color\\\":\\\"#2a3f5f\\\"},\\\"marker\\\":{\\\"line\\\":{\\\"color\\\":\\\"#E5ECF6\\\",\\\"width\\\":0.5}}}],\\\"heatmap\\\":[{\\\"colorbar\\\":{\\\"ticks\\\":\\\"\\\",\\\"outlinewidth\\\":0},\\\"type\\\":\\\"heatmap\\\",\\\"colorscale\\\":[[0.0,\\\"#0d0887\\\"],[0.1111111111111111,\\\"#46039f\\\"],[0.2222222222222222,\\\"#7201a8\\\"],[0.3333333333333333,\\\"#9c179e\\\"],[0.4444444444444444,\\\"#bd3786\\\"],[0.5555555555555556,\\\"#d8576b\\\"],[0.6666666666666666,\\\"#ed7953\\\"],[0.7777777777777778,\\\"#fb9f3a\\\"],[0.8888888888888888,\\\"#fdca26\\\"],[1.0,\\\"#f0f921\\\"]]}],\\\"contourcarpet\\\":[{\\\"colorbar\\\":{\\\"ticks\\\":\\\"\\\",\\\"outlinewidth\\\":0},\\\"type\\\":\\\"contourcarpet\\\"}],\\\"table\\\":[{\\\"type\\\":\\\"table\\\",\\\"header\\\":{\\\"line\\\":{\\\"color\\\":\\\"white\\\"},\\\"fill\\\":{\\\"color\\\":\\\"#C8D4E3\\\"}},\\\"cells\\\":{\\\"line\\\":{\\\"color\\\":\\\"white\\\"},\\\"fill\\\":{\\\"color\\\":\\\"#EBF0F8\\\"}}}],\\\"scatter3d\\\":[{\\\"line\\\":{\\\"colorbar\\\":{\\\"ticks\\\":\\\"\\\",\\\"outlinewidth\\\":0}},\\\"type\\\":\\\"scatter3d\\\",\\\"marker\\\":{\\\"colorbar\\\":{\\\"ticks\\\":\\\"\\\",\\\"outlinewidth\\\":0}}}],\\\"scattergl\\\":[{\\\"type\\\":\\\"scattergl\\\",\\\"marker\\\":{\\\"colorbar\\\":{\\\"ticks\\\":\\\"\\\",\\\"outlinewidth\\\":0}}}],\\\"histogram2d\\\":[{\\\"colorbar\\\":{\\\"ticks\\\":\\\"\\\",\\\"outlinewidth\\\":0},\\\"type\\\":\\\"histogram2d\\\",\\\"colorscale\\\":[[0.0,\\\"#0d0887\\\"],[0.1111111111111111,\\\"#46039f\\\"],[0.2222222222222222,\\\"#7201a8\\\"],[0.3333333333333333,\\\"#9c179e\\\"],[0.4444444444444444,\\\"#bd3786\\\"],[0.5555555555555556,\\\"#d8576b\\\"],[0.6666666666666666,\\\"#ed7953\\\"],[0.7777777777777778,\\\"#fb9f3a\\\"],[0.8888888888888888,\\\"#fdca26\\\"],[1.0,\\\"#f0f921\\\"]]}],\\\"scatterternary\\\":[{\\\"type\\\":\\\"scatterternary\\\",\\\"marker\\\":{\\\"colorbar\\\":{\\\"ticks\\\":\\\"\\\",\\\"outlinewidth\\\":0}}}],\\\"scatterpolargl\\\":[{\\\"type\\\":\\\"scatterpolargl\\\",\\\"marker\\\":{\\\"colorbar\\\":{\\\"ticks\\\":\\\"\\\",\\\"outlinewidth\\\":0}}}]}},\\\"legend\\\":{\\\"tracegroupgap\\\":0},\\\"margin\\\":{\\\"l\\\":50,\\\"b\\\":50,\\\"r\\\":50,\\\"t\\\":60},\\\"yaxis\\\":{\\\"title\\\":{\\\"text\\\":\\\"Deaths\\\"}}},{\\\"showLink\\\":false,\\\"editable\\\":false,\\\"responsive\\\":true,\\\"staticPlot\\\":false,\\\"scrollZoom\\\":true}); gd.on(\\\"plotly_hover\\\",(function (data){var filtered_data=WebIO.PlotlyCommands.filterEventData(gd,data,\\\"hover\\\"); return !(filtered_data.isnil) ? (WebIO.setval({\\\"name\\\":\\\"hover\\\",\\\"scope\\\":\\\"3842755343669926885\\\",\\\"id\\\":\\\"21\\\",\\\"type\\\":\\\"observable\\\"},filtered_data.out)) : undefined})); gd.on(\\\"plotly_unhover\\\",(function (){return WebIO.setval({\\\"name\\\":\\\"hover\\\",\\\"scope\\\":\\\"3842755343669926885\\\",\\\"id\\\":\\\"21\\\",\\\"type\\\":\\\"observable\\\"},{})})); gd.on(\\\"plotly_selected\\\",(function (data){var filtered_data=WebIO.PlotlyCommands.filterEventData(gd,data,\\\"selected\\\"); return !(filtered_data.isnil) ? (WebIO.setval({\\\"name\\\":\\\"selected\\\",\\\"scope\\\":\\\"3842755343669926885\\\",\\\"id\\\":\\\"22\\\",\\\"type\\\":\\\"observable\\\"},filtered_data.out)) : undefined})); gd.on(\\\"plotly_deselect\\\",(function (){return WebIO.setval({\\\"name\\\":\\\"selected\\\",\\\"scope\\\":\\\"3842755343669926885\\\",\\\"id\\\":\\\"22\\\",\\\"type\\\":\\\"observable\\\"},{})})); gd.on(\\\"plotly_relayout\\\",(function (data){var filtered_data=WebIO.PlotlyCommands.filterEventData(gd,data,\\\"relayout\\\"); return !(filtered_data.isnil) ? (WebIO.setval({\\\"name\\\":\\\"relayout\\\",\\\"scope\\\":\\\"3842755343669926885\\\",\\\"id\\\":\\\"24\\\",\\\"type\\\":\\\"observable\\\"},filtered_data.out)) : undefined})); return gd.on(\\\"plotly_click\\\",(function (data){var filtered_data=WebIO.PlotlyCommands.filterEventData(gd,data,\\\"click\\\"); return !(filtered_data.isnil) ? (WebIO.setval({\\\"name\\\":\\\"click\\\",\\\"scope\\\":\\\"3842755343669926885\\\",\\\"id\\\":\\\"23\\\",\\\"type\\\":\\\"observable\\\"},filtered_data.out)) : undefined}))}));\\n    (WebIO.importBlock({\\\"data\\\":[{\\\"name\\\":\\\"Plotly\\\",\\\"type\\\":\\\"js\\\",\\\"url\\\":\\\"\\/assetserver\\/a1ce98aba64ebc875cd706be1c5f477c144bace2-plotly.min.js\\\"},{\\\"name\\\":null,\\\"type\\\":\\\"js\\\",\\\"url\\\":\\\"\\/assetserver\\/aa2112138e40c2a40506078cf4ea9303756a94b4-plotly_webio.bundle.js\\\"}],\\\"type\\\":\\\"async_block\\\"})).then((imports) => handler.apply(this, imports));\\n}\\n\"],\"observables\":{\"_toImage\":{\"sync\":false,\"id\":\"28\",\"value\":{}},\"hover\":{\"sync\":false,\"id\":\"21\",\"value\":{}},\"selected\":{\"sync\":false,\"id\":\"22\",\"value\":{}},\"__gd_contents\":{\"sync\":false,\"id\":\"26\",\"value\":{}},\"click\":{\"sync\":false,\"id\":\"23\",\"value\":{}},\"image\":{\"sync\":true,\"id\":\"25\",\"value\":\"\"},\"__get_gd_contents\":{\"sync\":false,\"id\":\"30\",\"value\":\"\"},\"_downloadImage\":{\"sync\":false,\"id\":\"29\",\"value\":{}},\"relayout\":{\"sync\":false,\"id\":\"24\",\"value\":{}},\"_commands\":{\"sync\":false,\"id\":\"27\",\"value\":[]}}},\"children\":[{\"props\":{\"id\":\"plot-ee0ee04f-8ca9-4aff-99a3-df5574f044ea\"},\"nodeType\":\"DOM\",\"type\":\"node\",\"instanceArgs\":{\"namespace\":\"html\",\"tag\":\"div\"},\"children\":[]}]},\n",
       "        window,\n",
       "    );\n",
       "    })()\n",
       "    </script>\n",
       "</div>\n"
      ],
      "text/plain": [
       "data: [\n",
       "  \"box with fields marker, type, x, xaxis, y, and yaxis\"\n",
       "]\n",
       "\n",
       "layout: \"layout with fields legend, margin, template, xaxis, and yaxis\"\n",
       "\n"
      ]
     },
     "metadata": {},
     "output_type": "display_data"
    }
   ],
   "source": [
    "bx = plot(melanoma, x=:Nation, y=:Deaths, kind=\"box\",  marker_color=:navy)"
   ]
  },
  {
   "cell_type": "markdown",
   "metadata": {},
   "source": [
    "Create violin plots depicting the UVB levels on each country."
   ]
  },
  {
   "cell_type": "code",
   "execution_count": 7,
   "metadata": {},
   "outputs": [
    {
     "data": {
      "application/vnd.plotly.v1+json": {
       "config": {
        "editable": false,
        "responsive": true,
        "scrollZoom": true,
        "showLink": false,
        "staticPlot": false
       },
       "data": [
        {
         "marker": {
          "color": "teal"
         },
         "type": "violin",
         "x": [
          "Belgium",
          "Belgium",
          "Belgium",
          "Belgium",
          "Belgium",
          "Belgium",
          "Belgium",
          "Belgium",
          "Belgium",
          "Belgium",
          "Belgium",
          "W.Germany",
          "W.Germany",
          "W.Germany",
          "W.Germany",
          "W.Germany",
          "W.Germany",
          "W.Germany",
          "W.Germany",
          "W.Germany",
          "W.Germany",
          "W.Germany",
          "W.Germany",
          "W.Germany",
          "W.Germany",
          "W.Germany",
          "W.Germany",
          "W.Germany",
          "W.Germany",
          "W.Germany",
          "W.Germany",
          "W.Germany",
          "W.Germany",
          "W.Germany",
          "W.Germany",
          "W.Germany",
          "W.Germany",
          "W.Germany",
          "W.Germany",
          "W.Germany",
          "W.Germany",
          "Denmark",
          "Denmark",
          "Denmark",
          "Denmark",
          "Denmark",
          "Denmark",
          "Denmark",
          "Denmark",
          "Denmark",
          "Denmark",
          "Denmark",
          "Denmark",
          "Denmark",
          "Denmark",
          "France",
          "France",
          "France",
          "France",
          "France",
          "France",
          "France",
          "France",
          "France",
          "France",
          "France",
          "France",
          "France",
          "France",
          "France",
          "France",
          "France",
          "France",
          "France",
          "France",
          "France",
          "France",
          "France",
          "France",
          "France",
          "France",
          "France",
          "France",
          "France",
          "France",
          "France",
          "France",
          "France",
          "France",
          "France",
          "France",
          "France",
          "France",
          "France",
          "France",
          "France",
          "France",
          "France",
          "France",
          "France",
          "France",
          "France",
          "France",
          "France",
          "France",
          "France",
          "France",
          "France",
          "France",
          "France",
          "France",
          "France",
          "France",
          "France",
          "France",
          "France",
          "France",
          "France",
          "France",
          "France",
          "France",
          "France",
          "France",
          "France",
          "France",
          "France",
          "France",
          "France",
          "France",
          "France",
          "France",
          "France",
          "France",
          "France",
          "France",
          "France",
          "France",
          "France",
          "France",
          "France",
          "France",
          "France",
          "France",
          "France",
          "France",
          "France",
          "France",
          "France",
          "France",
          "UK",
          "UK",
          "UK",
          "UK",
          "UK",
          "UK",
          "UK",
          "UK",
          "UK",
          "UK",
          "UK",
          "UK",
          "UK",
          "UK",
          "UK",
          "UK",
          "UK",
          "UK",
          "UK",
          "UK",
          "UK",
          "UK",
          "UK",
          "UK",
          "UK",
          "UK",
          "UK",
          "UK",
          "UK",
          "UK",
          "UK",
          "UK",
          "UK",
          "UK",
          "UK",
          "UK",
          "UK",
          "UK",
          "UK",
          "UK",
          "UK",
          "UK",
          "UK",
          "UK",
          "UK",
          "UK",
          "UK",
          "UK",
          "UK",
          "UK",
          "UK",
          "UK",
          "UK",
          "UK",
          "UK",
          "UK",
          "UK",
          "UK",
          "UK",
          "UK",
          "UK",
          "UK",
          "UK",
          "UK",
          "UK",
          "UK",
          "UK",
          "UK",
          "UK",
          "UK",
          "Italy",
          "Italy",
          "Italy",
          "Italy",
          "Italy",
          "Italy",
          "Italy",
          "Italy",
          "Italy",
          "Italy",
          "Italy",
          "Italy",
          "Italy",
          "Italy",
          "Italy",
          "Italy",
          "Italy",
          "Italy",
          "Italy",
          "Italy",
          "Italy",
          "Italy",
          "Italy",
          "Italy",
          "Italy",
          "Italy",
          "Italy",
          "Italy",
          "Italy",
          "Italy",
          "Italy",
          "Italy",
          "Italy",
          "Italy",
          "Italy",
          "Italy",
          "Italy",
          "Italy",
          "Italy",
          "Italy",
          "Italy",
          "Italy",
          "Italy",
          "Italy",
          "Italy",
          "Italy",
          "Italy",
          "Italy",
          "Italy",
          "Italy",
          "Italy",
          "Italy",
          "Italy",
          "Italy",
          "Italy",
          "Italy",
          "Italy",
          "Italy",
          "Italy",
          "Italy",
          "Italy",
          "Italy",
          "Italy",
          "Italy",
          "Italy",
          "Italy",
          "Italy",
          "Italy",
          "Italy",
          "Italy",
          "Italy",
          "Italy",
          "Italy",
          "Italy",
          "Italy",
          "Italy",
          "Italy",
          "Italy",
          "Italy",
          "Italy",
          "Italy",
          "Italy",
          "Italy",
          "Italy",
          "Italy",
          "Italy",
          "Italy",
          "Italy",
          "Italy",
          "Italy",
          "Italy",
          "Italy",
          "Italy",
          "Italy",
          "Italy",
          "Ireland",
          "Ireland",
          "Ireland",
          "Ireland",
          "Ireland",
          "Ireland",
          "Ireland",
          "Ireland",
          "Ireland",
          "Ireland",
          "Ireland",
          "Ireland",
          "Ireland",
          "Ireland",
          "Ireland",
          "Ireland",
          "Ireland",
          "Ireland",
          "Ireland",
          "Ireland",
          "Ireland",
          "Ireland",
          "Ireland",
          "Ireland",
          "Ireland",
          "Ireland",
          "Luxembourg",
          "Luxembourg",
          "Luxembourg",
          "Netherlands",
          "Netherlands",
          "Netherlands",
          "Netherlands",
          "Netherlands",
          "Netherlands",
          "Netherlands",
          "Netherlands",
          "Netherlands",
          "Netherlands",
          "Netherlands"
         ],
         "xaxis": "x",
         "y": [
          -2.9057,
          -3.2075,
          -2.8038,
          -3.0069,
          -3.0069,
          -3.4175,
          -2.6671,
          -2.6671,
          -3.1222,
          -2.4852,
          -2.5293,
          -1.1375,
          -1.3977,
          -0.4386,
          -1.0249,
          -0.5033,
          -1.4609,
          -1.8956,
          -2.5541,
          -1.9671,
          -2.3444,
          -0.6578,
          -3.8836,
          -4.4592,
          -4.8576,
          -2.6027,
          -3.5346,
          -4.0251,
          -3.9857,
          -4.4592,
          -4.1117,
          -3.5346,
          -3.2736,
          -3.8126,
          -3.6015,
          -3.5991,
          -2.9414,
          -2.2504,
          -2.3269,
          -2.0662,
          -5.1393,
          -5.7887,
          -5.8989,
          -5.245,
          -5.1866,
          -5.217,
          -5.0981,
          -5.4778,
          -5.217,
          -5.5612,
          -5.8439,
          -6.0623,
          -5.9509,
          -6.114,
          -6.1151,
          -0.9368,
          -0.0884,
          2.7823,
          3.2047,
          3.7856,
          3.5087,
          5.3566,
          1.9737,
          2.5436,
          3.0821,
          2.1911,
          -0.6221,
          -0.4548,
          -1.0124,
          0.9771,
          1.366,
          1.6602,
          0.2517,
          0.1042,
          -0.5807,
          -0.375,
          -0.06,
          1.452,
          -0.453,
          1.0764,
          0.3122,
          0.1511,
          -0.1392,
          -1.7997,
          -0.1498,
          -1.2866,
          -0.7599,
          0.556,
          1.5737,
          2.3619,
          0.2315,
          -1.6795,
          -2.1093,
          -0.7146,
          -0.6373,
          -0.6373,
          -0.4819,
          -0.5598,
          -0.7916,
          -0.7146,
          -0.9447,
          4.9606,
          6.4726,
          6.8973,
          3.8485,
          7.4113,
          2.3668,
          1.7567,
          2.0165,
          -1.1375,
          -1.2866,
          -1.4346,
          -0.836,
          4.9606,
          4.1319,
          4.6719,
          4.0649,
          3.2342,
          5.4555,
          4.2907,
          3.693,
          -2.6671,
          -2.5983,
          0.546,
          0.8774,
          -0.375,
          0.2517,
          1.3832,
          -1.7997,
          -1.9671,
          -2.0155,
          2.1037,
          2.1911,
          1.3294,
          1.4143,
          5.949,
          5.5376,
          6.7371,
          6.5751,
          7.6517,
          5.5807,
          2.0421,
          4.9771,
          5.077,
          3.0487,
          2.3947,
          2.2178,
          2.9576,
          2.4166,
          -4.1278,
          -4.1117,
          -3.5871,
          -5.349,
          -4.5569,
          -4.5581,
          -4.1686,
          -4.5581,
          -5.8745,
          -5.7101,
          -5.7463,
          -5.7101,
          -6.0027,
          -4.8949,
          -4.8358,
          -4.7168,
          -4.845,
          -3.4478,
          -3.9394,
          -3.5556,
          -3.7487,
          -2.494,
          -3.3243,
          -2.9639,
          -3.7487,
          -2.1284,
          -2.8121,
          -3.7487,
          -3.0985,
          -2.2713,
          -3.3399,
          -2.3696,
          -2.5787,
          -2.4239,
          -3.7487,
          -2.9639,
          -3.2739,
          -4.5987,
          -3.9394,
          -4.5569,
          -4.7772,
          -4.4179,
          -5.2817,
          -5.3949,
          -5.2609,
          -5.4875,
          -4.5581,
          -3.6662,
          -3.4712,
          -4.1992,
          -3.513,
          -4.4784,
          -3.3399,
          -3.5779,
          -7.5623,
          -7.1104,
          -6.7138,
          -6.5611,
          -6.3218,
          -6.456,
          -6.8106,
          -6.4214,
          -6.0713,
          -8.1163,
          -8.9002,
          -7.7158,
          -5.8011,
          -5.8943,
          -5.451,
          -5.6191,
          6.1548,
          5.8535,
          6.0541,
          6.2558,
          9.1951,
          9.1951,
          10.38,
          10.832,
          11.54,
          8.0301,
          8.0301,
          8.2438,
          8.2438,
          8.4584,
          2.1828,
          3.5676,
          3.7546,
          3.1433,
          3.3254,
          3.0526,
          3.4169,
          3.6007,
          1.9864,
          2.0737,
          2.6858,
          2.0737,
          5.3026,
          5.3026,
          7.5343,
          7.961,
          7.8539,
          6.7371,
          4.4435,
          4.3472,
          4.7941,
          1.5821,
          1.4973,
          1.2448,
          1.8379,
          1.6671,
          1.7524,
          2.0962,
          3.3818,
          3.2893,
          3.8784,
          4.3196,
          4.6044,
          5.6539,
          8.1386,
          8.0307,
          2.7823,
          2.6035,
          1.8379,
          3.4169,
          3.0526,
          2.9622,
          8.5727,
          8.7536,
          9.4174,
          9.3061,
          9.5289,
          9.5634,
          10.203,
          10.38,
          9.7085,
          13.104,
          12.983,
          11.312,
          12.769,
          12.652,
          12.535,
          12.652,
          13.359,
          13.122,
          4.7941,
          4.9901,
          5.4666,
          5.5673,
          5.2862,
          5.0885,
          5.8711,
          6.0751,
          6.6938,
          1.2744,
          1.614,
          4.6307,
          5.1093,
          2.2492,
          1.8379,
          2.4836,
          1.8994,
          2.3947,
          2.5727,
          2.6622,
          2.7823,
          -5.322,
          -5.9527,
          -5.6017,
          -5.4906,
          -5.9527,
          -4.6169,
          -4.7764,
          -4.7168,
          -4.5569,
          -4.9944,
          -5.2993,
          -5.6963,
          -5.2423,
          -5.1101,
          -5.185,
          -3.8836,
          -4.5968,
          -4.7772,
          -4.1911,
          -4.4179,
          -4.5987,
          -4.5569,
          -4.314,
          -5.751,
          -5.9293,
          -5.8596,
          -2.3466,
          -2.3678,
          -2.2769,
          -4.972,
          -4.8547,
          -4.7363,
          -4.1278,
          -3.8761,
          -3.9394,
          -4.2127,
          -4.1911,
          -3.8761,
          -3.6846,
          -3.6436
         ],
         "yaxis": "y"
        }
       ],
       "frames": [],
       "layout": {
        "legend": {
         "tracegroupgap": 0
        },
        "margin": {
         "b": 50,
         "l": 50,
         "r": 50,
         "t": 60
        },
        "template": {
         "data": {
          "bar": [
           {
            "error_x": {
             "color": "#2a3f5f"
            },
            "error_y": {
             "color": "#2a3f5f"
            },
            "marker": {
             "line": {
              "color": "#E5ECF6",
              "width": 0.5
             }
            },
            "type": "bar"
           }
          ],
          "barpolar": [
           {
            "marker": {
             "line": {
              "color": "#E5ECF6",
              "width": 0.5
             }
            },
            "type": "barpolar"
           }
          ],
          "carpet": [
           {
            "aaxis": {
             "endlinecolor": "#2a3f5f",
             "gridcolor": "white",
             "linecolor": "white",
             "minorgridcolor": "white",
             "startlinecolor": "#2a3f5f"
            },
            "baxis": {
             "endlinecolor": "#2a3f5f",
             "gridcolor": "white",
             "linecolor": "white",
             "minorgridcolor": "white",
             "startlinecolor": "#2a3f5f"
            },
            "type": "carpet"
           }
          ],
          "choropleth": [
           {
            "colorbar": {
             "outlinewidth": 0,
             "ticks": ""
            },
            "type": "choropleth"
           }
          ],
          "contour": [
           {
            "colorbar": {
             "outlinewidth": 0,
             "ticks": ""
            },
            "colorscale": [
             [
              0,
              "#0d0887"
             ],
             [
              0.1111111111111111,
              "#46039f"
             ],
             [
              0.2222222222222222,
              "#7201a8"
             ],
             [
              0.3333333333333333,
              "#9c179e"
             ],
             [
              0.4444444444444444,
              "#bd3786"
             ],
             [
              0.5555555555555556,
              "#d8576b"
             ],
             [
              0.6666666666666666,
              "#ed7953"
             ],
             [
              0.7777777777777778,
              "#fb9f3a"
             ],
             [
              0.8888888888888888,
              "#fdca26"
             ],
             [
              1,
              "#f0f921"
             ]
            ],
            "type": "contour"
           }
          ],
          "contourcarpet": [
           {
            "colorbar": {
             "outlinewidth": 0,
             "ticks": ""
            },
            "type": "contourcarpet"
           }
          ],
          "heatmap": [
           {
            "colorbar": {
             "outlinewidth": 0,
             "ticks": ""
            },
            "colorscale": [
             [
              0,
              "#0d0887"
             ],
             [
              0.1111111111111111,
              "#46039f"
             ],
             [
              0.2222222222222222,
              "#7201a8"
             ],
             [
              0.3333333333333333,
              "#9c179e"
             ],
             [
              0.4444444444444444,
              "#bd3786"
             ],
             [
              0.5555555555555556,
              "#d8576b"
             ],
             [
              0.6666666666666666,
              "#ed7953"
             ],
             [
              0.7777777777777778,
              "#fb9f3a"
             ],
             [
              0.8888888888888888,
              "#fdca26"
             ],
             [
              1,
              "#f0f921"
             ]
            ],
            "type": "heatmap"
           }
          ],
          "heatmapgl": [
           {
            "colorbar": {
             "outlinewidth": 0,
             "ticks": ""
            },
            "colorscale": [
             [
              0,
              "#0d0887"
             ],
             [
              0.1111111111111111,
              "#46039f"
             ],
             [
              0.2222222222222222,
              "#7201a8"
             ],
             [
              0.3333333333333333,
              "#9c179e"
             ],
             [
              0.4444444444444444,
              "#bd3786"
             ],
             [
              0.5555555555555556,
              "#d8576b"
             ],
             [
              0.6666666666666666,
              "#ed7953"
             ],
             [
              0.7777777777777778,
              "#fb9f3a"
             ],
             [
              0.8888888888888888,
              "#fdca26"
             ],
             [
              1,
              "#f0f921"
             ]
            ],
            "type": "heatmapgl"
           }
          ],
          "histogram": [
           {
            "marker": {
             "colorbar": {
              "outlinewidth": 0,
              "ticks": ""
             }
            },
            "type": "histogram"
           }
          ],
          "histogram2d": [
           {
            "colorbar": {
             "outlinewidth": 0,
             "ticks": ""
            },
            "colorscale": [
             [
              0,
              "#0d0887"
             ],
             [
              0.1111111111111111,
              "#46039f"
             ],
             [
              0.2222222222222222,
              "#7201a8"
             ],
             [
              0.3333333333333333,
              "#9c179e"
             ],
             [
              0.4444444444444444,
              "#bd3786"
             ],
             [
              0.5555555555555556,
              "#d8576b"
             ],
             [
              0.6666666666666666,
              "#ed7953"
             ],
             [
              0.7777777777777778,
              "#fb9f3a"
             ],
             [
              0.8888888888888888,
              "#fdca26"
             ],
             [
              1,
              "#f0f921"
             ]
            ],
            "type": "histogram2d"
           }
          ],
          "histogram2dcontour": [
           {
            "colorbar": {
             "outlinewidth": 0,
             "ticks": ""
            },
            "colorscale": [
             [
              0,
              "#0d0887"
             ],
             [
              0.1111111111111111,
              "#46039f"
             ],
             [
              0.2222222222222222,
              "#7201a8"
             ],
             [
              0.3333333333333333,
              "#9c179e"
             ],
             [
              0.4444444444444444,
              "#bd3786"
             ],
             [
              0.5555555555555556,
              "#d8576b"
             ],
             [
              0.6666666666666666,
              "#ed7953"
             ],
             [
              0.7777777777777778,
              "#fb9f3a"
             ],
             [
              0.8888888888888888,
              "#fdca26"
             ],
             [
              1,
              "#f0f921"
             ]
            ],
            "type": "histogram2dcontour"
           }
          ],
          "mesh3d": [
           {
            "colorbar": {
             "outlinewidth": 0,
             "ticks": ""
            },
            "type": "mesh3d"
           }
          ],
          "parcoords": [
           {
            "line": {
             "colorbar": {
              "outlinewidth": 0,
              "ticks": ""
             }
            },
            "type": "parcoords"
           }
          ],
          "pie": [
           {
            "automargin": true,
            "type": "pie"
           }
          ],
          "scatter": [
           {
            "marker": {
             "colorbar": {
              "outlinewidth": 0,
              "ticks": ""
             }
            },
            "type": "scatter"
           }
          ],
          "scatter3d": [
           {
            "line": {
             "colorbar": {
              "outlinewidth": 0,
              "ticks": ""
             }
            },
            "marker": {
             "colorbar": {
              "outlinewidth": 0,
              "ticks": ""
             }
            },
            "type": "scatter3d"
           }
          ],
          "scattercarpet": [
           {
            "marker": {
             "colorbar": {
              "outlinewidth": 0,
              "ticks": ""
             }
            },
            "type": "scattercarpet"
           }
          ],
          "scattergeo": [
           {
            "marker": {
             "colorbar": {
              "outlinewidth": 0,
              "ticks": ""
             }
            },
            "type": "scattergeo"
           }
          ],
          "scattergl": [
           {
            "marker": {
             "colorbar": {
              "outlinewidth": 0,
              "ticks": ""
             }
            },
            "type": "scattergl"
           }
          ],
          "scattermapbox": [
           {
            "marker": {
             "colorbar": {
              "outlinewidth": 0,
              "ticks": ""
             }
            },
            "type": "scattermapbox"
           }
          ],
          "scatterpolar": [
           {
            "marker": {
             "colorbar": {
              "outlinewidth": 0,
              "ticks": ""
             }
            },
            "type": "scatterpolar"
           }
          ],
          "scatterpolargl": [
           {
            "marker": {
             "colorbar": {
              "outlinewidth": 0,
              "ticks": ""
             }
            },
            "type": "scatterpolargl"
           }
          ],
          "scatterternary": [
           {
            "marker": {
             "colorbar": {
              "outlinewidth": 0,
              "ticks": ""
             }
            },
            "type": "scatterternary"
           }
          ],
          "surface": [
           {
            "colorbar": {
             "outlinewidth": 0,
             "ticks": ""
            },
            "colorscale": [
             [
              0,
              "#0d0887"
             ],
             [
              0.1111111111111111,
              "#46039f"
             ],
             [
              0.2222222222222222,
              "#7201a8"
             ],
             [
              0.3333333333333333,
              "#9c179e"
             ],
             [
              0.4444444444444444,
              "#bd3786"
             ],
             [
              0.5555555555555556,
              "#d8576b"
             ],
             [
              0.6666666666666666,
              "#ed7953"
             ],
             [
              0.7777777777777778,
              "#fb9f3a"
             ],
             [
              0.8888888888888888,
              "#fdca26"
             ],
             [
              1,
              "#f0f921"
             ]
            ],
            "type": "surface"
           }
          ],
          "table": [
           {
            "cells": {
             "fill": {
              "color": "#EBF0F8"
             },
             "line": {
              "color": "white"
             }
            },
            "header": {
             "fill": {
              "color": "#C8D4E3"
             },
             "line": {
              "color": "white"
             }
            },
            "type": "table"
           }
          ]
         },
         "layout": {
          "annotationdefaults": {
           "arrowcolor": "#2a3f5f",
           "arrowhead": 0,
           "arrowwidth": 1
          },
          "autotypenumbers": "strict",
          "coloraxis": {
           "colorbar": {
            "outlinewidth": 0,
            "ticks": ""
           }
          },
          "colorscale": {
           "diverging": [
            [
             0,
             "#8e0152"
            ],
            [
             0.1,
             "#c51b7d"
            ],
            [
             0.2,
             "#de77ae"
            ],
            [
             0.3,
             "#f1b6da"
            ],
            [
             0.4,
             "#fde0ef"
            ],
            [
             0.5,
             "#f7f7f7"
            ],
            [
             0.6,
             "#e6f5d0"
            ],
            [
             0.7,
             "#b8e186"
            ],
            [
             0.8,
             "#7fbc41"
            ],
            [
             0.9,
             "#4d9221"
            ],
            [
             1,
             "#276419"
            ]
           ],
           "sequential": [
            [
             0,
             "#0d0887"
            ],
            [
             0.1111111111111111,
             "#46039f"
            ],
            [
             0.2222222222222222,
             "#7201a8"
            ],
            [
             0.3333333333333333,
             "#9c179e"
            ],
            [
             0.4444444444444444,
             "#bd3786"
            ],
            [
             0.5555555555555556,
             "#d8576b"
            ],
            [
             0.6666666666666666,
             "#ed7953"
            ],
            [
             0.7777777777777778,
             "#fb9f3a"
            ],
            [
             0.8888888888888888,
             "#fdca26"
            ],
            [
             1,
             "#f0f921"
            ]
           ],
           "sequentialminus": [
            [
             0,
             "#0d0887"
            ],
            [
             0.1111111111111111,
             "#46039f"
            ],
            [
             0.2222222222222222,
             "#7201a8"
            ],
            [
             0.3333333333333333,
             "#9c179e"
            ],
            [
             0.4444444444444444,
             "#bd3786"
            ],
            [
             0.5555555555555556,
             "#d8576b"
            ],
            [
             0.6666666666666666,
             "#ed7953"
            ],
            [
             0.7777777777777778,
             "#fb9f3a"
            ],
            [
             0.8888888888888888,
             "#fdca26"
            ],
            [
             1,
             "#f0f921"
            ]
           ]
          },
          "colorway": [
           "#636efa",
           "#EF553B",
           "#00cc96",
           "#ab63fa",
           "#FFA15A",
           "#19d3f3",
           "#FF6692",
           "#B6E880",
           "#FF97FF",
           "#FECB52"
          ],
          "font": {
           "color": "#2a3f5f"
          },
          "geo": {
           "bgcolor": "white",
           "lakecolor": "white",
           "landcolor": "#E5ECF6",
           "showlakes": true,
           "showland": true,
           "subunitcolor": "white"
          },
          "hoverlabel": {
           "align": "left"
          },
          "hovermode": "closest",
          "mapbox": {
           "style": "light"
          },
          "paper_bgcolor": "white",
          "plot_bgcolor": "#E5ECF6",
          "polar": {
           "angularaxis": {
            "gridcolor": "white",
            "linecolor": "white",
            "ticks": ""
           },
           "bgcolor": "#E5ECF6",
           "radialaxis": {
            "gridcolor": "white",
            "linecolor": "white",
            "ticks": ""
           }
          },
          "scene": {
           "xaxis": {
            "backgroundcolor": "#E5ECF6",
            "gridcolor": "white",
            "gridwidth": 2,
            "linecolor": "white",
            "showbackground": true,
            "ticks": "",
            "zerolinecolor": "white"
           },
           "yaxis": {
            "backgroundcolor": "#E5ECF6",
            "gridcolor": "white",
            "gridwidth": 2,
            "linecolor": "white",
            "showbackground": true,
            "ticks": "",
            "zerolinecolor": "white"
           },
           "zaxis": {
            "backgroundcolor": "#E5ECF6",
            "gridcolor": "white",
            "gridwidth": 2,
            "linecolor": "white",
            "showbackground": true,
            "ticks": "",
            "zerolinecolor": "white"
           }
          },
          "shapedefaults": {
           "line": {
            "color": "#2a3f5f"
           }
          },
          "ternary": {
           "aaxis": {
            "gridcolor": "white",
            "linecolor": "white",
            "ticks": ""
           },
           "baxis": {
            "gridcolor": "white",
            "linecolor": "white",
            "ticks": ""
           },
           "bgcolor": "#E5ECF6",
           "caxis": {
            "gridcolor": "white",
            "linecolor": "white",
            "ticks": ""
           }
          },
          "title": {
           "x": 0.05
          },
          "xaxis": {
           "automargin": true,
           "gridcolor": "white",
           "linecolor": "white",
           "ticks": "",
           "title": {
            "standoff": 15
           },
           "zerolinecolor": "white",
           "zerolinewidth": 2
          },
          "yaxis": {
           "automargin": true,
           "gridcolor": "white",
           "linecolor": "white",
           "ticks": "",
           "title": {
            "standoff": 15
           },
           "zerolinecolor": "white",
           "zerolinewidth": 2
          }
         }
        },
        "xaxis": {
         "title": {
          "text": "Nation"
         }
        },
        "yaxis": {
         "title": {
          "text": "UVB"
         }
        }
       }
      },
      "image/png": "[encoded data removed]",
      "image/svg+xml": [
       "<svg class=\"main-svg\" xmlns=\"http://www.w3.org/2000/svg\" xmlns:xlink=\"http://www.w3.org/1999/xlink\" width=\"700\" height=\"500\" style=\"\" viewBox=\"0 0 700 500\"><rect x=\"0\" y=\"0\" width=\"700\" height=\"500\" style=\"fill: rgb(255, 255, 255); fill-opacity: 1;\"/><defs id=\"defs-48a9e2\"><g class=\"clips\"><clipPath id=\"clip48a9e2xyplot\" class=\"plotclip\"><rect width=\"587\" height=\"351\"/></clipPath><clipPath class=\"axesclip\" id=\"clip48a9e2x\"><rect x=\"63\" y=\"0\" width=\"587\" height=\"500\"/></clipPath><clipPath class=\"axesclip\" id=\"clip48a9e2y\"><rect x=\"0\" y=\"60\" width=\"700\" height=\"351\"/></clipPath><clipPath class=\"axesclip\" id=\"clip48a9e2xy\"><rect x=\"63\" y=\"60\" width=\"587\" height=\"351\"/></clipPath></g><g class=\"gradients\"/><g class=\"patterns\"/></defs><g class=\"bglayer\"><rect class=\"bg\" x=\"63\" y=\"60\" width=\"587\" height=\"351\" style=\"fill: rgb(229, 236, 246); fill-opacity: 1; stroke-width: 0;\"/></g><g class=\"layer-below\"><g class=\"imagelayer\"/><g class=\"shapelayer\"/></g><g class=\"cartesianlayer\"><g class=\"subplot xy\"><g class=\"layer-subplot\"><g class=\"shapelayer\"/><g class=\"imagelayer\"/></g><g class=\"gridlayer\"><g class=\"x\"/><g class=\"y\"><path class=\"ygrid crisp\" transform=\"translate(0,390.38)\" d=\"M63,0h587\" style=\"stroke: rgb(255, 255, 255); stroke-opacity: 1; stroke-width: 1px;\"/><path class=\"ygrid crisp\" transform=\"translate(0,331.02)\" d=\"M63,0h587\" style=\"stroke: rgb(255, 255, 255); stroke-opacity: 1; stroke-width: 1px;\"/><path class=\"ygrid crisp\" transform=\"translate(0,212.3)\" d=\"M63,0h587\" style=\"stroke: rgb(255, 255, 255); stroke-opacity: 1; stroke-width: 1px;\"/><path class=\"ygrid crisp\" transform=\"translate(0,152.95)\" d=\"M63,0h587\" style=\"stroke: rgb(255, 255, 255); stroke-opacity: 1; stroke-width: 1px;\"/><path class=\"ygrid crisp\" transform=\"translate(0,93.59)\" d=\"M63,0h587\" style=\"stroke: rgb(255, 255, 255); stroke-opacity: 1; stroke-width: 1px;\"/></g></g><g class=\"zerolinelayer\"><path class=\"yzl zl crisp\" transform=\"translate(0,271.65999999999997)\" d=\"M63,0h587\" style=\"stroke: rgb(255, 255, 255); stroke-opacity: 1; stroke-width: 2px;\"/></g><path class=\"xlines-below\"/><path class=\"ylines-below\"/><g class=\"overlines-below\"/><g class=\"xaxislayer-below\"/><g class=\"yaxislayer-below\"/><g class=\"overaxes-below\"/><g class=\"plot\" transform=\"translate(63,60)\" clip-path=\"url(#clip48a9e2xyplot)\"><g class=\"violinlayer mlayer\"><g class=\"trace violins\" style=\"opacity: 1;\"><path class=\"violin\" d=\"M32.68,256.8Q32.71,256.3 32.73,256.05C32.75,255.8 32.79,255.56 32.82,255.31C32.86,255.06 32.89,254.81 32.94,254.56C32.99,254.31 33.04,254.06 33.1,253.81C33.16,253.56 33.22,253.31 33.29,253.06C33.36,252.81 33.43,252.56 33.51,252.31C33.59,252.06 33.67,251.81 33.75,251.56C33.83,251.31 33.92,251.07 34.01,250.82C34.1,250.57 34.19,250.32 34.28,250.07C34.37,249.82 34.46,249.57 34.54,249.32C34.62,249.07 34.7,248.82 34.77,248.57C34.84,248.32 34.89,248.07 34.94,247.82C34.98,247.57 35.02,247.32 35.04,247.07C35.06,246.82 35.07,246.58 35.08,246.33C35.09,246.08 35.09,245.83 35.08,245.58C35.07,245.33 35.06,245.08 35.04,244.83C35.02,244.58 35.01,244.33 34.98,244.08C34.95,243.83 34.92,243.58 34.88,243.33C34.83,243.08 34.78,242.83 34.71,242.58C34.64,242.33 34.57,242.09 34.48,241.84C34.39,241.59 34.28,241.34 34.18,241.09C34.07,240.84 33.96,240.59 33.85,240.34C33.74,240.09 33.62,239.84 33.51,239.59C33.41,239.34 33.31,239.09 33.22,238.84C33.13,238.59 33.06,238.34 32.99,238.09C32.92,237.84 32.87,237.6 32.82,237.35Q32.78,237.1 32.72,236.6L32.5,236.6Q32.44,237.1 32.4,237.35C32.36,237.6 32.31,237.84 32.24,238.09C32.17,238.34 32.09,238.59 32,238.84C31.91,239.09 31.81,239.34 31.71,239.59C31.6,239.84 31.48,240.09 31.37,240.34C31.26,240.59 31.15,240.84 31.04,241.09C30.94,241.34 30.83,241.59 30.74,241.84C30.65,242.09 30.58,242.33 30.51,242.58C30.44,242.83 30.39,243.08 30.34,243.33C30.3,243.58 30.27,243.83 30.24,244.08C30.21,244.33 30.2,244.58 30.18,244.83C30.16,245.08 30.15,245.33 30.14,245.58C30.13,245.83 30.13,246.08 30.14,246.33C30.15,246.58 30.16,246.82 30.18,247.07C30.21,247.32 30.24,247.57 30.29,247.82C30.34,248.07 30.4,248.32 30.46,248.57C30.53,248.82 30.6,249.07 30.68,249.32C30.76,249.57 30.85,249.82 30.94,250.07C31.03,250.32 31.12,250.57 31.21,250.82C31.3,251.07 31.39,251.31 31.47,251.56C31.55,251.81 31.63,252.06 31.71,252.31C31.79,252.56 31.86,252.81 31.93,253.06C32,253.31 32.06,253.56 32.12,253.81C32.18,254.06 32.23,254.31 32.28,254.56C32.33,254.81 32.36,255.06 32.4,255.31C32.43,255.56 32.47,255.8 32.49,256.05Q32.52,256.3 32.55,256.8Z\" style=\"vector-effect: non-scaling-stroke; stroke-width: 2px; stroke: rgb(0, 128, 128); stroke-opacity: 1; fill: rgb(0, 128, 128); fill-opacity: 0.5;\"/><path class=\"violin\" d=\"M97.84,289.83Q97.85,287.96 97.85,287.02C97.86,286.08 97.86,285.14 97.87,284.2C97.88,283.26 97.89,282.32 97.9,281.38C97.91,280.44 97.92,279.51 97.93,278.57C97.94,277.63 97.96,276.69 97.98,275.75C98,274.81 98.02,273.88 98.04,272.94C98.06,272 98.09,271.06 98.11,270.12C98.13,269.18 98.15,268.24 98.18,267.3C98.2,266.36 98.24,265.43 98.26,264.49C98.28,263.55 98.3,262.61 98.32,261.67C98.34,260.73 98.35,259.79 98.36,258.85C98.37,257.91 98.38,256.98 98.38,256.04C98.38,255.1 98.38,254.16 98.38,253.22C98.38,252.28 98.37,251.34 98.37,250.4C98.37,249.46 98.36,248.53 98.36,247.59C98.36,246.65 98.35,245.71 98.35,244.77C98.35,243.83 98.34,242.9 98.34,241.96C98.34,241.02 98.33,240.08 98.33,239.14C98.32,238.2 98.32,237.26 98.31,236.32C98.3,235.38 98.3,234.45 98.29,233.51C98.28,232.57 98.28,231.63 98.27,230.69C98.26,229.75 98.25,228.81 98.24,227.87C98.23,226.93 98.21,226 98.2,225.06C98.19,224.12 98.17,223.18 98.16,222.24C98.15,221.3 98.13,220.37 98.12,219.43C98.1,218.49 98.09,217.55 98.07,216.61C98.05,215.67 98.03,214.73 98.01,213.79C97.99,212.85 97.97,211.92 97.96,210.98C97.94,210.04 97.93,209.1 97.92,208.16C97.91,207.22 97.9,206.28 97.89,205.34C97.88,204.4 97.87,203.47 97.86,202.53Q97.85,201.59 97.85,199.71L97.82,199.71Q97.81,201.59 97.8,202.53C97.79,203.47 97.79,204.4 97.78,205.34C97.77,206.28 97.76,207.22 97.75,208.16C97.74,209.1 97.72,210.04 97.7,210.98C97.68,211.92 97.67,212.85 97.65,213.79C97.63,214.73 97.62,215.67 97.6,216.61C97.58,217.55 97.57,218.49 97.55,219.43C97.53,220.37 97.51,221.3 97.5,222.24C97.48,223.18 97.47,224.12 97.46,225.06C97.45,226 97.44,226.93 97.43,227.87C97.42,228.81 97.41,229.75 97.4,230.69C97.39,231.63 97.38,232.57 97.37,233.51C97.36,234.45 97.35,235.38 97.35,236.32C97.34,237.26 97.34,238.2 97.34,239.14C97.34,240.08 97.33,241.02 97.33,241.96C97.33,242.9 97.32,243.83 97.32,244.77C97.32,245.71 97.32,246.65 97.31,247.59C97.31,248.53 97.29,249.46 97.29,250.4C97.28,251.34 97.28,252.28 97.28,253.22C97.28,254.16 97.28,255.1 97.29,256.04C97.29,256.98 97.3,257.91 97.31,258.85C97.32,259.79 97.33,260.73 97.35,261.67C97.37,262.61 97.39,263.55 97.41,264.49C97.43,265.43 97.46,266.36 97.48,267.3C97.51,268.24 97.53,269.18 97.56,270.12C97.58,271.06 97.61,272 97.63,272.94C97.65,273.88 97.67,274.81 97.69,275.75C97.71,276.69 97.72,277.63 97.73,278.57C97.74,279.51 97.76,280.44 97.77,281.38C97.78,282.32 97.79,283.26 97.8,284.2C97.81,285.14 97.81,286.08 97.81,287.02Q97.81,287.96 97.82,289.83Z\" style=\"vector-effect: non-scaling-stroke; stroke-width: 2px; stroke: rgb(0, 128, 128); stroke-opacity: 1; fill: rgb(0, 128, 128); fill-opacity: 0.5;\"/><path class=\"violin\" d=\"M163.17,289.93Q163.23,289.3 163.28,288.99C163.32,288.68 163.37,288.37 163.44,288.06C163.51,287.75 163.59,287.43 163.68,287.12C163.77,286.81 163.86,286.49 163.96,286.18C164.06,285.87 164.17,285.56 164.27,285.25C164.37,284.94 164.48,284.63 164.56,284.31C164.64,284 164.72,283.68 164.77,283.37C164.82,283.06 164.86,282.75 164.88,282.44C164.9,282.13 164.9,281.81 164.89,281.5C164.88,281.19 164.85,280.87 164.82,280.56C164.79,280.25 164.75,279.94 164.72,279.63C164.69,279.32 164.65,279 164.63,278.69C164.61,278.38 164.59,278.06 164.59,277.75C164.59,277.44 164.6,277.13 164.61,276.82C164.62,276.51 164.65,276.19 164.67,275.88C164.69,275.57 164.72,275.25 164.73,274.94C164.74,274.63 164.74,274.32 164.72,274.01C164.7,273.7 164.68,273.38 164.63,273.07C164.58,272.76 164.51,272.45 164.43,272.14C164.35,271.83 164.25,271.51 164.16,271.2C164.07,270.89 163.96,270.57 163.87,270.26C163.78,269.95 163.68,269.64 163.6,269.33C163.52,269.02 163.44,268.7 163.38,268.39C163.32,268.08 163.27,267.76 163.23,267.45Q163.19,267.14 163.14,266.52L162.97,266.52Q162.92,267.14 162.88,267.45C162.84,267.76 162.79,268.08 162.73,268.39C162.67,268.7 162.59,269.02 162.51,269.33C162.43,269.64 162.33,269.95 162.24,270.26C162.15,270.57 162.04,270.89 161.95,271.2C161.86,271.51 161.76,271.83 161.68,272.14C161.6,272.45 161.53,272.76 161.48,273.07C161.43,273.38 161.4,273.7 161.39,274.01C161.38,274.32 161.38,274.63 161.39,274.94C161.4,275.25 161.42,275.57 161.44,275.88C161.46,276.19 161.49,276.51 161.5,276.82C161.51,277.13 161.52,277.44 161.52,277.75C161.52,278.06 161.5,278.38 161.48,278.69C161.46,279 161.42,279.32 161.39,279.63C161.36,279.94 161.32,280.25 161.29,280.56C161.26,280.87 161.23,281.19 161.22,281.5C161.21,281.81 161.21,282.13 161.23,282.44C161.25,282.75 161.29,283.06 161.34,283.37C161.39,283.68 161.47,284 161.55,284.31C161.63,284.63 161.74,284.94 161.84,285.25C161.94,285.56 162.05,285.87 162.15,286.18C162.25,286.49 162.35,286.81 162.44,287.12C162.53,287.43 162.6,287.75 162.67,288.06C162.74,288.37 162.79,288.68 162.84,288.99Q162.88,289.3 162.94,289.93Z\" style=\"vector-effect: non-scaling-stroke; stroke-width: 2px; stroke: rgb(0, 128, 128); stroke-opacity: 1; fill: rgb(0, 128, 128); fill-opacity: 0.5;\"/><path class=\"violin\" d=\"M228.28,269.61Q228.29,266.7 228.29,265.24C228.29,263.78 228.29,262.32 228.29,260.86C228.29,259.4 228.3,257.94 228.31,256.48C228.32,255.02 228.32,253.57 228.33,252.11C228.34,250.65 228.35,249.19 228.36,247.73C228.37,246.27 228.38,244.81 228.39,243.35C228.4,241.89 228.42,240.44 228.43,238.98C228.45,237.52 228.46,236.06 228.48,234.6C228.5,233.14 228.51,231.68 228.53,230.22C228.54,228.76 228.56,227.3 228.57,225.84C228.58,224.38 228.59,222.93 228.6,221.47C228.61,220.01 228.61,218.55 228.61,217.09C228.61,215.63 228.61,214.17 228.61,212.71C228.61,211.25 228.6,209.8 228.6,208.34C228.6,206.88 228.59,205.42 228.59,203.96C228.59,202.5 228.58,201.04 228.58,199.58C228.58,198.12 228.57,196.67 228.57,195.21C228.57,193.75 228.56,192.29 228.56,190.83C228.56,189.37 228.55,187.91 228.55,186.45C228.54,184.99 228.54,183.53 228.53,182.07C228.53,180.61 228.52,179.16 228.52,177.7C228.51,176.24 228.51,174.78 228.5,173.32C228.49,171.86 228.49,170.4 228.48,168.94C228.47,167.48 228.46,166.03 228.46,164.57C228.45,163.11 228.45,161.65 228.45,160.19C228.45,158.73 228.44,157.27 228.44,155.81C228.44,154.35 228.43,152.9 228.43,151.44C228.43,149.98 228.42,148.52 228.42,147.06C228.41,145.6 228.41,144.14 228.4,142.68C228.4,141.22 228.39,139.77 228.39,138.31C228.39,136.85 228.38,135.39 228.38,133.93C228.37,132.47 228.37,131.01 228.36,129.55C228.35,128.09 228.35,126.63 228.34,125.17C228.34,123.71 228.33,122.26 228.33,120.8C228.33,119.34 228.32,117.88 228.32,116.42C228.31,114.96 228.31,113.5 228.3,112.04C228.3,110.58 228.29,109.13 228.29,107.67C228.29,106.21 228.29,104.75 228.29,103.29C228.29,101.83 228.28,100.37 228.28,98.91Q228.28,97.45 228.28,94.54L228.28,94.54Q228.27,97.45 228.27,98.91C228.27,100.37 228.27,101.83 228.27,103.29C228.27,104.75 228.26,106.21 228.26,107.67C228.26,109.13 228.25,110.58 228.25,112.04C228.25,113.5 228.24,114.96 228.24,116.42C228.24,117.88 228.24,119.34 228.23,120.8C228.23,122.26 228.21,123.71 228.21,125.17C228.2,126.63 228.2,128.09 228.2,129.55C228.19,131.01 228.19,132.47 228.18,133.93C228.18,135.39 228.18,136.85 228.17,138.31C228.17,139.77 228.15,141.22 228.15,142.68C228.14,144.14 228.14,145.6 228.14,147.06C228.14,148.52 228.13,149.98 228.13,151.44C228.13,152.9 228.12,154.35 228.12,155.81C228.12,157.27 228.11,158.73 228.11,160.19C228.1,161.65 228.1,163.11 228.09,164.57C228.08,166.03 228.07,167.48 228.07,168.94C228.06,170.4 228.06,171.86 228.06,173.32C228.05,174.78 228.05,176.24 228.04,177.7C228.03,179.16 228.02,180.61 228.02,182.07C228.01,183.53 228.01,184.99 228.01,186.45C228.01,187.91 228,189.37 228,190.83C228,192.29 227.99,193.75 227.99,195.21C227.99,196.67 227.98,198.12 227.98,199.58C227.98,201.04 227.97,202.5 227.97,203.96C227.96,205.42 227.96,206.88 227.95,208.34C227.95,209.8 227.94,211.25 227.94,212.71C227.94,214.17 227.95,215.63 227.95,217.09C227.95,218.55 227.95,220.01 227.96,221.47C227.97,222.93 227.98,224.38 227.99,225.84C228,227.3 228.02,228.76 228.03,230.22C228.05,231.68 228.06,233.14 228.08,234.6C228.09,236.06 228.11,237.52 228.12,238.98C228.13,240.44 228.15,241.89 228.16,243.35C228.17,244.81 228.19,246.27 228.2,247.73C228.21,249.19 228.22,250.65 228.23,252.11C228.24,253.57 228.25,255.02 228.25,256.48C228.26,257.94 228.26,259.4 228.26,260.86C228.26,262.32 228.27,263.78 228.27,265.24Q228.27,266.7 228.27,269.61Z\" style=\"vector-effect: non-scaling-stroke; stroke-width: 2px; stroke: rgb(0, 128, 128); stroke-opacity: 1; fill: rgb(0, 128, 128); fill-opacity: 0.5;\"/><path class=\"violin\" d=\"M293.5,333.45Q293.51,331.66 293.51,330.77C293.51,329.88 293.51,328.98 293.51,328.09C293.51,327.19 293.51,326.3 293.51,325.4C293.51,324.51 293.52,323.61 293.52,322.72C293.52,321.83 293.53,320.93 293.53,320.04C293.53,319.15 293.54,318.25 293.54,317.36C293.54,316.47 293.55,315.57 293.55,314.68C293.55,313.78 293.56,312.89 293.56,311.99C293.56,311.1 293.57,310.2 293.57,309.31C293.57,308.42 293.58,307.52 293.58,306.63C293.59,305.74 293.59,304.84 293.6,303.95C293.61,303.06 293.61,302.16 293.62,301.27C293.63,300.37 293.64,299.48 293.65,298.58C293.66,297.69 293.67,296.79 293.68,295.9C293.69,295.01 293.7,294.11 293.71,293.22C293.72,292.33 293.74,291.43 293.75,290.54C293.77,289.64 293.78,288.75 293.8,287.85C293.81,286.96 293.83,286.06 293.84,285.17C293.85,284.28 293.87,283.38 293.88,282.49C293.89,281.6 293.9,280.7 293.91,279.81C293.92,278.92 293.93,278.02 293.94,277.13C293.95,276.23 293.96,275.34 293.97,274.44C293.98,273.55 293.98,272.65 293.99,271.76C294,270.87 294,269.97 294.01,269.08C294.02,268.19 294.02,267.29 294.03,266.4C294.04,265.51 294.05,264.61 294.05,263.72C294.06,262.82 294.06,261.93 294.06,261.03C294.06,260.14 294.06,259.24 294.06,258.35C294.06,257.46 294.06,256.56 294.05,255.67C294.04,254.78 294.03,253.88 294.02,252.99C294.01,252.1 294,251.2 293.98,250.31C293.96,249.41 293.94,248.52 293.92,247.62C293.9,246.73 293.88,245.83 293.86,244.94C293.84,244.05 293.82,243.15 293.8,242.26C293.78,241.37 293.76,240.47 293.74,239.58C293.72,238.69 293.7,237.79 293.68,236.9C293.66,236 293.65,235.11 293.63,234.21C293.62,233.32 293.6,232.42 293.59,231.53C293.58,230.64 293.57,229.74 293.56,228.85C293.55,227.96 293.54,227.06 293.53,226.17C293.52,225.28 293.52,224.38 293.52,223.49Q293.52,222.59 293.51,220.8L293.49,220.8Q293.48,222.59 293.48,223.49C293.48,224.38 293.48,225.28 293.47,226.17C293.46,227.06 293.45,227.96 293.44,228.85C293.43,229.74 293.42,230.64 293.41,231.53C293.4,232.42 293.38,233.32 293.37,234.21C293.35,235.11 293.34,236 293.32,236.9C293.3,237.79 293.28,238.69 293.26,239.58C293.24,240.47 293.22,241.37 293.2,242.26C293.18,243.15 293.16,244.05 293.14,244.94C293.12,245.83 293.1,246.73 293.08,247.62C293.06,248.52 293.04,249.41 293.02,250.31C293,251.2 292.99,252.1 292.98,252.99C292.97,253.88 292.96,254.78 292.95,255.67C292.94,256.56 292.94,257.46 292.94,258.35C292.94,259.24 292.94,260.14 292.94,261.03C292.94,261.93 292.94,262.82 292.95,263.72C292.95,264.61 292.96,265.51 292.97,266.4C292.98,267.29 292.98,268.19 292.99,269.08C293,269.97 293,270.87 293.01,271.76C293.02,272.65 293.02,273.55 293.03,274.44C293.04,275.34 293.05,276.23 293.06,277.13C293.07,278.02 293.08,278.92 293.09,279.81C293.1,280.7 293.11,281.6 293.12,282.49C293.13,283.38 293.15,284.28 293.16,285.17C293.17,286.06 293.19,286.96 293.2,287.85C293.22,288.75 293.23,289.64 293.25,290.54C293.26,291.43 293.28,292.33 293.29,293.22C293.3,294.11 293.31,295.01 293.32,295.9C293.33,296.79 293.34,297.69 293.35,298.58C293.36,299.48 293.37,300.37 293.38,301.27C293.39,302.16 293.39,303.06 293.4,303.95C293.41,304.84 293.41,305.74 293.42,306.63C293.42,307.52 293.43,308.42 293.43,309.31C293.43,310.2 293.44,311.1 293.44,311.99C293.44,312.89 293.45,313.78 293.45,314.68C293.45,315.57 293.46,316.47 293.46,317.36C293.46,318.25 293.47,319.15 293.47,320.04C293.47,320.93 293.48,321.83 293.48,322.72C293.48,323.61 293.49,324.51 293.49,325.4C293.49,326.3 293.49,327.19 293.49,328.09C293.49,328.98 293.49,329.88 293.49,330.77Q293.49,331.66 293.5,333.45Z\" style=\"vector-effect: non-scaling-stroke; stroke-width: 2px; stroke: rgb(0, 128, 128); stroke-opacity: 1; fill: rgb(0, 128, 128); fill-opacity: 0.5;\"/><path class=\"violin\" d=\"M358.73,232.4Q358.74,228.53 358.74,226.6C358.74,224.66 358.74,222.73 358.75,220.79C358.76,218.85 358.77,216.92 358.78,214.98C358.79,213.05 358.8,211.11 358.81,209.18C358.82,207.24 358.84,205.31 358.85,203.37C358.86,201.43 358.88,199.5 358.89,197.56C358.9,195.63 358.92,193.69 358.93,191.76C358.94,189.82 358.95,187.89 358.96,185.95C358.97,184.01 358.97,182.08 358.98,180.14C358.98,178.2 358.99,176.27 358.99,174.33C358.99,172.4 358.98,170.46 358.98,168.53C358.98,166.59 358.97,164.66 358.97,162.72C358.97,160.78 358.97,158.85 358.96,156.91C358.96,154.98 358.95,153.04 358.94,151.11C358.93,149.17 358.93,147.24 358.92,145.3C358.92,143.36 358.91,141.43 358.91,139.49C358.91,137.56 358.9,135.62 358.9,133.69C358.9,131.75 358.89,129.82 358.89,127.88C358.89,125.94 358.88,124.01 358.88,122.07C358.88,120.14 358.88,118.2 358.88,116.27C358.88,114.33 358.87,112.4 358.87,110.46C358.87,108.52 358.87,106.59 358.87,104.65C358.87,102.72 358.86,100.78 358.86,98.85C358.86,96.91 358.85,94.98 358.85,93.04C358.84,91.1 358.84,89.17 358.83,87.23C358.83,85.3 358.82,83.36 358.82,81.43C358.82,79.49 358.81,77.56 358.81,75.62C358.81,73.68 358.81,71.75 358.81,69.81C358.81,67.87 358.8,65.94 358.8,64C358.8,62.07 358.79,60.13 358.79,58.2C358.79,56.26 358.78,54.33 358.78,52.39C358.78,50.45 358.77,48.52 358.77,46.58C358.77,44.65 358.76,42.71 358.76,40.78C358.76,38.84 358.75,36.91 358.75,34.97C358.75,33.03 358.74,31.1 358.74,29.16C358.74,27.23 358.73,25.29 358.73,23.36Q358.73,21.42 358.73,17.55L358.72,17.55Q358.71,21.42 358.71,23.36C358.71,25.29 358.71,27.23 358.71,29.16C358.71,31.1 358.7,33.03 358.7,34.97C358.7,36.91 358.69,38.84 358.69,40.78C358.69,42.71 358.68,44.65 358.68,46.58C358.67,48.52 358.67,50.45 358.66,52.39C358.66,54.33 358.65,56.26 358.65,58.2C358.65,60.13 358.64,62.07 358.64,64C358.64,65.94 358.64,67.87 358.64,69.81C358.64,71.75 358.63,73.68 358.63,75.62C358.63,77.56 358.62,79.49 358.62,81.43C358.62,83.36 358.61,85.3 358.61,87.23C358.61,89.17 358.6,91.1 358.6,93.04C358.6,94.98 358.59,96.91 358.59,98.85C358.59,100.78 358.58,102.72 358.58,104.65C358.58,106.59 358.57,108.52 358.57,110.46C358.57,112.4 358.57,114.33 358.57,116.27C358.57,118.2 358.56,120.14 358.56,122.07C358.56,124.01 358.56,125.94 358.56,127.88C358.56,129.82 358.56,131.75 358.55,133.69C358.55,135.62 358.53,137.56 358.53,139.49C358.52,141.43 358.52,143.36 358.52,145.3C358.51,147.24 358.51,149.17 358.5,151.11C358.5,153.04 358.49,154.98 358.49,156.91C358.48,158.85 358.48,160.78 358.47,162.72C358.47,164.66 358.46,166.59 358.46,168.53C358.46,170.46 358.46,172.4 358.46,174.33C358.46,176.27 358.47,178.2 358.47,180.14C358.47,182.08 358.47,184.01 358.48,185.95C358.49,187.89 358.5,189.82 358.51,191.76C358.52,193.69 358.54,195.63 358.55,197.56C358.57,199.5 358.59,201.43 358.6,203.37C358.61,205.31 358.62,207.24 358.63,209.18C358.64,211.11 358.66,213.05 358.67,214.98C358.68,216.92 358.68,218.85 358.69,220.79C358.7,222.73 358.71,224.66 358.71,226.6Q358.71,228.53 358.71,232.4Z\" style=\"vector-effect: non-scaling-stroke; stroke-width: 2px; stroke: rgb(0, 128, 128); stroke-opacity: 1; fill: rgb(0, 128, 128); fill-opacity: 0.5;\"/><path class=\"violin\" d=\"M424,290.21Q424.04,289.34 424.06,288.91C424.08,288.48 424.11,288.04 424.14,287.61C424.17,287.18 424.21,286.74 424.25,286.31C424.29,285.88 424.35,285.44 424.4,285.01C424.45,284.58 424.5,284.14 424.55,283.71C424.6,283.28 424.65,282.84 424.69,282.41C424.73,281.98 424.78,281.54 424.81,281.11C424.84,280.68 424.87,280.24 424.89,279.81C424.91,279.38 424.93,278.94 424.94,278.51C424.95,278.07 424.96,277.64 424.97,277.2C424.98,276.77 424.98,276.33 424.99,275.9C425,275.47 425,275.03 425.01,274.6C425.02,274.17 425.02,273.73 425.03,273.3C425.04,272.87 425.05,272.43 425.06,272C425.07,271.57 425.09,271.13 425.1,270.7C425.12,270.27 425.14,269.83 425.15,269.4C425.16,268.97 425.17,268.53 425.17,268.1C425.17,267.67 425.18,267.23 425.17,266.8C425.16,266.37 425.14,265.93 425.11,265.5C425.08,265.06 425.04,264.63 425,264.19C424.96,263.76 424.9,263.32 424.85,262.89C424.8,262.46 424.74,262.02 424.68,261.59C424.63,261.16 424.57,260.72 424.52,260.29C424.47,259.86 424.42,259.42 424.38,258.99C424.34,258.56 424.3,258.12 424.26,257.69C424.23,257.26 424.2,256.82 424.17,256.39C424.14,255.96 424.12,255.52 424.1,255.09C424.08,254.66 424.06,254.22 424.04,253.79C424.02,253.36 424.01,252.92 424,252.49C423.99,252.06 423.99,251.62 423.98,251.19Q423.97,250.75 423.96,249.88L423.93,249.88Q423.92,250.75 423.91,251.19C423.9,251.62 423.9,252.06 423.89,252.49C423.88,252.92 423.87,253.36 423.85,253.79C423.83,254.22 423.81,254.66 423.79,255.09C423.77,255.52 423.75,255.96 423.72,256.39C423.69,256.82 423.66,257.26 423.63,257.69C423.59,258.12 423.55,258.56 423.51,258.99C423.47,259.42 423.42,259.86 423.37,260.29C423.32,260.72 423.26,261.16 423.2,261.59C423.15,262.02 423.09,262.46 423.04,262.89C422.99,263.32 422.93,263.76 422.89,264.19C422.85,264.63 422.81,265.06 422.78,265.5C422.75,265.93 422.73,266.37 422.72,266.8C422.71,267.23 422.71,267.67 422.71,268.1C422.71,268.53 422.73,268.97 422.74,269.4C422.75,269.83 422.77,270.27 422.79,270.7C422.8,271.13 422.82,271.57 422.83,272C422.84,272.43 422.85,272.87 422.86,273.3C422.87,273.73 422.87,274.17 422.88,274.6C422.89,275.03 422.89,275.47 422.9,275.9C422.91,276.33 422.91,276.77 422.92,277.2C422.93,277.64 422.93,278.07 422.94,278.51C422.95,278.94 422.97,279.38 422.99,279.81C423.01,280.24 423.05,280.68 423.08,281.11C423.12,281.54 423.16,281.98 423.2,282.41C423.24,282.84 423.29,283.28 423.34,283.71C423.39,284.14 423.44,284.58 423.49,285.01C423.54,285.44 423.59,285.88 423.63,286.31C423.67,286.74 423.72,287.18 423.75,287.61C423.78,288.04 423.81,288.48 423.83,288.91Q423.85,289.34 423.89,290.21Z\" style=\"vector-effect: non-scaling-stroke; stroke-width: 2px; stroke: rgb(0, 128, 128); stroke-opacity: 1; fill: rgb(0, 128, 128); fill-opacity: 0.5;\"/><path class=\"violin\" d=\"M490.52,240.73Q491.3,240.62 491.76,240.57C492.32,240.51 492.97,240.47 493.64,240.42C494.41,240.36 495.28,240.31 496.14,240.26C497.07,240.2 498.07,240.15 499.03,240.1C499.97,240.05 500.96,240 501.83,239.94C502.6,239.89 503.39,239.85 503.99,239.79C504.43,239.74 505,239.75 505.12,239.63C505.17,239.59 505.18,239.51 505.15,239.47C505.08,239.37 504.63,239.36 504.32,239.31C503.95,239.25 503.49,239.2 503.07,239.15C502.63,239.1 502.18,239.05 501.74,239C501.3,238.95 500.87,238.89 500.43,238.84C499.98,238.79 499.53,238.73 499.06,238.68C498.56,238.62 498.03,238.57 497.5,238.52C496.94,238.47 496.34,238.41 495.76,238.36C495.17,238.31 494.55,238.26 493.97,238.21C493.42,238.16 492.86,238.11 492.36,238.05C491.91,238 491.47,237.95 491.09,237.89Q490.77,237.84 490.21,237.73L488.12,237.73Q487.56,237.84 487.24,237.89C486.86,237.95 486.42,238 485.97,238.05C485.47,238.11 484.91,238.16 484.36,238.21C483.78,238.26 483.17,238.31 482.58,238.36C481.99,238.41 481.4,238.47 480.83,238.52C480.29,238.57 479.77,238.62 479.27,238.68C478.8,238.73 478.35,238.79 477.9,238.84C477.46,238.89 477.03,238.95 476.59,239C476.15,239.05 475.7,239.1 475.26,239.15C474.84,239.2 474.38,239.25 474.01,239.31C473.71,239.36 473.26,239.37 473.19,239.47C473.16,239.51 473.17,239.59 473.21,239.63C473.33,239.75 473.9,239.74 474.34,239.79C474.95,239.85 475.74,239.89 476.51,239.94C477.38,240 478.37,240.05 479.31,240.1C480.26,240.15 481.26,240.2 482.19,240.26C483.06,240.31 483.92,240.36 484.7,240.42C485.37,240.47 486.02,240.51 486.58,240.57Q487.03,240.62 487.81,240.73Z\" style=\"vector-effect: non-scaling-stroke; stroke-width: 2px; stroke: rgb(0, 128, 128); stroke-opacity: 1; fill: rgb(0, 128, 128); fill-opacity: 0.5;\"/><path class=\"violin\" d=\"M554.45,277.94Q554.48,277.17 554.5,276.78C554.52,276.39 554.55,276 554.59,275.61C554.62,275.22 554.67,274.84 554.71,274.45C554.75,274.06 554.8,273.67 554.85,273.28C554.9,272.89 554.95,272.51 555,272.12C555.05,271.73 555.09,271.34 555.13,270.95C555.17,270.56 555.2,270.18 555.23,269.79C555.26,269.4 555.27,269.01 555.29,268.62C555.3,268.23 555.31,267.85 555.32,267.46C555.33,267.07 555.33,266.69 555.35,266.3C555.37,265.91 555.39,265.52 555.42,265.13C555.45,264.74 555.5,264.36 555.55,263.97C555.6,263.58 555.67,263.19 555.73,262.8C555.79,262.41 555.86,262.03 555.92,261.64C555.98,261.25 556.04,260.86 556.09,260.47C556.13,260.08 556.17,259.7 556.19,259.31C556.21,258.92 556.2,258.54 556.19,258.15C556.18,257.76 556.15,257.37 556.1,256.98C556.05,256.59 555.97,256.21 555.9,255.82C555.82,255.43 555.74,255.04 555.65,254.65C555.56,254.26 555.46,253.88 555.37,253.49C555.28,253.1 555.18,252.71 555.09,252.32C555.01,251.93 554.93,251.55 554.86,251.16C554.79,250.77 554.72,250.39 554.67,250C554.62,249.61 554.58,249.22 554.55,248.83Q554.52,248.44 554.47,247.67L554.31,247.67Q554.26,248.44 554.23,248.83C554.19,249.22 554.15,249.61 554.1,250C554.05,250.39 553.99,250.77 553.92,251.16C553.85,251.55 553.77,251.93 553.69,252.32C553.6,252.71 553.5,253.1 553.41,253.49C553.32,253.88 553.22,254.26 553.13,254.65C553.04,255.04 552.95,255.43 552.87,255.82C552.8,256.21 552.73,256.59 552.68,256.98C552.63,257.37 552.6,257.76 552.59,258.15C552.58,258.54 552.57,258.92 552.59,259.31C552.61,259.7 552.65,260.08 552.69,260.47C552.74,260.86 552.8,261.25 552.86,261.64C552.92,262.03 552.99,262.41 553.05,262.8C553.11,263.19 553.18,263.58 553.23,263.97C553.28,264.36 553.32,264.74 553.35,265.13C553.38,265.52 553.41,265.91 553.43,266.3C553.45,266.69 553.45,267.07 553.46,267.46C553.47,267.85 553.48,268.23 553.49,268.62C553.51,269.01 553.52,269.4 553.55,269.79C553.57,270.18 553.6,270.56 553.64,270.95C553.68,271.34 553.73,271.73 553.78,272.12C553.83,272.51 553.88,272.89 553.93,273.28C553.98,273.67 554.03,274.06 554.07,274.45C554.11,274.84 554.16,275.22 554.19,275.61C554.22,276 554.25,276.39 554.27,276.78Q554.29,277.17 554.33,277.94Z\" style=\"vector-effect: non-scaling-stroke; stroke-width: 2px; stroke: rgb(0, 128, 128); stroke-opacity: 1; fill: rgb(0, 128, 128); fill-opacity: 0.5;\"/><g class=\"points\"/><g class=\"points\"/><g class=\"points\"/><g class=\"points\"/><g class=\"points\"/><g class=\"points\"/><g class=\"points\"/><g class=\"points\"/><g class=\"points\"/></g></g></g><g class=\"overplot\"/><path class=\"xlines-above crisp\" d=\"M0,0\" style=\"fill: none;\"/><path class=\"ylines-above crisp\" d=\"M0,0\" style=\"fill: none;\"/><g class=\"overlines-above\"/><g class=\"xaxislayer-above\"><g class=\"xtick\"><text text-anchor=\"start\" x=\"0\" y=\"424\" transform=\"translate(95.61,0) rotate(30,0,418)\" style=\"font-family: 'Open Sans', verdana, arial, sans-serif; font-size: 12px; fill: rgb(42, 63, 95); fill-opacity: 1; white-space: pre; opacity: 1;\">Belgium</text></g><g class=\"xtick\"><text text-anchor=\"start\" x=\"0\" y=\"424\" transform=\"translate(160.82999999999998,0) rotate(30,0,418)\" style=\"font-family: 'Open Sans', verdana, arial, sans-serif; font-size: 12px; fill: rgb(42, 63, 95); fill-opacity: 1; white-space: pre; opacity: 1;\">W.Germany</text></g><g class=\"xtick\"><text text-anchor=\"start\" x=\"0\" y=\"424\" transform=\"translate(226.06,0) rotate(30,0,418)\" style=\"font-family: 'Open Sans', verdana, arial, sans-serif; font-size: 12px; fill: rgb(42, 63, 95); fill-opacity: 1; white-space: pre; opacity: 1;\">Denmark</text></g><g class=\"xtick\"><text text-anchor=\"start\" x=\"0\" y=\"424\" transform=\"translate(291.28,0) rotate(30,0,418)\" style=\"font-family: 'Open Sans', verdana, arial, sans-serif; font-size: 12px; fill: rgb(42, 63, 95); fill-opacity: 1; white-space: pre; opacity: 1;\">France</text></g><g class=\"xtick\"><text text-anchor=\"start\" x=\"0\" y=\"424\" transform=\"translate(356.5,0) rotate(30,0,418)\" style=\"font-family: 'Open Sans', verdana, arial, sans-serif; font-size: 12px; fill: rgb(42, 63, 95); fill-opacity: 1; white-space: pre; opacity: 1;\">UK</text></g><g class=\"xtick\"><text text-anchor=\"start\" x=\"0\" y=\"424\" transform=\"translate(421.72,0) rotate(30,0,418)\" style=\"font-family: 'Open Sans', verdana, arial, sans-serif; font-size: 12px; fill: rgb(42, 63, 95); fill-opacity: 1; white-space: pre; opacity: 1;\">Italy</text></g><g class=\"xtick\"><text text-anchor=\"start\" x=\"0\" y=\"424\" transform=\"translate(486.94,0) rotate(30,0,418)\" style=\"font-family: 'Open Sans', verdana, arial, sans-serif; font-size: 12px; fill: rgb(42, 63, 95); fill-opacity: 1; white-space: pre; opacity: 1;\">Ireland</text></g><g class=\"xtick\"><text text-anchor=\"start\" x=\"0\" y=\"424\" transform=\"translate(552.1700000000001,0) rotate(30,0,418)\" style=\"font-family: 'Open Sans', verdana, arial, sans-serif; font-size: 12px; fill: rgb(42, 63, 95); fill-opacity: 1; white-space: pre; opacity: 1;\">Luxembourg</text></g><g class=\"xtick\"><text text-anchor=\"start\" x=\"0\" y=\"424\" transform=\"translate(617.39,0) rotate(30,0,418)\" style=\"font-family: 'Open Sans', verdana, arial, sans-serif; font-size: 12px; fill: rgb(42, 63, 95); fill-opacity: 1; white-space: pre; opacity: 1;\">Netherlands</text></g></g><g class=\"yaxislayer-above\"><g class=\"ytick\"><text text-anchor=\"end\" x=\"62\" y=\"4.199999999999999\" transform=\"translate(0,390.38)\" style=\"font-family: 'Open Sans', verdana, arial, sans-serif; font-size: 12px; fill: rgb(42, 63, 95); fill-opacity: 1; white-space: pre; opacity: 1;\">−10</text></g><g class=\"ytick\"><text text-anchor=\"end\" x=\"62\" y=\"4.199999999999999\" style=\"font-family: 'Open Sans', verdana, arial, sans-serif; font-size: 12px; fill: rgb(42, 63, 95); fill-opacity: 1; white-space: pre; opacity: 1;\" transform=\"translate(0,331.02)\">−5</text></g><g class=\"ytick\"><text text-anchor=\"end\" x=\"62\" y=\"4.199999999999999\" style=\"font-family: 'Open Sans', verdana, arial, sans-serif; font-size: 12px; fill: rgb(42, 63, 95); fill-opacity: 1; white-space: pre; opacity: 1;\" transform=\"translate(0,271.65999999999997)\">0</text></g><g class=\"ytick\"><text text-anchor=\"end\" x=\"62\" y=\"4.199999999999999\" style=\"font-family: 'Open Sans', verdana, arial, sans-serif; font-size: 12px; fill: rgb(42, 63, 95); fill-opacity: 1; white-space: pre; opacity: 1;\" transform=\"translate(0,212.3)\">5</text></g><g class=\"ytick\"><text text-anchor=\"end\" x=\"62\" y=\"4.199999999999999\" style=\"font-family: 'Open Sans', verdana, arial, sans-serif; font-size: 12px; fill: rgb(42, 63, 95); fill-opacity: 1; white-space: pre; opacity: 1;\" transform=\"translate(0,152.95)\">10</text></g><g class=\"ytick\"><text text-anchor=\"end\" x=\"62\" y=\"4.199999999999999\" style=\"font-family: 'Open Sans', verdana, arial, sans-serif; font-size: 12px; fill: rgb(42, 63, 95); fill-opacity: 1; white-space: pre; opacity: 1;\" transform=\"translate(0,93.59)\">15</text></g></g><g class=\"overaxes-above\"/></g></g><g class=\"polarlayer\"/><g class=\"ternarylayer\"/><g class=\"geolayer\"/><g class=\"funnelarealayer\"/><g class=\"pielayer\"/><g class=\"iciclelayer\"/><g class=\"treemaplayer\"/><g class=\"sunburstlayer\"/><g class=\"glimages\"/><defs id=\"topdefs-48a9e2\"><g class=\"clips\"/></defs><g class=\"layer-above\"><g class=\"imagelayer\"/><g class=\"shapelayer\"/></g><g class=\"infolayer\"><g class=\"g-gtitle\"/><g class=\"g-xtitle\"><text class=\"xtitle\" x=\"356.5\" y=\"487.739453125\" text-anchor=\"middle\" style=\"font-family: 'Open Sans', verdana, arial, sans-serif; font-size: 14px; fill: rgb(42, 63, 95); opacity: 1; font-weight: normal; white-space: pre;\">Nation</text></g><g class=\"g-ytitle\" transform=\"translate(1.8779296875,0)\"><text class=\"ytitle\" transform=\"rotate(-90,12.121875000000003,235.5)\" x=\"12.121875000000003\" y=\"235.5\" text-anchor=\"middle\" style=\"font-family: 'Open Sans', verdana, arial, sans-serif; font-size: 14px; fill: rgb(42, 63, 95); opacity: 1; font-weight: normal; white-space: pre;\">UVB</text></g></g></svg>"
      ],
      "text/html": [
       "<div\n",
       "    class=\"webio-mountpoint\"\n",
       "    data-webio-mountpoint=\"14081921656296628040\"\n",
       ">\n",
       "    <script>\n",
       "    (function(){\n",
       "    // Some integrations (namely, IJulia/Jupyter) use an alternate render pathway than\n",
       "    // just putting the html on the page. If WebIO isn't defined, then it's pretty likely\n",
       "    // that we're in one of those situations and the integration just isn't installed\n",
       "    // correctly.\n",
       "    if (typeof window.WebIO === \"undefined\") {\n",
       "        document\n",
       "            .querySelector('[data-webio-mountpoint=\"14081921656296628040\"]')\n",
       "            .innerHTML = (\n",
       "                '<div style=\"padding: 1em; background-color: #f8d6da; border: 1px solid #f5c6cb; font-weight: bold;\">' +\n",
       "                '<p><strong>WebIO not detected.</strong></p>' +\n",
       "                '<p>Please read ' +\n",
       "                '<a href=\"https://juliagizmos.github.io/WebIO.jl/latest/troubleshooting/not-detected/\" target=\"_blank\">the troubleshooting guide</a> ' +\n",
       "                'for more information on how to resolve this issue.</p>' +\n",
       "                '<p><a href=\"https://juliagizmos.github.io/WebIO.jl/latest/troubleshooting/not-detected/\" target=\"_blank\">https://juliagizmos.github.io/WebIO.jl/latest/troubleshooting/not-detected/</a></p>' +\n",
       "                '</div>'\n",
       "            );\n",
       "        return;\n",
       "    }\n",
       "    WebIO.mount(\n",
       "        document.querySelector('[data-webio-mountpoint=\"14081921656296628040\"]'),\n",
       "        {\"props\":{},\"nodeType\":\"Scope\",\"type\":\"node\",\"instanceArgs\":{\"imports\":{\"data\":[{\"name\":\"Plotly\",\"type\":\"js\",\"url\":\"\\/assetserver\\/a1ce98aba64ebc875cd706be1c5f477c144bace2-plotly.min.js\"},{\"name\":null,\"type\":\"js\",\"url\":\"\\/assetserver\\/aa2112138e40c2a40506078cf4ea9303756a94b4-plotly_webio.bundle.js\"}],\"type\":\"async_block\"},\"id\":\"10064312398682388775\",\"handlers\":{\"_toImage\":[\"(function (options){return this.Plotly.toImage(this.plotElem,options).then((function (data){return WebIO.setval({\\\"name\\\":\\\"image\\\",\\\"scope\\\":\\\"10064312398682388775\\\",\\\"id\\\":\\\"35\\\",\\\"type\\\":\\\"observable\\\"},data)}))})\"],\"__get_gd_contents\":[\"(function (prop){prop==\\\"data\\\" ? (WebIO.setval({\\\"name\\\":\\\"__gd_contents\\\",\\\"scope\\\":\\\"10064312398682388775\\\",\\\"id\\\":\\\"36\\\",\\\"type\\\":\\\"observable\\\"},this.plotElem.data)) : undefined; return prop==\\\"layout\\\" ? (WebIO.setval({\\\"name\\\":\\\"__gd_contents\\\",\\\"scope\\\":\\\"10064312398682388775\\\",\\\"id\\\":\\\"36\\\",\\\"type\\\":\\\"observable\\\"},this.plotElem.layout)) : undefined})\"],\"_downloadImage\":[\"(function (options){return this.Plotly.downloadImage(this.plotElem,options)})\"],\"_commands\":[\"(function (args){var fn=args.shift(); var elem=this.plotElem; var Plotly=this.Plotly; args.unshift(elem); return Plotly[fn].apply(this,args)})\"]},\"systemjs_options\":null,\"mount_callbacks\":[\"function () {\\n    var handler = ((function (Plotly,PlotlyWebIO){PlotlyWebIO.init(WebIO); var gd=this.dom.querySelector(\\\"#plot-de51545f-b726-4b38-9975-0ad514b2c3fa\\\"); this.plotElem=gd; this.Plotly=Plotly; (window.Blink!==undefined) ? (gd.style.width=\\\"100%\\\", gd.style.height=\\\"100vh\\\", gd.style.marginLeft=\\\"0%\\\", gd.style.marginTop=\\\"0vh\\\") : undefined; window.onresize=(function (){return Plotly.Plots.resize(gd)}); Plotly.newPlot(gd,[{\\\"x\\\":[\\\"Belgium\\\",\\\"Belgium\\\",\\\"Belgium\\\",\\\"Belgium\\\",\\\"Belgium\\\",\\\"Belgium\\\",\\\"Belgium\\\",\\\"Belgium\\\",\\\"Belgium\\\",\\\"Belgium\\\",\\\"Belgium\\\",\\\"W.Germany\\\",\\\"W.Germany\\\",\\\"W.Germany\\\",\\\"W.Germany\\\",\\\"W.Germany\\\",\\\"W.Germany\\\",\\\"W.Germany\\\",\\\"W.Germany\\\",\\\"W.Germany\\\",\\\"W.Germany\\\",\\\"W.Germany\\\",\\\"W.Germany\\\",\\\"W.Germany\\\",\\\"W.Germany\\\",\\\"W.Germany\\\",\\\"W.Germany\\\",\\\"W.Germany\\\",\\\"W.Germany\\\",\\\"W.Germany\\\",\\\"W.Germany\\\",\\\"W.Germany\\\",\\\"W.Germany\\\",\\\"W.Germany\\\",\\\"W.Germany\\\",\\\"W.Germany\\\",\\\"W.Germany\\\",\\\"W.Germany\\\",\\\"W.Germany\\\",\\\"W.Germany\\\",\\\"W.Germany\\\",\\\"Denmark\\\",\\\"Denmark\\\",\\\"Denmark\\\",\\\"Denmark\\\",\\\"Denmark\\\",\\\"Denmark\\\",\\\"Denmark\\\",\\\"Denmark\\\",\\\"Denmark\\\",\\\"Denmark\\\",\\\"Denmark\\\",\\\"Denmark\\\",\\\"Denmark\\\",\\\"Denmark\\\",\\\"France\\\",\\\"France\\\",\\\"France\\\",\\\"France\\\",\\\"France\\\",\\\"France\\\",\\\"France\\\",\\\"France\\\",\\\"France\\\",\\\"France\\\",\\\"France\\\",\\\"France\\\",\\\"France\\\",\\\"France\\\",\\\"France\\\",\\\"France\\\",\\\"France\\\",\\\"France\\\",\\\"France\\\",\\\"France\\\",\\\"France\\\",\\\"France\\\",\\\"France\\\",\\\"France\\\",\\\"France\\\",\\\"France\\\",\\\"France\\\",\\\"France\\\",\\\"France\\\",\\\"France\\\",\\\"France\\\",\\\"France\\\",\\\"France\\\",\\\"France\\\",\\\"France\\\",\\\"France\\\",\\\"France\\\",\\\"France\\\",\\\"France\\\",\\\"France\\\",\\\"France\\\",\\\"France\\\",\\\"France\\\",\\\"France\\\",\\\"France\\\",\\\"France\\\",\\\"France\\\",\\\"France\\\",\\\"France\\\",\\\"France\\\",\\\"France\\\",\\\"France\\\",\\\"France\\\",\\\"France\\\",\\\"France\\\",\\\"France\\\",\\\"France\\\",\\\"France\\\",\\\"France\\\",\\\"France\\\",\\\"France\\\",\\\"France\\\",\\\"France\\\",\\\"France\\\",\\\"France\\\",\\\"France\\\",\\\"France\\\",\\\"France\\\",\\\"France\\\",\\\"France\\\",\\\"France\\\",\\\"France\\\",\\\"France\\\",\\\"France\\\",\\\"France\\\",\\\"France\\\",\\\"France\\\",\\\"France\\\",\\\"France\\\",\\\"France\\\",\\\"France\\\",\\\"France\\\",\\\"France\\\",\\\"France\\\",\\\"France\\\",\\\"France\\\",\\\"France\\\",\\\"France\\\",\\\"France\\\",\\\"France\\\",\\\"France\\\",\\\"France\\\",\\\"France\\\",\\\"France\\\",\\\"UK\\\",\\\"UK\\\",\\\"UK\\\",\\\"UK\\\",\\\"UK\\\",\\\"UK\\\",\\\"UK\\\",\\\"UK\\\",\\\"UK\\\",\\\"UK\\\",\\\"UK\\\",\\\"UK\\\",\\\"UK\\\",\\\"UK\\\",\\\"UK\\\",\\\"UK\\\",\\\"UK\\\",\\\"UK\\\",\\\"UK\\\",\\\"UK\\\",\\\"UK\\\",\\\"UK\\\",\\\"UK\\\",\\\"UK\\\",\\\"UK\\\",\\\"UK\\\",\\\"UK\\\",\\\"UK\\\",\\\"UK\\\",\\\"UK\\\",\\\"UK\\\",\\\"UK\\\",\\\"UK\\\",\\\"UK\\\",\\\"UK\\\",\\\"UK\\\",\\\"UK\\\",\\\"UK\\\",\\\"UK\\\",\\\"UK\\\",\\\"UK\\\",\\\"UK\\\",\\\"UK\\\",\\\"UK\\\",\\\"UK\\\",\\\"UK\\\",\\\"UK\\\",\\\"UK\\\",\\\"UK\\\",\\\"UK\\\",\\\"UK\\\",\\\"UK\\\",\\\"UK\\\",\\\"UK\\\",\\\"UK\\\",\\\"UK\\\",\\\"UK\\\",\\\"UK\\\",\\\"UK\\\",\\\"UK\\\",\\\"UK\\\",\\\"UK\\\",\\\"UK\\\",\\\"UK\\\",\\\"UK\\\",\\\"UK\\\",\\\"UK\\\",\\\"UK\\\",\\\"UK\\\",\\\"UK\\\",\\\"Italy\\\",\\\"Italy\\\",\\\"Italy\\\",\\\"Italy\\\",\\\"Italy\\\",\\\"Italy\\\",\\\"Italy\\\",\\\"Italy\\\",\\\"Italy\\\",\\\"Italy\\\",\\\"Italy\\\",\\\"Italy\\\",\\\"Italy\\\",\\\"Italy\\\",\\\"Italy\\\",\\\"Italy\\\",\\\"Italy\\\",\\\"Italy\\\",\\\"Italy\\\",\\\"Italy\\\",\\\"Italy\\\",\\\"Italy\\\",\\\"Italy\\\",\\\"Italy\\\",\\\"Italy\\\",\\\"Italy\\\",\\\"Italy\\\",\\\"Italy\\\",\\\"Italy\\\",\\\"Italy\\\",\\\"Italy\\\",\\\"Italy\\\",\\\"Italy\\\",\\\"Italy\\\",\\\"Italy\\\",\\\"Italy\\\",\\\"Italy\\\",\\\"Italy\\\",\\\"Italy\\\",\\\"Italy\\\",\\\"Italy\\\",\\\"Italy\\\",\\\"Italy\\\",\\\"Italy\\\",\\\"Italy\\\",\\\"Italy\\\",\\\"Italy\\\",\\\"Italy\\\",\\\"Italy\\\",\\\"Italy\\\",\\\"Italy\\\",\\\"Italy\\\",\\\"Italy\\\",\\\"Italy\\\",\\\"Italy\\\",\\\"Italy\\\",\\\"Italy\\\",\\\"Italy\\\",\\\"Italy\\\",\\\"Italy\\\",\\\"Italy\\\",\\\"Italy\\\",\\\"Italy\\\",\\\"Italy\\\",\\\"Italy\\\",\\\"Italy\\\",\\\"Italy\\\",\\\"Italy\\\",\\\"Italy\\\",\\\"Italy\\\",\\\"Italy\\\",\\\"Italy\\\",\\\"Italy\\\",\\\"Italy\\\",\\\"Italy\\\",\\\"Italy\\\",\\\"Italy\\\",\\\"Italy\\\",\\\"Italy\\\",\\\"Italy\\\",\\\"Italy\\\",\\\"Italy\\\",\\\"Italy\\\",\\\"Italy\\\",\\\"Italy\\\",\\\"Italy\\\",\\\"Italy\\\",\\\"Italy\\\",\\\"Italy\\\",\\\"Italy\\\",\\\"Italy\\\",\\\"Italy\\\",\\\"Italy\\\",\\\"Italy\\\",\\\"Italy\\\",\\\"Ireland\\\",\\\"Ireland\\\",\\\"Ireland\\\",\\\"Ireland\\\",\\\"Ireland\\\",\\\"Ireland\\\",\\\"Ireland\\\",\\\"Ireland\\\",\\\"Ireland\\\",\\\"Ireland\\\",\\\"Ireland\\\",\\\"Ireland\\\",\\\"Ireland\\\",\\\"Ireland\\\",\\\"Ireland\\\",\\\"Ireland\\\",\\\"Ireland\\\",\\\"Ireland\\\",\\\"Ireland\\\",\\\"Ireland\\\",\\\"Ireland\\\",\\\"Ireland\\\",\\\"Ireland\\\",\\\"Ireland\\\",\\\"Ireland\\\",\\\"Ireland\\\",\\\"Luxembourg\\\",\\\"Luxembourg\\\",\\\"Luxembourg\\\",\\\"Netherlands\\\",\\\"Netherlands\\\",\\\"Netherlands\\\",\\\"Netherlands\\\",\\\"Netherlands\\\",\\\"Netherlands\\\",\\\"Netherlands\\\",\\\"Netherlands\\\",\\\"Netherlands\\\",\\\"Netherlands\\\",\\\"Netherlands\\\"],\\\"xaxis\\\":\\\"x\\\",\\\"y\\\":[-2.9057,-3.2075,-2.8038,-3.0069,-3.0069,-3.4175,-2.6671,-2.6671,-3.1222,-2.4852,-2.5293,-1.1375,-1.3977,-0.4386,-1.0249,-0.5033,-1.4609,-1.8956,-2.5541,-1.9671,-2.3444,-0.6578,-3.8836,-4.4592,-4.8576,-2.6027,-3.5346,-4.0251,-3.9857,-4.4592,-4.1117,-3.5346,-3.2736,-3.8126,-3.6015,-3.5991,-2.9414,-2.2504,-2.3269,-2.0662,-5.1393,-5.7887,-5.8989,-5.245,-5.1866,-5.217,-5.0981,-5.4778,-5.217,-5.5612,-5.8439,-6.0623,-5.9509,-6.114,-6.1151,-0.9368,-0.0884,2.7823,3.2047,3.7856,3.5087,5.3566,1.9737,2.5436,3.0821,2.1911,-0.6221,-0.4548,-1.0124,0.9771,1.366,1.6602,0.2517,0.1042,-0.5807,-0.375,-0.06,1.452,-0.453,1.0764,0.3122,0.1511,-0.1392,-1.7997,-0.1498,-1.2866,-0.7599,0.556,1.5737,2.3619,0.2315,-1.6795,-2.1093,-0.7146,-0.6373,-0.6373,-0.4819,-0.5598,-0.7916,-0.7146,-0.9447,4.9606,6.4726,6.8973,3.8485,7.4113,2.3668,1.7567,2.0165,-1.1375,-1.2866,-1.4346,-0.836,4.9606,4.1319,4.6719,4.0649,3.2342,5.4555,4.2907,3.693,-2.6671,-2.5983,0.546,0.8774,-0.375,0.2517,1.3832,-1.7997,-1.9671,-2.0155,2.1037,2.1911,1.3294,1.4143,5.949,5.5376,6.7371,6.5751,7.6517,5.5807,2.0421,4.9771,5.077,3.0487,2.3947,2.2178,2.9576,2.4166,-4.1278,-4.1117,-3.5871,-5.349,-4.5569,-4.5581,-4.1686,-4.5581,-5.8745,-5.7101,-5.7463,-5.7101,-6.0027,-4.8949,-4.8358,-4.7168,-4.845,-3.4478,-3.9394,-3.5556,-3.7487,-2.494,-3.3243,-2.9639,-3.7487,-2.1284,-2.8121,-3.7487,-3.0985,-2.2713,-3.3399,-2.3696,-2.5787,-2.4239,-3.7487,-2.9639,-3.2739,-4.5987,-3.9394,-4.5569,-4.7772,-4.4179,-5.2817,-5.3949,-5.2609,-5.4875,-4.5581,-3.6662,-3.4712,-4.1992,-3.513,-4.4784,-3.3399,-3.5779,-7.5623,-7.1104,-6.7138,-6.5611,-6.3218,-6.456,-6.8106,-6.4214,-6.0713,-8.1163,-8.9002,-7.7158,-5.8011,-5.8943,-5.451,-5.6191,6.1548,5.8535,6.0541,6.2558,9.1951,9.1951,10.38,10.832,11.54,8.0301,8.0301,8.2438,8.2438,8.4584,2.1828,3.5676,3.7546,3.1433,3.3254,3.0526,3.4169,3.6007,1.9864,2.0737,2.6858,2.0737,5.3026,5.3026,7.5343,7.961,7.8539,6.7371,4.4435,4.3472,4.7941,1.5821,1.4973,1.2448,1.8379,1.6671,1.7524,2.0962,3.3818,3.2893,3.8784,4.3196,4.6044,5.6539,8.1386,8.0307,2.7823,2.6035,1.8379,3.4169,3.0526,2.9622,8.5727,8.7536,9.4174,9.3061,9.5289,9.5634,10.203,10.38,9.7085,13.104,12.983,11.312,12.769,12.652,12.535,12.652,13.359,13.122,4.7941,4.9901,5.4666,5.5673,5.2862,5.0885,5.8711,6.0751,6.6938,1.2744,1.614,4.6307,5.1093,2.2492,1.8379,2.4836,1.8994,2.3947,2.5727,2.6622,2.7823,-5.322,-5.9527,-5.6017,-5.4906,-5.9527,-4.6169,-4.7764,-4.7168,-4.5569,-4.9944,-5.2993,-5.6963,-5.2423,-5.1101,-5.185,-3.8836,-4.5968,-4.7772,-4.1911,-4.4179,-4.5987,-4.5569,-4.314,-5.751,-5.9293,-5.8596,-2.3466,-2.3678,-2.2769,-4.972,-4.8547,-4.7363,-4.1278,-3.8761,-3.9394,-4.2127,-4.1911,-3.8761,-3.6846,-3.6436],\\\"type\\\":\\\"violin\\\",\\\"yaxis\\\":\\\"y\\\",\\\"marker\\\":{\\\"color\\\":\\\"teal\\\"}}],{\\\"xaxis\\\":{\\\"title\\\":{\\\"text\\\":\\\"Nation\\\"}},\\\"template\\\":{\\\"layout\\\":{\\\"coloraxis\\\":{\\\"colorbar\\\":{\\\"ticks\\\":\\\"\\\",\\\"outlinewidth\\\":0}},\\\"xaxis\\\":{\\\"gridcolor\\\":\\\"white\\\",\\\"zerolinewidth\\\":2,\\\"title\\\":{\\\"standoff\\\":15},\\\"ticks\\\":\\\"\\\",\\\"zerolinecolor\\\":\\\"white\\\",\\\"automargin\\\":true,\\\"linecolor\\\":\\\"white\\\"},\\\"hovermode\\\":\\\"closest\\\",\\\"paper_bgcolor\\\":\\\"white\\\",\\\"geo\\\":{\\\"showlakes\\\":true,\\\"showland\\\":true,\\\"landcolor\\\":\\\"#E5ECF6\\\",\\\"bgcolor\\\":\\\"white\\\",\\\"subunitcolor\\\":\\\"white\\\",\\\"lakecolor\\\":\\\"white\\\"},\\\"colorscale\\\":{\\\"sequential\\\":[[0.0,\\\"#0d0887\\\"],[0.1111111111111111,\\\"#46039f\\\"],[0.2222222222222222,\\\"#7201a8\\\"],[0.3333333333333333,\\\"#9c179e\\\"],[0.4444444444444444,\\\"#bd3786\\\"],[0.5555555555555556,\\\"#d8576b\\\"],[0.6666666666666666,\\\"#ed7953\\\"],[0.7777777777777778,\\\"#fb9f3a\\\"],[0.8888888888888888,\\\"#fdca26\\\"],[1.0,\\\"#f0f921\\\"]],\\\"diverging\\\":[[0,\\\"#8e0152\\\"],[0.1,\\\"#c51b7d\\\"],[0.2,\\\"#de77ae\\\"],[0.3,\\\"#f1b6da\\\"],[0.4,\\\"#fde0ef\\\"],[0.5,\\\"#f7f7f7\\\"],[0.6,\\\"#e6f5d0\\\"],[0.7,\\\"#b8e186\\\"],[0.8,\\\"#7fbc41\\\"],[0.9,\\\"#4d9221\\\"],[1,\\\"#276419\\\"]],\\\"sequentialminus\\\":[[0.0,\\\"#0d0887\\\"],[0.1111111111111111,\\\"#46039f\\\"],[0.2222222222222222,\\\"#7201a8\\\"],[0.3333333333333333,\\\"#9c179e\\\"],[0.4444444444444444,\\\"#bd3786\\\"],[0.5555555555555556,\\\"#d8576b\\\"],[0.6666666666666666,\\\"#ed7953\\\"],[0.7777777777777778,\\\"#fb9f3a\\\"],[0.8888888888888888,\\\"#fdca26\\\"],[1.0,\\\"#f0f921\\\"]]},\\\"yaxis\\\":{\\\"gridcolor\\\":\\\"white\\\",\\\"zerolinewidth\\\":2,\\\"title\\\":{\\\"standoff\\\":15},\\\"ticks\\\":\\\"\\\",\\\"zerolinecolor\\\":\\\"white\\\",\\\"automargin\\\":true,\\\"linecolor\\\":\\\"white\\\"},\\\"shapedefaults\\\":{\\\"line\\\":{\\\"color\\\":\\\"#2a3f5f\\\"}},\\\"hoverlabel\\\":{\\\"align\\\":\\\"left\\\"},\\\"mapbox\\\":{\\\"style\\\":\\\"light\\\"},\\\"polar\\\":{\\\"angularaxis\\\":{\\\"gridcolor\\\":\\\"white\\\",\\\"ticks\\\":\\\"\\\",\\\"linecolor\\\":\\\"white\\\"},\\\"bgcolor\\\":\\\"#E5ECF6\\\",\\\"radialaxis\\\":{\\\"gridcolor\\\":\\\"white\\\",\\\"ticks\\\":\\\"\\\",\\\"linecolor\\\":\\\"white\\\"}},\\\"autotypenumbers\\\":\\\"strict\\\",\\\"font\\\":{\\\"color\\\":\\\"#2a3f5f\\\"},\\\"ternary\\\":{\\\"baxis\\\":{\\\"gridcolor\\\":\\\"white\\\",\\\"ticks\\\":\\\"\\\",\\\"linecolor\\\":\\\"white\\\"},\\\"bgcolor\\\":\\\"#E5ECF6\\\",\\\"caxis\\\":{\\\"gridcolor\\\":\\\"white\\\",\\\"ticks\\\":\\\"\\\",\\\"linecolor\\\":\\\"white\\\"},\\\"aaxis\\\":{\\\"gridcolor\\\":\\\"white\\\",\\\"ticks\\\":\\\"\\\",\\\"linecolor\\\":\\\"white\\\"}},\\\"annotationdefaults\\\":{\\\"arrowhead\\\":0,\\\"arrowwidth\\\":1,\\\"arrowcolor\\\":\\\"#2a3f5f\\\"},\\\"plot_bgcolor\\\":\\\"#E5ECF6\\\",\\\"title\\\":{\\\"x\\\":0.05},\\\"scene\\\":{\\\"xaxis\\\":{\\\"gridcolor\\\":\\\"white\\\",\\\"gridwidth\\\":2,\\\"backgroundcolor\\\":\\\"#E5ECF6\\\",\\\"ticks\\\":\\\"\\\",\\\"showbackground\\\":true,\\\"zerolinecolor\\\":\\\"white\\\",\\\"linecolor\\\":\\\"white\\\"},\\\"zaxis\\\":{\\\"gridcolor\\\":\\\"white\\\",\\\"gridwidth\\\":2,\\\"backgroundcolor\\\":\\\"#E5ECF6\\\",\\\"ticks\\\":\\\"\\\",\\\"showbackground\\\":true,\\\"zerolinecolor\\\":\\\"white\\\",\\\"linecolor\\\":\\\"white\\\"},\\\"yaxis\\\":{\\\"gridcolor\\\":\\\"white\\\",\\\"gridwidth\\\":2,\\\"backgroundcolor\\\":\\\"#E5ECF6\\\",\\\"ticks\\\":\\\"\\\",\\\"showbackground\\\":true,\\\"zerolinecolor\\\":\\\"white\\\",\\\"linecolor\\\":\\\"white\\\"}},\\\"colorway\\\":[\\\"#636efa\\\",\\\"#EF553B\\\",\\\"#00cc96\\\",\\\"#ab63fa\\\",\\\"#FFA15A\\\",\\\"#19d3f3\\\",\\\"#FF6692\\\",\\\"#B6E880\\\",\\\"#FF97FF\\\",\\\"#FECB52\\\"]},\\\"data\\\":{\\\"barpolar\\\":[{\\\"type\\\":\\\"barpolar\\\",\\\"marker\\\":{\\\"line\\\":{\\\"color\\\":\\\"#E5ECF6\\\",\\\"width\\\":0.5}}}],\\\"carpet\\\":[{\\\"aaxis\\\":{\\\"gridcolor\\\":\\\"white\\\",\\\"endlinecolor\\\":\\\"#2a3f5f\\\",\\\"minorgridcolor\\\":\\\"white\\\",\\\"startlinecolor\\\":\\\"#2a3f5f\\\",\\\"linecolor\\\":\\\"white\\\"},\\\"type\\\":\\\"carpet\\\",\\\"baxis\\\":{\\\"gridcolor\\\":\\\"white\\\",\\\"endlinecolor\\\":\\\"#2a3f5f\\\",\\\"minorgridcolor\\\":\\\"white\\\",\\\"startlinecolor\\\":\\\"#2a3f5f\\\",\\\"linecolor\\\":\\\"white\\\"}}],\\\"scatterpolar\\\":[{\\\"type\\\":\\\"scatterpolar\\\",\\\"marker\\\":{\\\"colorbar\\\":{\\\"ticks\\\":\\\"\\\",\\\"outlinewidth\\\":0}}}],\\\"parcoords\\\":[{\\\"line\\\":{\\\"colorbar\\\":{\\\"ticks\\\":\\\"\\\",\\\"outlinewidth\\\":0}},\\\"type\\\":\\\"parcoords\\\"}],\\\"scatter\\\":[{\\\"type\\\":\\\"scatter\\\",\\\"marker\\\":{\\\"colorbar\\\":{\\\"ticks\\\":\\\"\\\",\\\"outlinewidth\\\":0}}}],\\\"histogram2dcontour\\\":[{\\\"colorbar\\\":{\\\"ticks\\\":\\\"\\\",\\\"outlinewidth\\\":0},\\\"type\\\":\\\"histogram2dcontour\\\",\\\"colorscale\\\":[[0.0,\\\"#0d0887\\\"],[0.1111111111111111,\\\"#46039f\\\"],[0.2222222222222222,\\\"#7201a8\\\"],[0.3333333333333333,\\\"#9c179e\\\"],[0.4444444444444444,\\\"#bd3786\\\"],[0.5555555555555556,\\\"#d8576b\\\"],[0.6666666666666666,\\\"#ed7953\\\"],[0.7777777777777778,\\\"#fb9f3a\\\"],[0.8888888888888888,\\\"#fdca26\\\"],[1.0,\\\"#f0f921\\\"]]}],\\\"contour\\\":[{\\\"colorbar\\\":{\\\"ticks\\\":\\\"\\\",\\\"outlinewidth\\\":0},\\\"type\\\":\\\"contour\\\",\\\"colorscale\\\":[[0.0,\\\"#0d0887\\\"],[0.1111111111111111,\\\"#46039f\\\"],[0.2222222222222222,\\\"#7201a8\\\"],[0.3333333333333333,\\\"#9c179e\\\"],[0.4444444444444444,\\\"#bd3786\\\"],[0.5555555555555556,\\\"#d8576b\\\"],[0.6666666666666666,\\\"#ed7953\\\"],[0.7777777777777778,\\\"#fb9f3a\\\"],[0.8888888888888888,\\\"#fdca26\\\"],[1.0,\\\"#f0f921\\\"]]}],\\\"scattercarpet\\\":[{\\\"type\\\":\\\"scattercarpet\\\",\\\"marker\\\":{\\\"colorbar\\\":{\\\"ticks\\\":\\\"\\\",\\\"outlinewidth\\\":0}}}],\\\"mesh3d\\\":[{\\\"colorbar\\\":{\\\"ticks\\\":\\\"\\\",\\\"outlinewidth\\\":0},\\\"type\\\":\\\"mesh3d\\\"}],\\\"surface\\\":[{\\\"colorbar\\\":{\\\"ticks\\\":\\\"\\\",\\\"outlinewidth\\\":0},\\\"type\\\":\\\"surface\\\",\\\"colorscale\\\":[[0.0,\\\"#0d0887\\\"],[0.1111111111111111,\\\"#46039f\\\"],[0.2222222222222222,\\\"#7201a8\\\"],[0.3333333333333333,\\\"#9c179e\\\"],[0.4444444444444444,\\\"#bd3786\\\"],[0.5555555555555556,\\\"#d8576b\\\"],[0.6666666666666666,\\\"#ed7953\\\"],[0.7777777777777778,\\\"#fb9f3a\\\"],[0.8888888888888888,\\\"#fdca26\\\"],[1.0,\\\"#f0f921\\\"]]}],\\\"scattermapbox\\\":[{\\\"type\\\":\\\"scattermapbox\\\",\\\"marker\\\":{\\\"colorbar\\\":{\\\"ticks\\\":\\\"\\\",\\\"outlinewidth\\\":0}}}],\\\"scattergeo\\\":[{\\\"type\\\":\\\"scattergeo\\\",\\\"marker\\\":{\\\"colorbar\\\":{\\\"ticks\\\":\\\"\\\",\\\"outlinewidth\\\":0}}}],\\\"histogram\\\":[{\\\"type\\\":\\\"histogram\\\",\\\"marker\\\":{\\\"colorbar\\\":{\\\"ticks\\\":\\\"\\\",\\\"outlinewidth\\\":0}}}],\\\"pie\\\":[{\\\"type\\\":\\\"pie\\\",\\\"automargin\\\":true}],\\\"choropleth\\\":[{\\\"colorbar\\\":{\\\"ticks\\\":\\\"\\\",\\\"outlinewidth\\\":0},\\\"type\\\":\\\"choropleth\\\"}],\\\"heatmapgl\\\":[{\\\"colorbar\\\":{\\\"ticks\\\":\\\"\\\",\\\"outlinewidth\\\":0},\\\"type\\\":\\\"heatmapgl\\\",\\\"colorscale\\\":[[0.0,\\\"#0d0887\\\"],[0.1111111111111111,\\\"#46039f\\\"],[0.2222222222222222,\\\"#7201a8\\\"],[0.3333333333333333,\\\"#9c179e\\\"],[0.4444444444444444,\\\"#bd3786\\\"],[0.5555555555555556,\\\"#d8576b\\\"],[0.6666666666666666,\\\"#ed7953\\\"],[0.7777777777777778,\\\"#fb9f3a\\\"],[0.8888888888888888,\\\"#fdca26\\\"],[1.0,\\\"#f0f921\\\"]]}],\\\"bar\\\":[{\\\"type\\\":\\\"bar\\\",\\\"error_y\\\":{\\\"color\\\":\\\"#2a3f5f\\\"},\\\"error_x\\\":{\\\"color\\\":\\\"#2a3f5f\\\"},\\\"marker\\\":{\\\"line\\\":{\\\"color\\\":\\\"#E5ECF6\\\",\\\"width\\\":0.5}}}],\\\"heatmap\\\":[{\\\"colorbar\\\":{\\\"ticks\\\":\\\"\\\",\\\"outlinewidth\\\":0},\\\"type\\\":\\\"heatmap\\\",\\\"colorscale\\\":[[0.0,\\\"#0d0887\\\"],[0.1111111111111111,\\\"#46039f\\\"],[0.2222222222222222,\\\"#7201a8\\\"],[0.3333333333333333,\\\"#9c179e\\\"],[0.4444444444444444,\\\"#bd3786\\\"],[0.5555555555555556,\\\"#d8576b\\\"],[0.6666666666666666,\\\"#ed7953\\\"],[0.7777777777777778,\\\"#fb9f3a\\\"],[0.8888888888888888,\\\"#fdca26\\\"],[1.0,\\\"#f0f921\\\"]]}],\\\"contourcarpet\\\":[{\\\"colorbar\\\":{\\\"ticks\\\":\\\"\\\",\\\"outlinewidth\\\":0},\\\"type\\\":\\\"contourcarpet\\\"}],\\\"table\\\":[{\\\"type\\\":\\\"table\\\",\\\"header\\\":{\\\"line\\\":{\\\"color\\\":\\\"white\\\"},\\\"fill\\\":{\\\"color\\\":\\\"#C8D4E3\\\"}},\\\"cells\\\":{\\\"line\\\":{\\\"color\\\":\\\"white\\\"},\\\"fill\\\":{\\\"color\\\":\\\"#EBF0F8\\\"}}}],\\\"scatter3d\\\":[{\\\"line\\\":{\\\"colorbar\\\":{\\\"ticks\\\":\\\"\\\",\\\"outlinewidth\\\":0}},\\\"type\\\":\\\"scatter3d\\\",\\\"marker\\\":{\\\"colorbar\\\":{\\\"ticks\\\":\\\"\\\",\\\"outlinewidth\\\":0}}}],\\\"scattergl\\\":[{\\\"type\\\":\\\"scattergl\\\",\\\"marker\\\":{\\\"colorbar\\\":{\\\"ticks\\\":\\\"\\\",\\\"outlinewidth\\\":0}}}],\\\"histogram2d\\\":[{\\\"colorbar\\\":{\\\"ticks\\\":\\\"\\\",\\\"outlinewidth\\\":0},\\\"type\\\":\\\"histogram2d\\\",\\\"colorscale\\\":[[0.0,\\\"#0d0887\\\"],[0.1111111111111111,\\\"#46039f\\\"],[0.2222222222222222,\\\"#7201a8\\\"],[0.3333333333333333,\\\"#9c179e\\\"],[0.4444444444444444,\\\"#bd3786\\\"],[0.5555555555555556,\\\"#d8576b\\\"],[0.6666666666666666,\\\"#ed7953\\\"],[0.7777777777777778,\\\"#fb9f3a\\\"],[0.8888888888888888,\\\"#fdca26\\\"],[1.0,\\\"#f0f921\\\"]]}],\\\"scatterternary\\\":[{\\\"type\\\":\\\"scatterternary\\\",\\\"marker\\\":{\\\"colorbar\\\":{\\\"ticks\\\":\\\"\\\",\\\"outlinewidth\\\":0}}}],\\\"scatterpolargl\\\":[{\\\"type\\\":\\\"scatterpolargl\\\",\\\"marker\\\":{\\\"colorbar\\\":{\\\"ticks\\\":\\\"\\\",\\\"outlinewidth\\\":0}}}]}},\\\"legend\\\":{\\\"tracegroupgap\\\":0},\\\"margin\\\":{\\\"l\\\":50,\\\"b\\\":50,\\\"r\\\":50,\\\"t\\\":60},\\\"yaxis\\\":{\\\"title\\\":{\\\"text\\\":\\\"UVB\\\"}}},{\\\"showLink\\\":false,\\\"editable\\\":false,\\\"responsive\\\":true,\\\"staticPlot\\\":false,\\\"scrollZoom\\\":true}); gd.on(\\\"plotly_hover\\\",(function (data){var filtered_data=WebIO.PlotlyCommands.filterEventData(gd,data,\\\"hover\\\"); return !(filtered_data.isnil) ? (WebIO.setval({\\\"name\\\":\\\"hover\\\",\\\"scope\\\":\\\"10064312398682388775\\\",\\\"id\\\":\\\"31\\\",\\\"type\\\":\\\"observable\\\"},filtered_data.out)) : undefined})); gd.on(\\\"plotly_unhover\\\",(function (){return WebIO.setval({\\\"name\\\":\\\"hover\\\",\\\"scope\\\":\\\"10064312398682388775\\\",\\\"id\\\":\\\"31\\\",\\\"type\\\":\\\"observable\\\"},{})})); gd.on(\\\"plotly_selected\\\",(function (data){var filtered_data=WebIO.PlotlyCommands.filterEventData(gd,data,\\\"selected\\\"); return !(filtered_data.isnil) ? (WebIO.setval({\\\"name\\\":\\\"selected\\\",\\\"scope\\\":\\\"10064312398682388775\\\",\\\"id\\\":\\\"32\\\",\\\"type\\\":\\\"observable\\\"},filtered_data.out)) : undefined})); gd.on(\\\"plotly_deselect\\\",(function (){return WebIO.setval({\\\"name\\\":\\\"selected\\\",\\\"scope\\\":\\\"10064312398682388775\\\",\\\"id\\\":\\\"32\\\",\\\"type\\\":\\\"observable\\\"},{})})); gd.on(\\\"plotly_relayout\\\",(function (data){var filtered_data=WebIO.PlotlyCommands.filterEventData(gd,data,\\\"relayout\\\"); return !(filtered_data.isnil) ? (WebIO.setval({\\\"name\\\":\\\"relayout\\\",\\\"scope\\\":\\\"10064312398682388775\\\",\\\"id\\\":\\\"34\\\",\\\"type\\\":\\\"observable\\\"},filtered_data.out)) : undefined})); return gd.on(\\\"plotly_click\\\",(function (data){var filtered_data=WebIO.PlotlyCommands.filterEventData(gd,data,\\\"click\\\"); return !(filtered_data.isnil) ? (WebIO.setval({\\\"name\\\":\\\"click\\\",\\\"scope\\\":\\\"10064312398682388775\\\",\\\"id\\\":\\\"33\\\",\\\"type\\\":\\\"observable\\\"},filtered_data.out)) : undefined}))}));\\n    (WebIO.importBlock({\\\"data\\\":[{\\\"name\\\":\\\"Plotly\\\",\\\"type\\\":\\\"js\\\",\\\"url\\\":\\\"\\/assetserver\\/a1ce98aba64ebc875cd706be1c5f477c144bace2-plotly.min.js\\\"},{\\\"name\\\":null,\\\"type\\\":\\\"js\\\",\\\"url\\\":\\\"\\/assetserver\\/aa2112138e40c2a40506078cf4ea9303756a94b4-plotly_webio.bundle.js\\\"}],\\\"type\\\":\\\"async_block\\\"})).then((imports) => handler.apply(this, imports));\\n}\\n\"],\"observables\":{\"_toImage\":{\"sync\":false,\"id\":\"38\",\"value\":{}},\"hover\":{\"sync\":false,\"id\":\"31\",\"value\":{}},\"selected\":{\"sync\":false,\"id\":\"32\",\"value\":{}},\"__gd_contents\":{\"sync\":false,\"id\":\"36\",\"value\":{}},\"click\":{\"sync\":false,\"id\":\"33\",\"value\":{}},\"image\":{\"sync\":true,\"id\":\"35\",\"value\":\"\"},\"__get_gd_contents\":{\"sync\":false,\"id\":\"40\",\"value\":\"\"},\"_downloadImage\":{\"sync\":false,\"id\":\"39\",\"value\":{}},\"relayout\":{\"sync\":false,\"id\":\"34\",\"value\":{}},\"_commands\":{\"sync\":false,\"id\":\"37\",\"value\":[]}}},\"children\":[{\"props\":{\"id\":\"plot-de51545f-b726-4b38-9975-0ad514b2c3fa\"},\"nodeType\":\"DOM\",\"type\":\"node\",\"instanceArgs\":{\"namespace\":\"html\",\"tag\":\"div\"},\"children\":[]}]},\n",
       "        window,\n",
       "    );\n",
       "    })()\n",
       "    </script>\n",
       "</div>\n"
      ],
      "text/plain": [
       "data: [\n",
       "  \"violin with fields marker, type, x, xaxis, y, and yaxis\"\n",
       "]\n",
       "\n",
       "layout: \"layout with fields legend, margin, template, xaxis, and yaxis\"\n",
       "\n"
      ]
     },
     "metadata": {},
     "output_type": "display_data"
    }
   ],
   "source": [
    "vl = plot(melanoma, x=:Nation, y=:UVB, kind=\"violin\",  marker_color=:teal)"
   ]
  },
  {
   "cell_type": "markdown",
   "metadata": {},
   "source": [
    "Create a figure that contains a) a histogram depicting standardized UVB. b) a scatter plot between Deaths and Expected. "
   ]
  },
  {
   "cell_type": "code",
   "execution_count": 8,
   "metadata": {},
   "outputs": [
    {
     "name": "stdout",
     "output_type": "stream",
     "text": [
      "5.519752890791739e-17"
     ]
    },
    {
     "data": {
      "text/plain": [
       "1.0"
      ]
     },
     "metadata": {},
     "output_type": "display_data"
    }
   ],
   "source": [
    "using Statistics\n",
    "melanoma.UVB_std = (melanoma.UVB .- mean(melanoma.UVB))/std(melanoma.UVB)\n",
    "print(mean(melanoma.UVB_std))\n",
    "std(melanoma.UVB_std)"
   ]
  },
  {
   "cell_type": "code",
   "execution_count": 9,
   "metadata": {},
   "outputs": [
    {
     "data": {
      "application/vnd.plotly.v1+json": {
       "config": {
        "editable": false,
        "responsive": true,
        "scrollZoom": true,
        "showLink": false,
        "staticPlot": false
       },
       "data": [
        {
         "marker": {
          "color": "darkorange"
         },
         "nbinsx": 50,
         "showlegend": false,
         "type": "histogram",
         "x": [
          -0.5860017037824012,
          -0.6468623918685508,
          -0.5654526510455601,
          -0.6064095952148675,
          -0.6064095952148675,
          -0.6892107831809808,
          -0.5378858648912307,
          -0.5378858648912307,
          -0.6296608786354541,
          -0.5012040916544162,
          -0.5100972538300266,
          -0.22942824893173988,
          -0.28189992235790323,
          -0.08848876946384754,
          -0.20672144482802735,
          -0.10153610716820101,
          -0.2946447715528822,
          -0.3823059415696125,
          -0.5150983971850183,
          -0.3967245605164637,
          -0.472810503574463,
          -0.1326924236337746,
          -0.7832040459939507,
          -0.899278969991259,
          -0.9796199180811263,
          -0.5248990248887521,
          -0.7128250528128168,
          -0.8117387953782785,
          -0.8037934305320417,
          -0.899278969991259,
          -0.8292024653194996,
          -0.7128250528128168,
          -0.6601920521816538,
          -0.7688862565502244,
          -0.7263160403309196,
          -0.7258320587159204,
          -0.5932009303055142,
          -0.4538545569869944,
          -0.4692814709650939,
          -0.41670896803580565,
          -1.0364272601416575,
          -1.1673846188001915,
          -1.1896074412889046,
          -1.0577426171022473,
          -1.0459657311372668,
          -1.0520961649272567,
          -1.0281189090841711,
          -1.1046888337571699,
          -1.0520961649272567,
          -1.1215071948783921,
          -1.1785161959451729,
          -1.2225585229101001,
          -1.2000937096138873,
          -1.232984293533208,
          -1.2332061184400827,
          -0.1889552863774317,
          -0.017867785475214136,
          0.5610347237657052,
          0.6462154880055645,
          0.7633592047359962,
          0.7075198259054634,
          1.0801655035542232,
          0.39797325131222433,
          0.5128987189739096,
          0.6214920938393553,
          0.44181391927090197,
          -0.12549319711066145,
          -0.09175564536509215,
          -0.20420070724990652,
          0.19699988568380614,
          0.2754250732143017,
          0.3347531528529537,
          0.05071644255029764,
          0.020971739128471743,
          -0.11714451425192525,
          -0.07566325666636872,
          -0.01214066969772359,
          0.292767747751773,
          -0.09139265915384276,
          0.2170246250043981,
          0.0629168124284025,
          0.030429546521581134,
          -0.02811206299269722,
          -0.3629668428702694,
          -0.03024964845894369,
          -0.25949560676356526,
          -0.1532818081718656,
          0.11208127815207133,
          0.3173096488123575,
          0.47625727753834507,
          0.04664293062405437,
          -0.33872743031905944,
          -0.4254004712051664,
          -0.14414665518875566,
          -0.1285584140056564,
          -0.1285584140056564,
          -0.09722060443445812,
          -0.1129298410213072,
          -0.15967439866998004,
          -0.14414665518875566,
          -0.19054839252680406,
          1.0003085370793552,
          1.3052169545288517,
          1.3908615344830855,
          0.7760435562291002,
          1.494514263695414,
          0.4772454066689685,
          0.35421324695604656,
          0.4066042567797101,
          -0.22942824893173988,
          -0.25949560676356526,
          -0.289341139688516,
          -0.16862805854746524,
          1.0003085370793552,
          0.8331937186002559,
          0.9420895819750762,
          0.8196825651815282,
          0.6521644286899297,
          1.1001095792723152,
          0.865217168792703,
          0.744685580757277,
          -0.5378858648912307,
          -0.5240117252612536,
          0.11006468808957466,
          0.17689448276071432,
          -0.07566325666636872,
          0.05071644255029764,
          0.2788936081217959,
          -0.3629668428702694,
          -0.3967245605164637,
          -0.40648485641894755,
          0.42418892212468107,
          0.44181391927090197,
          0.26804435358556383,
          0.28516520321616057,
          1.1996282988565259,
          1.116665783685413,
          1.3585557616818886,
          1.3258870026694425,
          1.542993088797834,
          1.1253572868547737,
          0.4117667273397016,
          1.0036359106824746,
          1.0237816454068163,
          0.6147566830306165,
          0.48287169294333415,
          0.4471982147377681,
          0.5963855475612717,
          0.48728802518020187,
          -0.8324491753201192,
          -0.8292024653194996,
          -0.7234121506409243,
          -1.0787151537522128,
          -0.9189810549018513,
          -0.919223045709351,
          -0.8406768627751056,
          -0.919223045709351,
          -1.1846869615364128,
          -1.1515342209089674,
          -1.1588342769352054,
          -1.1515342209089674,
          -1.21053964613762,
          -0.9871417990142388,
          -0.9752237517448835,
          -0.9512263300011732,
          -0.9770790146023804,
          -0.6953210510703457,
          -0.7944566185426821,
          -0.7170598919440598,
          -0.7560002460508706,
          -0.5029786909094133,
          -0.6704161637985119,
          -0.5977382579461319,
          -0.7560002460508706,
          -0.429252158224535,
          -0.5671264207974324,
          -0.7560002460508706,
          -0.624881560187337,
          -0.4580692302176124,
          -0.6735620442960066,
          -0.47789231053195474,
          -0.5200592087387601,
          -0.4888423945713116,
          -0.7560002460508706,
          -0.5977382579461319,
          -0.6602525498835286,
          -0.9274104013630875,
          -0.7944566185426821,
          -0.9189810549018513,
          -0.9634065339786531,
          -0.8909504530331478,
          -1.06514350263161,
          -1.0879713021390724,
          -1.0609489953016171,
          -1.1066449261177915,
          -0.919223045709351,
          -0.739363378035273,
          -0.700039871816588,
          -0.8468476283663455,
          -0.708469218277824,
          -0.9031508229112525,
          -0.6735620442960066,
          -0.7215568877834274,
          -1.5250470322846008,
          -1.4339173273603765,
          -1.3539393654817584,
          -1.323146035227434,
          -1.2748890350318889,
          -1.3019516736705943,
          -1.373459957286726,
          -1.2949742720543558,
          -1.2243734539663473,
          -1.6367661217469165,
          -1.7948466167460304,
          -1.5560016897439246,
          -1.1698851904776872,
          -1.1886798098601563,
          -1.0992843723896786,
          -1.1331832513402478,
          1.2411297223427074,
          1.180369863759683,
          1.220822660413366,
          1.2614972819739239,
          1.8542335990435703,
          1.8542335990435703,
          2.093179355548801,
          2.1843292263736505,
          2.3271038027984146,
          1.619300856762708,
          1.619300856762708,
          1.6623953863982621,
          1.6623953863982621,
          1.7056714091394405,
          0.4401401495190297,
          0.7193975413735687,
          0.7571077755422564,
          0.6338336250218349,
          0.6705557300598993,
          0.6155431531549902,
          0.6890075291317439,
          0.7260724544804327,
          0.4005343206915951,
          0.4181391519371911,
          0.5415746296626123,
          0.4181391519371911,
          1.0692759172167412,
          1.0692759172167412,
          1.5193183214641233,
          1.6053662194308562,
          1.5837685398615169,
          1.3585557616818886,
          0.8960306649476523,
          0.8766109026458092,
          0.9667323125387856,
          0.3190035844648547,
          0.30190290073488296,
          0.250984001656842,
          0.3705879582635196,
          0.33614459999607643,
          0.35334611322917303,
          0.4226764795778086,
          0.6819292980123806,
          0.6632758399342863,
          0.7820731605159652,
          0.8710451140733185,
          0.9284775990532237,
          1.1401187261122492,
          1.641180858940797,
          1.6194218521664578,
          0.5610347237657052,
          0.5249780934482646,
          0.3705879582635196,
          0.6890075291317439,
          0.6155431531549902,
          0.5973131789900203,
          1.7287210335537775,
          1.7652011477843423,
          1.8990623961328714,
          1.8766177487372835,
          1.9215473753297092,
          1.9285046110453226,
          2.0574857114426095,
          2.093179355548801,
          1.9577653328521496,
          2.642498488572894,
          2.6180977488166843,
          2.2811255493734905,
          2.5749427214792555,
          2.5513486177480442,
          2.5277545140168334,
          2.5513486177480442,
          2.693921535166559,
          2.646128350685388,
          0.9667323125387856,
          1.0062574777637203,
          1.1023479942416865,
          1.1226550561710282,
          1.0659687095142467,
          1.0261007239786875,
          1.183919062269677,
          1.225057499544609,
          1.3498239267112782,
          0.25695310824183215,
          0.3254365067642191,
          0.9337812309175899,
          1.0302952313086806,
          0.45353030753400764,
          0.3705879582635196,
          0.5007991785989296,
          0.3829899871478741,
          0.48287169294333415,
          0.5187669960557749,
          0.5368154771151201,
          0.5610347237657052,
          -1.0732703605834717,
          -1.2004566958251368,
          -1.1296743846315036,
          -1.1072700690371655,
          -1.2004566958251368,
          -0.9310805952768315,
          -0.9632452067736533,
          -0.9512263300011732,
          -0.9189810549018513,
          -1.0072068701360808,
          -1.068692701141604,
          -1.148751326622722,
          -1.0571981377853732,
          -1.0305388171591672,
          -1.0456430767272673,
          -0.7832040459939507,
          -0.9270272492512132,
          -0.9634065339786531,
          -0.8452141904157231,
          -0.8909504530331478,
          -0.9274104013630875,
          -0.9189810549018513,
          -0.8699980822838073,
          -1.159782074264579,
          -1.1957378750788945,
          -1.1816822423432929,
          -0.47325415338821236,
          -0.4775293243207053,
          -0.4591985206526105,
          -1.0026897083960884,
          -0.9790351069630023,
          -0.9551586806230417,
          -0.8324491753201192,
          -0.7816916034470782,
          -0.7944566185426821,
          -0.849570024950716,
          -0.8452141904157231,
          -0.7816916034470782,
          -0.7430739037502669,
          -0.7348058844940306
         ],
         "xaxis": "x",
         "yaxis": "y"
        },
        {
         "marker": {
          "color": "salmon"
         },
         "mode": "markers",
         "showlegend": false,
         "type": "scatter",
         "x": [
          79,
          80,
          51,
          43,
          89,
          19,
          19,
          15,
          33,
          9,
          12,
          156,
          110,
          77,
          56,
          220,
          46,
          47,
          50,
          90,
          62,
          85,
          141,
          38,
          121,
          218,
          50,
          97,
          98,
          75,
          85,
          209,
          127,
          98,
          58,
          151,
          66,
          25,
          91,
          42,
          160,
          209,
          43,
          28,
          41,
          42,
          6,
          57,
          20,
          21,
          31,
          23,
          79,
          24,
          57,
          33,
          20,
          15,
          29,
          9,
          7,
          14,
          17,
          7,
          8,
          10,
          13,
          9,
          7,
          13,
          8,
          19,
          9,
          16,
          44,
          14,
          24,
          12,
          13,
          11,
          14,
          5,
          13,
          11,
          8,
          16,
          3,
          9,
          13,
          8,
          3,
          12,
          42,
          77,
          15,
          40,
          16,
          34,
          30,
          41,
          18,
          5,
          16,
          18,
          2,
          11,
          5,
          9,
          11,
          14,
          7,
          28,
          10,
          5,
          7,
          13,
          7,
          5,
          9,
          3,
          7,
          63,
          35,
          25,
          17,
          6,
          12,
          14,
          9,
          8,
          10,
          12,
          19,
          9,
          4,
          3,
          1,
          22,
          44,
          17,
          11,
          12,
          10,
          14,
          22,
          22,
          50,
          5,
          18,
          20,
          27,
          28,
          31,
          32,
          16,
          28,
          35,
          31,
          9,
          18,
          23,
          11,
          65,
          52,
          34,
          43,
          313,
          27,
          24,
          20,
          36,
          74,
          65,
          45,
          10,
          69,
          29,
          53,
          39,
          33,
          28,
          47,
          27,
          22,
          21,
          21,
          97,
          27,
          15,
          26,
          12,
          47,
          63,
          38,
          31,
          13,
          17,
          15,
          11,
          19,
          4,
          11,
          15,
          8,
          23,
          19,
          13,
          28,
          1,
          7,
          74,
          3,
          2,
          0,
          0,
          16,
          10,
          4,
          4,
          9,
          6,
          9,
          8,
          6,
          5,
          10,
          9,
          5,
          10,
          4,
          31,
          4,
          13,
          11,
          18,
          9,
          19,
          31,
          10,
          16,
          20,
          22,
          9,
          17,
          8,
          8,
          4,
          109,
          12,
          9,
          4,
          10,
          36,
          13,
          23,
          24,
          4,
          128,
          15,
          12,
          16,
          9,
          13,
          8,
          13,
          8,
          6,
          6,
          2,
          88,
          14,
          21,
          13,
          8,
          25,
          15,
          22,
          12,
          8,
          9,
          11,
          2,
          15,
          1,
          6,
          20,
          11,
          9,
          5,
          2,
          11,
          4,
          12,
          5,
          8,
          8,
          44,
          6,
          14,
          9,
          5,
          11,
          13,
          15,
          9,
          12,
          6,
          19,
          19,
          10,
          22,
          29,
          35,
          8,
          1,
          0,
          3,
          0,
          2,
          0,
          21,
          4,
          1,
          0,
          2,
          2,
          2,
          0,
          1,
          2,
          1,
          1,
          7,
          3,
          5,
          1,
          3,
          1,
          3,
          1,
          2,
          2,
          19,
          14,
          26,
          11,
          34,
          62,
          32,
          107,
          150,
          15,
          64,
          31
         ],
         "xaxis": "x2",
         "y": [
          51.222,
          79.956,
          46.5169,
          55.053,
          67.758,
          35.976,
          13.28,
          66.5579,
          50.969,
          11.171,
          19.683,
          108.04,
          73.692,
          57.098,
          46.622,
          112.61,
          30.334,
          29.973,
          32.027,
          46.521,
          36.99,
          46.942,
          55.3829,
          21.304,
          50.229,
          136.08,
          36.712,
          50.625,
          62.8699,
          45.359,
          65.385,
          160.08,
          121.349,
          75.166,
          55.498,
          114.489,
          42.222,
          14.495,
          55.7649,
          33.242,
          80.663,
          78.897,
          19.621,
          12.04,
          17.5599,
          16.684,
          3.079,
          28.662,
          15.852,
          13.507,
          20.41,
          16.632,
          36.005,
          14.803,
          30.57,
          44.742,
          32.375,
          18.878,
          52.7869,
          14.498,
          14.731,
          26.822,
          19.172,
          8.595,
          10.398,
          29.562,
          28.3759,
          22.5599,
          14.818,
          23.294,
          12.69,
          29.0639,
          15.38,
          26.4009,
          40.512,
          34.991,
          28.552,
          16.2619,
          17.3969,
          12.662,
          24.028,
          14.36,
          25.174,
          16.107,
          14.536,
          27.318,
          10.988,
          24.309,
          12.305,
          11.309,
          6.614,
          21.7029,
          59.658,
          110.18,
          39.0169,
          55.986,
          47.549,
          73.008,
          68.653,
          61.691,
          43.2799,
          13.526,
          24.9669,
          32.234,
          3.893,
          14.999,
          12.176,
          7.43,
          17.697,
          37.07,
          10.434,
          52.611,
          20.114,
          7.086,
          14.022,
          38.879,
          9.045,
          7.619,
          11.514,
          17.152,
          9.279,
          127.379,
          71.2149,
          46.6059,
          31.93,
          13.1,
          24.968,
          22.656,
          27.546,
          31.518,
          27.393,
          17.1089,
          25.061,
          17.264,
          18.202,
          5.811,
          5.021,
          39.851,
          82.774,
          31.927,
          20.07,
          19.569,
          13,
          18.246,
          44.3569,
          37.924,
          72.6869,
          15.791,
          23.312,
          22.275,
          25.771,
          22.983,
          34.16,
          31.839,
          20.391,
          19.7619,
          37.16,
          43.8629,
          21.638,
          17.792,
          23.259,
          11.074,
          100.349,
          57.973,
          34.959,
          50.9399,
          258.859,
          19.326,
          25.9939,
          20.354,
          23.072,
          54.3909,
          56.8989,
          35.991,
          4.183,
          54.576,
          21.622,
          37.761,
          23.0259,
          34.5589,
          15.505,
          35.685,
          21.468,
          18.778,
          15.633,
          20.084,
          104.3,
          23.268,
          13.895,
          38.2659,
          17.95,
          49.7179,
          78.1279,
          31.921,
          25.1959,
          14.35,
          12.173,
          16.632,
          8.487,
          20.365,
          4.116,
          14.492,
          13.68,
          7.207,
          17.322,
          15.02,
          12.891,
          27.885,
          3.725,
          10.387,
          91.539,
          5.425,
          0.69,
          0.81,
          1.137,
          21.333,
          11.689,
          8.604,
          7.776,
          9.498,
          8.586,
          9.007,
          11.587,
          13.32,
          6.53,
          23.039,
          23.648,
          18.9109,
          23.02,
          9.343,
          91.023,
          14.02,
          31.947,
          9.031,
          12.623,
          12.86,
          18.353,
          29.354,
          12.17,
          11.409,
          18.7509,
          16.622,
          4.56,
          9.043,
          8.452,
          8.476,
          4.628,
          114.889,
          13.44,
          14.459,
          7.19,
          9.584,
          33.443,
          7.682,
          24.339,
          23.7339,
          5.577,
          126.519,
          27.8279,
          31.7509,
          16.452,
          10.499,
          11.984,
          10.451,
          13.384,
          9.18,
          11.04,
          7.471,
          2.997,
          75.414,
          12.566,
          15.924,
          17.599,
          6.967,
          15.076,
          21.753,
          45.473,
          17.7649,
          12.285,
          23.4559,
          13.59,
          8.831,
          22.905,
          5.02,
          13.423,
          37.2879,
          21.167,
          15.452,
          9.413,
          6.551,
          31.489,
          8.516,
          12.52,
          6.445,
          12.059,
          8.275,
          37.2589,
          10.894,
          12.16,
          9.964,
          8.214,
          7.16,
          13.623,
          13.922,
          18.2169,
          7.25,
          3.685,
          24.068,
          22.534,
          7.001,
          22.193,
          26.4629,
          25.282,
          8.019,
          5.604,
          0.964,
          3.789,
          1.847,
          1.805,
          1.277,
          30.641,
          3.269,
          2.309,
          1.701,
          1.04,
          2.794,
          3.024,
          1.933,
          1.984,
          3.17,
          2.718,
          2.845,
          12.902,
          4.032,
          5.144,
          4.461,
          2.843,
          1.835,
          4.064,
          1.698,
          2.353,
          3.427,
          16.5529,
          17.68,
          18.495,
          13.456,
          32.5779,
          53.824,
          28.011,
          74.903,
          97.6399,
          11.01,
          65.7699,
          34.471
         ],
         "yaxis": "y2"
        }
       ],
       "frames": [],
       "layout": {
        "annotations": [
         {
          "font": {
           "size": 16
          },
          "showarrow": false,
          "text": "Std UVB",
          "x": 0.225,
          "xanchor": "center",
          "xref": "paper",
          "y": 1,
          "yanchor": "bottom",
          "yref": "paper"
         },
         {
          "font": {
           "size": 16
          },
          "showarrow": false,
          "text": "Deaths vs Expected",
          "x": 0.775,
          "xanchor": "center",
          "xref": "paper",
          "y": 1,
          "yanchor": "bottom",
          "yref": "paper"
         }
        ],
        "margin": {
         "b": 50,
         "l": 50,
         "r": 50,
         "t": 60
        },
        "template": {
         "data": {
          "bar": [
           {
            "error_x": {
             "color": "#2a3f5f"
            },
            "error_y": {
             "color": "#2a3f5f"
            },
            "marker": {
             "line": {
              "color": "#E5ECF6",
              "width": 0.5
             }
            },
            "type": "bar"
           }
          ],
          "barpolar": [
           {
            "marker": {
             "line": {
              "color": "#E5ECF6",
              "width": 0.5
             }
            },
            "type": "barpolar"
           }
          ],
          "carpet": [
           {
            "aaxis": {
             "endlinecolor": "#2a3f5f",
             "gridcolor": "white",
             "linecolor": "white",
             "minorgridcolor": "white",
             "startlinecolor": "#2a3f5f"
            },
            "baxis": {
             "endlinecolor": "#2a3f5f",
             "gridcolor": "white",
             "linecolor": "white",
             "minorgridcolor": "white",
             "startlinecolor": "#2a3f5f"
            },
            "type": "carpet"
           }
          ],
          "choropleth": [
           {
            "colorbar": {
             "outlinewidth": 0,
             "ticks": ""
            },
            "type": "choropleth"
           }
          ],
          "contour": [
           {
            "colorbar": {
             "outlinewidth": 0,
             "ticks": ""
            },
            "colorscale": [
             [
              0,
              "#0d0887"
             ],
             [
              0.1111111111111111,
              "#46039f"
             ],
             [
              0.2222222222222222,
              "#7201a8"
             ],
             [
              0.3333333333333333,
              "#9c179e"
             ],
             [
              0.4444444444444444,
              "#bd3786"
             ],
             [
              0.5555555555555556,
              "#d8576b"
             ],
             [
              0.6666666666666666,
              "#ed7953"
             ],
             [
              0.7777777777777778,
              "#fb9f3a"
             ],
             [
              0.8888888888888888,
              "#fdca26"
             ],
             [
              1,
              "#f0f921"
             ]
            ],
            "type": "contour"
           }
          ],
          "contourcarpet": [
           {
            "colorbar": {
             "outlinewidth": 0,
             "ticks": ""
            },
            "type": "contourcarpet"
           }
          ],
          "heatmap": [
           {
            "colorbar": {
             "outlinewidth": 0,
             "ticks": ""
            },
            "colorscale": [
             [
              0,
              "#0d0887"
             ],
             [
              0.1111111111111111,
              "#46039f"
             ],
             [
              0.2222222222222222,
              "#7201a8"
             ],
             [
              0.3333333333333333,
              "#9c179e"
             ],
             [
              0.4444444444444444,
              "#bd3786"
             ],
             [
              0.5555555555555556,
              "#d8576b"
             ],
             [
              0.6666666666666666,
              "#ed7953"
             ],
             [
              0.7777777777777778,
              "#fb9f3a"
             ],
             [
              0.8888888888888888,
              "#fdca26"
             ],
             [
              1,
              "#f0f921"
             ]
            ],
            "type": "heatmap"
           }
          ],
          "heatmapgl": [
           {
            "colorbar": {
             "outlinewidth": 0,
             "ticks": ""
            },
            "colorscale": [
             [
              0,
              "#0d0887"
             ],
             [
              0.1111111111111111,
              "#46039f"
             ],
             [
              0.2222222222222222,
              "#7201a8"
             ],
             [
              0.3333333333333333,
              "#9c179e"
             ],
             [
              0.4444444444444444,
              "#bd3786"
             ],
             [
              0.5555555555555556,
              "#d8576b"
             ],
             [
              0.6666666666666666,
              "#ed7953"
             ],
             [
              0.7777777777777778,
              "#fb9f3a"
             ],
             [
              0.8888888888888888,
              "#fdca26"
             ],
             [
              1,
              "#f0f921"
             ]
            ],
            "type": "heatmapgl"
           }
          ],
          "histogram": [
           {
            "marker": {
             "colorbar": {
              "outlinewidth": 0,
              "ticks": ""
             }
            },
            "type": "histogram"
           }
          ],
          "histogram2d": [
           {
            "colorbar": {
             "outlinewidth": 0,
             "ticks": ""
            },
            "colorscale": [
             [
              0,
              "#0d0887"
             ],
             [
              0.1111111111111111,
              "#46039f"
             ],
             [
              0.2222222222222222,
              "#7201a8"
             ],
             [
              0.3333333333333333,
              "#9c179e"
             ],
             [
              0.4444444444444444,
              "#bd3786"
             ],
             [
              0.5555555555555556,
              "#d8576b"
             ],
             [
              0.6666666666666666,
              "#ed7953"
             ],
             [
              0.7777777777777778,
              "#fb9f3a"
             ],
             [
              0.8888888888888888,
              "#fdca26"
             ],
             [
              1,
              "#f0f921"
             ]
            ],
            "type": "histogram2d"
           }
          ],
          "histogram2dcontour": [
           {
            "colorbar": {
             "outlinewidth": 0,
             "ticks": ""
            },
            "colorscale": [
             [
              0,
              "#0d0887"
             ],
             [
              0.1111111111111111,
              "#46039f"
             ],
             [
              0.2222222222222222,
              "#7201a8"
             ],
             [
              0.3333333333333333,
              "#9c179e"
             ],
             [
              0.4444444444444444,
              "#bd3786"
             ],
             [
              0.5555555555555556,
              "#d8576b"
             ],
             [
              0.6666666666666666,
              "#ed7953"
             ],
             [
              0.7777777777777778,
              "#fb9f3a"
             ],
             [
              0.8888888888888888,
              "#fdca26"
             ],
             [
              1,
              "#f0f921"
             ]
            ],
            "type": "histogram2dcontour"
           }
          ],
          "mesh3d": [
           {
            "colorbar": {
             "outlinewidth": 0,
             "ticks": ""
            },
            "type": "mesh3d"
           }
          ],
          "parcoords": [
           {
            "line": {
             "colorbar": {
              "outlinewidth": 0,
              "ticks": ""
             }
            },
            "type": "parcoords"
           }
          ],
          "pie": [
           {
            "automargin": true,
            "type": "pie"
           }
          ],
          "scatter": [
           {
            "marker": {
             "colorbar": {
              "outlinewidth": 0,
              "ticks": ""
             }
            },
            "type": "scatter"
           }
          ],
          "scatter3d": [
           {
            "line": {
             "colorbar": {
              "outlinewidth": 0,
              "ticks": ""
             }
            },
            "marker": {
             "colorbar": {
              "outlinewidth": 0,
              "ticks": ""
             }
            },
            "type": "scatter3d"
           }
          ],
          "scattercarpet": [
           {
            "marker": {
             "colorbar": {
              "outlinewidth": 0,
              "ticks": ""
             }
            },
            "type": "scattercarpet"
           }
          ],
          "scattergeo": [
           {
            "marker": {
             "colorbar": {
              "outlinewidth": 0,
              "ticks": ""
             }
            },
            "type": "scattergeo"
           }
          ],
          "scattergl": [
           {
            "marker": {
             "colorbar": {
              "outlinewidth": 0,
              "ticks": ""
             }
            },
            "type": "scattergl"
           }
          ],
          "scattermapbox": [
           {
            "marker": {
             "colorbar": {
              "outlinewidth": 0,
              "ticks": ""
             }
            },
            "type": "scattermapbox"
           }
          ],
          "scatterpolar": [
           {
            "marker": {
             "colorbar": {
              "outlinewidth": 0,
              "ticks": ""
             }
            },
            "type": "scatterpolar"
           }
          ],
          "scatterpolargl": [
           {
            "marker": {
             "colorbar": {
              "outlinewidth": 0,
              "ticks": ""
             }
            },
            "type": "scatterpolargl"
           }
          ],
          "scatterternary": [
           {
            "marker": {
             "colorbar": {
              "outlinewidth": 0,
              "ticks": ""
             }
            },
            "type": "scatterternary"
           }
          ],
          "surface": [
           {
            "colorbar": {
             "outlinewidth": 0,
             "ticks": ""
            },
            "colorscale": [
             [
              0,
              "#0d0887"
             ],
             [
              0.1111111111111111,
              "#46039f"
             ],
             [
              0.2222222222222222,
              "#7201a8"
             ],
             [
              0.3333333333333333,
              "#9c179e"
             ],
             [
              0.4444444444444444,
              "#bd3786"
             ],
             [
              0.5555555555555556,
              "#d8576b"
             ],
             [
              0.6666666666666666,
              "#ed7953"
             ],
             [
              0.7777777777777778,
              "#fb9f3a"
             ],
             [
              0.8888888888888888,
              "#fdca26"
             ],
             [
              1,
              "#f0f921"
             ]
            ],
            "type": "surface"
           }
          ],
          "table": [
           {
            "cells": {
             "fill": {
              "color": "#EBF0F8"
             },
             "line": {
              "color": "white"
             }
            },
            "header": {
             "fill": {
              "color": "#C8D4E3"
             },
             "line": {
              "color": "white"
             }
            },
            "type": "table"
           }
          ]
         },
         "layout": {
          "annotationdefaults": {
           "arrowcolor": "#2a3f5f",
           "arrowhead": 0,
           "arrowwidth": 1
          },
          "autotypenumbers": "strict",
          "coloraxis": {
           "colorbar": {
            "outlinewidth": 0,
            "ticks": ""
           }
          },
          "colorscale": {
           "diverging": [
            [
             0,
             "#8e0152"
            ],
            [
             0.1,
             "#c51b7d"
            ],
            [
             0.2,
             "#de77ae"
            ],
            [
             0.3,
             "#f1b6da"
            ],
            [
             0.4,
             "#fde0ef"
            ],
            [
             0.5,
             "#f7f7f7"
            ],
            [
             0.6,
             "#e6f5d0"
            ],
            [
             0.7,
             "#b8e186"
            ],
            [
             0.8,
             "#7fbc41"
            ],
            [
             0.9,
             "#4d9221"
            ],
            [
             1,
             "#276419"
            ]
           ],
           "sequential": [
            [
             0,
             "#0d0887"
            ],
            [
             0.1111111111111111,
             "#46039f"
            ],
            [
             0.2222222222222222,
             "#7201a8"
            ],
            [
             0.3333333333333333,
             "#9c179e"
            ],
            [
             0.4444444444444444,
             "#bd3786"
            ],
            [
             0.5555555555555556,
             "#d8576b"
            ],
            [
             0.6666666666666666,
             "#ed7953"
            ],
            [
             0.7777777777777778,
             "#fb9f3a"
            ],
            [
             0.8888888888888888,
             "#fdca26"
            ],
            [
             1,
             "#f0f921"
            ]
           ],
           "sequentialminus": [
            [
             0,
             "#0d0887"
            ],
            [
             0.1111111111111111,
             "#46039f"
            ],
            [
             0.2222222222222222,
             "#7201a8"
            ],
            [
             0.3333333333333333,
             "#9c179e"
            ],
            [
             0.4444444444444444,
             "#bd3786"
            ],
            [
             0.5555555555555556,
             "#d8576b"
            ],
            [
             0.6666666666666666,
             "#ed7953"
            ],
            [
             0.7777777777777778,
             "#fb9f3a"
            ],
            [
             0.8888888888888888,
             "#fdca26"
            ],
            [
             1,
             "#f0f921"
            ]
           ]
          },
          "colorway": [
           "#636efa",
           "#EF553B",
           "#00cc96",
           "#ab63fa",
           "#FFA15A",
           "#19d3f3",
           "#FF6692",
           "#B6E880",
           "#FF97FF",
           "#FECB52"
          ],
          "font": {
           "color": "#2a3f5f"
          },
          "geo": {
           "bgcolor": "white",
           "lakecolor": "white",
           "landcolor": "#E5ECF6",
           "showlakes": true,
           "showland": true,
           "subunitcolor": "white"
          },
          "hoverlabel": {
           "align": "left"
          },
          "hovermode": "closest",
          "mapbox": {
           "style": "light"
          },
          "paper_bgcolor": "white",
          "plot_bgcolor": "#E5ECF6",
          "polar": {
           "angularaxis": {
            "gridcolor": "white",
            "linecolor": "white",
            "ticks": ""
           },
           "bgcolor": "#E5ECF6",
           "radialaxis": {
            "gridcolor": "white",
            "linecolor": "white",
            "ticks": ""
           }
          },
          "scene": {
           "xaxis": {
            "backgroundcolor": "#E5ECF6",
            "gridcolor": "white",
            "gridwidth": 2,
            "linecolor": "white",
            "showbackground": true,
            "ticks": "",
            "zerolinecolor": "white"
           },
           "yaxis": {
            "backgroundcolor": "#E5ECF6",
            "gridcolor": "white",
            "gridwidth": 2,
            "linecolor": "white",
            "showbackground": true,
            "ticks": "",
            "zerolinecolor": "white"
           },
           "zaxis": {
            "backgroundcolor": "#E5ECF6",
            "gridcolor": "white",
            "gridwidth": 2,
            "linecolor": "white",
            "showbackground": true,
            "ticks": "",
            "zerolinecolor": "white"
           }
          },
          "shapedefaults": {
           "line": {
            "color": "#2a3f5f"
           }
          },
          "ternary": {
           "aaxis": {
            "gridcolor": "white",
            "linecolor": "white",
            "ticks": ""
           },
           "baxis": {
            "gridcolor": "white",
            "linecolor": "white",
            "ticks": ""
           },
           "bgcolor": "#E5ECF6",
           "caxis": {
            "gridcolor": "white",
            "linecolor": "white",
            "ticks": ""
           }
          },
          "title": {
           "x": 0.05
          },
          "xaxis": {
           "automargin": true,
           "gridcolor": "white",
           "linecolor": "white",
           "ticks": "",
           "title": {
            "standoff": 15
           },
           "zerolinecolor": "white",
           "zerolinewidth": 2
          },
          "yaxis": {
           "automargin": true,
           "gridcolor": "white",
           "linecolor": "white",
           "ticks": "",
           "title": {
            "standoff": 15
           },
           "zerolinecolor": "white",
           "zerolinewidth": 2
          }
         }
        },
        "xaxis": {
         "anchor": "y",
         "domain": [
          0,
          0.45
         ]
        },
        "xaxis2": {
         "anchor": "y2",
         "domain": [
          0.55,
          1
         ]
        },
        "yaxis": {
         "anchor": "x",
         "domain": [
          0,
          1
         ]
        },
        "yaxis2": {
         "anchor": "x2",
         "domain": [
          0,
          1
         ]
        }
       }
      },
      "image/png": "[encoded data removed]",
      "image/svg+xml": [
       "<svg class=\"main-svg\" xmlns=\"http://www.w3.org/2000/svg\" xmlns:xlink=\"http://www.w3.org/1999/xlink\" width=\"700\" height=\"500\" style=\"\" viewBox=\"0 0 700 500\"><rect x=\"0\" y=\"0\" width=\"700\" height=\"500\" style=\"fill: rgb(255, 255, 255); fill-opacity: 1;\"/><defs id=\"defs-1cf4fc\"><g class=\"clips\"><clipPath id=\"clip1cf4fcxyplot\" class=\"plotclip\"><rect width=\"270\" height=\"390\"/></clipPath><clipPath id=\"clip1cf4fcx2y2plot\" class=\"plotclip\"><rect width=\"270\" height=\"390\"/></clipPath><clipPath class=\"axesclip\" id=\"clip1cf4fcx\"><rect x=\"50\" y=\"0\" width=\"270\" height=\"500\"/></clipPath><clipPath class=\"axesclip\" id=\"clip1cf4fcy\"><rect x=\"0\" y=\"60\" width=\"700\" height=\"390\"/></clipPath><clipPath class=\"axesclip\" id=\"clip1cf4fcxy\"><rect x=\"50\" y=\"60\" width=\"270\" height=\"390\"/></clipPath><clipPath class=\"axesclip\" id=\"clip1cf4fcy2\"><rect x=\"0\" y=\"60\" width=\"700\" height=\"390\"/></clipPath><clipPath class=\"axesclip\" id=\"clip1cf4fcxy2\"><rect x=\"50\" y=\"60\" width=\"270\" height=\"390\"/></clipPath><clipPath class=\"axesclip\" id=\"clip1cf4fcx2\"><rect x=\"380\" y=\"0\" width=\"270\" height=\"500\"/></clipPath><clipPath class=\"axesclip\" id=\"clip1cf4fcx2y\"><rect x=\"380\" y=\"60\" width=\"270\" height=\"390\"/></clipPath><clipPath class=\"axesclip\" id=\"clip1cf4fcx2y2\"><rect x=\"380\" y=\"60\" width=\"270\" height=\"390\"/></clipPath></g><g class=\"gradients\"/><g class=\"patterns\"/></defs><g class=\"bglayer\"><rect class=\"bg\" x=\"50\" y=\"60\" width=\"270\" height=\"390\" style=\"fill: rgb(229, 236, 246); fill-opacity: 1; stroke-width: 0;\"/><rect class=\"bg\" x=\"380\" y=\"60\" width=\"270\" height=\"390\" style=\"fill: rgb(229, 236, 246); fill-opacity: 1; stroke-width: 0;\"/></g><g class=\"layer-below\"><g class=\"imagelayer\"/><g class=\"shapelayer\"/></g><g class=\"cartesianlayer\"><g class=\"subplot xy\"><g class=\"layer-subplot\"><g class=\"shapelayer\"/><g class=\"imagelayer\"/></g><g class=\"gridlayer\"><g class=\"x\"/><g class=\"y\"><path class=\"ygrid crisp\" transform=\"translate(0,372.81)\" d=\"M50,0h270\" style=\"stroke: rgb(255, 255, 255); stroke-opacity: 1; stroke-width: 1px;\"/><path class=\"ygrid crisp\" transform=\"translate(0,295.63)\" d=\"M50,0h270\" style=\"stroke: rgb(255, 255, 255); stroke-opacity: 1; stroke-width: 1px;\"/><path class=\"ygrid crisp\" transform=\"translate(0,218.44)\" d=\"M50,0h270\" style=\"stroke: rgb(255, 255, 255); stroke-opacity: 1; stroke-width: 1px;\"/><path class=\"ygrid crisp\" transform=\"translate(0,141.25)\" d=\"M50,0h270\" style=\"stroke: rgb(255, 255, 255); stroke-opacity: 1; stroke-width: 1px;\"/><path class=\"ygrid crisp\" transform=\"translate(0,64.06)\" d=\"M50,0h270\" style=\"stroke: rgb(255, 255, 255); stroke-opacity: 1; stroke-width: 1px;\"/></g></g><g class=\"zerolinelayer\"><path class=\"yzl zl crisp\" transform=\"translate(0,450)\" d=\"M50,0h270\" style=\"stroke: rgb(255, 255, 255); stroke-opacity: 1; stroke-width: 2px;\"/></g><path class=\"xlines-below\"/><path class=\"ylines-below\"/><g class=\"overlines-below\"/><g class=\"xaxislayer-below\"/><g class=\"yaxislayer-below\"/><g class=\"overaxes-below\"/><g class=\"plot\" transform=\"translate(50,60)\" clip-path=\"url(#clip1cf4fcxyplot)\"><g class=\"barlayer mlayer\"><g class=\"trace bars\" shape-rendering=\"crispEdges\" style=\"opacity: 1;\"><g class=\"points\"><g class=\"point\"><path d=\"M0,390V374.56H6V390Z\" style=\"vector-effect: non-scaling-stroke; opacity: 1; stroke-width: 0px; fill: rgb(255, 140, 0); fill-opacity: 1;\"/></g><g class=\"point\"><path d=\"M6,390V374.56H12V390Z\" style=\"vector-effect: non-scaling-stroke; opacity: 1; stroke-width: 0px; fill: rgb(255, 140, 0); fill-opacity: 1;\"/></g><g class=\"point\"><path d=\"M12,390V359.13H18V390Z\" style=\"vector-effect: non-scaling-stroke; opacity: 1; stroke-width: 0px; fill: rgb(255, 140, 0); fill-opacity: 1;\"/></g><g class=\"point\"><path d=\"M18,390V374.56H24V390Z\" style=\"vector-effect: non-scaling-stroke; opacity: 1; stroke-width: 0px; fill: rgb(255, 140, 0); fill-opacity: 1;\"/></g><g class=\"point\"><path d=\"M24,390V328.25H30V390Z\" style=\"vector-effect: non-scaling-stroke; opacity: 1; stroke-width: 0px; fill: rgb(255, 140, 0); fill-opacity: 1;\"/></g><g class=\"point\"><path d=\"M30,390V235.63H36V390Z\" style=\"vector-effect: non-scaling-stroke; opacity: 1; stroke-width: 0px; fill: rgb(255, 140, 0); fill-opacity: 1;\"/></g><g class=\"point\"><path d=\"M36,390V96.69H42V390Z\" style=\"vector-effect: non-scaling-stroke; opacity: 1; stroke-width: 0px; fill: rgb(255, 140, 0); fill-opacity: 1;\"/></g><g class=\"point\"><path d=\"M42,390V112.13H48V390Z\" style=\"vector-effect: non-scaling-stroke; opacity: 1; stroke-width: 0px; fill: rgb(255, 140, 0); fill-opacity: 1;\"/></g><g class=\"point\"><path d=\"M48,390V34.94H54V390Z\" style=\"vector-effect: non-scaling-stroke; opacity: 1; stroke-width: 0px; fill: rgb(255, 140, 0); fill-opacity: 1;\"/></g><g class=\"point\"><path d=\"M54,390V143H60V390Z\" style=\"vector-effect: non-scaling-stroke; opacity: 1; stroke-width: 0px; fill: rgb(255, 140, 0); fill-opacity: 1;\"/></g><g class=\"point\"><path d=\"M60,390V19.5H66V390Z\" style=\"vector-effect: non-scaling-stroke; opacity: 1; stroke-width: 0px; fill: rgb(255, 140, 0); fill-opacity: 1;\"/></g><g class=\"point\"><path d=\"M66,390V204.75H72V390Z\" style=\"vector-effect: non-scaling-stroke; opacity: 1; stroke-width: 0px; fill: rgb(255, 140, 0); fill-opacity: 1;\"/></g><g class=\"point\"><path d=\"M72,390V143H78V390Z\" style=\"vector-effect: non-scaling-stroke; opacity: 1; stroke-width: 0px; fill: rgb(255, 140, 0); fill-opacity: 1;\"/></g><g class=\"point\"><path d=\"M78,390V189.31H84V390Z\" style=\"vector-effect: non-scaling-stroke; opacity: 1; stroke-width: 0px; fill: rgb(255, 140, 0); fill-opacity: 1;\"/></g><g class=\"point\"><path d=\"M84,390V297.38H90V390Z\" style=\"vector-effect: non-scaling-stroke; opacity: 1; stroke-width: 0px; fill: rgb(255, 140, 0); fill-opacity: 1;\"/></g><g class=\"point\"><path d=\"M90,390V251.06H96V390Z\" style=\"vector-effect: non-scaling-stroke; opacity: 1; stroke-width: 0px; fill: rgb(255, 140, 0); fill-opacity: 1;\"/></g><g class=\"point\"><path d=\"M96,390V173.88H102V390Z\" style=\"vector-effect: non-scaling-stroke; opacity: 1; stroke-width: 0px; fill: rgb(255, 140, 0); fill-opacity: 1;\"/></g><g class=\"point\"><path d=\"M102,390V235.63H108V390Z\" style=\"vector-effect: non-scaling-stroke; opacity: 1; stroke-width: 0px; fill: rgb(255, 140, 0); fill-opacity: 1;\"/></g><g class=\"point\"><path d=\"M108,390V297.38H114V390Z\" style=\"vector-effect: non-scaling-stroke; opacity: 1; stroke-width: 0px; fill: rgb(255, 140, 0); fill-opacity: 1;\"/></g><g class=\"point\"><path d=\"M114,390V328.25H120V390Z\" style=\"vector-effect: non-scaling-stroke; opacity: 1; stroke-width: 0px; fill: rgb(255, 140, 0); fill-opacity: 1;\"/></g><g class=\"point\"><path d=\"M120,390V266.5H126V390Z\" style=\"vector-effect: non-scaling-stroke; opacity: 1; stroke-width: 0px; fill: rgb(255, 140, 0); fill-opacity: 1;\"/></g><g class=\"point\"><path d=\"M126,390V189.31H132V390Z\" style=\"vector-effect: non-scaling-stroke; opacity: 1; stroke-width: 0px; fill: rgb(255, 140, 0); fill-opacity: 1;\"/></g><g class=\"point\"><path d=\"M132,390V127.56H138V390Z\" style=\"vector-effect: non-scaling-stroke; opacity: 1; stroke-width: 0px; fill: rgb(255, 140, 0); fill-opacity: 1;\"/></g><g class=\"point\"><path d=\"M138,390V220.19H144V390Z\" style=\"vector-effect: non-scaling-stroke; opacity: 1; stroke-width: 0px; fill: rgb(255, 140, 0); fill-opacity: 1;\"/></g><g class=\"point\"><path d=\"M144,390V204.75H150V390Z\" style=\"vector-effect: non-scaling-stroke; opacity: 1; stroke-width: 0px; fill: rgb(255, 140, 0); fill-opacity: 1;\"/></g><g class=\"point\"><path d=\"M150,390V266.5H156V390Z\" style=\"vector-effect: non-scaling-stroke; opacity: 1; stroke-width: 0px; fill: rgb(255, 140, 0); fill-opacity: 1;\"/></g><g class=\"point\"><path d=\"M156,390V297.38H162V390Z\" style=\"vector-effect: non-scaling-stroke; opacity: 1; stroke-width: 0px; fill: rgb(255, 140, 0); fill-opacity: 1;\"/></g><g class=\"point\"><path d=\"M162,390V312.81H168V390Z\" style=\"vector-effect: non-scaling-stroke; opacity: 1; stroke-width: 0px; fill: rgb(255, 140, 0); fill-opacity: 1;\"/></g><g class=\"point\"><path d=\"M168,390V220.19H174V390Z\" style=\"vector-effect: non-scaling-stroke; opacity: 1; stroke-width: 0px; fill: rgb(255, 140, 0); fill-opacity: 1;\"/></g><g class=\"point\"><path d=\"M174,390V251.06H180V390Z\" style=\"vector-effect: non-scaling-stroke; opacity: 1; stroke-width: 0px; fill: rgb(255, 140, 0); fill-opacity: 1;\"/></g><g class=\"point\"><path d=\"M180,390V328.25H186V390Z\" style=\"vector-effect: non-scaling-stroke; opacity: 1; stroke-width: 0px; fill: rgb(255, 140, 0); fill-opacity: 1;\"/></g><g class=\"point\"><path d=\"M186,390V297.38H192V390Z\" style=\"vector-effect: non-scaling-stroke; opacity: 1; stroke-width: 0px; fill: rgb(255, 140, 0); fill-opacity: 1;\"/></g><g class=\"point\"><path d=\"M192,390V374.56H198V390Z\" style=\"vector-effect: non-scaling-stroke; opacity: 1; stroke-width: 0px; fill: rgb(255, 140, 0); fill-opacity: 1;\"/></g><g class=\"point\"><path d=\"M198,390V343.69H204V390Z\" style=\"vector-effect: non-scaling-stroke; opacity: 1; stroke-width: 0px; fill: rgb(255, 140, 0); fill-opacity: 1;\"/></g><g class=\"point\"><path d=\"M204,390V281.94H210V390Z\" style=\"vector-effect: non-scaling-stroke; opacity: 1; stroke-width: 0px; fill: rgb(255, 140, 0); fill-opacity: 1;\"/></g><g class=\"point\"><path d=\"M210,390V343.69H216V390Z\" style=\"vector-effect: non-scaling-stroke; opacity: 1; stroke-width: 0px; fill: rgb(255, 140, 0); fill-opacity: 1;\"/></g><g class=\"point\"><path d=\"M216,390V328.25H222V390Z\" style=\"vector-effect: non-scaling-stroke; opacity: 1; stroke-width: 0px; fill: rgb(255, 140, 0); fill-opacity: 1;\"/></g><g class=\"point\"><path d=\"M222,390V343.69H228V390Z\" style=\"vector-effect: non-scaling-stroke; opacity: 1; stroke-width: 0px; fill: rgb(255, 140, 0); fill-opacity: 1;\"/></g><g class=\"point\"><path d=\"M228,390V343.69H234V390Z\" style=\"vector-effect: non-scaling-stroke; opacity: 1; stroke-width: 0px; fill: rgb(255, 140, 0); fill-opacity: 1;\"/></g><g class=\"point\"><path d=\"M234,390V374.56H240V390Z\" style=\"vector-effect: non-scaling-stroke; opacity: 1; stroke-width: 0px; fill: rgb(255, 140, 0); fill-opacity: 1;\"/></g><g class=\"point\"><path d=\"M240,390V374.56H246V390Z\" style=\"vector-effect: non-scaling-stroke; opacity: 1; stroke-width: 0px; fill: rgb(255, 140, 0); fill-opacity: 1;\"/></g><g class=\"point\"><path d=\"M246,390V374.56H252V390Z\" style=\"vector-effect: non-scaling-stroke; opacity: 1; stroke-width: 0px; fill: rgb(255, 140, 0); fill-opacity: 1;\"/></g><g class=\"point\"><path d=\"M0,0Z\" style=\"vector-effect: non-scaling-stroke; opacity: 1; stroke-width: 0px; fill: rgb(255, 140, 0); fill-opacity: 1;\"/></g><g class=\"point\"><path d=\"M258,390V328.25H264V390Z\" style=\"vector-effect: non-scaling-stroke; opacity: 1; stroke-width: 0px; fill: rgb(255, 140, 0); fill-opacity: 1;\"/></g><g class=\"point\"><path d=\"M264,390V328.25H270V390Z\" style=\"vector-effect: non-scaling-stroke; opacity: 1; stroke-width: 0px; fill: rgb(255, 140, 0); fill-opacity: 1;\"/></g></g></g></g></g><g class=\"overplot\"/><path class=\"xlines-above crisp\" d=\"M0,0\" style=\"fill: none;\"/><path class=\"ylines-above crisp\" d=\"M0,0\" style=\"fill: none;\"/><g class=\"overlines-above\"/><g class=\"xaxislayer-above\"><g class=\"xtick\"><text text-anchor=\"middle\" x=\"0\" y=\"463\" transform=\"translate(98,0)\" style=\"font-family: 'Open Sans', verdana, arial, sans-serif; font-size: 12px; fill: rgb(42, 63, 95); fill-opacity: 1; white-space: pre; opacity: 1;\">−1</text></g><g class=\"xtick\"><text text-anchor=\"middle\" x=\"0\" y=\"463\" style=\"font-family: 'Open Sans', verdana, arial, sans-serif; font-size: 12px; fill: rgb(42, 63, 95); fill-opacity: 1; white-space: pre; opacity: 1;\" transform=\"translate(158,0)\">0</text></g><g class=\"xtick\"><text text-anchor=\"middle\" x=\"0\" y=\"463\" style=\"font-family: 'Open Sans', verdana, arial, sans-serif; font-size: 12px; fill: rgb(42, 63, 95); fill-opacity: 1; white-space: pre; opacity: 1;\" transform=\"translate(218,0)\">1</text></g><g class=\"xtick\"><text text-anchor=\"middle\" x=\"0\" y=\"463\" style=\"font-family: 'Open Sans', verdana, arial, sans-serif; font-size: 12px; fill: rgb(42, 63, 95); fill-opacity: 1; white-space: pre; opacity: 1;\" transform=\"translate(278,0)\">2</text></g></g><g class=\"yaxislayer-above\"><g class=\"ytick\"><text text-anchor=\"end\" x=\"49\" y=\"4.199999999999999\" transform=\"translate(0,450)\" style=\"font-family: 'Open Sans', verdana, arial, sans-serif; font-size: 12px; fill: rgb(42, 63, 95); fill-opacity: 1; white-space: pre; opacity: 1;\">0</text></g><g class=\"ytick\"><text text-anchor=\"end\" x=\"49\" y=\"4.199999999999999\" style=\"font-family: 'Open Sans', verdana, arial, sans-serif; font-size: 12px; fill: rgb(42, 63, 95); fill-opacity: 1; white-space: pre; opacity: 1;\" transform=\"translate(0,372.81)\">5</text></g><g class=\"ytick\"><text text-anchor=\"end\" x=\"49\" y=\"4.199999999999999\" style=\"font-family: 'Open Sans', verdana, arial, sans-serif; font-size: 12px; fill: rgb(42, 63, 95); fill-opacity: 1; white-space: pre; opacity: 1;\" transform=\"translate(0,295.63)\">10</text></g><g class=\"ytick\"><text text-anchor=\"end\" x=\"49\" y=\"4.199999999999999\" style=\"font-family: 'Open Sans', verdana, arial, sans-serif; font-size: 12px; fill: rgb(42, 63, 95); fill-opacity: 1; white-space: pre; opacity: 1;\" transform=\"translate(0,218.44)\">15</text></g><g class=\"ytick\"><text text-anchor=\"end\" x=\"49\" y=\"4.199999999999999\" style=\"font-family: 'Open Sans', verdana, arial, sans-serif; font-size: 12px; fill: rgb(42, 63, 95); fill-opacity: 1; white-space: pre; opacity: 1;\" transform=\"translate(0,141.25)\">20</text></g><g class=\"ytick\"><text text-anchor=\"end\" x=\"49\" y=\"4.199999999999999\" style=\"font-family: 'Open Sans', verdana, arial, sans-serif; font-size: 12px; fill: rgb(42, 63, 95); fill-opacity: 1; white-space: pre; opacity: 1;\" transform=\"translate(0,64.06)\">25</text></g></g><g class=\"overaxes-above\"/></g><g class=\"subplot x2y2\"><g class=\"layer-subplot\"><g class=\"shapelayer\"/><g class=\"imagelayer\"/></g><g class=\"gridlayer\"><g class=\"x2\"><path class=\"x2grid crisp\" transform=\"translate(472.49,0)\" d=\"M0,60v390\" style=\"stroke: rgb(255, 255, 255); stroke-opacity: 1; stroke-width: 1px;\"/><path class=\"x2grid crisp\" transform=\"translate(547.73,0)\" d=\"M0,60v390\" style=\"stroke: rgb(255, 255, 255); stroke-opacity: 1; stroke-width: 1px;\"/><path class=\"x2grid crisp\" transform=\"translate(622.97,0)\" d=\"M0,60v390\" style=\"stroke: rgb(255, 255, 255); stroke-opacity: 1; stroke-width: 1px;\"/></g><g class=\"y2\"><path class=\"y2grid crisp\" transform=\"translate(0,361.14)\" d=\"M380,0h270\" style=\"stroke: rgb(255, 255, 255); stroke-opacity: 1; stroke-width: 1px;\"/><path class=\"y2grid crisp\" transform=\"translate(0,294.62)\" d=\"M380,0h270\" style=\"stroke: rgb(255, 255, 255); stroke-opacity: 1; stroke-width: 1px;\"/><path class=\"y2grid crisp\" transform=\"translate(0,228.09)\" d=\"M380,0h270\" style=\"stroke: rgb(255, 255, 255); stroke-opacity: 1; stroke-width: 1px;\"/><path class=\"y2grid crisp\" transform=\"translate(0,161.56)\" d=\"M380,0h270\" style=\"stroke: rgb(255, 255, 255); stroke-opacity: 1; stroke-width: 1px;\"/><path class=\"y2grid crisp\" transform=\"translate(0,95.03999999999999)\" d=\"M380,0h270\" style=\"stroke: rgb(255, 255, 255); stroke-opacity: 1; stroke-width: 1px;\"/></g></g><g class=\"zerolinelayer\"><path class=\"x2zl zl crisp\" transform=\"translate(397.25,0)\" d=\"M0,60v390\" style=\"stroke: rgb(255, 255, 255); stroke-opacity: 1; stroke-width: 2px;\"/><path class=\"y2zl zl crisp\" transform=\"translate(0,427.67)\" d=\"M380,0h270\" style=\"stroke: rgb(255, 255, 255); stroke-opacity: 1; stroke-width: 2px;\"/></g><path class=\"xlines-below\"/><path class=\"ylines-below\"/><g class=\"overlines-below\"/><g class=\"xaxislayer-below\"/><g class=\"yaxislayer-below\"/><g class=\"overaxes-below\"/><g class=\"plot\" transform=\"translate(380,60)\" clip-path=\"url(#clip1cf4fcx2y2plot)\"><g class=\"scatterlayer mlayer\"><g class=\"trace scatter trace77d3e9\" style=\"stroke-miterlimit: 2; opacity: 1;\"><g class=\"fills\"/><g class=\"errorbars\"/><g class=\"lines\"/><g class=\"points\"><path class=\"point\" transform=\"translate(76.69,299.52)\" d=\"M3,0A3,3 0 1,1 0,-3A3,3 0 0,1 3,0Z\" style=\"opacity: 1; stroke-width: 0px; fill: rgb(250, 128, 114); fill-opacity: 1;\"/><path class=\"point\" transform=\"translate(77.44,261.28)\" d=\"M3,0A3,3 0 1,1 0,-3A3,3 0 0,1 3,0Z\" style=\"opacity: 1; stroke-width: 0px; fill: rgb(250, 128, 114); fill-opacity: 1;\"/><path class=\"point\" transform=\"translate(55.62,305.78)\" d=\"M3,0A3,3 0 1,1 0,-3A3,3 0 0,1 3,0Z\" style=\"opacity: 1; stroke-width: 0px; fill: rgb(250, 128, 114); fill-opacity: 1;\"/><path class=\"point\" transform=\"translate(49.6,294.42)\" d=\"M3,0A3,3 0 1,1 0,-3A3,3 0 0,1 3,0Z\" style=\"opacity: 1; stroke-width: 0px; fill: rgb(250, 128, 114); fill-opacity: 1;\"/><path class=\"point\" transform=\"translate(84.21,277.51)\" d=\"M3,0A3,3 0 1,1 0,-3A3,3 0 0,1 3,0Z\" style=\"opacity: 1; stroke-width: 0px; fill: rgb(250, 128, 114); fill-opacity: 1;\"/><path class=\"point\" transform=\"translate(31.55,319.8)\" d=\"M3,0A3,3 0 1,1 0,-3A3,3 0 0,1 3,0Z\" style=\"opacity: 1; stroke-width: 0px; fill: rgb(250, 128, 114); fill-opacity: 1;\"/><path class=\"point\" transform=\"translate(31.55,350)\" d=\"M3,0A3,3 0 1,1 0,-3A3,3 0 0,1 3,0Z\" style=\"opacity: 1; stroke-width: 0px; fill: rgb(250, 128, 114); fill-opacity: 1;\"/><path class=\"point\" transform=\"translate(28.54,279.11)\" d=\"M3,0A3,3 0 1,1 0,-3A3,3 0 0,1 3,0Z\" style=\"opacity: 1; stroke-width: 0px; fill: rgb(250, 128, 114); fill-opacity: 1;\"/><path class=\"point\" transform=\"translate(42.08,299.85)\" d=\"M3,0A3,3 0 1,1 0,-3A3,3 0 0,1 3,0Z\" style=\"opacity: 1; stroke-width: 0px; fill: rgb(250, 128, 114); fill-opacity: 1;\"/><path class=\"point\" transform=\"translate(24.02,352.8)\" d=\"M3,0A3,3 0 1,1 0,-3A3,3 0 0,1 3,0Z\" style=\"opacity: 1; stroke-width: 0px; fill: rgb(250, 128, 114); fill-opacity: 1;\"/><path class=\"point\" transform=\"translate(26.28,341.48)\" d=\"M3,0A3,3 0 1,1 0,-3A3,3 0 0,1 3,0Z\" style=\"opacity: 1; stroke-width: 0px; fill: rgb(250, 128, 114); fill-opacity: 1;\"/><path class=\"point\" transform=\"translate(134.62,223.92)\" d=\"M3,0A3,3 0 1,1 0,-3A3,3 0 0,1 3,0Z\" style=\"opacity: 1; stroke-width: 0px; fill: rgb(250, 128, 114); fill-opacity: 1;\"/><path class=\"point\" transform=\"translate(100.01,269.62)\" d=\"M3,0A3,3 0 1,1 0,-3A3,3 0 0,1 3,0Z\" style=\"opacity: 1; stroke-width: 0px; fill: rgb(250, 128, 114); fill-opacity: 1;\"/><path class=\"point\" transform=\"translate(75.18,291.7)\" d=\"M3,0A3,3 0 1,1 0,-3A3,3 0 0,1 3,0Z\" style=\"opacity: 1; stroke-width: 0px; fill: rgb(250, 128, 114); fill-opacity: 1;\"/><path class=\"point\" transform=\"translate(59.38,305.64)\" d=\"M3,0A3,3 0 1,1 0,-3A3,3 0 0,1 3,0Z\" style=\"opacity: 1; stroke-width: 0px; fill: rgb(250, 128, 114); fill-opacity: 1;\"/><path class=\"point\" transform=\"translate(182.78,217.84)\" d=\"M3,0A3,3 0 1,1 0,-3A3,3 0 0,1 3,0Z\" style=\"opacity: 1; stroke-width: 0px; fill: rgb(250, 128, 114); fill-opacity: 1;\"/><path class=\"point\" transform=\"translate(51.86,327.31)\" d=\"M3,0A3,3 0 1,1 0,-3A3,3 0 0,1 3,0Z\" style=\"opacity: 1; stroke-width: 0px; fill: rgb(250, 128, 114); fill-opacity: 1;\"/><path class=\"point\" transform=\"translate(52.61,327.79)\" d=\"M3,0A3,3 0 1,1 0,-3A3,3 0 0,1 3,0Z\" style=\"opacity: 1; stroke-width: 0px; fill: rgb(250, 128, 114); fill-opacity: 1;\"/><path class=\"point\" transform=\"translate(54.87,325.06)\" d=\"M3,0A3,3 0 1,1 0,-3A3,3 0 0,1 3,0Z\" style=\"opacity: 1; stroke-width: 0px; fill: rgb(250, 128, 114); fill-opacity: 1;\"/><path class=\"point\" transform=\"translate(84.97,305.77)\" d=\"M3,0A3,3 0 1,1 0,-3A3,3 0 0,1 3,0Z\" style=\"opacity: 1; stroke-width: 0px; fill: rgb(250, 128, 114); fill-opacity: 1;\"/><path class=\"point\" transform=\"translate(63.9,318.45)\" d=\"M3,0A3,3 0 1,1 0,-3A3,3 0 0,1 3,0Z\" style=\"opacity: 1; stroke-width: 0px; fill: rgb(250, 128, 114); fill-opacity: 1;\"/><path class=\"point\" transform=\"translate(81.2,305.21)\" d=\"M3,0A3,3 0 1,1 0,-3A3,3 0 0,1 3,0Z\" style=\"opacity: 1; stroke-width: 0px; fill: rgb(250, 128, 114); fill-opacity: 1;\"/><path class=\"point\" transform=\"translate(123.34,293.98)\" d=\"M3,0A3,3 0 1,1 0,-3A3,3 0 0,1 3,0Z\" style=\"opacity: 1; stroke-width: 0px; fill: rgb(250, 128, 114); fill-opacity: 1;\"/><path class=\"point\" transform=\"translate(45.84,339.32)\" d=\"M3,0A3,3 0 1,1 0,-3A3,3 0 0,1 3,0Z\" style=\"opacity: 1; stroke-width: 0px; fill: rgb(250, 128, 114); fill-opacity: 1;\"/><path class=\"point\" transform=\"translate(108.29,300.84)\" d=\"M3,0A3,3 0 1,1 0,-3A3,3 0 0,1 3,0Z\" style=\"opacity: 1; stroke-width: 0px; fill: rgb(250, 128, 114); fill-opacity: 1;\"/><path class=\"point\" transform=\"translate(181.27,186.61)\" d=\"M3,0A3,3 0 1,1 0,-3A3,3 0 0,1 3,0Z\" style=\"opacity: 1; stroke-width: 0px; fill: rgb(250, 128, 114); fill-opacity: 1;\"/><path class=\"point\" transform=\"translate(54.87,318.82)\" d=\"M3,0A3,3 0 1,1 0,-3A3,3 0 0,1 3,0Z\" style=\"opacity: 1; stroke-width: 0px; fill: rgb(250, 128, 114); fill-opacity: 1;\"/><path class=\"point\" transform=\"translate(90.23,300.31)\" d=\"M3,0A3,3 0 1,1 0,-3A3,3 0 0,1 3,0Z\" style=\"opacity: 1; stroke-width: 0px; fill: rgb(250, 128, 114); fill-opacity: 1;\"/><path class=\"point\" transform=\"translate(90.98,284.02)\" d=\"M3,0A3,3 0 1,1 0,-3A3,3 0 0,1 3,0Z\" style=\"opacity: 1; stroke-width: 0px; fill: rgb(250, 128, 114); fill-opacity: 1;\"/><path class=\"point\" transform=\"translate(73.68,307.32)\" d=\"M3,0A3,3 0 1,1 0,-3A3,3 0 0,1 3,0Z\" style=\"opacity: 1; stroke-width: 0px; fill: rgb(250, 128, 114); fill-opacity: 1;\"/><path class=\"point\" transform=\"translate(81.2,280.67)\" d=\"M3,0A3,3 0 1,1 0,-3A3,3 0 0,1 3,0Z\" style=\"opacity: 1; stroke-width: 0px; fill: rgb(250, 128, 114); fill-opacity: 1;\"/><path class=\"point\" transform=\"translate(174.5,154.68)\" d=\"M3,0A3,3 0 1,1 0,-3A3,3 0 0,1 3,0Z\" style=\"opacity: 1; stroke-width: 0px; fill: rgb(250, 128, 114); fill-opacity: 1;\"/><path class=\"point\" transform=\"translate(112.8,206.21)\" d=\"M3,0A3,3 0 1,1 0,-3A3,3 0 0,1 3,0Z\" style=\"opacity: 1; stroke-width: 0px; fill: rgb(250, 128, 114); fill-opacity: 1;\"/><path class=\"point\" transform=\"translate(90.98,267.66)\" d=\"M3,0A3,3 0 1,1 0,-3A3,3 0 0,1 3,0Z\" style=\"opacity: 1; stroke-width: 0px; fill: rgb(250, 128, 114); fill-opacity: 1;\"/><path class=\"point\" transform=\"translate(60.89,293.83)\" d=\"M3,0A3,3 0 1,1 0,-3A3,3 0 0,1 3,0Z\" style=\"opacity: 1; stroke-width: 0px; fill: rgb(250, 128, 114); fill-opacity: 1;\"/><path class=\"point\" transform=\"translate(130.86,215.34)\" d=\"M3,0A3,3 0 1,1 0,-3A3,3 0 0,1 3,0Z\" style=\"opacity: 1; stroke-width: 0px; fill: rgb(250, 128, 114); fill-opacity: 1;\"/><path class=\"point\" transform=\"translate(66.91,311.49)\" d=\"M3,0A3,3 0 1,1 0,-3A3,3 0 0,1 3,0Z\" style=\"opacity: 1; stroke-width: 0px; fill: rgb(250, 128, 114); fill-opacity: 1;\"/><path class=\"point\" transform=\"translate(36.06,348.38)\" d=\"M3,0A3,3 0 1,1 0,-3A3,3 0 0,1 3,0Z\" style=\"opacity: 1; stroke-width: 0px; fill: rgb(250, 128, 114); fill-opacity: 1;\"/><path class=\"point\" transform=\"translate(85.72,293.47)\" d=\"M3,0A3,3 0 1,1 0,-3A3,3 0 0,1 3,0Z\" style=\"opacity: 1; stroke-width: 0px; fill: rgb(250, 128, 114); fill-opacity: 1;\"/><path class=\"point\" transform=\"translate(48.85,323.44)\" d=\"M3,0A3,3 0 1,1 0,-3A3,3 0 0,1 3,0Z\" style=\"opacity: 1; stroke-width: 0px; fill: rgb(250, 128, 114); fill-opacity: 1;\"/><path class=\"point\" transform=\"translate(137.63,260.34)\" d=\"M3,0A3,3 0 1,1 0,-3A3,3 0 0,1 3,0Z\" style=\"opacity: 1; stroke-width: 0px; fill: rgb(250, 128, 114); fill-opacity: 1;\"/><path class=\"point\" transform=\"translate(174.5,262.69)\" d=\"M3,0A3,3 0 1,1 0,-3A3,3 0 0,1 3,0Z\" style=\"opacity: 1; stroke-width: 0px; fill: rgb(250, 128, 114); fill-opacity: 1;\"/><path class=\"point\" transform=\"translate(49.6,341.56)\" d=\"M3,0A3,3 0 1,1 0,-3A3,3 0 0,1 3,0Z\" style=\"opacity: 1; stroke-width: 0px; fill: rgb(250, 128, 114); fill-opacity: 1;\"/><path class=\"point\" transform=\"translate(38.32,351.65)\" d=\"M3,0A3,3 0 1,1 0,-3A3,3 0 0,1 3,0Z\" style=\"opacity: 1; stroke-width: 0px; fill: rgb(250, 128, 114); fill-opacity: 1;\"/><path class=\"point\" transform=\"translate(48.1,344.3)\" d=\"M3,0A3,3 0 1,1 0,-3A3,3 0 0,1 3,0Z\" style=\"opacity: 1; stroke-width: 0px; fill: rgb(250, 128, 114); fill-opacity: 1;\"/><path class=\"point\" transform=\"translate(48.85,345.47)\" d=\"M3,0A3,3 0 1,1 0,-3A3,3 0 0,1 3,0Z\" style=\"opacity: 1; stroke-width: 0px; fill: rgb(250, 128, 114); fill-opacity: 1;\"/><path class=\"point\" transform=\"translate(21.76,363.57)\" d=\"M3,0A3,3 0 1,1 0,-3A3,3 0 0,1 3,0Z\" style=\"opacity: 1; stroke-width: 0px; fill: rgb(250, 128, 114); fill-opacity: 1;\"/><path class=\"point\" transform=\"translate(60.14,329.53)\" d=\"M3,0A3,3 0 1,1 0,-3A3,3 0 0,1 3,0Z\" style=\"opacity: 1; stroke-width: 0px; fill: rgb(250, 128, 114); fill-opacity: 1;\"/><path class=\"point\" transform=\"translate(32.3,346.58)\" d=\"M3,0A3,3 0 1,1 0,-3A3,3 0 0,1 3,0Z\" style=\"opacity: 1; stroke-width: 0px; fill: rgb(250, 128, 114); fill-opacity: 1;\"/><path class=\"point\" transform=\"translate(33.05,349.7)\" d=\"M3,0A3,3 0 1,1 0,-3A3,3 0 0,1 3,0Z\" style=\"opacity: 1; stroke-width: 0px; fill: rgb(250, 128, 114); fill-opacity: 1;\"/><path class=\"point\" transform=\"translate(40.57,340.51)\" d=\"M3,0A3,3 0 1,1 0,-3A3,3 0 0,1 3,0Z\" style=\"opacity: 1; stroke-width: 0px; fill: rgb(250, 128, 114); fill-opacity: 1;\"/><path class=\"point\" transform=\"translate(34.56,345.54)\" d=\"M3,0A3,3 0 1,1 0,-3A3,3 0 0,1 3,0Z\" style=\"opacity: 1; stroke-width: 0px; fill: rgb(250, 128, 114); fill-opacity: 1;\"/><path class=\"point\" transform=\"translate(76.69,319.76)\" d=\"M3,0A3,3 0 1,1 0,-3A3,3 0 0,1 3,0Z\" style=\"opacity: 1; stroke-width: 0px; fill: rgb(250, 128, 114); fill-opacity: 1;\"/><path class=\"point\" transform=\"translate(35.31,347.97)\" d=\"M3,0A3,3 0 1,1 0,-3A3,3 0 0,1 3,0Z\" style=\"opacity: 1; stroke-width: 0px; fill: rgb(250, 128, 114); fill-opacity: 1;\"/><path class=\"point\" transform=\"translate(60.14,326.99)\" d=\"M3,0A3,3 0 1,1 0,-3A3,3 0 0,1 3,0Z\" style=\"opacity: 1; stroke-width: 0px; fill: rgb(250, 128, 114); fill-opacity: 1;\"/><path class=\"point\" transform=\"translate(42.08,308.14)\" d=\"M3,0A3,3 0 1,1 0,-3A3,3 0 0,1 3,0Z\" style=\"opacity: 1; stroke-width: 0px; fill: rgb(250, 128, 114); fill-opacity: 1;\"/><path class=\"point\" transform=\"translate(32.3,324.59)\" d=\"M3,0A3,3 0 1,1 0,-3A3,3 0 0,1 3,0Z\" style=\"opacity: 1; stroke-width: 0px; fill: rgb(250, 128, 114); fill-opacity: 1;\"/><path class=\"point\" transform=\"translate(28.54,342.55)\" d=\"M3,0A3,3 0 1,1 0,-3A3,3 0 0,1 3,0Z\" style=\"opacity: 1; stroke-width: 0px; fill: rgb(250, 128, 114); fill-opacity: 1;\"/><path class=\"point\" transform=\"translate(39.07,297.43)\" d=\"M3,0A3,3 0 1,1 0,-3A3,3 0 0,1 3,0Z\" style=\"opacity: 1; stroke-width: 0px; fill: rgb(250, 128, 114); fill-opacity: 1;\"/><path class=\"point\" transform=\"translate(24.02,348.38)\" d=\"M3,0A3,3 0 1,1 0,-3A3,3 0 0,1 3,0Z\" style=\"opacity: 1; stroke-width: 0px; fill: rgb(250, 128, 114); fill-opacity: 1;\"/><path class=\"point\" transform=\"translate(22.52,348.07)\" d=\"M3,0A3,3 0 1,1 0,-3A3,3 0 0,1 3,0Z\" style=\"opacity: 1; stroke-width: 0px; fill: rgb(250, 128, 114); fill-opacity: 1;\"/><path class=\"point\" transform=\"translate(27.78,331.98)\" d=\"M3,0A3,3 0 1,1 0,-3A3,3 0 0,1 3,0Z\" style=\"opacity: 1; stroke-width: 0px; fill: rgb(250, 128, 114); fill-opacity: 1;\"/><path class=\"point\" transform=\"translate(30.04,342.16)\" d=\"M3,0A3,3 0 1,1 0,-3A3,3 0 0,1 3,0Z\" style=\"opacity: 1; stroke-width: 0px; fill: rgb(250, 128, 114); fill-opacity: 1;\"/><path class=\"point\" transform=\"translate(22.52,356.23)\" d=\"M3,0A3,3 0 1,1 0,-3A3,3 0 0,1 3,0Z\" style=\"opacity: 1; stroke-width: 0px; fill: rgb(250, 128, 114); fill-opacity: 1;\"/><path class=\"point\" transform=\"translate(23.27,353.83)\" d=\"M3,0A3,3 0 1,1 0,-3A3,3 0 0,1 3,0Z\" style=\"opacity: 1; stroke-width: 0px; fill: rgb(250, 128, 114); fill-opacity: 1;\"/><path class=\"point\" transform=\"translate(24.77,328.34)\" d=\"M3,0A3,3 0 1,1 0,-3A3,3 0 0,1 3,0Z\" style=\"opacity: 1; stroke-width: 0px; fill: rgb(250, 128, 114); fill-opacity: 1;\"/><path class=\"point\" transform=\"translate(27.03,329.91)\" d=\"M3,0A3,3 0 1,1 0,-3A3,3 0 0,1 3,0Z\" style=\"opacity: 1; stroke-width: 0px; fill: rgb(250, 128, 114); fill-opacity: 1;\"/><path class=\"point\" transform=\"translate(24.02,337.65)\" d=\"M3,0A3,3 0 1,1 0,-3A3,3 0 0,1 3,0Z\" style=\"opacity: 1; stroke-width: 0px; fill: rgb(250, 128, 114); fill-opacity: 1;\"/><path class=\"point\" transform=\"translate(22.52,347.95)\" d=\"M3,0A3,3 0 1,1 0,-3A3,3 0 0,1 3,0Z\" style=\"opacity: 1; stroke-width: 0px; fill: rgb(250, 128, 114); fill-opacity: 1;\"/><path class=\"point\" transform=\"translate(27.03,336.67)\" d=\"M3,0A3,3 0 1,1 0,-3A3,3 0 0,1 3,0Z\" style=\"opacity: 1; stroke-width: 0px; fill: rgb(250, 128, 114); fill-opacity: 1;\"/><path class=\"point\" transform=\"translate(23.27,350.78)\" d=\"M3,0A3,3 0 1,1 0,-3A3,3 0 0,1 3,0Z\" style=\"opacity: 1; stroke-width: 0px; fill: rgb(250, 128, 114); fill-opacity: 1;\"/><path class=\"point\" transform=\"translate(31.55,329)\" d=\"M3,0A3,3 0 1,1 0,-3A3,3 0 0,1 3,0Z\" style=\"opacity: 1; stroke-width: 0px; fill: rgb(250, 128, 114); fill-opacity: 1;\"/><path class=\"point\" transform=\"translate(24.02,347.2)\" d=\"M3,0A3,3 0 1,1 0,-3A3,3 0 0,1 3,0Z\" style=\"opacity: 1; stroke-width: 0px; fill: rgb(250, 128, 114); fill-opacity: 1;\"/><path class=\"point\" transform=\"translate(29.29,332.54)\" d=\"M3,0A3,3 0 1,1 0,-3A3,3 0 0,1 3,0Z\" style=\"opacity: 1; stroke-width: 0px; fill: rgb(250, 128, 114); fill-opacity: 1;\"/><path class=\"point\" transform=\"translate(50.36,313.77)\" d=\"M3,0A3,3 0 1,1 0,-3A3,3 0 0,1 3,0Z\" style=\"opacity: 1; stroke-width: 0px; fill: rgb(250, 128, 114); fill-opacity: 1;\"/><path class=\"point\" transform=\"translate(27.78,321.11)\" d=\"M3,0A3,3 0 1,1 0,-3A3,3 0 0,1 3,0Z\" style=\"opacity: 1; stroke-width: 0px; fill: rgb(250, 128, 114); fill-opacity: 1;\"/><path class=\"point\" transform=\"translate(35.31,329.68)\" d=\"M3,0A3,3 0 1,1 0,-3A3,3 0 0,1 3,0Z\" style=\"opacity: 1; stroke-width: 0px; fill: rgb(250, 128, 114); fill-opacity: 1;\"/><path class=\"point\" transform=\"translate(26.28,346.03)\" d=\"M3,0A3,3 0 1,1 0,-3A3,3 0 0,1 3,0Z\" style=\"opacity: 1; stroke-width: 0px; fill: rgb(250, 128, 114); fill-opacity: 1;\"/><path class=\"point\" transform=\"translate(27.03,344.52)\" d=\"M3,0A3,3 0 1,1 0,-3A3,3 0 0,1 3,0Z\" style=\"opacity: 1; stroke-width: 0px; fill: rgb(250, 128, 114); fill-opacity: 1;\"/><path class=\"point\" transform=\"translate(25.53,350.82)\" d=\"M3,0A3,3 0 1,1 0,-3A3,3 0 0,1 3,0Z\" style=\"opacity: 1; stroke-width: 0px; fill: rgb(250, 128, 114); fill-opacity: 1;\"/><path class=\"point\" transform=\"translate(27.78,335.7)\" d=\"M3,0A3,3 0 1,1 0,-3A3,3 0 0,1 3,0Z\" style=\"opacity: 1; stroke-width: 0px; fill: rgb(250, 128, 114); fill-opacity: 1;\"/><path class=\"point\" transform=\"translate(21.01,348.56)\" d=\"M3,0A3,3 0 1,1 0,-3A3,3 0 0,1 3,0Z\" style=\"opacity: 1; stroke-width: 0px; fill: rgb(250, 128, 114); fill-opacity: 1;\"/><path class=\"point\" transform=\"translate(27.03,334.17)\" d=\"M3,0A3,3 0 1,1 0,-3A3,3 0 0,1 3,0Z\" style=\"opacity: 1; stroke-width: 0px; fill: rgb(250, 128, 114); fill-opacity: 1;\"/><path class=\"point\" transform=\"translate(25.53,346.24)\" d=\"M3,0A3,3 0 1,1 0,-3A3,3 0 0,1 3,0Z\" style=\"opacity: 1; stroke-width: 0px; fill: rgb(250, 128, 114); fill-opacity: 1;\"/><path class=\"point\" transform=\"translate(23.27,348.33)\" d=\"M3,0A3,3 0 1,1 0,-3A3,3 0 0,1 3,0Z\" style=\"opacity: 1; stroke-width: 0px; fill: rgb(250, 128, 114); fill-opacity: 1;\"/><path class=\"point\" transform=\"translate(29.29,331.32)\" d=\"M3,0A3,3 0 1,1 0,-3A3,3 0 0,1 3,0Z\" style=\"opacity: 1; stroke-width: 0px; fill: rgb(250, 128, 114); fill-opacity: 1;\"/><path class=\"point\" transform=\"translate(19.51,353.05)\" d=\"M3,0A3,3 0 1,1 0,-3A3,3 0 0,1 3,0Z\" style=\"opacity: 1; stroke-width: 0px; fill: rgb(250, 128, 114); fill-opacity: 1;\"/><path class=\"point\" transform=\"translate(24.02,335.32)\" d=\"M3,0A3,3 0 1,1 0,-3A3,3 0 0,1 3,0Z\" style=\"opacity: 1; stroke-width: 0px; fill: rgb(250, 128, 114); fill-opacity: 1;\"/><path class=\"point\" transform=\"translate(27.03,351.3)\" d=\"M3,0A3,3 0 1,1 0,-3A3,3 0 0,1 3,0Z\" style=\"opacity: 1; stroke-width: 0px; fill: rgb(250, 128, 114); fill-opacity: 1;\"/><path class=\"point\" transform=\"translate(23.27,352.62)\" d=\"M3,0A3,3 0 1,1 0,-3A3,3 0 0,1 3,0Z\" style=\"opacity: 1; stroke-width: 0px; fill: rgb(250, 128, 114); fill-opacity: 1;\"/><path class=\"point\" transform=\"translate(19.51,358.87)\" d=\"M3,0A3,3 0 1,1 0,-3A3,3 0 0,1 3,0Z\" style=\"opacity: 1; stroke-width: 0px; fill: rgb(250, 128, 114); fill-opacity: 1;\"/><path class=\"point\" transform=\"translate(26.28,338.79)\" d=\"M3,0A3,3 0 1,1 0,-3A3,3 0 0,1 3,0Z\" style=\"opacity: 1; stroke-width: 0px; fill: rgb(250, 128, 114); fill-opacity: 1;\"/><path class=\"point\" transform=\"translate(48.85,288.29)\" d=\"M3,0A3,3 0 1,1 0,-3A3,3 0 0,1 3,0Z\" style=\"opacity: 1; stroke-width: 0px; fill: rgb(250, 128, 114); fill-opacity: 1;\"/><path class=\"point\" transform=\"translate(75.18,221.07)\" d=\"M3,0A3,3 0 1,1 0,-3A3,3 0 0,1 3,0Z\" style=\"opacity: 1; stroke-width: 0px; fill: rgb(250, 128, 114); fill-opacity: 1;\"/><path class=\"point\" transform=\"translate(28.54,315.76)\" d=\"M3,0A3,3 0 1,1 0,-3A3,3 0 0,1 3,0Z\" style=\"opacity: 1; stroke-width: 0px; fill: rgb(250, 128, 114); fill-opacity: 1;\"/><path class=\"point\" transform=\"translate(47.35,293.18)\" d=\"M3,0A3,3 0 1,1 0,-3A3,3 0 0,1 3,0Z\" style=\"opacity: 1; stroke-width: 0px; fill: rgb(250, 128, 114); fill-opacity: 1;\"/><path class=\"point\" transform=\"translate(29.29,304.4)\" d=\"M3,0A3,3 0 1,1 0,-3A3,3 0 0,1 3,0Z\" style=\"opacity: 1; stroke-width: 0px; fill: rgb(250, 128, 114); fill-opacity: 1;\"/><path class=\"point\" transform=\"translate(42.83,270.53)\" d=\"M3,0A3,3 0 1,1 0,-3A3,3 0 0,1 3,0Z\" style=\"opacity: 1; stroke-width: 0px; fill: rgb(250, 128, 114); fill-opacity: 1;\"/><path class=\"point\" transform=\"translate(39.82,276.32)\" d=\"M3,0A3,3 0 1,1 0,-3A3,3 0 0,1 3,0Z\" style=\"opacity: 1; stroke-width: 0px; fill: rgb(250, 128, 114); fill-opacity: 1;\"/><path class=\"point\" transform=\"translate(48.1,285.59)\" d=\"M3,0A3,3 0 1,1 0,-3A3,3 0 0,1 3,0Z\" style=\"opacity: 1; stroke-width: 0px; fill: rgb(250, 128, 114); fill-opacity: 1;\"/><path class=\"point\" transform=\"translate(30.79,310.08)\" d=\"M3,0A3,3 0 1,1 0,-3A3,3 0 0,1 3,0Z\" style=\"opacity: 1; stroke-width: 0px; fill: rgb(250, 128, 114); fill-opacity: 1;\"/><path class=\"point\" transform=\"translate(21.01,349.67)\" d=\"M3,0A3,3 0 1,1 0,-3A3,3 0 0,1 3,0Z\" style=\"opacity: 1; stroke-width: 0px; fill: rgb(250, 128, 114); fill-opacity: 1;\"/><path class=\"point\" transform=\"translate(29.29,334.45)\" d=\"M3,0A3,3 0 1,1 0,-3A3,3 0 0,1 3,0Z\" style=\"opacity: 1; stroke-width: 0px; fill: rgb(250, 128, 114); fill-opacity: 1;\"/><path class=\"point\" transform=\"translate(30.79,324.78)\" d=\"M3,0A3,3 0 1,1 0,-3A3,3 0 0,1 3,0Z\" style=\"opacity: 1; stroke-width: 0px; fill: rgb(250, 128, 114); fill-opacity: 1;\"/><path class=\"point\" transform=\"translate(18.75,362.49)\" d=\"M3,0A3,3 0 1,1 0,-3A3,3 0 0,1 3,0Z\" style=\"opacity: 1; stroke-width: 0px; fill: rgb(250, 128, 114); fill-opacity: 1;\"/><path class=\"point\" transform=\"translate(25.53,347.71)\" d=\"M3,0A3,3 0 1,1 0,-3A3,3 0 0,1 3,0Z\" style=\"opacity: 1; stroke-width: 0px; fill: rgb(250, 128, 114); fill-opacity: 1;\"/><path class=\"point\" transform=\"translate(21.01,351.47)\" d=\"M3,0A3,3 0 1,1 0,-3A3,3 0 0,1 3,0Z\" style=\"opacity: 1; stroke-width: 0px; fill: rgb(250, 128, 114); fill-opacity: 1;\"/><path class=\"point\" transform=\"translate(24.02,357.78)\" d=\"M3,0A3,3 0 1,1 0,-3A3,3 0 0,1 3,0Z\" style=\"opacity: 1; stroke-width: 0px; fill: rgb(250, 128, 114); fill-opacity: 1;\"/><path class=\"point\" transform=\"translate(25.53,344.12)\" d=\"M3,0A3,3 0 1,1 0,-3A3,3 0 0,1 3,0Z\" style=\"opacity: 1; stroke-width: 0px; fill: rgb(250, 128, 114); fill-opacity: 1;\"/><path class=\"point\" transform=\"translate(27.78,318.35)\" d=\"M3,0A3,3 0 1,1 0,-3A3,3 0 0,1 3,0Z\" style=\"opacity: 1; stroke-width: 0px; fill: rgb(250, 128, 114); fill-opacity: 1;\"/><path class=\"point\" transform=\"translate(22.52,353.79)\" d=\"M3,0A3,3 0 1,1 0,-3A3,3 0 0,1 3,0Z\" style=\"opacity: 1; stroke-width: 0px; fill: rgb(250, 128, 114); fill-opacity: 1;\"/><path class=\"point\" transform=\"translate(38.32,297.67)\" d=\"M3,0A3,3 0 1,1 0,-3A3,3 0 0,1 3,0Z\" style=\"opacity: 1; stroke-width: 0px; fill: rgb(250, 128, 114); fill-opacity: 1;\"/><path class=\"point\" transform=\"translate(24.77,340.91)\" d=\"M3,0A3,3 0 1,1 0,-3A3,3 0 0,1 3,0Z\" style=\"opacity: 1; stroke-width: 0px; fill: rgb(250, 128, 114); fill-opacity: 1;\"/><path class=\"point\" transform=\"translate(21.01,358.24)\" d=\"M3,0A3,3 0 1,1 0,-3A3,3 0 0,1 3,0Z\" style=\"opacity: 1; stroke-width: 0px; fill: rgb(250, 128, 114); fill-opacity: 1;\"/><path class=\"point\" transform=\"translate(22.52,349.01)\" d=\"M3,0A3,3 0 1,1 0,-3A3,3 0 0,1 3,0Z\" style=\"opacity: 1; stroke-width: 0px; fill: rgb(250, 128, 114); fill-opacity: 1;\"/><path class=\"point\" transform=\"translate(27.03,315.94)\" d=\"M3,0A3,3 0 1,1 0,-3A3,3 0 0,1 3,0Z\" style=\"opacity: 1; stroke-width: 0px; fill: rgb(250, 128, 114); fill-opacity: 1;\"/><path class=\"point\" transform=\"translate(22.52,355.63)\" d=\"M3,0A3,3 0 1,1 0,-3A3,3 0 0,1 3,0Z\" style=\"opacity: 1; stroke-width: 0px; fill: rgb(250, 128, 114); fill-opacity: 1;\"/><path class=\"point\" transform=\"translate(21.01,357.53)\" d=\"M3,0A3,3 0 1,1 0,-3A3,3 0 0,1 3,0Z\" style=\"opacity: 1; stroke-width: 0px; fill: rgb(250, 128, 114); fill-opacity: 1;\"/><path class=\"point\" transform=\"translate(24.02,352.35)\" d=\"M3,0A3,3 0 1,1 0,-3A3,3 0 0,1 3,0Z\" style=\"opacity: 1; stroke-width: 0px; fill: rgb(250, 128, 114); fill-opacity: 1;\"/><path class=\"point\" transform=\"translate(19.51,344.85)\" d=\"M3,0A3,3 0 1,1 0,-3A3,3 0 0,1 3,0Z\" style=\"opacity: 1; stroke-width: 0px; fill: rgb(250, 128, 114); fill-opacity: 1;\"/><path class=\"point\" transform=\"translate(22.52,355.32)\" d=\"M3,0A3,3 0 1,1 0,-3A3,3 0 0,1 3,0Z\" style=\"opacity: 1; stroke-width: 0px; fill: rgb(250, 128, 114); fill-opacity: 1;\"/><path class=\"point\" transform=\"translate(64.65,198.19)\" d=\"M3,0A3,3 0 1,1 0,-3A3,3 0 0,1 3,0Z\" style=\"opacity: 1; stroke-width: 0px; fill: rgb(250, 128, 114); fill-opacity: 1;\"/><path class=\"point\" transform=\"translate(43.58,272.91)\" d=\"M3,0A3,3 0 1,1 0,-3A3,3 0 0,1 3,0Z\" style=\"opacity: 1; stroke-width: 0px; fill: rgb(250, 128, 114); fill-opacity: 1;\"/><path class=\"point\" transform=\"translate(36.06,305.66)\" d=\"M3,0A3,3 0 1,1 0,-3A3,3 0 0,1 3,0Z\" style=\"opacity: 1; stroke-width: 0px; fill: rgb(250, 128, 114); fill-opacity: 1;\"/><path class=\"point\" transform=\"translate(30.04,325.18)\" d=\"M3,0A3,3 0 1,1 0,-3A3,3 0 0,1 3,0Z\" style=\"opacity: 1; stroke-width: 0px; fill: rgb(250, 128, 114); fill-opacity: 1;\"/><path class=\"point\" transform=\"translate(21.76,350.24)\" d=\"M3,0A3,3 0 1,1 0,-3A3,3 0 0,1 3,0Z\" style=\"opacity: 1; stroke-width: 0px; fill: rgb(250, 128, 114); fill-opacity: 1;\"/><path class=\"point\" transform=\"translate(26.28,334.45)\" d=\"M3,0A3,3 0 1,1 0,-3A3,3 0 0,1 3,0Z\" style=\"opacity: 1; stroke-width: 0px; fill: rgb(250, 128, 114); fill-opacity: 1;\"/><path class=\"point\" transform=\"translate(27.78,337.52)\" d=\"M3,0A3,3 0 1,1 0,-3A3,3 0 0,1 3,0Z\" style=\"opacity: 1; stroke-width: 0px; fill: rgb(250, 128, 114); fill-opacity: 1;\"/><path class=\"point\" transform=\"translate(24.02,331.02)\" d=\"M3,0A3,3 0 1,1 0,-3A3,3 0 0,1 3,0Z\" style=\"opacity: 1; stroke-width: 0px; fill: rgb(250, 128, 114); fill-opacity: 1;\"/><path class=\"point\" transform=\"translate(23.27,325.73)\" d=\"M3,0A3,3 0 1,1 0,-3A3,3 0 0,1 3,0Z\" style=\"opacity: 1; stroke-width: 0px; fill: rgb(250, 128, 114); fill-opacity: 1;\"/><path class=\"point\" transform=\"translate(24.77,331.22)\" d=\"M3,0A3,3 0 1,1 0,-3A3,3 0 0,1 3,0Z\" style=\"opacity: 1; stroke-width: 0px; fill: rgb(250, 128, 114); fill-opacity: 1;\"/><path class=\"point\" transform=\"translate(26.28,344.9)\" d=\"M3,0A3,3 0 1,1 0,-3A3,3 0 0,1 3,0Z\" style=\"opacity: 1; stroke-width: 0px; fill: rgb(250, 128, 114); fill-opacity: 1;\"/><path class=\"point\" transform=\"translate(31.55,334.32)\" d=\"M3,0A3,3 0 1,1 0,-3A3,3 0 0,1 3,0Z\" style=\"opacity: 1; stroke-width: 0px; fill: rgb(250, 128, 114); fill-opacity: 1;\"/><path class=\"point\" transform=\"translate(24.02,344.7)\" d=\"M3,0A3,3 0 1,1 0,-3A3,3 0 0,1 3,0Z\" style=\"opacity: 1; stroke-width: 0px; fill: rgb(250, 128, 114); fill-opacity: 1;\"/><path class=\"point\" transform=\"translate(20.26,343.45)\" d=\"M3,0A3,3 0 1,1 0,-3A3,3 0 0,1 3,0Z\" style=\"opacity: 1; stroke-width: 0px; fill: rgb(250, 128, 114); fill-opacity: 1;\"/><path class=\"point\" transform=\"translate(19.51,359.94)\" d=\"M3,0A3,3 0 1,1 0,-3A3,3 0 0,1 3,0Z\" style=\"opacity: 1; stroke-width: 0px; fill: rgb(250, 128, 114); fill-opacity: 1;\"/><path class=\"point\" transform=\"translate(18,360.99)\" d=\"M3,0A3,3 0 1,1 0,-3A3,3 0 0,1 3,0Z\" style=\"opacity: 1; stroke-width: 0px; fill: rgb(250, 128, 114); fill-opacity: 1;\"/><path class=\"point\" transform=\"translate(33.8,314.65)\" d=\"M3,0A3,3 0 1,1 0,-3A3,3 0 0,1 3,0Z\" style=\"opacity: 1; stroke-width: 0px; fill: rgb(250, 128, 114); fill-opacity: 1;\"/><path class=\"point\" transform=\"translate(50.36,257.54)\" d=\"M3,0A3,3 0 1,1 0,-3A3,3 0 0,1 3,0Z\" style=\"opacity: 1; stroke-width: 0px; fill: rgb(250, 128, 114); fill-opacity: 1;\"/><path class=\"point\" transform=\"translate(30.04,325.19)\" d=\"M3,0A3,3 0 1,1 0,-3A3,3 0 0,1 3,0Z\" style=\"opacity: 1; stroke-width: 0px; fill: rgb(250, 128, 114); fill-opacity: 1;\"/><path class=\"point\" transform=\"translate(25.53,340.96)\" d=\"M3,0A3,3 0 1,1 0,-3A3,3 0 0,1 3,0Z\" style=\"opacity: 1; stroke-width: 0px; fill: rgb(250, 128, 114); fill-opacity: 1;\"/><path class=\"point\" transform=\"translate(26.28,341.63)\" d=\"M3,0A3,3 0 1,1 0,-3A3,3 0 0,1 3,0Z\" style=\"opacity: 1; stroke-width: 0px; fill: rgb(250, 128, 114); fill-opacity: 1;\"/><path class=\"point\" transform=\"translate(24.77,350.37)\" d=\"M3,0A3,3 0 1,1 0,-3A3,3 0 0,1 3,0Z\" style=\"opacity: 1; stroke-width: 0px; fill: rgb(250, 128, 114); fill-opacity: 1;\"/><path class=\"point\" transform=\"translate(27.78,343.39)\" d=\"M3,0A3,3 0 1,1 0,-3A3,3 0 0,1 3,0Z\" style=\"opacity: 1; stroke-width: 0px; fill: rgb(250, 128, 114); fill-opacity: 1;\"/><path class=\"point\" transform=\"translate(33.8,308.65)\" d=\"M3,0A3,3 0 1,1 0,-3A3,3 0 0,1 3,0Z\" style=\"opacity: 1; stroke-width: 0px; fill: rgb(250, 128, 114); fill-opacity: 1;\"/><path class=\"point\" transform=\"translate(33.8,317.21)\" d=\"M3,0A3,3 0 1,1 0,-3A3,3 0 0,1 3,0Z\" style=\"opacity: 1; stroke-width: 0px; fill: rgb(250, 128, 114); fill-opacity: 1;\"/><path class=\"point\" transform=\"translate(54.87,270.96)\" d=\"M3,0A3,3 0 1,1 0,-3A3,3 0 0,1 3,0Z\" style=\"opacity: 1; stroke-width: 0px; fill: rgb(250, 128, 114); fill-opacity: 1;\"/><path class=\"point\" transform=\"translate(21.01,346.66)\" d=\"M3,0A3,3 0 1,1 0,-3A3,3 0 0,1 3,0Z\" style=\"opacity: 1; stroke-width: 0px; fill: rgb(250, 128, 114); fill-opacity: 1;\"/><path class=\"point\" transform=\"translate(30.79,336.65)\" d=\"M3,0A3,3 0 1,1 0,-3A3,3 0 0,1 3,0Z\" style=\"opacity: 1; stroke-width: 0px; fill: rgb(250, 128, 114); fill-opacity: 1;\"/><path class=\"point\" transform=\"translate(32.3,338.03)\" d=\"M3,0A3,3 0 1,1 0,-3A3,3 0 0,1 3,0Z\" style=\"opacity: 1; stroke-width: 0px; fill: rgb(250, 128, 114); fill-opacity: 1;\"/><path class=\"point\" transform=\"translate(37.56,333.38)\" d=\"M3,0A3,3 0 1,1 0,-3A3,3 0 0,1 3,0Z\" style=\"opacity: 1; stroke-width: 0px; fill: rgb(250, 128, 114); fill-opacity: 1;\"/><path class=\"point\" transform=\"translate(38.32,337.09)\" d=\"M3,0A3,3 0 1,1 0,-3A3,3 0 0,1 3,0Z\" style=\"opacity: 1; stroke-width: 0px; fill: rgb(250, 128, 114); fill-opacity: 1;\"/><path class=\"point\" transform=\"translate(40.57,322.22)\" d=\"M3,0A3,3 0 1,1 0,-3A3,3 0 0,1 3,0Z\" style=\"opacity: 1; stroke-width: 0px; fill: rgb(250, 128, 114); fill-opacity: 1;\"/><path class=\"point\" transform=\"translate(41.33,325.31)\" d=\"M3,0A3,3 0 1,1 0,-3A3,3 0 0,1 3,0Z\" style=\"opacity: 1; stroke-width: 0px; fill: rgb(250, 128, 114); fill-opacity: 1;\"/><path class=\"point\" transform=\"translate(29.29,340.54)\" d=\"M3,0A3,3 0 1,1 0,-3A3,3 0 0,1 3,0Z\" style=\"opacity: 1; stroke-width: 0px; fill: rgb(250, 128, 114); fill-opacity: 1;\"/><path class=\"point\" transform=\"translate(38.32,341.37)\" d=\"M3,0A3,3 0 1,1 0,-3A3,3 0 0,1 3,0Z\" style=\"opacity: 1; stroke-width: 0px; fill: rgb(250, 128, 114); fill-opacity: 1;\"/><path class=\"point\" transform=\"translate(43.58,318.23)\" d=\"M3,0A3,3 0 1,1 0,-3A3,3 0 0,1 3,0Z\" style=\"opacity: 1; stroke-width: 0px; fill: rgb(250, 128, 114); fill-opacity: 1;\"/><path class=\"point\" transform=\"translate(40.57,309.31)\" d=\"M3,0A3,3 0 1,1 0,-3A3,3 0 0,1 3,0Z\" style=\"opacity: 1; stroke-width: 0px; fill: rgb(250, 128, 114); fill-opacity: 1;\"/><path class=\"point\" transform=\"translate(24.02,338.88)\" d=\"M3,0A3,3 0 1,1 0,-3A3,3 0 0,1 3,0Z\" style=\"opacity: 1; stroke-width: 0px; fill: rgb(250, 128, 114); fill-opacity: 1;\"/><path class=\"point\" transform=\"translate(30.79,344)\" d=\"M3,0A3,3 0 1,1 0,-3A3,3 0 0,1 3,0Z\" style=\"opacity: 1; stroke-width: 0px; fill: rgb(250, 128, 114); fill-opacity: 1;\"/><path class=\"point\" transform=\"translate(34.56,336.72)\" d=\"M3,0A3,3 0 1,1 0,-3A3,3 0 0,1 3,0Z\" style=\"opacity: 1; stroke-width: 0px; fill: rgb(250, 128, 114); fill-opacity: 1;\"/><path class=\"point\" transform=\"translate(25.53,352.93)\" d=\"M3,0A3,3 0 1,1 0,-3A3,3 0 0,1 3,0Z\" style=\"opacity: 1; stroke-width: 0px; fill: rgb(250, 128, 114); fill-opacity: 1;\"/><path class=\"point\" transform=\"translate(66.16,234.15)\" d=\"M3,0A3,3 0 1,1 0,-3A3,3 0 0,1 3,0Z\" style=\"opacity: 1; stroke-width: 0px; fill: rgb(250, 128, 114); fill-opacity: 1;\"/><path class=\"point\" transform=\"translate(56.37,290.53)\" d=\"M3,0A3,3 0 1,1 0,-3A3,3 0 0,1 3,0Z\" style=\"opacity: 1; stroke-width: 0px; fill: rgb(250, 128, 114); fill-opacity: 1;\"/><path class=\"point\" transform=\"translate(42.83,321.15)\" d=\"M3,0A3,3 0 1,1 0,-3A3,3 0 0,1 3,0Z\" style=\"opacity: 1; stroke-width: 0px; fill: rgb(250, 128, 114); fill-opacity: 1;\"/><path class=\"point\" transform=\"translate(49.6,299.89)\" d=\"M3,0A3,3 0 1,1 0,-3A3,3 0 0,1 3,0Z\" style=\"opacity: 1; stroke-width: 0px; fill: rgb(250, 128, 114); fill-opacity: 1;\"/><path class=\"point\" transform=\"translate(252.75,23.25)\" d=\"M3,0A3,3 0 1,1 0,-3A3,3 0 0,1 3,0Z\" style=\"opacity: 1; stroke-width: 0px; fill: rgb(250, 128, 114); fill-opacity: 1;\"/><path class=\"point\" transform=\"translate(37.56,341.95)\" d=\"M3,0A3,3 0 1,1 0,-3A3,3 0 0,1 3,0Z\" style=\"opacity: 1; stroke-width: 0px; fill: rgb(250, 128, 114); fill-opacity: 1;\"/><path class=\"point\" transform=\"translate(35.31,333.08)\" d=\"M3,0A3,3 0 1,1 0,-3A3,3 0 0,1 3,0Z\" style=\"opacity: 1; stroke-width: 0px; fill: rgb(250, 128, 114); fill-opacity: 1;\"/><path class=\"point\" transform=\"translate(32.3,340.59)\" d=\"M3,0A3,3 0 1,1 0,-3A3,3 0 0,1 3,0Z\" style=\"opacity: 1; stroke-width: 0px; fill: rgb(250, 128, 114); fill-opacity: 1;\"/><path class=\"point\" transform=\"translate(44.34,336.97)\" d=\"M3,0A3,3 0 1,1 0,-3A3,3 0 0,1 3,0Z\" style=\"opacity: 1; stroke-width: 0px; fill: rgb(250, 128, 114); fill-opacity: 1;\"/><path class=\"point\" transform=\"translate(72.93,295.3)\" d=\"M3,0A3,3 0 1,1 0,-3A3,3 0 0,1 3,0Z\" style=\"opacity: 1; stroke-width: 0px; fill: rgb(250, 128, 114); fill-opacity: 1;\"/><path class=\"point\" transform=\"translate(66.16,291.96)\" d=\"M3,0A3,3 0 1,1 0,-3A3,3 0 0,1 3,0Z\" style=\"opacity: 1; stroke-width: 0px; fill: rgb(250, 128, 114); fill-opacity: 1;\"/><path class=\"point\" transform=\"translate(51.11,319.78)\" d=\"M3,0A3,3 0 1,1 0,-3A3,3 0 0,1 3,0Z\" style=\"opacity: 1; stroke-width: 0px; fill: rgb(250, 128, 114); fill-opacity: 1;\"/><path class=\"point\" transform=\"translate(24.77,362.1)\" d=\"M3,0A3,3 0 1,1 0,-3A3,3 0 0,1 3,0Z\" style=\"opacity: 1; stroke-width: 0px; fill: rgb(250, 128, 114); fill-opacity: 1;\"/><path class=\"point\" transform=\"translate(69.17,295.05)\" d=\"M3,0A3,3 0 1,1 0,-3A3,3 0 0,1 3,0Z\" style=\"opacity: 1; stroke-width: 0px; fill: rgb(250, 128, 114); fill-opacity: 1;\"/><path class=\"point\" transform=\"translate(39.07,338.9)\" d=\"M3,0A3,3 0 1,1 0,-3A3,3 0 0,1 3,0Z\" style=\"opacity: 1; stroke-width: 0px; fill: rgb(250, 128, 114); fill-opacity: 1;\"/><path class=\"point\" transform=\"translate(57.13,317.43)\" d=\"M3,0A3,3 0 1,1 0,-3A3,3 0 0,1 3,0Z\" style=\"opacity: 1; stroke-width: 0px; fill: rgb(250, 128, 114); fill-opacity: 1;\"/><path class=\"point\" transform=\"translate(46.59,337.03)\" d=\"M3,0A3,3 0 1,1 0,-3A3,3 0 0,1 3,0Z\" style=\"opacity: 1; stroke-width: 0px; fill: rgb(250, 128, 114); fill-opacity: 1;\"/><path class=\"point\" transform=\"translate(42.08,321.69)\" d=\"M3,0A3,3 0 1,1 0,-3A3,3 0 0,1 3,0Z\" style=\"opacity: 1; stroke-width: 0px; fill: rgb(250, 128, 114); fill-opacity: 1;\"/><path class=\"point\" transform=\"translate(38.32,347.04)\" d=\"M3,0A3,3 0 1,1 0,-3A3,3 0 0,1 3,0Z\" style=\"opacity: 1; stroke-width: 0px; fill: rgb(250, 128, 114); fill-opacity: 1;\"/><path class=\"point\" transform=\"translate(52.61,320.19)\" d=\"M3,0A3,3 0 1,1 0,-3A3,3 0 0,1 3,0Z\" style=\"opacity: 1; stroke-width: 0px; fill: rgb(250, 128, 114); fill-opacity: 1;\"/><path class=\"point\" transform=\"translate(37.56,339.1)\" d=\"M3,0A3,3 0 1,1 0,-3A3,3 0 0,1 3,0Z\" style=\"opacity: 1; stroke-width: 0px; fill: rgb(250, 128, 114); fill-opacity: 1;\"/><path class=\"point\" transform=\"translate(33.8,342.68)\" d=\"M3,0A3,3 0 1,1 0,-3A3,3 0 0,1 3,0Z\" style=\"opacity: 1; stroke-width: 0px; fill: rgb(250, 128, 114); fill-opacity: 1;\"/><path class=\"point\" transform=\"translate(33.05,346.87)\" d=\"M3,0A3,3 0 1,1 0,-3A3,3 0 0,1 3,0Z\" style=\"opacity: 1; stroke-width: 0px; fill: rgb(250, 128, 114); fill-opacity: 1;\"/><path class=\"point\" transform=\"translate(33.05,340.95)\" d=\"M3,0A3,3 0 1,1 0,-3A3,3 0 0,1 3,0Z\" style=\"opacity: 1; stroke-width: 0px; fill: rgb(250, 128, 114); fill-opacity: 1;\"/><path class=\"point\" transform=\"translate(90.23,228.89)\" d=\"M3,0A3,3 0 1,1 0,-3A3,3 0 0,1 3,0Z\" style=\"opacity: 1; stroke-width: 0px; fill: rgb(250, 128, 114); fill-opacity: 1;\"/><path class=\"point\" transform=\"translate(37.56,336.71)\" d=\"M3,0A3,3 0 1,1 0,-3A3,3 0 0,1 3,0Z\" style=\"opacity: 1; stroke-width: 0px; fill: rgb(250, 128, 114); fill-opacity: 1;\"/><path class=\"point\" transform=\"translate(28.54,349.18)\" d=\"M3,0A3,3 0 1,1 0,-3A3,3 0 0,1 3,0Z\" style=\"opacity: 1; stroke-width: 0px; fill: rgb(250, 128, 114); fill-opacity: 1;\"/><path class=\"point\" transform=\"translate(36.81,316.75)\" d=\"M3,0A3,3 0 1,1 0,-3A3,3 0 0,1 3,0Z\" style=\"opacity: 1; stroke-width: 0px; fill: rgb(250, 128, 114); fill-opacity: 1;\"/><path class=\"point\" transform=\"translate(26.28,343.79)\" d=\"M3,0A3,3 0 1,1 0,-3A3,3 0 0,1 3,0Z\" style=\"opacity: 1; stroke-width: 0px; fill: rgb(250, 128, 114); fill-opacity: 1;\"/><path class=\"point\" transform=\"translate(52.61,301.52)\" d=\"M3,0A3,3 0 1,1 0,-3A3,3 0 0,1 3,0Z\" style=\"opacity: 1; stroke-width: 0px; fill: rgb(250, 128, 114); fill-opacity: 1;\"/><path class=\"point\" transform=\"translate(64.65,263.72)\" d=\"M3,0A3,3 0 1,1 0,-3A3,3 0 0,1 3,0Z\" style=\"opacity: 1; stroke-width: 0px; fill: rgb(250, 128, 114); fill-opacity: 1;\"/><path class=\"point\" transform=\"translate(45.84,325.2)\" d=\"M3,0A3,3 0 1,1 0,-3A3,3 0 0,1 3,0Z\" style=\"opacity: 1; stroke-width: 0px; fill: rgb(250, 128, 114); fill-opacity: 1;\"/><path class=\"point\" transform=\"translate(40.57,334.14)\" d=\"M3,0A3,3 0 1,1 0,-3A3,3 0 0,1 3,0Z\" style=\"opacity: 1; stroke-width: 0px; fill: rgb(250, 128, 114); fill-opacity: 1;\"/><path class=\"point\" transform=\"translate(27.03,348.58)\" d=\"M3,0A3,3 0 1,1 0,-3A3,3 0 0,1 3,0Z\" style=\"opacity: 1; stroke-width: 0px; fill: rgb(250, 128, 114); fill-opacity: 1;\"/><path class=\"point\" transform=\"translate(30.04,351.47)\" d=\"M3,0A3,3 0 1,1 0,-3A3,3 0 0,1 3,0Z\" style=\"opacity: 1; stroke-width: 0px; fill: rgb(250, 128, 114); fill-opacity: 1;\"/><path class=\"point\" transform=\"translate(28.54,345.54)\" d=\"M3,0A3,3 0 1,1 0,-3A3,3 0 0,1 3,0Z\" style=\"opacity: 1; stroke-width: 0px; fill: rgb(250, 128, 114); fill-opacity: 1;\"/><path class=\"point\" transform=\"translate(25.53,356.38)\" d=\"M3,0A3,3 0 1,1 0,-3A3,3 0 0,1 3,0Z\" style=\"opacity: 1; stroke-width: 0px; fill: rgb(250, 128, 114); fill-opacity: 1;\"/><path class=\"point\" transform=\"translate(31.55,340.57)\" d=\"M3,0A3,3 0 1,1 0,-3A3,3 0 0,1 3,0Z\" style=\"opacity: 1; stroke-width: 0px; fill: rgb(250, 128, 114); fill-opacity: 1;\"/><path class=\"point\" transform=\"translate(20.26,362.19)\" d=\"M3,0A3,3 0 1,1 0,-3A3,3 0 0,1 3,0Z\" style=\"opacity: 1; stroke-width: 0px; fill: rgb(250, 128, 114); fill-opacity: 1;\"/><path class=\"point\" transform=\"translate(25.53,348.39)\" d=\"M3,0A3,3 0 1,1 0,-3A3,3 0 0,1 3,0Z\" style=\"opacity: 1; stroke-width: 0px; fill: rgb(250, 128, 114); fill-opacity: 1;\"/><path class=\"point\" transform=\"translate(28.54,349.47)\" d=\"M3,0A3,3 0 1,1 0,-3A3,3 0 0,1 3,0Z\" style=\"opacity: 1; stroke-width: 0px; fill: rgb(250, 128, 114); fill-opacity: 1;\"/><path class=\"point\" transform=\"translate(23.27,358.08)\" d=\"M3,0A3,3 0 1,1 0,-3A3,3 0 0,1 3,0Z\" style=\"opacity: 1; stroke-width: 0px; fill: rgb(250, 128, 114); fill-opacity: 1;\"/><path class=\"point\" transform=\"translate(34.56,344.62)\" d=\"M3,0A3,3 0 1,1 0,-3A3,3 0 0,1 3,0Z\" style=\"opacity: 1; stroke-width: 0px; fill: rgb(250, 128, 114); fill-opacity: 1;\"/><path class=\"point\" transform=\"translate(31.55,347.68)\" d=\"M3,0A3,3 0 1,1 0,-3A3,3 0 0,1 3,0Z\" style=\"opacity: 1; stroke-width: 0px; fill: rgb(250, 128, 114); fill-opacity: 1;\"/><path class=\"point\" transform=\"translate(27.03,350.52)\" d=\"M3,0A3,3 0 1,1 0,-3A3,3 0 0,1 3,0Z\" style=\"opacity: 1; stroke-width: 0px; fill: rgb(250, 128, 114); fill-opacity: 1;\"/><path class=\"point\" transform=\"translate(38.32,330.57)\" d=\"M3,0A3,3 0 1,1 0,-3A3,3 0 0,1 3,0Z\" style=\"opacity: 1; stroke-width: 0px; fill: rgb(250, 128, 114); fill-opacity: 1;\"/><path class=\"point\" transform=\"translate(18,362.71)\" d=\"M3,0A3,3 0 1,1 0,-3A3,3 0 0,1 3,0Z\" style=\"opacity: 1; stroke-width: 0px; fill: rgb(250, 128, 114); fill-opacity: 1;\"/><path class=\"point\" transform=\"translate(22.52,353.85)\" d=\"M3,0A3,3 0 1,1 0,-3A3,3 0 0,1 3,0Z\" style=\"opacity: 1; stroke-width: 0px; fill: rgb(250, 128, 114); fill-opacity: 1;\"/><path class=\"point\" transform=\"translate(72.93,245.87)\" d=\"M3,0A3,3 0 1,1 0,-3A3,3 0 0,1 3,0Z\" style=\"opacity: 1; stroke-width: 0px; fill: rgb(250, 128, 114); fill-opacity: 1;\"/><path class=\"point\" transform=\"translate(19.51,360.45)\" d=\"M3,0A3,3 0 1,1 0,-3A3,3 0 0,1 3,0Z\" style=\"opacity: 1; stroke-width: 0px; fill: rgb(250, 128, 114); fill-opacity: 1;\"/><path class=\"point\" transform=\"translate(18.75,366.75)\" d=\"M3,0A3,3 0 1,1 0,-3A3,3 0 0,1 3,0Z\" style=\"opacity: 1; stroke-width: 0px; fill: rgb(250, 128, 114); fill-opacity: 1;\"/><path class=\"point\" transform=\"translate(17.25,366.59)\" d=\"M3,0A3,3 0 1,1 0,-3A3,3 0 0,1 3,0Z\" style=\"opacity: 1; stroke-width: 0px; fill: rgb(250, 128, 114); fill-opacity: 1;\"/><path class=\"point\" transform=\"translate(17.25,366.16)\" d=\"M3,0A3,3 0 1,1 0,-3A3,3 0 0,1 3,0Z\" style=\"opacity: 1; stroke-width: 0px; fill: rgb(250, 128, 114); fill-opacity: 1;\"/><path class=\"point\" transform=\"translate(29.29,339.28)\" d=\"M3,0A3,3 0 1,1 0,-3A3,3 0 0,1 3,0Z\" style=\"opacity: 1; stroke-width: 0px; fill: rgb(250, 128, 114); fill-opacity: 1;\"/><path class=\"point\" transform=\"translate(24.77,352.12)\" d=\"M3,0A3,3 0 1,1 0,-3A3,3 0 0,1 3,0Z\" style=\"opacity: 1; stroke-width: 0px; fill: rgb(250, 128, 114); fill-opacity: 1;\"/><path class=\"point\" transform=\"translate(20.26,356.22)\" d=\"M3,0A3,3 0 1,1 0,-3A3,3 0 0,1 3,0Z\" style=\"opacity: 1; stroke-width: 0px; fill: rgb(250, 128, 114); fill-opacity: 1;\"/><path class=\"point\" transform=\"translate(20.26,357.32)\" d=\"M3,0A3,3 0 1,1 0,-3A3,3 0 0,1 3,0Z\" style=\"opacity: 1; stroke-width: 0px; fill: rgb(250, 128, 114); fill-opacity: 1;\"/><path class=\"point\" transform=\"translate(24.02,355.03)\" d=\"M3,0A3,3 0 1,1 0,-3A3,3 0 0,1 3,0Z\" style=\"opacity: 1; stroke-width: 0px; fill: rgb(250, 128, 114); fill-opacity: 1;\"/><path class=\"point\" transform=\"translate(21.76,356.24)\" d=\"M3,0A3,3 0 1,1 0,-3A3,3 0 0,1 3,0Z\" style=\"opacity: 1; stroke-width: 0px; fill: rgb(250, 128, 114); fill-opacity: 1;\"/><path class=\"point\" transform=\"translate(24.02,355.68)\" d=\"M3,0A3,3 0 1,1 0,-3A3,3 0 0,1 3,0Z\" style=\"opacity: 1; stroke-width: 0px; fill: rgb(250, 128, 114); fill-opacity: 1;\"/><path class=\"point\" transform=\"translate(23.27,352.25)\" d=\"M3,0A3,3 0 1,1 0,-3A3,3 0 0,1 3,0Z\" style=\"opacity: 1; stroke-width: 0px; fill: rgb(250, 128, 114); fill-opacity: 1;\"/><path class=\"point\" transform=\"translate(21.76,349.95)\" d=\"M3,0A3,3 0 1,1 0,-3A3,3 0 0,1 3,0Z\" style=\"opacity: 1; stroke-width: 0px; fill: rgb(250, 128, 114); fill-opacity: 1;\"/><path class=\"point\" transform=\"translate(21.01,358.98)\" d=\"M3,0A3,3 0 1,1 0,-3A3,3 0 0,1 3,0Z\" style=\"opacity: 1; stroke-width: 0px; fill: rgb(250, 128, 114); fill-opacity: 1;\"/><path class=\"point\" transform=\"translate(24.77,337.01)\" d=\"M3,0A3,3 0 1,1 0,-3A3,3 0 0,1 3,0Z\" style=\"opacity: 1; stroke-width: 0px; fill: rgb(250, 128, 114); fill-opacity: 1;\"/><path class=\"point\" transform=\"translate(24.02,336.2)\" d=\"M3,0A3,3 0 1,1 0,-3A3,3 0 0,1 3,0Z\" style=\"opacity: 1; stroke-width: 0px; fill: rgb(250, 128, 114); fill-opacity: 1;\"/><path class=\"point\" transform=\"translate(21.01,342.51)\" d=\"M3,0A3,3 0 1,1 0,-3A3,3 0 0,1 3,0Z\" style=\"opacity: 1; stroke-width: 0px; fill: rgb(250, 128, 114); fill-opacity: 1;\"/><path class=\"point\" transform=\"translate(24.77,337.04)\" d=\"M3,0A3,3 0 1,1 0,-3A3,3 0 0,1 3,0Z\" style=\"opacity: 1; stroke-width: 0px; fill: rgb(250, 128, 114); fill-opacity: 1;\"/><path class=\"point\" transform=\"translate(20.26,355.24)\" d=\"M3,0A3,3 0 1,1 0,-3A3,3 0 0,1 3,0Z\" style=\"opacity: 1; stroke-width: 0px; fill: rgb(250, 128, 114); fill-opacity: 1;\"/><path class=\"point\" transform=\"translate(40.57,246.56)\" d=\"M3,0A3,3 0 1,1 0,-3A3,3 0 0,1 3,0Z\" style=\"opacity: 1; stroke-width: 0px; fill: rgb(250, 128, 114); fill-opacity: 1;\"/><path class=\"point\" transform=\"translate(20.26,349.01)\" d=\"M3,0A3,3 0 1,1 0,-3A3,3 0 0,1 3,0Z\" style=\"opacity: 1; stroke-width: 0px; fill: rgb(250, 128, 114); fill-opacity: 1;\"/><path class=\"point\" transform=\"translate(27.03,325.16)\" d=\"M3,0A3,3 0 1,1 0,-3A3,3 0 0,1 3,0Z\" style=\"opacity: 1; stroke-width: 0px; fill: rgb(250, 128, 114); fill-opacity: 1;\"/><path class=\"point\" transform=\"translate(25.53,355.65)\" d=\"M3,0A3,3 0 1,1 0,-3A3,3 0 0,1 3,0Z\" style=\"opacity: 1; stroke-width: 0px; fill: rgb(250, 128, 114); fill-opacity: 1;\"/><path class=\"point\" transform=\"translate(30.79,350.87)\" d=\"M3,0A3,3 0 1,1 0,-3A3,3 0 0,1 3,0Z\" style=\"opacity: 1; stroke-width: 0px; fill: rgb(250, 128, 114); fill-opacity: 1;\"/><path class=\"point\" transform=\"translate(24.02,350.56)\" d=\"M3,0A3,3 0 1,1 0,-3A3,3 0 0,1 3,0Z\" style=\"opacity: 1; stroke-width: 0px; fill: rgb(250, 128, 114); fill-opacity: 1;\"/><path class=\"point\" transform=\"translate(31.55,343.25)\" d=\"M3,0A3,3 0 1,1 0,-3A3,3 0 0,1 3,0Z\" style=\"opacity: 1; stroke-width: 0px; fill: rgb(250, 128, 114); fill-opacity: 1;\"/><path class=\"point\" transform=\"translate(40.57,328.61)\" d=\"M3,0A3,3 0 1,1 0,-3A3,3 0 0,1 3,0Z\" style=\"opacity: 1; stroke-width: 0px; fill: rgb(250, 128, 114); fill-opacity: 1;\"/><path class=\"point\" transform=\"translate(24.77,351.48)\" d=\"M3,0A3,3 0 1,1 0,-3A3,3 0 0,1 3,0Z\" style=\"opacity: 1; stroke-width: 0px; fill: rgb(250, 128, 114); fill-opacity: 1;\"/><path class=\"point\" transform=\"translate(29.29,352.49)\" d=\"M3,0A3,3 0 1,1 0,-3A3,3 0 0,1 3,0Z\" style=\"opacity: 1; stroke-width: 0px; fill: rgb(250, 128, 114); fill-opacity: 1;\"/><path class=\"point\" transform=\"translate(32.3,342.72)\" d=\"M3,0A3,3 0 1,1 0,-3A3,3 0 0,1 3,0Z\" style=\"opacity: 1; stroke-width: 0px; fill: rgb(250, 128, 114); fill-opacity: 1;\"/><path class=\"point\" transform=\"translate(33.8,345.55)\" d=\"M3,0A3,3 0 1,1 0,-3A3,3 0 0,1 3,0Z\" style=\"opacity: 1; stroke-width: 0px; fill: rgb(250, 128, 114); fill-opacity: 1;\"/><path class=\"point\" transform=\"translate(24.02,361.6)\" d=\"M3,0A3,3 0 1,1 0,-3A3,3 0 0,1 3,0Z\" style=\"opacity: 1; stroke-width: 0px; fill: rgb(250, 128, 114); fill-opacity: 1;\"/><path class=\"point\" transform=\"translate(30.04,355.64)\" d=\"M3,0A3,3 0 1,1 0,-3A3,3 0 0,1 3,0Z\" style=\"opacity: 1; stroke-width: 0px; fill: rgb(250, 128, 114); fill-opacity: 1;\"/><path class=\"point\" transform=\"translate(23.27,356.42)\" d=\"M3,0A3,3 0 1,1 0,-3A3,3 0 0,1 3,0Z\" style=\"opacity: 1; stroke-width: 0px; fill: rgb(250, 128, 114); fill-opacity: 1;\"/><path class=\"point\" transform=\"translate(23.27,356.39)\" d=\"M3,0A3,3 0 1,1 0,-3A3,3 0 0,1 3,0Z\" style=\"opacity: 1; stroke-width: 0px; fill: rgb(250, 128, 114); fill-opacity: 1;\"/><path class=\"point\" transform=\"translate(20.26,361.51)\" d=\"M3,0A3,3 0 1,1 0,-3A3,3 0 0,1 3,0Z\" style=\"opacity: 1; stroke-width: 0px; fill: rgb(250, 128, 114); fill-opacity: 1;\"/><path class=\"point\" transform=\"translate(99.26,214.81)\" d=\"M3,0A3,3 0 1,1 0,-3A3,3 0 0,1 3,0Z\" style=\"opacity: 1; stroke-width: 0px; fill: rgb(250, 128, 114); fill-opacity: 1;\"/><path class=\"point\" transform=\"translate(26.28,349.79)\" d=\"M3,0A3,3 0 1,1 0,-3A3,3 0 0,1 3,0Z\" style=\"opacity: 1; stroke-width: 0px; fill: rgb(250, 128, 114); fill-opacity: 1;\"/><path class=\"point\" transform=\"translate(24.02,348.43)\" d=\"M3,0A3,3 0 1,1 0,-3A3,3 0 0,1 3,0Z\" style=\"opacity: 1; stroke-width: 0px; fill: rgb(250, 128, 114); fill-opacity: 1;\"/><path class=\"point\" transform=\"translate(20.26,358.1)\" d=\"M3,0A3,3 0 1,1 0,-3A3,3 0 0,1 3,0Z\" style=\"opacity: 1; stroke-width: 0px; fill: rgb(250, 128, 114); fill-opacity: 1;\"/><path class=\"point\" transform=\"translate(24.77,354.92)\" d=\"M3,0A3,3 0 1,1 0,-3A3,3 0 0,1 3,0Z\" style=\"opacity: 1; stroke-width: 0px; fill: rgb(250, 128, 114); fill-opacity: 1;\"/><path class=\"point\" transform=\"translate(44.34,323.17)\" d=\"M3,0A3,3 0 1,1 0,-3A3,3 0 0,1 3,0Z\" style=\"opacity: 1; stroke-width: 0px; fill: rgb(250, 128, 114); fill-opacity: 1;\"/><path class=\"point\" transform=\"translate(27.03,357.45)\" d=\"M3,0A3,3 0 1,1 0,-3A3,3 0 0,1 3,0Z\" style=\"opacity: 1; stroke-width: 0px; fill: rgb(250, 128, 114); fill-opacity: 1;\"/><path class=\"point\" transform=\"translate(34.56,335.28)\" d=\"M3,0A3,3 0 1,1 0,-3A3,3 0 0,1 3,0Z\" style=\"opacity: 1; stroke-width: 0px; fill: rgb(250, 128, 114); fill-opacity: 1;\"/><path class=\"point\" transform=\"translate(35.31,336.09)\" d=\"M3,0A3,3 0 1,1 0,-3A3,3 0 0,1 3,0Z\" style=\"opacity: 1; stroke-width: 0px; fill: rgb(250, 128, 114); fill-opacity: 1;\"/><path class=\"point\" transform=\"translate(20.26,360.25)\" d=\"M3,0A3,3 0 1,1 0,-3A3,3 0 0,1 3,0Z\" style=\"opacity: 1; stroke-width: 0px; fill: rgb(250, 128, 114); fill-opacity: 1;\"/><path class=\"point\" transform=\"translate(113.56,199.33)\" d=\"M3,0A3,3 0 1,1 0,-3A3,3 0 0,1 3,0Z\" style=\"opacity: 1; stroke-width: 0px; fill: rgb(250, 128, 114); fill-opacity: 1;\"/><path class=\"point\" transform=\"translate(28.54,330.64)\" d=\"M3,0A3,3 0 1,1 0,-3A3,3 0 0,1 3,0Z\" style=\"opacity: 1; stroke-width: 0px; fill: rgb(250, 128, 114); fill-opacity: 1;\"/><path class=\"point\" transform=\"translate(26.28,325.42)\" d=\"M3,0A3,3 0 1,1 0,-3A3,3 0 0,1 3,0Z\" style=\"opacity: 1; stroke-width: 0px; fill: rgb(250, 128, 114); fill-opacity: 1;\"/><path class=\"point\" transform=\"translate(29.29,345.78)\" d=\"M3,0A3,3 0 1,1 0,-3A3,3 0 0,1 3,0Z\" style=\"opacity: 1; stroke-width: 0px; fill: rgb(250, 128, 114); fill-opacity: 1;\"/><path class=\"point\" transform=\"translate(24.02,353.7)\" d=\"M3,0A3,3 0 1,1 0,-3A3,3 0 0,1 3,0Z\" style=\"opacity: 1; stroke-width: 0px; fill: rgb(250, 128, 114); fill-opacity: 1;\"/><path class=\"point\" transform=\"translate(27.03,351.72)\" d=\"M3,0A3,3 0 1,1 0,-3A3,3 0 0,1 3,0Z\" style=\"opacity: 1; stroke-width: 0px; fill: rgb(250, 128, 114); fill-opacity: 1;\"/><path class=\"point\" transform=\"translate(23.27,353.76)\" d=\"M3,0A3,3 0 1,1 0,-3A3,3 0 0,1 3,0Z\" style=\"opacity: 1; stroke-width: 0px; fill: rgb(250, 128, 114); fill-opacity: 1;\"/><path class=\"point\" transform=\"translate(27.03,349.86)\" d=\"M3,0A3,3 0 1,1 0,-3A3,3 0 0,1 3,0Z\" style=\"opacity: 1; stroke-width: 0px; fill: rgb(250, 128, 114); fill-opacity: 1;\"/><path class=\"point\" transform=\"translate(23.27,355.45)\" d=\"M3,0A3,3 0 1,1 0,-3A3,3 0 0,1 3,0Z\" style=\"opacity: 1; stroke-width: 0px; fill: rgb(250, 128, 114); fill-opacity: 1;\"/><path class=\"point\" transform=\"translate(21.76,352.98)\" d=\"M3,0A3,3 0 1,1 0,-3A3,3 0 0,1 3,0Z\" style=\"opacity: 1; stroke-width: 0px; fill: rgb(250, 128, 114); fill-opacity: 1;\"/><path class=\"point\" transform=\"translate(21.76,357.73)\" d=\"M3,0A3,3 0 1,1 0,-3A3,3 0 0,1 3,0Z\" style=\"opacity: 1; stroke-width: 0px; fill: rgb(250, 128, 114); fill-opacity: 1;\"/><path class=\"point\" transform=\"translate(18.75,363.68)\" d=\"M3,0A3,3 0 1,1 0,-3A3,3 0 0,1 3,0Z\" style=\"opacity: 1; stroke-width: 0px; fill: rgb(250, 128, 114); fill-opacity: 1;\"/><path class=\"point\" transform=\"translate(83.46,267.33)\" d=\"M3,0A3,3 0 1,1 0,-3A3,3 0 0,1 3,0Z\" style=\"opacity: 1; stroke-width: 0px; fill: rgb(250, 128, 114); fill-opacity: 1;\"/><path class=\"point\" transform=\"translate(27.78,350.95)\" d=\"M3,0A3,3 0 1,1 0,-3A3,3 0 0,1 3,0Z\" style=\"opacity: 1; stroke-width: 0px; fill: rgb(250, 128, 114); fill-opacity: 1;\"/><path class=\"point\" transform=\"translate(33.05,346.48)\" d=\"M3,0A3,3 0 1,1 0,-3A3,3 0 0,1 3,0Z\" style=\"opacity: 1; stroke-width: 0px; fill: rgb(250, 128, 114); fill-opacity: 1;\"/><path class=\"point\" transform=\"translate(27.03,344.25)\" d=\"M3,0A3,3 0 1,1 0,-3A3,3 0 0,1 3,0Z\" style=\"opacity: 1; stroke-width: 0px; fill: rgb(250, 128, 114); fill-opacity: 1;\"/><path class=\"point\" transform=\"translate(23.27,358.4)\" d=\"M3,0A3,3 0 1,1 0,-3A3,3 0 0,1 3,0Z\" style=\"opacity: 1; stroke-width: 0px; fill: rgb(250, 128, 114); fill-opacity: 1;\"/><path class=\"point\" transform=\"translate(36.06,347.61)\" d=\"M3,0A3,3 0 1,1 0,-3A3,3 0 0,1 3,0Z\" style=\"opacity: 1; stroke-width: 0px; fill: rgb(250, 128, 114); fill-opacity: 1;\"/><path class=\"point\" transform=\"translate(28.54,338.73)\" d=\"M3,0A3,3 0 1,1 0,-3A3,3 0 0,1 3,0Z\" style=\"opacity: 1; stroke-width: 0px; fill: rgb(250, 128, 114); fill-opacity: 1;\"/><path class=\"point\" transform=\"translate(33.8,307.17)\" d=\"M3,0A3,3 0 1,1 0,-3A3,3 0 0,1 3,0Z\" style=\"opacity: 1; stroke-width: 0px; fill: rgb(250, 128, 114); fill-opacity: 1;\"/><path class=\"point\" transform=\"translate(26.28,344.03)\" d=\"M3,0A3,3 0 1,1 0,-3A3,3 0 0,1 3,0Z\" style=\"opacity: 1; stroke-width: 0px; fill: rgb(250, 128, 114); fill-opacity: 1;\"/><path class=\"point\" transform=\"translate(23.27,351.32)\" d=\"M3,0A3,3 0 1,1 0,-3A3,3 0 0,1 3,0Z\" style=\"opacity: 1; stroke-width: 0px; fill: rgb(250, 128, 114); fill-opacity: 1;\"/><path class=\"point\" transform=\"translate(24.02,336.46)\" d=\"M3,0A3,3 0 1,1 0,-3A3,3 0 0,1 3,0Z\" style=\"opacity: 1; stroke-width: 0px; fill: rgb(250, 128, 114); fill-opacity: 1;\"/><path class=\"point\" transform=\"translate(25.53,349.59)\" d=\"M3,0A3,3 0 1,1 0,-3A3,3 0 0,1 3,0Z\" style=\"opacity: 1; stroke-width: 0px; fill: rgb(250, 128, 114); fill-opacity: 1;\"/><path class=\"point\" transform=\"translate(18.75,355.92)\" d=\"M3,0A3,3 0 1,1 0,-3A3,3 0 0,1 3,0Z\" style=\"opacity: 1; stroke-width: 0px; fill: rgb(250, 128, 114); fill-opacity: 1;\"/><path class=\"point\" transform=\"translate(28.54,337.19)\" d=\"M3,0A3,3 0 1,1 0,-3A3,3 0 0,1 3,0Z\" style=\"opacity: 1; stroke-width: 0px; fill: rgb(250, 128, 114); fill-opacity: 1;\"/><path class=\"point\" transform=\"translate(18,360.99)\" d=\"M3,0A3,3 0 1,1 0,-3A3,3 0 0,1 3,0Z\" style=\"opacity: 1; stroke-width: 0px; fill: rgb(250, 128, 114); fill-opacity: 1;\"/><path class=\"point\" transform=\"translate(21.76,349.81)\" d=\"M3,0A3,3 0 1,1 0,-3A3,3 0 0,1 3,0Z\" style=\"opacity: 1; stroke-width: 0px; fill: rgb(250, 128, 114); fill-opacity: 1;\"/><path class=\"point\" transform=\"translate(32.3,318.06)\" d=\"M3,0A3,3 0 1,1 0,-3A3,3 0 0,1 3,0Z\" style=\"opacity: 1; stroke-width: 0px; fill: rgb(250, 128, 114); fill-opacity: 1;\"/><path class=\"point\" transform=\"translate(25.53,339.5)\" d=\"M3,0A3,3 0 1,1 0,-3A3,3 0 0,1 3,0Z\" style=\"opacity: 1; stroke-width: 0px; fill: rgb(250, 128, 114); fill-opacity: 1;\"/><path class=\"point\" transform=\"translate(24.02,347.11)\" d=\"M3,0A3,3 0 1,1 0,-3A3,3 0 0,1 3,0Z\" style=\"opacity: 1; stroke-width: 0px; fill: rgb(250, 128, 114); fill-opacity: 1;\"/><path class=\"point\" transform=\"translate(21.01,355.14)\" d=\"M3,0A3,3 0 1,1 0,-3A3,3 0 0,1 3,0Z\" style=\"opacity: 1; stroke-width: 0px; fill: rgb(250, 128, 114); fill-opacity: 1;\"/><path class=\"point\" transform=\"translate(18.75,358.95)\" d=\"M3,0A3,3 0 1,1 0,-3A3,3 0 0,1 3,0Z\" style=\"opacity: 1; stroke-width: 0px; fill: rgb(250, 128, 114); fill-opacity: 1;\"/><path class=\"point\" transform=\"translate(25.53,325.77)\" d=\"M3,0A3,3 0 1,1 0,-3A3,3 0 0,1 3,0Z\" style=\"opacity: 1; stroke-width: 0px; fill: rgb(250, 128, 114); fill-opacity: 1;\"/><path class=\"point\" transform=\"translate(20.26,356.34)\" d=\"M3,0A3,3 0 1,1 0,-3A3,3 0 0,1 3,0Z\" style=\"opacity: 1; stroke-width: 0px; fill: rgb(250, 128, 114); fill-opacity: 1;\"/><path class=\"point\" transform=\"translate(26.28,351.01)\" d=\"M3,0A3,3 0 1,1 0,-3A3,3 0 0,1 3,0Z\" style=\"opacity: 1; stroke-width: 0px; fill: rgb(250, 128, 114); fill-opacity: 1;\"/><path class=\"point\" transform=\"translate(21.01,359.09)\" d=\"M3,0A3,3 0 1,1 0,-3A3,3 0 0,1 3,0Z\" style=\"opacity: 1; stroke-width: 0px; fill: rgb(250, 128, 114); fill-opacity: 1;\"/><path class=\"point\" transform=\"translate(23.27,351.62)\" d=\"M3,0A3,3 0 1,1 0,-3A3,3 0 0,1 3,0Z\" style=\"opacity: 1; stroke-width: 0px; fill: rgb(250, 128, 114); fill-opacity: 1;\"/><path class=\"point\" transform=\"translate(23.27,356.66)\" d=\"M3,0A3,3 0 1,1 0,-3A3,3 0 0,1 3,0Z\" style=\"opacity: 1; stroke-width: 0px; fill: rgb(250, 128, 114); fill-opacity: 1;\"/><path class=\"point\" transform=\"translate(50.36,318.09)\" d=\"M3,0A3,3 0 1,1 0,-3A3,3 0 0,1 3,0Z\" style=\"opacity: 1; stroke-width: 0px; fill: rgb(250, 128, 114); fill-opacity: 1;\"/><path class=\"point\" transform=\"translate(21.76,353.17)\" d=\"M3,0A3,3 0 1,1 0,-3A3,3 0 0,1 3,0Z\" style=\"opacity: 1; stroke-width: 0px; fill: rgb(250, 128, 114); fill-opacity: 1;\"/><path class=\"point\" transform=\"translate(27.78,351.49)\" d=\"M3,0A3,3 0 1,1 0,-3A3,3 0 0,1 3,0Z\" style=\"opacity: 1; stroke-width: 0px; fill: rgb(250, 128, 114); fill-opacity: 1;\"/><path class=\"point\" transform=\"translate(24.02,354.41)\" d=\"M3,0A3,3 0 1,1 0,-3A3,3 0 0,1 3,0Z\" style=\"opacity: 1; stroke-width: 0px; fill: rgb(250, 128, 114); fill-opacity: 1;\"/><path class=\"point\" transform=\"translate(21.01,356.74)\" d=\"M3,0A3,3 0 1,1 0,-3A3,3 0 0,1 3,0Z\" style=\"opacity: 1; stroke-width: 0px; fill: rgb(250, 128, 114); fill-opacity: 1;\"/><path class=\"point\" transform=\"translate(25.53,358.14)\" d=\"M3,0A3,3 0 1,1 0,-3A3,3 0 0,1 3,0Z\" style=\"opacity: 1; stroke-width: 0px; fill: rgb(250, 128, 114); fill-opacity: 1;\"/><path class=\"point\" transform=\"translate(27.03,349.54)\" d=\"M3,0A3,3 0 1,1 0,-3A3,3 0 0,1 3,0Z\" style=\"opacity: 1; stroke-width: 0px; fill: rgb(250, 128, 114); fill-opacity: 1;\"/><path class=\"point\" transform=\"translate(28.54,349.14)\" d=\"M3,0A3,3 0 1,1 0,-3A3,3 0 0,1 3,0Z\" style=\"opacity: 1; stroke-width: 0px; fill: rgb(250, 128, 114); fill-opacity: 1;\"/><path class=\"point\" transform=\"translate(24.02,343.43)\" d=\"M3,0A3,3 0 1,1 0,-3A3,3 0 0,1 3,0Z\" style=\"opacity: 1; stroke-width: 0px; fill: rgb(250, 128, 114); fill-opacity: 1;\"/><path class=\"point\" transform=\"translate(26.28,358.02)\" d=\"M3,0A3,3 0 1,1 0,-3A3,3 0 0,1 3,0Z\" style=\"opacity: 1; stroke-width: 0px; fill: rgb(250, 128, 114); fill-opacity: 1;\"/><path class=\"point\" transform=\"translate(21.76,362.77)\" d=\"M3,0A3,3 0 1,1 0,-3A3,3 0 0,1 3,0Z\" style=\"opacity: 1; stroke-width: 0px; fill: rgb(250, 128, 114); fill-opacity: 1;\"/><path class=\"point\" transform=\"translate(31.55,335.65)\" d=\"M3,0A3,3 0 1,1 0,-3A3,3 0 0,1 3,0Z\" style=\"opacity: 1; stroke-width: 0px; fill: rgb(250, 128, 114); fill-opacity: 1;\"/><path class=\"point\" transform=\"translate(31.55,337.69)\" d=\"M3,0A3,3 0 1,1 0,-3A3,3 0 0,1 3,0Z\" style=\"opacity: 1; stroke-width: 0px; fill: rgb(250, 128, 114); fill-opacity: 1;\"/><path class=\"point\" transform=\"translate(24.77,358.35)\" d=\"M3,0A3,3 0 1,1 0,-3A3,3 0 0,1 3,0Z\" style=\"opacity: 1; stroke-width: 0px; fill: rgb(250, 128, 114); fill-opacity: 1;\"/><path class=\"point\" transform=\"translate(33.8,338.14)\" d=\"M3,0A3,3 0 1,1 0,-3A3,3 0 0,1 3,0Z\" style=\"opacity: 1; stroke-width: 0px; fill: rgb(250, 128, 114); fill-opacity: 1;\"/><path class=\"point\" transform=\"translate(39.07,332.46)\" d=\"M3,0A3,3 0 1,1 0,-3A3,3 0 0,1 3,0Z\" style=\"opacity: 1; stroke-width: 0px; fill: rgb(250, 128, 114); fill-opacity: 1;\"/><path class=\"point\" transform=\"translate(43.58,334.03)\" d=\"M3,0A3,3 0 1,1 0,-3A3,3 0 0,1 3,0Z\" style=\"opacity: 1; stroke-width: 0px; fill: rgb(250, 128, 114); fill-opacity: 1;\"/><path class=\"point\" transform=\"translate(23.27,357)\" d=\"M3,0A3,3 0 1,1 0,-3A3,3 0 0,1 3,0Z\" style=\"opacity: 1; stroke-width: 0px; fill: rgb(250, 128, 114); fill-opacity: 1;\"/><path class=\"point\" transform=\"translate(18,360.21)\" d=\"M3,0A3,3 0 1,1 0,-3A3,3 0 0,1 3,0Z\" style=\"opacity: 1; stroke-width: 0px; fill: rgb(250, 128, 114); fill-opacity: 1;\"/><path class=\"point\" transform=\"translate(17.25,366.39)\" d=\"M3,0A3,3 0 1,1 0,-3A3,3 0 0,1 3,0Z\" style=\"opacity: 1; stroke-width: 0px; fill: rgb(250, 128, 114); fill-opacity: 1;\"/><path class=\"point\" transform=\"translate(19.51,362.63)\" d=\"M3,0A3,3 0 1,1 0,-3A3,3 0 0,1 3,0Z\" style=\"opacity: 1; stroke-width: 0px; fill: rgb(250, 128, 114); fill-opacity: 1;\"/><path class=\"point\" transform=\"translate(17.25,365.21)\" d=\"M3,0A3,3 0 1,1 0,-3A3,3 0 0,1 3,0Z\" style=\"opacity: 1; stroke-width: 0px; fill: rgb(250, 128, 114); fill-opacity: 1;\"/><path class=\"point\" transform=\"translate(18.75,365.27)\" d=\"M3,0A3,3 0 1,1 0,-3A3,3 0 0,1 3,0Z\" style=\"opacity: 1; stroke-width: 0px; fill: rgb(250, 128, 114); fill-opacity: 1;\"/><path class=\"point\" transform=\"translate(17.25,365.97)\" d=\"M3,0A3,3 0 1,1 0,-3A3,3 0 0,1 3,0Z\" style=\"opacity: 1; stroke-width: 0px; fill: rgb(250, 128, 114); fill-opacity: 1;\"/><path class=\"point\" transform=\"translate(33.05,326.9)\" d=\"M3,0A3,3 0 1,1 0,-3A3,3 0 0,1 3,0Z\" style=\"opacity: 1; stroke-width: 0px; fill: rgb(250, 128, 114); fill-opacity: 1;\"/><path class=\"point\" transform=\"translate(20.26,363.32)\" d=\"M3,0A3,3 0 1,1 0,-3A3,3 0 0,1 3,0Z\" style=\"opacity: 1; stroke-width: 0px; fill: rgb(250, 128, 114); fill-opacity: 1;\"/><path class=\"point\" transform=\"translate(18,364.6)\" d=\"M3,0A3,3 0 1,1 0,-3A3,3 0 0,1 3,0Z\" style=\"opacity: 1; stroke-width: 0px; fill: rgb(250, 128, 114); fill-opacity: 1;\"/><path class=\"point\" transform=\"translate(17.25,365.4)\" d=\"M3,0A3,3 0 1,1 0,-3A3,3 0 0,1 3,0Z\" style=\"opacity: 1; stroke-width: 0px; fill: rgb(250, 128, 114); fill-opacity: 1;\"/><path class=\"point\" transform=\"translate(18.75,366.28)\" d=\"M3,0A3,3 0 1,1 0,-3A3,3 0 0,1 3,0Z\" style=\"opacity: 1; stroke-width: 0px; fill: rgb(250, 128, 114); fill-opacity: 1;\"/><path class=\"point\" transform=\"translate(18.75,363.95)\" d=\"M3,0A3,3 0 1,1 0,-3A3,3 0 0,1 3,0Z\" style=\"opacity: 1; stroke-width: 0px; fill: rgb(250, 128, 114); fill-opacity: 1;\"/><path class=\"point\" transform=\"translate(18.75,363.64)\" d=\"M3,0A3,3 0 1,1 0,-3A3,3 0 0,1 3,0Z\" style=\"opacity: 1; stroke-width: 0px; fill: rgb(250, 128, 114); fill-opacity: 1;\"/><path class=\"point\" transform=\"translate(17.25,365.1)\" d=\"M3,0A3,3 0 1,1 0,-3A3,3 0 0,1 3,0Z\" style=\"opacity: 1; stroke-width: 0px; fill: rgb(250, 128, 114); fill-opacity: 1;\"/><path class=\"point\" transform=\"translate(18,365.03)\" d=\"M3,0A3,3 0 1,1 0,-3A3,3 0 0,1 3,0Z\" style=\"opacity: 1; stroke-width: 0px; fill: rgb(250, 128, 114); fill-opacity: 1;\"/><path class=\"point\" transform=\"translate(18.75,363.45)\" d=\"M3,0A3,3 0 1,1 0,-3A3,3 0 0,1 3,0Z\" style=\"opacity: 1; stroke-width: 0px; fill: rgb(250, 128, 114); fill-opacity: 1;\"/><path class=\"point\" transform=\"translate(18,364.05)\" d=\"M3,0A3,3 0 1,1 0,-3A3,3 0 0,1 3,0Z\" style=\"opacity: 1; stroke-width: 0px; fill: rgb(250, 128, 114); fill-opacity: 1;\"/><path class=\"point\" transform=\"translate(18,363.88)\" d=\"M3,0A3,3 0 1,1 0,-3A3,3 0 0,1 3,0Z\" style=\"opacity: 1; stroke-width: 0px; fill: rgb(250, 128, 114); fill-opacity: 1;\"/><path class=\"point\" transform=\"translate(22.52,350.5)\" d=\"M3,0A3,3 0 1,1 0,-3A3,3 0 0,1 3,0Z\" style=\"opacity: 1; stroke-width: 0px; fill: rgb(250, 128, 114); fill-opacity: 1;\"/><path class=\"point\" transform=\"translate(19.51,362.3)\" d=\"M3,0A3,3 0 1,1 0,-3A3,3 0 0,1 3,0Z\" style=\"opacity: 1; stroke-width: 0px; fill: rgb(250, 128, 114); fill-opacity: 1;\"/><path class=\"point\" transform=\"translate(21.01,360.82)\" d=\"M3,0A3,3 0 1,1 0,-3A3,3 0 0,1 3,0Z\" style=\"opacity: 1; stroke-width: 0px; fill: rgb(250, 128, 114); fill-opacity: 1;\"/><path class=\"point\" transform=\"translate(18,361.73)\" d=\"M3,0A3,3 0 1,1 0,-3A3,3 0 0,1 3,0Z\" style=\"opacity: 1; stroke-width: 0px; fill: rgb(250, 128, 114); fill-opacity: 1;\"/><path class=\"point\" transform=\"translate(19.51,363.89)\" d=\"M3,0A3,3 0 1,1 0,-3A3,3 0 0,1 3,0Z\" style=\"opacity: 1; stroke-width: 0px; fill: rgb(250, 128, 114); fill-opacity: 1;\"/><path class=\"point\" transform=\"translate(18,365.23)\" d=\"M3,0A3,3 0 1,1 0,-3A3,3 0 0,1 3,0Z\" style=\"opacity: 1; stroke-width: 0px; fill: rgb(250, 128, 114); fill-opacity: 1;\"/><path class=\"point\" transform=\"translate(19.51,362.26)\" d=\"M3,0A3,3 0 1,1 0,-3A3,3 0 0,1 3,0Z\" style=\"opacity: 1; stroke-width: 0px; fill: rgb(250, 128, 114); fill-opacity: 1;\"/><path class=\"point\" transform=\"translate(18,365.41)\" d=\"M3,0A3,3 0 1,1 0,-3A3,3 0 0,1 3,0Z\" style=\"opacity: 1; stroke-width: 0px; fill: rgb(250, 128, 114); fill-opacity: 1;\"/><path class=\"point\" transform=\"translate(18.75,364.54)\" d=\"M3,0A3,3 0 1,1 0,-3A3,3 0 0,1 3,0Z\" style=\"opacity: 1; stroke-width: 0px; fill: rgb(250, 128, 114); fill-opacity: 1;\"/><path class=\"point\" transform=\"translate(18.75,363.11)\" d=\"M3,0A3,3 0 1,1 0,-3A3,3 0 0,1 3,0Z\" style=\"opacity: 1; stroke-width: 0px; fill: rgb(250, 128, 114); fill-opacity: 1;\"/><path class=\"point\" transform=\"translate(31.55,345.64)\" d=\"M3,0A3,3 0 1,1 0,-3A3,3 0 0,1 3,0Z\" style=\"opacity: 1; stroke-width: 0px; fill: rgb(250, 128, 114); fill-opacity: 1;\"/><path class=\"point\" transform=\"translate(27.78,344.14)\" d=\"M3,0A3,3 0 1,1 0,-3A3,3 0 0,1 3,0Z\" style=\"opacity: 1; stroke-width: 0px; fill: rgb(250, 128, 114); fill-opacity: 1;\"/><path class=\"point\" transform=\"translate(36.81,343.06)\" d=\"M3,0A3,3 0 1,1 0,-3A3,3 0 0,1 3,0Z\" style=\"opacity: 1; stroke-width: 0px; fill: rgb(250, 128, 114); fill-opacity: 1;\"/><path class=\"point\" transform=\"translate(25.53,349.76)\" d=\"M3,0A3,3 0 1,1 0,-3A3,3 0 0,1 3,0Z\" style=\"opacity: 1; stroke-width: 0px; fill: rgb(250, 128, 114); fill-opacity: 1;\"/><path class=\"point\" transform=\"translate(42.83,324.32)\" d=\"M3,0A3,3 0 1,1 0,-3A3,3 0 0,1 3,0Z\" style=\"opacity: 1; stroke-width: 0px; fill: rgb(250, 128, 114); fill-opacity: 1;\"/><path class=\"point\" transform=\"translate(63.9,296.05)\" d=\"M3,0A3,3 0 1,1 0,-3A3,3 0 0,1 3,0Z\" style=\"opacity: 1; stroke-width: 0px; fill: rgb(250, 128, 114); fill-opacity: 1;\"/><path class=\"point\" transform=\"translate(41.33,330.4)\" d=\"M3,0A3,3 0 1,1 0,-3A3,3 0 0,1 3,0Z\" style=\"opacity: 1; stroke-width: 0px; fill: rgb(250, 128, 114); fill-opacity: 1;\"/><path class=\"point\" transform=\"translate(97.76,268.01)\" d=\"M3,0A3,3 0 1,1 0,-3A3,3 0 0,1 3,0Z\" style=\"opacity: 1; stroke-width: 0px; fill: rgb(250, 128, 114); fill-opacity: 1;\"/><path class=\"point\" transform=\"translate(130.11,237.76)\" d=\"M3,0A3,3 0 1,1 0,-3A3,3 0 0,1 3,0Z\" style=\"opacity: 1; stroke-width: 0px; fill: rgb(250, 128, 114); fill-opacity: 1;\"/><path class=\"point\" transform=\"translate(28.54,353.02)\" d=\"M3,0A3,3 0 1,1 0,-3A3,3 0 0,1 3,0Z\" style=\"opacity: 1; stroke-width: 0px; fill: rgb(250, 128, 114); fill-opacity: 1;\"/><path class=\"point\" transform=\"translate(65.4,280.16)\" d=\"M3,0A3,3 0 1,1 0,-3A3,3 0 0,1 3,0Z\" style=\"opacity: 1; stroke-width: 0px; fill: rgb(250, 128, 114); fill-opacity: 1;\"/><path class=\"point\" transform=\"translate(40.57,321.8)\" d=\"M3,0A3,3 0 1,1 0,-3A3,3 0 0,1 3,0Z\" style=\"opacity: 1; stroke-width: 0px; fill: rgb(250, 128, 114); fill-opacity: 1;\"/></g><g class=\"text\"/></g></g></g><g class=\"overplot\"/><path class=\"xlines-above crisp\" d=\"M0,0\" style=\"fill: none;\"/><path class=\"ylines-above crisp\" d=\"M0,0\" style=\"fill: none;\"/><g class=\"overlines-above\"/><g class=\"xaxislayer-above\"><g class=\"x2tick\"><text text-anchor=\"middle\" x=\"0\" y=\"463\" transform=\"translate(397.25,0)\" style=\"font-family: 'Open Sans', verdana, arial, sans-serif; font-size: 12px; fill: rgb(42, 63, 95); fill-opacity: 1; white-space: pre; opacity: 1;\">0</text></g><g class=\"x2tick\"><text text-anchor=\"middle\" x=\"0\" y=\"463\" style=\"font-family: 'Open Sans', verdana, arial, sans-serif; font-size: 12px; fill: rgb(42, 63, 95); fill-opacity: 1; white-space: pre; opacity: 1;\" transform=\"translate(472.49,0)\">100</text></g><g class=\"x2tick\"><text text-anchor=\"middle\" x=\"0\" y=\"463\" style=\"font-family: 'Open Sans', verdana, arial, sans-serif; font-size: 12px; fill: rgb(42, 63, 95); fill-opacity: 1; white-space: pre; opacity: 1;\" transform=\"translate(547.73,0)\">200</text></g><g class=\"x2tick\"><text text-anchor=\"middle\" x=\"0\" y=\"463\" style=\"font-family: 'Open Sans', verdana, arial, sans-serif; font-size: 12px; fill: rgb(42, 63, 95); fill-opacity: 1; white-space: pre; opacity: 1;\" transform=\"translate(622.97,0)\">300</text></g></g><g class=\"yaxislayer-above\"><g class=\"y2tick\"><text text-anchor=\"end\" x=\"379\" y=\"4.199999999999999\" transform=\"translate(0,427.67)\" style=\"font-family: 'Open Sans', verdana, arial, sans-serif; font-size: 12px; fill: rgb(42, 63, 95); fill-opacity: 1; white-space: pre; opacity: 1;\">0</text></g><g class=\"y2tick\"><text text-anchor=\"end\" x=\"379\" y=\"4.199999999999999\" style=\"font-family: 'Open Sans', verdana, arial, sans-serif; font-size: 12px; fill: rgb(42, 63, 95); fill-opacity: 1; white-space: pre; opacity: 1;\" transform=\"translate(0,361.14)\">50</text></g><g class=\"y2tick\"><text text-anchor=\"end\" x=\"379\" y=\"4.199999999999999\" style=\"font-family: 'Open Sans', verdana, arial, sans-serif; font-size: 12px; fill: rgb(42, 63, 95); fill-opacity: 1; white-space: pre; opacity: 1;\" transform=\"translate(0,294.62)\">100</text></g><g class=\"y2tick\"><text text-anchor=\"end\" x=\"379\" y=\"4.199999999999999\" style=\"font-family: 'Open Sans', verdana, arial, sans-serif; font-size: 12px; fill: rgb(42, 63, 95); fill-opacity: 1; white-space: pre; opacity: 1;\" transform=\"translate(0,228.09)\">150</text></g><g class=\"y2tick\"><text text-anchor=\"end\" x=\"379\" y=\"4.199999999999999\" style=\"font-family: 'Open Sans', verdana, arial, sans-serif; font-size: 12px; fill: rgb(42, 63, 95); fill-opacity: 1; white-space: pre; opacity: 1;\" transform=\"translate(0,161.56)\">200</text></g><g class=\"y2tick\"><text text-anchor=\"end\" x=\"379\" y=\"4.199999999999999\" style=\"font-family: 'Open Sans', verdana, arial, sans-serif; font-size: 12px; fill: rgb(42, 63, 95); fill-opacity: 1; white-space: pre; opacity: 1;\" transform=\"translate(0,95.03999999999999)\">250</text></g></g><g class=\"overaxes-above\"/></g></g><g class=\"polarlayer\"/><g class=\"ternarylayer\"/><g class=\"geolayer\"/><g class=\"funnelarealayer\"/><g class=\"pielayer\"/><g class=\"iciclelayer\"/><g class=\"treemaplayer\"/><g class=\"sunburstlayer\"/><g class=\"glimages\"/><defs id=\"topdefs-1cf4fc\"><g class=\"clips\"/></defs><g class=\"layer-above\"><g class=\"imagelayer\"/><g class=\"shapelayer\"/></g><g class=\"infolayer\"><g class=\"g-gtitle\"/><g class=\"g-xtitle\"/><g class=\"g-x2title\"/><g class=\"g-ytitle\"/><g class=\"g-y2title\"/><g class=\"annotation\" data-index=\"0\" style=\"opacity: 1;\"><g class=\"annotation-text-g\" transform=\"rotate(0,185,48)\"><g class=\"cursor-pointer\" transform=\"translate(150,36)\"><rect class=\"bg\" x=\"0.5\" y=\"0.5\" width=\"69\" height=\"23\" style=\"stroke-width: 1px; stroke: rgb(0, 0, 0); stroke-opacity: 0; fill: rgb(0, 0, 0); fill-opacity: 0;\"/><text class=\"annotation-text\" text-anchor=\"middle\" x=\"35.234375\" y=\"18\" style=\"font-family: 'Open Sans', verdana, arial, sans-serif; font-size: 16px; fill: rgb(42, 63, 95); fill-opacity: 1; white-space: pre;\">Std UVB</text></g></g></g><g class=\"annotation\" data-index=\"1\" style=\"opacity: 1;\"><g class=\"annotation-text-g\" transform=\"rotate(0,515,47.99999999999999)\"><g class=\"cursor-pointer\" transform=\"translate(434,36)\"><rect class=\"bg\" x=\"0.5\" y=\"0.5\" width=\"162\" height=\"23\" style=\"stroke-width: 1px; stroke: rgb(0, 0, 0); stroke-opacity: 0; fill: rgb(0, 0, 0); fill-opacity: 0;\"/><text class=\"annotation-text\" text-anchor=\"middle\" x=\"81.265625\" y=\"18\" style=\"font-family: 'Open Sans', verdana, arial, sans-serif; font-size: 16px; fill: rgb(42, 63, 95); fill-opacity: 1; white-space: pre;\">Deaths vs Expected</text></g></g></g></g></svg>"
      ],
      "text/html": [
       "<div\n",
       "    class=\"webio-mountpoint\"\n",
       "    data-webio-mountpoint=\"9776507840323667509\"\n",
       ">\n",
       "    <script>\n",
       "    (function(){\n",
       "    // Some integrations (namely, IJulia/Jupyter) use an alternate render pathway than\n",
       "    // just putting the html on the page. If WebIO isn't defined, then it's pretty likely\n",
       "    // that we're in one of those situations and the integration just isn't installed\n",
       "    // correctly.\n",
       "    if (typeof window.WebIO === \"undefined\") {\n",
       "        document\n",
       "            .querySelector('[data-webio-mountpoint=\"9776507840323667509\"]')\n",
       "            .innerHTML = (\n",
       "                '<div style=\"padding: 1em; background-color: #f8d6da; border: 1px solid #f5c6cb; font-weight: bold;\">' +\n",
       "                '<p><strong>WebIO not detected.</strong></p>' +\n",
       "                '<p>Please read ' +\n",
       "                '<a href=\"https://juliagizmos.github.io/WebIO.jl/latest/troubleshooting/not-detected/\" target=\"_blank\">the troubleshooting guide</a> ' +\n",
       "                'for more information on how to resolve this issue.</p>' +\n",
       "                '<p><a href=\"https://juliagizmos.github.io/WebIO.jl/latest/troubleshooting/not-detected/\" target=\"_blank\">https://juliagizmos.github.io/WebIO.jl/latest/troubleshooting/not-detected/</a></p>' +\n",
       "                '</div>'\n",
       "            );\n",
       "        return;\n",
       "    }\n",
       "    WebIO.mount(\n",
       "        document.querySelector('[data-webio-mountpoint=\"9776507840323667509\"]'),\n",
       "        {\"props\":{},\"nodeType\":\"Scope\",\"type\":\"node\",\"instanceArgs\":{\"imports\":{\"data\":[{\"name\":\"Plotly\",\"type\":\"js\",\"url\":\"\\/assetserver\\/a1ce98aba64ebc875cd706be1c5f477c144bace2-plotly.min.js\"},{\"name\":null,\"type\":\"js\",\"url\":\"\\/assetserver\\/aa2112138e40c2a40506078cf4ea9303756a94b4-plotly_webio.bundle.js\"}],\"type\":\"async_block\"},\"id\":\"5149117463103293860\",\"handlers\":{\"_toImage\":[\"(function (options){return this.Plotly.toImage(this.plotElem,options).then((function (data){return WebIO.setval({\\\"name\\\":\\\"image\\\",\\\"scope\\\":\\\"5149117463103293860\\\",\\\"id\\\":\\\"45\\\",\\\"type\\\":\\\"observable\\\"},data)}))})\"],\"__get_gd_contents\":[\"(function (prop){prop==\\\"data\\\" ? (WebIO.setval({\\\"name\\\":\\\"__gd_contents\\\",\\\"scope\\\":\\\"5149117463103293860\\\",\\\"id\\\":\\\"46\\\",\\\"type\\\":\\\"observable\\\"},this.plotElem.data)) : undefined; return prop==\\\"layout\\\" ? (WebIO.setval({\\\"name\\\":\\\"__gd_contents\\\",\\\"scope\\\":\\\"5149117463103293860\\\",\\\"id\\\":\\\"46\\\",\\\"type\\\":\\\"observable\\\"},this.plotElem.layout)) : undefined})\"],\"_downloadImage\":[\"(function (options){return this.Plotly.downloadImage(this.plotElem,options)})\"],\"_commands\":[\"(function (args){var fn=args.shift(); var elem=this.plotElem; var Plotly=this.Plotly; args.unshift(elem); return Plotly[fn].apply(this,args)})\"]},\"systemjs_options\":null,\"mount_callbacks\":[\"function () {\\n    var handler = ((function (Plotly,PlotlyWebIO){PlotlyWebIO.init(WebIO); var gd=this.dom.querySelector(\\\"#plot-ee42e79f-8d5d-41fa-9929-4b69b2d66cbe\\\"); this.plotElem=gd; this.Plotly=Plotly; (window.Blink!==undefined) ? (gd.style.width=\\\"100%\\\", gd.style.height=\\\"100vh\\\", gd.style.marginLeft=\\\"0%\\\", gd.style.marginTop=\\\"0vh\\\") : undefined; window.onresize=(function (){return Plotly.Plots.resize(gd)}); Plotly.newPlot(gd,[],{\\\"xaxis\\\":{\\\"domain\\\":[0.0,0.45],\\\"anchor\\\":\\\"y\\\"},\\\"xaxis2\\\":{\\\"domain\\\":[0.55,1.0],\\\"anchor\\\":\\\"y2\\\"},\\\"template\\\":{\\\"layout\\\":{\\\"coloraxis\\\":{\\\"colorbar\\\":{\\\"ticks\\\":\\\"\\\",\\\"outlinewidth\\\":0}},\\\"xaxis\\\":{\\\"gridcolor\\\":\\\"white\\\",\\\"zerolinewidth\\\":2,\\\"title\\\":{\\\"standoff\\\":15},\\\"ticks\\\":\\\"\\\",\\\"zerolinecolor\\\":\\\"white\\\",\\\"automargin\\\":true,\\\"linecolor\\\":\\\"white\\\"},\\\"hovermode\\\":\\\"closest\\\",\\\"paper_bgcolor\\\":\\\"white\\\",\\\"geo\\\":{\\\"showlakes\\\":true,\\\"showland\\\":true,\\\"landcolor\\\":\\\"#E5ECF6\\\",\\\"bgcolor\\\":\\\"white\\\",\\\"subunitcolor\\\":\\\"white\\\",\\\"lakecolor\\\":\\\"white\\\"},\\\"colorscale\\\":{\\\"sequential\\\":[[0.0,\\\"#0d0887\\\"],[0.1111111111111111,\\\"#46039f\\\"],[0.2222222222222222,\\\"#7201a8\\\"],[0.3333333333333333,\\\"#9c179e\\\"],[0.4444444444444444,\\\"#bd3786\\\"],[0.5555555555555556,\\\"#d8576b\\\"],[0.6666666666666666,\\\"#ed7953\\\"],[0.7777777777777778,\\\"#fb9f3a\\\"],[0.8888888888888888,\\\"#fdca26\\\"],[1.0,\\\"#f0f921\\\"]],\\\"diverging\\\":[[0,\\\"#8e0152\\\"],[0.1,\\\"#c51b7d\\\"],[0.2,\\\"#de77ae\\\"],[0.3,\\\"#f1b6da\\\"],[0.4,\\\"#fde0ef\\\"],[0.5,\\\"#f7f7f7\\\"],[0.6,\\\"#e6f5d0\\\"],[0.7,\\\"#b8e186\\\"],[0.8,\\\"#7fbc41\\\"],[0.9,\\\"#4d9221\\\"],[1,\\\"#276419\\\"]],\\\"sequentialminus\\\":[[0.0,\\\"#0d0887\\\"],[0.1111111111111111,\\\"#46039f\\\"],[0.2222222222222222,\\\"#7201a8\\\"],[0.3333333333333333,\\\"#9c179e\\\"],[0.4444444444444444,\\\"#bd3786\\\"],[0.5555555555555556,\\\"#d8576b\\\"],[0.6666666666666666,\\\"#ed7953\\\"],[0.7777777777777778,\\\"#fb9f3a\\\"],[0.8888888888888888,\\\"#fdca26\\\"],[1.0,\\\"#f0f921\\\"]]},\\\"yaxis\\\":{\\\"gridcolor\\\":\\\"white\\\",\\\"zerolinewidth\\\":2,\\\"title\\\":{\\\"standoff\\\":15},\\\"ticks\\\":\\\"\\\",\\\"zerolinecolor\\\":\\\"white\\\",\\\"automargin\\\":true,\\\"linecolor\\\":\\\"white\\\"},\\\"shapedefaults\\\":{\\\"line\\\":{\\\"color\\\":\\\"#2a3f5f\\\"}},\\\"hoverlabel\\\":{\\\"align\\\":\\\"left\\\"},\\\"mapbox\\\":{\\\"style\\\":\\\"light\\\"},\\\"polar\\\":{\\\"angularaxis\\\":{\\\"gridcolor\\\":\\\"white\\\",\\\"ticks\\\":\\\"\\\",\\\"linecolor\\\":\\\"white\\\"},\\\"bgcolor\\\":\\\"#E5ECF6\\\",\\\"radialaxis\\\":{\\\"gridcolor\\\":\\\"white\\\",\\\"ticks\\\":\\\"\\\",\\\"linecolor\\\":\\\"white\\\"}},\\\"autotypenumbers\\\":\\\"strict\\\",\\\"font\\\":{\\\"color\\\":\\\"#2a3f5f\\\"},\\\"ternary\\\":{\\\"baxis\\\":{\\\"gridcolor\\\":\\\"white\\\",\\\"ticks\\\":\\\"\\\",\\\"linecolor\\\":\\\"white\\\"},\\\"bgcolor\\\":\\\"#E5ECF6\\\",\\\"caxis\\\":{\\\"gridcolor\\\":\\\"white\\\",\\\"ticks\\\":\\\"\\\",\\\"linecolor\\\":\\\"white\\\"},\\\"aaxis\\\":{\\\"gridcolor\\\":\\\"white\\\",\\\"ticks\\\":\\\"\\\",\\\"linecolor\\\":\\\"white\\\"}},\\\"annotationdefaults\\\":{\\\"arrowhead\\\":0,\\\"arrowwidth\\\":1,\\\"arrowcolor\\\":\\\"#2a3f5f\\\"},\\\"plot_bgcolor\\\":\\\"#E5ECF6\\\",\\\"title\\\":{\\\"x\\\":0.05},\\\"scene\\\":{\\\"xaxis\\\":{\\\"gridcolor\\\":\\\"white\\\",\\\"gridwidth\\\":2,\\\"backgroundcolor\\\":\\\"#E5ECF6\\\",\\\"ticks\\\":\\\"\\\",\\\"showbackground\\\":true,\\\"zerolinecolor\\\":\\\"white\\\",\\\"linecolor\\\":\\\"white\\\"},\\\"zaxis\\\":{\\\"gridcolor\\\":\\\"white\\\",\\\"gridwidth\\\":2,\\\"backgroundcolor\\\":\\\"#E5ECF6\\\",\\\"ticks\\\":\\\"\\\",\\\"showbackground\\\":true,\\\"zerolinecolor\\\":\\\"white\\\",\\\"linecolor\\\":\\\"white\\\"},\\\"yaxis\\\":{\\\"gridcolor\\\":\\\"white\\\",\\\"gridwidth\\\":2,\\\"backgroundcolor\\\":\\\"#E5ECF6\\\",\\\"ticks\\\":\\\"\\\",\\\"showbackground\\\":true,\\\"zerolinecolor\\\":\\\"white\\\",\\\"linecolor\\\":\\\"white\\\"}},\\\"colorway\\\":[\\\"#636efa\\\",\\\"#EF553B\\\",\\\"#00cc96\\\",\\\"#ab63fa\\\",\\\"#FFA15A\\\",\\\"#19d3f3\\\",\\\"#FF6692\\\",\\\"#B6E880\\\",\\\"#FF97FF\\\",\\\"#FECB52\\\"]},\\\"data\\\":{\\\"barpolar\\\":[{\\\"type\\\":\\\"barpolar\\\",\\\"marker\\\":{\\\"line\\\":{\\\"color\\\":\\\"#E5ECF6\\\",\\\"width\\\":0.5}}}],\\\"carpet\\\":[{\\\"aaxis\\\":{\\\"gridcolor\\\":\\\"white\\\",\\\"endlinecolor\\\":\\\"#2a3f5f\\\",\\\"minorgridcolor\\\":\\\"white\\\",\\\"startlinecolor\\\":\\\"#2a3f5f\\\",\\\"linecolor\\\":\\\"white\\\"},\\\"type\\\":\\\"carpet\\\",\\\"baxis\\\":{\\\"gridcolor\\\":\\\"white\\\",\\\"endlinecolor\\\":\\\"#2a3f5f\\\",\\\"minorgridcolor\\\":\\\"white\\\",\\\"startlinecolor\\\":\\\"#2a3f5f\\\",\\\"linecolor\\\":\\\"white\\\"}}],\\\"scatterpolar\\\":[{\\\"type\\\":\\\"scatterpolar\\\",\\\"marker\\\":{\\\"colorbar\\\":{\\\"ticks\\\":\\\"\\\",\\\"outlinewidth\\\":0}}}],\\\"parcoords\\\":[{\\\"line\\\":{\\\"colorbar\\\":{\\\"ticks\\\":\\\"\\\",\\\"outlinewidth\\\":0}},\\\"type\\\":\\\"parcoords\\\"}],\\\"scatter\\\":[{\\\"type\\\":\\\"scatter\\\",\\\"marker\\\":{\\\"colorbar\\\":{\\\"ticks\\\":\\\"\\\",\\\"outlinewidth\\\":0}}}],\\\"histogram2dcontour\\\":[{\\\"colorbar\\\":{\\\"ticks\\\":\\\"\\\",\\\"outlinewidth\\\":0},\\\"type\\\":\\\"histogram2dcontour\\\",\\\"colorscale\\\":[[0.0,\\\"#0d0887\\\"],[0.1111111111111111,\\\"#46039f\\\"],[0.2222222222222222,\\\"#7201a8\\\"],[0.3333333333333333,\\\"#9c179e\\\"],[0.4444444444444444,\\\"#bd3786\\\"],[0.5555555555555556,\\\"#d8576b\\\"],[0.6666666666666666,\\\"#ed7953\\\"],[0.7777777777777778,\\\"#fb9f3a\\\"],[0.8888888888888888,\\\"#fdca26\\\"],[1.0,\\\"#f0f921\\\"]]}],\\\"contour\\\":[{\\\"colorbar\\\":{\\\"ticks\\\":\\\"\\\",\\\"outlinewidth\\\":0},\\\"type\\\":\\\"contour\\\",\\\"colorscale\\\":[[0.0,\\\"#0d0887\\\"],[0.1111111111111111,\\\"#46039f\\\"],[0.2222222222222222,\\\"#7201a8\\\"],[0.3333333333333333,\\\"#9c179e\\\"],[0.4444444444444444,\\\"#bd3786\\\"],[0.5555555555555556,\\\"#d8576b\\\"],[0.6666666666666666,\\\"#ed7953\\\"],[0.7777777777777778,\\\"#fb9f3a\\\"],[0.8888888888888888,\\\"#fdca26\\\"],[1.0,\\\"#f0f921\\\"]]}],\\\"scattercarpet\\\":[{\\\"type\\\":\\\"scattercarpet\\\",\\\"marker\\\":{\\\"colorbar\\\":{\\\"ticks\\\":\\\"\\\",\\\"outlinewidth\\\":0}}}],\\\"mesh3d\\\":[{\\\"colorbar\\\":{\\\"ticks\\\":\\\"\\\",\\\"outlinewidth\\\":0},\\\"type\\\":\\\"mesh3d\\\"}],\\\"surface\\\":[{\\\"colorbar\\\":{\\\"ticks\\\":\\\"\\\",\\\"outlinewidth\\\":0},\\\"type\\\":\\\"surface\\\",\\\"colorscale\\\":[[0.0,\\\"#0d0887\\\"],[0.1111111111111111,\\\"#46039f\\\"],[0.2222222222222222,\\\"#7201a8\\\"],[0.3333333333333333,\\\"#9c179e\\\"],[0.4444444444444444,\\\"#bd3786\\\"],[0.5555555555555556,\\\"#d8576b\\\"],[0.6666666666666666,\\\"#ed7953\\\"],[0.7777777777777778,\\\"#fb9f3a\\\"],[0.8888888888888888,\\\"#fdca26\\\"],[1.0,\\\"#f0f921\\\"]]}],\\\"scattermapbox\\\":[{\\\"type\\\":\\\"scattermapbox\\\",\\\"marker\\\":{\\\"colorbar\\\":{\\\"ticks\\\":\\\"\\\",\\\"outlinewidth\\\":0}}}],\\\"scattergeo\\\":[{\\\"type\\\":\\\"scattergeo\\\",\\\"marker\\\":{\\\"colorbar\\\":{\\\"ticks\\\":\\\"\\\",\\\"outlinewidth\\\":0}}}],\\\"histogram\\\":[{\\\"type\\\":\\\"histogram\\\",\\\"marker\\\":{\\\"colorbar\\\":{\\\"ticks\\\":\\\"\\\",\\\"outlinewidth\\\":0}}}],\\\"pie\\\":[{\\\"type\\\":\\\"pie\\\",\\\"automargin\\\":true}],\\\"choropleth\\\":[{\\\"colorbar\\\":{\\\"ticks\\\":\\\"\\\",\\\"outlinewidth\\\":0},\\\"type\\\":\\\"choropleth\\\"}],\\\"heatmapgl\\\":[{\\\"colorbar\\\":{\\\"ticks\\\":\\\"\\\",\\\"outlinewidth\\\":0},\\\"type\\\":\\\"heatmapgl\\\",\\\"colorscale\\\":[[0.0,\\\"#0d0887\\\"],[0.1111111111111111,\\\"#46039f\\\"],[0.2222222222222222,\\\"#7201a8\\\"],[0.3333333333333333,\\\"#9c179e\\\"],[0.4444444444444444,\\\"#bd3786\\\"],[0.5555555555555556,\\\"#d8576b\\\"],[0.6666666666666666,\\\"#ed7953\\\"],[0.7777777777777778,\\\"#fb9f3a\\\"],[0.8888888888888888,\\\"#fdca26\\\"],[1.0,\\\"#f0f921\\\"]]}],\\\"bar\\\":[{\\\"type\\\":\\\"bar\\\",\\\"error_y\\\":{\\\"color\\\":\\\"#2a3f5f\\\"},\\\"error_x\\\":{\\\"color\\\":\\\"#2a3f5f\\\"},\\\"marker\\\":{\\\"line\\\":{\\\"color\\\":\\\"#E5ECF6\\\",\\\"width\\\":0.5}}}],\\\"heatmap\\\":[{\\\"colorbar\\\":{\\\"ticks\\\":\\\"\\\",\\\"outlinewidth\\\":0},\\\"type\\\":\\\"heatmap\\\",\\\"colorscale\\\":[[0.0,\\\"#0d0887\\\"],[0.1111111111111111,\\\"#46039f\\\"],[0.2222222222222222,\\\"#7201a8\\\"],[0.3333333333333333,\\\"#9c179e\\\"],[0.4444444444444444,\\\"#bd3786\\\"],[0.5555555555555556,\\\"#d8576b\\\"],[0.6666666666666666,\\\"#ed7953\\\"],[0.7777777777777778,\\\"#fb9f3a\\\"],[0.8888888888888888,\\\"#fdca26\\\"],[1.0,\\\"#f0f921\\\"]]}],\\\"contourcarpet\\\":[{\\\"colorbar\\\":{\\\"ticks\\\":\\\"\\\",\\\"outlinewidth\\\":0},\\\"type\\\":\\\"contourcarpet\\\"}],\\\"table\\\":[{\\\"type\\\":\\\"table\\\",\\\"header\\\":{\\\"line\\\":{\\\"color\\\":\\\"white\\\"},\\\"fill\\\":{\\\"color\\\":\\\"#C8D4E3\\\"}},\\\"cells\\\":{\\\"line\\\":{\\\"color\\\":\\\"white\\\"},\\\"fill\\\":{\\\"color\\\":\\\"#EBF0F8\\\"}}}],\\\"scatter3d\\\":[{\\\"line\\\":{\\\"colorbar\\\":{\\\"ticks\\\":\\\"\\\",\\\"outlinewidth\\\":0}},\\\"type\\\":\\\"scatter3d\\\",\\\"marker\\\":{\\\"colorbar\\\":{\\\"ticks\\\":\\\"\\\",\\\"outlinewidth\\\":0}}}],\\\"scattergl\\\":[{\\\"type\\\":\\\"scattergl\\\",\\\"marker\\\":{\\\"colorbar\\\":{\\\"ticks\\\":\\\"\\\",\\\"outlinewidth\\\":0}}}],\\\"histogram2d\\\":[{\\\"colorbar\\\":{\\\"ticks\\\":\\\"\\\",\\\"outlinewidth\\\":0},\\\"type\\\":\\\"histogram2d\\\",\\\"colorscale\\\":[[0.0,\\\"#0d0887\\\"],[0.1111111111111111,\\\"#46039f\\\"],[0.2222222222222222,\\\"#7201a8\\\"],[0.3333333333333333,\\\"#9c179e\\\"],[0.4444444444444444,\\\"#bd3786\\\"],[0.5555555555555556,\\\"#d8576b\\\"],[0.6666666666666666,\\\"#ed7953\\\"],[0.7777777777777778,\\\"#fb9f3a\\\"],[0.8888888888888888,\\\"#fdca26\\\"],[1.0,\\\"#f0f921\\\"]]}],\\\"scatterternary\\\":[{\\\"type\\\":\\\"scatterternary\\\",\\\"marker\\\":{\\\"colorbar\\\":{\\\"ticks\\\":\\\"\\\",\\\"outlinewidth\\\":0}}}],\\\"scatterpolargl\\\":[{\\\"type\\\":\\\"scatterpolargl\\\",\\\"marker\\\":{\\\"colorbar\\\":{\\\"ticks\\\":\\\"\\\",\\\"outlinewidth\\\":0}}}]}},\\\"annotations\\\":[{\\\"yanchor\\\":\\\"bottom\\\",\\\"xanchor\\\":\\\"center\\\",\\\"y\\\":1.0,\\\"font\\\":{\\\"size\\\":16},\\\"yref\\\":\\\"paper\\\",\\\"showarrow\\\":false,\\\"text\\\":\\\"Std UVB\\\",\\\"xref\\\":\\\"paper\\\",\\\"x\\\":0.225},{\\\"yanchor\\\":\\\"bottom\\\",\\\"xanchor\\\":\\\"center\\\",\\\"y\\\":1.0,\\\"font\\\":{\\\"size\\\":16},\\\"yref\\\":\\\"paper\\\",\\\"showarrow\\\":false,\\\"text\\\":\\\"Deaths vs Expected\\\",\\\"xref\\\":\\\"paper\\\",\\\"x\\\":0.775}],\\\"margin\\\":{\\\"l\\\":50,\\\"b\\\":50,\\\"r\\\":50,\\\"t\\\":60},\\\"yaxis\\\":{\\\"domain\\\":[0.0,1.0],\\\"anchor\\\":\\\"x\\\"},\\\"yaxis2\\\":{\\\"domain\\\":[0.0,1.0],\\\"anchor\\\":\\\"x2\\\"}},{\\\"showLink\\\":false,\\\"editable\\\":false,\\\"responsive\\\":true,\\\"staticPlot\\\":false,\\\"scrollZoom\\\":true}); gd.on(\\\"plotly_hover\\\",(function (data){var filtered_data=WebIO.PlotlyCommands.filterEventData(gd,data,\\\"hover\\\"); return !(filtered_data.isnil) ? (WebIO.setval({\\\"name\\\":\\\"hover\\\",\\\"scope\\\":\\\"5149117463103293860\\\",\\\"id\\\":\\\"41\\\",\\\"type\\\":\\\"observable\\\"},filtered_data.out)) : undefined})); gd.on(\\\"plotly_unhover\\\",(function (){return WebIO.setval({\\\"name\\\":\\\"hover\\\",\\\"scope\\\":\\\"5149117463103293860\\\",\\\"id\\\":\\\"41\\\",\\\"type\\\":\\\"observable\\\"},{})})); gd.on(\\\"plotly_selected\\\",(function (data){var filtered_data=WebIO.PlotlyCommands.filterEventData(gd,data,\\\"selected\\\"); return !(filtered_data.isnil) ? (WebIO.setval({\\\"name\\\":\\\"selected\\\",\\\"scope\\\":\\\"5149117463103293860\\\",\\\"id\\\":\\\"42\\\",\\\"type\\\":\\\"observable\\\"},filtered_data.out)) : undefined})); gd.on(\\\"plotly_deselect\\\",(function (){return WebIO.setval({\\\"name\\\":\\\"selected\\\",\\\"scope\\\":\\\"5149117463103293860\\\",\\\"id\\\":\\\"42\\\",\\\"type\\\":\\\"observable\\\"},{})})); gd.on(\\\"plotly_relayout\\\",(function (data){var filtered_data=WebIO.PlotlyCommands.filterEventData(gd,data,\\\"relayout\\\"); return !(filtered_data.isnil) ? (WebIO.setval({\\\"name\\\":\\\"relayout\\\",\\\"scope\\\":\\\"5149117463103293860\\\",\\\"id\\\":\\\"44\\\",\\\"type\\\":\\\"observable\\\"},filtered_data.out)) : undefined})); return gd.on(\\\"plotly_click\\\",(function (data){var filtered_data=WebIO.PlotlyCommands.filterEventData(gd,data,\\\"click\\\"); return !(filtered_data.isnil) ? (WebIO.setval({\\\"name\\\":\\\"click\\\",\\\"scope\\\":\\\"5149117463103293860\\\",\\\"id\\\":\\\"43\\\",\\\"type\\\":\\\"observable\\\"},filtered_data.out)) : undefined}))}));\\n    (WebIO.importBlock({\\\"data\\\":[{\\\"name\\\":\\\"Plotly\\\",\\\"type\\\":\\\"js\\\",\\\"url\\\":\\\"\\/assetserver\\/a1ce98aba64ebc875cd706be1c5f477c144bace2-plotly.min.js\\\"},{\\\"name\\\":null,\\\"type\\\":\\\"js\\\",\\\"url\\\":\\\"\\/assetserver\\/aa2112138e40c2a40506078cf4ea9303756a94b4-plotly_webio.bundle.js\\\"}],\\\"type\\\":\\\"async_block\\\"})).then((imports) => handler.apply(this, imports));\\n}\\n\"],\"observables\":{\"_toImage\":{\"sync\":false,\"id\":\"48\",\"value\":{}},\"hover\":{\"sync\":false,\"id\":\"41\",\"value\":{}},\"selected\":{\"sync\":false,\"id\":\"42\",\"value\":{}},\"__gd_contents\":{\"sync\":false,\"id\":\"46\",\"value\":{}},\"click\":{\"sync\":false,\"id\":\"43\",\"value\":{}},\"image\":{\"sync\":true,\"id\":\"45\",\"value\":\"\"},\"__get_gd_contents\":{\"sync\":false,\"id\":\"50\",\"value\":\"\"},\"_downloadImage\":{\"sync\":false,\"id\":\"49\",\"value\":{}},\"relayout\":{\"sync\":false,\"id\":\"44\",\"value\":{}},\"_commands\":{\"sync\":false,\"id\":\"47\",\"value\":[\"react\",[{\"showlegend\":false,\"x\":[-0.5860017037824012,-0.6468623918685508,-0.5654526510455601,-0.6064095952148675,-0.6064095952148675,-0.6892107831809808,-0.5378858648912307,-0.5378858648912307,-0.6296608786354541,-0.5012040916544162,-0.5100972538300266,-0.22942824893173988,-0.28189992235790323,-0.08848876946384754,-0.20672144482802735,-0.10153610716820101,-0.2946447715528822,-0.3823059415696125,-0.5150983971850183,-0.3967245605164637,-0.472810503574463,-0.1326924236337746,-0.7832040459939507,-0.899278969991259,-0.9796199180811263,-0.5248990248887521,-0.7128250528128168,-0.8117387953782785,-0.8037934305320417,-0.899278969991259,-0.8292024653194996,-0.7128250528128168,-0.6601920521816538,-0.7688862565502244,-0.7263160403309196,-0.7258320587159204,-0.5932009303055142,-0.4538545569869944,-0.4692814709650939,-0.41670896803580565,-1.0364272601416575,-1.1673846188001915,-1.1896074412889046,-1.0577426171022473,-1.0459657311372668,-1.0520961649272567,-1.0281189090841711,-1.1046888337571699,-1.0520961649272567,-1.1215071948783921,-1.1785161959451729,-1.2225585229101001,-1.2000937096138873,-1.232984293533208,-1.2332061184400827,-0.1889552863774317,-0.017867785475214136,0.5610347237657052,0.6462154880055645,0.7633592047359962,0.7075198259054634,1.0801655035542232,0.39797325131222433,0.5128987189739096,0.6214920938393553,0.44181391927090197,-0.12549319711066145,-0.09175564536509215,-0.20420070724990652,0.19699988568380614,0.2754250732143017,0.3347531528529537,0.05071644255029764,0.020971739128471743,-0.11714451425192525,-0.07566325666636872,-0.01214066969772359,0.292767747751773,-0.09139265915384276,0.2170246250043981,0.0629168124284025,0.030429546521581134,-0.02811206299269722,-0.3629668428702694,-0.03024964845894369,-0.25949560676356526,-0.1532818081718656,0.11208127815207133,0.3173096488123575,0.47625727753834507,0.04664293062405437,-0.33872743031905944,-0.4254004712051664,-0.14414665518875566,-0.1285584140056564,-0.1285584140056564,-0.09722060443445812,-0.1129298410213072,-0.15967439866998004,-0.14414665518875566,-0.19054839252680406,1.0003085370793552,1.3052169545288517,1.3908615344830855,0.7760435562291002,1.494514263695414,0.4772454066689685,0.35421324695604656,0.4066042567797101,-0.22942824893173988,-0.25949560676356526,-0.289341139688516,-0.16862805854746524,1.0003085370793552,0.8331937186002559,0.9420895819750762,0.8196825651815282,0.6521644286899297,1.1001095792723152,0.865217168792703,0.744685580757277,-0.5378858648912307,-0.5240117252612536,0.11006468808957466,0.17689448276071432,-0.07566325666636872,0.05071644255029764,0.2788936081217959,-0.3629668428702694,-0.3967245605164637,-0.40648485641894755,0.42418892212468107,0.44181391927090197,0.26804435358556383,0.28516520321616057,1.1996282988565259,1.116665783685413,1.3585557616818886,1.3258870026694425,1.542993088797834,1.1253572868547737,0.4117667273397016,1.0036359106824746,1.0237816454068163,0.6147566830306165,0.48287169294333415,0.4471982147377681,0.5963855475612717,0.48728802518020187,-0.8324491753201192,-0.8292024653194996,-0.7234121506409243,-1.0787151537522128,-0.9189810549018513,-0.919223045709351,-0.8406768627751056,-0.919223045709351,-1.1846869615364128,-1.1515342209089674,-1.1588342769352054,-1.1515342209089674,-1.21053964613762,-0.9871417990142388,-0.9752237517448835,-0.9512263300011732,-0.9770790146023804,-0.6953210510703457,-0.7944566185426821,-0.7170598919440598,-0.7560002460508706,-0.5029786909094133,-0.6704161637985119,-0.5977382579461319,-0.7560002460508706,-0.429252158224535,-0.5671264207974324,-0.7560002460508706,-0.624881560187337,-0.4580692302176124,-0.6735620442960066,-0.47789231053195474,-0.5200592087387601,-0.4888423945713116,-0.7560002460508706,-0.5977382579461319,-0.6602525498835286,-0.9274104013630875,-0.7944566185426821,-0.9189810549018513,-0.9634065339786531,-0.8909504530331478,-1.06514350263161,-1.0879713021390724,-1.0609489953016171,-1.1066449261177915,-0.919223045709351,-0.739363378035273,-0.700039871816588,-0.8468476283663455,-0.708469218277824,-0.9031508229112525,-0.6735620442960066,-0.7215568877834274,-1.5250470322846008,-1.4339173273603765,-1.3539393654817584,-1.323146035227434,-1.2748890350318889,-1.3019516736705943,-1.373459957286726,-1.2949742720543558,-1.2243734539663473,-1.6367661217469165,-1.7948466167460304,-1.5560016897439246,-1.1698851904776872,-1.1886798098601563,-1.0992843723896786,-1.1331832513402478,1.2411297223427074,1.180369863759683,1.220822660413366,1.2614972819739239,1.8542335990435703,1.8542335990435703,2.093179355548801,2.1843292263736505,2.3271038027984146,1.619300856762708,1.619300856762708,1.6623953863982621,1.6623953863982621,1.7056714091394405,0.4401401495190297,0.7193975413735687,0.7571077755422564,0.6338336250218349,0.6705557300598993,0.6155431531549902,0.6890075291317439,0.7260724544804327,0.4005343206915951,0.4181391519371911,0.5415746296626123,0.4181391519371911,1.0692759172167412,1.0692759172167412,1.5193183214641233,1.6053662194308562,1.5837685398615169,1.3585557616818886,0.8960306649476523,0.8766109026458092,0.9667323125387856,0.3190035844648547,0.30190290073488296,0.250984001656842,0.3705879582635196,0.33614459999607643,0.35334611322917303,0.4226764795778086,0.6819292980123806,0.6632758399342863,0.7820731605159652,0.8710451140733185,0.9284775990532237,1.1401187261122492,1.641180858940797,1.6194218521664578,0.5610347237657052,0.5249780934482646,0.3705879582635196,0.6890075291317439,0.6155431531549902,0.5973131789900203,1.7287210335537775,1.7652011477843423,1.8990623961328714,1.8766177487372835,1.9215473753297092,1.9285046110453226,2.0574857114426095,2.093179355548801,1.9577653328521496,2.642498488572894,2.6180977488166843,2.2811255493734905,2.5749427214792555,2.5513486177480442,2.5277545140168334,2.5513486177480442,2.693921535166559,2.646128350685388,0.9667323125387856,1.0062574777637203,1.1023479942416865,1.1226550561710282,1.0659687095142467,1.0261007239786875,1.183919062269677,1.225057499544609,1.3498239267112782,0.25695310824183215,0.3254365067642191,0.9337812309175899,1.0302952313086806,0.45353030753400764,0.3705879582635196,0.5007991785989296,0.3829899871478741,0.48287169294333415,0.5187669960557749,0.5368154771151201,0.5610347237657052,-1.0732703605834717,-1.2004566958251368,-1.1296743846315036,-1.1072700690371655,-1.2004566958251368,-0.9310805952768315,-0.9632452067736533,-0.9512263300011732,-0.9189810549018513,-1.0072068701360808,-1.068692701141604,-1.148751326622722,-1.0571981377853732,-1.0305388171591672,-1.0456430767272673,-0.7832040459939507,-0.9270272492512132,-0.9634065339786531,-0.8452141904157231,-0.8909504530331478,-0.9274104013630875,-0.9189810549018513,-0.8699980822838073,-1.159782074264579,-1.1957378750788945,-1.1816822423432929,-0.47325415338821236,-0.4775293243207053,-0.4591985206526105,-1.0026897083960884,-0.9790351069630023,-0.9551586806230417,-0.8324491753201192,-0.7816916034470782,-0.7944566185426821,-0.849570024950716,-0.8452141904157231,-0.7816916034470782,-0.7430739037502669,-0.7348058844940306],\"xaxis\":\"x\",\"type\":\"histogram\",\"yaxis\":\"y\",\"nbinsx\":50,\"marker\":{\"color\":\"darkorange\"}},{\"showlegend\":false,\"mode\":\"markers\",\"x\":[79,80,51,43,89,19,19,15,33,9,12,156,110,77,56,220,46,47,50,90,62,85,141,38,121,218,50,97,98,75,85,209,127,98,58,151,66,25,91,42,160,209,43,28,41,42,6,57,20,21,31,23,79,24,57,33,20,15,29,9,7,14,17,7,8,10,13,9,7,13,8,19,9,16,44,14,24,12,13,11,14,5,13,11,8,16,3,9,13,8,3,12,42,77,15,40,16,34,30,41,18,5,16,18,2,11,5,9,11,14,7,28,10,5,7,13,7,5,9,3,7,63,35,25,17,6,12,14,9,8,10,12,19,9,4,3,1,22,44,17,11,12,10,14,22,22,50,5,18,20,27,28,31,32,16,28,35,31,9,18,23,11,65,52,34,43,313,27,24,20,36,74,65,45,10,69,29,53,39,33,28,47,27,22,21,21,97,27,15,26,12,47,63,38,31,13,17,15,11,19,4,11,15,8,23,19,13,28,1,7,74,3,2,0,0,16,10,4,4,9,6,9,8,6,5,10,9,5,10,4,31,4,13,11,18,9,19,31,10,16,20,22,9,17,8,8,4,109,12,9,4,10,36,13,23,24,4,128,15,12,16,9,13,8,13,8,6,6,2,88,14,21,13,8,25,15,22,12,8,9,11,2,15,1,6,20,11,9,5,2,11,4,12,5,8,8,44,6,14,9,5,11,13,15,9,12,6,19,19,10,22,29,35,8,1,0,3,0,2,0,21,4,1,0,2,2,2,0,1,2,1,1,7,3,5,1,3,1,3,1,2,2,19,14,26,11,34,62,32,107,150,15,64,31],\"xaxis\":\"x2\",\"y\":[51.222,79.956,46.5169,55.053,67.758,35.976,13.28,66.5579,50.969,11.171,19.683,108.04,73.692,57.098,46.622,112.61,30.334,29.973,32.027,46.521,36.99,46.942,55.3829,21.304,50.229,136.08,36.712,50.625,62.8699,45.359,65.385,160.08,121.349,75.166,55.498,114.489,42.222,14.495,55.7649,33.242,80.663,78.897,19.621,12.04,17.5599,16.684,3.079,28.662,15.852,13.507,20.41,16.632,36.005,14.803,30.57,44.742,32.375,18.878,52.7869,14.498,14.731,26.822,19.172,8.595,10.398,29.562,28.3759,22.5599,14.818,23.294,12.69,29.0639,15.38,26.4009,40.512,34.991,28.552,16.2619,17.3969,12.662,24.028,14.36,25.174,16.107,14.536,27.318,10.988,24.309,12.305,11.309,6.614,21.7029,59.658,110.18,39.0169,55.986,47.549,73.008,68.653,61.691,43.2799,13.526,24.9669,32.234,3.893,14.999,12.176,7.43,17.697,37.07,10.434,52.611,20.114,7.086,14.022,38.879,9.045,7.619,11.514,17.152,9.279,127.379,71.2149,46.6059,31.93,13.1,24.968,22.656,27.546,31.518,27.393,17.1089,25.061,17.264,18.202,5.811,5.021,39.851,82.774,31.927,20.07,19.569,13.0,18.246,44.3569,37.924,72.6869,15.791,23.312,22.275,25.771,22.983,34.16,31.839,20.391,19.7619,37.16,43.8629,21.638,17.792,23.259,11.074,100.349,57.973,34.959,50.9399,258.859,19.326,25.9939,20.354,23.072,54.3909,56.8989,35.991,4.183,54.576,21.622,37.761,23.0259,34.5589,15.505,35.685,21.468,18.778,15.633,20.084,104.3,23.268,13.895,38.2659,17.95,49.7179,78.1279,31.921,25.1959,14.35,12.173,16.632,8.487,20.365,4.116,14.492,13.68,7.207,17.322,15.02,12.891,27.885,3.725,10.387,91.539,5.425,0.69,0.81,1.137,21.333,11.689,8.604,7.776,9.498,8.586,9.007,11.587,13.32,6.53,23.039,23.648,18.9109,23.02,9.343,91.023,14.02,31.947,9.031,12.623,12.86,18.353,29.354,12.17,11.409,18.7509,16.622,4.56,9.043,8.452,8.476,4.628,114.889,13.44,14.459,7.19,9.584,33.443,7.682,24.339,23.7339,5.577,126.519,27.8279,31.7509,16.452,10.499,11.984,10.451,13.384,9.18,11.04,7.471,2.997,75.414,12.566,15.924,17.599,6.967,15.076,21.753,45.473,17.7649,12.285,23.4559,13.59,8.831,22.905,5.02,13.423,37.2879,21.167,15.452,9.413,6.551,31.489,8.516,12.52,6.445,12.059,8.275,37.2589,10.894,12.16,9.964,8.214,7.16,13.623,13.922,18.2169,7.25,3.685,24.068,22.534,7.001,22.193,26.4629,25.282,8.019,5.604,0.964,3.789,1.847,1.805,1.277,30.641,3.269,2.309,1.701,1.04,2.794,3.024,1.933,1.984,3.17,2.718,2.845,12.902,4.032,5.144,4.461,2.843,1.835,4.064,1.698,2.353,3.427,16.5529,17.68,18.495,13.456,32.5779,53.824,28.011,74.903,97.6399,11.01,65.7699,34.471],\"type\":\"scatter\",\"yaxis\":\"y2\",\"marker\":{\"color\":\"salmon\"}}],{\"xaxis\":{\"domain\":[0.0,0.45],\"anchor\":\"y\"},\"xaxis2\":{\"domain\":[0.55,1.0],\"anchor\":\"y2\"},\"template\":{\"data\":{\"scatterpolargl\":[{\"type\":\"scatterpolargl\",\"marker\":{\"colorbar\":{\"ticks\":\"\",\"outlinewidth\":0}}}],\"carpet\":[{\"baxis\":{\"gridcolor\":\"white\",\"endlinecolor\":\"#2a3f5f\",\"minorgridcolor\":\"white\",\"startlinecolor\":\"#2a3f5f\",\"linecolor\":\"white\"},\"type\":\"carpet\",\"aaxis\":{\"gridcolor\":\"white\",\"endlinecolor\":\"#2a3f5f\",\"minorgridcolor\":\"white\",\"startlinecolor\":\"#2a3f5f\",\"linecolor\":\"white\"}}],\"scatterpolar\":[{\"type\":\"scatterpolar\",\"marker\":{\"colorbar\":{\"ticks\":\"\",\"outlinewidth\":0}}}],\"parcoords\":[{\"line\":{\"colorbar\":{\"ticks\":\"\",\"outlinewidth\":0}},\"type\":\"parcoords\"}],\"scatter\":[{\"type\":\"scatter\",\"marker\":{\"colorbar\":{\"ticks\":\"\",\"outlinewidth\":0}}}],\"histogram2dcontour\":[{\"colorbar\":{\"ticks\":\"\",\"outlinewidth\":0},\"type\":\"histogram2dcontour\",\"colorscale\":[[0.0,\"#0d0887\"],[0.1111111111111111,\"#46039f\"],[0.2222222222222222,\"#7201a8\"],[0.3333333333333333,\"#9c179e\"],[0.4444444444444444,\"#bd3786\"],[0.5555555555555556,\"#d8576b\"],[0.6666666666666666,\"#ed7953\"],[0.7777777777777778,\"#fb9f3a\"],[0.8888888888888888,\"#fdca26\"],[1.0,\"#f0f921\"]]}],\"contour\":[{\"colorbar\":{\"ticks\":\"\",\"outlinewidth\":0},\"type\":\"contour\",\"colorscale\":[[0.0,\"#0d0887\"],[0.1111111111111111,\"#46039f\"],[0.2222222222222222,\"#7201a8\"],[0.3333333333333333,\"#9c179e\"],[0.4444444444444444,\"#bd3786\"],[0.5555555555555556,\"#d8576b\"],[0.6666666666666666,\"#ed7953\"],[0.7777777777777778,\"#fb9f3a\"],[0.8888888888888888,\"#fdca26\"],[1.0,\"#f0f921\"]]}],\"scattercarpet\":[{\"type\":\"scattercarpet\",\"marker\":{\"colorbar\":{\"ticks\":\"\",\"outlinewidth\":0}}}],\"mesh3d\":[{\"colorbar\":{\"ticks\":\"\",\"outlinewidth\":0},\"type\":\"mesh3d\"}],\"surface\":[{\"colorbar\":{\"ticks\":\"\",\"outlinewidth\":0},\"type\":\"surface\",\"colorscale\":[[0.0,\"#0d0887\"],[0.1111111111111111,\"#46039f\"],[0.2222222222222222,\"#7201a8\"],[0.3333333333333333,\"#9c179e\"],[0.4444444444444444,\"#bd3786\"],[0.5555555555555556,\"#d8576b\"],[0.6666666666666666,\"#ed7953\"],[0.7777777777777778,\"#fb9f3a\"],[0.8888888888888888,\"#fdca26\"],[1.0,\"#f0f921\"]]}],\"scattermapbox\":[{\"type\":\"scattermapbox\",\"marker\":{\"colorbar\":{\"ticks\":\"\",\"outlinewidth\":0}}}],\"scattergeo\":[{\"type\":\"scattergeo\",\"marker\":{\"colorbar\":{\"ticks\":\"\",\"outlinewidth\":0}}}],\"histogram\":[{\"type\":\"histogram\",\"marker\":{\"colorbar\":{\"ticks\":\"\",\"outlinewidth\":0}}}],\"pie\":[{\"type\":\"pie\",\"automargin\":true}],\"choropleth\":[{\"colorbar\":{\"ticks\":\"\",\"outlinewidth\":0},\"type\":\"choropleth\"}],\"heatmapgl\":[{\"colorbar\":{\"ticks\":\"\",\"outlinewidth\":0},\"type\":\"heatmapgl\",\"colorscale\":[[0.0,\"#0d0887\"],[0.1111111111111111,\"#46039f\"],[0.2222222222222222,\"#7201a8\"],[0.3333333333333333,\"#9c179e\"],[0.4444444444444444,\"#bd3786\"],[0.5555555555555556,\"#d8576b\"],[0.6666666666666666,\"#ed7953\"],[0.7777777777777778,\"#fb9f3a\"],[0.8888888888888888,\"#fdca26\"],[1.0,\"#f0f921\"]]}],\"bar\":[{\"type\":\"bar\",\"error_y\":{\"color\":\"#2a3f5f\"},\"error_x\":{\"color\":\"#2a3f5f\"},\"marker\":{\"line\":{\"color\":\"#E5ECF6\",\"width\":0.5}}}],\"heatmap\":[{\"colorbar\":{\"ticks\":\"\",\"outlinewidth\":0},\"type\":\"heatmap\",\"colorscale\":[[0.0,\"#0d0887\"],[0.1111111111111111,\"#46039f\"],[0.2222222222222222,\"#7201a8\"],[0.3333333333333333,\"#9c179e\"],[0.4444444444444444,\"#bd3786\"],[0.5555555555555556,\"#d8576b\"],[0.6666666666666666,\"#ed7953\"],[0.7777777777777778,\"#fb9f3a\"],[0.8888888888888888,\"#fdca26\"],[1.0,\"#f0f921\"]]}],\"contourcarpet\":[{\"colorbar\":{\"ticks\":\"\",\"outlinewidth\":0},\"type\":\"contourcarpet\"}],\"table\":[{\"type\":\"table\",\"header\":{\"line\":{\"color\":\"white\"},\"fill\":{\"color\":\"#C8D4E3\"}},\"cells\":{\"line\":{\"color\":\"white\"},\"fill\":{\"color\":\"#EBF0F8\"}}}],\"scatter3d\":[{\"line\":{\"colorbar\":{\"ticks\":\"\",\"outlinewidth\":0}},\"type\":\"scatter3d\",\"marker\":{\"colorbar\":{\"ticks\":\"\",\"outlinewidth\":0}}}],\"scattergl\":[{\"type\":\"scattergl\",\"marker\":{\"colorbar\":{\"ticks\":\"\",\"outlinewidth\":0}}}],\"histogram2d\":[{\"colorbar\":{\"ticks\":\"\",\"outlinewidth\":0},\"type\":\"histogram2d\",\"colorscale\":[[0.0,\"#0d0887\"],[0.1111111111111111,\"#46039f\"],[0.2222222222222222,\"#7201a8\"],[0.3333333333333333,\"#9c179e\"],[0.4444444444444444,\"#bd3786\"],[0.5555555555555556,\"#d8576b\"],[0.6666666666666666,\"#ed7953\"],[0.7777777777777778,\"#fb9f3a\"],[0.8888888888888888,\"#fdca26\"],[1.0,\"#f0f921\"]]}],\"scatterternary\":[{\"type\":\"scatterternary\",\"marker\":{\"colorbar\":{\"ticks\":\"\",\"outlinewidth\":0}}}],\"barpolar\":[{\"type\":\"barpolar\",\"marker\":{\"line\":{\"color\":\"#E5ECF6\",\"width\":0.5}}}]},\"layout\":{\"xaxis\":{\"gridcolor\":\"white\",\"zerolinewidth\":2,\"title\":{\"standoff\":15},\"ticks\":\"\",\"zerolinecolor\":\"white\",\"automargin\":true,\"linecolor\":\"white\"},\"hovermode\":\"closest\",\"paper_bgcolor\":\"white\",\"geo\":{\"showlakes\":true,\"showland\":true,\"landcolor\":\"#E5ECF6\",\"bgcolor\":\"white\",\"subunitcolor\":\"white\",\"lakecolor\":\"white\"},\"colorscale\":{\"sequential\":[[0.0,\"#0d0887\"],[0.1111111111111111,\"#46039f\"],[0.2222222222222222,\"#7201a8\"],[0.3333333333333333,\"#9c179e\"],[0.4444444444444444,\"#bd3786\"],[0.5555555555555556,\"#d8576b\"],[0.6666666666666666,\"#ed7953\"],[0.7777777777777778,\"#fb9f3a\"],[0.8888888888888888,\"#fdca26\"],[1.0,\"#f0f921\"]],\"diverging\":[[0,\"#8e0152\"],[0.1,\"#c51b7d\"],[0.2,\"#de77ae\"],[0.3,\"#f1b6da\"],[0.4,\"#fde0ef\"],[0.5,\"#f7f7f7\"],[0.6,\"#e6f5d0\"],[0.7,\"#b8e186\"],[0.8,\"#7fbc41\"],[0.9,\"#4d9221\"],[1,\"#276419\"]],\"sequentialminus\":[[0.0,\"#0d0887\"],[0.1111111111111111,\"#46039f\"],[0.2222222222222222,\"#7201a8\"],[0.3333333333333333,\"#9c179e\"],[0.4444444444444444,\"#bd3786\"],[0.5555555555555556,\"#d8576b\"],[0.6666666666666666,\"#ed7953\"],[0.7777777777777778,\"#fb9f3a\"],[0.8888888888888888,\"#fdca26\"],[1.0,\"#f0f921\"]]},\"yaxis\":{\"gridcolor\":\"white\",\"zerolinewidth\":2,\"title\":{\"standoff\":15},\"ticks\":\"\",\"zerolinecolor\":\"white\",\"automargin\":true,\"linecolor\":\"white\"},\"shapedefaults\":{\"line\":{\"color\":\"#2a3f5f\"}},\"font\":{\"color\":\"#2a3f5f\"},\"annotationdefaults\":{\"arrowhead\":0,\"arrowwidth\":1,\"arrowcolor\":\"#2a3f5f\"},\"plot_bgcolor\":\"#E5ECF6\",\"title\":{\"x\":0.05},\"coloraxis\":{\"colorbar\":{\"ticks\":\"\",\"outlinewidth\":0}},\"hoverlabel\":{\"align\":\"left\"},\"mapbox\":{\"style\":\"light\"},\"polar\":{\"angularaxis\":{\"gridcolor\":\"white\",\"ticks\":\"\",\"linecolor\":\"white\"},\"bgcolor\":\"#E5ECF6\",\"radialaxis\":{\"gridcolor\":\"white\",\"ticks\":\"\",\"linecolor\":\"white\"}},\"autotypenumbers\":\"strict\",\"ternary\":{\"aaxis\":{\"gridcolor\":\"white\",\"ticks\":\"\",\"linecolor\":\"white\"},\"bgcolor\":\"#E5ECF6\",\"caxis\":{\"gridcolor\":\"white\",\"ticks\":\"\",\"linecolor\":\"white\"},\"baxis\":{\"gridcolor\":\"white\",\"ticks\":\"\",\"linecolor\":\"white\"}},\"scene\":{\"xaxis\":{\"gridcolor\":\"white\",\"gridwidth\":2,\"backgroundcolor\":\"#E5ECF6\",\"ticks\":\"\",\"showbackground\":true,\"zerolinecolor\":\"white\",\"linecolor\":\"white\"},\"zaxis\":{\"gridcolor\":\"white\",\"gridwidth\":2,\"backgroundcolor\":\"#E5ECF6\",\"ticks\":\"\",\"showbackground\":true,\"zerolinecolor\":\"white\",\"linecolor\":\"white\"},\"yaxis\":{\"gridcolor\":\"white\",\"gridwidth\":2,\"backgroundcolor\":\"#E5ECF6\",\"ticks\":\"\",\"showbackground\":true,\"zerolinecolor\":\"white\",\"linecolor\":\"white\"}},\"colorway\":[\"#636efa\",\"#EF553B\",\"#00cc96\",\"#ab63fa\",\"#FFA15A\",\"#19d3f3\",\"#FF6692\",\"#B6E880\",\"#FF97FF\",\"#FECB52\"]}},\"annotations\":[{\"yanchor\":\"bottom\",\"xanchor\":\"center\",\"y\":1.0,\"font\":{\"size\":16},\"yref\":\"paper\",\"showarrow\":false,\"text\":\"Std UVB\",\"xref\":\"paper\",\"x\":0.225},{\"yanchor\":\"bottom\",\"xanchor\":\"center\",\"y\":1.0,\"font\":{\"size\":16},\"yref\":\"paper\",\"showarrow\":false,\"text\":\"Deaths vs Expected\",\"xref\":\"paper\",\"x\":0.775}],\"margin\":{\"l\":50,\"b\":50,\"r\":50,\"t\":60},\"yaxis\":{\"domain\":[0.0,1.0],\"anchor\":\"x\"},\"yaxis2\":{\"domain\":[0.0,1.0],\"anchor\":\"x2\"}}]}}},\"children\":[{\"props\":{\"id\":\"plot-ee42e79f-8d5d-41fa-9929-4b69b2d66cbe\"},\"nodeType\":\"DOM\",\"type\":\"node\",\"instanceArgs\":{\"namespace\":\"html\",\"tag\":\"div\"},\"children\":[]}]},\n",
       "        window,\n",
       "    );\n",
       "    })()\n",
       "    </script>\n",
       "</div>\n"
      ],
      "text/plain": [
       "data: [\n",
       "  \"histogram with fields marker, nbinsx, showlegend, type, x, xaxis, and yaxis\",\n",
       "  \"scatter with fields marker, mode, showlegend, type, x, xaxis, y, and yaxis\"\n",
       "]\n",
       "\n",
       "layout: \"layout with fields annotations, margin, template, xaxis, xaxis2, yaxis, and yaxis2\"\n",
       "\n"
      ]
     },
     "metadata": {},
     "output_type": "display_data"
    }
   ],
   "source": [
    "fig = make_subplots(\n",
    "    rows=1, cols=2,\n",
    "    column_titles = [\"Std UVB\", \"Deaths vs Expected\"],\n",
    "    specs=[\n",
    "        Spec(kind=\"histogram\") Spec(kind=\"scatter\")\n",
    "    ]\n",
    ")  \n",
    "\n",
    "add_trace!(\n",
    "    fig,\n",
    "    histogram(x=melanoma.UVB_std,\n",
    "    marker_color=:darkorange,nbinsx=50, showlegend=false),\n",
    "    row=1,col=1)\n",
    "\n",
    "add_trace!(\n",
    "    fig,\n",
    "    scatter(x=melanoma.Deaths,y=melanoma.Expected,\n",
    "    mode=:markers,marker_color=:salmon,showlegend=false),\n",
    "    row=1,col=2)\n",
    "\n",
    "fig"
   ]
  }
 ],
 "metadata": {
  "kernelspec": {
   "display_name": "Julia 1.11.1",
   "language": "julia",
   "name": "julia-1.11"
  },
  "language_info": {
   "file_extension": ".jl",
   "mimetype": "application/julia",
   "name": "julia",
   "version": "1.11.1"
  }
 },
 "nbformat": 4,
 "nbformat_minor": 2
}

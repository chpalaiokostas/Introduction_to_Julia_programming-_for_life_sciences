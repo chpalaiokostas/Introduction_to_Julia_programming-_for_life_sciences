{
 "cells": [
  {
   "cell_type": "markdown",
   "id": "a77d13f0",
   "metadata": {},
   "source": [
    "# Intro to Julia for natural sciences"
   ]
  },
  {
   "cell_type": "markdown",
   "id": "e6c4bc6b",
   "metadata": {},
   "source": [
    "We will start our journey with Julia trying to create a function that estimates the geometric mean. We will see down the line what's the purpose of functions in general. For now it suffices to think that functions allow us to avoid having to keep writing the same code when we want to perform the same task on different occasions.\n"
   ]
  },
  {
   "cell_type": "markdown",
   "id": "201de8ba",
   "metadata": {},
   "source": [
    "To remind ourselves how we can estimate the geometric mean let's see a simple example. Let's say we want to estimate the geometric mean of `2,10`. In that case the formula is: $$\\sqrt{2*10}$$\n",
    "\n",
    "Similarly the geometric mean of `2,10,20`is estimated as: $$\\sqrt[3]{2*10*20}$$"
   ]
  },
  {
   "cell_type": "markdown",
   "id": "f528ce15",
   "metadata": {},
   "source": [
    "Of course in order to accomplish the above we need to acquaint ourselves with the basics of Julia's syntax."
   ]
  },
  {
   "cell_type": "markdown",
   "id": "43d7b45a",
   "metadata": {},
   "source": [
    "### Basic Julia syntax"
   ]
  },
  {
   "cell_type": "markdown",
   "id": "82a3beb3",
   "metadata": {},
   "source": [
    "Before we start with Julia syntax though let's learn about comments. Comments are meant to help us and others that read our code to understant what it's trying to accomplish. You don't need to write long sentences, better keep your comments concise and to the point. Also you don't need to comment anything. You can assume that the person that reads the code is familiar with the basics of the Julia syntax. Even if adding comments to your code might seem redundant, make it a habbit. Take my word for it as it can save you and your collaborators of much hustle down the line. Below we see how we can add comments in our code."
   ]
  },
  {
   "cell_type": "markdown",
   "id": "5d93285b",
   "metadata": {},
   "source": [
    "For single line comment"
   ]
  },
  {
   "cell_type": "code",
   "execution_count": 1,
   "id": "4efc7da1",
   "metadata": {},
   "outputs": [],
   "source": [
    "# this is a comment"
   ]
  },
  {
   "cell_type": "markdown",
   "id": "9351c0f3",
   "metadata": {},
   "source": [
    "For multiline comments"
   ]
  },
  {
   "cell_type": "code",
   "execution_count": 2,
   "id": "5c9a003d",
   "metadata": {},
   "outputs": [],
   "source": [
    "#=\n",
    "Comments are really important\n",
    "Both for collaboration and\n",
    "for our own use\n",
    "=#"
   ]
  },
  {
   "cell_type": "markdown",
   "id": "8934b912",
   "metadata": {},
   "source": [
    "And now let's start with some actual Julia syntax!"
   ]
  },
  {
   "cell_type": "markdown",
   "id": "ad821ee1",
   "metadata": {},
   "source": [
    "Basic calculations"
   ]
  },
  {
   "cell_type": "code",
   "execution_count": 3,
   "id": "33e3869a",
   "metadata": {},
   "outputs": [
    {
     "data": {
      "text/plain": [
       "4"
      ]
     },
     "metadata": {},
     "output_type": "display_data"
    }
   ],
   "source": [
    "2+2"
   ]
  },
  {
   "cell_type": "code",
   "execution_count": 4,
   "id": "f69ada22",
   "metadata": {},
   "outputs": [
    {
     "data": {
      "text/plain": [
       "0"
      ]
     },
     "metadata": {},
     "output_type": "display_data"
    }
   ],
   "source": [
    "2-2"
   ]
  },
  {
   "cell_type": "code",
   "execution_count": 5,
   "id": "bad06965",
   "metadata": {},
   "outputs": [
    {
     "data": {
      "text/plain": [
       "4"
      ]
     },
     "metadata": {},
     "output_type": "display_data"
    }
   ],
   "source": [
    "2^2"
   ]
  },
  {
   "cell_type": "code",
   "execution_count": 6,
   "id": "916d3452",
   "metadata": {},
   "outputs": [
    {
     "data": {
      "text/plain": [
       "10"
      ]
     },
     "metadata": {},
     "output_type": "display_data"
    }
   ],
   "source": [
    "2*5"
   ]
  },
  {
   "cell_type": "code",
   "execution_count": 7,
   "id": "5a59050a",
   "metadata": {},
   "outputs": [
    {
     "data": {
      "text/plain": [
       "5.0"
      ]
     },
     "metadata": {},
     "output_type": "display_data"
    }
   ],
   "source": [
    "10/2"
   ]
  },
  {
   "cell_type": "markdown",
   "id": "2d20658b",
   "metadata": {},
   "source": [
    "### Basic data types"
   ]
  },
  {
   "cell_type": "markdown",
   "id": "d3ed3a53",
   "metadata": {},
   "source": [
    "As every programming language Julia has its basic data types"
   ]
  },
  {
   "cell_type": "code",
   "execution_count": 8,
   "id": "1e7c48fd",
   "metadata": {},
   "outputs": [
    {
     "data": {
      "text/plain": [
       "Int64"
      ]
     },
     "metadata": {},
     "output_type": "display_data"
    }
   ],
   "source": [
    "typeof(3)"
   ]
  },
  {
   "cell_type": "code",
   "execution_count": 9,
   "id": "50a4fafe",
   "metadata": {},
   "outputs": [
    {
     "data": {
      "text/plain": [
       "Float64"
      ]
     },
     "metadata": {},
     "output_type": "display_data"
    }
   ],
   "source": [
    "typeof(3.0)"
   ]
  },
  {
   "cell_type": "code",
   "execution_count": 11,
   "id": "08ebe25e",
   "metadata": {},
   "outputs": [
    {
     "data": {
      "text/plain": [
       "Bool"
      ]
     },
     "metadata": {},
     "output_type": "display_data"
    }
   ],
   "source": [
    "typeof(true)"
   ]
  },
  {
   "cell_type": "code",
   "execution_count": 12,
   "id": "444f787b",
   "metadata": {},
   "outputs": [
    {
     "data": {
      "text/plain": [
       "Vector{Int64}\u001b[90m (alias for \u001b[39m\u001b[90mArray{Int64, 1}\u001b[39m\u001b[90m)\u001b[39m"
      ]
     },
     "metadata": {},
     "output_type": "display_data"
    }
   ],
   "source": [
    "typeof([1,2,3])"
   ]
  },
  {
   "cell_type": "code",
   "execution_count": 14,
   "id": "8eba0e4d",
   "metadata": {},
   "outputs": [
    {
     "data": {
      "text/plain": [
       "Char"
      ]
     },
     "metadata": {},
     "output_type": "display_data"
    }
   ],
   "source": [
    "typeof('C')"
   ]
  },
  {
   "cell_type": "markdown",
   "metadata": {},
   "source": [
    "### Variables"
   ]
  },
  {
   "cell_type": "markdown",
   "metadata": {},
   "source": [
    "A variable is a name bound to a value. It is an essential term of every programming language allowing us to make our code more efficient and easier to read."
   ]
  },
  {
   "cell_type": "code",
   "execution_count": 1,
   "metadata": {},
   "outputs": [
    {
     "data": {
      "text/plain": [
       "1"
      ]
     },
     "metadata": {},
     "output_type": "display_data"
    }
   ],
   "source": [
    "x = 1"
   ]
  },
  {
   "cell_type": "markdown",
   "metadata": {},
   "source": [
    "Julia offers a lot of flexibility in terms of allowed variable names. Have a look at https://docs.julialang.org/en/v1/manual/unicode-input/"
   ]
  },
  {
   "cell_type": "code",
   "execution_count": 15,
   "metadata": {},
   "outputs": [
    {
     "data": {
      "text/plain": [
       "3.14"
      ]
     },
     "metadata": {},
     "output_type": "display_data"
    }
   ],
   "source": [
    "π = 3.14"
   ]
  },
  {
   "cell_type": "code",
   "execution_count": 16,
   "metadata": {},
   "outputs": [
    {
     "data": {
      "text/plain": [
       "2"
      ]
     },
     "metadata": {},
     "output_type": "display_data"
    }
   ],
   "source": [
    "x₁ = 2"
   ]
  },
  {
   "cell_type": "markdown",
   "metadata": {},
   "source": [
    "The variable naming flexibility in Julia allow us to write code that appears identical to a textbook"
   ]
  },
  {
   "cell_type": "code",
   "execution_count": 3,
   "metadata": {},
   "outputs": [
    {
     "data": {
      "text/plain": [
       "9"
      ]
     },
     "metadata": {},
     "output_type": "display_data"
    }
   ],
   "source": [
    "β² = 4\n",
    "γ² = 5\n",
    "α = β² + γ²"
   ]
  },
  {
   "cell_type": "markdown",
   "metadata": {},
   "source": [
    "With a similar philosophy"
   ]
  },
  {
   "cell_type": "code",
   "execution_count": 15,
   "metadata": {},
   "outputs": [
    {
     "data": {
      "text/plain": [
       "6.28"
      ]
     },
     "metadata": {},
     "output_type": "display_data"
    }
   ],
   "source": [
    "2*π"
   ]
  },
  {
   "cell_type": "code",
   "execution_count": 17,
   "metadata": {},
   "outputs": [
    {
     "data": {
      "text/plain": [
       "6.28"
      ]
     },
     "metadata": {},
     "output_type": "display_data"
    }
   ],
   "source": [
    "2π"
   ]
  },
  {
   "cell_type": "markdown",
   "id": "9218d66f",
   "metadata": {},
   "source": [
    "It's important to keep in mind that in Julia when assigning a value to a variable only a binding is performed and not copying. This sound bit confusing so let's see what this means."
   ]
  },
  {
   "cell_type": "code",
   "execution_count": 18,
   "id": "f55b5c1f",
   "metadata": {},
   "outputs": [
    {
     "data": {
      "text/plain": [
       "3-element Vector{Int64}:\n",
       " 1\n",
       " 2\n",
       " 3"
      ]
     },
     "metadata": {},
     "output_type": "display_data"
    }
   ],
   "source": [
    "x = [1,2,3]\n",
    "y = x"
   ]
  },
  {
   "cell_type": "code",
   "execution_count": 19,
   "id": "dcc9f79f",
   "metadata": {},
   "outputs": [
    {
     "data": {
      "text/plain": [
       "3-element Vector{Int64}:\n",
       " 1\n",
       " 2\n",
       " 3"
      ]
     },
     "metadata": {},
     "output_type": "display_data"
    }
   ],
   "source": [
    "y"
   ]
  },
  {
   "cell_type": "code",
   "execution_count": 20,
   "id": "7e85f1ac",
   "metadata": {},
   "outputs": [
    {
     "data": {
      "text/plain": [
       "3-element Vector{Int64}:\n",
       " 2\n",
       " 2\n",
       " 3"
      ]
     },
     "metadata": {},
     "output_type": "display_data"
    }
   ],
   "source": [
    "y[1] = 2\n",
    "y"
   ]
  },
  {
   "cell_type": "code",
   "execution_count": 21,
   "id": "95b40abc",
   "metadata": {},
   "outputs": [
    {
     "data": {
      "text/plain": [
       "3-element Vector{Int64}:\n",
       " 2\n",
       " 2\n",
       " 3"
      ]
     },
     "metadata": {},
     "output_type": "display_data"
    }
   ],
   "source": [
    "x"
   ]
  },
  {
   "cell_type": "markdown",
   "metadata": {},
   "source": [
    "### Control flow constructs"
   ]
  },
  {
   "cell_type": "markdown",
   "id": "d2745538",
   "metadata": {},
   "source": [
    "In any programming language it is important to be able to direct the flow of our code depending on conditions that we couldn't know before hand. Of course Julia is not an exception so let's see how we can do it. For example imagine that you have written a program that asks the user to type a number and depending the number that is given different sections of our program are executed."
   ]
  },
  {
   "cell_type": "markdown",
   "metadata": {},
   "source": [
    "if-elseif - else"
   ]
  },
  {
   "cell_type": "code",
   "execution_count": 22,
   "metadata": {},
   "outputs": [
    {
     "name": "stdout",
     "output_type": "stream",
     "text": [
      "Very good!\n"
     ]
    }
   ],
   "source": [
    "x = 8\n",
    "\n",
    "if x == 10\n",
    "    println(\"Excellent!\")\n",
    "elseif 8 ≤ x < 10\n",
    "    println(\"Very good!\")\n",
    "elseif 5 ≤ x < 8\n",
    "    println(\"Good!\")\n",
    "else\n",
    "    println(\"You need to try again...\")\n",
    "end"
   ]
  },
  {
   "cell_type": "markdown",
   "id": "a1582e25",
   "metadata": {},
   "source": [
    "Experiment with the above. Try to print each of the possible messages."
   ]
  },
  {
   "cell_type": "markdown",
   "id": "c87843d2",
   "metadata": {},
   "source": [
    "The conditional expression needs to return a boolean otherwise you get an error. The following is a common beginner mistake."
   ]
  },
  {
   "cell_type": "code",
   "execution_count": 23,
   "id": "aa930fd7",
   "metadata": {},
   "outputs": [
    {
     "ename": "Base.Meta.ParseError",
     "evalue": "ParseError:\n# Error @ /Users/christos/Library/CloudStorage/OneDrive-Sverigeslantbruksuniversitet/Teaching/Julia_SLU/Teaching_material/Day1/jl_notebook_cell_df34fa98e69747e1a8f8a730347b8e2f_X64sZmlsZQ==.jl:2:6\nx = - 3\nif x = 0\n#    ╙ ── unexpected `=`",
     "output_type": "error",
     "traceback": [
      "ParseError:\n",
      "# Error @ /Users/christos/Library/CloudStorage/OneDrive-Sverigeslantbruksuniversitet/Teaching/Julia_SLU/Teaching_material/Day1/jl_notebook_cell_df34fa98e69747e1a8f8a730347b8e2f_X64sZmlsZQ==.jl:2:6\n",
      "x = - 3\n",
      "if x = 0\n",
      "#    ╙ ── unexpected `=`\n",
      "\n",
      "Stacktrace:\n",
      " [1] top-level scope\n",
      "   @ ~/Library/CloudStorage/OneDrive-Sverigeslantbruksuniversitet/Teaching/Julia_SLU/Teaching_material/Day1/jl_notebook_cell_df34fa98e69747e1a8f8a730347b8e2f_X64sZmlsZQ==.jl:2"
     ]
    }
   ],
   "source": [
    "x = - 3\n",
    "if x = 0\n",
    "    println(\"No progress\")\n"
   ]
  },
  {
   "cell_type": "markdown",
   "metadata": {},
   "source": [
    "For testing several conditions at once we can use `&&` or `||`"
   ]
  },
  {
   "cell_type": "code",
   "execution_count": 24,
   "metadata": {},
   "outputs": [
    {
     "data": {
      "text/plain": [
       "false"
      ]
     },
     "metadata": {},
     "output_type": "display_data"
    }
   ],
   "source": [
    "x > 5 && x < 11"
   ]
  },
  {
   "cell_type": "code",
   "execution_count": 25,
   "metadata": {},
   "outputs": [
    {
     "data": {
      "text/plain": [
       "false"
      ]
     },
     "metadata": {},
     "output_type": "display_data"
    }
   ],
   "source": [
    "x == 5 || x > 10"
   ]
  },
  {
   "cell_type": "markdown",
   "metadata": {},
   "source": [
    "Worth also mentioning the concept of `short-circuit` evaluation where the miminal number of conditions to defer the logical value of an expression are evaluated."
   ]
  },
  {
   "cell_type": "markdown",
   "id": "32f44cfa",
   "metadata": {},
   "source": [
    "The above operators will evaluate only as many expressions as needed to determine the whole logical expressions. For example in the above expression using the `||` operator if the first expression is `true`the second expression will not be evaluated. That also means that the last part of the expression doesn't have to produce a `Boolean`. Let's see some examples."
   ]
  },
  {
   "cell_type": "code",
   "execution_count": 26,
   "metadata": {},
   "outputs": [
    {
     "data": {
      "text/plain": [
       "true"
      ]
     },
     "metadata": {},
     "output_type": "display_data"
    }
   ],
   "source": [
    "z = -3\n",
    "z < 0 || log10(z)"
   ]
  },
  {
   "cell_type": "code",
   "execution_count": 27,
   "id": "06c94918",
   "metadata": {},
   "outputs": [
    {
     "data": {
      "text/plain": [
       "0.47712125471966244"
      ]
     },
     "metadata": {},
     "output_type": "display_data"
    }
   ],
   "source": [
    "x = 3 \n",
    "x < 0 || log10(x)"
   ]
  },
  {
   "cell_type": "code",
   "execution_count": 28,
   "metadata": {},
   "outputs": [
    {
     "name": "stdout",
     "output_type": "stream",
     "text": [
      "Number is odd\n"
     ]
    }
   ],
   "source": [
    "iseven(z) || println(\"Number is odd\")"
   ]
  },
  {
   "cell_type": "markdown",
   "id": "e8c4bb3c",
   "metadata": {},
   "source": [
    "The above is equivalent to:"
   ]
  },
  {
   "cell_type": "code",
   "execution_count": 29,
   "id": "c219f11f",
   "metadata": {},
   "outputs": [
    {
     "name": "stdout",
     "output_type": "stream",
     "text": [
      "Number is odd\n"
     ]
    }
   ],
   "source": [
    "if !iseven(z)\n",
    "    println(\"Number is odd\")\n",
    "end"
   ]
  },
  {
   "cell_type": "markdown",
   "id": "6975f538",
   "metadata": {},
   "source": [
    "A related topic the so-called `compound expressions` allow to group together several operations"
   ]
  },
  {
   "cell_type": "code",
   "execution_count": 30,
   "id": "01f566c0",
   "metadata": {},
   "outputs": [
    {
     "name": "stdout",
     "output_type": "stream",
     "text": [
      "-3\n",
      "9\n"
     ]
    }
   ],
   "source": [
    "z < 0 && begin\n",
    "    println(z)\n",
    "    z = abs(z)\n",
    "    println(z^2)\n",
    "end"
   ]
  },
  {
   "cell_type": "markdown",
   "metadata": {},
   "source": [
    "Worth also mentioning at this point the ternary operator"
   ]
  },
  {
   "cell_type": "code",
   "execution_count": 40,
   "metadata": {},
   "outputs": [
    {
     "data": {
      "text/plain": [
       "1.0986122886681098"
      ]
     },
     "metadata": {},
     "output_type": "display_data"
    }
   ],
   "source": [
    "z > 0 ? log(z) : log(abs(z))"
   ]
  },
  {
   "cell_type": "markdown",
   "id": "ef43365b",
   "metadata": {},
   "source": [
    "The above is equivalent to:"
   ]
  },
  {
   "cell_type": "code",
   "execution_count": 31,
   "id": "c4a35ac6",
   "metadata": {},
   "outputs": [
    {
     "data": {
      "text/plain": [
       "1.0986122886681098"
      ]
     },
     "metadata": {},
     "output_type": "display_data"
    }
   ],
   "source": [
    "if z > 0\n",
    "    log(z)\n",
    "else\n",
    "    log(abs(z))\n",
    "end"
   ]
  },
  {
   "cell_type": "markdown",
   "metadata": {},
   "source": [
    "### Loops"
   ]
  },
  {
   "cell_type": "markdown",
   "id": "34b7c137",
   "metadata": {},
   "source": [
    "Loops allow us to perform repeatedly the same operations. Central concept of any programming languages. Below we will familiarize ourselves with the syntax of `for`and `while`loops."
   ]
  },
  {
   "cell_type": "markdown",
   "metadata": {},
   "source": [
    "Let's start with the most common one the `for` loop. It's the method of choice when we know in advance how many iterations we want to perform."
   ]
  },
  {
   "cell_type": "code",
   "execution_count": 32,
   "metadata": {},
   "outputs": [
    {
     "name": "stdout",
     "output_type": "stream",
     "text": [
      "1\n",
      "4\n",
      "9\n",
      "16\n",
      "25\n",
      "36\n",
      "49\n",
      "64\n",
      "81\n",
      "100\n"
     ]
    }
   ],
   "source": [
    "for i in 1:10\n",
    "    println(i^2)\n",
    "end"
   ]
  },
  {
   "cell_type": "markdown",
   "metadata": {},
   "source": [
    "In cases when we don't know in advance the number of iterations the `while` loop can be useful"
   ]
  },
  {
   "cell_type": "code",
   "execution_count": 1,
   "metadata": {},
   "outputs": [
    {
     "name": "stdout",
     "output_type": "stream",
     "text": [
      "1\n",
      "11\n",
      "21\n",
      "31\n",
      "41\n",
      "51\n",
      "61\n",
      "71\n",
      "81\n",
      "91\n"
     ]
    }
   ],
   "source": [
    "i = 1\n",
    "while i < 100\n",
    "    println(i)\n",
    "    i = i + 10\n",
    "end"
   ]
  },
  {
   "cell_type": "markdown",
   "metadata": {},
   "source": [
    "In loops it is worth remembering the `continue` and `break` key words."
   ]
  },
  {
   "cell_type": "code",
   "execution_count": 34,
   "metadata": {},
   "outputs": [
    {
     "name": "stdout",
     "output_type": "stream",
     "text": [
      "1\n",
      "4\n",
      "9\n",
      "16\n",
      "36\n",
      "49\n",
      "64\n",
      "81\n",
      "100\n"
     ]
    }
   ],
   "source": [
    "for i in 1:10\n",
    "    if i == 5\n",
    "        continue\n",
    "    end\n",
    "    println(i^2)\n",
    "end"
   ]
  },
  {
   "cell_type": "code",
   "execution_count": 44,
   "metadata": {},
   "outputs": [
    {
     "name": "stdout",
     "output_type": "stream",
     "text": [
      "1\n",
      "4\n",
      "9\n",
      "16\n"
     ]
    }
   ],
   "source": [
    "for i in 1:10\n",
    "    if i == 5\n",
    "        break\n",
    "    end\n",
    "    println(i^2)\n",
    "end"
   ]
  },
  {
   "cell_type": "markdown",
   "id": "25fb8ff6",
   "metadata": {},
   "source": [
    "With all the above we are now equiped to make a first attempt of writing `Julia`code that allows to estimate the geometric mean. Let's see how we could estimate the geometric mean of `[3,8,5,9,12,22]`."
   ]
  },
  {
   "cell_type": "code",
   "execution_count": 35,
   "id": "638ddcb7",
   "metadata": {},
   "outputs": [
    {
     "data": {
      "text/plain": [
       "6-element Vector{Int64}:\n",
       "  3\n",
       "  8\n",
       "  5\n",
       "  9\n",
       " 12\n",
       " 22"
      ]
     },
     "metadata": {},
     "output_type": "display_data"
    }
   ],
   "source": [
    "x = [3,8,5,9,12,22]"
   ]
  },
  {
   "cell_type": "code",
   "execution_count": 36,
   "id": "f7afd7eb",
   "metadata": {},
   "outputs": [],
   "source": [
    "x_size = 0\n",
    "for i in x\n",
    "    global x_size +=1\n",
    "end"
   ]
  },
  {
   "cell_type": "code",
   "execution_count": 37,
   "id": "b189917c",
   "metadata": {},
   "outputs": [
    {
     "data": {
      "text/plain": [
       "6"
      ]
     },
     "metadata": {},
     "output_type": "display_data"
    }
   ],
   "source": [
    "x_size"
   ]
  },
  {
   "cell_type": "code",
   "execution_count": 38,
   "id": "bb4fa730",
   "metadata": {},
   "outputs": [
    {
     "data": {
      "text/plain": [
       "285120"
      ]
     },
     "metadata": {},
     "output_type": "display_data"
    }
   ],
   "source": [
    "x_product = 1\n",
    "for i in x\n",
    "   global x_product *= i\n",
    "end\n",
    "x_product"
   ]
  },
  {
   "cell_type": "code",
   "execution_count": 39,
   "id": "f0ae594b",
   "metadata": {},
   "outputs": [
    {
     "data": {
      "text/plain": [
       "8.11280953980749"
      ]
     },
     "metadata": {},
     "output_type": "display_data"
    }
   ],
   "source": [
    "geometric_mean_x = x_product^(1/x_size)"
   ]
  },
  {
   "cell_type": "code",
   "execution_count": 42,
   "id": "aeb22fb5",
   "metadata": {},
   "outputs": [],
   "source": [
    "#using Pkg\n",
    "#Pkg.add(\"StatsBase\")\n",
    "using StatsBase"
   ]
  },
  {
   "cell_type": "code",
   "execution_count": 43,
   "id": "f2e5ad78",
   "metadata": {},
   "outputs": [
    {
     "data": {
      "text/plain": [
       "8.112809539807488"
      ]
     },
     "metadata": {},
     "output_type": "display_data"
    }
   ],
   "source": [
    "geomean(x)"
   ]
  },
  {
   "cell_type": "markdown",
   "id": "944e7bf4",
   "metadata": {},
   "source": [
    "In the following we will make the above more efficient!"
   ]
  },
  {
   "cell_type": "markdown",
   "metadata": {},
   "source": [
    "### Functions"
   ]
  },
  {
   "cell_type": "markdown",
   "id": "08486e2e",
   "metadata": {},
   "source": [
    "Now we are ready to jump to the next big topic that of functions. I think it's better to understand their value using examples. So let's do that starting with the syntax that allows us to write a function in Julia."
   ]
  },
  {
   "cell_type": "markdown",
   "id": "37101d54",
   "metadata": {},
   "source": [
    "Julia as any programming language has built-in functions. We have already seen some like `typeof`. Let's expand our knowledge a bit regarding that."
   ]
  },
  {
   "cell_type": "code",
   "execution_count": 44,
   "id": "77e1d299",
   "metadata": {},
   "outputs": [
    {
     "data": {
      "text/plain": [
       "6"
      ]
     },
     "metadata": {},
     "output_type": "display_data"
    }
   ],
   "source": [
    "sum([1,2,3])"
   ]
  },
  {
   "cell_type": "code",
   "execution_count": 45,
   "id": "69086cd9",
   "metadata": {},
   "outputs": [
    {
     "data": {
      "text/plain": [
       "3-element Vector{Int64}:\n",
       " 1\n",
       " 2\n",
       " 3"
      ]
     },
     "metadata": {},
     "output_type": "display_data"
    }
   ],
   "source": [
    "sort([2,1,3])"
   ]
  },
  {
   "cell_type": "code",
   "execution_count": 46,
   "id": "2ba09d10",
   "metadata": {},
   "outputs": [
    {
     "data": {
      "text/plain": [
       "3"
      ]
     },
     "metadata": {},
     "output_type": "display_data"
    }
   ],
   "source": [
    "length([1,2,3])"
   ]
  },
  {
   "cell_type": "code",
   "execution_count": 47,
   "id": "8ef2f4ad",
   "metadata": {},
   "outputs": [
    {
     "data": {
      "text/plain": [
       "1:10"
      ]
     },
     "metadata": {},
     "output_type": "display_data"
    }
   ],
   "source": [
    "range(1,10)"
   ]
  },
  {
   "cell_type": "code",
   "execution_count": 2,
   "id": "a5a0ff9e",
   "metadata": {},
   "outputs": [
    {
     "data": {
      "text/plain": [
       "10-element Vector{Int64}:\n",
       "  1\n",
       "  2\n",
       "  3\n",
       "  4\n",
       "  5\n",
       "  6\n",
       "  7\n",
       "  8\n",
       "  9\n",
       " 10"
      ]
     },
     "metadata": {},
     "output_type": "display_data"
    }
   ],
   "source": [
    "collect(range(1,10))"
   ]
  },
  {
   "cell_type": "markdown",
   "id": "d5480c84",
   "metadata": {},
   "source": [
    "As expected Julia allows us to define our own functions."
   ]
  },
  {
   "cell_type": "code",
   "execution_count": 49,
   "metadata": {},
   "outputs": [
    {
     "data": {
      "text/plain": [
       "add (generic function with 1 method)"
      ]
     },
     "metadata": {},
     "output_type": "display_data"
    }
   ],
   "source": [
    "function add(x,y)\n",
    "    return x + y\n",
    "end"
   ]
  },
  {
   "cell_type": "code",
   "execution_count": 50,
   "metadata": {},
   "outputs": [
    {
     "data": {
      "text/plain": [
       "5"
      ]
     },
     "metadata": {},
     "output_type": "display_data"
    }
   ],
   "source": [
    "add(3,2)"
   ]
  },
  {
   "cell_type": "markdown",
   "metadata": {},
   "source": [
    "In Julia you can define functions with positional and keyword arguments. Optionally you can provide default values. Let's see an example."
   ]
  },
  {
   "cell_type": "code",
   "execution_count": 51,
   "metadata": {},
   "outputs": [
    {
     "data": {
      "text/plain": [
       "elaborate_sum (generic function with 2 methods)"
      ]
     },
     "metadata": {},
     "output_type": "display_data"
    }
   ],
   "source": [
    "function elaborate_sum(a, b=1; c=4)\n",
    "    return a + b + c^2\n",
    "end"
   ]
  },
  {
   "cell_type": "markdown",
   "id": "5a27c6c1",
   "metadata": {},
   "source": [
    "In the function argument list above we separate positional and keyword arguments by `;`. The former need to come first when we call the function. Also we have an argument with a default value all following arguments will need to have default values as well. Let's see below how we can call this function."
   ]
  },
  {
   "cell_type": "code",
   "execution_count": 52,
   "id": "79dfacc6",
   "metadata": {},
   "outputs": [
    {
     "data": {
      "text/plain": [
       "20"
      ]
     },
     "metadata": {},
     "output_type": "display_data"
    }
   ],
   "source": [
    "elaborate_sum(3)"
   ]
  },
  {
   "cell_type": "code",
   "execution_count": 53,
   "id": "07db3972",
   "metadata": {},
   "outputs": [
    {
     "data": {
      "text/plain": [
       "21"
      ]
     },
     "metadata": {},
     "output_type": "display_data"
    }
   ],
   "source": [
    "elaborate_sum(3,2)"
   ]
  },
  {
   "cell_type": "code",
   "execution_count": 54,
   "id": "e2489827",
   "metadata": {},
   "outputs": [
    {
     "data": {
      "text/plain": [
       "9"
      ]
     },
     "metadata": {},
     "output_type": "display_data"
    }
   ],
   "source": [
    "elaborate_sum(3,2,c=2)"
   ]
  },
  {
   "cell_type": "code",
   "execution_count": 55,
   "id": "1e647d3b",
   "metadata": {},
   "outputs": [
    {
     "data": {
      "text/plain": [
       "9"
      ]
     },
     "metadata": {},
     "output_type": "display_data"
    }
   ],
   "source": [
    "elaborate_sum(3,2;c=2)"
   ]
  },
  {
   "cell_type": "code",
   "execution_count": 56,
   "id": "96478194",
   "metadata": {},
   "outputs": [
    {
     "ename": "ErrorException",
     "evalue": "syntax: invalid keyword argument syntax \"1\" around /Users/christos/Library/CloudStorage/OneDrive-Sverigeslantbruksuniversitet/Teaching/Julia_SLU/Teaching_material/Day1/jl_notebook_cell_df34fa98e69747e1a8f8a730347b8e2f_Y201sZmlsZQ==.jl:1",
     "output_type": "error",
     "traceback": [
      "syntax: invalid keyword argument syntax \"1\" around /Users/christos/Library/CloudStorage/OneDrive-Sverigeslantbruksuniversitet/Teaching/Julia_SLU/Teaching_material/Day1/jl_notebook_cell_df34fa98e69747e1a8f8a730347b8e2f_Y201sZmlsZQ==.jl:1\n",
      "\n",
      "Stacktrace:\n",
      " [1] top-level scope\n",
      "   @ ~/Library/CloudStorage/OneDrive-Sverigeslantbruksuniversitet/Teaching/Julia_SLU/Teaching_material/Day1/jl_notebook_cell_df34fa98e69747e1a8f8a730347b8e2f_Y201sZmlsZQ==.jl:1"
     ]
    }
   ],
   "source": [
    "elaborate_sum(3,2;1)"
   ]
  },
  {
   "cell_type": "markdown",
   "id": "125a65e0",
   "metadata": {},
   "source": [
    "The last example shows us the difference between positional and keyword arguments. The latter are provided in a key-value format."
   ]
  },
  {
   "cell_type": "markdown",
   "id": "64b5b1b8",
   "metadata": {},
   "source": [
    "We mentioned before that Julia binds values to variable names. The same behaviour take also take place with functions. In this case the function after executed could change the values of the arguments that were passed. Let's see an example."
   ]
  },
  {
   "cell_type": "code",
   "execution_count": 60,
   "id": "8d7eb566",
   "metadata": {},
   "outputs": [
    {
     "data": {
      "text/plain": [
       "ll! (generic function with 1 method)"
      ]
     },
     "metadata": {},
     "output_type": "display_data"
    }
   ],
   "source": [
    "x = [1,2,3,4,5]\n",
    "function ll!(y)\n",
    "    y[1] = 2\n",
    "end"
   ]
  },
  {
   "cell_type": "code",
   "execution_count": 61,
   "id": "e3d0e67c",
   "metadata": {},
   "outputs": [
    {
     "data": {
      "text/plain": [
       "5-element Vector{Int64}:\n",
       " 2\n",
       " 2\n",
       " 3\n",
       " 4\n",
       " 5"
      ]
     },
     "metadata": {},
     "output_type": "display_data"
    }
   ],
   "source": [
    "ll!(x)\n",
    "x"
   ]
  },
  {
   "cell_type": "markdown",
   "id": "656a4b3d",
   "metadata": {},
   "source": [
    "By convention when a function changes the value of its arguments we use an `!` on its name. It's not compulsory to do it. My advice is to stick with this convention. Personally I find it quite useful. Several of built-in functions in Julia are offered in either a form that changes its arguments or another that doesn't affect them."
   ]
  },
  {
   "cell_type": "code",
   "execution_count": 62,
   "id": "b4652a80",
   "metadata": {},
   "outputs": [
    {
     "data": {
      "text/plain": [
       "4-element Vector{Int64}:\n",
       " 1\n",
       " 2\n",
       " 3\n",
       " 5"
      ]
     },
     "metadata": {},
     "output_type": "display_data"
    }
   ],
   "source": [
    "x = [2,5,1,3]\n",
    "sort(x)"
   ]
  },
  {
   "cell_type": "code",
   "execution_count": 63,
   "id": "36e624be",
   "metadata": {},
   "outputs": [
    {
     "data": {
      "text/plain": [
       "4-element Vector{Int64}:\n",
       " 2\n",
       " 5\n",
       " 1\n",
       " 3"
      ]
     },
     "metadata": {},
     "output_type": "display_data"
    }
   ],
   "source": [
    "x"
   ]
  },
  {
   "cell_type": "code",
   "execution_count": 64,
   "id": "5da7678f",
   "metadata": {},
   "outputs": [
    {
     "data": {
      "text/plain": [
       "4-element Vector{Int64}:\n",
       " 1\n",
       " 2\n",
       " 3\n",
       " 5"
      ]
     },
     "metadata": {},
     "output_type": "display_data"
    }
   ],
   "source": [
    "sort!(x)\n"
   ]
  },
  {
   "cell_type": "code",
   "execution_count": 65,
   "id": "5b281fc4",
   "metadata": {},
   "outputs": [
    {
     "data": {
      "text/plain": [
       "4-element Vector{Int64}:\n",
       " 1\n",
       " 2\n",
       " 3\n",
       " 5"
      ]
     },
     "metadata": {},
     "output_type": "display_data"
    }
   ],
   "source": [
    "x"
   ]
  },
  {
   "cell_type": "markdown",
   "id": "e3695564",
   "metadata": {},
   "source": [
    "For simple functions whose body is just one line we can also define them as follows."
   ]
  },
  {
   "cell_type": "code",
   "execution_count": 66,
   "id": "06c7a006",
   "metadata": {},
   "outputs": [
    {
     "data": {
      "text/plain": [
       "mult_values (generic function with 1 method)"
      ]
     },
     "metadata": {},
     "output_type": "display_data"
    }
   ],
   "source": [
    "mult_values(x,y) = x*y"
   ]
  },
  {
   "cell_type": "code",
   "execution_count": 67,
   "id": "8ec07ce4",
   "metadata": {},
   "outputs": [
    {
     "data": {
      "text/plain": [
       "6"
      ]
     },
     "metadata": {},
     "output_type": "display_data"
    }
   ],
   "source": [
    "mult_values(2,3)"
   ]
  },
  {
   "cell_type": "markdown",
   "id": "399384d2",
   "metadata": {},
   "source": [
    "For making our functions more robust we have the option of restricting the argument types."
   ]
  },
  {
   "cell_type": "code",
   "execution_count": 68,
   "id": "2dcb4c3c",
   "metadata": {},
   "outputs": [
    {
     "data": {
      "text/plain": [
       "simple_exp (generic function with 1 method)"
      ]
     },
     "metadata": {},
     "output_type": "display_data"
    }
   ],
   "source": [
    "function simple_exp(x::Int, y::Int)\n",
    "    return x^y\n",
    "end"
   ]
  },
  {
   "cell_type": "code",
   "execution_count": 69,
   "id": "b6e36652",
   "metadata": {},
   "outputs": [
    {
     "data": {
      "text/plain": [
       "8"
      ]
     },
     "metadata": {},
     "output_type": "display_data"
    }
   ],
   "source": [
    "simple_exp(2,3)"
   ]
  },
  {
   "cell_type": "code",
   "execution_count": 70,
   "id": "50237f7c",
   "metadata": {},
   "outputs": [
    {
     "ename": "MethodError",
     "evalue": "MethodError: no method matching simple_exp(::Int64, ::Float64)\nThe function `simple_exp` exists, but no method is defined for this combination of argument types.\n\nClosest candidates are:\n  simple_exp(::Int64, !Matched::Int64)\n   @ Main ~/Library/CloudStorage/OneDrive-Sverigeslantbruksuniversitet/Teaching/Julia_SLU/Teaching_material/Day1/jl_notebook_cell_df34fa98e69747e1a8f8a730347b8e2f_Y221sZmlsZQ==.jl:1\n",
     "output_type": "error",
     "traceback": [
      "MethodError: no method matching simple_exp(::Int64, ::Float64)\n",
      "The function `simple_exp` exists, but no method is defined for this combination of argument types.\n",
      "\n",
      "Closest candidates are:\n",
      "  simple_exp(::Int64, !Matched::Int64)\n",
      "   @ Main ~/Library/CloudStorage/OneDrive-Sverigeslantbruksuniversitet/Teaching/Julia_SLU/Teaching_material/Day1/jl_notebook_cell_df34fa98e69747e1a8f8a730347b8e2f_Y221sZmlsZQ==.jl:1\n",
      "\n",
      "\n",
      "Stacktrace:\n",
      " [1] top-level scope\n",
      "   @ ~/Library/CloudStorage/OneDrive-Sverigeslantbruksuniversitet/Teaching/Julia_SLU/Teaching_material/Day1/jl_notebook_cell_df34fa98e69747e1a8f8a730347b8e2f_Y223sZmlsZQ==.jl:1"
     ]
    }
   ],
   "source": [
    "simple_exp(2,2.4)"
   ]
  },
  {
   "cell_type": "markdown",
   "id": "faa8a06c",
   "metadata": {},
   "source": [
    "We can pass functions as arguments to other functions. On this context the built-in function `map`can be handy."
   ]
  },
  {
   "cell_type": "code",
   "execution_count": 71,
   "id": "a5a60e04",
   "metadata": {},
   "outputs": [
    {
     "data": {
      "text/plain": [
       "3-element Vector{Int64}:\n",
       " 2\n",
       " 4\n",
       " 9"
      ]
     },
     "metadata": {},
     "output_type": "display_data"
    }
   ],
   "source": [
    "map(mult_values, [1,2,3], [2,2,3])"
   ]
  },
  {
   "cell_type": "markdown",
   "id": "018ff1d0",
   "metadata": {},
   "source": [
    "In certain cases we might not want to bother with finding a name for a function we define. You could encounter this especially in relation to what we mentioned just above with passing functions as arguments to other functions. In that case we can define a so-called anonymous function. Let's see how we do it."
   ]
  },
  {
   "cell_type": "code",
   "execution_count": 72,
   "id": "629a6430",
   "metadata": {},
   "outputs": [
    {
     "data": {
      "text/plain": [
       "3-element Vector{Int64}:\n",
       "  4\n",
       "  9\n",
       " 16"
      ]
     },
     "metadata": {},
     "output_type": "display_data"
    }
   ],
   "source": [
    "map(x -> x^2, [2,3,4])"
   ]
  },
  {
   "cell_type": "markdown",
   "id": "75c1deb2",
   "metadata": {},
   "source": [
    "Let's write our `mult_values`function as an anonymous one."
   ]
  },
  {
   "cell_type": "code",
   "execution_count": 73,
   "id": "c909fb84",
   "metadata": {},
   "outputs": [
    {
     "data": {
      "text/plain": [
       "3-element Vector{Int64}:\n",
       " 2\n",
       " 4\n",
       " 9"
      ]
     },
     "metadata": {},
     "output_type": "display_data"
    }
   ],
   "source": [
    "map((x,y) -> x*y,[1,2,3], [2,2,3])"
   ]
  },
  {
   "cell_type": "markdown",
   "id": "85eac15b",
   "metadata": {},
   "source": [
    "In cases where the anonymous function we want to pass as argument is more complex it's good to know the `do-end block`."
   ]
  },
  {
   "cell_type": "code",
   "execution_count": 74,
   "id": "5acb1db8",
   "metadata": {},
   "outputs": [
    {
     "name": "stdout",
     "output_type": "stream",
     "text": [
      "Multiplyng: 1 and 2\n",
      "Multiplyng: 2 and 2\n",
      "Multiplyng: 3 and 3\n"
     ]
    },
    {
     "data": {
      "text/plain": [
       "3-element Vector{Int64}:\n",
       " 2\n",
       " 4\n",
       " 9"
      ]
     },
     "metadata": {},
     "output_type": "display_data"
    }
   ],
   "source": [
    "map([1,2,3], [2,2,3]) do x,y\n",
    "    println(\"Multiplyng: \", x, \" and \", y)\n",
    "    x*y\n",
    "end"
   ]
  },
  {
   "cell_type": "markdown",
   "id": "c96f9532",
   "metadata": {},
   "source": [
    "Might be not so well known but Julia has many built-in functions that can take functions as arguments."
   ]
  },
  {
   "cell_type": "code",
   "execution_count": 75,
   "id": "8af152e4",
   "metadata": {},
   "outputs": [
    {
     "data": {
      "text/plain": [
       "56"
      ]
     },
     "metadata": {},
     "output_type": "display_data"
    }
   ],
   "source": [
    "sum(x -> x^2, [2,4,6])"
   ]
  },
  {
   "cell_type": "markdown",
   "metadata": {},
   "source": [
    "A function in Julia can have multiple methods. More simply functions have the flexibility of being able to be used with differing arguments. Depending on the arguments that are provided Julia will choose a suitable method as long as there are no doubts as of which method is called. Of course relevant code has to be available before hand. This concept is known as multiple dispatch. Those methods have different implementations depending on the types of the passed arguments."
   ]
  },
  {
   "cell_type": "code",
   "execution_count": 76,
   "metadata": {},
   "outputs": [
    {
     "data": {
      "text/html": [
       "# 15 methods for generic function <b>sum</b> from \u001b[90mBase\u001b[39m:<ul><li> sum(wv::<b>UnitWeights{T}</b>)<i> where T</i> in StatsBase at <a href=\"file:///Users/christos/.julia/packages/StatsBase/ebrT3/src/weights.jl\" target=\"_blank\">/Users/christos/.julia/packages/StatsBase/ebrT3/src/weights.jl:310</a></li> <li> sum(r::<b>StepRangeLen{<:Any, <:Base.TwicePrecision, <:Base.TwicePrecision}</b>) in Base at <a href=\"https://github.com/JuliaLang/julia/tree/8f5b7ca12ad48c6d740e058312fc8cf2bbe67848/base/twiceprecision.jl#L603\" target=\"_blank\">twiceprecision.jl:603</a></li> <li> sum(r::<b>StepRangeLen</b>) in Base at <a href=\"https://github.com/JuliaLang/julia/tree/8f5b7ca12ad48c6d740e058312fc8cf2bbe67848/base/twiceprecision.jl#L588\" target=\"_blank\">twiceprecision.jl:588</a></li> <li> sum(r::<b>AbstractRange{<:Real}</b>) in Base at <a href=\"https://github.com/JuliaLang/julia/tree/8f5b7ca12ad48c6d740e058312fc8cf2bbe67848/base/range.jl#L1405\" target=\"_blank\">range.jl:1405</a></li> <li> sum(wv::<b>AbstractWeights</b>) in StatsBase at <a href=\"file:///Users/christos/.julia/packages/StatsBase/ebrT3/src/weights.jl\" target=\"_blank\">/Users/christos/.julia/packages/StatsBase/ebrT3/src/weights.jl:26</a></li> <li> sum(A::<b>AbstractArray</b>, w::<b>AbstractWeights</b>; <i>dims</i>) in StatsBase at <a href=\"file:///Users/christos/.julia/packages/StatsBase/ebrT3/src/weights.jl\" target=\"_blank\">/Users/christos/.julia/packages/StatsBase/ebrT3/src/weights.jl:639</a></li> <li> sum(A::<b>AbstractArray</b>, w::<b>AbstractWeights</b>, dims::<b>Int64</b>) in StatsBase at <a href=\"file:///Users/christos/.julia/juliaup/julia-1.11.1+0.x64.apple.darwin14/share/julia/base/deprecated.jl\" target=\"_blank\">deprecated.jl:103</a></li> <li> sum(arr::<b>AbstractArray{BigFloat}</b>) in Base.MPFR at <a href=\"https://github.com/JuliaLang/julia/tree/8f5b7ca12ad48c6d740e058312fc8cf2bbe67848/base/mpfr.jl#L848\" target=\"_blank\">mpfr.jl:848</a></li> <li> sum(a::<b>AbstractArray{Bool}</b>; <i>kw...</i>) in Base at <a href=\"https://github.com/JuliaLang/julia/tree/8f5b7ca12ad48c6d740e058312fc8cf2bbe67848/base/reduce.jl#L562\" target=\"_blank\">reduce.jl:562</a></li> <li> sum(arr::<b>Union{Tuple{BigInt, Vararg{BigInt}}, AbstractArray{BigInt}}</b>) in Base.GMP at <a href=\"https://github.com/JuliaLang/julia/tree/8f5b7ca12ad48c6d740e058312fc8cf2bbe67848/base/gmp.jl#L679\" target=\"_blank\">gmp.jl:679</a></li> <li> sum(a::<b>AbstractArray</b>; <i>dims, kw...</i>) in Base at <a href=\"https://github.com/JuliaLang/julia/tree/8f5b7ca12ad48c6d740e058312fc8cf2bbe67848/base/reducedim.jl#L982\" target=\"_blank\">reducedim.jl:982</a></li> <li> sum(ct::<b>DataStructures.Accumulator</b>) in DataStructures at <a href=\"file:///Users/christos/.julia/packages/DataStructures/95DJa/src/accumulator.jl\" target=\"_blank\">/Users/christos/.julia/packages/DataStructures/95DJa/src/accumulator.jl:60</a></li> <li> sum(f, a::<b>AbstractArray</b>; <i>dims, kw...</i>) in Base at <a href=\"https://github.com/JuliaLang/julia/tree/8f5b7ca12ad48c6d740e058312fc8cf2bbe67848/base/reducedim.jl#L983\" target=\"_blank\">reducedim.jl:983</a></li> <li> sum(f, a; <i>kw...</i>) in Base at <a href=\"https://github.com/JuliaLang/julia/tree/8f5b7ca12ad48c6d740e058312fc8cf2bbe67848/base/reduce.jl#L532\" target=\"_blank\">reduce.jl:532</a></li> <li> sum(a; <i>kw...</i>) in Base at <a href=\"https://github.com/JuliaLang/julia/tree/8f5b7ca12ad48c6d740e058312fc8cf2bbe67848/base/reduce.jl#L561\" target=\"_blank\">reduce.jl:561</a></li> </ul>"
      ],
      "text/plain": [
       "# 15 methods for generic function \"sum\" from \u001b[90mBase\u001b[39m:\n",
       "  [1] sum(\u001b[90mwv\u001b[39m::\u001b[1mUnitWeights\u001b[22m\u001b[0m{T}) where T\n",
       "\u001b[90m     @\u001b[39m \u001b[32mStatsBase\u001b[39m \u001b[90m~/.julia/packages/StatsBase/ebrT3/src/\u001b[39m\u001b[90m\u001b[4mweights.jl:310\u001b[24m\u001b[39m\n",
       "  [2] sum(\u001b[90mr\u001b[39m::\u001b[1mStepRangeLen\u001b[22m\u001b[0m{<:Any, <:Base.TwicePrecision, <:Base.TwicePrecision})\n",
       "\u001b[90m     @\u001b[39m \u001b[90m\u001b[4mtwiceprecision.jl:603\u001b[24m\u001b[39m\n",
       "  [3] sum(\u001b[90mr\u001b[39m::\u001b[1mStepRangeLen\u001b[22m)\n",
       "\u001b[90m     @\u001b[39m \u001b[90m\u001b[4mtwiceprecision.jl:588\u001b[24m\u001b[39m\n",
       "  [4] sum(\u001b[90mr\u001b[39m::\u001b[1mAbstractRange\u001b[22m\u001b[0m{<:Real})\n",
       "\u001b[90m     @\u001b[39m \u001b[90m\u001b[4mrange.jl:1405\u001b[24m\u001b[39m\n",
       "  [5] sum(\u001b[90mwv\u001b[39m::\u001b[1mAbstractWeights\u001b[22m)\n",
       "\u001b[90m     @\u001b[39m \u001b[32mStatsBase\u001b[39m \u001b[90m~/.julia/packages/StatsBase/ebrT3/src/\u001b[39m\u001b[90m\u001b[4mweights.jl:26\u001b[24m\u001b[39m\n",
       "  [6] sum(\u001b[90mA\u001b[39m::\u001b[1mAbstractArray\u001b[22m, \u001b[90mw\u001b[39m::\u001b[1mAbstractWeights\u001b[22m; dims)\n",
       "\u001b[90m     @\u001b[39m \u001b[32mStatsBase\u001b[39m \u001b[90m~/.julia/packages/StatsBase/ebrT3/src/\u001b[39m\u001b[90m\u001b[4mweights.jl:639\u001b[24m\u001b[39m\n",
       "  [7] sum(\u001b[90mA\u001b[39m::\u001b[1mAbstractArray\u001b[22m, \u001b[90mw\u001b[39m::\u001b[1mAbstractWeights\u001b[22m, \u001b[90mdims\u001b[39m::\u001b[1mInt64\u001b[22m)\n",
       "\u001b[90m     @\u001b[39m \u001b[32mStatsBase\u001b[39m \u001b[90m\u001b[4mdeprecated.jl:103\u001b[24m\u001b[39m\n",
       "  [8] sum(\u001b[90marr\u001b[39m::\u001b[1mAbstractArray\u001b[22m\u001b[0m{BigFloat})\n",
       "\u001b[90m     @\u001b[39m \u001b[90mBase.MPFR\u001b[39m \u001b[90m\u001b[4mmpfr.jl:848\u001b[24m\u001b[39m\n",
       "  [9] sum(\u001b[90ma\u001b[39m::\u001b[1mAbstractArray\u001b[22m\u001b[0m{Bool}; kw...)\n",
       "\u001b[90m     @\u001b[39m \u001b[90m\u001b[4mreduce.jl:562\u001b[24m\u001b[39m\n",
       " [10] sum(\u001b[90marr\u001b[39m::\u001b[1mUnion\u001b[22m\u001b[0m{Tuple{BigInt, Vararg{BigInt}}, AbstractArray{BigInt}})\n",
       "\u001b[90m     @\u001b[39m \u001b[90mBase.GMP\u001b[39m \u001b[90m\u001b[4mgmp.jl:679\u001b[24m\u001b[39m\n",
       " [11] sum(\u001b[90ma\u001b[39m::\u001b[1mAbstractArray\u001b[22m; dims, kw...)\n",
       "\u001b[90m     @\u001b[39m \u001b[90m\u001b[4mreducedim.jl:982\u001b[24m\u001b[39m\n",
       " [12] sum(\u001b[90mct\u001b[39m::\u001b[1mDataStructures.Accumulator\u001b[22m)\n",
       "\u001b[90m     @\u001b[39m \u001b[33mDataStructures\u001b[39m \u001b[90m~/.julia/packages/DataStructures/95DJa/src/\u001b[39m\u001b[90m\u001b[4maccumulator.jl:60\u001b[24m\u001b[39m\n",
       " [13] sum(\u001b[90mf\u001b[39m, \u001b[90ma\u001b[39m::\u001b[1mAbstractArray\u001b[22m; dims, kw...)\n",
       "\u001b[90m     @\u001b[39m \u001b[90m\u001b[4mreducedim.jl:983\u001b[24m\u001b[39m\n",
       " [14] sum(\u001b[90mf\u001b[39m, \u001b[90ma\u001b[39m; kw...)\n",
       "\u001b[90m     @\u001b[39m \u001b[90m\u001b[4mreduce.jl:532\u001b[24m\u001b[39m\n",
       " [15] sum(\u001b[90ma\u001b[39m; kw...)\n",
       "\u001b[90m     @\u001b[39m \u001b[90m\u001b[4mreduce.jl:561\u001b[24m\u001b[39m"
      ]
     },
     "metadata": {},
     "output_type": "display_data"
    }
   ],
   "source": [
    "methods(sum)"
   ]
  },
  {
   "cell_type": "markdown",
   "id": "a6166f0f",
   "metadata": {},
   "source": [
    "Now let's finally define our function that can estimate the geometric mean!"
   ]
  },
  {
   "cell_type": "code",
   "execution_count": 77,
   "id": "3a509310",
   "metadata": {},
   "outputs": [
    {
     "data": {
      "text/plain": [
       "geom_mean (generic function with 1 method)"
      ]
     },
     "metadata": {},
     "output_type": "display_data"
    }
   ],
   "source": [
    "function geom_mean(x::Vector)\n",
    "    x_product = 1\n",
    "    for i in x\n",
    "        x_product *= i\n",
    "    end\n",
    "    return x_product^(1/length(x))\n",
    "end"
   ]
  },
  {
   "cell_type": "code",
   "execution_count": 78,
   "id": "b9bcdc51",
   "metadata": {},
   "outputs": [
    {
     "data": {
      "text/plain": [
       "8.11280953980749"
      ]
     },
     "metadata": {},
     "output_type": "display_data"
    }
   ],
   "source": [
    "x = [3,8,5,9,12,22]\n",
    "geom_mean(x)"
   ]
  },
  {
   "cell_type": "markdown",
   "id": "0c6fccfb",
   "metadata": {},
   "source": [
    "Let's verify using the `geomean` function from the `StatsBase` module. We will talk about modules in the next session."
   ]
  },
  {
   "cell_type": "code",
   "execution_count": 79,
   "id": "8b79812e",
   "metadata": {},
   "outputs": [
    {
     "data": {
      "text/plain": [
       "8.112809539807488"
      ]
     },
     "metadata": {},
     "output_type": "display_data"
    }
   ],
   "source": [
    "geomean(x)"
   ]
  },
  {
   "cell_type": "markdown",
   "id": "49730e22",
   "metadata": {},
   "source": [
    "## Exercises"
   ]
  },
  {
   "cell_type": "markdown",
   "id": "34ae0466",
   "metadata": {},
   "source": [
    "### Exercise 1 - Basic Julia syntax"
   ]
  },
  {
   "cell_type": "markdown",
   "id": "00b87c59",
   "metadata": {},
   "source": [
    "* Assign 5 to a variable named Φ.\n",
    "* Create a vector with the following elements: 4, 88, 3, 7, 12.\n",
    "* Write a boolean expression that checks whether a number is larger than 10 and smaller or equal to 20.\n",
    "* Write a boolean expression that returns the square root of a number. If the provided number is negative it avoids attempting to give its square root.\n",
    "* What's the type of `greetings = \"Hello!\".\n",
    "* Write an `if-elseif-else` statement that checks whether a number is positive in which case it prints `You gave me a positive number` and prints it. If the number is negative it prints `You gave me a negative number. Will make it positive`and prints it's absolute value. Otherwise it prints `I need a positive or a negative number`.\n",
    "* Using a compound expression check whethen a number is even, in which case you print the number and return it in the power of 3.\n",
    "* Using a ternary operator check whether a number is larger than 100 in which case you return 1 otherwise you return 0.\n"
   ]
  },
  {
   "cell_type": "markdown",
   "id": "4fd26513",
   "metadata": {},
   "source": [
    "### Exercise 2 - Loops"
   ]
  },
  {
   "cell_type": "markdown",
   "id": "94979ba1",
   "metadata": {},
   "source": [
    "* Create a vector containing numbers from 100 - 200. Calculate the mean of the vector. Loop along the vector and subtract the mean value from each element.\n",
    "* Write a loop that shows every even number up to 100.\n",
    "* Write a loop that goes through a range of integers starting from `1` and incrementing by `1` and returns the square of the respective number as long as the value is less than 300.\n",
    "\n"
   ]
  },
  {
   "cell_type": "markdown",
   "id": "1fc0645f",
   "metadata": {},
   "source": [
    "### Exercise 3 - Functions"
   ]
  },
  {
   "cell_type": "markdown",
   "id": "79aa1677",
   "metadata": {},
   "source": [
    "* Write a function that takes as argument your name and returns `Welcome` and the name you used. Use a default name of your choice.\n",
    "* Write a function that takes as arguments two integers. The function should check whether by subtracting the 2nd number from the first is positive and in that case return 1. Otherwise it should return 0. If both numbers are the same it should return `Equal numbers`. \n",
    "* Create a vector containing numbers from 1 to 100. Create a function that changes odd numbers to 0. Apply it to your vector.\n",
    "* Create a function that takes an integer as argument and return it's factorial. E.g the factorial of 3 is 1x2x3=6, the factorial of 0 is 1.\n"
   ]
  }
 ],
 "metadata": {
  "kernelspec": {
   "display_name": "Julia 1.11.1",
   "language": "julia",
   "name": "julia-1.11"
  },
  "language_info": {
   "file_extension": ".jl",
   "mimetype": "application/julia",
   "name": "julia",
   "version": "1.11.1"
  }
 },
 "nbformat": 4,
 "nbformat_minor": 5
}

{
 "cells": [
  {
   "cell_type": "markdown",
   "metadata": {},
   "source": [
    "## Solutions"
   ]
  },
  {
   "cell_type": "markdown",
   "metadata": {},
   "source": [
    "### Exercise 1"
   ]
  },
  {
   "cell_type": "markdown",
   "metadata": {},
   "source": [
    "Create a vector of 10 integers. Expontiate each element to the power of 3."
   ]
  },
  {
   "cell_type": "code",
   "execution_count": 1,
   "metadata": {},
   "outputs": [
    {
     "data": {
      "text/plain": [
       "10-element Vector{Int64}:\n",
       "  1\n",
       "  2\n",
       "  3\n",
       "  4\n",
       "  5\n",
       "  6\n",
       "  7\n",
       "  8\n",
       "  9\n",
       " 10"
      ]
     },
     "metadata": {},
     "output_type": "display_data"
    }
   ],
   "source": [
    "x = collect(1:10)"
   ]
  },
  {
   "cell_type": "code",
   "execution_count": 2,
   "metadata": {},
   "outputs": [
    {
     "data": {
      "text/plain": [
       "10-element Vector{Int64}:\n",
       "    1\n",
       "    8\n",
       "   27\n",
       "   64\n",
       "  125\n",
       "  216\n",
       "  343\n",
       "  512\n",
       "  729\n",
       " 1000"
      ]
     },
     "metadata": {},
     "output_type": "display_data"
    }
   ],
   "source": [
    "x .^3"
   ]
  },
  {
   "cell_type": "markdown",
   "metadata": {},
   "source": [
    "### Exercise 2"
   ]
  },
  {
   "cell_type": "markdown",
   "metadata": {},
   "source": [
    "Create a matrix `X` that has 4 rows and 3 columns populated by floats. Create a second matrix `Y` that contains the square roots of `X`."
   ]
  },
  {
   "cell_type": "code",
   "execution_count": 3,
   "metadata": {},
   "outputs": [
    {
     "data": {
      "text/plain": [
       "4×3 Matrix{Float64}:\n",
       " 0.705256  0.450657  0.0512176\n",
       " 0.611181  0.906951  0.654661\n",
       " 0.138953  0.401237  0.0390053\n",
       " 0.963232  0.237221  0.30242"
      ]
     },
     "metadata": {},
     "output_type": "display_data"
    }
   ],
   "source": [
    "X = reshape(collect(rand(12)), (4,3))"
   ]
  },
  {
   "cell_type": "code",
   "execution_count": 4,
   "metadata": {},
   "outputs": [
    {
     "data": {
      "text/plain": [
       "4×3 Matrix{Float64}:\n",
       " 0.839795  0.67131   0.226313\n",
       " 0.78178   0.95234   0.809111\n",
       " 0.372764  0.633433  0.197498\n",
       " 0.981444  0.487054  0.549928"
      ]
     },
     "metadata": {},
     "output_type": "display_data"
    }
   ],
   "source": [
    "Y = sqrt.(X)"
   ]
  },
  {
   "cell_type": "markdown",
   "metadata": {},
   "source": [
    "### Exercise 3"
   ]
  },
  {
   "cell_type": "markdown",
   "metadata": {},
   "source": [
    "Using matrix `X` from exercise 2 estimate the geometric mean of each column and each row separately."
   ]
  },
  {
   "cell_type": "code",
   "execution_count": 5,
   "metadata": {},
   "outputs": [],
   "source": [
    "using StatsBase"
   ]
  },
  {
   "cell_type": "code",
   "execution_count": 6,
   "metadata": {},
   "outputs": [
    {
     "data": {
      "text/plain": [
       "3-element Vector{Float64}:\n",
       " 0.49009347665630226\n",
       " 0.44411561100307123\n",
       " 0.14102386673465284"
      ]
     },
     "metadata": {},
     "output_type": "display_data"
    }
   ],
   "source": [
    "map(geomean, eachcol(X))"
   ]
  },
  {
   "cell_type": "code",
   "execution_count": 7,
   "metadata": {},
   "outputs": [
    {
     "data": {
      "text/plain": [
       "3-element Vector{Float64}:\n",
       " 0.49009347665630226\n",
       " 0.44411561100307123\n",
       " 0.14102386673465284"
      ]
     },
     "metadata": {},
     "output_type": "display_data"
    }
   ],
   "source": [
    "[geomean(col) for col in eachcol(X)]"
   ]
  },
  {
   "cell_type": "code",
   "execution_count": 8,
   "metadata": {},
   "outputs": [
    {
     "data": {
      "text/plain": [
       "4-element Vector{Float64}:\n",
       " 0.2534373439505832\n",
       " 0.7132742317674823\n",
       " 0.12955803974175414\n",
       " 0.41036022685394014"
      ]
     },
     "metadata": {},
     "output_type": "display_data"
    }
   ],
   "source": [
    "map(geomean, eachrow(X))"
   ]
  },
  {
   "cell_type": "code",
   "execution_count": 9,
   "metadata": {},
   "outputs": [
    {
     "data": {
      "text/plain": [
       "4-element Vector{Float64}:\n",
       " 0.2534373439505832\n",
       " 0.7132742317674823\n",
       " 0.12955803974175414\n",
       " 0.41036022685394014"
      ]
     },
     "metadata": {},
     "output_type": "display_data"
    }
   ],
   "source": [
    "[geomean(row) for row in eachrow(X)]"
   ]
  },
  {
   "cell_type": "markdown",
   "metadata": {},
   "source": [
    "### Exercise 4"
   ]
  },
  {
   "cell_type": "markdown",
   "metadata": {},
   "source": [
    "Write a function that takes as arguments a matrix and a vector and estimates the R_square also know as coefficient of determination. The R_square is a very common metric when fitting a linear model providing an indication as to how well the recorded variable(s) or features that we have information about can explain the variance of a variable we are interested in gaining insights about e.g. for prediction purposes.  R_square is estimated by subtracting from 1 the ratio of the sums of squares of the residuals divided by the total sums of squares (https://en.wikipedia.org/wiki/Coefficient_of_determination). In the fucntion we can consider the vector as the response variable and the matrix containing the features. Keep in mind that the coefficient of determination has a lot of limitations and generally limited value in practical applications, but that is more of a topic for a statistics course. "
   ]
  },
  {
   "cell_type": "code",
   "execution_count": 10,
   "metadata": {},
   "outputs": [
    {
     "data": {
      "text/plain": [
       "R² (generic function with 1 method)"
      ]
     },
     "metadata": {},
     "output_type": "display_data"
    }
   ],
   "source": [
    "function R²(X, y)\n",
    "    model = X \\ y\n",
    "    fitted = X * model\n",
    "    residual = y - fitted\n",
    "    SS_resid = sum(e -> e^2, residual)\n",
    "    SS_total = sum(v -> (v - mean(y))^2, y)\n",
    "    return 1 - SS_resid/SS_total\n",
    "end"
   ]
  },
  {
   "cell_type": "code",
   "execution_count": 11,
   "metadata": {},
   "outputs": [
    {
     "data": {
      "text/plain": [
       "15×2 Matrix{Float64}:\n",
       " 1.0  0.0404694\n",
       " 1.0  0.500134\n",
       " 1.0  0.844625\n",
       " 1.0  0.962036\n",
       " 1.0  0.945167\n",
       " 1.0  0.356147\n",
       " 1.0  0.054621\n",
       " 1.0  0.38204\n",
       " 1.0  0.462078\n",
       " 1.0  0.411813\n",
       " 1.0  0.0250251\n",
       " 1.0  0.366543\n",
       " 1.0  0.842772\n",
       " 1.0  0.808567\n",
       " 1.0  0.857428"
      ]
     },
     "metadata": {},
     "output_type": "display_data"
    }
   ],
   "source": [
    "X = [ones(15) rand(15)]"
   ]
  },
  {
   "cell_type": "code",
   "execution_count": 12,
   "metadata": {},
   "outputs": [
    {
     "data": {
      "text/plain": [
       "15-element Vector{Float64}:\n",
       " -0.8954224248047824\n",
       "  0.16786597177578633\n",
       "  0.8382538283345395\n",
       "  0.6617994969701151\n",
       "  0.5566277959348906\n",
       "  0.11142816570923975\n",
       " -0.4676339398105279\n",
       " -0.5646511608250077\n",
       "  0.14064642074802292\n",
       " -0.5788567547057154\n",
       " -0.4777816463258583\n",
       "  0.23969718384780303\n",
       "  0.6727817748689995\n",
       " -0.09966983691382303\n",
       "  0.7136693216808828"
      ]
     },
     "metadata": {},
     "output_type": "display_data"
    }
   ],
   "source": [
    "y = X[:,2] - collect(rand(15))"
   ]
  },
  {
   "cell_type": "code",
   "execution_count": 13,
   "metadata": {},
   "outputs": [],
   "source": [
    "using Statistics"
   ]
  },
  {
   "cell_type": "code",
   "execution_count": 14,
   "metadata": {},
   "outputs": [
    {
     "data": {
      "text/plain": [
       "0.8363727729037836"
      ]
     },
     "metadata": {},
     "output_type": "display_data"
    }
   ],
   "source": [
    "cor(y,X[:,2])"
   ]
  },
  {
   "cell_type": "code",
   "execution_count": 15,
   "metadata": {},
   "outputs": [
    {
     "data": {
      "text/plain": [
       "0.6995194152547641"
      ]
     },
     "metadata": {},
     "output_type": "display_data"
    }
   ],
   "source": [
    "R²(X,y)"
   ]
  }
 ],
 "metadata": {
  "kernelspec": {
   "display_name": "Julia 1.11.1",
   "language": "julia",
   "name": "julia-1.11"
  },
  "language_info": {
   "file_extension": ".jl",
   "mimetype": "application/julia",
   "name": "julia",
   "version": "1.11.1"
  }
 },
 "nbformat": 4,
 "nbformat_minor": 2
}

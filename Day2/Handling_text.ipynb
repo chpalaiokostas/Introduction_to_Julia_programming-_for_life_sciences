{
 "cells": [
  {
   "cell_type": "markdown",
   "metadata": {
    "vscode": {
     "languageId": "julia"
    }
   },
   "source": [
    "## Handling text "
   ]
  },
  {
   "cell_type": "markdown",
   "metadata": {},
   "source": [
    "Dealing with text data is a key skill. Especially for researchers in natural sciences it is most common to receive data in the form of text that we need first clean - change its format and do some processing - extract specific information before being able to proceed with the analysis. As in Python, R etc text data in Julia are stored in strings. Below we will see some basic handling of strings and learn about useful functionalities."
   ]
  },
  {
   "cell_type": "code",
   "execution_count": 1,
   "metadata": {},
   "outputs": [
    {
     "data": {
      "text/plain": [
       "\"Christos\""
      ]
     },
     "metadata": {},
     "output_type": "display_data"
    }
   ],
   "source": [
    "name = \"Christos\""
   ]
  },
  {
   "cell_type": "code",
   "execution_count": 2,
   "metadata": {},
   "outputs": [
    {
     "data": {
      "text/plain": [
       "String"
      ]
     },
     "metadata": {},
     "output_type": "display_data"
    }
   ],
   "source": [
    "typeof(name)"
   ]
  },
  {
   "cell_type": "markdown",
   "metadata": {},
   "source": [
    "Pay attention to the following. Compared to other languages single and double quotes are not equivalent."
   ]
  },
  {
   "cell_type": "code",
   "execution_count": 3,
   "metadata": {},
   "outputs": [
    {
     "ename": "Base.Meta.ParseError",
     "evalue": "ParseError:\n# Error @ /Users/christos/Library/CloudStorage/OneDrive-Sverigeslantbruksuniversitet/Teaching/Julia_SLU/Teaching_material/Day2/jl_notebook_cell_df34fa98e69747e1a8f8a730347b8e2f_W5sZmlsZQ==.jl:1:13\nit_staff = 'Cano'\n#           └──┘ ── character literal contains multiple characters",
     "output_type": "error",
     "traceback": [
      "ParseError:\n",
      "# Error @ /Users/christos/Library/CloudStorage/OneDrive-Sverigeslantbruksuniversitet/Teaching/Julia_SLU/Teaching_material/Day2/jl_notebook_cell_df34fa98e69747e1a8f8a730347b8e2f_W5sZmlsZQ==.jl:1:13\n",
      "it_staff = 'Cano'\n",
      "#           └──┘ ── character literal contains multiple characters\n",
      "\n",
      "Stacktrace:\n",
      " [1] top-level scope\n",
      "   @ ~/Library/CloudStorage/OneDrive-Sverigeslantbruksuniversitet/Teaching/Julia_SLU/Teaching_material/Day2/jl_notebook_cell_df34fa98e69747e1a8f8a730347b8e2f_W5sZmlsZQ==.jl:1"
     ]
    }
   ],
   "source": [
    "it_staff = 'Cano'"
   ]
  },
  {
   "cell_type": "code",
   "execution_count": 4,
   "metadata": {},
   "outputs": [
    {
     "data": {
      "text/plain": [
       "\"Cano\""
      ]
     },
     "metadata": {},
     "output_type": "display_data"
    }
   ],
   "source": [
    "it_staff = \"Cano\""
   ]
  },
  {
   "cell_type": "markdown",
   "metadata": {},
   "source": [
    "The following two built-in functions are very commonly used when we need to print text."
   ]
  },
  {
   "cell_type": "code",
   "execution_count": 5,
   "metadata": {},
   "outputs": [
    {
     "name": "stdout",
     "output_type": "stream",
     "text": [
      "Cano"
     ]
    }
   ],
   "source": [
    "print(it_staff)"
   ]
  },
  {
   "cell_type": "code",
   "execution_count": 6,
   "metadata": {},
   "outputs": [
    {
     "name": "stdout",
     "output_type": "stream",
     "text": [
      "Cano\n"
     ]
    }
   ],
   "source": [
    "println(it_staff)"
   ]
  },
  {
   "cell_type": "markdown",
   "metadata": {},
   "source": [
    "We need some more text to see their difference."
   ]
  },
  {
   "cell_type": "code",
   "execution_count": 7,
   "metadata": {},
   "outputs": [
    {
     "data": {
      "text/plain": [
       "\"World!\""
      ]
     },
     "metadata": {},
     "output_type": "display_data"
    }
   ],
   "source": [
    "var1 = \"Hello\"\n",
    "var2 = \"World!\""
   ]
  },
  {
   "cell_type": "code",
   "execution_count": 8,
   "metadata": {},
   "outputs": [
    {
     "name": "stdout",
     "output_type": "stream",
     "text": [
      "HelloWorld!"
     ]
    }
   ],
   "source": [
    "print(var1)\n",
    "print(var2)"
   ]
  },
  {
   "cell_type": "code",
   "execution_count": 9,
   "metadata": {},
   "outputs": [
    {
     "name": "stdout",
     "output_type": "stream",
     "text": [
      "Hello\n",
      "World!\n"
     ]
    }
   ],
   "source": [
    "println(var1)\n",
    "println(var2)"
   ]
  },
  {
   "cell_type": "markdown",
   "metadata": {},
   "source": [
    "The following is also worth remembering"
   ]
  },
  {
   "cell_type": "code",
   "execution_count": 10,
   "metadata": {},
   "outputs": [
    {
     "data": {
      "text/plain": [
       "15"
      ]
     },
     "metadata": {},
     "output_type": "display_data"
    }
   ],
   "source": [
    "3 * 5"
   ]
  },
  {
   "cell_type": "code",
   "execution_count": 11,
   "metadata": {},
   "outputs": [
    {
     "data": {
      "text/plain": [
       "\"hi there\""
      ]
     },
     "metadata": {},
     "output_type": "display_data"
    }
   ],
   "source": [
    "\"hi\"*\" there\""
   ]
  },
  {
   "cell_type": "code",
   "execution_count": 12,
   "metadata": {},
   "outputs": [
    {
     "ename": "MethodError",
     "evalue": "MethodError: no method matching *(::String, ::Int64)\nThe function `*` exists, but no method is defined for this combination of argument types.\n\nClosest candidates are:\n  *(::Any, ::Any, !Matched::Any, !Matched::Any...)\n   @ Base operators.jl:596\n  *(!Matched::BigInt, ::Union{Int16, Int32, Int64, Int8})\n   @ Base gmp.jl:557\n  *(!Matched::Missing, ::Number)\n   @ Base missing.jl:123\n  ...\n",
     "output_type": "error",
     "traceback": [
      "MethodError: no method matching *(::String, ::Int64)\n",
      "The function `*` exists, but no method is defined for this combination of argument types.\n",
      "\n",
      "Closest candidates are:\n",
      "  *(::Any, ::Any, !Matched::Any, !Matched::Any...)\n",
      "   @ Base operators.jl:596\n",
      "  *(!Matched::BigInt, ::Union{Int16, Int32, Int64, Int8})\n",
      "   @ Base gmp.jl:557\n",
      "  *(!Matched::Missing, ::Number)\n",
      "   @ Base missing.jl:123\n",
      "  ...\n",
      "\n",
      "\n",
      "Stacktrace:\n",
      " [1] top-level scope\n",
      "   @ ~/Library/CloudStorage/OneDrive-Sverigeslantbruksuniversitet/Teaching/Julia_SLU/Teaching_material/Day2/jl_notebook_cell_df34fa98e69747e1a8f8a730347b8e2f_X23sZmlsZQ==.jl:1"
     ]
    }
   ],
   "source": [
    "\"The sum is \" * 3"
   ]
  },
  {
   "cell_type": "markdown",
   "metadata": {},
   "source": [
    "A word of caution. Try not to be intimidated by error messages. Even the most experienced ones get them! My personal opinion is that usually error messages in Julia are quite informative and often point you to the right directin in a clear way."
   ]
  },
  {
   "cell_type": "code",
   "execution_count": 13,
   "metadata": {},
   "outputs": [
    {
     "data": {
      "text/plain": [
       "\"The sum is 3\""
      ]
     },
     "metadata": {},
     "output_type": "display_data"
    }
   ],
   "source": [
    "\"The sum is \" * string(3)"
   ]
  },
  {
   "cell_type": "markdown",
   "metadata": {},
   "source": [
    "Vice versa"
   ]
  },
  {
   "cell_type": "code",
   "execution_count": 14,
   "metadata": {},
   "outputs": [
    {
     "data": {
      "text/plain": [
       "\"3\""
      ]
     },
     "metadata": {},
     "output_type": "display_data"
    }
   ],
   "source": [
    "x = \"3\""
   ]
  },
  {
   "cell_type": "code",
   "execution_count": 15,
   "metadata": {},
   "outputs": [
    {
     "ename": "MethodError",
     "evalue": "MethodError: no method matching *(::String, ::Int64)\nThe function `*` exists, but no method is defined for this combination of argument types.\n\nClosest candidates are:\n  *(::Any, ::Any, !Matched::Any, !Matched::Any...)\n   @ Base operators.jl:596\n  *(!Matched::BigInt, ::Union{Int16, Int32, Int64, Int8})\n   @ Base gmp.jl:557\n  *(!Matched::Missing, ::Number)\n   @ Base missing.jl:123\n  ...\n",
     "output_type": "error",
     "traceback": [
      "MethodError: no method matching *(::String, ::Int64)\n",
      "The function `*` exists, but no method is defined for this combination of argument types.\n",
      "\n",
      "Closest candidates are:\n",
      "  *(::Any, ::Any, !Matched::Any, !Matched::Any...)\n",
      "   @ Base operators.jl:596\n",
      "  *(!Matched::BigInt, ::Union{Int16, Int32, Int64, Int8})\n",
      "   @ Base gmp.jl:557\n",
      "  *(!Matched::Missing, ::Number)\n",
      "   @ Base missing.jl:123\n",
      "  ...\n",
      "\n",
      "\n",
      "Stacktrace:\n",
      " [1] top-level scope\n",
      "   @ ~/Library/CloudStorage/OneDrive-Sverigeslantbruksuniversitet/Teaching/Julia_SLU/Teaching_material/Day2/jl_notebook_cell_df34fa98e69747e1a8f8a730347b8e2f_X31sZmlsZQ==.jl:1"
     ]
    }
   ],
   "source": [
    " x * 2"
   ]
  },
  {
   "cell_type": "code",
   "execution_count": 16,
   "metadata": {},
   "outputs": [
    {
     "data": {
      "text/plain": [
       "6"
      ]
     },
     "metadata": {},
     "output_type": "display_data"
    }
   ],
   "source": [
    "parse(Int64, x) * 2"
   ]
  },
  {
   "cell_type": "markdown",
   "metadata": {},
   "source": [
    "If we need to replicate text we can use the `^` operator."
   ]
  },
  {
   "cell_type": "code",
   "execution_count": 17,
   "metadata": {},
   "outputs": [
    {
     "data": {
      "text/plain": [
       "\"HiHiHi\""
      ]
     },
     "metadata": {},
     "output_type": "display_data"
    }
   ],
   "source": [
    "\"Hi\" ^ 3"
   ]
  },
  {
   "cell_type": "markdown",
   "metadata": {},
   "source": [
    "Like in Python when we have long text we can use `\"\"\"`"
   ]
  },
  {
   "cell_type": "code",
   "execution_count": 18,
   "metadata": {},
   "outputs": [
    {
     "data": {
      "text/plain": [
       "\"HGEN works with:\\nApplied Genetics\\nQuantitative Genetics\\nBioinformatics \\nMolecular Genetis\\n\""
      ]
     },
     "metadata": {},
     "output_type": "display_data"
    }
   ],
   "source": [
    "\"\"\"HGEN works with:\n",
    "Applied Genetics\n",
    "Quantitative Genetics\n",
    "Bioinformatics \n",
    "Molecular Genetis\n",
    "\"\"\""
   ]
  },
  {
   "cell_type": "markdown",
   "metadata": {},
   "source": [
    "There are some symbols with special meaning resulting non-intuitive behaviour when we have them in a string. Let's see an example."
   ]
  },
  {
   "cell_type": "code",
   "execution_count": 19,
   "metadata": {},
   "outputs": [
    {
     "ename": "Base.Meta.ParseError",
     "evalue": "ParseError:\n# Error @ /Users/christos/Library/CloudStorage/OneDrive-Sverigeslantbruksuniversitet/Teaching/Julia_SLU/Teaching_material/Day2/jl_notebook_cell_df34fa98e69747e1a8f8a730347b8e2f_X41sZmlsZQ==.jl:1:23\nmessage = \"I have 100$\"\n#                     └ ── identifier or parenthesized expression expected after $ in string",
     "output_type": "error",
     "traceback": [
      "ParseError:\n",
      "# Error @ /Users/christos/Library/CloudStorage/OneDrive-Sverigeslantbruksuniversitet/Teaching/Julia_SLU/Teaching_material/Day2/jl_notebook_cell_df34fa98e69747e1a8f8a730347b8e2f_X41sZmlsZQ==.jl:1:23\n",
      "message = \"I have 100$\"\n",
      "#                     └ ── identifier or parenthesized expression expected after $ in string\n",
      "\n",
      "Stacktrace:\n",
      " [1] top-level scope\n",
      "   @ ~/Library/CloudStorage/OneDrive-Sverigeslantbruksuniversitet/Teaching/Julia_SLU/Teaching_material/Day2/jl_notebook_cell_df34fa98e69747e1a8f8a730347b8e2f_X41sZmlsZQ==.jl:1"
     ]
    }
   ],
   "source": [
    "message = \"I have 100$\""
   ]
  },
  {
   "cell_type": "markdown",
   "metadata": {},
   "source": [
    "The problem here is the symbol `$` which has a special function. It's used for variable interpolation as we will see next. The solution in this case is to use a `\\`in front of it."
   ]
  },
  {
   "cell_type": "code",
   "execution_count": 20,
   "metadata": {},
   "outputs": [
    {
     "data": {
      "text/plain": [
       "\"I have 100\\$\""
      ]
     },
     "metadata": {},
     "output_type": "display_data"
    }
   ],
   "source": [
    "message = \"I have 100\\$\""
   ]
  },
  {
   "cell_type": "markdown",
   "metadata": {},
   "source": [
    "Most likely we don't want to see the backslash here. To do so we need to use the built-in `print` function."
   ]
  },
  {
   "cell_type": "code",
   "execution_count": 21,
   "metadata": {},
   "outputs": [
    {
     "name": "stdout",
     "output_type": "stream",
     "text": [
      "I have 100$"
     ]
    }
   ],
   "source": [
    "print(message)"
   ]
  },
  {
   "cell_type": "markdown",
   "metadata": {},
   "source": [
    "Escaping symbols with special meaning in strings can though be bit annoying especially when working on Windows operating system. Eg. the following is a typical way on accessing certain paths in our drive."
   ]
  },
  {
   "cell_type": "code",
   "execution_count": 22,
   "metadata": {},
   "outputs": [
    {
     "ename": "Base.Meta.ParseError",
     "evalue": "ParseError:\n# Error @ /Users/christos/Library/CloudStorage/OneDrive-Sverigeslantbruksuniversitet/Teaching/Julia_SLU/Teaching_material/Day2/jl_notebook_cell_df34fa98e69747e1a8f8a730347b8e2f_X50sZmlsZQ==.jl:1:11\npath = \"C:\\documents\\grades\"\n#         └┘ ── invalid escape sequence",
     "output_type": "error",
     "traceback": [
      "ParseError:\n",
      "# Error @ /Users/christos/Library/CloudStorage/OneDrive-Sverigeslantbruksuniversitet/Teaching/Julia_SLU/Teaching_material/Day2/jl_notebook_cell_df34fa98e69747e1a8f8a730347b8e2f_X50sZmlsZQ==.jl:1:11\n",
      "path = \"C:\\documents\\grades\"\n",
      "#         └┘ ── invalid escape sequence\n",
      "\n",
      "Stacktrace:\n",
      " [1] top-level scope\n",
      "   @ ~/Library/CloudStorage/OneDrive-Sverigeslantbruksuniversitet/Teaching/Julia_SLU/Teaching_material/Day2/jl_notebook_cell_df34fa98e69747e1a8f8a730347b8e2f_X50sZmlsZQ==.jl:1"
     ]
    }
   ],
   "source": [
    "path = \"C:\\documents\\grades\""
   ]
  },
  {
   "cell_type": "markdown",
   "metadata": {},
   "source": [
    "To solve this issue we need to tell Julia to handle this string as a so-calles `raw` one."
   ]
  },
  {
   "cell_type": "code",
   "execution_count": 23,
   "metadata": {},
   "outputs": [
    {
     "data": {
      "text/plain": [
       "\"C:\\\\documents\\\\grades\""
      ]
     },
     "metadata": {},
     "output_type": "display_data"
    }
   ],
   "source": [
    "path = raw\"C:\\documents\\grades\""
   ]
  },
  {
   "cell_type": "markdown",
   "metadata": {},
   "source": [
    "As we seen above to print the undecorated text"
   ]
  },
  {
   "cell_type": "code",
   "execution_count": 24,
   "metadata": {},
   "outputs": [
    {
     "name": "stdout",
     "output_type": "stream",
     "text": [
      "C:\\documents\\grades"
     ]
    }
   ],
   "source": [
    "print(path)"
   ]
  },
  {
   "cell_type": "markdown",
   "metadata": {},
   "source": [
    "String interpolation gives as lot of flexibility when we need to use or create text in Julia. It's very similar with the so-called `f-strings`in Python."
   ]
  },
  {
   "cell_type": "code",
   "execution_count": 25,
   "metadata": {},
   "outputs": [
    {
     "data": {
      "text/plain": [
       "\"How are you Christos\""
      ]
     },
     "metadata": {},
     "output_type": "display_data"
    }
   ],
   "source": [
    "name = \"Christos\"\n",
    "\n",
    "\"How are you $name\""
   ]
  },
  {
   "cell_type": "code",
   "execution_count": 27,
   "metadata": {},
   "outputs": [
    {
     "data": {
      "text/plain": [
       "200"
      ]
     },
     "metadata": {},
     "output_type": "display_data"
    }
   ],
   "source": [
    "sum1 = 100\n",
    "sum2 = 200"
   ]
  },
  {
   "cell_type": "code",
   "execution_count": 28,
   "metadata": {},
   "outputs": [
    {
     "data": {
      "text/plain": [
       "\"The total amount is 300\""
      ]
     },
     "metadata": {},
     "output_type": "display_data"
    }
   ],
   "source": [
    "\"The total amount is $(sum1+sum2)\""
   ]
  },
  {
   "cell_type": "markdown",
   "metadata": {},
   "source": [
    "If we want to show text with different colour we can use the `printstyled` function."
   ]
  },
  {
   "cell_type": "code",
   "execution_count": 29,
   "metadata": {},
   "outputs": [
    {
     "name": "stdout",
     "output_type": "stream",
     "text": [
      "\u001b[36mHello World!\u001b[39m"
     ]
    }
   ],
   "source": [
    "printstyled(var1* \" \" *var2,color=:cyan)"
   ]
  },
  {
   "cell_type": "markdown",
   "metadata": {},
   "source": [
    "The `:cyan` is a new concept. It's called a Symbol. Symbols are very similar to strings, however functions that operate on the latter will not work here. In practical terms Symbols are useful when all we are interested in is checking for equality. This can be achieved faster than with strings. We will see Symbols a lot when we start working with the `DataFrames` package where they are commonly used to hold column names."
   ]
  },
  {
   "cell_type": "markdown",
   "metadata": {},
   "source": [
    "### Handling text from files"
   ]
  },
  {
   "cell_type": "markdown",
   "metadata": {},
   "source": [
    "In the vast majority of cases the text data will in files. Next we will try to equip ourselves with the necessary skill that will allows to work with text data from files and extract information from them. For this we will download a free dataset from MovieTweetings containing movie reviews. The dataset comes under the MIT licence and can be accessed through the following GitHub repository: https://github.com/sidooms/MovieTweetings"
   ]
  },
  {
   "cell_type": "code",
   "execution_count": 26,
   "metadata": {},
   "outputs": [
    {
     "data": {
      "text/plain": [
       "\"/Users/christos/Library/CloudStorage/OneDrive-Sverigeslantbruksuniversitet/Teaching/Julia_SLU/Teaching_material/Day2\""
      ]
     },
     "metadata": {},
     "output_type": "display_data"
    }
   ],
   "source": [
    "pwd()"
   ]
  },
  {
   "cell_type": "code",
   "execution_count": 1,
   "metadata": {},
   "outputs": [],
   "source": [
    "import Downloads"
   ]
  },
  {
   "cell_type": "code",
   "execution_count": 39,
   "metadata": {},
   "outputs": [
    {
     "data": {
      "text/plain": [
       "\"movies.dat\""
      ]
     },
     "metadata": {},
     "output_type": "display_data"
    }
   ],
   "source": [
    "Downloads.download(\"https://raw.githubusercontent.com/sidooms/MovieTweetings/master/latest/movies.dat\", \"movies.dat\")"
   ]
  },
  {
   "cell_type": "markdown",
   "metadata": {},
   "source": [
    "We should now have a file named `movies.dat`in our working directory. Let's verify that."
   ]
  },
  {
   "cell_type": "code",
   "execution_count": 30,
   "metadata": {},
   "outputs": [
    {
     "data": {
      "text/plain": [
       "true"
      ]
     },
     "metadata": {},
     "output_type": "display_data"
    }
   ],
   "source": [
    "isfile(\"movies.dat\")"
   ]
  },
  {
   "cell_type": "markdown",
   "metadata": {},
   "source": [
    "Now let's read the contents of this file."
   ]
  },
  {
   "cell_type": "code",
   "execution_count": 31,
   "metadata": {},
   "outputs": [
    {
     "data": {
      "text/plain": [
       "38018-element Vector{String}:\n",
       " \"0000008::Edison Kinetoscopic Record of a Sneeze (1894)::Documentary|Short\"\n",
       " \"0000010::La sortie des usines Lumière (1895)::Documentary|Short\"\n",
       " \"0000012::The Arrival of a Train (1896)::Documentary|Short\"\n",
       " \"25::The Oxford and Cambridge University Boat Race (1895)::\"\n",
       " \"0000091::Le manoir du diable (1896)::Short|Horror\"\n",
       " \"0000131::Une nuit terrible (1896)::Short|Comedy|Horror\"\n",
       " \"0000417::A Trip to the Moon (19\"\u001b[93m\u001b[1m ⋯ 18 bytes ⋯ \u001b[22m\u001b[39m\"Adventure|Comedy|Fantasy|Sci-Fi\"\n",
       " \"0000439::The Great Train Robbery (1903)::Short|Action|Crime|Western\"\n",
       " \"0443::Hiawatha, the Messiah of the Ojibway (1903)::\"\n",
       " \"0000628::The Adventures of Dollie (1908)::Action|Short\"\n",
       " ⋮\n",
       " \"15387782::Escape the Undertaker (2021)::Mystery\"\n",
       " \"15417330::Grudge (2021)::Thriller\"\n",
       " \"15469820::Britney vs Spears (2021)::Documentary|Music\"\n",
       " \"15655276::Yara (2021)::Crime|Thriller\"\n",
       " \"15711402::Les rois de l&x27;arnaque (2021)::Crime|Documentary\"\n",
       " \"15831978::Cash (2021)::\"\n",
       " \"15839820::Sompoy (2021)::Comedy|Romance\"\n",
       " \"15842076::The Making of &x27;Rocky vs. Drago&x27; (2021)::Documentary\"\n",
       " \"16058736::Rocky IV: Rocky vs Drago - The Ultimate Director&x27;s Cut (2021)::\""
      ]
     },
     "metadata": {},
     "output_type": "display_data"
    }
   ],
   "source": [
    "movies = readlines(\"movies.dat\")"
   ]
  },
  {
   "cell_type": "markdown",
   "metadata": {},
   "source": [
    "Let's say we want to extract the name of the movie, year and genre. We will start with the first record."
   ]
  },
  {
   "cell_type": "code",
   "execution_count": 32,
   "metadata": {},
   "outputs": [
    {
     "data": {
      "text/plain": [
       "\"0000008::Edison Kinetoscopic Record of a Sneeze (1894)::Documentary|Short\""
      ]
     },
     "metadata": {},
     "output_type": "display_data"
    }
   ],
   "source": [
    "movie_1 = movies[1]"
   ]
  },
  {
   "cell_type": "markdown",
   "metadata": {},
   "source": [
    "Before dealing with the above task let's see some useful built-in functions that can help us handle text data."
   ]
  },
  {
   "cell_type": "code",
   "execution_count": 33,
   "metadata": {},
   "outputs": [
    {
     "data": {
      "text/plain": [
       "\"0000008::EDISON KINETOSCOPIC RECORD OF A SNEEZE (1894)::DOCUMENTARY|SHORT\""
      ]
     },
     "metadata": {},
     "output_type": "display_data"
    }
   ],
   "source": [
    "uppercase(movie_1)"
   ]
  },
  {
   "cell_type": "code",
   "execution_count": 34,
   "metadata": {},
   "outputs": [
    {
     "data": {
      "text/plain": [
       "\"0000008::edison kinetoscopic record of a sneeze (1894)::documentary|short\""
      ]
     },
     "metadata": {},
     "output_type": "display_data"
    }
   ],
   "source": [
    "lowercase(movie_1)"
   ]
  },
  {
   "cell_type": "code",
   "execution_count": 35,
   "metadata": {},
   "outputs": [
    {
     "data": {
      "text/plain": [
       "true"
      ]
     },
     "metadata": {},
     "output_type": "display_data"
    }
   ],
   "source": [
    "startswith(movie_1, \"0\")"
   ]
  },
  {
   "cell_type": "code",
   "execution_count": 36,
   "metadata": {},
   "outputs": [
    {
     "data": {
      "text/plain": [
       "false"
      ]
     },
     "metadata": {},
     "output_type": "display_data"
    }
   ],
   "source": [
    "startswith(movie_1, \"A\")"
   ]
  },
  {
   "cell_type": "code",
   "execution_count": 37,
   "metadata": {},
   "outputs": [
    {
     "data": {
      "text/plain": [
       "false"
      ]
     },
     "metadata": {},
     "output_type": "display_data"
    }
   ],
   "source": [
    "endswith(movie_1, \"drama\")"
   ]
  },
  {
   "cell_type": "code",
   "execution_count": 38,
   "metadata": {},
   "outputs": [
    {
     "data": {
      "text/plain": [
       "true"
      ]
     },
     "metadata": {},
     "output_type": "display_data"
    }
   ],
   "source": [
    "contains(movie_1, \"Documentary\")"
   ]
  },
  {
   "cell_type": "markdown",
   "metadata": {},
   "source": [
    "The following is bit more tricky as we need to change the order of the arguments we pass."
   ]
  },
  {
   "cell_type": "code",
   "execution_count": 39,
   "metadata": {},
   "outputs": [
    {
     "data": {
      "text/plain": [
       "true"
      ]
     },
     "metadata": {},
     "output_type": "display_data"
    }
   ],
   "source": [
    "occursin(\"Documentary\", movie_1)"
   ]
  },
  {
   "cell_type": "code",
   "execution_count": 40,
   "metadata": {},
   "outputs": [
    {
     "data": {
      "text/plain": [
       "\"0000008::Edison Kinetoscopic Record of a Sneeze (1894)::Comedy|Short\""
      ]
     },
     "metadata": {},
     "output_type": "display_data"
    }
   ],
   "source": [
    "replace(movie_1, \"Documentary\" => \"Comedy\")"
   ]
  },
  {
   "cell_type": "markdown",
   "metadata": {},
   "source": [
    "To go back to our task of extracting different pieces of information from our string we can see that the `::` is used to indicate different pieces of information. The built-in `split` function can be of usage here."
   ]
  },
  {
   "cell_type": "code",
   "execution_count": 41,
   "metadata": {},
   "outputs": [
    {
     "data": {
      "text/plain": [
       "3-element Vector{SubString{String}}:\n",
       " \"0000008\"\n",
       " \"Edison Kinetoscopic Record of a Sneeze (1894)\"\n",
       " \"Documentary|Short\""
      ]
     },
     "metadata": {},
     "output_type": "display_data"
    }
   ],
   "source": [
    "split(movie_1, \"::\")"
   ]
  },
  {
   "cell_type": "code",
   "execution_count": 42,
   "metadata": {},
   "outputs": [
    {
     "data": {
      "text/plain": [
       "3-element Vector{SubString{String}}:\n",
       " \"0000008\"\n",
       " \"Edison Kinetoscopic Record of a Sneeze (1894)\"\n",
       " \"Documentary|Short\""
      ]
     },
     "metadata": {},
     "output_type": "display_data"
    }
   ],
   "source": [
    "movie1_fields = split(movie_1, \"::\")"
   ]
  },
  {
   "cell_type": "markdown",
   "metadata": {},
   "source": [
    "It seems the name of the movie is in the 2nd element and the genre in the third one. The date is in the 2nd element of the vector inside parenthesis. This is a case were regular expressions can be of help. Regural expressions can help us when we are not looking for a particular string, but a pattern. Let's write our first regular expression. It's good to have a look at Julia's documentation on regular expressions https://docs.julialang.org/en/v1/manual/strings/#man-regex-literals."
   ]
  },
  {
   "cell_type": "code",
   "execution_count": 44,
   "metadata": {},
   "outputs": [
    {
     "data": {
      "text/plain": [
       "r\"(\\w+) \\((\\d{4})\\)$\""
      ]
     },
     "metadata": {},
     "output_type": "display_data"
    }
   ],
   "source": [
    "rx = r\"(\\w+) \\((\\d{4})\\)$\""
   ]
  },
  {
   "cell_type": "markdown",
   "metadata": {},
   "source": [
    "Now let's see how we use this regular expression with the `match` function."
   ]
  },
  {
   "cell_type": "code",
   "execution_count": 45,
   "metadata": {},
   "outputs": [
    {
     "data": {
      "text/plain": [
       "RegexMatch(\"Sneeze (1894)\", 1=\"Sneeze\", 2=\"1894\")"
      ]
     },
     "metadata": {},
     "output_type": "display_data"
    }
   ],
   "source": [
    "m = match(rx, movie1_fields[2])"
   ]
  },
  {
   "cell_type": "markdown",
   "metadata": {},
   "source": [
    "We can access the two captured groups as follows"
   ]
  },
  {
   "cell_type": "code",
   "execution_count": 46,
   "metadata": {},
   "outputs": [
    {
     "data": {
      "text/plain": [
       "\"Sneeze\""
      ]
     },
     "metadata": {},
     "output_type": "display_data"
    }
   ],
   "source": [
    "m[1]"
   ]
  },
  {
   "cell_type": "code",
   "execution_count": 47,
   "metadata": {},
   "outputs": [
    {
     "data": {
      "text/plain": [
       "\"1894\""
      ]
     },
     "metadata": {},
     "output_type": "display_data"
    }
   ],
   "source": [
    "m[2]"
   ]
  },
  {
   "cell_type": "markdown",
   "metadata": {},
   "source": [
    "Now let's write a function and apply it to the entire dataset."
   ]
  },
  {
   "cell_type": "code",
   "execution_count": 48,
   "metadata": {},
   "outputs": [
    {
     "data": {
      "text/plain": [
       "parse_movie_info (generic function with 1 method)"
      ]
     },
     "metadata": {},
     "output_type": "display_data"
    }
   ],
   "source": [
    "function parse_movie_info(record::AbstractString)\n",
    "    movie_parts = split(record, \"::\")\n",
    "    m = match(r\"(?<name>.+) \\((?<date>\\d{4})\\)$\", movie_parts[2])\n",
    "    if !isnothing(m)\n",
    "        return (name=m[:name],year=m[:date], genre=split(movie_parts[3], \"|\"))\n",
    "    end\n",
    "end"
   ]
  },
  {
   "cell_type": "code",
   "execution_count": 49,
   "metadata": {},
   "outputs": [
    {
     "data": {
      "text/plain": [
       "38018-element Vector{@NamedTuple{name::SubString{String}, year::SubString{String}, genre::Vector{SubString{String}}}}:\n",
       " (name = \"Edison Kinetoscopic Record of a Sneeze\", year = \"1894\", genre = [\"Documentary\", \"Short\"])\n",
       " (name = \"La sortie des usines Lumière\", year = \"1895\", genre = [\"Documentary\", \"Short\"])\n",
       " (name = \"The Arrival of a Train\", year = \"1896\", genre = [\"Documentary\", \"Short\"])\n",
       " (name = \"The Oxford and Cambridge University Boat Race\", year = \"1895\", genre = [\"\"])\n",
       " (name = \"Le manoir du diable\", year = \"1896\", genre = [\"Short\", \"Horror\"])\n",
       " (name = \"Une nuit terrible\", year = \"1896\", genre = [\"Short\", \"Comedy\", \"Horror\"])\n",
       " (name = \"A Trip to the Moon\", year = \"1902\", genre = [\"Short\", \"Action\", \"Adventure\", \"Comedy\", \"Fantasy\", \"Sci-Fi\"])\n",
       " (name = \"The Great Train Robbery\", year = \"1903\", genre = [\"Short\", \"Action\", \"Crime\", \"Western\"])\n",
       " (name = \"Hiawatha, the Messiah of the Ojibway\", year = \"1903\", genre = [\"\"])\n",
       " (name = \"The Adventures of Dollie\", year = \"1908\", genre = [\"Action\", \"Short\"])\n",
       " ⋮\n",
       " (name = \"Escape the Undertaker\", year = \"2021\", genre = [\"Mystery\"])\n",
       " (name = \"Grudge\", year = \"2021\", genre = [\"Thriller\"])\n",
       " (name = \"Britney vs Spears\", year = \"2021\", genre = [\"Documentary\", \"Music\"])\n",
       " (name = \"Yara\", year = \"2021\", genre = [\"Crime\", \"Thriller\"])\n",
       " (name = \"Les rois de l&x27;arnaque\", year = \"2021\", genre = [\"Crime\", \"Documentary\"])\n",
       " (name = \"Cash\", year = \"2021\", genre = [\"\"])\n",
       " (name = \"Sompoy\", year = \"2021\", genre = [\"Comedy\", \"Romance\"])\n",
       " (name = \"The Making of &x27;Rocky vs. Drago&x27;\", year = \"2021\", genre = [\"Documentary\"])\n",
       " (name = \"Rocky IV: Rocky vs Drago - The Ultimate Director&x27;s Cut\", year = \"2021\", genre = [\"\"])"
      ]
     },
     "metadata": {},
     "output_type": "display_data"
    }
   ],
   "source": [
    "movies_data = parse_movie_info.(movies)"
   ]
  },
  {
   "cell_type": "markdown",
   "metadata": {},
   "source": [
    "## Exercises"
   ]
  },
  {
   "cell_type": "markdown",
   "metadata": {},
   "source": [
    "### Exercise 1"
   ]
  },
  {
   "cell_type": "markdown",
   "metadata": {},
   "source": [
    "Create a string that informs which is the square of any two numbers without hard typing those numbers. You can use variables outside the string for the two numbers."
   ]
  },
  {
   "cell_type": "markdown",
   "metadata": {},
   "source": [
    "### Exercise 2"
   ]
  },
  {
   "cell_type": "markdown",
   "metadata": {},
   "source": [
    "Create a string that holds the following path `C:\\admin\\doc\\file?.csv` and print it in red."
   ]
  },
  {
   "cell_type": "markdown",
   "metadata": {},
   "source": [
    "### Exercise 3"
   ]
  },
  {
   "cell_type": "markdown",
   "metadata": {},
   "source": [
    "Load in your Julia session the `SMSSpamCollection.txt`collection file. Those data come originally from https://github.com/EvanMath/SMS-Spam-Collection and have been used on training spam filters. Try to answer the following questions:\n",
    "\n",
    "* How many of the records are spam\n",
    "* Find the records that contain any amount of £. Estimate the sum of it.\n",
    "* Write a function that checks each record for containing the `spam` word and any phone number(s) (check only for 11 digit numbers)"
   ]
  }
 ],
 "metadata": {
  "kernelspec": {
   "display_name": "Julia 1.11.1",
   "language": "julia",
   "name": "julia-1.11"
  },
  "language_info": {
   "file_extension": ".jl",
   "mimetype": "application/julia",
   "name": "julia",
   "version": "1.11.1"
  }
 },
 "nbformat": 4,
 "nbformat_minor": 2
}

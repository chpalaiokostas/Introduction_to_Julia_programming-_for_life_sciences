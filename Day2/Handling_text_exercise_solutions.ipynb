{
 "cells": [
  {
   "cell_type": "markdown",
   "metadata": {},
   "source": [
    "### Exercise 1"
   ]
  },
  {
   "cell_type": "markdown",
   "metadata": {},
   "source": [
    "Write a string that informs which is the square of any two numbers without hard typing. You can use variables outside the string for the two numbers."
   ]
  },
  {
   "cell_type": "code",
   "execution_count": 1,
   "metadata": {},
   "outputs": [
    {
     "data": {
      "text/plain": [
       "\"The square root of 25 is 5.0\""
      ]
     },
     "metadata": {},
     "output_type": "display_data"
    }
   ],
   "source": [
    "x = 20 \n",
    "y = 5\n",
    "\"The square root of $(x+y) is $(sqrt(x+y))\""
   ]
  },
  {
   "cell_type": "markdown",
   "metadata": {},
   "source": [
    "### Exercise 2"
   ]
  },
  {
   "cell_type": "markdown",
   "metadata": {},
   "source": [
    "Create a string that holds the following path `C:\\admin\\doc\\file?.csv` and print it in red."
   ]
  },
  {
   "cell_type": "code",
   "execution_count": 2,
   "metadata": {},
   "outputs": [
    {
     "name": "stdout",
     "output_type": "stream",
     "text": [
      "\u001b[31mC:\\admin\\doc\\file?.csv\u001b[39m"
     ]
    }
   ],
   "source": [
    "printstyled(raw\"C:\\admin\\doc\\file?.csv\",color=:red)"
   ]
  },
  {
   "cell_type": "markdown",
   "metadata": {},
   "source": [
    "### Exercise 3"
   ]
  },
  {
   "cell_type": "markdown",
   "metadata": {},
   "source": [
    "Load in your Julia session the `SMSSpamCollection.txt`collection file. Those data come originally from https://github.com/EvanMath/SMS-Spam-Collection and have been used on training spam filters. Try to answer the following questions:\n",
    "\n",
    "* How many of the records are spam\n",
    "* Find the records that contain any amount of £\n",
    "* Write a function that checks each record for containing the `spam` word and any phone number(s) (check only for 11 digit numbers)"
   ]
  },
  {
   "cell_type": "code",
   "execution_count": 4,
   "metadata": {},
   "outputs": [
    {
     "data": {
      "text/plain": [
       "5574-element Vector{String}:\n",
       " \"ham\\tGo until jurong point, craz\"\u001b[93m\u001b[1m ⋯ 53 bytes ⋯ \u001b[22m\u001b[39m\"... Cine there got amore wat...\"\n",
       " \"ham\\tOk lar... Joking wif u oni...\"\n",
       " \"spam\\tFree entry in 2 a wkly com\"\u001b[93m\u001b[1m ⋯ 98 bytes ⋯ \u001b[22m\u001b[39m\"T&C's apply 08452810075over18's\"\n",
       " \"ham\\tU dun say so early hor... U c already then say...\"\n",
       " \"ham\\tNah I don't think he goes to usf, he lives around here though\"\n",
       " \"spam\\tFreeMsg Hey there darling \"\u001b[93m\u001b[1m ⋯ 90 bytes ⋯ \u001b[22m\u001b[39m\" std chgs to send, £1.50 to rcv\"\n",
       " \"ham\\tEven my brother is not like\"\u001b[93m\u001b[1m ⋯ 19 bytes ⋯ \u001b[22m\u001b[39m\"They treat me like aids patent.\"\n",
       " \"ham\\tAs per your request 'Melle \"\u001b[93m\u001b[1m ⋯ 103 bytes ⋯ \u001b[22m\u001b[39m\"o copy your friends Callertune\"\n",
       " \"spam\\tWINNER!! As a valued netwo\"\u001b[93m\u001b[1m ⋯ 102 bytes ⋯ \u001b[22m\u001b[39m\"de KL341. Valid 12 hours only.\"\n",
       " \"spam\\tHad your mobile 11 months \"\u001b[93m\u001b[1m ⋯ 97 bytes ⋯ \u001b[22m\u001b[39m\"e Update Co FREE on 08002986030\"\n",
       " ⋮\n",
       " \"ham\\tArd 6 like dat lor.\"\n",
       " \"ham\\tWhy don't you wait 'til at least wednesday to see if you get your .\"\n",
       " \"ham\\tHuh y lei...\"\n",
       " \"spam\\tREMINDER FROM O2: To get 2\"\u001b[93m\u001b[1m ⋯ 90 bytes ⋯ \u001b[22m\u001b[39m\"lid name, house no and postcode\"\n",
       " \"spam\\tThis is the 2nd time we ha\"\u001b[93m\u001b[1m ⋯ 105 bytes ⋯ \u001b[22m\u001b[39m\" per minute. BT-national-rate.\"\n",
       " \"ham\\tWill ü b going to esplanade fr home?\"\n",
       " \"ham\\tPity, * was in mood for that. So...any other suggestions?\"\n",
       " \"ham\\tThe guy did some bitching b\"\u001b[93m\u001b[1m ⋯ 67 bytes ⋯ \u001b[22m\u001b[39m\"k and he gave it to us for free\"\n",
       " \"ham\\tRofl. Its true to its name\""
      ]
     },
     "metadata": {},
     "output_type": "display_data"
    }
   ],
   "source": [
    "sms = readlines(\"SMSSpamCollection.txt\")"
   ]
  },
  {
   "cell_type": "markdown",
   "metadata": {},
   "source": [
    "* How many of the records are spam"
   ]
  },
  {
   "cell_type": "code",
   "execution_count": 5,
   "metadata": {},
   "outputs": [
    {
     "data": {
      "text/plain": [
       "747"
      ]
     },
     "metadata": {},
     "output_type": "display_data"
    }
   ],
   "source": [
    "spam_n = sum(contains.(sms,r\"^spam\"))"
   ]
  },
  {
   "cell_type": "markdown",
   "metadata": {},
   "source": [
    "* Find the records that contain any amount of £. Estimate the sum of it."
   ]
  },
  {
   "cell_type": "code",
   "execution_count": 6,
   "metadata": {},
   "outputs": [
    {
     "data": {
      "text/plain": [
       "257-element Vector{Union{Nothing, RegexMatch{String}}}:\n",
       " RegexMatch(\"£1\", amount=\"£1\")\n",
       " RegexMatch(\"£900\", amount=\"£900\")\n",
       " RegexMatch(\"£100\", amount=\"£100\")\n",
       " RegexMatch(\"£5\", amount=\"£5\")\n",
       " RegexMatch(\"£1500\", amount=\"£1500\")\n",
       " RegexMatch(\"£1000\", amount=\"£1000\")\n",
       " RegexMatch(\"£1000\", amount=\"£1000\")\n",
       " RegexMatch(\"£1000\", amount=\"£1000\")\n",
       " RegexMatch(\"£1000\", amount=\"£1000\")\n",
       " RegexMatch(\"£2000\", amount=\"£2000\")\n",
       " ⋮\n",
       " RegexMatch(\"£250\", amount=\"£250\")\n",
       " RegexMatch(\"£1000\", amount=\"£1000\")\n",
       " RegexMatch(\"£33\", amount=\"£33\")\n",
       " RegexMatch(\"£1000\", amount=\"£1000\")\n",
       " RegexMatch(\"£1000\", amount=\"£1000\")\n",
       " RegexMatch(\"£4\", amount=\"£4\")\n",
       " RegexMatch(\"£3\", amount=\"£3\")\n",
       " RegexMatch(\"£250\", amount=\"£250\")\n",
       " RegexMatch(\"£750\", amount=\"£750\")"
      ]
     },
     "metadata": {},
     "output_type": "display_data"
    }
   ],
   "source": [
    "pound_records = filter(!isnothing,match.(r\"(?<amount>£\\d+)\",sms))"
   ]
  },
  {
   "cell_type": "code",
   "execution_count": 7,
   "metadata": {},
   "outputs": [
    {
     "name": "stdout",
     "output_type": "stream",
     "text": [
      "\u001b[36m181402.0\u001b[39m"
     ]
    }
   ],
   "source": [
    "total_amount = 0\n",
    "for record in pound_records\n",
    "    total_amount += parse(Float64, replace(record[:amount],\"£\" => \"\"))\n",
    "end\n",
    "printstyled(total_amount, color=:cyan)"
   ]
  },
  {
   "cell_type": "markdown",
   "metadata": {},
   "source": [
    "* Write a function that checks each record for containing the `spam` word and return any phone number(s) (check only for 11 digit numbers)"
   ]
  },
  {
   "cell_type": "code",
   "execution_count": 8,
   "metadata": {},
   "outputs": [
    {
     "data": {
      "text/plain": [
       "spam_phone_numbers (generic function with 1 method)"
      ]
     },
     "metadata": {},
     "output_type": "display_data"
    }
   ],
   "source": [
    "function spam_phone_numbers(record::AbstractString)\n",
    "    if startswith(record, \"spam\")\n",
    "        m = match(r\"(\\d{11})\", record)\n",
    "        if !isnothing(m)\n",
    "            return m.match\n",
    "        end\n",
    "    end\n",
    "end"
   ]
  },
  {
   "cell_type": "code",
   "execution_count": 9,
   "metadata": {},
   "outputs": [
    {
     "data": {
      "text/plain": [
       "401-element Vector{Union{Nothing, SubString{String}}}:\n",
       " \"08452810075\"\n",
       " \"09061701461\"\n",
       " \"08002986030\"\n",
       " \"07732584351\"\n",
       " \"09061209465\"\n",
       " \"09066364589\"\n",
       " \"09064012160\"\n",
       " \"08712778109\"\n",
       " \"07742676969\"\n",
       " \"09064019788\"\n",
       " ⋮\n",
       " \"09050000332\"\n",
       " \"09064017295\"\n",
       " \"08448350055\"\n",
       " \"08702840625\"\n",
       " \"07808247860\"\n",
       " \"09061221061\"\n",
       " \"08718738001\"\n",
       " \"02073162414\"\n",
       " \"08718727200\""
      ]
     },
     "metadata": {},
     "output_type": "display_data"
    }
   ],
   "source": [
    "filter(!isnothing,spam_phone_numbers.(sms))"
   ]
  },
  {
   "cell_type": "code",
   "execution_count": null,
   "metadata": {},
   "outputs": [],
   "source": []
  }
 ],
 "metadata": {
  "kernelspec": {
   "display_name": "Julia 1.11.1",
   "language": "julia",
   "name": "julia-1.11"
  },
  "language_info": {
   "file_extension": ".jl",
   "mimetype": "application/julia",
   "name": "julia",
   "version": "1.11.1"
  }
 },
 "nbformat": 4,
 "nbformat_minor": 2
}

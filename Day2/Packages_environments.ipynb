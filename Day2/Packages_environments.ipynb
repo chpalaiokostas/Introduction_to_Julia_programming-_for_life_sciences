{
 "cells": [
  {
   "cell_type": "markdown",
   "metadata": {},
   "source": [
    "## Modules and Packages"
   ]
  },
  {
   "cell_type": "markdown",
   "metadata": {},
   "source": [
    "Packages and modules allow us to organize efficiently our code. If we had to constantly re-invent the wheel it would be quite counter productive. Let's see a few examples that would help us understand better. "
   ]
  },
  {
   "cell_type": "markdown",
   "metadata": {},
   "source": [
    "### Using packages"
   ]
  },
  {
   "cell_type": "markdown",
   "metadata": {},
   "source": [
    "I have created a module named geometric_mean that contains the function we wrote in a previous session. The name of the file is `geometric_mean.jl`. To get the functionality it offers in our current session we need to do the following."
   ]
  },
  {
   "cell_type": "code",
   "execution_count": 1,
   "metadata": {},
   "outputs": [
    {
     "data": {
      "text/plain": [
       "Main.GeometricMean"
      ]
     },
     "metadata": {},
     "output_type": "display_data"
    }
   ],
   "source": [
    "include(\"geometric_mean.jl\")"
   ]
  },
  {
   "cell_type": "code",
   "execution_count": 2,
   "metadata": {},
   "outputs": [
    {
     "data": {
      "text/plain": [
       "1.8171205928321397"
      ]
     },
     "metadata": {},
     "output_type": "display_data"
    }
   ],
   "source": [
    "Main.GeometricMean.geom_mean([1,2,3])"
   ]
  },
  {
   "cell_type": "code",
   "execution_count": 3,
   "metadata": {},
   "outputs": [],
   "source": [
    "using Main.GeometricMean"
   ]
  },
  {
   "cell_type": "code",
   "execution_count": 4,
   "metadata": {},
   "outputs": [
    {
     "data": {
      "text/plain": [
       "1.8171205928321397"
      ]
     },
     "metadata": {},
     "output_type": "display_data"
    }
   ],
   "source": [
    "geom_mean([1,2,3])"
   ]
  },
  {
   "cell_type": "markdown",
   "metadata": {},
   "source": [
    "Aside the packages that come together with Julia when we install it to our computer, there is a plethora of other packages that allow solving a wide range of problems. Feel free to navigate across the Julia ecosystem (https://juliahub.com/ui/). To get their functionality we need first to install them and then load them in our Julia session. We have seen already bits and pieces about it. Let's explore it now in more organized way."
   ]
  },
  {
   "cell_type": "markdown",
   "metadata": {},
   "source": [
    "Let's see first how to load packages in Julia. We will see how to install packages shortly."
   ]
  },
  {
   "cell_type": "markdown",
   "metadata": {},
   "source": [
    "We have two ways to access the available the functionality of a package using either the `import`or the `using` keyword. Let's see their main difference."
   ]
  },
  {
   "cell_type": "code",
   "execution_count": 5,
   "metadata": {},
   "outputs": [],
   "source": [
    "import Statistics"
   ]
  },
  {
   "cell_type": "code",
   "execution_count": 6,
   "metadata": {},
   "outputs": [
    {
     "data": {
      "text/plain": [
       "3-element Vector{Int64}:\n",
       " 10\n",
       " 20\n",
       " 30"
      ]
     },
     "metadata": {},
     "output_type": "display_data"
    }
   ],
   "source": [
    "x = [10,20,30]"
   ]
  },
  {
   "cell_type": "code",
   "execution_count": 7,
   "metadata": {},
   "outputs": [
    {
     "ename": "UndefVarError",
     "evalue": "UndefVarError: `mean` not defined in `Main`\nSuggestion: check for spelling errors or missing imports.\nHint: a global variable of this name also exists in Statistics.",
     "output_type": "error",
     "traceback": [
      "UndefVarError: `mean` not defined in `Main`\n",
      "Suggestion: check for spelling errors or missing imports.\n",
      "Hint: a global variable of this name also exists in Statistics.\n",
      "\n",
      "Stacktrace:\n",
      " [1] top-level scope\n",
      "   @ ~/Library/CloudStorage/OneDrive-Sverigeslantbruksuniversitet/Teaching/Julia_SLU/Teaching_material/Day2/jl_notebook_cell_df34fa98e69747e1a8f8a730347b8e2f_Y125sZmlsZQ==.jl:1"
     ]
    }
   ],
   "source": [
    "mean(x)"
   ]
  },
  {
   "cell_type": "code",
   "execution_count": 8,
   "metadata": {},
   "outputs": [
    {
     "data": {
      "text/plain": [
       "20.0"
      ]
     },
     "metadata": {},
     "output_type": "display_data"
    }
   ],
   "source": [
    "Statistics.mean(x)"
   ]
  },
  {
   "cell_type": "code",
   "execution_count": 9,
   "metadata": {},
   "outputs": [],
   "source": [
    "using Statistics"
   ]
  },
  {
   "cell_type": "code",
   "execution_count": 10,
   "metadata": {},
   "outputs": [
    {
     "data": {
      "text/plain": [
       "20.0"
      ]
     },
     "metadata": {},
     "output_type": "display_data"
    }
   ],
   "source": [
    "mean(x)"
   ]
  },
  {
   "cell_type": "markdown",
   "metadata": {},
   "source": [
    "So when we use the `import`keyword in order to access a function from the package we need to prepend it with the package name. On the other hand the `using`keyword allows to simply use the function name. The latter is the most common way in Julia. In Python this approach might cause issues when we have functions from different packages that have the same name. In Julia this not usually an issue."
   ]
  },
  {
   "cell_type": "markdown",
   "metadata": {},
   "source": [
    "### Installing packages\n"
   ]
  },
  {
   "cell_type": "code",
   "execution_count": 5,
   "metadata": {},
   "outputs": [],
   "source": [
    "using Pkg"
   ]
  },
  {
   "cell_type": "code",
   "execution_count": 13,
   "metadata": {},
   "outputs": [
    {
     "name": "stderr",
     "output_type": "stream",
     "text": [
      "\u001b[32m\u001b[1m    Updating\u001b[22m\u001b[39m registry at `~/.julia/registries/General.toml`\n",
      "\u001b[32m\u001b[1m   Resolving\u001b[22m\u001b[39m package versions...\n",
      "\u001b[32m\u001b[1m   Installed\u001b[22m\u001b[39m Libmount_jll ────────────── v2.40.2+0\n",
      "\u001b[32m\u001b[1m   Installed\u001b[22m\u001b[39m Xorg_libpthread_stubs_jll ─ v0.1.1+1\n",
      "\u001b[32m\u001b[1m   Installed\u001b[22m\u001b[39m Unitful ─────────────────── v1.21.1\n",
      "\u001b[32m\u001b[1m   Installed\u001b[22m\u001b[39m MLJModels ───────────────── v0.16.17\n",
      "\u001b[32m\u001b[1m   Installed\u001b[22m\u001b[39m HTTP ────────────────────── v1.10.12\n",
      "\u001b[32m\u001b[1m   Installed\u001b[22m\u001b[39m GPUArrays ───────────────── v11.1.0\n",
      "\u001b[32m\u001b[1m   Installed\u001b[22m\u001b[39m FileIO ──────────────────── v1.16.6\n",
      "\u001b[32m\u001b[1m   Installed\u001b[22m\u001b[39m NNlib ───────────────────── v0.9.26\n",
      "\u001b[32m\u001b[1m   Installed\u001b[22m\u001b[39m Xorg_libXau_jll ─────────── v1.0.11+1\n",
      "\u001b[32m\u001b[1m   Installed\u001b[22m\u001b[39m MicrosoftMPI_jll ────────── v10.1.4+3\n",
      "\u001b[32m\u001b[1m   Installed\u001b[22m\u001b[39m LoweredCodeUtils ────────── v3.1.0\n",
      "\u001b[32m\u001b[1m   Installed\u001b[22m\u001b[39m IJulia ──────────────────── v1.26.0\n",
      "\u001b[32m\u001b[1m   Installed\u001b[22m\u001b[39m Revise ──────────────────── v3.6.4\n",
      "\u001b[32m\u001b[1m   Installed\u001b[22m\u001b[39m UnsafeAtomicsLLVM ───────── v0.2.2\n",
      "\u001b[32m\u001b[1m   Installed\u001b[22m\u001b[39m GZip ────────────────────── v0.6.2\n",
      "\u001b[32m\u001b[1m   Installed\u001b[22m\u001b[39m fzf_jll ─────────────────── v0.56.3+0\n",
      "\u001b[32m\u001b[1m   Installed\u001b[22m\u001b[39m FreeType2_jll ───────────── v2.13.3+1\n",
      "\u001b[32m\u001b[1m   Installed\u001b[22m\u001b[39m JLFzf ───────────────────── v0.1.9\n",
      "\u001b[32m\u001b[1m   Installed\u001b[22m\u001b[39m Glob ────────────────────── v1.3.1\n",
      "\u001b[32m\u001b[1m   Installed\u001b[22m\u001b[39m AtomsBase ───────────────── v0.5.0\n",
      "\u001b[32m\u001b[1m   Installed\u001b[22m\u001b[39m Chemfiles ───────────────── v0.10.42\n",
      "\u001b[32m\u001b[1m   Installed\u001b[22m\u001b[39m Xorg_libxcb_jll ─────────── v1.17.0+1\n",
      "\u001b[32m\u001b[1m   Installed\u001b[22m\u001b[39m ExceptionUnwrapping ─────── v0.1.11\n",
      "\u001b[32m\u001b[1m   Installed\u001b[22m\u001b[39m gperf_jll ───────────────── v3.1.1+1\n",
      "\u001b[32m\u001b[1m   Installed\u001b[22m\u001b[39m Xorg_libXext_jll ────────── v1.3.6+1\n",
      "\u001b[32m\u001b[1m   Installed\u001b[22m\u001b[39m PeriodicTable ───────────── v1.2.1\n",
      "\u001b[32m\u001b[1m   Installed\u001b[22m\u001b[39m ArgCheck ────────────────── v2.4.0\n",
      "\u001b[32m\u001b[1m   Installed\u001b[22m\u001b[39m ZMQ ─────────────────────── v1.4.0\n",
      "\u001b[32m\u001b[1m   Installed\u001b[22m\u001b[39m HDF5_jll ────────────────── v1.14.2+1\n",
      "\u001b[32m\u001b[1m   Installed\u001b[22m\u001b[39m JuliaInterpreter ────────── v0.9.38\n",
      "\u001b[32m\u001b[1m   Installed\u001b[22m\u001b[39m Plots ───────────────────── v1.40.9\n",
      "\u001b[32m\u001b[1m   Installed\u001b[22m\u001b[39m Expat_jll ───────────────── v2.6.4+0\n",
      "\u001b[32m\u001b[1m   Installed\u001b[22m\u001b[39m ImageCore ───────────────── v0.10.5\n",
      "\u001b[32m\u001b[1m   Installed\u001b[22m\u001b[39m OrderedCollections ──────── v1.7.0\n",
      "\u001b[32m\u001b[1m   Installed\u001b[22m\u001b[39m XSLT_jll ────────────────── v1.1.42+0\n",
      "\u001b[32m\u001b[1m   Installed\u001b[22m\u001b[39m KernelAbstractions ──────── v0.9.30\n",
      "\u001b[32m\u001b[1m   Installed\u001b[22m\u001b[39m OpenMPI_jll ─────────────── v5.0.6+0\n",
      "\u001b[32m\u001b[1m   Installed\u001b[22m\u001b[39m Widgets ─────────────────── v0.6.7\n",
      "\u001b[32m\u001b[1m   Installed\u001b[22m\u001b[39m ImageShow ───────────────── v0.3.8\n",
      "\u001b[32m\u001b[1m   Installed\u001b[22m\u001b[39m Atomix ──────────────────── v1.0.0\n",
      "\u001b[32m\u001b[1m   Installed\u001b[22m\u001b[39m Libuuid_jll ─────────────── v2.40.2+0\n",
      "\u001b[32m\u001b[1m   Installed\u001b[22m\u001b[39m GPUArraysCore ───────────── v0.2.0\n",
      "\u001b[32m\u001b[1m   Installed\u001b[22m\u001b[39m MLDatasets ──────────────── v0.7.18\n",
      "\u001b[32m\u001b[1m   Installed\u001b[22m\u001b[39m XML2_jll ────────────────── v2.13.5+0\n",
      "\u001b[32m\u001b[1m   Installed\u001b[22m\u001b[39m Graphite2_jll ───────────── v1.3.14+1\n",
      "\u001b[32m\u001b[1m   Installed\u001b[22m\u001b[39m Xorg_xtrans_jll ─────────── v1.5.0+1\n",
      "\u001b[32m\u001b[1m   Installed\u001b[22m\u001b[39m Glib_jll ────────────────── v2.82.2+0\n",
      "\u001b[32m\u001b[1m   Installed\u001b[22m\u001b[39m Libglvnd_jll ────────────── v1.7.0+0\n",
      "\u001b[32m\u001b[1m   Installed\u001b[22m\u001b[39m StructArrays ────────────── v0.6.21\n",
      "\u001b[32m\u001b[1m   Installed\u001b[22m\u001b[39m Chemfiles_jll ───────────── v0.10.4+0\n",
      "\u001b[32m\u001b[1m   Installed\u001b[22m\u001b[39m ImageBase ───────────────── v0.1.7\n",
      "\u001b[32m\u001b[1m   Installed\u001b[22m\u001b[39m NPZ ─────────────────────── v0.4.3\n",
      "\u001b[32m\u001b[1m   Installed\u001b[22m\u001b[39m Xorg_libXdmcp_jll ───────── v1.1.4+1\n",
      "\u001b[32m\u001b[1m   Installed\u001b[22m\u001b[39m UnitfulAtomic ───────────── v1.0.0\n",
      "\u001b[32m\u001b[1m   Installed\u001b[22m\u001b[39m MLFlowClient ────────────── v0.4.7\n",
      "\u001b[32m\u001b[1m   Installed\u001b[22m\u001b[39m Xorg_libX11_jll ─────────── v1.8.6+1\n",
      "\u001b[32m\u001b[1m    Updating\u001b[22m\u001b[39m `~/.julia/environments/v1.11/Project.toml`\n",
      "  \u001b[90m[cd3eb016] \u001b[39m\u001b[93m↑ HTTP v1.10.10 ⇒ v1.10.12\u001b[39m\n",
      "  \u001b[90m[7073ff75] \u001b[39m\u001b[93m↑ IJulia v1.25.0 ⇒ v1.26.0\u001b[39m\n",
      "  \u001b[90m[c9a035f4] \u001b[39m\u001b[92m+ JWAS v1.2.1\u001b[39m\n",
      "  \u001b[90m[eb30cadb] \u001b[39m\u001b[93m↑ MLDatasets v0.5.15 ⇒ v0.7.18\u001b[39m\n",
      "\u001b[32m⌃\u001b[39m \u001b[90m[add582a8] \u001b[39m\u001b[95m↓ MLJ v0.20.7 ⇒ v0.20.0\u001b[39m\n",
      "\u001b[33m⌅\u001b[39m \u001b[90m[d491faf4] \u001b[39m\u001b[95m↓ MLJModels v0.17.4 ⇒ v0.16.17\u001b[39m\n",
      "  \u001b[90m[91a5bcdd] \u001b[39m\u001b[93m↑ Plots v1.40.8 ⇒ v1.40.9\u001b[39m\n",
      "  \u001b[90m[295af30f] \u001b[39m\u001b[93m↑ Revise v3.6.2 ⇒ v3.6.4\u001b[39m\n",
      "\u001b[32m\u001b[1m    Updating\u001b[22m\u001b[39m `~/.julia/environments/v1.11/Manifest.toml`\n",
      "  \u001b[90m[dce04be8] \u001b[39m\u001b[93m↑ ArgCheck v2.3.0 ⇒ v2.4.0\u001b[39m\n",
      "  \u001b[90m[a9b6321e] \u001b[39m\u001b[93m↑ Atomix v0.1.0 ⇒ v1.0.0\u001b[39m\n",
      "  \u001b[90m[a963bdd2] \u001b[39m\u001b[92m+ AtomsBase v0.5.0\u001b[39m\n",
      "  \u001b[90m[9e28174c] \u001b[39m\u001b[91m- BinDeps v1.0.2\u001b[39m\n",
      "  \u001b[90m[46823bd8] \u001b[39m\u001b[92m+ Chemfiles v0.10.42\u001b[39m\n",
      "  \u001b[90m[460bff9d] \u001b[39m\u001b[93m↑ ExceptionUnwrapping v0.1.10 ⇒ v0.1.11\u001b[39m\n",
      "  \u001b[90m[33837fe5] \u001b[39m\u001b[91m- FeatureSelection v0.2.2\u001b[39m\n",
      "  \u001b[90m[5789e2e9] \u001b[39m\u001b[93m↑ FileIO v1.16.5 ⇒ v1.16.6\u001b[39m\n",
      "  \u001b[90m[0c68f7d7] \u001b[39m\u001b[93m↑ GPUArrays v10.3.1 ⇒ v11.1.0\u001b[39m\n",
      "  \u001b[90m[46192b85] \u001b[39m\u001b[93m↑ GPUArraysCore v0.1.6 ⇒ v0.2.0\u001b[39m\n",
      "  \u001b[90m[92fee26a] \u001b[39m\u001b[93m↑ GZip v0.5.2 ⇒ v0.6.2\u001b[39m\n",
      "  \u001b[90m[c27321d9] \u001b[39m\u001b[92m+ Glob v1.3.1\u001b[39m\n",
      "  \u001b[90m[cd3eb016] \u001b[39m\u001b[93m↑ HTTP v1.10.10 ⇒ v1.10.12\u001b[39m\n",
      "  \u001b[90m[7073ff75] \u001b[39m\u001b[93m↑ IJulia v1.25.0 ⇒ v1.26.0\u001b[39m\n",
      "  \u001b[90m[c817782e] \u001b[39m\u001b[92m+ ImageBase v0.1.7\u001b[39m\n",
      "  \u001b[90m[a09fc81d] \u001b[39m\u001b[92m+ ImageCore v0.10.5\u001b[39m\n",
      "  \u001b[90m[4e3cecfd] \u001b[39m\u001b[92m+ ImageShow v0.3.8\u001b[39m\n",
      "  \u001b[90m[1019f520] \u001b[39m\u001b[93m↑ JLFzf v0.1.8 ⇒ v0.1.9\u001b[39m\n",
      "  \u001b[90m[c9a035f4] \u001b[39m\u001b[92m+ JWAS v1.2.1\u001b[39m\n",
      "  \u001b[90m[aa1ae85d] \u001b[39m\u001b[93m↑ JuliaInterpreter v0.9.36 ⇒ v0.9.38\u001b[39m\n",
      "  \u001b[90m[63c18a36] \u001b[39m\u001b[93m↑ KernelAbstractions v0.9.29 ⇒ v0.9.30\u001b[39m\n",
      "  \u001b[90m[8cdb02fc] \u001b[39m\u001b[92m+ LazyModules v0.3.1\u001b[39m\n",
      "  \u001b[90m[6f1432cf] \u001b[39m\u001b[93m↑ LoweredCodeUtils v3.0.5 ⇒ v3.1.0\u001b[39m\n",
      "  \u001b[90m[eb30cadb] \u001b[39m\u001b[93m↑ MLDatasets v0.5.15 ⇒ v0.7.18\u001b[39m\n",
      "\u001b[33m⌅\u001b[39m \u001b[90m[64a0f543] \u001b[39m\u001b[95m↓ MLFlowClient v0.5.1 ⇒ v0.4.7\u001b[39m\n",
      "\u001b[32m⌃\u001b[39m \u001b[90m[add582a8] \u001b[39m\u001b[95m↓ MLJ v0.20.7 ⇒ v0.20.0\u001b[39m\n",
      "  \u001b[90m[45f359ea] \u001b[39m\u001b[91m- MLJBalancing v0.1.5\u001b[39m\n",
      "\u001b[33m⌅\u001b[39m \u001b[90m[7b7b8358] \u001b[39m\u001b[95m↓ MLJFlow v0.5.0 ⇒ v0.2.0\u001b[39m\n",
      "\u001b[33m⌅\u001b[39m \u001b[90m[d491faf4] \u001b[39m\u001b[95m↓ MLJModels v0.17.4 ⇒ v0.16.17\u001b[39m\n",
      "  \u001b[90m[dbb5928d] \u001b[39m\u001b[92m+ MappedArrays v0.4.2\u001b[39m\n",
      "  \u001b[90m[e94cdb99] \u001b[39m\u001b[92m+ MosaicViews v0.3.4\u001b[39m\n",
      "  \u001b[90m[872c559c] \u001b[39m\u001b[93m↑ NNlib v0.9.24 ⇒ v0.9.26\u001b[39m\n",
      "  \u001b[90m[15e1cf62] \u001b[39m\u001b[92m+ NPZ v0.4.3\u001b[39m\n",
      "  \u001b[90m[bac558e1] \u001b[39m\u001b[93m↑ OrderedCollections v1.6.3 ⇒ v1.7.0\u001b[39m\n",
      "  \u001b[90m[5432bcbf] \u001b[39m\u001b[92m+ PaddedViews v0.5.12\u001b[39m\n",
      "  \u001b[90m[7b2266bf] \u001b[39m\u001b[92m+ PeriodicTable v1.2.1\u001b[39m\n",
      "  \u001b[90m[91a5bcdd] \u001b[39m\u001b[93m↑ Plots v1.40.8 ⇒ v1.40.9\u001b[39m\n",
      "  \u001b[90m[295af30f] \u001b[39m\u001b[93m↑ Revise v3.6.2 ⇒ v3.6.4\u001b[39m\n",
      "  \u001b[90m[cae243ae] \u001b[39m\u001b[92m+ StackViews v0.1.1\u001b[39m\n",
      "\u001b[33m⌅\u001b[39m \u001b[90m[2913bbd2] \u001b[39m\u001b[95m↓ StatsBase v0.34.3 ⇒ v0.33.21\u001b[39m\n",
      "\u001b[32m⌃\u001b[39m \u001b[90m[09ab397b] \u001b[39m\u001b[93m↑ StructArrays v0.6.18 ⇒ v0.6.21\u001b[39m\n",
      "  \u001b[90m[30578b45] \u001b[39m\u001b[91m- URIParser v0.4.1\u001b[39m\n",
      "  \u001b[90m[1986cc42] \u001b[39m\u001b[93m↑ Unitful v1.21.0 ⇒ v1.21.1\u001b[39m\n",
      "  \u001b[90m[a7773ee8] \u001b[39m\u001b[92m+ UnitfulAtomic v1.0.0\u001b[39m\n",
      "  \u001b[90m[d80eeb9a] \u001b[39m\u001b[93m↑ UnsafeAtomicsLLVM v0.2.1 ⇒ v0.2.2\u001b[39m\n",
      "  \u001b[90m[cc8bc4a8] \u001b[39m\u001b[93m↑ Widgets v0.6.6 ⇒ v0.6.7\u001b[39m\n",
      "  \u001b[90m[c2297ded] \u001b[39m\u001b[93m↑ ZMQ v1.3.0 ⇒ v1.4.0\u001b[39m\n",
      "  \u001b[90m[78a364fa] \u001b[39m\u001b[92m+ Chemfiles_jll v0.10.4+0\u001b[39m\n",
      "  \u001b[90m[2e619515] \u001b[39m\u001b[93m↑ Expat_jll v2.6.2+0 ⇒ v2.6.4+0\u001b[39m\n",
      "  \u001b[90m[d7e528f0] \u001b[39m\u001b[93m↑ FreeType2_jll v2.13.2+0 ⇒ v2.13.3+1\u001b[39m\n",
      "  \u001b[90m[7746bdde] \u001b[39m\u001b[93m↑ Glib_jll v2.80.5+0 ⇒ v2.82.2+0\u001b[39m\n",
      "  \u001b[90m[3b182d85] \u001b[39m\u001b[93m↑ Graphite2_jll v1.3.14+0 ⇒ v1.3.14+1\u001b[39m\n",
      "\u001b[32m⌃\u001b[39m \u001b[90m[0234f1f7] \u001b[39m\u001b[95m↓ HDF5_jll v1.14.3+3 ⇒ v1.14.2+1\u001b[39m\n",
      "  \u001b[90m[7e76a0d4] \u001b[39m\u001b[93m↑ Libglvnd_jll v1.6.0+0 ⇒ v1.7.0+0\u001b[39m\n",
      "  \u001b[90m[4b2f31a3] \u001b[39m\u001b[93m↑ Libmount_jll v2.40.1+0 ⇒ v2.40.2+0\u001b[39m\n",
      "  \u001b[90m[38a345b3] \u001b[39m\u001b[93m↑ Libuuid_jll v2.40.1+0 ⇒ v2.40.2+0\u001b[39m\n",
      "  \u001b[90m[9237b28f] \u001b[39m\u001b[93m↑ MicrosoftMPI_jll v10.1.4+2 ⇒ v10.1.4+3\u001b[39m\n",
      "  \u001b[90m[fe0851c0] \u001b[39m\u001b[93m↑ OpenMPI_jll v4.1.6+0 ⇒ v5.0.6+0\u001b[39m\n",
      "  \u001b[90m[02c8fc9c] \u001b[39m\u001b[93m↑ XML2_jll v2.13.4+0 ⇒ v2.13.5+0\u001b[39m\n",
      "  \u001b[90m[aed1982a] \u001b[39m\u001b[93m↑ XSLT_jll v1.1.41+0 ⇒ v1.1.42+0\u001b[39m\n",
      "  \u001b[90m[4f6342f7] \u001b[39m\u001b[93m↑ Xorg_libX11_jll v1.8.6+0 ⇒ v1.8.6+1\u001b[39m\n",
      "  \u001b[90m[0c0b7dd1] \u001b[39m\u001b[93m↑ Xorg_libXau_jll v1.0.11+0 ⇒ v1.0.11+1\u001b[39m\n",
      "  \u001b[90m[a3789734] \u001b[39m\u001b[93m↑ Xorg_libXdmcp_jll v1.1.4+0 ⇒ v1.1.4+1\u001b[39m\n",
      "  \u001b[90m[1082639a] \u001b[39m\u001b[93m↑ Xorg_libXext_jll v1.3.6+0 ⇒ v1.3.6+1\u001b[39m\n",
      "  \u001b[90m[14d82f49] \u001b[39m\u001b[93m↑ Xorg_libpthread_stubs_jll v0.1.1+0 ⇒ v0.1.1+1\u001b[39m\n",
      "  \u001b[90m[c7cfdc94] \u001b[39m\u001b[93m↑ Xorg_libxcb_jll v1.17.0+0 ⇒ v1.17.0+1\u001b[39m\n",
      "  \u001b[90m[c5fb5394] \u001b[39m\u001b[93m↑ Xorg_xtrans_jll v1.5.0+0 ⇒ v1.5.0+1\u001b[39m\n",
      "  \u001b[90m[214eeab7] \u001b[39m\u001b[93m↑ fzf_jll v0.53.0+0 ⇒ v0.56.3+0\u001b[39m\n",
      "  \u001b[90m[1a1c6b14] \u001b[39m\u001b[93m↑ gperf_jll v3.1.1+0 ⇒ v3.1.1+1\u001b[39m\n",
      "\u001b[36m\u001b[1m        Info\u001b[22m\u001b[39m Packages marked with \u001b[32m⌃\u001b[39m and \u001b[33m⌅\u001b[39m have new versions available. Those with \u001b[32m⌃\u001b[39m may be upgradable, but those with \u001b[33m⌅\u001b[39m are restricted by compatibility constraints from upgrading. To see why use `status --outdated -m`\n",
      "\u001b[32m\u001b[1m    Building\u001b[22m\u001b[39m IJulia → `~/.julia/scratchspaces/44cfe95a-1eb2-52ea-b672-e2afdf69b78f/1b1299f7d6617291f3d260e9f5b0250afdaac8c0/build.log`\n",
      "\u001b[92m\u001b[1mPrecompiling\u001b[22m\u001b[39m project...\n",
      "    617.7 ms\u001b[32m  ✓ \u001b[39m\u001b[90mGlob\u001b[39m\n",
      "    467.5 ms\u001b[32m  ✓ \u001b[39m\u001b[90mArgCheck\u001b[39m\n",
      "    469.4 ms\u001b[32m  ✓ \u001b[39m\u001b[90mLazyModules\u001b[39m\n",
      "    476.7 ms\u001b[32m  ✓ \u001b[39m\u001b[90mMappedArrays\u001b[39m\n",
      "    592.9 ms\u001b[33m  ✓ \u001b[39m\u001b[90mOrderedCollections\u001b[39m\n",
      "    524.8 ms\u001b[32m  ✓ \u001b[39m\u001b[90mAtomix\u001b[39m\n",
      "    538.1 ms\u001b[32m  ✓ \u001b[39m\u001b[90mPaddedViews\u001b[39m\n",
      "    465.1 ms\u001b[32m  ✓ \u001b[39m\u001b[90mStackViews\u001b[39m\n",
      "    643.5 ms\u001b[32m  ✓ \u001b[39m\u001b[90mGZip\u001b[39m\n",
      "    535.1 ms\u001b[32m  ✓ \u001b[39m\u001b[90mExceptionUnwrapping\u001b[39m\n",
      "    481.4 ms\u001b[32m  ✓ \u001b[39m\u001b[90mLibuuid_jll\u001b[39m\n",
      "    501.2 ms\u001b[33m  ✓ \u001b[39m\u001b[90mfzf_jll\u001b[39m\n",
      "    534.1 ms\u001b[32m  ✓ \u001b[39m\u001b[90mChemfiles_jll\u001b[39m\n",
      "    582.3 ms\u001b[32m  ✓ \u001b[39m\u001b[90mXML2_jll\u001b[39m\n",
      "    497.2 ms\u001b[32m  ✓ \u001b[39m\u001b[90mXorg_libXau_jll\u001b[39m\n",
      "    590.1 ms\u001b[32m  ✓ \u001b[39m\u001b[90mXorg_xtrans_jll\u001b[39m\n",
      "    640.0 ms\u001b[32m  ✓ \u001b[39m\u001b[90mXorg_libXdmcp_jll\u001b[39m\n",
      "    656.6 ms\u001b[32m  ✓ \u001b[39m\u001b[90mExpat_jll\u001b[39m\n",
      "    579.1 ms\u001b[32m  ✓ \u001b[39m\u001b[90mLibmount_jll\u001b[39m\n",
      "    578.5 ms\u001b[32m  ✓ \u001b[39m\u001b[90mXorg_libpthread_stubs_jll\u001b[39m\n",
      "    629.0 ms\u001b[32m  ✓ \u001b[39m\u001b[90mMicrosoftMPI_jll\u001b[39m\n",
      "    659.8 ms\u001b[32m  ✓ \u001b[39m\u001b[90mGraphite2_jll\u001b[39m\n",
      "    615.0 ms\u001b[32m  ✓ \u001b[39m\u001b[90mGPUArraysCore\u001b[39m\n",
      "    645.8 ms\u001b[32m  ✓ \u001b[39m\u001b[90mgperf_jll\u001b[39m\n",
      "    609.2 ms\u001b[32m  ✓ \u001b[39m\u001b[90mFreeType2_jll\u001b[39m\n",
      "   1105.7 ms\u001b[32m  ✓ \u001b[39m\u001b[90mOpenMPI_jll\u001b[39m\n",
      "   3591.9 ms\u001b[32m  ✓ \u001b[39m\u001b[90mFileIO\u001b[39m\n",
      "   2381.7 ms\u001b[32m  ✓ \u001b[39m\u001b[90mZMQ\u001b[39m\n",
      "   1936.2 ms\u001b[32m  ✓ \u001b[39m\u001b[90mUnsafeAtomicsLLVM\u001b[39m\n",
      "   1331.7 ms\u001b[32m  ✓ \u001b[39m\u001b[90mWidgets\u001b[39m\n",
      "   7247.4 ms\u001b[33m  ✓ \u001b[39m\u001b[90mJuliaInterpreter\u001b[39m\n",
      "   1010.1 ms\u001b[32m  ✓ \u001b[39m\u001b[90mMosaicViews\u001b[39m\n",
      "   1989.1 ms\u001b[32m  ✓ \u001b[39m\u001b[90mStructArrays\u001b[39m\n",
      "   1180.0 ms\u001b[33m  ✓ \u001b[39m\u001b[90mJLFzf\u001b[39m\n",
      "   1128.6 ms\u001b[32m  ✓ \u001b[39m\u001b[90mGettext_jll\u001b[39m\n",
      "    806.4 ms\u001b[32m  ✓ \u001b[39m\u001b[90mXSLT_jll\u001b[39m\n",
      "    696.6 ms\u001b[32m  ✓ \u001b[39m\u001b[90mArrayInterface → ArrayInterfaceGPUArraysCoreExt\u001b[39m\n",
      "   1625.5 ms\u001b[32m  ✓ \u001b[39m\u001b[90mFontconfig_jll\u001b[39m\n",
      "   4925.4 ms\u001b[32m  ✓ \u001b[39m\u001b[90mStatsBase\u001b[39m\n",
      "   1627.7 ms\u001b[32m  ✓ \u001b[39m\u001b[90mHDF5_jll\u001b[39m\n",
      "   4095.2 ms\u001b[32m  ✓ \u001b[39mIJulia\n",
      "   4417.2 ms\u001b[32m  ✓ \u001b[39m\u001b[90mKernelAbstractions\u001b[39m\n",
      "   1019.2 ms\u001b[32m  ✓ \u001b[39m\u001b[90mStructArrays → StructArraysStaticArraysExt\u001b[39m\n",
      "    571.0 ms\u001b[32m  ✓ \u001b[39m\u001b[90mStructArrays → StructArraysAdaptExt\u001b[39m\n",
      "  18112.3 ms\u001b[32m  ✓ \u001b[39m\u001b[90mUnitful\u001b[39m\n",
      "    558.4 ms\u001b[32m  ✓ \u001b[39m\u001b[90mStructArrays → StructArraysLinearAlgebraExt\u001b[39m\n",
      "    752.6 ms\u001b[32m  ✓ \u001b[39m\u001b[90mStructArrays → StructArraysSparseArraysExt\u001b[39m\n",
      "    702.4 ms\u001b[32m  ✓ \u001b[39m\u001b[90mAccessors → AccessorsStructArraysExt\u001b[39m\n",
      "   1077.3 ms\u001b[32m  ✓ \u001b[39m\u001b[90mGlib_jll\u001b[39m\n",
      "    632.8 ms\u001b[32m  ✓ \u001b[39m\u001b[90mXorg_libxcb_jll\u001b[39m\n",
      "   8102.3 ms\u001b[33m  ✓ \u001b[39m\u001b[90mLoweredCodeUtils\u001b[39m\n",
      "   1709.6 ms\u001b[32m  ✓ \u001b[39m\u001b[90mLatinHypercubeSampling\u001b[39m\n",
      "   2396.8 ms\u001b[32m  ✓ \u001b[39m\u001b[90mClustering\u001b[39m\n",
      "   3021.4 ms\u001b[32m  ✓ \u001b[39m\u001b[90mStatsModels\u001b[39m\n",
      "  17563.3 ms\u001b[32m  ✓ \u001b[39mHTTP\n",
      "   2069.2 ms\u001b[32m  ✓ \u001b[39m\u001b[90mKernelAbstractions → SparseArraysExt\u001b[39m\n",
      "   1617.7 ms\u001b[32m  ✓ \u001b[39m\u001b[90mKernelAbstractions → LinearAlgebraExt\u001b[39m\n",
      "   1576.9 ms\u001b[32m  ✓ \u001b[39m\u001b[90mStructArrays → StructArraysGPUArraysCoreExt\u001b[39m\n",
      "    985.9 ms\u001b[32m  ✓ \u001b[39m\u001b[90mUnitful → InverseFunctionsUnitfulExt\u001b[39m\n",
      "    664.5 ms\u001b[32m  ✓ \u001b[39m\u001b[90mUnitful → ConstructionBaseUnitfulExt\u001b[39m\n",
      "   6730.6 ms\u001b[32m  ✓ \u001b[39m\u001b[90mDistributions\u001b[39m\n",
      "    677.6 ms\u001b[32m  ✓ \u001b[39m\u001b[90mAccessors → AccessorsUnitfulExt\u001b[39m\n",
      "    637.6 ms\u001b[32m  ✓ \u001b[39m\u001b[90mXorg_libX11_jll\u001b[39m\n",
      "   1491.8 ms\u001b[32m  ✓ \u001b[39m\u001b[90mInterpolations → InterpolationsUnitfulExt\u001b[39m\n",
      "   8255.2 ms\u001b[32m  ✓ \u001b[39m\u001b[90mHDF5\u001b[39m\n",
      "   1199.5 ms\u001b[32m  ✓ \u001b[39m\u001b[90mWebSockets\u001b[39m\n",
      "   1272.9 ms\u001b[32m  ✓ \u001b[39m\u001b[90mMLFlowClient\u001b[39m\n",
      "   2956.1 ms\u001b[32m  ✓ \u001b[39m\u001b[90mDataDeps\u001b[39m\n",
      "   2129.0 ms\u001b[32m  ✓ \u001b[39m\u001b[90mMux\u001b[39m\n",
      "  17532.2 ms\u001b[32m  ✓ \u001b[39m\u001b[90mImageCore\u001b[39m\n",
      "   1622.9 ms\u001b[32m  ✓ \u001b[39m\u001b[90mFileIO → HTTPExt\u001b[39m\n",
      "   2625.8 ms\u001b[32m  ✓ \u001b[39m\u001b[90mOpenML\u001b[39m\n",
      "   3288.8 ms\u001b[32m  ✓ \u001b[39m\u001b[90mGPUArrays\u001b[39m\n",
      "   1700.0 ms\u001b[32m  ✓ \u001b[39m\u001b[90mUnitfulAtomic\u001b[39m\n",
      "   5115.6 ms\u001b[32m  ✓ \u001b[39m\u001b[90mNNlib\u001b[39m\n",
      "   5443.9 ms\u001b[32m  ✓ \u001b[39m\u001b[90mChainRules\u001b[39m\n",
      "   1675.8 ms\u001b[32m  ✓ \u001b[39m\u001b[90mPeriodicTable\u001b[39m\n",
      "  11513.3 ms\u001b[33m  ✓ \u001b[39mRevise\n",
      "    738.4 ms\u001b[32m  ✓ \u001b[39m\u001b[90mTableMetadataTools\u001b[39m\n",
      "    495.1 ms\u001b[32m  ✓ \u001b[39m\u001b[90mBangBang → BangBangStructArraysExt\u001b[39m\n",
      "    552.9 ms\u001b[32m  ✓ \u001b[39m\u001b[90mXorg_libXext_jll\u001b[39m\n",
      "   1337.2 ms\u001b[32m  ✓ \u001b[39m\u001b[90mDistributions → DistributionsChainRulesCoreExt\u001b[39m\n",
      "   1394.1 ms\u001b[32m  ✓ \u001b[39m\u001b[90mDistributions → DistributionsTestExt\u001b[39m\n",
      "   2649.3 ms\u001b[32m  ✓ \u001b[39m\u001b[90mMAT\u001b[39m\n",
      "   2451.9 ms\u001b[32m  ✓ \u001b[39m\u001b[90mImageBase\u001b[39m\n",
      "   2535.2 ms\u001b[32m  ✓ \u001b[39m\u001b[90mWebIO\u001b[39m\n",
      "   4183.7 ms\u001b[32m  ✓ \u001b[39m\u001b[90mUnitfulLatexify\u001b[39m\n",
      "   1426.2 ms\u001b[32m  ✓ \u001b[39m\u001b[90mNPZ\u001b[39m\n",
      "   1873.7 ms\u001b[32m  ✓ \u001b[39m\u001b[90mNNlib → NNlibFFTWExt\u001b[39m\n",
      "   1562.0 ms\u001b[32m  ✓ \u001b[39m\u001b[90mNNlib → NNlibForwardDiffExt\u001b[39m\n",
      "    719.1 ms\u001b[32m  ✓ \u001b[39m\u001b[90mArrayInterface → ArrayInterfaceChainRulesExt\u001b[39m\n",
      "   2319.4 ms\u001b[32m  ✓ \u001b[39m\u001b[90mAtomsBase\u001b[39m\n",
      "  40144.8 ms\u001b[32m  ✓ \u001b[39mPluto\n",
      "  29134.3 ms\u001b[32m  ✓ \u001b[39m\u001b[90mJLD2\u001b[39m\n",
      "    677.1 ms\u001b[32m  ✓ \u001b[39m\u001b[90mCairo_jll\u001b[39m\n",
      "    517.0 ms\u001b[32m  ✓ \u001b[39m\u001b[90mLibglvnd_jll\u001b[39m\n",
      "  28641.2 ms\u001b[32m  ✓ \u001b[39m\u001b[90mZygote\u001b[39m\n",
      "   2754.3 ms\u001b[32m  ✓ \u001b[39m\u001b[90mTransducers\u001b[39m\n",
      "   1363.2 ms\u001b[32m  ✓ \u001b[39m\u001b[90mScientificTypes\u001b[39m\n",
      "   1228.9 ms\u001b[32m  ✓ \u001b[39mMultivariateStats\n",
      "   1243.2 ms\u001b[32m  ✓ \u001b[39m\u001b[90mKernelDensity\u001b[39m\n",
      "   1816.3 ms\u001b[32m  ✓ \u001b[39mGLM\n",
      "   1610.1 ms\u001b[32m  ✓ \u001b[39m\u001b[90mImageShow\u001b[39m\n",
      "   1562.8 ms\u001b[32m  ✓ \u001b[39m\u001b[90mJSExpr\u001b[39m\n",
      "    850.0 ms\u001b[32m  ✓ \u001b[39m\u001b[90mHarfBuzz_jll\u001b[39m\n",
      "    814.8 ms\u001b[32m  ✓ \u001b[39m\u001b[90mQt6Base_jll\u001b[39m\n",
      "   2117.6 ms\u001b[32m  ✓ \u001b[39m\u001b[90mChemfiles\u001b[39m\n",
      "   1266.7 ms\u001b[32m  ✓ \u001b[39m\u001b[90mZygote → ZygoteColorsExt\u001b[39m\n",
      "   1820.0 ms\u001b[32m  ✓ \u001b[39m\u001b[90mZygote → ZygoteDistancesExt\u001b[39m\n",
      "    488.6 ms\u001b[32m  ✓ \u001b[39m\u001b[90mTransducers → TransducersAdaptExt\u001b[39m\n",
      "   1245.8 ms\u001b[32m  ✓ \u001b[39m\u001b[90mCategoricalDistributions\u001b[39m\n",
      "   3175.2 ms\u001b[32m  ✓ \u001b[39m\u001b[90mBlink\u001b[39m\n",
      "    690.2 ms\u001b[32m  ✓ \u001b[39m\u001b[90mlibass_jll\u001b[39m\n",
      "    547.0 ms\u001b[32m  ✓ \u001b[39m\u001b[90mPango_jll\u001b[39m\n",
      "    723.4 ms\u001b[32m  ✓ \u001b[39m\u001b[90mQt6ShaderTools_jll\u001b[39m\n",
      "  10618.7 ms\u001b[32m  ✓ \u001b[39m\u001b[90mTransducers → TransducersDataFramesExt\u001b[39m\n",
      "  43034.6 ms\u001b[32m  ✓ \u001b[39mDataFramesMeta\n",
      "  50738.5 ms\u001b[32m  ✓ \u001b[39m\u001b[90mRData\u001b[39m\n",
      "   2029.6 ms\u001b[32m  ✓ \u001b[39mMLJMultivariateStatsInterface\n",
      "    961.4 ms\u001b[32m  ✓ \u001b[39m\u001b[90mFFMPEG_jll\u001b[39m\n",
      "   1439.1 ms\u001b[32m  ✓ \u001b[39m\u001b[90mQt6Declarative_jll\u001b[39m\n",
      "   6145.0 ms\u001b[32m  ✓ \u001b[39mMLJModels\n",
      "   2269.1 ms\u001b[32m  ✓ \u001b[39m\u001b[90mFLoops\u001b[39m\n",
      "    992.8 ms\u001b[32m  ✓ \u001b[39m\u001b[90mFFMPEG\u001b[39m\n",
      "    773.7 ms\u001b[32m  ✓ \u001b[39m\u001b[90mGR_jll\u001b[39m\n",
      "   7403.6 ms\u001b[32m  ✓ \u001b[39mPlotlyJS\n",
      "   5586.9 ms\u001b[32m  ✓ \u001b[39mRDatasets\n",
      "   2990.0 ms\u001b[32m  ✓ \u001b[39m\u001b[90mGR\u001b[39m\n",
      "  31082.6 ms\u001b[32m  ✓ \u001b[39mJWAS\n",
      "   4936.0 ms\u001b[32m  ✓ \u001b[39m\u001b[90mMLUtils\u001b[39m\n",
      "   2313.4 ms\u001b[32m  ✓ \u001b[39mPlotlyJS → JSON3Ext\n",
      "   3109.2 ms\u001b[32m  ✓ \u001b[39mPlotlyJS → DataFramesExt\n",
      "   2346.5 ms\u001b[32m  ✓ \u001b[39mPlotlyJS → CSVExt\n",
      "   2147.9 ms\u001b[32m  ✓ \u001b[39mPlotlyJS → IJuliaExt\n",
      "   4744.5 ms\u001b[32m  ✓ \u001b[39m\u001b[90mStatisticalMeasuresBase\u001b[39m\n",
      "   6607.3 ms\u001b[32m  ✓ \u001b[39mMLDatasets\n",
      "   2604.4 ms\u001b[32m  ✓ \u001b[39m\u001b[90mMLJEnsembles\u001b[39m\n",
      "   5289.4 ms\u001b[32m  ✓ \u001b[39m\u001b[90mMLJBase\u001b[39m\n",
      "  31048.1 ms\u001b[32m  ✓ \u001b[39mBetaML\n",
      "  10877.6 ms\u001b[32m  ✓ \u001b[39m\u001b[90mStatisticalMeasures\u001b[39m\n",
      "   2269.9 ms\u001b[32m  ✓ \u001b[39m\u001b[90mStatisticalMeasures → ScientificTypesExt\u001b[39m\n",
      "   2449.2 ms\u001b[32m  ✓ \u001b[39m\u001b[90mMLJBase → DefaultMeasuresExt\u001b[39m\n",
      "   2525.3 ms\u001b[32m  ✓ \u001b[39m\u001b[90mMLJTuning\u001b[39m\n",
      "   2614.0 ms\u001b[32m  ✓ \u001b[39m\u001b[90mMLJFlow\u001b[39m\n",
      "   2846.5 ms\u001b[32m  ✓ \u001b[39m\u001b[90mMLJIteration\u001b[39m\n",
      "   4394.5 ms\u001b[32m  ✓ \u001b[39mMLJ\n",
      "  37607.7 ms\u001b[32m  ✓ \u001b[39mPlots\n",
      "   2880.2 ms\u001b[32m  ✓ \u001b[39mPlots → FileIOExt\n",
      "   2990.9 ms\u001b[32m  ✓ \u001b[39mPlots → IJuliaExt\n",
      "   3064.5 ms\u001b[32m  ✓ \u001b[39mPlots → UnitfulExt\n",
      "   4175.1 ms\u001b[32m  ✓ \u001b[39mStatsPlots\n",
      "  151 dependencies successfully precompiled in 154 seconds. 371 already precompiled.\n",
      "  \u001b[33m6\u001b[39m dependencies precompiled but different versions are currently loaded. Restart julia to access the new versions\n",
      "  \u001b[33m2\u001b[39m dependencies had output during precompilation:\u001b[33m\n",
      "┌ \u001b[39mWebSockets\u001b[33m\n",
      "│  \u001b[39mWARNING: could not import Logging.termlength into WebSockets\u001b[33m\n",
      "│  \u001b[39mWARNING: could not import Logging.showvalue into WebSockets\u001b[33m\n",
      "└  \u001b[39m\u001b[33m\n",
      "┌ \u001b[39mBetaML\u001b[33m\n",
      "│  \u001b[39m\u001b[36m\u001b[1m[ \u001b[22m\u001b[39m\u001b[36m\u001b[1mInfo: \u001b[22m\u001b[39mBeginning BetaML PrecompileTool workflow....\u001b[33m\n",
      "│  \u001b[39m\u001b[36m\u001b[1m[ \u001b[22m\u001b[39m\u001b[36m\u001b[1mInfo: \u001b[22m\u001b[39m...done BetaML PrecompileTool workflow.\u001b[33m\n",
      "└  \u001b[39m\n"
     ]
    }
   ],
   "source": [
    "Pkg.add(\"JWAS\")"
   ]
  },
  {
   "cell_type": "code",
   "execution_count": 14,
   "metadata": {},
   "outputs": [
    {
     "name": "stderr",
     "output_type": "stream",
     "text": [
      "WARNING: import of Base.mergewith into OrderedCollections conflicts with an existing identifier; ignored.\n",
      "┌ Error: Failed to revise /Users/christos/.julia/packages/JuliaInterpreter/QM4RU/src/types.jl\n",
      "│   exception = Revise.ReviseEvalException(\"/Users/christos/Library/CloudStorage/OneDrive-Sverigeslantbruksuniversitet/Teaching/Julia_SLU/Teaching_material/Day2/none:0\", ErrorException(\"invalid redefinition of constant JuliaInterpreter.Frame\"), Any[(top-level scope at none:0, 1)])\n",
      "└ @ Revise /Users/christos/.julia/packages/Revise/8jqWV/src/packagedef.jl:733\n",
      "┌ Warning: The running code does not match the saved version for the following files:\n",
      "│ \n",
      "│   /Users/christos/.julia/packages/JuliaInterpreter/QM4RU/src/types.jl\n",
      "│ \n",
      "│ If the error was due to evaluation order, it can sometimes be resolved by calling `Revise.retry()`.\n",
      "│ Use Revise.errors() to report errors again. Only the first error in each file is shown.\n",
      "│ Your prompt color may be yellow until the errors are resolved.\n",
      "└ @ Revise /Users/christos/.julia/packages/Revise/8jqWV/src/packagedef.jl:846\n",
      "\u001b[33m\u001b[1m┌ \u001b[22m\u001b[39m\u001b[33m\u001b[1mWarning: \u001b[22m\u001b[39mModule OrderedCollections with build ID fafbfcfd-45f5-5042-0000-01c77449f0ee is missing from the cache.\n",
      "\u001b[33m\u001b[1m│ \u001b[22m\u001b[39mThis may mean OrderedCollections [bac558e1-5e72-5ebc-8fee-abe8a469f55d] does not support precompilation but is imported by a module that does.\n",
      "\u001b[33m\u001b[1m└ \u001b[22m\u001b[39m\u001b[90m@ Base loading.jl:2464\u001b[39m\n",
      "\u001b[33m\u001b[1m┌ \u001b[22m\u001b[39m\u001b[33m\u001b[1mWarning: \u001b[22m\u001b[39mModule OrderedCollections with build ID fafbfcfd-45f5-5042-0000-01c77449f0ee is missing from the cache.\n",
      "\u001b[33m\u001b[1m│ \u001b[22m\u001b[39mThis may mean OrderedCollections [bac558e1-5e72-5ebc-8fee-abe8a469f55d] does not support precompilation but is imported by a module that does.\n",
      "\u001b[33m\u001b[1m└ \u001b[22m\u001b[39m\u001b[90m@ Base loading.jl:2464\u001b[39m\n",
      "\u001b[33m\u001b[1m┌ \u001b[22m\u001b[39m\u001b[33m\u001b[1mWarning: \u001b[22m\u001b[39mModule OrderedCollections with build ID fafbfcfd-45f5-5042-0000-01c77449f0ee is missing from the cache.\n",
      "\u001b[33m\u001b[1m│ \u001b[22m\u001b[39mThis may mean OrderedCollections [bac558e1-5e72-5ebc-8fee-abe8a469f55d] does not support precompilation but is imported by a module that does.\n",
      "\u001b[33m\u001b[1m└ \u001b[22m\u001b[39m\u001b[90m@ Base loading.jl:2464\u001b[39m\n",
      "\u001b[33m\u001b[1m┌ \u001b[22m\u001b[39m\u001b[33m\u001b[1mWarning: \u001b[22m\u001b[39mModule OrderedCollections with build ID fafbfcfd-45f5-5042-0000-01c77449f0ee is missing from the cache.\n",
      "\u001b[33m\u001b[1m│ \u001b[22m\u001b[39mThis may mean OrderedCollections [bac558e1-5e72-5ebc-8fee-abe8a469f55d] does not support precompilation but is imported by a module that does.\n",
      "\u001b[33m\u001b[1m└ \u001b[22m\u001b[39m\u001b[90m@ Base loading.jl:2464\u001b[39m\n",
      "\u001b[33m\u001b[1m┌ \u001b[22m\u001b[39m\u001b[33m\u001b[1mWarning: \u001b[22m\u001b[39mModule OrderedCollections with build ID fafbfcfd-45f5-5042-0000-01c77449f0ee is missing from the cache.\n",
      "\u001b[33m\u001b[1m│ \u001b[22m\u001b[39mThis may mean OrderedCollections [bac558e1-5e72-5ebc-8fee-abe8a469f55d] does not support precompilation but is imported by a module that does.\n",
      "\u001b[33m\u001b[1m└ \u001b[22m\u001b[39m\u001b[90m@ Base loading.jl:2464\u001b[39m\n",
      "\u001b[33m\u001b[1m┌ \u001b[22m\u001b[39m\u001b[33m\u001b[1mWarning: \u001b[22m\u001b[39mModule OrderedCollections with build ID fafbfcfd-45f5-5042-0000-01c77449f0ee is missing from the cache.\n",
      "\u001b[33m\u001b[1m│ \u001b[22m\u001b[39mThis may mean OrderedCollections [bac558e1-5e72-5ebc-8fee-abe8a469f55d] does not support precompilation but is imported by a module that does.\n",
      "\u001b[33m\u001b[1m└ \u001b[22m\u001b[39m\u001b[90m@ Base loading.jl:2464\u001b[39m\n",
      "\u001b[33m\u001b[1m┌ \u001b[22m\u001b[39m\u001b[33m\u001b[1mWarning: \u001b[22m\u001b[39mModule Tables with build ID ffffffff-ffff-ffff-0000-03d5f324ea48 is missing from the cache.\n",
      "\u001b[33m\u001b[1m│ \u001b[22m\u001b[39mThis may mean Tables [bd369af6-aec1-5ad0-b16a-f7cc5008161c] does not support precompilation but is imported by a module that does.\n",
      "\u001b[33m\u001b[1m└ \u001b[22m\u001b[39m\u001b[90m@ Base loading.jl:2464\u001b[39m\n",
      "\u001b[33m\u001b[1m┌ \u001b[22m\u001b[39m\u001b[33m\u001b[1mWarning: \u001b[22m\u001b[39mModule DataStructures with build ID ffffffff-ffff-ffff-0000-03d56ea4c451 is missing from the cache.\n",
      "\u001b[33m\u001b[1m│ \u001b[22m\u001b[39mThis may mean DataStructures [864edb3b-99cc-5e75-8d2d-829cb0a9cfe8] does not support precompilation but is imported by a module that does.\n",
      "\u001b[33m\u001b[1m└ \u001b[22m\u001b[39m\u001b[90m@ Base loading.jl:2464\u001b[39m\n",
      "\u001b[33m\u001b[1m┌ \u001b[22m\u001b[39m\u001b[33m\u001b[1mWarning: \u001b[22m\u001b[39mModule DataStructures with build ID ffffffff-ffff-ffff-0000-03d56ea4c451 is missing from the cache.\n",
      "\u001b[33m\u001b[1m│ \u001b[22m\u001b[39mThis may mean DataStructures [864edb3b-99cc-5e75-8d2d-829cb0a9cfe8] does not support precompilation but is imported by a module that does.\n",
      "\u001b[33m\u001b[1m└ \u001b[22m\u001b[39m\u001b[90m@ Base loading.jl:2464\u001b[39m\n",
      "\u001b[33m\u001b[1m┌ \u001b[22m\u001b[39m\u001b[33m\u001b[1mWarning: \u001b[22m\u001b[39mModule DataStructures with build ID ffffffff-ffff-ffff-0000-03d56ea4c451 is missing from the cache.\n",
      "\u001b[33m\u001b[1m│ \u001b[22m\u001b[39mThis may mean DataStructures [864edb3b-99cc-5e75-8d2d-829cb0a9cfe8] does not support precompilation but is imported by a module that does.\n",
      "\u001b[33m\u001b[1m└ \u001b[22m\u001b[39m\u001b[90m@ Base loading.jl:2464\u001b[39m\n"
     ]
    }
   ],
   "source": [
    "using JWAS"
   ]
  },
  {
   "cell_type": "code",
   "execution_count": 15,
   "metadata": {},
   "outputs": [
    {
     "name": "stderr",
     "output_type": "stream",
     "text": [
      "\u001b[32m\u001b[1m   Resolving\u001b[22m\u001b[39m package versions...\n",
      "\u001b[32m\u001b[1m    Updating\u001b[22m\u001b[39m `~/.julia/environments/v1.11/Project.toml`\n",
      "  \u001b[90m[6e4b80f9] \u001b[39m\u001b[92m+ BenchmarkTools v1.5.0\u001b[39m\n",
      "\u001b[32m\u001b[1m    Updating\u001b[22m\u001b[39m `~/.julia/environments/v1.11/Manifest.toml`\n",
      "  \u001b[90m[6e4b80f9] \u001b[39m\u001b[92m+ BenchmarkTools v1.5.0\u001b[39m\n",
      "  \u001b[90m[9abbd945] \u001b[39m\u001b[92m+ Profile v1.11.0\u001b[39m\n",
      "\u001b[92m\u001b[1mPrecompiling\u001b[22m\u001b[39m project...\n",
      "    783.8 ms\u001b[32m  ✓ \u001b[39m\u001b[90mLatexify → SparseArraysExt\u001b[39m\n",
      "    993.6 ms\u001b[32m  ✓ \u001b[39m\u001b[90mNamedArrays\u001b[39m\n",
      "   1072.0 ms\u001b[32m  ✓ \u001b[39mBenchmarkTools\n",
      "   1208.8 ms\u001b[32m  ✓ \u001b[39m\u001b[90mLatexify → DataFramesExt\u001b[39m\n",
      "    828.9 ms\u001b[32m  ✓ \u001b[39mMLJDecisionTreeInterface\n",
      "   1777.0 ms\u001b[32m  ✓ \u001b[39m\u001b[90mPickle\u001b[39m\n",
      "    818.3 ms\u001b[32m  ✓ \u001b[39mFreqTables\n",
      "   1165.8 ms\u001b[32m  ✓ \u001b[39m\u001b[90mBangBang → BangBangDataFramesExt\u001b[39m\n",
      "  8 dependencies successfully precompiled in 3 seconds. 516 already precompiled.\n"
     ]
    }
   ],
   "source": [
    "Pkg.add(\"BenchmarkTools\")"
   ]
  },
  {
   "cell_type": "markdown",
   "metadata": {},
   "source": [
    "Let's try one more"
   ]
  },
  {
   "cell_type": "code",
   "execution_count": 1,
   "metadata": {},
   "outputs": [],
   "source": [
    "using BenchmarkTools"
   ]
  },
  {
   "cell_type": "markdown",
   "metadata": {},
   "source": [
    "We can use this package to check how fast code runs. Let's test the function we wrote for estimating the geometric mean."
   ]
  },
  {
   "cell_type": "code",
   "execution_count": 2,
   "metadata": {},
   "outputs": [
    {
     "data": {
      "text/plain": [
       "1000000-element Vector{Float64}:\n",
       " 0.9602935291150817\n",
       " 0.39116842126945495\n",
       " 0.0874971617304523\n",
       " 0.6662650792649238\n",
       " 0.19611116081448932\n",
       " 0.6181074863266544\n",
       " 0.9391929898750445\n",
       " 0.7381526208843874\n",
       " 0.6327929213386496\n",
       " 0.7143736431490361\n",
       " ⋮\n",
       " 0.5777011492885784\n",
       " 0.6479309401577965\n",
       " 0.9411460002643016\n",
       " 0.08726077347061012\n",
       " 0.10260533737732103\n",
       " 0.9739189993661008\n",
       " 0.6003866097243936\n",
       " 0.7532795628517613\n",
       " 0.8210042568597535"
      ]
     },
     "metadata": {},
     "output_type": "display_data"
    }
   ],
   "source": [
    "x = rand(10^6)"
   ]
  },
  {
   "cell_type": "code",
   "execution_count": 24,
   "metadata": {},
   "outputs": [
    {
     "data": {
      "text/plain": [
       "BenchmarkTools.Trial: 4170 samples with 1 evaluation.\n",
       " Range \u001b[90m(\u001b[39m\u001b[36m\u001b[1mmin\u001b[22m\u001b[39m … \u001b[35mmax\u001b[39m\u001b[90m):  \u001b[39m\u001b[36m\u001b[1m1.141 ms\u001b[22m\u001b[39m … \u001b[35m  8.637 ms\u001b[39m  \u001b[90m┊\u001b[39m GC \u001b[90m(\u001b[39mmin … max\u001b[90m): \u001b[39m0.00% … 0.00%\n",
       " Time  \u001b[90m(\u001b[39m\u001b[34m\u001b[1mmedian\u001b[22m\u001b[39m\u001b[90m):     \u001b[39m\u001b[34m\u001b[1m1.168 ms               \u001b[22m\u001b[39m\u001b[90m┊\u001b[39m GC \u001b[90m(\u001b[39mmedian\u001b[90m):    \u001b[39m0.00%\n",
       " Time  \u001b[90m(\u001b[39m\u001b[32m\u001b[1mmean\u001b[22m\u001b[39m ± \u001b[32mσ\u001b[39m\u001b[90m):   \u001b[39m\u001b[32m\u001b[1m1.198 ms\u001b[22m\u001b[39m ± \u001b[32m186.017 μs\u001b[39m  \u001b[90m┊\u001b[39m GC \u001b[90m(\u001b[39mmean ± σ\u001b[90m):  \u001b[39m0.00% ± 0.00%\n",
       "\n",
       "  \u001b[39m█\u001b[39m▃\u001b[39m▄\u001b[39m▃\u001b[39m▃\u001b[39m▃\u001b[34m▂\u001b[39m\u001b[39m▃\u001b[39m▂\u001b[39m▂\u001b[39m▂\u001b[39m▂\u001b[32m▁\u001b[39m\u001b[39m▂\u001b[39m▂\u001b[39m▂\u001b[39m▂\u001b[39m▂\u001b[39m▁\u001b[39m▁\u001b[39m▂\u001b[39m▂\u001b[39m▄\u001b[39m▂\u001b[39m▂\u001b[39m▂\u001b[39m▂\u001b[39m▁\u001b[39m▁\u001b[39m \u001b[39m \u001b[39m \u001b[39m \u001b[39m \u001b[39m \u001b[39m \u001b[39m \u001b[39m \u001b[39m \u001b[39m \u001b[39m \u001b[39m \u001b[39m \u001b[39m \u001b[39m \u001b[39m \u001b[39m \u001b[39m \u001b[39m \u001b[39m \u001b[39m \u001b[39m \u001b[39m \u001b[39m \u001b[39m \u001b[39m \u001b[39m \u001b[39m \u001b[39m \u001b[39m \u001b[39m▁\n",
       "  \u001b[39m█\u001b[39m█\u001b[39m█\u001b[39m█\u001b[39m█\u001b[39m█\u001b[34m█\u001b[39m\u001b[39m█\u001b[39m█\u001b[39m█\u001b[39m█\u001b[39m█\u001b[32m█\u001b[39m\u001b[39m█\u001b[39m█\u001b[39m█\u001b[39m█\u001b[39m█\u001b[39m█\u001b[39m█\u001b[39m█\u001b[39m█\u001b[39m█\u001b[39m█\u001b[39m█\u001b[39m█\u001b[39m█\u001b[39m█\u001b[39m█\u001b[39m█\u001b[39m█\u001b[39m▇\u001b[39m▆\u001b[39m▆\u001b[39m▇\u001b[39m▇\u001b[39m▆\u001b[39m▅\u001b[39m▅\u001b[39m▅\u001b[39m▆\u001b[39m▅\u001b[39m▄\u001b[39m▃\u001b[39m▅\u001b[39m▅\u001b[39m▄\u001b[39m▅\u001b[39m▃\u001b[39m▄\u001b[39m▄\u001b[39m▄\u001b[39m▂\u001b[39m▂\u001b[39m▄\u001b[39m▄\u001b[39m▂\u001b[39m▃\u001b[39m▃\u001b[39m \u001b[39m█\n",
       "  1.14 ms\u001b[90m      \u001b[39m\u001b[90mHistogram: \u001b[39m\u001b[90m\u001b[1mlog(\u001b[22m\u001b[39m\u001b[90mfrequency\u001b[39m\u001b[90m\u001b[1m)\u001b[22m\u001b[39m\u001b[90m by time\u001b[39m      1.42 ms \u001b[0m\u001b[1m<\u001b[22m\n",
       "\n",
       " Memory estimate\u001b[90m: \u001b[39m\u001b[33m0 bytes\u001b[39m, allocs estimate\u001b[90m: \u001b[39m\u001b[33m0\u001b[39m."
      ]
     },
     "metadata": {},
     "output_type": "display_data"
    }
   ],
   "source": [
    "@benchmark geom_mean($x)\n"
   ]
  },
  {
   "cell_type": "markdown",
   "metadata": {},
   "source": [
    "Now let's compare with the `geomean`function from the `StatsBase` package."
   ]
  },
  {
   "cell_type": "code",
   "execution_count": 3,
   "metadata": {},
   "outputs": [
    {
     "data": {
      "text/plain": [
       "BenchmarkTools.Trial: 1057 samples with 1 evaluation.\n",
       " Range \u001b[90m(\u001b[39m\u001b[36m\u001b[1mmin\u001b[22m\u001b[39m … \u001b[35mmax\u001b[39m\u001b[90m):  \u001b[39m\u001b[36m\u001b[1m4.523 ms\u001b[22m\u001b[39m … \u001b[35m  8.209 ms\u001b[39m  \u001b[90m┊\u001b[39m GC \u001b[90m(\u001b[39mmin … max\u001b[90m): \u001b[39m0.00% … 0.00%\n",
       " Time  \u001b[90m(\u001b[39m\u001b[34m\u001b[1mmedian\u001b[22m\u001b[39m\u001b[90m):     \u001b[39m\u001b[34m\u001b[1m4.672 ms               \u001b[22m\u001b[39m\u001b[90m┊\u001b[39m GC \u001b[90m(\u001b[39mmedian\u001b[90m):    \u001b[39m0.00%\n",
       " Time  \u001b[90m(\u001b[39m\u001b[32m\u001b[1mmean\u001b[22m\u001b[39m ± \u001b[32mσ\u001b[39m\u001b[90m):   \u001b[39m\u001b[32m\u001b[1m4.718 ms\u001b[22m\u001b[39m ± \u001b[32m210.797 μs\u001b[39m  \u001b[90m┊\u001b[39m GC \u001b[90m(\u001b[39mmean ± σ\u001b[90m):  \u001b[39m0.00% ± 0.00%\n",
       "\n",
       "  \u001b[39m \u001b[39m▃\u001b[39m▅\u001b[39m▅\u001b[39m▆\u001b[39m▇\u001b[39m█\u001b[39m▆\u001b[34m▃\u001b[39m\u001b[39m▄\u001b[39m▄\u001b[32m▂\u001b[39m\u001b[39m▃\u001b[39m▂\u001b[39m \u001b[39m \u001b[39m \u001b[39m \u001b[39m \u001b[39m \u001b[39m \u001b[39m \u001b[39m \u001b[39m \u001b[39m \u001b[39m \u001b[39m \u001b[39m \u001b[39m \u001b[39m \u001b[39m \u001b[39m \u001b[39m \u001b[39m \u001b[39m \u001b[39m \u001b[39m \u001b[39m \u001b[39m \u001b[39m \u001b[39m \u001b[39m \u001b[39m \u001b[39m \u001b[39m \u001b[39m \u001b[39m \u001b[39m \u001b[39m \u001b[39m \u001b[39m \u001b[39m \u001b[39m \u001b[39m \u001b[39m \u001b[39m \u001b[39m \u001b[39m \u001b[39m \u001b[39m \u001b[39m \n",
       "  \u001b[39m▇\u001b[39m█\u001b[39m█\u001b[39m█\u001b[39m█\u001b[39m█\u001b[39m█\u001b[39m█\u001b[34m█\u001b[39m\u001b[39m█\u001b[39m█\u001b[32m█\u001b[39m\u001b[39m█\u001b[39m█\u001b[39m█\u001b[39m█\u001b[39m▆\u001b[39m▅\u001b[39m▄\u001b[39m▄\u001b[39m▄\u001b[39m▃\u001b[39m▃\u001b[39m▃\u001b[39m▂\u001b[39m▃\u001b[39m▃\u001b[39m▃\u001b[39m▂\u001b[39m▁\u001b[39m▂\u001b[39m▁\u001b[39m▂\u001b[39m▂\u001b[39m▂\u001b[39m▃\u001b[39m▂\u001b[39m▃\u001b[39m▂\u001b[39m▃\u001b[39m▂\u001b[39m▂\u001b[39m▃\u001b[39m▃\u001b[39m▂\u001b[39m▁\u001b[39m▂\u001b[39m▁\u001b[39m▁\u001b[39m▂\u001b[39m▂\u001b[39m▂\u001b[39m▂\u001b[39m▂\u001b[39m▂\u001b[39m▁\u001b[39m▁\u001b[39m▁\u001b[39m▂\u001b[39m \u001b[39m▄\n",
       "  4.52 ms\u001b[90m         Histogram: frequency by time\u001b[39m        5.59 ms \u001b[0m\u001b[1m<\u001b[22m\n",
       "\n",
       " Memory estimate\u001b[90m: \u001b[39m\u001b[33m0 bytes\u001b[39m, allocs estimate\u001b[90m: \u001b[39m\u001b[33m0\u001b[39m."
      ]
     },
     "metadata": {},
     "output_type": "display_data"
    }
   ],
   "source": [
    "#Pkg.add(\"StatsBase\")\n",
    "using StatsBase\n",
    "@benchmark geomean($x)"
   ]
  },
  {
   "cell_type": "markdown",
   "metadata": {},
   "source": [
    "### Setting up environments"
   ]
  },
  {
   "cell_type": "markdown",
   "metadata": {},
   "source": [
    "Packages usually come with dependencies. Meaning that a package depends on code from another package and so on. It is quite common to have conflicts between the dependencies of different packages which results to a nightmare during installation. Sometimes conflicts are created even between different versions of the same package. A handy solution comes by the definition of environments. We can create different environments bases on our needs and the specific package versions we need. This is a more efficient approach compared to having everything under the default environment. A nice thing with Julia is that this functionality of creating environments is integrated in the language and we don't have to use third party tools as in Python. Let's see how we can create environments in Julia."
   ]
  },
  {
   "cell_type": "markdown",
   "metadata": {},
   "source": [
    "The following shows the packages that are loaded on my current Julia session."
   ]
  },
  {
   "cell_type": "code",
   "execution_count": 6,
   "metadata": {},
   "outputs": [
    {
     "name": "stdout",
     "output_type": "stream",
     "text": [
      "\u001b[32m\u001b[1mStatus\u001b[22m\u001b[39m `~/.julia/environments/v1.11/Project.toml`\n",
      "  \u001b[90m[6e4b80f9] \u001b[39mBenchmarkTools v1.5.0\n",
      "  \u001b[90m[024491cd] \u001b[39mBetaML v0.12.1\n",
      "  \u001b[90m[336ed68f] \u001b[39mCSV v0.10.15\n",
      "  \u001b[90m[a93c6f00] \u001b[39mDataFrames v1.7.0\n",
      "  \u001b[90m[1313f7d8] \u001b[39mDataFramesMeta v0.15.3\n",
      "  \u001b[90m[da1fdf0e] \u001b[39mFreqTables v0.4.6\n",
      "  \u001b[90m[38e38edf] \u001b[39mGLM v1.9.0\n",
      "  \u001b[90m[cd3eb016] \u001b[39mHTTP v1.10.12\n",
      "  \u001b[90m[7073ff75] \u001b[39mIJulia v1.26.0\n",
      "  \u001b[90m[c9a035f4] \u001b[39mJWAS v1.2.1\n",
      "  \u001b[90m[b964fa9f] \u001b[39mLaTeXStrings v1.4.0\n",
      "  \u001b[90m[eb30cadb] \u001b[39mMLDatasets v0.7.18\n",
      "\u001b[32m⌃\u001b[39m \u001b[90m[add582a8] \u001b[39mMLJ v0.20.0\n",
      "  \u001b[90m[c6f25543] \u001b[39mMLJDecisionTreeInterface v0.4.2\n",
      "\u001b[33m⌅\u001b[39m \u001b[90m[d491faf4] \u001b[39mMLJModels v0.16.17\n",
      "  \u001b[90m[1b6a4a23] \u001b[39mMLJMultivariateStatsInterface v0.5.3\n",
      "  \u001b[90m[6f286f6a] \u001b[39mMultivariateStats v0.10.3\n",
      "  \u001b[90m[5fb14364] \u001b[39mOhMyREPL v0.5.28\n",
      "  \u001b[90m[f0f68f2c] \u001b[39mPlotlyJS v0.18.15\n",
      "  \u001b[90m[91a5bcdd] \u001b[39mPlots v1.40.9\n",
      "  \u001b[90m[c3e4b0f8] \u001b[39mPluto v0.20.3\n",
      "  \u001b[90m[7f904dfe] \u001b[39mPlutoUI v0.7.60\n",
      "  \u001b[90m[ce6b1742] \u001b[39mRDatasets v0.7.7\n",
      "  \u001b[90m[295af30f] \u001b[39mRevise v3.6.4\n",
      "\u001b[33m⌅\u001b[39m \u001b[90m[2913bbd2] \u001b[39mStatsBase v0.33.21\n",
      "  \u001b[90m[f3b207a7] \u001b[39mStatsPlots v0.15.7\n",
      "\u001b[36m\u001b[1mInfo\u001b[22m\u001b[39m Packages marked with \u001b[32m⌃\u001b[39m and \u001b[33m⌅\u001b[39m have new versions available. Those with \u001b[32m⌃\u001b[39m may be upgradable, but those with \u001b[33m⌅\u001b[39m are restricted by compatibility constraints from upgrading. To see why use `status --outdated`\n"
     ]
    }
   ],
   "source": [
    "Pkg.status()"
   ]
  },
  {
   "cell_type": "code",
   "execution_count": 7,
   "metadata": {},
   "outputs": [],
   "source": [
    "cd(\"../Day2\")"
   ]
  },
  {
   "cell_type": "code",
   "execution_count": 8,
   "metadata": {},
   "outputs": [
    {
     "data": {
      "text/plain": [
       "\"/Users/christos/Library/CloudStorage/OneDrive-Sverigeslantbruksuniversitet/Teaching/Julia_SLU/Teaching_material/Day2\""
      ]
     },
     "metadata": {},
     "output_type": "display_data"
    }
   ],
   "source": [
    "pwd()"
   ]
  },
  {
   "cell_type": "markdown",
   "metadata": {},
   "source": [
    "The following will create a new Julia environment."
   ]
  },
  {
   "cell_type": "code",
   "execution_count": 9,
   "metadata": {},
   "outputs": [
    {
     "name": "stderr",
     "output_type": "stream",
     "text": [
      "\u001b[32m\u001b[1m  Activating\u001b[22m\u001b[39m new project at `~/Library/CloudStorage/OneDrive-Sverigeslantbruksuniversitet/Teaching/Julia_SLU/Teaching_material/Day2`\n"
     ]
    }
   ],
   "source": [
    "Pkg.activate(\".\")"
   ]
  },
  {
   "cell_type": "markdown",
   "metadata": {},
   "source": [
    "As you see haven't loaded any packages yet. "
   ]
  },
  {
   "cell_type": "code",
   "execution_count": 10,
   "metadata": {},
   "outputs": [
    {
     "name": "stdout",
     "output_type": "stream",
     "text": [
      "\u001b[32m\u001b[1mStatus\u001b[22m\u001b[39m `~/Library/CloudStorage/OneDrive-Sverigeslantbruksuniversitet/Teaching/Julia_SLU/Teaching_material/Day2/Project.toml` (empty project)\n"
     ]
    }
   ],
   "source": [
    "Pkg.status()"
   ]
  },
  {
   "cell_type": "markdown",
   "metadata": {},
   "source": [
    "Will add the `Gadfly`package that is used for plots."
   ]
  },
  {
   "cell_type": "code",
   "execution_count": 11,
   "metadata": {},
   "outputs": [
    {
     "name": "stderr",
     "output_type": "stream",
     "text": [
      "\u001b[32m\u001b[1m   Resolving\u001b[22m\u001b[39m package versions...\n",
      "\u001b[32m\u001b[1m   Installed\u001b[22m\u001b[39m IterTools ─ v1.10.0\n",
      "\u001b[32m\u001b[1m   Installed\u001b[22m\u001b[39m Loess ───── v0.6.4\n",
      "\u001b[32m\u001b[1m    Updating\u001b[22m\u001b[39m `~/Library/CloudStorage/OneDrive-Sverigeslantbruksuniversitet/Teaching/Julia_SLU/Teaching_material/Day2/Project.toml`\n",
      "  \u001b[90m[c91e804a] \u001b[39m\u001b[92m+ Gadfly v1.4.0\u001b[39m\n",
      "\u001b[32m\u001b[1m    Updating\u001b[22m\u001b[39m `~/Library/CloudStorage/OneDrive-Sverigeslantbruksuniversitet/Teaching/Julia_SLU/Teaching_material/Day2/Manifest.toml`\n",
      "  \u001b[90m[621f4979] \u001b[39m\u001b[92m+ AbstractFFTs v1.5.0\u001b[39m\n",
      "  \u001b[90m[79e6a3ab] \u001b[39m\u001b[92m+ Adapt v4.1.1\u001b[39m\n",
      "  \u001b[90m[66dad0bd] \u001b[39m\u001b[92m+ AliasTables v1.1.3\u001b[39m\n",
      "  \u001b[90m[13072b0f] \u001b[39m\u001b[92m+ AxisAlgorithms v1.1.0\u001b[39m\n",
      "  \u001b[90m[324d7699] \u001b[39m\u001b[92m+ CategoricalArrays v0.10.8\u001b[39m\n",
      "  \u001b[90m[d360d2e6] \u001b[39m\u001b[92m+ ChainRulesCore v1.25.0\u001b[39m\n",
      "\u001b[33m⌅\u001b[39m \u001b[90m[3da002f7] \u001b[39m\u001b[92m+ ColorTypes v0.11.5\u001b[39m\n",
      "\u001b[33m⌅\u001b[39m \u001b[90m[5ae59095] \u001b[39m\u001b[92m+ Colors v0.12.11\u001b[39m\n",
      "  \u001b[90m[34da2185] \u001b[39m\u001b[92m+ Compat v4.16.0\u001b[39m\n",
      "  \u001b[90m[a81c6b42] \u001b[39m\u001b[92m+ Compose v0.9.5\u001b[39m\n",
      "  \u001b[90m[d38c429a] \u001b[39m\u001b[92m+ Contour v0.6.3\u001b[39m\n",
      "\u001b[33m⌅\u001b[39m \u001b[90m[7ad07ef1] \u001b[39m\u001b[92m+ CoupledFields v0.2.0\u001b[39m\n",
      "  \u001b[90m[9a962f9c] \u001b[39m\u001b[92m+ DataAPI v1.16.0\u001b[39m\n",
      "  \u001b[90m[864edb3b] \u001b[39m\u001b[92m+ DataStructures v0.18.20\u001b[39m\n",
      "  \u001b[90m[b4f34e82] \u001b[39m\u001b[92m+ Distances v0.10.12\u001b[39m\n",
      "  \u001b[90m[31c24e10] \u001b[39m\u001b[92m+ Distributions v0.25.113\u001b[39m\n",
      "  \u001b[90m[ffbed154] \u001b[39m\u001b[92m+ DocStringExtensions v0.9.3\u001b[39m\n",
      "  \u001b[90m[7a1cc6ca] \u001b[39m\u001b[92m+ FFTW v1.8.0\u001b[39m\n",
      "  \u001b[90m[1a297f60] \u001b[39m\u001b[92m+ FillArrays v1.13.0\u001b[39m\n",
      "  \u001b[90m[53c48c17] \u001b[39m\u001b[92m+ FixedPointNumbers v0.8.5\u001b[39m\n",
      "  \u001b[90m[c91e804a] \u001b[39m\u001b[92m+ Gadfly v1.4.0\u001b[39m\n",
      "  \u001b[90m[42e2da0e] \u001b[39m\u001b[92m+ Grisu v1.0.2\u001b[39m\n",
      "  \u001b[90m[a1b4810d] \u001b[39m\u001b[92m+ Hexagons v0.2.0\u001b[39m\n",
      "  \u001b[90m[34004b35] \u001b[39m\u001b[92m+ HypergeometricFunctions v0.3.25\u001b[39m\n",
      "  \u001b[90m[9b13fd28] \u001b[39m\u001b[92m+ IndirectArrays v1.0.0\u001b[39m\n",
      "  \u001b[90m[a98d9a8b] \u001b[39m\u001b[92m+ Interpolations v0.15.1\u001b[39m\n",
      "  \u001b[90m[92d709cd] \u001b[39m\u001b[92m+ IrrationalConstants v0.2.2\u001b[39m\n",
      "  \u001b[90m[c8e1da08] \u001b[39m\u001b[92m+ IterTools v1.10.0\u001b[39m\n",
      "  \u001b[90m[692b3bcd] \u001b[39m\u001b[92m+ JLLWrappers v1.6.1\u001b[39m\n",
      "  \u001b[90m[682c06a0] \u001b[39m\u001b[92m+ JSON v0.21.4\u001b[39m\n",
      "  \u001b[90m[e5e0dc1b] \u001b[39m\u001b[92m+ Juno v0.8.4\u001b[39m\n",
      "  \u001b[90m[5ab0869b] \u001b[39m\u001b[92m+ KernelDensity v0.6.9\u001b[39m\n",
      "  \u001b[90m[4345ca2d] \u001b[39m\u001b[92m+ Loess v0.6.4\u001b[39m\n",
      "  \u001b[90m[2ab3a3ac] \u001b[39m\u001b[92m+ LogExpFunctions v0.3.28\u001b[39m\n",
      "  \u001b[90m[1914dd2f] \u001b[39m\u001b[92m+ MacroTools v0.5.13\u001b[39m\n",
      "  \u001b[90m[442fdcdd] \u001b[39m\u001b[92m+ Measures v0.3.2\u001b[39m\n",
      "  \u001b[90m[e89f7d12] \u001b[39m\u001b[92m+ Media v0.5.0\u001b[39m\n",
      "  \u001b[90m[e1d29d7a] \u001b[39m\u001b[92m+ Missings v1.2.0\u001b[39m\n",
      "  \u001b[90m[6fe1bfb0] \u001b[39m\u001b[92m+ OffsetArrays v1.14.1\u001b[39m\n",
      "  \u001b[90m[bac558e1] \u001b[39m\u001b[92m+ OrderedCollections v1.7.0\u001b[39m\n",
      "  \u001b[90m[90014a1f] \u001b[39m\u001b[92m+ PDMats v0.11.31\u001b[39m\n",
      "  \u001b[90m[69de0a69] \u001b[39m\u001b[92m+ Parsers v2.8.1\u001b[39m\n",
      "  \u001b[90m[aea7be01] \u001b[39m\u001b[92m+ PrecompileTools v1.2.1\u001b[39m\n",
      "  \u001b[90m[21216c6a] \u001b[39m\u001b[92m+ Preferences v1.4.3\u001b[39m\n",
      "  \u001b[90m[43287f4e] \u001b[39m\u001b[92m+ PtrArrays v1.2.1\u001b[39m\n",
      "  \u001b[90m[1fd47b50] \u001b[39m\u001b[92m+ QuadGK v2.11.1\u001b[39m\n",
      "  \u001b[90m[c84ed2f1] \u001b[39m\u001b[92m+ Ratios v0.4.5\u001b[39m\n",
      "  \u001b[90m[189a3867] \u001b[39m\u001b[92m+ Reexport v1.2.2\u001b[39m\n",
      "  \u001b[90m[ae029012] \u001b[39m\u001b[92m+ Requires v1.3.0\u001b[39m\n",
      "  \u001b[90m[79098fc4] \u001b[39m\u001b[92m+ Rmath v0.8.0\u001b[39m\n",
      "  \u001b[90m[992d4aef] \u001b[39m\u001b[92m+ Showoff v1.0.3\u001b[39m\n",
      "  \u001b[90m[a2af1166] \u001b[39m\u001b[92m+ SortingAlgorithms v1.2.1\u001b[39m\n",
      "  \u001b[90m[276daf66] \u001b[39m\u001b[92m+ SpecialFunctions v2.4.0\u001b[39m\n",
      "  \u001b[90m[90137ffa] \u001b[39m\u001b[92m+ StaticArrays v1.9.8\u001b[39m\n",
      "  \u001b[90m[1e83bf80] \u001b[39m\u001b[92m+ StaticArraysCore v1.4.3\u001b[39m\n",
      "  \u001b[90m[10745b16] \u001b[39m\u001b[92m+ Statistics v1.11.1\u001b[39m\n",
      "  \u001b[90m[82ae8749] \u001b[39m\u001b[92m+ StatsAPI v1.7.0\u001b[39m\n",
      "\u001b[33m⌅\u001b[39m \u001b[90m[2913bbd2] \u001b[39m\u001b[92m+ StatsBase v0.33.21\u001b[39m\n",
      "  \u001b[90m[4c63d2b9] \u001b[39m\u001b[92m+ StatsFuns v1.3.2\u001b[39m\n",
      "  \u001b[90m[efce3f68] \u001b[39m\u001b[92m+ WoodburyMatrices v1.0.0\u001b[39m\n",
      "  \u001b[90m[f5851436] \u001b[39m\u001b[92m+ FFTW_jll v3.3.10+1\u001b[39m\n",
      "  \u001b[90m[1d5cc7b8] \u001b[39m\u001b[92m+ IntelOpenMP_jll v2024.2.1+0\u001b[39m\n",
      "  \u001b[90m[856f044c] \u001b[39m\u001b[92m+ MKL_jll v2024.2.0+0\u001b[39m\n",
      "  \u001b[90m[efe28fd5] \u001b[39m\u001b[92m+ OpenSpecFun_jll v0.5.5+0\u001b[39m\n",
      "  \u001b[90m[f50d1b31] \u001b[39m\u001b[92m+ Rmath_jll v0.5.1+0\u001b[39m\n",
      "  \u001b[90m[1317d2d5] \u001b[39m\u001b[92m+ oneTBB_jll v2021.12.0+0\u001b[39m\n",
      "  \u001b[90m[0dad84c5] \u001b[39m\u001b[92m+ ArgTools v1.1.2\u001b[39m\n",
      "  \u001b[90m[56f22d72] \u001b[39m\u001b[92m+ Artifacts v1.11.0\u001b[39m\n",
      "  \u001b[90m[2a0f44e3] \u001b[39m\u001b[92m+ Base64 v1.11.0\u001b[39m\n",
      "  \u001b[90m[ade2ca70] \u001b[39m\u001b[92m+ Dates v1.11.0\u001b[39m\n",
      "  \u001b[90m[8ba89e20] \u001b[39m\u001b[92m+ Distributed v1.11.0\u001b[39m\n",
      "  \u001b[90m[f43a241f] \u001b[39m\u001b[92m+ Downloads v1.6.0\u001b[39m\n",
      "  \u001b[90m[7b1f6079] \u001b[39m\u001b[92m+ FileWatching v1.11.0\u001b[39m\n",
      "  \u001b[90m[9fa8497b] \u001b[39m\u001b[92m+ Future v1.11.0\u001b[39m\n",
      "  \u001b[90m[b77e0a4c] \u001b[39m\u001b[92m+ InteractiveUtils v1.11.0\u001b[39m\n",
      "  \u001b[90m[4af54fe1] \u001b[39m\u001b[92m+ LazyArtifacts v1.11.0\u001b[39m\n",
      "  \u001b[90m[b27032c2] \u001b[39m\u001b[92m+ LibCURL v0.6.4\u001b[39m\n",
      "  \u001b[90m[76f85450] \u001b[39m\u001b[92m+ LibGit2 v1.11.0\u001b[39m\n",
      "  \u001b[90m[8f399da3] \u001b[39m\u001b[92m+ Libdl v1.11.0\u001b[39m\n",
      "  \u001b[90m[37e2e46d] \u001b[39m\u001b[92m+ LinearAlgebra v1.11.0\u001b[39m\n",
      "  \u001b[90m[56ddb016] \u001b[39m\u001b[92m+ Logging v1.11.0\u001b[39m\n",
      "  \u001b[90m[d6f4376e] \u001b[39m\u001b[92m+ Markdown v1.11.0\u001b[39m\n",
      "  \u001b[90m[a63ad114] \u001b[39m\u001b[92m+ Mmap v1.11.0\u001b[39m\n",
      "  \u001b[90m[ca575930] \u001b[39m\u001b[92m+ NetworkOptions v1.2.0\u001b[39m\n",
      "  \u001b[90m[44cfe95a] \u001b[39m\u001b[92m+ Pkg v1.11.0\u001b[39m\n",
      "  \u001b[90m[de0858da] \u001b[39m\u001b[92m+ Printf v1.11.0\u001b[39m\n",
      "  \u001b[90m[9abbd945] \u001b[39m\u001b[92m+ Profile v1.11.0\u001b[39m\n",
      "  \u001b[90m[3fa0cd96] \u001b[39m\u001b[92m+ REPL v1.11.0\u001b[39m\n",
      "  \u001b[90m[9a3f8284] \u001b[39m\u001b[92m+ Random v1.11.0\u001b[39m\n",
      "  \u001b[90m[ea8e919c] \u001b[39m\u001b[92m+ SHA v0.7.0\u001b[39m\n",
      "  \u001b[90m[9e88b42a] \u001b[39m\u001b[92m+ Serialization v1.11.0\u001b[39m\n",
      "  \u001b[90m[1a1011a3] \u001b[39m\u001b[92m+ SharedArrays v1.11.0\u001b[39m\n",
      "  \u001b[90m[6462fe0b] \u001b[39m\u001b[92m+ Sockets v1.11.0\u001b[39m\n",
      "  \u001b[90m[2f01184e] \u001b[39m\u001b[92m+ SparseArrays v1.11.0\u001b[39m\n",
      "  \u001b[90m[f489334b] \u001b[39m\u001b[92m+ StyledStrings v1.11.0\u001b[39m\n",
      "  \u001b[90m[4607b0f0] \u001b[39m\u001b[92m+ SuiteSparse\u001b[39m\n",
      "  \u001b[90m[fa267f1f] \u001b[39m\u001b[92m+ TOML v1.0.3\u001b[39m\n",
      "  \u001b[90m[a4e569a6] \u001b[39m\u001b[92m+ Tar v1.10.0\u001b[39m\n",
      "  \u001b[90m[8dfed614] \u001b[39m\u001b[92m+ Test v1.11.0\u001b[39m\n",
      "  \u001b[90m[cf7118a7] \u001b[39m\u001b[92m+ UUIDs v1.11.0\u001b[39m\n",
      "  \u001b[90m[4ec0a83e] \u001b[39m\u001b[92m+ Unicode v1.11.0\u001b[39m\n",
      "  \u001b[90m[e66e0078] \u001b[39m\u001b[92m+ CompilerSupportLibraries_jll v1.1.1+0\u001b[39m\n",
      "  \u001b[90m[deac9b47] \u001b[39m\u001b[92m+ LibCURL_jll v8.6.0+0\u001b[39m\n",
      "  \u001b[90m[e37daf67] \u001b[39m\u001b[92m+ LibGit2_jll v1.7.2+0\u001b[39m\n",
      "  \u001b[90m[29816b5a] \u001b[39m\u001b[92m+ LibSSH2_jll v1.11.0+1\u001b[39m\n",
      "  \u001b[90m[c8ffd9c3] \u001b[39m\u001b[92m+ MbedTLS_jll v2.28.6+0\u001b[39m\n",
      "  \u001b[90m[14a3606d] \u001b[39m\u001b[92m+ MozillaCACerts_jll v2023.12.12\u001b[39m\n",
      "  \u001b[90m[4536629a] \u001b[39m\u001b[92m+ OpenBLAS_jll v0.3.27+1\u001b[39m\n",
      "  \u001b[90m[05823500] \u001b[39m\u001b[92m+ OpenLibm_jll v0.8.1+2\u001b[39m\n",
      "  \u001b[90m[bea87d4a] \u001b[39m\u001b[92m+ SuiteSparse_jll v7.7.0+0\u001b[39m\n",
      "  \u001b[90m[83775a58] \u001b[39m\u001b[92m+ Zlib_jll v1.2.13+1\u001b[39m\n",
      "  \u001b[90m[8e850b90] \u001b[39m\u001b[92m+ libblastrampoline_jll v5.11.0+0\u001b[39m\n",
      "  \u001b[90m[8e850ede] \u001b[39m\u001b[92m+ nghttp2_jll v1.59.0+0\u001b[39m\n",
      "  \u001b[90m[3f19e933] \u001b[39m\u001b[92m+ p7zip_jll v17.4.0+2\u001b[39m\n",
      "\u001b[36m\u001b[1m        Info\u001b[22m\u001b[39m Packages marked with \u001b[33m⌅\u001b[39m have new versions available but compatibility constraints restrict them from upgrading. To see why use `status --outdated -m`\n",
      "\u001b[92m\u001b[1mPrecompiling\u001b[22m\u001b[39m project...\n",
      "    536.1 ms\u001b[32m  ✓ \u001b[39m\u001b[90mIndirectArrays\u001b[39m\n",
      "    470.3 ms\u001b[32m  ✓ \u001b[39m\u001b[90mHexagons\u001b[39m\n",
      "    531.4 ms\u001b[32m  ✓ \u001b[39m\u001b[90mLoess\u001b[39m\n",
      "    551.0 ms\u001b[32m  ✓ \u001b[39m\u001b[90mIterTools\u001b[39m\n",
      "    612.8 ms\u001b[32m  ✓ \u001b[39m\u001b[90mMedia\u001b[39m\n",
      "    596.4 ms\u001b[32m  ✓ \u001b[39m\u001b[90mCoupledFields\u001b[39m\n",
      "   1164.3 ms\u001b[32m  ✓ \u001b[39m\u001b[90mJuno\u001b[39m\n",
      "   1647.9 ms\u001b[32m  ✓ \u001b[39m\u001b[90mCompose\u001b[39m\n",
      "   4544.7 ms\u001b[32m  ✓ \u001b[39mGadfly\n",
      "  9 dependencies successfully precompiled in 7 seconds. 118 already precompiled.\n"
     ]
    }
   ],
   "source": [
    "Pkg.add(\"Gadfly\")"
   ]
  },
  {
   "cell_type": "code",
   "execution_count": 12,
   "metadata": {},
   "outputs": [],
   "source": [
    "using Gadfly"
   ]
  },
  {
   "cell_type": "code",
   "execution_count": 13,
   "metadata": {},
   "outputs": [
    {
     "name": "stdout",
     "output_type": "stream",
     "text": [
      "\u001b[32m\u001b[1mStatus\u001b[22m\u001b[39m `~/Library/CloudStorage/OneDrive-Sverigeslantbruksuniversitet/Teaching/Julia_SLU/Teaching_material/Day2/Project.toml`\n",
      "  \u001b[90m[c91e804a] \u001b[39mGadfly v1.4.0\n"
     ]
    }
   ],
   "source": [
    "Pkg.status()"
   ]
  },
  {
   "cell_type": "markdown",
   "metadata": {},
   "source": [
    "What if we wanted a specific version of a package."
   ]
  },
  {
   "cell_type": "code",
   "execution_count": 14,
   "metadata": {},
   "outputs": [
    {
     "name": "stderr",
     "output_type": "stream",
     "text": [
      "\u001b[32m\u001b[1m   Resolving\u001b[22m\u001b[39m package versions...\n",
      "\u001b[32m\u001b[1m   Installed\u001b[22m\u001b[39m FunctionWrappers ────────── v1.1.3\n",
      "\u001b[32m\u001b[1m   Installed\u001b[22m\u001b[39m TriangularSolve ─────────── v0.2.1\n",
      "\u001b[32m\u001b[1m   Installed\u001b[22m\u001b[39m TreeViews ───────────────── v0.3.0\n",
      "\u001b[32m\u001b[1m   Installed\u001b[22m\u001b[39m Sundials_jll ────────────── v5.2.3+0\n",
      "\u001b[32m\u001b[1m   Installed\u001b[22m\u001b[39m Polyester ───────────────── v0.7.16\n",
      "\u001b[32m\u001b[1m   Installed\u001b[22m\u001b[39m RecursiveArrayTools ─────── v2.38.10\n",
      "\u001b[32m\u001b[1m   Installed\u001b[22m\u001b[39m NonlinearSolve ──────────── v1.6.0\n",
      "\u001b[32m\u001b[1m   Installed\u001b[22m\u001b[39m DifferentialEquations ───── v7.1.0\n",
      "\u001b[32m\u001b[1m   Installed\u001b[22m\u001b[39m RandomNumbers ───────────── v1.6.0\n",
      "\u001b[32m\u001b[1m   Installed\u001b[22m\u001b[39m ArnoldiMethod ───────────── v0.4.0\n",
      "\u001b[32m\u001b[1m   Installed\u001b[22m\u001b[39m Functors ────────────────── v0.4.12\n",
      "\u001b[32m\u001b[1m   Installed\u001b[22m\u001b[39m Static ──────────────────── v0.8.10\n",
      "\u001b[32m\u001b[1m   Installed\u001b[22m\u001b[39m FiniteDiff ──────────────── v2.23.1\n",
      "\u001b[32m\u001b[1m   Installed\u001b[22m\u001b[39m MuladdMacro ─────────────── v0.2.4\n",
      "\u001b[32m\u001b[1m   Installed\u001b[22m\u001b[39m KrylovKit ───────────────── v0.6.1\n",
      "\u001b[32m\u001b[1m   Installed\u001b[22m\u001b[39m SteadyStateDiffEq ───────── v1.16.1\n",
      "\u001b[32m\u001b[1m   Installed\u001b[22m\u001b[39m BoundaryValueDiffEq ─────── v2.11.0\n",
      "\u001b[32m\u001b[1m   Installed\u001b[22m\u001b[39m SciMLBase ───────────────── v1.98.1\n",
      "\u001b[32m\u001b[1m   Installed\u001b[22m\u001b[39m NLsolve ─────────────────── v4.5.1\n",
      "\u001b[32m\u001b[1m   Installed\u001b[22m\u001b[39m DiffEqBase ──────────────── v6.130.0\n",
      "\u001b[32m\u001b[1m   Installed\u001b[22m\u001b[39m BandedMatrices ──────────── v0.17.38\n",
      "\u001b[32m\u001b[1m   Installed\u001b[22m\u001b[39m SimpleUnPack ────────────── v1.1.0\n",
      "\u001b[32m\u001b[1m   Installed\u001b[22m\u001b[39m SciMLNLSolve ────────────── v0.1.9\n",
      "\u001b[32m\u001b[1m   Installed\u001b[22m\u001b[39m LinearSolve ─────────────── v1.42.0\n",
      "\u001b[32m\u001b[1m   Installed\u001b[22m\u001b[39m ADTypes ─────────────────── v0.1.6\n",
      "\u001b[32m\u001b[1m   Installed\u001b[22m\u001b[39m DiffEqNoiseProcess ──────── v5.24.0\n",
      "\u001b[32m\u001b[1m   Installed\u001b[22m\u001b[39m SimpleNonlinearSolve ────── v0.1.23\n",
      "\u001b[32m\u001b[1m   Installed\u001b[22m\u001b[39m OrdinaryDiffEq ──────────── v6.52.0\n",
      "\u001b[32m\u001b[1m   Installed\u001b[22m\u001b[39m Graphs ──────────────────── v1.12.0\n",
      "\u001b[32m\u001b[1m   Installed\u001b[22m\u001b[39m ArrayLayouts ────────────── v1.10.4\n",
      "\u001b[32m\u001b[1m   Installed\u001b[22m\u001b[39m Random123 ───────────────── v1.7.0\n",
      "\u001b[32m\u001b[1m   Installed\u001b[22m\u001b[39m GenericSchur ────────────── v0.5.4\n",
      "\u001b[32m\u001b[1m   Installed\u001b[22m\u001b[39m StochasticDiffEq ────────── v6.62.0\n",
      "\u001b[32m\u001b[1m   Installed\u001b[22m\u001b[39m FunctionWrappersWrappers ── v0.1.3\n",
      "\u001b[32m\u001b[1m   Installed\u001b[22m\u001b[39m LevyArea ────────────────── v1.0.0\n",
      "\u001b[32m\u001b[1m   Installed\u001b[22m\u001b[39m Inflate ─────────────────── v0.1.5\n",
      "\u001b[32m\u001b[1m   Installed\u001b[22m\u001b[39m JumpProcesses ───────────── v9.10.1\n",
      "\u001b[32m\u001b[1m   Installed\u001b[22m\u001b[39m Sundials ────────────────── v4.20.1\n",
      "\u001b[32m\u001b[1m   Installed\u001b[22m\u001b[39m ArrayInterface ──────────── v7.7.1\n",
      "\u001b[32m\u001b[1m   Installed\u001b[22m\u001b[39m LineSearches ────────────── v7.3.0\n",
      "\u001b[32m\u001b[1m   Installed\u001b[22m\u001b[39m SciMLOperators ──────────── v0.2.12\n",
      "\u001b[32m\u001b[1m   Installed\u001b[22m\u001b[39m FastClosures ────────────── v0.3.2\n",
      "\u001b[32m\u001b[1m   Installed\u001b[22m\u001b[39m DelayDiffEq ─────────────── v5.44.0\n",
      "\u001b[32m\u001b[1m   Installed\u001b[22m\u001b[39m DiffEqCallbacks ─────────── v2.35.0\n",
      "\u001b[32m\u001b[1m   Installed\u001b[22m\u001b[39m DiffEqJump ──────────────── v8.6.3\n",
      "\u001b[32m\u001b[1m   Installed\u001b[22m\u001b[39m CommonSolve ─────────────── v0.2.4\n",
      "\u001b[32m\u001b[1m   Installed\u001b[22m\u001b[39m FastLapackInterface ─────── v1.2.9\n",
      "\u001b[32m\u001b[1m   Installed\u001b[22m\u001b[39m PreallocationTools ──────── v0.4.24\n",
      "\u001b[32m\u001b[1m   Installed\u001b[22m\u001b[39m ExponentialUtilities ────── v1.27.0\n",
      "\u001b[32m\u001b[1m   Installed\u001b[22m\u001b[39m KLU ─────────────────────── v0.4.1\n",
      "\u001b[32m\u001b[1m   Installed\u001b[22m\u001b[39m Adapt ───────────────────── v3.7.2\n",
      "\u001b[32m\u001b[1m   Installed\u001b[22m\u001b[39m StrideArraysCore ────────── v0.5.7\n",
      "\u001b[32m\u001b[1m   Installed\u001b[22m\u001b[39m Krylov ──────────────────── v0.9.8\n",
      "\u001b[32m\u001b[1m   Installed\u001b[22m\u001b[39m RuntimeGeneratedFunctions ─ v0.5.13\n",
      "\u001b[32m\u001b[1m   Installed\u001b[22m\u001b[39m Optim ───────────────────── v1.10.0\n",
      "\u001b[32m\u001b[1m   Installed\u001b[22m\u001b[39m VertexSafeGraphs ────────── v0.2.0\n",
      "\u001b[32m\u001b[1m   Installed\u001b[22m\u001b[39m IterativeSolvers ────────── v0.9.4\n",
      "\u001b[32m\u001b[1m   Installed\u001b[22m\u001b[39m TruncatedStacktraces ────── v1.4.0\n",
      "\u001b[32m\u001b[1m   Installed\u001b[22m\u001b[39m PoissonRandom ───────────── v0.4.4\n",
      "\u001b[32m\u001b[1m   Installed\u001b[22m\u001b[39m SymbolicIndexingInterface ─ v0.2.2\n",
      "\u001b[32m\u001b[1m   Installed\u001b[22m\u001b[39m ResettableStacks ────────── v1.1.1\n",
      "\u001b[32m\u001b[1m   Installed\u001b[22m\u001b[39m RecursiveFactorization ──── v0.2.23\n",
      "\u001b[32m\u001b[1m   Installed\u001b[22m\u001b[39m FastBroadcast ───────────── v0.2.8\n",
      "\u001b[32m\u001b[1m   Installed\u001b[22m\u001b[39m SparseDiffTools ─────────── v2.4.1\n",
      "\u001b[32m\u001b[1m   Installed\u001b[22m\u001b[39m Sparspak ────────────────── v0.3.9\n",
      "\u001b[32m\u001b[1m    Updating\u001b[22m\u001b[39m `~/Library/CloudStorage/OneDrive-Sverigeslantbruksuniversitet/Teaching/Julia_SLU/Teaching_material/Day2/Project.toml`\n",
      "\u001b[32m⌃\u001b[39m \u001b[90m[0c46a032] \u001b[39m\u001b[92m+ DifferentialEquations v7.1.0\u001b[39m\n",
      "\u001b[32m\u001b[1m    Updating\u001b[22m\u001b[39m `~/Library/CloudStorage/OneDrive-Sverigeslantbruksuniversitet/Teaching/Julia_SLU/Teaching_material/Day2/Manifest.toml`\n",
      "\u001b[33m⌅\u001b[39m \u001b[90m[47edcb42] \u001b[39m\u001b[92m+ ADTypes v0.1.6\u001b[39m\n",
      "\u001b[33m⌅\u001b[39m \u001b[90m[79e6a3ab] \u001b[39m\u001b[95m↓ Adapt v4.1.1 ⇒ v3.7.2\u001b[39m\n",
      "  \u001b[90m[ec485272] \u001b[39m\u001b[92m+ ArnoldiMethod v0.4.0\u001b[39m\n",
      "\u001b[32m⌃\u001b[39m \u001b[90m[4fba245c] \u001b[39m\u001b[92m+ ArrayInterface v7.7.1\u001b[39m\n",
      "  \u001b[90m[30b0a656] \u001b[39m\u001b[92m+ ArrayInterfaceCore v0.1.29\u001b[39m\n",
      "  \u001b[90m[4c555306] \u001b[39m\u001b[92m+ ArrayLayouts v1.10.4\u001b[39m\n",
      "\u001b[33m⌅\u001b[39m \u001b[90m[aae01518] \u001b[39m\u001b[92m+ BandedMatrices v0.17.38\u001b[39m\n",
      "  \u001b[90m[62783981] \u001b[39m\u001b[92m+ BitTwiddlingConvenienceFunctions v0.1.6\u001b[39m\n",
      "\u001b[33m⌅\u001b[39m \u001b[90m[764a87c0] \u001b[39m\u001b[92m+ BoundaryValueDiffEq v2.11.0\u001b[39m\n",
      "  \u001b[90m[fa961155] \u001b[39m\u001b[92m+ CEnum v0.5.0\u001b[39m\n",
      "  \u001b[90m[2a0fbf3d] \u001b[39m\u001b[92m+ CPUSummary v0.2.6\u001b[39m\n",
      "  \u001b[90m[fb6a15b2] \u001b[39m\u001b[92m+ CloseOpenIntervals v0.1.13\u001b[39m\n",
      "  \u001b[90m[38540f10] \u001b[39m\u001b[92m+ CommonSolve v0.2.4\u001b[39m\n",
      "  \u001b[90m[bbf7d656] \u001b[39m\u001b[92m+ CommonSubexpressions v0.3.1\u001b[39m\n",
      "  \u001b[90m[187b0558] \u001b[39m\u001b[92m+ ConstructionBase v1.5.8\u001b[39m\n",
      "  \u001b[90m[adafc99b] \u001b[39m\u001b[92m+ CpuId v0.3.1\u001b[39m\n",
      "  \u001b[90m[e2d170a0] \u001b[39m\u001b[92m+ DataValueInterfaces v1.0.0\u001b[39m\n",
      "\u001b[32m⌃\u001b[39m \u001b[90m[bcd4f6db] \u001b[39m\u001b[92m+ DelayDiffEq v5.44.0\u001b[39m\n",
      "\u001b[32m⌃\u001b[39m \u001b[90m[2b5f629d] \u001b[39m\u001b[92m+ DiffEqBase v6.130.0\u001b[39m\n",
      "\u001b[33m⌅\u001b[39m \u001b[90m[459566f4] \u001b[39m\u001b[92m+ DiffEqCallbacks v2.35.0\u001b[39m\n",
      "  \u001b[90m[c894b116] \u001b[39m\u001b[92m+ DiffEqJump v8.6.3\u001b[39m\n",
      "  \u001b[90m[77a26b50] \u001b[39m\u001b[92m+ DiffEqNoiseProcess v5.24.0\u001b[39m\n",
      "  \u001b[90m[163ba53b] \u001b[39m\u001b[92m+ DiffResults v1.1.0\u001b[39m\n",
      "  \u001b[90m[b552c78f] \u001b[39m\u001b[92m+ DiffRules v1.15.1\u001b[39m\n",
      "\u001b[32m⌃\u001b[39m \u001b[90m[0c46a032] \u001b[39m\u001b[92m+ DifferentialEquations v7.1.0\u001b[39m\n",
      "  \u001b[90m[4e289a0a] \u001b[39m\u001b[92m+ EnumX v1.0.4\u001b[39m\n",
      "  \u001b[90m[d4d017d3] \u001b[39m\u001b[92m+ ExponentialUtilities v1.27.0\u001b[39m\n",
      "  \u001b[90m[e2ba6199] \u001b[39m\u001b[92m+ ExprTools v0.1.10\u001b[39m\n",
      "\u001b[33m⌅\u001b[39m \u001b[90m[7034ab61] \u001b[39m\u001b[92m+ FastBroadcast v0.2.8\u001b[39m\n",
      "  \u001b[90m[9aa1b823] \u001b[39m\u001b[92m+ FastClosures v0.3.2\u001b[39m\n",
      "\u001b[33m⌅\u001b[39m \u001b[90m[29a986be] \u001b[39m\u001b[92m+ FastLapackInterface v1.2.9\u001b[39m\n",
      "\u001b[32m⌃\u001b[39m \u001b[90m[6a86dc24] \u001b[39m\u001b[92m+ FiniteDiff v2.23.1\u001b[39m\n",
      "  \u001b[90m[f6369f11] \u001b[39m\u001b[92m+ ForwardDiff v0.10.38\u001b[39m\n",
      "  \u001b[90m[069b7b12] \u001b[39m\u001b[92m+ FunctionWrappers v1.1.3\u001b[39m\n",
      "  \u001b[90m[77dc65aa] \u001b[39m\u001b[92m+ FunctionWrappersWrappers v0.1.3\u001b[39m\n",
      "\u001b[33m⌅\u001b[39m \u001b[90m[d9f16b24] \u001b[39m\u001b[92m+ Functors v0.4.12\u001b[39m\n",
      "\u001b[33m⌅\u001b[39m \u001b[90m[46192b85] \u001b[39m\u001b[92m+ GPUArraysCore v0.1.5\u001b[39m\n",
      "  \u001b[90m[c145ed77] \u001b[39m\u001b[92m+ GenericSchur v0.5.4\u001b[39m\n",
      "  \u001b[90m[86223c79] \u001b[39m\u001b[92m+ Graphs v1.12.0\u001b[39m\n",
      "  \u001b[90m[3e5b6fbb] \u001b[39m\u001b[92m+ HostCPUFeatures v0.1.17\u001b[39m\n",
      "  \u001b[90m[615f187c] \u001b[39m\u001b[92m+ IfElse v0.1.1\u001b[39m\n",
      "  \u001b[90m[d25df0c9] \u001b[39m\u001b[92m+ Inflate v0.1.5\u001b[39m\n",
      "  \u001b[90m[42fd0dbc] \u001b[39m\u001b[92m+ IterativeSolvers v0.9.4\u001b[39m\n",
      "  \u001b[90m[82899510] \u001b[39m\u001b[92m+ IteratorInterfaceExtensions v1.0.0\u001b[39m\n",
      "\u001b[32m⌃\u001b[39m \u001b[90m[ccbc3e58] \u001b[39m\u001b[92m+ JumpProcesses v9.10.1\u001b[39m\n",
      "\u001b[33m⌅\u001b[39m \u001b[90m[ef3ab10e] \u001b[39m\u001b[92m+ KLU v0.4.1\u001b[39m\n",
      "  \u001b[90m[ba0b0d4f] \u001b[39m\u001b[92m+ Krylov v0.9.8\u001b[39m\n",
      "\u001b[33m⌅\u001b[39m \u001b[90m[0b1a1467] \u001b[39m\u001b[92m+ KrylovKit v0.6.1\u001b[39m\n",
      "  \u001b[90m[10f19ff3] \u001b[39m\u001b[92m+ LayoutPointers v0.1.17\u001b[39m\n",
      "  \u001b[90m[50d2b5c4] \u001b[39m\u001b[92m+ Lazy v0.15.1\u001b[39m\n",
      "  \u001b[90m[2d8b4e74] \u001b[39m\u001b[92m+ LevyArea v1.0.0\u001b[39m\n",
      "  \u001b[90m[d3d80556] \u001b[39m\u001b[92m+ LineSearches v7.3.0\u001b[39m\n",
      "\u001b[33m⌅\u001b[39m \u001b[90m[7ed4a6bd] \u001b[39m\u001b[92m+ LinearSolve v1.42.0\u001b[39m\n",
      "  \u001b[90m[bdcacae8] \u001b[39m\u001b[92m+ LoopVectorization v0.12.171\u001b[39m\n",
      "  \u001b[90m[d125e4d3] \u001b[39m\u001b[92m+ ManualMemory v0.1.8\u001b[39m\n",
      "  \u001b[90m[46d2c3a1] \u001b[39m\u001b[92m+ MuladdMacro v0.2.4\u001b[39m\n",
      "  \u001b[90m[d41bc354] \u001b[39m\u001b[92m+ NLSolversBase v7.8.3\u001b[39m\n",
      "  \u001b[90m[2774e3e8] \u001b[39m\u001b[92m+ NLsolve v4.5.1\u001b[39m\n",
      "  \u001b[90m[77ba4419] \u001b[39m\u001b[92m+ NaNMath v1.0.2\u001b[39m\n",
      "\u001b[33m⌅\u001b[39m \u001b[90m[8913a72c] \u001b[39m\u001b[92m+ NonlinearSolve v1.6.0\u001b[39m\n",
      "  \u001b[90m[429524aa] \u001b[39m\u001b[92m+ Optim v1.10.0\u001b[39m\n",
      "\u001b[32m⌃\u001b[39m \u001b[90m[1dea7af3] \u001b[39m\u001b[92m+ OrdinaryDiffEq v6.52.0\u001b[39m\n",
      "  \u001b[90m[65ce6f38] \u001b[39m\u001b[92m+ PackageExtensionCompat v1.0.2\u001b[39m\n",
      "  \u001b[90m[d96e819e] \u001b[39m\u001b[92m+ Parameters v0.12.3\u001b[39m\n",
      "  \u001b[90m[e409e4f3] \u001b[39m\u001b[92m+ PoissonRandom v0.4.4\u001b[39m\n",
      "  \u001b[90m[f517fe37] \u001b[39m\u001b[92m+ Polyester v0.7.16\u001b[39m\n",
      "  \u001b[90m[1d0040c9] \u001b[39m\u001b[92m+ PolyesterWeave v0.2.2\u001b[39m\n",
      "  \u001b[90m[85a6dd25] \u001b[39m\u001b[92m+ PositiveFactorizations v0.2.4\u001b[39m\n",
      "  \u001b[90m[d236fae5] \u001b[39m\u001b[92m+ PreallocationTools v0.4.24\u001b[39m\n",
      "  \u001b[90m[74087812] \u001b[39m\u001b[92m+ Random123 v1.7.0\u001b[39m\n",
      "  \u001b[90m[e6cf234a] \u001b[39m\u001b[92m+ RandomNumbers v1.6.0\u001b[39m\n",
      "  \u001b[90m[3cdcf5f2] \u001b[39m\u001b[92m+ RecipesBase v1.3.4\u001b[39m\n",
      "\u001b[33m⌅\u001b[39m \u001b[90m[731186ca] \u001b[39m\u001b[92m+ RecursiveArrayTools v2.38.10\u001b[39m\n",
      "  \u001b[90m[f2c3362d] \u001b[39m\u001b[92m+ RecursiveFactorization v0.2.23\u001b[39m\n",
      "  \u001b[90m[ae5879a3] \u001b[39m\u001b[92m+ ResettableStacks v1.1.1\u001b[39m\n",
      "  \u001b[90m[7e49a35a] \u001b[39m\u001b[92m+ RuntimeGeneratedFunctions v0.5.13\u001b[39m\n",
      "  \u001b[90m[94e857df] \u001b[39m\u001b[92m+ SIMDTypes v0.1.0\u001b[39m\n",
      "  \u001b[90m[476501e8] \u001b[39m\u001b[92m+ SLEEFPirates v0.6.43\u001b[39m\n",
      "\u001b[33m⌅\u001b[39m \u001b[90m[0bca4576] \u001b[39m\u001b[92m+ SciMLBase v1.98.1\u001b[39m\n",
      "  \u001b[90m[e9a6253c] \u001b[39m\u001b[92m+ SciMLNLSolve v0.1.9\u001b[39m\n",
      "\u001b[33m⌅\u001b[39m \u001b[90m[c0aeaf25] \u001b[39m\u001b[92m+ SciMLOperators v0.2.12\u001b[39m\n",
      "  \u001b[90m[efcf1570] \u001b[39m\u001b[92m+ Setfield v1.1.1\u001b[39m\n",
      "\u001b[33m⌅\u001b[39m \u001b[90m[727e6d20] \u001b[39m\u001b[92m+ SimpleNonlinearSolve v0.1.23\u001b[39m\n",
      "  \u001b[90m[699a6c99] \u001b[39m\u001b[92m+ SimpleTraits v0.9.4\u001b[39m\n",
      "  \u001b[90m[ce78b400] \u001b[39m\u001b[92m+ SimpleUnPack v1.1.0\u001b[39m\n",
      "  \u001b[90m[66db9d55] \u001b[39m\u001b[92m+ SnoopPrecompile v1.0.3\u001b[39m\n",
      "\u001b[32m⌃\u001b[39m \u001b[90m[47a9eef4] \u001b[39m\u001b[92m+ SparseDiffTools v2.4.1\u001b[39m\n",
      "  \u001b[90m[e56a9233] \u001b[39m\u001b[92m+ Sparspak v0.3.9\u001b[39m\n",
      "\u001b[33m⌅\u001b[39m \u001b[90m[aedffcd0] \u001b[39m\u001b[92m+ Static v0.8.10\u001b[39m\n",
      "  \u001b[90m[0d7ed370] \u001b[39m\u001b[92m+ StaticArrayInterface v1.8.0\u001b[39m\n",
      "\u001b[33m⌅\u001b[39m \u001b[90m[9672c7b4] \u001b[39m\u001b[92m+ SteadyStateDiffEq v1.16.1\u001b[39m\n",
      "\u001b[32m⌃\u001b[39m \u001b[90m[789caeaf] \u001b[39m\u001b[92m+ StochasticDiffEq v6.62.0\u001b[39m\n",
      "  \u001b[90m[7792a7ef] \u001b[39m\u001b[92m+ StrideArraysCore v0.5.7\u001b[39m\n",
      "\u001b[32m⌃\u001b[39m \u001b[90m[c3572dad] \u001b[39m\u001b[92m+ Sundials v4.20.1\u001b[39m\n",
      "\u001b[33m⌅\u001b[39m \u001b[90m[2efcf032] \u001b[39m\u001b[92m+ SymbolicIndexingInterface v0.2.2\u001b[39m\n",
      "  \u001b[90m[3783bdb8] \u001b[39m\u001b[92m+ TableTraits v1.0.1\u001b[39m\n",
      "  \u001b[90m[bd369af6] \u001b[39m\u001b[92m+ Tables v1.12.0\u001b[39m\n",
      "  \u001b[90m[8290d209] \u001b[39m\u001b[92m+ ThreadingUtilities v0.5.2\u001b[39m\n",
      "  \u001b[90m[a2a6695c] \u001b[39m\u001b[92m+ TreeViews v0.3.0\u001b[39m\n",
      "  \u001b[90m[d5829a12] \u001b[39m\u001b[92m+ TriangularSolve v0.2.1\u001b[39m\n",
      "  \u001b[90m[410a4b4d] \u001b[39m\u001b[92m+ Tricks v0.1.9\u001b[39m\n",
      "  \u001b[90m[781d530d] \u001b[39m\u001b[92m+ TruncatedStacktraces v1.4.0\u001b[39m\n",
      "  \u001b[90m[3a884ed6] \u001b[39m\u001b[92m+ UnPack v1.0.2\u001b[39m\n",
      "  \u001b[90m[3d5dd08c] \u001b[39m\u001b[92m+ VectorizationBase v0.21.71\u001b[39m\n",
      "  \u001b[90m[19fa3120] \u001b[39m\u001b[92m+ VertexSafeGraphs v0.2.0\u001b[39m\n",
      "  \u001b[90m[700de1a5] \u001b[39m\u001b[92m+ ZygoteRules v0.2.5\u001b[39m\n",
      "\u001b[33m⌅\u001b[39m \u001b[90m[fb77eaff] \u001b[39m\u001b[92m+ Sundials_jll v5.2.3+0\u001b[39m\n",
      "\u001b[36m\u001b[1m        Info\u001b[22m\u001b[39m Packages marked with \u001b[32m⌃\u001b[39m and \u001b[33m⌅\u001b[39m have new versions available. Those with \u001b[32m⌃\u001b[39m may be upgradable, but those with \u001b[33m⌅\u001b[39m are restricted by compatibility constraints from upgrading. To see why use `status --outdated -m`\n",
      "\u001b[92m\u001b[1mPrecompiling\u001b[22m\u001b[39m project...\n",
      "    723.6 ms\u001b[32m  ✓ \u001b[39m\u001b[90mSimpleUnPack\u001b[39m\n",
      "    453.3 ms\u001b[32m  ✓ \u001b[39m\u001b[90mMuladdMacro\u001b[39m\n",
      "    483.9 ms\u001b[32m  ✓ \u001b[39m\u001b[90mADTypes\u001b[39m\n",
      "    590.5 ms\u001b[32m  ✓ \u001b[39m\u001b[90mPositiveFactorizations\u001b[39m\n",
      "    822.1 ms\u001b[32m  ✓ \u001b[39m\u001b[90mFunctionWrappers\u001b[39m\n",
      "    518.7 ms\u001b[32m  ✓ \u001b[39m\u001b[90mCommonSolve\u001b[39m\n",
      "    554.3 ms\u001b[32m  ✓ \u001b[39m\u001b[90mPoissonRandom\u001b[39m\n",
      "    516.5 ms\u001b[32m  ✓ \u001b[39m\u001b[90mEnumX\u001b[39m\n",
      "    531.3 ms\u001b[32m  ✓ \u001b[39m\u001b[90mRuntimeGeneratedFunctions\u001b[39m\n",
      "   1011.2 ms\u001b[32m  ✓ \u001b[39m\u001b[90mRandomNumbers\u001b[39m\n",
      "    521.1 ms\u001b[32m  ✓ \u001b[39m\u001b[90mInflate\u001b[39m\n",
      "    420.6 ms\u001b[32m  ✓ \u001b[39m\u001b[90mFastClosures\u001b[39m\n",
      "    509.4 ms\u001b[33m  ✓ \u001b[39m\u001b[90mAdapt\u001b[39m\n",
      "    680.1 ms\u001b[32m  ✓ \u001b[39m\u001b[90mFunctors\u001b[39m\n",
      "    784.8 ms\u001b[32m  ✓ \u001b[39m\u001b[90mKLU\u001b[39m\n",
      "    878.0 ms\u001b[32m  ✓ \u001b[39m\u001b[90mGenericSchur\u001b[39m\n",
      "   1019.3 ms\u001b[32m  ✓ \u001b[39m\u001b[90mFastLapackInterface\u001b[39m\n",
      "    650.3 ms\u001b[32m  ✓ \u001b[39m\u001b[90mStatic\u001b[39m\n",
      "    457.2 ms\u001b[32m  ✓ \u001b[39m\u001b[90mSnoopPrecompile\u001b[39m\n",
      "    511.5 ms\u001b[32m  ✓ \u001b[39m\u001b[90mTruncatedStacktraces\u001b[39m\n",
      "    411.7 ms\u001b[32m  ✓ \u001b[39m\u001b[90mTreeViews\u001b[39m\n",
      "    477.2 ms\u001b[32m  ✓ \u001b[39m\u001b[90mSymbolicIndexingInterface\u001b[39m\n",
      "    831.0 ms\u001b[32m  ✓ \u001b[39m\u001b[90mSundials_jll\u001b[39m\n",
      "   1045.4 ms\u001b[32m  ✓ \u001b[39m\u001b[90mArnoldiMethod\u001b[39m\n",
      "    648.8 ms\u001b[32m  ✓ \u001b[39m\u001b[90mResettableStacks\u001b[39m\n",
      "   1361.2 ms\u001b[32m  ✓ \u001b[39m\u001b[90mIterativeSolvers\u001b[39m\n",
      "    612.3 ms\u001b[32m  ✓ \u001b[39m\u001b[90mFunctionWrappersWrappers\u001b[39m\n",
      "    622.3 ms\u001b[32m  ✓ \u001b[39m\u001b[90mLevyArea\u001b[39m\n",
      "    991.4 ms\u001b[32m  ✓ \u001b[39m\u001b[90mRandom123\u001b[39m\n",
      "    784.4 ms\u001b[33m  ✓ \u001b[39m\u001b[90mAdapt → AdaptStaticArraysExt\u001b[39m\n",
      "   4422.3 ms\u001b[32m  ✓ \u001b[39m\u001b[90mKrylov\u001b[39m\n",
      "   1003.3 ms\u001b[32m  ✓ \u001b[39m\u001b[90mSparspak\u001b[39m\n",
      "    617.1 ms\u001b[32m  ✓ \u001b[39m\u001b[90mBitTwiddlingConvenienceFunctions\u001b[39m\n",
      "    547.0 ms\u001b[32m  ✓ \u001b[39m\u001b[90mCPUSummary\u001b[39m\n",
      "    431.9 ms\u001b[32m  ✓ \u001b[39m\u001b[90mGPUArraysCore\u001b[39m\n",
      "    676.9 ms\u001b[32m  ✓ \u001b[39m\u001b[90mArrayInterface\u001b[39m\n",
      "   1105.9 ms\u001b[32m  ✓ \u001b[39m\u001b[90mArrayInterfaceCore\u001b[39m\n",
      "    812.9 ms\u001b[32m  ✓ \u001b[39m\u001b[90mHostCPUFeatures\u001b[39m\n",
      "    709.8 ms\u001b[32m  ✓ \u001b[39m\u001b[90mPolyesterWeave\u001b[39m\n",
      "    736.1 ms\u001b[32m  ✓ \u001b[39m\u001b[90mArrayInterface → ArrayInterfaceGPUArraysCoreExt\u001b[39m\n",
      "    540.6 ms\u001b[32m  ✓ \u001b[39m\u001b[90mArrayInterface → ArrayInterfaceStaticArraysCoreExt\u001b[39m\n",
      "   1431.6 ms\u001b[32m  ✓ \u001b[39m\u001b[90mKrylovKit\u001b[39m\n",
      "   3286.5 ms\u001b[32m  ✓ \u001b[39m\u001b[90mGraphs\u001b[39m\n",
      "    851.7 ms\u001b[32m  ✓ \u001b[39m\u001b[90mVertexSafeGraphs\u001b[39m\n",
      "   8750.7 ms\u001b[32m  ✓ \u001b[39m\u001b[90mArrayLayouts\u001b[39m\n",
      "    740.6 ms\u001b[32m  ✓ \u001b[39m\u001b[90mArrayLayouts → ArrayLayoutsSparseArraysExt\u001b[39m\n",
      "   8762.1 ms\u001b[32m  ✓ \u001b[39m\u001b[90mBandedMatrices\u001b[39m\n",
      "   1070.3 ms\u001b[32m  ✓ \u001b[39m\u001b[90mArrayInterface → ArrayInterfaceBandedMatricesExt\u001b[39m\n",
      "   1235.6 ms\u001b[32m  ✓ \u001b[39m\u001b[90mBandedMatrices → BandedMatricesSparseArraysExt\u001b[39m\n",
      "    797.5 ms\u001b[32m  ✓ \u001b[39m\u001b[90mFiniteDiff\u001b[39m\n",
      "    899.4 ms\u001b[32m  ✓ \u001b[39m\u001b[90mPreallocationTools\u001b[39m\n",
      "   1512.6 ms\u001b[32m  ✓ \u001b[39m\u001b[90mStaticArrayInterface\u001b[39m\n",
      "   1527.2 ms\u001b[32m  ✓ \u001b[39m\u001b[90mSciMLOperators\u001b[39m\n",
      "   1190.8 ms\u001b[32m  ✓ \u001b[39m\u001b[90mRecursiveArrayTools\u001b[39m\n",
      "   1391.2 ms\u001b[32m  ✓ \u001b[39m\u001b[90mFiniteDiff → FiniteDiffBandedMatricesExt\u001b[39m\n",
      "    782.9 ms\u001b[32m  ✓ \u001b[39m\u001b[90mFiniteDiff → FiniteDiffStaticArraysExt\u001b[39m\n",
      "   1032.7 ms\u001b[32m  ✓ \u001b[39m\u001b[90mStaticArrayInterface → StaticArrayInterfaceStaticArraysExt\u001b[39m\n",
      "    654.0 ms\u001b[32m  ✓ \u001b[39m\u001b[90mStaticArrayInterface → StaticArrayInterfaceOffsetArraysExt\u001b[39m\n",
      "    637.4 ms\u001b[32m  ✓ \u001b[39m\u001b[90mCloseOpenIntervals\u001b[39m\n",
      "   1080.8 ms\u001b[32m  ✓ \u001b[39m\u001b[90mNLSolversBase\u001b[39m\n",
      "    771.7 ms\u001b[32m  ✓ \u001b[39m\u001b[90mLayoutPointers\u001b[39m\n",
      "   1830.0 ms\u001b[32m  ✓ \u001b[39m\u001b[90mLineSearches\u001b[39m\n",
      "   2371.4 ms\u001b[32m  ✓ \u001b[39m\u001b[90mSparseDiffTools\u001b[39m\n",
      "   1150.6 ms\u001b[32m  ✓ \u001b[39m\u001b[90mStrideArraysCore\u001b[39m\n",
      "   1132.8 ms\u001b[32m  ✓ \u001b[39m\u001b[90mNLsolve\u001b[39m\n",
      "   5848.5 ms\u001b[32m  ✓ \u001b[39m\u001b[90mSciMLBase\u001b[39m\n",
      "   2563.7 ms\u001b[32m  ✓ \u001b[39m\u001b[90mOptim\u001b[39m\n",
      "   1013.0 ms\u001b[32m  ✓ \u001b[39m\u001b[90mPolyester\u001b[39m\n",
      "    743.3 ms\u001b[32m  ✓ \u001b[39m\u001b[90mFastBroadcast\u001b[39m\n",
      "   6265.3 ms\u001b[32m  ✓ \u001b[39m\u001b[90mVectorizationBase\u001b[39m\n",
      "   1066.5 ms\u001b[32m  ✓ \u001b[39m\u001b[90mSLEEFPirates\u001b[39m\n",
      "   4444.7 ms\u001b[32m  ✓ \u001b[39m\u001b[90mDiffEqBase\u001b[39m\n",
      "   1159.4 ms\u001b[32m  ✓ \u001b[39m\u001b[90mDiffEqBase → DiffEqBaseDistributionsExt\u001b[39m\n",
      "   3356.1 ms\u001b[32m  ✓ \u001b[39m\u001b[90mJumpProcesses\u001b[39m\n",
      "   5361.9 ms\u001b[32m  ✓ \u001b[39m\u001b[90mSimpleNonlinearSolve\u001b[39m\n",
      "   3111.7 ms\u001b[32m  ✓ \u001b[39m\u001b[90mDiffEqJump\u001b[39m\n",
      "   2765.4 ms\u001b[32m  ✓ \u001b[39m\u001b[90mBoundaryValueDiffEq\u001b[39m\n",
      "   1831.0 ms\u001b[32m  ✓ \u001b[39m\u001b[90mDiffEqCallbacks\u001b[39m\n",
      "   1391.3 ms\u001b[32m  ✓ \u001b[39m\u001b[90mSciMLNLSolve\u001b[39m\n",
      "   1754.5 ms\u001b[32m  ✓ \u001b[39m\u001b[90mJumpProcesses → JumpProcessFastBroadcastExt\u001b[39m\n",
      "   3228.9 ms\u001b[32m  ✓ \u001b[39m\u001b[90mDiffEqNoiseProcess\u001b[39m\n",
      "   1579.6 ms\u001b[32m  ✓ \u001b[39m\u001b[90mSteadyStateDiffEq\u001b[39m\n",
      "  14635.6 ms\u001b[32m  ✓ \u001b[39m\u001b[90mSundials\u001b[39m\n",
      "  19941.7 ms\u001b[32m  ✓ \u001b[39m\u001b[90mLoopVectorization\u001b[39m\n",
      "   1111.8 ms\u001b[32m  ✓ \u001b[39m\u001b[90mLoopVectorization → SpecialFunctionsExt\u001b[39m\n",
      "   1171.1 ms\u001b[32m  ✓ \u001b[39m\u001b[90mLoopVectorization → ForwardDiffExt\u001b[39m\n",
      "  31761.0 ms\u001b[32m  ✓ \u001b[39m\u001b[90mExponentialUtilities\u001b[39m\n",
      "    768.2 ms\u001b[32m  ✓ \u001b[39m\u001b[90mTriangularSolve\u001b[39m\n",
      "   1274.6 ms\u001b[32m  ✓ \u001b[39m\u001b[90mExponentialUtilities → ExponentialUtilitiesStaticArraysExt\u001b[39m\n",
      "   4910.6 ms\u001b[32m  ✓ \u001b[39m\u001b[90mRecursiveFactorization\u001b[39m\n",
      "   9281.8 ms\u001b[32m  ✓ \u001b[39m\u001b[90mLinearSolve\u001b[39m\n",
      "   6741.2 ms\u001b[32m  ✓ \u001b[39m\u001b[90mNonlinearSolve\u001b[39m\n",
      "  86398.4 ms\u001b[32m  ✓ \u001b[39m\u001b[90mOrdinaryDiffEq\u001b[39m\n",
      "   4059.9 ms\u001b[32m  ✓ \u001b[39m\u001b[90mDelayDiffEq\u001b[39m\n",
      "   6729.5 ms\u001b[32m  ✓ \u001b[39m\u001b[90mStochasticDiffEq\u001b[39m\n",
      "   3907.0 ms\u001b[33m  ? \u001b[39mDifferentialEquations\n",
      "  95 dependencies successfully precompiled in 173 seconds. 155 already precompiled.\n",
      "  \u001b[33m2\u001b[39m dependencies precompiled but different versions are currently loaded. Restart julia to access the new versions\n",
      "  \u001b[33m1\u001b[39m dependencies failed but may be precompilable after restarting julia\n",
      "  \u001b[33m2\u001b[39m dependencies had output during precompilation:\u001b[33m\n",
      "┌ \u001b[39mDiffEqJump\u001b[33m\n",
      "│  \u001b[39mWARNING: method definition for #MassActionJump#8 at /Users/christos/.julia/packages/DiffEqJump/o61Dj/src/jumps.jl:251 declares type variable U but does not use it.\u001b[33m\n",
      "│  \u001b[39mWARNING: method definition for #MassActionJump#8 at /Users/christos/.julia/packages/DiffEqJump/o61Dj/src/jumps.jl:251 declares type variable S but does not use it.\u001b[33m\n",
      "│  \u001b[39mWARNING: method definition for #MassActionJump#9 at /Users/christos/.julia/packages/DiffEqJump/o61Dj/src/jumps.jl:256 declares type variable U but does not use it.\u001b[33m\n",
      "│  \u001b[39mWARNING: method definition for #MassActionJump#9 at /Users/christos/.julia/packages/DiffEqJump/o61Dj/src/jumps.jl:256 declares type variable S but does not use it.\u001b[33m\n",
      "│  \u001b[39mWARNING: method definition for #RDirectJumpAggregation#62 at /Users/christos/.julia/packages/DiffEqJump/o61Dj/src/aggregators/rdirect.jl:23 declares type variable DEPGR but does not use it.\u001b[33m\n",
      "└  \u001b[39m\u001b[33m\n",
      "┌ \u001b[39mDifferentialEquations\u001b[33m\n",
      "│  \u001b[39mWARNING: Method definition kwcall(NamedTuple{names, T} where T<:Tuple where names, typeof(SciMLBase.__solve), SciMLBase.AbstractJumpProblem{P, J} where J, SciMLBase.AbstractDEAlgorithm, Any, Any, Any, Type{Base.Val{recompile_flag}}) where {P, recompile_flag} in module JumpProcesses at /Users/christos/.julia/packages/JumpProcesses/HPjOl/src/solve.jl:1 overwritten in module DiffEqJump at /Users/christos/.julia/packages/DiffEqJump/o61Dj/src/solve.jl:1.\u001b[33m\n",
      "│  \u001b[39mERROR: Method overwriting is not permitted during Module precompilation. Use `__precompile__(false)` to opt-out of precompilation.\u001b[33m\n",
      "└  \u001b[39m\n"
     ]
    }
   ],
   "source": [
    "Pkg.add(name=\"DifferentialEquations\", version=\"7.1\")"
   ]
  },
  {
   "cell_type": "code",
   "execution_count": 15,
   "metadata": {},
   "outputs": [
    {
     "name": "stdout",
     "output_type": "stream",
     "text": [
      "\u001b[32m\u001b[1mStatus\u001b[22m\u001b[39m `~/Library/CloudStorage/OneDrive-Sverigeslantbruksuniversitet/Teaching/Julia_SLU/Teaching_material/Day2/Project.toml`\n",
      "\u001b[32m⌃\u001b[39m \u001b[90m[0c46a032] \u001b[39mDifferentialEquations v7.1.0\n",
      "  \u001b[90m[c91e804a] \u001b[39mGadfly v1.4.0\n",
      "\u001b[36m\u001b[1mInfo\u001b[22m\u001b[39m Packages marked with \u001b[32m⌃\u001b[39m have new versions available and may be upgradable.\n"
     ]
    }
   ],
   "source": [
    "Pkg.status()"
   ]
  },
  {
   "cell_type": "markdown",
   "metadata": {},
   "source": [
    "We can accomplish the above in a more easy way using the Julia REPL. First you need to change to package mode with `]`. Then you type `add DifferentialEquations@7.1`. "
   ]
  },
  {
   "cell_type": "markdown",
   "metadata": {},
   "source": [
    "Notice that in our directory we have two new files. One named `Project.toml` and another one `Manifest.toml`. The first one contains information about the packages of our environment, while the latter contains more detailed information including all their dependencies. Using those two files our collaborators can recreate our working enviroment with exactly the same package versions we used."
   ]
  },
  {
   "cell_type": "markdown",
   "metadata": {},
   "source": [
    "Now if we wanted to remove a package from our enviroment."
   ]
  },
  {
   "cell_type": "code",
   "execution_count": 16,
   "metadata": {},
   "outputs": [
    {
     "name": "stderr",
     "output_type": "stream",
     "text": [
      "\u001b[32m\u001b[1m    Updating\u001b[22m\u001b[39m `~/Library/CloudStorage/OneDrive-Sverigeslantbruksuniversitet/Teaching/Julia_SLU/Teaching_material/Day2/Project.toml`\n",
      "  \u001b[90m[c91e804a] \u001b[39m\u001b[91m- Gadfly v1.4.0\u001b[39m\n",
      "\u001b[32m\u001b[1m    Updating\u001b[22m\u001b[39m `~/Library/CloudStorage/OneDrive-Sverigeslantbruksuniversitet/Teaching/Julia_SLU/Teaching_material/Day2/Manifest.toml`\n",
      "  \u001b[90m[621f4979] \u001b[39m\u001b[91m- AbstractFFTs v1.5.0\u001b[39m\n",
      "  \u001b[90m[13072b0f] \u001b[39m\u001b[91m- AxisAlgorithms v1.1.0\u001b[39m\n",
      "  \u001b[90m[324d7699] \u001b[39m\u001b[91m- CategoricalArrays v0.10.8\u001b[39m\n",
      "  \u001b[90m[3da002f7] \u001b[39m\u001b[91m- ColorTypes v0.11.5\u001b[39m\n",
      "  \u001b[90m[5ae59095] \u001b[39m\u001b[91m- Colors v0.12.11\u001b[39m\n",
      "  \u001b[90m[a81c6b42] \u001b[39m\u001b[91m- Compose v0.9.5\u001b[39m\n",
      "  \u001b[90m[d38c429a] \u001b[39m\u001b[91m- Contour v0.6.3\u001b[39m\n",
      "  \u001b[90m[7ad07ef1] \u001b[39m\u001b[91m- CoupledFields v0.2.0\u001b[39m\n",
      "  \u001b[90m[7a1cc6ca] \u001b[39m\u001b[91m- FFTW v1.8.0\u001b[39m\n",
      "  \u001b[90m[53c48c17] \u001b[39m\u001b[91m- FixedPointNumbers v0.8.5\u001b[39m\n",
      "  \u001b[90m[c91e804a] \u001b[39m\u001b[91m- Gadfly v1.4.0\u001b[39m\n",
      "  \u001b[90m[42e2da0e] \u001b[39m\u001b[91m- Grisu v1.0.2\u001b[39m\n",
      "  \u001b[90m[a1b4810d] \u001b[39m\u001b[91m- Hexagons v0.2.0\u001b[39m\n",
      "  \u001b[90m[9b13fd28] \u001b[39m\u001b[91m- IndirectArrays v1.0.0\u001b[39m\n",
      "  \u001b[90m[a98d9a8b] \u001b[39m\u001b[91m- Interpolations v0.15.1\u001b[39m\n",
      "  \u001b[90m[c8e1da08] \u001b[39m\u001b[91m- IterTools v1.10.0\u001b[39m\n",
      "  \u001b[90m[682c06a0] \u001b[39m\u001b[91m- JSON v0.21.4\u001b[39m\n",
      "  \u001b[90m[e5e0dc1b] \u001b[39m\u001b[91m- Juno v0.8.4\u001b[39m\n",
      "  \u001b[90m[5ab0869b] \u001b[39m\u001b[91m- KernelDensity v0.6.9\u001b[39m\n",
      "  \u001b[90m[4345ca2d] \u001b[39m\u001b[91m- Loess v0.6.4\u001b[39m\n",
      "  \u001b[90m[442fdcdd] \u001b[39m\u001b[91m- Measures v0.3.2\u001b[39m\n",
      "  \u001b[90m[e89f7d12] \u001b[39m\u001b[91m- Media v0.5.0\u001b[39m\n",
      "  \u001b[90m[69de0a69] \u001b[39m\u001b[91m- Parsers v2.8.1\u001b[39m\n",
      "  \u001b[90m[c84ed2f1] \u001b[39m\u001b[91m- Ratios v0.4.5\u001b[39m\n",
      "  \u001b[90m[992d4aef] \u001b[39m\u001b[91m- Showoff v1.0.3\u001b[39m\n",
      "  \u001b[90m[efce3f68] \u001b[39m\u001b[91m- WoodburyMatrices v1.0.0\u001b[39m\n",
      "  \u001b[90m[f5851436] \u001b[39m\u001b[91m- FFTW_jll v3.3.10+1\u001b[39m\n",
      "  \u001b[90m[1d5cc7b8] \u001b[39m\u001b[91m- IntelOpenMP_jll v2024.2.1+0\u001b[39m\n",
      "  \u001b[90m[856f044c] \u001b[39m\u001b[91m- MKL_jll v2024.2.0+0\u001b[39m\n",
      "  \u001b[90m[1317d2d5] \u001b[39m\u001b[91m- oneTBB_jll v2021.12.0+0\u001b[39m\n",
      "  \u001b[90m[4af54fe1] \u001b[39m\u001b[91m- LazyArtifacts v1.11.0\u001b[39m\n",
      "  \u001b[90m[9abbd945] \u001b[39m\u001b[91m- Profile v1.11.0\u001b[39m\n",
      "  \u001b[90m[3fa0cd96] \u001b[39m\u001b[91m- REPL v1.11.0\u001b[39m\n",
      "  \u001b[90m[f489334b] \u001b[39m\u001b[91m- StyledStrings v1.11.0\u001b[39m\n",
      "\u001b[36m\u001b[1m        Info\u001b[22m\u001b[39m We haven't cleaned this depot up for a bit, running Pkg.gc()...\n",
      "\u001b[32m\u001b[1m      Active\u001b[22m\u001b[39m manifest files: 12 found\n",
      "\u001b[32m\u001b[1m      Active\u001b[22m\u001b[39m artifact files: 263 found\n",
      "\u001b[32m\u001b[1m      Active\u001b[22m\u001b[39m scratchspaces: 38 found\n",
      "\u001b[32m\u001b[1m     Deleted\u001b[22m\u001b[39m 59 package installations (82.097 MiB)\n",
      "\u001b[32m\u001b[1m     Deleted\u001b[22m\u001b[39m 1 repo (69.855 MiB)\n",
      "\u001b[32m\u001b[1m     Deleted\u001b[22m\u001b[39m 1 artifact installation (62.335 MiB)\n",
      "\u001b[32m\u001b[1m     Deleted\u001b[22m\u001b[39m 2 scratchspaces (290 bytes)\n"
     ]
    }
   ],
   "source": [
    "Pkg.rm(\"Gadfly\")"
   ]
  },
  {
   "cell_type": "code",
   "execution_count": 17,
   "metadata": {},
   "outputs": [
    {
     "name": "stdout",
     "output_type": "stream",
     "text": [
      "\u001b[32m\u001b[1mStatus\u001b[22m\u001b[39m `~/Library/CloudStorage/OneDrive-Sverigeslantbruksuniversitet/Teaching/Julia_SLU/Teaching_material/Day2/Project.toml`\n",
      "\u001b[32m⌃\u001b[39m \u001b[90m[0c46a032] \u001b[39mDifferentialEquations v7.1.0\n",
      "\u001b[36m\u001b[1mInfo\u001b[22m\u001b[39m Packages marked with \u001b[32m⌃\u001b[39m have new versions available and may be upgradable.\n"
     ]
    }
   ],
   "source": [
    "Pkg.status()"
   ]
  },
  {
   "cell_type": "markdown",
   "metadata": {},
   "source": [
    "## Exercises"
   ]
  },
  {
   "cell_type": "markdown",
   "metadata": {},
   "source": [
    "### Exercise 1"
   ]
  },
  {
   "cell_type": "markdown",
   "metadata": {},
   "source": [
    "Create a Julia file containing the code we used to create the coefficient of determination function (R_square). Apply this function is a new Julia session without hard copying its code."
   ]
  },
  {
   "cell_type": "markdown",
   "metadata": {},
   "source": [
    "### Exercise 2"
   ]
  },
  {
   "cell_type": "markdown",
   "metadata": {},
   "source": [
    "Create a new enviroment called `Machine_learning`. On this environment add the following packages:\n",
    "* DataFrames\n",
    "* Plotly\n",
    "* MLSuite version 0.1.09."
   ]
  },
  {
   "cell_type": "markdown",
   "metadata": {},
   "source": []
  }
 ],
 "metadata": {
  "kernelspec": {
   "display_name": "Julia 1.11.1",
   "language": "julia",
   "name": "julia-1.11"
  },
  "language_info": {
   "file_extension": ".jl",
   "mimetype": "application/julia",
   "name": "julia",
   "version": "1.11.1"
  }
 },
 "nbformat": 4,
 "nbformat_minor": 2
}
